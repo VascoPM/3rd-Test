{
 "cells": [
  {
   "cell_type": "markdown",
   "id": "08043659",
   "metadata": {},
   "source": [
    "# Rolling Window Reformating\n",
    "### $Time$ $Series$ $3rd$ $Test$\n",
    "\n",
    "$Vasco$ $Mergulhão$ $-$ $Jan$ $2023$\n",
    "\n",
    "### Version 1:\n",
    " - Takes in Select IDs list and Filterd FullSet.\n",
    " - Porcess a Sub-Sample individually\n",
    " - Outputs Rolling Window DFs for respective Sample.\n"
   ]
  },
  {
   "cell_type": "code",
   "execution_count": 4,
   "id": "06523b41",
   "metadata": {},
   "outputs": [],
   "source": [
    "import pandas as pd\n",
    "import numpy as np\n",
    "import matplotlib.pyplot as plt\n",
    "from itertools import groupby\n",
    "from datetime import timedelta, date\n",
    "from pathlib import Path\n",
    "\n",
    "import time\n",
    "import datetime\n",
    "import copy"
   ]
  },
  {
   "cell_type": "markdown",
   "id": "3897f30d",
   "metadata": {},
   "source": [
    "---\n",
    "## Data Import New Data"
   ]
  },
  {
   "cell_type": "markdown",
   "id": "0bafb945-4d1d-4380-bf3d-9ff3c925771b",
   "metadata": {},
   "source": [
    "### Credit History"
   ]
  },
  {
   "cell_type": "code",
   "execution_count": 5,
   "id": "fc0c8fd8-fd6a-47b8-8c34-66407114dfa2",
   "metadata": {},
   "outputs": [],
   "source": [
    "CH_FullSet = pd.read_csv('Data/FilteredIDs/TS_FilIDsSet_CredHist_V1.csv')"
   ]
  },
  {
   "cell_type": "code",
   "execution_count": 9,
   "id": "0891720e-c89b-4e54-b5cf-cd918b4a2349",
   "metadata": {},
   "outputs": [
    {
     "data": {
      "text/html": [
       "<div>\n",
       "<style scoped>\n",
       "    .dataframe tbody tr th:only-of-type {\n",
       "        vertical-align: middle;\n",
       "    }\n",
       "\n",
       "    .dataframe tbody tr th {\n",
       "        vertical-align: top;\n",
       "    }\n",
       "\n",
       "    .dataframe thead th {\n",
       "        text-align: right;\n",
       "    }\n",
       "</style>\n",
       "<table border=\"1\" class=\"dataframe\">\n",
       "  <thead>\n",
       "    <tr style=\"text-align: right;\">\n",
       "      <th></th>\n",
       "      <th>short_ID</th>\n",
       "      <th>date</th>\n",
       "      <th>total_ontime_left</th>\n",
       "    </tr>\n",
       "  </thead>\n",
       "  <tbody>\n",
       "    <tr>\n",
       "      <th>0</th>\n",
       "      <td>1</td>\n",
       "      <td>2018-01-25</td>\n",
       "      <td>479700.0</td>\n",
       "    </tr>\n",
       "    <tr>\n",
       "      <th>1</th>\n",
       "      <td>1</td>\n",
       "      <td>2018-01-26</td>\n",
       "      <td>393300.0</td>\n",
       "    </tr>\n",
       "    <tr>\n",
       "      <th>2</th>\n",
       "      <td>1</td>\n",
       "      <td>2018-01-27</td>\n",
       "      <td>306900.0</td>\n",
       "    </tr>\n",
       "    <tr>\n",
       "      <th>3</th>\n",
       "      <td>1</td>\n",
       "      <td>2018-01-28</td>\n",
       "      <td>220500.0</td>\n",
       "    </tr>\n",
       "    <tr>\n",
       "      <th>4</th>\n",
       "      <td>1</td>\n",
       "      <td>2018-01-29</td>\n",
       "      <td>134100.0</td>\n",
       "    </tr>\n",
       "    <tr>\n",
       "      <th>...</th>\n",
       "      <td>...</td>\n",
       "      <td>...</td>\n",
       "      <td>...</td>\n",
       "    </tr>\n",
       "    <tr>\n",
       "      <th>179592704</th>\n",
       "      <td>219089</td>\n",
       "      <td>2023-01-16</td>\n",
       "      <td>4035070.0</td>\n",
       "    </tr>\n",
       "    <tr>\n",
       "      <th>179592705</th>\n",
       "      <td>219089</td>\n",
       "      <td>2023-01-17</td>\n",
       "      <td>3948670.0</td>\n",
       "    </tr>\n",
       "    <tr>\n",
       "      <th>179592706</th>\n",
       "      <td>219089</td>\n",
       "      <td>2023-01-18</td>\n",
       "      <td>3862270.0</td>\n",
       "    </tr>\n",
       "    <tr>\n",
       "      <th>179592707</th>\n",
       "      <td>219089</td>\n",
       "      <td>2023-01-19</td>\n",
       "      <td>3775870.0</td>\n",
       "    </tr>\n",
       "    <tr>\n",
       "      <th>179592708</th>\n",
       "      <td>219089</td>\n",
       "      <td>2023-01-20</td>\n",
       "      <td>3689470.0</td>\n",
       "    </tr>\n",
       "  </tbody>\n",
       "</table>\n",
       "<p>179592709 rows × 3 columns</p>\n",
       "</div>"
      ],
      "text/plain": [
       "           short_ID        date  total_ontime_left\n",
       "0                 1  2018-01-25           479700.0\n",
       "1                 1  2018-01-26           393300.0\n",
       "2                 1  2018-01-27           306900.0\n",
       "3                 1  2018-01-28           220500.0\n",
       "4                 1  2018-01-29           134100.0\n",
       "...             ...         ...                ...\n",
       "179592704    219089  2023-01-16          4035070.0\n",
       "179592705    219089  2023-01-17          3948670.0\n",
       "179592706    219089  2023-01-18          3862270.0\n",
       "179592707    219089  2023-01-19          3775870.0\n",
       "179592708    219089  2023-01-20          3689470.0\n",
       "\n",
       "[179592709 rows x 3 columns]"
      ]
     },
     "execution_count": 9,
     "metadata": {},
     "output_type": "execute_result"
    }
   ],
   "source": [
    "CH_FullSet#.head()"
   ]
  },
  {
   "cell_type": "code",
   "execution_count": 7,
   "id": "1680b932-d16c-40d9-bc81-79ea7f39f3c5",
   "metadata": {},
   "outputs": [
    {
     "data": {
      "text/html": [
       "<div>\n",
       "<style scoped>\n",
       "    .dataframe tbody tr th:only-of-type {\n",
       "        vertical-align: middle;\n",
       "    }\n",
       "\n",
       "    .dataframe tbody tr th {\n",
       "        vertical-align: top;\n",
       "    }\n",
       "\n",
       "    .dataframe thead th {\n",
       "        text-align: right;\n",
       "    }\n",
       "</style>\n",
       "<table border=\"1\" class=\"dataframe\">\n",
       "  <thead>\n",
       "    <tr style=\"text-align: right;\">\n",
       "      <th></th>\n",
       "      <th>short_ID</th>\n",
       "      <th>date</th>\n",
       "      <th>total_ontime_left</th>\n",
       "    </tr>\n",
       "  </thead>\n",
       "  <tbody>\n",
       "    <tr>\n",
       "      <th>0</th>\n",
       "      <td>NaN</td>\n",
       "      <td>NaN</td>\n",
       "      <td>NaN</td>\n",
       "    </tr>\n",
       "    <tr>\n",
       "      <th>1</th>\n",
       "      <td>NaN</td>\n",
       "      <td>NaN</td>\n",
       "      <td>NaN</td>\n",
       "    </tr>\n",
       "    <tr>\n",
       "      <th>2</th>\n",
       "      <td>NaN</td>\n",
       "      <td>NaN</td>\n",
       "      <td>NaN</td>\n",
       "    </tr>\n",
       "    <tr>\n",
       "      <th>3</th>\n",
       "      <td>NaN</td>\n",
       "      <td>NaN</td>\n",
       "      <td>NaN</td>\n",
       "    </tr>\n",
       "    <tr>\n",
       "      <th>4</th>\n",
       "      <td>NaN</td>\n",
       "      <td>NaN</td>\n",
       "      <td>NaN</td>\n",
       "    </tr>\n",
       "    <tr>\n",
       "      <th>...</th>\n",
       "      <td>...</td>\n",
       "      <td>...</td>\n",
       "      <td>...</td>\n",
       "    </tr>\n",
       "    <tr>\n",
       "      <th>179592704</th>\n",
       "      <td>NaN</td>\n",
       "      <td>NaN</td>\n",
       "      <td>NaN</td>\n",
       "    </tr>\n",
       "    <tr>\n",
       "      <th>179592705</th>\n",
       "      <td>NaN</td>\n",
       "      <td>NaN</td>\n",
       "      <td>NaN</td>\n",
       "    </tr>\n",
       "    <tr>\n",
       "      <th>179592706</th>\n",
       "      <td>NaN</td>\n",
       "      <td>NaN</td>\n",
       "      <td>NaN</td>\n",
       "    </tr>\n",
       "    <tr>\n",
       "      <th>179592707</th>\n",
       "      <td>NaN</td>\n",
       "      <td>NaN</td>\n",
       "      <td>NaN</td>\n",
       "    </tr>\n",
       "    <tr>\n",
       "      <th>179592708</th>\n",
       "      <td>NaN</td>\n",
       "      <td>NaN</td>\n",
       "      <td>NaN</td>\n",
       "    </tr>\n",
       "  </tbody>\n",
       "</table>\n",
       "<p>179592709 rows × 3 columns</p>\n",
       "</div>"
      ],
      "text/plain": [
       "           short_ID date  total_ontime_left\n",
       "0               NaN  NaN                NaN\n",
       "1               NaN  NaN                NaN\n",
       "2               NaN  NaN                NaN\n",
       "3               NaN  NaN                NaN\n",
       "4               NaN  NaN                NaN\n",
       "...             ...  ...                ...\n",
       "179592704       NaN  NaN                NaN\n",
       "179592705       NaN  NaN                NaN\n",
       "179592706       NaN  NaN                NaN\n",
       "179592707       NaN  NaN                NaN\n",
       "179592708       NaN  NaN                NaN\n",
       "\n",
       "[179592709 rows x 3 columns]"
      ]
     },
     "execution_count": 7,
     "metadata": {},
     "output_type": "execute_result"
    }
   ],
   "source": [
    "CH_FullSet[CH_FullSet.isnull()]"
   ]
  },
  {
   "cell_type": "markdown",
   "id": "345f7f4c-69e7-4ba9-ba25-b6315d63c047",
   "metadata": {},
   "source": [
    "### ID List"
   ]
  },
  {
   "cell_type": "code",
   "execution_count": 4,
   "id": "ae367f52-7358-47f1-9a81-d6e466b8a1b0",
   "metadata": {},
   "outputs": [],
   "source": [
    "ID_List = pd.read_csv('Data/FilteredIDs/Reference_ID_List.csv')"
   ]
  },
  {
   "cell_type": "code",
   "execution_count": 5,
   "id": "8a4a4e47-2dff-4a72-b7a5-e1e47c0a0189",
   "metadata": {},
   "outputs": [
    {
     "data": {
      "text/html": [
       "<div>\n",
       "<style scoped>\n",
       "    .dataframe tbody tr th:only-of-type {\n",
       "        vertical-align: middle;\n",
       "    }\n",
       "\n",
       "    .dataframe tbody tr th {\n",
       "        vertical-align: top;\n",
       "    }\n",
       "\n",
       "    .dataframe thead th {\n",
       "        text-align: right;\n",
       "    }\n",
       "</style>\n",
       "<table border=\"1\" class=\"dataframe\">\n",
       "  <thead>\n",
       "    <tr style=\"text-align: right;\">\n",
       "      <th></th>\n",
       "      <th>short_ID</th>\n",
       "      <th>customer_id</th>\n",
       "      <th>Kenya_10k</th>\n",
       "      <th>Rwanda_10k</th>\n",
       "    </tr>\n",
       "  </thead>\n",
       "  <tbody>\n",
       "    <tr>\n",
       "      <th>0</th>\n",
       "      <td>1</td>\n",
       "      <td>689aa5a01c216d8b16ed0250cebdc702</td>\n",
       "      <td>0</td>\n",
       "      <td>0</td>\n",
       "    </tr>\n",
       "    <tr>\n",
       "      <th>1</th>\n",
       "      <td>2</td>\n",
       "      <td>21a06929d23550339ee18d98b6e05fc2</td>\n",
       "      <td>0</td>\n",
       "      <td>2</td>\n",
       "    </tr>\n",
       "    <tr>\n",
       "      <th>2</th>\n",
       "      <td>3</td>\n",
       "      <td>ea8df9172e5ad7ce79b77bada66d3e3e</td>\n",
       "      <td>0</td>\n",
       "      <td>0</td>\n",
       "    </tr>\n",
       "  </tbody>\n",
       "</table>\n",
       "</div>"
      ],
      "text/plain": [
       "   short_ID                       customer_id  Kenya_10k  Rwanda_10k\n",
       "0         1  689aa5a01c216d8b16ed0250cebdc702          0           0\n",
       "1         2  21a06929d23550339ee18d98b6e05fc2          0           2\n",
       "2         3  ea8df9172e5ad7ce79b77bada66d3e3e          0           0"
      ]
     },
     "execution_count": 5,
     "metadata": {},
     "output_type": "execute_result"
    }
   ],
   "source": [
    "ID_List.head(3)"
   ]
  },
  {
   "cell_type": "markdown",
   "id": "58bdce4d-26f9-4592-b98f-fe6c570289dc",
   "metadata": {},
   "source": [
    "---\n",
    "## Sample Selection"
   ]
  },
  {
   "cell_type": "code",
   "execution_count": 112,
   "id": "f135c37f-e50f-479b-8dc4-f28d7d786221",
   "metadata": {},
   "outputs": [],
   "source": [
    "# Variable defining chosen sub-sample\n",
    "sample_name = 'Kenya_10k_Set_1'\n",
    "\n",
    "# Dictonary with all Sub-sample names and Respective Data Column pairs\n",
    "sample_col_name = {\n",
    "    'Rwanda_10k_Set_1' : 'Rwanda_10k',\n",
    "    'Rwanda_10k_Set_2' : 'Rwanda_10k',\n",
    "    'Rwanda_10k_Set_3' : 'Rwanda_10k',\n",
    "    'Kenya_10k_Set_1' : 'Kenya_10k',\n",
    "    'Kenya_10k_Set_2' : 'Kenya_10k',\n",
    "    'Kenya_10k_Set_3' : 'Kenya_10k'\n",
    "}\n",
    "# And this pairs name with correct value\n",
    "sample_col_valeu = {\n",
    "    'Rwanda_10k_Set_1' : 1,\n",
    "    'Rwanda_10k_Set_2' : 2,\n",
    "    'Rwanda_10k_Set_3' : 3,\n",
    "    'Kenya_10k_Set_1' : 1,\n",
    "    'Kenya_10k_Set_2' : 2,\n",
    "    'Kenya_10k_Set_3' : 3\n",
    "}"
   ]
  },
  {
   "cell_type": "code",
   "execution_count": 113,
   "id": "694e106a-f14d-41bb-93ef-57067c6ba6de",
   "metadata": {},
   "outputs": [],
   "source": [
    "sample_IDs = ID_List[ID_List[sample_col_name[sample_name]] == sample_col_valeu[sample_name]].short_ID.values\n",
    "CH_SubSample = CH_FullSet[CH_FullSet['short_ID'].isin(sample_IDs)].reset_index(drop=True)"
   ]
  },
  {
   "cell_type": "code",
   "execution_count": 114,
   "id": "ad0b06a5-d7b0-4d8d-b2cc-b62b3aa74375",
   "metadata": {},
   "outputs": [
    {
     "data": {
      "text/html": [
       "<div>\n",
       "<style scoped>\n",
       "    .dataframe tbody tr th:only-of-type {\n",
       "        vertical-align: middle;\n",
       "    }\n",
       "\n",
       "    .dataframe tbody tr th {\n",
       "        vertical-align: top;\n",
       "    }\n",
       "\n",
       "    .dataframe thead th {\n",
       "        text-align: right;\n",
       "    }\n",
       "</style>\n",
       "<table border=\"1\" class=\"dataframe\">\n",
       "  <thead>\n",
       "    <tr style=\"text-align: right;\">\n",
       "      <th></th>\n",
       "      <th>short_ID</th>\n",
       "      <th>date</th>\n",
       "      <th>total_ontime_left</th>\n",
       "    </tr>\n",
       "  </thead>\n",
       "  <tbody>\n",
       "    <tr>\n",
       "      <th>0</th>\n",
       "      <td>347</td>\n",
       "      <td>2018-01-19</td>\n",
       "      <td>1332480.0</td>\n",
       "    </tr>\n",
       "    <tr>\n",
       "      <th>1</th>\n",
       "      <td>347</td>\n",
       "      <td>2018-01-20</td>\n",
       "      <td>1246080.0</td>\n",
       "    </tr>\n",
       "    <tr>\n",
       "      <th>2</th>\n",
       "      <td>347</td>\n",
       "      <td>2018-01-21</td>\n",
       "      <td>1159680.0</td>\n",
       "    </tr>\n",
       "    <tr>\n",
       "      <th>3</th>\n",
       "      <td>347</td>\n",
       "      <td>2018-01-22</td>\n",
       "      <td>1073280.0</td>\n",
       "    </tr>\n",
       "    <tr>\n",
       "      <th>4</th>\n",
       "      <td>347</td>\n",
       "      <td>2018-01-23</td>\n",
       "      <td>986880.0</td>\n",
       "    </tr>\n",
       "  </tbody>\n",
       "</table>\n",
       "</div>"
      ],
      "text/plain": [
       "   short_ID        date  total_ontime_left\n",
       "0       347  2018-01-19          1332480.0\n",
       "1       347  2018-01-20          1246080.0\n",
       "2       347  2018-01-21          1159680.0\n",
       "3       347  2018-01-22          1073280.0\n",
       "4       347  2018-01-23           986880.0"
      ]
     },
     "execution_count": 114,
     "metadata": {},
     "output_type": "execute_result"
    }
   ],
   "source": [
    "CH_SubSample.head()"
   ]
  },
  {
   "cell_type": "markdown",
   "id": "7832b49e-6a1d-4f0a-a1fa-80b0b863239f",
   "metadata": {},
   "source": [
    "---\n",
    "## Checks and Fixes"
   ]
  },
  {
   "cell_type": "markdown",
   "id": "a214af8c-c5e1-4f73-a605-4bfd9f918875",
   "metadata": {},
   "source": [
    "### Dataset Bounds"
   ]
  },
  {
   "cell_type": "code",
   "execution_count": 115,
   "id": "a9af6975-f3ce-43bf-a994-95ace66c9b0a",
   "metadata": {},
   "outputs": [
    {
     "name": "stdout",
     "output_type": "stream",
     "text": [
      "First date on record: 2018-01-10\n",
      "Last date on record: 2023-01-20\n"
     ]
    }
   ],
   "source": [
    "earliest_date = CH_SubSample.date.min()\n",
    "latest_date = CH_SubSample.date.max() \n",
    "print(f'First date on record: {earliest_date}')\n",
    "print(f'Last date on record: {latest_date}')"
   ]
  },
  {
   "cell_type": "markdown",
   "id": "ee913261",
   "metadata": {
    "tags": []
   },
   "source": [
    "### Checking for NaNs and Negative Credits"
   ]
  },
  {
   "cell_type": "code",
   "execution_count": 116,
   "id": "630fc2d1",
   "metadata": {},
   "outputs": [
    {
     "name": "stdout",
     "output_type": "stream",
     "text": [
      "There are 7041 NaNs \n",
      "There are 0 Negative Values\n"
     ]
    }
   ],
   "source": [
    "NaN_values = len(CH_SubSample[CH_SubSample.total_ontime_left.isnull()])\n",
    "Neg_values = len(CH_SubSample[CH_SubSample['total_ontime_left'] < 0].total_ontime_left)\n",
    "\n",
    "print(f'There are {NaN_values} NaNs \\nThere are {Neg_values} Negative Values')"
   ]
  },
  {
   "cell_type": "markdown",
   "id": "233668fb-1de7-4601-bafb-0959b17c0ddc",
   "metadata": {},
   "source": [
    "#### Fixing NaNs\n",
    "For all 10k Sub-Samples:<br>\n",
    "All NaNs are on 2022-12-12 (most have been a technical issue).<br>\n",
    "In this case a simple foward fill policy should cause minimal impact of the model performance.<br>"
   ]
  },
  {
   "cell_type": "code",
   "execution_count": 117,
   "id": "d6650956-fd27-445d-91b4-116b1c7d80e8",
   "metadata": {},
   "outputs": [
    {
     "data": {
      "text/plain": [
       "2022-12-12    7041\n",
       "Name: date, dtype: int64"
      ]
     },
     "execution_count": 117,
     "metadata": {},
     "output_type": "execute_result"
    }
   ],
   "source": [
    "CH_SubSample[CH_SubSample.total_ontime_left.isnull()].date.value_counts()"
   ]
  },
  {
   "cell_type": "code",
   "execution_count": 118,
   "id": "c5e24608-ecfa-41de-99dd-af561179c242",
   "metadata": {},
   "outputs": [
    {
     "name": "stdout",
     "output_type": "stream",
     "text": [
      "Applied Foward Fill\n"
     ]
    }
   ],
   "source": [
    "if NaN_values > 0:\n",
    "    CH_SubSample.fillna(method=\"ffill\", inplace=True)\n",
    "    NaN_values = len(CH_SubSample[CH_SubSample.total_ontime_left.isnull()])\n",
    "    print('Applied Foward Fill')\n",
    "else:\n",
    "    print('Not Applied')"
   ]
  },
  {
   "cell_type": "markdown",
   "id": "59ead580-b46e-4f4e-bff2-32a29c3de1ea",
   "metadata": {},
   "source": [
    "#### Fixing Negative Values"
   ]
  },
  {
   "cell_type": "code",
   "execution_count": 119,
   "id": "bbea4306-5876-4564-adda-1aa36d0ec057",
   "metadata": {},
   "outputs": [
    {
     "name": "stdout",
     "output_type": "stream",
     "text": [
      "Not Applied\n"
     ]
    }
   ],
   "source": [
    "if Neg_values > 0:\n",
    "    # Fix Neg values\n",
    "    # ASSUMPTION: Neg values are a bug, where the sign should simply be possitive\n",
    "    # ACTION: Take absolute valeu\n",
    "    CH_SubSample['total_ontime_left'] = abs(CH_SubSample['total_ontime_left'])\n",
    "    Neg_values = len(CH_SubSample[CH_SubSample['total_ontime_left'] < 0].total_ontime_left)\n",
    "\n",
    "else:\n",
    "    print('Not Applied')\n",
    "\n"
   ]
  },
  {
   "cell_type": "markdown",
   "id": "bbca8a6e",
   "metadata": {},
   "source": [
    "---\n",
    "## Negative Credit Penalty\n",
    "Current Policy:<br>\n",
    "All values at zero (i.e., No Credit) are transformed into -7 days of credit.<br>\n",
    "-7 because of the most commonly applied Bboxx penalty for late payments."
   ]
  },
  {
   "cell_type": "code",
   "execution_count": 120,
   "id": "32035359-6f9f-4cad-98eb-79c5749fd5b3",
   "metadata": {},
   "outputs": [],
   "source": [
    "# Penalty is applied in seconds, so -7 days needs to get converted into seconds\n",
    "late_penalty_seconds = -7 * 24 * 60 * 60 "
   ]
  },
  {
   "cell_type": "code",
   "execution_count": 121,
   "id": "47905ac6",
   "metadata": {},
   "outputs": [],
   "source": [
    "CH_SubSample['TCredits_seconds'] = np.where(CH_SubSample['total_ontime_left'] == 0, late_penalty_seconds , CH_SubSample['total_ontime_left'])"
   ]
  },
  {
   "cell_type": "markdown",
   "id": "8ca5810d-bb10-4386-94c2-e7e5a0be6623",
   "metadata": {
    "tags": []
   },
   "source": [
    "---\n",
    "## Adjusting Columns"
   ]
  },
  {
   "cell_type": "markdown",
   "id": "f210595e",
   "metadata": {
    "tags": []
   },
   "source": [
    "### Days of Credit"
   ]
  },
  {
   "cell_type": "code",
   "execution_count": 122,
   "id": "468c6fc9",
   "metadata": {},
   "outputs": [],
   "source": [
    "CH_SubSample['TCredits_days'] = CH_SubSample['TCredits_seconds'] / (60 * 60 * 24)"
   ]
  },
  {
   "cell_type": "markdown",
   "id": "c7352202-0f07-4206-8c92-b8516bd092a2",
   "metadata": {},
   "source": [
    "### Re-ordering columns"
   ]
  },
  {
   "cell_type": "code",
   "execution_count": 123,
   "id": "7fde2c76-5ea2-449c-a0e0-aa270ec86528",
   "metadata": {},
   "outputs": [
    {
     "data": {
      "text/html": [
       "<div>\n",
       "<style scoped>\n",
       "    .dataframe tbody tr th:only-of-type {\n",
       "        vertical-align: middle;\n",
       "    }\n",
       "\n",
       "    .dataframe tbody tr th {\n",
       "        vertical-align: top;\n",
       "    }\n",
       "\n",
       "    .dataframe thead th {\n",
       "        text-align: right;\n",
       "    }\n",
       "</style>\n",
       "<table border=\"1\" class=\"dataframe\">\n",
       "  <thead>\n",
       "    <tr style=\"text-align: right;\">\n",
       "      <th></th>\n",
       "      <th>short_ID</th>\n",
       "      <th>date</th>\n",
       "      <th>TCredits_days</th>\n",
       "      <th>TCredits_seconds</th>\n",
       "    </tr>\n",
       "  </thead>\n",
       "  <tbody>\n",
       "    <tr>\n",
       "      <th>0</th>\n",
       "      <td>347</td>\n",
       "      <td>2018-01-19</td>\n",
       "      <td>15.422222</td>\n",
       "      <td>1332480.0</td>\n",
       "    </tr>\n",
       "    <tr>\n",
       "      <th>1</th>\n",
       "      <td>347</td>\n",
       "      <td>2018-01-20</td>\n",
       "      <td>14.422222</td>\n",
       "      <td>1246080.0</td>\n",
       "    </tr>\n",
       "    <tr>\n",
       "      <th>2</th>\n",
       "      <td>347</td>\n",
       "      <td>2018-01-21</td>\n",
       "      <td>13.422222</td>\n",
       "      <td>1159680.0</td>\n",
       "    </tr>\n",
       "    <tr>\n",
       "      <th>3</th>\n",
       "      <td>347</td>\n",
       "      <td>2018-01-22</td>\n",
       "      <td>12.422222</td>\n",
       "      <td>1073280.0</td>\n",
       "    </tr>\n",
       "    <tr>\n",
       "      <th>4</th>\n",
       "      <td>347</td>\n",
       "      <td>2018-01-23</td>\n",
       "      <td>11.422222</td>\n",
       "      <td>986880.0</td>\n",
       "    </tr>\n",
       "  </tbody>\n",
       "</table>\n",
       "</div>"
      ],
      "text/plain": [
       "   short_ID        date  TCredits_days  TCredits_seconds\n",
       "0       347  2018-01-19      15.422222         1332480.0\n",
       "1       347  2018-01-20      14.422222         1246080.0\n",
       "2       347  2018-01-21      13.422222         1159680.0\n",
       "3       347  2018-01-22      12.422222         1073280.0\n",
       "4       347  2018-01-23      11.422222          986880.0"
      ]
     },
     "execution_count": 123,
     "metadata": {},
     "output_type": "execute_result"
    }
   ],
   "source": [
    "CH_SubSample = CH_SubSample[['short_ID', 'date', 'TCredits_days', 'TCredits_seconds']]\n",
    "CH_SubSample.head()"
   ]
  },
  {
   "cell_type": "markdown",
   "id": "92094105",
   "metadata": {},
   "source": [
    "---\n",
    "# Rolling Window Structure"
   ]
  },
  {
   "cell_type": "code",
   "execution_count": 134,
   "id": "30a758ad",
   "metadata": {},
   "outputs": [],
   "source": [
    "def window_slicer (df, w_len = 30, stride = None, min_windows = 3, \n",
    "                   value_var = 'TCredits_days', time_var =  'date', id_col = 'short_ID',\n",
    "                   add_col = ['window_start_date']):\n",
    "    \n",
    "    start_time = time.time()\n",
    "    \n",
    "    total_users = len(df[id_col].unique())\n",
    "    \n",
    "    ## Dealing with the step\n",
    "    if not stride:\n",
    "        stride = copy.deepcopy(w_len)\n",
    "        \n",
    "    # Minimum number of windows\n",
    "    # Converts the absolute bound (in days) to a bound relative to the given w_len and stride    \n",
    "    #min_windows = np.floor(((min_days - w_len) / stride) + 1)\n",
    "    \n",
    "    # Converts number of windows into min bound in days\n",
    "    min_days = min_windows * w_len\n",
    "    \n",
    "    \n",
    "    ########################################################################################    \n",
    "    #######################\n",
    "    #Creating auxiliary df column names\n",
    "    col_names = [None] * (w_len + 1)\n",
    "    col_names[0] = add_col[0]\n",
    "    for p in range(int(w_len)):\n",
    "        col_names[p+1] = 'd' + str(p+1)\n",
    "\n",
    "       \n",
    "    ##########################################################\n",
    "    # Creating the Index Structure\n",
    "    # Lowerbound of Number of Windows for each User\n",
    "    print(f'Creating Index Structure')\n",
    "    IDs = df[id_col].unique()\n",
    "    too_small = []\n",
    "    user_index = []\n",
    "    windows_index = []\n",
    "    i = 1\n",
    "    for user in IDs: \n",
    "        print( f'Working on user ({i} / {total_users})', end='\\r')\n",
    "        i += 1\n",
    "\n",
    "        lenght_user = df[df[id_col] == user][value_var].shape[0]\n",
    "        n_w = np.floor(((lenght_user - w_len) / stride) + 1) # formulat with stride https://stackoverflow.com/questions/53796545/number-of-overlapping-windows-of-a-given-length\n",
    "        if n_w >= min_windows:          \n",
    "            for k in range(int(n_w)):\n",
    "                user_index.append(user)\n",
    "                windows_index.append(k)      \n",
    "        else:\n",
    "            too_small.append(user)\n",
    "                       \n",
    "    # Warning of delected IDs\n",
    "    if len(too_small) < 20:\n",
    "        print(f'\\nThese {len(too_small)} IDs had less then {min_days} days in record:')\n",
    "        print(too_small)\n",
    "        print('')\n",
    "    elif len(too_small) >= 20:\n",
    "        print(f'\\n{len(too_small)} IDs had less then {min_days} days in record.')\n",
    "        print('')\n",
    "\n",
    "    ##########################################################\n",
    "    ## Place holder for output df\n",
    "    double_index = [np.array(user_index),\n",
    "                    np.array(windows_index)]\n",
    "   \n",
    "    df_sliding = pd.DataFrame(index=double_index, columns = col_names)     \n",
    "    \n",
    "    ###########################################\n",
    "    # Filling out DF\n",
    "    print(f'Filling in Dataframe')\n",
    "    j=0\n",
    "    user_list = set(user_index)\n",
    "    for user, user_df in df.groupby(id_col):\n",
    "        j += 1\n",
    "        print( f'Working on user ({j} / {total_users})', end='\\r')\n",
    "        \n",
    "        if user in user_list:\n",
    "            n_windows = df_sliding.loc[user].shape[0]      \n",
    "            for window in range(n_windows): \n",
    "\n",
    "                #Start date of given window  \n",
    "                df_sliding.loc[(user, window) , add_col[0]] = user_df.iloc[window * stride][time_var]\n",
    "                #Values for given window\n",
    "                df_sliding.loc[(user, window) , col_names[-w_len:]] = user_df.iloc[window * stride : (window * stride) + w_len][value_var].values\n",
    "    \n",
    "    #Convert index back into short_ID and new window_ID columns\n",
    "    df_sliding.reset_index(inplace=True, names=['short_ID', 'window_ID'])\n",
    "    \n",
    "    print(f'\\nTotal process time: {np.round(time.time() - start_time,2)}[s]') \n",
    "    return df_sliding \n"
   ]
  },
  {
   "cell_type": "code",
   "execution_count": 136,
   "id": "9edea9ca",
   "metadata": {
    "tags": []
   },
   "outputs": [
    {
     "name": "stdout",
     "output_type": "stream",
     "text": [
      "Creating Index Structure\n",
      "Working on user (10000 / 10000)\n",
      "375 IDs had less then 180 days in record.\n",
      "\n",
      "Filling in Dataframe\n",
      "Working on user (10000 / 10000)\n",
      "Total process time: 348.49[s]\n"
     ]
    }
   ],
   "source": [
    "window_length = 30\n",
    "CH_SubSample_w30 = window_slicer(CH_SubSample, w_len = window_length, min_windows = 6, stride = None)"
   ]
  },
  {
   "cell_type": "code",
   "execution_count": 137,
   "id": "961bba22",
   "metadata": {
    "tags": []
   },
   "outputs": [
    {
     "name": "stdout",
     "output_type": "stream",
     "text": [
      "Creating Index Structure\n",
      "Working on user (10000 / 10000)\n",
      "375 IDs had less then 180 days in record.\n",
      "\n",
      "Filling in Dataframe\n",
      "Working on user (10000 / 10000)\n",
      "Total process time: 195.43[s]\n"
     ]
    }
   ],
   "source": [
    "window_length = 60\n",
    "CH_SubSample_w60 = window_slicer(CH_SubSample, w_len = window_length, min_windows = 3, stride = None)"
   ]
  },
  {
   "cell_type": "code",
   "execution_count": 138,
   "id": "855ae826",
   "metadata": {
    "tags": []
   },
   "outputs": [
    {
     "name": "stdout",
     "output_type": "stream",
     "text": [
      "Creating Index Structure\n",
      "Working on user (10000 / 10000)\n",
      "375 IDs had less then 180 days in record.\n",
      "\n",
      "Filling in Dataframe\n",
      "Working on user (10000 / 10000)\n",
      "Total process time: 159.47[s]\n"
     ]
    }
   ],
   "source": [
    "window_length = 90\n",
    "CH_SubSample_w90 = window_slicer(CH_SubSample, w_len = window_length, min_windows = 2, stride = None)"
   ]
  },
  {
   "cell_type": "code",
   "execution_count": 139,
   "id": "dfe70e68",
   "metadata": {
    "tags": []
   },
   "outputs": [
    {
     "name": "stdout",
     "output_type": "stream",
     "text": [
      "Creating Index Structure\n",
      "Working on user (10000 / 10000)\n",
      "375 IDs had less then 180 days in record.\n",
      "\n",
      "Filling in Dataframe\n",
      "Working on user (10000 / 10000)\n",
      "Total process time: 119.7[s]\n"
     ]
    }
   ],
   "source": [
    "window_length = 180\n",
    "CH_SubSample_w180 = window_slicer(CH_SubSample, w_len = window_length, min_windows = 1, stride = None)"
   ]
  },
  {
   "cell_type": "markdown",
   "id": "0744d2a6",
   "metadata": {},
   "source": [
    "# Save Processed Data"
   ]
  },
  {
   "cell_type": "code",
   "execution_count": 142,
   "id": "7e1cfce0-535a-47b6-802b-f0c54ac26e30",
   "metadata": {},
   "outputs": [],
   "source": [
    "#Create dedicated folder for this sub-sample\n",
    "Path(f\"Data/{sample_name}\").mkdir(parents=True, exist_ok=True)"
   ]
  },
  {
   "cell_type": "code",
   "execution_count": 143,
   "id": "c63d31b1",
   "metadata": {
    "tags": []
   },
   "outputs": [],
   "source": [
    "CH_SubSample_w30.to_csv(f\"Data/{sample_name}/{sample_name + '_w30.csv'}\", index = False)"
   ]
  },
  {
   "cell_type": "code",
   "execution_count": 144,
   "id": "164e7fce",
   "metadata": {},
   "outputs": [],
   "source": [
    "CH_SubSample_w60.to_csv(f\"Data/{sample_name}/{sample_name + '_w60.csv'}\", index = False)"
   ]
  },
  {
   "cell_type": "code",
   "execution_count": 145,
   "id": "ed6e303b",
   "metadata": {},
   "outputs": [],
   "source": [
    "CH_SubSample_w90.to_csv(f\"Data/{sample_name}/{sample_name + '_w90.csv'}\", index = False)"
   ]
  },
  {
   "cell_type": "code",
   "execution_count": 146,
   "id": "c210753a",
   "metadata": {},
   "outputs": [],
   "source": [
    "CH_SubSample_w180.to_csv(f\"Data/{sample_name}/{sample_name + '_w180.csv'}\", index = False)"
   ]
  },
  {
   "cell_type": "code",
   "execution_count": null,
   "id": "bfe9c34d-66af-4b3e-bd72-cc37fc61901e",
   "metadata": {},
   "outputs": [],
   "source": []
  }
 ],
 "metadata": {
  "kernelspec": {
   "display_name": "Python 3 (ipykernel)",
   "language": "python",
   "name": "python3"
  },
  "language_info": {
   "codemirror_mode": {
    "name": "ipython",
    "version": 3
   },
   "file_extension": ".py",
   "mimetype": "text/x-python",
   "name": "python",
   "nbconvert_exporter": "python",
   "pygments_lexer": "ipython3",
   "version": "3.9.15"
  }
 },
 "nbformat": 4,
 "nbformat_minor": 5
}
