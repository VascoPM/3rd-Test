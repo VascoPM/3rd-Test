{
 "cells": [
  {
   "cell_type": "markdown",
   "id": "08043659",
   "metadata": {},
   "source": [
    "# First Data Processing Step\n",
    "### $Time$ $Series$ $3rd$ $Test$\n",
    "\n",
    "$Vasco$ $Mergulhão$ $-$ $Jan$ $2023$\n",
    "\n",
    "### Version 1:\n",
    " - Imports 2 Raw Datasets:\n",
    "     - Full Credit History.\n",
    "     - Customer Information.\n",
    " - Filters valid IDs based on:\n",
    "     - Customer type criteria.\n",
    "     - Usable credit history records.\n",
    " - Creates Sub-samples:\n",
    "     - Random 3x 10k IDs \n",
    " - Outputs:\n",
    "     - Reference ID list, with local IDs and Sampling Records.\n",
    "     - Filtered Credit History.\n"
   ]
  },
  {
   "cell_type": "code",
   "execution_count": 1,
   "id": "06523b41",
   "metadata": {},
   "outputs": [],
   "source": [
    "import pandas as pd\n",
    "import numpy as np\n",
    "import matplotlib.pyplot as plt\n",
    "from itertools import groupby\n",
    "from datetime import timedelta, date\n",
    "from pandas.core.common import flatten\n",
    "\n",
    "import time\n",
    "import datetime\n",
    "import copy"
   ]
  },
  {
   "cell_type": "markdown",
   "id": "fe394d61-1e74-4151-a34e-7ed2e6a6cc38",
   "metadata": {},
   "source": [
    "# Raw Data Imports"
   ]
  },
  {
   "cell_type": "markdown",
   "id": "5671edbe-a239-4e69-a249-5a4c9857e4cd",
   "metadata": {},
   "source": [
    "## Credit History"
   ]
  },
  {
   "cell_type": "code",
   "execution_count": 2,
   "id": "a18c9a6a-df93-4964-9481-fe576844abff",
   "metadata": {},
   "outputs": [],
   "source": [
    "Raw_CredHist = pd.read_csv('Data/Raw_Data/TS_FullSet_Credits_V2.csv')"
   ]
  },
  {
   "cell_type": "code",
   "execution_count": 3,
   "id": "7d0c0009-fff9-4d90-b7d4-29a793aab173",
   "metadata": {},
   "outputs": [
    {
     "name": "stdout",
     "output_type": "stream",
     "text": [
      "<class 'pandas.core.frame.DataFrame'>\n",
      "RangeIndex: 191652046 entries, 0 to 191652045\n",
      "Data columns (total 3 columns):\n",
      " #   Column             Dtype  \n",
      "---  ------             -----  \n",
      " 0   customer_id        object \n",
      " 1   date_timestamp     object \n",
      " 2   total_ontime_left  float64\n",
      "dtypes: float64(1), object(2)\n",
      "memory usage: 4.3+ GB\n"
     ]
    }
   ],
   "source": [
    "Raw_CredHist.info()"
   ]
  },
  {
   "cell_type": "markdown",
   "id": "4cc1ec71-65a6-4812-a197-5db0ddab9f61",
   "metadata": {},
   "source": [
    "## Customer Info"
   ]
  },
  {
   "cell_type": "code",
   "execution_count": 4,
   "id": "44061659-2fd2-4b52-bb2a-050aba417446",
   "metadata": {},
   "outputs": [
    {
     "name": "stderr",
     "output_type": "stream",
     "text": [
      "C:\\Users\\ucesvpm\\AppData\\Local\\Temp\\ipykernel_13056\\4213000189.py:1: DtypeWarning: Columns (6) have mixed types. Specify dtype option on import or set low_memory=False.\n",
      "  Customer_Info = pd.read_csv('Data/Raw_Data/TS_CustomerInfo_V1.csv')\n"
     ]
    }
   ],
   "source": [
    "Customer_Info = pd.read_csv('Data/Raw_Data/TS_CustomerInfo_V1.csv')"
   ]
  },
  {
   "cell_type": "code",
   "execution_count": 5,
   "id": "21e1585e-7073-4a6a-827c-f6a186c96756",
   "metadata": {},
   "outputs": [
    {
     "name": "stdout",
     "output_type": "stream",
     "text": [
      "<class 'pandas.core.frame.DataFrame'>\n",
      "RangeIndex: 234134 entries, 0 to 234133\n",
      "Data columns (total 16 columns):\n",
      " #   Column                          Non-Null Count   Dtype \n",
      "---  ------                          --------------   ----- \n",
      " 0   customer_id                     234134 non-null  object\n",
      " 1   start_date                      234134 non-null  object\n",
      " 2   gender                          234134 non-null  object\n",
      " 3   customer_birth_date             233332 non-null  object\n",
      " 4   preferred_language              234134 non-null  object\n",
      " 5   main_source_income              234134 non-null  object\n",
      " 6   main_source_income_other        929 non-null     object\n",
      " 7   prev_light_energy_source        234134 non-null  object\n",
      " 8   prev_light_energy_source_other  4105 non-null    object\n",
      " 9   payg_converted                  233668 non-null  object\n",
      " 10  country                         234121 non-null  object\n",
      " 11  install_address_1               234120 non-null  object\n",
      " 12  install_address_2               234120 non-null  object\n",
      " 13  install_address_3               234106 non-null  object\n",
      " 14  install_address_4               234089 non-null  object\n",
      " 15  install_address_5               142136 non-null  object\n",
      "dtypes: object(16)\n",
      "memory usage: 28.6+ MB\n"
     ]
    }
   ],
   "source": [
    "Customer_Info.info()"
   ]
  },
  {
   "cell_type": "markdown",
   "id": "2a9853f5-dc93-4c41-92be-9d0d5ee090ab",
   "metadata": {},
   "source": [
    "---\n",
    "# Valid ID Lists"
   ]
  },
  {
   "cell_type": "markdown",
   "id": "4ffee9ca-a622-44b0-af4e-6e5a3d6cd665",
   "metadata": {},
   "source": [
    "## Customer Info"
   ]
  },
  {
   "cell_type": "code",
   "execution_count": 6,
   "id": "3a5e0990-462b-44e8-8b08-443f23f3278c",
   "metadata": {},
   "outputs": [
    {
     "name": "stdout",
     "output_type": "stream",
     "text": [
      "<class 'pandas.core.frame.DataFrame'>\n",
      "Int64Index: 234121 entries, 0 to 234133\n",
      "Data columns (total 2 columns):\n",
      " #   Column       Non-Null Count   Dtype \n",
      "---  ------       --------------   ----- \n",
      " 0   customer_id  234121 non-null  object\n",
      " 1   country      234121 non-null  object\n",
      "dtypes: object(2)\n",
      "memory usage: 5.4+ MB\n"
     ]
    }
   ],
   "source": [
    "# SQL Criteria already filters most\n",
    "# Only need to guarantee country not null, since sampling depends on it\n",
    "validID_CustInfo = pd.DataFrame()\n",
    "validID_CustInfo['customer_id'] = Customer_Info.customer_id.unique()\n",
    "validID_CustInfo['country'] = Customer_Info['country']\n",
    "validID_CustInfo = validID_CustInfo[~validID_CustInfo['country'].isnull()]\n",
    "validID_CustInfo.info()"
   ]
  },
  {
   "cell_type": "markdown",
   "id": "0e5f6b47-893e-47d5-96d7-d50543d22990",
   "metadata": {},
   "source": [
    "## Credit History\n",
    "- At least 180 days of valid data"
   ]
  },
  {
   "cell_type": "code",
   "execution_count": 7,
   "id": "08309143-8ba4-4e99-a994-9888971afdf3",
   "metadata": {},
   "outputs": [
    {
     "name": "stdout",
     "output_type": "stream",
     "text": [
      "<class 'pandas.core.frame.DataFrame'>\n",
      "RangeIndex: 233922 entries, 0 to 233921\n",
      "Data columns (total 1 columns):\n",
      " #   Column       Non-Null Count   Dtype \n",
      "---  ------       --------------   ----- \n",
      " 0   customer_id  233922 non-null  object\n",
      "dtypes: object(1)\n",
      "memory usage: 1.8+ MB\n"
     ]
    }
   ],
   "source": [
    "validID_CredHist = pd.DataFrame()\n",
    "validID_CredHist['customer_id'] = Raw_CredHist.customer_id.unique()\n",
    "validID_CredHist.info()"
   ]
  },
  {
   "cell_type": "code",
   "execution_count": 8,
   "id": "f22b352b-a034-472e-a7ed-75777e6deecb",
   "metadata": {},
   "outputs": [],
   "source": [
    "validID_CredHist['record_length'] = Raw_CredHist.groupby('customer_id').size().values"
   ]
  },
  {
   "cell_type": "code",
   "execution_count": 10,
   "id": "cb6a4e3a-deb6-45de-b5ba-e3199d6a23da",
   "metadata": {},
   "outputs": [
    {
     "name": "stdout",
     "output_type": "stream",
     "text": [
      "<class 'pandas.core.frame.DataFrame'>\n",
      "RangeIndex: 233922 entries, 0 to 233921\n",
      "Data columns (total 2 columns):\n",
      " #   Column         Non-Null Count   Dtype \n",
      "---  ------         --------------   ----- \n",
      " 0   customer_id    233922 non-null  object\n",
      " 1   record_length  233922 non-null  int64 \n",
      "dtypes: int64(1), object(1)\n",
      "memory usage: 3.6+ MB\n"
     ]
    }
   ],
   "source": [
    "validID_CredHist.info()"
   ]
  },
  {
   "cell_type": "markdown",
   "id": "586fcd76-79e7-4d6d-b45e-53409ad503fc",
   "metadata": {},
   "source": [
    "### Minimum Record Length Filter"
   ]
  },
  {
   "cell_type": "code",
   "execution_count": 11,
   "id": "cea8d229-7ab5-4045-9cc5-2c339f234c70",
   "metadata": {},
   "outputs": [
    {
     "name": "stdout",
     "output_type": "stream",
     "text": [
      "<class 'pandas.core.frame.DataFrame'>\n",
      "Int64Index: 219132 entries, 0 to 233920\n",
      "Data columns (total 2 columns):\n",
      " #   Column         Non-Null Count   Dtype \n",
      "---  ------         --------------   ----- \n",
      " 0   customer_id    219132 non-null  object\n",
      " 1   record_length  219132 non-null  int64 \n",
      "dtypes: int64(1), object(1)\n",
      "memory usage: 5.0+ MB\n"
     ]
    }
   ],
   "source": [
    "validID_CredHist = validID_CredHist[validID_CredHist['record_length']>=180]\n",
    "validID_CredHist.info()"
   ]
  },
  {
   "cell_type": "markdown",
   "id": "67533528-f566-4986-9adc-6a8fff14d9df",
   "metadata": {},
   "source": [
    "## List Intersection"
   ]
  },
  {
   "cell_type": "code",
   "execution_count": 12,
   "id": "307dd050-adeb-45cf-bc98-960b8e1a6d7e",
   "metadata": {},
   "outputs": [
    {
     "name": "stdout",
     "output_type": "stream",
     "text": [
      "<class 'pandas.core.frame.DataFrame'>\n",
      "RangeIndex: 219089 entries, 0 to 219088\n",
      "Data columns (total 1 columns):\n",
      " #   Column       Non-Null Count   Dtype \n",
      "---  ------       --------------   ----- \n",
      " 0   customer_id  219089 non-null  object\n",
      "dtypes: object(1)\n",
      "memory usage: 1.7+ MB\n"
     ]
    }
   ],
   "source": [
    "validID_Intersect = pd.DataFrame()\n",
    "# Intersection ensures all IDs respect both sets of creteria\n",
    "validID_Intersect ['customer_id']= list(set(validID_CustInfo['customer_id']).intersection(set(validID_CredHist['customer_id'])))\n",
    "validID_Intersect.info()"
   ]
  },
  {
   "cell_type": "code",
   "execution_count": 13,
   "id": "b4b30be2-328f-46f0-815c-e4a96490f58f",
   "metadata": {},
   "outputs": [
    {
     "data": {
      "text/html": [
       "<div>\n",
       "<style scoped>\n",
       "    .dataframe tbody tr th:only-of-type {\n",
       "        vertical-align: middle;\n",
       "    }\n",
       "\n",
       "    .dataframe tbody tr th {\n",
       "        vertical-align: top;\n",
       "    }\n",
       "\n",
       "    .dataframe thead th {\n",
       "        text-align: right;\n",
       "    }\n",
       "</style>\n",
       "<table border=\"1\" class=\"dataframe\">\n",
       "  <thead>\n",
       "    <tr style=\"text-align: right;\">\n",
       "      <th></th>\n",
       "      <th>customer_id</th>\n",
       "      <th>country</th>\n",
       "    </tr>\n",
       "  </thead>\n",
       "  <tbody>\n",
       "    <tr>\n",
       "      <th>0</th>\n",
       "      <td>000274f21c484b0eb4960d7955599eac</td>\n",
       "      <td>Rwanda</td>\n",
       "    </tr>\n",
       "    <tr>\n",
       "      <th>1</th>\n",
       "      <td>e9b6a22319c3cd42fa3626f1c62c7bce</td>\n",
       "      <td>Rwanda</td>\n",
       "    </tr>\n",
       "    <tr>\n",
       "      <th>2</th>\n",
       "      <td>4d81dd9eac599f1c8217abaa943f1036</td>\n",
       "      <td>Rwanda</td>\n",
       "    </tr>\n",
       "    <tr>\n",
       "      <th>3</th>\n",
       "      <td>a9b40b68557bcaddb79868d99f99dcec</td>\n",
       "      <td>Rwanda</td>\n",
       "    </tr>\n",
       "    <tr>\n",
       "      <th>4</th>\n",
       "      <td>218e4514a303e0054b1cf52fcf7cc54d</td>\n",
       "      <td>Rwanda</td>\n",
       "    </tr>\n",
       "    <tr>\n",
       "      <th>...</th>\n",
       "      <td>...</td>\n",
       "      <td>...</td>\n",
       "    </tr>\n",
       "    <tr>\n",
       "      <th>219084</th>\n",
       "      <td>c7ce66ccbb4b645bb95fe34d02a34259</td>\n",
       "      <td>Rwanda</td>\n",
       "    </tr>\n",
       "    <tr>\n",
       "      <th>219085</th>\n",
       "      <td>11085e2972a1452bb30e9372637eb0f6</td>\n",
       "      <td>Kenya</td>\n",
       "    </tr>\n",
       "    <tr>\n",
       "      <th>219086</th>\n",
       "      <td>c0b65c39f9795e015173ebe2940d6c9c</td>\n",
       "      <td>Kenya</td>\n",
       "    </tr>\n",
       "    <tr>\n",
       "      <th>219087</th>\n",
       "      <td>2b906aeae02a498d65f341efa8687a22</td>\n",
       "      <td>Rwanda</td>\n",
       "    </tr>\n",
       "    <tr>\n",
       "      <th>219088</th>\n",
       "      <td>f202f3c7e4ed739c53f228f58f3f877a</td>\n",
       "      <td>Kenya</td>\n",
       "    </tr>\n",
       "  </tbody>\n",
       "</table>\n",
       "<p>219089 rows × 2 columns</p>\n",
       "</div>"
      ],
      "text/plain": [
       "                             customer_id country\n",
       "0       000274f21c484b0eb4960d7955599eac  Rwanda\n",
       "1       e9b6a22319c3cd42fa3626f1c62c7bce  Rwanda\n",
       "2       4d81dd9eac599f1c8217abaa943f1036  Rwanda\n",
       "3       a9b40b68557bcaddb79868d99f99dcec  Rwanda\n",
       "4       218e4514a303e0054b1cf52fcf7cc54d  Rwanda\n",
       "...                                  ...     ...\n",
       "219084  c7ce66ccbb4b645bb95fe34d02a34259  Rwanda\n",
       "219085  11085e2972a1452bb30e9372637eb0f6   Kenya\n",
       "219086  c0b65c39f9795e015173ebe2940d6c9c   Kenya\n",
       "219087  2b906aeae02a498d65f341efa8687a22  Rwanda\n",
       "219088  f202f3c7e4ed739c53f228f58f3f877a   Kenya\n",
       "\n",
       "[219089 rows x 2 columns]"
      ]
     },
     "execution_count": 13,
     "metadata": {},
     "output_type": "execute_result"
    }
   ],
   "source": [
    "validID_Intersect = validID_Intersect.merge(validID_CustInfo[['customer_id', 'country']], how = 'left', on = 'customer_id')\n",
    "validID_Intersect"
   ]
  },
  {
   "cell_type": "markdown",
   "id": "e8f4ccfe-89e3-4592-94d6-35db9e32f482",
   "metadata": {},
   "source": [
    "---\n",
    "# Sampling Implementation & Recording"
   ]
  },
  {
   "cell_type": "markdown",
   "id": "10aff318-3ee2-491d-9e3c-1e088f051bf9",
   "metadata": {},
   "source": [
    " Split by counrty and do 3x 10k, non-intersecting."
   ]
  },
  {
   "cell_type": "code",
   "execution_count": 14,
   "id": "ecd73d28-3d8f-4ba8-84b8-1669d0e356f7",
   "metadata": {},
   "outputs": [],
   "source": [
    "def random_sampler (df_in, sample_size, n_samples, sample_name, country = None):\n",
    "    df_out = df_in.copy(deep=True)\n",
    "    df_out[sample_name] = 0\n",
    "    #Filter by country\n",
    "    if country:\n",
    "        df_in = df_in[df_in['country'] == country]\n",
    "    \n",
    "    used_ids = []\n",
    "    for s in range(1, n_samples + 1):\n",
    "        #Sample within list of IDs still available\n",
    "        sampled_ids = df_in[~df_in['customer_id'].isin(used_ids)].sample(n=sample_size, replace=False, random_state=42).customer_id.values\n",
    "        #Record sampled IDs in sampling column\n",
    "        df_out[sample_name] = np.where(df_out['customer_id'].isin(sampled_ids), s, df_out[sample_name])\n",
    "        #Add sampled IDs to list of used IDs\n",
    "        used_ids.append(sampled_ids)\n",
    "        used_ids = list(flatten(used_ids))\n",
    "           \n",
    "    return df_out"
   ]
  },
  {
   "cell_type": "code",
   "execution_count": 15,
   "id": "00d8d724-21e6-403c-8dbe-9dc76b29abea",
   "metadata": {},
   "outputs": [],
   "source": [
    "ID_Sampling = validID_Intersect.copy(deep=True)"
   ]
  },
  {
   "cell_type": "code",
   "execution_count": 30,
   "id": "2dbf8185-9fa2-48cf-840c-80631583b902",
   "metadata": {
    "tags": []
   },
   "outputs": [],
   "source": [
    "ID_Sampling = random_sampler (ID_Sampling, sample_size= 10000, n_samples = 3, sample_name = 'Rwanda_10k', country = 'Rwanda')"
   ]
  },
  {
   "cell_type": "code",
   "execution_count": 31,
   "id": "51459818-641b-4777-9815-fcfdbf35092b",
   "metadata": {},
   "outputs": [
    {
     "data": {
      "text/html": [
       "<div>\n",
       "<style scoped>\n",
       "    .dataframe tbody tr th:only-of-type {\n",
       "        vertical-align: middle;\n",
       "    }\n",
       "\n",
       "    .dataframe tbody tr th {\n",
       "        vertical-align: top;\n",
       "    }\n",
       "\n",
       "    .dataframe thead th {\n",
       "        text-align: right;\n",
       "    }\n",
       "</style>\n",
       "<table border=\"1\" class=\"dataframe\">\n",
       "  <thead>\n",
       "    <tr style=\"text-align: right;\">\n",
       "      <th></th>\n",
       "      <th>customer_id</th>\n",
       "      <th>country</th>\n",
       "      <th>Kenya_10k</th>\n",
       "      <th>Rwanda_10k</th>\n",
       "    </tr>\n",
       "  </thead>\n",
       "  <tbody>\n",
       "    <tr>\n",
       "      <th>0</th>\n",
       "      <td>000274f21c484b0eb4960d7955599eac</td>\n",
       "      <td>Rwanda</td>\n",
       "      <td>0</td>\n",
       "      <td>0</td>\n",
       "    </tr>\n",
       "    <tr>\n",
       "      <th>1</th>\n",
       "      <td>e9b6a22319c3cd42fa3626f1c62c7bce</td>\n",
       "      <td>Rwanda</td>\n",
       "      <td>0</td>\n",
       "      <td>0</td>\n",
       "    </tr>\n",
       "    <tr>\n",
       "      <th>2</th>\n",
       "      <td>4d81dd9eac599f1c8217abaa943f1036</td>\n",
       "      <td>Rwanda</td>\n",
       "      <td>0</td>\n",
       "      <td>0</td>\n",
       "    </tr>\n",
       "    <tr>\n",
       "      <th>3</th>\n",
       "      <td>a9b40b68557bcaddb79868d99f99dcec</td>\n",
       "      <td>Rwanda</td>\n",
       "      <td>0</td>\n",
       "      <td>0</td>\n",
       "    </tr>\n",
       "    <tr>\n",
       "      <th>4</th>\n",
       "      <td>218e4514a303e0054b1cf52fcf7cc54d</td>\n",
       "      <td>Rwanda</td>\n",
       "      <td>0</td>\n",
       "      <td>0</td>\n",
       "    </tr>\n",
       "    <tr>\n",
       "      <th>...</th>\n",
       "      <td>...</td>\n",
       "      <td>...</td>\n",
       "      <td>...</td>\n",
       "      <td>...</td>\n",
       "    </tr>\n",
       "    <tr>\n",
       "      <th>219084</th>\n",
       "      <td>c7ce66ccbb4b645bb95fe34d02a34259</td>\n",
       "      <td>Rwanda</td>\n",
       "      <td>0</td>\n",
       "      <td>0</td>\n",
       "    </tr>\n",
       "    <tr>\n",
       "      <th>219085</th>\n",
       "      <td>11085e2972a1452bb30e9372637eb0f6</td>\n",
       "      <td>Kenya</td>\n",
       "      <td>0</td>\n",
       "      <td>0</td>\n",
       "    </tr>\n",
       "    <tr>\n",
       "      <th>219086</th>\n",
       "      <td>c0b65c39f9795e015173ebe2940d6c9c</td>\n",
       "      <td>Kenya</td>\n",
       "      <td>0</td>\n",
       "      <td>0</td>\n",
       "    </tr>\n",
       "    <tr>\n",
       "      <th>219087</th>\n",
       "      <td>2b906aeae02a498d65f341efa8687a22</td>\n",
       "      <td>Rwanda</td>\n",
       "      <td>0</td>\n",
       "      <td>2</td>\n",
       "    </tr>\n",
       "    <tr>\n",
       "      <th>219088</th>\n",
       "      <td>f202f3c7e4ed739c53f228f58f3f877a</td>\n",
       "      <td>Kenya</td>\n",
       "      <td>0</td>\n",
       "      <td>0</td>\n",
       "    </tr>\n",
       "  </tbody>\n",
       "</table>\n",
       "<p>219089 rows × 4 columns</p>\n",
       "</div>"
      ],
      "text/plain": [
       "                             customer_id country  Kenya_10k  Rwanda_10k\n",
       "0       000274f21c484b0eb4960d7955599eac  Rwanda          0           0\n",
       "1       e9b6a22319c3cd42fa3626f1c62c7bce  Rwanda          0           0\n",
       "2       4d81dd9eac599f1c8217abaa943f1036  Rwanda          0           0\n",
       "3       a9b40b68557bcaddb79868d99f99dcec  Rwanda          0           0\n",
       "4       218e4514a303e0054b1cf52fcf7cc54d  Rwanda          0           0\n",
       "...                                  ...     ...        ...         ...\n",
       "219084  c7ce66ccbb4b645bb95fe34d02a34259  Rwanda          0           0\n",
       "219085  11085e2972a1452bb30e9372637eb0f6   Kenya          0           0\n",
       "219086  c0b65c39f9795e015173ebe2940d6c9c   Kenya          0           0\n",
       "219087  2b906aeae02a498d65f341efa8687a22  Rwanda          0           2\n",
       "219088  f202f3c7e4ed739c53f228f58f3f877a   Kenya          0           0\n",
       "\n",
       "[219089 rows x 4 columns]"
      ]
     },
     "execution_count": 31,
     "metadata": {},
     "output_type": "execute_result"
    }
   ],
   "source": [
    "ID_Sampling"
   ]
  },
  {
   "cell_type": "markdown",
   "id": "dcbc6232-f2a9-49b5-be87-057e7e61f4ec",
   "metadata": {},
   "source": [
    "---\n",
    "# Reference ID List"
   ]
  },
  {
   "cell_type": "code",
   "execution_count": 32,
   "id": "eaa6f6cb-0d44-402a-bcef-ef50b1dab08b",
   "metadata": {},
   "outputs": [],
   "source": [
    "Ref_IDs = ID_Sampling.copy(deep=True)\n",
    "Ref_IDs.drop(columns=['country'], inplace = True)"
   ]
  },
  {
   "cell_type": "code",
   "execution_count": 33,
   "id": "038e2902-c9b4-4fe2-9f67-44ee6824c8d6",
   "metadata": {},
   "outputs": [],
   "source": [
    "# Order of operations\n",
    "# 1) Adding start_date columns as a reference for new short_ID order\n",
    "# 2) Sort by start_date to ensure order, ignore index to create new IDs\n",
    "# 3) Reset Index to use new index as the short_IDs\n",
    "# 4) Drop start_date as it's no longer needed\n",
    "Ref_IDs = Ref_IDs.merge(Customer_Info[['customer_id', 'start_date']], how= 'left', on= 'customer_id').sort_values(by=['start_date'], ignore_index=True).reset_index(names='short_ID').drop(columns=['start_date'])\n",
    "# Setting 1st ID to 1\n",
    "Ref_IDs['short_ID'] = Ref_IDs['short_ID'] + 1"
   ]
  },
  {
   "cell_type": "code",
   "execution_count": 34,
   "id": "03c86cdf-4b48-4d71-90ba-8c71805b6399",
   "metadata": {},
   "outputs": [
    {
     "data": {
      "text/html": [
       "<div>\n",
       "<style scoped>\n",
       "    .dataframe tbody tr th:only-of-type {\n",
       "        vertical-align: middle;\n",
       "    }\n",
       "\n",
       "    .dataframe tbody tr th {\n",
       "        vertical-align: top;\n",
       "    }\n",
       "\n",
       "    .dataframe thead th {\n",
       "        text-align: right;\n",
       "    }\n",
       "</style>\n",
       "<table border=\"1\" class=\"dataframe\">\n",
       "  <thead>\n",
       "    <tr style=\"text-align: right;\">\n",
       "      <th></th>\n",
       "      <th>short_ID</th>\n",
       "      <th>customer_id</th>\n",
       "      <th>Kenya_10k</th>\n",
       "      <th>Rwanda_10k</th>\n",
       "    </tr>\n",
       "  </thead>\n",
       "  <tbody>\n",
       "    <tr>\n",
       "      <th>0</th>\n",
       "      <td>1</td>\n",
       "      <td>689aa5a01c216d8b16ed0250cebdc702</td>\n",
       "      <td>0</td>\n",
       "      <td>0</td>\n",
       "    </tr>\n",
       "    <tr>\n",
       "      <th>1</th>\n",
       "      <td>2</td>\n",
       "      <td>21a06929d23550339ee18d98b6e05fc2</td>\n",
       "      <td>0</td>\n",
       "      <td>2</td>\n",
       "    </tr>\n",
       "    <tr>\n",
       "      <th>2</th>\n",
       "      <td>3</td>\n",
       "      <td>ea8df9172e5ad7ce79b77bada66d3e3e</td>\n",
       "      <td>0</td>\n",
       "      <td>0</td>\n",
       "    </tr>\n",
       "    <tr>\n",
       "      <th>3</th>\n",
       "      <td>4</td>\n",
       "      <td>fe7e11989f267560ff76e3323b0250e0</td>\n",
       "      <td>0</td>\n",
       "      <td>2</td>\n",
       "    </tr>\n",
       "    <tr>\n",
       "      <th>4</th>\n",
       "      <td>5</td>\n",
       "      <td>c9514b2f4933a409cdc480511ef9137b</td>\n",
       "      <td>0</td>\n",
       "      <td>0</td>\n",
       "    </tr>\n",
       "  </tbody>\n",
       "</table>\n",
       "</div>"
      ],
      "text/plain": [
       "   short_ID                       customer_id  Kenya_10k  Rwanda_10k\n",
       "0         1  689aa5a01c216d8b16ed0250cebdc702          0           0\n",
       "1         2  21a06929d23550339ee18d98b6e05fc2          0           2\n",
       "2         3  ea8df9172e5ad7ce79b77bada66d3e3e          0           0\n",
       "3         4  fe7e11989f267560ff76e3323b0250e0          0           2\n",
       "4         5  c9514b2f4933a409cdc480511ef9137b          0           0"
      ]
     },
     "execution_count": 34,
     "metadata": {},
     "output_type": "execute_result"
    }
   ],
   "source": [
    "Ref_IDs.head()"
   ]
  },
  {
   "cell_type": "markdown",
   "id": "3b8ab4a8-941f-4132-9aad-a53c20e6632f",
   "metadata": {},
   "source": [
    "---\n",
    "# Filtered Datasets"
   ]
  },
  {
   "cell_type": "code",
   "execution_count": 21,
   "id": "64126894-7e57-435b-8321-e4881fae685f",
   "metadata": {},
   "outputs": [],
   "source": [
    "Filtered_CredHist = Raw_CredHist[Raw_CredHist['customer_id'].isin(Ref_IDs['customer_id'].unique())]"
   ]
  },
  {
   "cell_type": "code",
   "execution_count": 22,
   "id": "37cbd799-7622-477b-9670-badd2c8a9969",
   "metadata": {},
   "outputs": [],
   "source": [
    "Filtered_CredHist = Filtered_CredHist.merge(Ref_IDs[['customer_id', 'short_ID']], how = 'left', on = 'customer_id')"
   ]
  },
  {
   "cell_type": "code",
   "execution_count": 23,
   "id": "dd60ecd2-4173-43dc-873b-ca8443430bf8",
   "metadata": {},
   "outputs": [],
   "source": [
    "Filtered_CredHist['date_timestamp'] =  pd.to_datetime(Filtered_CredHist['date_timestamp'])\n",
    "Filtered_CredHist['date_timestamp'] = Filtered_CredHist['date_timestamp'].dt.date    \n",
    "Filtered_CredHist.rename(columns={\"date_timestamp\": \"date\"}, inplace = True)"
   ]
  },
  {
   "cell_type": "code",
   "execution_count": 24,
   "id": "cb4feb07-7d80-4f3c-b1c3-54a30b3418f1",
   "metadata": {},
   "outputs": [],
   "source": [
    "Filtered_CredHist.sort_values(by = ['short_ID', 'date'], ignore_index=True, inplace=True)"
   ]
  },
  {
   "cell_type": "code",
   "execution_count": 25,
   "id": "add6349b-57ad-484f-86b8-25f103ce08e0",
   "metadata": {},
   "outputs": [],
   "source": [
    "Filtered_CredHist.drop(columns=['customer_id'], inplace=True)"
   ]
  },
  {
   "cell_type": "code",
   "execution_count": 26,
   "id": "bb007017-6fbb-418f-ad3e-6a9becd7387e",
   "metadata": {},
   "outputs": [],
   "source": [
    "cols = Filtered_CredHist.columns.tolist()\n",
    "cols = cols[-1:] + cols[:-1]\n",
    "Filtered_CredHist = Filtered_CredHist[cols]"
   ]
  },
  {
   "cell_type": "code",
   "execution_count": 27,
   "id": "59584b48-d16d-40ab-b1f8-d111681c2573",
   "metadata": {},
   "outputs": [
    {
     "name": "stdout",
     "output_type": "stream",
     "text": [
      "<class 'pandas.core.frame.DataFrame'>\n",
      "RangeIndex: 179592709 entries, 0 to 179592708\n",
      "Data columns (total 3 columns):\n",
      " #   Column             Dtype  \n",
      "---  ------             -----  \n",
      " 0   short_ID           int64  \n",
      " 1   date               object \n",
      " 2   total_ontime_left  float64\n",
      "dtypes: float64(1), int64(1), object(1)\n",
      "memory usage: 4.0+ GB\n"
     ]
    }
   ],
   "source": [
    "Filtered_CredHist.info()"
   ]
  },
  {
   "cell_type": "code",
   "execution_count": 28,
   "id": "a5966cb5-d617-458e-87b9-1f1fb2ef5366",
   "metadata": {},
   "outputs": [
    {
     "name": "stdout",
     "output_type": "stream",
     "text": [
      "<class 'pandas.core.frame.DataFrame'>\n",
      "RangeIndex: 191652046 entries, 0 to 191652045\n",
      "Data columns (total 3 columns):\n",
      " #   Column             Dtype  \n",
      "---  ------             -----  \n",
      " 0   customer_id        object \n",
      " 1   date_timestamp     object \n",
      " 2   total_ontime_left  float64\n",
      "dtypes: float64(1), object(2)\n",
      "memory usage: 4.3+ GB\n"
     ]
    }
   ],
   "source": [
    "Raw_CredHist.info()"
   ]
  },
  {
   "cell_type": "markdown",
   "id": "202a87ad-9e4b-4cbb-b55d-74e6e8daea12",
   "metadata": {},
   "source": [
    "---\n",
    "# Saving Outputs"
   ]
  },
  {
   "cell_type": "code",
   "execution_count": 35,
   "id": "0f6ffb07-a058-4b3a-b8b6-5323edc430c1",
   "metadata": {},
   "outputs": [],
   "source": [
    "# Ref_IDs.to_csv('Data/FilteredIDs/Reference_ID_List.csv', index = False)"
   ]
  },
  {
   "cell_type": "code",
   "execution_count": 36,
   "id": "f103a6b0-5fcf-469a-b8dc-fd3e90aac0ec",
   "metadata": {},
   "outputs": [],
   "source": [
    "# Filtered_CredHist.to_csv('Data/FilteredIDs/TS_FilIDsSet_CredHist_V1.csv', index = False)"
   ]
  },
  {
   "cell_type": "code",
   "execution_count": null,
   "id": "49204593-428a-4a28-9812-01a6bc7b264a",
   "metadata": {},
   "outputs": [],
   "source": []
  }
 ],
 "metadata": {
  "kernelspec": {
   "display_name": "Python 3 (ipykernel)",
   "language": "python",
   "name": "python3"
  },
  "language_info": {
   "codemirror_mode": {
    "name": "ipython",
    "version": 3
   },
   "file_extension": ".py",
   "mimetype": "text/x-python",
   "name": "python",
   "nbconvert_exporter": "python",
   "pygments_lexer": "ipython3",
   "version": "3.9.15"
  }
 },
 "nbformat": 4,
 "nbformat_minor": 5
}
