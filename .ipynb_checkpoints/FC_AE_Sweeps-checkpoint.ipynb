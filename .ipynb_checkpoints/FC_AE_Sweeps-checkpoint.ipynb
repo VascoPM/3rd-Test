{
 "cells": [
  {
   "cell_type": "markdown",
   "id": "799e2b5a-775a-49d6-98af-53d20db4394f",
   "metadata": {},
   "source": [
    "# Fully Connected Auto-Encoder wb Sweeps\n",
    "### $Time$ $Series$ $3rd$ $Test$\n",
    "\n",
    "$Vasco$ $Mergulhão$ $-$ $Jan$ $2023$\n",
    "\n",
    "### Version 1:\n",
    " - Applies Weights and Biases Sweeps on a given Sub-Sample.\n",
    " - Only uses FC-AE architectures"
   ]
  },
  {
   "cell_type": "markdown",
   "id": "14e09955-8b34-471f-9666-6be4c3d7d84b",
   "metadata": {
    "tags": []
   },
   "source": [
    "### ANN Configurations:"
   ]
  },
  {
   "cell_type": "markdown",
   "id": "7006642b-d7cf-492d-912c-7b3ba615f4df",
   "metadata": {
    "tags": []
   },
   "source": [
    "- #### Architecture(s)\n",
    "    - Fully Connected Auto Encoder\n",
    "        - Small (Input, 200, 200, LatDim)\n",
    "        - Medium (Input, 300, 300, 300, 300, LatDim)\n",
    "        - N2D [other papers orig ref] (Input, 500, 500, 2000, LatDim)\n",
    "    \n",
    "- #### Hyperparamenters\n",
    "    - Latent Space Size\n",
    "    - Batch Size\n",
    "        - Small test [2 - 32] and Large test [128 - 256]\n",
    "    - Learning Rate\n",
    "    - Learning Rate Scheduler\n",
    "        - Performance Schedulling\n",
    "    - Activation Functions\n",
    "        - SELU and Leaky ReLU\n",
    "    - Initializations\n",
    "        - LeCun and He (accordingly)\n",
    "    - Batch Normalization\n",
    "        - With/Without tests (note: if data is not z-scored, SELU not worth it, downgrade to ELU)\n",
    "    - Optimizers\n",
    "        - Nadam and SDG(momentum [0.9], Nesterov)\n",
    "    - Epochs\n",
    "        - 100 with Early Stopping\n",
    " "
   ]
  },
  {
   "cell_type": "markdown",
   "id": "6f1205a3-bfeb-40f8-9106-b3598695acb6",
   "metadata": {},
   "source": [
    "---\n",
    "# "
   ]
  },
  {
   "cell_type": "code",
   "execution_count": 1,
   "id": "f50a0cab-db27-40d4-be64-2087fe36b97b",
   "metadata": {},
   "outputs": [],
   "source": [
    "import os\n",
    "import random\n",
    "\n",
    "import pandas as pd\n",
    "import numpy as np\n",
    "import matplotlib.pyplot as plt\n",
    "from datetime import timedelta, date\n",
    "import time\n",
    "import datetime\n",
    "import scipy\n",
    "\n",
    "import tensorflow as tf\n",
    "from tensorflow.keras.models import Sequential\n",
    "from tensorflow.keras.layers import Dense, Input, LeakyReLU, Activation\n",
    "from tensorflow.keras.callbacks import LambdaCallback\n",
    "from tensorflow import keras\n",
    "\n",
    "import wandb\n",
    "from wandb.keras import WandbCallback\n",
    "\n",
    "from sklearn.model_selection import train_test_split"
   ]
  },
  {
   "cell_type": "markdown",
   "id": "c6c19390-b3cd-49c5-82dc-b0618be84be2",
   "metadata": {},
   "source": [
    "---\n",
    "# Script Variables"
   ]
  },
  {
   "cell_type": "code",
   "execution_count": 2,
   "id": "b3e07d23-de4a-4f84-8ce5-fcad4e8db1b3",
   "metadata": {},
   "outputs": [],
   "source": [
    "# Defines Dataset for the Sweep\n",
    "dataset_name = 'Kenya_10k_Set_1_w90'\n",
    "\n",
    "# Uses name to navigate folders\n",
    "dataset_folder = \"_\".join(dataset_name.split('_')[:-1]) #Takes out window length section\n",
    "dataset_location = f'../Data/{dataset_folder}/{dataset_name}.csv'\n",
    "\n",
    "# Zcore Data Decision\n",
    "zscore_data = True # Set to: [True/False]\n",
    "zscore_data_done = False # Always set to False. Ensures its not normalized multiple times\n",
    "\n",
    "# Model Name and Variables\n",
    "AE_Model_Name = 'FC_N2D' # Options: FC_Small, FC_Medium, FC_N2D\n",
    "latent_layer_size = 25\n",
    "\n",
    "# Sweep Names and Configurations\n",
    "Project_Name = f'FC_AE-{dataset_name}'\n",
    "Sweep_Config = f'{AE_Model_Name}_v2'\n",
    "sweep_count = 6\n",
    "use_running_sweep_id = False # Set to: [True/False]\n",
    "running_sweep_id = 'ikwjt20r'\n"
   ]
  },
  {
   "cell_type": "code",
   "execution_count": 3,
   "id": "fe15b696-cd03-4bd7-a797-f8e276c060ee",
   "metadata": {},
   "outputs": [],
   "source": [
    "def window_col_names(dataset_name, win_prefix = 'd'):\n",
    "    # retriving window length\n",
    "    window_len = int(dataset_name.split('_')[-1][1:]) # Gets _wXX part of name, then skips 'w' to get the number.\n",
    "    # defining window column names\n",
    "    window_cols = [None]*window_len\n",
    "    for i  in range(window_len):\n",
    "        window_cols[i] = f'{win_prefix}' + str(i+1)\n",
    "        \n",
    "    return window_cols"
   ]
  },
  {
   "cell_type": "markdown",
   "id": "7ca547fe-2021-407d-8320-d9ec73a568f4",
   "metadata": {},
   "source": [
    "---\n",
    "# Data Imports"
   ]
  },
  {
   "cell_type": "code",
   "execution_count": 4,
   "id": "e4d676bb-96d7-4a9f-aeaf-ef9075048f1a",
   "metadata": {},
   "outputs": [],
   "source": [
    "Data = pd.read_csv(dataset_location)"
   ]
  },
  {
   "cell_type": "code",
   "execution_count": 5,
   "id": "c2e44bea-432d-4334-8680-51ad57b071d3",
   "metadata": {},
   "outputs": [
    {
     "data": {
      "text/html": [
       "<div>\n",
       "<style scoped>\n",
       "    .dataframe tbody tr th:only-of-type {\n",
       "        vertical-align: middle;\n",
       "    }\n",
       "\n",
       "    .dataframe tbody tr th {\n",
       "        vertical-align: top;\n",
       "    }\n",
       "\n",
       "    .dataframe thead th {\n",
       "        text-align: right;\n",
       "    }\n",
       "</style>\n",
       "<table border=\"1\" class=\"dataframe\">\n",
       "  <thead>\n",
       "    <tr style=\"text-align: right;\">\n",
       "      <th></th>\n",
       "      <th>short_ID</th>\n",
       "      <th>window_ID</th>\n",
       "      <th>window_start_date</th>\n",
       "      <th>d1</th>\n",
       "      <th>d2</th>\n",
       "      <th>d3</th>\n",
       "      <th>d4</th>\n",
       "      <th>d5</th>\n",
       "      <th>d6</th>\n",
       "      <th>d7</th>\n",
       "      <th>...</th>\n",
       "      <th>d81</th>\n",
       "      <th>d82</th>\n",
       "      <th>d83</th>\n",
       "      <th>d84</th>\n",
       "      <th>d85</th>\n",
       "      <th>d86</th>\n",
       "      <th>d87</th>\n",
       "      <th>d88</th>\n",
       "      <th>d89</th>\n",
       "      <th>d90</th>\n",
       "    </tr>\n",
       "  </thead>\n",
       "  <tbody>\n",
       "    <tr>\n",
       "      <th>0</th>\n",
       "      <td>347</td>\n",
       "      <td>0</td>\n",
       "      <td>2018-01-19</td>\n",
       "      <td>15.422222</td>\n",
       "      <td>14.422222</td>\n",
       "      <td>13.422222</td>\n",
       "      <td>12.422222</td>\n",
       "      <td>11.422222</td>\n",
       "      <td>10.422222</td>\n",
       "      <td>9.422222</td>\n",
       "      <td>...</td>\n",
       "      <td>8.696088</td>\n",
       "      <td>6.709653</td>\n",
       "      <td>6.696088</td>\n",
       "      <td>5.696088</td>\n",
       "      <td>3.730243</td>\n",
       "      <td>3.696088</td>\n",
       "      <td>1.740706</td>\n",
       "      <td>0.744016</td>\n",
       "      <td>-7.000000</td>\n",
       "      <td>-7.000000</td>\n",
       "    </tr>\n",
       "    <tr>\n",
       "      <th>1</th>\n",
       "      <td>347</td>\n",
       "      <td>1</td>\n",
       "      <td>2018-04-19</td>\n",
       "      <td>6.475880</td>\n",
       "      <td>4.490544</td>\n",
       "      <td>4.475880</td>\n",
       "      <td>3.475880</td>\n",
       "      <td>2.475880</td>\n",
       "      <td>1.475880</td>\n",
       "      <td>-7.000000</td>\n",
       "      <td>...</td>\n",
       "      <td>-7.000000</td>\n",
       "      <td>-7.000000</td>\n",
       "      <td>-7.000000</td>\n",
       "      <td>-7.000000</td>\n",
       "      <td>-7.000000</td>\n",
       "      <td>-7.000000</td>\n",
       "      <td>-7.000000</td>\n",
       "      <td>6.634468</td>\n",
       "      <td>5.634468</td>\n",
       "      <td>4.634468</td>\n",
       "    </tr>\n",
       "    <tr>\n",
       "      <th>2</th>\n",
       "      <td>347</td>\n",
       "      <td>2</td>\n",
       "      <td>2018-07-18</td>\n",
       "      <td>3.634468</td>\n",
       "      <td>2.634468</td>\n",
       "      <td>1.634468</td>\n",
       "      <td>3.634468</td>\n",
       "      <td>2.634468</td>\n",
       "      <td>1.634468</td>\n",
       "      <td>0.634468</td>\n",
       "      <td>...</td>\n",
       "      <td>4.762303</td>\n",
       "      <td>3.762303</td>\n",
       "      <td>2.762303</td>\n",
       "      <td>1.762303</td>\n",
       "      <td>0.762303</td>\n",
       "      <td>5.762303</td>\n",
       "      <td>4.762303</td>\n",
       "      <td>3.762303</td>\n",
       "      <td>2.762303</td>\n",
       "      <td>1.762303</td>\n",
       "    </tr>\n",
       "    <tr>\n",
       "      <th>3</th>\n",
       "      <td>347</td>\n",
       "      <td>3</td>\n",
       "      <td>2018-10-16</td>\n",
       "      <td>0.762303</td>\n",
       "      <td>1.762303</td>\n",
       "      <td>0.762303</td>\n",
       "      <td>2.762303</td>\n",
       "      <td>1.762303</td>\n",
       "      <td>1.762303</td>\n",
       "      <td>0.762303</td>\n",
       "      <td>...</td>\n",
       "      <td>3.553345</td>\n",
       "      <td>2.553345</td>\n",
       "      <td>1.553345</td>\n",
       "      <td>0.553345</td>\n",
       "      <td>-7.000000</td>\n",
       "      <td>6.646019</td>\n",
       "      <td>5.646019</td>\n",
       "      <td>4.646019</td>\n",
       "      <td>3.646019</td>\n",
       "      <td>2.646019</td>\n",
       "    </tr>\n",
       "    <tr>\n",
       "      <th>4</th>\n",
       "      <td>347</td>\n",
       "      <td>4</td>\n",
       "      <td>2019-01-14</td>\n",
       "      <td>1.646019</td>\n",
       "      <td>0.646019</td>\n",
       "      <td>2.646019</td>\n",
       "      <td>1.646019</td>\n",
       "      <td>0.646019</td>\n",
       "      <td>2.646019</td>\n",
       "      <td>1.646019</td>\n",
       "      <td>...</td>\n",
       "      <td>0.613681</td>\n",
       "      <td>2.613681</td>\n",
       "      <td>1.613681</td>\n",
       "      <td>1.613681</td>\n",
       "      <td>0.613681</td>\n",
       "      <td>1.613681</td>\n",
       "      <td>2.613681</td>\n",
       "      <td>1.613681</td>\n",
       "      <td>1.613681</td>\n",
       "      <td>0.613681</td>\n",
       "    </tr>\n",
       "  </tbody>\n",
       "</table>\n",
       "<p>5 rows × 93 columns</p>\n",
       "</div>"
      ],
      "text/plain": [
       "   short_ID  window_ID window_start_date         d1         d2         d3  \\\n",
       "0       347          0        2018-01-19  15.422222  14.422222  13.422222   \n",
       "1       347          1        2018-04-19   6.475880   4.490544   4.475880   \n",
       "2       347          2        2018-07-18   3.634468   2.634468   1.634468   \n",
       "3       347          3        2018-10-16   0.762303   1.762303   0.762303   \n",
       "4       347          4        2019-01-14   1.646019   0.646019   2.646019   \n",
       "\n",
       "          d4         d5         d6        d7  ...       d81       d82  \\\n",
       "0  12.422222  11.422222  10.422222  9.422222  ...  8.696088  6.709653   \n",
       "1   3.475880   2.475880   1.475880 -7.000000  ... -7.000000 -7.000000   \n",
       "2   3.634468   2.634468   1.634468  0.634468  ...  4.762303  3.762303   \n",
       "3   2.762303   1.762303   1.762303  0.762303  ...  3.553345  2.553345   \n",
       "4   1.646019   0.646019   2.646019  1.646019  ...  0.613681  2.613681   \n",
       "\n",
       "        d83       d84       d85       d86       d87       d88       d89  \\\n",
       "0  6.696088  5.696088  3.730243  3.696088  1.740706  0.744016 -7.000000   \n",
       "1 -7.000000 -7.000000 -7.000000 -7.000000 -7.000000  6.634468  5.634468   \n",
       "2  2.762303  1.762303  0.762303  5.762303  4.762303  3.762303  2.762303   \n",
       "3  1.553345  0.553345 -7.000000  6.646019  5.646019  4.646019  3.646019   \n",
       "4  1.613681  1.613681  0.613681  1.613681  2.613681  1.613681  1.613681   \n",
       "\n",
       "        d90  \n",
       "0 -7.000000  \n",
       "1  4.634468  \n",
       "2  1.762303  \n",
       "3  2.646019  \n",
       "4  0.613681  \n",
       "\n",
       "[5 rows x 93 columns]"
      ]
     },
     "execution_count": 5,
     "metadata": {},
     "output_type": "execute_result"
    }
   ],
   "source": [
    "Data.head()"
   ]
  },
  {
   "cell_type": "markdown",
   "id": "eb22a99b-63a5-47de-87c3-958d69e56835",
   "metadata": {},
   "source": [
    "---\n",
    "# Z-Scoring Data"
   ]
  },
  {
   "cell_type": "markdown",
   "id": "7ff0a0ae-c31b-481c-a53c-f8129bd22b9c",
   "metadata": {},
   "source": [
    "This is done on a row-by-row basis.<br>\n",
    "Meaning, each window is normalized to its own Mean and Std."
   ]
  },
  {
   "cell_type": "code",
   "execution_count": 6,
   "id": "2ea02565-391e-4725-b43a-46a17341b862",
   "metadata": {},
   "outputs": [],
   "source": [
    "def Zscore (df_in, all_neg_replace = -1):\n",
    "    # retriving sets of columns\n",
    "    window_cols = window_col_names(dataset_name)        \n",
    "    cols = df_in.columns.to_list()\n",
    "    other_cols = list(set(cols) - set(window_cols))\n",
    "    \n",
    "    # Zscore can't handle constant (flat) inputs\n",
    "    # Therefore windows with all negative credit output NaNs\n",
    "    # Instead these are excluded from zcoring and are manually scaled\n",
    "    # Default scalling is  -7 => -1\n",
    "    all_neg_replace = float(all_neg_replace)\n",
    "    all_neg_index = df_in[(df_in[window_cols] == float(-7)).all(axis=1)].index\n",
    "    positive_index = list(set(df_in.index.to_list()) - set(all_neg_index))\n",
    "    \n",
    "    if len(all_neg_index.to_list()) > 0:\n",
    "        # Aux DF for replacing -7 with all_neg_replace (i.e, -1)\n",
    "        df_allneg = df_in.iloc[all_neg_index].copy()\n",
    "        df_allneg.loc[:, window_cols] = all_neg_replace\n",
    "\n",
    "        # Zscoring only non-constant rows\n",
    "        df_positive = df_in.iloc[positive_index].copy()    \n",
    "        df_positive[window_cols] = scipy.stats.zscore(df_positive[window_cols],\n",
    "                                                         axis=1,\n",
    "                                                         nan_policy = 'omit')\n",
    "\n",
    "        df_zscore = pd.concat([df_positive, df_allneg])\n",
    "        df_zscore.sort_values(by=['short_ID', 'window_ID'], inplace = True)\n",
    "\n",
    "        # If indeces match, then the join was successful\n",
    "        if df_zscore.index.to_list() == df_in.index.to_list():\n",
    "            return df_zscore\n",
    "        # Otherwise raise error\n",
    "        else:\n",
    "            print('Error Zscoring')\n",
    "    else:\n",
    "        df_zscore = pd.DataFrame(columns= cols)\n",
    "        df_zscore[window_cols] = scipy.stats.zscore(df_in[window_cols],\n",
    "                                                         axis=1,\n",
    "                                                         nan_policy = 'omit')\n",
    "        df_zscore[other_cols] = df_in[other_cols]\n",
    "        \n",
    "\n",
    "    return df_zscore"
   ]
  },
  {
   "cell_type": "code",
   "execution_count": 7,
   "id": "9f2bca9c-8742-4b7a-a5b4-ec637272e675",
   "metadata": {},
   "outputs": [
    {
     "name": "stdout",
     "output_type": "stream",
     "text": [
      "Data WAS Zscored\n"
     ]
    }
   ],
   "source": [
    "if zscore_data == True and zscore_data_done == False:\n",
    "    Data = Zscore(Data)\n",
    "    zscore_data_done = True\n",
    "    print('Data WAS Zscored')\n",
    "    \n",
    "elif zscore_data == True and zscore_data_done == True:\n",
    "    print('Already WAS Zscored')\n",
    "    \n",
    "elif zscore_data == False:\n",
    "    print('Data NOT Zscored')\n",
    "    \n",
    "else:\n",
    "    print('Error')"
   ]
  },
  {
   "cell_type": "markdown",
   "id": "15f984b1-5915-45f6-86a6-72e2b243dec4",
   "metadata": {},
   "source": [
    "---\n",
    "# NaN Checks and Policy"
   ]
  },
  {
   "cell_type": "code",
   "execution_count": 8,
   "id": "583359ae-90fb-4ff8-8ed5-7e3f2349d74d",
   "metadata": {},
   "outputs": [],
   "source": [
    "def NaN_policy (df, method_fullrows = 'ffill', method_sparserows = 'ffill'):\n",
    "    # This functions checks and corrects NaNs.\n",
    "    # It has redundancy built into it to double check for NaNs.\n",
    "    # And allows for different policies for sparse NaN values and rows full of NaNs.\n",
    "    \n",
    "    df = df.copy(deep=True)\n",
    "    window_cols = window_col_names(dataset_name)\n",
    "        \n",
    "    if df[window_cols].isna().any().any():\n",
    "        print('NaN values detected.')\n",
    "        \n",
    "        nan_exist = True\n",
    "        i = 0   \n",
    "        while nan_exist:\n",
    "            \n",
    "            # Makes sure the policy only iterates with one redundant round.\n",
    "            if i >= 2:\n",
    "                print('NaN Policy Failed')\n",
    "                break            \n",
    "\n",
    "            #Checking if there are rows with only NaNs\n",
    "            if df[window_cols].isna().all(axis=1).any():\n",
    "                n_nan_rows = len(df[df[window_cols].isna().all(axis=1)])\n",
    "                print(f'There are {n_nan_rows} rows of all NaN values.')\n",
    "\n",
    "                #Correcting only NaN rows \n",
    "                df.fillna(method= method_fullrows, axis = 0, inplace = True)\n",
    "                if ~ df[window_cols].isna().all(axis=1).any():\n",
    "                    print(f'Rows of NaN corrected')\n",
    "                    if ~ df[window_cols].isna().any().any():\n",
    "                        nan_exist = False\n",
    "                        print(f'NaNs no longer detected.')\n",
    "            \n",
    "            #Checking if there are rows with any NaNs in them\n",
    "            if df[window_cols].isna().any(axis=1).any():\n",
    "                n_nan_rows = len(df[window_cols].isna().any(axis=1))\n",
    "                print(f'There are {n_nan_rows} rows with some NaN values.')\n",
    "                \n",
    "                # Correcting NaN inside rows \n",
    "                df.fillna(method= method_sparserows, axis = 1, inplace = True)\n",
    "                if ~ df[window_cols].isna().any(axis=1).any():\n",
    "                    print(f'Rows with some NaN were corrected')\n",
    "                    if ~ df[window_cols].isna().any().any():\n",
    "                        nan_exist = False\n",
    "                        print(f'NaNs no longer detected.')\n",
    "\n",
    "            i += 1\n",
    "            \n",
    "\n",
    "    else:\n",
    "        print('No NaNs detected')\n",
    "        \n",
    "    return df"
   ]
  },
  {
   "cell_type": "code",
   "execution_count": 9,
   "id": "eb3b3c66-6ba6-4834-8f7c-1d65706fb9b5",
   "metadata": {},
   "outputs": [
    {
     "name": "stdout",
     "output_type": "stream",
     "text": [
      "NaN values detected.\n",
      "There are 22 rows of all NaN values.\n",
      "Rows of NaN corrected\n",
      "NaNs no longer detected.\n"
     ]
    }
   ],
   "source": [
    "Data = NaN_policy(Data)"
   ]
  },
  {
   "cell_type": "markdown",
   "id": "9f32c5ba-c5cd-429f-83b1-04802f37c7aa",
   "metadata": {},
   "source": [
    "---\n",
    "# Train-Test Split"
   ]
  },
  {
   "cell_type": "code",
   "execution_count": 10,
   "id": "d11e337e-ea76-4f36-8103-84be3dda4ed8",
   "metadata": {},
   "outputs": [],
   "source": [
    "window_cols = window_col_names(dataset_name)\n",
    "data_array = Data[window_cols].to_numpy()"
   ]
  },
  {
   "cell_type": "code",
   "execution_count": 11,
   "id": "9fe373fa-c589-484a-979f-7bb8f0a2674f",
   "metadata": {},
   "outputs": [],
   "source": [
    "x_train, x_test = train_test_split(data_array, test_size=0.2, random_state=42)"
   ]
  },
  {
   "cell_type": "markdown",
   "id": "e72bc06f-26b7-4bc1-9200-b5a7b65a8e1e",
   "metadata": {
    "tags": []
   },
   "source": [
    "---\n",
    "# WandB Sweep Config\n",
    "https://github.com/wandb/examples/blob/master/colabs/keras/Keras_param_opti_using_sweeps.ipynb\n"
   ]
  },
  {
   "cell_type": "code",
   "execution_count": 12,
   "id": "f2e3e110-cecc-4b2e-ad62-a72a0932aa42",
   "metadata": {},
   "outputs": [
    {
     "name": "stderr",
     "output_type": "stream",
     "text": [
      "\u001b[34m\u001b[1mwandb\u001b[0m: Currently logged in as: \u001b[33mvasco-mergulhao\u001b[0m (\u001b[33mvasco-phd\u001b[0m). Use \u001b[1m`wandb login --relogin`\u001b[0m to force relogin\n"
     ]
    },
    {
     "data": {
      "text/plain": [
       "True"
      ]
     },
     "execution_count": 12,
     "metadata": {},
     "output_type": "execute_result"
    }
   ],
   "source": [
    "wandb.login()"
   ]
  },
  {
   "cell_type": "markdown",
   "id": "ba57bc94-c803-41bc-a1a8-c8b3be884590",
   "metadata": {},
   "source": [
    "---\n",
    "---\n",
    "# Model & Sweep Configurations"
   ]
  },
  {
   "cell_type": "markdown",
   "id": "f36d8021-e521-447d-addb-21d8d35727b0",
   "metadata": {},
   "source": [
    "## Generic Training Functions"
   ]
  },
  {
   "cell_type": "code",
   "execution_count": 13,
   "id": "1f342333-502d-4d47-b4c9-dec9e4901246",
   "metadata": {},
   "outputs": [],
   "source": [
    "def get_initialization (activation_fn = 'SELU'):\n",
    "    # Select right initialization for respective activation function between SELU and LeakyReLU\n",
    "    if activation_fn.lower() == \"selu\":\n",
    "        return 'lecun_normal'\n",
    "    if activation_fn.lower() == \"leakyrelu\":\n",
    "        return 'he_normal'"
   ]
  },
  {
   "cell_type": "code",
   "execution_count": 14,
   "id": "cfdd6e5c-b329-4a02-9d10-72f568141656",
   "metadata": {},
   "outputs": [],
   "source": [
    "def get_activation_fn (activation_fn = 'SELU'):\n",
    "    # Select right initialization for respective activation function between SELU and LeakyReLU\n",
    "    if activation_fn.lower() == \"selu\":\n",
    "        return Activation('selu')\n",
    "    if activation_fn.lower() == \"leakyrelu\":\n",
    "        return LeakyReLU(alpha=0.2)"
   ]
  },
  {
   "cell_type": "code",
   "execution_count": 15,
   "id": "025ad319-1962-4e46-91a9-daa10e338c08",
   "metadata": {},
   "outputs": [],
   "source": [
    "def get_optimizer(lr=0.0001, optimizer=\"nadam\"):\n",
    "    # Select optmizer between adam and sgd\n",
    "    if optimizer.lower() == \"nadam\":\n",
    "        return tf.keras.optimizers.Nadam(learning_rate=lr, beta_1=0.9, beta_2=0.999)\n",
    "    if optimizer.lower() == \"sgd\":\n",
    "        return tf.keras.optimizers.SGD(learning_rate=lr, momentum=0.9, nesterov=True)"
   ]
  },
  {
   "cell_type": "code",
   "execution_count": 16,
   "id": "596c3d61-c6f1-42a8-847f-a81cc5e73e47",
   "metadata": {},
   "outputs": [],
   "source": [
    "def train(model, batch_size= 32, epochs= 100, lr=0.001, optimizer='nadam'):  \n",
    "    \n",
    "    tf.keras.backend.clear_session()\n",
    "    model.compile(loss=\"mse\", \n",
    "                  optimizer=get_optimizer(lr, optimizer), \n",
    "                  metrics=[\"mse\"])\n",
    "\n",
    "    early_stopping_cb = tf.keras.callbacks.EarlyStopping(patience=10, restore_best_weights=True)\n",
    "    lr_scheduler_cb = keras.callbacks.ReduceLROnPlateau(factor=0.5, patience=5)\n",
    "\n",
    "    model.fit(x_train, \n",
    "              x_train, \n",
    "              batch_size=batch_size, \n",
    "              epochs=epochs, \n",
    "              validation_data=(x_test, x_test), \n",
    "              callbacks=[WandbCallback(), early_stopping_cb, lr_scheduler_cb])\n",
    "    \n",
    "    "
   ]
  },
  {
   "cell_type": "code",
   "execution_count": 17,
   "id": "77e4713a-6b32-4bc1-8afd-4f93c9bd73a3",
   "metadata": {},
   "outputs": [],
   "source": [
    "def sweep_train(config_defaults=None):\n",
    "    # Initialize wandb with a sample project name\n",
    "    with wandb.init(config=config_defaults):  # this gets over-written in the Sweep\n",
    "\n",
    "        # Specify the other hyperparameters to the configuration\n",
    "        wandb.config.architecture_name = AE_Model_Name\n",
    "        wandb.config.dataset_name = dataset_name\n",
    "\n",
    "        # initialize model\n",
    "        if AE_Model_Name == 'FC_Small':\n",
    "            AE_model = Small_AE(wandb.config.window_length,\n",
    "                            wandb.config.latent_layer_size,\n",
    "                            wandb.config.activation_fn)\n",
    "        if AE_Model_Name == 'FC_Medium':\n",
    "            AE_model = Medium_AE(wandb.config.window_length,\n",
    "                            wandb.config.latent_layer_size,\n",
    "                            wandb.config.activation_fn)\n",
    "            \n",
    "        if AE_Model_Name == 'FC_N2D':\n",
    "            AE_model = N2D_AE(wandb.config.window_length,\n",
    "                            wandb.config.latent_layer_size,\n",
    "                            wandb.config.activation_fn)    \n",
    "            \n",
    "\n",
    "        train(AE_model, \n",
    "              wandb.config.batch_size, \n",
    "              wandb.config.epochs,\n",
    "              wandb.config.learning_rate,\n",
    "              wandb.config.optimizer)\n",
    "        \n"
   ]
  },
  {
   "cell_type": "markdown",
   "id": "e34188b9-3983-439e-b1ea-8929a5f0b6b8",
   "metadata": {
    "tags": []
   },
   "source": [
    "## FC_Small\n",
    "- (Input, 200, 200, Enconder)"
   ]
  },
  {
   "cell_type": "markdown",
   "id": "6a63ead0-4dc6-4265-aeaf-f6983bb85f77",
   "metadata": {},
   "source": [
    "### Sweep Configuration"
   ]
  },
  {
   "cell_type": "code",
   "execution_count": 18,
   "id": "ce7cfdf2-4a03-44a5-9640-018ee011075f",
   "metadata": {},
   "outputs": [
    {
     "name": "stdout",
     "output_type": "stream",
     "text": [
      "NOT Active\n"
     ]
    }
   ],
   "source": [
    "if AE_Model_Name == 'FC_Small':\n",
    "    \n",
    "    sweep_config = {\n",
    "    'method': 'random',\n",
    "    'name': Sweep_Config,\n",
    "    }\n",
    "    \n",
    "    metric = {\n",
    "    'name': 'mse',\n",
    "    'goal': 'minimize'\n",
    "    }\n",
    "    sweep_config['metric'] = metric\n",
    "    \n",
    "    parameters_dict = {\n",
    "        'optimizer': {\n",
    "            'values': ['nadam', 'sgd']\n",
    "        },\n",
    "        'latent_layer_size': {\n",
    "            'value': latent_layer_size #previous [values: [5, 10, 25]\n",
    "        },\n",
    "        'epochs':{\n",
    "            'value': 100\n",
    "        },\n",
    "        'window_length':{\n",
    "            'value': int(dataset_name.split('_')[-1][1:])\n",
    "        },\n",
    "        'activation_fn':{\n",
    "            'values': ['SELU','LeakyReLU']\n",
    "        }\n",
    "    }\n",
    "    sweep_config['parameters'] = parameters_dict\n",
    "    \n",
    "    parameters_dict.update({\n",
    "        'learning_rate': {\n",
    "            # a flat distribution between 0 and 0.1\n",
    "            'distribution': 'log_uniform_values',\n",
    "            'min': 0.001,\n",
    "            'max': 0.1,\n",
    "          },\n",
    "        'batch_size': {\n",
    "            # integers between 2 and 256\n",
    "            # with evenly-distributed logarithms \n",
    "            'distribution': 'q_log_uniform_values',\n",
    "            'q': 2,\n",
    "            'min': 2,\n",
    "            'max': 256,\n",
    "          }\n",
    "        })\n",
    "    print('Code Used')\n",
    "else:\n",
    "    print('NOT Active')"
   ]
  },
  {
   "cell_type": "markdown",
   "id": "f449e26d-42a9-4b10-86d0-2a2fb63ee390",
   "metadata": {},
   "source": [
    "### _Model_: FC_Small"
   ]
  },
  {
   "cell_type": "code",
   "execution_count": 19,
   "id": "7cc65c45-3dc7-405a-a6e0-d6128c122369",
   "metadata": {},
   "outputs": [],
   "source": [
    "def Small_AE(window_length = 90, latent_layer_size = 5, activation_fn = 'SELU'):\n",
    "    \n",
    "    inputs = Input(shape= window_length)\n",
    "    \n",
    "    layer_e1 = Dense(200, activation = get_activation_fn(activation_fn),\n",
    "                     kernel_initializer=get_initialization(activation_fn))(inputs)\n",
    "    \n",
    "    layer_e2 = Dense(200, activation = get_activation_fn(activation_fn),\n",
    "                     kernel_initializer=get_initialization(activation_fn))(layer_e1)\n",
    "    #Latent Space (no activation)\n",
    "    encoded = Dense(latent_layer_size)(layer_e2)\n",
    "       \n",
    "    layer_d1 = Dense(200, activation = get_activation_fn(activation_fn),\n",
    "                     kernel_initializer=get_initialization(activation_fn))(encoded)\n",
    "    \n",
    "    layer_d2 = Dense(200, activation = get_activation_fn(activation_fn),\n",
    "                     kernel_initializer=get_initialization(activation_fn))(layer_d1)\n",
    "    \n",
    "    decoded = Dense(window_length)(layer_d2)\n",
    "       \n",
    "    autoencoder = keras.models.Model(inputs=inputs, outputs = decoded)\n",
    "    \n",
    "    return autoencoder   "
   ]
  },
  {
   "cell_type": "code",
   "execution_count": 20,
   "id": "a1127cac-d620-4cb3-a215-9ad3783dfcd8",
   "metadata": {},
   "outputs": [
    {
     "name": "stdout",
     "output_type": "stream",
     "text": [
      "NOT Active\n"
     ]
    }
   ],
   "source": [
    "if AE_Model_Name == 'FC_Small':\n",
    "    AE_model = Small_AE(latent_layer_size = latent_layer_size)\n",
    "    AE_model.summary()\n",
    "    print('Code Used')\n",
    "else:\n",
    "    print('NOT Active')    "
   ]
  },
  {
   "cell_type": "markdown",
   "id": "9b794a12-d1c9-4431-9617-9c657459ca34",
   "metadata": {
    "tags": []
   },
   "source": [
    "---\n",
    "## FC_Medium\n",
    "-  (Input, 300, 300, 300, 300, Encoder)"
   ]
  },
  {
   "cell_type": "markdown",
   "id": "bba8fca6-fa8a-46ad-9ab0-e6c8e1056c3d",
   "metadata": {},
   "source": [
    "### Sweep Configuration"
   ]
  },
  {
   "cell_type": "code",
   "execution_count": 21,
   "id": "a55d409b-eedc-4fac-ab0f-49b728ee60b4",
   "metadata": {},
   "outputs": [
    {
     "name": "stdout",
     "output_type": "stream",
     "text": [
      "NOT Active\n"
     ]
    }
   ],
   "source": [
    "if AE_Model_Name == 'FC_Medium':\n",
    "    \n",
    "    sweep_config = {\n",
    "    'method': 'random',\n",
    "    'name': Sweep_Config,\n",
    "    }\n",
    "    \n",
    "    metric = {\n",
    "    'name': 'mse',\n",
    "    'goal': 'minimize'\n",
    "    }\n",
    "    sweep_config['metric'] = metric\n",
    "\n",
    "    parameters_dict = {\n",
    "        'optimizer': {\n",
    "            'values': ['nadam', 'sgd']\n",
    "        },\n",
    "        'latent_layer_size': {\n",
    "            'value': latent_layer_size #previous [values: [5, 10, 25]\n",
    "        },\n",
    "        'epochs':{\n",
    "            'value': 100\n",
    "        },\n",
    "        'window_length':{\n",
    "            'value': int(dataset_name.split('_')[-1][1:])\n",
    "        },\n",
    "        'activation_fn':{\n",
    "            'values': ['SELU','LeakyReLU']\n",
    "        }\n",
    "    }\n",
    "    sweep_config['parameters'] = parameters_dict\n",
    "    \n",
    "    parameters_dict.update({\n",
    "        'learning_rate': {\n",
    "            # a flat distribution between 0 and 0.1\n",
    "            'distribution': 'log_uniform_values',\n",
    "            'min': 0.00001, #v_1 = 0.001\n",
    "            'max': 0.001, #v_1 = 0.1\n",
    "          },\n",
    "        'batch_size': {\n",
    "            # integers between 2 and 256\n",
    "            # with evenly-distributed logarithms \n",
    "            'distribution': 'q_log_uniform_values',\n",
    "            'q': 2,\n",
    "            'min': 20, #v_1 = 2\n",
    "            'max': 256,\n",
    "          }\n",
    "        })\n",
    "    print('Code Used')\n",
    "else:\n",
    "    print('NOT Active')"
   ]
  },
  {
   "cell_type": "markdown",
   "id": "3da4a35b-57b6-4790-b425-61225df17e55",
   "metadata": {},
   "source": [
    "### _Model_: FC_Medium"
   ]
  },
  {
   "cell_type": "code",
   "execution_count": 22,
   "id": "4aa7b91c-5bfe-472b-b74e-80be8a00e6e4",
   "metadata": {},
   "outputs": [],
   "source": [
    "def Medium_AE(window_length = 90, latent_layer_size = 5, activation_fn = 'SELU'):\n",
    "    \n",
    "    inputs = Input(shape= window_length)\n",
    "    \n",
    "    layer_e1 = Dense(300, activation = get_activation_fn(activation_fn),\n",
    "                     kernel_initializer=get_initialization(activation_fn))(inputs)    \n",
    "    layer_e2 = Dense(300, activation = get_activation_fn(activation_fn),\n",
    "                     kernel_initializer=get_initialization(activation_fn))(layer_e1)    \n",
    "    layer_e3 = Dense(300, activation = get_activation_fn(activation_fn),\n",
    "                     kernel_initializer=get_initialization(activation_fn))(layer_e2)    \n",
    "    layer_e4 = Dense(300, activation = get_activation_fn(activation_fn),\n",
    "                     kernel_initializer=get_initialization(activation_fn))(layer_e3)\n",
    "    #Latent Space (no activation)\n",
    "    encoded = Dense(latent_layer_size)(layer_e4)\n",
    "       \n",
    "    layer_d1 = Dense(300, activation = get_activation_fn(activation_fn),\n",
    "                     kernel_initializer=get_initialization(activation_fn))(encoded)\n",
    "    layer_d2 = Dense(300, activation = get_activation_fn(activation_fn),\n",
    "                     kernel_initializer=get_initialization(activation_fn))(layer_d1)\n",
    "    layer_d3 = Dense(300, activation = get_activation_fn(activation_fn),\n",
    "                     kernel_initializer=get_initialization(activation_fn))(layer_d2)\n",
    "    layer_d4 = Dense(300, activation = get_activation_fn(activation_fn),\n",
    "                     kernel_initializer=get_initialization(activation_fn))(layer_d3)    \n",
    "    decoded = Dense(window_length)(layer_d4)\n",
    "       \n",
    "    autoencoder = keras.models.Model(inputs=inputs, outputs = decoded)\n",
    "    \n",
    "    return autoencoder   "
   ]
  },
  {
   "cell_type": "code",
   "execution_count": 23,
   "id": "4adff6b2-6952-44ea-887f-7095a637e7a7",
   "metadata": {},
   "outputs": [
    {
     "name": "stdout",
     "output_type": "stream",
     "text": [
      "NOT Active\n"
     ]
    }
   ],
   "source": [
    "if AE_Model_Name == 'FC_Medium':\n",
    "    AE_model = Medium_AE(latent_layer_size = latent_layer_size)\n",
    "    AE_model.summary()\n",
    "    print('Code Used')\n",
    "else:\n",
    "    print('NOT Active')"
   ]
  },
  {
   "cell_type": "markdown",
   "id": "1f149a2d-d45f-4a42-b6ff-1f309345fd13",
   "metadata": {
    "tags": []
   },
   "source": [
    "---\n",
    "## FC_N2D\n",
    "-  (Input, 500, 500, 2000, LatDim)"
   ]
  },
  {
   "cell_type": "markdown",
   "id": "6a30ca51-70a7-4ed9-9eed-c7c489dba306",
   "metadata": {},
   "source": [
    "### Sweep Configuration"
   ]
  },
  {
   "cell_type": "code",
   "execution_count": 24,
   "id": "4f5c175e-bfaf-4562-88a8-451fe1920ee1",
   "metadata": {},
   "outputs": [
    {
     "name": "stdout",
     "output_type": "stream",
     "text": [
      "Code Used\n"
     ]
    }
   ],
   "source": [
    "if AE_Model_Name == 'FC_N2D':\n",
    "    \n",
    "    sweep_config = {\n",
    "    'method': 'random',\n",
    "    'name': Sweep_Config,\n",
    "    }\n",
    "    \n",
    "    metric = {\n",
    "    'name': 'mse',\n",
    "    'goal': 'minimize'\n",
    "    }\n",
    "    sweep_config['metric'] = metric\n",
    "\n",
    "    parameters_dict = {\n",
    "        'optimizer': {\n",
    "            'values': ['nadam', 'sgd']\n",
    "        },\n",
    "        'latent_layer_size': {\n",
    "            'value': latent_layer_size #previous [values: [5, 10, 25]\n",
    "        },\n",
    "        'epochs':{\n",
    "            'value': 100\n",
    "        },\n",
    "        'window_length':{\n",
    "            'value': int(dataset_name.split('_')[-1][1:])\n",
    "        },\n",
    "        'activation_fn':{\n",
    "            'values': ['SELU','LeakyReLU']\n",
    "        }\n",
    "    }\n",
    "    sweep_config['parameters'] = parameters_dict\n",
    "    \n",
    "    parameters_dict.update({\n",
    "        'learning_rate': {\n",
    "            # a flat distribution between 0 and 0.1\n",
    "            'distribution': 'log_uniform_values',\n",
    "            'min': 0.00001, #v_1 = 0.001\n",
    "            'max': 0.01, #v_1 = 0.1\n",
    "          },\n",
    "        'batch_size': {\n",
    "            # integers between 2 and 256\n",
    "            # with evenly-distributed logarithms \n",
    "            'distribution': 'q_log_uniform_values',\n",
    "            'q': 2,\n",
    "            'min': 20, #v_1 = 2\n",
    "            'max': 256,\n",
    "          }\n",
    "        })\n",
    "    print('Code Used')\n",
    "else:\n",
    "    print('NOT Active')"
   ]
  },
  {
   "cell_type": "markdown",
   "id": "4b46e47a-8620-41c6-b462-093d8d920621",
   "metadata": {},
   "source": [
    "### _Model_: FC_N2D"
   ]
  },
  {
   "cell_type": "code",
   "execution_count": 25,
   "id": "3164362c-a4c6-4fd7-be8d-8643d4a3e505",
   "metadata": {},
   "outputs": [],
   "source": [
    "def N2D_AE(window_length = 90, latent_layer_size = 5, activation_fn = 'SELU'):\n",
    "    \n",
    "    inputs = Input(shape= window_length)\n",
    "    \n",
    "    layer_e1 = Dense(500, activation = get_activation_fn(activation_fn),\n",
    "                     kernel_initializer=get_initialization(activation_fn))(inputs)    \n",
    "    layer_e2 = Dense(500, activation = get_activation_fn(activation_fn),\n",
    "                     kernel_initializer=get_initialization(activation_fn))(layer_e1)    \n",
    "    layer_e3 = Dense(2000, activation = get_activation_fn(activation_fn),\n",
    "                     kernel_initializer=get_initialization(activation_fn))(layer_e2)    \n",
    "    #Latent Space (no activation)\n",
    "    encoded = Dense(latent_layer_size)(layer_e3)\n",
    "       \n",
    "    layer_d1 = Dense(2000, activation = get_activation_fn(activation_fn),\n",
    "                     kernel_initializer=get_initialization(activation_fn))(encoded)\n",
    "    layer_d2 = Dense(500, activation = get_activation_fn(activation_fn),\n",
    "                     kernel_initializer=get_initialization(activation_fn))(layer_d1)\n",
    "    layer_d3 = Dense(500, activation = get_activation_fn(activation_fn),\n",
    "                     kernel_initializer=get_initialization(activation_fn))(layer_d2)\n",
    "    # Output Layer, no activation function\n",
    "    decoded = Dense(window_length)(layer_d3)\n",
    "       \n",
    "    autoencoder = keras.models.Model(inputs=inputs, outputs = decoded)\n",
    "    \n",
    "    return autoencoder   "
   ]
  },
  {
   "cell_type": "code",
   "execution_count": 26,
   "id": "2f1a4f6a-f78d-4808-a890-03f6018e84a2",
   "metadata": {},
   "outputs": [
    {
     "name": "stdout",
     "output_type": "stream",
     "text": [
      "Model: \"model\"\n",
      "_________________________________________________________________\n",
      " Layer (type)                Output Shape              Param #   \n",
      "=================================================================\n",
      " input_1 (InputLayer)        [(None, 90)]              0         \n",
      "                                                                 \n",
      " dense (Dense)               (None, 500)               45500     \n",
      "                                                                 \n",
      " dense_1 (Dense)             (None, 500)               250500    \n",
      "                                                                 \n",
      " dense_2 (Dense)             (None, 2000)              1002000   \n",
      "                                                                 \n",
      " dense_3 (Dense)             (None, 25)                50025     \n",
      "                                                                 \n",
      " dense_4 (Dense)             (None, 2000)              52000     \n",
      "                                                                 \n",
      " dense_5 (Dense)             (None, 500)               1000500   \n",
      "                                                                 \n",
      " dense_6 (Dense)             (None, 500)               250500    \n",
      "                                                                 \n",
      " dense_7 (Dense)             (None, 90)                45090     \n",
      "                                                                 \n",
      "=================================================================\n",
      "Total params: 2,696,115\n",
      "Trainable params: 2,696,115\n",
      "Non-trainable params: 0\n",
      "_________________________________________________________________\n",
      "Code Used\n"
     ]
    }
   ],
   "source": [
    "if AE_Model_Name == 'FC_N2D':\n",
    "    AE_model = N2D_AE(latent_layer_size = latent_layer_size)\n",
    "    AE_model.summary()\n",
    "    print('Code Used')\n",
    "else:\n",
    "    print('NOT Active')"
   ]
  },
  {
   "cell_type": "markdown",
   "id": "e75e2102-26fb-4e24-978e-856983cbf259",
   "metadata": {},
   "source": [
    "---\n",
    "---\n",
    "# Run Sweep"
   ]
  },
  {
   "cell_type": "code",
   "execution_count": 27,
   "id": "be1f0f15-f71d-4da8-8319-4104432b20f0",
   "metadata": {},
   "outputs": [
    {
     "name": "stdout",
     "output_type": "stream",
     "text": [
      "Create sweep with ID: wzqhgcrr\n",
      "Sweep URL: https://wandb.ai/vasco-phd/FC_AE-Kenya_10k_Set_1_w90/sweeps/wzqhgcrr\n"
     ]
    }
   ],
   "source": [
    "if use_running_sweep_id == True:\n",
    "    sweep_id = running_sweep_id\n",
    "    print(f'Using sweep ID: {sweep_id}')\n",
    "    print(f'Sweep URL: https://wandb.ai/vasco-phd/{Project_Name}/sweeps/{sweep_id}')\n",
    "else:\n",
    "    sweep_id = wandb.sweep(sweep_config, project = Project_Name)"
   ]
  },
  {
   "cell_type": "code",
   "execution_count": null,
   "id": "5417746c-6cc3-4e07-9b8a-b8b9293d7017",
   "metadata": {
    "tags": []
   },
   "outputs": [
    {
     "name": "stderr",
     "output_type": "stream",
     "text": [
      "\u001b[34m\u001b[1mwandb\u001b[0m: Agent Starting Run: fjblhm7d with config:\n",
      "\u001b[34m\u001b[1mwandb\u001b[0m: \tactivation_fn: LeakyReLU\n",
      "\u001b[34m\u001b[1mwandb\u001b[0m: \tbatch_size: 56\n",
      "\u001b[34m\u001b[1mwandb\u001b[0m: \tepochs: 100\n",
      "\u001b[34m\u001b[1mwandb\u001b[0m: \tlatent_layer_size: 25\n",
      "\u001b[34m\u001b[1mwandb\u001b[0m: \tlearning_rate: 2.9090873261091745e-05\n",
      "\u001b[34m\u001b[1mwandb\u001b[0m: \toptimizer: nadam\n",
      "\u001b[34m\u001b[1mwandb\u001b[0m: \twindow_length: 90\n"
     ]
    },
    {
     "data": {
      "text/html": [
       "wandb version 0.13.10 is available!  To upgrade, please run:\n",
       " $ pip install wandb --upgrade"
      ],
      "text/plain": [
       "<IPython.core.display.HTML object>"
      ]
     },
     "metadata": {},
     "output_type": "display_data"
    },
    {
     "data": {
      "text/html": [
       "Tracking run with wandb version 0.13.6"
      ],
      "text/plain": [
       "<IPython.core.display.HTML object>"
      ]
     },
     "metadata": {},
     "output_type": "display_data"
    },
    {
     "data": {
      "text/html": [
       "Run data is saved locally in <code>C:\\Users\\ucesvpm\\OneDrive - University College London\\PhD Project\\Data Analytics\\Time Series Clustering\\Third Test\\Time-Series-PhD\\wandb\\run-20230227_122253-fjblhm7d</code>"
      ],
      "text/plain": [
       "<IPython.core.display.HTML object>"
      ]
     },
     "metadata": {},
     "output_type": "display_data"
    },
    {
     "data": {
      "text/html": [
       "Syncing run <strong><a href=\"https://wandb.ai/vasco-phd/FC_AE-Kenya_10k_Set_1_w90/runs/fjblhm7d\" target=\"_blank\">firm-sweep-1</a></strong> to <a href=\"https://wandb.ai/vasco-phd/FC_AE-Kenya_10k_Set_1_w90\" target=\"_blank\">Weights & Biases</a> (<a href=\"https://wandb.me/run\" target=\"_blank\">docs</a>)<br/>Sweep page:  <a href=\"https://wandb.ai/vasco-phd/FC_AE-Kenya_10k_Set_1_w90/sweeps/wzqhgcrr\" target=\"_blank\">https://wandb.ai/vasco-phd/FC_AE-Kenya_10k_Set_1_w90/sweeps/wzqhgcrr</a>"
      ],
      "text/plain": [
       "<IPython.core.display.HTML object>"
      ]
     },
     "metadata": {},
     "output_type": "display_data"
    },
    {
     "name": "stderr",
     "output_type": "stream",
     "text": [
      "\u001b[34m\u001b[1mwandb\u001b[0m: \u001b[33mWARNING\u001b[0m The save_model argument by default saves the model in the HDF5 format that cannot save custom objects like subclassed models and custom layers. This behavior will be deprecated in a future release in favor of the SavedModel format. Meanwhile, the HDF5 model is saved as W&B files and the SavedModel as W&B Artifacts.\n"
     ]
    },
    {
     "name": "stdout",
     "output_type": "stream",
     "text": [
      "Epoch 1/100\n",
      "1264/1265 [============================>.] - ETA: 0s - loss: 0.5769 - mse: 0.5769"
     ]
    },
    {
     "name": "stderr",
     "output_type": "stream",
     "text": [
      "WARNING:absl:Found untraced functions such as leaky_re_lu_layer_call_fn, leaky_re_lu_layer_call_and_return_conditional_losses, leaky_re_lu_1_layer_call_fn, leaky_re_lu_1_layer_call_and_return_conditional_losses, leaky_re_lu_2_layer_call_fn while saving (showing 5 of 12). These functions will not be directly callable after loading.\n"
     ]
    },
    {
     "name": "stdout",
     "output_type": "stream",
     "text": [
      "INFO:tensorflow:Assets written to: C:\\Users\\ucesvpm\\OneDrive - University College London\\PhD Project\\Data Analytics\\Time Series Clustering\\Third Test\\Time-Series-PhD\\wandb\\run-20230227_122253-fjblhm7d\\files\\model-best\\assets\n"
     ]
    },
    {
     "name": "stderr",
     "output_type": "stream",
     "text": [
      "INFO:tensorflow:Assets written to: C:\\Users\\ucesvpm\\OneDrive - University College London\\PhD Project\\Data Analytics\\Time Series Clustering\\Third Test\\Time-Series-PhD\\wandb\\run-20230227_122253-fjblhm7d\\files\\model-best\\assets\n",
      "\u001b[34m\u001b[1mwandb\u001b[0m: Adding directory to artifact (C:\\Users\\ucesvpm\\OneDrive - University College London\\PhD Project\\Data Analytics\\Time Series Clustering\\Third Test\\Time-Series-PhD\\wandb\\run-20230227_122253-fjblhm7d\\files\\model-best)... Done. 0.3s\n"
     ]
    },
    {
     "name": "stdout",
     "output_type": "stream",
     "text": [
      "1265/1265 [==============================] - 28s 21ms/step - loss: 0.5767 - mse: 0.5767 - val_loss: 0.3906 - val_mse: 0.3906 - lr: 2.9091e-05\n",
      "Epoch 2/100\n",
      "1263/1265 [============================>.] - ETA: 0s - loss: 0.3510 - mse: 0.3510"
     ]
    },
    {
     "name": "stderr",
     "output_type": "stream",
     "text": [
      "WARNING:absl:Found untraced functions such as leaky_re_lu_layer_call_fn, leaky_re_lu_layer_call_and_return_conditional_losses, leaky_re_lu_1_layer_call_fn, leaky_re_lu_1_layer_call_and_return_conditional_losses, leaky_re_lu_2_layer_call_fn while saving (showing 5 of 12). These functions will not be directly callable after loading.\n"
     ]
    },
    {
     "name": "stdout",
     "output_type": "stream",
     "text": [
      "INFO:tensorflow:Assets written to: C:\\Users\\ucesvpm\\OneDrive - University College London\\PhD Project\\Data Analytics\\Time Series Clustering\\Third Test\\Time-Series-PhD\\wandb\\run-20230227_122253-fjblhm7d\\files\\model-best\\assets\n"
     ]
    },
    {
     "name": "stderr",
     "output_type": "stream",
     "text": [
      "INFO:tensorflow:Assets written to: C:\\Users\\ucesvpm\\OneDrive - University College London\\PhD Project\\Data Analytics\\Time Series Clustering\\Third Test\\Time-Series-PhD\\wandb\\run-20230227_122253-fjblhm7d\\files\\model-best\\assets\n",
      "\u001b[34m\u001b[1mwandb\u001b[0m: Adding directory to artifact (C:\\Users\\ucesvpm\\OneDrive - University College London\\PhD Project\\Data Analytics\\Time Series Clustering\\Third Test\\Time-Series-PhD\\wandb\\run-20230227_122253-fjblhm7d\\files\\model-best)... Done. 0.2s\n"
     ]
    },
    {
     "name": "stdout",
     "output_type": "stream",
     "text": [
      "1265/1265 [==============================] - 29s 23ms/step - loss: 0.3509 - mse: 0.3509 - val_loss: 0.3313 - val_mse: 0.3313 - lr: 2.9091e-05\n",
      "Epoch 3/100\n",
      "1264/1265 [============================>.] - ETA: 0s - loss: 0.3161 - mse: 0.3161"
     ]
    },
    {
     "name": "stderr",
     "output_type": "stream",
     "text": [
      "WARNING:absl:Found untraced functions such as leaky_re_lu_layer_call_fn, leaky_re_lu_layer_call_and_return_conditional_losses, leaky_re_lu_1_layer_call_fn, leaky_re_lu_1_layer_call_and_return_conditional_losses, leaky_re_lu_2_layer_call_fn while saving (showing 5 of 12). These functions will not be directly callable after loading.\n"
     ]
    },
    {
     "name": "stdout",
     "output_type": "stream",
     "text": [
      "INFO:tensorflow:Assets written to: C:\\Users\\ucesvpm\\OneDrive - University College London\\PhD Project\\Data Analytics\\Time Series Clustering\\Third Test\\Time-Series-PhD\\wandb\\run-20230227_122253-fjblhm7d\\files\\model-best\\assets\n"
     ]
    },
    {
     "name": "stderr",
     "output_type": "stream",
     "text": [
      "INFO:tensorflow:Assets written to: C:\\Users\\ucesvpm\\OneDrive - University College London\\PhD Project\\Data Analytics\\Time Series Clustering\\Third Test\\Time-Series-PhD\\wandb\\run-20230227_122253-fjblhm7d\\files\\model-best\\assets\n",
      "\u001b[34m\u001b[1mwandb\u001b[0m: Adding directory to artifact (C:\\Users\\ucesvpm\\OneDrive - University College London\\PhD Project\\Data Analytics\\Time Series Clustering\\Third Test\\Time-Series-PhD\\wandb\\run-20230227_122253-fjblhm7d\\files\\model-best)... Done. 0.1s\n"
     ]
    },
    {
     "name": "stdout",
     "output_type": "stream",
     "text": [
      "1265/1265 [==============================] - 34s 27ms/step - loss: 0.3161 - mse: 0.3161 - val_loss: 0.3116 - val_mse: 0.3116 - lr: 2.9091e-05\n",
      "Epoch 4/100\n",
      "1265/1265 [==============================] - ETA: 0s - loss: 0.2984 - mse: 0.2984"
     ]
    },
    {
     "name": "stderr",
     "output_type": "stream",
     "text": [
      "WARNING:absl:Found untraced functions such as leaky_re_lu_layer_call_fn, leaky_re_lu_layer_call_and_return_conditional_losses, leaky_re_lu_1_layer_call_fn, leaky_re_lu_1_layer_call_and_return_conditional_losses, leaky_re_lu_2_layer_call_fn while saving (showing 5 of 12). These functions will not be directly callable after loading.\n"
     ]
    },
    {
     "name": "stdout",
     "output_type": "stream",
     "text": [
      "INFO:tensorflow:Assets written to: C:\\Users\\ucesvpm\\OneDrive - University College London\\PhD Project\\Data Analytics\\Time Series Clustering\\Third Test\\Time-Series-PhD\\wandb\\run-20230227_122253-fjblhm7d\\files\\model-best\\assets\n"
     ]
    },
    {
     "name": "stderr",
     "output_type": "stream",
     "text": [
      "INFO:tensorflow:Assets written to: C:\\Users\\ucesvpm\\OneDrive - University College London\\PhD Project\\Data Analytics\\Time Series Clustering\\Third Test\\Time-Series-PhD\\wandb\\run-20230227_122253-fjblhm7d\\files\\model-best\\assets\n",
      "\u001b[34m\u001b[1mwandb\u001b[0m: Adding directory to artifact (C:\\Users\\ucesvpm\\OneDrive - University College London\\PhD Project\\Data Analytics\\Time Series Clustering\\Third Test\\Time-Series-PhD\\wandb\\run-20230227_122253-fjblhm7d\\files\\model-best)... Done. 0.2s\n"
     ]
    },
    {
     "name": "stdout",
     "output_type": "stream",
     "text": [
      "1265/1265 [==============================] - 33s 26ms/step - loss: 0.2984 - mse: 0.2984 - val_loss: 0.2975 - val_mse: 0.2975 - lr: 2.9091e-05\n",
      "Epoch 5/100\n",
      "1265/1265 [==============================] - ETA: 0s - loss: 0.2873 - mse: 0.2873"
     ]
    },
    {
     "name": "stderr",
     "output_type": "stream",
     "text": [
      "WARNING:absl:Found untraced functions such as leaky_re_lu_layer_call_fn, leaky_re_lu_layer_call_and_return_conditional_losses, leaky_re_lu_1_layer_call_fn, leaky_re_lu_1_layer_call_and_return_conditional_losses, leaky_re_lu_2_layer_call_fn while saving (showing 5 of 12). These functions will not be directly callable after loading.\n"
     ]
    },
    {
     "name": "stdout",
     "output_type": "stream",
     "text": [
      "INFO:tensorflow:Assets written to: C:\\Users\\ucesvpm\\OneDrive - University College London\\PhD Project\\Data Analytics\\Time Series Clustering\\Third Test\\Time-Series-PhD\\wandb\\run-20230227_122253-fjblhm7d\\files\\model-best\\assets\n"
     ]
    },
    {
     "name": "stderr",
     "output_type": "stream",
     "text": [
      "INFO:tensorflow:Assets written to: C:\\Users\\ucesvpm\\OneDrive - University College London\\PhD Project\\Data Analytics\\Time Series Clustering\\Third Test\\Time-Series-PhD\\wandb\\run-20230227_122253-fjblhm7d\\files\\model-best\\assets\n",
      "\u001b[34m\u001b[1mwandb\u001b[0m: Adding directory to artifact (C:\\Users\\ucesvpm\\OneDrive - University College London\\PhD Project\\Data Analytics\\Time Series Clustering\\Third Test\\Time-Series-PhD\\wandb\\run-20230227_122253-fjblhm7d\\files\\model-best)... Done. 0.1s\n"
     ]
    },
    {
     "name": "stdout",
     "output_type": "stream",
     "text": [
      "1265/1265 [==============================] - 34s 27ms/step - loss: 0.2873 - mse: 0.2873 - val_loss: 0.2913 - val_mse: 0.2913 - lr: 2.9091e-05\n",
      "Epoch 6/100\n",
      "1263/1265 [============================>.] - ETA: 0s - loss: 0.2797 - mse: 0.2797"
     ]
    },
    {
     "name": "stderr",
     "output_type": "stream",
     "text": [
      "WARNING:absl:Found untraced functions such as leaky_re_lu_layer_call_fn, leaky_re_lu_layer_call_and_return_conditional_losses, leaky_re_lu_1_layer_call_fn, leaky_re_lu_1_layer_call_and_return_conditional_losses, leaky_re_lu_2_layer_call_fn while saving (showing 5 of 12). These functions will not be directly callable after loading.\n"
     ]
    },
    {
     "name": "stdout",
     "output_type": "stream",
     "text": [
      "INFO:tensorflow:Assets written to: C:\\Users\\ucesvpm\\OneDrive - University College London\\PhD Project\\Data Analytics\\Time Series Clustering\\Third Test\\Time-Series-PhD\\wandb\\run-20230227_122253-fjblhm7d\\files\\model-best\\assets\n"
     ]
    },
    {
     "name": "stderr",
     "output_type": "stream",
     "text": [
      "INFO:tensorflow:Assets written to: C:\\Users\\ucesvpm\\OneDrive - University College London\\PhD Project\\Data Analytics\\Time Series Clustering\\Third Test\\Time-Series-PhD\\wandb\\run-20230227_122253-fjblhm7d\\files\\model-best\\assets\n",
      "\u001b[34m\u001b[1mwandb\u001b[0m: Adding directory to artifact (C:\\Users\\ucesvpm\\OneDrive - University College London\\PhD Project\\Data Analytics\\Time Series Clustering\\Third Test\\Time-Series-PhD\\wandb\\run-20230227_122253-fjblhm7d\\files\\model-best)... Done. 0.1s\n"
     ]
    },
    {
     "name": "stdout",
     "output_type": "stream",
     "text": [
      "1265/1265 [==============================] - 32s 26ms/step - loss: 0.2798 - mse: 0.2798 - val_loss: 0.2827 - val_mse: 0.2827 - lr: 2.9091e-05\n",
      "Epoch 7/100\n",
      "1265/1265 [==============================] - ETA: 0s - loss: 0.2741 - mse: 0.2741"
     ]
    },
    {
     "name": "stderr",
     "output_type": "stream",
     "text": [
      "WARNING:absl:Found untraced functions such as leaky_re_lu_layer_call_fn, leaky_re_lu_layer_call_and_return_conditional_losses, leaky_re_lu_1_layer_call_fn, leaky_re_lu_1_layer_call_and_return_conditional_losses, leaky_re_lu_2_layer_call_fn while saving (showing 5 of 12). These functions will not be directly callable after loading.\n"
     ]
    },
    {
     "name": "stdout",
     "output_type": "stream",
     "text": [
      "INFO:tensorflow:Assets written to: C:\\Users\\ucesvpm\\OneDrive - University College London\\PhD Project\\Data Analytics\\Time Series Clustering\\Third Test\\Time-Series-PhD\\wandb\\run-20230227_122253-fjblhm7d\\files\\model-best\\assets\n"
     ]
    },
    {
     "name": "stderr",
     "output_type": "stream",
     "text": [
      "INFO:tensorflow:Assets written to: C:\\Users\\ucesvpm\\OneDrive - University College London\\PhD Project\\Data Analytics\\Time Series Clustering\\Third Test\\Time-Series-PhD\\wandb\\run-20230227_122253-fjblhm7d\\files\\model-best\\assets\n",
      "\u001b[34m\u001b[1mwandb\u001b[0m: Adding directory to artifact (C:\\Users\\ucesvpm\\OneDrive - University College London\\PhD Project\\Data Analytics\\Time Series Clustering\\Third Test\\Time-Series-PhD\\wandb\\run-20230227_122253-fjblhm7d\\files\\model-best)... Done. 0.3s\n"
     ]
    },
    {
     "name": "stdout",
     "output_type": "stream",
     "text": [
      "1265/1265 [==============================] - 30s 24ms/step - loss: 0.2741 - mse: 0.2741 - val_loss: 0.2760 - val_mse: 0.2760 - lr: 2.9091e-05\n",
      "Epoch 8/100\n",
      "1265/1265 [==============================] - ETA: 0s - loss: 0.2696 - mse: 0.2696"
     ]
    },
    {
     "name": "stderr",
     "output_type": "stream",
     "text": [
      "WARNING:absl:Found untraced functions such as leaky_re_lu_layer_call_fn, leaky_re_lu_layer_call_and_return_conditional_losses, leaky_re_lu_1_layer_call_fn, leaky_re_lu_1_layer_call_and_return_conditional_losses, leaky_re_lu_2_layer_call_fn while saving (showing 5 of 12). These functions will not be directly callable after loading.\n"
     ]
    },
    {
     "name": "stdout",
     "output_type": "stream",
     "text": [
      "INFO:tensorflow:Assets written to: C:\\Users\\ucesvpm\\OneDrive - University College London\\PhD Project\\Data Analytics\\Time Series Clustering\\Third Test\\Time-Series-PhD\\wandb\\run-20230227_122253-fjblhm7d\\files\\model-best\\assets\n"
     ]
    },
    {
     "name": "stderr",
     "output_type": "stream",
     "text": [
      "INFO:tensorflow:Assets written to: C:\\Users\\ucesvpm\\OneDrive - University College London\\PhD Project\\Data Analytics\\Time Series Clustering\\Third Test\\Time-Series-PhD\\wandb\\run-20230227_122253-fjblhm7d\\files\\model-best\\assets\n",
      "\u001b[34m\u001b[1mwandb\u001b[0m: Adding directory to artifact (C:\\Users\\ucesvpm\\OneDrive - University College London\\PhD Project\\Data Analytics\\Time Series Clustering\\Third Test\\Time-Series-PhD\\wandb\\run-20230227_122253-fjblhm7d\\files\\model-best)... Done. 0.2s\n"
     ]
    },
    {
     "name": "stdout",
     "output_type": "stream",
     "text": [
      "1265/1265 [==============================] - 29s 23ms/step - loss: 0.2696 - mse: 0.2696 - val_loss: 0.2723 - val_mse: 0.2723 - lr: 2.9091e-05\n",
      "Epoch 9/100\n",
      "1263/1265 [============================>.] - ETA: 0s - loss: 0.2661 - mse: 0.2661"
     ]
    },
    {
     "name": "stderr",
     "output_type": "stream",
     "text": [
      "WARNING:absl:Found untraced functions such as leaky_re_lu_layer_call_fn, leaky_re_lu_layer_call_and_return_conditional_losses, leaky_re_lu_1_layer_call_fn, leaky_re_lu_1_layer_call_and_return_conditional_losses, leaky_re_lu_2_layer_call_fn while saving (showing 5 of 12). These functions will not be directly callable after loading.\n"
     ]
    },
    {
     "name": "stdout",
     "output_type": "stream",
     "text": [
      "INFO:tensorflow:Assets written to: C:\\Users\\ucesvpm\\OneDrive - University College London\\PhD Project\\Data Analytics\\Time Series Clustering\\Third Test\\Time-Series-PhD\\wandb\\run-20230227_122253-fjblhm7d\\files\\model-best\\assets\n"
     ]
    },
    {
     "name": "stderr",
     "output_type": "stream",
     "text": [
      "INFO:tensorflow:Assets written to: C:\\Users\\ucesvpm\\OneDrive - University College London\\PhD Project\\Data Analytics\\Time Series Clustering\\Third Test\\Time-Series-PhD\\wandb\\run-20230227_122253-fjblhm7d\\files\\model-best\\assets\n",
      "\u001b[34m\u001b[1mwandb\u001b[0m: Adding directory to artifact (C:\\Users\\ucesvpm\\OneDrive - University College London\\PhD Project\\Data Analytics\\Time Series Clustering\\Third Test\\Time-Series-PhD\\wandb\\run-20230227_122253-fjblhm7d\\files\\model-best)... Done. 0.2s\n"
     ]
    },
    {
     "name": "stdout",
     "output_type": "stream",
     "text": [
      "1265/1265 [==============================] - 31s 24ms/step - loss: 0.2660 - mse: 0.2660 - val_loss: 0.2699 - val_mse: 0.2699 - lr: 2.9091e-05\n",
      "Epoch 10/100\n",
      "1265/1265 [==============================] - ETA: 0s - loss: 0.2629 - mse: 0.2629"
     ]
    },
    {
     "name": "stderr",
     "output_type": "stream",
     "text": [
      "WARNING:absl:Found untraced functions such as leaky_re_lu_layer_call_fn, leaky_re_lu_layer_call_and_return_conditional_losses, leaky_re_lu_1_layer_call_fn, leaky_re_lu_1_layer_call_and_return_conditional_losses, leaky_re_lu_2_layer_call_fn while saving (showing 5 of 12). These functions will not be directly callable after loading.\n"
     ]
    },
    {
     "name": "stdout",
     "output_type": "stream",
     "text": [
      "INFO:tensorflow:Assets written to: C:\\Users\\ucesvpm\\OneDrive - University College London\\PhD Project\\Data Analytics\\Time Series Clustering\\Third Test\\Time-Series-PhD\\wandb\\run-20230227_122253-fjblhm7d\\files\\model-best\\assets\n"
     ]
    },
    {
     "name": "stderr",
     "output_type": "stream",
     "text": [
      "INFO:tensorflow:Assets written to: C:\\Users\\ucesvpm\\OneDrive - University College London\\PhD Project\\Data Analytics\\Time Series Clustering\\Third Test\\Time-Series-PhD\\wandb\\run-20230227_122253-fjblhm7d\\files\\model-best\\assets\n",
      "\u001b[34m\u001b[1mwandb\u001b[0m: Adding directory to artifact (C:\\Users\\ucesvpm\\OneDrive - University College London\\PhD Project\\Data Analytics\\Time Series Clustering\\Third Test\\Time-Series-PhD\\wandb\\run-20230227_122253-fjblhm7d\\files\\model-best)... Done. 0.2s\n"
     ]
    },
    {
     "name": "stdout",
     "output_type": "stream",
     "text": [
      "1265/1265 [==============================] - 30s 24ms/step - loss: 0.2629 - mse: 0.2629 - val_loss: 0.2661 - val_mse: 0.2661 - lr: 2.9091e-05\n",
      "Epoch 11/100\n",
      "1265/1265 [==============================] - ETA: 0s - loss: 0.2601 - mse: 0.2601"
     ]
    },
    {
     "name": "stderr",
     "output_type": "stream",
     "text": [
      "WARNING:absl:Found untraced functions such as leaky_re_lu_layer_call_fn, leaky_re_lu_layer_call_and_return_conditional_losses, leaky_re_lu_1_layer_call_fn, leaky_re_lu_1_layer_call_and_return_conditional_losses, leaky_re_lu_2_layer_call_fn while saving (showing 5 of 12). These functions will not be directly callable after loading.\n"
     ]
    },
    {
     "name": "stdout",
     "output_type": "stream",
     "text": [
      "INFO:tensorflow:Assets written to: C:\\Users\\ucesvpm\\OneDrive - University College London\\PhD Project\\Data Analytics\\Time Series Clustering\\Third Test\\Time-Series-PhD\\wandb\\run-20230227_122253-fjblhm7d\\files\\model-best\\assets\n"
     ]
    },
    {
     "name": "stderr",
     "output_type": "stream",
     "text": [
      "INFO:tensorflow:Assets written to: C:\\Users\\ucesvpm\\OneDrive - University College London\\PhD Project\\Data Analytics\\Time Series Clustering\\Third Test\\Time-Series-PhD\\wandb\\run-20230227_122253-fjblhm7d\\files\\model-best\\assets\n",
      "\u001b[34m\u001b[1mwandb\u001b[0m: Adding directory to artifact (C:\\Users\\ucesvpm\\OneDrive - University College London\\PhD Project\\Data Analytics\\Time Series Clustering\\Third Test\\Time-Series-PhD\\wandb\\run-20230227_122253-fjblhm7d\\files\\model-best)... Done. 0.3s\n"
     ]
    },
    {
     "name": "stdout",
     "output_type": "stream",
     "text": [
      "1265/1265 [==============================] - 30s 23ms/step - loss: 0.2601 - mse: 0.2601 - val_loss: 0.2641 - val_mse: 0.2641 - lr: 2.9091e-05\n",
      "Epoch 12/100\n",
      "1263/1265 [============================>.] - ETA: 0s - loss: 0.2576 - mse: 0.2576"
     ]
    },
    {
     "name": "stderr",
     "output_type": "stream",
     "text": [
      "WARNING:absl:Found untraced functions such as leaky_re_lu_layer_call_fn, leaky_re_lu_layer_call_and_return_conditional_losses, leaky_re_lu_1_layer_call_fn, leaky_re_lu_1_layer_call_and_return_conditional_losses, leaky_re_lu_2_layer_call_fn while saving (showing 5 of 12). These functions will not be directly callable after loading.\n"
     ]
    },
    {
     "name": "stdout",
     "output_type": "stream",
     "text": [
      "INFO:tensorflow:Assets written to: C:\\Users\\ucesvpm\\OneDrive - University College London\\PhD Project\\Data Analytics\\Time Series Clustering\\Third Test\\Time-Series-PhD\\wandb\\run-20230227_122253-fjblhm7d\\files\\model-best\\assets\n"
     ]
    },
    {
     "name": "stderr",
     "output_type": "stream",
     "text": [
      "INFO:tensorflow:Assets written to: C:\\Users\\ucesvpm\\OneDrive - University College London\\PhD Project\\Data Analytics\\Time Series Clustering\\Third Test\\Time-Series-PhD\\wandb\\run-20230227_122253-fjblhm7d\\files\\model-best\\assets\n",
      "\u001b[34m\u001b[1mwandb\u001b[0m: Adding directory to artifact (C:\\Users\\ucesvpm\\OneDrive - University College London\\PhD Project\\Data Analytics\\Time Series Clustering\\Third Test\\Time-Series-PhD\\wandb\\run-20230227_122253-fjblhm7d\\files\\model-best)... Done. 0.1s\n"
     ]
    },
    {
     "name": "stdout",
     "output_type": "stream",
     "text": [
      "1265/1265 [==============================] - 28s 22ms/step - loss: 0.2576 - mse: 0.2576 - val_loss: 0.2622 - val_mse: 0.2622 - lr: 2.9091e-05\n",
      "Epoch 13/100\n",
      "1263/1265 [============================>.] - ETA: 0s - loss: 0.2553 - mse: 0.2553"
     ]
    },
    {
     "name": "stderr",
     "output_type": "stream",
     "text": [
      "WARNING:absl:Found untraced functions such as leaky_re_lu_layer_call_fn, leaky_re_lu_layer_call_and_return_conditional_losses, leaky_re_lu_1_layer_call_fn, leaky_re_lu_1_layer_call_and_return_conditional_losses, leaky_re_lu_2_layer_call_fn while saving (showing 5 of 12). These functions will not be directly callable after loading.\n"
     ]
    },
    {
     "name": "stdout",
     "output_type": "stream",
     "text": [
      "INFO:tensorflow:Assets written to: C:\\Users\\ucesvpm\\OneDrive - University College London\\PhD Project\\Data Analytics\\Time Series Clustering\\Third Test\\Time-Series-PhD\\wandb\\run-20230227_122253-fjblhm7d\\files\\model-best\\assets\n"
     ]
    },
    {
     "name": "stderr",
     "output_type": "stream",
     "text": [
      "INFO:tensorflow:Assets written to: C:\\Users\\ucesvpm\\OneDrive - University College London\\PhD Project\\Data Analytics\\Time Series Clustering\\Third Test\\Time-Series-PhD\\wandb\\run-20230227_122253-fjblhm7d\\files\\model-best\\assets\n",
      "\u001b[34m\u001b[1mwandb\u001b[0m: Adding directory to artifact (C:\\Users\\ucesvpm\\OneDrive - University College London\\PhD Project\\Data Analytics\\Time Series Clustering\\Third Test\\Time-Series-PhD\\wandb\\run-20230227_122253-fjblhm7d\\files\\model-best)... Done. 0.2s\n"
     ]
    },
    {
     "name": "stdout",
     "output_type": "stream",
     "text": [
      "1265/1265 [==============================] - 29s 23ms/step - loss: 0.2553 - mse: 0.2553 - val_loss: 0.2601 - val_mse: 0.2601 - lr: 2.9091e-05\n",
      "Epoch 14/100\n",
      "1264/1265 [============================>.] - ETA: 0s - loss: 0.2532 - mse: 0.2532"
     ]
    },
    {
     "name": "stderr",
     "output_type": "stream",
     "text": [
      "WARNING:absl:Found untraced functions such as leaky_re_lu_layer_call_fn, leaky_re_lu_layer_call_and_return_conditional_losses, leaky_re_lu_1_layer_call_fn, leaky_re_lu_1_layer_call_and_return_conditional_losses, leaky_re_lu_2_layer_call_fn while saving (showing 5 of 12). These functions will not be directly callable after loading.\n"
     ]
    },
    {
     "name": "stdout",
     "output_type": "stream",
     "text": [
      "INFO:tensorflow:Assets written to: C:\\Users\\ucesvpm\\OneDrive - University College London\\PhD Project\\Data Analytics\\Time Series Clustering\\Third Test\\Time-Series-PhD\\wandb\\run-20230227_122253-fjblhm7d\\files\\model-best\\assets\n"
     ]
    },
    {
     "name": "stderr",
     "output_type": "stream",
     "text": [
      "INFO:tensorflow:Assets written to: C:\\Users\\ucesvpm\\OneDrive - University College London\\PhD Project\\Data Analytics\\Time Series Clustering\\Third Test\\Time-Series-PhD\\wandb\\run-20230227_122253-fjblhm7d\\files\\model-best\\assets\n",
      "\u001b[34m\u001b[1mwandb\u001b[0m: Adding directory to artifact (C:\\Users\\ucesvpm\\OneDrive - University College London\\PhD Project\\Data Analytics\\Time Series Clustering\\Third Test\\Time-Series-PhD\\wandb\\run-20230227_122253-fjblhm7d\\files\\model-best)... Done. 0.2s\n"
     ]
    },
    {
     "name": "stdout",
     "output_type": "stream",
     "text": [
      "1265/1265 [==============================] - 29s 23ms/step - loss: 0.2532 - mse: 0.2532 - val_loss: 0.2583 - val_mse: 0.2583 - lr: 2.9091e-05\n",
      "Epoch 15/100\n",
      "1265/1265 [==============================] - ETA: 0s - loss: 0.2512 - mse: 0.2512"
     ]
    },
    {
     "name": "stderr",
     "output_type": "stream",
     "text": [
      "WARNING:absl:Found untraced functions such as leaky_re_lu_layer_call_fn, leaky_re_lu_layer_call_and_return_conditional_losses, leaky_re_lu_1_layer_call_fn, leaky_re_lu_1_layer_call_and_return_conditional_losses, leaky_re_lu_2_layer_call_fn while saving (showing 5 of 12). These functions will not be directly callable after loading.\n"
     ]
    },
    {
     "name": "stdout",
     "output_type": "stream",
     "text": [
      "INFO:tensorflow:Assets written to: C:\\Users\\ucesvpm\\OneDrive - University College London\\PhD Project\\Data Analytics\\Time Series Clustering\\Third Test\\Time-Series-PhD\\wandb\\run-20230227_122253-fjblhm7d\\files\\model-best\\assets\n"
     ]
    },
    {
     "name": "stderr",
     "output_type": "stream",
     "text": [
      "INFO:tensorflow:Assets written to: C:\\Users\\ucesvpm\\OneDrive - University College London\\PhD Project\\Data Analytics\\Time Series Clustering\\Third Test\\Time-Series-PhD\\wandb\\run-20230227_122253-fjblhm7d\\files\\model-best\\assets\n",
      "\u001b[34m\u001b[1mwandb\u001b[0m: Adding directory to artifact (C:\\Users\\ucesvpm\\OneDrive - University College London\\PhD Project\\Data Analytics\\Time Series Clustering\\Third Test\\Time-Series-PhD\\wandb\\run-20230227_122253-fjblhm7d\\files\\model-best)... Done. 0.1s\n"
     ]
    },
    {
     "name": "stdout",
     "output_type": "stream",
     "text": [
      "1265/1265 [==============================] - 30s 23ms/step - loss: 0.2512 - mse: 0.2512 - val_loss: 0.2568 - val_mse: 0.2568 - lr: 2.9091e-05\n",
      "Epoch 16/100\n",
      "1263/1265 [============================>.] - ETA: 0s - loss: 0.2494 - mse: 0.2494"
     ]
    },
    {
     "name": "stderr",
     "output_type": "stream",
     "text": [
      "WARNING:absl:Found untraced functions such as leaky_re_lu_layer_call_fn, leaky_re_lu_layer_call_and_return_conditional_losses, leaky_re_lu_1_layer_call_fn, leaky_re_lu_1_layer_call_and_return_conditional_losses, leaky_re_lu_2_layer_call_fn while saving (showing 5 of 12). These functions will not be directly callable after loading.\n"
     ]
    },
    {
     "name": "stdout",
     "output_type": "stream",
     "text": [
      "INFO:tensorflow:Assets written to: C:\\Users\\ucesvpm\\OneDrive - University College London\\PhD Project\\Data Analytics\\Time Series Clustering\\Third Test\\Time-Series-PhD\\wandb\\run-20230227_122253-fjblhm7d\\files\\model-best\\assets\n"
     ]
    },
    {
     "name": "stderr",
     "output_type": "stream",
     "text": [
      "INFO:tensorflow:Assets written to: C:\\Users\\ucesvpm\\OneDrive - University College London\\PhD Project\\Data Analytics\\Time Series Clustering\\Third Test\\Time-Series-PhD\\wandb\\run-20230227_122253-fjblhm7d\\files\\model-best\\assets\n",
      "\u001b[34m\u001b[1mwandb\u001b[0m: Adding directory to artifact (C:\\Users\\ucesvpm\\OneDrive - University College London\\PhD Project\\Data Analytics\\Time Series Clustering\\Third Test\\Time-Series-PhD\\wandb\\run-20230227_122253-fjblhm7d\\files\\model-best)... Done. 0.3s\n"
     ]
    },
    {
     "name": "stdout",
     "output_type": "stream",
     "text": [
      "1265/1265 [==============================] - 29s 23ms/step - loss: 0.2494 - mse: 0.2494 - val_loss: 0.2555 - val_mse: 0.2555 - lr: 2.9091e-05\n",
      "Epoch 17/100\n",
      "1264/1265 [============================>.] - ETA: 0s - loss: 0.2478 - mse: 0.2478"
     ]
    },
    {
     "name": "stderr",
     "output_type": "stream",
     "text": [
      "WARNING:absl:Found untraced functions such as leaky_re_lu_layer_call_fn, leaky_re_lu_layer_call_and_return_conditional_losses, leaky_re_lu_1_layer_call_fn, leaky_re_lu_1_layer_call_and_return_conditional_losses, leaky_re_lu_2_layer_call_fn while saving (showing 5 of 12). These functions will not be directly callable after loading.\n"
     ]
    },
    {
     "name": "stdout",
     "output_type": "stream",
     "text": [
      "INFO:tensorflow:Assets written to: C:\\Users\\ucesvpm\\OneDrive - University College London\\PhD Project\\Data Analytics\\Time Series Clustering\\Third Test\\Time-Series-PhD\\wandb\\run-20230227_122253-fjblhm7d\\files\\model-best\\assets\n"
     ]
    },
    {
     "name": "stderr",
     "output_type": "stream",
     "text": [
      "INFO:tensorflow:Assets written to: C:\\Users\\ucesvpm\\OneDrive - University College London\\PhD Project\\Data Analytics\\Time Series Clustering\\Third Test\\Time-Series-PhD\\wandb\\run-20230227_122253-fjblhm7d\\files\\model-best\\assets\n",
      "\u001b[34m\u001b[1mwandb\u001b[0m: Adding directory to artifact (C:\\Users\\ucesvpm\\OneDrive - University College London\\PhD Project\\Data Analytics\\Time Series Clustering\\Third Test\\Time-Series-PhD\\wandb\\run-20230227_122253-fjblhm7d\\files\\model-best)... Done. 0.2s\n"
     ]
    },
    {
     "name": "stdout",
     "output_type": "stream",
     "text": [
      "1265/1265 [==============================] - 31s 24ms/step - loss: 0.2478 - mse: 0.2478 - val_loss: 0.2535 - val_mse: 0.2535 - lr: 2.9091e-05\n",
      "Epoch 18/100\n",
      "1263/1265 [============================>.] - ETA: 0s - loss: 0.2462 - mse: 0.2462"
     ]
    },
    {
     "name": "stderr",
     "output_type": "stream",
     "text": [
      "WARNING:absl:Found untraced functions such as leaky_re_lu_layer_call_fn, leaky_re_lu_layer_call_and_return_conditional_losses, leaky_re_lu_1_layer_call_fn, leaky_re_lu_1_layer_call_and_return_conditional_losses, leaky_re_lu_2_layer_call_fn while saving (showing 5 of 12). These functions will not be directly callable after loading.\n"
     ]
    },
    {
     "name": "stdout",
     "output_type": "stream",
     "text": [
      "INFO:tensorflow:Assets written to: C:\\Users\\ucesvpm\\OneDrive - University College London\\PhD Project\\Data Analytics\\Time Series Clustering\\Third Test\\Time-Series-PhD\\wandb\\run-20230227_122253-fjblhm7d\\files\\model-best\\assets\n"
     ]
    },
    {
     "name": "stderr",
     "output_type": "stream",
     "text": [
      "INFO:tensorflow:Assets written to: C:\\Users\\ucesvpm\\OneDrive - University College London\\PhD Project\\Data Analytics\\Time Series Clustering\\Third Test\\Time-Series-PhD\\wandb\\run-20230227_122253-fjblhm7d\\files\\model-best\\assets\n",
      "\u001b[34m\u001b[1mwandb\u001b[0m: Adding directory to artifact (C:\\Users\\ucesvpm\\OneDrive - University College London\\PhD Project\\Data Analytics\\Time Series Clustering\\Third Test\\Time-Series-PhD\\wandb\\run-20230227_122253-fjblhm7d\\files\\model-best)... Done. 0.2s\n"
     ]
    },
    {
     "name": "stdout",
     "output_type": "stream",
     "text": [
      "1265/1265 [==============================] - 28s 22ms/step - loss: 0.2462 - mse: 0.2462 - val_loss: 0.2531 - val_mse: 0.2531 - lr: 2.9091e-05\n",
      "Epoch 19/100\n",
      "1263/1265 [============================>.] - ETA: 0s - loss: 0.2447 - mse: 0.2447"
     ]
    },
    {
     "name": "stderr",
     "output_type": "stream",
     "text": [
      "WARNING:absl:Found untraced functions such as leaky_re_lu_layer_call_fn, leaky_re_lu_layer_call_and_return_conditional_losses, leaky_re_lu_1_layer_call_fn, leaky_re_lu_1_layer_call_and_return_conditional_losses, leaky_re_lu_2_layer_call_fn while saving (showing 5 of 12). These functions will not be directly callable after loading.\n"
     ]
    },
    {
     "name": "stdout",
     "output_type": "stream",
     "text": [
      "INFO:tensorflow:Assets written to: C:\\Users\\ucesvpm\\OneDrive - University College London\\PhD Project\\Data Analytics\\Time Series Clustering\\Third Test\\Time-Series-PhD\\wandb\\run-20230227_122253-fjblhm7d\\files\\model-best\\assets\n"
     ]
    },
    {
     "name": "stderr",
     "output_type": "stream",
     "text": [
      "INFO:tensorflow:Assets written to: C:\\Users\\ucesvpm\\OneDrive - University College London\\PhD Project\\Data Analytics\\Time Series Clustering\\Third Test\\Time-Series-PhD\\wandb\\run-20230227_122253-fjblhm7d\\files\\model-best\\assets\n",
      "\u001b[34m\u001b[1mwandb\u001b[0m: Adding directory to artifact (C:\\Users\\ucesvpm\\OneDrive - University College London\\PhD Project\\Data Analytics\\Time Series Clustering\\Third Test\\Time-Series-PhD\\wandb\\run-20230227_122253-fjblhm7d\\files\\model-best)... Done. 0.2s\n"
     ]
    },
    {
     "name": "stdout",
     "output_type": "stream",
     "text": [
      "1265/1265 [==============================] - 29s 23ms/step - loss: 0.2447 - mse: 0.2447 - val_loss: 0.2511 - val_mse: 0.2511 - lr: 2.9091e-05\n",
      "Epoch 20/100\n",
      "1265/1265 [==============================] - ETA: 0s - loss: 0.2433 - mse: 0.2433"
     ]
    },
    {
     "name": "stderr",
     "output_type": "stream",
     "text": [
      "WARNING:absl:Found untraced functions such as leaky_re_lu_layer_call_fn, leaky_re_lu_layer_call_and_return_conditional_losses, leaky_re_lu_1_layer_call_fn, leaky_re_lu_1_layer_call_and_return_conditional_losses, leaky_re_lu_2_layer_call_fn while saving (showing 5 of 12). These functions will not be directly callable after loading.\n"
     ]
    },
    {
     "name": "stdout",
     "output_type": "stream",
     "text": [
      "INFO:tensorflow:Assets written to: C:\\Users\\ucesvpm\\OneDrive - University College London\\PhD Project\\Data Analytics\\Time Series Clustering\\Third Test\\Time-Series-PhD\\wandb\\run-20230227_122253-fjblhm7d\\files\\model-best\\assets\n"
     ]
    },
    {
     "name": "stderr",
     "output_type": "stream",
     "text": [
      "INFO:tensorflow:Assets written to: C:\\Users\\ucesvpm\\OneDrive - University College London\\PhD Project\\Data Analytics\\Time Series Clustering\\Third Test\\Time-Series-PhD\\wandb\\run-20230227_122253-fjblhm7d\\files\\model-best\\assets\n",
      "\u001b[34m\u001b[1mwandb\u001b[0m: Adding directory to artifact (C:\\Users\\ucesvpm\\OneDrive - University College London\\PhD Project\\Data Analytics\\Time Series Clustering\\Third Test\\Time-Series-PhD\\wandb\\run-20230227_122253-fjblhm7d\\files\\model-best)... Done. 0.3s\n"
     ]
    },
    {
     "name": "stdout",
     "output_type": "stream",
     "text": [
      "1265/1265 [==============================] - 28s 22ms/step - loss: 0.2433 - mse: 0.2433 - val_loss: 0.2510 - val_mse: 0.2510 - lr: 2.9091e-05\n",
      "Epoch 21/100\n",
      "1265/1265 [==============================] - ETA: 0s - loss: 0.2421 - mse: 0.2421"
     ]
    },
    {
     "name": "stderr",
     "output_type": "stream",
     "text": [
      "WARNING:absl:Found untraced functions such as leaky_re_lu_layer_call_fn, leaky_re_lu_layer_call_and_return_conditional_losses, leaky_re_lu_1_layer_call_fn, leaky_re_lu_1_layer_call_and_return_conditional_losses, leaky_re_lu_2_layer_call_fn while saving (showing 5 of 12). These functions will not be directly callable after loading.\n"
     ]
    },
    {
     "name": "stdout",
     "output_type": "stream",
     "text": [
      "INFO:tensorflow:Assets written to: C:\\Users\\ucesvpm\\OneDrive - University College London\\PhD Project\\Data Analytics\\Time Series Clustering\\Third Test\\Time-Series-PhD\\wandb\\run-20230227_122253-fjblhm7d\\files\\model-best\\assets\n"
     ]
    },
    {
     "name": "stderr",
     "output_type": "stream",
     "text": [
      "INFO:tensorflow:Assets written to: C:\\Users\\ucesvpm\\OneDrive - University College London\\PhD Project\\Data Analytics\\Time Series Clustering\\Third Test\\Time-Series-PhD\\wandb\\run-20230227_122253-fjblhm7d\\files\\model-best\\assets\n",
      "\u001b[34m\u001b[1mwandb\u001b[0m: Adding directory to artifact (C:\\Users\\ucesvpm\\OneDrive - University College London\\PhD Project\\Data Analytics\\Time Series Clustering\\Third Test\\Time-Series-PhD\\wandb\\run-20230227_122253-fjblhm7d\\files\\model-best)... Done. 0.2s\n"
     ]
    },
    {
     "name": "stdout",
     "output_type": "stream",
     "text": [
      "1265/1265 [==============================] - 28s 22ms/step - loss: 0.2421 - mse: 0.2421 - val_loss: 0.2489 - val_mse: 0.2489 - lr: 2.9091e-05\n",
      "Epoch 22/100\n",
      "1265/1265 [==============================] - 26s 21ms/step - loss: 0.2408 - mse: 0.2408 - val_loss: 0.2494 - val_mse: 0.2494 - lr: 2.9091e-05\n",
      "Epoch 23/100\n",
      "1264/1265 [============================>.] - ETA: 0s - loss: 0.2397 - mse: 0.2397"
     ]
    },
    {
     "name": "stderr",
     "output_type": "stream",
     "text": [
      "WARNING:absl:Found untraced functions such as leaky_re_lu_layer_call_fn, leaky_re_lu_layer_call_and_return_conditional_losses, leaky_re_lu_1_layer_call_fn, leaky_re_lu_1_layer_call_and_return_conditional_losses, leaky_re_lu_2_layer_call_fn while saving (showing 5 of 12). These functions will not be directly callable after loading.\n"
     ]
    },
    {
     "name": "stdout",
     "output_type": "stream",
     "text": [
      "INFO:tensorflow:Assets written to: C:\\Users\\ucesvpm\\OneDrive - University College London\\PhD Project\\Data Analytics\\Time Series Clustering\\Third Test\\Time-Series-PhD\\wandb\\run-20230227_122253-fjblhm7d\\files\\model-best\\assets\n"
     ]
    },
    {
     "name": "stderr",
     "output_type": "stream",
     "text": [
      "INFO:tensorflow:Assets written to: C:\\Users\\ucesvpm\\OneDrive - University College London\\PhD Project\\Data Analytics\\Time Series Clustering\\Third Test\\Time-Series-PhD\\wandb\\run-20230227_122253-fjblhm7d\\files\\model-best\\assets\n",
      "\u001b[34m\u001b[1mwandb\u001b[0m: Adding directory to artifact (C:\\Users\\ucesvpm\\OneDrive - University College London\\PhD Project\\Data Analytics\\Time Series Clustering\\Third Test\\Time-Series-PhD\\wandb\\run-20230227_122253-fjblhm7d\\files\\model-best)... Done. 0.3s\n"
     ]
    },
    {
     "name": "stdout",
     "output_type": "stream",
     "text": [
      "1265/1265 [==============================] - 28s 22ms/step - loss: 0.2397 - mse: 0.2397 - val_loss: 0.2472 - val_mse: 0.2472 - lr: 2.9091e-05\n",
      "Epoch 24/100\n",
      "1265/1265 [==============================] - ETA: 0s - loss: 0.2387 - mse: 0.2387"
     ]
    },
    {
     "name": "stderr",
     "output_type": "stream",
     "text": [
      "WARNING:absl:Found untraced functions such as leaky_re_lu_layer_call_fn, leaky_re_lu_layer_call_and_return_conditional_losses, leaky_re_lu_1_layer_call_fn, leaky_re_lu_1_layer_call_and_return_conditional_losses, leaky_re_lu_2_layer_call_fn while saving (showing 5 of 12). These functions will not be directly callable after loading.\n"
     ]
    },
    {
     "name": "stdout",
     "output_type": "stream",
     "text": [
      "INFO:tensorflow:Assets written to: C:\\Users\\ucesvpm\\OneDrive - University College London\\PhD Project\\Data Analytics\\Time Series Clustering\\Third Test\\Time-Series-PhD\\wandb\\run-20230227_122253-fjblhm7d\\files\\model-best\\assets\n"
     ]
    },
    {
     "name": "stderr",
     "output_type": "stream",
     "text": [
      "INFO:tensorflow:Assets written to: C:\\Users\\ucesvpm\\OneDrive - University College London\\PhD Project\\Data Analytics\\Time Series Clustering\\Third Test\\Time-Series-PhD\\wandb\\run-20230227_122253-fjblhm7d\\files\\model-best\\assets\n",
      "\u001b[34m\u001b[1mwandb\u001b[0m: Adding directory to artifact (C:\\Users\\ucesvpm\\OneDrive - University College London\\PhD Project\\Data Analytics\\Time Series Clustering\\Third Test\\Time-Series-PhD\\wandb\\run-20230227_122253-fjblhm7d\\files\\model-best)... Done. 0.3s\n"
     ]
    },
    {
     "name": "stdout",
     "output_type": "stream",
     "text": [
      "1265/1265 [==============================] - 29s 23ms/step - loss: 0.2387 - mse: 0.2387 - val_loss: 0.2457 - val_mse: 0.2457 - lr: 2.9091e-05\n",
      "Epoch 25/100\n",
      "1265/1265 [==============================] - 25s 20ms/step - loss: 0.2376 - mse: 0.2376 - val_loss: 0.2458 - val_mse: 0.2458 - lr: 2.9091e-05\n",
      "Epoch 26/100\n",
      "1264/1265 [============================>.] - ETA: 0s - loss: 0.2366 - mse: 0.2366"
     ]
    },
    {
     "name": "stderr",
     "output_type": "stream",
     "text": [
      "WARNING:absl:Found untraced functions such as leaky_re_lu_layer_call_fn, leaky_re_lu_layer_call_and_return_conditional_losses, leaky_re_lu_1_layer_call_fn, leaky_re_lu_1_layer_call_and_return_conditional_losses, leaky_re_lu_2_layer_call_fn while saving (showing 5 of 12). These functions will not be directly callable after loading.\n"
     ]
    },
    {
     "name": "stdout",
     "output_type": "stream",
     "text": [
      "INFO:tensorflow:Assets written to: C:\\Users\\ucesvpm\\OneDrive - University College London\\PhD Project\\Data Analytics\\Time Series Clustering\\Third Test\\Time-Series-PhD\\wandb\\run-20230227_122253-fjblhm7d\\files\\model-best\\assets\n"
     ]
    },
    {
     "name": "stderr",
     "output_type": "stream",
     "text": [
      "INFO:tensorflow:Assets written to: C:\\Users\\ucesvpm\\OneDrive - University College London\\PhD Project\\Data Analytics\\Time Series Clustering\\Third Test\\Time-Series-PhD\\wandb\\run-20230227_122253-fjblhm7d\\files\\model-best\\assets\n",
      "\u001b[34m\u001b[1mwandb\u001b[0m: Adding directory to artifact (C:\\Users\\ucesvpm\\OneDrive - University College London\\PhD Project\\Data Analytics\\Time Series Clustering\\Third Test\\Time-Series-PhD\\wandb\\run-20230227_122253-fjblhm7d\\files\\model-best)... Done. 0.2s\n"
     ]
    },
    {
     "name": "stdout",
     "output_type": "stream",
     "text": [
      "1265/1265 [==============================] - 29s 23ms/step - loss: 0.2366 - mse: 0.2366 - val_loss: 0.2446 - val_mse: 0.2446 - lr: 2.9091e-05\n",
      "Epoch 27/100\n",
      "1265/1265 [==============================] - ETA: 0s - loss: 0.2358 - mse: 0.2358"
     ]
    },
    {
     "name": "stderr",
     "output_type": "stream",
     "text": [
      "WARNING:absl:Found untraced functions such as leaky_re_lu_layer_call_fn, leaky_re_lu_layer_call_and_return_conditional_losses, leaky_re_lu_1_layer_call_fn, leaky_re_lu_1_layer_call_and_return_conditional_losses, leaky_re_lu_2_layer_call_fn while saving (showing 5 of 12). These functions will not be directly callable after loading.\n"
     ]
    },
    {
     "name": "stdout",
     "output_type": "stream",
     "text": [
      "INFO:tensorflow:Assets written to: C:\\Users\\ucesvpm\\OneDrive - University College London\\PhD Project\\Data Analytics\\Time Series Clustering\\Third Test\\Time-Series-PhD\\wandb\\run-20230227_122253-fjblhm7d\\files\\model-best\\assets\n"
     ]
    },
    {
     "name": "stderr",
     "output_type": "stream",
     "text": [
      "INFO:tensorflow:Assets written to: C:\\Users\\ucesvpm\\OneDrive - University College London\\PhD Project\\Data Analytics\\Time Series Clustering\\Third Test\\Time-Series-PhD\\wandb\\run-20230227_122253-fjblhm7d\\files\\model-best\\assets\n",
      "\u001b[34m\u001b[1mwandb\u001b[0m: Adding directory to artifact (C:\\Users\\ucesvpm\\OneDrive - University College London\\PhD Project\\Data Analytics\\Time Series Clustering\\Third Test\\Time-Series-PhD\\wandb\\run-20230227_122253-fjblhm7d\\files\\model-best)... Done. 0.2s\n"
     ]
    },
    {
     "name": "stdout",
     "output_type": "stream",
     "text": [
      "1265/1265 [==============================] - 29s 23ms/step - loss: 0.2358 - mse: 0.2358 - val_loss: 0.2439 - val_mse: 0.2439 - lr: 2.9091e-05\n",
      "Epoch 28/100\n",
      "1264/1265 [============================>.] - ETA: 0s - loss: 0.2348 - mse: 0.2348"
     ]
    },
    {
     "name": "stderr",
     "output_type": "stream",
     "text": [
      "WARNING:absl:Found untraced functions such as leaky_re_lu_layer_call_fn, leaky_re_lu_layer_call_and_return_conditional_losses, leaky_re_lu_1_layer_call_fn, leaky_re_lu_1_layer_call_and_return_conditional_losses, leaky_re_lu_2_layer_call_fn while saving (showing 5 of 12). These functions will not be directly callable after loading.\n"
     ]
    },
    {
     "name": "stdout",
     "output_type": "stream",
     "text": [
      "INFO:tensorflow:Assets written to: C:\\Users\\ucesvpm\\OneDrive - University College London\\PhD Project\\Data Analytics\\Time Series Clustering\\Third Test\\Time-Series-PhD\\wandb\\run-20230227_122253-fjblhm7d\\files\\model-best\\assets\n"
     ]
    },
    {
     "name": "stderr",
     "output_type": "stream",
     "text": [
      "INFO:tensorflow:Assets written to: C:\\Users\\ucesvpm\\OneDrive - University College London\\PhD Project\\Data Analytics\\Time Series Clustering\\Third Test\\Time-Series-PhD\\wandb\\run-20230227_122253-fjblhm7d\\files\\model-best\\assets\n",
      "\u001b[34m\u001b[1mwandb\u001b[0m: Adding directory to artifact (C:\\Users\\ucesvpm\\OneDrive - University College London\\PhD Project\\Data Analytics\\Time Series Clustering\\Third Test\\Time-Series-PhD\\wandb\\run-20230227_122253-fjblhm7d\\files\\model-best)... Done. 0.3s\n"
     ]
    },
    {
     "name": "stdout",
     "output_type": "stream",
     "text": [
      "1265/1265 [==============================] - 28s 22ms/step - loss: 0.2348 - mse: 0.2348 - val_loss: 0.2431 - val_mse: 0.2431 - lr: 2.9091e-05\n",
      "Epoch 29/100\n",
      "1263/1265 [============================>.] - ETA: 0s - loss: 0.2341 - mse: 0.2341"
     ]
    },
    {
     "name": "stderr",
     "output_type": "stream",
     "text": [
      "WARNING:absl:Found untraced functions such as leaky_re_lu_layer_call_fn, leaky_re_lu_layer_call_and_return_conditional_losses, leaky_re_lu_1_layer_call_fn, leaky_re_lu_1_layer_call_and_return_conditional_losses, leaky_re_lu_2_layer_call_fn while saving (showing 5 of 12). These functions will not be directly callable after loading.\n"
     ]
    },
    {
     "name": "stdout",
     "output_type": "stream",
     "text": [
      "INFO:tensorflow:Assets written to: C:\\Users\\ucesvpm\\OneDrive - University College London\\PhD Project\\Data Analytics\\Time Series Clustering\\Third Test\\Time-Series-PhD\\wandb\\run-20230227_122253-fjblhm7d\\files\\model-best\\assets\n"
     ]
    },
    {
     "name": "stderr",
     "output_type": "stream",
     "text": [
      "INFO:tensorflow:Assets written to: C:\\Users\\ucesvpm\\OneDrive - University College London\\PhD Project\\Data Analytics\\Time Series Clustering\\Third Test\\Time-Series-PhD\\wandb\\run-20230227_122253-fjblhm7d\\files\\model-best\\assets\n",
      "\u001b[34m\u001b[1mwandb\u001b[0m: Adding directory to artifact (C:\\Users\\ucesvpm\\OneDrive - University College London\\PhD Project\\Data Analytics\\Time Series Clustering\\Third Test\\Time-Series-PhD\\wandb\\run-20230227_122253-fjblhm7d\\files\\model-best)... Done. 0.3s\n"
     ]
    },
    {
     "name": "stdout",
     "output_type": "stream",
     "text": [
      "1265/1265 [==============================] - 28s 22ms/step - loss: 0.2341 - mse: 0.2341 - val_loss: 0.2419 - val_mse: 0.2419 - lr: 2.9091e-05\n",
      "Epoch 30/100\n",
      "1264/1265 [============================>.] - ETA: 0s - loss: 0.2332 - mse: 0.2332"
     ]
    },
    {
     "name": "stderr",
     "output_type": "stream",
     "text": [
      "WARNING:absl:Found untraced functions such as leaky_re_lu_layer_call_fn, leaky_re_lu_layer_call_and_return_conditional_losses, leaky_re_lu_1_layer_call_fn, leaky_re_lu_1_layer_call_and_return_conditional_losses, leaky_re_lu_2_layer_call_fn while saving (showing 5 of 12). These functions will not be directly callable after loading.\n"
     ]
    },
    {
     "name": "stdout",
     "output_type": "stream",
     "text": [
      "INFO:tensorflow:Assets written to: C:\\Users\\ucesvpm\\OneDrive - University College London\\PhD Project\\Data Analytics\\Time Series Clustering\\Third Test\\Time-Series-PhD\\wandb\\run-20230227_122253-fjblhm7d\\files\\model-best\\assets\n"
     ]
    },
    {
     "name": "stderr",
     "output_type": "stream",
     "text": [
      "INFO:tensorflow:Assets written to: C:\\Users\\ucesvpm\\OneDrive - University College London\\PhD Project\\Data Analytics\\Time Series Clustering\\Third Test\\Time-Series-PhD\\wandb\\run-20230227_122253-fjblhm7d\\files\\model-best\\assets\n",
      "\u001b[34m\u001b[1mwandb\u001b[0m: Adding directory to artifact (C:\\Users\\ucesvpm\\OneDrive - University College London\\PhD Project\\Data Analytics\\Time Series Clustering\\Third Test\\Time-Series-PhD\\wandb\\run-20230227_122253-fjblhm7d\\files\\model-best)... Done. 0.1s\n"
     ]
    },
    {
     "name": "stdout",
     "output_type": "stream",
     "text": [
      "1265/1265 [==============================] - 28s 22ms/step - loss: 0.2332 - mse: 0.2332 - val_loss: 0.2413 - val_mse: 0.2413 - lr: 2.9091e-05\n",
      "Epoch 31/100\n",
      "1265/1265 [==============================] - 26s 20ms/step - loss: 0.2325 - mse: 0.2325 - val_loss: 0.2417 - val_mse: 0.2417 - lr: 2.9091e-05\n",
      "Epoch 32/100\n",
      "1263/1265 [============================>.] - ETA: 0s - loss: 0.2318 - mse: 0.2318"
     ]
    },
    {
     "name": "stderr",
     "output_type": "stream",
     "text": [
      "WARNING:absl:Found untraced functions such as leaky_re_lu_layer_call_fn, leaky_re_lu_layer_call_and_return_conditional_losses, leaky_re_lu_1_layer_call_fn, leaky_re_lu_1_layer_call_and_return_conditional_losses, leaky_re_lu_2_layer_call_fn while saving (showing 5 of 12). These functions will not be directly callable after loading.\n"
     ]
    },
    {
     "name": "stdout",
     "output_type": "stream",
     "text": [
      "INFO:tensorflow:Assets written to: C:\\Users\\ucesvpm\\OneDrive - University College London\\PhD Project\\Data Analytics\\Time Series Clustering\\Third Test\\Time-Series-PhD\\wandb\\run-20230227_122253-fjblhm7d\\files\\model-best\\assets\n"
     ]
    },
    {
     "name": "stderr",
     "output_type": "stream",
     "text": [
      "INFO:tensorflow:Assets written to: C:\\Users\\ucesvpm\\OneDrive - University College London\\PhD Project\\Data Analytics\\Time Series Clustering\\Third Test\\Time-Series-PhD\\wandb\\run-20230227_122253-fjblhm7d\\files\\model-best\\assets\n",
      "\u001b[34m\u001b[1mwandb\u001b[0m: Adding directory to artifact (C:\\Users\\ucesvpm\\OneDrive - University College London\\PhD Project\\Data Analytics\\Time Series Clustering\\Third Test\\Time-Series-PhD\\wandb\\run-20230227_122253-fjblhm7d\\files\\model-best)... Done. 0.2s\n"
     ]
    },
    {
     "name": "stdout",
     "output_type": "stream",
     "text": [
      "1265/1265 [==============================] - 28s 22ms/step - loss: 0.2318 - mse: 0.2318 - val_loss: 0.2403 - val_mse: 0.2403 - lr: 2.9091e-05\n",
      "Epoch 33/100\n",
      "1265/1265 [==============================] - ETA: 0s - loss: 0.2310 - mse: 0.2310"
     ]
    },
    {
     "name": "stderr",
     "output_type": "stream",
     "text": [
      "WARNING:absl:Found untraced functions such as leaky_re_lu_layer_call_fn, leaky_re_lu_layer_call_and_return_conditional_losses, leaky_re_lu_1_layer_call_fn, leaky_re_lu_1_layer_call_and_return_conditional_losses, leaky_re_lu_2_layer_call_fn while saving (showing 5 of 12). These functions will not be directly callable after loading.\n"
     ]
    },
    {
     "name": "stdout",
     "output_type": "stream",
     "text": [
      "INFO:tensorflow:Assets written to: C:\\Users\\ucesvpm\\OneDrive - University College London\\PhD Project\\Data Analytics\\Time Series Clustering\\Third Test\\Time-Series-PhD\\wandb\\run-20230227_122253-fjblhm7d\\files\\model-best\\assets\n"
     ]
    },
    {
     "name": "stderr",
     "output_type": "stream",
     "text": [
      "INFO:tensorflow:Assets written to: C:\\Users\\ucesvpm\\OneDrive - University College London\\PhD Project\\Data Analytics\\Time Series Clustering\\Third Test\\Time-Series-PhD\\wandb\\run-20230227_122253-fjblhm7d\\files\\model-best\\assets\n",
      "\u001b[34m\u001b[1mwandb\u001b[0m: Adding directory to artifact (C:\\Users\\ucesvpm\\OneDrive - University College London\\PhD Project\\Data Analytics\\Time Series Clustering\\Third Test\\Time-Series-PhD\\wandb\\run-20230227_122253-fjblhm7d\\files\\model-best)... Done. 0.2s\n"
     ]
    },
    {
     "name": "stdout",
     "output_type": "stream",
     "text": [
      "1265/1265 [==============================] - 27s 22ms/step - loss: 0.2310 - mse: 0.2310 - val_loss: 0.2403 - val_mse: 0.2403 - lr: 2.9091e-05\n",
      "Epoch 34/100\n",
      "1265/1265 [==============================] - 25s 20ms/step - loss: 0.2304 - mse: 0.2304 - val_loss: 0.2403 - val_mse: 0.2403 - lr: 2.9091e-05\n",
      "Epoch 35/100\n",
      "1265/1265 [==============================] - ETA: 0s - loss: 0.2297 - mse: 0.2297"
     ]
    },
    {
     "name": "stderr",
     "output_type": "stream",
     "text": [
      "WARNING:absl:Found untraced functions such as leaky_re_lu_layer_call_fn, leaky_re_lu_layer_call_and_return_conditional_losses, leaky_re_lu_1_layer_call_fn, leaky_re_lu_1_layer_call_and_return_conditional_losses, leaky_re_lu_2_layer_call_fn while saving (showing 5 of 12). These functions will not be directly callable after loading.\n"
     ]
    },
    {
     "name": "stdout",
     "output_type": "stream",
     "text": [
      "INFO:tensorflow:Assets written to: C:\\Users\\ucesvpm\\OneDrive - University College London\\PhD Project\\Data Analytics\\Time Series Clustering\\Third Test\\Time-Series-PhD\\wandb\\run-20230227_122253-fjblhm7d\\files\\model-best\\assets\n"
     ]
    },
    {
     "name": "stderr",
     "output_type": "stream",
     "text": [
      "INFO:tensorflow:Assets written to: C:\\Users\\ucesvpm\\OneDrive - University College London\\PhD Project\\Data Analytics\\Time Series Clustering\\Third Test\\Time-Series-PhD\\wandb\\run-20230227_122253-fjblhm7d\\files\\model-best\\assets\n",
      "\u001b[34m\u001b[1mwandb\u001b[0m: Adding directory to artifact (C:\\Users\\ucesvpm\\OneDrive - University College London\\PhD Project\\Data Analytics\\Time Series Clustering\\Third Test\\Time-Series-PhD\\wandb\\run-20230227_122253-fjblhm7d\\files\\model-best)... Done. 0.1s\n"
     ]
    },
    {
     "name": "stdout",
     "output_type": "stream",
     "text": [
      "1265/1265 [==============================] - 29s 23ms/step - loss: 0.2297 - mse: 0.2297 - val_loss: 0.2392 - val_mse: 0.2392 - lr: 2.9091e-05\n",
      "Epoch 36/100\n",
      "1263/1265 [============================>.] - ETA: 0s - loss: 0.2290 - mse: 0.2290"
     ]
    },
    {
     "name": "stderr",
     "output_type": "stream",
     "text": [
      "WARNING:absl:Found untraced functions such as leaky_re_lu_layer_call_fn, leaky_re_lu_layer_call_and_return_conditional_losses, leaky_re_lu_1_layer_call_fn, leaky_re_lu_1_layer_call_and_return_conditional_losses, leaky_re_lu_2_layer_call_fn while saving (showing 5 of 12). These functions will not be directly callable after loading.\n"
     ]
    },
    {
     "name": "stdout",
     "output_type": "stream",
     "text": [
      "INFO:tensorflow:Assets written to: C:\\Users\\ucesvpm\\OneDrive - University College London\\PhD Project\\Data Analytics\\Time Series Clustering\\Third Test\\Time-Series-PhD\\wandb\\run-20230227_122253-fjblhm7d\\files\\model-best\\assets\n"
     ]
    },
    {
     "name": "stderr",
     "output_type": "stream",
     "text": [
      "INFO:tensorflow:Assets written to: C:\\Users\\ucesvpm\\OneDrive - University College London\\PhD Project\\Data Analytics\\Time Series Clustering\\Third Test\\Time-Series-PhD\\wandb\\run-20230227_122253-fjblhm7d\\files\\model-best\\assets\n",
      "\u001b[34m\u001b[1mwandb\u001b[0m: Adding directory to artifact (C:\\Users\\ucesvpm\\OneDrive - University College London\\PhD Project\\Data Analytics\\Time Series Clustering\\Third Test\\Time-Series-PhD\\wandb\\run-20230227_122253-fjblhm7d\\files\\model-best)... Done. 0.3s\n"
     ]
    },
    {
     "name": "stdout",
     "output_type": "stream",
     "text": [
      "1265/1265 [==============================] - 28s 22ms/step - loss: 0.2290 - mse: 0.2290 - val_loss: 0.2385 - val_mse: 0.2385 - lr: 2.9091e-05\n",
      "Epoch 37/100\n",
      "1263/1265 [============================>.] - ETA: 0s - loss: 0.2284 - mse: 0.2284"
     ]
    },
    {
     "name": "stderr",
     "output_type": "stream",
     "text": [
      "WARNING:absl:Found untraced functions such as leaky_re_lu_layer_call_fn, leaky_re_lu_layer_call_and_return_conditional_losses, leaky_re_lu_1_layer_call_fn, leaky_re_lu_1_layer_call_and_return_conditional_losses, leaky_re_lu_2_layer_call_fn while saving (showing 5 of 12). These functions will not be directly callable after loading.\n"
     ]
    },
    {
     "name": "stdout",
     "output_type": "stream",
     "text": [
      "INFO:tensorflow:Assets written to: C:\\Users\\ucesvpm\\OneDrive - University College London\\PhD Project\\Data Analytics\\Time Series Clustering\\Third Test\\Time-Series-PhD\\wandb\\run-20230227_122253-fjblhm7d\\files\\model-best\\assets\n"
     ]
    },
    {
     "name": "stderr",
     "output_type": "stream",
     "text": [
      "INFO:tensorflow:Assets written to: C:\\Users\\ucesvpm\\OneDrive - University College London\\PhD Project\\Data Analytics\\Time Series Clustering\\Third Test\\Time-Series-PhD\\wandb\\run-20230227_122253-fjblhm7d\\files\\model-best\\assets\n",
      "\u001b[34m\u001b[1mwandb\u001b[0m: Adding directory to artifact (C:\\Users\\ucesvpm\\OneDrive - University College London\\PhD Project\\Data Analytics\\Time Series Clustering\\Third Test\\Time-Series-PhD\\wandb\\run-20230227_122253-fjblhm7d\\files\\model-best)... Done. 0.2s\n"
     ]
    },
    {
     "name": "stdout",
     "output_type": "stream",
     "text": [
      "1265/1265 [==============================] - 28s 22ms/step - loss: 0.2284 - mse: 0.2284 - val_loss: 0.2384 - val_mse: 0.2384 - lr: 2.9091e-05\n",
      "Epoch 38/100\n",
      "1263/1265 [============================>.] - ETA: 0s - loss: 0.2278 - mse: 0.2278"
     ]
    },
    {
     "name": "stderr",
     "output_type": "stream",
     "text": [
      "WARNING:absl:Found untraced functions such as leaky_re_lu_layer_call_fn, leaky_re_lu_layer_call_and_return_conditional_losses, leaky_re_lu_1_layer_call_fn, leaky_re_lu_1_layer_call_and_return_conditional_losses, leaky_re_lu_2_layer_call_fn while saving (showing 5 of 12). These functions will not be directly callable after loading.\n"
     ]
    },
    {
     "name": "stdout",
     "output_type": "stream",
     "text": [
      "INFO:tensorflow:Assets written to: C:\\Users\\ucesvpm\\OneDrive - University College London\\PhD Project\\Data Analytics\\Time Series Clustering\\Third Test\\Time-Series-PhD\\wandb\\run-20230227_122253-fjblhm7d\\files\\model-best\\assets\n"
     ]
    },
    {
     "name": "stderr",
     "output_type": "stream",
     "text": [
      "INFO:tensorflow:Assets written to: C:\\Users\\ucesvpm\\OneDrive - University College London\\PhD Project\\Data Analytics\\Time Series Clustering\\Third Test\\Time-Series-PhD\\wandb\\run-20230227_122253-fjblhm7d\\files\\model-best\\assets\n",
      "\u001b[34m\u001b[1mwandb\u001b[0m: Adding directory to artifact (C:\\Users\\ucesvpm\\OneDrive - University College London\\PhD Project\\Data Analytics\\Time Series Clustering\\Third Test\\Time-Series-PhD\\wandb\\run-20230227_122253-fjblhm7d\\files\\model-best)... Done. 0.2s\n"
     ]
    },
    {
     "name": "stdout",
     "output_type": "stream",
     "text": [
      "1265/1265 [==============================] - 29s 23ms/step - loss: 0.2278 - mse: 0.2278 - val_loss: 0.2378 - val_mse: 0.2378 - lr: 2.9091e-05\n",
      "Epoch 39/100\n",
      "1264/1265 [============================>.] - ETA: 0s - loss: 0.2271 - mse: 0.2271"
     ]
    },
    {
     "name": "stderr",
     "output_type": "stream",
     "text": [
      "WARNING:absl:Found untraced functions such as leaky_re_lu_layer_call_fn, leaky_re_lu_layer_call_and_return_conditional_losses, leaky_re_lu_1_layer_call_fn, leaky_re_lu_1_layer_call_and_return_conditional_losses, leaky_re_lu_2_layer_call_fn while saving (showing 5 of 12). These functions will not be directly callable after loading.\n"
     ]
    },
    {
     "name": "stdout",
     "output_type": "stream",
     "text": [
      "INFO:tensorflow:Assets written to: C:\\Users\\ucesvpm\\OneDrive - University College London\\PhD Project\\Data Analytics\\Time Series Clustering\\Third Test\\Time-Series-PhD\\wandb\\run-20230227_122253-fjblhm7d\\files\\model-best\\assets\n"
     ]
    },
    {
     "name": "stderr",
     "output_type": "stream",
     "text": [
      "INFO:tensorflow:Assets written to: C:\\Users\\ucesvpm\\OneDrive - University College London\\PhD Project\\Data Analytics\\Time Series Clustering\\Third Test\\Time-Series-PhD\\wandb\\run-20230227_122253-fjblhm7d\\files\\model-best\\assets\n",
      "\u001b[34m\u001b[1mwandb\u001b[0m: Adding directory to artifact (C:\\Users\\ucesvpm\\OneDrive - University College London\\PhD Project\\Data Analytics\\Time Series Clustering\\Third Test\\Time-Series-PhD\\wandb\\run-20230227_122253-fjblhm7d\\files\\model-best)... Done. 0.2s\n"
     ]
    },
    {
     "name": "stdout",
     "output_type": "stream",
     "text": [
      "1265/1265 [==============================] - 28s 22ms/step - loss: 0.2271 - mse: 0.2271 - val_loss: 0.2367 - val_mse: 0.2367 - lr: 2.9091e-05\n",
      "Epoch 40/100\n",
      "1265/1265 [==============================] - 25s 20ms/step - loss: 0.2266 - mse: 0.2266 - val_loss: 0.2368 - val_mse: 0.2368 - lr: 2.9091e-05\n",
      "Epoch 41/100\n",
      "1265/1265 [==============================] - 26s 20ms/step - loss: 0.2260 - mse: 0.2260 - val_loss: 0.2373 - val_mse: 0.2373 - lr: 2.9091e-05\n",
      "Epoch 42/100\n",
      "1265/1265 [==============================] - ETA: 0s - loss: 0.2255 - mse: 0.2255"
     ]
    },
    {
     "name": "stderr",
     "output_type": "stream",
     "text": [
      "WARNING:absl:Found untraced functions such as leaky_re_lu_layer_call_fn, leaky_re_lu_layer_call_and_return_conditional_losses, leaky_re_lu_1_layer_call_fn, leaky_re_lu_1_layer_call_and_return_conditional_losses, leaky_re_lu_2_layer_call_fn while saving (showing 5 of 12). These functions will not be directly callable after loading.\n"
     ]
    },
    {
     "name": "stdout",
     "output_type": "stream",
     "text": [
      "INFO:tensorflow:Assets written to: C:\\Users\\ucesvpm\\OneDrive - University College London\\PhD Project\\Data Analytics\\Time Series Clustering\\Third Test\\Time-Series-PhD\\wandb\\run-20230227_122253-fjblhm7d\\files\\model-best\\assets\n"
     ]
    },
    {
     "name": "stderr",
     "output_type": "stream",
     "text": [
      "INFO:tensorflow:Assets written to: C:\\Users\\ucesvpm\\OneDrive - University College London\\PhD Project\\Data Analytics\\Time Series Clustering\\Third Test\\Time-Series-PhD\\wandb\\run-20230227_122253-fjblhm7d\\files\\model-best\\assets\n",
      "\u001b[34m\u001b[1mwandb\u001b[0m: Adding directory to artifact (C:\\Users\\ucesvpm\\OneDrive - University College London\\PhD Project\\Data Analytics\\Time Series Clustering\\Third Test\\Time-Series-PhD\\wandb\\run-20230227_122253-fjblhm7d\\files\\model-best)... Done. 0.2s\n"
     ]
    },
    {
     "name": "stdout",
     "output_type": "stream",
     "text": [
      "1265/1265 [==============================] - 28s 22ms/step - loss: 0.2255 - mse: 0.2255 - val_loss: 0.2356 - val_mse: 0.2356 - lr: 2.9091e-05\n",
      "Epoch 43/100\n",
      "1265/1265 [==============================] - 25s 20ms/step - loss: 0.2249 - mse: 0.2249 - val_loss: 0.2362 - val_mse: 0.2362 - lr: 2.9091e-05\n",
      "Epoch 44/100\n",
      "1263/1265 [============================>.] - ETA: 0s - loss: 0.2244 - mse: 0.2244"
     ]
    },
    {
     "name": "stderr",
     "output_type": "stream",
     "text": [
      "WARNING:absl:Found untraced functions such as leaky_re_lu_layer_call_fn, leaky_re_lu_layer_call_and_return_conditional_losses, leaky_re_lu_1_layer_call_fn, leaky_re_lu_1_layer_call_and_return_conditional_losses, leaky_re_lu_2_layer_call_fn while saving (showing 5 of 12). These functions will not be directly callable after loading.\n"
     ]
    },
    {
     "name": "stdout",
     "output_type": "stream",
     "text": [
      "INFO:tensorflow:Assets written to: C:\\Users\\ucesvpm\\OneDrive - University College London\\PhD Project\\Data Analytics\\Time Series Clustering\\Third Test\\Time-Series-PhD\\wandb\\run-20230227_122253-fjblhm7d\\files\\model-best\\assets\n"
     ]
    },
    {
     "name": "stderr",
     "output_type": "stream",
     "text": [
      "INFO:tensorflow:Assets written to: C:\\Users\\ucesvpm\\OneDrive - University College London\\PhD Project\\Data Analytics\\Time Series Clustering\\Third Test\\Time-Series-PhD\\wandb\\run-20230227_122253-fjblhm7d\\files\\model-best\\assets\n",
      "\u001b[34m\u001b[1mwandb\u001b[0m: Adding directory to artifact (C:\\Users\\ucesvpm\\OneDrive - University College London\\PhD Project\\Data Analytics\\Time Series Clustering\\Third Test\\Time-Series-PhD\\wandb\\run-20230227_122253-fjblhm7d\\files\\model-best)... Done. 0.2s\n"
     ]
    },
    {
     "name": "stdout",
     "output_type": "stream",
     "text": [
      "1265/1265 [==============================] - 29s 23ms/step - loss: 0.2244 - mse: 0.2244 - val_loss: 0.2356 - val_mse: 0.2356 - lr: 2.9091e-05\n",
      "Epoch 45/100\n",
      "1263/1265 [============================>.] - ETA: 0s - loss: 0.2238 - mse: 0.2238"
     ]
    },
    {
     "name": "stderr",
     "output_type": "stream",
     "text": [
      "WARNING:absl:Found untraced functions such as leaky_re_lu_layer_call_fn, leaky_re_lu_layer_call_and_return_conditional_losses, leaky_re_lu_1_layer_call_fn, leaky_re_lu_1_layer_call_and_return_conditional_losses, leaky_re_lu_2_layer_call_fn while saving (showing 5 of 12). These functions will not be directly callable after loading.\n"
     ]
    },
    {
     "name": "stdout",
     "output_type": "stream",
     "text": [
      "INFO:tensorflow:Assets written to: C:\\Users\\ucesvpm\\OneDrive - University College London\\PhD Project\\Data Analytics\\Time Series Clustering\\Third Test\\Time-Series-PhD\\wandb\\run-20230227_122253-fjblhm7d\\files\\model-best\\assets\n"
     ]
    },
    {
     "name": "stderr",
     "output_type": "stream",
     "text": [
      "INFO:tensorflow:Assets written to: C:\\Users\\ucesvpm\\OneDrive - University College London\\PhD Project\\Data Analytics\\Time Series Clustering\\Third Test\\Time-Series-PhD\\wandb\\run-20230227_122253-fjblhm7d\\files\\model-best\\assets\n",
      "\u001b[34m\u001b[1mwandb\u001b[0m: Adding directory to artifact (C:\\Users\\ucesvpm\\OneDrive - University College London\\PhD Project\\Data Analytics\\Time Series Clustering\\Third Test\\Time-Series-PhD\\wandb\\run-20230227_122253-fjblhm7d\\files\\model-best)... Done. 0.2s\n"
     ]
    },
    {
     "name": "stdout",
     "output_type": "stream",
     "text": [
      "1265/1265 [==============================] - 30s 23ms/step - loss: 0.2238 - mse: 0.2238 - val_loss: 0.2348 - val_mse: 0.2348 - lr: 2.9091e-05\n",
      "Epoch 46/100\n",
      "1264/1265 [============================>.] - ETA: 0s - loss: 0.2232 - mse: 0.2232"
     ]
    },
    {
     "name": "stderr",
     "output_type": "stream",
     "text": [
      "WARNING:absl:Found untraced functions such as leaky_re_lu_layer_call_fn, leaky_re_lu_layer_call_and_return_conditional_losses, leaky_re_lu_1_layer_call_fn, leaky_re_lu_1_layer_call_and_return_conditional_losses, leaky_re_lu_2_layer_call_fn while saving (showing 5 of 12). These functions will not be directly callable after loading.\n"
     ]
    },
    {
     "name": "stdout",
     "output_type": "stream",
     "text": [
      "INFO:tensorflow:Assets written to: C:\\Users\\ucesvpm\\OneDrive - University College London\\PhD Project\\Data Analytics\\Time Series Clustering\\Third Test\\Time-Series-PhD\\wandb\\run-20230227_122253-fjblhm7d\\files\\model-best\\assets\n"
     ]
    },
    {
     "name": "stderr",
     "output_type": "stream",
     "text": [
      "INFO:tensorflow:Assets written to: C:\\Users\\ucesvpm\\OneDrive - University College London\\PhD Project\\Data Analytics\\Time Series Clustering\\Third Test\\Time-Series-PhD\\wandb\\run-20230227_122253-fjblhm7d\\files\\model-best\\assets\n",
      "\u001b[34m\u001b[1mwandb\u001b[0m: Adding directory to artifact (C:\\Users\\ucesvpm\\OneDrive - University College London\\PhD Project\\Data Analytics\\Time Series Clustering\\Third Test\\Time-Series-PhD\\wandb\\run-20230227_122253-fjblhm7d\\files\\model-best)... Done. 0.2s\n"
     ]
    },
    {
     "name": "stdout",
     "output_type": "stream",
     "text": [
      "1265/1265 [==============================] - 29s 23ms/step - loss: 0.2233 - mse: 0.2233 - val_loss: 0.2345 - val_mse: 0.2345 - lr: 2.9091e-05\n",
      "Epoch 47/100\n",
      "1262/1265 [============================>.] - ETA: 0s - loss: 0.2227 - mse: 0.2227"
     ]
    },
    {
     "name": "stderr",
     "output_type": "stream",
     "text": [
      "WARNING:absl:Found untraced functions such as leaky_re_lu_layer_call_fn, leaky_re_lu_layer_call_and_return_conditional_losses, leaky_re_lu_1_layer_call_fn, leaky_re_lu_1_layer_call_and_return_conditional_losses, leaky_re_lu_2_layer_call_fn while saving (showing 5 of 12). These functions will not be directly callable after loading.\n"
     ]
    },
    {
     "name": "stdout",
     "output_type": "stream",
     "text": [
      "INFO:tensorflow:Assets written to: C:\\Users\\ucesvpm\\OneDrive - University College London\\PhD Project\\Data Analytics\\Time Series Clustering\\Third Test\\Time-Series-PhD\\wandb\\run-20230227_122253-fjblhm7d\\files\\model-best\\assets\n"
     ]
    },
    {
     "name": "stderr",
     "output_type": "stream",
     "text": [
      "INFO:tensorflow:Assets written to: C:\\Users\\ucesvpm\\OneDrive - University College London\\PhD Project\\Data Analytics\\Time Series Clustering\\Third Test\\Time-Series-PhD\\wandb\\run-20230227_122253-fjblhm7d\\files\\model-best\\assets\n",
      "\u001b[34m\u001b[1mwandb\u001b[0m: Adding directory to artifact (C:\\Users\\ucesvpm\\OneDrive - University College London\\PhD Project\\Data Analytics\\Time Series Clustering\\Third Test\\Time-Series-PhD\\wandb\\run-20230227_122253-fjblhm7d\\files\\model-best)... Done. 0.3s\n"
     ]
    },
    {
     "name": "stdout",
     "output_type": "stream",
     "text": [
      "1265/1265 [==============================] - 28s 22ms/step - loss: 0.2228 - mse: 0.2228 - val_loss: 0.2338 - val_mse: 0.2338 - lr: 2.9091e-05\n",
      "Epoch 48/100\n",
      "1265/1265 [==============================] - 25s 20ms/step - loss: 0.2223 - mse: 0.2223 - val_loss: 0.2341 - val_mse: 0.2341 - lr: 2.9091e-05\n",
      "Epoch 49/100\n",
      "1265/1265 [==============================] - 25s 20ms/step - loss: 0.2217 - mse: 0.2217 - val_loss: 0.2338 - val_mse: 0.2338 - lr: 2.9091e-05\n",
      "Epoch 50/100\n",
      "1265/1265 [==============================] - ETA: 0s - loss: 0.2212 - mse: 0.2212"
     ]
    },
    {
     "name": "stderr",
     "output_type": "stream",
     "text": [
      "WARNING:absl:Found untraced functions such as leaky_re_lu_layer_call_fn, leaky_re_lu_layer_call_and_return_conditional_losses, leaky_re_lu_1_layer_call_fn, leaky_re_lu_1_layer_call_and_return_conditional_losses, leaky_re_lu_2_layer_call_fn while saving (showing 5 of 12). These functions will not be directly callable after loading.\n"
     ]
    },
    {
     "name": "stdout",
     "output_type": "stream",
     "text": [
      "INFO:tensorflow:Assets written to: C:\\Users\\ucesvpm\\OneDrive - University College London\\PhD Project\\Data Analytics\\Time Series Clustering\\Third Test\\Time-Series-PhD\\wandb\\run-20230227_122253-fjblhm7d\\files\\model-best\\assets\n"
     ]
    },
    {
     "name": "stderr",
     "output_type": "stream",
     "text": [
      "INFO:tensorflow:Assets written to: C:\\Users\\ucesvpm\\OneDrive - University College London\\PhD Project\\Data Analytics\\Time Series Clustering\\Third Test\\Time-Series-PhD\\wandb\\run-20230227_122253-fjblhm7d\\files\\model-best\\assets\n",
      "\u001b[34m\u001b[1mwandb\u001b[0m: Adding directory to artifact (C:\\Users\\ucesvpm\\OneDrive - University College London\\PhD Project\\Data Analytics\\Time Series Clustering\\Third Test\\Time-Series-PhD\\wandb\\run-20230227_122253-fjblhm7d\\files\\model-best)... Done. 0.2s\n"
     ]
    },
    {
     "name": "stdout",
     "output_type": "stream",
     "text": [
      "1265/1265 [==============================] - 30s 24ms/step - loss: 0.2212 - mse: 0.2212 - val_loss: 0.2334 - val_mse: 0.2334 - lr: 2.9091e-05\n",
      "Epoch 51/100\n",
      "1264/1265 [============================>.] - ETA: 0s - loss: 0.2207 - mse: 0.2207"
     ]
    },
    {
     "name": "stderr",
     "output_type": "stream",
     "text": [
      "WARNING:absl:Found untraced functions such as leaky_re_lu_layer_call_fn, leaky_re_lu_layer_call_and_return_conditional_losses, leaky_re_lu_1_layer_call_fn, leaky_re_lu_1_layer_call_and_return_conditional_losses, leaky_re_lu_2_layer_call_fn while saving (showing 5 of 12). These functions will not be directly callable after loading.\n"
     ]
    },
    {
     "name": "stdout",
     "output_type": "stream",
     "text": [
      "INFO:tensorflow:Assets written to: C:\\Users\\ucesvpm\\OneDrive - University College London\\PhD Project\\Data Analytics\\Time Series Clustering\\Third Test\\Time-Series-PhD\\wandb\\run-20230227_122253-fjblhm7d\\files\\model-best\\assets\n"
     ]
    },
    {
     "name": "stderr",
     "output_type": "stream",
     "text": [
      "INFO:tensorflow:Assets written to: C:\\Users\\ucesvpm\\OneDrive - University College London\\PhD Project\\Data Analytics\\Time Series Clustering\\Third Test\\Time-Series-PhD\\wandb\\run-20230227_122253-fjblhm7d\\files\\model-best\\assets\n",
      "\u001b[34m\u001b[1mwandb\u001b[0m: Adding directory to artifact (C:\\Users\\ucesvpm\\OneDrive - University College London\\PhD Project\\Data Analytics\\Time Series Clustering\\Third Test\\Time-Series-PhD\\wandb\\run-20230227_122253-fjblhm7d\\files\\model-best)... Done. 0.2s\n"
     ]
    },
    {
     "name": "stdout",
     "output_type": "stream",
     "text": [
      "1265/1265 [==============================] - 29s 23ms/step - loss: 0.2207 - mse: 0.2207 - val_loss: 0.2329 - val_mse: 0.2329 - lr: 2.9091e-05\n",
      "Epoch 52/100\n",
      "1265/1265 [==============================] - ETA: 0s - loss: 0.2202 - mse: 0.2202"
     ]
    },
    {
     "name": "stderr",
     "output_type": "stream",
     "text": [
      "WARNING:absl:Found untraced functions such as leaky_re_lu_layer_call_fn, leaky_re_lu_layer_call_and_return_conditional_losses, leaky_re_lu_1_layer_call_fn, leaky_re_lu_1_layer_call_and_return_conditional_losses, leaky_re_lu_2_layer_call_fn while saving (showing 5 of 12). These functions will not be directly callable after loading.\n"
     ]
    },
    {
     "name": "stdout",
     "output_type": "stream",
     "text": [
      "INFO:tensorflow:Assets written to: C:\\Users\\ucesvpm\\OneDrive - University College London\\PhD Project\\Data Analytics\\Time Series Clustering\\Third Test\\Time-Series-PhD\\wandb\\run-20230227_122253-fjblhm7d\\files\\model-best\\assets\n"
     ]
    },
    {
     "name": "stderr",
     "output_type": "stream",
     "text": [
      "INFO:tensorflow:Assets written to: C:\\Users\\ucesvpm\\OneDrive - University College London\\PhD Project\\Data Analytics\\Time Series Clustering\\Third Test\\Time-Series-PhD\\wandb\\run-20230227_122253-fjblhm7d\\files\\model-best\\assets\n",
      "\u001b[34m\u001b[1mwandb\u001b[0m: Adding directory to artifact (C:\\Users\\ucesvpm\\OneDrive - University College London\\PhD Project\\Data Analytics\\Time Series Clustering\\Third Test\\Time-Series-PhD\\wandb\\run-20230227_122253-fjblhm7d\\files\\model-best)... Done. 0.1s\n"
     ]
    },
    {
     "name": "stdout",
     "output_type": "stream",
     "text": [
      "1265/1265 [==============================] - 29s 23ms/step - loss: 0.2202 - mse: 0.2202 - val_loss: 0.2321 - val_mse: 0.2321 - lr: 2.9091e-05\n",
      "Epoch 53/100\n",
      "1265/1265 [==============================] - 26s 21ms/step - loss: 0.2197 - mse: 0.2197 - val_loss: 0.2327 - val_mse: 0.2327 - lr: 2.9091e-05\n",
      "Epoch 54/100\n",
      "1265/1265 [==============================] - 24s 19ms/step - loss: 0.2192 - mse: 0.2192 - val_loss: 0.2324 - val_mse: 0.2324 - lr: 2.9091e-05\n",
      "Epoch 55/100\n",
      "1265/1265 [==============================] - 26s 20ms/step - loss: 0.2187 - mse: 0.2187 - val_loss: 0.2327 - val_mse: 0.2327 - lr: 2.9091e-05\n",
      "Epoch 56/100\n",
      "1264/1265 [============================>.] - ETA: 0s - loss: 0.2182 - mse: 0.2182"
     ]
    },
    {
     "name": "stderr",
     "output_type": "stream",
     "text": [
      "WARNING:absl:Found untraced functions such as leaky_re_lu_layer_call_fn, leaky_re_lu_layer_call_and_return_conditional_losses, leaky_re_lu_1_layer_call_fn, leaky_re_lu_1_layer_call_and_return_conditional_losses, leaky_re_lu_2_layer_call_fn while saving (showing 5 of 12). These functions will not be directly callable after loading.\n"
     ]
    },
    {
     "name": "stdout",
     "output_type": "stream",
     "text": [
      "INFO:tensorflow:Assets written to: C:\\Users\\ucesvpm\\OneDrive - University College London\\PhD Project\\Data Analytics\\Time Series Clustering\\Third Test\\Time-Series-PhD\\wandb\\run-20230227_122253-fjblhm7d\\files\\model-best\\assets\n"
     ]
    },
    {
     "name": "stderr",
     "output_type": "stream",
     "text": [
      "INFO:tensorflow:Assets written to: C:\\Users\\ucesvpm\\OneDrive - University College London\\PhD Project\\Data Analytics\\Time Series Clustering\\Third Test\\Time-Series-PhD\\wandb\\run-20230227_122253-fjblhm7d\\files\\model-best\\assets\n",
      "\u001b[34m\u001b[1mwandb\u001b[0m: Adding directory to artifact (C:\\Users\\ucesvpm\\OneDrive - University College London\\PhD Project\\Data Analytics\\Time Series Clustering\\Third Test\\Time-Series-PhD\\wandb\\run-20230227_122253-fjblhm7d\\files\\model-best)... Done. 0.3s\n"
     ]
    },
    {
     "name": "stdout",
     "output_type": "stream",
     "text": [
      "1265/1265 [==============================] - 28s 22ms/step - loss: 0.2182 - mse: 0.2182 - val_loss: 0.2309 - val_mse: 0.2309 - lr: 2.9091e-05\n",
      "Epoch 57/100\n",
      "1263/1265 [============================>.] - ETA: 0s - loss: 0.2177 - mse: 0.2177"
     ]
    },
    {
     "name": "stderr",
     "output_type": "stream",
     "text": [
      "WARNING:absl:Found untraced functions such as leaky_re_lu_layer_call_fn, leaky_re_lu_layer_call_and_return_conditional_losses, leaky_re_lu_1_layer_call_fn, leaky_re_lu_1_layer_call_and_return_conditional_losses, leaky_re_lu_2_layer_call_fn while saving (showing 5 of 12). These functions will not be directly callable after loading.\n"
     ]
    },
    {
     "name": "stdout",
     "output_type": "stream",
     "text": [
      "INFO:tensorflow:Assets written to: C:\\Users\\ucesvpm\\OneDrive - University College London\\PhD Project\\Data Analytics\\Time Series Clustering\\Third Test\\Time-Series-PhD\\wandb\\run-20230227_122253-fjblhm7d\\files\\model-best\\assets\n"
     ]
    },
    {
     "name": "stderr",
     "output_type": "stream",
     "text": [
      "INFO:tensorflow:Assets written to: C:\\Users\\ucesvpm\\OneDrive - University College London\\PhD Project\\Data Analytics\\Time Series Clustering\\Third Test\\Time-Series-PhD\\wandb\\run-20230227_122253-fjblhm7d\\files\\model-best\\assets\n",
      "\u001b[34m\u001b[1mwandb\u001b[0m: Adding directory to artifact (C:\\Users\\ucesvpm\\OneDrive - University College London\\PhD Project\\Data Analytics\\Time Series Clustering\\Third Test\\Time-Series-PhD\\wandb\\run-20230227_122253-fjblhm7d\\files\\model-best)... Done. 0.3s\n"
     ]
    },
    {
     "name": "stdout",
     "output_type": "stream",
     "text": [
      "1265/1265 [==============================] - 29s 23ms/step - loss: 0.2177 - mse: 0.2177 - val_loss: 0.2303 - val_mse: 0.2303 - lr: 2.9091e-05\n",
      "Epoch 58/100\n",
      "1264/1265 [============================>.] - ETA: 0s - loss: 0.2172 - mse: 0.2172"
     ]
    },
    {
     "name": "stderr",
     "output_type": "stream",
     "text": [
      "WARNING:absl:Found untraced functions such as leaky_re_lu_layer_call_fn, leaky_re_lu_layer_call_and_return_conditional_losses, leaky_re_lu_1_layer_call_fn, leaky_re_lu_1_layer_call_and_return_conditional_losses, leaky_re_lu_2_layer_call_fn while saving (showing 5 of 12). These functions will not be directly callable after loading.\n"
     ]
    },
    {
     "name": "stdout",
     "output_type": "stream",
     "text": [
      "INFO:tensorflow:Assets written to: C:\\Users\\ucesvpm\\OneDrive - University College London\\PhD Project\\Data Analytics\\Time Series Clustering\\Third Test\\Time-Series-PhD\\wandb\\run-20230227_122253-fjblhm7d\\files\\model-best\\assets\n"
     ]
    },
    {
     "name": "stderr",
     "output_type": "stream",
     "text": [
      "INFO:tensorflow:Assets written to: C:\\Users\\ucesvpm\\OneDrive - University College London\\PhD Project\\Data Analytics\\Time Series Clustering\\Third Test\\Time-Series-PhD\\wandb\\run-20230227_122253-fjblhm7d\\files\\model-best\\assets\n",
      "\u001b[34m\u001b[1mwandb\u001b[0m: Adding directory to artifact (C:\\Users\\ucesvpm\\OneDrive - University College London\\PhD Project\\Data Analytics\\Time Series Clustering\\Third Test\\Time-Series-PhD\\wandb\\run-20230227_122253-fjblhm7d\\files\\model-best)... Done. 0.2s\n"
     ]
    },
    {
     "name": "stdout",
     "output_type": "stream",
     "text": [
      "1265/1265 [==============================] - 28s 22ms/step - loss: 0.2172 - mse: 0.2172 - val_loss: 0.2299 - val_mse: 0.2299 - lr: 2.9091e-05\n",
      "Epoch 59/100\n",
      "1265/1265 [==============================] - 26s 20ms/step - loss: 0.2167 - mse: 0.2167 - val_loss: 0.2303 - val_mse: 0.2303 - lr: 2.9091e-05\n",
      "Epoch 60/100\n",
      "1265/1265 [==============================] - 24s 19ms/step - loss: 0.2163 - mse: 0.2163 - val_loss: 0.2303 - val_mse: 0.2303 - lr: 2.9091e-05\n",
      "Epoch 61/100\n",
      "1265/1265 [==============================] - ETA: 0s - loss: 0.2158 - mse: 0.2158"
     ]
    },
    {
     "name": "stderr",
     "output_type": "stream",
     "text": [
      "WARNING:absl:Found untraced functions such as leaky_re_lu_layer_call_fn, leaky_re_lu_layer_call_and_return_conditional_losses, leaky_re_lu_1_layer_call_fn, leaky_re_lu_1_layer_call_and_return_conditional_losses, leaky_re_lu_2_layer_call_fn while saving (showing 5 of 12). These functions will not be directly callable after loading.\n"
     ]
    },
    {
     "name": "stdout",
     "output_type": "stream",
     "text": [
      "INFO:tensorflow:Assets written to: C:\\Users\\ucesvpm\\OneDrive - University College London\\PhD Project\\Data Analytics\\Time Series Clustering\\Third Test\\Time-Series-PhD\\wandb\\run-20230227_122253-fjblhm7d\\files\\model-best\\assets\n"
     ]
    },
    {
     "name": "stderr",
     "output_type": "stream",
     "text": [
      "INFO:tensorflow:Assets written to: C:\\Users\\ucesvpm\\OneDrive - University College London\\PhD Project\\Data Analytics\\Time Series Clustering\\Third Test\\Time-Series-PhD\\wandb\\run-20230227_122253-fjblhm7d\\files\\model-best\\assets\n",
      "\u001b[34m\u001b[1mwandb\u001b[0m: Adding directory to artifact (C:\\Users\\ucesvpm\\OneDrive - University College London\\PhD Project\\Data Analytics\\Time Series Clustering\\Third Test\\Time-Series-PhD\\wandb\\run-20230227_122253-fjblhm7d\\files\\model-best)... Done. 0.8s\n"
     ]
    },
    {
     "name": "stdout",
     "output_type": "stream",
     "text": [
      "1265/1265 [==============================] - 30s 23ms/step - loss: 0.2158 - mse: 0.2158 - val_loss: 0.2293 - val_mse: 0.2293 - lr: 2.9091e-05\n",
      "Epoch 62/100\n",
      "1265/1265 [==============================] - 25s 20ms/step - loss: 0.2153 - mse: 0.2153 - val_loss: 0.2295 - val_mse: 0.2295 - lr: 2.9091e-05\n",
      "Epoch 63/100\n",
      "1265/1265 [==============================] - ETA: 0s - loss: 0.2148 - mse: 0.2148"
     ]
    },
    {
     "name": "stderr",
     "output_type": "stream",
     "text": [
      "WARNING:absl:Found untraced functions such as leaky_re_lu_layer_call_fn, leaky_re_lu_layer_call_and_return_conditional_losses, leaky_re_lu_1_layer_call_fn, leaky_re_lu_1_layer_call_and_return_conditional_losses, leaky_re_lu_2_layer_call_fn while saving (showing 5 of 12). These functions will not be directly callable after loading.\n"
     ]
    },
    {
     "name": "stdout",
     "output_type": "stream",
     "text": [
      "INFO:tensorflow:Assets written to: C:\\Users\\ucesvpm\\OneDrive - University College London\\PhD Project\\Data Analytics\\Time Series Clustering\\Third Test\\Time-Series-PhD\\wandb\\run-20230227_122253-fjblhm7d\\files\\model-best\\assets\n"
     ]
    },
    {
     "name": "stderr",
     "output_type": "stream",
     "text": [
      "INFO:tensorflow:Assets written to: C:\\Users\\ucesvpm\\OneDrive - University College London\\PhD Project\\Data Analytics\\Time Series Clustering\\Third Test\\Time-Series-PhD\\wandb\\run-20230227_122253-fjblhm7d\\files\\model-best\\assets\n",
      "\u001b[34m\u001b[1mwandb\u001b[0m: Adding directory to artifact (C:\\Users\\ucesvpm\\OneDrive - University College London\\PhD Project\\Data Analytics\\Time Series Clustering\\Third Test\\Time-Series-PhD\\wandb\\run-20230227_122253-fjblhm7d\\files\\model-best)... Done. 0.3s\n"
     ]
    },
    {
     "name": "stdout",
     "output_type": "stream",
     "text": [
      "1265/1265 [==============================] - 28s 22ms/step - loss: 0.2148 - mse: 0.2148 - val_loss: 0.2286 - val_mse: 0.2286 - lr: 2.9091e-05\n",
      "Epoch 64/100\n",
      "1265/1265 [==============================] - 25s 19ms/step - loss: 0.2144 - mse: 0.2144 - val_loss: 0.2286 - val_mse: 0.2286 - lr: 2.9091e-05\n",
      "Epoch 65/100\n",
      "1263/1265 [============================>.] - ETA: 0s - loss: 0.2140 - mse: 0.2140"
     ]
    },
    {
     "name": "stderr",
     "output_type": "stream",
     "text": [
      "WARNING:absl:Found untraced functions such as leaky_re_lu_layer_call_fn, leaky_re_lu_layer_call_and_return_conditional_losses, leaky_re_lu_1_layer_call_fn, leaky_re_lu_1_layer_call_and_return_conditional_losses, leaky_re_lu_2_layer_call_fn while saving (showing 5 of 12). These functions will not be directly callable after loading.\n"
     ]
    },
    {
     "name": "stdout",
     "output_type": "stream",
     "text": [
      "INFO:tensorflow:Assets written to: C:\\Users\\ucesvpm\\OneDrive - University College London\\PhD Project\\Data Analytics\\Time Series Clustering\\Third Test\\Time-Series-PhD\\wandb\\run-20230227_122253-fjblhm7d\\files\\model-best\\assets\n"
     ]
    },
    {
     "name": "stderr",
     "output_type": "stream",
     "text": [
      "INFO:tensorflow:Assets written to: C:\\Users\\ucesvpm\\OneDrive - University College London\\PhD Project\\Data Analytics\\Time Series Clustering\\Third Test\\Time-Series-PhD\\wandb\\run-20230227_122253-fjblhm7d\\files\\model-best\\assets\n",
      "\u001b[34m\u001b[1mwandb\u001b[0m: Adding directory to artifact (C:\\Users\\ucesvpm\\OneDrive - University College London\\PhD Project\\Data Analytics\\Time Series Clustering\\Third Test\\Time-Series-PhD\\wandb\\run-20230227_122253-fjblhm7d\\files\\model-best)... Done. 0.2s\n"
     ]
    },
    {
     "name": "stdout",
     "output_type": "stream",
     "text": [
      "1265/1265 [==============================] - 28s 22ms/step - loss: 0.2139 - mse: 0.2139 - val_loss: 0.2278 - val_mse: 0.2278 - lr: 2.9091e-05\n",
      "Epoch 66/100\n",
      "1262/1265 [============================>.] - ETA: 0s - loss: 0.2134 - mse: 0.2134"
     ]
    },
    {
     "name": "stderr",
     "output_type": "stream",
     "text": [
      "WARNING:absl:Found untraced functions such as leaky_re_lu_layer_call_fn, leaky_re_lu_layer_call_and_return_conditional_losses, leaky_re_lu_1_layer_call_fn, leaky_re_lu_1_layer_call_and_return_conditional_losses, leaky_re_lu_2_layer_call_fn while saving (showing 5 of 12). These functions will not be directly callable after loading.\n"
     ]
    },
    {
     "name": "stdout",
     "output_type": "stream",
     "text": [
      "INFO:tensorflow:Assets written to: C:\\Users\\ucesvpm\\OneDrive - University College London\\PhD Project\\Data Analytics\\Time Series Clustering\\Third Test\\Time-Series-PhD\\wandb\\run-20230227_122253-fjblhm7d\\files\\model-best\\assets\n"
     ]
    },
    {
     "name": "stderr",
     "output_type": "stream",
     "text": [
      "INFO:tensorflow:Assets written to: C:\\Users\\ucesvpm\\OneDrive - University College London\\PhD Project\\Data Analytics\\Time Series Clustering\\Third Test\\Time-Series-PhD\\wandb\\run-20230227_122253-fjblhm7d\\files\\model-best\\assets\n",
      "\u001b[34m\u001b[1mwandb\u001b[0m: Adding directory to artifact (C:\\Users\\ucesvpm\\OneDrive - University College London\\PhD Project\\Data Analytics\\Time Series Clustering\\Third Test\\Time-Series-PhD\\wandb\\run-20230227_122253-fjblhm7d\\files\\model-best)... Done. 0.2s\n"
     ]
    },
    {
     "name": "stdout",
     "output_type": "stream",
     "text": [
      "1265/1265 [==============================] - 28s 22ms/step - loss: 0.2134 - mse: 0.2134 - val_loss: 0.2275 - val_mse: 0.2275 - lr: 2.9091e-05\n",
      "Epoch 67/100\n",
      "1265/1265 [==============================] - ETA: 0s - loss: 0.2130 - mse: 0.2130"
     ]
    },
    {
     "name": "stderr",
     "output_type": "stream",
     "text": [
      "WARNING:absl:Found untraced functions such as leaky_re_lu_layer_call_fn, leaky_re_lu_layer_call_and_return_conditional_losses, leaky_re_lu_1_layer_call_fn, leaky_re_lu_1_layer_call_and_return_conditional_losses, leaky_re_lu_2_layer_call_fn while saving (showing 5 of 12). These functions will not be directly callable after loading.\n"
     ]
    },
    {
     "name": "stdout",
     "output_type": "stream",
     "text": [
      "INFO:tensorflow:Assets written to: C:\\Users\\ucesvpm\\OneDrive - University College London\\PhD Project\\Data Analytics\\Time Series Clustering\\Third Test\\Time-Series-PhD\\wandb\\run-20230227_122253-fjblhm7d\\files\\model-best\\assets\n"
     ]
    },
    {
     "name": "stderr",
     "output_type": "stream",
     "text": [
      "INFO:tensorflow:Assets written to: C:\\Users\\ucesvpm\\OneDrive - University College London\\PhD Project\\Data Analytics\\Time Series Clustering\\Third Test\\Time-Series-PhD\\wandb\\run-20230227_122253-fjblhm7d\\files\\model-best\\assets\n",
      "\u001b[34m\u001b[1mwandb\u001b[0m: Adding directory to artifact (C:\\Users\\ucesvpm\\OneDrive - University College London\\PhD Project\\Data Analytics\\Time Series Clustering\\Third Test\\Time-Series-PhD\\wandb\\run-20230227_122253-fjblhm7d\\files\\model-best)... Done. 0.1s\n"
     ]
    },
    {
     "name": "stdout",
     "output_type": "stream",
     "text": [
      "1265/1265 [==============================] - 27s 21ms/step - loss: 0.2130 - mse: 0.2130 - val_loss: 0.2275 - val_mse: 0.2275 - lr: 2.9091e-05\n",
      "Epoch 68/100\n",
      "1263/1265 [============================>.] - ETA: 0s - loss: 0.2125 - mse: 0.2125"
     ]
    },
    {
     "name": "stderr",
     "output_type": "stream",
     "text": [
      "WARNING:absl:Found untraced functions such as leaky_re_lu_layer_call_fn, leaky_re_lu_layer_call_and_return_conditional_losses, leaky_re_lu_1_layer_call_fn, leaky_re_lu_1_layer_call_and_return_conditional_losses, leaky_re_lu_2_layer_call_fn while saving (showing 5 of 12). These functions will not be directly callable after loading.\n"
     ]
    },
    {
     "name": "stdout",
     "output_type": "stream",
     "text": [
      "INFO:tensorflow:Assets written to: C:\\Users\\ucesvpm\\OneDrive - University College London\\PhD Project\\Data Analytics\\Time Series Clustering\\Third Test\\Time-Series-PhD\\wandb\\run-20230227_122253-fjblhm7d\\files\\model-best\\assets\n"
     ]
    },
    {
     "name": "stderr",
     "output_type": "stream",
     "text": [
      "INFO:tensorflow:Assets written to: C:\\Users\\ucesvpm\\OneDrive - University College London\\PhD Project\\Data Analytics\\Time Series Clustering\\Third Test\\Time-Series-PhD\\wandb\\run-20230227_122253-fjblhm7d\\files\\model-best\\assets\n",
      "\u001b[34m\u001b[1mwandb\u001b[0m: Adding directory to artifact (C:\\Users\\ucesvpm\\OneDrive - University College London\\PhD Project\\Data Analytics\\Time Series Clustering\\Third Test\\Time-Series-PhD\\wandb\\run-20230227_122253-fjblhm7d\\files\\model-best)... Done. 0.3s\n"
     ]
    },
    {
     "name": "stdout",
     "output_type": "stream",
     "text": [
      "1265/1265 [==============================] - 28s 22ms/step - loss: 0.2125 - mse: 0.2125 - val_loss: 0.2268 - val_mse: 0.2268 - lr: 2.9091e-05\n",
      "Epoch 69/100\n",
      "1265/1265 [==============================] - 25s 20ms/step - loss: 0.2121 - mse: 0.2121 - val_loss: 0.2269 - val_mse: 0.2269 - lr: 2.9091e-05\n",
      "Epoch 70/100\n",
      "1265/1265 [==============================] - 28s 23ms/step - loss: 0.2116 - mse: 0.2116 - val_loss: 0.2270 - val_mse: 0.2270 - lr: 2.9091e-05\n",
      "Epoch 71/100\n",
      "1265/1265 [==============================] - ETA: 0s - loss: 0.2111 - mse: 0.2111"
     ]
    },
    {
     "name": "stderr",
     "output_type": "stream",
     "text": [
      "WARNING:absl:Found untraced functions such as leaky_re_lu_layer_call_fn, leaky_re_lu_layer_call_and_return_conditional_losses, leaky_re_lu_1_layer_call_fn, leaky_re_lu_1_layer_call_and_return_conditional_losses, leaky_re_lu_2_layer_call_fn while saving (showing 5 of 12). These functions will not be directly callable after loading.\n"
     ]
    },
    {
     "name": "stdout",
     "output_type": "stream",
     "text": [
      "INFO:tensorflow:Assets written to: C:\\Users\\ucesvpm\\OneDrive - University College London\\PhD Project\\Data Analytics\\Time Series Clustering\\Third Test\\Time-Series-PhD\\wandb\\run-20230227_122253-fjblhm7d\\files\\model-best\\assets\n"
     ]
    },
    {
     "name": "stderr",
     "output_type": "stream",
     "text": [
      "INFO:tensorflow:Assets written to: C:\\Users\\ucesvpm\\OneDrive - University College London\\PhD Project\\Data Analytics\\Time Series Clustering\\Third Test\\Time-Series-PhD\\wandb\\run-20230227_122253-fjblhm7d\\files\\model-best\\assets\n",
      "\u001b[34m\u001b[1mwandb\u001b[0m: Adding directory to artifact (C:\\Users\\ucesvpm\\OneDrive - University College London\\PhD Project\\Data Analytics\\Time Series Clustering\\Third Test\\Time-Series-PhD\\wandb\\run-20230227_122253-fjblhm7d\\files\\model-best)... Done. 0.4s\n"
     ]
    },
    {
     "name": "stdout",
     "output_type": "stream",
     "text": [
      "1265/1265 [==============================] - 33s 26ms/step - loss: 0.2111 - mse: 0.2111 - val_loss: 0.2256 - val_mse: 0.2256 - lr: 2.9091e-05\n",
      "Epoch 72/100\n",
      "1265/1265 [==============================] - 25s 20ms/step - loss: 0.2107 - mse: 0.2107 - val_loss: 0.2260 - val_mse: 0.2260 - lr: 2.9091e-05\n",
      "Epoch 73/100\n",
      "1265/1265 [==============================] - 26s 21ms/step - loss: 0.2103 - mse: 0.2103 - val_loss: 0.2258 - val_mse: 0.2258 - lr: 2.9091e-05\n",
      "Epoch 74/100\n",
      "1263/1265 [============================>.] - ETA: 0s - loss: 0.2098 - mse: 0.2098"
     ]
    },
    {
     "name": "stderr",
     "output_type": "stream",
     "text": [
      "WARNING:absl:Found untraced functions such as leaky_re_lu_layer_call_fn, leaky_re_lu_layer_call_and_return_conditional_losses, leaky_re_lu_1_layer_call_fn, leaky_re_lu_1_layer_call_and_return_conditional_losses, leaky_re_lu_2_layer_call_fn while saving (showing 5 of 12). These functions will not be directly callable after loading.\n"
     ]
    },
    {
     "name": "stdout",
     "output_type": "stream",
     "text": [
      "INFO:tensorflow:Assets written to: C:\\Users\\ucesvpm\\OneDrive - University College London\\PhD Project\\Data Analytics\\Time Series Clustering\\Third Test\\Time-Series-PhD\\wandb\\run-20230227_122253-fjblhm7d\\files\\model-best\\assets\n"
     ]
    },
    {
     "name": "stderr",
     "output_type": "stream",
     "text": [
      "INFO:tensorflow:Assets written to: C:\\Users\\ucesvpm\\OneDrive - University College London\\PhD Project\\Data Analytics\\Time Series Clustering\\Third Test\\Time-Series-PhD\\wandb\\run-20230227_122253-fjblhm7d\\files\\model-best\\assets\n",
      "\u001b[34m\u001b[1mwandb\u001b[0m: Adding directory to artifact (C:\\Users\\ucesvpm\\OneDrive - University College London\\PhD Project\\Data Analytics\\Time Series Clustering\\Third Test\\Time-Series-PhD\\wandb\\run-20230227_122253-fjblhm7d\\files\\model-best)... Done. 0.2s\n"
     ]
    },
    {
     "name": "stdout",
     "output_type": "stream",
     "text": [
      "1265/1265 [==============================] - 28s 22ms/step - loss: 0.2098 - mse: 0.2098 - val_loss: 0.2253 - val_mse: 0.2253 - lr: 2.9091e-05\n",
      "Epoch 75/100\n",
      "1262/1265 [============================>.] - ETA: 0s - loss: 0.2093 - mse: 0.2093"
     ]
    },
    {
     "name": "stderr",
     "output_type": "stream",
     "text": [
      "WARNING:absl:Found untraced functions such as leaky_re_lu_layer_call_fn, leaky_re_lu_layer_call_and_return_conditional_losses, leaky_re_lu_1_layer_call_fn, leaky_re_lu_1_layer_call_and_return_conditional_losses, leaky_re_lu_2_layer_call_fn while saving (showing 5 of 12). These functions will not be directly callable after loading.\n"
     ]
    },
    {
     "name": "stdout",
     "output_type": "stream",
     "text": [
      "INFO:tensorflow:Assets written to: C:\\Users\\ucesvpm\\OneDrive - University College London\\PhD Project\\Data Analytics\\Time Series Clustering\\Third Test\\Time-Series-PhD\\wandb\\run-20230227_122253-fjblhm7d\\files\\model-best\\assets\n"
     ]
    },
    {
     "name": "stderr",
     "output_type": "stream",
     "text": [
      "INFO:tensorflow:Assets written to: C:\\Users\\ucesvpm\\OneDrive - University College London\\PhD Project\\Data Analytics\\Time Series Clustering\\Third Test\\Time-Series-PhD\\wandb\\run-20230227_122253-fjblhm7d\\files\\model-best\\assets\n",
      "\u001b[34m\u001b[1mwandb\u001b[0m: Adding directory to artifact (C:\\Users\\ucesvpm\\OneDrive - University College London\\PhD Project\\Data Analytics\\Time Series Clustering\\Third Test\\Time-Series-PhD\\wandb\\run-20230227_122253-fjblhm7d\\files\\model-best)... Done. 0.2s\n",
      "\u001b[34m\u001b[1mwandb\u001b[0m: \u001b[33mWARNING\u001b[0m A graphql request initiated by the public wandb API timed out (timeout=9 sec). Create a new API with an integer timeout larger than 9, e.g., `api = wandb.Api(timeout=19)` to increase the graphql timeout.\n"
     ]
    },
    {
     "name": "stdout",
     "output_type": "stream",
     "text": [
      "1265/1265 [==============================] - 40s 32ms/step - loss: 0.2093 - mse: 0.2093 - val_loss: 0.2251 - val_mse: 0.2251 - lr: 2.9091e-05\n",
      "Epoch 76/100\n",
      "1265/1265 [==============================] - 23s 19ms/step - loss: 0.2089 - mse: 0.2089 - val_loss: 0.2251 - val_mse: 0.2251 - lr: 2.9091e-05\n",
      "Epoch 77/100\n",
      "1265/1265 [==============================] - 25s 20ms/step - loss: 0.2084 - mse: 0.2084 - val_loss: 0.2255 - val_mse: 0.2255 - lr: 2.9091e-05\n",
      "Epoch 78/100\n",
      "1264/1265 [============================>.] - ETA: 0s - loss: 0.2080 - mse: 0.2080"
     ]
    },
    {
     "name": "stderr",
     "output_type": "stream",
     "text": [
      "WARNING:absl:Found untraced functions such as leaky_re_lu_layer_call_fn, leaky_re_lu_layer_call_and_return_conditional_losses, leaky_re_lu_1_layer_call_fn, leaky_re_lu_1_layer_call_and_return_conditional_losses, leaky_re_lu_2_layer_call_fn while saving (showing 5 of 12). These functions will not be directly callable after loading.\n"
     ]
    },
    {
     "name": "stdout",
     "output_type": "stream",
     "text": [
      "INFO:tensorflow:Assets written to: C:\\Users\\ucesvpm\\OneDrive - University College London\\PhD Project\\Data Analytics\\Time Series Clustering\\Third Test\\Time-Series-PhD\\wandb\\run-20230227_122253-fjblhm7d\\files\\model-best\\assets\n"
     ]
    },
    {
     "name": "stderr",
     "output_type": "stream",
     "text": [
      "INFO:tensorflow:Assets written to: C:\\Users\\ucesvpm\\OneDrive - University College London\\PhD Project\\Data Analytics\\Time Series Clustering\\Third Test\\Time-Series-PhD\\wandb\\run-20230227_122253-fjblhm7d\\files\\model-best\\assets\n",
      "\u001b[34m\u001b[1mwandb\u001b[0m: Adding directory to artifact (C:\\Users\\ucesvpm\\OneDrive - University College London\\PhD Project\\Data Analytics\\Time Series Clustering\\Third Test\\Time-Series-PhD\\wandb\\run-20230227_122253-fjblhm7d\\files\\model-best)... Done. 0.3s\n"
     ]
    },
    {
     "name": "stdout",
     "output_type": "stream",
     "text": [
      "1265/1265 [==============================] - 27s 22ms/step - loss: 0.2080 - mse: 0.2080 - val_loss: 0.2247 - val_mse: 0.2247 - lr: 2.9091e-05\n",
      "Epoch 79/100\n",
      "1263/1265 [============================>.] - ETA: 0s - loss: 0.2075 - mse: 0.2075"
     ]
    },
    {
     "name": "stderr",
     "output_type": "stream",
     "text": [
      "WARNING:absl:Found untraced functions such as leaky_re_lu_layer_call_fn, leaky_re_lu_layer_call_and_return_conditional_losses, leaky_re_lu_1_layer_call_fn, leaky_re_lu_1_layer_call_and_return_conditional_losses, leaky_re_lu_2_layer_call_fn while saving (showing 5 of 12). These functions will not be directly callable after loading.\n"
     ]
    },
    {
     "name": "stdout",
     "output_type": "stream",
     "text": [
      "INFO:tensorflow:Assets written to: C:\\Users\\ucesvpm\\OneDrive - University College London\\PhD Project\\Data Analytics\\Time Series Clustering\\Third Test\\Time-Series-PhD\\wandb\\run-20230227_122253-fjblhm7d\\files\\model-best\\assets\n"
     ]
    },
    {
     "name": "stderr",
     "output_type": "stream",
     "text": [
      "INFO:tensorflow:Assets written to: C:\\Users\\ucesvpm\\OneDrive - University College London\\PhD Project\\Data Analytics\\Time Series Clustering\\Third Test\\Time-Series-PhD\\wandb\\run-20230227_122253-fjblhm7d\\files\\model-best\\assets\n",
      "\u001b[34m\u001b[1mwandb\u001b[0m: Adding directory to artifact (C:\\Users\\ucesvpm\\OneDrive - University College London\\PhD Project\\Data Analytics\\Time Series Clustering\\Third Test\\Time-Series-PhD\\wandb\\run-20230227_122253-fjblhm7d\\files\\model-best)... Done. 1.0s\n"
     ]
    },
    {
     "name": "stdout",
     "output_type": "stream",
     "text": [
      "1265/1265 [==============================] - 28s 22ms/step - loss: 0.2076 - mse: 0.2076 - val_loss: 0.2236 - val_mse: 0.2236 - lr: 2.9091e-05\n",
      "Epoch 80/100\n",
      "1265/1265 [==============================] - ETA: 0s - loss: 0.2071 - mse: 0.2071"
     ]
    },
    {
     "name": "stderr",
     "output_type": "stream",
     "text": [
      "WARNING:absl:Found untraced functions such as leaky_re_lu_layer_call_fn, leaky_re_lu_layer_call_and_return_conditional_losses, leaky_re_lu_1_layer_call_fn, leaky_re_lu_1_layer_call_and_return_conditional_losses, leaky_re_lu_2_layer_call_fn while saving (showing 5 of 12). These functions will not be directly callable after loading.\n"
     ]
    },
    {
     "name": "stdout",
     "output_type": "stream",
     "text": [
      "INFO:tensorflow:Assets written to: C:\\Users\\ucesvpm\\OneDrive - University College London\\PhD Project\\Data Analytics\\Time Series Clustering\\Third Test\\Time-Series-PhD\\wandb\\run-20230227_122253-fjblhm7d\\files\\model-best\\assets\n"
     ]
    },
    {
     "name": "stderr",
     "output_type": "stream",
     "text": [
      "INFO:tensorflow:Assets written to: C:\\Users\\ucesvpm\\OneDrive - University College London\\PhD Project\\Data Analytics\\Time Series Clustering\\Third Test\\Time-Series-PhD\\wandb\\run-20230227_122253-fjblhm7d\\files\\model-best\\assets\n",
      "\u001b[34m\u001b[1mwandb\u001b[0m: Adding directory to artifact (C:\\Users\\ucesvpm\\OneDrive - University College London\\PhD Project\\Data Analytics\\Time Series Clustering\\Third Test\\Time-Series-PhD\\wandb\\run-20230227_122253-fjblhm7d\\files\\model-best)... Done. 0.2s\n"
     ]
    },
    {
     "name": "stdout",
     "output_type": "stream",
     "text": [
      "1265/1265 [==============================] - 28s 22ms/step - loss: 0.2071 - mse: 0.2071 - val_loss: 0.2234 - val_mse: 0.2234 - lr: 2.9091e-05\n",
      "Epoch 81/100\n",
      "1265/1265 [==============================] - 24s 19ms/step - loss: 0.2067 - mse: 0.2067 - val_loss: 0.2237 - val_mse: 0.2237 - lr: 2.9091e-05\n",
      "Epoch 82/100\n",
      "1264/1265 [============================>.] - ETA: 0s - loss: 0.2063 - mse: 0.2063"
     ]
    },
    {
     "name": "stderr",
     "output_type": "stream",
     "text": [
      "WARNING:absl:Found untraced functions such as leaky_re_lu_layer_call_fn, leaky_re_lu_layer_call_and_return_conditional_losses, leaky_re_lu_1_layer_call_fn, leaky_re_lu_1_layer_call_and_return_conditional_losses, leaky_re_lu_2_layer_call_fn while saving (showing 5 of 12). These functions will not be directly callable after loading.\n"
     ]
    },
    {
     "name": "stdout",
     "output_type": "stream",
     "text": [
      "INFO:tensorflow:Assets written to: C:\\Users\\ucesvpm\\OneDrive - University College London\\PhD Project\\Data Analytics\\Time Series Clustering\\Third Test\\Time-Series-PhD\\wandb\\run-20230227_122253-fjblhm7d\\files\\model-best\\assets\n"
     ]
    },
    {
     "name": "stderr",
     "output_type": "stream",
     "text": [
      "INFO:tensorflow:Assets written to: C:\\Users\\ucesvpm\\OneDrive - University College London\\PhD Project\\Data Analytics\\Time Series Clustering\\Third Test\\Time-Series-PhD\\wandb\\run-20230227_122253-fjblhm7d\\files\\model-best\\assets\n",
      "\u001b[34m\u001b[1mwandb\u001b[0m: Adding directory to artifact (C:\\Users\\ucesvpm\\OneDrive - University College London\\PhD Project\\Data Analytics\\Time Series Clustering\\Third Test\\Time-Series-PhD\\wandb\\run-20230227_122253-fjblhm7d\\files\\model-best)... Done. 0.1s\n"
     ]
    },
    {
     "name": "stdout",
     "output_type": "stream",
     "text": [
      "1265/1265 [==============================] - 28s 22ms/step - loss: 0.2063 - mse: 0.2063 - val_loss: 0.2232 - val_mse: 0.2232 - lr: 2.9091e-05\n",
      "Epoch 83/100\n",
      "1265/1265 [==============================] - ETA: 0s - loss: 0.2059 - mse: 0.2059"
     ]
    },
    {
     "name": "stderr",
     "output_type": "stream",
     "text": [
      "WARNING:absl:Found untraced functions such as leaky_re_lu_layer_call_fn, leaky_re_lu_layer_call_and_return_conditional_losses, leaky_re_lu_1_layer_call_fn, leaky_re_lu_1_layer_call_and_return_conditional_losses, leaky_re_lu_2_layer_call_fn while saving (showing 5 of 12). These functions will not be directly callable after loading.\n"
     ]
    },
    {
     "name": "stdout",
     "output_type": "stream",
     "text": [
      "INFO:tensorflow:Assets written to: C:\\Users\\ucesvpm\\OneDrive - University College London\\PhD Project\\Data Analytics\\Time Series Clustering\\Third Test\\Time-Series-PhD\\wandb\\run-20230227_122253-fjblhm7d\\files\\model-best\\assets\n"
     ]
    },
    {
     "name": "stderr",
     "output_type": "stream",
     "text": [
      "INFO:tensorflow:Assets written to: C:\\Users\\ucesvpm\\OneDrive - University College London\\PhD Project\\Data Analytics\\Time Series Clustering\\Third Test\\Time-Series-PhD\\wandb\\run-20230227_122253-fjblhm7d\\files\\model-best\\assets\n",
      "\u001b[34m\u001b[1mwandb\u001b[0m: Adding directory to artifact (C:\\Users\\ucesvpm\\OneDrive - University College London\\PhD Project\\Data Analytics\\Time Series Clustering\\Third Test\\Time-Series-PhD\\wandb\\run-20230227_122253-fjblhm7d\\files\\model-best)... Done. 0.2s\n"
     ]
    },
    {
     "name": "stdout",
     "output_type": "stream",
     "text": [
      "1265/1265 [==============================] - 28s 22ms/step - loss: 0.2059 - mse: 0.2059 - val_loss: 0.2224 - val_mse: 0.2224 - lr: 2.9091e-05\n",
      "Epoch 84/100\n",
      "1264/1265 [============================>.] - ETA: 0s - loss: 0.2054 - mse: 0.2054"
     ]
    },
    {
     "name": "stderr",
     "output_type": "stream",
     "text": [
      "WARNING:absl:Found untraced functions such as leaky_re_lu_layer_call_fn, leaky_re_lu_layer_call_and_return_conditional_losses, leaky_re_lu_1_layer_call_fn, leaky_re_lu_1_layer_call_and_return_conditional_losses, leaky_re_lu_2_layer_call_fn while saving (showing 5 of 12). These functions will not be directly callable after loading.\n"
     ]
    },
    {
     "name": "stdout",
     "output_type": "stream",
     "text": [
      "INFO:tensorflow:Assets written to: C:\\Users\\ucesvpm\\OneDrive - University College London\\PhD Project\\Data Analytics\\Time Series Clustering\\Third Test\\Time-Series-PhD\\wandb\\run-20230227_122253-fjblhm7d\\files\\model-best\\assets\n"
     ]
    },
    {
     "name": "stderr",
     "output_type": "stream",
     "text": [
      "INFO:tensorflow:Assets written to: C:\\Users\\ucesvpm\\OneDrive - University College London\\PhD Project\\Data Analytics\\Time Series Clustering\\Third Test\\Time-Series-PhD\\wandb\\run-20230227_122253-fjblhm7d\\files\\model-best\\assets\n",
      "\u001b[34m\u001b[1mwandb\u001b[0m: Adding directory to artifact (C:\\Users\\ucesvpm\\OneDrive - University College London\\PhD Project\\Data Analytics\\Time Series Clustering\\Third Test\\Time-Series-PhD\\wandb\\run-20230227_122253-fjblhm7d\\files\\model-best)... Done. 0.2s\n"
     ]
    },
    {
     "name": "stdout",
     "output_type": "stream",
     "text": [
      "1265/1265 [==============================] - 28s 22ms/step - loss: 0.2054 - mse: 0.2054 - val_loss: 0.2221 - val_mse: 0.2221 - lr: 2.9091e-05\n",
      "Epoch 85/100\n",
      "1265/1265 [==============================] - 25s 19ms/step - loss: 0.2049 - mse: 0.2049 - val_loss: 0.2225 - val_mse: 0.2225 - lr: 2.9091e-05\n",
      "Epoch 86/100\n",
      "1263/1265 [============================>.] - ETA: 0s - loss: 0.2046 - mse: 0.2046"
     ]
    },
    {
     "name": "stderr",
     "output_type": "stream",
     "text": [
      "WARNING:absl:Found untraced functions such as leaky_re_lu_layer_call_fn, leaky_re_lu_layer_call_and_return_conditional_losses, leaky_re_lu_1_layer_call_fn, leaky_re_lu_1_layer_call_and_return_conditional_losses, leaky_re_lu_2_layer_call_fn while saving (showing 5 of 12). These functions will not be directly callable after loading.\n"
     ]
    },
    {
     "name": "stdout",
     "output_type": "stream",
     "text": [
      "INFO:tensorflow:Assets written to: C:\\Users\\ucesvpm\\OneDrive - University College London\\PhD Project\\Data Analytics\\Time Series Clustering\\Third Test\\Time-Series-PhD\\wandb\\run-20230227_122253-fjblhm7d\\files\\model-best\\assets\n"
     ]
    },
    {
     "name": "stderr",
     "output_type": "stream",
     "text": [
      "INFO:tensorflow:Assets written to: C:\\Users\\ucesvpm\\OneDrive - University College London\\PhD Project\\Data Analytics\\Time Series Clustering\\Third Test\\Time-Series-PhD\\wandb\\run-20230227_122253-fjblhm7d\\files\\model-best\\assets\n",
      "\u001b[34m\u001b[1mwandb\u001b[0m: Adding directory to artifact (C:\\Users\\ucesvpm\\OneDrive - University College London\\PhD Project\\Data Analytics\\Time Series Clustering\\Third Test\\Time-Series-PhD\\wandb\\run-20230227_122253-fjblhm7d\\files\\model-best)... Done. 0.2s\n"
     ]
    },
    {
     "name": "stdout",
     "output_type": "stream",
     "text": [
      "1265/1265 [==============================] - 27s 22ms/step - loss: 0.2046 - mse: 0.2046 - val_loss: 0.2217 - val_mse: 0.2217 - lr: 2.9091e-05\n",
      "Epoch 87/100\n",
      "1265/1265 [==============================] - 25s 20ms/step - loss: 0.2041 - mse: 0.2041 - val_loss: 0.2221 - val_mse: 0.2221 - lr: 2.9091e-05\n",
      "Epoch 88/100\n",
      "1264/1265 [============================>.] - ETA: 0s - loss: 0.2038 - mse: 0.2038"
     ]
    },
    {
     "name": "stderr",
     "output_type": "stream",
     "text": [
      "WARNING:absl:Found untraced functions such as leaky_re_lu_layer_call_fn, leaky_re_lu_layer_call_and_return_conditional_losses, leaky_re_lu_1_layer_call_fn, leaky_re_lu_1_layer_call_and_return_conditional_losses, leaky_re_lu_2_layer_call_fn while saving (showing 5 of 12). These functions will not be directly callable after loading.\n"
     ]
    },
    {
     "name": "stdout",
     "output_type": "stream",
     "text": [
      "INFO:tensorflow:Assets written to: C:\\Users\\ucesvpm\\OneDrive - University College London\\PhD Project\\Data Analytics\\Time Series Clustering\\Third Test\\Time-Series-PhD\\wandb\\run-20230227_122253-fjblhm7d\\files\\model-best\\assets\n"
     ]
    },
    {
     "name": "stderr",
     "output_type": "stream",
     "text": [
      "INFO:tensorflow:Assets written to: C:\\Users\\ucesvpm\\OneDrive - University College London\\PhD Project\\Data Analytics\\Time Series Clustering\\Third Test\\Time-Series-PhD\\wandb\\run-20230227_122253-fjblhm7d\\files\\model-best\\assets\n",
      "\u001b[34m\u001b[1mwandb\u001b[0m: Adding directory to artifact (C:\\Users\\ucesvpm\\OneDrive - University College London\\PhD Project\\Data Analytics\\Time Series Clustering\\Third Test\\Time-Series-PhD\\wandb\\run-20230227_122253-fjblhm7d\\files\\model-best)... Done. 0.2s\n"
     ]
    },
    {
     "name": "stdout",
     "output_type": "stream",
     "text": [
      "1265/1265 [==============================] - 27s 21ms/step - loss: 0.2037 - mse: 0.2037 - val_loss: 0.2212 - val_mse: 0.2212 - lr: 2.9091e-05\n",
      "Epoch 89/100\n",
      "1265/1265 [==============================] - 25s 20ms/step - loss: 0.2033 - mse: 0.2033 - val_loss: 0.2212 - val_mse: 0.2212 - lr: 2.9091e-05\n",
      "Epoch 90/100\n",
      "1264/1265 [============================>.] - ETA: 0s - loss: 0.2029 - mse: 0.2029"
     ]
    },
    {
     "name": "stderr",
     "output_type": "stream",
     "text": [
      "WARNING:absl:Found untraced functions such as leaky_re_lu_layer_call_fn, leaky_re_lu_layer_call_and_return_conditional_losses, leaky_re_lu_1_layer_call_fn, leaky_re_lu_1_layer_call_and_return_conditional_losses, leaky_re_lu_2_layer_call_fn while saving (showing 5 of 12). These functions will not be directly callable after loading.\n"
     ]
    },
    {
     "name": "stdout",
     "output_type": "stream",
     "text": [
      "INFO:tensorflow:Assets written to: C:\\Users\\ucesvpm\\OneDrive - University College London\\PhD Project\\Data Analytics\\Time Series Clustering\\Third Test\\Time-Series-PhD\\wandb\\run-20230227_122253-fjblhm7d\\files\\model-best\\assets\n"
     ]
    },
    {
     "name": "stderr",
     "output_type": "stream",
     "text": [
      "INFO:tensorflow:Assets written to: C:\\Users\\ucesvpm\\OneDrive - University College London\\PhD Project\\Data Analytics\\Time Series Clustering\\Third Test\\Time-Series-PhD\\wandb\\run-20230227_122253-fjblhm7d\\files\\model-best\\assets\n",
      "\u001b[34m\u001b[1mwandb\u001b[0m: Adding directory to artifact (C:\\Users\\ucesvpm\\OneDrive - University College London\\PhD Project\\Data Analytics\\Time Series Clustering\\Third Test\\Time-Series-PhD\\wandb\\run-20230227_122253-fjblhm7d\\files\\model-best)... Done. 0.2s\n"
     ]
    },
    {
     "name": "stdout",
     "output_type": "stream",
     "text": [
      "1265/1265 [==============================] - 28s 22ms/step - loss: 0.2029 - mse: 0.2029 - val_loss: 0.2207 - val_mse: 0.2207 - lr: 2.9091e-05\n",
      "Epoch 91/100\n",
      "1264/1265 [============================>.] - ETA: 0s - loss: 0.2025 - mse: 0.2025"
     ]
    },
    {
     "name": "stderr",
     "output_type": "stream",
     "text": [
      "WARNING:absl:Found untraced functions such as leaky_re_lu_layer_call_fn, leaky_re_lu_layer_call_and_return_conditional_losses, leaky_re_lu_1_layer_call_fn, leaky_re_lu_1_layer_call_and_return_conditional_losses, leaky_re_lu_2_layer_call_fn while saving (showing 5 of 12). These functions will not be directly callable after loading.\n"
     ]
    },
    {
     "name": "stdout",
     "output_type": "stream",
     "text": [
      "INFO:tensorflow:Assets written to: C:\\Users\\ucesvpm\\OneDrive - University College London\\PhD Project\\Data Analytics\\Time Series Clustering\\Third Test\\Time-Series-PhD\\wandb\\run-20230227_122253-fjblhm7d\\files\\model-best\\assets\n"
     ]
    },
    {
     "name": "stderr",
     "output_type": "stream",
     "text": [
      "INFO:tensorflow:Assets written to: C:\\Users\\ucesvpm\\OneDrive - University College London\\PhD Project\\Data Analytics\\Time Series Clustering\\Third Test\\Time-Series-PhD\\wandb\\run-20230227_122253-fjblhm7d\\files\\model-best\\assets\n",
      "\u001b[34m\u001b[1mwandb\u001b[0m: Adding directory to artifact (C:\\Users\\ucesvpm\\OneDrive - University College London\\PhD Project\\Data Analytics\\Time Series Clustering\\Third Test\\Time-Series-PhD\\wandb\\run-20230227_122253-fjblhm7d\\files\\model-best)... Done. 0.2s\n"
     ]
    },
    {
     "name": "stdout",
     "output_type": "stream",
     "text": [
      "1265/1265 [==============================] - 28s 22ms/step - loss: 0.2025 - mse: 0.2025 - val_loss: 0.2201 - val_mse: 0.2201 - lr: 2.9091e-05\n",
      "Epoch 92/100\n",
      "1265/1265 [==============================] - 25s 20ms/step - loss: 0.2021 - mse: 0.2021 - val_loss: 0.2207 - val_mse: 0.2207 - lr: 2.9091e-05\n",
      "Epoch 93/100\n",
      "1265/1265 [==============================] - 25s 19ms/step - loss: 0.2017 - mse: 0.2017 - val_loss: 0.2205 - val_mse: 0.2205 - lr: 2.9091e-05\n",
      "Epoch 94/100\n",
      "1265/1265 [==============================] - 24s 19ms/step - loss: 0.2013 - mse: 0.2013 - val_loss: 0.2202 - val_mse: 0.2202 - lr: 2.9091e-05\n",
      "Epoch 95/100\n",
      "1263/1265 [============================>.] - ETA: 0s - loss: 0.2009 - mse: 0.2009"
     ]
    },
    {
     "name": "stderr",
     "output_type": "stream",
     "text": [
      "WARNING:absl:Found untraced functions such as leaky_re_lu_layer_call_fn, leaky_re_lu_layer_call_and_return_conditional_losses, leaky_re_lu_1_layer_call_fn, leaky_re_lu_1_layer_call_and_return_conditional_losses, leaky_re_lu_2_layer_call_fn while saving (showing 5 of 12). These functions will not be directly callable after loading.\n"
     ]
    },
    {
     "name": "stdout",
     "output_type": "stream",
     "text": [
      "INFO:tensorflow:Assets written to: C:\\Users\\ucesvpm\\OneDrive - University College London\\PhD Project\\Data Analytics\\Time Series Clustering\\Third Test\\Time-Series-PhD\\wandb\\run-20230227_122253-fjblhm7d\\files\\model-best\\assets\n"
     ]
    },
    {
     "name": "stderr",
     "output_type": "stream",
     "text": [
      "INFO:tensorflow:Assets written to: C:\\Users\\ucesvpm\\OneDrive - University College London\\PhD Project\\Data Analytics\\Time Series Clustering\\Third Test\\Time-Series-PhD\\wandb\\run-20230227_122253-fjblhm7d\\files\\model-best\\assets\n",
      "\u001b[34m\u001b[1mwandb\u001b[0m: Adding directory to artifact (C:\\Users\\ucesvpm\\OneDrive - University College London\\PhD Project\\Data Analytics\\Time Series Clustering\\Third Test\\Time-Series-PhD\\wandb\\run-20230227_122253-fjblhm7d\\files\\model-best)... Done. 0.3s\n"
     ]
    },
    {
     "name": "stdout",
     "output_type": "stream",
     "text": [
      "1265/1265 [==============================] - 29s 23ms/step - loss: 0.2009 - mse: 0.2009 - val_loss: 0.2194 - val_mse: 0.2194 - lr: 2.9091e-05\n",
      "Epoch 96/100\n",
      "1265/1265 [==============================] - 25s 20ms/step - loss: 0.2005 - mse: 0.2005 - val_loss: 0.2194 - val_mse: 0.2194 - lr: 2.9091e-05\n",
      "Epoch 97/100\n",
      "1264/1265 [============================>.] - ETA: 0s - loss: 0.2001 - mse: 0.2001"
     ]
    },
    {
     "name": "stderr",
     "output_type": "stream",
     "text": [
      "WARNING:absl:Found untraced functions such as leaky_re_lu_layer_call_fn, leaky_re_lu_layer_call_and_return_conditional_losses, leaky_re_lu_1_layer_call_fn, leaky_re_lu_1_layer_call_and_return_conditional_losses, leaky_re_lu_2_layer_call_fn while saving (showing 5 of 12). These functions will not be directly callable after loading.\n"
     ]
    },
    {
     "name": "stdout",
     "output_type": "stream",
     "text": [
      "INFO:tensorflow:Assets written to: C:\\Users\\ucesvpm\\OneDrive - University College London\\PhD Project\\Data Analytics\\Time Series Clustering\\Third Test\\Time-Series-PhD\\wandb\\run-20230227_122253-fjblhm7d\\files\\model-best\\assets\n"
     ]
    },
    {
     "name": "stderr",
     "output_type": "stream",
     "text": [
      "INFO:tensorflow:Assets written to: C:\\Users\\ucesvpm\\OneDrive - University College London\\PhD Project\\Data Analytics\\Time Series Clustering\\Third Test\\Time-Series-PhD\\wandb\\run-20230227_122253-fjblhm7d\\files\\model-best\\assets\n",
      "\u001b[34m\u001b[1mwandb\u001b[0m: Adding directory to artifact (C:\\Users\\ucesvpm\\OneDrive - University College London\\PhD Project\\Data Analytics\\Time Series Clustering\\Third Test\\Time-Series-PhD\\wandb\\run-20230227_122253-fjblhm7d\\files\\model-best)... Done. 0.2s\n"
     ]
    },
    {
     "name": "stdout",
     "output_type": "stream",
     "text": [
      "1265/1265 [==============================] - 28s 22ms/step - loss: 0.2001 - mse: 0.2001 - val_loss: 0.2192 - val_mse: 0.2192 - lr: 2.9091e-05\n",
      "Epoch 98/100\n",
      "1264/1265 [============================>.] - ETA: 0s - loss: 0.1997 - mse: 0.1997"
     ]
    },
    {
     "name": "stderr",
     "output_type": "stream",
     "text": [
      "WARNING:absl:Found untraced functions such as leaky_re_lu_layer_call_fn, leaky_re_lu_layer_call_and_return_conditional_losses, leaky_re_lu_1_layer_call_fn, leaky_re_lu_1_layer_call_and_return_conditional_losses, leaky_re_lu_2_layer_call_fn while saving (showing 5 of 12). These functions will not be directly callable after loading.\n"
     ]
    },
    {
     "name": "stdout",
     "output_type": "stream",
     "text": [
      "INFO:tensorflow:Assets written to: C:\\Users\\ucesvpm\\OneDrive - University College London\\PhD Project\\Data Analytics\\Time Series Clustering\\Third Test\\Time-Series-PhD\\wandb\\run-20230227_122253-fjblhm7d\\files\\model-best\\assets\n"
     ]
    },
    {
     "name": "stderr",
     "output_type": "stream",
     "text": [
      "INFO:tensorflow:Assets written to: C:\\Users\\ucesvpm\\OneDrive - University College London\\PhD Project\\Data Analytics\\Time Series Clustering\\Third Test\\Time-Series-PhD\\wandb\\run-20230227_122253-fjblhm7d\\files\\model-best\\assets\n",
      "\u001b[34m\u001b[1mwandb\u001b[0m: Adding directory to artifact (C:\\Users\\ucesvpm\\OneDrive - University College London\\PhD Project\\Data Analytics\\Time Series Clustering\\Third Test\\Time-Series-PhD\\wandb\\run-20230227_122253-fjblhm7d\\files\\model-best)... Done. 0.2s\n"
     ]
    },
    {
     "name": "stdout",
     "output_type": "stream",
     "text": [
      "1265/1265 [==============================] - 29s 23ms/step - loss: 0.1997 - mse: 0.1997 - val_loss: 0.2188 - val_mse: 0.2188 - lr: 2.9091e-05\n",
      "Epoch 99/100\n",
      "1265/1265 [==============================] - 30s 23ms/step - loss: 0.1993 - mse: 0.1993 - val_loss: 0.2192 - val_mse: 0.2192 - lr: 2.9091e-05\n",
      "Epoch 100/100\n",
      "1265/1265 [==============================] - 25s 20ms/step - loss: 0.1989 - mse: 0.1989 - val_loss: 0.2189 - val_mse: 0.2189 - lr: 2.9091e-05\n"
     ]
    },
    {
     "data": {
      "text/html": [
       "Waiting for W&B process to finish... <strong style=\"color:green\">(success).</strong>"
      ],
      "text/plain": [
       "<IPython.core.display.HTML object>"
      ]
     },
     "metadata": {},
     "output_type": "display_data"
    },
    {
     "data": {
      "text/html": [
       "<style>\n",
       "    table.wandb td:nth-child(1) { padding: 0 10px; text-align: left ; width: auto;} td:nth-child(2) {text-align: left ; width: 100%}\n",
       "    .wandb-row { display: flex; flex-direction: row; flex-wrap: wrap; justify-content: flex-start; width: 100% }\n",
       "    .wandb-col { display: flex; flex-direction: column; flex-basis: 100%; flex: 1; padding: 10px; }\n",
       "    </style>\n",
       "<div class=\"wandb-row\"><div class=\"wandb-col\"><h3>Run history:</h3><br/><table class=\"wandb\"><tr><td>epoch</td><td>▁▁▁▁▂▂▂▂▂▃▃▃▃▃▃▄▄▄▄▄▅▅▅▅▅▅▆▆▆▆▆▇▇▇▇▇▇███</td></tr><tr><td>loss</td><td>█▃▂▂▂▂▂▂▂▂▂▂▂▂▂▂▂▁▁▁▁▁▁▁▁▁▁▁▁▁▁▁▁▁▁▁▁▁▁▁</td></tr><tr><td>mse</td><td>█▃▂▂▂▂▂▂▂▂▂▂▂▂▂▂▂▁▁▁▁▁▁▁▁▁▁▁▁▁▁▁▁▁▁▁▁▁▁▁</td></tr><tr><td>val_loss</td><td>█▅▄▃▃▃▂▂▂▂▂▂▂▂▂▂▂▂▂▂▂▂▁▁▁▁▁▁▁▁▁▁▁▁▁▁▁▁▁▁</td></tr><tr><td>val_mse</td><td>█▅▄▃▃▃▂▂▂▂▂▂▂▂▂▂▂▂▂▂▂▂▁▁▁▁▁▁▁▁▁▁▁▁▁▁▁▁▁▁</td></tr></table><br/></div><div class=\"wandb-col\"><h3>Run summary:</h3><br/><table class=\"wandb\"><tr><td>best_epoch</td><td>97</td></tr><tr><td>best_val_loss</td><td>0.21879</td></tr><tr><td>epoch</td><td>99</td></tr><tr><td>loss</td><td>0.19893</td></tr><tr><td>mse</td><td>0.19893</td></tr><tr><td>val_loss</td><td>0.21893</td></tr><tr><td>val_mse</td><td>0.21893</td></tr></table><br/></div></div>"
      ],
      "text/plain": [
       "<IPython.core.display.HTML object>"
      ]
     },
     "metadata": {},
     "output_type": "display_data"
    },
    {
     "data": {
      "text/html": [
       "Synced <strong style=\"color:#cdcd00\">firm-sweep-1</strong>: <a href=\"https://wandb.ai/vasco-phd/FC_AE-Kenya_10k_Set_1_w90/runs/fjblhm7d\" target=\"_blank\">https://wandb.ai/vasco-phd/FC_AE-Kenya_10k_Set_1_w90/runs/fjblhm7d</a><br/>Synced 6 W&B file(s), 1 media file(s), 205 artifact file(s) and 1 other file(s)"
      ],
      "text/plain": [
       "<IPython.core.display.HTML object>"
      ]
     },
     "metadata": {},
     "output_type": "display_data"
    },
    {
     "data": {
      "text/html": [
       "Find logs at: <code>.\\wandb\\run-20230227_122253-fjblhm7d\\logs</code>"
      ],
      "text/plain": [
       "<IPython.core.display.HTML object>"
      ]
     },
     "metadata": {},
     "output_type": "display_data"
    },
    {
     "name": "stderr",
     "output_type": "stream",
     "text": [
      "\u001b[34m\u001b[1mwandb\u001b[0m: Agent Starting Run: 8sfqhuhd with config:\n",
      "\u001b[34m\u001b[1mwandb\u001b[0m: \tactivation_fn: SELU\n",
      "\u001b[34m\u001b[1mwandb\u001b[0m: \tbatch_size: 46\n",
      "\u001b[34m\u001b[1mwandb\u001b[0m: \tepochs: 100\n",
      "\u001b[34m\u001b[1mwandb\u001b[0m: \tlatent_layer_size: 25\n",
      "\u001b[34m\u001b[1mwandb\u001b[0m: \tlearning_rate: 3.5665726940899835e-05\n",
      "\u001b[34m\u001b[1mwandb\u001b[0m: \toptimizer: nadam\n",
      "\u001b[34m\u001b[1mwandb\u001b[0m: \twindow_length: 90\n"
     ]
    },
    {
     "data": {
      "text/html": [
       "wandb version 0.13.10 is available!  To upgrade, please run:\n",
       " $ pip install wandb --upgrade"
      ],
      "text/plain": [
       "<IPython.core.display.HTML object>"
      ]
     },
     "metadata": {},
     "output_type": "display_data"
    },
    {
     "data": {
      "text/html": [
       "Tracking run with wandb version 0.13.6"
      ],
      "text/plain": [
       "<IPython.core.display.HTML object>"
      ]
     },
     "metadata": {},
     "output_type": "display_data"
    },
    {
     "data": {
      "text/html": [
       "Run data is saved locally in <code>C:\\Users\\ucesvpm\\OneDrive - University College London\\PhD Project\\Data Analytics\\Time Series Clustering\\Third Test\\Time-Series-PhD\\wandb\\run-20230227_130943-8sfqhuhd</code>"
      ],
      "text/plain": [
       "<IPython.core.display.HTML object>"
      ]
     },
     "metadata": {},
     "output_type": "display_data"
    },
    {
     "data": {
      "text/html": [
       "Syncing run <strong><a href=\"https://wandb.ai/vasco-phd/FC_AE-Kenya_10k_Set_1_w90/runs/8sfqhuhd\" target=\"_blank\">upbeat-sweep-2</a></strong> to <a href=\"https://wandb.ai/vasco-phd/FC_AE-Kenya_10k_Set_1_w90\" target=\"_blank\">Weights & Biases</a> (<a href=\"https://wandb.me/run\" target=\"_blank\">docs</a>)<br/>Sweep page:  <a href=\"https://wandb.ai/vasco-phd/FC_AE-Kenya_10k_Set_1_w90/sweeps/wzqhgcrr\" target=\"_blank\">https://wandb.ai/vasco-phd/FC_AE-Kenya_10k_Set_1_w90/sweeps/wzqhgcrr</a>"
      ],
      "text/plain": [
       "<IPython.core.display.HTML object>"
      ]
     },
     "metadata": {},
     "output_type": "display_data"
    },
    {
     "name": "stdout",
     "output_type": "stream",
     "text": [
      "Epoch 1/100\n",
      "1540/1540 [==============================] - ETA: 0s - loss: 0.4264 - mse: 0.4264"
     ]
    },
    {
     "name": "stderr",
     "output_type": "stream",
     "text": [
      "WARNING:absl:Found untraced functions such as activation_layer_call_fn, activation_layer_call_and_return_conditional_losses, activation_1_layer_call_fn, activation_1_layer_call_and_return_conditional_losses, activation_2_layer_call_fn while saving (showing 5 of 12). These functions will not be directly callable after loading.\n"
     ]
    },
    {
     "name": "stdout",
     "output_type": "stream",
     "text": [
      "INFO:tensorflow:Assets written to: C:\\Users\\ucesvpm\\OneDrive - University College London\\PhD Project\\Data Analytics\\Time Series Clustering\\Third Test\\Time-Series-PhD\\wandb\\run-20230227_130943-8sfqhuhd\\files\\model-best\\assets\n"
     ]
    },
    {
     "name": "stderr",
     "output_type": "stream",
     "text": [
      "INFO:tensorflow:Assets written to: C:\\Users\\ucesvpm\\OneDrive - University College London\\PhD Project\\Data Analytics\\Time Series Clustering\\Third Test\\Time-Series-PhD\\wandb\\run-20230227_130943-8sfqhuhd\\files\\model-best\\assets\n",
      "\u001b[34m\u001b[1mwandb\u001b[0m: Adding directory to artifact (C:\\Users\\ucesvpm\\OneDrive - University College London\\PhD Project\\Data Analytics\\Time Series Clustering\\Third Test\\Time-Series-PhD\\wandb\\run-20230227_130943-8sfqhuhd\\files\\model-best)... Done. 0.3s\n"
     ]
    },
    {
     "name": "stdout",
     "output_type": "stream",
     "text": [
      "1540/1540 [==============================] - 44s 27ms/step - loss: 0.4264 - mse: 0.4264 - val_loss: 0.3364 - val_mse: 0.3364 - lr: 3.5666e-05\n",
      "Epoch 2/100\n",
      "1540/1540 [==============================] - ETA: 0s - loss: 0.3135 - mse: 0.3135"
     ]
    },
    {
     "name": "stderr",
     "output_type": "stream",
     "text": [
      "WARNING:absl:Found untraced functions such as activation_layer_call_fn, activation_layer_call_and_return_conditional_losses, activation_1_layer_call_fn, activation_1_layer_call_and_return_conditional_losses, activation_2_layer_call_fn while saving (showing 5 of 12). These functions will not be directly callable after loading.\n"
     ]
    },
    {
     "name": "stdout",
     "output_type": "stream",
     "text": [
      "INFO:tensorflow:Assets written to: C:\\Users\\ucesvpm\\OneDrive - University College London\\PhD Project\\Data Analytics\\Time Series Clustering\\Third Test\\Time-Series-PhD\\wandb\\run-20230227_130943-8sfqhuhd\\files\\model-best\\assets\n"
     ]
    },
    {
     "name": "stderr",
     "output_type": "stream",
     "text": [
      "INFO:tensorflow:Assets written to: C:\\Users\\ucesvpm\\OneDrive - University College London\\PhD Project\\Data Analytics\\Time Series Clustering\\Third Test\\Time-Series-PhD\\wandb\\run-20230227_130943-8sfqhuhd\\files\\model-best\\assets\n",
      "\u001b[34m\u001b[1mwandb\u001b[0m: Adding directory to artifact (C:\\Users\\ucesvpm\\OneDrive - University College London\\PhD Project\\Data Analytics\\Time Series Clustering\\Third Test\\Time-Series-PhD\\wandb\\run-20230227_130943-8sfqhuhd\\files\\model-best)... Done. 0.2s\n"
     ]
    },
    {
     "name": "stdout",
     "output_type": "stream",
     "text": [
      "1540/1540 [==============================] - 35s 23ms/step - loss: 0.3135 - mse: 0.3135 - val_loss: 0.3058 - val_mse: 0.3058 - lr: 3.5666e-05\n",
      "Epoch 3/100\n",
      "1540/1540 [==============================] - ETA: 0s - loss: 0.2908 - mse: 0.2908"
     ]
    },
    {
     "name": "stderr",
     "output_type": "stream",
     "text": [
      "WARNING:absl:Found untraced functions such as activation_layer_call_fn, activation_layer_call_and_return_conditional_losses, activation_1_layer_call_fn, activation_1_layer_call_and_return_conditional_losses, activation_2_layer_call_fn while saving (showing 5 of 12). These functions will not be directly callable after loading.\n"
     ]
    },
    {
     "name": "stdout",
     "output_type": "stream",
     "text": [
      "INFO:tensorflow:Assets written to: C:\\Users\\ucesvpm\\OneDrive - University College London\\PhD Project\\Data Analytics\\Time Series Clustering\\Third Test\\Time-Series-PhD\\wandb\\run-20230227_130943-8sfqhuhd\\files\\model-best\\assets\n"
     ]
    },
    {
     "name": "stderr",
     "output_type": "stream",
     "text": [
      "INFO:tensorflow:Assets written to: C:\\Users\\ucesvpm\\OneDrive - University College London\\PhD Project\\Data Analytics\\Time Series Clustering\\Third Test\\Time-Series-PhD\\wandb\\run-20230227_130943-8sfqhuhd\\files\\model-best\\assets\n",
      "\u001b[34m\u001b[1mwandb\u001b[0m: Adding directory to artifact (C:\\Users\\ucesvpm\\OneDrive - University College London\\PhD Project\\Data Analytics\\Time Series Clustering\\Third Test\\Time-Series-PhD\\wandb\\run-20230227_130943-8sfqhuhd\\files\\model-best)... Done. 0.2s\n"
     ]
    },
    {
     "name": "stdout",
     "output_type": "stream",
     "text": [
      "1540/1540 [==============================] - 33s 21ms/step - loss: 0.2908 - mse: 0.2908 - val_loss: 0.2901 - val_mse: 0.2901 - lr: 3.5666e-05\n",
      "Epoch 4/100\n",
      "1540/1540 [==============================] - ETA: 0s - loss: 0.2784 - mse: 0.2784"
     ]
    },
    {
     "name": "stderr",
     "output_type": "stream",
     "text": [
      "WARNING:absl:Found untraced functions such as activation_layer_call_fn, activation_layer_call_and_return_conditional_losses, activation_1_layer_call_fn, activation_1_layer_call_and_return_conditional_losses, activation_2_layer_call_fn while saving (showing 5 of 12). These functions will not be directly callable after loading.\n"
     ]
    },
    {
     "name": "stdout",
     "output_type": "stream",
     "text": [
      "INFO:tensorflow:Assets written to: C:\\Users\\ucesvpm\\OneDrive - University College London\\PhD Project\\Data Analytics\\Time Series Clustering\\Third Test\\Time-Series-PhD\\wandb\\run-20230227_130943-8sfqhuhd\\files\\model-best\\assets\n"
     ]
    },
    {
     "name": "stderr",
     "output_type": "stream",
     "text": [
      "INFO:tensorflow:Assets written to: C:\\Users\\ucesvpm\\OneDrive - University College London\\PhD Project\\Data Analytics\\Time Series Clustering\\Third Test\\Time-Series-PhD\\wandb\\run-20230227_130943-8sfqhuhd\\files\\model-best\\assets\n",
      "\u001b[34m\u001b[1mwandb\u001b[0m: Adding directory to artifact (C:\\Users\\ucesvpm\\OneDrive - University College London\\PhD Project\\Data Analytics\\Time Series Clustering\\Third Test\\Time-Series-PhD\\wandb\\run-20230227_130943-8sfqhuhd\\files\\model-best)... Done. 0.1s\n"
     ]
    },
    {
     "name": "stdout",
     "output_type": "stream",
     "text": [
      "1540/1540 [==============================] - 34s 22ms/step - loss: 0.2784 - mse: 0.2784 - val_loss: 0.2810 - val_mse: 0.2810 - lr: 3.5666e-05\n",
      "Epoch 5/100\n",
      "1539/1540 [============================>.] - ETA: 0s - loss: 0.2702 - mse: 0.2702"
     ]
    },
    {
     "name": "stderr",
     "output_type": "stream",
     "text": [
      "WARNING:absl:Found untraced functions such as activation_layer_call_fn, activation_layer_call_and_return_conditional_losses, activation_1_layer_call_fn, activation_1_layer_call_and_return_conditional_losses, activation_2_layer_call_fn while saving (showing 5 of 12). These functions will not be directly callable after loading.\n"
     ]
    },
    {
     "name": "stdout",
     "output_type": "stream",
     "text": [
      "INFO:tensorflow:Assets written to: C:\\Users\\ucesvpm\\OneDrive - University College London\\PhD Project\\Data Analytics\\Time Series Clustering\\Third Test\\Time-Series-PhD\\wandb\\run-20230227_130943-8sfqhuhd\\files\\model-best\\assets\n"
     ]
    },
    {
     "name": "stderr",
     "output_type": "stream",
     "text": [
      "INFO:tensorflow:Assets written to: C:\\Users\\ucesvpm\\OneDrive - University College London\\PhD Project\\Data Analytics\\Time Series Clustering\\Third Test\\Time-Series-PhD\\wandb\\run-20230227_130943-8sfqhuhd\\files\\model-best\\assets\n",
      "\u001b[34m\u001b[1mwandb\u001b[0m: Adding directory to artifact (C:\\Users\\ucesvpm\\OneDrive - University College London\\PhD Project\\Data Analytics\\Time Series Clustering\\Third Test\\Time-Series-PhD\\wandb\\run-20230227_130943-8sfqhuhd\\files\\model-best)... Done. 0.1s\n"
     ]
    },
    {
     "name": "stdout",
     "output_type": "stream",
     "text": [
      "1540/1540 [==============================] - 33s 22ms/step - loss: 0.2702 - mse: 0.2702 - val_loss: 0.2750 - val_mse: 0.2750 - lr: 3.5666e-05\n",
      "Epoch 6/100\n",
      "1539/1540 [============================>.] - ETA: 0s - loss: 0.2642 - mse: 0.2642"
     ]
    },
    {
     "name": "stderr",
     "output_type": "stream",
     "text": [
      "WARNING:absl:Found untraced functions such as activation_layer_call_fn, activation_layer_call_and_return_conditional_losses, activation_1_layer_call_fn, activation_1_layer_call_and_return_conditional_losses, activation_2_layer_call_fn while saving (showing 5 of 12). These functions will not be directly callable after loading.\n"
     ]
    },
    {
     "name": "stdout",
     "output_type": "stream",
     "text": [
      "INFO:tensorflow:Assets written to: C:\\Users\\ucesvpm\\OneDrive - University College London\\PhD Project\\Data Analytics\\Time Series Clustering\\Third Test\\Time-Series-PhD\\wandb\\run-20230227_130943-8sfqhuhd\\files\\model-best\\assets\n"
     ]
    },
    {
     "name": "stderr",
     "output_type": "stream",
     "text": [
      "INFO:tensorflow:Assets written to: C:\\Users\\ucesvpm\\OneDrive - University College London\\PhD Project\\Data Analytics\\Time Series Clustering\\Third Test\\Time-Series-PhD\\wandb\\run-20230227_130943-8sfqhuhd\\files\\model-best\\assets\n",
      "\u001b[34m\u001b[1mwandb\u001b[0m: Adding directory to artifact (C:\\Users\\ucesvpm\\OneDrive - University College London\\PhD Project\\Data Analytics\\Time Series Clustering\\Third Test\\Time-Series-PhD\\wandb\\run-20230227_130943-8sfqhuhd\\files\\model-best)... Done. 0.2s\n"
     ]
    },
    {
     "name": "stdout",
     "output_type": "stream",
     "text": [
      "1540/1540 [==============================] - 33s 22ms/step - loss: 0.2642 - mse: 0.2642 - val_loss: 0.2700 - val_mse: 0.2700 - lr: 3.5666e-05\n",
      "Epoch 7/100\n",
      "1538/1540 [============================>.] - ETA: 0s - loss: 0.2595 - mse: 0.2595"
     ]
    },
    {
     "name": "stderr",
     "output_type": "stream",
     "text": [
      "WARNING:absl:Found untraced functions such as activation_layer_call_fn, activation_layer_call_and_return_conditional_losses, activation_1_layer_call_fn, activation_1_layer_call_and_return_conditional_losses, activation_2_layer_call_fn while saving (showing 5 of 12). These functions will not be directly callable after loading.\n"
     ]
    },
    {
     "name": "stdout",
     "output_type": "stream",
     "text": [
      "INFO:tensorflow:Assets written to: C:\\Users\\ucesvpm\\OneDrive - University College London\\PhD Project\\Data Analytics\\Time Series Clustering\\Third Test\\Time-Series-PhD\\wandb\\run-20230227_130943-8sfqhuhd\\files\\model-best\\assets\n"
     ]
    },
    {
     "name": "stderr",
     "output_type": "stream",
     "text": [
      "INFO:tensorflow:Assets written to: C:\\Users\\ucesvpm\\OneDrive - University College London\\PhD Project\\Data Analytics\\Time Series Clustering\\Third Test\\Time-Series-PhD\\wandb\\run-20230227_130943-8sfqhuhd\\files\\model-best\\assets\n",
      "\u001b[34m\u001b[1mwandb\u001b[0m: Adding directory to artifact (C:\\Users\\ucesvpm\\OneDrive - University College London\\PhD Project\\Data Analytics\\Time Series Clustering\\Third Test\\Time-Series-PhD\\wandb\\run-20230227_130943-8sfqhuhd\\files\\model-best)... Done. 0.2s\n"
     ]
    },
    {
     "name": "stdout",
     "output_type": "stream",
     "text": [
      "1540/1540 [==============================] - 33s 22ms/step - loss: 0.2595 - mse: 0.2595 - val_loss: 0.2666 - val_mse: 0.2666 - lr: 3.5666e-05\n",
      "Epoch 8/100\n",
      "1540/1540 [==============================] - ETA: 0s - loss: 0.2558 - mse: 0.2558"
     ]
    },
    {
     "name": "stderr",
     "output_type": "stream",
     "text": [
      "WARNING:absl:Found untraced functions such as activation_layer_call_fn, activation_layer_call_and_return_conditional_losses, activation_1_layer_call_fn, activation_1_layer_call_and_return_conditional_losses, activation_2_layer_call_fn while saving (showing 5 of 12). These functions will not be directly callable after loading.\n"
     ]
    },
    {
     "name": "stdout",
     "output_type": "stream",
     "text": [
      "INFO:tensorflow:Assets written to: C:\\Users\\ucesvpm\\OneDrive - University College London\\PhD Project\\Data Analytics\\Time Series Clustering\\Third Test\\Time-Series-PhD\\wandb\\run-20230227_130943-8sfqhuhd\\files\\model-best\\assets\n"
     ]
    },
    {
     "name": "stderr",
     "output_type": "stream",
     "text": [
      "INFO:tensorflow:Assets written to: C:\\Users\\ucesvpm\\OneDrive - University College London\\PhD Project\\Data Analytics\\Time Series Clustering\\Third Test\\Time-Series-PhD\\wandb\\run-20230227_130943-8sfqhuhd\\files\\model-best\\assets\n",
      "\u001b[34m\u001b[1mwandb\u001b[0m: Adding directory to artifact (C:\\Users\\ucesvpm\\OneDrive - University College London\\PhD Project\\Data Analytics\\Time Series Clustering\\Third Test\\Time-Series-PhD\\wandb\\run-20230227_130943-8sfqhuhd\\files\\model-best)... Done. 0.2s\n"
     ]
    },
    {
     "name": "stdout",
     "output_type": "stream",
     "text": [
      "1540/1540 [==============================] - 33s 21ms/step - loss: 0.2558 - mse: 0.2558 - val_loss: 0.2637 - val_mse: 0.2637 - lr: 3.5666e-05\n",
      "Epoch 9/100\n",
      "1539/1540 [============================>.] - ETA: 0s - loss: 0.2526 - mse: 0.2526"
     ]
    },
    {
     "name": "stderr",
     "output_type": "stream",
     "text": [
      "WARNING:absl:Found untraced functions such as activation_layer_call_fn, activation_layer_call_and_return_conditional_losses, activation_1_layer_call_fn, activation_1_layer_call_and_return_conditional_losses, activation_2_layer_call_fn while saving (showing 5 of 12). These functions will not be directly callable after loading.\n"
     ]
    },
    {
     "name": "stdout",
     "output_type": "stream",
     "text": [
      "INFO:tensorflow:Assets written to: C:\\Users\\ucesvpm\\OneDrive - University College London\\PhD Project\\Data Analytics\\Time Series Clustering\\Third Test\\Time-Series-PhD\\wandb\\run-20230227_130943-8sfqhuhd\\files\\model-best\\assets\n"
     ]
    },
    {
     "name": "stderr",
     "output_type": "stream",
     "text": [
      "INFO:tensorflow:Assets written to: C:\\Users\\ucesvpm\\OneDrive - University College London\\PhD Project\\Data Analytics\\Time Series Clustering\\Third Test\\Time-Series-PhD\\wandb\\run-20230227_130943-8sfqhuhd\\files\\model-best\\assets\n",
      "\u001b[34m\u001b[1mwandb\u001b[0m: Adding directory to artifact (C:\\Users\\ucesvpm\\OneDrive - University College London\\PhD Project\\Data Analytics\\Time Series Clustering\\Third Test\\Time-Series-PhD\\wandb\\run-20230227_130943-8sfqhuhd\\files\\model-best)... Done. 0.2s\n"
     ]
    },
    {
     "name": "stdout",
     "output_type": "stream",
     "text": [
      "1540/1540 [==============================] - 33s 21ms/step - loss: 0.2526 - mse: 0.2526 - val_loss: 0.2615 - val_mse: 0.2615 - lr: 3.5666e-05\n",
      "Epoch 10/100\n",
      "1540/1540 [==============================] - ETA: 0s - loss: 0.2499 - mse: 0.2499"
     ]
    },
    {
     "name": "stderr",
     "output_type": "stream",
     "text": [
      "WARNING:absl:Found untraced functions such as activation_layer_call_fn, activation_layer_call_and_return_conditional_losses, activation_1_layer_call_fn, activation_1_layer_call_and_return_conditional_losses, activation_2_layer_call_fn while saving (showing 5 of 12). These functions will not be directly callable after loading.\n"
     ]
    },
    {
     "name": "stdout",
     "output_type": "stream",
     "text": [
      "INFO:tensorflow:Assets written to: C:\\Users\\ucesvpm\\OneDrive - University College London\\PhD Project\\Data Analytics\\Time Series Clustering\\Third Test\\Time-Series-PhD\\wandb\\run-20230227_130943-8sfqhuhd\\files\\model-best\\assets\n"
     ]
    },
    {
     "name": "stderr",
     "output_type": "stream",
     "text": [
      "INFO:tensorflow:Assets written to: C:\\Users\\ucesvpm\\OneDrive - University College London\\PhD Project\\Data Analytics\\Time Series Clustering\\Third Test\\Time-Series-PhD\\wandb\\run-20230227_130943-8sfqhuhd\\files\\model-best\\assets\n",
      "\u001b[34m\u001b[1mwandb\u001b[0m: Adding directory to artifact (C:\\Users\\ucesvpm\\OneDrive - University College London\\PhD Project\\Data Analytics\\Time Series Clustering\\Third Test\\Time-Series-PhD\\wandb\\run-20230227_130943-8sfqhuhd\\files\\model-best)... Done. 0.2s\n"
     ]
    },
    {
     "name": "stdout",
     "output_type": "stream",
     "text": [
      "1540/1540 [==============================] - 33s 22ms/step - loss: 0.2499 - mse: 0.2499 - val_loss: 0.2594 - val_mse: 0.2594 - lr: 3.5666e-05\n",
      "Epoch 11/100\n",
      "1538/1540 [============================>.] - ETA: 0s - loss: 0.2474 - mse: 0.2474"
     ]
    },
    {
     "name": "stderr",
     "output_type": "stream",
     "text": [
      "WARNING:absl:Found untraced functions such as activation_layer_call_fn, activation_layer_call_and_return_conditional_losses, activation_1_layer_call_fn, activation_1_layer_call_and_return_conditional_losses, activation_2_layer_call_fn while saving (showing 5 of 12). These functions will not be directly callable after loading.\n"
     ]
    },
    {
     "name": "stdout",
     "output_type": "stream",
     "text": [
      "INFO:tensorflow:Assets written to: C:\\Users\\ucesvpm\\OneDrive - University College London\\PhD Project\\Data Analytics\\Time Series Clustering\\Third Test\\Time-Series-PhD\\wandb\\run-20230227_130943-8sfqhuhd\\files\\model-best\\assets\n"
     ]
    },
    {
     "name": "stderr",
     "output_type": "stream",
     "text": [
      "INFO:tensorflow:Assets written to: C:\\Users\\ucesvpm\\OneDrive - University College London\\PhD Project\\Data Analytics\\Time Series Clustering\\Third Test\\Time-Series-PhD\\wandb\\run-20230227_130943-8sfqhuhd\\files\\model-best\\assets\n",
      "\u001b[34m\u001b[1mwandb\u001b[0m: Adding directory to artifact (C:\\Users\\ucesvpm\\OneDrive - University College London\\PhD Project\\Data Analytics\\Time Series Clustering\\Third Test\\Time-Series-PhD\\wandb\\run-20230227_130943-8sfqhuhd\\files\\model-best)... Done. 0.2s\n"
     ]
    },
    {
     "name": "stdout",
     "output_type": "stream",
     "text": [
      "1540/1540 [==============================] - 32s 21ms/step - loss: 0.2475 - mse: 0.2475 - val_loss: 0.2577 - val_mse: 0.2577 - lr: 3.5666e-05\n",
      "Epoch 12/100\n",
      "1538/1540 [============================>.] - ETA: 0s - loss: 0.2453 - mse: 0.2453"
     ]
    },
    {
     "name": "stderr",
     "output_type": "stream",
     "text": [
      "WARNING:absl:Found untraced functions such as activation_layer_call_fn, activation_layer_call_and_return_conditional_losses, activation_1_layer_call_fn, activation_1_layer_call_and_return_conditional_losses, activation_2_layer_call_fn while saving (showing 5 of 12). These functions will not be directly callable after loading.\n"
     ]
    },
    {
     "name": "stdout",
     "output_type": "stream",
     "text": [
      "INFO:tensorflow:Assets written to: C:\\Users\\ucesvpm\\OneDrive - University College London\\PhD Project\\Data Analytics\\Time Series Clustering\\Third Test\\Time-Series-PhD\\wandb\\run-20230227_130943-8sfqhuhd\\files\\model-best\\assets\n"
     ]
    },
    {
     "name": "stderr",
     "output_type": "stream",
     "text": [
      "INFO:tensorflow:Assets written to: C:\\Users\\ucesvpm\\OneDrive - University College London\\PhD Project\\Data Analytics\\Time Series Clustering\\Third Test\\Time-Series-PhD\\wandb\\run-20230227_130943-8sfqhuhd\\files\\model-best\\assets\n",
      "\u001b[34m\u001b[1mwandb\u001b[0m: Adding directory to artifact (C:\\Users\\ucesvpm\\OneDrive - University College London\\PhD Project\\Data Analytics\\Time Series Clustering\\Third Test\\Time-Series-PhD\\wandb\\run-20230227_130943-8sfqhuhd\\files\\model-best)... Done. 2.9s\n"
     ]
    },
    {
     "name": "stdout",
     "output_type": "stream",
     "text": [
      "1540/1540 [==============================] - 35s 22ms/step - loss: 0.2453 - mse: 0.2453 - val_loss: 0.2557 - val_mse: 0.2557 - lr: 3.5666e-05\n",
      "Epoch 13/100\n",
      "1540/1540 [==============================] - ETA: 0s - loss: 0.2433 - mse: 0.2433"
     ]
    },
    {
     "name": "stderr",
     "output_type": "stream",
     "text": [
      "WARNING:absl:Found untraced functions such as activation_layer_call_fn, activation_layer_call_and_return_conditional_losses, activation_1_layer_call_fn, activation_1_layer_call_and_return_conditional_losses, activation_2_layer_call_fn while saving (showing 5 of 12). These functions will not be directly callable after loading.\n"
     ]
    },
    {
     "name": "stdout",
     "output_type": "stream",
     "text": [
      "INFO:tensorflow:Assets written to: C:\\Users\\ucesvpm\\OneDrive - University College London\\PhD Project\\Data Analytics\\Time Series Clustering\\Third Test\\Time-Series-PhD\\wandb\\run-20230227_130943-8sfqhuhd\\files\\model-best\\assets\n"
     ]
    },
    {
     "name": "stderr",
     "output_type": "stream",
     "text": [
      "INFO:tensorflow:Assets written to: C:\\Users\\ucesvpm\\OneDrive - University College London\\PhD Project\\Data Analytics\\Time Series Clustering\\Third Test\\Time-Series-PhD\\wandb\\run-20230227_130943-8sfqhuhd\\files\\model-best\\assets\n",
      "\u001b[34m\u001b[1mwandb\u001b[0m: Adding directory to artifact (C:\\Users\\ucesvpm\\OneDrive - University College London\\PhD Project\\Data Analytics\\Time Series Clustering\\Third Test\\Time-Series-PhD\\wandb\\run-20230227_130943-8sfqhuhd\\files\\model-best)... Done. 0.2s\n"
     ]
    },
    {
     "name": "stdout",
     "output_type": "stream",
     "text": [
      "1540/1540 [==============================] - 33s 21ms/step - loss: 0.2433 - mse: 0.2433 - val_loss: 0.2541 - val_mse: 0.2541 - lr: 3.5666e-05\n",
      "Epoch 14/100\n",
      "1540/1540 [==============================] - ETA: 0s - loss: 0.2414 - mse: 0.2414"
     ]
    },
    {
     "name": "stderr",
     "output_type": "stream",
     "text": [
      "WARNING:absl:Found untraced functions such as activation_layer_call_fn, activation_layer_call_and_return_conditional_losses, activation_1_layer_call_fn, activation_1_layer_call_and_return_conditional_losses, activation_2_layer_call_fn while saving (showing 5 of 12). These functions will not be directly callable after loading.\n"
     ]
    },
    {
     "name": "stdout",
     "output_type": "stream",
     "text": [
      "INFO:tensorflow:Assets written to: C:\\Users\\ucesvpm\\OneDrive - University College London\\PhD Project\\Data Analytics\\Time Series Clustering\\Third Test\\Time-Series-PhD\\wandb\\run-20230227_130943-8sfqhuhd\\files\\model-best\\assets\n"
     ]
    },
    {
     "name": "stderr",
     "output_type": "stream",
     "text": [
      "INFO:tensorflow:Assets written to: C:\\Users\\ucesvpm\\OneDrive - University College London\\PhD Project\\Data Analytics\\Time Series Clustering\\Third Test\\Time-Series-PhD\\wandb\\run-20230227_130943-8sfqhuhd\\files\\model-best\\assets\n",
      "\u001b[34m\u001b[1mwandb\u001b[0m: Adding directory to artifact (C:\\Users\\ucesvpm\\OneDrive - University College London\\PhD Project\\Data Analytics\\Time Series Clustering\\Third Test\\Time-Series-PhD\\wandb\\run-20230227_130943-8sfqhuhd\\files\\model-best)... Done. 0.2s\n"
     ]
    },
    {
     "name": "stdout",
     "output_type": "stream",
     "text": [
      "1540/1540 [==============================] - 33s 22ms/step - loss: 0.2414 - mse: 0.2414 - val_loss: 0.2529 - val_mse: 0.2529 - lr: 3.5666e-05\n",
      "Epoch 15/100\n",
      "1540/1540 [==============================] - ETA: 0s - loss: 0.2396 - mse: 0.2396"
     ]
    },
    {
     "name": "stderr",
     "output_type": "stream",
     "text": [
      "WARNING:absl:Found untraced functions such as activation_layer_call_fn, activation_layer_call_and_return_conditional_losses, activation_1_layer_call_fn, activation_1_layer_call_and_return_conditional_losses, activation_2_layer_call_fn while saving (showing 5 of 12). These functions will not be directly callable after loading.\n"
     ]
    },
    {
     "name": "stdout",
     "output_type": "stream",
     "text": [
      "INFO:tensorflow:Assets written to: C:\\Users\\ucesvpm\\OneDrive - University College London\\PhD Project\\Data Analytics\\Time Series Clustering\\Third Test\\Time-Series-PhD\\wandb\\run-20230227_130943-8sfqhuhd\\files\\model-best\\assets\n"
     ]
    },
    {
     "name": "stderr",
     "output_type": "stream",
     "text": [
      "INFO:tensorflow:Assets written to: C:\\Users\\ucesvpm\\OneDrive - University College London\\PhD Project\\Data Analytics\\Time Series Clustering\\Third Test\\Time-Series-PhD\\wandb\\run-20230227_130943-8sfqhuhd\\files\\model-best\\assets\n",
      "\u001b[34m\u001b[1mwandb\u001b[0m: Adding directory to artifact (C:\\Users\\ucesvpm\\OneDrive - University College London\\PhD Project\\Data Analytics\\Time Series Clustering\\Third Test\\Time-Series-PhD\\wandb\\run-20230227_130943-8sfqhuhd\\files\\model-best)... Done. 0.2s\n"
     ]
    },
    {
     "name": "stdout",
     "output_type": "stream",
     "text": [
      "1540/1540 [==============================] - 33s 21ms/step - loss: 0.2396 - mse: 0.2396 - val_loss: 0.2515 - val_mse: 0.2515 - lr: 3.5666e-05\n",
      "Epoch 16/100\n",
      "1538/1540 [============================>.] - ETA: 0s - loss: 0.2380 - mse: 0.2380"
     ]
    },
    {
     "name": "stderr",
     "output_type": "stream",
     "text": [
      "WARNING:absl:Found untraced functions such as activation_layer_call_fn, activation_layer_call_and_return_conditional_losses, activation_1_layer_call_fn, activation_1_layer_call_and_return_conditional_losses, activation_2_layer_call_fn while saving (showing 5 of 12). These functions will not be directly callable after loading.\n"
     ]
    },
    {
     "name": "stdout",
     "output_type": "stream",
     "text": [
      "INFO:tensorflow:Assets written to: C:\\Users\\ucesvpm\\OneDrive - University College London\\PhD Project\\Data Analytics\\Time Series Clustering\\Third Test\\Time-Series-PhD\\wandb\\run-20230227_130943-8sfqhuhd\\files\\model-best\\assets\n"
     ]
    },
    {
     "name": "stderr",
     "output_type": "stream",
     "text": [
      "INFO:tensorflow:Assets written to: C:\\Users\\ucesvpm\\OneDrive - University College London\\PhD Project\\Data Analytics\\Time Series Clustering\\Third Test\\Time-Series-PhD\\wandb\\run-20230227_130943-8sfqhuhd\\files\\model-best\\assets\n",
      "\u001b[34m\u001b[1mwandb\u001b[0m: Adding directory to artifact (C:\\Users\\ucesvpm\\OneDrive - University College London\\PhD Project\\Data Analytics\\Time Series Clustering\\Third Test\\Time-Series-PhD\\wandb\\run-20230227_130943-8sfqhuhd\\files\\model-best)... Done. 0.2s\n"
     ]
    },
    {
     "name": "stdout",
     "output_type": "stream",
     "text": [
      "1540/1540 [==============================] - 32s 21ms/step - loss: 0.2380 - mse: 0.2380 - val_loss: 0.2497 - val_mse: 0.2497 - lr: 3.5666e-05\n",
      "Epoch 17/100\n",
      "1539/1540 [============================>.] - ETA: 0s - loss: 0.2363 - mse: 0.2363"
     ]
    },
    {
     "name": "stderr",
     "output_type": "stream",
     "text": [
      "WARNING:absl:Found untraced functions such as activation_layer_call_fn, activation_layer_call_and_return_conditional_losses, activation_1_layer_call_fn, activation_1_layer_call_and_return_conditional_losses, activation_2_layer_call_fn while saving (showing 5 of 12). These functions will not be directly callable after loading.\n"
     ]
    },
    {
     "name": "stdout",
     "output_type": "stream",
     "text": [
      "INFO:tensorflow:Assets written to: C:\\Users\\ucesvpm\\OneDrive - University College London\\PhD Project\\Data Analytics\\Time Series Clustering\\Third Test\\Time-Series-PhD\\wandb\\run-20230227_130943-8sfqhuhd\\files\\model-best\\assets\n"
     ]
    },
    {
     "name": "stderr",
     "output_type": "stream",
     "text": [
      "INFO:tensorflow:Assets written to: C:\\Users\\ucesvpm\\OneDrive - University College London\\PhD Project\\Data Analytics\\Time Series Clustering\\Third Test\\Time-Series-PhD\\wandb\\run-20230227_130943-8sfqhuhd\\files\\model-best\\assets\n",
      "\u001b[34m\u001b[1mwandb\u001b[0m: Adding directory to artifact (C:\\Users\\ucesvpm\\OneDrive - University College London\\PhD Project\\Data Analytics\\Time Series Clustering\\Third Test\\Time-Series-PhD\\wandb\\run-20230227_130943-8sfqhuhd\\files\\model-best)... Done. 0.2s\n"
     ]
    },
    {
     "name": "stdout",
     "output_type": "stream",
     "text": [
      "1540/1540 [==============================] - 34s 22ms/step - loss: 0.2363 - mse: 0.2363 - val_loss: 0.2482 - val_mse: 0.2482 - lr: 3.5666e-05\n",
      "Epoch 18/100\n",
      "1540/1540 [==============================] - ETA: 0s - loss: 0.2347 - mse: 0.2347"
     ]
    },
    {
     "name": "stderr",
     "output_type": "stream",
     "text": [
      "WARNING:absl:Found untraced functions such as activation_layer_call_fn, activation_layer_call_and_return_conditional_losses, activation_1_layer_call_fn, activation_1_layer_call_and_return_conditional_losses, activation_2_layer_call_fn while saving (showing 5 of 12). These functions will not be directly callable after loading.\n"
     ]
    },
    {
     "name": "stdout",
     "output_type": "stream",
     "text": [
      "INFO:tensorflow:Assets written to: C:\\Users\\ucesvpm\\OneDrive - University College London\\PhD Project\\Data Analytics\\Time Series Clustering\\Third Test\\Time-Series-PhD\\wandb\\run-20230227_130943-8sfqhuhd\\files\\model-best\\assets\n"
     ]
    },
    {
     "name": "stderr",
     "output_type": "stream",
     "text": [
      "INFO:tensorflow:Assets written to: C:\\Users\\ucesvpm\\OneDrive - University College London\\PhD Project\\Data Analytics\\Time Series Clustering\\Third Test\\Time-Series-PhD\\wandb\\run-20230227_130943-8sfqhuhd\\files\\model-best\\assets\n",
      "\u001b[34m\u001b[1mwandb\u001b[0m: Adding directory to artifact (C:\\Users\\ucesvpm\\OneDrive - University College London\\PhD Project\\Data Analytics\\Time Series Clustering\\Third Test\\Time-Series-PhD\\wandb\\run-20230227_130943-8sfqhuhd\\files\\model-best)... Done. 0.3s\n"
     ]
    },
    {
     "name": "stdout",
     "output_type": "stream",
     "text": [
      "1540/1540 [==============================] - 40s 26ms/step - loss: 0.2347 - mse: 0.2347 - val_loss: 0.2471 - val_mse: 0.2471 - lr: 3.5666e-05\n",
      "Epoch 19/100\n",
      "1540/1540 [==============================] - ETA: 0s - loss: 0.2332 - mse: 0.2332"
     ]
    },
    {
     "name": "stderr",
     "output_type": "stream",
     "text": [
      "WARNING:absl:Found untraced functions such as activation_layer_call_fn, activation_layer_call_and_return_conditional_losses, activation_1_layer_call_fn, activation_1_layer_call_and_return_conditional_losses, activation_2_layer_call_fn while saving (showing 5 of 12). These functions will not be directly callable after loading.\n"
     ]
    },
    {
     "name": "stdout",
     "output_type": "stream",
     "text": [
      "INFO:tensorflow:Assets written to: C:\\Users\\ucesvpm\\OneDrive - University College London\\PhD Project\\Data Analytics\\Time Series Clustering\\Third Test\\Time-Series-PhD\\wandb\\run-20230227_130943-8sfqhuhd\\files\\model-best\\assets\n"
     ]
    },
    {
     "name": "stderr",
     "output_type": "stream",
     "text": [
      "INFO:tensorflow:Assets written to: C:\\Users\\ucesvpm\\OneDrive - University College London\\PhD Project\\Data Analytics\\Time Series Clustering\\Third Test\\Time-Series-PhD\\wandb\\run-20230227_130943-8sfqhuhd\\files\\model-best\\assets\n",
      "\u001b[34m\u001b[1mwandb\u001b[0m: Adding directory to artifact (C:\\Users\\ucesvpm\\OneDrive - University College London\\PhD Project\\Data Analytics\\Time Series Clustering\\Third Test\\Time-Series-PhD\\wandb\\run-20230227_130943-8sfqhuhd\\files\\model-best)... Done. 0.3s\n"
     ]
    },
    {
     "name": "stdout",
     "output_type": "stream",
     "text": [
      "1540/1540 [==============================] - 36s 23ms/step - loss: 0.2332 - mse: 0.2332 - val_loss: 0.2456 - val_mse: 0.2456 - lr: 3.5666e-05\n",
      "Epoch 20/100\n",
      "1539/1540 [============================>.] - ETA: 0s - loss: 0.2317 - mse: 0.2317"
     ]
    },
    {
     "name": "stderr",
     "output_type": "stream",
     "text": [
      "WARNING:absl:Found untraced functions such as activation_layer_call_fn, activation_layer_call_and_return_conditional_losses, activation_1_layer_call_fn, activation_1_layer_call_and_return_conditional_losses, activation_2_layer_call_fn while saving (showing 5 of 12). These functions will not be directly callable after loading.\n"
     ]
    },
    {
     "name": "stdout",
     "output_type": "stream",
     "text": [
      "INFO:tensorflow:Assets written to: C:\\Users\\ucesvpm\\OneDrive - University College London\\PhD Project\\Data Analytics\\Time Series Clustering\\Third Test\\Time-Series-PhD\\wandb\\run-20230227_130943-8sfqhuhd\\files\\model-best\\assets\n"
     ]
    },
    {
     "name": "stderr",
     "output_type": "stream",
     "text": [
      "INFO:tensorflow:Assets written to: C:\\Users\\ucesvpm\\OneDrive - University College London\\PhD Project\\Data Analytics\\Time Series Clustering\\Third Test\\Time-Series-PhD\\wandb\\run-20230227_130943-8sfqhuhd\\files\\model-best\\assets\n",
      "\u001b[34m\u001b[1mwandb\u001b[0m: Adding directory to artifact (C:\\Users\\ucesvpm\\OneDrive - University College London\\PhD Project\\Data Analytics\\Time Series Clustering\\Third Test\\Time-Series-PhD\\wandb\\run-20230227_130943-8sfqhuhd\\files\\model-best)... Done. 0.2s\n"
     ]
    },
    {
     "name": "stdout",
     "output_type": "stream",
     "text": [
      "1540/1540 [==============================] - 32s 21ms/step - loss: 0.2317 - mse: 0.2317 - val_loss: 0.2441 - val_mse: 0.2441 - lr: 3.5666e-05\n",
      "Epoch 21/100\n",
      "1538/1540 [============================>.] - ETA: 0s - loss: 0.2302 - mse: 0.2302"
     ]
    },
    {
     "name": "stderr",
     "output_type": "stream",
     "text": [
      "WARNING:absl:Found untraced functions such as activation_layer_call_fn, activation_layer_call_and_return_conditional_losses, activation_1_layer_call_fn, activation_1_layer_call_and_return_conditional_losses, activation_2_layer_call_fn while saving (showing 5 of 12). These functions will not be directly callable after loading.\n"
     ]
    },
    {
     "name": "stdout",
     "output_type": "stream",
     "text": [
      "INFO:tensorflow:Assets written to: C:\\Users\\ucesvpm\\OneDrive - University College London\\PhD Project\\Data Analytics\\Time Series Clustering\\Third Test\\Time-Series-PhD\\wandb\\run-20230227_130943-8sfqhuhd\\files\\model-best\\assets\n"
     ]
    },
    {
     "name": "stderr",
     "output_type": "stream",
     "text": [
      "INFO:tensorflow:Assets written to: C:\\Users\\ucesvpm\\OneDrive - University College London\\PhD Project\\Data Analytics\\Time Series Clustering\\Third Test\\Time-Series-PhD\\wandb\\run-20230227_130943-8sfqhuhd\\files\\model-best\\assets\n",
      "\u001b[34m\u001b[1mwandb\u001b[0m: Adding directory to artifact (C:\\Users\\ucesvpm\\OneDrive - University College London\\PhD Project\\Data Analytics\\Time Series Clustering\\Third Test\\Time-Series-PhD\\wandb\\run-20230227_130943-8sfqhuhd\\files\\model-best)... Done. 0.2s\n"
     ]
    },
    {
     "name": "stdout",
     "output_type": "stream",
     "text": [
      "1540/1540 [==============================] - 36s 23ms/step - loss: 0.2302 - mse: 0.2302 - val_loss: 0.2432 - val_mse: 0.2432 - lr: 3.5666e-05\n",
      "Epoch 22/100\n",
      "1540/1540 [==============================] - ETA: 0s - loss: 0.2288 - mse: 0.2288"
     ]
    },
    {
     "name": "stderr",
     "output_type": "stream",
     "text": [
      "WARNING:absl:Found untraced functions such as activation_layer_call_fn, activation_layer_call_and_return_conditional_losses, activation_1_layer_call_fn, activation_1_layer_call_and_return_conditional_losses, activation_2_layer_call_fn while saving (showing 5 of 12). These functions will not be directly callable after loading.\n"
     ]
    },
    {
     "name": "stdout",
     "output_type": "stream",
     "text": [
      "INFO:tensorflow:Assets written to: C:\\Users\\ucesvpm\\OneDrive - University College London\\PhD Project\\Data Analytics\\Time Series Clustering\\Third Test\\Time-Series-PhD\\wandb\\run-20230227_130943-8sfqhuhd\\files\\model-best\\assets\n"
     ]
    },
    {
     "name": "stderr",
     "output_type": "stream",
     "text": [
      "INFO:tensorflow:Assets written to: C:\\Users\\ucesvpm\\OneDrive - University College London\\PhD Project\\Data Analytics\\Time Series Clustering\\Third Test\\Time-Series-PhD\\wandb\\run-20230227_130943-8sfqhuhd\\files\\model-best\\assets\n",
      "\u001b[34m\u001b[1mwandb\u001b[0m: Adding directory to artifact (C:\\Users\\ucesvpm\\OneDrive - University College London\\PhD Project\\Data Analytics\\Time Series Clustering\\Third Test\\Time-Series-PhD\\wandb\\run-20230227_130943-8sfqhuhd\\files\\model-best)... Done. 0.2s\n"
     ]
    },
    {
     "name": "stdout",
     "output_type": "stream",
     "text": [
      "1540/1540 [==============================] - 34s 22ms/step - loss: 0.2288 - mse: 0.2288 - val_loss: 0.2419 - val_mse: 0.2419 - lr: 3.5666e-05\n",
      "Epoch 23/100\n",
      "1538/1540 [============================>.] - ETA: 0s - loss: 0.2273 - mse: 0.2273"
     ]
    },
    {
     "name": "stderr",
     "output_type": "stream",
     "text": [
      "WARNING:absl:Found untraced functions such as activation_layer_call_fn, activation_layer_call_and_return_conditional_losses, activation_1_layer_call_fn, activation_1_layer_call_and_return_conditional_losses, activation_2_layer_call_fn while saving (showing 5 of 12). These functions will not be directly callable after loading.\n"
     ]
    },
    {
     "name": "stdout",
     "output_type": "stream",
     "text": [
      "INFO:tensorflow:Assets written to: C:\\Users\\ucesvpm\\OneDrive - University College London\\PhD Project\\Data Analytics\\Time Series Clustering\\Third Test\\Time-Series-PhD\\wandb\\run-20230227_130943-8sfqhuhd\\files\\model-best\\assets\n"
     ]
    },
    {
     "name": "stderr",
     "output_type": "stream",
     "text": [
      "INFO:tensorflow:Assets written to: C:\\Users\\ucesvpm\\OneDrive - University College London\\PhD Project\\Data Analytics\\Time Series Clustering\\Third Test\\Time-Series-PhD\\wandb\\run-20230227_130943-8sfqhuhd\\files\\model-best\\assets\n",
      "\u001b[34m\u001b[1mwandb\u001b[0m: Adding directory to artifact (C:\\Users\\ucesvpm\\OneDrive - University College London\\PhD Project\\Data Analytics\\Time Series Clustering\\Third Test\\Time-Series-PhD\\wandb\\run-20230227_130943-8sfqhuhd\\files\\model-best)... Done. 0.2s\n"
     ]
    },
    {
     "name": "stdout",
     "output_type": "stream",
     "text": [
      "1540/1540 [==============================] - 32s 21ms/step - loss: 0.2273 - mse: 0.2273 - val_loss: 0.2411 - val_mse: 0.2411 - lr: 3.5666e-05\n",
      "Epoch 24/100\n",
      "1540/1540 [==============================] - ETA: 0s - loss: 0.2260 - mse: 0.2260"
     ]
    },
    {
     "name": "stderr",
     "output_type": "stream",
     "text": [
      "WARNING:absl:Found untraced functions such as activation_layer_call_fn, activation_layer_call_and_return_conditional_losses, activation_1_layer_call_fn, activation_1_layer_call_and_return_conditional_losses, activation_2_layer_call_fn while saving (showing 5 of 12). These functions will not be directly callable after loading.\n"
     ]
    },
    {
     "name": "stdout",
     "output_type": "stream",
     "text": [
      "INFO:tensorflow:Assets written to: C:\\Users\\ucesvpm\\OneDrive - University College London\\PhD Project\\Data Analytics\\Time Series Clustering\\Third Test\\Time-Series-PhD\\wandb\\run-20230227_130943-8sfqhuhd\\files\\model-best\\assets\n"
     ]
    },
    {
     "name": "stderr",
     "output_type": "stream",
     "text": [
      "INFO:tensorflow:Assets written to: C:\\Users\\ucesvpm\\OneDrive - University College London\\PhD Project\\Data Analytics\\Time Series Clustering\\Third Test\\Time-Series-PhD\\wandb\\run-20230227_130943-8sfqhuhd\\files\\model-best\\assets\n",
      "\u001b[34m\u001b[1mwandb\u001b[0m: Adding directory to artifact (C:\\Users\\ucesvpm\\OneDrive - University College London\\PhD Project\\Data Analytics\\Time Series Clustering\\Third Test\\Time-Series-PhD\\wandb\\run-20230227_130943-8sfqhuhd\\files\\model-best)... Done. 0.1s\n"
     ]
    },
    {
     "name": "stdout",
     "output_type": "stream",
     "text": [
      "1540/1540 [==============================] - 33s 21ms/step - loss: 0.2260 - mse: 0.2260 - val_loss: 0.2399 - val_mse: 0.2399 - lr: 3.5666e-05\n",
      "Epoch 25/100\n",
      "1538/1540 [============================>.] - ETA: 0s - loss: 0.2247 - mse: 0.2247"
     ]
    },
    {
     "name": "stderr",
     "output_type": "stream",
     "text": [
      "WARNING:absl:Found untraced functions such as activation_layer_call_fn, activation_layer_call_and_return_conditional_losses, activation_1_layer_call_fn, activation_1_layer_call_and_return_conditional_losses, activation_2_layer_call_fn while saving (showing 5 of 12). These functions will not be directly callable after loading.\n"
     ]
    },
    {
     "name": "stdout",
     "output_type": "stream",
     "text": [
      "INFO:tensorflow:Assets written to: C:\\Users\\ucesvpm\\OneDrive - University College London\\PhD Project\\Data Analytics\\Time Series Clustering\\Third Test\\Time-Series-PhD\\wandb\\run-20230227_130943-8sfqhuhd\\files\\model-best\\assets\n"
     ]
    },
    {
     "name": "stderr",
     "output_type": "stream",
     "text": [
      "INFO:tensorflow:Assets written to: C:\\Users\\ucesvpm\\OneDrive - University College London\\PhD Project\\Data Analytics\\Time Series Clustering\\Third Test\\Time-Series-PhD\\wandb\\run-20230227_130943-8sfqhuhd\\files\\model-best\\assets\n",
      "\u001b[34m\u001b[1mwandb\u001b[0m: Adding directory to artifact (C:\\Users\\ucesvpm\\OneDrive - University College London\\PhD Project\\Data Analytics\\Time Series Clustering\\Third Test\\Time-Series-PhD\\wandb\\run-20230227_130943-8sfqhuhd\\files\\model-best)... Done. 0.2s\n"
     ]
    },
    {
     "name": "stdout",
     "output_type": "stream",
     "text": [
      "1540/1540 [==============================] - 33s 21ms/step - loss: 0.2246 - mse: 0.2246 - val_loss: 0.2383 - val_mse: 0.2383 - lr: 3.5666e-05\n",
      "Epoch 26/100\n",
      "1539/1540 [============================>.] - ETA: 0s - loss: 0.2233 - mse: 0.2233"
     ]
    },
    {
     "name": "stderr",
     "output_type": "stream",
     "text": [
      "WARNING:absl:Found untraced functions such as activation_layer_call_fn, activation_layer_call_and_return_conditional_losses, activation_1_layer_call_fn, activation_1_layer_call_and_return_conditional_losses, activation_2_layer_call_fn while saving (showing 5 of 12). These functions will not be directly callable after loading.\n"
     ]
    },
    {
     "name": "stdout",
     "output_type": "stream",
     "text": [
      "INFO:tensorflow:Assets written to: C:\\Users\\ucesvpm\\OneDrive - University College London\\PhD Project\\Data Analytics\\Time Series Clustering\\Third Test\\Time-Series-PhD\\wandb\\run-20230227_130943-8sfqhuhd\\files\\model-best\\assets\n"
     ]
    },
    {
     "name": "stderr",
     "output_type": "stream",
     "text": [
      "INFO:tensorflow:Assets written to: C:\\Users\\ucesvpm\\OneDrive - University College London\\PhD Project\\Data Analytics\\Time Series Clustering\\Third Test\\Time-Series-PhD\\wandb\\run-20230227_130943-8sfqhuhd\\files\\model-best\\assets\n",
      "\u001b[34m\u001b[1mwandb\u001b[0m: Adding directory to artifact (C:\\Users\\ucesvpm\\OneDrive - University College London\\PhD Project\\Data Analytics\\Time Series Clustering\\Third Test\\Time-Series-PhD\\wandb\\run-20230227_130943-8sfqhuhd\\files\\model-best)... Done. 0.3s\n"
     ]
    },
    {
     "name": "stdout",
     "output_type": "stream",
     "text": [
      "1540/1540 [==============================] - 33s 21ms/step - loss: 0.2233 - mse: 0.2233 - val_loss: 0.2373 - val_mse: 0.2373 - lr: 3.5666e-05\n",
      "Epoch 27/100\n",
      "1539/1540 [============================>.] - ETA: 0s - loss: 0.2221 - mse: 0.2221"
     ]
    },
    {
     "name": "stderr",
     "output_type": "stream",
     "text": [
      "WARNING:absl:Found untraced functions such as activation_layer_call_fn, activation_layer_call_and_return_conditional_losses, activation_1_layer_call_fn, activation_1_layer_call_and_return_conditional_losses, activation_2_layer_call_fn while saving (showing 5 of 12). These functions will not be directly callable after loading.\n"
     ]
    },
    {
     "name": "stdout",
     "output_type": "stream",
     "text": [
      "INFO:tensorflow:Assets written to: C:\\Users\\ucesvpm\\OneDrive - University College London\\PhD Project\\Data Analytics\\Time Series Clustering\\Third Test\\Time-Series-PhD\\wandb\\run-20230227_130943-8sfqhuhd\\files\\model-best\\assets\n"
     ]
    },
    {
     "name": "stderr",
     "output_type": "stream",
     "text": [
      "INFO:tensorflow:Assets written to: C:\\Users\\ucesvpm\\OneDrive - University College London\\PhD Project\\Data Analytics\\Time Series Clustering\\Third Test\\Time-Series-PhD\\wandb\\run-20230227_130943-8sfqhuhd\\files\\model-best\\assets\n",
      "\u001b[34m\u001b[1mwandb\u001b[0m: Adding directory to artifact (C:\\Users\\ucesvpm\\OneDrive - University College London\\PhD Project\\Data Analytics\\Time Series Clustering\\Third Test\\Time-Series-PhD\\wandb\\run-20230227_130943-8sfqhuhd\\files\\model-best)... Done. 0.3s\n"
     ]
    },
    {
     "name": "stdout",
     "output_type": "stream",
     "text": [
      "1540/1540 [==============================] - 37s 24ms/step - loss: 0.2221 - mse: 0.2221 - val_loss: 0.2367 - val_mse: 0.2367 - lr: 3.5666e-05\n",
      "Epoch 28/100\n",
      "1539/1540 [============================>.] - ETA: 0s - loss: 0.2208 - mse: 0.2208"
     ]
    },
    {
     "name": "stderr",
     "output_type": "stream",
     "text": [
      "WARNING:absl:Found untraced functions such as activation_layer_call_fn, activation_layer_call_and_return_conditional_losses, activation_1_layer_call_fn, activation_1_layer_call_and_return_conditional_losses, activation_2_layer_call_fn while saving (showing 5 of 12). These functions will not be directly callable after loading.\n"
     ]
    },
    {
     "name": "stdout",
     "output_type": "stream",
     "text": [
      "INFO:tensorflow:Assets written to: C:\\Users\\ucesvpm\\OneDrive - University College London\\PhD Project\\Data Analytics\\Time Series Clustering\\Third Test\\Time-Series-PhD\\wandb\\run-20230227_130943-8sfqhuhd\\files\\model-best\\assets\n"
     ]
    },
    {
     "name": "stderr",
     "output_type": "stream",
     "text": [
      "INFO:tensorflow:Assets written to: C:\\Users\\ucesvpm\\OneDrive - University College London\\PhD Project\\Data Analytics\\Time Series Clustering\\Third Test\\Time-Series-PhD\\wandb\\run-20230227_130943-8sfqhuhd\\files\\model-best\\assets\n",
      "\u001b[34m\u001b[1mwandb\u001b[0m: Adding directory to artifact (C:\\Users\\ucesvpm\\OneDrive - University College London\\PhD Project\\Data Analytics\\Time Series Clustering\\Third Test\\Time-Series-PhD\\wandb\\run-20230227_130943-8sfqhuhd\\files\\model-best)... Done. 0.3s\n"
     ]
    },
    {
     "name": "stdout",
     "output_type": "stream",
     "text": [
      "1540/1540 [==============================] - 35s 23ms/step - loss: 0.2208 - mse: 0.2208 - val_loss: 0.2360 - val_mse: 0.2360 - lr: 3.5666e-05\n",
      "Epoch 29/100\n",
      "1539/1540 [============================>.] - ETA: 0s - loss: 0.2196 - mse: 0.2196"
     ]
    },
    {
     "name": "stderr",
     "output_type": "stream",
     "text": [
      "WARNING:absl:Found untraced functions such as activation_layer_call_fn, activation_layer_call_and_return_conditional_losses, activation_1_layer_call_fn, activation_1_layer_call_and_return_conditional_losses, activation_2_layer_call_fn while saving (showing 5 of 12). These functions will not be directly callable after loading.\n"
     ]
    },
    {
     "name": "stdout",
     "output_type": "stream",
     "text": [
      "INFO:tensorflow:Assets written to: C:\\Users\\ucesvpm\\OneDrive - University College London\\PhD Project\\Data Analytics\\Time Series Clustering\\Third Test\\Time-Series-PhD\\wandb\\run-20230227_130943-8sfqhuhd\\files\\model-best\\assets\n"
     ]
    },
    {
     "name": "stderr",
     "output_type": "stream",
     "text": [
      "INFO:tensorflow:Assets written to: C:\\Users\\ucesvpm\\OneDrive - University College London\\PhD Project\\Data Analytics\\Time Series Clustering\\Third Test\\Time-Series-PhD\\wandb\\run-20230227_130943-8sfqhuhd\\files\\model-best\\assets\n",
      "\u001b[34m\u001b[1mwandb\u001b[0m: Adding directory to artifact (C:\\Users\\ucesvpm\\OneDrive - University College London\\PhD Project\\Data Analytics\\Time Series Clustering\\Third Test\\Time-Series-PhD\\wandb\\run-20230227_130943-8sfqhuhd\\files\\model-best)... Done. 0.2s\n"
     ]
    },
    {
     "name": "stdout",
     "output_type": "stream",
     "text": [
      "1540/1540 [==============================] - 33s 21ms/step - loss: 0.2195 - mse: 0.2195 - val_loss: 0.2349 - val_mse: 0.2349 - lr: 3.5666e-05\n",
      "Epoch 30/100\n",
      "1539/1540 [============================>.] - ETA: 0s - loss: 0.2183 - mse: 0.2183"
     ]
    },
    {
     "name": "stderr",
     "output_type": "stream",
     "text": [
      "WARNING:absl:Found untraced functions such as activation_layer_call_fn, activation_layer_call_and_return_conditional_losses, activation_1_layer_call_fn, activation_1_layer_call_and_return_conditional_losses, activation_2_layer_call_fn while saving (showing 5 of 12). These functions will not be directly callable after loading.\n"
     ]
    },
    {
     "name": "stdout",
     "output_type": "stream",
     "text": [
      "INFO:tensorflow:Assets written to: C:\\Users\\ucesvpm\\OneDrive - University College London\\PhD Project\\Data Analytics\\Time Series Clustering\\Third Test\\Time-Series-PhD\\wandb\\run-20230227_130943-8sfqhuhd\\files\\model-best\\assets\n"
     ]
    },
    {
     "name": "stderr",
     "output_type": "stream",
     "text": [
      "INFO:tensorflow:Assets written to: C:\\Users\\ucesvpm\\OneDrive - University College London\\PhD Project\\Data Analytics\\Time Series Clustering\\Third Test\\Time-Series-PhD\\wandb\\run-20230227_130943-8sfqhuhd\\files\\model-best\\assets\n",
      "\u001b[34m\u001b[1mwandb\u001b[0m: Adding directory to artifact (C:\\Users\\ucesvpm\\OneDrive - University College London\\PhD Project\\Data Analytics\\Time Series Clustering\\Third Test\\Time-Series-PhD\\wandb\\run-20230227_130943-8sfqhuhd\\files\\model-best)... Done. 0.2s\n"
     ]
    },
    {
     "name": "stdout",
     "output_type": "stream",
     "text": [
      "1540/1540 [==============================] - 33s 21ms/step - loss: 0.2183 - mse: 0.2183 - val_loss: 0.2335 - val_mse: 0.2335 - lr: 3.5666e-05\n",
      "Epoch 31/100\n",
      "1539/1540 [============================>.] - ETA: 0s - loss: 0.2171 - mse: 0.2171"
     ]
    },
    {
     "name": "stderr",
     "output_type": "stream",
     "text": [
      "WARNING:absl:Found untraced functions such as activation_layer_call_fn, activation_layer_call_and_return_conditional_losses, activation_1_layer_call_fn, activation_1_layer_call_and_return_conditional_losses, activation_2_layer_call_fn while saving (showing 5 of 12). These functions will not be directly callable after loading.\n"
     ]
    },
    {
     "name": "stdout",
     "output_type": "stream",
     "text": [
      "INFO:tensorflow:Assets written to: C:\\Users\\ucesvpm\\OneDrive - University College London\\PhD Project\\Data Analytics\\Time Series Clustering\\Third Test\\Time-Series-PhD\\wandb\\run-20230227_130943-8sfqhuhd\\files\\model-best\\assets\n"
     ]
    },
    {
     "name": "stderr",
     "output_type": "stream",
     "text": [
      "INFO:tensorflow:Assets written to: C:\\Users\\ucesvpm\\OneDrive - University College London\\PhD Project\\Data Analytics\\Time Series Clustering\\Third Test\\Time-Series-PhD\\wandb\\run-20230227_130943-8sfqhuhd\\files\\model-best\\assets\n",
      "\u001b[34m\u001b[1mwandb\u001b[0m: Adding directory to artifact (C:\\Users\\ucesvpm\\OneDrive - University College London\\PhD Project\\Data Analytics\\Time Series Clustering\\Third Test\\Time-Series-PhD\\wandb\\run-20230227_130943-8sfqhuhd\\files\\model-best)... Done. 0.1s\n"
     ]
    },
    {
     "name": "stdout",
     "output_type": "stream",
     "text": [
      "1540/1540 [==============================] - 33s 21ms/step - loss: 0.2171 - mse: 0.2171 - val_loss: 0.2329 - val_mse: 0.2329 - lr: 3.5666e-05\n",
      "Epoch 32/100\n",
      "1540/1540 [==============================] - ETA: 0s - loss: 0.2159 - mse: 0.2159"
     ]
    },
    {
     "name": "stderr",
     "output_type": "stream",
     "text": [
      "WARNING:absl:Found untraced functions such as activation_layer_call_fn, activation_layer_call_and_return_conditional_losses, activation_1_layer_call_fn, activation_1_layer_call_and_return_conditional_losses, activation_2_layer_call_fn while saving (showing 5 of 12). These functions will not be directly callable after loading.\n"
     ]
    },
    {
     "name": "stdout",
     "output_type": "stream",
     "text": [
      "INFO:tensorflow:Assets written to: C:\\Users\\ucesvpm\\OneDrive - University College London\\PhD Project\\Data Analytics\\Time Series Clustering\\Third Test\\Time-Series-PhD\\wandb\\run-20230227_130943-8sfqhuhd\\files\\model-best\\assets\n"
     ]
    },
    {
     "name": "stderr",
     "output_type": "stream",
     "text": [
      "INFO:tensorflow:Assets written to: C:\\Users\\ucesvpm\\OneDrive - University College London\\PhD Project\\Data Analytics\\Time Series Clustering\\Third Test\\Time-Series-PhD\\wandb\\run-20230227_130943-8sfqhuhd\\files\\model-best\\assets\n",
      "\u001b[34m\u001b[1mwandb\u001b[0m: Adding directory to artifact (C:\\Users\\ucesvpm\\OneDrive - University College London\\PhD Project\\Data Analytics\\Time Series Clustering\\Third Test\\Time-Series-PhD\\wandb\\run-20230227_130943-8sfqhuhd\\files\\model-best)... Done. 0.2s\n"
     ]
    },
    {
     "name": "stdout",
     "output_type": "stream",
     "text": [
      "1540/1540 [==============================] - 33s 21ms/step - loss: 0.2159 - mse: 0.2159 - val_loss: 0.2316 - val_mse: 0.2316 - lr: 3.5666e-05\n",
      "Epoch 33/100\n",
      "1538/1540 [============================>.] - ETA: 0s - loss: 0.2148 - mse: 0.2148"
     ]
    },
    {
     "name": "stderr",
     "output_type": "stream",
     "text": [
      "WARNING:absl:Found untraced functions such as activation_layer_call_fn, activation_layer_call_and_return_conditional_losses, activation_1_layer_call_fn, activation_1_layer_call_and_return_conditional_losses, activation_2_layer_call_fn while saving (showing 5 of 12). These functions will not be directly callable after loading.\n"
     ]
    },
    {
     "name": "stdout",
     "output_type": "stream",
     "text": [
      "INFO:tensorflow:Assets written to: C:\\Users\\ucesvpm\\OneDrive - University College London\\PhD Project\\Data Analytics\\Time Series Clustering\\Third Test\\Time-Series-PhD\\wandb\\run-20230227_130943-8sfqhuhd\\files\\model-best\\assets\n"
     ]
    },
    {
     "name": "stderr",
     "output_type": "stream",
     "text": [
      "INFO:tensorflow:Assets written to: C:\\Users\\ucesvpm\\OneDrive - University College London\\PhD Project\\Data Analytics\\Time Series Clustering\\Third Test\\Time-Series-PhD\\wandb\\run-20230227_130943-8sfqhuhd\\files\\model-best\\assets\n",
      "\u001b[34m\u001b[1mwandb\u001b[0m: Adding directory to artifact (C:\\Users\\ucesvpm\\OneDrive - University College London\\PhD Project\\Data Analytics\\Time Series Clustering\\Third Test\\Time-Series-PhD\\wandb\\run-20230227_130943-8sfqhuhd\\files\\model-best)... Done. 0.2s\n"
     ]
    },
    {
     "name": "stdout",
     "output_type": "stream",
     "text": [
      "1540/1540 [==============================] - 34s 22ms/step - loss: 0.2148 - mse: 0.2148 - val_loss: 0.2307 - val_mse: 0.2307 - lr: 3.5666e-05\n",
      "Epoch 34/100\n",
      "1539/1540 [============================>.] - ETA: 0s - loss: 0.2137 - mse: 0.2137"
     ]
    },
    {
     "name": "stderr",
     "output_type": "stream",
     "text": [
      "WARNING:absl:Found untraced functions such as activation_layer_call_fn, activation_layer_call_and_return_conditional_losses, activation_1_layer_call_fn, activation_1_layer_call_and_return_conditional_losses, activation_2_layer_call_fn while saving (showing 5 of 12). These functions will not be directly callable after loading.\n"
     ]
    },
    {
     "name": "stdout",
     "output_type": "stream",
     "text": [
      "INFO:tensorflow:Assets written to: C:\\Users\\ucesvpm\\OneDrive - University College London\\PhD Project\\Data Analytics\\Time Series Clustering\\Third Test\\Time-Series-PhD\\wandb\\run-20230227_130943-8sfqhuhd\\files\\model-best\\assets\n"
     ]
    },
    {
     "name": "stderr",
     "output_type": "stream",
     "text": [
      "INFO:tensorflow:Assets written to: C:\\Users\\ucesvpm\\OneDrive - University College London\\PhD Project\\Data Analytics\\Time Series Clustering\\Third Test\\Time-Series-PhD\\wandb\\run-20230227_130943-8sfqhuhd\\files\\model-best\\assets\n",
      "\u001b[34m\u001b[1mwandb\u001b[0m: Adding directory to artifact (C:\\Users\\ucesvpm\\OneDrive - University College London\\PhD Project\\Data Analytics\\Time Series Clustering\\Third Test\\Time-Series-PhD\\wandb\\run-20230227_130943-8sfqhuhd\\files\\model-best)... Done. 0.2s\n"
     ]
    },
    {
     "name": "stdout",
     "output_type": "stream",
     "text": [
      "1540/1540 [==============================] - 36s 23ms/step - loss: 0.2137 - mse: 0.2137 - val_loss: 0.2299 - val_mse: 0.2299 - lr: 3.5666e-05\n",
      "Epoch 35/100\n",
      "1539/1540 [============================>.] - ETA: 0s - loss: 0.2126 - mse: 0.2126"
     ]
    },
    {
     "name": "stderr",
     "output_type": "stream",
     "text": [
      "WARNING:absl:Found untraced functions such as activation_layer_call_fn, activation_layer_call_and_return_conditional_losses, activation_1_layer_call_fn, activation_1_layer_call_and_return_conditional_losses, activation_2_layer_call_fn while saving (showing 5 of 12). These functions will not be directly callable after loading.\n"
     ]
    },
    {
     "name": "stdout",
     "output_type": "stream",
     "text": [
      "INFO:tensorflow:Assets written to: C:\\Users\\ucesvpm\\OneDrive - University College London\\PhD Project\\Data Analytics\\Time Series Clustering\\Third Test\\Time-Series-PhD\\wandb\\run-20230227_130943-8sfqhuhd\\files\\model-best\\assets\n"
     ]
    },
    {
     "name": "stderr",
     "output_type": "stream",
     "text": [
      "INFO:tensorflow:Assets written to: C:\\Users\\ucesvpm\\OneDrive - University College London\\PhD Project\\Data Analytics\\Time Series Clustering\\Third Test\\Time-Series-PhD\\wandb\\run-20230227_130943-8sfqhuhd\\files\\model-best\\assets\n",
      "\u001b[34m\u001b[1mwandb\u001b[0m: Adding directory to artifact (C:\\Users\\ucesvpm\\OneDrive - University College London\\PhD Project\\Data Analytics\\Time Series Clustering\\Third Test\\Time-Series-PhD\\wandb\\run-20230227_130943-8sfqhuhd\\files\\model-best)... Done. 0.2s\n"
     ]
    },
    {
     "name": "stdout",
     "output_type": "stream",
     "text": [
      "1540/1540 [==============================] - 38s 25ms/step - loss: 0.2126 - mse: 0.2126 - val_loss: 0.2294 - val_mse: 0.2294 - lr: 3.5666e-05\n",
      "Epoch 36/100\n",
      "1539/1540 [============================>.] - ETA: 0s - loss: 0.2116 - mse: 0.2116"
     ]
    },
    {
     "name": "stderr",
     "output_type": "stream",
     "text": [
      "WARNING:absl:Found untraced functions such as activation_layer_call_fn, activation_layer_call_and_return_conditional_losses, activation_1_layer_call_fn, activation_1_layer_call_and_return_conditional_losses, activation_2_layer_call_fn while saving (showing 5 of 12). These functions will not be directly callable after loading.\n"
     ]
    },
    {
     "name": "stdout",
     "output_type": "stream",
     "text": [
      "INFO:tensorflow:Assets written to: C:\\Users\\ucesvpm\\OneDrive - University College London\\PhD Project\\Data Analytics\\Time Series Clustering\\Third Test\\Time-Series-PhD\\wandb\\run-20230227_130943-8sfqhuhd\\files\\model-best\\assets\n"
     ]
    },
    {
     "name": "stderr",
     "output_type": "stream",
     "text": [
      "INFO:tensorflow:Assets written to: C:\\Users\\ucesvpm\\OneDrive - University College London\\PhD Project\\Data Analytics\\Time Series Clustering\\Third Test\\Time-Series-PhD\\wandb\\run-20230227_130943-8sfqhuhd\\files\\model-best\\assets\n",
      "\u001b[34m\u001b[1mwandb\u001b[0m: Adding directory to artifact (C:\\Users\\ucesvpm\\OneDrive - University College London\\PhD Project\\Data Analytics\\Time Series Clustering\\Third Test\\Time-Series-PhD\\wandb\\run-20230227_130943-8sfqhuhd\\files\\model-best)... Done. 0.3s\n"
     ]
    },
    {
     "name": "stdout",
     "output_type": "stream",
     "text": [
      "1540/1540 [==============================] - 40s 26ms/step - loss: 0.2116 - mse: 0.2116 - val_loss: 0.2279 - val_mse: 0.2279 - lr: 3.5666e-05\n",
      "Epoch 37/100\n",
      "1538/1540 [============================>.] - ETA: 0s - loss: 0.2105 - mse: 0.2105"
     ]
    },
    {
     "name": "stderr",
     "output_type": "stream",
     "text": [
      "WARNING:absl:Found untraced functions such as activation_layer_call_fn, activation_layer_call_and_return_conditional_losses, activation_1_layer_call_fn, activation_1_layer_call_and_return_conditional_losses, activation_2_layer_call_fn while saving (showing 5 of 12). These functions will not be directly callable after loading.\n"
     ]
    },
    {
     "name": "stdout",
     "output_type": "stream",
     "text": [
      "INFO:tensorflow:Assets written to: C:\\Users\\ucesvpm\\OneDrive - University College London\\PhD Project\\Data Analytics\\Time Series Clustering\\Third Test\\Time-Series-PhD\\wandb\\run-20230227_130943-8sfqhuhd\\files\\model-best\\assets\n"
     ]
    },
    {
     "name": "stderr",
     "output_type": "stream",
     "text": [
      "INFO:tensorflow:Assets written to: C:\\Users\\ucesvpm\\OneDrive - University College London\\PhD Project\\Data Analytics\\Time Series Clustering\\Third Test\\Time-Series-PhD\\wandb\\run-20230227_130943-8sfqhuhd\\files\\model-best\\assets\n",
      "\u001b[34m\u001b[1mwandb\u001b[0m: Adding directory to artifact (C:\\Users\\ucesvpm\\OneDrive - University College London\\PhD Project\\Data Analytics\\Time Series Clustering\\Third Test\\Time-Series-PhD\\wandb\\run-20230227_130943-8sfqhuhd\\files\\model-best)... Done. 0.2s\n"
     ]
    },
    {
     "name": "stdout",
     "output_type": "stream",
     "text": [
      "1540/1540 [==============================] - 34s 22ms/step - loss: 0.2105 - mse: 0.2105 - val_loss: 0.2272 - val_mse: 0.2272 - lr: 3.5666e-05\n",
      "Epoch 38/100\n",
      "1540/1540 [==============================] - ETA: 0s - loss: 0.2094 - mse: 0.2094"
     ]
    },
    {
     "name": "stderr",
     "output_type": "stream",
     "text": [
      "WARNING:absl:Found untraced functions such as activation_layer_call_fn, activation_layer_call_and_return_conditional_losses, activation_1_layer_call_fn, activation_1_layer_call_and_return_conditional_losses, activation_2_layer_call_fn while saving (showing 5 of 12). These functions will not be directly callable after loading.\n"
     ]
    },
    {
     "name": "stdout",
     "output_type": "stream",
     "text": [
      "INFO:tensorflow:Assets written to: C:\\Users\\ucesvpm\\OneDrive - University College London\\PhD Project\\Data Analytics\\Time Series Clustering\\Third Test\\Time-Series-PhD\\wandb\\run-20230227_130943-8sfqhuhd\\files\\model-best\\assets\n"
     ]
    },
    {
     "name": "stderr",
     "output_type": "stream",
     "text": [
      "INFO:tensorflow:Assets written to: C:\\Users\\ucesvpm\\OneDrive - University College London\\PhD Project\\Data Analytics\\Time Series Clustering\\Third Test\\Time-Series-PhD\\wandb\\run-20230227_130943-8sfqhuhd\\files\\model-best\\assets\n",
      "\u001b[34m\u001b[1mwandb\u001b[0m: Adding directory to artifact (C:\\Users\\ucesvpm\\OneDrive - University College London\\PhD Project\\Data Analytics\\Time Series Clustering\\Third Test\\Time-Series-PhD\\wandb\\run-20230227_130943-8sfqhuhd\\files\\model-best)... Done. 0.2s\n"
     ]
    },
    {
     "name": "stdout",
     "output_type": "stream",
     "text": [
      "1540/1540 [==============================] - 35s 23ms/step - loss: 0.2094 - mse: 0.2094 - val_loss: 0.2265 - val_mse: 0.2265 - lr: 3.5666e-05\n",
      "Epoch 39/100\n",
      "1540/1540 [==============================] - ETA: 0s - loss: 0.2084 - mse: 0.2084"
     ]
    },
    {
     "name": "stderr",
     "output_type": "stream",
     "text": [
      "WARNING:absl:Found untraced functions such as activation_layer_call_fn, activation_layer_call_and_return_conditional_losses, activation_1_layer_call_fn, activation_1_layer_call_and_return_conditional_losses, activation_2_layer_call_fn while saving (showing 5 of 12). These functions will not be directly callable after loading.\n"
     ]
    },
    {
     "name": "stdout",
     "output_type": "stream",
     "text": [
      "INFO:tensorflow:Assets written to: C:\\Users\\ucesvpm\\OneDrive - University College London\\PhD Project\\Data Analytics\\Time Series Clustering\\Third Test\\Time-Series-PhD\\wandb\\run-20230227_130943-8sfqhuhd\\files\\model-best\\assets\n"
     ]
    },
    {
     "name": "stderr",
     "output_type": "stream",
     "text": [
      "INFO:tensorflow:Assets written to: C:\\Users\\ucesvpm\\OneDrive - University College London\\PhD Project\\Data Analytics\\Time Series Clustering\\Third Test\\Time-Series-PhD\\wandb\\run-20230227_130943-8sfqhuhd\\files\\model-best\\assets\n",
      "\u001b[34m\u001b[1mwandb\u001b[0m: Adding directory to artifact (C:\\Users\\ucesvpm\\OneDrive - University College London\\PhD Project\\Data Analytics\\Time Series Clustering\\Third Test\\Time-Series-PhD\\wandb\\run-20230227_130943-8sfqhuhd\\files\\model-best)... Done. 0.2s\n"
     ]
    },
    {
     "name": "stdout",
     "output_type": "stream",
     "text": [
      "1540/1540 [==============================] - 33s 21ms/step - loss: 0.2084 - mse: 0.2084 - val_loss: 0.2259 - val_mse: 0.2259 - lr: 3.5666e-05\n",
      "Epoch 40/100\n",
      "1540/1540 [==============================] - ETA: 0s - loss: 0.2075 - mse: 0.2075"
     ]
    },
    {
     "name": "stderr",
     "output_type": "stream",
     "text": [
      "WARNING:absl:Found untraced functions such as activation_layer_call_fn, activation_layer_call_and_return_conditional_losses, activation_1_layer_call_fn, activation_1_layer_call_and_return_conditional_losses, activation_2_layer_call_fn while saving (showing 5 of 12). These functions will not be directly callable after loading.\n"
     ]
    },
    {
     "name": "stdout",
     "output_type": "stream",
     "text": [
      "INFO:tensorflow:Assets written to: C:\\Users\\ucesvpm\\OneDrive - University College London\\PhD Project\\Data Analytics\\Time Series Clustering\\Third Test\\Time-Series-PhD\\wandb\\run-20230227_130943-8sfqhuhd\\files\\model-best\\assets\n"
     ]
    },
    {
     "name": "stderr",
     "output_type": "stream",
     "text": [
      "INFO:tensorflow:Assets written to: C:\\Users\\ucesvpm\\OneDrive - University College London\\PhD Project\\Data Analytics\\Time Series Clustering\\Third Test\\Time-Series-PhD\\wandb\\run-20230227_130943-8sfqhuhd\\files\\model-best\\assets\n",
      "\u001b[34m\u001b[1mwandb\u001b[0m: Adding directory to artifact (C:\\Users\\ucesvpm\\OneDrive - University College London\\PhD Project\\Data Analytics\\Time Series Clustering\\Third Test\\Time-Series-PhD\\wandb\\run-20230227_130943-8sfqhuhd\\files\\model-best)... Done. 0.3s\n"
     ]
    },
    {
     "name": "stdout",
     "output_type": "stream",
     "text": [
      "1540/1540 [==============================] - 37s 24ms/step - loss: 0.2075 - mse: 0.2075 - val_loss: 0.2253 - val_mse: 0.2253 - lr: 3.5666e-05\n",
      "Epoch 41/100\n",
      "1539/1540 [============================>.] - ETA: 0s - loss: 0.2065 - mse: 0.2065"
     ]
    },
    {
     "name": "stderr",
     "output_type": "stream",
     "text": [
      "WARNING:absl:Found untraced functions such as activation_layer_call_fn, activation_layer_call_and_return_conditional_losses, activation_1_layer_call_fn, activation_1_layer_call_and_return_conditional_losses, activation_2_layer_call_fn while saving (showing 5 of 12). These functions will not be directly callable after loading.\n"
     ]
    },
    {
     "name": "stdout",
     "output_type": "stream",
     "text": [
      "INFO:tensorflow:Assets written to: C:\\Users\\ucesvpm\\OneDrive - University College London\\PhD Project\\Data Analytics\\Time Series Clustering\\Third Test\\Time-Series-PhD\\wandb\\run-20230227_130943-8sfqhuhd\\files\\model-best\\assets\n"
     ]
    },
    {
     "name": "stderr",
     "output_type": "stream",
     "text": [
      "INFO:tensorflow:Assets written to: C:\\Users\\ucesvpm\\OneDrive - University College London\\PhD Project\\Data Analytics\\Time Series Clustering\\Third Test\\Time-Series-PhD\\wandb\\run-20230227_130943-8sfqhuhd\\files\\model-best\\assets\n",
      "\u001b[34m\u001b[1mwandb\u001b[0m: Adding directory to artifact (C:\\Users\\ucesvpm\\OneDrive - University College London\\PhD Project\\Data Analytics\\Time Series Clustering\\Third Test\\Time-Series-PhD\\wandb\\run-20230227_130943-8sfqhuhd\\files\\model-best)... Done. 0.3s\n"
     ]
    },
    {
     "name": "stdout",
     "output_type": "stream",
     "text": [
      "1540/1540 [==============================] - 38s 24ms/step - loss: 0.2065 - mse: 0.2065 - val_loss: 0.2243 - val_mse: 0.2243 - lr: 3.5666e-05\n",
      "Epoch 42/100\n",
      "1538/1540 [============================>.] - ETA: 0s - loss: 0.2055 - mse: 0.2055"
     ]
    },
    {
     "name": "stderr",
     "output_type": "stream",
     "text": [
      "WARNING:absl:Found untraced functions such as activation_layer_call_fn, activation_layer_call_and_return_conditional_losses, activation_1_layer_call_fn, activation_1_layer_call_and_return_conditional_losses, activation_2_layer_call_fn while saving (showing 5 of 12). These functions will not be directly callable after loading.\n"
     ]
    },
    {
     "name": "stdout",
     "output_type": "stream",
     "text": [
      "INFO:tensorflow:Assets written to: C:\\Users\\ucesvpm\\OneDrive - University College London\\PhD Project\\Data Analytics\\Time Series Clustering\\Third Test\\Time-Series-PhD\\wandb\\run-20230227_130943-8sfqhuhd\\files\\model-best\\assets\n"
     ]
    },
    {
     "name": "stderr",
     "output_type": "stream",
     "text": [
      "INFO:tensorflow:Assets written to: C:\\Users\\ucesvpm\\OneDrive - University College London\\PhD Project\\Data Analytics\\Time Series Clustering\\Third Test\\Time-Series-PhD\\wandb\\run-20230227_130943-8sfqhuhd\\files\\model-best\\assets\n",
      "\u001b[34m\u001b[1mwandb\u001b[0m: Adding directory to artifact (C:\\Users\\ucesvpm\\OneDrive - University College London\\PhD Project\\Data Analytics\\Time Series Clustering\\Third Test\\Time-Series-PhD\\wandb\\run-20230227_130943-8sfqhuhd\\files\\model-best)... Done. 0.2s\n"
     ]
    },
    {
     "name": "stdout",
     "output_type": "stream",
     "text": [
      "1540/1540 [==============================] - 42s 27ms/step - loss: 0.2055 - mse: 0.2055 - val_loss: 0.2236 - val_mse: 0.2236 - lr: 3.5666e-05\n",
      "Epoch 43/100\n",
      "1538/1540 [============================>.] - ETA: 0s - loss: 0.2046 - mse: 0.2046"
     ]
    },
    {
     "name": "stderr",
     "output_type": "stream",
     "text": [
      "WARNING:absl:Found untraced functions such as activation_layer_call_fn, activation_layer_call_and_return_conditional_losses, activation_1_layer_call_fn, activation_1_layer_call_and_return_conditional_losses, activation_2_layer_call_fn while saving (showing 5 of 12). These functions will not be directly callable after loading.\n"
     ]
    },
    {
     "name": "stdout",
     "output_type": "stream",
     "text": [
      "INFO:tensorflow:Assets written to: C:\\Users\\ucesvpm\\OneDrive - University College London\\PhD Project\\Data Analytics\\Time Series Clustering\\Third Test\\Time-Series-PhD\\wandb\\run-20230227_130943-8sfqhuhd\\files\\model-best\\assets\n"
     ]
    },
    {
     "name": "stderr",
     "output_type": "stream",
     "text": [
      "INFO:tensorflow:Assets written to: C:\\Users\\ucesvpm\\OneDrive - University College London\\PhD Project\\Data Analytics\\Time Series Clustering\\Third Test\\Time-Series-PhD\\wandb\\run-20230227_130943-8sfqhuhd\\files\\model-best\\assets\n",
      "\u001b[34m\u001b[1mwandb\u001b[0m: Adding directory to artifact (C:\\Users\\ucesvpm\\OneDrive - University College London\\PhD Project\\Data Analytics\\Time Series Clustering\\Third Test\\Time-Series-PhD\\wandb\\run-20230227_130943-8sfqhuhd\\files\\model-best)... Done. 0.2s\n"
     ]
    },
    {
     "name": "stdout",
     "output_type": "stream",
     "text": [
      "1540/1540 [==============================] - 38s 25ms/step - loss: 0.2046 - mse: 0.2046 - val_loss: 0.2232 - val_mse: 0.2232 - lr: 3.5666e-05\n",
      "Epoch 44/100\n",
      "1539/1540 [============================>.] - ETA: 0s - loss: 0.2037 - mse: 0.2037"
     ]
    },
    {
     "name": "stderr",
     "output_type": "stream",
     "text": [
      "WARNING:absl:Found untraced functions such as activation_layer_call_fn, activation_layer_call_and_return_conditional_losses, activation_1_layer_call_fn, activation_1_layer_call_and_return_conditional_losses, activation_2_layer_call_fn while saving (showing 5 of 12). These functions will not be directly callable after loading.\n"
     ]
    },
    {
     "name": "stdout",
     "output_type": "stream",
     "text": [
      "INFO:tensorflow:Assets written to: C:\\Users\\ucesvpm\\OneDrive - University College London\\PhD Project\\Data Analytics\\Time Series Clustering\\Third Test\\Time-Series-PhD\\wandb\\run-20230227_130943-8sfqhuhd\\files\\model-best\\assets\n"
     ]
    },
    {
     "name": "stderr",
     "output_type": "stream",
     "text": [
      "INFO:tensorflow:Assets written to: C:\\Users\\ucesvpm\\OneDrive - University College London\\PhD Project\\Data Analytics\\Time Series Clustering\\Third Test\\Time-Series-PhD\\wandb\\run-20230227_130943-8sfqhuhd\\files\\model-best\\assets\n",
      "\u001b[34m\u001b[1mwandb\u001b[0m: Adding directory to artifact (C:\\Users\\ucesvpm\\OneDrive - University College London\\PhD Project\\Data Analytics\\Time Series Clustering\\Third Test\\Time-Series-PhD\\wandb\\run-20230227_130943-8sfqhuhd\\files\\model-best)... Done. 0.3s\n"
     ]
    },
    {
     "name": "stdout",
     "output_type": "stream",
     "text": [
      "1540/1540 [==============================] - 39s 26ms/step - loss: 0.2037 - mse: 0.2037 - val_loss: 0.2224 - val_mse: 0.2224 - lr: 3.5666e-05\n",
      "Epoch 45/100\n",
      "1540/1540 [==============================] - ETA: 0s - loss: 0.2028 - mse: 0.2028"
     ]
    },
    {
     "name": "stderr",
     "output_type": "stream",
     "text": [
      "WARNING:absl:Found untraced functions such as activation_layer_call_fn, activation_layer_call_and_return_conditional_losses, activation_1_layer_call_fn, activation_1_layer_call_and_return_conditional_losses, activation_2_layer_call_fn while saving (showing 5 of 12). These functions will not be directly callable after loading.\n"
     ]
    },
    {
     "name": "stdout",
     "output_type": "stream",
     "text": [
      "INFO:tensorflow:Assets written to: C:\\Users\\ucesvpm\\OneDrive - University College London\\PhD Project\\Data Analytics\\Time Series Clustering\\Third Test\\Time-Series-PhD\\wandb\\run-20230227_130943-8sfqhuhd\\files\\model-best\\assets\n"
     ]
    },
    {
     "name": "stderr",
     "output_type": "stream",
     "text": [
      "INFO:tensorflow:Assets written to: C:\\Users\\ucesvpm\\OneDrive - University College London\\PhD Project\\Data Analytics\\Time Series Clustering\\Third Test\\Time-Series-PhD\\wandb\\run-20230227_130943-8sfqhuhd\\files\\model-best\\assets\n",
      "\u001b[34m\u001b[1mwandb\u001b[0m: Adding directory to artifact (C:\\Users\\ucesvpm\\OneDrive - University College London\\PhD Project\\Data Analytics\\Time Series Clustering\\Third Test\\Time-Series-PhD\\wandb\\run-20230227_130943-8sfqhuhd\\files\\model-best)... Done. 0.3s\n"
     ]
    },
    {
     "name": "stdout",
     "output_type": "stream",
     "text": [
      "1540/1540 [==============================] - 41s 26ms/step - loss: 0.2028 - mse: 0.2028 - val_loss: 0.2214 - val_mse: 0.2214 - lr: 3.5666e-05\n",
      "Epoch 46/100\n",
      "1540/1540 [==============================] - 37s 24ms/step - loss: 0.2019 - mse: 0.2019 - val_loss: 0.2215 - val_mse: 0.2215 - lr: 3.5666e-05\n",
      "Epoch 47/100\n",
      "1538/1540 [============================>.] - ETA: 0s - loss: 0.2010 - mse: 0.2010"
     ]
    },
    {
     "name": "stderr",
     "output_type": "stream",
     "text": [
      "WARNING:absl:Found untraced functions such as activation_layer_call_fn, activation_layer_call_and_return_conditional_losses, activation_1_layer_call_fn, activation_1_layer_call_and_return_conditional_losses, activation_2_layer_call_fn while saving (showing 5 of 12). These functions will not be directly callable after loading.\n"
     ]
    },
    {
     "name": "stdout",
     "output_type": "stream",
     "text": [
      "INFO:tensorflow:Assets written to: C:\\Users\\ucesvpm\\OneDrive - University College London\\PhD Project\\Data Analytics\\Time Series Clustering\\Third Test\\Time-Series-PhD\\wandb\\run-20230227_130943-8sfqhuhd\\files\\model-best\\assets\n"
     ]
    },
    {
     "name": "stderr",
     "output_type": "stream",
     "text": [
      "INFO:tensorflow:Assets written to: C:\\Users\\ucesvpm\\OneDrive - University College London\\PhD Project\\Data Analytics\\Time Series Clustering\\Third Test\\Time-Series-PhD\\wandb\\run-20230227_130943-8sfqhuhd\\files\\model-best\\assets\n",
      "\u001b[34m\u001b[1mwandb\u001b[0m: Adding directory to artifact (C:\\Users\\ucesvpm\\OneDrive - University College London\\PhD Project\\Data Analytics\\Time Series Clustering\\Third Test\\Time-Series-PhD\\wandb\\run-20230227_130943-8sfqhuhd\\files\\model-best)... Done. 0.3s\n"
     ]
    },
    {
     "name": "stdout",
     "output_type": "stream",
     "text": [
      "1540/1540 [==============================] - 37s 24ms/step - loss: 0.2010 - mse: 0.2010 - val_loss: 0.2205 - val_mse: 0.2205 - lr: 3.5666e-05\n",
      "Epoch 48/100\n",
      "1539/1540 [============================>.] - ETA: 0s - loss: 0.2001 - mse: 0.2001"
     ]
    },
    {
     "name": "stderr",
     "output_type": "stream",
     "text": [
      "WARNING:absl:Found untraced functions such as activation_layer_call_fn, activation_layer_call_and_return_conditional_losses, activation_1_layer_call_fn, activation_1_layer_call_and_return_conditional_losses, activation_2_layer_call_fn while saving (showing 5 of 12). These functions will not be directly callable after loading.\n"
     ]
    },
    {
     "name": "stdout",
     "output_type": "stream",
     "text": [
      "INFO:tensorflow:Assets written to: C:\\Users\\ucesvpm\\OneDrive - University College London\\PhD Project\\Data Analytics\\Time Series Clustering\\Third Test\\Time-Series-PhD\\wandb\\run-20230227_130943-8sfqhuhd\\files\\model-best\\assets\n"
     ]
    },
    {
     "name": "stderr",
     "output_type": "stream",
     "text": [
      "INFO:tensorflow:Assets written to: C:\\Users\\ucesvpm\\OneDrive - University College London\\PhD Project\\Data Analytics\\Time Series Clustering\\Third Test\\Time-Series-PhD\\wandb\\run-20230227_130943-8sfqhuhd\\files\\model-best\\assets\n",
      "\u001b[34m\u001b[1mwandb\u001b[0m: Adding directory to artifact (C:\\Users\\ucesvpm\\OneDrive - University College London\\PhD Project\\Data Analytics\\Time Series Clustering\\Third Test\\Time-Series-PhD\\wandb\\run-20230227_130943-8sfqhuhd\\files\\model-best)... Done. 0.3s\n"
     ]
    },
    {
     "name": "stdout",
     "output_type": "stream",
     "text": [
      "1540/1540 [==============================] - 36s 23ms/step - loss: 0.2002 - mse: 0.2002 - val_loss: 0.2196 - val_mse: 0.2196 - lr: 3.5666e-05\n",
      "Epoch 49/100\n",
      "1540/1540 [==============================] - ETA: 0s - loss: 0.1993 - mse: 0.1993"
     ]
    },
    {
     "name": "stderr",
     "output_type": "stream",
     "text": [
      "WARNING:absl:Found untraced functions such as activation_layer_call_fn, activation_layer_call_and_return_conditional_losses, activation_1_layer_call_fn, activation_1_layer_call_and_return_conditional_losses, activation_2_layer_call_fn while saving (showing 5 of 12). These functions will not be directly callable after loading.\n"
     ]
    },
    {
     "name": "stdout",
     "output_type": "stream",
     "text": [
      "INFO:tensorflow:Assets written to: C:\\Users\\ucesvpm\\OneDrive - University College London\\PhD Project\\Data Analytics\\Time Series Clustering\\Third Test\\Time-Series-PhD\\wandb\\run-20230227_130943-8sfqhuhd\\files\\model-best\\assets\n"
     ]
    },
    {
     "name": "stderr",
     "output_type": "stream",
     "text": [
      "INFO:tensorflow:Assets written to: C:\\Users\\ucesvpm\\OneDrive - University College London\\PhD Project\\Data Analytics\\Time Series Clustering\\Third Test\\Time-Series-PhD\\wandb\\run-20230227_130943-8sfqhuhd\\files\\model-best\\assets\n",
      "\u001b[34m\u001b[1mwandb\u001b[0m: Adding directory to artifact (C:\\Users\\ucesvpm\\OneDrive - University College London\\PhD Project\\Data Analytics\\Time Series Clustering\\Third Test\\Time-Series-PhD\\wandb\\run-20230227_130943-8sfqhuhd\\files\\model-best)... Done. 0.2s\n"
     ]
    },
    {
     "name": "stdout",
     "output_type": "stream",
     "text": [
      "1540/1540 [==============================] - 34s 22ms/step - loss: 0.1993 - mse: 0.1993 - val_loss: 0.2191 - val_mse: 0.2191 - lr: 3.5666e-05\n",
      "Epoch 50/100\n",
      "1539/1540 [============================>.] - ETA: 0s - loss: 0.1985 - mse: 0.1985"
     ]
    },
    {
     "name": "stderr",
     "output_type": "stream",
     "text": [
      "WARNING:absl:Found untraced functions such as activation_layer_call_fn, activation_layer_call_and_return_conditional_losses, activation_1_layer_call_fn, activation_1_layer_call_and_return_conditional_losses, activation_2_layer_call_fn while saving (showing 5 of 12). These functions will not be directly callable after loading.\n"
     ]
    },
    {
     "name": "stdout",
     "output_type": "stream",
     "text": [
      "INFO:tensorflow:Assets written to: C:\\Users\\ucesvpm\\OneDrive - University College London\\PhD Project\\Data Analytics\\Time Series Clustering\\Third Test\\Time-Series-PhD\\wandb\\run-20230227_130943-8sfqhuhd\\files\\model-best\\assets\n"
     ]
    },
    {
     "name": "stderr",
     "output_type": "stream",
     "text": [
      "INFO:tensorflow:Assets written to: C:\\Users\\ucesvpm\\OneDrive - University College London\\PhD Project\\Data Analytics\\Time Series Clustering\\Third Test\\Time-Series-PhD\\wandb\\run-20230227_130943-8sfqhuhd\\files\\model-best\\assets\n",
      "\u001b[34m\u001b[1mwandb\u001b[0m: Adding directory to artifact (C:\\Users\\ucesvpm\\OneDrive - University College London\\PhD Project\\Data Analytics\\Time Series Clustering\\Third Test\\Time-Series-PhD\\wandb\\run-20230227_130943-8sfqhuhd\\files\\model-best)... Done. 0.2s\n"
     ]
    },
    {
     "name": "stdout",
     "output_type": "stream",
     "text": [
      "1540/1540 [==============================] - 36s 23ms/step - loss: 0.1985 - mse: 0.1985 - val_loss: 0.2184 - val_mse: 0.2184 - lr: 3.5666e-05\n",
      "Epoch 51/100\n",
      "1540/1540 [==============================] - ETA: 0s - loss: 0.1976 - mse: 0.1976"
     ]
    },
    {
     "name": "stderr",
     "output_type": "stream",
     "text": [
      "WARNING:absl:Found untraced functions such as activation_layer_call_fn, activation_layer_call_and_return_conditional_losses, activation_1_layer_call_fn, activation_1_layer_call_and_return_conditional_losses, activation_2_layer_call_fn while saving (showing 5 of 12). These functions will not be directly callable after loading.\n"
     ]
    },
    {
     "name": "stdout",
     "output_type": "stream",
     "text": [
      "INFO:tensorflow:Assets written to: C:\\Users\\ucesvpm\\OneDrive - University College London\\PhD Project\\Data Analytics\\Time Series Clustering\\Third Test\\Time-Series-PhD\\wandb\\run-20230227_130943-8sfqhuhd\\files\\model-best\\assets\n"
     ]
    },
    {
     "name": "stderr",
     "output_type": "stream",
     "text": [
      "INFO:tensorflow:Assets written to: C:\\Users\\ucesvpm\\OneDrive - University College London\\PhD Project\\Data Analytics\\Time Series Clustering\\Third Test\\Time-Series-PhD\\wandb\\run-20230227_130943-8sfqhuhd\\files\\model-best\\assets\n",
      "\u001b[34m\u001b[1mwandb\u001b[0m: Adding directory to artifact (C:\\Users\\ucesvpm\\OneDrive - University College London\\PhD Project\\Data Analytics\\Time Series Clustering\\Third Test\\Time-Series-PhD\\wandb\\run-20230227_130943-8sfqhuhd\\files\\model-best)... Done. 0.3s\n"
     ]
    },
    {
     "name": "stdout",
     "output_type": "stream",
     "text": [
      "1540/1540 [==============================] - 54s 35ms/step - loss: 0.1976 - mse: 0.1976 - val_loss: 0.2182 - val_mse: 0.2182 - lr: 3.5666e-05\n",
      "Epoch 52/100\n",
      "1538/1540 [============================>.] - ETA: 0s - loss: 0.1968 - mse: 0.1968"
     ]
    },
    {
     "name": "stderr",
     "output_type": "stream",
     "text": [
      "WARNING:absl:Found untraced functions such as activation_layer_call_fn, activation_layer_call_and_return_conditional_losses, activation_1_layer_call_fn, activation_1_layer_call_and_return_conditional_losses, activation_2_layer_call_fn while saving (showing 5 of 12). These functions will not be directly callable after loading.\n"
     ]
    },
    {
     "name": "stdout",
     "output_type": "stream",
     "text": [
      "INFO:tensorflow:Assets written to: C:\\Users\\ucesvpm\\OneDrive - University College London\\PhD Project\\Data Analytics\\Time Series Clustering\\Third Test\\Time-Series-PhD\\wandb\\run-20230227_130943-8sfqhuhd\\files\\model-best\\assets\n"
     ]
    },
    {
     "name": "stderr",
     "output_type": "stream",
     "text": [
      "INFO:tensorflow:Assets written to: C:\\Users\\ucesvpm\\OneDrive - University College London\\PhD Project\\Data Analytics\\Time Series Clustering\\Third Test\\Time-Series-PhD\\wandb\\run-20230227_130943-8sfqhuhd\\files\\model-best\\assets\n",
      "\u001b[34m\u001b[1mwandb\u001b[0m: Adding directory to artifact (C:\\Users\\ucesvpm\\OneDrive - University College London\\PhD Project\\Data Analytics\\Time Series Clustering\\Third Test\\Time-Series-PhD\\wandb\\run-20230227_130943-8sfqhuhd\\files\\model-best)... Done. 1.0s\n"
     ]
    },
    {
     "name": "stdout",
     "output_type": "stream",
     "text": [
      "1540/1540 [==============================] - 38s 25ms/step - loss: 0.1968 - mse: 0.1968 - val_loss: 0.2177 - val_mse: 0.2177 - lr: 3.5666e-05\n",
      "Epoch 53/100\n",
      "1538/1540 [============================>.] - ETA: 0s - loss: 0.1960 - mse: 0.1960"
     ]
    },
    {
     "name": "stderr",
     "output_type": "stream",
     "text": [
      "WARNING:absl:Found untraced functions such as activation_layer_call_fn, activation_layer_call_and_return_conditional_losses, activation_1_layer_call_fn, activation_1_layer_call_and_return_conditional_losses, activation_2_layer_call_fn while saving (showing 5 of 12). These functions will not be directly callable after loading.\n"
     ]
    },
    {
     "name": "stdout",
     "output_type": "stream",
     "text": [
      "INFO:tensorflow:Assets written to: C:\\Users\\ucesvpm\\OneDrive - University College London\\PhD Project\\Data Analytics\\Time Series Clustering\\Third Test\\Time-Series-PhD\\wandb\\run-20230227_130943-8sfqhuhd\\files\\model-best\\assets\n"
     ]
    },
    {
     "name": "stderr",
     "output_type": "stream",
     "text": [
      "INFO:tensorflow:Assets written to: C:\\Users\\ucesvpm\\OneDrive - University College London\\PhD Project\\Data Analytics\\Time Series Clustering\\Third Test\\Time-Series-PhD\\wandb\\run-20230227_130943-8sfqhuhd\\files\\model-best\\assets\n",
      "\u001b[34m\u001b[1mwandb\u001b[0m: Adding directory to artifact (C:\\Users\\ucesvpm\\OneDrive - University College London\\PhD Project\\Data Analytics\\Time Series Clustering\\Third Test\\Time-Series-PhD\\wandb\\run-20230227_130943-8sfqhuhd\\files\\model-best)... Done. 0.2s\n"
     ]
    },
    {
     "name": "stdout",
     "output_type": "stream",
     "text": [
      "1540/1540 [==============================] - 38s 24ms/step - loss: 0.1960 - mse: 0.1960 - val_loss: 0.2166 - val_mse: 0.2166 - lr: 3.5666e-05\n",
      "Epoch 54/100\n",
      "1539/1540 [============================>.] - ETA: 0s - loss: 0.1952 - mse: 0.1952"
     ]
    },
    {
     "name": "stderr",
     "output_type": "stream",
     "text": [
      "WARNING:absl:Found untraced functions such as activation_layer_call_fn, activation_layer_call_and_return_conditional_losses, activation_1_layer_call_fn, activation_1_layer_call_and_return_conditional_losses, activation_2_layer_call_fn while saving (showing 5 of 12). These functions will not be directly callable after loading.\n"
     ]
    },
    {
     "name": "stdout",
     "output_type": "stream",
     "text": [
      "INFO:tensorflow:Assets written to: C:\\Users\\ucesvpm\\OneDrive - University College London\\PhD Project\\Data Analytics\\Time Series Clustering\\Third Test\\Time-Series-PhD\\wandb\\run-20230227_130943-8sfqhuhd\\files\\model-best\\assets\n"
     ]
    },
    {
     "name": "stderr",
     "output_type": "stream",
     "text": [
      "INFO:tensorflow:Assets written to: C:\\Users\\ucesvpm\\OneDrive - University College London\\PhD Project\\Data Analytics\\Time Series Clustering\\Third Test\\Time-Series-PhD\\wandb\\run-20230227_130943-8sfqhuhd\\files\\model-best\\assets\n",
      "\u001b[34m\u001b[1mwandb\u001b[0m: Adding directory to artifact (C:\\Users\\ucesvpm\\OneDrive - University College London\\PhD Project\\Data Analytics\\Time Series Clustering\\Third Test\\Time-Series-PhD\\wandb\\run-20230227_130943-8sfqhuhd\\files\\model-best)... Done. 0.3s\n"
     ]
    },
    {
     "name": "stdout",
     "output_type": "stream",
     "text": [
      "1540/1540 [==============================] - 35s 23ms/step - loss: 0.1952 - mse: 0.1952 - val_loss: 0.2166 - val_mse: 0.2166 - lr: 3.5666e-05\n",
      "Epoch 55/100\n",
      "1539/1540 [============================>.] - ETA: 0s - loss: 0.1944 - mse: 0.1944"
     ]
    },
    {
     "name": "stderr",
     "output_type": "stream",
     "text": [
      "WARNING:absl:Found untraced functions such as activation_layer_call_fn, activation_layer_call_and_return_conditional_losses, activation_1_layer_call_fn, activation_1_layer_call_and_return_conditional_losses, activation_2_layer_call_fn while saving (showing 5 of 12). These functions will not be directly callable after loading.\n"
     ]
    },
    {
     "name": "stdout",
     "output_type": "stream",
     "text": [
      "INFO:tensorflow:Assets written to: C:\\Users\\ucesvpm\\OneDrive - University College London\\PhD Project\\Data Analytics\\Time Series Clustering\\Third Test\\Time-Series-PhD\\wandb\\run-20230227_130943-8sfqhuhd\\files\\model-best\\assets\n"
     ]
    },
    {
     "name": "stderr",
     "output_type": "stream",
     "text": [
      "INFO:tensorflow:Assets written to: C:\\Users\\ucesvpm\\OneDrive - University College London\\PhD Project\\Data Analytics\\Time Series Clustering\\Third Test\\Time-Series-PhD\\wandb\\run-20230227_130943-8sfqhuhd\\files\\model-best\\assets\n",
      "\u001b[34m\u001b[1mwandb\u001b[0m: Adding directory to artifact (C:\\Users\\ucesvpm\\OneDrive - University College London\\PhD Project\\Data Analytics\\Time Series Clustering\\Third Test\\Time-Series-PhD\\wandb\\run-20230227_130943-8sfqhuhd\\files\\model-best)... Done. 0.2s\n"
     ]
    },
    {
     "name": "stdout",
     "output_type": "stream",
     "text": [
      "1540/1540 [==============================] - 34s 22ms/step - loss: 0.1944 - mse: 0.1944 - val_loss: 0.2161 - val_mse: 0.2161 - lr: 3.5666e-05\n",
      "Epoch 56/100\n",
      "1540/1540 [==============================] - ETA: 0s - loss: 0.1936 - mse: 0.1936"
     ]
    },
    {
     "name": "stderr",
     "output_type": "stream",
     "text": [
      "WARNING:absl:Found untraced functions such as activation_layer_call_fn, activation_layer_call_and_return_conditional_losses, activation_1_layer_call_fn, activation_1_layer_call_and_return_conditional_losses, activation_2_layer_call_fn while saving (showing 5 of 12). These functions will not be directly callable after loading.\n"
     ]
    },
    {
     "name": "stdout",
     "output_type": "stream",
     "text": [
      "INFO:tensorflow:Assets written to: C:\\Users\\ucesvpm\\OneDrive - University College London\\PhD Project\\Data Analytics\\Time Series Clustering\\Third Test\\Time-Series-PhD\\wandb\\run-20230227_130943-8sfqhuhd\\files\\model-best\\assets\n"
     ]
    },
    {
     "name": "stderr",
     "output_type": "stream",
     "text": [
      "INFO:tensorflow:Assets written to: C:\\Users\\ucesvpm\\OneDrive - University College London\\PhD Project\\Data Analytics\\Time Series Clustering\\Third Test\\Time-Series-PhD\\wandb\\run-20230227_130943-8sfqhuhd\\files\\model-best\\assets\n",
      "\u001b[34m\u001b[1mwandb\u001b[0m: Adding directory to artifact (C:\\Users\\ucesvpm\\OneDrive - University College London\\PhD Project\\Data Analytics\\Time Series Clustering\\Third Test\\Time-Series-PhD\\wandb\\run-20230227_130943-8sfqhuhd\\files\\model-best)... Done. 0.1s\n"
     ]
    },
    {
     "name": "stdout",
     "output_type": "stream",
     "text": [
      "1540/1540 [==============================] - 38s 24ms/step - loss: 0.1936 - mse: 0.1936 - val_loss: 0.2150 - val_mse: 0.2150 - lr: 3.5666e-05\n",
      "Epoch 57/100\n",
      "1540/1540 [==============================] - 38s 24ms/step - loss: 0.1928 - mse: 0.1928 - val_loss: 0.2150 - val_mse: 0.2150 - lr: 3.5666e-05\n",
      "Epoch 58/100\n",
      "1538/1540 [============================>.] - ETA: 0s - loss: 0.1921 - mse: 0.1921"
     ]
    },
    {
     "name": "stderr",
     "output_type": "stream",
     "text": [
      "WARNING:absl:Found untraced functions such as activation_layer_call_fn, activation_layer_call_and_return_conditional_losses, activation_1_layer_call_fn, activation_1_layer_call_and_return_conditional_losses, activation_2_layer_call_fn while saving (showing 5 of 12). These functions will not be directly callable after loading.\n"
     ]
    },
    {
     "name": "stdout",
     "output_type": "stream",
     "text": [
      "INFO:tensorflow:Assets written to: C:\\Users\\ucesvpm\\OneDrive - University College London\\PhD Project\\Data Analytics\\Time Series Clustering\\Third Test\\Time-Series-PhD\\wandb\\run-20230227_130943-8sfqhuhd\\files\\model-best\\assets\n"
     ]
    },
    {
     "name": "stderr",
     "output_type": "stream",
     "text": [
      "INFO:tensorflow:Assets written to: C:\\Users\\ucesvpm\\OneDrive - University College London\\PhD Project\\Data Analytics\\Time Series Clustering\\Third Test\\Time-Series-PhD\\wandb\\run-20230227_130943-8sfqhuhd\\files\\model-best\\assets\n",
      "\u001b[34m\u001b[1mwandb\u001b[0m: Adding directory to artifact (C:\\Users\\ucesvpm\\OneDrive - University College London\\PhD Project\\Data Analytics\\Time Series Clustering\\Third Test\\Time-Series-PhD\\wandb\\run-20230227_130943-8sfqhuhd\\files\\model-best)... Done. 0.2s\n"
     ]
    },
    {
     "name": "stdout",
     "output_type": "stream",
     "text": [
      "1540/1540 [==============================] - 42s 27ms/step - loss: 0.1921 - mse: 0.1921 - val_loss: 0.2139 - val_mse: 0.2139 - lr: 3.5666e-05\n",
      "Epoch 59/100\n",
      "1539/1540 [============================>.] - ETA: 0s - loss: 0.1913 - mse: 0.1913"
     ]
    },
    {
     "name": "stderr",
     "output_type": "stream",
     "text": [
      "WARNING:absl:Found untraced functions such as activation_layer_call_fn, activation_layer_call_and_return_conditional_losses, activation_1_layer_call_fn, activation_1_layer_call_and_return_conditional_losses, activation_2_layer_call_fn while saving (showing 5 of 12). These functions will not be directly callable after loading.\n"
     ]
    },
    {
     "name": "stdout",
     "output_type": "stream",
     "text": [
      "INFO:tensorflow:Assets written to: C:\\Users\\ucesvpm\\OneDrive - University College London\\PhD Project\\Data Analytics\\Time Series Clustering\\Third Test\\Time-Series-PhD\\wandb\\run-20230227_130943-8sfqhuhd\\files\\model-best\\assets\n"
     ]
    },
    {
     "name": "stderr",
     "output_type": "stream",
     "text": [
      "INFO:tensorflow:Assets written to: C:\\Users\\ucesvpm\\OneDrive - University College London\\PhD Project\\Data Analytics\\Time Series Clustering\\Third Test\\Time-Series-PhD\\wandb\\run-20230227_130943-8sfqhuhd\\files\\model-best\\assets\n",
      "\u001b[34m\u001b[1mwandb\u001b[0m: Adding directory to artifact (C:\\Users\\ucesvpm\\OneDrive - University College London\\PhD Project\\Data Analytics\\Time Series Clustering\\Third Test\\Time-Series-PhD\\wandb\\run-20230227_130943-8sfqhuhd\\files\\model-best)... Done. 0.2s\n"
     ]
    },
    {
     "name": "stdout",
     "output_type": "stream",
     "text": [
      "1540/1540 [==============================] - 34s 22ms/step - loss: 0.1913 - mse: 0.1913 - val_loss: 0.2136 - val_mse: 0.2136 - lr: 3.5666e-05\n",
      "Epoch 60/100\n",
      "1539/1540 [============================>.] - ETA: 0s - loss: 0.1905 - mse: 0.1905"
     ]
    },
    {
     "name": "stderr",
     "output_type": "stream",
     "text": [
      "WARNING:absl:Found untraced functions such as activation_layer_call_fn, activation_layer_call_and_return_conditional_losses, activation_1_layer_call_fn, activation_1_layer_call_and_return_conditional_losses, activation_2_layer_call_fn while saving (showing 5 of 12). These functions will not be directly callable after loading.\n"
     ]
    },
    {
     "name": "stdout",
     "output_type": "stream",
     "text": [
      "INFO:tensorflow:Assets written to: C:\\Users\\ucesvpm\\OneDrive - University College London\\PhD Project\\Data Analytics\\Time Series Clustering\\Third Test\\Time-Series-PhD\\wandb\\run-20230227_130943-8sfqhuhd\\files\\model-best\\assets\n"
     ]
    },
    {
     "name": "stderr",
     "output_type": "stream",
     "text": [
      "INFO:tensorflow:Assets written to: C:\\Users\\ucesvpm\\OneDrive - University College London\\PhD Project\\Data Analytics\\Time Series Clustering\\Third Test\\Time-Series-PhD\\wandb\\run-20230227_130943-8sfqhuhd\\files\\model-best\\assets\n",
      "\u001b[34m\u001b[1mwandb\u001b[0m: Adding directory to artifact (C:\\Users\\ucesvpm\\OneDrive - University College London\\PhD Project\\Data Analytics\\Time Series Clustering\\Third Test\\Time-Series-PhD\\wandb\\run-20230227_130943-8sfqhuhd\\files\\model-best)... Done. 0.2s\n"
     ]
    },
    {
     "name": "stdout",
     "output_type": "stream",
     "text": [
      "1540/1540 [==============================] - 36s 23ms/step - loss: 0.1905 - mse: 0.1905 - val_loss: 0.2131 - val_mse: 0.2131 - lr: 3.5666e-05\n",
      "Epoch 61/100\n",
      "1538/1540 [============================>.] - ETA: 0s - loss: 0.1897 - mse: 0.1897"
     ]
    },
    {
     "name": "stderr",
     "output_type": "stream",
     "text": [
      "WARNING:absl:Found untraced functions such as activation_layer_call_fn, activation_layer_call_and_return_conditional_losses, activation_1_layer_call_fn, activation_1_layer_call_and_return_conditional_losses, activation_2_layer_call_fn while saving (showing 5 of 12). These functions will not be directly callable after loading.\n"
     ]
    },
    {
     "name": "stdout",
     "output_type": "stream",
     "text": [
      "INFO:tensorflow:Assets written to: C:\\Users\\ucesvpm\\OneDrive - University College London\\PhD Project\\Data Analytics\\Time Series Clustering\\Third Test\\Time-Series-PhD\\wandb\\run-20230227_130943-8sfqhuhd\\files\\model-best\\assets\n"
     ]
    },
    {
     "name": "stderr",
     "output_type": "stream",
     "text": [
      "INFO:tensorflow:Assets written to: C:\\Users\\ucesvpm\\OneDrive - University College London\\PhD Project\\Data Analytics\\Time Series Clustering\\Third Test\\Time-Series-PhD\\wandb\\run-20230227_130943-8sfqhuhd\\files\\model-best\\assets\n",
      "\u001b[34m\u001b[1mwandb\u001b[0m: Adding directory to artifact (C:\\Users\\ucesvpm\\OneDrive - University College London\\PhD Project\\Data Analytics\\Time Series Clustering\\Third Test\\Time-Series-PhD\\wandb\\run-20230227_130943-8sfqhuhd\\files\\model-best)... Done. 0.3s\n"
     ]
    },
    {
     "name": "stdout",
     "output_type": "stream",
     "text": [
      "1540/1540 [==============================] - 36s 24ms/step - loss: 0.1897 - mse: 0.1897 - val_loss: 0.2123 - val_mse: 0.2123 - lr: 3.5666e-05\n",
      "Epoch 62/100\n",
      "1540/1540 [==============================] - ETA: 0s - loss: 0.1890 - mse: 0.1890"
     ]
    },
    {
     "name": "stderr",
     "output_type": "stream",
     "text": [
      "WARNING:absl:Found untraced functions such as activation_layer_call_fn, activation_layer_call_and_return_conditional_losses, activation_1_layer_call_fn, activation_1_layer_call_and_return_conditional_losses, activation_2_layer_call_fn while saving (showing 5 of 12). These functions will not be directly callable after loading.\n"
     ]
    },
    {
     "name": "stdout",
     "output_type": "stream",
     "text": [
      "INFO:tensorflow:Assets written to: C:\\Users\\ucesvpm\\OneDrive - University College London\\PhD Project\\Data Analytics\\Time Series Clustering\\Third Test\\Time-Series-PhD\\wandb\\run-20230227_130943-8sfqhuhd\\files\\model-best\\assets\n"
     ]
    },
    {
     "name": "stderr",
     "output_type": "stream",
     "text": [
      "INFO:tensorflow:Assets written to: C:\\Users\\ucesvpm\\OneDrive - University College London\\PhD Project\\Data Analytics\\Time Series Clustering\\Third Test\\Time-Series-PhD\\wandb\\run-20230227_130943-8sfqhuhd\\files\\model-best\\assets\n",
      "\u001b[34m\u001b[1mwandb\u001b[0m: Adding directory to artifact (C:\\Users\\ucesvpm\\OneDrive - University College London\\PhD Project\\Data Analytics\\Time Series Clustering\\Third Test\\Time-Series-PhD\\wandb\\run-20230227_130943-8sfqhuhd\\files\\model-best)... Done. 0.3s\n"
     ]
    },
    {
     "name": "stdout",
     "output_type": "stream",
     "text": [
      "1540/1540 [==============================] - 35s 23ms/step - loss: 0.1890 - mse: 0.1890 - val_loss: 0.2122 - val_mse: 0.2122 - lr: 3.5666e-05\n",
      "Epoch 63/100\n",
      "1539/1540 [============================>.] - ETA: 0s - loss: 0.1882 - mse: 0.1882"
     ]
    },
    {
     "name": "stderr",
     "output_type": "stream",
     "text": [
      "WARNING:absl:Found untraced functions such as activation_layer_call_fn, activation_layer_call_and_return_conditional_losses, activation_1_layer_call_fn, activation_1_layer_call_and_return_conditional_losses, activation_2_layer_call_fn while saving (showing 5 of 12). These functions will not be directly callable after loading.\n"
     ]
    },
    {
     "name": "stdout",
     "output_type": "stream",
     "text": [
      "INFO:tensorflow:Assets written to: C:\\Users\\ucesvpm\\OneDrive - University College London\\PhD Project\\Data Analytics\\Time Series Clustering\\Third Test\\Time-Series-PhD\\wandb\\run-20230227_130943-8sfqhuhd\\files\\model-best\\assets\n"
     ]
    },
    {
     "name": "stderr",
     "output_type": "stream",
     "text": [
      "INFO:tensorflow:Assets written to: C:\\Users\\ucesvpm\\OneDrive - University College London\\PhD Project\\Data Analytics\\Time Series Clustering\\Third Test\\Time-Series-PhD\\wandb\\run-20230227_130943-8sfqhuhd\\files\\model-best\\assets\n",
      "\u001b[34m\u001b[1mwandb\u001b[0m: Adding directory to artifact (C:\\Users\\ucesvpm\\OneDrive - University College London\\PhD Project\\Data Analytics\\Time Series Clustering\\Third Test\\Time-Series-PhD\\wandb\\run-20230227_130943-8sfqhuhd\\files\\model-best)... Done. 0.2s\n"
     ]
    },
    {
     "name": "stdout",
     "output_type": "stream",
     "text": [
      "1540/1540 [==============================] - 35s 23ms/step - loss: 0.1882 - mse: 0.1882 - val_loss: 0.2119 - val_mse: 0.2119 - lr: 3.5666e-05\n",
      "Epoch 64/100\n",
      "1540/1540 [==============================] - ETA: 0s - loss: 0.1875 - mse: 0.1875"
     ]
    },
    {
     "name": "stderr",
     "output_type": "stream",
     "text": [
      "WARNING:absl:Found untraced functions such as activation_layer_call_fn, activation_layer_call_and_return_conditional_losses, activation_1_layer_call_fn, activation_1_layer_call_and_return_conditional_losses, activation_2_layer_call_fn while saving (showing 5 of 12). These functions will not be directly callable after loading.\n"
     ]
    },
    {
     "name": "stdout",
     "output_type": "stream",
     "text": [
      "INFO:tensorflow:Assets written to: C:\\Users\\ucesvpm\\OneDrive - University College London\\PhD Project\\Data Analytics\\Time Series Clustering\\Third Test\\Time-Series-PhD\\wandb\\run-20230227_130943-8sfqhuhd\\files\\model-best\\assets\n"
     ]
    },
    {
     "name": "stderr",
     "output_type": "stream",
     "text": [
      "INFO:tensorflow:Assets written to: C:\\Users\\ucesvpm\\OneDrive - University College London\\PhD Project\\Data Analytics\\Time Series Clustering\\Third Test\\Time-Series-PhD\\wandb\\run-20230227_130943-8sfqhuhd\\files\\model-best\\assets\n",
      "\u001b[34m\u001b[1mwandb\u001b[0m: Adding directory to artifact (C:\\Users\\ucesvpm\\OneDrive - University College London\\PhD Project\\Data Analytics\\Time Series Clustering\\Third Test\\Time-Series-PhD\\wandb\\run-20230227_130943-8sfqhuhd\\files\\model-best)... Done. 0.2s\n"
     ]
    },
    {
     "name": "stdout",
     "output_type": "stream",
     "text": [
      "1540/1540 [==============================] - 34s 22ms/step - loss: 0.1875 - mse: 0.1875 - val_loss: 0.2113 - val_mse: 0.2113 - lr: 3.5666e-05\n",
      "Epoch 65/100\n",
      "1538/1540 [============================>.] - ETA: 0s - loss: 0.1868 - mse: 0.1868"
     ]
    },
    {
     "name": "stderr",
     "output_type": "stream",
     "text": [
      "WARNING:absl:Found untraced functions such as activation_layer_call_fn, activation_layer_call_and_return_conditional_losses, activation_1_layer_call_fn, activation_1_layer_call_and_return_conditional_losses, activation_2_layer_call_fn while saving (showing 5 of 12). These functions will not be directly callable after loading.\n"
     ]
    },
    {
     "name": "stdout",
     "output_type": "stream",
     "text": [
      "INFO:tensorflow:Assets written to: C:\\Users\\ucesvpm\\OneDrive - University College London\\PhD Project\\Data Analytics\\Time Series Clustering\\Third Test\\Time-Series-PhD\\wandb\\run-20230227_130943-8sfqhuhd\\files\\model-best\\assets\n"
     ]
    },
    {
     "name": "stderr",
     "output_type": "stream",
     "text": [
      "INFO:tensorflow:Assets written to: C:\\Users\\ucesvpm\\OneDrive - University College London\\PhD Project\\Data Analytics\\Time Series Clustering\\Third Test\\Time-Series-PhD\\wandb\\run-20230227_130943-8sfqhuhd\\files\\model-best\\assets\n",
      "\u001b[34m\u001b[1mwandb\u001b[0m: Adding directory to artifact (C:\\Users\\ucesvpm\\OneDrive - University College London\\PhD Project\\Data Analytics\\Time Series Clustering\\Third Test\\Time-Series-PhD\\wandb\\run-20230227_130943-8sfqhuhd\\files\\model-best)... Done. 0.2s\n"
     ]
    },
    {
     "name": "stdout",
     "output_type": "stream",
     "text": [
      "1540/1540 [==============================] - 34s 22ms/step - loss: 0.1868 - mse: 0.1868 - val_loss: 0.2102 - val_mse: 0.2102 - lr: 3.5666e-05\n",
      "Epoch 66/100\n",
      "1537/1540 [============================>.] - ETA: 0s - loss: 0.1861 - mse: 0.1861"
     ]
    },
    {
     "name": "stderr",
     "output_type": "stream",
     "text": [
      "WARNING:absl:Found untraced functions such as activation_layer_call_fn, activation_layer_call_and_return_conditional_losses, activation_1_layer_call_fn, activation_1_layer_call_and_return_conditional_losses, activation_2_layer_call_fn while saving (showing 5 of 12). These functions will not be directly callable after loading.\n"
     ]
    },
    {
     "name": "stdout",
     "output_type": "stream",
     "text": [
      "INFO:tensorflow:Assets written to: C:\\Users\\ucesvpm\\OneDrive - University College London\\PhD Project\\Data Analytics\\Time Series Clustering\\Third Test\\Time-Series-PhD\\wandb\\run-20230227_130943-8sfqhuhd\\files\\model-best\\assets\n"
     ]
    },
    {
     "name": "stderr",
     "output_type": "stream",
     "text": [
      "INFO:tensorflow:Assets written to: C:\\Users\\ucesvpm\\OneDrive - University College London\\PhD Project\\Data Analytics\\Time Series Clustering\\Third Test\\Time-Series-PhD\\wandb\\run-20230227_130943-8sfqhuhd\\files\\model-best\\assets\n",
      "\u001b[34m\u001b[1mwandb\u001b[0m: Adding directory to artifact (C:\\Users\\ucesvpm\\OneDrive - University College London\\PhD Project\\Data Analytics\\Time Series Clustering\\Third Test\\Time-Series-PhD\\wandb\\run-20230227_130943-8sfqhuhd\\files\\model-best)... Done. 0.3s\n"
     ]
    },
    {
     "name": "stdout",
     "output_type": "stream",
     "text": [
      "1540/1540 [==============================] - 36s 23ms/step - loss: 0.1861 - mse: 0.1861 - val_loss: 0.2098 - val_mse: 0.2098 - lr: 3.5666e-05\n",
      "Epoch 67/100\n",
      "1539/1540 [============================>.] - ETA: 0s - loss: 0.1854 - mse: 0.1854"
     ]
    },
    {
     "name": "stderr",
     "output_type": "stream",
     "text": [
      "WARNING:absl:Found untraced functions such as activation_layer_call_fn, activation_layer_call_and_return_conditional_losses, activation_1_layer_call_fn, activation_1_layer_call_and_return_conditional_losses, activation_2_layer_call_fn while saving (showing 5 of 12). These functions will not be directly callable after loading.\n"
     ]
    },
    {
     "name": "stdout",
     "output_type": "stream",
     "text": [
      "INFO:tensorflow:Assets written to: C:\\Users\\ucesvpm\\OneDrive - University College London\\PhD Project\\Data Analytics\\Time Series Clustering\\Third Test\\Time-Series-PhD\\wandb\\run-20230227_130943-8sfqhuhd\\files\\model-best\\assets\n"
     ]
    },
    {
     "name": "stderr",
     "output_type": "stream",
     "text": [
      "INFO:tensorflow:Assets written to: C:\\Users\\ucesvpm\\OneDrive - University College London\\PhD Project\\Data Analytics\\Time Series Clustering\\Third Test\\Time-Series-PhD\\wandb\\run-20230227_130943-8sfqhuhd\\files\\model-best\\assets\n",
      "\u001b[34m\u001b[1mwandb\u001b[0m: Adding directory to artifact (C:\\Users\\ucesvpm\\OneDrive - University College London\\PhD Project\\Data Analytics\\Time Series Clustering\\Third Test\\Time-Series-PhD\\wandb\\run-20230227_130943-8sfqhuhd\\files\\model-best)... Done. 0.3s\n"
     ]
    },
    {
     "name": "stdout",
     "output_type": "stream",
     "text": [
      "1540/1540 [==============================] - 36s 24ms/step - loss: 0.1853 - mse: 0.1853 - val_loss: 0.2097 - val_mse: 0.2097 - lr: 3.5666e-05\n",
      "Epoch 68/100\n",
      "1540/1540 [==============================] - ETA: 0s - loss: 0.1846 - mse: 0.1846"
     ]
    },
    {
     "name": "stderr",
     "output_type": "stream",
     "text": [
      "WARNING:absl:Found untraced functions such as activation_layer_call_fn, activation_layer_call_and_return_conditional_losses, activation_1_layer_call_fn, activation_1_layer_call_and_return_conditional_losses, activation_2_layer_call_fn while saving (showing 5 of 12). These functions will not be directly callable after loading.\n"
     ]
    },
    {
     "name": "stdout",
     "output_type": "stream",
     "text": [
      "INFO:tensorflow:Assets written to: C:\\Users\\ucesvpm\\OneDrive - University College London\\PhD Project\\Data Analytics\\Time Series Clustering\\Third Test\\Time-Series-PhD\\wandb\\run-20230227_130943-8sfqhuhd\\files\\model-best\\assets\n"
     ]
    },
    {
     "name": "stderr",
     "output_type": "stream",
     "text": [
      "INFO:tensorflow:Assets written to: C:\\Users\\ucesvpm\\OneDrive - University College London\\PhD Project\\Data Analytics\\Time Series Clustering\\Third Test\\Time-Series-PhD\\wandb\\run-20230227_130943-8sfqhuhd\\files\\model-best\\assets\n",
      "\u001b[34m\u001b[1mwandb\u001b[0m: Adding directory to artifact (C:\\Users\\ucesvpm\\OneDrive - University College London\\PhD Project\\Data Analytics\\Time Series Clustering\\Third Test\\Time-Series-PhD\\wandb\\run-20230227_130943-8sfqhuhd\\files\\model-best)... Done. 0.2s\n"
     ]
    },
    {
     "name": "stdout",
     "output_type": "stream",
     "text": [
      "1540/1540 [==============================] - 35s 23ms/step - loss: 0.1846 - mse: 0.1846 - val_loss: 0.2092 - val_mse: 0.2092 - lr: 3.5666e-05\n",
      "Epoch 69/100\n",
      "1540/1540 [==============================] - ETA: 0s - loss: 0.1839 - mse: 0.1839"
     ]
    },
    {
     "name": "stderr",
     "output_type": "stream",
     "text": [
      "WARNING:absl:Found untraced functions such as activation_layer_call_fn, activation_layer_call_and_return_conditional_losses, activation_1_layer_call_fn, activation_1_layer_call_and_return_conditional_losses, activation_2_layer_call_fn while saving (showing 5 of 12). These functions will not be directly callable after loading.\n"
     ]
    },
    {
     "name": "stdout",
     "output_type": "stream",
     "text": [
      "INFO:tensorflow:Assets written to: C:\\Users\\ucesvpm\\OneDrive - University College London\\PhD Project\\Data Analytics\\Time Series Clustering\\Third Test\\Time-Series-PhD\\wandb\\run-20230227_130943-8sfqhuhd\\files\\model-best\\assets\n"
     ]
    },
    {
     "name": "stderr",
     "output_type": "stream",
     "text": [
      "INFO:tensorflow:Assets written to: C:\\Users\\ucesvpm\\OneDrive - University College London\\PhD Project\\Data Analytics\\Time Series Clustering\\Third Test\\Time-Series-PhD\\wandb\\run-20230227_130943-8sfqhuhd\\files\\model-best\\assets\n",
      "\u001b[34m\u001b[1mwandb\u001b[0m: Adding directory to artifact (C:\\Users\\ucesvpm\\OneDrive - University College London\\PhD Project\\Data Analytics\\Time Series Clustering\\Third Test\\Time-Series-PhD\\wandb\\run-20230227_130943-8sfqhuhd\\files\\model-best)... Done. 0.3s\n"
     ]
    },
    {
     "name": "stdout",
     "output_type": "stream",
     "text": [
      "1540/1540 [==============================] - 35s 23ms/step - loss: 0.1839 - mse: 0.1839 - val_loss: 0.2087 - val_mse: 0.2087 - lr: 3.5666e-05\n",
      "Epoch 70/100\n",
      "1538/1540 [============================>.] - ETA: 0s - loss: 0.1832 - mse: 0.1832"
     ]
    },
    {
     "name": "stderr",
     "output_type": "stream",
     "text": [
      "WARNING:absl:Found untraced functions such as activation_layer_call_fn, activation_layer_call_and_return_conditional_losses, activation_1_layer_call_fn, activation_1_layer_call_and_return_conditional_losses, activation_2_layer_call_fn while saving (showing 5 of 12). These functions will not be directly callable after loading.\n"
     ]
    },
    {
     "name": "stdout",
     "output_type": "stream",
     "text": [
      "INFO:tensorflow:Assets written to: C:\\Users\\ucesvpm\\OneDrive - University College London\\PhD Project\\Data Analytics\\Time Series Clustering\\Third Test\\Time-Series-PhD\\wandb\\run-20230227_130943-8sfqhuhd\\files\\model-best\\assets\n"
     ]
    },
    {
     "name": "stderr",
     "output_type": "stream",
     "text": [
      "INFO:tensorflow:Assets written to: C:\\Users\\ucesvpm\\OneDrive - University College London\\PhD Project\\Data Analytics\\Time Series Clustering\\Third Test\\Time-Series-PhD\\wandb\\run-20230227_130943-8sfqhuhd\\files\\model-best\\assets\n",
      "\u001b[34m\u001b[1mwandb\u001b[0m: Adding directory to artifact (C:\\Users\\ucesvpm\\OneDrive - University College London\\PhD Project\\Data Analytics\\Time Series Clustering\\Third Test\\Time-Series-PhD\\wandb\\run-20230227_130943-8sfqhuhd\\files\\model-best)... Done. 0.1s\n"
     ]
    },
    {
     "name": "stdout",
     "output_type": "stream",
     "text": [
      "1540/1540 [==============================] - 34s 22ms/step - loss: 0.1832 - mse: 0.1832 - val_loss: 0.2087 - val_mse: 0.2087 - lr: 3.5666e-05\n",
      "Epoch 71/100\n",
      "1538/1540 [============================>.] - ETA: 0s - loss: 0.1824 - mse: 0.1824"
     ]
    },
    {
     "name": "stderr",
     "output_type": "stream",
     "text": [
      "WARNING:absl:Found untraced functions such as activation_layer_call_fn, activation_layer_call_and_return_conditional_losses, activation_1_layer_call_fn, activation_1_layer_call_and_return_conditional_losses, activation_2_layer_call_fn while saving (showing 5 of 12). These functions will not be directly callable after loading.\n"
     ]
    },
    {
     "name": "stdout",
     "output_type": "stream",
     "text": [
      "INFO:tensorflow:Assets written to: C:\\Users\\ucesvpm\\OneDrive - University College London\\PhD Project\\Data Analytics\\Time Series Clustering\\Third Test\\Time-Series-PhD\\wandb\\run-20230227_130943-8sfqhuhd\\files\\model-best\\assets\n"
     ]
    },
    {
     "name": "stderr",
     "output_type": "stream",
     "text": [
      "INFO:tensorflow:Assets written to: C:\\Users\\ucesvpm\\OneDrive - University College London\\PhD Project\\Data Analytics\\Time Series Clustering\\Third Test\\Time-Series-PhD\\wandb\\run-20230227_130943-8sfqhuhd\\files\\model-best\\assets\n",
      "\u001b[34m\u001b[1mwandb\u001b[0m: Adding directory to artifact (C:\\Users\\ucesvpm\\OneDrive - University College London\\PhD Project\\Data Analytics\\Time Series Clustering\\Third Test\\Time-Series-PhD\\wandb\\run-20230227_130943-8sfqhuhd\\files\\model-best)... Done. 0.2s\n"
     ]
    },
    {
     "name": "stdout",
     "output_type": "stream",
     "text": [
      "1540/1540 [==============================] - 35s 23ms/step - loss: 0.1825 - mse: 0.1825 - val_loss: 0.2079 - val_mse: 0.2079 - lr: 3.5666e-05\n",
      "Epoch 72/100\n",
      "1538/1540 [============================>.] - ETA: 0s - loss: 0.1818 - mse: 0.1818"
     ]
    },
    {
     "name": "stderr",
     "output_type": "stream",
     "text": [
      "WARNING:absl:Found untraced functions such as activation_layer_call_fn, activation_layer_call_and_return_conditional_losses, activation_1_layer_call_fn, activation_1_layer_call_and_return_conditional_losses, activation_2_layer_call_fn while saving (showing 5 of 12). These functions will not be directly callable after loading.\n"
     ]
    },
    {
     "name": "stdout",
     "output_type": "stream",
     "text": [
      "INFO:tensorflow:Assets written to: C:\\Users\\ucesvpm\\OneDrive - University College London\\PhD Project\\Data Analytics\\Time Series Clustering\\Third Test\\Time-Series-PhD\\wandb\\run-20230227_130943-8sfqhuhd\\files\\model-best\\assets\n"
     ]
    },
    {
     "name": "stderr",
     "output_type": "stream",
     "text": [
      "INFO:tensorflow:Assets written to: C:\\Users\\ucesvpm\\OneDrive - University College London\\PhD Project\\Data Analytics\\Time Series Clustering\\Third Test\\Time-Series-PhD\\wandb\\run-20230227_130943-8sfqhuhd\\files\\model-best\\assets\n",
      "\u001b[34m\u001b[1mwandb\u001b[0m: Adding directory to artifact (C:\\Users\\ucesvpm\\OneDrive - University College London\\PhD Project\\Data Analytics\\Time Series Clustering\\Third Test\\Time-Series-PhD\\wandb\\run-20230227_130943-8sfqhuhd\\files\\model-best)... Done. 0.1s\n"
     ]
    },
    {
     "name": "stdout",
     "output_type": "stream",
     "text": [
      "1540/1540 [==============================] - 35s 23ms/step - loss: 0.1818 - mse: 0.1818 - val_loss: 0.2075 - val_mse: 0.2075 - lr: 3.5666e-05\n",
      "Epoch 73/100\n",
      "1540/1540 [==============================] - ETA: 0s - loss: 0.1811 - mse: 0.1811"
     ]
    },
    {
     "name": "stderr",
     "output_type": "stream",
     "text": [
      "WARNING:absl:Found untraced functions such as activation_layer_call_fn, activation_layer_call_and_return_conditional_losses, activation_1_layer_call_fn, activation_1_layer_call_and_return_conditional_losses, activation_2_layer_call_fn while saving (showing 5 of 12). These functions will not be directly callable after loading.\n"
     ]
    },
    {
     "name": "stdout",
     "output_type": "stream",
     "text": [
      "INFO:tensorflow:Assets written to: C:\\Users\\ucesvpm\\OneDrive - University College London\\PhD Project\\Data Analytics\\Time Series Clustering\\Third Test\\Time-Series-PhD\\wandb\\run-20230227_130943-8sfqhuhd\\files\\model-best\\assets\n"
     ]
    },
    {
     "name": "stderr",
     "output_type": "stream",
     "text": [
      "INFO:tensorflow:Assets written to: C:\\Users\\ucesvpm\\OneDrive - University College London\\PhD Project\\Data Analytics\\Time Series Clustering\\Third Test\\Time-Series-PhD\\wandb\\run-20230227_130943-8sfqhuhd\\files\\model-best\\assets\n",
      "\u001b[34m\u001b[1mwandb\u001b[0m: Adding directory to artifact (C:\\Users\\ucesvpm\\OneDrive - University College London\\PhD Project\\Data Analytics\\Time Series Clustering\\Third Test\\Time-Series-PhD\\wandb\\run-20230227_130943-8sfqhuhd\\files\\model-best)... Done. 0.2s\n"
     ]
    },
    {
     "name": "stdout",
     "output_type": "stream",
     "text": [
      "1540/1540 [==============================] - 36s 23ms/step - loss: 0.1811 - mse: 0.1811 - val_loss: 0.2070 - val_mse: 0.2070 - lr: 3.5666e-05\n",
      "Epoch 74/100\n",
      "1540/1540 [==============================] - ETA: 0s - loss: 0.1804 - mse: 0.1804"
     ]
    },
    {
     "name": "stderr",
     "output_type": "stream",
     "text": [
      "WARNING:absl:Found untraced functions such as activation_layer_call_fn, activation_layer_call_and_return_conditional_losses, activation_1_layer_call_fn, activation_1_layer_call_and_return_conditional_losses, activation_2_layer_call_fn while saving (showing 5 of 12). These functions will not be directly callable after loading.\n"
     ]
    },
    {
     "name": "stdout",
     "output_type": "stream",
     "text": [
      "INFO:tensorflow:Assets written to: C:\\Users\\ucesvpm\\OneDrive - University College London\\PhD Project\\Data Analytics\\Time Series Clustering\\Third Test\\Time-Series-PhD\\wandb\\run-20230227_130943-8sfqhuhd\\files\\model-best\\assets\n"
     ]
    },
    {
     "name": "stderr",
     "output_type": "stream",
     "text": [
      "INFO:tensorflow:Assets written to: C:\\Users\\ucesvpm\\OneDrive - University College London\\PhD Project\\Data Analytics\\Time Series Clustering\\Third Test\\Time-Series-PhD\\wandb\\run-20230227_130943-8sfqhuhd\\files\\model-best\\assets\n",
      "\u001b[34m\u001b[1mwandb\u001b[0m: Adding directory to artifact (C:\\Users\\ucesvpm\\OneDrive - University College London\\PhD Project\\Data Analytics\\Time Series Clustering\\Third Test\\Time-Series-PhD\\wandb\\run-20230227_130943-8sfqhuhd\\files\\model-best)... Done. 0.3s\n"
     ]
    },
    {
     "name": "stdout",
     "output_type": "stream",
     "text": [
      "1540/1540 [==============================] - 34s 22ms/step - loss: 0.1804 - mse: 0.1804 - val_loss: 0.2065 - val_mse: 0.2065 - lr: 3.5666e-05\n",
      "Epoch 75/100\n",
      "1540/1540 [==============================] - ETA: 0s - loss: 0.1798 - mse: 0.1798"
     ]
    },
    {
     "name": "stderr",
     "output_type": "stream",
     "text": [
      "WARNING:absl:Found untraced functions such as activation_layer_call_fn, activation_layer_call_and_return_conditional_losses, activation_1_layer_call_fn, activation_1_layer_call_and_return_conditional_losses, activation_2_layer_call_fn while saving (showing 5 of 12). These functions will not be directly callable after loading.\n"
     ]
    },
    {
     "name": "stdout",
     "output_type": "stream",
     "text": [
      "INFO:tensorflow:Assets written to: C:\\Users\\ucesvpm\\OneDrive - University College London\\PhD Project\\Data Analytics\\Time Series Clustering\\Third Test\\Time-Series-PhD\\wandb\\run-20230227_130943-8sfqhuhd\\files\\model-best\\assets\n"
     ]
    },
    {
     "name": "stderr",
     "output_type": "stream",
     "text": [
      "INFO:tensorflow:Assets written to: C:\\Users\\ucesvpm\\OneDrive - University College London\\PhD Project\\Data Analytics\\Time Series Clustering\\Third Test\\Time-Series-PhD\\wandb\\run-20230227_130943-8sfqhuhd\\files\\model-best\\assets\n",
      "\u001b[34m\u001b[1mwandb\u001b[0m: Adding directory to artifact (C:\\Users\\ucesvpm\\OneDrive - University College London\\PhD Project\\Data Analytics\\Time Series Clustering\\Third Test\\Time-Series-PhD\\wandb\\run-20230227_130943-8sfqhuhd\\files\\model-best)... Done. 0.2s\n"
     ]
    },
    {
     "name": "stdout",
     "output_type": "stream",
     "text": [
      "1540/1540 [==============================] - 34s 22ms/step - loss: 0.1798 - mse: 0.1798 - val_loss: 0.2060 - val_mse: 0.2060 - lr: 3.5666e-05\n",
      "Epoch 76/100\n",
      "1540/1540 [==============================] - ETA: 0s - loss: 0.1791 - mse: 0.1791"
     ]
    },
    {
     "name": "stderr",
     "output_type": "stream",
     "text": [
      "WARNING:absl:Found untraced functions such as activation_layer_call_fn, activation_layer_call_and_return_conditional_losses, activation_1_layer_call_fn, activation_1_layer_call_and_return_conditional_losses, activation_2_layer_call_fn while saving (showing 5 of 12). These functions will not be directly callable after loading.\n"
     ]
    },
    {
     "name": "stdout",
     "output_type": "stream",
     "text": [
      "INFO:tensorflow:Assets written to: C:\\Users\\ucesvpm\\OneDrive - University College London\\PhD Project\\Data Analytics\\Time Series Clustering\\Third Test\\Time-Series-PhD\\wandb\\run-20230227_130943-8sfqhuhd\\files\\model-best\\assets\n"
     ]
    },
    {
     "name": "stderr",
     "output_type": "stream",
     "text": [
      "INFO:tensorflow:Assets written to: C:\\Users\\ucesvpm\\OneDrive - University College London\\PhD Project\\Data Analytics\\Time Series Clustering\\Third Test\\Time-Series-PhD\\wandb\\run-20230227_130943-8sfqhuhd\\files\\model-best\\assets\n",
      "\u001b[34m\u001b[1mwandb\u001b[0m: Adding directory to artifact (C:\\Users\\ucesvpm\\OneDrive - University College London\\PhD Project\\Data Analytics\\Time Series Clustering\\Third Test\\Time-Series-PhD\\wandb\\run-20230227_130943-8sfqhuhd\\files\\model-best)... Done. 0.2s\n"
     ]
    },
    {
     "name": "stdout",
     "output_type": "stream",
     "text": [
      "1540/1540 [==============================] - 34s 22ms/step - loss: 0.1791 - mse: 0.1791 - val_loss: 0.2053 - val_mse: 0.2053 - lr: 3.5666e-05\n",
      "Epoch 77/100\n",
      "1540/1540 [==============================] - 32s 21ms/step - loss: 0.1784 - mse: 0.1784 - val_loss: 0.2056 - val_mse: 0.2056 - lr: 3.5666e-05\n",
      "Epoch 78/100\n",
      "1540/1540 [==============================] - ETA: 0s - loss: 0.1778 - mse: 0.1778"
     ]
    },
    {
     "name": "stderr",
     "output_type": "stream",
     "text": [
      "WARNING:absl:Found untraced functions such as activation_layer_call_fn, activation_layer_call_and_return_conditional_losses, activation_1_layer_call_fn, activation_1_layer_call_and_return_conditional_losses, activation_2_layer_call_fn while saving (showing 5 of 12). These functions will not be directly callable after loading.\n"
     ]
    },
    {
     "name": "stdout",
     "output_type": "stream",
     "text": [
      "INFO:tensorflow:Assets written to: C:\\Users\\ucesvpm\\OneDrive - University College London\\PhD Project\\Data Analytics\\Time Series Clustering\\Third Test\\Time-Series-PhD\\wandb\\run-20230227_130943-8sfqhuhd\\files\\model-best\\assets\n"
     ]
    },
    {
     "name": "stderr",
     "output_type": "stream",
     "text": [
      "INFO:tensorflow:Assets written to: C:\\Users\\ucesvpm\\OneDrive - University College London\\PhD Project\\Data Analytics\\Time Series Clustering\\Third Test\\Time-Series-PhD\\wandb\\run-20230227_130943-8sfqhuhd\\files\\model-best\\assets\n",
      "\u001b[34m\u001b[1mwandb\u001b[0m: Adding directory to artifact (C:\\Users\\ucesvpm\\OneDrive - University College London\\PhD Project\\Data Analytics\\Time Series Clustering\\Third Test\\Time-Series-PhD\\wandb\\run-20230227_130943-8sfqhuhd\\files\\model-best)... Done. 0.2s\n"
     ]
    },
    {
     "name": "stdout",
     "output_type": "stream",
     "text": [
      "1540/1540 [==============================] - 34s 22ms/step - loss: 0.1778 - mse: 0.1778 - val_loss: 0.2050 - val_mse: 0.2050 - lr: 3.5666e-05\n",
      "Epoch 79/100\n",
      "1538/1540 [============================>.] - ETA: 0s - loss: 0.1772 - mse: 0.1772"
     ]
    },
    {
     "name": "stderr",
     "output_type": "stream",
     "text": [
      "WARNING:absl:Found untraced functions such as activation_layer_call_fn, activation_layer_call_and_return_conditional_losses, activation_1_layer_call_fn, activation_1_layer_call_and_return_conditional_losses, activation_2_layer_call_fn while saving (showing 5 of 12). These functions will not be directly callable after loading.\n"
     ]
    },
    {
     "name": "stdout",
     "output_type": "stream",
     "text": [
      "INFO:tensorflow:Assets written to: C:\\Users\\ucesvpm\\OneDrive - University College London\\PhD Project\\Data Analytics\\Time Series Clustering\\Third Test\\Time-Series-PhD\\wandb\\run-20230227_130943-8sfqhuhd\\files\\model-best\\assets\n"
     ]
    },
    {
     "name": "stderr",
     "output_type": "stream",
     "text": [
      "INFO:tensorflow:Assets written to: C:\\Users\\ucesvpm\\OneDrive - University College London\\PhD Project\\Data Analytics\\Time Series Clustering\\Third Test\\Time-Series-PhD\\wandb\\run-20230227_130943-8sfqhuhd\\files\\model-best\\assets\n",
      "\u001b[34m\u001b[1mwandb\u001b[0m: Adding directory to artifact (C:\\Users\\ucesvpm\\OneDrive - University College London\\PhD Project\\Data Analytics\\Time Series Clustering\\Third Test\\Time-Series-PhD\\wandb\\run-20230227_130943-8sfqhuhd\\files\\model-best)... Done. 0.3s\n"
     ]
    },
    {
     "name": "stdout",
     "output_type": "stream",
     "text": [
      "1540/1540 [==============================] - 35s 23ms/step - loss: 0.1772 - mse: 0.1772 - val_loss: 0.2045 - val_mse: 0.2045 - lr: 3.5666e-05\n",
      "Epoch 80/100\n",
      "1540/1540 [==============================] - 30s 19ms/step - loss: 0.1765 - mse: 0.1765 - val_loss: 0.2045 - val_mse: 0.2045 - lr: 3.5666e-05\n",
      "Epoch 81/100\n",
      "1539/1540 [============================>.] - ETA: 0s - loss: 0.1759 - mse: 0.1759"
     ]
    },
    {
     "name": "stderr",
     "output_type": "stream",
     "text": [
      "WARNING:absl:Found untraced functions such as activation_layer_call_fn, activation_layer_call_and_return_conditional_losses, activation_1_layer_call_fn, activation_1_layer_call_and_return_conditional_losses, activation_2_layer_call_fn while saving (showing 5 of 12). These functions will not be directly callable after loading.\n"
     ]
    },
    {
     "name": "stdout",
     "output_type": "stream",
     "text": [
      "INFO:tensorflow:Assets written to: C:\\Users\\ucesvpm\\OneDrive - University College London\\PhD Project\\Data Analytics\\Time Series Clustering\\Third Test\\Time-Series-PhD\\wandb\\run-20230227_130943-8sfqhuhd\\files\\model-best\\assets\n"
     ]
    },
    {
     "name": "stderr",
     "output_type": "stream",
     "text": [
      "INFO:tensorflow:Assets written to: C:\\Users\\ucesvpm\\OneDrive - University College London\\PhD Project\\Data Analytics\\Time Series Clustering\\Third Test\\Time-Series-PhD\\wandb\\run-20230227_130943-8sfqhuhd\\files\\model-best\\assets\n",
      "\u001b[34m\u001b[1mwandb\u001b[0m: Adding directory to artifact (C:\\Users\\ucesvpm\\OneDrive - University College London\\PhD Project\\Data Analytics\\Time Series Clustering\\Third Test\\Time-Series-PhD\\wandb\\run-20230227_130943-8sfqhuhd\\files\\model-best)... Done. 0.3s\n"
     ]
    },
    {
     "name": "stdout",
     "output_type": "stream",
     "text": [
      "1540/1540 [==============================] - 33s 22ms/step - loss: 0.1759 - mse: 0.1759 - val_loss: 0.2042 - val_mse: 0.2042 - lr: 3.5666e-05\n",
      "Epoch 82/100\n",
      "1538/1540 [============================>.] - ETA: 0s - loss: 0.1753 - mse: 0.1753"
     ]
    },
    {
     "name": "stderr",
     "output_type": "stream",
     "text": [
      "WARNING:absl:Found untraced functions such as activation_layer_call_fn, activation_layer_call_and_return_conditional_losses, activation_1_layer_call_fn, activation_1_layer_call_and_return_conditional_losses, activation_2_layer_call_fn while saving (showing 5 of 12). These functions will not be directly callable after loading.\n"
     ]
    },
    {
     "name": "stdout",
     "output_type": "stream",
     "text": [
      "INFO:tensorflow:Assets written to: C:\\Users\\ucesvpm\\OneDrive - University College London\\PhD Project\\Data Analytics\\Time Series Clustering\\Third Test\\Time-Series-PhD\\wandb\\run-20230227_130943-8sfqhuhd\\files\\model-best\\assets\n"
     ]
    },
    {
     "name": "stderr",
     "output_type": "stream",
     "text": [
      "INFO:tensorflow:Assets written to: C:\\Users\\ucesvpm\\OneDrive - University College London\\PhD Project\\Data Analytics\\Time Series Clustering\\Third Test\\Time-Series-PhD\\wandb\\run-20230227_130943-8sfqhuhd\\files\\model-best\\assets\n",
      "\u001b[34m\u001b[1mwandb\u001b[0m: Adding directory to artifact (C:\\Users\\ucesvpm\\OneDrive - University College London\\PhD Project\\Data Analytics\\Time Series Clustering\\Third Test\\Time-Series-PhD\\wandb\\run-20230227_130943-8sfqhuhd\\files\\model-best)... Done. 0.2s\n"
     ]
    },
    {
     "name": "stdout",
     "output_type": "stream",
     "text": [
      "1540/1540 [==============================] - 33s 22ms/step - loss: 0.1753 - mse: 0.1753 - val_loss: 0.2034 - val_mse: 0.2034 - lr: 3.5666e-05\n",
      "Epoch 83/100\n",
      "1539/1540 [============================>.] - ETA: 0s - loss: 0.1747 - mse: 0.1747"
     ]
    },
    {
     "name": "stderr",
     "output_type": "stream",
     "text": [
      "WARNING:absl:Found untraced functions such as activation_layer_call_fn, activation_layer_call_and_return_conditional_losses, activation_1_layer_call_fn, activation_1_layer_call_and_return_conditional_losses, activation_2_layer_call_fn while saving (showing 5 of 12). These functions will not be directly callable after loading.\n"
     ]
    },
    {
     "name": "stdout",
     "output_type": "stream",
     "text": [
      "INFO:tensorflow:Assets written to: C:\\Users\\ucesvpm\\OneDrive - University College London\\PhD Project\\Data Analytics\\Time Series Clustering\\Third Test\\Time-Series-PhD\\wandb\\run-20230227_130943-8sfqhuhd\\files\\model-best\\assets\n"
     ]
    },
    {
     "name": "stderr",
     "output_type": "stream",
     "text": [
      "INFO:tensorflow:Assets written to: C:\\Users\\ucesvpm\\OneDrive - University College London\\PhD Project\\Data Analytics\\Time Series Clustering\\Third Test\\Time-Series-PhD\\wandb\\run-20230227_130943-8sfqhuhd\\files\\model-best\\assets\n",
      "\u001b[34m\u001b[1mwandb\u001b[0m: Adding directory to artifact (C:\\Users\\ucesvpm\\OneDrive - University College London\\PhD Project\\Data Analytics\\Time Series Clustering\\Third Test\\Time-Series-PhD\\wandb\\run-20230227_130943-8sfqhuhd\\files\\model-best)... Done. 0.2s\n"
     ]
    },
    {
     "name": "stdout",
     "output_type": "stream",
     "text": [
      "1540/1540 [==============================] - 33s 22ms/step - loss: 0.1746 - mse: 0.1746 - val_loss: 0.2034 - val_mse: 0.2034 - lr: 3.5666e-05\n",
      "Epoch 84/100\n",
      "1539/1540 [============================>.] - ETA: 0s - loss: 0.1741 - mse: 0.1741"
     ]
    },
    {
     "name": "stderr",
     "output_type": "stream",
     "text": [
      "WARNING:absl:Found untraced functions such as activation_layer_call_fn, activation_layer_call_and_return_conditional_losses, activation_1_layer_call_fn, activation_1_layer_call_and_return_conditional_losses, activation_2_layer_call_fn while saving (showing 5 of 12). These functions will not be directly callable after loading.\n"
     ]
    },
    {
     "name": "stdout",
     "output_type": "stream",
     "text": [
      "INFO:tensorflow:Assets written to: C:\\Users\\ucesvpm\\OneDrive - University College London\\PhD Project\\Data Analytics\\Time Series Clustering\\Third Test\\Time-Series-PhD\\wandb\\run-20230227_130943-8sfqhuhd\\files\\model-best\\assets\n"
     ]
    },
    {
     "name": "stderr",
     "output_type": "stream",
     "text": [
      "INFO:tensorflow:Assets written to: C:\\Users\\ucesvpm\\OneDrive - University College London\\PhD Project\\Data Analytics\\Time Series Clustering\\Third Test\\Time-Series-PhD\\wandb\\run-20230227_130943-8sfqhuhd\\files\\model-best\\assets\n",
      "\u001b[34m\u001b[1mwandb\u001b[0m: Adding directory to artifact (C:\\Users\\ucesvpm\\OneDrive - University College London\\PhD Project\\Data Analytics\\Time Series Clustering\\Third Test\\Time-Series-PhD\\wandb\\run-20230227_130943-8sfqhuhd\\files\\model-best)... Done. 0.2s\n"
     ]
    },
    {
     "name": "stdout",
     "output_type": "stream",
     "text": [
      "1540/1540 [==============================] - 33s 22ms/step - loss: 0.1741 - mse: 0.1741 - val_loss: 0.2028 - val_mse: 0.2028 - lr: 3.5666e-05\n",
      "Epoch 85/100\n",
      "1540/1540 [==============================] - ETA: 0s - loss: 0.1735 - mse: 0.1735"
     ]
    },
    {
     "name": "stderr",
     "output_type": "stream",
     "text": [
      "WARNING:absl:Found untraced functions such as activation_layer_call_fn, activation_layer_call_and_return_conditional_losses, activation_1_layer_call_fn, activation_1_layer_call_and_return_conditional_losses, activation_2_layer_call_fn while saving (showing 5 of 12). These functions will not be directly callable after loading.\n"
     ]
    },
    {
     "name": "stdout",
     "output_type": "stream",
     "text": [
      "INFO:tensorflow:Assets written to: C:\\Users\\ucesvpm\\OneDrive - University College London\\PhD Project\\Data Analytics\\Time Series Clustering\\Third Test\\Time-Series-PhD\\wandb\\run-20230227_130943-8sfqhuhd\\files\\model-best\\assets\n"
     ]
    },
    {
     "name": "stderr",
     "output_type": "stream",
     "text": [
      "INFO:tensorflow:Assets written to: C:\\Users\\ucesvpm\\OneDrive - University College London\\PhD Project\\Data Analytics\\Time Series Clustering\\Third Test\\Time-Series-PhD\\wandb\\run-20230227_130943-8sfqhuhd\\files\\model-best\\assets\n",
      "\u001b[34m\u001b[1mwandb\u001b[0m: Adding directory to artifact (C:\\Users\\ucesvpm\\OneDrive - University College London\\PhD Project\\Data Analytics\\Time Series Clustering\\Third Test\\Time-Series-PhD\\wandb\\run-20230227_130943-8sfqhuhd\\files\\model-best)... Done. 0.2s\n"
     ]
    },
    {
     "name": "stdout",
     "output_type": "stream",
     "text": [
      "1540/1540 [==============================] - 34s 22ms/step - loss: 0.1735 - mse: 0.1735 - val_loss: 0.2025 - val_mse: 0.2025 - lr: 3.5666e-05\n",
      "Epoch 86/100\n",
      "1540/1540 [==============================] - ETA: 0s - loss: 0.1729 - mse: 0.1729"
     ]
    },
    {
     "name": "stderr",
     "output_type": "stream",
     "text": [
      "WARNING:absl:Found untraced functions such as activation_layer_call_fn, activation_layer_call_and_return_conditional_losses, activation_1_layer_call_fn, activation_1_layer_call_and_return_conditional_losses, activation_2_layer_call_fn while saving (showing 5 of 12). These functions will not be directly callable after loading.\n"
     ]
    },
    {
     "name": "stdout",
     "output_type": "stream",
     "text": [
      "INFO:tensorflow:Assets written to: C:\\Users\\ucesvpm\\OneDrive - University College London\\PhD Project\\Data Analytics\\Time Series Clustering\\Third Test\\Time-Series-PhD\\wandb\\run-20230227_130943-8sfqhuhd\\files\\model-best\\assets\n"
     ]
    },
    {
     "name": "stderr",
     "output_type": "stream",
     "text": [
      "INFO:tensorflow:Assets written to: C:\\Users\\ucesvpm\\OneDrive - University College London\\PhD Project\\Data Analytics\\Time Series Clustering\\Third Test\\Time-Series-PhD\\wandb\\run-20230227_130943-8sfqhuhd\\files\\model-best\\assets\n",
      "\u001b[34m\u001b[1mwandb\u001b[0m: Adding directory to artifact (C:\\Users\\ucesvpm\\OneDrive - University College London\\PhD Project\\Data Analytics\\Time Series Clustering\\Third Test\\Time-Series-PhD\\wandb\\run-20230227_130943-8sfqhuhd\\files\\model-best)... Done. 0.2s\n"
     ]
    },
    {
     "name": "stdout",
     "output_type": "stream",
     "text": [
      "1540/1540 [==============================] - 34s 22ms/step - loss: 0.1729 - mse: 0.1729 - val_loss: 0.2024 - val_mse: 0.2024 - lr: 3.5666e-05\n",
      "Epoch 87/100\n",
      "1540/1540 [==============================] - ETA: 0s - loss: 0.1723 - mse: 0.1723"
     ]
    },
    {
     "name": "stderr",
     "output_type": "stream",
     "text": [
      "WARNING:absl:Found untraced functions such as activation_layer_call_fn, activation_layer_call_and_return_conditional_losses, activation_1_layer_call_fn, activation_1_layer_call_and_return_conditional_losses, activation_2_layer_call_fn while saving (showing 5 of 12). These functions will not be directly callable after loading.\n"
     ]
    },
    {
     "name": "stdout",
     "output_type": "stream",
     "text": [
      "INFO:tensorflow:Assets written to: C:\\Users\\ucesvpm\\OneDrive - University College London\\PhD Project\\Data Analytics\\Time Series Clustering\\Third Test\\Time-Series-PhD\\wandb\\run-20230227_130943-8sfqhuhd\\files\\model-best\\assets\n"
     ]
    },
    {
     "name": "stderr",
     "output_type": "stream",
     "text": [
      "INFO:tensorflow:Assets written to: C:\\Users\\ucesvpm\\OneDrive - University College London\\PhD Project\\Data Analytics\\Time Series Clustering\\Third Test\\Time-Series-PhD\\wandb\\run-20230227_130943-8sfqhuhd\\files\\model-best\\assets\n",
      "\u001b[34m\u001b[1mwandb\u001b[0m: Adding directory to artifact (C:\\Users\\ucesvpm\\OneDrive - University College London\\PhD Project\\Data Analytics\\Time Series Clustering\\Third Test\\Time-Series-PhD\\wandb\\run-20230227_130943-8sfqhuhd\\files\\model-best)... Done. 0.2s\n"
     ]
    },
    {
     "name": "stdout",
     "output_type": "stream",
     "text": [
      "1540/1540 [==============================] - 35s 23ms/step - loss: 0.1723 - mse: 0.1723 - val_loss: 0.2018 - val_mse: 0.2018 - lr: 3.5666e-05\n",
      "Epoch 88/100\n",
      "1538/1540 [============================>.] - ETA: 0s - loss: 0.1717 - mse: 0.1717"
     ]
    },
    {
     "name": "stderr",
     "output_type": "stream",
     "text": [
      "WARNING:absl:Found untraced functions such as activation_layer_call_fn, activation_layer_call_and_return_conditional_losses, activation_1_layer_call_fn, activation_1_layer_call_and_return_conditional_losses, activation_2_layer_call_fn while saving (showing 5 of 12). These functions will not be directly callable after loading.\n"
     ]
    },
    {
     "name": "stdout",
     "output_type": "stream",
     "text": [
      "INFO:tensorflow:Assets written to: C:\\Users\\ucesvpm\\OneDrive - University College London\\PhD Project\\Data Analytics\\Time Series Clustering\\Third Test\\Time-Series-PhD\\wandb\\run-20230227_130943-8sfqhuhd\\files\\model-best\\assets\n"
     ]
    },
    {
     "name": "stderr",
     "output_type": "stream",
     "text": [
      "INFO:tensorflow:Assets written to: C:\\Users\\ucesvpm\\OneDrive - University College London\\PhD Project\\Data Analytics\\Time Series Clustering\\Third Test\\Time-Series-PhD\\wandb\\run-20230227_130943-8sfqhuhd\\files\\model-best\\assets\n",
      "\u001b[34m\u001b[1mwandb\u001b[0m: Adding directory to artifact (C:\\Users\\ucesvpm\\OneDrive - University College London\\PhD Project\\Data Analytics\\Time Series Clustering\\Third Test\\Time-Series-PhD\\wandb\\run-20230227_130943-8sfqhuhd\\files\\model-best)... Done. 0.2s\n"
     ]
    },
    {
     "name": "stdout",
     "output_type": "stream",
     "text": [
      "1540/1540 [==============================] - 33s 22ms/step - loss: 0.1717 - mse: 0.1717 - val_loss: 0.2014 - val_mse: 0.2014 - lr: 3.5666e-05\n",
      "Epoch 89/100\n",
      "1540/1540 [==============================] - 36s 23ms/step - loss: 0.1711 - mse: 0.1711 - val_loss: 0.2015 - val_mse: 0.2015 - lr: 3.5666e-05\n",
      "Epoch 90/100\n",
      "1538/1540 [============================>.] - ETA: 0s - loss: 0.1707 - mse: 0.1707"
     ]
    },
    {
     "name": "stderr",
     "output_type": "stream",
     "text": [
      "WARNING:absl:Found untraced functions such as activation_layer_call_fn, activation_layer_call_and_return_conditional_losses, activation_1_layer_call_fn, activation_1_layer_call_and_return_conditional_losses, activation_2_layer_call_fn while saving (showing 5 of 12). These functions will not be directly callable after loading.\n"
     ]
    },
    {
     "name": "stdout",
     "output_type": "stream",
     "text": [
      "INFO:tensorflow:Assets written to: C:\\Users\\ucesvpm\\OneDrive - University College London\\PhD Project\\Data Analytics\\Time Series Clustering\\Third Test\\Time-Series-PhD\\wandb\\run-20230227_130943-8sfqhuhd\\files\\model-best\\assets\n"
     ]
    },
    {
     "name": "stderr",
     "output_type": "stream",
     "text": [
      "INFO:tensorflow:Assets written to: C:\\Users\\ucesvpm\\OneDrive - University College London\\PhD Project\\Data Analytics\\Time Series Clustering\\Third Test\\Time-Series-PhD\\wandb\\run-20230227_130943-8sfqhuhd\\files\\model-best\\assets\n",
      "\u001b[34m\u001b[1mwandb\u001b[0m: Adding directory to artifact (C:\\Users\\ucesvpm\\OneDrive - University College London\\PhD Project\\Data Analytics\\Time Series Clustering\\Third Test\\Time-Series-PhD\\wandb\\run-20230227_130943-8sfqhuhd\\files\\model-best)... Done. 0.3s\n"
     ]
    },
    {
     "name": "stdout",
     "output_type": "stream",
     "text": [
      "1540/1540 [==============================] - 37s 24ms/step - loss: 0.1706 - mse: 0.1706 - val_loss: 0.2011 - val_mse: 0.2011 - lr: 3.5666e-05\n",
      "Epoch 91/100\n",
      "1538/1540 [============================>.] - ETA: 0s - loss: 0.1701 - mse: 0.1701"
     ]
    },
    {
     "name": "stderr",
     "output_type": "stream",
     "text": [
      "WARNING:absl:Found untraced functions such as activation_layer_call_fn, activation_layer_call_and_return_conditional_losses, activation_1_layer_call_fn, activation_1_layer_call_and_return_conditional_losses, activation_2_layer_call_fn while saving (showing 5 of 12). These functions will not be directly callable after loading.\n"
     ]
    },
    {
     "name": "stdout",
     "output_type": "stream",
     "text": [
      "INFO:tensorflow:Assets written to: C:\\Users\\ucesvpm\\OneDrive - University College London\\PhD Project\\Data Analytics\\Time Series Clustering\\Third Test\\Time-Series-PhD\\wandb\\run-20230227_130943-8sfqhuhd\\files\\model-best\\assets\n"
     ]
    },
    {
     "name": "stderr",
     "output_type": "stream",
     "text": [
      "INFO:tensorflow:Assets written to: C:\\Users\\ucesvpm\\OneDrive - University College London\\PhD Project\\Data Analytics\\Time Series Clustering\\Third Test\\Time-Series-PhD\\wandb\\run-20230227_130943-8sfqhuhd\\files\\model-best\\assets\n",
      "\u001b[34m\u001b[1mwandb\u001b[0m: Adding directory to artifact (C:\\Users\\ucesvpm\\OneDrive - University College London\\PhD Project\\Data Analytics\\Time Series Clustering\\Third Test\\Time-Series-PhD\\wandb\\run-20230227_130943-8sfqhuhd\\files\\model-best)... Done. 0.3s\n"
     ]
    },
    {
     "name": "stdout",
     "output_type": "stream",
     "text": [
      "1540/1540 [==============================] - 35s 22ms/step - loss: 0.1701 - mse: 0.1701 - val_loss: 0.2006 - val_mse: 0.2006 - lr: 3.5666e-05\n",
      "Epoch 92/100\n",
      "1538/1540 [============================>.] - ETA: 0s - loss: 0.1696 - mse: 0.1696"
     ]
    },
    {
     "name": "stderr",
     "output_type": "stream",
     "text": [
      "WARNING:absl:Found untraced functions such as activation_layer_call_fn, activation_layer_call_and_return_conditional_losses, activation_1_layer_call_fn, activation_1_layer_call_and_return_conditional_losses, activation_2_layer_call_fn while saving (showing 5 of 12). These functions will not be directly callable after loading.\n"
     ]
    },
    {
     "name": "stdout",
     "output_type": "stream",
     "text": [
      "INFO:tensorflow:Assets written to: C:\\Users\\ucesvpm\\OneDrive - University College London\\PhD Project\\Data Analytics\\Time Series Clustering\\Third Test\\Time-Series-PhD\\wandb\\run-20230227_130943-8sfqhuhd\\files\\model-best\\assets\n"
     ]
    },
    {
     "name": "stderr",
     "output_type": "stream",
     "text": [
      "INFO:tensorflow:Assets written to: C:\\Users\\ucesvpm\\OneDrive - University College London\\PhD Project\\Data Analytics\\Time Series Clustering\\Third Test\\Time-Series-PhD\\wandb\\run-20230227_130943-8sfqhuhd\\files\\model-best\\assets\n",
      "\u001b[34m\u001b[1mwandb\u001b[0m: Adding directory to artifact (C:\\Users\\ucesvpm\\OneDrive - University College London\\PhD Project\\Data Analytics\\Time Series Clustering\\Third Test\\Time-Series-PhD\\wandb\\run-20230227_130943-8sfqhuhd\\files\\model-best)... Done. 0.3s\n"
     ]
    },
    {
     "name": "stdout",
     "output_type": "stream",
     "text": [
      "1540/1540 [==============================] - 34s 22ms/step - loss: 0.1695 - mse: 0.1695 - val_loss: 0.2002 - val_mse: 0.2002 - lr: 3.5666e-05\n",
      "Epoch 93/100\n",
      "1540/1540 [==============================] - 31s 20ms/step - loss: 0.1689 - mse: 0.1689 - val_loss: 0.2003 - val_mse: 0.2003 - lr: 3.5666e-05\n",
      "Epoch 94/100\n",
      "1540/1540 [==============================] - ETA: 0s - loss: 0.1684 - mse: 0.1684"
     ]
    },
    {
     "name": "stderr",
     "output_type": "stream",
     "text": [
      "WARNING:absl:Found untraced functions such as activation_layer_call_fn, activation_layer_call_and_return_conditional_losses, activation_1_layer_call_fn, activation_1_layer_call_and_return_conditional_losses, activation_2_layer_call_fn while saving (showing 5 of 12). These functions will not be directly callable after loading.\n"
     ]
    },
    {
     "name": "stdout",
     "output_type": "stream",
     "text": [
      "INFO:tensorflow:Assets written to: C:\\Users\\ucesvpm\\OneDrive - University College London\\PhD Project\\Data Analytics\\Time Series Clustering\\Third Test\\Time-Series-PhD\\wandb\\run-20230227_130943-8sfqhuhd\\files\\model-best\\assets\n"
     ]
    },
    {
     "name": "stderr",
     "output_type": "stream",
     "text": [
      "INFO:tensorflow:Assets written to: C:\\Users\\ucesvpm\\OneDrive - University College London\\PhD Project\\Data Analytics\\Time Series Clustering\\Third Test\\Time-Series-PhD\\wandb\\run-20230227_130943-8sfqhuhd\\files\\model-best\\assets\n",
      "\u001b[34m\u001b[1mwandb\u001b[0m: Adding directory to artifact (C:\\Users\\ucesvpm\\OneDrive - University College London\\PhD Project\\Data Analytics\\Time Series Clustering\\Third Test\\Time-Series-PhD\\wandb\\run-20230227_130943-8sfqhuhd\\files\\model-best)... Done. 0.1s\n"
     ]
    },
    {
     "name": "stdout",
     "output_type": "stream",
     "text": [
      "1540/1540 [==============================] - 33s 21ms/step - loss: 0.1684 - mse: 0.1684 - val_loss: 0.2002 - val_mse: 0.2002 - lr: 3.5666e-05\n",
      "Epoch 95/100\n",
      "1540/1540 [==============================] - ETA: 0s - loss: 0.1679 - mse: 0.1679"
     ]
    },
    {
     "name": "stderr",
     "output_type": "stream",
     "text": [
      "WARNING:absl:Found untraced functions such as activation_layer_call_fn, activation_layer_call_and_return_conditional_losses, activation_1_layer_call_fn, activation_1_layer_call_and_return_conditional_losses, activation_2_layer_call_fn while saving (showing 5 of 12). These functions will not be directly callable after loading.\n"
     ]
    },
    {
     "name": "stdout",
     "output_type": "stream",
     "text": [
      "INFO:tensorflow:Assets written to: C:\\Users\\ucesvpm\\OneDrive - University College London\\PhD Project\\Data Analytics\\Time Series Clustering\\Third Test\\Time-Series-PhD\\wandb\\run-20230227_130943-8sfqhuhd\\files\\model-best\\assets\n"
     ]
    },
    {
     "name": "stderr",
     "output_type": "stream",
     "text": [
      "INFO:tensorflow:Assets written to: C:\\Users\\ucesvpm\\OneDrive - University College London\\PhD Project\\Data Analytics\\Time Series Clustering\\Third Test\\Time-Series-PhD\\wandb\\run-20230227_130943-8sfqhuhd\\files\\model-best\\assets\n",
      "\u001b[34m\u001b[1mwandb\u001b[0m: Adding directory to artifact (C:\\Users\\ucesvpm\\OneDrive - University College London\\PhD Project\\Data Analytics\\Time Series Clustering\\Third Test\\Time-Series-PhD\\wandb\\run-20230227_130943-8sfqhuhd\\files\\model-best)... Done. 0.2s\n"
     ]
    },
    {
     "name": "stdout",
     "output_type": "stream",
     "text": [
      "1540/1540 [==============================] - 33s 21ms/step - loss: 0.1679 - mse: 0.1679 - val_loss: 0.1993 - val_mse: 0.1993 - lr: 3.5666e-05\n",
      "Epoch 96/100\n",
      "1537/1540 [============================>.] - ETA: 0s - loss: 0.1673 - mse: 0.1673"
     ]
    },
    {
     "name": "stderr",
     "output_type": "stream",
     "text": [
      "WARNING:absl:Found untraced functions such as activation_layer_call_fn, activation_layer_call_and_return_conditional_losses, activation_1_layer_call_fn, activation_1_layer_call_and_return_conditional_losses, activation_2_layer_call_fn while saving (showing 5 of 12). These functions will not be directly callable after loading.\n"
     ]
    },
    {
     "name": "stdout",
     "output_type": "stream",
     "text": [
      "INFO:tensorflow:Assets written to: C:\\Users\\ucesvpm\\OneDrive - University College London\\PhD Project\\Data Analytics\\Time Series Clustering\\Third Test\\Time-Series-PhD\\wandb\\run-20230227_130943-8sfqhuhd\\files\\model-best\\assets\n"
     ]
    },
    {
     "name": "stderr",
     "output_type": "stream",
     "text": [
      "INFO:tensorflow:Assets written to: C:\\Users\\ucesvpm\\OneDrive - University College London\\PhD Project\\Data Analytics\\Time Series Clustering\\Third Test\\Time-Series-PhD\\wandb\\run-20230227_130943-8sfqhuhd\\files\\model-best\\assets\n",
      "\u001b[34m\u001b[1mwandb\u001b[0m: Adding directory to artifact (C:\\Users\\ucesvpm\\OneDrive - University College London\\PhD Project\\Data Analytics\\Time Series Clustering\\Third Test\\Time-Series-PhD\\wandb\\run-20230227_130943-8sfqhuhd\\files\\model-best)... Done. 0.2s\n"
     ]
    },
    {
     "name": "stdout",
     "output_type": "stream",
     "text": [
      "1540/1540 [==============================] - 35s 23ms/step - loss: 0.1673 - mse: 0.1673 - val_loss: 0.1990 - val_mse: 0.1990 - lr: 3.5666e-05\n",
      "Epoch 97/100\n",
      "1540/1540 [==============================] - 31s 20ms/step - loss: 0.1669 - mse: 0.1669 - val_loss: 0.1993 - val_mse: 0.1993 - lr: 3.5666e-05\n",
      "Epoch 98/100\n",
      "1537/1540 [============================>.] - ETA: 0s - loss: 0.1664 - mse: 0.1664"
     ]
    },
    {
     "name": "stderr",
     "output_type": "stream",
     "text": [
      "WARNING:absl:Found untraced functions such as activation_layer_call_fn, activation_layer_call_and_return_conditional_losses, activation_1_layer_call_fn, activation_1_layer_call_and_return_conditional_losses, activation_2_layer_call_fn while saving (showing 5 of 12). These functions will not be directly callable after loading.\n"
     ]
    },
    {
     "name": "stdout",
     "output_type": "stream",
     "text": [
      "INFO:tensorflow:Assets written to: C:\\Users\\ucesvpm\\OneDrive - University College London\\PhD Project\\Data Analytics\\Time Series Clustering\\Third Test\\Time-Series-PhD\\wandb\\run-20230227_130943-8sfqhuhd\\files\\model-best\\assets\n"
     ]
    },
    {
     "name": "stderr",
     "output_type": "stream",
     "text": [
      "INFO:tensorflow:Assets written to: C:\\Users\\ucesvpm\\OneDrive - University College London\\PhD Project\\Data Analytics\\Time Series Clustering\\Third Test\\Time-Series-PhD\\wandb\\run-20230227_130943-8sfqhuhd\\files\\model-best\\assets\n",
      "\u001b[34m\u001b[1mwandb\u001b[0m: Adding directory to artifact (C:\\Users\\ucesvpm\\OneDrive - University College London\\PhD Project\\Data Analytics\\Time Series Clustering\\Third Test\\Time-Series-PhD\\wandb\\run-20230227_130943-8sfqhuhd\\files\\model-best)... Done. 0.2s\n"
     ]
    },
    {
     "name": "stdout",
     "output_type": "stream",
     "text": [
      "1540/1540 [==============================] - 35s 23ms/step - loss: 0.1664 - mse: 0.1664 - val_loss: 0.1989 - val_mse: 0.1989 - lr: 3.5666e-05\n",
      "Epoch 99/100\n",
      "1540/1540 [==============================] - ETA: 0s - loss: 0.1659 - mse: 0.1659"
     ]
    },
    {
     "name": "stderr",
     "output_type": "stream",
     "text": [
      "WARNING:absl:Found untraced functions such as activation_layer_call_fn, activation_layer_call_and_return_conditional_losses, activation_1_layer_call_fn, activation_1_layer_call_and_return_conditional_losses, activation_2_layer_call_fn while saving (showing 5 of 12). These functions will not be directly callable after loading.\n"
     ]
    },
    {
     "name": "stdout",
     "output_type": "stream",
     "text": [
      "INFO:tensorflow:Assets written to: C:\\Users\\ucesvpm\\OneDrive - University College London\\PhD Project\\Data Analytics\\Time Series Clustering\\Third Test\\Time-Series-PhD\\wandb\\run-20230227_130943-8sfqhuhd\\files\\model-best\\assets\n"
     ]
    },
    {
     "name": "stderr",
     "output_type": "stream",
     "text": [
      "INFO:tensorflow:Assets written to: C:\\Users\\ucesvpm\\OneDrive - University College London\\PhD Project\\Data Analytics\\Time Series Clustering\\Third Test\\Time-Series-PhD\\wandb\\run-20230227_130943-8sfqhuhd\\files\\model-best\\assets\n",
      "\u001b[34m\u001b[1mwandb\u001b[0m: Adding directory to artifact (C:\\Users\\ucesvpm\\OneDrive - University College London\\PhD Project\\Data Analytics\\Time Series Clustering\\Third Test\\Time-Series-PhD\\wandb\\run-20230227_130943-8sfqhuhd\\files\\model-best)... Done. 0.2s\n"
     ]
    },
    {
     "name": "stdout",
     "output_type": "stream",
     "text": [
      "1540/1540 [==============================] - 33s 22ms/step - loss: 0.1659 - mse: 0.1659 - val_loss: 0.1984 - val_mse: 0.1984 - lr: 3.5666e-05\n",
      "Epoch 100/100\n",
      "1540/1540 [==============================] - ETA: 0s - loss: 0.1654 - mse: 0.1654"
     ]
    },
    {
     "name": "stderr",
     "output_type": "stream",
     "text": [
      "WARNING:absl:Found untraced functions such as activation_layer_call_fn, activation_layer_call_and_return_conditional_losses, activation_1_layer_call_fn, activation_1_layer_call_and_return_conditional_losses, activation_2_layer_call_fn while saving (showing 5 of 12). These functions will not be directly callable after loading.\n"
     ]
    },
    {
     "name": "stdout",
     "output_type": "stream",
     "text": [
      "INFO:tensorflow:Assets written to: C:\\Users\\ucesvpm\\OneDrive - University College London\\PhD Project\\Data Analytics\\Time Series Clustering\\Third Test\\Time-Series-PhD\\wandb\\run-20230227_130943-8sfqhuhd\\files\\model-best\\assets\n"
     ]
    },
    {
     "name": "stderr",
     "output_type": "stream",
     "text": [
      "INFO:tensorflow:Assets written to: C:\\Users\\ucesvpm\\OneDrive - University College London\\PhD Project\\Data Analytics\\Time Series Clustering\\Third Test\\Time-Series-PhD\\wandb\\run-20230227_130943-8sfqhuhd\\files\\model-best\\assets\n",
      "\u001b[34m\u001b[1mwandb\u001b[0m: Adding directory to artifact (C:\\Users\\ucesvpm\\OneDrive - University College London\\PhD Project\\Data Analytics\\Time Series Clustering\\Third Test\\Time-Series-PhD\\wandb\\run-20230227_130943-8sfqhuhd\\files\\model-best)... Done. 0.2s\n"
     ]
    },
    {
     "name": "stdout",
     "output_type": "stream",
     "text": [
      "1540/1540 [==============================] - 34s 22ms/step - loss: 0.1654 - mse: 0.1654 - val_loss: 0.1980 - val_mse: 0.1980 - lr: 3.5666e-05\n"
     ]
    },
    {
     "data": {
      "text/html": [
       "Waiting for W&B process to finish... <strong style=\"color:green\">(success).</strong>"
      ],
      "text/plain": [
       "<IPython.core.display.HTML object>"
      ]
     },
     "metadata": {},
     "output_type": "display_data"
    },
    {
     "data": {
      "text/html": [
       "<style>\n",
       "    table.wandb td:nth-child(1) { padding: 0 10px; text-align: left ; width: auto;} td:nth-child(2) {text-align: left ; width: 100%}\n",
       "    .wandb-row { display: flex; flex-direction: row; flex-wrap: wrap; justify-content: flex-start; width: 100% }\n",
       "    .wandb-col { display: flex; flex-direction: column; flex-basis: 100%; flex: 1; padding: 10px; }\n",
       "    </style>\n",
       "<div class=\"wandb-row\"><div class=\"wandb-col\"><h3>Run history:</h3><br/><table class=\"wandb\"><tr><td>epoch</td><td>▁▁▁▁▂▂▂▂▂▃▃▃▃▃▃▄▄▄▄▄▅▅▅▅▅▅▆▆▆▆▆▇▇▇▇▇▇███</td></tr><tr><td>loss</td><td>█▄▄▃▃▃▃▃▃▃▃▂▂▂▂▂▂▂▂▂▂▂▂▂▂▂▂▁▁▁▁▁▁▁▁▁▁▁▁▁</td></tr><tr><td>mse</td><td>█▄▄▃▃▃▃▃▃▃▃▂▂▂▂▂▂▂▂▂▂▂▂▂▂▂▂▁▁▁▁▁▁▁▁▁▁▁▁▁</td></tr><tr><td>val_loss</td><td>█▆▅▄▄▄▄▃▃▃▃▃▃▃▃▂▂▂▂▂▂▂▂▂▂▂▂▂▁▁▁▁▁▁▁▁▁▁▁▁</td></tr><tr><td>val_mse</td><td>█▆▅▄▄▄▄▃▃▃▃▃▃▃▃▂▂▂▂▂▂▂▂▂▂▂▂▂▁▁▁▁▁▁▁▁▁▁▁▁</td></tr></table><br/></div><div class=\"wandb-col\"><h3>Run summary:</h3><br/><table class=\"wandb\"><tr><td>best_epoch</td><td>99</td></tr><tr><td>best_val_loss</td><td>0.19803</td></tr><tr><td>epoch</td><td>99</td></tr><tr><td>loss</td><td>0.16535</td></tr><tr><td>mse</td><td>0.16535</td></tr><tr><td>val_loss</td><td>0.19803</td></tr><tr><td>val_mse</td><td>0.19803</td></tr></table><br/></div></div>"
      ],
      "text/plain": [
       "<IPython.core.display.HTML object>"
      ]
     },
     "metadata": {},
     "output_type": "display_data"
    },
    {
     "data": {
      "text/html": [
       "Synced <strong style=\"color:#cdcd00\">upbeat-sweep-2</strong>: <a href=\"https://wandb.ai/vasco-phd/FC_AE-Kenya_10k_Set_1_w90/runs/8sfqhuhd\" target=\"_blank\">https://wandb.ai/vasco-phd/FC_AE-Kenya_10k_Set_1_w90/runs/8sfqhuhd</a><br/>Synced 6 W&B file(s), 1 media file(s), 280 artifact file(s) and 1 other file(s)"
      ],
      "text/plain": [
       "<IPython.core.display.HTML object>"
      ]
     },
     "metadata": {},
     "output_type": "display_data"
    },
    {
     "data": {
      "text/html": [
       "Find logs at: <code>.\\wandb\\run-20230227_130943-8sfqhuhd\\logs</code>"
      ],
      "text/plain": [
       "<IPython.core.display.HTML object>"
      ]
     },
     "metadata": {},
     "output_type": "display_data"
    },
    {
     "name": "stderr",
     "output_type": "stream",
     "text": [
      "\u001b[34m\u001b[1mwandb\u001b[0m: Agent Starting Run: sea5y4vl with config:\n",
      "\u001b[34m\u001b[1mwandb\u001b[0m: \tactivation_fn: SELU\n",
      "\u001b[34m\u001b[1mwandb\u001b[0m: \tbatch_size: 50\n",
      "\u001b[34m\u001b[1mwandb\u001b[0m: \tepochs: 100\n",
      "\u001b[34m\u001b[1mwandb\u001b[0m: \tlatent_layer_size: 25\n",
      "\u001b[34m\u001b[1mwandb\u001b[0m: \tlearning_rate: 0.0001919234328896672\n",
      "\u001b[34m\u001b[1mwandb\u001b[0m: \toptimizer: nadam\n",
      "\u001b[34m\u001b[1mwandb\u001b[0m: \twindow_length: 90\n"
     ]
    },
    {
     "data": {
      "text/html": [
       "wandb version 0.13.10 is available!  To upgrade, please run:\n",
       " $ pip install wandb --upgrade"
      ],
      "text/plain": [
       "<IPython.core.display.HTML object>"
      ]
     },
     "metadata": {},
     "output_type": "display_data"
    },
    {
     "data": {
      "text/html": [
       "Tracking run with wandb version 0.13.6"
      ],
      "text/plain": [
       "<IPython.core.display.HTML object>"
      ]
     },
     "metadata": {},
     "output_type": "display_data"
    },
    {
     "data": {
      "text/html": [
       "Run data is saved locally in <code>C:\\Users\\ucesvpm\\OneDrive - University College London\\PhD Project\\Data Analytics\\Time Series Clustering\\Third Test\\Time-Series-PhD\\wandb\\run-20230227_140830-sea5y4vl</code>"
      ],
      "text/plain": [
       "<IPython.core.display.HTML object>"
      ]
     },
     "metadata": {},
     "output_type": "display_data"
    },
    {
     "data": {
      "text/html": [
       "Syncing run <strong><a href=\"https://wandb.ai/vasco-phd/FC_AE-Kenya_10k_Set_1_w90/runs/sea5y4vl\" target=\"_blank\">ancient-sweep-3</a></strong> to <a href=\"https://wandb.ai/vasco-phd/FC_AE-Kenya_10k_Set_1_w90\" target=\"_blank\">Weights & Biases</a> (<a href=\"https://wandb.me/run\" target=\"_blank\">docs</a>)<br/>Sweep page:  <a href=\"https://wandb.ai/vasco-phd/FC_AE-Kenya_10k_Set_1_w90/sweeps/wzqhgcrr\" target=\"_blank\">https://wandb.ai/vasco-phd/FC_AE-Kenya_10k_Set_1_w90/sweeps/wzqhgcrr</a>"
      ],
      "text/plain": [
       "<IPython.core.display.HTML object>"
      ]
     },
     "metadata": {},
     "output_type": "display_data"
    },
    {
     "name": "stdout",
     "output_type": "stream",
     "text": [
      "Epoch 1/100\n",
      "1415/1417 [============================>.] - ETA: 0s - loss: 0.3643 - mse: 0.3643"
     ]
    },
    {
     "name": "stderr",
     "output_type": "stream",
     "text": [
      "WARNING:absl:Found untraced functions such as activation_layer_call_fn, activation_layer_call_and_return_conditional_losses, activation_1_layer_call_fn, activation_1_layer_call_and_return_conditional_losses, activation_2_layer_call_fn while saving (showing 5 of 12). These functions will not be directly callable after loading.\n"
     ]
    },
    {
     "name": "stdout",
     "output_type": "stream",
     "text": [
      "INFO:tensorflow:Assets written to: C:\\Users\\ucesvpm\\OneDrive - University College London\\PhD Project\\Data Analytics\\Time Series Clustering\\Third Test\\Time-Series-PhD\\wandb\\run-20230227_140830-sea5y4vl\\files\\model-best\\assets\n"
     ]
    },
    {
     "name": "stderr",
     "output_type": "stream",
     "text": [
      "INFO:tensorflow:Assets written to: C:\\Users\\ucesvpm\\OneDrive - University College London\\PhD Project\\Data Analytics\\Time Series Clustering\\Third Test\\Time-Series-PhD\\wandb\\run-20230227_140830-sea5y4vl\\files\\model-best\\assets\n",
      "\u001b[34m\u001b[1mwandb\u001b[0m: Adding directory to artifact (C:\\Users\\ucesvpm\\OneDrive - University College London\\PhD Project\\Data Analytics\\Time Series Clustering\\Third Test\\Time-Series-PhD\\wandb\\run-20230227_140830-sea5y4vl\\files\\model-best)... Done. 0.2s\n"
     ]
    },
    {
     "name": "stdout",
     "output_type": "stream",
     "text": [
      "1417/1417 [==============================] - 33s 22ms/step - loss: 0.3642 - mse: 0.3642 - val_loss: 0.3050 - val_mse: 0.3050 - lr: 1.9192e-04\n",
      "Epoch 2/100\n",
      "1417/1417 [==============================] - ETA: 0s - loss: 0.2841 - mse: 0.2841"
     ]
    },
    {
     "name": "stderr",
     "output_type": "stream",
     "text": [
      "WARNING:absl:Found untraced functions such as activation_layer_call_fn, activation_layer_call_and_return_conditional_losses, activation_1_layer_call_fn, activation_1_layer_call_and_return_conditional_losses, activation_2_layer_call_fn while saving (showing 5 of 12). These functions will not be directly callable after loading.\n"
     ]
    },
    {
     "name": "stdout",
     "output_type": "stream",
     "text": [
      "INFO:tensorflow:Assets written to: C:\\Users\\ucesvpm\\OneDrive - University College London\\PhD Project\\Data Analytics\\Time Series Clustering\\Third Test\\Time-Series-PhD\\wandb\\run-20230227_140830-sea5y4vl\\files\\model-best\\assets\n"
     ]
    },
    {
     "name": "stderr",
     "output_type": "stream",
     "text": [
      "INFO:tensorflow:Assets written to: C:\\Users\\ucesvpm\\OneDrive - University College London\\PhD Project\\Data Analytics\\Time Series Clustering\\Third Test\\Time-Series-PhD\\wandb\\run-20230227_140830-sea5y4vl\\files\\model-best\\assets\n",
      "\u001b[34m\u001b[1mwandb\u001b[0m: Adding directory to artifact (C:\\Users\\ucesvpm\\OneDrive - University College London\\PhD Project\\Data Analytics\\Time Series Clustering\\Third Test\\Time-Series-PhD\\wandb\\run-20230227_140830-sea5y4vl\\files\\model-best)... Done. 0.3s\n"
     ]
    },
    {
     "name": "stdout",
     "output_type": "stream",
     "text": [
      "1417/1417 [==============================] - 34s 24ms/step - loss: 0.2841 - mse: 0.2841 - val_loss: 0.2806 - val_mse: 0.2806 - lr: 1.9192e-04\n",
      "Epoch 3/100\n",
      "1416/1417 [============================>.] - ETA: 0s - loss: 0.2682 - mse: 0.2682"
     ]
    },
    {
     "name": "stderr",
     "output_type": "stream",
     "text": [
      "WARNING:absl:Found untraced functions such as activation_layer_call_fn, activation_layer_call_and_return_conditional_losses, activation_1_layer_call_fn, activation_1_layer_call_and_return_conditional_losses, activation_2_layer_call_fn while saving (showing 5 of 12). These functions will not be directly callable after loading.\n"
     ]
    },
    {
     "name": "stdout",
     "output_type": "stream",
     "text": [
      "INFO:tensorflow:Assets written to: C:\\Users\\ucesvpm\\OneDrive - University College London\\PhD Project\\Data Analytics\\Time Series Clustering\\Third Test\\Time-Series-PhD\\wandb\\run-20230227_140830-sea5y4vl\\files\\model-best\\assets\n"
     ]
    },
    {
     "name": "stderr",
     "output_type": "stream",
     "text": [
      "INFO:tensorflow:Assets written to: C:\\Users\\ucesvpm\\OneDrive - University College London\\PhD Project\\Data Analytics\\Time Series Clustering\\Third Test\\Time-Series-PhD\\wandb\\run-20230227_140830-sea5y4vl\\files\\model-best\\assets\n",
      "\u001b[34m\u001b[1mwandb\u001b[0m: Adding directory to artifact (C:\\Users\\ucesvpm\\OneDrive - University College London\\PhD Project\\Data Analytics\\Time Series Clustering\\Third Test\\Time-Series-PhD\\wandb\\run-20230227_140830-sea5y4vl\\files\\model-best)... Done. 0.3s\n"
     ]
    },
    {
     "name": "stdout",
     "output_type": "stream",
     "text": [
      "1417/1417 [==============================] - 33s 24ms/step - loss: 0.2682 - mse: 0.2682 - val_loss: 0.2689 - val_mse: 0.2689 - lr: 1.9192e-04\n",
      "Epoch 4/100\n",
      "1415/1417 [============================>.] - ETA: 0s - loss: 0.2600 - mse: 0.2600"
     ]
    },
    {
     "name": "stderr",
     "output_type": "stream",
     "text": [
      "WARNING:absl:Found untraced functions such as activation_layer_call_fn, activation_layer_call_and_return_conditional_losses, activation_1_layer_call_fn, activation_1_layer_call_and_return_conditional_losses, activation_2_layer_call_fn while saving (showing 5 of 12). These functions will not be directly callable after loading.\n"
     ]
    },
    {
     "name": "stdout",
     "output_type": "stream",
     "text": [
      "INFO:tensorflow:Assets written to: C:\\Users\\ucesvpm\\OneDrive - University College London\\PhD Project\\Data Analytics\\Time Series Clustering\\Third Test\\Time-Series-PhD\\wandb\\run-20230227_140830-sea5y4vl\\files\\model-best\\assets\n"
     ]
    },
    {
     "name": "stderr",
     "output_type": "stream",
     "text": [
      "INFO:tensorflow:Assets written to: C:\\Users\\ucesvpm\\OneDrive - University College London\\PhD Project\\Data Analytics\\Time Series Clustering\\Third Test\\Time-Series-PhD\\wandb\\run-20230227_140830-sea5y4vl\\files\\model-best\\assets\n",
      "\u001b[34m\u001b[1mwandb\u001b[0m: Adding directory to artifact (C:\\Users\\ucesvpm\\OneDrive - University College London\\PhD Project\\Data Analytics\\Time Series Clustering\\Third Test\\Time-Series-PhD\\wandb\\run-20230227_140830-sea5y4vl\\files\\model-best)... Done. 0.2s\n"
     ]
    },
    {
     "name": "stdout",
     "output_type": "stream",
     "text": [
      "1417/1417 [==============================] - 34s 24ms/step - loss: 0.2600 - mse: 0.2600 - val_loss: 0.2650 - val_mse: 0.2650 - lr: 1.9192e-04\n",
      "Epoch 5/100\n",
      "1415/1417 [============================>.] - ETA: 0s - loss: 0.2545 - mse: 0.2545"
     ]
    },
    {
     "name": "stderr",
     "output_type": "stream",
     "text": [
      "WARNING:absl:Found untraced functions such as activation_layer_call_fn, activation_layer_call_and_return_conditional_losses, activation_1_layer_call_fn, activation_1_layer_call_and_return_conditional_losses, activation_2_layer_call_fn while saving (showing 5 of 12). These functions will not be directly callable after loading.\n"
     ]
    },
    {
     "name": "stdout",
     "output_type": "stream",
     "text": [
      "INFO:tensorflow:Assets written to: C:\\Users\\ucesvpm\\OneDrive - University College London\\PhD Project\\Data Analytics\\Time Series Clustering\\Third Test\\Time-Series-PhD\\wandb\\run-20230227_140830-sea5y4vl\\files\\model-best\\assets\n"
     ]
    },
    {
     "name": "stderr",
     "output_type": "stream",
     "text": [
      "INFO:tensorflow:Assets written to: C:\\Users\\ucesvpm\\OneDrive - University College London\\PhD Project\\Data Analytics\\Time Series Clustering\\Third Test\\Time-Series-PhD\\wandb\\run-20230227_140830-sea5y4vl\\files\\model-best\\assets\n",
      "\u001b[34m\u001b[1mwandb\u001b[0m: Adding directory to artifact (C:\\Users\\ucesvpm\\OneDrive - University College London\\PhD Project\\Data Analytics\\Time Series Clustering\\Third Test\\Time-Series-PhD\\wandb\\run-20230227_140830-sea5y4vl\\files\\model-best)... Done. 0.3s\n"
     ]
    },
    {
     "name": "stdout",
     "output_type": "stream",
     "text": [
      "1417/1417 [==============================] - 32s 22ms/step - loss: 0.2545 - mse: 0.2545 - val_loss: 0.2578 - val_mse: 0.2578 - lr: 1.9192e-04\n",
      "Epoch 6/100\n",
      "1416/1417 [============================>.] - ETA: 0s - loss: 0.2491 - mse: 0.2491"
     ]
    },
    {
     "name": "stderr",
     "output_type": "stream",
     "text": [
      "WARNING:absl:Found untraced functions such as activation_layer_call_fn, activation_layer_call_and_return_conditional_losses, activation_1_layer_call_fn, activation_1_layer_call_and_return_conditional_losses, activation_2_layer_call_fn while saving (showing 5 of 12). These functions will not be directly callable after loading.\n"
     ]
    },
    {
     "name": "stdout",
     "output_type": "stream",
     "text": [
      "INFO:tensorflow:Assets written to: C:\\Users\\ucesvpm\\OneDrive - University College London\\PhD Project\\Data Analytics\\Time Series Clustering\\Third Test\\Time-Series-PhD\\wandb\\run-20230227_140830-sea5y4vl\\files\\model-best\\assets\n"
     ]
    },
    {
     "name": "stderr",
     "output_type": "stream",
     "text": [
      "INFO:tensorflow:Assets written to: C:\\Users\\ucesvpm\\OneDrive - University College London\\PhD Project\\Data Analytics\\Time Series Clustering\\Third Test\\Time-Series-PhD\\wandb\\run-20230227_140830-sea5y4vl\\files\\model-best\\assets\n",
      "\u001b[34m\u001b[1mwandb\u001b[0m: Adding directory to artifact (C:\\Users\\ucesvpm\\OneDrive - University College London\\PhD Project\\Data Analytics\\Time Series Clustering\\Third Test\\Time-Series-PhD\\wandb\\run-20230227_140830-sea5y4vl\\files\\model-best)... Done. 0.2s\n"
     ]
    },
    {
     "name": "stdout",
     "output_type": "stream",
     "text": [
      "1417/1417 [==============================] - 33s 23ms/step - loss: 0.2491 - mse: 0.2491 - val_loss: 0.2521 - val_mse: 0.2521 - lr: 1.9192e-04\n",
      "Epoch 7/100\n",
      "1415/1417 [============================>.] - ETA: 0s - loss: 0.2428 - mse: 0.2428"
     ]
    },
    {
     "name": "stderr",
     "output_type": "stream",
     "text": [
      "WARNING:absl:Found untraced functions such as activation_layer_call_fn, activation_layer_call_and_return_conditional_losses, activation_1_layer_call_fn, activation_1_layer_call_and_return_conditional_losses, activation_2_layer_call_fn while saving (showing 5 of 12). These functions will not be directly callable after loading.\n"
     ]
    },
    {
     "name": "stdout",
     "output_type": "stream",
     "text": [
      "INFO:tensorflow:Assets written to: C:\\Users\\ucesvpm\\OneDrive - University College London\\PhD Project\\Data Analytics\\Time Series Clustering\\Third Test\\Time-Series-PhD\\wandb\\run-20230227_140830-sea5y4vl\\files\\model-best\\assets\n"
     ]
    },
    {
     "name": "stderr",
     "output_type": "stream",
     "text": [
      "INFO:tensorflow:Assets written to: C:\\Users\\ucesvpm\\OneDrive - University College London\\PhD Project\\Data Analytics\\Time Series Clustering\\Third Test\\Time-Series-PhD\\wandb\\run-20230227_140830-sea5y4vl\\files\\model-best\\assets\n",
      "\u001b[34m\u001b[1mwandb\u001b[0m: Adding directory to artifact (C:\\Users\\ucesvpm\\OneDrive - University College London\\PhD Project\\Data Analytics\\Time Series Clustering\\Third Test\\Time-Series-PhD\\wandb\\run-20230227_140830-sea5y4vl\\files\\model-best)... Done. 0.2s\n"
     ]
    },
    {
     "name": "stdout",
     "output_type": "stream",
     "text": [
      "1417/1417 [==============================] - 33s 23ms/step - loss: 0.2428 - mse: 0.2428 - val_loss: 0.2465 - val_mse: 0.2465 - lr: 1.9192e-04\n",
      "Epoch 8/100\n",
      "1416/1417 [============================>.] - ETA: 0s - loss: 0.2372 - mse: 0.2372"
     ]
    },
    {
     "name": "stderr",
     "output_type": "stream",
     "text": [
      "WARNING:absl:Found untraced functions such as activation_layer_call_fn, activation_layer_call_and_return_conditional_losses, activation_1_layer_call_fn, activation_1_layer_call_and_return_conditional_losses, activation_2_layer_call_fn while saving (showing 5 of 12). These functions will not be directly callable after loading.\n"
     ]
    },
    {
     "name": "stdout",
     "output_type": "stream",
     "text": [
      "INFO:tensorflow:Assets written to: C:\\Users\\ucesvpm\\OneDrive - University College London\\PhD Project\\Data Analytics\\Time Series Clustering\\Third Test\\Time-Series-PhD\\wandb\\run-20230227_140830-sea5y4vl\\files\\model-best\\assets\n"
     ]
    },
    {
     "name": "stderr",
     "output_type": "stream",
     "text": [
      "INFO:tensorflow:Assets written to: C:\\Users\\ucesvpm\\OneDrive - University College London\\PhD Project\\Data Analytics\\Time Series Clustering\\Third Test\\Time-Series-PhD\\wandb\\run-20230227_140830-sea5y4vl\\files\\model-best\\assets\n",
      "\u001b[34m\u001b[1mwandb\u001b[0m: Adding directory to artifact (C:\\Users\\ucesvpm\\OneDrive - University College London\\PhD Project\\Data Analytics\\Time Series Clustering\\Third Test\\Time-Series-PhD\\wandb\\run-20230227_140830-sea5y4vl\\files\\model-best)... Done. 0.2s\n"
     ]
    },
    {
     "name": "stdout",
     "output_type": "stream",
     "text": [
      "1417/1417 [==============================] - 33s 23ms/step - loss: 0.2372 - mse: 0.2372 - val_loss: 0.2402 - val_mse: 0.2402 - lr: 1.9192e-04\n",
      "Epoch 9/100\n",
      "1417/1417 [==============================] - ETA: 0s - loss: 0.2327 - mse: 0.2327"
     ]
    },
    {
     "name": "stderr",
     "output_type": "stream",
     "text": [
      "WARNING:absl:Found untraced functions such as activation_layer_call_fn, activation_layer_call_and_return_conditional_losses, activation_1_layer_call_fn, activation_1_layer_call_and_return_conditional_losses, activation_2_layer_call_fn while saving (showing 5 of 12). These functions will not be directly callable after loading.\n"
     ]
    },
    {
     "name": "stdout",
     "output_type": "stream",
     "text": [
      "INFO:tensorflow:Assets written to: C:\\Users\\ucesvpm\\OneDrive - University College London\\PhD Project\\Data Analytics\\Time Series Clustering\\Third Test\\Time-Series-PhD\\wandb\\run-20230227_140830-sea5y4vl\\files\\model-best\\assets\n"
     ]
    },
    {
     "name": "stderr",
     "output_type": "stream",
     "text": [
      "INFO:tensorflow:Assets written to: C:\\Users\\ucesvpm\\OneDrive - University College London\\PhD Project\\Data Analytics\\Time Series Clustering\\Third Test\\Time-Series-PhD\\wandb\\run-20230227_140830-sea5y4vl\\files\\model-best\\assets\n",
      "\u001b[34m\u001b[1mwandb\u001b[0m: Adding directory to artifact (C:\\Users\\ucesvpm\\OneDrive - University College London\\PhD Project\\Data Analytics\\Time Series Clustering\\Third Test\\Time-Series-PhD\\wandb\\run-20230227_140830-sea5y4vl\\files\\model-best)... Done. 0.3s\n"
     ]
    },
    {
     "name": "stdout",
     "output_type": "stream",
     "text": [
      "1417/1417 [==============================] - 32s 23ms/step - loss: 0.2327 - mse: 0.2327 - val_loss: 0.2368 - val_mse: 0.2368 - lr: 1.9192e-04\n",
      "Epoch 10/100\n",
      "1415/1417 [============================>.] - ETA: 0s - loss: 0.2288 - mse: 0.2288"
     ]
    },
    {
     "name": "stderr",
     "output_type": "stream",
     "text": [
      "WARNING:absl:Found untraced functions such as activation_layer_call_fn, activation_layer_call_and_return_conditional_losses, activation_1_layer_call_fn, activation_1_layer_call_and_return_conditional_losses, activation_2_layer_call_fn while saving (showing 5 of 12). These functions will not be directly callable after loading.\n"
     ]
    },
    {
     "name": "stdout",
     "output_type": "stream",
     "text": [
      "INFO:tensorflow:Assets written to: C:\\Users\\ucesvpm\\OneDrive - University College London\\PhD Project\\Data Analytics\\Time Series Clustering\\Third Test\\Time-Series-PhD\\wandb\\run-20230227_140830-sea5y4vl\\files\\model-best\\assets\n"
     ]
    },
    {
     "name": "stderr",
     "output_type": "stream",
     "text": [
      "INFO:tensorflow:Assets written to: C:\\Users\\ucesvpm\\OneDrive - University College London\\PhD Project\\Data Analytics\\Time Series Clustering\\Third Test\\Time-Series-PhD\\wandb\\run-20230227_140830-sea5y4vl\\files\\model-best\\assets\n",
      "\u001b[34m\u001b[1mwandb\u001b[0m: Adding directory to artifact (C:\\Users\\ucesvpm\\OneDrive - University College London\\PhD Project\\Data Analytics\\Time Series Clustering\\Third Test\\Time-Series-PhD\\wandb\\run-20230227_140830-sea5y4vl\\files\\model-best)... Done. 0.2s\n"
     ]
    },
    {
     "name": "stdout",
     "output_type": "stream",
     "text": [
      "1417/1417 [==============================] - 32s 22ms/step - loss: 0.2288 - mse: 0.2288 - val_loss: 0.2337 - val_mse: 0.2337 - lr: 1.9192e-04\n",
      "Epoch 11/100\n",
      "1415/1417 [============================>.] - ETA: 0s - loss: 0.2254 - mse: 0.2254"
     ]
    },
    {
     "name": "stderr",
     "output_type": "stream",
     "text": [
      "WARNING:absl:Found untraced functions such as activation_layer_call_fn, activation_layer_call_and_return_conditional_losses, activation_1_layer_call_fn, activation_1_layer_call_and_return_conditional_losses, activation_2_layer_call_fn while saving (showing 5 of 12). These functions will not be directly callable after loading.\n"
     ]
    },
    {
     "name": "stdout",
     "output_type": "stream",
     "text": [
      "INFO:tensorflow:Assets written to: C:\\Users\\ucesvpm\\OneDrive - University College London\\PhD Project\\Data Analytics\\Time Series Clustering\\Third Test\\Time-Series-PhD\\wandb\\run-20230227_140830-sea5y4vl\\files\\model-best\\assets\n"
     ]
    },
    {
     "name": "stderr",
     "output_type": "stream",
     "text": [
      "INFO:tensorflow:Assets written to: C:\\Users\\ucesvpm\\OneDrive - University College London\\PhD Project\\Data Analytics\\Time Series Clustering\\Third Test\\Time-Series-PhD\\wandb\\run-20230227_140830-sea5y4vl\\files\\model-best\\assets\n",
      "\u001b[34m\u001b[1mwandb\u001b[0m: Adding directory to artifact (C:\\Users\\ucesvpm\\OneDrive - University College London\\PhD Project\\Data Analytics\\Time Series Clustering\\Third Test\\Time-Series-PhD\\wandb\\run-20230227_140830-sea5y4vl\\files\\model-best)... Done. 0.2s\n"
     ]
    },
    {
     "name": "stdout",
     "output_type": "stream",
     "text": [
      "1417/1417 [==============================] - 31s 22ms/step - loss: 0.2254 - mse: 0.2254 - val_loss: 0.2300 - val_mse: 0.2300 - lr: 1.9192e-04\n",
      "Epoch 12/100\n",
      "1416/1417 [============================>.] - ETA: 0s - loss: 0.2220 - mse: 0.2220"
     ]
    },
    {
     "name": "stderr",
     "output_type": "stream",
     "text": [
      "WARNING:absl:Found untraced functions such as activation_layer_call_fn, activation_layer_call_and_return_conditional_losses, activation_1_layer_call_fn, activation_1_layer_call_and_return_conditional_losses, activation_2_layer_call_fn while saving (showing 5 of 12). These functions will not be directly callable after loading.\n"
     ]
    },
    {
     "name": "stdout",
     "output_type": "stream",
     "text": [
      "INFO:tensorflow:Assets written to: C:\\Users\\ucesvpm\\OneDrive - University College London\\PhD Project\\Data Analytics\\Time Series Clustering\\Third Test\\Time-Series-PhD\\wandb\\run-20230227_140830-sea5y4vl\\files\\model-best\\assets\n"
     ]
    },
    {
     "name": "stderr",
     "output_type": "stream",
     "text": [
      "INFO:tensorflow:Assets written to: C:\\Users\\ucesvpm\\OneDrive - University College London\\PhD Project\\Data Analytics\\Time Series Clustering\\Third Test\\Time-Series-PhD\\wandb\\run-20230227_140830-sea5y4vl\\files\\model-best\\assets\n",
      "\u001b[34m\u001b[1mwandb\u001b[0m: Adding directory to artifact (C:\\Users\\ucesvpm\\OneDrive - University College London\\PhD Project\\Data Analytics\\Time Series Clustering\\Third Test\\Time-Series-PhD\\wandb\\run-20230227_140830-sea5y4vl\\files\\model-best)... Done. 0.2s\n"
     ]
    },
    {
     "name": "stdout",
     "output_type": "stream",
     "text": [
      "1417/1417 [==============================] - 33s 23ms/step - loss: 0.2220 - mse: 0.2220 - val_loss: 0.2275 - val_mse: 0.2275 - lr: 1.9192e-04\n",
      "Epoch 13/100\n",
      "1416/1417 [============================>.] - ETA: 0s - loss: 0.2187 - mse: 0.2187"
     ]
    },
    {
     "name": "stderr",
     "output_type": "stream",
     "text": [
      "WARNING:absl:Found untraced functions such as activation_layer_call_fn, activation_layer_call_and_return_conditional_losses, activation_1_layer_call_fn, activation_1_layer_call_and_return_conditional_losses, activation_2_layer_call_fn while saving (showing 5 of 12). These functions will not be directly callable after loading.\n"
     ]
    },
    {
     "name": "stdout",
     "output_type": "stream",
     "text": [
      "INFO:tensorflow:Assets written to: C:\\Users\\ucesvpm\\OneDrive - University College London\\PhD Project\\Data Analytics\\Time Series Clustering\\Third Test\\Time-Series-PhD\\wandb\\run-20230227_140830-sea5y4vl\\files\\model-best\\assets\n"
     ]
    },
    {
     "name": "stderr",
     "output_type": "stream",
     "text": [
      "INFO:tensorflow:Assets written to: C:\\Users\\ucesvpm\\OneDrive - University College London\\PhD Project\\Data Analytics\\Time Series Clustering\\Third Test\\Time-Series-PhD\\wandb\\run-20230227_140830-sea5y4vl\\files\\model-best\\assets\n",
      "\u001b[34m\u001b[1mwandb\u001b[0m: Adding directory to artifact (C:\\Users\\ucesvpm\\OneDrive - University College London\\PhD Project\\Data Analytics\\Time Series Clustering\\Third Test\\Time-Series-PhD\\wandb\\run-20230227_140830-sea5y4vl\\files\\model-best)... Done. 0.3s\n"
     ]
    },
    {
     "name": "stdout",
     "output_type": "stream",
     "text": [
      "1417/1417 [==============================] - 35s 24ms/step - loss: 0.2186 - mse: 0.2186 - val_loss: 0.2239 - val_mse: 0.2239 - lr: 1.9192e-04\n",
      "Epoch 14/100\n",
      "1414/1417 [============================>.] - ETA: 0s - loss: 0.2152 - mse: 0.2152"
     ]
    },
    {
     "name": "stderr",
     "output_type": "stream",
     "text": [
      "WARNING:absl:Found untraced functions such as activation_layer_call_fn, activation_layer_call_and_return_conditional_losses, activation_1_layer_call_fn, activation_1_layer_call_and_return_conditional_losses, activation_2_layer_call_fn while saving (showing 5 of 12). These functions will not be directly callable after loading.\n"
     ]
    },
    {
     "name": "stdout",
     "output_type": "stream",
     "text": [
      "INFO:tensorflow:Assets written to: C:\\Users\\ucesvpm\\OneDrive - University College London\\PhD Project\\Data Analytics\\Time Series Clustering\\Third Test\\Time-Series-PhD\\wandb\\run-20230227_140830-sea5y4vl\\files\\model-best\\assets\n"
     ]
    },
    {
     "name": "stderr",
     "output_type": "stream",
     "text": [
      "INFO:tensorflow:Assets written to: C:\\Users\\ucesvpm\\OneDrive - University College London\\PhD Project\\Data Analytics\\Time Series Clustering\\Third Test\\Time-Series-PhD\\wandb\\run-20230227_140830-sea5y4vl\\files\\model-best\\assets\n",
      "\u001b[34m\u001b[1mwandb\u001b[0m: Adding directory to artifact (C:\\Users\\ucesvpm\\OneDrive - University College London\\PhD Project\\Data Analytics\\Time Series Clustering\\Third Test\\Time-Series-PhD\\wandb\\run-20230227_140830-sea5y4vl\\files\\model-best)... Done. 0.3s\n"
     ]
    },
    {
     "name": "stdout",
     "output_type": "stream",
     "text": [
      "1417/1417 [==============================] - 43s 30ms/step - loss: 0.2152 - mse: 0.2152 - val_loss: 0.2214 - val_mse: 0.2214 - lr: 1.9192e-04\n",
      "Epoch 15/100\n",
      "1416/1417 [============================>.] - ETA: 0s - loss: 0.1530 - mse: 0.1530"
     ]
    },
    {
     "name": "stderr",
     "output_type": "stream",
     "text": [
      "WARNING:absl:Found untraced functions such as activation_layer_call_fn, activation_layer_call_and_return_conditional_losses, activation_1_layer_call_fn, activation_1_layer_call_and_return_conditional_losses, activation_2_layer_call_fn while saving (showing 5 of 12). These functions will not be directly callable after loading.\n"
     ]
    },
    {
     "name": "stdout",
     "output_type": "stream",
     "text": [
      "INFO:tensorflow:Assets written to: C:\\Users\\ucesvpm\\OneDrive - University College London\\PhD Project\\Data Analytics\\Time Series Clustering\\Third Test\\Time-Series-PhD\\wandb\\run-20230227_140830-sea5y4vl\\files\\model-best\\assets\n"
     ]
    },
    {
     "name": "stderr",
     "output_type": "stream",
     "text": [
      "INFO:tensorflow:Assets written to: C:\\Users\\ucesvpm\\OneDrive - University College London\\PhD Project\\Data Analytics\\Time Series Clustering\\Third Test\\Time-Series-PhD\\wandb\\run-20230227_140830-sea5y4vl\\files\\model-best\\assets\n",
      "\u001b[34m\u001b[1mwandb\u001b[0m: Adding directory to artifact (C:\\Users\\ucesvpm\\OneDrive - University College London\\PhD Project\\Data Analytics\\Time Series Clustering\\Third Test\\Time-Series-PhD\\wandb\\run-20230227_140830-sea5y4vl\\files\\model-best)... Done. 0.2s\n"
     ]
    },
    {
     "name": "stdout",
     "output_type": "stream",
     "text": [
      "1417/1417 [==============================] - 38s 27ms/step - loss: 0.1530 - mse: 0.1530 - val_loss: 0.1727 - val_mse: 0.1727 - lr: 1.9192e-04\n",
      "Epoch 41/100\n",
      "1416/1417 [============================>.] - ETA: 0s - loss: 0.1516 - mse: 0.1516"
     ]
    },
    {
     "name": "stderr",
     "output_type": "stream",
     "text": [
      "WARNING:absl:Found untraced functions such as activation_layer_call_fn, activation_layer_call_and_return_conditional_losses, activation_1_layer_call_fn, activation_1_layer_call_and_return_conditional_losses, activation_2_layer_call_fn while saving (showing 5 of 12). These functions will not be directly callable after loading.\n"
     ]
    },
    {
     "name": "stdout",
     "output_type": "stream",
     "text": [
      "INFO:tensorflow:Assets written to: C:\\Users\\ucesvpm\\OneDrive - University College London\\PhD Project\\Data Analytics\\Time Series Clustering\\Third Test\\Time-Series-PhD\\wandb\\run-20230227_140830-sea5y4vl\\files\\model-best\\assets\n"
     ]
    },
    {
     "name": "stderr",
     "output_type": "stream",
     "text": [
      "INFO:tensorflow:Assets written to: C:\\Users\\ucesvpm\\OneDrive - University College London\\PhD Project\\Data Analytics\\Time Series Clustering\\Third Test\\Time-Series-PhD\\wandb\\run-20230227_140830-sea5y4vl\\files\\model-best\\assets\n",
      "\u001b[34m\u001b[1mwandb\u001b[0m: Adding directory to artifact (C:\\Users\\ucesvpm\\OneDrive - University College London\\PhD Project\\Data Analytics\\Time Series Clustering\\Third Test\\Time-Series-PhD\\wandb\\run-20230227_140830-sea5y4vl\\files\\model-best)... Done. 0.3s\n"
     ]
    },
    {
     "name": "stdout",
     "output_type": "stream",
     "text": [
      "1417/1417 [==============================] - 38s 27ms/step - loss: 0.1516 - mse: 0.1516 - val_loss: 0.1725 - val_mse: 0.1725 - lr: 1.9192e-04\n",
      "Epoch 42/100\n",
      "1417/1417 [==============================] - ETA: 0s - loss: 0.1501 - mse: 0.1501"
     ]
    },
    {
     "name": "stderr",
     "output_type": "stream",
     "text": [
      "WARNING:absl:Found untraced functions such as activation_layer_call_fn, activation_layer_call_and_return_conditional_losses, activation_1_layer_call_fn, activation_1_layer_call_and_return_conditional_losses, activation_2_layer_call_fn while saving (showing 5 of 12). These functions will not be directly callable after loading.\n"
     ]
    },
    {
     "name": "stdout",
     "output_type": "stream",
     "text": [
      "INFO:tensorflow:Assets written to: C:\\Users\\ucesvpm\\OneDrive - University College London\\PhD Project\\Data Analytics\\Time Series Clustering\\Third Test\\Time-Series-PhD\\wandb\\run-20230227_140830-sea5y4vl\\files\\model-best\\assets\n"
     ]
    },
    {
     "name": "stderr",
     "output_type": "stream",
     "text": [
      "INFO:tensorflow:Assets written to: C:\\Users\\ucesvpm\\OneDrive - University College London\\PhD Project\\Data Analytics\\Time Series Clustering\\Third Test\\Time-Series-PhD\\wandb\\run-20230227_140830-sea5y4vl\\files\\model-best\\assets\n",
      "\u001b[34m\u001b[1mwandb\u001b[0m: Adding directory to artifact (C:\\Users\\ucesvpm\\OneDrive - University College London\\PhD Project\\Data Analytics\\Time Series Clustering\\Third Test\\Time-Series-PhD\\wandb\\run-20230227_140830-sea5y4vl\\files\\model-best)... Done. 1.2s\n"
     ]
    },
    {
     "name": "stdout",
     "output_type": "stream",
     "text": [
      "1417/1417 [==============================] - 39s 28ms/step - loss: 0.1501 - mse: 0.1501 - val_loss: 0.1715 - val_mse: 0.1715 - lr: 1.9192e-04\n",
      "Epoch 43/100\n",
      "1414/1417 [============================>.] - ETA: 0s - loss: 0.1487 - mse: 0.1487"
     ]
    },
    {
     "name": "stderr",
     "output_type": "stream",
     "text": [
      "WARNING:absl:Found untraced functions such as activation_layer_call_fn, activation_layer_call_and_return_conditional_losses, activation_1_layer_call_fn, activation_1_layer_call_and_return_conditional_losses, activation_2_layer_call_fn while saving (showing 5 of 12). These functions will not be directly callable after loading.\n"
     ]
    },
    {
     "name": "stdout",
     "output_type": "stream",
     "text": [
      "INFO:tensorflow:Assets written to: C:\\Users\\ucesvpm\\OneDrive - University College London\\PhD Project\\Data Analytics\\Time Series Clustering\\Third Test\\Time-Series-PhD\\wandb\\run-20230227_140830-sea5y4vl\\files\\model-best\\assets\n"
     ]
    },
    {
     "name": "stderr",
     "output_type": "stream",
     "text": [
      "INFO:tensorflow:Assets written to: C:\\Users\\ucesvpm\\OneDrive - University College London\\PhD Project\\Data Analytics\\Time Series Clustering\\Third Test\\Time-Series-PhD\\wandb\\run-20230227_140830-sea5y4vl\\files\\model-best\\assets\n",
      "\u001b[34m\u001b[1mwandb\u001b[0m: Adding directory to artifact (C:\\Users\\ucesvpm\\OneDrive - University College London\\PhD Project\\Data Analytics\\Time Series Clustering\\Third Test\\Time-Series-PhD\\wandb\\run-20230227_140830-sea5y4vl\\files\\model-best)... Done. 0.2s\n"
     ]
    },
    {
     "name": "stdout",
     "output_type": "stream",
     "text": [
      "1417/1417 [==============================] - 34s 24ms/step - loss: 0.1487 - mse: 0.1487 - val_loss: 0.1712 - val_mse: 0.1712 - lr: 1.9192e-04\n",
      "Epoch 44/100\n",
      "1416/1417 [============================>.] - ETA: 0s - loss: 0.1474 - mse: 0.1474"
     ]
    },
    {
     "name": "stderr",
     "output_type": "stream",
     "text": [
      "WARNING:absl:Found untraced functions such as activation_layer_call_fn, activation_layer_call_and_return_conditional_losses, activation_1_layer_call_fn, activation_1_layer_call_and_return_conditional_losses, activation_2_layer_call_fn while saving (showing 5 of 12). These functions will not be directly callable after loading.\n"
     ]
    },
    {
     "name": "stdout",
     "output_type": "stream",
     "text": [
      "INFO:tensorflow:Assets written to: C:\\Users\\ucesvpm\\OneDrive - University College London\\PhD Project\\Data Analytics\\Time Series Clustering\\Third Test\\Time-Series-PhD\\wandb\\run-20230227_140830-sea5y4vl\\files\\model-best\\assets\n"
     ]
    },
    {
     "name": "stderr",
     "output_type": "stream",
     "text": [
      "INFO:tensorflow:Assets written to: C:\\Users\\ucesvpm\\OneDrive - University College London\\PhD Project\\Data Analytics\\Time Series Clustering\\Third Test\\Time-Series-PhD\\wandb\\run-20230227_140830-sea5y4vl\\files\\model-best\\assets\n",
      "\u001b[34m\u001b[1mwandb\u001b[0m: Adding directory to artifact (C:\\Users\\ucesvpm\\OneDrive - University College London\\PhD Project\\Data Analytics\\Time Series Clustering\\Third Test\\Time-Series-PhD\\wandb\\run-20230227_140830-sea5y4vl\\files\\model-best)... Done. 0.3s\n"
     ]
    },
    {
     "name": "stdout",
     "output_type": "stream",
     "text": [
      "1417/1417 [==============================] - 32s 23ms/step - loss: 0.1474 - mse: 0.1474 - val_loss: 0.1701 - val_mse: 0.1701 - lr: 1.9192e-04\n",
      "Epoch 45/100\n",
      "1417/1417 [==============================] - ETA: 0s - loss: 0.1460 - mse: 0.1460"
     ]
    },
    {
     "name": "stderr",
     "output_type": "stream",
     "text": [
      "WARNING:absl:Found untraced functions such as activation_layer_call_fn, activation_layer_call_and_return_conditional_losses, activation_1_layer_call_fn, activation_1_layer_call_and_return_conditional_losses, activation_2_layer_call_fn while saving (showing 5 of 12). These functions will not be directly callable after loading.\n"
     ]
    },
    {
     "name": "stdout",
     "output_type": "stream",
     "text": [
      "INFO:tensorflow:Assets written to: C:\\Users\\ucesvpm\\OneDrive - University College London\\PhD Project\\Data Analytics\\Time Series Clustering\\Third Test\\Time-Series-PhD\\wandb\\run-20230227_140830-sea5y4vl\\files\\model-best\\assets\n"
     ]
    },
    {
     "name": "stderr",
     "output_type": "stream",
     "text": [
      "INFO:tensorflow:Assets written to: C:\\Users\\ucesvpm\\OneDrive - University College London\\PhD Project\\Data Analytics\\Time Series Clustering\\Third Test\\Time-Series-PhD\\wandb\\run-20230227_140830-sea5y4vl\\files\\model-best\\assets\n",
      "\u001b[34m\u001b[1mwandb\u001b[0m: Adding directory to artifact (C:\\Users\\ucesvpm\\OneDrive - University College London\\PhD Project\\Data Analytics\\Time Series Clustering\\Third Test\\Time-Series-PhD\\wandb\\run-20230227_140830-sea5y4vl\\files\\model-best)... Done. 0.3s\n"
     ]
    },
    {
     "name": "stdout",
     "output_type": "stream",
     "text": [
      "1417/1417 [==============================] - 31s 22ms/step - loss: 0.1460 - mse: 0.1460 - val_loss: 0.1687 - val_mse: 0.1687 - lr: 1.9192e-04\n",
      "Epoch 46/100\n",
      "1417/1417 [==============================] - ETA: 0s - loss: 0.1447 - mse: 0.1447"
     ]
    },
    {
     "name": "stderr",
     "output_type": "stream",
     "text": [
      "WARNING:absl:Found untraced functions such as activation_layer_call_fn, activation_layer_call_and_return_conditional_losses, activation_1_layer_call_fn, activation_1_layer_call_and_return_conditional_losses, activation_2_layer_call_fn while saving (showing 5 of 12). These functions will not be directly callable after loading.\n"
     ]
    },
    {
     "name": "stdout",
     "output_type": "stream",
     "text": [
      "INFO:tensorflow:Assets written to: C:\\Users\\ucesvpm\\OneDrive - University College London\\PhD Project\\Data Analytics\\Time Series Clustering\\Third Test\\Time-Series-PhD\\wandb\\run-20230227_140830-sea5y4vl\\files\\model-best\\assets\n"
     ]
    },
    {
     "name": "stderr",
     "output_type": "stream",
     "text": [
      "INFO:tensorflow:Assets written to: C:\\Users\\ucesvpm\\OneDrive - University College London\\PhD Project\\Data Analytics\\Time Series Clustering\\Third Test\\Time-Series-PhD\\wandb\\run-20230227_140830-sea5y4vl\\files\\model-best\\assets\n",
      "\u001b[34m\u001b[1mwandb\u001b[0m: Adding directory to artifact (C:\\Users\\ucesvpm\\OneDrive - University College London\\PhD Project\\Data Analytics\\Time Series Clustering\\Third Test\\Time-Series-PhD\\wandb\\run-20230227_140830-sea5y4vl\\files\\model-best)... Done. 0.3s\n"
     ]
    },
    {
     "name": "stdout",
     "output_type": "stream",
     "text": [
      "1417/1417 [==============================] - 31s 22ms/step - loss: 0.1447 - mse: 0.1447 - val_loss: 0.1686 - val_mse: 0.1686 - lr: 1.9192e-04\n",
      "Epoch 47/100\n",
      "1415/1417 [============================>.] - ETA: 0s - loss: 0.1435 - mse: 0.1435"
     ]
    },
    {
     "name": "stderr",
     "output_type": "stream",
     "text": [
      "WARNING:absl:Found untraced functions such as activation_layer_call_fn, activation_layer_call_and_return_conditional_losses, activation_1_layer_call_fn, activation_1_layer_call_and_return_conditional_losses, activation_2_layer_call_fn while saving (showing 5 of 12). These functions will not be directly callable after loading.\n"
     ]
    },
    {
     "name": "stdout",
     "output_type": "stream",
     "text": [
      "INFO:tensorflow:Assets written to: C:\\Users\\ucesvpm\\OneDrive - University College London\\PhD Project\\Data Analytics\\Time Series Clustering\\Third Test\\Time-Series-PhD\\wandb\\run-20230227_140830-sea5y4vl\\files\\model-best\\assets\n"
     ]
    },
    {
     "name": "stderr",
     "output_type": "stream",
     "text": [
      "INFO:tensorflow:Assets written to: C:\\Users\\ucesvpm\\OneDrive - University College London\\PhD Project\\Data Analytics\\Time Series Clustering\\Third Test\\Time-Series-PhD\\wandb\\run-20230227_140830-sea5y4vl\\files\\model-best\\assets\n",
      "\u001b[34m\u001b[1mwandb\u001b[0m: Adding directory to artifact (C:\\Users\\ucesvpm\\OneDrive - University College London\\PhD Project\\Data Analytics\\Time Series Clustering\\Third Test\\Time-Series-PhD\\wandb\\run-20230227_140830-sea5y4vl\\files\\model-best)... Done. 0.3s\n"
     ]
    },
    {
     "name": "stdout",
     "output_type": "stream",
     "text": [
      "1417/1417 [==============================] - 32s 23ms/step - loss: 0.1435 - mse: 0.1435 - val_loss: 0.1679 - val_mse: 0.1679 - lr: 1.9192e-04\n",
      "Epoch 48/100\n",
      "1415/1417 [============================>.] - ETA: 0s - loss: 0.1422 - mse: 0.1422"
     ]
    },
    {
     "name": "stderr",
     "output_type": "stream",
     "text": [
      "WARNING:absl:Found untraced functions such as activation_layer_call_fn, activation_layer_call_and_return_conditional_losses, activation_1_layer_call_fn, activation_1_layer_call_and_return_conditional_losses, activation_2_layer_call_fn while saving (showing 5 of 12). These functions will not be directly callable after loading.\n"
     ]
    },
    {
     "name": "stdout",
     "output_type": "stream",
     "text": [
      "INFO:tensorflow:Assets written to: C:\\Users\\ucesvpm\\OneDrive - University College London\\PhD Project\\Data Analytics\\Time Series Clustering\\Third Test\\Time-Series-PhD\\wandb\\run-20230227_140830-sea5y4vl\\files\\model-best\\assets\n"
     ]
    },
    {
     "name": "stderr",
     "output_type": "stream",
     "text": [
      "INFO:tensorflow:Assets written to: C:\\Users\\ucesvpm\\OneDrive - University College London\\PhD Project\\Data Analytics\\Time Series Clustering\\Third Test\\Time-Series-PhD\\wandb\\run-20230227_140830-sea5y4vl\\files\\model-best\\assets\n",
      "\u001b[34m\u001b[1mwandb\u001b[0m: Adding directory to artifact (C:\\Users\\ucesvpm\\OneDrive - University College London\\PhD Project\\Data Analytics\\Time Series Clustering\\Third Test\\Time-Series-PhD\\wandb\\run-20230227_140830-sea5y4vl\\files\\model-best)... Done. 0.3s\n"
     ]
    },
    {
     "name": "stdout",
     "output_type": "stream",
     "text": [
      "1417/1417 [==============================] - 32s 22ms/step - loss: 0.1422 - mse: 0.1422 - val_loss: 0.1672 - val_mse: 0.1672 - lr: 1.9192e-04\n",
      "Epoch 49/100\n",
      "1417/1417 [==============================] - 29s 20ms/step - loss: 0.1303 - mse: 0.1303 - val_loss: 0.1639 - val_mse: 0.1639 - lr: 1.9192e-04\n",
      "Epoch 60/100\n",
      "1415/1417 [============================>.] - ETA: 0s - loss: 0.1294 - mse: 0.1294"
     ]
    },
    {
     "name": "stderr",
     "output_type": "stream",
     "text": [
      "WARNING:absl:Found untraced functions such as activation_layer_call_fn, activation_layer_call_and_return_conditional_losses, activation_1_layer_call_fn, activation_1_layer_call_and_return_conditional_losses, activation_2_layer_call_fn while saving (showing 5 of 12). These functions will not be directly callable after loading.\n"
     ]
    },
    {
     "name": "stdout",
     "output_type": "stream",
     "text": [
      "INFO:tensorflow:Assets written to: C:\\Users\\ucesvpm\\OneDrive - University College London\\PhD Project\\Data Analytics\\Time Series Clustering\\Third Test\\Time-Series-PhD\\wandb\\run-20230227_140830-sea5y4vl\\files\\model-best\\assets\n"
     ]
    },
    {
     "name": "stderr",
     "output_type": "stream",
     "text": [
      "INFO:tensorflow:Assets written to: C:\\Users\\ucesvpm\\OneDrive - University College London\\PhD Project\\Data Analytics\\Time Series Clustering\\Third Test\\Time-Series-PhD\\wandb\\run-20230227_140830-sea5y4vl\\files\\model-best\\assets\n",
      "\u001b[34m\u001b[1mwandb\u001b[0m: Adding directory to artifact (C:\\Users\\ucesvpm\\OneDrive - University College London\\PhD Project\\Data Analytics\\Time Series Clustering\\Third Test\\Time-Series-PhD\\wandb\\run-20230227_140830-sea5y4vl\\files\\model-best)... Done. 0.3s\n"
     ]
    },
    {
     "name": "stdout",
     "output_type": "stream",
     "text": [
      "1417/1417 [==============================] - 31s 22ms/step - loss: 0.1293 - mse: 0.1293 - val_loss: 0.1630 - val_mse: 0.1630 - lr: 1.9192e-04\n",
      "Epoch 61/100\n",
      "1417/1417 [==============================] - 33s 23ms/step - loss: 0.1283 - mse: 0.1283 - val_loss: 0.1636 - val_mse: 0.1636 - lr: 1.9192e-04\n",
      "Epoch 62/100\n",
      "1415/1417 [============================>.] - ETA: 0s - loss: 0.1275 - mse: 0.1275"
     ]
    },
    {
     "name": "stderr",
     "output_type": "stream",
     "text": [
      "WARNING:absl:Found untraced functions such as activation_layer_call_fn, activation_layer_call_and_return_conditional_losses, activation_1_layer_call_fn, activation_1_layer_call_and_return_conditional_losses, activation_2_layer_call_fn while saving (showing 5 of 12). These functions will not be directly callable after loading.\n"
     ]
    },
    {
     "name": "stdout",
     "output_type": "stream",
     "text": [
      "INFO:tensorflow:Assets written to: C:\\Users\\ucesvpm\\OneDrive - University College London\\PhD Project\\Data Analytics\\Time Series Clustering\\Third Test\\Time-Series-PhD\\wandb\\run-20230227_140830-sea5y4vl\\files\\model-best\\assets\n"
     ]
    },
    {
     "name": "stderr",
     "output_type": "stream",
     "text": [
      "INFO:tensorflow:Assets written to: C:\\Users\\ucesvpm\\OneDrive - University College London\\PhD Project\\Data Analytics\\Time Series Clustering\\Third Test\\Time-Series-PhD\\wandb\\run-20230227_140830-sea5y4vl\\files\\model-best\\assets\n",
      "\u001b[34m\u001b[1mwandb\u001b[0m: Adding directory to artifact (C:\\Users\\ucesvpm\\OneDrive - University College London\\PhD Project\\Data Analytics\\Time Series Clustering\\Third Test\\Time-Series-PhD\\wandb\\run-20230227_140830-sea5y4vl\\files\\model-best)... Done. 0.3s\n"
     ]
    },
    {
     "name": "stdout",
     "output_type": "stream",
     "text": [
      "1417/1417 [==============================] - 33s 23ms/step - loss: 0.1275 - mse: 0.1275 - val_loss: 0.1629 - val_mse: 0.1629 - lr: 1.9192e-04\n",
      "Epoch 63/100\n",
      "1417/1417 [==============================] - 28s 20ms/step - loss: 0.1266 - mse: 0.1266 - val_loss: 0.1634 - val_mse: 0.1634 - lr: 1.9192e-04\n",
      "Epoch 64/100\n",
      "1417/1417 [==============================] - 33s 23ms/step - loss: 0.1250 - mse: 0.1250 - val_loss: 0.1632 - val_mse: 0.1632 - lr: 1.9192e-04\n",
      "Epoch 66/100\n",
      "1415/1417 [============================>.] - ETA: 0s - loss: 0.1241 - mse: 0.1241"
     ]
    },
    {
     "name": "stderr",
     "output_type": "stream",
     "text": [
      "WARNING:absl:Found untraced functions such as activation_layer_call_fn, activation_layer_call_and_return_conditional_losses, activation_1_layer_call_fn, activation_1_layer_call_and_return_conditional_losses, activation_2_layer_call_fn while saving (showing 5 of 12). These functions will not be directly callable after loading.\n"
     ]
    },
    {
     "name": "stdout",
     "output_type": "stream",
     "text": [
      "INFO:tensorflow:Assets written to: C:\\Users\\ucesvpm\\OneDrive - University College London\\PhD Project\\Data Analytics\\Time Series Clustering\\Third Test\\Time-Series-PhD\\wandb\\run-20230227_140830-sea5y4vl\\files\\model-best\\assets\n"
     ]
    },
    {
     "name": "stderr",
     "output_type": "stream",
     "text": [
      "INFO:tensorflow:Assets written to: C:\\Users\\ucesvpm\\OneDrive - University College London\\PhD Project\\Data Analytics\\Time Series Clustering\\Third Test\\Time-Series-PhD\\wandb\\run-20230227_140830-sea5y4vl\\files\\model-best\\assets\n",
      "\u001b[34m\u001b[1mwandb\u001b[0m: Adding directory to artifact (C:\\Users\\ucesvpm\\OneDrive - University College London\\PhD Project\\Data Analytics\\Time Series Clustering\\Third Test\\Time-Series-PhD\\wandb\\run-20230227_140830-sea5y4vl\\files\\model-best)... Done. 0.3s\n"
     ]
    },
    {
     "name": "stdout",
     "output_type": "stream",
     "text": [
      "1417/1417 [==============================] - 35s 25ms/step - loss: 0.1241 - mse: 0.1241 - val_loss: 0.1622 - val_mse: 0.1622 - lr: 1.9192e-04\n",
      "Epoch 67/100\n",
      "1417/1417 [==============================] - 31s 22ms/step - loss: 0.1233 - mse: 0.1233 - val_loss: 0.1624 - val_mse: 0.1624 - lr: 1.9192e-04\n",
      "Epoch 68/100\n",
      "1416/1417 [============================>.] - ETA: 0s - loss: 0.1225 - mse: 0.1225"
     ]
    },
    {
     "name": "stderr",
     "output_type": "stream",
     "text": [
      "WARNING:absl:Found untraced functions such as activation_layer_call_fn, activation_layer_call_and_return_conditional_losses, activation_1_layer_call_fn, activation_1_layer_call_and_return_conditional_losses, activation_2_layer_call_fn while saving (showing 5 of 12). These functions will not be directly callable after loading.\n"
     ]
    },
    {
     "name": "stdout",
     "output_type": "stream",
     "text": [
      "INFO:tensorflow:Assets written to: C:\\Users\\ucesvpm\\OneDrive - University College London\\PhD Project\\Data Analytics\\Time Series Clustering\\Third Test\\Time-Series-PhD\\wandb\\run-20230227_140830-sea5y4vl\\files\\model-best\\assets\n"
     ]
    },
    {
     "name": "stderr",
     "output_type": "stream",
     "text": [
      "INFO:tensorflow:Assets written to: C:\\Users\\ucesvpm\\OneDrive - University College London\\PhD Project\\Data Analytics\\Time Series Clustering\\Third Test\\Time-Series-PhD\\wandb\\run-20230227_140830-sea5y4vl\\files\\model-best\\assets\n",
      "\u001b[34m\u001b[1mwandb\u001b[0m: Adding directory to artifact (C:\\Users\\ucesvpm\\OneDrive - University College London\\PhD Project\\Data Analytics\\Time Series Clustering\\Third Test\\Time-Series-PhD\\wandb\\run-20230227_140830-sea5y4vl\\files\\model-best)... Done. 0.2s\n"
     ]
    },
    {
     "name": "stdout",
     "output_type": "stream",
     "text": [
      "1417/1417 [==============================] - 31s 22ms/step - loss: 0.1225 - mse: 0.1225 - val_loss: 0.1621 - val_mse: 0.1621 - lr: 1.9192e-04\n",
      "Epoch 69/100\n",
      "1417/1417 [==============================] - 30s 21ms/step - loss: 0.1217 - mse: 0.1217 - val_loss: 0.1622 - val_mse: 0.1622 - lr: 1.9192e-04\n",
      "Epoch 70/100\n",
      "1417/1417 [==============================] - 33s 23ms/step - loss: 0.1210 - mse: 0.1210 - val_loss: 0.1625 - val_mse: 0.1625 - lr: 1.9192e-04\n",
      "Epoch 71/100\n",
      "1417/1417 [==============================] - 31s 22ms/step - loss: 0.1202 - mse: 0.1202 - val_loss: 0.1633 - val_mse: 0.1633 - lr: 1.9192e-04\n",
      "Epoch 72/100\n",
      " 343/1417 [======>.......................] - ETA: 19s - loss: 0.1088 - mse: 0.1088"
     ]
    },
    {
     "name": "stderr",
     "output_type": "stream",
     "text": [
      "IOPub message rate exceeded.\n",
      "The Jupyter server will temporarily stop sending output\n",
      "to the client in order to avoid crashing it.\n",
      "To change this limit, set the config variable\n",
      "`--ServerApp.iopub_msg_rate_limit`.\n",
      "\n",
      "Current values:\n",
      "ServerApp.iopub_msg_rate_limit=1000.0 (msgs/sec)\n",
      "ServerApp.rate_limit_window=3.0 (secs)\n",
      "\n"
     ]
    },
    {
     "name": "stdout",
     "output_type": "stream",
     "text": [
      "1417/1417 [==============================] - 33s 23ms/step - loss: 0.0936 - mse: 0.0936 - val_loss: 0.1542 - val_mse: 0.1542 - lr: 2.3990e-05\n",
      "Epoch 86/100\n",
      "1417/1417 [==============================] - 34s 24ms/step - loss: 0.0934 - mse: 0.0934 - val_loss: 0.1544 - val_mse: 0.1544 - lr: 2.3990e-05\n",
      "Epoch 87/100\n",
      "1417/1417 [==============================] - 32s 23ms/step - loss: 0.0932 - mse: 0.0932 - val_loss: 0.1546 - val_mse: 0.1546 - lr: 2.3990e-05\n",
      "Epoch 88/100\n",
      "1417/1417 [==============================] - 34s 24ms/step - loss: 0.0930 - mse: 0.0930 - val_loss: 0.1548 - val_mse: 0.1548 - lr: 2.3990e-05\n"
     ]
    },
    {
     "data": {
      "text/html": [
       "Waiting for W&B process to finish... <strong style=\"color:green\">(success).</strong>"
      ],
      "text/plain": [
       "<IPython.core.display.HTML object>"
      ]
     },
     "metadata": {},
     "output_type": "display_data"
    },
    {
     "data": {
      "text/html": [
       "<style>\n",
       "    table.wandb td:nth-child(1) { padding: 0 10px; text-align: left ; width: auto;} td:nth-child(2) {text-align: left ; width: 100%}\n",
       "    .wandb-row { display: flex; flex-direction: row; flex-wrap: wrap; justify-content: flex-start; width: 100% }\n",
       "    .wandb-col { display: flex; flex-direction: column; flex-basis: 100%; flex: 1; padding: 10px; }\n",
       "    </style>\n",
       "<div class=\"wandb-row\"><div class=\"wandb-col\"><h3>Run history:</h3><br/><table class=\"wandb\"><tr><td>epoch</td><td>▁▁▁▁▂▂▂▂▂▃▃▃▃▃▃▄▄▄▄▄▅▅▅▅▅▅▆▆▆▆▆▇▇▇▇▇▇███</td></tr><tr><td>loss</td><td>█▆▅▅▅▄▄▄▄▄▃▃▃▃▃▃▃▃▃▂▂▂▂▂▂▂▂▂▂▂▂▂▁▁▁▁▁▁▁▁</td></tr><tr><td>mse</td><td>█▆▅▅▅▄▄▄▄▄▃▃▃▃▃▃▃▃▃▂▂▂▂▂▂▂▂▂▂▂▂▂▁▁▁▁▁▁▁▁</td></tr><tr><td>val_loss</td><td>█▆▆▅▅▄▄▄▄▃▃▃▃▂▂▂▂▂▂▂▂▂▂▂▂▁▁▁▁▁▁▁▁▁▁▁▁▁▁▁</td></tr><tr><td>val_mse</td><td>█▆▆▅▅▄▄▄▄▃▃▃▃▂▂▂▂▂▂▂▂▂▂▂▂▁▁▁▁▁▁▁▁▁▁▁▁▁▁▁</td></tr></table><br/></div><div class=\"wandb-col\"><h3>Run summary:</h3><br/><table class=\"wandb\"><tr><td>best_epoch</td><td>77</td></tr><tr><td>best_val_loss</td><td>0.15396</td></tr><tr><td>epoch</td><td>87</td></tr><tr><td>loss</td><td>0.09298</td></tr><tr><td>mse</td><td>0.09298</td></tr><tr><td>val_loss</td><td>0.15482</td></tr><tr><td>val_mse</td><td>0.15482</td></tr></table><br/></div></div>"
      ],
      "text/plain": [
       "<IPython.core.display.HTML object>"
      ]
     },
     "metadata": {},
     "output_type": "display_data"
    },
    {
     "data": {
      "text/html": [
       "Synced <strong style=\"color:#cdcd00\">ancient-sweep-3</strong>: <a href=\"https://wandb.ai/vasco-phd/FC_AE-Kenya_10k_Set_1_w90/runs/sea5y4vl\" target=\"_blank\">https://wandb.ai/vasco-phd/FC_AE-Kenya_10k_Set_1_w90/runs/sea5y4vl</a><br/>Synced 6 W&B file(s), 1 media file(s), 183 artifact file(s) and 1 other file(s)"
      ],
      "text/plain": [
       "<IPython.core.display.HTML object>"
      ]
     },
     "metadata": {},
     "output_type": "display_data"
    },
    {
     "data": {
      "text/html": [
       "Find logs at: <code>.\\wandb\\run-20230227_140830-sea5y4vl\\logs</code>"
      ],
      "text/plain": [
       "<IPython.core.display.HTML object>"
      ]
     },
     "metadata": {},
     "output_type": "display_data"
    },
    {
     "name": "stderr",
     "output_type": "stream",
     "text": [
      "\u001b[34m\u001b[1mwandb\u001b[0m: Agent Starting Run: cokdvgo2 with config:\n",
      "\u001b[34m\u001b[1mwandb\u001b[0m: \tactivation_fn: LeakyReLU\n",
      "\u001b[34m\u001b[1mwandb\u001b[0m: \tbatch_size: 192\n",
      "\u001b[34m\u001b[1mwandb\u001b[0m: \tepochs: 100\n",
      "\u001b[34m\u001b[1mwandb\u001b[0m: \tlatent_layer_size: 25\n",
      "\u001b[34m\u001b[1mwandb\u001b[0m: \tlearning_rate: 7.050073986588743e-05\n",
      "\u001b[34m\u001b[1mwandb\u001b[0m: \toptimizer: nadam\n",
      "\u001b[34m\u001b[1mwandb\u001b[0m: \twindow_length: 90\n"
     ]
    },
    {
     "data": {
      "text/html": [
       "wandb version 0.13.10 is available!  To upgrade, please run:\n",
       " $ pip install wandb --upgrade"
      ],
      "text/plain": [
       "<IPython.core.display.HTML object>"
      ]
     },
     "metadata": {},
     "output_type": "display_data"
    },
    {
     "data": {
      "text/html": [
       "Tracking run with wandb version 0.13.6"
      ],
      "text/plain": [
       "<IPython.core.display.HTML object>"
      ]
     },
     "metadata": {},
     "output_type": "display_data"
    },
    {
     "data": {
      "text/html": [
       "Run data is saved locally in <code>C:\\Users\\ucesvpm\\OneDrive - University College London\\PhD Project\\Data Analytics\\Time Series Clustering\\Third Test\\Time-Series-PhD\\wandb\\run-20230227_145645-cokdvgo2</code>"
      ],
      "text/plain": [
       "<IPython.core.display.HTML object>"
      ]
     },
     "metadata": {},
     "output_type": "display_data"
    },
    {
     "data": {
      "text/html": [
       "Syncing run <strong><a href=\"https://wandb.ai/vasco-phd/FC_AE-Kenya_10k_Set_1_w90/runs/cokdvgo2\" target=\"_blank\">serene-sweep-4</a></strong> to <a href=\"https://wandb.ai/vasco-phd/FC_AE-Kenya_10k_Set_1_w90\" target=\"_blank\">Weights & Biases</a> (<a href=\"https://wandb.me/run\" target=\"_blank\">docs</a>)<br/>Sweep page:  <a href=\"https://wandb.ai/vasco-phd/FC_AE-Kenya_10k_Set_1_w90/sweeps/wzqhgcrr\" target=\"_blank\">https://wandb.ai/vasco-phd/FC_AE-Kenya_10k_Set_1_w90/sweeps/wzqhgcrr</a>"
      ],
      "text/plain": [
       "<IPython.core.display.HTML object>"
      ]
     },
     "metadata": {},
     "output_type": "display_data"
    },
    {
     "name": "stdout",
     "output_type": "stream",
     "text": [
      "Epoch 1/100\n",
      "368/369 [============================>.] - ETA: 0s - loss: 0.2944 - mse: 0.2944"
     ]
    },
    {
     "name": "stderr",
     "output_type": "stream",
     "text": [
      "WARNING:absl:Found untraced functions such as leaky_re_lu_layer_call_fn, leaky_re_lu_layer_call_and_return_conditional_losses, leaky_re_lu_1_layer_call_fn, leaky_re_lu_1_layer_call_and_return_conditional_losses, leaky_re_lu_2_layer_call_fn while saving (showing 5 of 12). These functions will not be directly callable after loading.\n"
     ]
    },
    {
     "name": "stdout",
     "output_type": "stream",
     "text": [
      "INFO:tensorflow:Assets written to: C:\\Users\\ucesvpm\\OneDrive - University College London\\PhD Project\\Data Analytics\\Time Series Clustering\\Third Test\\Time-Series-PhD\\wandb\\run-20230227_145645-cokdvgo2\\files\\model-best\\assets\n"
     ]
    },
    {
     "name": "stderr",
     "output_type": "stream",
     "text": [
      "INFO:tensorflow:Assets written to: C:\\Users\\ucesvpm\\OneDrive - University College London\\PhD Project\\Data Analytics\\Time Series Clustering\\Third Test\\Time-Series-PhD\\wandb\\run-20230227_145645-cokdvgo2\\files\\model-best\\assets\n",
      "\u001b[34m\u001b[1mwandb\u001b[0m: Adding directory to artifact (C:\\Users\\ucesvpm\\OneDrive - University College London\\PhD Project\\Data Analytics\\Time Series Clustering\\Third Test\\Time-Series-PhD\\wandb\\run-20230227_145645-cokdvgo2\\files\\model-best)... Done. 1.0s\n"
     ]
    },
    {
     "name": "stdout",
     "output_type": "stream",
     "text": [
      "369/369 [==============================] - 16s 43ms/step - loss: 0.2944 - mse: 0.2944 - val_loss: 0.2951 - val_mse: 0.2951 - lr: 7.0501e-05\n",
      "Epoch 7/100\n",
      "369/369 [==============================] - ETA: 0s - loss: 0.2872 - mse: 0.2872"
     ]
    },
    {
     "name": "stderr",
     "output_type": "stream",
     "text": [
      "WARNING:absl:Found untraced functions such as leaky_re_lu_layer_call_fn, leaky_re_lu_layer_call_and_return_conditional_losses, leaky_re_lu_1_layer_call_fn, leaky_re_lu_1_layer_call_and_return_conditional_losses, leaky_re_lu_2_layer_call_fn while saving (showing 5 of 12). These functions will not be directly callable after loading.\n"
     ]
    },
    {
     "name": "stdout",
     "output_type": "stream",
     "text": [
      "INFO:tensorflow:Assets written to: C:\\Users\\ucesvpm\\OneDrive - University College London\\PhD Project\\Data Analytics\\Time Series Clustering\\Third Test\\Time-Series-PhD\\wandb\\run-20230227_145645-cokdvgo2\\files\\model-best\\assets\n"
     ]
    },
    {
     "name": "stderr",
     "output_type": "stream",
     "text": [
      "INFO:tensorflow:Assets written to: C:\\Users\\ucesvpm\\OneDrive - University College London\\PhD Project\\Data Analytics\\Time Series Clustering\\Third Test\\Time-Series-PhD\\wandb\\run-20230227_145645-cokdvgo2\\files\\model-best\\assets\n",
      "\u001b[34m\u001b[1mwandb\u001b[0m: Adding directory to artifact (C:\\Users\\ucesvpm\\OneDrive - University College London\\PhD Project\\Data Analytics\\Time Series Clustering\\Third Test\\Time-Series-PhD\\wandb\\run-20230227_145645-cokdvgo2\\files\\model-best)... Done. 0.2s\n"
     ]
    },
    {
     "name": "stdout",
     "output_type": "stream",
     "text": [
      "369/369 [==============================] - 16s 45ms/step - loss: 0.2872 - mse: 0.2872 - val_loss: 0.2925 - val_mse: 0.2925 - lr: 7.0501e-05\n",
      "Epoch 8/100\n",
      "368/369 [============================>.] - ETA: 0s - loss: 0.2813 - mse: 0.2813"
     ]
    },
    {
     "name": "stderr",
     "output_type": "stream",
     "text": [
      "WARNING:absl:Found untraced functions such as leaky_re_lu_layer_call_fn, leaky_re_lu_layer_call_and_return_conditional_losses, leaky_re_lu_1_layer_call_fn, leaky_re_lu_1_layer_call_and_return_conditional_losses, leaky_re_lu_2_layer_call_fn while saving (showing 5 of 12). These functions will not be directly callable after loading.\n"
     ]
    },
    {
     "name": "stdout",
     "output_type": "stream",
     "text": [
      "INFO:tensorflow:Assets written to: C:\\Users\\ucesvpm\\OneDrive - University College London\\PhD Project\\Data Analytics\\Time Series Clustering\\Third Test\\Time-Series-PhD\\wandb\\run-20230227_145645-cokdvgo2\\files\\model-best\\assets\n"
     ]
    },
    {
     "name": "stderr",
     "output_type": "stream",
     "text": [
      "INFO:tensorflow:Assets written to: C:\\Users\\ucesvpm\\OneDrive - University College London\\PhD Project\\Data Analytics\\Time Series Clustering\\Third Test\\Time-Series-PhD\\wandb\\run-20230227_145645-cokdvgo2\\files\\model-best\\assets\n",
      "\u001b[34m\u001b[1mwandb\u001b[0m: Adding directory to artifact (C:\\Users\\ucesvpm\\OneDrive - University College London\\PhD Project\\Data Analytics\\Time Series Clustering\\Third Test\\Time-Series-PhD\\wandb\\run-20230227_145645-cokdvgo2\\files\\model-best)... Done. 0.2s\n"
     ]
    },
    {
     "name": "stdout",
     "output_type": "stream",
     "text": [
      "369/369 [==============================] - 16s 44ms/step - loss: 0.2812 - mse: 0.2812 - val_loss: 0.2838 - val_mse: 0.2838 - lr: 7.0501e-05\n",
      "Epoch 9/100\n",
      "368/369 [============================>.] - ETA: 0s - loss: 0.2761 - mse: 0.2761"
     ]
    },
    {
     "name": "stderr",
     "output_type": "stream",
     "text": [
      "WARNING:absl:Found untraced functions such as leaky_re_lu_layer_call_fn, leaky_re_lu_layer_call_and_return_conditional_losses, leaky_re_lu_1_layer_call_fn, leaky_re_lu_1_layer_call_and_return_conditional_losses, leaky_re_lu_2_layer_call_fn while saving (showing 5 of 12). These functions will not be directly callable after loading.\n"
     ]
    },
    {
     "name": "stdout",
     "output_type": "stream",
     "text": [
      "INFO:tensorflow:Assets written to: C:\\Users\\ucesvpm\\OneDrive - University College London\\PhD Project\\Data Analytics\\Time Series Clustering\\Third Test\\Time-Series-PhD\\wandb\\run-20230227_145645-cokdvgo2\\files\\model-best\\assets\n"
     ]
    },
    {
     "name": "stderr",
     "output_type": "stream",
     "text": [
      "INFO:tensorflow:Assets written to: C:\\Users\\ucesvpm\\OneDrive - University College London\\PhD Project\\Data Analytics\\Time Series Clustering\\Third Test\\Time-Series-PhD\\wandb\\run-20230227_145645-cokdvgo2\\files\\model-best\\assets\n",
      "\u001b[34m\u001b[1mwandb\u001b[0m: Adding directory to artifact (C:\\Users\\ucesvpm\\OneDrive - University College London\\PhD Project\\Data Analytics\\Time Series Clustering\\Third Test\\Time-Series-PhD\\wandb\\run-20230227_145645-cokdvgo2\\files\\model-best)... Done. 0.1s\n"
     ]
    },
    {
     "name": "stdout",
     "output_type": "stream",
     "text": [
      "369/369 [==============================] - 15s 40ms/step - loss: 0.2761 - mse: 0.2761 - val_loss: 0.2795 - val_mse: 0.2795 - lr: 7.0501e-05\n",
      "Epoch 10/100\n",
      "368/369 [============================>.] - ETA: 0s - loss: 0.2719 - mse: 0.2719"
     ]
    },
    {
     "name": "stderr",
     "output_type": "stream",
     "text": [
      "WARNING:absl:Found untraced functions such as leaky_re_lu_layer_call_fn, leaky_re_lu_layer_call_and_return_conditional_losses, leaky_re_lu_1_layer_call_fn, leaky_re_lu_1_layer_call_and_return_conditional_losses, leaky_re_lu_2_layer_call_fn while saving (showing 5 of 12). These functions will not be directly callable after loading.\n"
     ]
    },
    {
     "name": "stdout",
     "output_type": "stream",
     "text": [
      "INFO:tensorflow:Assets written to: C:\\Users\\ucesvpm\\OneDrive - University College London\\PhD Project\\Data Analytics\\Time Series Clustering\\Third Test\\Time-Series-PhD\\wandb\\run-20230227_145645-cokdvgo2\\files\\model-best\\assets\n"
     ]
    },
    {
     "name": "stderr",
     "output_type": "stream",
     "text": [
      "INFO:tensorflow:Assets written to: C:\\Users\\ucesvpm\\OneDrive - University College London\\PhD Project\\Data Analytics\\Time Series Clustering\\Third Test\\Time-Series-PhD\\wandb\\run-20230227_145645-cokdvgo2\\files\\model-best\\assets\n",
      "\u001b[34m\u001b[1mwandb\u001b[0m: Adding directory to artifact (C:\\Users\\ucesvpm\\OneDrive - University College London\\PhD Project\\Data Analytics\\Time Series Clustering\\Third Test\\Time-Series-PhD\\wandb\\run-20230227_145645-cokdvgo2\\files\\model-best)... Done. 0.2s\n"
     ]
    },
    {
     "name": "stdout",
     "output_type": "stream",
     "text": [
      "369/369 [==============================] - 15s 40ms/step - loss: 0.2719 - mse: 0.2719 - val_loss: 0.2773 - val_mse: 0.2773 - lr: 7.0501e-05\n",
      "Epoch 11/100\n",
      "368/369 [============================>.] - ETA: 0s - loss: 0.2680 - mse: 0.2680"
     ]
    },
    {
     "name": "stderr",
     "output_type": "stream",
     "text": [
      "WARNING:absl:Found untraced functions such as leaky_re_lu_layer_call_fn, leaky_re_lu_layer_call_and_return_conditional_losses, leaky_re_lu_1_layer_call_fn, leaky_re_lu_1_layer_call_and_return_conditional_losses, leaky_re_lu_2_layer_call_fn while saving (showing 5 of 12). These functions will not be directly callable after loading.\n"
     ]
    },
    {
     "name": "stdout",
     "output_type": "stream",
     "text": [
      "INFO:tensorflow:Assets written to: C:\\Users\\ucesvpm\\OneDrive - University College London\\PhD Project\\Data Analytics\\Time Series Clustering\\Third Test\\Time-Series-PhD\\wandb\\run-20230227_145645-cokdvgo2\\files\\model-best\\assets\n"
     ]
    },
    {
     "name": "stderr",
     "output_type": "stream",
     "text": [
      "INFO:tensorflow:Assets written to: C:\\Users\\ucesvpm\\OneDrive - University College London\\PhD Project\\Data Analytics\\Time Series Clustering\\Third Test\\Time-Series-PhD\\wandb\\run-20230227_145645-cokdvgo2\\files\\model-best\\assets\n",
      "\u001b[34m\u001b[1mwandb\u001b[0m: Adding directory to artifact (C:\\Users\\ucesvpm\\OneDrive - University College London\\PhD Project\\Data Analytics\\Time Series Clustering\\Third Test\\Time-Series-PhD\\wandb\\run-20230227_145645-cokdvgo2\\files\\model-best)... Done. 0.3s\n"
     ]
    },
    {
     "name": "stdout",
     "output_type": "stream",
     "text": [
      "369/369 [==============================] - 15s 41ms/step - loss: 0.2681 - mse: 0.2681 - val_loss: 0.2738 - val_mse: 0.2738 - lr: 7.0501e-05\n",
      "Epoch 12/100\n",
      "369/369 [==============================] - ETA: 0s - loss: 0.2645 - mse: 0.2645"
     ]
    },
    {
     "name": "stderr",
     "output_type": "stream",
     "text": [
      "WARNING:absl:Found untraced functions such as leaky_re_lu_layer_call_fn, leaky_re_lu_layer_call_and_return_conditional_losses, leaky_re_lu_1_layer_call_fn, leaky_re_lu_1_layer_call_and_return_conditional_losses, leaky_re_lu_2_layer_call_fn while saving (showing 5 of 12). These functions will not be directly callable after loading.\n"
     ]
    },
    {
     "name": "stdout",
     "output_type": "stream",
     "text": [
      "INFO:tensorflow:Assets written to: C:\\Users\\ucesvpm\\OneDrive - University College London\\PhD Project\\Data Analytics\\Time Series Clustering\\Third Test\\Time-Series-PhD\\wandb\\run-20230227_145645-cokdvgo2\\files\\model-best\\assets\n"
     ]
    },
    {
     "name": "stderr",
     "output_type": "stream",
     "text": [
      "INFO:tensorflow:Assets written to: C:\\Users\\ucesvpm\\OneDrive - University College London\\PhD Project\\Data Analytics\\Time Series Clustering\\Third Test\\Time-Series-PhD\\wandb\\run-20230227_145645-cokdvgo2\\files\\model-best\\assets\n",
      "\u001b[34m\u001b[1mwandb\u001b[0m: Adding directory to artifact (C:\\Users\\ucesvpm\\OneDrive - University College London\\PhD Project\\Data Analytics\\Time Series Clustering\\Third Test\\Time-Series-PhD\\wandb\\run-20230227_145645-cokdvgo2\\files\\model-best)... Done. 0.2s\n"
     ]
    },
    {
     "name": "stdout",
     "output_type": "stream",
     "text": [
      "369/369 [==============================] - 15s 41ms/step - loss: 0.2645 - mse: 0.2645 - val_loss: 0.2721 - val_mse: 0.2721 - lr: 7.0501e-05\n",
      "Epoch 13/100\n",
      "368/369 [============================>.] - ETA: 0s - loss: 0.2614 - mse: 0.2614"
     ]
    },
    {
     "name": "stderr",
     "output_type": "stream",
     "text": [
      "WARNING:absl:Found untraced functions such as leaky_re_lu_layer_call_fn, leaky_re_lu_layer_call_and_return_conditional_losses, leaky_re_lu_1_layer_call_fn, leaky_re_lu_1_layer_call_and_return_conditional_losses, leaky_re_lu_2_layer_call_fn while saving (showing 5 of 12). These functions will not be directly callable after loading.\n"
     ]
    },
    {
     "name": "stdout",
     "output_type": "stream",
     "text": [
      "INFO:tensorflow:Assets written to: C:\\Users\\ucesvpm\\OneDrive - University College London\\PhD Project\\Data Analytics\\Time Series Clustering\\Third Test\\Time-Series-PhD\\wandb\\run-20230227_145645-cokdvgo2\\files\\model-best\\assets\n"
     ]
    },
    {
     "name": "stderr",
     "output_type": "stream",
     "text": [
      "INFO:tensorflow:Assets written to: C:\\Users\\ucesvpm\\OneDrive - University College London\\PhD Project\\Data Analytics\\Time Series Clustering\\Third Test\\Time-Series-PhD\\wandb\\run-20230227_145645-cokdvgo2\\files\\model-best\\assets\n",
      "\u001b[34m\u001b[1mwandb\u001b[0m: Adding directory to artifact (C:\\Users\\ucesvpm\\OneDrive - University College London\\PhD Project\\Data Analytics\\Time Series Clustering\\Third Test\\Time-Series-PhD\\wandb\\run-20230227_145645-cokdvgo2\\files\\model-best)... Done. 0.3s\n"
     ]
    },
    {
     "name": "stdout",
     "output_type": "stream",
     "text": [
      "369/369 [==============================] - 18s 50ms/step - loss: 0.2614 - mse: 0.2614 - val_loss: 0.2668 - val_mse: 0.2668 - lr: 7.0501e-05\n",
      "Epoch 14/100\n",
      "368/369 [============================>.] - ETA: 0s - loss: 0.2582 - mse: 0.2582"
     ]
    },
    {
     "name": "stderr",
     "output_type": "stream",
     "text": [
      "WARNING:absl:Found untraced functions such as leaky_re_lu_layer_call_fn, leaky_re_lu_layer_call_and_return_conditional_losses, leaky_re_lu_1_layer_call_fn, leaky_re_lu_1_layer_call_and_return_conditional_losses, leaky_re_lu_2_layer_call_fn while saving (showing 5 of 12). These functions will not be directly callable after loading.\n"
     ]
    },
    {
     "name": "stdout",
     "output_type": "stream",
     "text": [
      "INFO:tensorflow:Assets written to: C:\\Users\\ucesvpm\\OneDrive - University College London\\PhD Project\\Data Analytics\\Time Series Clustering\\Third Test\\Time-Series-PhD\\wandb\\run-20230227_145645-cokdvgo2\\files\\model-best\\assets\n"
     ]
    },
    {
     "name": "stderr",
     "output_type": "stream",
     "text": [
      "INFO:tensorflow:Assets written to: C:\\Users\\ucesvpm\\OneDrive - University College London\\PhD Project\\Data Analytics\\Time Series Clustering\\Third Test\\Time-Series-PhD\\wandb\\run-20230227_145645-cokdvgo2\\files\\model-best\\assets\n",
      "\u001b[34m\u001b[1mwandb\u001b[0m: Adding directory to artifact (C:\\Users\\ucesvpm\\OneDrive - University College London\\PhD Project\\Data Analytics\\Time Series Clustering\\Third Test\\Time-Series-PhD\\wandb\\run-20230227_145645-cokdvgo2\\files\\model-best)... Done. 0.3s\n"
     ]
    },
    {
     "name": "stdout",
     "output_type": "stream",
     "text": [
      "369/369 [==============================] - 18s 48ms/step - loss: 0.2582 - mse: 0.2582 - val_loss: 0.2635 - val_mse: 0.2635 - lr: 7.0501e-05\n",
      "Epoch 15/100\n",
      "368/369 [============================>.] - ETA: 0s - loss: 0.2556 - mse: 0.2556"
     ]
    },
    {
     "name": "stderr",
     "output_type": "stream",
     "text": [
      "WARNING:absl:Found untraced functions such as leaky_re_lu_layer_call_fn, leaky_re_lu_layer_call_and_return_conditional_losses, leaky_re_lu_1_layer_call_fn, leaky_re_lu_1_layer_call_and_return_conditional_losses, leaky_re_lu_2_layer_call_fn while saving (showing 5 of 12). These functions will not be directly callable after loading.\n"
     ]
    },
    {
     "name": "stdout",
     "output_type": "stream",
     "text": [
      "INFO:tensorflow:Assets written to: C:\\Users\\ucesvpm\\OneDrive - University College London\\PhD Project\\Data Analytics\\Time Series Clustering\\Third Test\\Time-Series-PhD\\wandb\\run-20230227_145645-cokdvgo2\\files\\model-best\\assets\n"
     ]
    },
    {
     "name": "stderr",
     "output_type": "stream",
     "text": [
      "INFO:tensorflow:Assets written to: C:\\Users\\ucesvpm\\OneDrive - University College London\\PhD Project\\Data Analytics\\Time Series Clustering\\Third Test\\Time-Series-PhD\\wandb\\run-20230227_145645-cokdvgo2\\files\\model-best\\assets\n",
      "\u001b[34m\u001b[1mwandb\u001b[0m: Adding directory to artifact (C:\\Users\\ucesvpm\\OneDrive - University College London\\PhD Project\\Data Analytics\\Time Series Clustering\\Third Test\\Time-Series-PhD\\wandb\\run-20230227_145645-cokdvgo2\\files\\model-best)... Done. 0.1s\n"
     ]
    },
    {
     "name": "stdout",
     "output_type": "stream",
     "text": [
      "369/369 [==============================] - 17s 47ms/step - loss: 0.2555 - mse: 0.2555 - val_loss: 0.2609 - val_mse: 0.2609 - lr: 7.0501e-05\n",
      "Epoch 16/100\n",
      "368/369 [============================>.] - ETA: 0s - loss: 0.2422 - mse: 0.2422"
     ]
    },
    {
     "name": "stderr",
     "output_type": "stream",
     "text": [
      "WARNING:absl:Found untraced functions such as leaky_re_lu_layer_call_fn, leaky_re_lu_layer_call_and_return_conditional_losses, leaky_re_lu_1_layer_call_fn, leaky_re_lu_1_layer_call_and_return_conditional_losses, leaky_re_lu_2_layer_call_fn while saving (showing 5 of 12). These functions will not be directly callable after loading.\n"
     ]
    },
    {
     "name": "stdout",
     "output_type": "stream",
     "text": [
      "INFO:tensorflow:Assets written to: C:\\Users\\ucesvpm\\OneDrive - University College London\\PhD Project\\Data Analytics\\Time Series Clustering\\Third Test\\Time-Series-PhD\\wandb\\run-20230227_145645-cokdvgo2\\files\\model-best\\assets\n"
     ]
    },
    {
     "name": "stderr",
     "output_type": "stream",
     "text": [
      "INFO:tensorflow:Assets written to: C:\\Users\\ucesvpm\\OneDrive - University College London\\PhD Project\\Data Analytics\\Time Series Clustering\\Third Test\\Time-Series-PhD\\wandb\\run-20230227_145645-cokdvgo2\\files\\model-best\\assets\n",
      "\u001b[34m\u001b[1mwandb\u001b[0m: Adding directory to artifact (C:\\Users\\ucesvpm\\OneDrive - University College London\\PhD Project\\Data Analytics\\Time Series Clustering\\Third Test\\Time-Series-PhD\\wandb\\run-20230227_145645-cokdvgo2\\files\\model-best)... Done. 0.2s\n"
     ]
    },
    {
     "name": "stdout",
     "output_type": "stream",
     "text": [
      "369/369 [==============================] - 17s 46ms/step - loss: 0.2423 - mse: 0.2423 - val_loss: 0.2509 - val_mse: 0.2509 - lr: 7.0501e-05\n",
      "Epoch 22/100\n",
      "369/369 [==============================] - ETA: 0s - loss: 0.2405 - mse: 0.2405"
     ]
    },
    {
     "name": "stderr",
     "output_type": "stream",
     "text": [
      "WARNING:absl:Found untraced functions such as leaky_re_lu_layer_call_fn, leaky_re_lu_layer_call_and_return_conditional_losses, leaky_re_lu_1_layer_call_fn, leaky_re_lu_1_layer_call_and_return_conditional_losses, leaky_re_lu_2_layer_call_fn while saving (showing 5 of 12). These functions will not be directly callable after loading.\n"
     ]
    },
    {
     "name": "stdout",
     "output_type": "stream",
     "text": [
      "INFO:tensorflow:Assets written to: C:\\Users\\ucesvpm\\OneDrive - University College London\\PhD Project\\Data Analytics\\Time Series Clustering\\Third Test\\Time-Series-PhD\\wandb\\run-20230227_145645-cokdvgo2\\files\\model-best\\assets\n"
     ]
    },
    {
     "name": "stderr",
     "output_type": "stream",
     "text": [
      "INFO:tensorflow:Assets written to: C:\\Users\\ucesvpm\\OneDrive - University College London\\PhD Project\\Data Analytics\\Time Series Clustering\\Third Test\\Time-Series-PhD\\wandb\\run-20230227_145645-cokdvgo2\\files\\model-best\\assets\n",
      "\u001b[34m\u001b[1mwandb\u001b[0m: Adding directory to artifact (C:\\Users\\ucesvpm\\OneDrive - University College London\\PhD Project\\Data Analytics\\Time Series Clustering\\Third Test\\Time-Series-PhD\\wandb\\run-20230227_145645-cokdvgo2\\files\\model-best)... Done. 0.2s\n"
     ]
    },
    {
     "name": "stdout",
     "output_type": "stream",
     "text": [
      "369/369 [==============================] - 17s 47ms/step - loss: 0.2405 - mse: 0.2405 - val_loss: 0.2503 - val_mse: 0.2503 - lr: 7.0501e-05\n",
      "Epoch 23/100\n",
      "369/369 [==============================] - ETA: 0s - loss: 0.2389 - mse: 0.2389"
     ]
    },
    {
     "name": "stderr",
     "output_type": "stream",
     "text": [
      "WARNING:absl:Found untraced functions such as leaky_re_lu_layer_call_fn, leaky_re_lu_layer_call_and_return_conditional_losses, leaky_re_lu_1_layer_call_fn, leaky_re_lu_1_layer_call_and_return_conditional_losses, leaky_re_lu_2_layer_call_fn while saving (showing 5 of 12). These functions will not be directly callable after loading.\n"
     ]
    },
    {
     "name": "stdout",
     "output_type": "stream",
     "text": [
      "INFO:tensorflow:Assets written to: C:\\Users\\ucesvpm\\OneDrive - University College London\\PhD Project\\Data Analytics\\Time Series Clustering\\Third Test\\Time-Series-PhD\\wandb\\run-20230227_145645-cokdvgo2\\files\\model-best\\assets\n"
     ]
    },
    {
     "name": "stderr",
     "output_type": "stream",
     "text": [
      "INFO:tensorflow:Assets written to: C:\\Users\\ucesvpm\\OneDrive - University College London\\PhD Project\\Data Analytics\\Time Series Clustering\\Third Test\\Time-Series-PhD\\wandb\\run-20230227_145645-cokdvgo2\\files\\model-best\\assets\n",
      "\u001b[34m\u001b[1mwandb\u001b[0m: Adding directory to artifact (C:\\Users\\ucesvpm\\OneDrive - University College London\\PhD Project\\Data Analytics\\Time Series Clustering\\Third Test\\Time-Series-PhD\\wandb\\run-20230227_145645-cokdvgo2\\files\\model-best)... Done. 0.2s\n"
     ]
    },
    {
     "name": "stdout",
     "output_type": "stream",
     "text": [
      "369/369 [==============================] - 17s 46ms/step - loss: 0.2389 - mse: 0.2389 - val_loss: 0.2480 - val_mse: 0.2480 - lr: 7.0501e-05\n",
      "Epoch 24/100\n",
      "368/369 [============================>.] - ETA: 0s - loss: 0.2374 - mse: 0.2374"
     ]
    },
    {
     "name": "stderr",
     "output_type": "stream",
     "text": [
      "WARNING:absl:Found untraced functions such as leaky_re_lu_layer_call_fn, leaky_re_lu_layer_call_and_return_conditional_losses, leaky_re_lu_1_layer_call_fn, leaky_re_lu_1_layer_call_and_return_conditional_losses, leaky_re_lu_2_layer_call_fn while saving (showing 5 of 12). These functions will not be directly callable after loading.\n"
     ]
    },
    {
     "name": "stdout",
     "output_type": "stream",
     "text": [
      "INFO:tensorflow:Assets written to: C:\\Users\\ucesvpm\\OneDrive - University College London\\PhD Project\\Data Analytics\\Time Series Clustering\\Third Test\\Time-Series-PhD\\wandb\\run-20230227_145645-cokdvgo2\\files\\model-best\\assets\n"
     ]
    },
    {
     "name": "stderr",
     "output_type": "stream",
     "text": [
      "INFO:tensorflow:Assets written to: C:\\Users\\ucesvpm\\OneDrive - University College London\\PhD Project\\Data Analytics\\Time Series Clustering\\Third Test\\Time-Series-PhD\\wandb\\run-20230227_145645-cokdvgo2\\files\\model-best\\assets\n",
      "\u001b[34m\u001b[1mwandb\u001b[0m: Adding directory to artifact (C:\\Users\\ucesvpm\\OneDrive - University College London\\PhD Project\\Data Analytics\\Time Series Clustering\\Third Test\\Time-Series-PhD\\wandb\\run-20230227_145645-cokdvgo2\\files\\model-best)... Done. 0.2s\n"
     ]
    },
    {
     "name": "stdout",
     "output_type": "stream",
     "text": [
      "369/369 [==============================] - 16s 43ms/step - loss: 0.2374 - mse: 0.2374 - val_loss: 0.2471 - val_mse: 0.2471 - lr: 7.0501e-05\n",
      "Epoch 25/100\n",
      "369/369 [==============================] - ETA: 0s - loss: 0.2362 - mse: 0.2362"
     ]
    },
    {
     "name": "stderr",
     "output_type": "stream",
     "text": [
      "WARNING:absl:Found untraced functions such as leaky_re_lu_layer_call_fn, leaky_re_lu_layer_call_and_return_conditional_losses, leaky_re_lu_1_layer_call_fn, leaky_re_lu_1_layer_call_and_return_conditional_losses, leaky_re_lu_2_layer_call_fn while saving (showing 5 of 12). These functions will not be directly callable after loading.\n"
     ]
    },
    {
     "name": "stdout",
     "output_type": "stream",
     "text": [
      "INFO:tensorflow:Assets written to: C:\\Users\\ucesvpm\\OneDrive - University College London\\PhD Project\\Data Analytics\\Time Series Clustering\\Third Test\\Time-Series-PhD\\wandb\\run-20230227_145645-cokdvgo2\\files\\model-best\\assets\n"
     ]
    },
    {
     "name": "stderr",
     "output_type": "stream",
     "text": [
      "INFO:tensorflow:Assets written to: C:\\Users\\ucesvpm\\OneDrive - University College London\\PhD Project\\Data Analytics\\Time Series Clustering\\Third Test\\Time-Series-PhD\\wandb\\run-20230227_145645-cokdvgo2\\files\\model-best\\assets\n",
      "\u001b[34m\u001b[1mwandb\u001b[0m: Adding directory to artifact (C:\\Users\\ucesvpm\\OneDrive - University College London\\PhD Project\\Data Analytics\\Time Series Clustering\\Third Test\\Time-Series-PhD\\wandb\\run-20230227_145645-cokdvgo2\\files\\model-best)... Done. 0.1s\n"
     ]
    },
    {
     "name": "stdout",
     "output_type": "stream",
     "text": [
      "369/369 [==============================] - 15s 41ms/step - loss: 0.2362 - mse: 0.2362 - val_loss: 0.2455 - val_mse: 0.2455 - lr: 7.0501e-05\n",
      "Epoch 26/100\n",
      "369/369 [==============================] - 11s 31ms/step - loss: 0.2347 - mse: 0.2347 - val_loss: 0.2459 - val_mse: 0.2459 - lr: 7.0501e-05\n",
      "Epoch 27/100\n",
      "368/369 [============================>.] - ETA: 0s - loss: 0.2334 - mse: 0.2334"
     ]
    },
    {
     "name": "stderr",
     "output_type": "stream",
     "text": [
      "WARNING:absl:Found untraced functions such as leaky_re_lu_layer_call_fn, leaky_re_lu_layer_call_and_return_conditional_losses, leaky_re_lu_1_layer_call_fn, leaky_re_lu_1_layer_call_and_return_conditional_losses, leaky_re_lu_2_layer_call_fn while saving (showing 5 of 12). These functions will not be directly callable after loading.\n"
     ]
    },
    {
     "name": "stdout",
     "output_type": "stream",
     "text": [
      "INFO:tensorflow:Assets written to: C:\\Users\\ucesvpm\\OneDrive - University College London\\PhD Project\\Data Analytics\\Time Series Clustering\\Third Test\\Time-Series-PhD\\wandb\\run-20230227_145645-cokdvgo2\\files\\model-best\\assets\n"
     ]
    },
    {
     "name": "stderr",
     "output_type": "stream",
     "text": [
      "INFO:tensorflow:Assets written to: C:\\Users\\ucesvpm\\OneDrive - University College London\\PhD Project\\Data Analytics\\Time Series Clustering\\Third Test\\Time-Series-PhD\\wandb\\run-20230227_145645-cokdvgo2\\files\\model-best\\assets\n",
      "\u001b[34m\u001b[1mwandb\u001b[0m: Adding directory to artifact (C:\\Users\\ucesvpm\\OneDrive - University College London\\PhD Project\\Data Analytics\\Time Series Clustering\\Third Test\\Time-Series-PhD\\wandb\\run-20230227_145645-cokdvgo2\\files\\model-best)... Done. 0.2s\n"
     ]
    },
    {
     "name": "stdout",
     "output_type": "stream",
     "text": [
      "369/369 [==============================] - 15s 40ms/step - loss: 0.2334 - mse: 0.2334 - val_loss: 0.2444 - val_mse: 0.2444 - lr: 7.0501e-05\n",
      "Epoch 28/100\n",
      "369/369 [==============================] - ETA: 0s - loss: 0.2322 - mse: 0.2322"
     ]
    },
    {
     "name": "stderr",
     "output_type": "stream",
     "text": [
      "WARNING:absl:Found untraced functions such as leaky_re_lu_layer_call_fn, leaky_re_lu_layer_call_and_return_conditional_losses, leaky_re_lu_1_layer_call_fn, leaky_re_lu_1_layer_call_and_return_conditional_losses, leaky_re_lu_2_layer_call_fn while saving (showing 5 of 12). These functions will not be directly callable after loading.\n"
     ]
    },
    {
     "name": "stdout",
     "output_type": "stream",
     "text": [
      "INFO:tensorflow:Assets written to: C:\\Users\\ucesvpm\\OneDrive - University College London\\PhD Project\\Data Analytics\\Time Series Clustering\\Third Test\\Time-Series-PhD\\wandb\\run-20230227_145645-cokdvgo2\\files\\model-best\\assets\n"
     ]
    },
    {
     "name": "stderr",
     "output_type": "stream",
     "text": [
      "INFO:tensorflow:Assets written to: C:\\Users\\ucesvpm\\OneDrive - University College London\\PhD Project\\Data Analytics\\Time Series Clustering\\Third Test\\Time-Series-PhD\\wandb\\run-20230227_145645-cokdvgo2\\files\\model-best\\assets\n",
      "\u001b[34m\u001b[1mwandb\u001b[0m: Adding directory to artifact (C:\\Users\\ucesvpm\\OneDrive - University College London\\PhD Project\\Data Analytics\\Time Series Clustering\\Third Test\\Time-Series-PhD\\wandb\\run-20230227_145645-cokdvgo2\\files\\model-best)... Done. 0.2s\n"
     ]
    },
    {
     "name": "stdout",
     "output_type": "stream",
     "text": [
      "369/369 [==============================] - 15s 40ms/step - loss: 0.2322 - mse: 0.2322 - val_loss: 0.2440 - val_mse: 0.2440 - lr: 7.0501e-05\n",
      "Epoch 29/100\n",
      "368/369 [============================>.] - ETA: 0s - loss: 0.2311 - mse: 0.2311"
     ]
    },
    {
     "name": "stderr",
     "output_type": "stream",
     "text": [
      "WARNING:absl:Found untraced functions such as leaky_re_lu_layer_call_fn, leaky_re_lu_layer_call_and_return_conditional_losses, leaky_re_lu_1_layer_call_fn, leaky_re_lu_1_layer_call_and_return_conditional_losses, leaky_re_lu_2_layer_call_fn while saving (showing 5 of 12). These functions will not be directly callable after loading.\n"
     ]
    },
    {
     "name": "stdout",
     "output_type": "stream",
     "text": [
      "INFO:tensorflow:Assets written to: C:\\Users\\ucesvpm\\OneDrive - University College London\\PhD Project\\Data Analytics\\Time Series Clustering\\Third Test\\Time-Series-PhD\\wandb\\run-20230227_145645-cokdvgo2\\files\\model-best\\assets\n"
     ]
    },
    {
     "name": "stderr",
     "output_type": "stream",
     "text": [
      "INFO:tensorflow:Assets written to: C:\\Users\\ucesvpm\\OneDrive - University College London\\PhD Project\\Data Analytics\\Time Series Clustering\\Third Test\\Time-Series-PhD\\wandb\\run-20230227_145645-cokdvgo2\\files\\model-best\\assets\n",
      "\u001b[34m\u001b[1mwandb\u001b[0m: Adding directory to artifact (C:\\Users\\ucesvpm\\OneDrive - University College London\\PhD Project\\Data Analytics\\Time Series Clustering\\Third Test\\Time-Series-PhD\\wandb\\run-20230227_145645-cokdvgo2\\files\\model-best)... Done. 0.2s\n"
     ]
    },
    {
     "name": "stdout",
     "output_type": "stream",
     "text": [
      "369/369 [==============================] - 15s 41ms/step - loss: 0.2311 - mse: 0.2311 - val_loss: 0.2425 - val_mse: 0.2425 - lr: 7.0501e-05\n",
      "Epoch 30/100\n",
      "368/369 [============================>.] - ETA: 0s - loss: 0.2301 - mse: 0.2301"
     ]
    },
    {
     "name": "stderr",
     "output_type": "stream",
     "text": [
      "WARNING:absl:Found untraced functions such as leaky_re_lu_layer_call_fn, leaky_re_lu_layer_call_and_return_conditional_losses, leaky_re_lu_1_layer_call_fn, leaky_re_lu_1_layer_call_and_return_conditional_losses, leaky_re_lu_2_layer_call_fn while saving (showing 5 of 12). These functions will not be directly callable after loading.\n"
     ]
    },
    {
     "name": "stdout",
     "output_type": "stream",
     "text": [
      "INFO:tensorflow:Assets written to: C:\\Users\\ucesvpm\\OneDrive - University College London\\PhD Project\\Data Analytics\\Time Series Clustering\\Third Test\\Time-Series-PhD\\wandb\\run-20230227_145645-cokdvgo2\\files\\model-best\\assets\n"
     ]
    },
    {
     "name": "stderr",
     "output_type": "stream",
     "text": [
      "INFO:tensorflow:Assets written to: C:\\Users\\ucesvpm\\OneDrive - University College London\\PhD Project\\Data Analytics\\Time Series Clustering\\Third Test\\Time-Series-PhD\\wandb\\run-20230227_145645-cokdvgo2\\files\\model-best\\assets\n",
      "\u001b[34m\u001b[1mwandb\u001b[0m: Adding directory to artifact (C:\\Users\\ucesvpm\\OneDrive - University College London\\PhD Project\\Data Analytics\\Time Series Clustering\\Third Test\\Time-Series-PhD\\wandb\\run-20230227_145645-cokdvgo2\\files\\model-best)... Done. 0.2s\n"
     ]
    },
    {
     "name": "stdout",
     "output_type": "stream",
     "text": [
      "369/369 [==============================] - 22s 59ms/step - loss: 0.2300 - mse: 0.2300 - val_loss: 0.2415 - val_mse: 0.2415 - lr: 7.0501e-05\n",
      "Epoch 31/100\n",
      "369/369 [==============================] - 12s 33ms/step - loss: 0.2289 - mse: 0.2289 - val_loss: 0.2429 - val_mse: 0.2429 - lr: 7.0501e-05\n",
      "Epoch 32/100\n",
      "369/369 [==============================] - ETA: 0s - loss: 0.2279 - mse: 0.2279"
     ]
    },
    {
     "name": "stderr",
     "output_type": "stream",
     "text": [
      "WARNING:absl:Found untraced functions such as leaky_re_lu_layer_call_fn, leaky_re_lu_layer_call_and_return_conditional_losses, leaky_re_lu_1_layer_call_fn, leaky_re_lu_1_layer_call_and_return_conditional_losses, leaky_re_lu_2_layer_call_fn while saving (showing 5 of 12). These functions will not be directly callable after loading.\n"
     ]
    },
    {
     "name": "stdout",
     "output_type": "stream",
     "text": [
      "INFO:tensorflow:Assets written to: C:\\Users\\ucesvpm\\OneDrive - University College London\\PhD Project\\Data Analytics\\Time Series Clustering\\Third Test\\Time-Series-PhD\\wandb\\run-20230227_145645-cokdvgo2\\files\\model-best\\assets\n"
     ]
    },
    {
     "name": "stderr",
     "output_type": "stream",
     "text": [
      "INFO:tensorflow:Assets written to: C:\\Users\\ucesvpm\\OneDrive - University College London\\PhD Project\\Data Analytics\\Time Series Clustering\\Third Test\\Time-Series-PhD\\wandb\\run-20230227_145645-cokdvgo2\\files\\model-best\\assets\n",
      "\u001b[34m\u001b[1mwandb\u001b[0m: Adding directory to artifact (C:\\Users\\ucesvpm\\OneDrive - University College London\\PhD Project\\Data Analytics\\Time Series Clustering\\Third Test\\Time-Series-PhD\\wandb\\run-20230227_145645-cokdvgo2\\files\\model-best)... Done. 0.2s\n"
     ]
    },
    {
     "name": "stdout",
     "output_type": "stream",
     "text": [
      "369/369 [==============================] - 18s 48ms/step - loss: 0.2279 - mse: 0.2279 - val_loss: 0.2406 - val_mse: 0.2406 - lr: 7.0501e-05\n",
      "Epoch 33/100\n",
      "368/369 [============================>.] - ETA: 0s - loss: 0.2269 - mse: 0.2269"
     ]
    },
    {
     "name": "stderr",
     "output_type": "stream",
     "text": [
      "WARNING:absl:Found untraced functions such as leaky_re_lu_layer_call_fn, leaky_re_lu_layer_call_and_return_conditional_losses, leaky_re_lu_1_layer_call_fn, leaky_re_lu_1_layer_call_and_return_conditional_losses, leaky_re_lu_2_layer_call_fn while saving (showing 5 of 12). These functions will not be directly callable after loading.\n"
     ]
    },
    {
     "name": "stdout",
     "output_type": "stream",
     "text": [
      "INFO:tensorflow:Assets written to: C:\\Users\\ucesvpm\\OneDrive - University College London\\PhD Project\\Data Analytics\\Time Series Clustering\\Third Test\\Time-Series-PhD\\wandb\\run-20230227_145645-cokdvgo2\\files\\model-best\\assets\n"
     ]
    },
    {
     "name": "stderr",
     "output_type": "stream",
     "text": [
      "INFO:tensorflow:Assets written to: C:\\Users\\ucesvpm\\OneDrive - University College London\\PhD Project\\Data Analytics\\Time Series Clustering\\Third Test\\Time-Series-PhD\\wandb\\run-20230227_145645-cokdvgo2\\files\\model-best\\assets\n",
      "\u001b[34m\u001b[1mwandb\u001b[0m: Adding directory to artifact (C:\\Users\\ucesvpm\\OneDrive - University College London\\PhD Project\\Data Analytics\\Time Series Clustering\\Third Test\\Time-Series-PhD\\wandb\\run-20230227_145645-cokdvgo2\\files\\model-best)... Done. 0.2s\n"
     ]
    },
    {
     "name": "stdout",
     "output_type": "stream",
     "text": [
      "369/369 [==============================] - 18s 50ms/step - loss: 0.2269 - mse: 0.2269 - val_loss: 0.2398 - val_mse: 0.2398 - lr: 7.0501e-05\n",
      "Epoch 34/100\n",
      "368/369 [============================>.] - ETA: 0s - loss: 0.2259 - mse: 0.2259"
     ]
    },
    {
     "name": "stderr",
     "output_type": "stream",
     "text": [
      "WARNING:absl:Found untraced functions such as leaky_re_lu_layer_call_fn, leaky_re_lu_layer_call_and_return_conditional_losses, leaky_re_lu_1_layer_call_fn, leaky_re_lu_1_layer_call_and_return_conditional_losses, leaky_re_lu_2_layer_call_fn while saving (showing 5 of 12). These functions will not be directly callable after loading.\n"
     ]
    },
    {
     "name": "stdout",
     "output_type": "stream",
     "text": [
      "INFO:tensorflow:Assets written to: C:\\Users\\ucesvpm\\OneDrive - University College London\\PhD Project\\Data Analytics\\Time Series Clustering\\Third Test\\Time-Series-PhD\\wandb\\run-20230227_145645-cokdvgo2\\files\\model-best\\assets\n"
     ]
    },
    {
     "name": "stderr",
     "output_type": "stream",
     "text": [
      "INFO:tensorflow:Assets written to: C:\\Users\\ucesvpm\\OneDrive - University College London\\PhD Project\\Data Analytics\\Time Series Clustering\\Third Test\\Time-Series-PhD\\wandb\\run-20230227_145645-cokdvgo2\\files\\model-best\\assets\n",
      "\u001b[34m\u001b[1mwandb\u001b[0m: Adding directory to artifact (C:\\Users\\ucesvpm\\OneDrive - University College London\\PhD Project\\Data Analytics\\Time Series Clustering\\Third Test\\Time-Series-PhD\\wandb\\run-20230227_145645-cokdvgo2\\files\\model-best)... Done. 0.3s\n"
     ]
    },
    {
     "name": "stdout",
     "output_type": "stream",
     "text": [
      "369/369 [==============================] - 15s 42ms/step - loss: 0.2260 - mse: 0.2260 - val_loss: 0.2385 - val_mse: 0.2385 - lr: 7.0501e-05\n",
      "Epoch 35/100\n",
      "369/369 [==============================] - ETA: 0s - loss: 0.2251 - mse: 0.2251"
     ]
    },
    {
     "name": "stderr",
     "output_type": "stream",
     "text": [
      "WARNING:absl:Found untraced functions such as leaky_re_lu_layer_call_fn, leaky_re_lu_layer_call_and_return_conditional_losses, leaky_re_lu_1_layer_call_fn, leaky_re_lu_1_layer_call_and_return_conditional_losses, leaky_re_lu_2_layer_call_fn while saving (showing 5 of 12). These functions will not be directly callable after loading.\n"
     ]
    },
    {
     "name": "stdout",
     "output_type": "stream",
     "text": [
      "INFO:tensorflow:Assets written to: C:\\Users\\ucesvpm\\OneDrive - University College London\\PhD Project\\Data Analytics\\Time Series Clustering\\Third Test\\Time-Series-PhD\\wandb\\run-20230227_145645-cokdvgo2\\files\\model-best\\assets\n"
     ]
    },
    {
     "name": "stderr",
     "output_type": "stream",
     "text": [
      "INFO:tensorflow:Assets written to: C:\\Users\\ucesvpm\\OneDrive - University College London\\PhD Project\\Data Analytics\\Time Series Clustering\\Third Test\\Time-Series-PhD\\wandb\\run-20230227_145645-cokdvgo2\\files\\model-best\\assets\n",
      "\u001b[34m\u001b[1mwandb\u001b[0m: Adding directory to artifact (C:\\Users\\ucesvpm\\OneDrive - University College London\\PhD Project\\Data Analytics\\Time Series Clustering\\Third Test\\Time-Series-PhD\\wandb\\run-20230227_145645-cokdvgo2\\files\\model-best)... Done. 0.2s\n"
     ]
    },
    {
     "name": "stdout",
     "output_type": "stream",
     "text": [
      "369/369 [==============================] - 17s 46ms/step - loss: 0.2251 - mse: 0.2251 - val_loss: 0.2382 - val_mse: 0.2382 - lr: 7.0501e-05\n",
      "Epoch 36/100\n",
      "369/369 [==============================] - ETA: 0s - loss: 0.2242 - mse: 0.2242"
     ]
    },
    {
     "name": "stderr",
     "output_type": "stream",
     "text": [
      "WARNING:absl:Found untraced functions such as leaky_re_lu_layer_call_fn, leaky_re_lu_layer_call_and_return_conditional_losses, leaky_re_lu_1_layer_call_fn, leaky_re_lu_1_layer_call_and_return_conditional_losses, leaky_re_lu_2_layer_call_fn while saving (showing 5 of 12). These functions will not be directly callable after loading.\n"
     ]
    },
    {
     "name": "stdout",
     "output_type": "stream",
     "text": [
      "INFO:tensorflow:Assets written to: C:\\Users\\ucesvpm\\OneDrive - University College London\\PhD Project\\Data Analytics\\Time Series Clustering\\Third Test\\Time-Series-PhD\\wandb\\run-20230227_145645-cokdvgo2\\files\\model-best\\assets\n"
     ]
    },
    {
     "name": "stderr",
     "output_type": "stream",
     "text": [
      "INFO:tensorflow:Assets written to: C:\\Users\\ucesvpm\\OneDrive - University College London\\PhD Project\\Data Analytics\\Time Series Clustering\\Third Test\\Time-Series-PhD\\wandb\\run-20230227_145645-cokdvgo2\\files\\model-best\\assets\n",
      "\u001b[34m\u001b[1mwandb\u001b[0m: Adding directory to artifact (C:\\Users\\ucesvpm\\OneDrive - University College London\\PhD Project\\Data Analytics\\Time Series Clustering\\Third Test\\Time-Series-PhD\\wandb\\run-20230227_145645-cokdvgo2\\files\\model-best)... Done. 0.3s\n"
     ]
    },
    {
     "name": "stdout",
     "output_type": "stream",
     "text": [
      "369/369 [==============================] - 15s 42ms/step - loss: 0.2242 - mse: 0.2242 - val_loss: 0.2380 - val_mse: 0.2380 - lr: 7.0501e-05\n",
      "Epoch 37/100\n",
      "368/369 [============================>.] - ETA: 0s - loss: 0.2232 - mse: 0.2232"
     ]
    },
    {
     "name": "stderr",
     "output_type": "stream",
     "text": [
      "WARNING:absl:Found untraced functions such as leaky_re_lu_layer_call_fn, leaky_re_lu_layer_call_and_return_conditional_losses, leaky_re_lu_1_layer_call_fn, leaky_re_lu_1_layer_call_and_return_conditional_losses, leaky_re_lu_2_layer_call_fn while saving (showing 5 of 12). These functions will not be directly callable after loading.\n"
     ]
    },
    {
     "name": "stdout",
     "output_type": "stream",
     "text": [
      "INFO:tensorflow:Assets written to: C:\\Users\\ucesvpm\\OneDrive - University College London\\PhD Project\\Data Analytics\\Time Series Clustering\\Third Test\\Time-Series-PhD\\wandb\\run-20230227_145645-cokdvgo2\\files\\model-best\\assets\n"
     ]
    },
    {
     "name": "stderr",
     "output_type": "stream",
     "text": [
      "INFO:tensorflow:Assets written to: C:\\Users\\ucesvpm\\OneDrive - University College London\\PhD Project\\Data Analytics\\Time Series Clustering\\Third Test\\Time-Series-PhD\\wandb\\run-20230227_145645-cokdvgo2\\files\\model-best\\assets\n",
      "\u001b[34m\u001b[1mwandb\u001b[0m: Adding directory to artifact (C:\\Users\\ucesvpm\\OneDrive - University College London\\PhD Project\\Data Analytics\\Time Series Clustering\\Third Test\\Time-Series-PhD\\wandb\\run-20230227_145645-cokdvgo2\\files\\model-best)... Done. 0.3s\n"
     ]
    },
    {
     "name": "stdout",
     "output_type": "stream",
     "text": [
      "369/369 [==============================] - 16s 44ms/step - loss: 0.2233 - mse: 0.2233 - val_loss: 0.2372 - val_mse: 0.2372 - lr: 7.0501e-05\n",
      "Epoch 38/100\n",
      "369/369 [==============================] - ETA: 0s - loss: 0.2224 - mse: 0.2224"
     ]
    },
    {
     "name": "stderr",
     "output_type": "stream",
     "text": [
      "WARNING:absl:Found untraced functions such as leaky_re_lu_layer_call_fn, leaky_re_lu_layer_call_and_return_conditional_losses, leaky_re_lu_1_layer_call_fn, leaky_re_lu_1_layer_call_and_return_conditional_losses, leaky_re_lu_2_layer_call_fn while saving (showing 5 of 12). These functions will not be directly callable after loading.\n"
     ]
    },
    {
     "name": "stdout",
     "output_type": "stream",
     "text": [
      "INFO:tensorflow:Assets written to: C:\\Users\\ucesvpm\\OneDrive - University College London\\PhD Project\\Data Analytics\\Time Series Clustering\\Third Test\\Time-Series-PhD\\wandb\\run-20230227_145645-cokdvgo2\\files\\model-best\\assets\n"
     ]
    },
    {
     "name": "stderr",
     "output_type": "stream",
     "text": [
      "INFO:tensorflow:Assets written to: C:\\Users\\ucesvpm\\OneDrive - University College London\\PhD Project\\Data Analytics\\Time Series Clustering\\Third Test\\Time-Series-PhD\\wandb\\run-20230227_145645-cokdvgo2\\files\\model-best\\assets\n",
      "\u001b[34m\u001b[1mwandb\u001b[0m: Adding directory to artifact (C:\\Users\\ucesvpm\\OneDrive - University College London\\PhD Project\\Data Analytics\\Time Series Clustering\\Third Test\\Time-Series-PhD\\wandb\\run-20230227_145645-cokdvgo2\\files\\model-best)... Done. 0.2s\n"
     ]
    },
    {
     "name": "stdout",
     "output_type": "stream",
     "text": [
      "369/369 [==============================] - 17s 45ms/step - loss: 0.2224 - mse: 0.2224 - val_loss: 0.2365 - val_mse: 0.2365 - lr: 7.0501e-05\n",
      "Epoch 39/100\n",
      "369/369 [==============================] - ETA: 0s - loss: 0.2216 - mse: 0.2216"
     ]
    },
    {
     "name": "stderr",
     "output_type": "stream",
     "text": [
      "WARNING:absl:Found untraced functions such as leaky_re_lu_layer_call_fn, leaky_re_lu_layer_call_and_return_conditional_losses, leaky_re_lu_1_layer_call_fn, leaky_re_lu_1_layer_call_and_return_conditional_losses, leaky_re_lu_2_layer_call_fn while saving (showing 5 of 12). These functions will not be directly callable after loading.\n"
     ]
    },
    {
     "name": "stdout",
     "output_type": "stream",
     "text": [
      "INFO:tensorflow:Assets written to: C:\\Users\\ucesvpm\\OneDrive - University College London\\PhD Project\\Data Analytics\\Time Series Clustering\\Third Test\\Time-Series-PhD\\wandb\\run-20230227_145645-cokdvgo2\\files\\model-best\\assets\n"
     ]
    },
    {
     "name": "stderr",
     "output_type": "stream",
     "text": [
      "INFO:tensorflow:Assets written to: C:\\Users\\ucesvpm\\OneDrive - University College London\\PhD Project\\Data Analytics\\Time Series Clustering\\Third Test\\Time-Series-PhD\\wandb\\run-20230227_145645-cokdvgo2\\files\\model-best\\assets\n",
      "\u001b[34m\u001b[1mwandb\u001b[0m: Adding directory to artifact (C:\\Users\\ucesvpm\\OneDrive - University College London\\PhD Project\\Data Analytics\\Time Series Clustering\\Third Test\\Time-Series-PhD\\wandb\\run-20230227_145645-cokdvgo2\\files\\model-best)... Done. 0.2s\n"
     ]
    },
    {
     "name": "stdout",
     "output_type": "stream",
     "text": [
      "369/369 [==============================] - 15s 40ms/step - loss: 0.2216 - mse: 0.2216 - val_loss: 0.2357 - val_mse: 0.2357 - lr: 7.0501e-05\n",
      "Epoch 40/100\n",
      "368/369 [============================>.] - ETA: 0s - loss: 0.2207 - mse: 0.2207"
     ]
    },
    {
     "name": "stderr",
     "output_type": "stream",
     "text": [
      "WARNING:absl:Found untraced functions such as leaky_re_lu_layer_call_fn, leaky_re_lu_layer_call_and_return_conditional_losses, leaky_re_lu_1_layer_call_fn, leaky_re_lu_1_layer_call_and_return_conditional_losses, leaky_re_lu_2_layer_call_fn while saving (showing 5 of 12). These functions will not be directly callable after loading.\n"
     ]
    },
    {
     "name": "stdout",
     "output_type": "stream",
     "text": [
      "INFO:tensorflow:Assets written to: C:\\Users\\ucesvpm\\OneDrive - University College London\\PhD Project\\Data Analytics\\Time Series Clustering\\Third Test\\Time-Series-PhD\\wandb\\run-20230227_145645-cokdvgo2\\files\\model-best\\assets\n"
     ]
    },
    {
     "name": "stderr",
     "output_type": "stream",
     "text": [
      "INFO:tensorflow:Assets written to: C:\\Users\\ucesvpm\\OneDrive - University College London\\PhD Project\\Data Analytics\\Time Series Clustering\\Third Test\\Time-Series-PhD\\wandb\\run-20230227_145645-cokdvgo2\\files\\model-best\\assets\n",
      "\u001b[34m\u001b[1mwandb\u001b[0m: Adding directory to artifact (C:\\Users\\ucesvpm\\OneDrive - University College London\\PhD Project\\Data Analytics\\Time Series Clustering\\Third Test\\Time-Series-PhD\\wandb\\run-20230227_145645-cokdvgo2\\files\\model-best)... Done. 0.3s\n"
     ]
    },
    {
     "name": "stdout",
     "output_type": "stream",
     "text": [
      "369/369 [==============================] - 17s 47ms/step - loss: 0.2207 - mse: 0.2207 - val_loss: 0.2356 - val_mse: 0.2356 - lr: 7.0501e-05\n",
      "Epoch 41/100\n",
      "369/369 [==============================] - ETA: 0s - loss: 0.2199 - mse: 0.2199"
     ]
    },
    {
     "name": "stderr",
     "output_type": "stream",
     "text": [
      "WARNING:absl:Found untraced functions such as leaky_re_lu_layer_call_fn, leaky_re_lu_layer_call_and_return_conditional_losses, leaky_re_lu_1_layer_call_fn, leaky_re_lu_1_layer_call_and_return_conditional_losses, leaky_re_lu_2_layer_call_fn while saving (showing 5 of 12). These functions will not be directly callable after loading.\n"
     ]
    },
    {
     "name": "stdout",
     "output_type": "stream",
     "text": [
      "INFO:tensorflow:Assets written to: C:\\Users\\ucesvpm\\OneDrive - University College London\\PhD Project\\Data Analytics\\Time Series Clustering\\Third Test\\Time-Series-PhD\\wandb\\run-20230227_145645-cokdvgo2\\files\\model-best\\assets\n"
     ]
    },
    {
     "name": "stderr",
     "output_type": "stream",
     "text": [
      "INFO:tensorflow:Assets written to: C:\\Users\\ucesvpm\\OneDrive - University College London\\PhD Project\\Data Analytics\\Time Series Clustering\\Third Test\\Time-Series-PhD\\wandb\\run-20230227_145645-cokdvgo2\\files\\model-best\\assets\n",
      "\u001b[34m\u001b[1mwandb\u001b[0m: Adding directory to artifact (C:\\Users\\ucesvpm\\OneDrive - University College London\\PhD Project\\Data Analytics\\Time Series Clustering\\Third Test\\Time-Series-PhD\\wandb\\run-20230227_145645-cokdvgo2\\files\\model-best)... Done. 0.2s\n"
     ]
    },
    {
     "name": "stdout",
     "output_type": "stream",
     "text": [
      "369/369 [==============================] - 16s 42ms/step - loss: 0.2199 - mse: 0.2199 - val_loss: 0.2346 - val_mse: 0.2346 - lr: 7.0501e-05\n",
      "Epoch 42/100\n",
      "369/369 [==============================] - ETA: 0s - loss: 0.2191 - mse: 0.2191"
     ]
    },
    {
     "name": "stderr",
     "output_type": "stream",
     "text": [
      "WARNING:absl:Found untraced functions such as leaky_re_lu_layer_call_fn, leaky_re_lu_layer_call_and_return_conditional_losses, leaky_re_lu_1_layer_call_fn, leaky_re_lu_1_layer_call_and_return_conditional_losses, leaky_re_lu_2_layer_call_fn while saving (showing 5 of 12). These functions will not be directly callable after loading.\n"
     ]
    },
    {
     "name": "stdout",
     "output_type": "stream",
     "text": [
      "INFO:tensorflow:Assets written to: C:\\Users\\ucesvpm\\OneDrive - University College London\\PhD Project\\Data Analytics\\Time Series Clustering\\Third Test\\Time-Series-PhD\\wandb\\run-20230227_145645-cokdvgo2\\files\\model-best\\assets\n"
     ]
    },
    {
     "name": "stderr",
     "output_type": "stream",
     "text": [
      "INFO:tensorflow:Assets written to: C:\\Users\\ucesvpm\\OneDrive - University College London\\PhD Project\\Data Analytics\\Time Series Clustering\\Third Test\\Time-Series-PhD\\wandb\\run-20230227_145645-cokdvgo2\\files\\model-best\\assets\n",
      "\u001b[34m\u001b[1mwandb\u001b[0m: Adding directory to artifact (C:\\Users\\ucesvpm\\OneDrive - University College London\\PhD Project\\Data Analytics\\Time Series Clustering\\Third Test\\Time-Series-PhD\\wandb\\run-20230227_145645-cokdvgo2\\files\\model-best)... Done. 0.3s\n"
     ]
    },
    {
     "name": "stdout",
     "output_type": "stream",
     "text": [
      "369/369 [==============================] - 16s 42ms/step - loss: 0.2191 - mse: 0.2191 - val_loss: 0.2338 - val_mse: 0.2338 - lr: 7.0501e-05\n",
      "Epoch 43/100\n",
      "369/369 [==============================] - 11s 31ms/step - loss: 0.2183 - mse: 0.2183 - val_loss: 0.2340 - val_mse: 0.2340 - lr: 7.0501e-05\n",
      "Epoch 44/100\n",
      "368/369 [============================>.] - ETA: 0s - loss: 0.2176 - mse: 0.2176"
     ]
    },
    {
     "name": "stderr",
     "output_type": "stream",
     "text": [
      "WARNING:absl:Found untraced functions such as leaky_re_lu_layer_call_fn, leaky_re_lu_layer_call_and_return_conditional_losses, leaky_re_lu_1_layer_call_fn, leaky_re_lu_1_layer_call_and_return_conditional_losses, leaky_re_lu_2_layer_call_fn while saving (showing 5 of 12). These functions will not be directly callable after loading.\n"
     ]
    },
    {
     "name": "stdout",
     "output_type": "stream",
     "text": [
      "INFO:tensorflow:Assets written to: C:\\Users\\ucesvpm\\OneDrive - University College London\\PhD Project\\Data Analytics\\Time Series Clustering\\Third Test\\Time-Series-PhD\\wandb\\run-20230227_145645-cokdvgo2\\files\\model-best\\assets\n"
     ]
    },
    {
     "name": "stderr",
     "output_type": "stream",
     "text": [
      "INFO:tensorflow:Assets written to: C:\\Users\\ucesvpm\\OneDrive - University College London\\PhD Project\\Data Analytics\\Time Series Clustering\\Third Test\\Time-Series-PhD\\wandb\\run-20230227_145645-cokdvgo2\\files\\model-best\\assets\n",
      "\u001b[34m\u001b[1mwandb\u001b[0m: Adding directory to artifact (C:\\Users\\ucesvpm\\OneDrive - University College London\\PhD Project\\Data Analytics\\Time Series Clustering\\Third Test\\Time-Series-PhD\\wandb\\run-20230227_145645-cokdvgo2\\files\\model-best)... Done. 0.2s\n"
     ]
    },
    {
     "name": "stdout",
     "output_type": "stream",
     "text": [
      "369/369 [==============================] - 15s 40ms/step - loss: 0.2175 - mse: 0.2175 - val_loss: 0.2337 - val_mse: 0.2337 - lr: 7.0501e-05\n",
      "Epoch 45/100\n",
      "368/369 [============================>.] - ETA: 0s - loss: 0.2168 - mse: 0.2168"
     ]
    },
    {
     "name": "stderr",
     "output_type": "stream",
     "text": [
      "WARNING:absl:Found untraced functions such as leaky_re_lu_layer_call_fn, leaky_re_lu_layer_call_and_return_conditional_losses, leaky_re_lu_1_layer_call_fn, leaky_re_lu_1_layer_call_and_return_conditional_losses, leaky_re_lu_2_layer_call_fn while saving (showing 5 of 12). These functions will not be directly callable after loading.\n"
     ]
    },
    {
     "name": "stdout",
     "output_type": "stream",
     "text": [
      "INFO:tensorflow:Assets written to: C:\\Users\\ucesvpm\\OneDrive - University College London\\PhD Project\\Data Analytics\\Time Series Clustering\\Third Test\\Time-Series-PhD\\wandb\\run-20230227_145645-cokdvgo2\\files\\model-best\\assets\n"
     ]
    },
    {
     "name": "stderr",
     "output_type": "stream",
     "text": [
      "INFO:tensorflow:Assets written to: C:\\Users\\ucesvpm\\OneDrive - University College London\\PhD Project\\Data Analytics\\Time Series Clustering\\Third Test\\Time-Series-PhD\\wandb\\run-20230227_145645-cokdvgo2\\files\\model-best\\assets\n",
      "\u001b[34m\u001b[1mwandb\u001b[0m: Adding directory to artifact (C:\\Users\\ucesvpm\\OneDrive - University College London\\PhD Project\\Data Analytics\\Time Series Clustering\\Third Test\\Time-Series-PhD\\wandb\\run-20230227_145645-cokdvgo2\\files\\model-best)... Done. 0.2s\n"
     ]
    },
    {
     "name": "stdout",
     "output_type": "stream",
     "text": [
      "369/369 [==============================] - 15s 40ms/step - loss: 0.2168 - mse: 0.2168 - val_loss: 0.2325 - val_mse: 0.2325 - lr: 7.0501e-05\n",
      "Epoch 46/100\n",
      "369/369 [==============================] - ETA: 0s - loss: 0.2160 - mse: 0.2160"
     ]
    },
    {
     "name": "stderr",
     "output_type": "stream",
     "text": [
      "WARNING:absl:Found untraced functions such as leaky_re_lu_layer_call_fn, leaky_re_lu_layer_call_and_return_conditional_losses, leaky_re_lu_1_layer_call_fn, leaky_re_lu_1_layer_call_and_return_conditional_losses, leaky_re_lu_2_layer_call_fn while saving (showing 5 of 12). These functions will not be directly callable after loading.\n"
     ]
    },
    {
     "name": "stdout",
     "output_type": "stream",
     "text": [
      "INFO:tensorflow:Assets written to: C:\\Users\\ucesvpm\\OneDrive - University College London\\PhD Project\\Data Analytics\\Time Series Clustering\\Third Test\\Time-Series-PhD\\wandb\\run-20230227_145645-cokdvgo2\\files\\model-best\\assets\n"
     ]
    },
    {
     "name": "stderr",
     "output_type": "stream",
     "text": [
      "INFO:tensorflow:Assets written to: C:\\Users\\ucesvpm\\OneDrive - University College London\\PhD Project\\Data Analytics\\Time Series Clustering\\Third Test\\Time-Series-PhD\\wandb\\run-20230227_145645-cokdvgo2\\files\\model-best\\assets\n",
      "\u001b[34m\u001b[1mwandb\u001b[0m: Adding directory to artifact (C:\\Users\\ucesvpm\\OneDrive - University College London\\PhD Project\\Data Analytics\\Time Series Clustering\\Third Test\\Time-Series-PhD\\wandb\\run-20230227_145645-cokdvgo2\\files\\model-best)... Done. 0.1s\n"
     ]
    },
    {
     "name": "stdout",
     "output_type": "stream",
     "text": [
      "369/369 [==============================] - 15s 40ms/step - loss: 0.2160 - mse: 0.2160 - val_loss: 0.2320 - val_mse: 0.2320 - lr: 7.0501e-05\n",
      "Epoch 47/100\n",
      "368/369 [============================>.] - ETA: 0s - loss: 0.2151 - mse: 0.2151"
     ]
    },
    {
     "name": "stderr",
     "output_type": "stream",
     "text": [
      "WARNING:absl:Found untraced functions such as leaky_re_lu_layer_call_fn, leaky_re_lu_layer_call_and_return_conditional_losses, leaky_re_lu_1_layer_call_fn, leaky_re_lu_1_layer_call_and_return_conditional_losses, leaky_re_lu_2_layer_call_fn while saving (showing 5 of 12). These functions will not be directly callable after loading.\n"
     ]
    },
    {
     "name": "stdout",
     "output_type": "stream",
     "text": [
      "INFO:tensorflow:Assets written to: C:\\Users\\ucesvpm\\OneDrive - University College London\\PhD Project\\Data Analytics\\Time Series Clustering\\Third Test\\Time-Series-PhD\\wandb\\run-20230227_145645-cokdvgo2\\files\\model-best\\assets\n"
     ]
    },
    {
     "name": "stderr",
     "output_type": "stream",
     "text": [
      "INFO:tensorflow:Assets written to: C:\\Users\\ucesvpm\\OneDrive - University College London\\PhD Project\\Data Analytics\\Time Series Clustering\\Third Test\\Time-Series-PhD\\wandb\\run-20230227_145645-cokdvgo2\\files\\model-best\\assets\n",
      "\u001b[34m\u001b[1mwandb\u001b[0m: Adding directory to artifact (C:\\Users\\ucesvpm\\OneDrive - University College London\\PhD Project\\Data Analytics\\Time Series Clustering\\Third Test\\Time-Series-PhD\\wandb\\run-20230227_145645-cokdvgo2\\files\\model-best)... Done. 0.2s\n"
     ]
    },
    {
     "name": "stdout",
     "output_type": "stream",
     "text": [
      "369/369 [==============================] - 15s 39ms/step - loss: 0.2152 - mse: 0.2152 - val_loss: 0.2317 - val_mse: 0.2317 - lr: 7.0501e-05\n",
      "Epoch 48/100\n",
      "369/369 [==============================] - ETA: 0s - loss: 0.2145 - mse: 0.2145"
     ]
    },
    {
     "name": "stderr",
     "output_type": "stream",
     "text": [
      "WARNING:absl:Found untraced functions such as leaky_re_lu_layer_call_fn, leaky_re_lu_layer_call_and_return_conditional_losses, leaky_re_lu_1_layer_call_fn, leaky_re_lu_1_layer_call_and_return_conditional_losses, leaky_re_lu_2_layer_call_fn while saving (showing 5 of 12). These functions will not be directly callable after loading.\n"
     ]
    },
    {
     "name": "stdout",
     "output_type": "stream",
     "text": [
      "INFO:tensorflow:Assets written to: C:\\Users\\ucesvpm\\OneDrive - University College London\\PhD Project\\Data Analytics\\Time Series Clustering\\Third Test\\Time-Series-PhD\\wandb\\run-20230227_145645-cokdvgo2\\files\\model-best\\assets\n"
     ]
    },
    {
     "name": "stderr",
     "output_type": "stream",
     "text": [
      "INFO:tensorflow:Assets written to: C:\\Users\\ucesvpm\\OneDrive - University College London\\PhD Project\\Data Analytics\\Time Series Clustering\\Third Test\\Time-Series-PhD\\wandb\\run-20230227_145645-cokdvgo2\\files\\model-best\\assets\n",
      "\u001b[34m\u001b[1mwandb\u001b[0m: Adding directory to artifact (C:\\Users\\ucesvpm\\OneDrive - University College London\\PhD Project\\Data Analytics\\Time Series Clustering\\Third Test\\Time-Series-PhD\\wandb\\run-20230227_145645-cokdvgo2\\files\\model-best)... Done. 0.2s\n"
     ]
    },
    {
     "name": "stdout",
     "output_type": "stream",
     "text": [
      "369/369 [==============================] - 15s 40ms/step - loss: 0.2145 - mse: 0.2145 - val_loss: 0.2313 - val_mse: 0.2313 - lr: 7.0501e-05\n",
      "Epoch 49/100\n",
      "368/369 [============================>.] - ETA: 0s - loss: 0.2137 - mse: 0.2137"
     ]
    },
    {
     "name": "stderr",
     "output_type": "stream",
     "text": [
      "WARNING:absl:Found untraced functions such as leaky_re_lu_layer_call_fn, leaky_re_lu_layer_call_and_return_conditional_losses, leaky_re_lu_1_layer_call_fn, leaky_re_lu_1_layer_call_and_return_conditional_losses, leaky_re_lu_2_layer_call_fn while saving (showing 5 of 12). These functions will not be directly callable after loading.\n"
     ]
    },
    {
     "name": "stdout",
     "output_type": "stream",
     "text": [
      "INFO:tensorflow:Assets written to: C:\\Users\\ucesvpm\\OneDrive - University College London\\PhD Project\\Data Analytics\\Time Series Clustering\\Third Test\\Time-Series-PhD\\wandb\\run-20230227_145645-cokdvgo2\\files\\model-best\\assets\n"
     ]
    },
    {
     "name": "stderr",
     "output_type": "stream",
     "text": [
      "INFO:tensorflow:Assets written to: C:\\Users\\ucesvpm\\OneDrive - University College London\\PhD Project\\Data Analytics\\Time Series Clustering\\Third Test\\Time-Series-PhD\\wandb\\run-20230227_145645-cokdvgo2\\files\\model-best\\assets\n",
      "\u001b[34m\u001b[1mwandb\u001b[0m: Adding directory to artifact (C:\\Users\\ucesvpm\\OneDrive - University College London\\PhD Project\\Data Analytics\\Time Series Clustering\\Third Test\\Time-Series-PhD\\wandb\\run-20230227_145645-cokdvgo2\\files\\model-best)... Done. 0.2s\n"
     ]
    },
    {
     "name": "stdout",
     "output_type": "stream",
     "text": [
      "369/369 [==============================] - 15s 40ms/step - loss: 0.2137 - mse: 0.2137 - val_loss: 0.2308 - val_mse: 0.2308 - lr: 7.0501e-05\n",
      "Epoch 50/100\n",
      "368/369 [============================>.] - ETA: 0s - loss: 0.2131 - mse: 0.2131"
     ]
    },
    {
     "name": "stderr",
     "output_type": "stream",
     "text": [
      "WARNING:absl:Found untraced functions such as leaky_re_lu_layer_call_fn, leaky_re_lu_layer_call_and_return_conditional_losses, leaky_re_lu_1_layer_call_fn, leaky_re_lu_1_layer_call_and_return_conditional_losses, leaky_re_lu_2_layer_call_fn while saving (showing 5 of 12). These functions will not be directly callable after loading.\n"
     ]
    },
    {
     "name": "stdout",
     "output_type": "stream",
     "text": [
      "INFO:tensorflow:Assets written to: C:\\Users\\ucesvpm\\OneDrive - University College London\\PhD Project\\Data Analytics\\Time Series Clustering\\Third Test\\Time-Series-PhD\\wandb\\run-20230227_145645-cokdvgo2\\files\\model-best\\assets\n"
     ]
    },
    {
     "name": "stderr",
     "output_type": "stream",
     "text": [
      "INFO:tensorflow:Assets written to: C:\\Users\\ucesvpm\\OneDrive - University College London\\PhD Project\\Data Analytics\\Time Series Clustering\\Third Test\\Time-Series-PhD\\wandb\\run-20230227_145645-cokdvgo2\\files\\model-best\\assets\n",
      "\u001b[34m\u001b[1mwandb\u001b[0m: Adding directory to artifact (C:\\Users\\ucesvpm\\OneDrive - University College London\\PhD Project\\Data Analytics\\Time Series Clustering\\Third Test\\Time-Series-PhD\\wandb\\run-20230227_145645-cokdvgo2\\files\\model-best)... Done. 0.1s\n"
     ]
    },
    {
     "name": "stdout",
     "output_type": "stream",
     "text": [
      "369/369 [==============================] - 15s 41ms/step - loss: 0.2130 - mse: 0.2130 - val_loss: 0.2302 - val_mse: 0.2302 - lr: 7.0501e-05\n",
      "Epoch 51/100\n",
      "369/369 [==============================] - ETA: 0s - loss: 0.2123 - mse: 0.2123"
     ]
    },
    {
     "name": "stderr",
     "output_type": "stream",
     "text": [
      "WARNING:absl:Found untraced functions such as leaky_re_lu_layer_call_fn, leaky_re_lu_layer_call_and_return_conditional_losses, leaky_re_lu_1_layer_call_fn, leaky_re_lu_1_layer_call_and_return_conditional_losses, leaky_re_lu_2_layer_call_fn while saving (showing 5 of 12). These functions will not be directly callable after loading.\n"
     ]
    },
    {
     "name": "stdout",
     "output_type": "stream",
     "text": [
      "INFO:tensorflow:Assets written to: C:\\Users\\ucesvpm\\OneDrive - University College London\\PhD Project\\Data Analytics\\Time Series Clustering\\Third Test\\Time-Series-PhD\\wandb\\run-20230227_145645-cokdvgo2\\files\\model-best\\assets\n"
     ]
    },
    {
     "name": "stderr",
     "output_type": "stream",
     "text": [
      "INFO:tensorflow:Assets written to: C:\\Users\\ucesvpm\\OneDrive - University College London\\PhD Project\\Data Analytics\\Time Series Clustering\\Third Test\\Time-Series-PhD\\wandb\\run-20230227_145645-cokdvgo2\\files\\model-best\\assets\n",
      "\u001b[34m\u001b[1mwandb\u001b[0m: Adding directory to artifact (C:\\Users\\ucesvpm\\OneDrive - University College London\\PhD Project\\Data Analytics\\Time Series Clustering\\Third Test\\Time-Series-PhD\\wandb\\run-20230227_145645-cokdvgo2\\files\\model-best)... Done. 0.2s\n"
     ]
    },
    {
     "name": "stdout",
     "output_type": "stream",
     "text": [
      "369/369 [==============================] - 15s 41ms/step - loss: 0.2123 - mse: 0.2123 - val_loss: 0.2299 - val_mse: 0.2299 - lr: 7.0501e-05\n",
      "Epoch 52/100\n",
      "369/369 [==============================] - ETA: 0s - loss: 0.2116 - mse: 0.2116"
     ]
    },
    {
     "name": "stderr",
     "output_type": "stream",
     "text": [
      "WARNING:absl:Found untraced functions such as leaky_re_lu_layer_call_fn, leaky_re_lu_layer_call_and_return_conditional_losses, leaky_re_lu_1_layer_call_fn, leaky_re_lu_1_layer_call_and_return_conditional_losses, leaky_re_lu_2_layer_call_fn while saving (showing 5 of 12). These functions will not be directly callable after loading.\n"
     ]
    },
    {
     "name": "stdout",
     "output_type": "stream",
     "text": [
      "INFO:tensorflow:Assets written to: C:\\Users\\ucesvpm\\OneDrive - University College London\\PhD Project\\Data Analytics\\Time Series Clustering\\Third Test\\Time-Series-PhD\\wandb\\run-20230227_145645-cokdvgo2\\files\\model-best\\assets\n"
     ]
    },
    {
     "name": "stderr",
     "output_type": "stream",
     "text": [
      "INFO:tensorflow:Assets written to: C:\\Users\\ucesvpm\\OneDrive - University College London\\PhD Project\\Data Analytics\\Time Series Clustering\\Third Test\\Time-Series-PhD\\wandb\\run-20230227_145645-cokdvgo2\\files\\model-best\\assets\n",
      "\u001b[34m\u001b[1mwandb\u001b[0m: Adding directory to artifact (C:\\Users\\ucesvpm\\OneDrive - University College London\\PhD Project\\Data Analytics\\Time Series Clustering\\Third Test\\Time-Series-PhD\\wandb\\run-20230227_145645-cokdvgo2\\files\\model-best)... Done. 0.2s\n"
     ]
    },
    {
     "name": "stdout",
     "output_type": "stream",
     "text": [
      "369/369 [==============================] - 17s 46ms/step - loss: 0.2116 - mse: 0.2116 - val_loss: 0.2298 - val_mse: 0.2298 - lr: 7.0501e-05\n",
      "Epoch 53/100\n",
      "369/369 [==============================] - ETA: 0s - loss: 0.2109 - mse: 0.2109"
     ]
    },
    {
     "name": "stderr",
     "output_type": "stream",
     "text": [
      "WARNING:absl:Found untraced functions such as leaky_re_lu_layer_call_fn, leaky_re_lu_layer_call_and_return_conditional_losses, leaky_re_lu_1_layer_call_fn, leaky_re_lu_1_layer_call_and_return_conditional_losses, leaky_re_lu_2_layer_call_fn while saving (showing 5 of 12). These functions will not be directly callable after loading.\n"
     ]
    },
    {
     "name": "stdout",
     "output_type": "stream",
     "text": [
      "INFO:tensorflow:Assets written to: C:\\Users\\ucesvpm\\OneDrive - University College London\\PhD Project\\Data Analytics\\Time Series Clustering\\Third Test\\Time-Series-PhD\\wandb\\run-20230227_145645-cokdvgo2\\files\\model-best\\assets\n"
     ]
    },
    {
     "name": "stderr",
     "output_type": "stream",
     "text": [
      "INFO:tensorflow:Assets written to: C:\\Users\\ucesvpm\\OneDrive - University College London\\PhD Project\\Data Analytics\\Time Series Clustering\\Third Test\\Time-Series-PhD\\wandb\\run-20230227_145645-cokdvgo2\\files\\model-best\\assets\n",
      "\u001b[34m\u001b[1mwandb\u001b[0m: Adding directory to artifact (C:\\Users\\ucesvpm\\OneDrive - University College London\\PhD Project\\Data Analytics\\Time Series Clustering\\Third Test\\Time-Series-PhD\\wandb\\run-20230227_145645-cokdvgo2\\files\\model-best)... Done. 1.1s\n"
     ]
    },
    {
     "name": "stdout",
     "output_type": "stream",
     "text": [
      "369/369 [==============================] - 18s 48ms/step - loss: 0.2109 - mse: 0.2109 - val_loss: 0.2295 - val_mse: 0.2295 - lr: 7.0501e-05\n",
      "Epoch 54/100\n",
      "369/369 [==============================] - ETA: 0s - loss: 0.2102 - mse: 0.2102"
     ]
    },
    {
     "name": "stderr",
     "output_type": "stream",
     "text": [
      "WARNING:absl:Found untraced functions such as leaky_re_lu_layer_call_fn, leaky_re_lu_layer_call_and_return_conditional_losses, leaky_re_lu_1_layer_call_fn, leaky_re_lu_1_layer_call_and_return_conditional_losses, leaky_re_lu_2_layer_call_fn while saving (showing 5 of 12). These functions will not be directly callable after loading.\n"
     ]
    },
    {
     "name": "stdout",
     "output_type": "stream",
     "text": [
      "INFO:tensorflow:Assets written to: C:\\Users\\ucesvpm\\OneDrive - University College London\\PhD Project\\Data Analytics\\Time Series Clustering\\Third Test\\Time-Series-PhD\\wandb\\run-20230227_145645-cokdvgo2\\files\\model-best\\assets\n"
     ]
    },
    {
     "name": "stderr",
     "output_type": "stream",
     "text": [
      "INFO:tensorflow:Assets written to: C:\\Users\\ucesvpm\\OneDrive - University College London\\PhD Project\\Data Analytics\\Time Series Clustering\\Third Test\\Time-Series-PhD\\wandb\\run-20230227_145645-cokdvgo2\\files\\model-best\\assets\n",
      "\u001b[34m\u001b[1mwandb\u001b[0m: Adding directory to artifact (C:\\Users\\ucesvpm\\OneDrive - University College London\\PhD Project\\Data Analytics\\Time Series Clustering\\Third Test\\Time-Series-PhD\\wandb\\run-20230227_145645-cokdvgo2\\files\\model-best)... Done. 0.3s\n"
     ]
    },
    {
     "name": "stdout",
     "output_type": "stream",
     "text": [
      "369/369 [==============================] - 15s 40ms/step - loss: 0.2102 - mse: 0.2102 - val_loss: 0.2286 - val_mse: 0.2286 - lr: 7.0501e-05\n",
      "Epoch 55/100\n",
      "368/369 [============================>.] - ETA: 0s - loss: 0.2094 - mse: 0.2094"
     ]
    },
    {
     "name": "stderr",
     "output_type": "stream",
     "text": [
      "WARNING:absl:Found untraced functions such as leaky_re_lu_layer_call_fn, leaky_re_lu_layer_call_and_return_conditional_losses, leaky_re_lu_1_layer_call_fn, leaky_re_lu_1_layer_call_and_return_conditional_losses, leaky_re_lu_2_layer_call_fn while saving (showing 5 of 12). These functions will not be directly callable after loading.\n"
     ]
    },
    {
     "name": "stdout",
     "output_type": "stream",
     "text": [
      "INFO:tensorflow:Assets written to: C:\\Users\\ucesvpm\\OneDrive - University College London\\PhD Project\\Data Analytics\\Time Series Clustering\\Third Test\\Time-Series-PhD\\wandb\\run-20230227_145645-cokdvgo2\\files\\model-best\\assets\n"
     ]
    },
    {
     "name": "stderr",
     "output_type": "stream",
     "text": [
      "INFO:tensorflow:Assets written to: C:\\Users\\ucesvpm\\OneDrive - University College London\\PhD Project\\Data Analytics\\Time Series Clustering\\Third Test\\Time-Series-PhD\\wandb\\run-20230227_145645-cokdvgo2\\files\\model-best\\assets\n",
      "\u001b[34m\u001b[1mwandb\u001b[0m: Adding directory to artifact (C:\\Users\\ucesvpm\\OneDrive - University College London\\PhD Project\\Data Analytics\\Time Series Clustering\\Third Test\\Time-Series-PhD\\wandb\\run-20230227_145645-cokdvgo2\\files\\model-best)... Done. 0.3s\n"
     ]
    },
    {
     "name": "stdout",
     "output_type": "stream",
     "text": [
      "369/369 [==============================] - 16s 43ms/step - loss: 0.2094 - mse: 0.2094 - val_loss: 0.2280 - val_mse: 0.2280 - lr: 7.0501e-05\n",
      "Epoch 56/100\n",
      "369/369 [==============================] - ETA: 0s - loss: 0.2087 - mse: 0.2087"
     ]
    },
    {
     "name": "stderr",
     "output_type": "stream",
     "text": [
      "WARNING:absl:Found untraced functions such as leaky_re_lu_layer_call_fn, leaky_re_lu_layer_call_and_return_conditional_losses, leaky_re_lu_1_layer_call_fn, leaky_re_lu_1_layer_call_and_return_conditional_losses, leaky_re_lu_2_layer_call_fn while saving (showing 5 of 12). These functions will not be directly callable after loading.\n"
     ]
    },
    {
     "name": "stdout",
     "output_type": "stream",
     "text": [
      "INFO:tensorflow:Assets written to: C:\\Users\\ucesvpm\\OneDrive - University College London\\PhD Project\\Data Analytics\\Time Series Clustering\\Third Test\\Time-Series-PhD\\wandb\\run-20230227_145645-cokdvgo2\\files\\model-best\\assets\n"
     ]
    },
    {
     "name": "stderr",
     "output_type": "stream",
     "text": [
      "INFO:tensorflow:Assets written to: C:\\Users\\ucesvpm\\OneDrive - University College London\\PhD Project\\Data Analytics\\Time Series Clustering\\Third Test\\Time-Series-PhD\\wandb\\run-20230227_145645-cokdvgo2\\files\\model-best\\assets\n",
      "\u001b[34m\u001b[1mwandb\u001b[0m: Adding directory to artifact (C:\\Users\\ucesvpm\\OneDrive - University College London\\PhD Project\\Data Analytics\\Time Series Clustering\\Third Test\\Time-Series-PhD\\wandb\\run-20230227_145645-cokdvgo2\\files\\model-best)... Done. 0.3s\n"
     ]
    },
    {
     "name": "stdout",
     "output_type": "stream",
     "text": [
      "369/369 [==============================] - 16s 43ms/step - loss: 0.2087 - mse: 0.2087 - val_loss: 0.2273 - val_mse: 0.2273 - lr: 7.0501e-05\n",
      "Epoch 57/100\n",
      "369/369 [==============================] - 12s 33ms/step - loss: 0.2081 - mse: 0.2081 - val_loss: 0.2275 - val_mse: 0.2275 - lr: 7.0501e-05\n",
      "Epoch 58/100\n",
      "368/369 [============================>.] - ETA: 0s - loss: 0.2073 - mse: 0.2073"
     ]
    },
    {
     "name": "stderr",
     "output_type": "stream",
     "text": [
      "WARNING:absl:Found untraced functions such as leaky_re_lu_layer_call_fn, leaky_re_lu_layer_call_and_return_conditional_losses, leaky_re_lu_1_layer_call_fn, leaky_re_lu_1_layer_call_and_return_conditional_losses, leaky_re_lu_2_layer_call_fn while saving (showing 5 of 12). These functions will not be directly callable after loading.\n"
     ]
    },
    {
     "name": "stdout",
     "output_type": "stream",
     "text": [
      "INFO:tensorflow:Assets written to: C:\\Users\\ucesvpm\\OneDrive - University College London\\PhD Project\\Data Analytics\\Time Series Clustering\\Third Test\\Time-Series-PhD\\wandb\\run-20230227_145645-cokdvgo2\\files\\model-best\\assets\n"
     ]
    },
    {
     "name": "stderr",
     "output_type": "stream",
     "text": [
      "INFO:tensorflow:Assets written to: C:\\Users\\ucesvpm\\OneDrive - University College London\\PhD Project\\Data Analytics\\Time Series Clustering\\Third Test\\Time-Series-PhD\\wandb\\run-20230227_145645-cokdvgo2\\files\\model-best\\assets\n",
      "\u001b[34m\u001b[1mwandb\u001b[0m: Adding directory to artifact (C:\\Users\\ucesvpm\\OneDrive - University College London\\PhD Project\\Data Analytics\\Time Series Clustering\\Third Test\\Time-Series-PhD\\wandb\\run-20230227_145645-cokdvgo2\\files\\model-best)... Done. 0.3s\n"
     ]
    },
    {
     "name": "stdout",
     "output_type": "stream",
     "text": [
      "369/369 [==============================] - 15s 42ms/step - loss: 0.2073 - mse: 0.2073 - val_loss: 0.2272 - val_mse: 0.2272 - lr: 7.0501e-05\n",
      "Epoch 59/100\n",
      "368/369 [============================>.] - ETA: 0s - loss: 0.2066 - mse: 0.2066"
     ]
    },
    {
     "name": "stderr",
     "output_type": "stream",
     "text": [
      "WARNING:absl:Found untraced functions such as leaky_re_lu_layer_call_fn, leaky_re_lu_layer_call_and_return_conditional_losses, leaky_re_lu_1_layer_call_fn, leaky_re_lu_1_layer_call_and_return_conditional_losses, leaky_re_lu_2_layer_call_fn while saving (showing 5 of 12). These functions will not be directly callable after loading.\n"
     ]
    },
    {
     "name": "stdout",
     "output_type": "stream",
     "text": [
      "INFO:tensorflow:Assets written to: C:\\Users\\ucesvpm\\OneDrive - University College London\\PhD Project\\Data Analytics\\Time Series Clustering\\Third Test\\Time-Series-PhD\\wandb\\run-20230227_145645-cokdvgo2\\files\\model-best\\assets\n"
     ]
    },
    {
     "name": "stderr",
     "output_type": "stream",
     "text": [
      "INFO:tensorflow:Assets written to: C:\\Users\\ucesvpm\\OneDrive - University College London\\PhD Project\\Data Analytics\\Time Series Clustering\\Third Test\\Time-Series-PhD\\wandb\\run-20230227_145645-cokdvgo2\\files\\model-best\\assets\n",
      "\u001b[34m\u001b[1mwandb\u001b[0m: Adding directory to artifact (C:\\Users\\ucesvpm\\OneDrive - University College London\\PhD Project\\Data Analytics\\Time Series Clustering\\Third Test\\Time-Series-PhD\\wandb\\run-20230227_145645-cokdvgo2\\files\\model-best)... Done. 0.3s\n"
     ]
    },
    {
     "name": "stdout",
     "output_type": "stream",
     "text": [
      "369/369 [==============================] - 15s 40ms/step - loss: 0.2067 - mse: 0.2067 - val_loss: 0.2264 - val_mse: 0.2264 - lr: 7.0501e-05\n",
      "Epoch 60/100\n",
      "368/369 [============================>.] - ETA: 0s - loss: 0.2060 - mse: 0.2060"
     ]
    },
    {
     "name": "stderr",
     "output_type": "stream",
     "text": [
      "WARNING:absl:Found untraced functions such as leaky_re_lu_layer_call_fn, leaky_re_lu_layer_call_and_return_conditional_losses, leaky_re_lu_1_layer_call_fn, leaky_re_lu_1_layer_call_and_return_conditional_losses, leaky_re_lu_2_layer_call_fn while saving (showing 5 of 12). These functions will not be directly callable after loading.\n"
     ]
    },
    {
     "name": "stdout",
     "output_type": "stream",
     "text": [
      "INFO:tensorflow:Assets written to: C:\\Users\\ucesvpm\\OneDrive - University College London\\PhD Project\\Data Analytics\\Time Series Clustering\\Third Test\\Time-Series-PhD\\wandb\\run-20230227_145645-cokdvgo2\\files\\model-best\\assets\n"
     ]
    },
    {
     "name": "stderr",
     "output_type": "stream",
     "text": [
      "INFO:tensorflow:Assets written to: C:\\Users\\ucesvpm\\OneDrive - University College London\\PhD Project\\Data Analytics\\Time Series Clustering\\Third Test\\Time-Series-PhD\\wandb\\run-20230227_145645-cokdvgo2\\files\\model-best\\assets\n",
      "\u001b[34m\u001b[1mwandb\u001b[0m: Adding directory to artifact (C:\\Users\\ucesvpm\\OneDrive - University College London\\PhD Project\\Data Analytics\\Time Series Clustering\\Third Test\\Time-Series-PhD\\wandb\\run-20230227_145645-cokdvgo2\\files\\model-best)... Done. 0.2s\n"
     ]
    },
    {
     "name": "stdout",
     "output_type": "stream",
     "text": [
      "369/369 [==============================] - 15s 40ms/step - loss: 0.2059 - mse: 0.2059 - val_loss: 0.2259 - val_mse: 0.2259 - lr: 7.0501e-05\n",
      "Epoch 61/100\n",
      "368/369 [============================>.] - ETA: 0s - loss: 0.2053 - mse: 0.2053"
     ]
    },
    {
     "name": "stderr",
     "output_type": "stream",
     "text": [
      "WARNING:absl:Found untraced functions such as leaky_re_lu_layer_call_fn, leaky_re_lu_layer_call_and_return_conditional_losses, leaky_re_lu_1_layer_call_fn, leaky_re_lu_1_layer_call_and_return_conditional_losses, leaky_re_lu_2_layer_call_fn while saving (showing 5 of 12). These functions will not be directly callable after loading.\n"
     ]
    },
    {
     "name": "stdout",
     "output_type": "stream",
     "text": [
      "INFO:tensorflow:Assets written to: C:\\Users\\ucesvpm\\OneDrive - University College London\\PhD Project\\Data Analytics\\Time Series Clustering\\Third Test\\Time-Series-PhD\\wandb\\run-20230227_145645-cokdvgo2\\files\\model-best\\assets\n"
     ]
    },
    {
     "name": "stderr",
     "output_type": "stream",
     "text": [
      "INFO:tensorflow:Assets written to: C:\\Users\\ucesvpm\\OneDrive - University College London\\PhD Project\\Data Analytics\\Time Series Clustering\\Third Test\\Time-Series-PhD\\wandb\\run-20230227_145645-cokdvgo2\\files\\model-best\\assets\n",
      "\u001b[34m\u001b[1mwandb\u001b[0m: Adding directory to artifact (C:\\Users\\ucesvpm\\OneDrive - University College London\\PhD Project\\Data Analytics\\Time Series Clustering\\Third Test\\Time-Series-PhD\\wandb\\run-20230227_145645-cokdvgo2\\files\\model-best)... Done. 0.1s\n"
     ]
    },
    {
     "name": "stdout",
     "output_type": "stream",
     "text": [
      "369/369 [==============================] - 15s 40ms/step - loss: 0.2053 - mse: 0.2053 - val_loss: 0.2256 - val_mse: 0.2256 - lr: 7.0501e-05\n",
      "Epoch 62/100\n",
      "368/369 [============================>.] - ETA: 0s - loss: 0.2046 - mse: 0.2046"
     ]
    },
    {
     "name": "stderr",
     "output_type": "stream",
     "text": [
      "WARNING:absl:Found untraced functions such as leaky_re_lu_layer_call_fn, leaky_re_lu_layer_call_and_return_conditional_losses, leaky_re_lu_1_layer_call_fn, leaky_re_lu_1_layer_call_and_return_conditional_losses, leaky_re_lu_2_layer_call_fn while saving (showing 5 of 12). These functions will not be directly callable after loading.\n"
     ]
    },
    {
     "name": "stdout",
     "output_type": "stream",
     "text": [
      "INFO:tensorflow:Assets written to: C:\\Users\\ucesvpm\\OneDrive - University College London\\PhD Project\\Data Analytics\\Time Series Clustering\\Third Test\\Time-Series-PhD\\wandb\\run-20230227_145645-cokdvgo2\\files\\model-best\\assets\n"
     ]
    },
    {
     "name": "stderr",
     "output_type": "stream",
     "text": [
      "INFO:tensorflow:Assets written to: C:\\Users\\ucesvpm\\OneDrive - University College London\\PhD Project\\Data Analytics\\Time Series Clustering\\Third Test\\Time-Series-PhD\\wandb\\run-20230227_145645-cokdvgo2\\files\\model-best\\assets\n",
      "\u001b[34m\u001b[1mwandb\u001b[0m: Adding directory to artifact (C:\\Users\\ucesvpm\\OneDrive - University College London\\PhD Project\\Data Analytics\\Time Series Clustering\\Third Test\\Time-Series-PhD\\wandb\\run-20230227_145645-cokdvgo2\\files\\model-best)... Done. 0.2s\n"
     ]
    },
    {
     "name": "stdout",
     "output_type": "stream",
     "text": [
      "369/369 [==============================] - 15s 39ms/step - loss: 0.2046 - mse: 0.2046 - val_loss: 0.2253 - val_mse: 0.2253 - lr: 7.0501e-05\n",
      "Epoch 63/100\n",
      "368/369 [============================>.] - ETA: 0s - loss: 0.2040 - mse: 0.2040"
     ]
    },
    {
     "name": "stderr",
     "output_type": "stream",
     "text": [
      "WARNING:absl:Found untraced functions such as leaky_re_lu_layer_call_fn, leaky_re_lu_layer_call_and_return_conditional_losses, leaky_re_lu_1_layer_call_fn, leaky_re_lu_1_layer_call_and_return_conditional_losses, leaky_re_lu_2_layer_call_fn while saving (showing 5 of 12). These functions will not be directly callable after loading.\n"
     ]
    },
    {
     "name": "stdout",
     "output_type": "stream",
     "text": [
      "INFO:tensorflow:Assets written to: C:\\Users\\ucesvpm\\OneDrive - University College London\\PhD Project\\Data Analytics\\Time Series Clustering\\Third Test\\Time-Series-PhD\\wandb\\run-20230227_145645-cokdvgo2\\files\\model-best\\assets\n"
     ]
    },
    {
     "name": "stderr",
     "output_type": "stream",
     "text": [
      "INFO:tensorflow:Assets written to: C:\\Users\\ucesvpm\\OneDrive - University College London\\PhD Project\\Data Analytics\\Time Series Clustering\\Third Test\\Time-Series-PhD\\wandb\\run-20230227_145645-cokdvgo2\\files\\model-best\\assets\n",
      "\u001b[34m\u001b[1mwandb\u001b[0m: Adding directory to artifact (C:\\Users\\ucesvpm\\OneDrive - University College London\\PhD Project\\Data Analytics\\Time Series Clustering\\Third Test\\Time-Series-PhD\\wandb\\run-20230227_145645-cokdvgo2\\files\\model-best)... Done. 0.2s\n"
     ]
    },
    {
     "name": "stdout",
     "output_type": "stream",
     "text": [
      "369/369 [==============================] - 15s 41ms/step - loss: 0.2040 - mse: 0.2040 - val_loss: 0.2250 - val_mse: 0.2250 - lr: 7.0501e-05\n",
      "Epoch 64/100\n",
      "368/369 [============================>.] - ETA: 0s - loss: 0.2033 - mse: 0.2033"
     ]
    },
    {
     "name": "stderr",
     "output_type": "stream",
     "text": [
      "WARNING:absl:Found untraced functions such as leaky_re_lu_layer_call_fn, leaky_re_lu_layer_call_and_return_conditional_losses, leaky_re_lu_1_layer_call_fn, leaky_re_lu_1_layer_call_and_return_conditional_losses, leaky_re_lu_2_layer_call_fn while saving (showing 5 of 12). These functions will not be directly callable after loading.\n"
     ]
    },
    {
     "name": "stdout",
     "output_type": "stream",
     "text": [
      "INFO:tensorflow:Assets written to: C:\\Users\\ucesvpm\\OneDrive - University College London\\PhD Project\\Data Analytics\\Time Series Clustering\\Third Test\\Time-Series-PhD\\wandb\\run-20230227_145645-cokdvgo2\\files\\model-best\\assets\n"
     ]
    },
    {
     "name": "stderr",
     "output_type": "stream",
     "text": [
      "INFO:tensorflow:Assets written to: C:\\Users\\ucesvpm\\OneDrive - University College London\\PhD Project\\Data Analytics\\Time Series Clustering\\Third Test\\Time-Series-PhD\\wandb\\run-20230227_145645-cokdvgo2\\files\\model-best\\assets\n",
      "\u001b[34m\u001b[1mwandb\u001b[0m: Adding directory to artifact (C:\\Users\\ucesvpm\\OneDrive - University College London\\PhD Project\\Data Analytics\\Time Series Clustering\\Third Test\\Time-Series-PhD\\wandb\\run-20230227_145645-cokdvgo2\\files\\model-best)... Done. 0.2s\n"
     ]
    },
    {
     "name": "stdout",
     "output_type": "stream",
     "text": [
      "369/369 [==============================] - 15s 40ms/step - loss: 0.2033 - mse: 0.2033 - val_loss: 0.2245 - val_mse: 0.2245 - lr: 7.0501e-05\n",
      "Epoch 65/100\n",
      "368/369 [============================>.] - ETA: 0s - loss: 0.2026 - mse: 0.2026"
     ]
    },
    {
     "name": "stderr",
     "output_type": "stream",
     "text": [
      "WARNING:absl:Found untraced functions such as leaky_re_lu_layer_call_fn, leaky_re_lu_layer_call_and_return_conditional_losses, leaky_re_lu_1_layer_call_fn, leaky_re_lu_1_layer_call_and_return_conditional_losses, leaky_re_lu_2_layer_call_fn while saving (showing 5 of 12). These functions will not be directly callable after loading.\n"
     ]
    },
    {
     "name": "stdout",
     "output_type": "stream",
     "text": [
      "INFO:tensorflow:Assets written to: C:\\Users\\ucesvpm\\OneDrive - University College London\\PhD Project\\Data Analytics\\Time Series Clustering\\Third Test\\Time-Series-PhD\\wandb\\run-20230227_145645-cokdvgo2\\files\\model-best\\assets\n"
     ]
    },
    {
     "name": "stderr",
     "output_type": "stream",
     "text": [
      "INFO:tensorflow:Assets written to: C:\\Users\\ucesvpm\\OneDrive - University College London\\PhD Project\\Data Analytics\\Time Series Clustering\\Third Test\\Time-Series-PhD\\wandb\\run-20230227_145645-cokdvgo2\\files\\model-best\\assets\n",
      "\u001b[34m\u001b[1mwandb\u001b[0m: Adding directory to artifact (C:\\Users\\ucesvpm\\OneDrive - University College London\\PhD Project\\Data Analytics\\Time Series Clustering\\Third Test\\Time-Series-PhD\\wandb\\run-20230227_145645-cokdvgo2\\files\\model-best)... Done. 0.2s\n"
     ]
    },
    {
     "name": "stdout",
     "output_type": "stream",
     "text": [
      "369/369 [==============================] - 15s 41ms/step - loss: 0.2026 - mse: 0.2026 - val_loss: 0.2245 - val_mse: 0.2245 - lr: 7.0501e-05\n",
      "Epoch 66/100\n",
      "368/369 [============================>.] - ETA: 0s - loss: 0.2019 - mse: 0.2019"
     ]
    },
    {
     "name": "stderr",
     "output_type": "stream",
     "text": [
      "WARNING:absl:Found untraced functions such as leaky_re_lu_layer_call_fn, leaky_re_lu_layer_call_and_return_conditional_losses, leaky_re_lu_1_layer_call_fn, leaky_re_lu_1_layer_call_and_return_conditional_losses, leaky_re_lu_2_layer_call_fn while saving (showing 5 of 12). These functions will not be directly callable after loading.\n"
     ]
    },
    {
     "name": "stdout",
     "output_type": "stream",
     "text": [
      "INFO:tensorflow:Assets written to: C:\\Users\\ucesvpm\\OneDrive - University College London\\PhD Project\\Data Analytics\\Time Series Clustering\\Third Test\\Time-Series-PhD\\wandb\\run-20230227_145645-cokdvgo2\\files\\model-best\\assets\n"
     ]
    },
    {
     "name": "stderr",
     "output_type": "stream",
     "text": [
      "INFO:tensorflow:Assets written to: C:\\Users\\ucesvpm\\OneDrive - University College London\\PhD Project\\Data Analytics\\Time Series Clustering\\Third Test\\Time-Series-PhD\\wandb\\run-20230227_145645-cokdvgo2\\files\\model-best\\assets\n",
      "\u001b[34m\u001b[1mwandb\u001b[0m: Adding directory to artifact (C:\\Users\\ucesvpm\\OneDrive - University College London\\PhD Project\\Data Analytics\\Time Series Clustering\\Third Test\\Time-Series-PhD\\wandb\\run-20230227_145645-cokdvgo2\\files\\model-best)... Done. 0.3s\n"
     ]
    },
    {
     "name": "stdout",
     "output_type": "stream",
     "text": [
      "369/369 [==============================] - 15s 40ms/step - loss: 0.2019 - mse: 0.2019 - val_loss: 0.2242 - val_mse: 0.2242 - lr: 7.0501e-05\n",
      "Epoch 67/100\n",
      "368/369 [============================>.] - ETA: 0s - loss: 0.2014 - mse: 0.2014"
     ]
    },
    {
     "name": "stderr",
     "output_type": "stream",
     "text": [
      "WARNING:absl:Found untraced functions such as leaky_re_lu_layer_call_fn, leaky_re_lu_layer_call_and_return_conditional_losses, leaky_re_lu_1_layer_call_fn, leaky_re_lu_1_layer_call_and_return_conditional_losses, leaky_re_lu_2_layer_call_fn while saving (showing 5 of 12). These functions will not be directly callable after loading.\n"
     ]
    },
    {
     "name": "stdout",
     "output_type": "stream",
     "text": [
      "INFO:tensorflow:Assets written to: C:\\Users\\ucesvpm\\OneDrive - University College London\\PhD Project\\Data Analytics\\Time Series Clustering\\Third Test\\Time-Series-PhD\\wandb\\run-20230227_145645-cokdvgo2\\files\\model-best\\assets\n"
     ]
    },
    {
     "name": "stderr",
     "output_type": "stream",
     "text": [
      "INFO:tensorflow:Assets written to: C:\\Users\\ucesvpm\\OneDrive - University College London\\PhD Project\\Data Analytics\\Time Series Clustering\\Third Test\\Time-Series-PhD\\wandb\\run-20230227_145645-cokdvgo2\\files\\model-best\\assets\n",
      "\u001b[34m\u001b[1mwandb\u001b[0m: Adding directory to artifact (C:\\Users\\ucesvpm\\OneDrive - University College London\\PhD Project\\Data Analytics\\Time Series Clustering\\Third Test\\Time-Series-PhD\\wandb\\run-20230227_145645-cokdvgo2\\files\\model-best)... Done. 0.2s\n"
     ]
    },
    {
     "name": "stdout",
     "output_type": "stream",
     "text": [
      "369/369 [==============================] - 14s 39ms/step - loss: 0.2013 - mse: 0.2013 - val_loss: 0.2236 - val_mse: 0.2236 - lr: 7.0501e-05\n",
      "Epoch 68/100\n",
      "368/369 [============================>.] - ETA: 0s - loss: 0.2006 - mse: 0.2006"
     ]
    },
    {
     "name": "stderr",
     "output_type": "stream",
     "text": [
      "WARNING:absl:Found untraced functions such as leaky_re_lu_layer_call_fn, leaky_re_lu_layer_call_and_return_conditional_losses, leaky_re_lu_1_layer_call_fn, leaky_re_lu_1_layer_call_and_return_conditional_losses, leaky_re_lu_2_layer_call_fn while saving (showing 5 of 12). These functions will not be directly callable after loading.\n"
     ]
    },
    {
     "name": "stdout",
     "output_type": "stream",
     "text": [
      "INFO:tensorflow:Assets written to: C:\\Users\\ucesvpm\\OneDrive - University College London\\PhD Project\\Data Analytics\\Time Series Clustering\\Third Test\\Time-Series-PhD\\wandb\\run-20230227_145645-cokdvgo2\\files\\model-best\\assets\n"
     ]
    },
    {
     "name": "stderr",
     "output_type": "stream",
     "text": [
      "INFO:tensorflow:Assets written to: C:\\Users\\ucesvpm\\OneDrive - University College London\\PhD Project\\Data Analytics\\Time Series Clustering\\Third Test\\Time-Series-PhD\\wandb\\run-20230227_145645-cokdvgo2\\files\\model-best\\assets\n",
      "\u001b[34m\u001b[1mwandb\u001b[0m: Adding directory to artifact (C:\\Users\\ucesvpm\\OneDrive - University College London\\PhD Project\\Data Analytics\\Time Series Clustering\\Third Test\\Time-Series-PhD\\wandb\\run-20230227_145645-cokdvgo2\\files\\model-best)... Done. 0.2s\n"
     ]
    },
    {
     "name": "stdout",
     "output_type": "stream",
     "text": [
      "369/369 [==============================] - 15s 40ms/step - loss: 0.2007 - mse: 0.2007 - val_loss: 0.2233 - val_mse: 0.2233 - lr: 7.0501e-05\n",
      "Epoch 69/100\n",
      "369/369 [==============================] - ETA: 0s - loss: 0.2000 - mse: 0.2000"
     ]
    },
    {
     "name": "stderr",
     "output_type": "stream",
     "text": [
      "WARNING:absl:Found untraced functions such as leaky_re_lu_layer_call_fn, leaky_re_lu_layer_call_and_return_conditional_losses, leaky_re_lu_1_layer_call_fn, leaky_re_lu_1_layer_call_and_return_conditional_losses, leaky_re_lu_2_layer_call_fn while saving (showing 5 of 12). These functions will not be directly callable after loading.\n"
     ]
    },
    {
     "name": "stdout",
     "output_type": "stream",
     "text": [
      "INFO:tensorflow:Assets written to: C:\\Users\\ucesvpm\\OneDrive - University College London\\PhD Project\\Data Analytics\\Time Series Clustering\\Third Test\\Time-Series-PhD\\wandb\\run-20230227_145645-cokdvgo2\\files\\model-best\\assets\n"
     ]
    },
    {
     "name": "stderr",
     "output_type": "stream",
     "text": [
      "INFO:tensorflow:Assets written to: C:\\Users\\ucesvpm\\OneDrive - University College London\\PhD Project\\Data Analytics\\Time Series Clustering\\Third Test\\Time-Series-PhD\\wandb\\run-20230227_145645-cokdvgo2\\files\\model-best\\assets\n",
      "\u001b[34m\u001b[1mwandb\u001b[0m: Adding directory to artifact (C:\\Users\\ucesvpm\\OneDrive - University College London\\PhD Project\\Data Analytics\\Time Series Clustering\\Third Test\\Time-Series-PhD\\wandb\\run-20230227_145645-cokdvgo2\\files\\model-best)... Done. 0.2s\n"
     ]
    },
    {
     "name": "stdout",
     "output_type": "stream",
     "text": [
      "369/369 [==============================] - 15s 40ms/step - loss: 0.2000 - mse: 0.2000 - val_loss: 0.2230 - val_mse: 0.2230 - lr: 7.0501e-05\n",
      "Epoch 70/100\n",
      "369/369 [==============================] - ETA: 0s - loss: 0.1994 - mse: 0.1994"
     ]
    },
    {
     "name": "stderr",
     "output_type": "stream",
     "text": [
      "WARNING:absl:Found untraced functions such as leaky_re_lu_layer_call_fn, leaky_re_lu_layer_call_and_return_conditional_losses, leaky_re_lu_1_layer_call_fn, leaky_re_lu_1_layer_call_and_return_conditional_losses, leaky_re_lu_2_layer_call_fn while saving (showing 5 of 12). These functions will not be directly callable after loading.\n"
     ]
    },
    {
     "name": "stdout",
     "output_type": "stream",
     "text": [
      "INFO:tensorflow:Assets written to: C:\\Users\\ucesvpm\\OneDrive - University College London\\PhD Project\\Data Analytics\\Time Series Clustering\\Third Test\\Time-Series-PhD\\wandb\\run-20230227_145645-cokdvgo2\\files\\model-best\\assets\n"
     ]
    },
    {
     "name": "stderr",
     "output_type": "stream",
     "text": [
      "INFO:tensorflow:Assets written to: C:\\Users\\ucesvpm\\OneDrive - University College London\\PhD Project\\Data Analytics\\Time Series Clustering\\Third Test\\Time-Series-PhD\\wandb\\run-20230227_145645-cokdvgo2\\files\\model-best\\assets\n",
      "\u001b[34m\u001b[1mwandb\u001b[0m: Adding directory to artifact (C:\\Users\\ucesvpm\\OneDrive - University College London\\PhD Project\\Data Analytics\\Time Series Clustering\\Third Test\\Time-Series-PhD\\wandb\\run-20230227_145645-cokdvgo2\\files\\model-best)... Done. 0.2s\n"
     ]
    },
    {
     "name": "stdout",
     "output_type": "stream",
     "text": [
      "369/369 [==============================] - 14s 39ms/step - loss: 0.1994 - mse: 0.1994 - val_loss: 0.2227 - val_mse: 0.2227 - lr: 7.0501e-05\n",
      "Epoch 71/100\n",
      "369/369 [==============================] - ETA: 0s - loss: 0.1988 - mse: 0.1988"
     ]
    },
    {
     "name": "stderr",
     "output_type": "stream",
     "text": [
      "WARNING:absl:Found untraced functions such as leaky_re_lu_layer_call_fn, leaky_re_lu_layer_call_and_return_conditional_losses, leaky_re_lu_1_layer_call_fn, leaky_re_lu_1_layer_call_and_return_conditional_losses, leaky_re_lu_2_layer_call_fn while saving (showing 5 of 12). These functions will not be directly callable after loading.\n"
     ]
    },
    {
     "name": "stdout",
     "output_type": "stream",
     "text": [
      "INFO:tensorflow:Assets written to: C:\\Users\\ucesvpm\\OneDrive - University College London\\PhD Project\\Data Analytics\\Time Series Clustering\\Third Test\\Time-Series-PhD\\wandb\\run-20230227_145645-cokdvgo2\\files\\model-best\\assets\n"
     ]
    },
    {
     "name": "stderr",
     "output_type": "stream",
     "text": [
      "INFO:tensorflow:Assets written to: C:\\Users\\ucesvpm\\OneDrive - University College London\\PhD Project\\Data Analytics\\Time Series Clustering\\Third Test\\Time-Series-PhD\\wandb\\run-20230227_145645-cokdvgo2\\files\\model-best\\assets\n",
      "\u001b[34m\u001b[1mwandb\u001b[0m: Adding directory to artifact (C:\\Users\\ucesvpm\\OneDrive - University College London\\PhD Project\\Data Analytics\\Time Series Clustering\\Third Test\\Time-Series-PhD\\wandb\\run-20230227_145645-cokdvgo2\\files\\model-best)... Done. 0.2s\n"
     ]
    },
    {
     "name": "stdout",
     "output_type": "stream",
     "text": [
      "369/369 [==============================] - 15s 41ms/step - loss: 0.1988 - mse: 0.1988 - val_loss: 0.2223 - val_mse: 0.2223 - lr: 7.0501e-05\n",
      "Epoch 72/100\n",
      "368/369 [============================>.] - ETA: 0s - loss: 0.1981 - mse: 0.1981"
     ]
    },
    {
     "name": "stderr",
     "output_type": "stream",
     "text": [
      "WARNING:absl:Found untraced functions such as leaky_re_lu_layer_call_fn, leaky_re_lu_layer_call_and_return_conditional_losses, leaky_re_lu_1_layer_call_fn, leaky_re_lu_1_layer_call_and_return_conditional_losses, leaky_re_lu_2_layer_call_fn while saving (showing 5 of 12). These functions will not be directly callable after loading.\n"
     ]
    },
    {
     "name": "stdout",
     "output_type": "stream",
     "text": [
      "INFO:tensorflow:Assets written to: C:\\Users\\ucesvpm\\OneDrive - University College London\\PhD Project\\Data Analytics\\Time Series Clustering\\Third Test\\Time-Series-PhD\\wandb\\run-20230227_145645-cokdvgo2\\files\\model-best\\assets\n"
     ]
    },
    {
     "name": "stderr",
     "output_type": "stream",
     "text": [
      "INFO:tensorflow:Assets written to: C:\\Users\\ucesvpm\\OneDrive - University College London\\PhD Project\\Data Analytics\\Time Series Clustering\\Third Test\\Time-Series-PhD\\wandb\\run-20230227_145645-cokdvgo2\\files\\model-best\\assets\n",
      "\u001b[34m\u001b[1mwandb\u001b[0m: Adding directory to artifact (C:\\Users\\ucesvpm\\OneDrive - University College London\\PhD Project\\Data Analytics\\Time Series Clustering\\Third Test\\Time-Series-PhD\\wandb\\run-20230227_145645-cokdvgo2\\files\\model-best)... Done. 0.2s\n"
     ]
    },
    {
     "name": "stdout",
     "output_type": "stream",
     "text": [
      "369/369 [==============================] - 15s 40ms/step - loss: 0.1981 - mse: 0.1981 - val_loss: 0.2219 - val_mse: 0.2219 - lr: 7.0501e-05\n",
      "Epoch 73/100\n",
      "369/369 [==============================] - 12s 33ms/step - loss: 0.1976 - mse: 0.1976 - val_loss: 0.2220 - val_mse: 0.2220 - lr: 7.0501e-05\n",
      "Epoch 74/100\n",
      "368/369 [============================>.] - ETA: 0s - loss: 0.1970 - mse: 0.1970"
     ]
    },
    {
     "name": "stderr",
     "output_type": "stream",
     "text": [
      "WARNING:absl:Found untraced functions such as leaky_re_lu_layer_call_fn, leaky_re_lu_layer_call_and_return_conditional_losses, leaky_re_lu_1_layer_call_fn, leaky_re_lu_1_layer_call_and_return_conditional_losses, leaky_re_lu_2_layer_call_fn while saving (showing 5 of 12). These functions will not be directly callable after loading.\n"
     ]
    },
    {
     "name": "stdout",
     "output_type": "stream",
     "text": [
      "INFO:tensorflow:Assets written to: C:\\Users\\ucesvpm\\OneDrive - University College London\\PhD Project\\Data Analytics\\Time Series Clustering\\Third Test\\Time-Series-PhD\\wandb\\run-20230227_145645-cokdvgo2\\files\\model-best\\assets\n"
     ]
    },
    {
     "name": "stderr",
     "output_type": "stream",
     "text": [
      "INFO:tensorflow:Assets written to: C:\\Users\\ucesvpm\\OneDrive - University College London\\PhD Project\\Data Analytics\\Time Series Clustering\\Third Test\\Time-Series-PhD\\wandb\\run-20230227_145645-cokdvgo2\\files\\model-best\\assets\n",
      "\u001b[34m\u001b[1mwandb\u001b[0m: Adding directory to artifact (C:\\Users\\ucesvpm\\OneDrive - University College London\\PhD Project\\Data Analytics\\Time Series Clustering\\Third Test\\Time-Series-PhD\\wandb\\run-20230227_145645-cokdvgo2\\files\\model-best)... Done. 0.3s\n"
     ]
    },
    {
     "name": "stdout",
     "output_type": "stream",
     "text": [
      "369/369 [==============================] - 18s 50ms/step - loss: 0.1969 - mse: 0.1969 - val_loss: 0.2215 - val_mse: 0.2215 - lr: 7.0501e-05\n",
      "Epoch 75/100\n",
      "369/369 [==============================] - 12s 33ms/step - loss: 0.1964 - mse: 0.1964 - val_loss: 0.2217 - val_mse: 0.2217 - lr: 7.0501e-05\n",
      "Epoch 76/100\n",
      "369/369 [==============================] - ETA: 0s - loss: 0.1957 - mse: 0.1957"
     ]
    },
    {
     "name": "stderr",
     "output_type": "stream",
     "text": [
      "WARNING:absl:Found untraced functions such as leaky_re_lu_layer_call_fn, leaky_re_lu_layer_call_and_return_conditional_losses, leaky_re_lu_1_layer_call_fn, leaky_re_lu_1_layer_call_and_return_conditional_losses, leaky_re_lu_2_layer_call_fn while saving (showing 5 of 12). These functions will not be directly callable after loading.\n"
     ]
    },
    {
     "name": "stdout",
     "output_type": "stream",
     "text": [
      "INFO:tensorflow:Assets written to: C:\\Users\\ucesvpm\\OneDrive - University College London\\PhD Project\\Data Analytics\\Time Series Clustering\\Third Test\\Time-Series-PhD\\wandb\\run-20230227_145645-cokdvgo2\\files\\model-best\\assets\n"
     ]
    },
    {
     "name": "stderr",
     "output_type": "stream",
     "text": [
      "INFO:tensorflow:Assets written to: C:\\Users\\ucesvpm\\OneDrive - University College London\\PhD Project\\Data Analytics\\Time Series Clustering\\Third Test\\Time-Series-PhD\\wandb\\run-20230227_145645-cokdvgo2\\files\\model-best\\assets\n",
      "\u001b[34m\u001b[1mwandb\u001b[0m: Adding directory to artifact (C:\\Users\\ucesvpm\\OneDrive - University College London\\PhD Project\\Data Analytics\\Time Series Clustering\\Third Test\\Time-Series-PhD\\wandb\\run-20230227_145645-cokdvgo2\\files\\model-best)... Done. 0.3s\n"
     ]
    },
    {
     "name": "stdout",
     "output_type": "stream",
     "text": [
      "369/369 [==============================] - 16s 42ms/step - loss: 0.1957 - mse: 0.1957 - val_loss: 0.2208 - val_mse: 0.2208 - lr: 7.0501e-05\n",
      "Epoch 77/100\n",
      "369/369 [==============================] - 13s 34ms/step - loss: 0.1952 - mse: 0.1952 - val_loss: 0.2209 - val_mse: 0.2209 - lr: 7.0501e-05\n",
      "Epoch 78/100\n",
      "369/369 [==============================] - ETA: 0s - loss: 0.1946 - mse: 0.1946"
     ]
    },
    {
     "name": "stderr",
     "output_type": "stream",
     "text": [
      "WARNING:absl:Found untraced functions such as leaky_re_lu_layer_call_fn, leaky_re_lu_layer_call_and_return_conditional_losses, leaky_re_lu_1_layer_call_fn, leaky_re_lu_1_layer_call_and_return_conditional_losses, leaky_re_lu_2_layer_call_fn while saving (showing 5 of 12). These functions will not be directly callable after loading.\n"
     ]
    },
    {
     "name": "stdout",
     "output_type": "stream",
     "text": [
      "INFO:tensorflow:Assets written to: C:\\Users\\ucesvpm\\OneDrive - University College London\\PhD Project\\Data Analytics\\Time Series Clustering\\Third Test\\Time-Series-PhD\\wandb\\run-20230227_145645-cokdvgo2\\files\\model-best\\assets\n"
     ]
    },
    {
     "name": "stderr",
     "output_type": "stream",
     "text": [
      "INFO:tensorflow:Assets written to: C:\\Users\\ucesvpm\\OneDrive - University College London\\PhD Project\\Data Analytics\\Time Series Clustering\\Third Test\\Time-Series-PhD\\wandb\\run-20230227_145645-cokdvgo2\\files\\model-best\\assets\n",
      "\u001b[34m\u001b[1mwandb\u001b[0m: Adding directory to artifact (C:\\Users\\ucesvpm\\OneDrive - University College London\\PhD Project\\Data Analytics\\Time Series Clustering\\Third Test\\Time-Series-PhD\\wandb\\run-20230227_145645-cokdvgo2\\files\\model-best)... Done. 0.2s\n"
     ]
    },
    {
     "name": "stdout",
     "output_type": "stream",
     "text": [
      "369/369 [==============================] - 15s 40ms/step - loss: 0.1946 - mse: 0.1946 - val_loss: 0.2204 - val_mse: 0.2204 - lr: 7.0501e-05\n",
      "Epoch 79/100\n",
      "369/369 [==============================] - ETA: 0s - loss: 0.1940 - mse: 0.1940"
     ]
    },
    {
     "name": "stderr",
     "output_type": "stream",
     "text": [
      "WARNING:absl:Found untraced functions such as leaky_re_lu_layer_call_fn, leaky_re_lu_layer_call_and_return_conditional_losses, leaky_re_lu_1_layer_call_fn, leaky_re_lu_1_layer_call_and_return_conditional_losses, leaky_re_lu_2_layer_call_fn while saving (showing 5 of 12). These functions will not be directly callable after loading.\n"
     ]
    },
    {
     "name": "stdout",
     "output_type": "stream",
     "text": [
      "INFO:tensorflow:Assets written to: C:\\Users\\ucesvpm\\OneDrive - University College London\\PhD Project\\Data Analytics\\Time Series Clustering\\Third Test\\Time-Series-PhD\\wandb\\run-20230227_145645-cokdvgo2\\files\\model-best\\assets\n"
     ]
    },
    {
     "name": "stderr",
     "output_type": "stream",
     "text": [
      "INFO:tensorflow:Assets written to: C:\\Users\\ucesvpm\\OneDrive - University College London\\PhD Project\\Data Analytics\\Time Series Clustering\\Third Test\\Time-Series-PhD\\wandb\\run-20230227_145645-cokdvgo2\\files\\model-best\\assets\n",
      "\u001b[34m\u001b[1mwandb\u001b[0m: Adding directory to artifact (C:\\Users\\ucesvpm\\OneDrive - University College London\\PhD Project\\Data Analytics\\Time Series Clustering\\Third Test\\Time-Series-PhD\\wandb\\run-20230227_145645-cokdvgo2\\files\\model-best)... Done. 0.1s\n"
     ]
    },
    {
     "name": "stdout",
     "output_type": "stream",
     "text": [
      "369/369 [==============================] - 15s 40ms/step - loss: 0.1940 - mse: 0.1940 - val_loss: 0.2198 - val_mse: 0.2198 - lr: 7.0501e-05\n",
      "Epoch 80/100\n",
      "369/369 [==============================] - 11s 31ms/step - loss: 0.1934 - mse: 0.1934 - val_loss: 0.2198 - val_mse: 0.2198 - lr: 7.0501e-05\n",
      "Epoch 81/100\n",
      "368/369 [============================>.] - ETA: 0s - loss: 0.1929 - mse: 0.1929"
     ]
    },
    {
     "name": "stderr",
     "output_type": "stream",
     "text": [
      "WARNING:absl:Found untraced functions such as leaky_re_lu_layer_call_fn, leaky_re_lu_layer_call_and_return_conditional_losses, leaky_re_lu_1_layer_call_fn, leaky_re_lu_1_layer_call_and_return_conditional_losses, leaky_re_lu_2_layer_call_fn while saving (showing 5 of 12). These functions will not be directly callable after loading.\n"
     ]
    },
    {
     "name": "stdout",
     "output_type": "stream",
     "text": [
      "INFO:tensorflow:Assets written to: C:\\Users\\ucesvpm\\OneDrive - University College London\\PhD Project\\Data Analytics\\Time Series Clustering\\Third Test\\Time-Series-PhD\\wandb\\run-20230227_145645-cokdvgo2\\files\\model-best\\assets\n"
     ]
    },
    {
     "name": "stderr",
     "output_type": "stream",
     "text": [
      "INFO:tensorflow:Assets written to: C:\\Users\\ucesvpm\\OneDrive - University College London\\PhD Project\\Data Analytics\\Time Series Clustering\\Third Test\\Time-Series-PhD\\wandb\\run-20230227_145645-cokdvgo2\\files\\model-best\\assets\n",
      "\u001b[34m\u001b[1mwandb\u001b[0m: Adding directory to artifact (C:\\Users\\ucesvpm\\OneDrive - University College London\\PhD Project\\Data Analytics\\Time Series Clustering\\Third Test\\Time-Series-PhD\\wandb\\run-20230227_145645-cokdvgo2\\files\\model-best)... Done. 0.2s\n"
     ]
    },
    {
     "name": "stdout",
     "output_type": "stream",
     "text": [
      "369/369 [==============================] - 17s 45ms/step - loss: 0.1929 - mse: 0.1929 - val_loss: 0.2192 - val_mse: 0.2192 - lr: 7.0501e-05\n",
      "Epoch 82/100\n",
      "369/369 [==============================] - 12s 32ms/step - loss: 0.1923 - mse: 0.1923 - val_loss: 0.2198 - val_mse: 0.2198 - lr: 7.0501e-05\n",
      "Epoch 83/100\n",
      "368/369 [============================>.] - ETA: 0s - loss: 0.1918 - mse: 0.1918"
     ]
    },
    {
     "name": "stderr",
     "output_type": "stream",
     "text": [
      "WARNING:absl:Found untraced functions such as leaky_re_lu_layer_call_fn, leaky_re_lu_layer_call_and_return_conditional_losses, leaky_re_lu_1_layer_call_fn, leaky_re_lu_1_layer_call_and_return_conditional_losses, leaky_re_lu_2_layer_call_fn while saving (showing 5 of 12). These functions will not be directly callable after loading.\n"
     ]
    },
    {
     "name": "stdout",
     "output_type": "stream",
     "text": [
      "INFO:tensorflow:Assets written to: C:\\Users\\ucesvpm\\OneDrive - University College London\\PhD Project\\Data Analytics\\Time Series Clustering\\Third Test\\Time-Series-PhD\\wandb\\run-20230227_145645-cokdvgo2\\files\\model-best\\assets\n"
     ]
    },
    {
     "name": "stderr",
     "output_type": "stream",
     "text": [
      "INFO:tensorflow:Assets written to: C:\\Users\\ucesvpm\\OneDrive - University College London\\PhD Project\\Data Analytics\\Time Series Clustering\\Third Test\\Time-Series-PhD\\wandb\\run-20230227_145645-cokdvgo2\\files\\model-best\\assets\n",
      "\u001b[34m\u001b[1mwandb\u001b[0m: Adding directory to artifact (C:\\Users\\ucesvpm\\OneDrive - University College London\\PhD Project\\Data Analytics\\Time Series Clustering\\Third Test\\Time-Series-PhD\\wandb\\run-20230227_145645-cokdvgo2\\files\\model-best)... Done. 0.2s\n"
     ]
    },
    {
     "name": "stdout",
     "output_type": "stream",
     "text": [
      "369/369 [==============================] - 15s 40ms/step - loss: 0.1918 - mse: 0.1918 - val_loss: 0.2191 - val_mse: 0.2191 - lr: 7.0501e-05\n",
      "Epoch 84/100\n",
      "369/369 [==============================] - ETA: 0s - loss: 0.1912 - mse: 0.1912"
     ]
    },
    {
     "name": "stderr",
     "output_type": "stream",
     "text": [
      "WARNING:absl:Found untraced functions such as leaky_re_lu_layer_call_fn, leaky_re_lu_layer_call_and_return_conditional_losses, leaky_re_lu_1_layer_call_fn, leaky_re_lu_1_layer_call_and_return_conditional_losses, leaky_re_lu_2_layer_call_fn while saving (showing 5 of 12). These functions will not be directly callable after loading.\n"
     ]
    },
    {
     "name": "stdout",
     "output_type": "stream",
     "text": [
      "INFO:tensorflow:Assets written to: C:\\Users\\ucesvpm\\OneDrive - University College London\\PhD Project\\Data Analytics\\Time Series Clustering\\Third Test\\Time-Series-PhD\\wandb\\run-20230227_145645-cokdvgo2\\files\\model-best\\assets\n"
     ]
    },
    {
     "name": "stderr",
     "output_type": "stream",
     "text": [
      "INFO:tensorflow:Assets written to: C:\\Users\\ucesvpm\\OneDrive - University College London\\PhD Project\\Data Analytics\\Time Series Clustering\\Third Test\\Time-Series-PhD\\wandb\\run-20230227_145645-cokdvgo2\\files\\model-best\\assets\n",
      "\u001b[34m\u001b[1mwandb\u001b[0m: Adding directory to artifact (C:\\Users\\ucesvpm\\OneDrive - University College London\\PhD Project\\Data Analytics\\Time Series Clustering\\Third Test\\Time-Series-PhD\\wandb\\run-20230227_145645-cokdvgo2\\files\\model-best)... Done. 0.2s\n"
     ]
    },
    {
     "name": "stdout",
     "output_type": "stream",
     "text": [
      "369/369 [==============================] - 15s 40ms/step - loss: 0.1912 - mse: 0.1912 - val_loss: 0.2186 - val_mse: 0.2186 - lr: 7.0501e-05\n",
      "Epoch 85/100\n",
      "368/369 [============================>.] - ETA: 0s - loss: 0.1907 - mse: 0.1907"
     ]
    },
    {
     "name": "stderr",
     "output_type": "stream",
     "text": [
      "WARNING:absl:Found untraced functions such as leaky_re_lu_layer_call_fn, leaky_re_lu_layer_call_and_return_conditional_losses, leaky_re_lu_1_layer_call_fn, leaky_re_lu_1_layer_call_and_return_conditional_losses, leaky_re_lu_2_layer_call_fn while saving (showing 5 of 12). These functions will not be directly callable after loading.\n"
     ]
    },
    {
     "name": "stdout",
     "output_type": "stream",
     "text": [
      "INFO:tensorflow:Assets written to: C:\\Users\\ucesvpm\\OneDrive - University College London\\PhD Project\\Data Analytics\\Time Series Clustering\\Third Test\\Time-Series-PhD\\wandb\\run-20230227_145645-cokdvgo2\\files\\model-best\\assets\n"
     ]
    },
    {
     "name": "stderr",
     "output_type": "stream",
     "text": [
      "INFO:tensorflow:Assets written to: C:\\Users\\ucesvpm\\OneDrive - University College London\\PhD Project\\Data Analytics\\Time Series Clustering\\Third Test\\Time-Series-PhD\\wandb\\run-20230227_145645-cokdvgo2\\files\\model-best\\assets\n",
      "\u001b[34m\u001b[1mwandb\u001b[0m: Adding directory to artifact (C:\\Users\\ucesvpm\\OneDrive - University College London\\PhD Project\\Data Analytics\\Time Series Clustering\\Third Test\\Time-Series-PhD\\wandb\\run-20230227_145645-cokdvgo2\\files\\model-best)... Done. 0.2s\n"
     ]
    },
    {
     "name": "stdout",
     "output_type": "stream",
     "text": [
      "369/369 [==============================] - 15s 41ms/step - loss: 0.1907 - mse: 0.1907 - val_loss: 0.2183 - val_mse: 0.2183 - lr: 7.0501e-05\n",
      "Epoch 86/100\n",
      "369/369 [==============================] - 12s 32ms/step - loss: 0.1900 - mse: 0.1900 - val_loss: 0.2185 - val_mse: 0.2185 - lr: 7.0501e-05\n",
      "Epoch 87/100\n",
      "368/369 [============================>.] - ETA: 0s - loss: 0.1895 - mse: 0.1895"
     ]
    },
    {
     "name": "stderr",
     "output_type": "stream",
     "text": [
      "WARNING:absl:Found untraced functions such as leaky_re_lu_layer_call_fn, leaky_re_lu_layer_call_and_return_conditional_losses, leaky_re_lu_1_layer_call_fn, leaky_re_lu_1_layer_call_and_return_conditional_losses, leaky_re_lu_2_layer_call_fn while saving (showing 5 of 12). These functions will not be directly callable after loading.\n"
     ]
    },
    {
     "name": "stdout",
     "output_type": "stream",
     "text": [
      "INFO:tensorflow:Assets written to: C:\\Users\\ucesvpm\\OneDrive - University College London\\PhD Project\\Data Analytics\\Time Series Clustering\\Third Test\\Time-Series-PhD\\wandb\\run-20230227_145645-cokdvgo2\\files\\model-best\\assets\n"
     ]
    },
    {
     "name": "stderr",
     "output_type": "stream",
     "text": [
      "INFO:tensorflow:Assets written to: C:\\Users\\ucesvpm\\OneDrive - University College London\\PhD Project\\Data Analytics\\Time Series Clustering\\Third Test\\Time-Series-PhD\\wandb\\run-20230227_145645-cokdvgo2\\files\\model-best\\assets\n",
      "\u001b[34m\u001b[1mwandb\u001b[0m: Adding directory to artifact (C:\\Users\\ucesvpm\\OneDrive - University College London\\PhD Project\\Data Analytics\\Time Series Clustering\\Third Test\\Time-Series-PhD\\wandb\\run-20230227_145645-cokdvgo2\\files\\model-best)... Done. 0.3s\n"
     ]
    },
    {
     "name": "stdout",
     "output_type": "stream",
     "text": [
      "369/369 [==============================] - 15s 41ms/step - loss: 0.1895 - mse: 0.1895 - val_loss: 0.2181 - val_mse: 0.2181 - lr: 7.0501e-05\n",
      "Epoch 88/100\n",
      "368/369 [============================>.] - ETA: 0s - loss: 0.1890 - mse: 0.1890"
     ]
    },
    {
     "name": "stderr",
     "output_type": "stream",
     "text": [
      "WARNING:absl:Found untraced functions such as leaky_re_lu_layer_call_fn, leaky_re_lu_layer_call_and_return_conditional_losses, leaky_re_lu_1_layer_call_fn, leaky_re_lu_1_layer_call_and_return_conditional_losses, leaky_re_lu_2_layer_call_fn while saving (showing 5 of 12). These functions will not be directly callable after loading.\n"
     ]
    },
    {
     "name": "stdout",
     "output_type": "stream",
     "text": [
      "INFO:tensorflow:Assets written to: C:\\Users\\ucesvpm\\OneDrive - University College London\\PhD Project\\Data Analytics\\Time Series Clustering\\Third Test\\Time-Series-PhD\\wandb\\run-20230227_145645-cokdvgo2\\files\\model-best\\assets\n"
     ]
    },
    {
     "name": "stderr",
     "output_type": "stream",
     "text": [
      "INFO:tensorflow:Assets written to: C:\\Users\\ucesvpm\\OneDrive - University College London\\PhD Project\\Data Analytics\\Time Series Clustering\\Third Test\\Time-Series-PhD\\wandb\\run-20230227_145645-cokdvgo2\\files\\model-best\\assets\n",
      "\u001b[34m\u001b[1mwandb\u001b[0m: Adding directory to artifact (C:\\Users\\ucesvpm\\OneDrive - University College London\\PhD Project\\Data Analytics\\Time Series Clustering\\Third Test\\Time-Series-PhD\\wandb\\run-20230227_145645-cokdvgo2\\files\\model-best)... Done. 0.3s\n"
     ]
    },
    {
     "name": "stdout",
     "output_type": "stream",
     "text": [
      "369/369 [==============================] - 14s 39ms/step - loss: 0.1890 - mse: 0.1890 - val_loss: 0.2178 - val_mse: 0.2178 - lr: 7.0501e-05\n",
      "Epoch 89/100\n",
      "368/369 [============================>.] - ETA: 0s - loss: 0.1885 - mse: 0.1885"
     ]
    },
    {
     "name": "stderr",
     "output_type": "stream",
     "text": [
      "WARNING:absl:Found untraced functions such as leaky_re_lu_layer_call_fn, leaky_re_lu_layer_call_and_return_conditional_losses, leaky_re_lu_1_layer_call_fn, leaky_re_lu_1_layer_call_and_return_conditional_losses, leaky_re_lu_2_layer_call_fn while saving (showing 5 of 12). These functions will not be directly callable after loading.\n"
     ]
    },
    {
     "name": "stdout",
     "output_type": "stream",
     "text": [
      "INFO:tensorflow:Assets written to: C:\\Users\\ucesvpm\\OneDrive - University College London\\PhD Project\\Data Analytics\\Time Series Clustering\\Third Test\\Time-Series-PhD\\wandb\\run-20230227_145645-cokdvgo2\\files\\model-best\\assets\n"
     ]
    },
    {
     "name": "stderr",
     "output_type": "stream",
     "text": [
      "INFO:tensorflow:Assets written to: C:\\Users\\ucesvpm\\OneDrive - University College London\\PhD Project\\Data Analytics\\Time Series Clustering\\Third Test\\Time-Series-PhD\\wandb\\run-20230227_145645-cokdvgo2\\files\\model-best\\assets\n",
      "\u001b[34m\u001b[1mwandb\u001b[0m: Adding directory to artifact (C:\\Users\\ucesvpm\\OneDrive - University College London\\PhD Project\\Data Analytics\\Time Series Clustering\\Third Test\\Time-Series-PhD\\wandb\\run-20230227_145645-cokdvgo2\\files\\model-best)... Done. 0.2s\n"
     ]
    },
    {
     "name": "stdout",
     "output_type": "stream",
     "text": [
      "369/369 [==============================] - 15s 39ms/step - loss: 0.1885 - mse: 0.1885 - val_loss: 0.2177 - val_mse: 0.2177 - lr: 7.0501e-05\n",
      "Epoch 90/100\n",
      "368/369 [============================>.] - ETA: 0s - loss: 0.1879 - mse: 0.1879"
     ]
    },
    {
     "name": "stderr",
     "output_type": "stream",
     "text": [
      "WARNING:absl:Found untraced functions such as leaky_re_lu_layer_call_fn, leaky_re_lu_layer_call_and_return_conditional_losses, leaky_re_lu_1_layer_call_fn, leaky_re_lu_1_layer_call_and_return_conditional_losses, leaky_re_lu_2_layer_call_fn while saving (showing 5 of 12). These functions will not be directly callable after loading.\n"
     ]
    },
    {
     "name": "stdout",
     "output_type": "stream",
     "text": [
      "INFO:tensorflow:Assets written to: C:\\Users\\ucesvpm\\OneDrive - University College London\\PhD Project\\Data Analytics\\Time Series Clustering\\Third Test\\Time-Series-PhD\\wandb\\run-20230227_145645-cokdvgo2\\files\\model-best\\assets\n"
     ]
    },
    {
     "name": "stderr",
     "output_type": "stream",
     "text": [
      "INFO:tensorflow:Assets written to: C:\\Users\\ucesvpm\\OneDrive - University College London\\PhD Project\\Data Analytics\\Time Series Clustering\\Third Test\\Time-Series-PhD\\wandb\\run-20230227_145645-cokdvgo2\\files\\model-best\\assets\n",
      "\u001b[34m\u001b[1mwandb\u001b[0m: Adding directory to artifact (C:\\Users\\ucesvpm\\OneDrive - University College London\\PhD Project\\Data Analytics\\Time Series Clustering\\Third Test\\Time-Series-PhD\\wandb\\run-20230227_145645-cokdvgo2\\files\\model-best)... Done. 0.3s\n"
     ]
    },
    {
     "name": "stdout",
     "output_type": "stream",
     "text": [
      "369/369 [==============================] - 15s 41ms/step - loss: 0.1879 - mse: 0.1879 - val_loss: 0.2175 - val_mse: 0.2175 - lr: 7.0501e-05\n",
      "Epoch 91/100\n",
      "369/369 [==============================] - ETA: 0s - loss: 0.1874 - mse: 0.1874"
     ]
    },
    {
     "name": "stderr",
     "output_type": "stream",
     "text": [
      "WARNING:absl:Found untraced functions such as leaky_re_lu_layer_call_fn, leaky_re_lu_layer_call_and_return_conditional_losses, leaky_re_lu_1_layer_call_fn, leaky_re_lu_1_layer_call_and_return_conditional_losses, leaky_re_lu_2_layer_call_fn while saving (showing 5 of 12). These functions will not be directly callable after loading.\n"
     ]
    },
    {
     "name": "stdout",
     "output_type": "stream",
     "text": [
      "INFO:tensorflow:Assets written to: C:\\Users\\ucesvpm\\OneDrive - University College London\\PhD Project\\Data Analytics\\Time Series Clustering\\Third Test\\Time-Series-PhD\\wandb\\run-20230227_145645-cokdvgo2\\files\\model-best\\assets\n"
     ]
    },
    {
     "name": "stderr",
     "output_type": "stream",
     "text": [
      "INFO:tensorflow:Assets written to: C:\\Users\\ucesvpm\\OneDrive - University College London\\PhD Project\\Data Analytics\\Time Series Clustering\\Third Test\\Time-Series-PhD\\wandb\\run-20230227_145645-cokdvgo2\\files\\model-best\\assets\n",
      "\u001b[34m\u001b[1mwandb\u001b[0m: Adding directory to artifact (C:\\Users\\ucesvpm\\OneDrive - University College London\\PhD Project\\Data Analytics\\Time Series Clustering\\Third Test\\Time-Series-PhD\\wandb\\run-20230227_145645-cokdvgo2\\files\\model-best)... Done. 0.2s\n"
     ]
    },
    {
     "name": "stdout",
     "output_type": "stream",
     "text": [
      "369/369 [==============================] - 15s 40ms/step - loss: 0.1874 - mse: 0.1874 - val_loss: 0.2175 - val_mse: 0.2175 - lr: 7.0501e-05\n",
      "Epoch 92/100\n",
      "368/369 [============================>.] - ETA: 0s - loss: 0.1868 - mse: 0.1868"
     ]
    },
    {
     "name": "stderr",
     "output_type": "stream",
     "text": [
      "WARNING:absl:Found untraced functions such as leaky_re_lu_layer_call_fn, leaky_re_lu_layer_call_and_return_conditional_losses, leaky_re_lu_1_layer_call_fn, leaky_re_lu_1_layer_call_and_return_conditional_losses, leaky_re_lu_2_layer_call_fn while saving (showing 5 of 12). These functions will not be directly callable after loading.\n"
     ]
    },
    {
     "name": "stdout",
     "output_type": "stream",
     "text": [
      "INFO:tensorflow:Assets written to: C:\\Users\\ucesvpm\\OneDrive - University College London\\PhD Project\\Data Analytics\\Time Series Clustering\\Third Test\\Time-Series-PhD\\wandb\\run-20230227_145645-cokdvgo2\\files\\model-best\\assets\n"
     ]
    },
    {
     "name": "stderr",
     "output_type": "stream",
     "text": [
      "INFO:tensorflow:Assets written to: C:\\Users\\ucesvpm\\OneDrive - University College London\\PhD Project\\Data Analytics\\Time Series Clustering\\Third Test\\Time-Series-PhD\\wandb\\run-20230227_145645-cokdvgo2\\files\\model-best\\assets\n",
      "\u001b[34m\u001b[1mwandb\u001b[0m: Adding directory to artifact (C:\\Users\\ucesvpm\\OneDrive - University College London\\PhD Project\\Data Analytics\\Time Series Clustering\\Third Test\\Time-Series-PhD\\wandb\\run-20230227_145645-cokdvgo2\\files\\model-best)... Done. 0.2s\n"
     ]
    },
    {
     "name": "stdout",
     "output_type": "stream",
     "text": [
      "369/369 [==============================] - 15s 41ms/step - loss: 0.1869 - mse: 0.1869 - val_loss: 0.2171 - val_mse: 0.2171 - lr: 7.0501e-05\n",
      "Epoch 93/100\n",
      "369/369 [==============================] - ETA: 0s - loss: 0.1864 - mse: 0.1864"
     ]
    },
    {
     "name": "stderr",
     "output_type": "stream",
     "text": [
      "WARNING:absl:Found untraced functions such as leaky_re_lu_layer_call_fn, leaky_re_lu_layer_call_and_return_conditional_losses, leaky_re_lu_1_layer_call_fn, leaky_re_lu_1_layer_call_and_return_conditional_losses, leaky_re_lu_2_layer_call_fn while saving (showing 5 of 12). These functions will not be directly callable after loading.\n"
     ]
    },
    {
     "name": "stdout",
     "output_type": "stream",
     "text": [
      "INFO:tensorflow:Assets written to: C:\\Users\\ucesvpm\\OneDrive - University College London\\PhD Project\\Data Analytics\\Time Series Clustering\\Third Test\\Time-Series-PhD\\wandb\\run-20230227_145645-cokdvgo2\\files\\model-best\\assets\n"
     ]
    },
    {
     "name": "stderr",
     "output_type": "stream",
     "text": [
      "INFO:tensorflow:Assets written to: C:\\Users\\ucesvpm\\OneDrive - University College London\\PhD Project\\Data Analytics\\Time Series Clustering\\Third Test\\Time-Series-PhD\\wandb\\run-20230227_145645-cokdvgo2\\files\\model-best\\assets\n",
      "\u001b[34m\u001b[1mwandb\u001b[0m: Adding directory to artifact (C:\\Users\\ucesvpm\\OneDrive - University College London\\PhD Project\\Data Analytics\\Time Series Clustering\\Third Test\\Time-Series-PhD\\wandb\\run-20230227_145645-cokdvgo2\\files\\model-best)... Done. 0.2s\n"
     ]
    },
    {
     "name": "stdout",
     "output_type": "stream",
     "text": [
      "369/369 [==============================] - 15s 40ms/step - loss: 0.1864 - mse: 0.1864 - val_loss: 0.2168 - val_mse: 0.2168 - lr: 7.0501e-05\n",
      "Epoch 94/100\n",
      "368/369 [============================>.] - ETA: 0s - loss: 0.1859 - mse: 0.1859"
     ]
    },
    {
     "name": "stderr",
     "output_type": "stream",
     "text": [
      "WARNING:absl:Found untraced functions such as leaky_re_lu_layer_call_fn, leaky_re_lu_layer_call_and_return_conditional_losses, leaky_re_lu_1_layer_call_fn, leaky_re_lu_1_layer_call_and_return_conditional_losses, leaky_re_lu_2_layer_call_fn while saving (showing 5 of 12). These functions will not be directly callable after loading.\n"
     ]
    },
    {
     "name": "stdout",
     "output_type": "stream",
     "text": [
      "INFO:tensorflow:Assets written to: C:\\Users\\ucesvpm\\OneDrive - University College London\\PhD Project\\Data Analytics\\Time Series Clustering\\Third Test\\Time-Series-PhD\\wandb\\run-20230227_145645-cokdvgo2\\files\\model-best\\assets\n"
     ]
    },
    {
     "name": "stderr",
     "output_type": "stream",
     "text": [
      "INFO:tensorflow:Assets written to: C:\\Users\\ucesvpm\\OneDrive - University College London\\PhD Project\\Data Analytics\\Time Series Clustering\\Third Test\\Time-Series-PhD\\wandb\\run-20230227_145645-cokdvgo2\\files\\model-best\\assets\n",
      "\u001b[34m\u001b[1mwandb\u001b[0m: Adding directory to artifact (C:\\Users\\ucesvpm\\OneDrive - University College London\\PhD Project\\Data Analytics\\Time Series Clustering\\Third Test\\Time-Series-PhD\\wandb\\run-20230227_145645-cokdvgo2\\files\\model-best)... Done. 0.3s\n"
     ]
    },
    {
     "name": "stdout",
     "output_type": "stream",
     "text": [
      "369/369 [==============================] - 16s 42ms/step - loss: 0.1859 - mse: 0.1859 - val_loss: 0.2164 - val_mse: 0.2164 - lr: 7.0501e-05\n",
      "Epoch 95/100\n",
      "369/369 [==============================] - 12s 32ms/step - loss: 0.1853 - mse: 0.1853 - val_loss: 0.2165 - val_mse: 0.2165 - lr: 7.0501e-05\n",
      "Epoch 96/100\n",
      "368/369 [============================>.] - ETA: 0s - loss: 0.1849 - mse: 0.1849"
     ]
    },
    {
     "name": "stderr",
     "output_type": "stream",
     "text": [
      "WARNING:absl:Found untraced functions such as leaky_re_lu_layer_call_fn, leaky_re_lu_layer_call_and_return_conditional_losses, leaky_re_lu_1_layer_call_fn, leaky_re_lu_1_layer_call_and_return_conditional_losses, leaky_re_lu_2_layer_call_fn while saving (showing 5 of 12). These functions will not be directly callable after loading.\n"
     ]
    },
    {
     "name": "stdout",
     "output_type": "stream",
     "text": [
      "INFO:tensorflow:Assets written to: C:\\Users\\ucesvpm\\OneDrive - University College London\\PhD Project\\Data Analytics\\Time Series Clustering\\Third Test\\Time-Series-PhD\\wandb\\run-20230227_145645-cokdvgo2\\files\\model-best\\assets\n"
     ]
    },
    {
     "name": "stderr",
     "output_type": "stream",
     "text": [
      "INFO:tensorflow:Assets written to: C:\\Users\\ucesvpm\\OneDrive - University College London\\PhD Project\\Data Analytics\\Time Series Clustering\\Third Test\\Time-Series-PhD\\wandb\\run-20230227_145645-cokdvgo2\\files\\model-best\\assets\n",
      "\u001b[34m\u001b[1mwandb\u001b[0m: Adding directory to artifact (C:\\Users\\ucesvpm\\OneDrive - University College London\\PhD Project\\Data Analytics\\Time Series Clustering\\Third Test\\Time-Series-PhD\\wandb\\run-20230227_145645-cokdvgo2\\files\\model-best)... Done. 0.3s\n"
     ]
    },
    {
     "name": "stdout",
     "output_type": "stream",
     "text": [
      "369/369 [==============================] - 15s 40ms/step - loss: 0.1849 - mse: 0.1849 - val_loss: 0.2159 - val_mse: 0.2159 - lr: 7.0501e-05\n",
      "Epoch 97/100\n",
      "368/369 [============================>.] - ETA: 0s - loss: 0.1843 - mse: 0.1843"
     ]
    },
    {
     "name": "stderr",
     "output_type": "stream",
     "text": [
      "WARNING:absl:Found untraced functions such as leaky_re_lu_layer_call_fn, leaky_re_lu_layer_call_and_return_conditional_losses, leaky_re_lu_1_layer_call_fn, leaky_re_lu_1_layer_call_and_return_conditional_losses, leaky_re_lu_2_layer_call_fn while saving (showing 5 of 12). These functions will not be directly callable after loading.\n"
     ]
    },
    {
     "name": "stdout",
     "output_type": "stream",
     "text": [
      "INFO:tensorflow:Assets written to: C:\\Users\\ucesvpm\\OneDrive - University College London\\PhD Project\\Data Analytics\\Time Series Clustering\\Third Test\\Time-Series-PhD\\wandb\\run-20230227_145645-cokdvgo2\\files\\model-best\\assets\n"
     ]
    },
    {
     "name": "stderr",
     "output_type": "stream",
     "text": [
      "INFO:tensorflow:Assets written to: C:\\Users\\ucesvpm\\OneDrive - University College London\\PhD Project\\Data Analytics\\Time Series Clustering\\Third Test\\Time-Series-PhD\\wandb\\run-20230227_145645-cokdvgo2\\files\\model-best\\assets\n",
      "\u001b[34m\u001b[1mwandb\u001b[0m: Adding directory to artifact (C:\\Users\\ucesvpm\\OneDrive - University College London\\PhD Project\\Data Analytics\\Time Series Clustering\\Third Test\\Time-Series-PhD\\wandb\\run-20230227_145645-cokdvgo2\\files\\model-best)... Done. 0.2s\n"
     ]
    },
    {
     "name": "stdout",
     "output_type": "stream",
     "text": [
      "369/369 [==============================] - 15s 40ms/step - loss: 0.1843 - mse: 0.1843 - val_loss: 0.2159 - val_mse: 0.2159 - lr: 7.0501e-05\n",
      "Epoch 98/100\n",
      "369/369 [==============================] - ETA: 0s - loss: 0.1838 - mse: 0.1838"
     ]
    },
    {
     "name": "stderr",
     "output_type": "stream",
     "text": [
      "WARNING:absl:Found untraced functions such as leaky_re_lu_layer_call_fn, leaky_re_lu_layer_call_and_return_conditional_losses, leaky_re_lu_1_layer_call_fn, leaky_re_lu_1_layer_call_and_return_conditional_losses, leaky_re_lu_2_layer_call_fn while saving (showing 5 of 12). These functions will not be directly callable after loading.\n"
     ]
    },
    {
     "name": "stdout",
     "output_type": "stream",
     "text": [
      "INFO:tensorflow:Assets written to: C:\\Users\\ucesvpm\\OneDrive - University College London\\PhD Project\\Data Analytics\\Time Series Clustering\\Third Test\\Time-Series-PhD\\wandb\\run-20230227_145645-cokdvgo2\\files\\model-best\\assets\n"
     ]
    },
    {
     "name": "stderr",
     "output_type": "stream",
     "text": [
      "INFO:tensorflow:Assets written to: C:\\Users\\ucesvpm\\OneDrive - University College London\\PhD Project\\Data Analytics\\Time Series Clustering\\Third Test\\Time-Series-PhD\\wandb\\run-20230227_145645-cokdvgo2\\files\\model-best\\assets\n",
      "\u001b[34m\u001b[1mwandb\u001b[0m: Adding directory to artifact (C:\\Users\\ucesvpm\\OneDrive - University College London\\PhD Project\\Data Analytics\\Time Series Clustering\\Third Test\\Time-Series-PhD\\wandb\\run-20230227_145645-cokdvgo2\\files\\model-best)... Done. 0.2s\n"
     ]
    },
    {
     "name": "stdout",
     "output_type": "stream",
     "text": [
      "369/369 [==============================] - 15s 41ms/step - loss: 0.1838 - mse: 0.1838 - val_loss: 0.2157 - val_mse: 0.2157 - lr: 7.0501e-05\n",
      "Epoch 99/100\n",
      "369/369 [==============================] - ETA: 0s - loss: 0.1834 - mse: 0.1834"
     ]
    },
    {
     "name": "stderr",
     "output_type": "stream",
     "text": [
      "WARNING:absl:Found untraced functions such as leaky_re_lu_layer_call_fn, leaky_re_lu_layer_call_and_return_conditional_losses, leaky_re_lu_1_layer_call_fn, leaky_re_lu_1_layer_call_and_return_conditional_losses, leaky_re_lu_2_layer_call_fn while saving (showing 5 of 12). These functions will not be directly callable after loading.\n"
     ]
    },
    {
     "name": "stdout",
     "output_type": "stream",
     "text": [
      "INFO:tensorflow:Assets written to: C:\\Users\\ucesvpm\\OneDrive - University College London\\PhD Project\\Data Analytics\\Time Series Clustering\\Third Test\\Time-Series-PhD\\wandb\\run-20230227_145645-cokdvgo2\\files\\model-best\\assets\n"
     ]
    },
    {
     "name": "stderr",
     "output_type": "stream",
     "text": [
      "INFO:tensorflow:Assets written to: C:\\Users\\ucesvpm\\OneDrive - University College London\\PhD Project\\Data Analytics\\Time Series Clustering\\Third Test\\Time-Series-PhD\\wandb\\run-20230227_145645-cokdvgo2\\files\\model-best\\assets\n",
      "\u001b[34m\u001b[1mwandb\u001b[0m: Adding directory to artifact (C:\\Users\\ucesvpm\\OneDrive - University College London\\PhD Project\\Data Analytics\\Time Series Clustering\\Third Test\\Time-Series-PhD\\wandb\\run-20230227_145645-cokdvgo2\\files\\model-best)... Done. 0.3s\n"
     ]
    },
    {
     "name": "stdout",
     "output_type": "stream",
     "text": [
      "369/369 [==============================] - 14s 39ms/step - loss: 0.1834 - mse: 0.1834 - val_loss: 0.2156 - val_mse: 0.2156 - lr: 7.0501e-05\n",
      "Epoch 100/100\n",
      "368/369 [============================>.] - ETA: 0s - loss: 0.1828 - mse: 0.1828"
     ]
    },
    {
     "name": "stderr",
     "output_type": "stream",
     "text": [
      "WARNING:absl:Found untraced functions such as leaky_re_lu_layer_call_fn, leaky_re_lu_layer_call_and_return_conditional_losses, leaky_re_lu_1_layer_call_fn, leaky_re_lu_1_layer_call_and_return_conditional_losses, leaky_re_lu_2_layer_call_fn while saving (showing 5 of 12). These functions will not be directly callable after loading.\n"
     ]
    },
    {
     "name": "stdout",
     "output_type": "stream",
     "text": [
      "INFO:tensorflow:Assets written to: C:\\Users\\ucesvpm\\OneDrive - University College London\\PhD Project\\Data Analytics\\Time Series Clustering\\Third Test\\Time-Series-PhD\\wandb\\run-20230227_145645-cokdvgo2\\files\\model-best\\assets\n"
     ]
    },
    {
     "name": "stderr",
     "output_type": "stream",
     "text": [
      "INFO:tensorflow:Assets written to: C:\\Users\\ucesvpm\\OneDrive - University College London\\PhD Project\\Data Analytics\\Time Series Clustering\\Third Test\\Time-Series-PhD\\wandb\\run-20230227_145645-cokdvgo2\\files\\model-best\\assets\n",
      "\u001b[34m\u001b[1mwandb\u001b[0m: Adding directory to artifact (C:\\Users\\ucesvpm\\OneDrive - University College London\\PhD Project\\Data Analytics\\Time Series Clustering\\Third Test\\Time-Series-PhD\\wandb\\run-20230227_145645-cokdvgo2\\files\\model-best)... Done. 0.1s\n"
     ]
    },
    {
     "name": "stdout",
     "output_type": "stream",
     "text": [
      "369/369 [==============================] - 15s 40ms/step - loss: 0.1829 - mse: 0.1829 - val_loss: 0.2156 - val_mse: 0.2156 - lr: 7.0501e-05\n"
     ]
    },
    {
     "data": {
      "text/html": [
       "Waiting for W&B process to finish... <strong style=\"color:green\">(success).</strong>"
      ],
      "text/plain": [
       "<IPython.core.display.HTML object>"
      ]
     },
     "metadata": {},
     "output_type": "display_data"
    },
    {
     "data": {
      "text/html": [
       "<style>\n",
       "    table.wandb td:nth-child(1) { padding: 0 10px; text-align: left ; width: auto;} td:nth-child(2) {text-align: left ; width: 100%}\n",
       "    .wandb-row { display: flex; flex-direction: row; flex-wrap: wrap; justify-content: flex-start; width: 100% }\n",
       "    .wandb-col { display: flex; flex-direction: column; flex-basis: 100%; flex: 1; padding: 10px; }\n",
       "    </style>\n",
       "<div class=\"wandb-row\"><div class=\"wandb-col\"><h3>Run history:</h3><br/><table class=\"wandb\"><tr><td>epoch</td><td>▁▁▁▁▂▂▂▂▂▃▃▃▃▃▃▄▄▄▄▄▅▅▅▅▅▅▆▆▆▆▆▇▇▇▇▇▇███</td></tr><tr><td>loss</td><td>█▃▃▃▂▂▂▂▂▂▂▂▂▂▂▂▂▂▂▁▁▁▁▁▁▁▁▁▁▁▁▁▁▁▁▁▁▁▁▁</td></tr><tr><td>mse</td><td>█▃▃▃▂▂▂▂▂▂▂▂▂▂▂▂▂▂▂▁▁▁▁▁▁▁▁▁▁▁▁▁▁▁▁▁▁▁▁▁</td></tr><tr><td>val_loss</td><td>█▅▃▃▃▃▂▂▂▂▂▂▂▂▂▂▂▂▂▁▁▁▁▁▁▁▁▁▁▁▁▁▁▁▁▁▁▁▁▁</td></tr><tr><td>val_mse</td><td>█▅▃▃▃▃▂▂▂▂▂▂▂▂▂▂▂▂▂▁▁▁▁▁▁▁▁▁▁▁▁▁▁▁▁▁▁▁▁▁</td></tr></table><br/></div><div class=\"wandb-col\"><h3>Run summary:</h3><br/><table class=\"wandb\"><tr><td>best_epoch</td><td>99</td></tr><tr><td>best_val_loss</td><td>0.21557</td></tr><tr><td>epoch</td><td>99</td></tr><tr><td>loss</td><td>0.18289</td></tr><tr><td>mse</td><td>0.18289</td></tr><tr><td>val_loss</td><td>0.21557</td></tr><tr><td>val_mse</td><td>0.21557</td></tr></table><br/></div></div>"
      ],
      "text/plain": [
       "<IPython.core.display.HTML object>"
      ]
     },
     "metadata": {},
     "output_type": "display_data"
    },
    {
     "data": {
      "text/html": [
       "Synced <strong style=\"color:#cdcd00\">serene-sweep-4</strong>: <a href=\"https://wandb.ai/vasco-phd/FC_AE-Kenya_10k_Set_1_w90/runs/cokdvgo2\" target=\"_blank\">https://wandb.ai/vasco-phd/FC_AE-Kenya_10k_Set_1_w90/runs/cokdvgo2</a><br/>Synced 6 W&B file(s), 1 media file(s), 265 artifact file(s) and 1 other file(s)"
      ],
      "text/plain": [
       "<IPython.core.display.HTML object>"
      ]
     },
     "metadata": {},
     "output_type": "display_data"
    },
    {
     "data": {
      "text/html": [
       "Find logs at: <code>.\\wandb\\run-20230227_145645-cokdvgo2\\logs</code>"
      ],
      "text/plain": [
       "<IPython.core.display.HTML object>"
      ]
     },
     "metadata": {},
     "output_type": "display_data"
    },
    {
     "name": "stderr",
     "output_type": "stream",
     "text": [
      "\u001b[34m\u001b[1mwandb\u001b[0m: Agent Starting Run: mlczurv8 with config:\n",
      "\u001b[34m\u001b[1mwandb\u001b[0m: \tactivation_fn: LeakyReLU\n",
      "\u001b[34m\u001b[1mwandb\u001b[0m: \tbatch_size: 250\n",
      "\u001b[34m\u001b[1mwandb\u001b[0m: \tepochs: 100\n",
      "\u001b[34m\u001b[1mwandb\u001b[0m: \tlatent_layer_size: 25\n",
      "\u001b[34m\u001b[1mwandb\u001b[0m: \tlearning_rate: 0.0010513995135302168\n",
      "\u001b[34m\u001b[1mwandb\u001b[0m: \toptimizer: sgd\n",
      "\u001b[34m\u001b[1mwandb\u001b[0m: \twindow_length: 90\n"
     ]
    },
    {
     "data": {
      "text/html": [
       "wandb version 0.13.10 is available!  To upgrade, please run:\n",
       " $ pip install wandb --upgrade"
      ],
      "text/plain": [
       "<IPython.core.display.HTML object>"
      ]
     },
     "metadata": {},
     "output_type": "display_data"
    },
    {
     "data": {
      "text/html": [
       "Tracking run with wandb version 0.13.6"
      ],
      "text/plain": [
       "<IPython.core.display.HTML object>"
      ]
     },
     "metadata": {},
     "output_type": "display_data"
    },
    {
     "data": {
      "text/html": [
       "Run data is saved locally in <code>C:\\Users\\ucesvpm\\OneDrive - University College London\\PhD Project\\Data Analytics\\Time Series Clustering\\Third Test\\Time-Series-PhD\\wandb\\run-20230227_152222-mlczurv8</code>"
      ],
      "text/plain": [
       "<IPython.core.display.HTML object>"
      ]
     },
     "metadata": {},
     "output_type": "display_data"
    },
    {
     "data": {
      "text/html": [
       "Syncing run <strong><a href=\"https://wandb.ai/vasco-phd/FC_AE-Kenya_10k_Set_1_w90/runs/mlczurv8\" target=\"_blank\">elated-sweep-5</a></strong> to <a href=\"https://wandb.ai/vasco-phd/FC_AE-Kenya_10k_Set_1_w90\" target=\"_blank\">Weights & Biases</a> (<a href=\"https://wandb.me/run\" target=\"_blank\">docs</a>)<br/>Sweep page:  <a href=\"https://wandb.ai/vasco-phd/FC_AE-Kenya_10k_Set_1_w90/sweeps/wzqhgcrr\" target=\"_blank\">https://wandb.ai/vasco-phd/FC_AE-Kenya_10k_Set_1_w90/sweeps/wzqhgcrr</a>"
      ],
      "text/plain": [
       "<IPython.core.display.HTML object>"
      ]
     },
     "metadata": {},
     "output_type": "display_data"
    },
    {
     "name": "stdout",
     "output_type": "stream",
     "text": [
      "Epoch 1/100\n",
      "283/284 [============================>.] - ETA: 0s - loss: 0.8462 - mse: 0.8462"
     ]
    },
    {
     "name": "stderr",
     "output_type": "stream",
     "text": [
      "WARNING:absl:Found untraced functions such as leaky_re_lu_layer_call_fn, leaky_re_lu_layer_call_and_return_conditional_losses, leaky_re_lu_1_layer_call_fn, leaky_re_lu_1_layer_call_and_return_conditional_losses, leaky_re_lu_2_layer_call_fn while saving (showing 5 of 12). These functions will not be directly callable after loading.\n"
     ]
    },
    {
     "name": "stdout",
     "output_type": "stream",
     "text": [
      "INFO:tensorflow:Assets written to: C:\\Users\\ucesvpm\\OneDrive - University College London\\PhD Project\\Data Analytics\\Time Series Clustering\\Third Test\\Time-Series-PhD\\wandb\\run-20230227_152222-mlczurv8\\files\\model-best\\assets\n"
     ]
    },
    {
     "name": "stderr",
     "output_type": "stream",
     "text": [
      "INFO:tensorflow:Assets written to: C:\\Users\\ucesvpm\\OneDrive - University College London\\PhD Project\\Data Analytics\\Time Series Clustering\\Third Test\\Time-Series-PhD\\wandb\\run-20230227_152222-mlczurv8\\files\\model-best\\assets\n",
      "\u001b[34m\u001b[1mwandb\u001b[0m: Adding directory to artifact (C:\\Users\\ucesvpm\\OneDrive - University College London\\PhD Project\\Data Analytics\\Time Series Clustering\\Third Test\\Time-Series-PhD\\wandb\\run-20230227_152222-mlczurv8\\files\\model-best)... Done. 0.1s\n"
     ]
    },
    {
     "name": "stdout",
     "output_type": "stream",
     "text": [
      "284/284 [==============================] - 11s 38ms/step - loss: 0.8459 - mse: 0.8459 - val_loss: 0.6026 - val_mse: 0.6026 - lr: 0.0011\n",
      "Epoch 2/100\n",
      "283/284 [============================>.] - ETA: 0s - loss: 0.5376 - mse: 0.5376"
     ]
    },
    {
     "name": "stderr",
     "output_type": "stream",
     "text": [
      "WARNING:absl:Found untraced functions such as leaky_re_lu_layer_call_fn, leaky_re_lu_layer_call_and_return_conditional_losses, leaky_re_lu_1_layer_call_fn, leaky_re_lu_1_layer_call_and_return_conditional_losses, leaky_re_lu_2_layer_call_fn while saving (showing 5 of 12). These functions will not be directly callable after loading.\n"
     ]
    },
    {
     "name": "stdout",
     "output_type": "stream",
     "text": [
      "INFO:tensorflow:Assets written to: C:\\Users\\ucesvpm\\OneDrive - University College London\\PhD Project\\Data Analytics\\Time Series Clustering\\Third Test\\Time-Series-PhD\\wandb\\run-20230227_152222-mlczurv8\\files\\model-best\\assets\n"
     ]
    },
    {
     "name": "stderr",
     "output_type": "stream",
     "text": [
      "INFO:tensorflow:Assets written to: C:\\Users\\ucesvpm\\OneDrive - University College London\\PhD Project\\Data Analytics\\Time Series Clustering\\Third Test\\Time-Series-PhD\\wandb\\run-20230227_152222-mlczurv8\\files\\model-best\\assets\n",
      "\u001b[34m\u001b[1mwandb\u001b[0m: Adding directory to artifact (C:\\Users\\ucesvpm\\OneDrive - University College London\\PhD Project\\Data Analytics\\Time Series Clustering\\Third Test\\Time-Series-PhD\\wandb\\run-20230227_152222-mlczurv8\\files\\model-best)... Done. 0.1s\n"
     ]
    },
    {
     "name": "stdout",
     "output_type": "stream",
     "text": [
      "284/284 [==============================] - 11s 38ms/step - loss: 0.5375 - mse: 0.5375 - val_loss: 0.4937 - val_mse: 0.4937 - lr: 0.0011\n",
      "Epoch 3/100\n",
      "282/284 [============================>.] - ETA: 0s - loss: 0.4576 - mse: 0.4576"
     ]
    },
    {
     "name": "stderr",
     "output_type": "stream",
     "text": [
      "WARNING:absl:Found untraced functions such as leaky_re_lu_layer_call_fn, leaky_re_lu_layer_call_and_return_conditional_losses, leaky_re_lu_1_layer_call_fn, leaky_re_lu_1_layer_call_and_return_conditional_losses, leaky_re_lu_2_layer_call_fn while saving (showing 5 of 12). These functions will not be directly callable after loading.\n"
     ]
    },
    {
     "name": "stdout",
     "output_type": "stream",
     "text": [
      "INFO:tensorflow:Assets written to: C:\\Users\\ucesvpm\\OneDrive - University College London\\PhD Project\\Data Analytics\\Time Series Clustering\\Third Test\\Time-Series-PhD\\wandb\\run-20230227_152222-mlczurv8\\files\\model-best\\assets\n"
     ]
    },
    {
     "name": "stderr",
     "output_type": "stream",
     "text": [
      "INFO:tensorflow:Assets written to: C:\\Users\\ucesvpm\\OneDrive - University College London\\PhD Project\\Data Analytics\\Time Series Clustering\\Third Test\\Time-Series-PhD\\wandb\\run-20230227_152222-mlczurv8\\files\\model-best\\assets\n",
      "\u001b[34m\u001b[1mwandb\u001b[0m: Adding directory to artifact (C:\\Users\\ucesvpm\\OneDrive - University College London\\PhD Project\\Data Analytics\\Time Series Clustering\\Third Test\\Time-Series-PhD\\wandb\\run-20230227_152222-mlczurv8\\files\\model-best)... Done. 0.2s\n"
     ]
    },
    {
     "name": "stdout",
     "output_type": "stream",
     "text": [
      "284/284 [==============================] - 11s 40ms/step - loss: 0.4574 - mse: 0.4574 - val_loss: 0.4366 - val_mse: 0.4366 - lr: 0.0011\n",
      "Epoch 4/100\n",
      "283/284 [============================>.] - ETA: 0s - loss: 0.4116 - mse: 0.4116"
     ]
    },
    {
     "name": "stderr",
     "output_type": "stream",
     "text": [
      "WARNING:absl:Found untraced functions such as leaky_re_lu_layer_call_fn, leaky_re_lu_layer_call_and_return_conditional_losses, leaky_re_lu_1_layer_call_fn, leaky_re_lu_1_layer_call_and_return_conditional_losses, leaky_re_lu_2_layer_call_fn while saving (showing 5 of 12). These functions will not be directly callable after loading.\n"
     ]
    },
    {
     "name": "stdout",
     "output_type": "stream",
     "text": [
      "INFO:tensorflow:Assets written to: C:\\Users\\ucesvpm\\OneDrive - University College London\\PhD Project\\Data Analytics\\Time Series Clustering\\Third Test\\Time-Series-PhD\\wandb\\run-20230227_152222-mlczurv8\\files\\model-best\\assets\n"
     ]
    },
    {
     "name": "stderr",
     "output_type": "stream",
     "text": [
      "INFO:tensorflow:Assets written to: C:\\Users\\ucesvpm\\OneDrive - University College London\\PhD Project\\Data Analytics\\Time Series Clustering\\Third Test\\Time-Series-PhD\\wandb\\run-20230227_152222-mlczurv8\\files\\model-best\\assets\n",
      "\u001b[34m\u001b[1mwandb\u001b[0m: Adding directory to artifact (C:\\Users\\ucesvpm\\OneDrive - University College London\\PhD Project\\Data Analytics\\Time Series Clustering\\Third Test\\Time-Series-PhD\\wandb\\run-20230227_152222-mlczurv8\\files\\model-best)... Done. 0.1s\n"
     ]
    },
    {
     "name": "stdout",
     "output_type": "stream",
     "text": [
      "284/284 [==============================] - 11s 39ms/step - loss: 0.4116 - mse: 0.4116 - val_loss: 0.4004 - val_mse: 0.4004 - lr: 0.0011\n",
      "Epoch 5/100\n",
      "284/284 [==============================] - ETA: 0s - loss: 0.3864 - mse: 0.3864"
     ]
    },
    {
     "name": "stderr",
     "output_type": "stream",
     "text": [
      "WARNING:absl:Found untraced functions such as leaky_re_lu_layer_call_fn, leaky_re_lu_layer_call_and_return_conditional_losses, leaky_re_lu_1_layer_call_fn, leaky_re_lu_1_layer_call_and_return_conditional_losses, leaky_re_lu_2_layer_call_fn while saving (showing 5 of 12). These functions will not be directly callable after loading.\n"
     ]
    },
    {
     "name": "stdout",
     "output_type": "stream",
     "text": [
      "INFO:tensorflow:Assets written to: C:\\Users\\ucesvpm\\OneDrive - University College London\\PhD Project\\Data Analytics\\Time Series Clustering\\Third Test\\Time-Series-PhD\\wandb\\run-20230227_152222-mlczurv8\\files\\model-best\\assets\n"
     ]
    },
    {
     "name": "stderr",
     "output_type": "stream",
     "text": [
      "INFO:tensorflow:Assets written to: C:\\Users\\ucesvpm\\OneDrive - University College London\\PhD Project\\Data Analytics\\Time Series Clustering\\Third Test\\Time-Series-PhD\\wandb\\run-20230227_152222-mlczurv8\\files\\model-best\\assets\n",
      "\u001b[34m\u001b[1mwandb\u001b[0m: Adding directory to artifact (C:\\Users\\ucesvpm\\OneDrive - University College London\\PhD Project\\Data Analytics\\Time Series Clustering\\Third Test\\Time-Series-PhD\\wandb\\run-20230227_152222-mlczurv8\\files\\model-best)... Done. 0.2s\n"
     ]
    },
    {
     "name": "stdout",
     "output_type": "stream",
     "text": [
      "284/284 [==============================] - 11s 38ms/step - loss: 0.3864 - mse: 0.3864 - val_loss: 0.3874 - val_mse: 0.3874 - lr: 0.0011\n",
      "Epoch 6/100\n",
      "282/284 [============================>.] - ETA: 0s - loss: 0.3726 - mse: 0.3726"
     ]
    },
    {
     "name": "stderr",
     "output_type": "stream",
     "text": [
      "WARNING:absl:Found untraced functions such as leaky_re_lu_layer_call_fn, leaky_re_lu_layer_call_and_return_conditional_losses, leaky_re_lu_1_layer_call_fn, leaky_re_lu_1_layer_call_and_return_conditional_losses, leaky_re_lu_2_layer_call_fn while saving (showing 5 of 12). These functions will not be directly callable after loading.\n"
     ]
    },
    {
     "name": "stdout",
     "output_type": "stream",
     "text": [
      "INFO:tensorflow:Assets written to: C:\\Users\\ucesvpm\\OneDrive - University College London\\PhD Project\\Data Analytics\\Time Series Clustering\\Third Test\\Time-Series-PhD\\wandb\\run-20230227_152222-mlczurv8\\files\\model-best\\assets\n"
     ]
    },
    {
     "name": "stderr",
     "output_type": "stream",
     "text": [
      "INFO:tensorflow:Assets written to: C:\\Users\\ucesvpm\\OneDrive - University College London\\PhD Project\\Data Analytics\\Time Series Clustering\\Third Test\\Time-Series-PhD\\wandb\\run-20230227_152222-mlczurv8\\files\\model-best\\assets\n",
      "\u001b[34m\u001b[1mwandb\u001b[0m: Adding directory to artifact (C:\\Users\\ucesvpm\\OneDrive - University College London\\PhD Project\\Data Analytics\\Time Series Clustering\\Third Test\\Time-Series-PhD\\wandb\\run-20230227_152222-mlczurv8\\files\\model-best)... Done. 0.2s\n"
     ]
    },
    {
     "name": "stdout",
     "output_type": "stream",
     "text": [
      "284/284 [==============================] - 12s 41ms/step - loss: 0.3726 - mse: 0.3726 - val_loss: 0.3699 - val_mse: 0.3699 - lr: 0.0011\n",
      "Epoch 7/100\n",
      "282/284 [============================>.] - ETA: 0s - loss: 0.3622 - mse: 0.3622"
     ]
    },
    {
     "name": "stderr",
     "output_type": "stream",
     "text": [
      "WARNING:absl:Found untraced functions such as leaky_re_lu_layer_call_fn, leaky_re_lu_layer_call_and_return_conditional_losses, leaky_re_lu_1_layer_call_fn, leaky_re_lu_1_layer_call_and_return_conditional_losses, leaky_re_lu_2_layer_call_fn while saving (showing 5 of 12). These functions will not be directly callable after loading.\n"
     ]
    },
    {
     "name": "stdout",
     "output_type": "stream",
     "text": [
      "INFO:tensorflow:Assets written to: C:\\Users\\ucesvpm\\OneDrive - University College London\\PhD Project\\Data Analytics\\Time Series Clustering\\Third Test\\Time-Series-PhD\\wandb\\run-20230227_152222-mlczurv8\\files\\model-best\\assets\n"
     ]
    },
    {
     "name": "stderr",
     "output_type": "stream",
     "text": [
      "INFO:tensorflow:Assets written to: C:\\Users\\ucesvpm\\OneDrive - University College London\\PhD Project\\Data Analytics\\Time Series Clustering\\Third Test\\Time-Series-PhD\\wandb\\run-20230227_152222-mlczurv8\\files\\model-best\\assets\n",
      "\u001b[34m\u001b[1mwandb\u001b[0m: Adding directory to artifact (C:\\Users\\ucesvpm\\OneDrive - University College London\\PhD Project\\Data Analytics\\Time Series Clustering\\Third Test\\Time-Series-PhD\\wandb\\run-20230227_152222-mlczurv8\\files\\model-best)... Done. 0.2s\n"
     ]
    },
    {
     "name": "stdout",
     "output_type": "stream",
     "text": [
      "284/284 [==============================] - 11s 40ms/step - loss: 0.3622 - mse: 0.3622 - val_loss: 0.3600 - val_mse: 0.3600 - lr: 0.0011\n",
      "Epoch 8/100\n",
      "283/284 [============================>.] - ETA: 0s - loss: 0.3524 - mse: 0.3524"
     ]
    },
    {
     "name": "stderr",
     "output_type": "stream",
     "text": [
      "WARNING:absl:Found untraced functions such as leaky_re_lu_layer_call_fn, leaky_re_lu_layer_call_and_return_conditional_losses, leaky_re_lu_1_layer_call_fn, leaky_re_lu_1_layer_call_and_return_conditional_losses, leaky_re_lu_2_layer_call_fn while saving (showing 5 of 12). These functions will not be directly callable after loading.\n"
     ]
    },
    {
     "name": "stdout",
     "output_type": "stream",
     "text": [
      "INFO:tensorflow:Assets written to: C:\\Users\\ucesvpm\\OneDrive - University College London\\PhD Project\\Data Analytics\\Time Series Clustering\\Third Test\\Time-Series-PhD\\wandb\\run-20230227_152222-mlczurv8\\files\\model-best\\assets\n"
     ]
    },
    {
     "name": "stderr",
     "output_type": "stream",
     "text": [
      "INFO:tensorflow:Assets written to: C:\\Users\\ucesvpm\\OneDrive - University College London\\PhD Project\\Data Analytics\\Time Series Clustering\\Third Test\\Time-Series-PhD\\wandb\\run-20230227_152222-mlczurv8\\files\\model-best\\assets\n",
      "\u001b[34m\u001b[1mwandb\u001b[0m: Adding directory to artifact (C:\\Users\\ucesvpm\\OneDrive - University College London\\PhD Project\\Data Analytics\\Time Series Clustering\\Third Test\\Time-Series-PhD\\wandb\\run-20230227_152222-mlczurv8\\files\\model-best)... Done. 0.1s\n"
     ]
    },
    {
     "name": "stdout",
     "output_type": "stream",
     "text": [
      "284/284 [==============================] - 11s 40ms/step - loss: 0.3525 - mse: 0.3525 - val_loss: 0.3570 - val_mse: 0.3570 - lr: 0.0011\n",
      "Epoch 9/100\n",
      "282/284 [============================>.] - ETA: 0s - loss: 0.3452 - mse: 0.3452"
     ]
    },
    {
     "name": "stderr",
     "output_type": "stream",
     "text": [
      "WARNING:absl:Found untraced functions such as leaky_re_lu_layer_call_fn, leaky_re_lu_layer_call_and_return_conditional_losses, leaky_re_lu_1_layer_call_fn, leaky_re_lu_1_layer_call_and_return_conditional_losses, leaky_re_lu_2_layer_call_fn while saving (showing 5 of 12). These functions will not be directly callable after loading.\n"
     ]
    },
    {
     "name": "stdout",
     "output_type": "stream",
     "text": [
      "INFO:tensorflow:Assets written to: C:\\Users\\ucesvpm\\OneDrive - University College London\\PhD Project\\Data Analytics\\Time Series Clustering\\Third Test\\Time-Series-PhD\\wandb\\run-20230227_152222-mlczurv8\\files\\model-best\\assets\n"
     ]
    },
    {
     "name": "stderr",
     "output_type": "stream",
     "text": [
      "INFO:tensorflow:Assets written to: C:\\Users\\ucesvpm\\OneDrive - University College London\\PhD Project\\Data Analytics\\Time Series Clustering\\Third Test\\Time-Series-PhD\\wandb\\run-20230227_152222-mlczurv8\\files\\model-best\\assets\n",
      "\u001b[34m\u001b[1mwandb\u001b[0m: Adding directory to artifact (C:\\Users\\ucesvpm\\OneDrive - University College London\\PhD Project\\Data Analytics\\Time Series Clustering\\Third Test\\Time-Series-PhD\\wandb\\run-20230227_152222-mlczurv8\\files\\model-best)... Done. 0.2s\n"
     ]
    },
    {
     "name": "stdout",
     "output_type": "stream",
     "text": [
      "284/284 [==============================] - 12s 44ms/step - loss: 0.3452 - mse: 0.3452 - val_loss: 0.3528 - val_mse: 0.3528 - lr: 0.0011\n",
      "Epoch 10/100\n",
      "283/284 [============================>.] - ETA: 0s - loss: 0.3413 - mse: 0.3413"
     ]
    },
    {
     "name": "stderr",
     "output_type": "stream",
     "text": [
      "WARNING:absl:Found untraced functions such as leaky_re_lu_layer_call_fn, leaky_re_lu_layer_call_and_return_conditional_losses, leaky_re_lu_1_layer_call_fn, leaky_re_lu_1_layer_call_and_return_conditional_losses, leaky_re_lu_2_layer_call_fn while saving (showing 5 of 12). These functions will not be directly callable after loading.\n"
     ]
    },
    {
     "name": "stdout",
     "output_type": "stream",
     "text": [
      "INFO:tensorflow:Assets written to: C:\\Users\\ucesvpm\\OneDrive - University College London\\PhD Project\\Data Analytics\\Time Series Clustering\\Third Test\\Time-Series-PhD\\wandb\\run-20230227_152222-mlczurv8\\files\\model-best\\assets\n"
     ]
    },
    {
     "name": "stderr",
     "output_type": "stream",
     "text": [
      "INFO:tensorflow:Assets written to: C:\\Users\\ucesvpm\\OneDrive - University College London\\PhD Project\\Data Analytics\\Time Series Clustering\\Third Test\\Time-Series-PhD\\wandb\\run-20230227_152222-mlczurv8\\files\\model-best\\assets\n",
      "\u001b[34m\u001b[1mwandb\u001b[0m: Adding directory to artifact (C:\\Users\\ucesvpm\\OneDrive - University College London\\PhD Project\\Data Analytics\\Time Series Clustering\\Third Test\\Time-Series-PhD\\wandb\\run-20230227_152222-mlczurv8\\files\\model-best)... Done. 0.2s\n"
     ]
    },
    {
     "name": "stdout",
     "output_type": "stream",
     "text": [
      "284/284 [==============================] - 13s 47ms/step - loss: 0.3413 - mse: 0.3413 - val_loss: 0.3490 - val_mse: 0.3490 - lr: 0.0011\n",
      "Epoch 11/100\n",
      "283/284 [============================>.] - ETA: 0s - loss: 0.3363 - mse: 0.3363"
     ]
    },
    {
     "name": "stderr",
     "output_type": "stream",
     "text": [
      "WARNING:absl:Found untraced functions such as leaky_re_lu_layer_call_fn, leaky_re_lu_layer_call_and_return_conditional_losses, leaky_re_lu_1_layer_call_fn, leaky_re_lu_1_layer_call_and_return_conditional_losses, leaky_re_lu_2_layer_call_fn while saving (showing 5 of 12). These functions will not be directly callable after loading.\n"
     ]
    },
    {
     "name": "stdout",
     "output_type": "stream",
     "text": [
      "INFO:tensorflow:Assets written to: C:\\Users\\ucesvpm\\OneDrive - University College London\\PhD Project\\Data Analytics\\Time Series Clustering\\Third Test\\Time-Series-PhD\\wandb\\run-20230227_152222-mlczurv8\\files\\model-best\\assets\n"
     ]
    },
    {
     "name": "stderr",
     "output_type": "stream",
     "text": [
      "INFO:tensorflow:Assets written to: C:\\Users\\ucesvpm\\OneDrive - University College London\\PhD Project\\Data Analytics\\Time Series Clustering\\Third Test\\Time-Series-PhD\\wandb\\run-20230227_152222-mlczurv8\\files\\model-best\\assets\n",
      "\u001b[34m\u001b[1mwandb\u001b[0m: Adding directory to artifact (C:\\Users\\ucesvpm\\OneDrive - University College London\\PhD Project\\Data Analytics\\Time Series Clustering\\Third Test\\Time-Series-PhD\\wandb\\run-20230227_152222-mlczurv8\\files\\model-best)... Done. 0.2s\n"
     ]
    },
    {
     "name": "stdout",
     "output_type": "stream",
     "text": [
      "284/284 [==============================] - 14s 48ms/step - loss: 0.3363 - mse: 0.3363 - val_loss: 0.3426 - val_mse: 0.3426 - lr: 0.0011\n",
      "Epoch 12/100\n",
      "282/284 [============================>.] - ETA: 0s - loss: 0.3326 - mse: 0.3326"
     ]
    },
    {
     "name": "stderr",
     "output_type": "stream",
     "text": [
      "WARNING:absl:Found untraced functions such as leaky_re_lu_layer_call_fn, leaky_re_lu_layer_call_and_return_conditional_losses, leaky_re_lu_1_layer_call_fn, leaky_re_lu_1_layer_call_and_return_conditional_losses, leaky_re_lu_2_layer_call_fn while saving (showing 5 of 12). These functions will not be directly callable after loading.\n"
     ]
    },
    {
     "name": "stdout",
     "output_type": "stream",
     "text": [
      "INFO:tensorflow:Assets written to: C:\\Users\\ucesvpm\\OneDrive - University College London\\PhD Project\\Data Analytics\\Time Series Clustering\\Third Test\\Time-Series-PhD\\wandb\\run-20230227_152222-mlczurv8\\files\\model-best\\assets\n"
     ]
    },
    {
     "name": "stderr",
     "output_type": "stream",
     "text": [
      "INFO:tensorflow:Assets written to: C:\\Users\\ucesvpm\\OneDrive - University College London\\PhD Project\\Data Analytics\\Time Series Clustering\\Third Test\\Time-Series-PhD\\wandb\\run-20230227_152222-mlczurv8\\files\\model-best\\assets\n",
      "\u001b[34m\u001b[1mwandb\u001b[0m: Adding directory to artifact (C:\\Users\\ucesvpm\\OneDrive - University College London\\PhD Project\\Data Analytics\\Time Series Clustering\\Third Test\\Time-Series-PhD\\wandb\\run-20230227_152222-mlczurv8\\files\\model-best)... Done. 0.1s\n"
     ]
    },
    {
     "name": "stdout",
     "output_type": "stream",
     "text": [
      "284/284 [==============================] - 13s 45ms/step - loss: 0.3326 - mse: 0.3326 - val_loss: 0.3375 - val_mse: 0.3375 - lr: 0.0011\n",
      "Epoch 13/100\n",
      "284/284 [==============================] - ETA: 0s - loss: 0.3291 - mse: 0.3291"
     ]
    },
    {
     "name": "stderr",
     "output_type": "stream",
     "text": [
      "WARNING:absl:Found untraced functions such as leaky_re_lu_layer_call_fn, leaky_re_lu_layer_call_and_return_conditional_losses, leaky_re_lu_1_layer_call_fn, leaky_re_lu_1_layer_call_and_return_conditional_losses, leaky_re_lu_2_layer_call_fn while saving (showing 5 of 12). These functions will not be directly callable after loading.\n"
     ]
    },
    {
     "name": "stdout",
     "output_type": "stream",
     "text": [
      "INFO:tensorflow:Assets written to: C:\\Users\\ucesvpm\\OneDrive - University College London\\PhD Project\\Data Analytics\\Time Series Clustering\\Third Test\\Time-Series-PhD\\wandb\\run-20230227_152222-mlczurv8\\files\\model-best\\assets\n"
     ]
    },
    {
     "name": "stderr",
     "output_type": "stream",
     "text": [
      "INFO:tensorflow:Assets written to: C:\\Users\\ucesvpm\\OneDrive - University College London\\PhD Project\\Data Analytics\\Time Series Clustering\\Third Test\\Time-Series-PhD\\wandb\\run-20230227_152222-mlczurv8\\files\\model-best\\assets\n",
      "\u001b[34m\u001b[1mwandb\u001b[0m: Adding directory to artifact (C:\\Users\\ucesvpm\\OneDrive - University College London\\PhD Project\\Data Analytics\\Time Series Clustering\\Third Test\\Time-Series-PhD\\wandb\\run-20230227_152222-mlczurv8\\files\\model-best)... Done. 0.2s\n"
     ]
    },
    {
     "name": "stdout",
     "output_type": "stream",
     "text": [
      "284/284 [==============================] - 13s 46ms/step - loss: 0.3291 - mse: 0.3291 - val_loss: 0.3317 - val_mse: 0.3317 - lr: 0.0011\n",
      "Epoch 14/100\n",
      "283/284 [============================>.] - ETA: 0s - loss: 0.3260 - mse: 0.3260"
     ]
    },
    {
     "name": "stderr",
     "output_type": "stream",
     "text": [
      "WARNING:absl:Found untraced functions such as leaky_re_lu_layer_call_fn, leaky_re_lu_layer_call_and_return_conditional_losses, leaky_re_lu_1_layer_call_fn, leaky_re_lu_1_layer_call_and_return_conditional_losses, leaky_re_lu_2_layer_call_fn while saving (showing 5 of 12). These functions will not be directly callable after loading.\n"
     ]
    },
    {
     "name": "stdout",
     "output_type": "stream",
     "text": [
      "INFO:tensorflow:Assets written to: C:\\Users\\ucesvpm\\OneDrive - University College London\\PhD Project\\Data Analytics\\Time Series Clustering\\Third Test\\Time-Series-PhD\\wandb\\run-20230227_152222-mlczurv8\\files\\model-best\\assets\n"
     ]
    },
    {
     "name": "stderr",
     "output_type": "stream",
     "text": [
      "INFO:tensorflow:Assets written to: C:\\Users\\ucesvpm\\OneDrive - University College London\\PhD Project\\Data Analytics\\Time Series Clustering\\Third Test\\Time-Series-PhD\\wandb\\run-20230227_152222-mlczurv8\\files\\model-best\\assets\n",
      "\u001b[34m\u001b[1mwandb\u001b[0m: Adding directory to artifact (C:\\Users\\ucesvpm\\OneDrive - University College London\\PhD Project\\Data Analytics\\Time Series Clustering\\Third Test\\Time-Series-PhD\\wandb\\run-20230227_152222-mlczurv8\\files\\model-best)... Done. 0.2s\n"
     ]
    },
    {
     "name": "stdout",
     "output_type": "stream",
     "text": [
      "284/284 [==============================] - 12s 41ms/step - loss: 0.3259 - mse: 0.3259 - val_loss: 0.3276 - val_mse: 0.3276 - lr: 0.0011\n",
      "Epoch 15/100\n",
      "283/284 [============================>.] - ETA: 0s - loss: 0.3239 - mse: 0.3239"
     ]
    },
    {
     "name": "stderr",
     "output_type": "stream",
     "text": [
      "WARNING:absl:Found untraced functions such as leaky_re_lu_layer_call_fn, leaky_re_lu_layer_call_and_return_conditional_losses, leaky_re_lu_1_layer_call_fn, leaky_re_lu_1_layer_call_and_return_conditional_losses, leaky_re_lu_2_layer_call_fn while saving (showing 5 of 12). These functions will not be directly callable after loading.\n"
     ]
    },
    {
     "name": "stdout",
     "output_type": "stream",
     "text": [
      "INFO:tensorflow:Assets written to: C:\\Users\\ucesvpm\\OneDrive - University College London\\PhD Project\\Data Analytics\\Time Series Clustering\\Third Test\\Time-Series-PhD\\wandb\\run-20230227_152222-mlczurv8\\files\\model-best\\assets\n"
     ]
    },
    {
     "name": "stderr",
     "output_type": "stream",
     "text": [
      "INFO:tensorflow:Assets written to: C:\\Users\\ucesvpm\\OneDrive - University College London\\PhD Project\\Data Analytics\\Time Series Clustering\\Third Test\\Time-Series-PhD\\wandb\\run-20230227_152222-mlczurv8\\files\\model-best\\assets\n",
      "\u001b[34m\u001b[1mwandb\u001b[0m: Adding directory to artifact (C:\\Users\\ucesvpm\\OneDrive - University College London\\PhD Project\\Data Analytics\\Time Series Clustering\\Third Test\\Time-Series-PhD\\wandb\\run-20230227_152222-mlczurv8\\files\\model-best)... Done. 0.1s\n"
     ]
    },
    {
     "name": "stdout",
     "output_type": "stream",
     "text": [
      "284/284 [==============================] - 14s 49ms/step - loss: 0.3238 - mse: 0.3238 - val_loss: 0.3273 - val_mse: 0.3273 - lr: 0.0011\n",
      "Epoch 16/100\n",
      "283/284 [============================>.] - ETA: 0s - loss: 0.3208 - mse: 0.3208"
     ]
    },
    {
     "name": "stderr",
     "output_type": "stream",
     "text": [
      "WARNING:absl:Found untraced functions such as leaky_re_lu_layer_call_fn, leaky_re_lu_layer_call_and_return_conditional_losses, leaky_re_lu_1_layer_call_fn, leaky_re_lu_1_layer_call_and_return_conditional_losses, leaky_re_lu_2_layer_call_fn while saving (showing 5 of 12). These functions will not be directly callable after loading.\n"
     ]
    },
    {
     "name": "stdout",
     "output_type": "stream",
     "text": [
      "INFO:tensorflow:Assets written to: C:\\Users\\ucesvpm\\OneDrive - University College London\\PhD Project\\Data Analytics\\Time Series Clustering\\Third Test\\Time-Series-PhD\\wandb\\run-20230227_152222-mlczurv8\\files\\model-best\\assets\n"
     ]
    },
    {
     "name": "stderr",
     "output_type": "stream",
     "text": [
      "INFO:tensorflow:Assets written to: C:\\Users\\ucesvpm\\OneDrive - University College London\\PhD Project\\Data Analytics\\Time Series Clustering\\Third Test\\Time-Series-PhD\\wandb\\run-20230227_152222-mlczurv8\\files\\model-best\\assets\n",
      "\u001b[34m\u001b[1mwandb\u001b[0m: Adding directory to artifact (C:\\Users\\ucesvpm\\OneDrive - University College London\\PhD Project\\Data Analytics\\Time Series Clustering\\Third Test\\Time-Series-PhD\\wandb\\run-20230227_152222-mlczurv8\\files\\model-best)... Done. 0.2s\n"
     ]
    },
    {
     "name": "stdout",
     "output_type": "stream",
     "text": [
      "284/284 [==============================] - 13s 46ms/step - loss: 0.3208 - mse: 0.3208 - val_loss: 0.3240 - val_mse: 0.3240 - lr: 0.0011\n",
      "Epoch 17/100\n",
      "284/284 [==============================] - 9s 30ms/step - loss: 0.3189 - mse: 0.3189 - val_loss: 0.3285 - val_mse: 0.3285 - lr: 0.0011\n",
      "Epoch 18/100\n",
      "284/284 [==============================] - 8s 30ms/step - loss: 0.3167 - mse: 0.3167 - val_loss: 0.3249 - val_mse: 0.3249 - lr: 0.0011\n",
      "Epoch 19/100\n",
      "282/284 [============================>.] - ETA: 0s - loss: 0.3154 - mse: 0.3154"
     ]
    },
    {
     "name": "stderr",
     "output_type": "stream",
     "text": [
      "WARNING:absl:Found untraced functions such as leaky_re_lu_layer_call_fn, leaky_re_lu_layer_call_and_return_conditional_losses, leaky_re_lu_1_layer_call_fn, leaky_re_lu_1_layer_call_and_return_conditional_losses, leaky_re_lu_2_layer_call_fn while saving (showing 5 of 12). These functions will not be directly callable after loading.\n"
     ]
    },
    {
     "name": "stdout",
     "output_type": "stream",
     "text": [
      "INFO:tensorflow:Assets written to: C:\\Users\\ucesvpm\\OneDrive - University College London\\PhD Project\\Data Analytics\\Time Series Clustering\\Third Test\\Time-Series-PhD\\wandb\\run-20230227_152222-mlczurv8\\files\\model-best\\assets\n"
     ]
    },
    {
     "name": "stderr",
     "output_type": "stream",
     "text": [
      "INFO:tensorflow:Assets written to: C:\\Users\\ucesvpm\\OneDrive - University College London\\PhD Project\\Data Analytics\\Time Series Clustering\\Third Test\\Time-Series-PhD\\wandb\\run-20230227_152222-mlczurv8\\files\\model-best\\assets\n",
      "\u001b[34m\u001b[1mwandb\u001b[0m: Adding directory to artifact (C:\\Users\\ucesvpm\\OneDrive - University College London\\PhD Project\\Data Analytics\\Time Series Clustering\\Third Test\\Time-Series-PhD\\wandb\\run-20230227_152222-mlczurv8\\files\\model-best)... Done. 0.1s\n"
     ]
    },
    {
     "name": "stdout",
     "output_type": "stream",
     "text": [
      "284/284 [==============================] - 11s 40ms/step - loss: 0.3154 - mse: 0.3154 - val_loss: 0.3239 - val_mse: 0.3239 - lr: 0.0011\n",
      "Epoch 20/100\n",
      "283/284 [============================>.] - ETA: 0s - loss: 0.3134 - mse: 0.3134"
     ]
    },
    {
     "name": "stderr",
     "output_type": "stream",
     "text": [
      "WARNING:absl:Found untraced functions such as leaky_re_lu_layer_call_fn, leaky_re_lu_layer_call_and_return_conditional_losses, leaky_re_lu_1_layer_call_fn, leaky_re_lu_1_layer_call_and_return_conditional_losses, leaky_re_lu_2_layer_call_fn while saving (showing 5 of 12). These functions will not be directly callable after loading.\n"
     ]
    },
    {
     "name": "stdout",
     "output_type": "stream",
     "text": [
      "INFO:tensorflow:Assets written to: C:\\Users\\ucesvpm\\OneDrive - University College London\\PhD Project\\Data Analytics\\Time Series Clustering\\Third Test\\Time-Series-PhD\\wandb\\run-20230227_152222-mlczurv8\\files\\model-best\\assets\n"
     ]
    },
    {
     "name": "stderr",
     "output_type": "stream",
     "text": [
      "INFO:tensorflow:Assets written to: C:\\Users\\ucesvpm\\OneDrive - University College London\\PhD Project\\Data Analytics\\Time Series Clustering\\Third Test\\Time-Series-PhD\\wandb\\run-20230227_152222-mlczurv8\\files\\model-best\\assets\n",
      "\u001b[34m\u001b[1mwandb\u001b[0m: Adding directory to artifact (C:\\Users\\ucesvpm\\OneDrive - University College London\\PhD Project\\Data Analytics\\Time Series Clustering\\Third Test\\Time-Series-PhD\\wandb\\run-20230227_152222-mlczurv8\\files\\model-best)... Done. 0.2s\n"
     ]
    },
    {
     "name": "stdout",
     "output_type": "stream",
     "text": [
      "284/284 [==============================] - 11s 39ms/step - loss: 0.3134 - mse: 0.3134 - val_loss: 0.3214 - val_mse: 0.3214 - lr: 0.0011\n",
      "Epoch 21/100\n",
      "284/284 [==============================] - 8s 30ms/step - loss: 0.3120 - mse: 0.3120 - val_loss: 0.3217 - val_mse: 0.3217 - lr: 0.0011\n",
      "Epoch 22/100\n",
      "283/284 [============================>.] - ETA: 0s - loss: 0.3102 - mse: 0.3102"
     ]
    },
    {
     "name": "stderr",
     "output_type": "stream",
     "text": [
      "WARNING:absl:Found untraced functions such as leaky_re_lu_layer_call_fn, leaky_re_lu_layer_call_and_return_conditional_losses, leaky_re_lu_1_layer_call_fn, leaky_re_lu_1_layer_call_and_return_conditional_losses, leaky_re_lu_2_layer_call_fn while saving (showing 5 of 12). These functions will not be directly callable after loading.\n"
     ]
    },
    {
     "name": "stdout",
     "output_type": "stream",
     "text": [
      "INFO:tensorflow:Assets written to: C:\\Users\\ucesvpm\\OneDrive - University College London\\PhD Project\\Data Analytics\\Time Series Clustering\\Third Test\\Time-Series-PhD\\wandb\\run-20230227_152222-mlczurv8\\files\\model-best\\assets\n"
     ]
    },
    {
     "name": "stderr",
     "output_type": "stream",
     "text": [
      "INFO:tensorflow:Assets written to: C:\\Users\\ucesvpm\\OneDrive - University College London\\PhD Project\\Data Analytics\\Time Series Clustering\\Third Test\\Time-Series-PhD\\wandb\\run-20230227_152222-mlczurv8\\files\\model-best\\assets\n",
      "\u001b[34m\u001b[1mwandb\u001b[0m: Adding directory to artifact (C:\\Users\\ucesvpm\\OneDrive - University College London\\PhD Project\\Data Analytics\\Time Series Clustering\\Third Test\\Time-Series-PhD\\wandb\\run-20230227_152222-mlczurv8\\files\\model-best)... Done. 0.2s\n"
     ]
    },
    {
     "name": "stdout",
     "output_type": "stream",
     "text": [
      "284/284 [==============================] - 11s 40ms/step - loss: 0.3102 - mse: 0.3102 - val_loss: 0.3149 - val_mse: 0.3149 - lr: 0.0011\n",
      "Epoch 23/100\n",
      "284/284 [==============================] - 8s 29ms/step - loss: 0.3092 - mse: 0.3092 - val_loss: 0.3210 - val_mse: 0.3210 - lr: 0.0011\n",
      "Epoch 24/100\n",
      "284/284 [==============================] - 10s 34ms/step - loss: 0.3078 - mse: 0.3078 - val_loss: 0.3150 - val_mse: 0.3150 - lr: 0.0011\n",
      "Epoch 25/100\n",
      "284/284 [==============================] - 9s 33ms/step - loss: 0.3066 - mse: 0.3066 - val_loss: 0.3149 - val_mse: 0.3149 - lr: 0.0011\n",
      "Epoch 26/100\n",
      "284/284 [==============================] - 10s 36ms/step - loss: 0.3057 - mse: 0.3057 - val_loss: 0.3166 - val_mse: 0.3166 - lr: 0.0011\n",
      "Epoch 27/100\n",
      "284/284 [==============================] - 10s 36ms/step - loss: 0.3044 - mse: 0.3044 - val_loss: 0.3158 - val_mse: 0.3158 - lr: 0.0011\n",
      "Epoch 28/100\n",
      "282/284 [============================>.] - ETA: 0s - loss: 0.2998 - mse: 0.2998"
     ]
    },
    {
     "name": "stderr",
     "output_type": "stream",
     "text": [
      "WARNING:absl:Found untraced functions such as leaky_re_lu_layer_call_fn, leaky_re_lu_layer_call_and_return_conditional_losses, leaky_re_lu_1_layer_call_fn, leaky_re_lu_1_layer_call_and_return_conditional_losses, leaky_re_lu_2_layer_call_fn while saving (showing 5 of 12). These functions will not be directly callable after loading.\n"
     ]
    },
    {
     "name": "stdout",
     "output_type": "stream",
     "text": [
      "INFO:tensorflow:Assets written to: C:\\Users\\ucesvpm\\OneDrive - University College London\\PhD Project\\Data Analytics\\Time Series Clustering\\Third Test\\Time-Series-PhD\\wandb\\run-20230227_152222-mlczurv8\\files\\model-best\\assets\n"
     ]
    },
    {
     "name": "stderr",
     "output_type": "stream",
     "text": [
      "INFO:tensorflow:Assets written to: C:\\Users\\ucesvpm\\OneDrive - University College London\\PhD Project\\Data Analytics\\Time Series Clustering\\Third Test\\Time-Series-PhD\\wandb\\run-20230227_152222-mlczurv8\\files\\model-best\\assets\n",
      "\u001b[34m\u001b[1mwandb\u001b[0m: Adding directory to artifact (C:\\Users\\ucesvpm\\OneDrive - University College London\\PhD Project\\Data Analytics\\Time Series Clustering\\Third Test\\Time-Series-PhD\\wandb\\run-20230227_152222-mlczurv8\\files\\model-best)... Done. 0.3s\n"
     ]
    },
    {
     "name": "stdout",
     "output_type": "stream",
     "text": [
      "284/284 [==============================] - 13s 47ms/step - loss: 0.2999 - mse: 0.2999 - val_loss: 0.3048 - val_mse: 0.3048 - lr: 5.2570e-04\n",
      "Epoch 29/100\n",
      "284/284 [==============================] - 10s 36ms/step - loss: 0.2992 - mse: 0.2992 - val_loss: 0.3050 - val_mse: 0.3050 - lr: 5.2570e-04\n",
      "Epoch 30/100\n",
      "284/284 [==============================] - 9s 33ms/step - loss: 0.2987 - mse: 0.2987 - val_loss: 0.3048 - val_mse: 0.3048 - lr: 5.2570e-04\n",
      "Epoch 31/100\n",
      "283/284 [============================>.] - ETA: 0s - loss: 0.2982 - mse: 0.2982"
     ]
    },
    {
     "name": "stderr",
     "output_type": "stream",
     "text": [
      "WARNING:absl:Found untraced functions such as leaky_re_lu_layer_call_fn, leaky_re_lu_layer_call_and_return_conditional_losses, leaky_re_lu_1_layer_call_fn, leaky_re_lu_1_layer_call_and_return_conditional_losses, leaky_re_lu_2_layer_call_fn while saving (showing 5 of 12). These functions will not be directly callable after loading.\n"
     ]
    },
    {
     "name": "stdout",
     "output_type": "stream",
     "text": [
      "INFO:tensorflow:Assets written to: C:\\Users\\ucesvpm\\OneDrive - University College London\\PhD Project\\Data Analytics\\Time Series Clustering\\Third Test\\Time-Series-PhD\\wandb\\run-20230227_152222-mlczurv8\\files\\model-best\\assets\n"
     ]
    },
    {
     "name": "stderr",
     "output_type": "stream",
     "text": [
      "INFO:tensorflow:Assets written to: C:\\Users\\ucesvpm\\OneDrive - University College London\\PhD Project\\Data Analytics\\Time Series Clustering\\Third Test\\Time-Series-PhD\\wandb\\run-20230227_152222-mlczurv8\\files\\model-best\\assets\n",
      "\u001b[34m\u001b[1mwandb\u001b[0m: Adding directory to artifact (C:\\Users\\ucesvpm\\OneDrive - University College London\\PhD Project\\Data Analytics\\Time Series Clustering\\Third Test\\Time-Series-PhD\\wandb\\run-20230227_152222-mlczurv8\\files\\model-best)... Done. 0.2s\n"
     ]
    },
    {
     "name": "stdout",
     "output_type": "stream",
     "text": [
      "284/284 [==============================] - 11s 39ms/step - loss: 0.2982 - mse: 0.2982 - val_loss: 0.3037 - val_mse: 0.3037 - lr: 5.2570e-04\n",
      "Epoch 32/100\n",
      "282/284 [============================>.] - ETA: 0s - loss: 0.2977 - mse: 0.2977"
     ]
    },
    {
     "name": "stderr",
     "output_type": "stream",
     "text": [
      "WARNING:absl:Found untraced functions such as leaky_re_lu_layer_call_fn, leaky_re_lu_layer_call_and_return_conditional_losses, leaky_re_lu_1_layer_call_fn, leaky_re_lu_1_layer_call_and_return_conditional_losses, leaky_re_lu_2_layer_call_fn while saving (showing 5 of 12). These functions will not be directly callable after loading.\n"
     ]
    },
    {
     "name": "stdout",
     "output_type": "stream",
     "text": [
      "INFO:tensorflow:Assets written to: C:\\Users\\ucesvpm\\OneDrive - University College London\\PhD Project\\Data Analytics\\Time Series Clustering\\Third Test\\Time-Series-PhD\\wandb\\run-20230227_152222-mlczurv8\\files\\model-best\\assets\n"
     ]
    },
    {
     "name": "stderr",
     "output_type": "stream",
     "text": [
      "INFO:tensorflow:Assets written to: C:\\Users\\ucesvpm\\OneDrive - University College London\\PhD Project\\Data Analytics\\Time Series Clustering\\Third Test\\Time-Series-PhD\\wandb\\run-20230227_152222-mlczurv8\\files\\model-best\\assets\n",
      "\u001b[34m\u001b[1mwandb\u001b[0m: Adding directory to artifact (C:\\Users\\ucesvpm\\OneDrive - University College London\\PhD Project\\Data Analytics\\Time Series Clustering\\Third Test\\Time-Series-PhD\\wandb\\run-20230227_152222-mlczurv8\\files\\model-best)... Done. 0.1s\n"
     ]
    },
    {
     "name": "stdout",
     "output_type": "stream",
     "text": [
      "284/284 [==============================] - 11s 39ms/step - loss: 0.2978 - mse: 0.2978 - val_loss: 0.3028 - val_mse: 0.3028 - lr: 5.2570e-04\n",
      "Epoch 33/100\n",
      "284/284 [==============================] - ETA: 0s - loss: 0.2973 - mse: 0.2973"
     ]
    },
    {
     "name": "stderr",
     "output_type": "stream",
     "text": [
      "WARNING:absl:Found untraced functions such as leaky_re_lu_layer_call_fn, leaky_re_lu_layer_call_and_return_conditional_losses, leaky_re_lu_1_layer_call_fn, leaky_re_lu_1_layer_call_and_return_conditional_losses, leaky_re_lu_2_layer_call_fn while saving (showing 5 of 12). These functions will not be directly callable after loading.\n"
     ]
    },
    {
     "name": "stdout",
     "output_type": "stream",
     "text": [
      "INFO:tensorflow:Assets written to: C:\\Users\\ucesvpm\\OneDrive - University College London\\PhD Project\\Data Analytics\\Time Series Clustering\\Third Test\\Time-Series-PhD\\wandb\\run-20230227_152222-mlczurv8\\files\\model-best\\assets\n"
     ]
    },
    {
     "name": "stderr",
     "output_type": "stream",
     "text": [
      "INFO:tensorflow:Assets written to: C:\\Users\\ucesvpm\\OneDrive - University College London\\PhD Project\\Data Analytics\\Time Series Clustering\\Third Test\\Time-Series-PhD\\wandb\\run-20230227_152222-mlczurv8\\files\\model-best\\assets\n",
      "\u001b[34m\u001b[1mwandb\u001b[0m: Adding directory to artifact (C:\\Users\\ucesvpm\\OneDrive - University College London\\PhD Project\\Data Analytics\\Time Series Clustering\\Third Test\\Time-Series-PhD\\wandb\\run-20230227_152222-mlczurv8\\files\\model-best)... Done. 0.2s\n"
     ]
    },
    {
     "name": "stdout",
     "output_type": "stream",
     "text": [
      "284/284 [==============================] - 14s 49ms/step - loss: 0.2973 - mse: 0.2973 - val_loss: 0.3020 - val_mse: 0.3020 - lr: 5.2570e-04\n",
      "Epoch 34/100\n",
      "283/284 [============================>.] - ETA: 0s - loss: 0.2969 - mse: 0.2969"
     ]
    },
    {
     "name": "stderr",
     "output_type": "stream",
     "text": [
      "WARNING:absl:Found untraced functions such as leaky_re_lu_layer_call_fn, leaky_re_lu_layer_call_and_return_conditional_losses, leaky_re_lu_1_layer_call_fn, leaky_re_lu_1_layer_call_and_return_conditional_losses, leaky_re_lu_2_layer_call_fn while saving (showing 5 of 12). These functions will not be directly callable after loading.\n"
     ]
    },
    {
     "name": "stdout",
     "output_type": "stream",
     "text": [
      "INFO:tensorflow:Assets written to: C:\\Users\\ucesvpm\\OneDrive - University College London\\PhD Project\\Data Analytics\\Time Series Clustering\\Third Test\\Time-Series-PhD\\wandb\\run-20230227_152222-mlczurv8\\files\\model-best\\assets\n"
     ]
    },
    {
     "name": "stderr",
     "output_type": "stream",
     "text": [
      "INFO:tensorflow:Assets written to: C:\\Users\\ucesvpm\\OneDrive - University College London\\PhD Project\\Data Analytics\\Time Series Clustering\\Third Test\\Time-Series-PhD\\wandb\\run-20230227_152222-mlczurv8\\files\\model-best\\assets\n",
      "\u001b[34m\u001b[1mwandb\u001b[0m: Adding directory to artifact (C:\\Users\\ucesvpm\\OneDrive - University College London\\PhD Project\\Data Analytics\\Time Series Clustering\\Third Test\\Time-Series-PhD\\wandb\\run-20230227_152222-mlczurv8\\files\\model-best)... Done. 0.2s\n"
     ]
    },
    {
     "name": "stdout",
     "output_type": "stream",
     "text": [
      "284/284 [==============================] - 13s 46ms/step - loss: 0.2969 - mse: 0.2969 - val_loss: 0.3020 - val_mse: 0.3020 - lr: 5.2570e-04\n",
      "Epoch 35/100\n",
      "283/284 [============================>.] - ETA: 0s - loss: 0.2965 - mse: 0.2965"
     ]
    },
    {
     "name": "stderr",
     "output_type": "stream",
     "text": [
      "WARNING:absl:Found untraced functions such as leaky_re_lu_layer_call_fn, leaky_re_lu_layer_call_and_return_conditional_losses, leaky_re_lu_1_layer_call_fn, leaky_re_lu_1_layer_call_and_return_conditional_losses, leaky_re_lu_2_layer_call_fn while saving (showing 5 of 12). These functions will not be directly callable after loading.\n"
     ]
    },
    {
     "name": "stdout",
     "output_type": "stream",
     "text": [
      "INFO:tensorflow:Assets written to: C:\\Users\\ucesvpm\\OneDrive - University College London\\PhD Project\\Data Analytics\\Time Series Clustering\\Third Test\\Time-Series-PhD\\wandb\\run-20230227_152222-mlczurv8\\files\\model-best\\assets\n"
     ]
    },
    {
     "name": "stderr",
     "output_type": "stream",
     "text": [
      "INFO:tensorflow:Assets written to: C:\\Users\\ucesvpm\\OneDrive - University College London\\PhD Project\\Data Analytics\\Time Series Clustering\\Third Test\\Time-Series-PhD\\wandb\\run-20230227_152222-mlczurv8\\files\\model-best\\assets\n",
      "\u001b[34m\u001b[1mwandb\u001b[0m: Adding directory to artifact (C:\\Users\\ucesvpm\\OneDrive - University College London\\PhD Project\\Data Analytics\\Time Series Clustering\\Third Test\\Time-Series-PhD\\wandb\\run-20230227_152222-mlczurv8\\files\\model-best)... Done. 0.1s\n"
     ]
    },
    {
     "name": "stdout",
     "output_type": "stream",
     "text": [
      "284/284 [==============================] - 13s 44ms/step - loss: 0.2965 - mse: 0.2965 - val_loss: 0.3018 - val_mse: 0.3018 - lr: 5.2570e-04\n",
      "Epoch 36/100\n",
      "284/284 [==============================] - 8s 29ms/step - loss: 0.2961 - mse: 0.2961 - val_loss: 0.3019 - val_mse: 0.3019 - lr: 5.2570e-04\n",
      "Epoch 37/100\n",
      "284/284 [==============================] - ETA: 0s - loss: 0.2957 - mse: 0.2957"
     ]
    },
    {
     "name": "stderr",
     "output_type": "stream",
     "text": [
      "WARNING:absl:Found untraced functions such as leaky_re_lu_layer_call_fn, leaky_re_lu_layer_call_and_return_conditional_losses, leaky_re_lu_1_layer_call_fn, leaky_re_lu_1_layer_call_and_return_conditional_losses, leaky_re_lu_2_layer_call_fn while saving (showing 5 of 12). These functions will not be directly callable after loading.\n"
     ]
    },
    {
     "name": "stdout",
     "output_type": "stream",
     "text": [
      "INFO:tensorflow:Assets written to: C:\\Users\\ucesvpm\\OneDrive - University College London\\PhD Project\\Data Analytics\\Time Series Clustering\\Third Test\\Time-Series-PhD\\wandb\\run-20230227_152222-mlczurv8\\files\\model-best\\assets\n"
     ]
    },
    {
     "name": "stderr",
     "output_type": "stream",
     "text": [
      "INFO:tensorflow:Assets written to: C:\\Users\\ucesvpm\\OneDrive - University College London\\PhD Project\\Data Analytics\\Time Series Clustering\\Third Test\\Time-Series-PhD\\wandb\\run-20230227_152222-mlczurv8\\files\\model-best\\assets\n",
      "\u001b[34m\u001b[1mwandb\u001b[0m: Adding directory to artifact (C:\\Users\\ucesvpm\\OneDrive - University College London\\PhD Project\\Data Analytics\\Time Series Clustering\\Third Test\\Time-Series-PhD\\wandb\\run-20230227_152222-mlczurv8\\files\\model-best)... Done. 0.1s\n"
     ]
    },
    {
     "name": "stdout",
     "output_type": "stream",
     "text": [
      "284/284 [==============================] - 13s 46ms/step - loss: 0.2957 - mse: 0.2957 - val_loss: 0.3008 - val_mse: 0.3008 - lr: 5.2570e-04\n",
      "Epoch 38/100\n",
      "284/284 [==============================] - 10s 36ms/step - loss: 0.2954 - mse: 0.2954 - val_loss: 0.3019 - val_mse: 0.3019 - lr: 5.2570e-04\n",
      "Epoch 39/100\n",
      "284/284 [==============================] - 10s 36ms/step - loss: 0.2950 - mse: 0.2950 - val_loss: 0.3023 - val_mse: 0.3023 - lr: 5.2570e-04\n",
      "Epoch 40/100\n",
      "282/284 [============================>.] - ETA: 0s - loss: 0.2946 - mse: 0.2946"
     ]
    },
    {
     "name": "stderr",
     "output_type": "stream",
     "text": [
      "WARNING:absl:Found untraced functions such as leaky_re_lu_layer_call_fn, leaky_re_lu_layer_call_and_return_conditional_losses, leaky_re_lu_1_layer_call_fn, leaky_re_lu_1_layer_call_and_return_conditional_losses, leaky_re_lu_2_layer_call_fn while saving (showing 5 of 12). These functions will not be directly callable after loading.\n"
     ]
    },
    {
     "name": "stdout",
     "output_type": "stream",
     "text": [
      "INFO:tensorflow:Assets written to: C:\\Users\\ucesvpm\\OneDrive - University College London\\PhD Project\\Data Analytics\\Time Series Clustering\\Third Test\\Time-Series-PhD\\wandb\\run-20230227_152222-mlczurv8\\files\\model-best\\assets\n"
     ]
    },
    {
     "name": "stderr",
     "output_type": "stream",
     "text": [
      "INFO:tensorflow:Assets written to: C:\\Users\\ucesvpm\\OneDrive - University College London\\PhD Project\\Data Analytics\\Time Series Clustering\\Third Test\\Time-Series-PhD\\wandb\\run-20230227_152222-mlczurv8\\files\\model-best\\assets\n",
      "\u001b[34m\u001b[1mwandb\u001b[0m: Adding directory to artifact (C:\\Users\\ucesvpm\\OneDrive - University College London\\PhD Project\\Data Analytics\\Time Series Clustering\\Third Test\\Time-Series-PhD\\wandb\\run-20230227_152222-mlczurv8\\files\\model-best)... Done. 0.2s\n"
     ]
    },
    {
     "name": "stdout",
     "output_type": "stream",
     "text": [
      "284/284 [==============================] - 14s 48ms/step - loss: 0.2946 - mse: 0.2946 - val_loss: 0.3000 - val_mse: 0.3000 - lr: 5.2570e-04\n",
      "Epoch 41/100\n",
      "284/284 [==============================] - 10s 36ms/step - loss: 0.2943 - mse: 0.2943 - val_loss: 0.3002 - val_mse: 0.3002 - lr: 5.2570e-04\n",
      "Epoch 42/100\n",
      "283/284 [============================>.] - ETA: 0s - loss: 0.2940 - mse: 0.2940"
     ]
    },
    {
     "name": "stderr",
     "output_type": "stream",
     "text": [
      "WARNING:absl:Found untraced functions such as leaky_re_lu_layer_call_fn, leaky_re_lu_layer_call_and_return_conditional_losses, leaky_re_lu_1_layer_call_fn, leaky_re_lu_1_layer_call_and_return_conditional_losses, leaky_re_lu_2_layer_call_fn while saving (showing 5 of 12). These functions will not be directly callable after loading.\n"
     ]
    },
    {
     "name": "stdout",
     "output_type": "stream",
     "text": [
      "INFO:tensorflow:Assets written to: C:\\Users\\ucesvpm\\OneDrive - University College London\\PhD Project\\Data Analytics\\Time Series Clustering\\Third Test\\Time-Series-PhD\\wandb\\run-20230227_152222-mlczurv8\\files\\model-best\\assets\n"
     ]
    },
    {
     "name": "stderr",
     "output_type": "stream",
     "text": [
      "INFO:tensorflow:Assets written to: C:\\Users\\ucesvpm\\OneDrive - University College London\\PhD Project\\Data Analytics\\Time Series Clustering\\Third Test\\Time-Series-PhD\\wandb\\run-20230227_152222-mlczurv8\\files\\model-best\\assets\n",
      "\u001b[34m\u001b[1mwandb\u001b[0m: Adding directory to artifact (C:\\Users\\ucesvpm\\OneDrive - University College London\\PhD Project\\Data Analytics\\Time Series Clustering\\Third Test\\Time-Series-PhD\\wandb\\run-20230227_152222-mlczurv8\\files\\model-best)... Done. 0.3s\n"
     ]
    },
    {
     "name": "stdout",
     "output_type": "stream",
     "text": [
      "284/284 [==============================] - 14s 48ms/step - loss: 0.2939 - mse: 0.2939 - val_loss: 0.2995 - val_mse: 0.2995 - lr: 5.2570e-04\n",
      "Epoch 43/100\n",
      "283/284 [============================>.] - ETA: 0s - loss: 0.2937 - mse: 0.2937"
     ]
    },
    {
     "name": "stderr",
     "output_type": "stream",
     "text": [
      "WARNING:absl:Found untraced functions such as leaky_re_lu_layer_call_fn, leaky_re_lu_layer_call_and_return_conditional_losses, leaky_re_lu_1_layer_call_fn, leaky_re_lu_1_layer_call_and_return_conditional_losses, leaky_re_lu_2_layer_call_fn while saving (showing 5 of 12). These functions will not be directly callable after loading.\n"
     ]
    },
    {
     "name": "stdout",
     "output_type": "stream",
     "text": [
      "INFO:tensorflow:Assets written to: C:\\Users\\ucesvpm\\OneDrive - University College London\\PhD Project\\Data Analytics\\Time Series Clustering\\Third Test\\Time-Series-PhD\\wandb\\run-20230227_152222-mlczurv8\\files\\model-best\\assets\n"
     ]
    },
    {
     "name": "stderr",
     "output_type": "stream",
     "text": [
      "INFO:tensorflow:Assets written to: C:\\Users\\ucesvpm\\OneDrive - University College London\\PhD Project\\Data Analytics\\Time Series Clustering\\Third Test\\Time-Series-PhD\\wandb\\run-20230227_152222-mlczurv8\\files\\model-best\\assets\n",
      "\u001b[34m\u001b[1mwandb\u001b[0m: Adding directory to artifact (C:\\Users\\ucesvpm\\OneDrive - University College London\\PhD Project\\Data Analytics\\Time Series Clustering\\Third Test\\Time-Series-PhD\\wandb\\run-20230227_152222-mlczurv8\\files\\model-best)... Done. 0.3s\n"
     ]
    },
    {
     "name": "stdout",
     "output_type": "stream",
     "text": [
      "284/284 [==============================] - 13s 45ms/step - loss: 0.2937 - mse: 0.2937 - val_loss: 0.2988 - val_mse: 0.2988 - lr: 5.2570e-04\n",
      "Epoch 44/100\n",
      "284/284 [==============================] - 9s 33ms/step - loss: 0.2933 - mse: 0.2933 - val_loss: 0.3004 - val_mse: 0.3004 - lr: 5.2570e-04\n",
      "Epoch 45/100\n",
      "284/284 [==============================] - 8s 29ms/step - loss: 0.2930 - mse: 0.2930 - val_loss: 0.2990 - val_mse: 0.2990 - lr: 5.2570e-04\n",
      "Epoch 46/100\n",
      "284/284 [==============================] - 9s 30ms/step - loss: 0.2927 - mse: 0.2927 - val_loss: 0.2989 - val_mse: 0.2989 - lr: 5.2570e-04\n",
      "Epoch 47/100\n",
      "282/284 [============================>.] - ETA: 0s - loss: 0.2924 - mse: 0.2924"
     ]
    },
    {
     "name": "stderr",
     "output_type": "stream",
     "text": [
      "WARNING:absl:Found untraced functions such as leaky_re_lu_layer_call_fn, leaky_re_lu_layer_call_and_return_conditional_losses, leaky_re_lu_1_layer_call_fn, leaky_re_lu_1_layer_call_and_return_conditional_losses, leaky_re_lu_2_layer_call_fn while saving (showing 5 of 12). These functions will not be directly callable after loading.\n"
     ]
    },
    {
     "name": "stdout",
     "output_type": "stream",
     "text": [
      "INFO:tensorflow:Assets written to: C:\\Users\\ucesvpm\\OneDrive - University College London\\PhD Project\\Data Analytics\\Time Series Clustering\\Third Test\\Time-Series-PhD\\wandb\\run-20230227_152222-mlczurv8\\files\\model-best\\assets\n"
     ]
    },
    {
     "name": "stderr",
     "output_type": "stream",
     "text": [
      "INFO:tensorflow:Assets written to: C:\\Users\\ucesvpm\\OneDrive - University College London\\PhD Project\\Data Analytics\\Time Series Clustering\\Third Test\\Time-Series-PhD\\wandb\\run-20230227_152222-mlczurv8\\files\\model-best\\assets\n",
      "\u001b[34m\u001b[1mwandb\u001b[0m: Adding directory to artifact (C:\\Users\\ucesvpm\\OneDrive - University College London\\PhD Project\\Data Analytics\\Time Series Clustering\\Third Test\\Time-Series-PhD\\wandb\\run-20230227_152222-mlczurv8\\files\\model-best)... Done. 0.2s\n"
     ]
    },
    {
     "name": "stdout",
     "output_type": "stream",
     "text": [
      "284/284 [==============================] - 11s 40ms/step - loss: 0.2924 - mse: 0.2924 - val_loss: 0.2972 - val_mse: 0.2972 - lr: 5.2570e-04\n",
      "Epoch 48/100\n",
      "284/284 [==============================] - ETA: 0s - loss: 0.2921 - mse: 0.2921"
     ]
    },
    {
     "name": "stderr",
     "output_type": "stream",
     "text": [
      "WARNING:absl:Found untraced functions such as leaky_re_lu_layer_call_fn, leaky_re_lu_layer_call_and_return_conditional_losses, leaky_re_lu_1_layer_call_fn, leaky_re_lu_1_layer_call_and_return_conditional_losses, leaky_re_lu_2_layer_call_fn while saving (showing 5 of 12). These functions will not be directly callable after loading.\n"
     ]
    },
    {
     "name": "stdout",
     "output_type": "stream",
     "text": [
      "INFO:tensorflow:Assets written to: C:\\Users\\ucesvpm\\OneDrive - University College London\\PhD Project\\Data Analytics\\Time Series Clustering\\Third Test\\Time-Series-PhD\\wandb\\run-20230227_152222-mlczurv8\\files\\model-best\\assets\n"
     ]
    },
    {
     "name": "stderr",
     "output_type": "stream",
     "text": [
      "INFO:tensorflow:Assets written to: C:\\Users\\ucesvpm\\OneDrive - University College London\\PhD Project\\Data Analytics\\Time Series Clustering\\Third Test\\Time-Series-PhD\\wandb\\run-20230227_152222-mlczurv8\\files\\model-best\\assets\n",
      "\u001b[34m\u001b[1mwandb\u001b[0m: Adding directory to artifact (C:\\Users\\ucesvpm\\OneDrive - University College London\\PhD Project\\Data Analytics\\Time Series Clustering\\Third Test\\Time-Series-PhD\\wandb\\run-20230227_152222-mlczurv8\\files\\model-best)... Done. 0.2s\n"
     ]
    },
    {
     "name": "stdout",
     "output_type": "stream",
     "text": [
      "284/284 [==============================] - 12s 42ms/step - loss: 0.2921 - mse: 0.2921 - val_loss: 0.2970 - val_mse: 0.2970 - lr: 5.2570e-04\n",
      "Epoch 49/100\n",
      "284/284 [==============================] - 9s 33ms/step - loss: 0.2919 - mse: 0.2919 - val_loss: 0.2978 - val_mse: 0.2978 - lr: 5.2570e-04\n",
      "Epoch 50/100\n",
      "284/284 [==============================] - ETA: 0s - loss: 0.2915 - mse: 0.2915"
     ]
    },
    {
     "name": "stderr",
     "output_type": "stream",
     "text": [
      "WARNING:absl:Found untraced functions such as leaky_re_lu_layer_call_fn, leaky_re_lu_layer_call_and_return_conditional_losses, leaky_re_lu_1_layer_call_fn, leaky_re_lu_1_layer_call_and_return_conditional_losses, leaky_re_lu_2_layer_call_fn while saving (showing 5 of 12). These functions will not be directly callable after loading.\n"
     ]
    },
    {
     "name": "stdout",
     "output_type": "stream",
     "text": [
      "INFO:tensorflow:Assets written to: C:\\Users\\ucesvpm\\OneDrive - University College London\\PhD Project\\Data Analytics\\Time Series Clustering\\Third Test\\Time-Series-PhD\\wandb\\run-20230227_152222-mlczurv8\\files\\model-best\\assets\n"
     ]
    },
    {
     "name": "stderr",
     "output_type": "stream",
     "text": [
      "INFO:tensorflow:Assets written to: C:\\Users\\ucesvpm\\OneDrive - University College London\\PhD Project\\Data Analytics\\Time Series Clustering\\Third Test\\Time-Series-PhD\\wandb\\run-20230227_152222-mlczurv8\\files\\model-best\\assets\n",
      "\u001b[34m\u001b[1mwandb\u001b[0m: Adding directory to artifact (C:\\Users\\ucesvpm\\OneDrive - University College London\\PhD Project\\Data Analytics\\Time Series Clustering\\Third Test\\Time-Series-PhD\\wandb\\run-20230227_152222-mlczurv8\\files\\model-best)... Done. 0.1s\n"
     ]
    },
    {
     "name": "stdout",
     "output_type": "stream",
     "text": [
      "284/284 [==============================] - 13s 45ms/step - loss: 0.2915 - mse: 0.2915 - val_loss: 0.2961 - val_mse: 0.2961 - lr: 5.2570e-04\n",
      "Epoch 51/100\n",
      "284/284 [==============================] - 8s 29ms/step - loss: 0.2913 - mse: 0.2913 - val_loss: 0.2972 - val_mse: 0.2972 - lr: 5.2570e-04\n",
      "Epoch 52/100\n",
      "284/284 [==============================] - 10s 34ms/step - loss: 0.2909 - mse: 0.2909 - val_loss: 0.2972 - val_mse: 0.2972 - lr: 5.2570e-04\n",
      "Epoch 53/100\n",
      "284/284 [==============================] - 9s 31ms/step - loss: 0.2907 - mse: 0.2907 - val_loss: 0.2984 - val_mse: 0.2984 - lr: 5.2570e-04\n",
      "Epoch 54/100\n",
      "284/284 [==============================] - 9s 30ms/step - loss: 0.2905 - mse: 0.2905 - val_loss: 0.2986 - val_mse: 0.2986 - lr: 5.2570e-04\n",
      "Epoch 55/100\n",
      "284/284 [==============================] - 8s 30ms/step - loss: 0.2902 - mse: 0.2902 - val_loss: 0.2967 - val_mse: 0.2967 - lr: 5.2570e-04\n",
      "Epoch 56/100\n",
      "284/284 [==============================] - ETA: 0s - loss: 0.2891 - mse: 0.2891"
     ]
    },
    {
     "name": "stderr",
     "output_type": "stream",
     "text": [
      "WARNING:absl:Found untraced functions such as leaky_re_lu_layer_call_fn, leaky_re_lu_layer_call_and_return_conditional_losses, leaky_re_lu_1_layer_call_fn, leaky_re_lu_1_layer_call_and_return_conditional_losses, leaky_re_lu_2_layer_call_fn while saving (showing 5 of 12). These functions will not be directly callable after loading.\n"
     ]
    },
    {
     "name": "stdout",
     "output_type": "stream",
     "text": [
      "INFO:tensorflow:Assets written to: C:\\Users\\ucesvpm\\OneDrive - University College London\\PhD Project\\Data Analytics\\Time Series Clustering\\Third Test\\Time-Series-PhD\\wandb\\run-20230227_152222-mlczurv8\\files\\model-best\\assets\n"
     ]
    },
    {
     "name": "stderr",
     "output_type": "stream",
     "text": [
      "INFO:tensorflow:Assets written to: C:\\Users\\ucesvpm\\OneDrive - University College London\\PhD Project\\Data Analytics\\Time Series Clustering\\Third Test\\Time-Series-PhD\\wandb\\run-20230227_152222-mlczurv8\\files\\model-best\\assets\n",
      "\u001b[34m\u001b[1mwandb\u001b[0m: Adding directory to artifact (C:\\Users\\ucesvpm\\OneDrive - University College London\\PhD Project\\Data Analytics\\Time Series Clustering\\Third Test\\Time-Series-PhD\\wandb\\run-20230227_152222-mlczurv8\\files\\model-best)... Done. 0.2s\n"
     ]
    },
    {
     "name": "stdout",
     "output_type": "stream",
     "text": [
      "284/284 [==============================] - 11s 40ms/step - loss: 0.2891 - mse: 0.2891 - val_loss: 0.2938 - val_mse: 0.2938 - lr: 2.6285e-04\n",
      "Epoch 57/100\n",
      "283/284 [============================>.] - ETA: 0s - loss: 0.2844 - mse: 0.2844"
     ]
    },
    {
     "name": "stderr",
     "output_type": "stream",
     "text": [
      "WARNING:absl:Found untraced functions such as leaky_re_lu_layer_call_fn, leaky_re_lu_layer_call_and_return_conditional_losses, leaky_re_lu_1_layer_call_fn, leaky_re_lu_1_layer_call_and_return_conditional_losses, leaky_re_lu_2_layer_call_fn while saving (showing 5 of 12). These functions will not be directly callable after loading.\n"
     ]
    },
    {
     "name": "stdout",
     "output_type": "stream",
     "text": [
      "INFO:tensorflow:Assets written to: C:\\Users\\ucesvpm\\OneDrive - University College London\\PhD Project\\Data Analytics\\Time Series Clustering\\Third Test\\Time-Series-PhD\\wandb\\run-20230227_152222-mlczurv8\\files\\model-best\\assets\n"
     ]
    },
    {
     "name": "stderr",
     "output_type": "stream",
     "text": [
      "INFO:tensorflow:Assets written to: C:\\Users\\ucesvpm\\OneDrive - University College London\\PhD Project\\Data Analytics\\Time Series Clustering\\Third Test\\Time-Series-PhD\\wandb\\run-20230227_152222-mlczurv8\\files\\model-best\\assets\n",
      "\u001b[34m\u001b[1mwandb\u001b[0m: Adding directory to artifact (C:\\Users\\ucesvpm\\OneDrive - University College London\\PhD Project\\Data Analytics\\Time Series Clustering\\Third Test\\Time-Series-PhD\\wandb\\run-20230227_152222-mlczurv8\\files\\model-best)... Done. 0.1s\n"
     ]
    },
    {
     "name": "stdout",
     "output_type": "stream",
     "text": [
      "284/284 [==============================] - 11s 40ms/step - loss: 0.2844 - mse: 0.2844 - val_loss: 0.2894 - val_mse: 0.2894 - lr: 2.6285e-04\n",
      "Epoch 94/100\n",
      "284/284 [==============================] - 8s 29ms/step - loss: 0.2843 - mse: 0.2843 - val_loss: 0.2896 - val_mse: 0.2896 - lr: 2.6285e-04\n",
      "Epoch 95/100\n",
      "284/284 [==============================] - 8s 30ms/step - loss: 0.2842 - mse: 0.2842 - val_loss: 0.2894 - val_mse: 0.2894 - lr: 2.6285e-04\n",
      "Epoch 96/100\n",
      "282/284 [============================>.] - ETA: 0s - loss: 0.2841 - mse: 0.2841"
     ]
    },
    {
     "name": "stderr",
     "output_type": "stream",
     "text": [
      "WARNING:absl:Found untraced functions such as leaky_re_lu_layer_call_fn, leaky_re_lu_layer_call_and_return_conditional_losses, leaky_re_lu_1_layer_call_fn, leaky_re_lu_1_layer_call_and_return_conditional_losses, leaky_re_lu_2_layer_call_fn while saving (showing 5 of 12). These functions will not be directly callable after loading.\n"
     ]
    },
    {
     "name": "stdout",
     "output_type": "stream",
     "text": [
      "INFO:tensorflow:Assets written to: C:\\Users\\ucesvpm\\OneDrive - University College London\\PhD Project\\Data Analytics\\Time Series Clustering\\Third Test\\Time-Series-PhD\\wandb\\run-20230227_152222-mlczurv8\\files\\model-best\\assets\n"
     ]
    },
    {
     "name": "stderr",
     "output_type": "stream",
     "text": [
      "INFO:tensorflow:Assets written to: C:\\Users\\ucesvpm\\OneDrive - University College London\\PhD Project\\Data Analytics\\Time Series Clustering\\Third Test\\Time-Series-PhD\\wandb\\run-20230227_152222-mlczurv8\\files\\model-best\\assets\n",
      "\u001b[34m\u001b[1mwandb\u001b[0m: Adding directory to artifact (C:\\Users\\ucesvpm\\OneDrive - University College London\\PhD Project\\Data Analytics\\Time Series Clustering\\Third Test\\Time-Series-PhD\\wandb\\run-20230227_152222-mlczurv8\\files\\model-best)... Done. 0.2s\n"
     ]
    },
    {
     "name": "stdout",
     "output_type": "stream",
     "text": [
      "284/284 [==============================] - 11s 39ms/step - loss: 0.2841 - mse: 0.2841 - val_loss: 0.2892 - val_mse: 0.2892 - lr: 2.6285e-04\n",
      "Epoch 97/100\n",
      "282/284 [============================>.] - ETA: 0s - loss: 0.2840 - mse: 0.2840"
     ]
    },
    {
     "name": "stderr",
     "output_type": "stream",
     "text": [
      "WARNING:absl:Found untraced functions such as leaky_re_lu_layer_call_fn, leaky_re_lu_layer_call_and_return_conditional_losses, leaky_re_lu_1_layer_call_fn, leaky_re_lu_1_layer_call_and_return_conditional_losses, leaky_re_lu_2_layer_call_fn while saving (showing 5 of 12). These functions will not be directly callable after loading.\n"
     ]
    },
    {
     "name": "stdout",
     "output_type": "stream",
     "text": [
      "INFO:tensorflow:Assets written to: C:\\Users\\ucesvpm\\OneDrive - University College London\\PhD Project\\Data Analytics\\Time Series Clustering\\Third Test\\Time-Series-PhD\\wandb\\run-20230227_152222-mlczurv8\\files\\model-best\\assets\n"
     ]
    },
    {
     "name": "stderr",
     "output_type": "stream",
     "text": [
      "INFO:tensorflow:Assets written to: C:\\Users\\ucesvpm\\OneDrive - University College London\\PhD Project\\Data Analytics\\Time Series Clustering\\Third Test\\Time-Series-PhD\\wandb\\run-20230227_152222-mlczurv8\\files\\model-best\\assets\n",
      "\u001b[34m\u001b[1mwandb\u001b[0m: Adding directory to artifact (C:\\Users\\ucesvpm\\OneDrive - University College London\\PhD Project\\Data Analytics\\Time Series Clustering\\Third Test\\Time-Series-PhD\\wandb\\run-20230227_152222-mlczurv8\\files\\model-best)... Done. 0.1s\n"
     ]
    },
    {
     "name": "stdout",
     "output_type": "stream",
     "text": [
      "284/284 [==============================] - 11s 40ms/step - loss: 0.2840 - mse: 0.2840 - val_loss: 0.2890 - val_mse: 0.2890 - lr: 2.6285e-04\n",
      "Epoch 98/100\n",
      "284/284 [==============================] - ETA: 0s - loss: 0.2839 - mse: 0.2839"
     ]
    },
    {
     "name": "stderr",
     "output_type": "stream",
     "text": [
      "WARNING:absl:Found untraced functions such as leaky_re_lu_layer_call_fn, leaky_re_lu_layer_call_and_return_conditional_losses, leaky_re_lu_1_layer_call_fn, leaky_re_lu_1_layer_call_and_return_conditional_losses, leaky_re_lu_2_layer_call_fn while saving (showing 5 of 12). These functions will not be directly callable after loading.\n"
     ]
    },
    {
     "name": "stdout",
     "output_type": "stream",
     "text": [
      "INFO:tensorflow:Assets written to: C:\\Users\\ucesvpm\\OneDrive - University College London\\PhD Project\\Data Analytics\\Time Series Clustering\\Third Test\\Time-Series-PhD\\wandb\\run-20230227_152222-mlczurv8\\files\\model-best\\assets\n"
     ]
    },
    {
     "name": "stderr",
     "output_type": "stream",
     "text": [
      "INFO:tensorflow:Assets written to: C:\\Users\\ucesvpm\\OneDrive - University College London\\PhD Project\\Data Analytics\\Time Series Clustering\\Third Test\\Time-Series-PhD\\wandb\\run-20230227_152222-mlczurv8\\files\\model-best\\assets\n",
      "\u001b[34m\u001b[1mwandb\u001b[0m: Adding directory to artifact (C:\\Users\\ucesvpm\\OneDrive - University College London\\PhD Project\\Data Analytics\\Time Series Clustering\\Third Test\\Time-Series-PhD\\wandb\\run-20230227_152222-mlczurv8\\files\\model-best)... Done. 1.1s\n"
     ]
    },
    {
     "name": "stdout",
     "output_type": "stream",
     "text": [
      "284/284 [==============================] - 13s 47ms/step - loss: 0.2839 - mse: 0.2839 - val_loss: 0.2884 - val_mse: 0.2884 - lr: 2.6285e-04\n",
      "Epoch 99/100\n",
      "284/284 [==============================] - 8s 28ms/step - loss: 0.2838 - mse: 0.2838 - val_loss: 0.2885 - val_mse: 0.2885 - lr: 2.6285e-04\n",
      "Epoch 100/100\n",
      "284/284 [==============================] - 9s 31ms/step - loss: 0.2837 - mse: 0.2837 - val_loss: 0.2890 - val_mse: 0.2890 - lr: 2.6285e-04\n"
     ]
    },
    {
     "data": {
      "text/html": [
       "Waiting for W&B process to finish... <strong style=\"color:green\">(success).</strong>"
      ],
      "text/plain": [
       "<IPython.core.display.HTML object>"
      ]
     },
     "metadata": {},
     "output_type": "display_data"
    },
    {
     "data": {
      "text/html": [
       "<style>\n",
       "    table.wandb td:nth-child(1) { padding: 0 10px; text-align: left ; width: auto;} td:nth-child(2) {text-align: left ; width: 100%}\n",
       "    .wandb-row { display: flex; flex-direction: row; flex-wrap: wrap; justify-content: flex-start; width: 100% }\n",
       "    .wandb-col { display: flex; flex-direction: column; flex-basis: 100%; flex: 1; padding: 10px; }\n",
       "    </style>\n",
       "<div class=\"wandb-row\"><div class=\"wandb-col\"><h3>Run history:</h3><br/><table class=\"wandb\"><tr><td>epoch</td><td>▁▁▁▁▂▂▂▂▂▃▃▃▃▃▃▄▄▄▄▄▅▅▅▅▅▅▆▆▆▆▆▇▇▇▇▇▇███</td></tr><tr><td>loss</td><td>█▃▂▂▂▂▁▁▁▁▁▁▁▁▁▁▁▁▁▁▁▁▁▁▁▁▁▁▁▁▁▁▁▁▁▁▁▁▁▁</td></tr><tr><td>mse</td><td>█▃▂▂▂▂▁▁▁▁▁▁▁▁▁▁▁▁▁▁▁▁▁▁▁▁▁▁▁▁▁▁▁▁▁▁▁▁▁▁</td></tr><tr><td>val_loss</td><td>█▄▃▃▂▂▂▂▂▂▂▁▁▁▁▁▁▁▁▁▁▁▁▁▁▁▁▁▁▁▁▁▁▁▁▁▁▁▁▁</td></tr><tr><td>val_mse</td><td>█▄▃▃▂▂▂▂▂▂▂▁▁▁▁▁▁▁▁▁▁▁▁▁▁▁▁▁▁▁▁▁▁▁▁▁▁▁▁▁</td></tr></table><br/></div><div class=\"wandb-col\"><h3>Run summary:</h3><br/><table class=\"wandb\"><tr><td>best_epoch</td><td>97</td></tr><tr><td>best_val_loss</td><td>0.28841</td></tr><tr><td>epoch</td><td>99</td></tr><tr><td>loss</td><td>0.28366</td></tr><tr><td>mse</td><td>0.28366</td></tr><tr><td>val_loss</td><td>0.28899</td></tr><tr><td>val_mse</td><td>0.28899</td></tr></table><br/></div></div>"
      ],
      "text/plain": [
       "<IPython.core.display.HTML object>"
      ]
     },
     "metadata": {},
     "output_type": "display_data"
    },
    {
     "data": {
      "text/html": [
       "Synced <strong style=\"color:#cdcd00\">elated-sweep-5</strong>: <a href=\"https://wandb.ai/vasco-phd/FC_AE-Kenya_10k_Set_1_w90/runs/mlczurv8\" target=\"_blank\">https://wandb.ai/vasco-phd/FC_AE-Kenya_10k_Set_1_w90/runs/mlczurv8</a><br/>Synced 6 W&B file(s), 1 media file(s), 156 artifact file(s) and 1 other file(s)"
      ],
      "text/plain": [
       "<IPython.core.display.HTML object>"
      ]
     },
     "metadata": {},
     "output_type": "display_data"
    },
    {
     "data": {
      "text/html": [
       "Find logs at: <code>.\\wandb\\run-20230227_152222-mlczurv8\\logs</code>"
      ],
      "text/plain": [
       "<IPython.core.display.HTML object>"
      ]
     },
     "metadata": {},
     "output_type": "display_data"
    },
    {
     "name": "stderr",
     "output_type": "stream",
     "text": [
      "\u001b[34m\u001b[1mwandb\u001b[0m: Agent Starting Run: 2kshngjd with config:\n",
      "\u001b[34m\u001b[1mwandb\u001b[0m: \tactivation_fn: SELU\n",
      "\u001b[34m\u001b[1mwandb\u001b[0m: \tbatch_size: 36\n",
      "\u001b[34m\u001b[1mwandb\u001b[0m: \tepochs: 100\n",
      "\u001b[34m\u001b[1mwandb\u001b[0m: \tlatent_layer_size: 25\n",
      "\u001b[34m\u001b[1mwandb\u001b[0m: \tlearning_rate: 0.009689008898546292\n",
      "\u001b[34m\u001b[1mwandb\u001b[0m: \toptimizer: sgd\n",
      "\u001b[34m\u001b[1mwandb\u001b[0m: \twindow_length: 90\n"
     ]
    },
    {
     "data": {
      "text/html": [
       "wandb version 0.13.10 is available!  To upgrade, please run:\n",
       " $ pip install wandb --upgrade"
      ],
      "text/plain": [
       "<IPython.core.display.HTML object>"
      ]
     },
     "metadata": {},
     "output_type": "display_data"
    },
    {
     "data": {
      "text/html": [
       "Tracking run with wandb version 0.13.6"
      ],
      "text/plain": [
       "<IPython.core.display.HTML object>"
      ]
     },
     "metadata": {},
     "output_type": "display_data"
    },
    {
     "data": {
      "text/html": [
       "Run data is saved locally in <code>C:\\Users\\ucesvpm\\OneDrive - University College London\\PhD Project\\Data Analytics\\Time Series Clustering\\Third Test\\Time-Series-PhD\\wandb\\run-20230227_154020-2kshngjd</code>"
      ],
      "text/plain": [
       "<IPython.core.display.HTML object>"
      ]
     },
     "metadata": {},
     "output_type": "display_data"
    },
    {
     "data": {
      "text/html": [
       "Syncing run <strong><a href=\"https://wandb.ai/vasco-phd/FC_AE-Kenya_10k_Set_1_w90/runs/2kshngjd\" target=\"_blank\">dutiful-sweep-6</a></strong> to <a href=\"https://wandb.ai/vasco-phd/FC_AE-Kenya_10k_Set_1_w90\" target=\"_blank\">Weights & Biases</a> (<a href=\"https://wandb.me/run\" target=\"_blank\">docs</a>)<br/>Sweep page:  <a href=\"https://wandb.ai/vasco-phd/FC_AE-Kenya_10k_Set_1_w90/sweeps/wzqhgcrr\" target=\"_blank\">https://wandb.ai/vasco-phd/FC_AE-Kenya_10k_Set_1_w90/sweeps/wzqhgcrr</a>"
      ],
      "text/plain": [
       "<IPython.core.display.HTML object>"
      ]
     },
     "metadata": {},
     "output_type": "display_data"
    },
    {
     "name": "stdout",
     "output_type": "stream",
     "text": [
      "Epoch 1/100\n",
      "1966/1968 [============================>.] - ETA: 0s - loss: 0.3421 - mse: 0.3421"
     ]
    },
    {
     "name": "stderr",
     "output_type": "stream",
     "text": [
      "WARNING:absl:Found untraced functions such as activation_layer_call_fn, activation_layer_call_and_return_conditional_losses, activation_1_layer_call_fn, activation_1_layer_call_and_return_conditional_losses, activation_2_layer_call_fn while saving (showing 5 of 12). These functions will not be directly callable after loading.\n"
     ]
    },
    {
     "name": "stdout",
     "output_type": "stream",
     "text": [
      "INFO:tensorflow:Assets written to: C:\\Users\\ucesvpm\\OneDrive - University College London\\PhD Project\\Data Analytics\\Time Series Clustering\\Third Test\\Time-Series-PhD\\wandb\\run-20230227_154020-2kshngjd\\files\\model-best\\assets\n"
     ]
    },
    {
     "name": "stderr",
     "output_type": "stream",
     "text": [
      "INFO:tensorflow:Assets written to: C:\\Users\\ucesvpm\\OneDrive - University College London\\PhD Project\\Data Analytics\\Time Series Clustering\\Third Test\\Time-Series-PhD\\wandb\\run-20230227_154020-2kshngjd\\files\\model-best\\assets\n",
      "\u001b[34m\u001b[1mwandb\u001b[0m: Adding directory to artifact (C:\\Users\\ucesvpm\\OneDrive - University College London\\PhD Project\\Data Analytics\\Time Series Clustering\\Third Test\\Time-Series-PhD\\wandb\\run-20230227_154020-2kshngjd\\files\\model-best)... Done. 0.2s\n"
     ]
    },
    {
     "name": "stdout",
     "output_type": "stream",
     "text": [
      "1968/1968 [==============================] - 25s 12ms/step - loss: 0.3421 - mse: 0.3421 - val_loss: 0.2940 - val_mse: 0.2940 - lr: 0.0097\n",
      "Epoch 2/100\n",
      "1966/1968 [============================>.] - ETA: 0s - loss: 0.2780 - mse: 0.2780"
     ]
    },
    {
     "name": "stderr",
     "output_type": "stream",
     "text": [
      "WARNING:absl:Found untraced functions such as activation_layer_call_fn, activation_layer_call_and_return_conditional_losses, activation_1_layer_call_fn, activation_1_layer_call_and_return_conditional_losses, activation_2_layer_call_fn while saving (showing 5 of 12). These functions will not be directly callable after loading.\n"
     ]
    },
    {
     "name": "stdout",
     "output_type": "stream",
     "text": [
      "INFO:tensorflow:Assets written to: C:\\Users\\ucesvpm\\OneDrive - University College London\\PhD Project\\Data Analytics\\Time Series Clustering\\Third Test\\Time-Series-PhD\\wandb\\run-20230227_154020-2kshngjd\\files\\model-best\\assets\n"
     ]
    },
    {
     "name": "stderr",
     "output_type": "stream",
     "text": [
      "INFO:tensorflow:Assets written to: C:\\Users\\ucesvpm\\OneDrive - University College London\\PhD Project\\Data Analytics\\Time Series Clustering\\Third Test\\Time-Series-PhD\\wandb\\run-20230227_154020-2kshngjd\\files\\model-best\\assets\n",
      "\u001b[34m\u001b[1mwandb\u001b[0m: Adding directory to artifact (C:\\Users\\ucesvpm\\OneDrive - University College London\\PhD Project\\Data Analytics\\Time Series Clustering\\Third Test\\Time-Series-PhD\\wandb\\run-20230227_154020-2kshngjd\\files\\model-best)... Done. 0.2s\n"
     ]
    },
    {
     "name": "stdout",
     "output_type": "stream",
     "text": [
      "1968/1968 [==============================] - 23s 12ms/step - loss: 0.2780 - mse: 0.2780 - val_loss: 0.2753 - val_mse: 0.2753 - lr: 0.0097\n",
      "Epoch 3/100\n",
      "1968/1968 [==============================] - ETA: 0s - loss: 0.2642 - mse: 0.2642"
     ]
    },
    {
     "name": "stderr",
     "output_type": "stream",
     "text": [
      "WARNING:absl:Found untraced functions such as activation_layer_call_fn, activation_layer_call_and_return_conditional_losses, activation_1_layer_call_fn, activation_1_layer_call_and_return_conditional_losses, activation_2_layer_call_fn while saving (showing 5 of 12). These functions will not be directly callable after loading.\n"
     ]
    },
    {
     "name": "stdout",
     "output_type": "stream",
     "text": [
      "INFO:tensorflow:Assets written to: C:\\Users\\ucesvpm\\OneDrive - University College London\\PhD Project\\Data Analytics\\Time Series Clustering\\Third Test\\Time-Series-PhD\\wandb\\run-20230227_154020-2kshngjd\\files\\model-best\\assets\n"
     ]
    },
    {
     "name": "stderr",
     "output_type": "stream",
     "text": [
      "INFO:tensorflow:Assets written to: C:\\Users\\ucesvpm\\OneDrive - University College London\\PhD Project\\Data Analytics\\Time Series Clustering\\Third Test\\Time-Series-PhD\\wandb\\run-20230227_154020-2kshngjd\\files\\model-best\\assets\n",
      "\u001b[34m\u001b[1mwandb\u001b[0m: Adding directory to artifact (C:\\Users\\ucesvpm\\OneDrive - University College London\\PhD Project\\Data Analytics\\Time Series Clustering\\Third Test\\Time-Series-PhD\\wandb\\run-20230227_154020-2kshngjd\\files\\model-best)... Done. 0.2s\n"
     ]
    },
    {
     "name": "stdout",
     "output_type": "stream",
     "text": [
      "1968/1968 [==============================] - 29s 15ms/step - loss: 0.2642 - mse: 0.2642 - val_loss: 0.2655 - val_mse: 0.2655 - lr: 0.0097\n",
      "Epoch 4/100\n",
      "1962/1968 [============================>.] - ETA: 0s - loss: 0.2562 - mse: 0.2562"
     ]
    },
    {
     "name": "stderr",
     "output_type": "stream",
     "text": [
      "WARNING:absl:Found untraced functions such as activation_layer_call_fn, activation_layer_call_and_return_conditional_losses, activation_1_layer_call_fn, activation_1_layer_call_and_return_conditional_losses, activation_2_layer_call_fn while saving (showing 5 of 12). These functions will not be directly callable after loading.\n"
     ]
    },
    {
     "name": "stdout",
     "output_type": "stream",
     "text": [
      "INFO:tensorflow:Assets written to: C:\\Users\\ucesvpm\\OneDrive - University College London\\PhD Project\\Data Analytics\\Time Series Clustering\\Third Test\\Time-Series-PhD\\wandb\\run-20230227_154020-2kshngjd\\files\\model-best\\assets\n"
     ]
    },
    {
     "name": "stderr",
     "output_type": "stream",
     "text": [
      "INFO:tensorflow:Assets written to: C:\\Users\\ucesvpm\\OneDrive - University College London\\PhD Project\\Data Analytics\\Time Series Clustering\\Third Test\\Time-Series-PhD\\wandb\\run-20230227_154020-2kshngjd\\files\\model-best\\assets\n",
      "\u001b[34m\u001b[1mwandb\u001b[0m: Adding directory to artifact (C:\\Users\\ucesvpm\\OneDrive - University College London\\PhD Project\\Data Analytics\\Time Series Clustering\\Third Test\\Time-Series-PhD\\wandb\\run-20230227_154020-2kshngjd\\files\\model-best)... Done. 0.2s\n"
     ]
    },
    {
     "name": "stdout",
     "output_type": "stream",
     "text": [
      "1968/1968 [==============================] - 27s 14ms/step - loss: 0.2562 - mse: 0.2562 - val_loss: 0.2598 - val_mse: 0.2598 - lr: 0.0097\n",
      "Epoch 5/100\n",
      "1967/1968 [============================>.] - ETA: 0s - loss: 0.2508 - mse: 0.2508"
     ]
    },
    {
     "name": "stderr",
     "output_type": "stream",
     "text": [
      "WARNING:absl:Found untraced functions such as activation_layer_call_fn, activation_layer_call_and_return_conditional_losses, activation_1_layer_call_fn, activation_1_layer_call_and_return_conditional_losses, activation_2_layer_call_fn while saving (showing 5 of 12). These functions will not be directly callable after loading.\n"
     ]
    },
    {
     "name": "stdout",
     "output_type": "stream",
     "text": [
      "INFO:tensorflow:Assets written to: C:\\Users\\ucesvpm\\OneDrive - University College London\\PhD Project\\Data Analytics\\Time Series Clustering\\Third Test\\Time-Series-PhD\\wandb\\run-20230227_154020-2kshngjd\\files\\model-best\\assets\n"
     ]
    },
    {
     "name": "stderr",
     "output_type": "stream",
     "text": [
      "INFO:tensorflow:Assets written to: C:\\Users\\ucesvpm\\OneDrive - University College London\\PhD Project\\Data Analytics\\Time Series Clustering\\Third Test\\Time-Series-PhD\\wandb\\run-20230227_154020-2kshngjd\\files\\model-best\\assets\n",
      "\u001b[34m\u001b[1mwandb\u001b[0m: Adding directory to artifact (C:\\Users\\ucesvpm\\OneDrive - University College London\\PhD Project\\Data Analytics\\Time Series Clustering\\Third Test\\Time-Series-PhD\\wandb\\run-20230227_154020-2kshngjd\\files\\model-best)... Done. 0.2s\n"
     ]
    },
    {
     "name": "stdout",
     "output_type": "stream",
     "text": [
      "1968/1968 [==============================] - 25s 13ms/step - loss: 0.2508 - mse: 0.2508 - val_loss: 0.2554 - val_mse: 0.2554 - lr: 0.0097\n",
      "Epoch 6/100\n",
      "1968/1968 [==============================] - ETA: 0s - loss: 0.2468 - mse: 0.2468"
     ]
    },
    {
     "name": "stderr",
     "output_type": "stream",
     "text": [
      "WARNING:absl:Found untraced functions such as activation_layer_call_fn, activation_layer_call_and_return_conditional_losses, activation_1_layer_call_fn, activation_1_layer_call_and_return_conditional_losses, activation_2_layer_call_fn while saving (showing 5 of 12). These functions will not be directly callable after loading.\n"
     ]
    },
    {
     "name": "stdout",
     "output_type": "stream",
     "text": [
      "INFO:tensorflow:Assets written to: C:\\Users\\ucesvpm\\OneDrive - University College London\\PhD Project\\Data Analytics\\Time Series Clustering\\Third Test\\Time-Series-PhD\\wandb\\run-20230227_154020-2kshngjd\\files\\model-best\\assets\n"
     ]
    },
    {
     "name": "stderr",
     "output_type": "stream",
     "text": [
      "INFO:tensorflow:Assets written to: C:\\Users\\ucesvpm\\OneDrive - University College London\\PhD Project\\Data Analytics\\Time Series Clustering\\Third Test\\Time-Series-PhD\\wandb\\run-20230227_154020-2kshngjd\\files\\model-best\\assets\n",
      "\u001b[34m\u001b[1mwandb\u001b[0m: Adding directory to artifact (C:\\Users\\ucesvpm\\OneDrive - University College London\\PhD Project\\Data Analytics\\Time Series Clustering\\Third Test\\Time-Series-PhD\\wandb\\run-20230227_154020-2kshngjd\\files\\model-best)... Done. 0.2s\n"
     ]
    },
    {
     "name": "stdout",
     "output_type": "stream",
     "text": [
      "1968/1968 [==============================] - 24s 12ms/step - loss: 0.2468 - mse: 0.2468 - val_loss: 0.2521 - val_mse: 0.2521 - lr: 0.0097\n",
      "Epoch 7/100\n",
      "1967/1968 [============================>.] - ETA: 0s - loss: 0.2438 - mse: 0.2438"
     ]
    },
    {
     "name": "stderr",
     "output_type": "stream",
     "text": [
      "WARNING:absl:Found untraced functions such as activation_layer_call_fn, activation_layer_call_and_return_conditional_losses, activation_1_layer_call_fn, activation_1_layer_call_and_return_conditional_losses, activation_2_layer_call_fn while saving (showing 5 of 12). These functions will not be directly callable after loading.\n"
     ]
    },
    {
     "name": "stdout",
     "output_type": "stream",
     "text": [
      "INFO:tensorflow:Assets written to: C:\\Users\\ucesvpm\\OneDrive - University College London\\PhD Project\\Data Analytics\\Time Series Clustering\\Third Test\\Time-Series-PhD\\wandb\\run-20230227_154020-2kshngjd\\files\\model-best\\assets\n"
     ]
    },
    {
     "name": "stderr",
     "output_type": "stream",
     "text": [
      "INFO:tensorflow:Assets written to: C:\\Users\\ucesvpm\\OneDrive - University College London\\PhD Project\\Data Analytics\\Time Series Clustering\\Third Test\\Time-Series-PhD\\wandb\\run-20230227_154020-2kshngjd\\files\\model-best\\assets\n",
      "\u001b[34m\u001b[1mwandb\u001b[0m: Adding directory to artifact (C:\\Users\\ucesvpm\\OneDrive - University College London\\PhD Project\\Data Analytics\\Time Series Clustering\\Third Test\\Time-Series-PhD\\wandb\\run-20230227_154020-2kshngjd\\files\\model-best)... Done. 0.1s\n"
     ]
    },
    {
     "name": "stdout",
     "output_type": "stream",
     "text": [
      "1968/1968 [==============================] - 23s 12ms/step - loss: 0.2437 - mse: 0.2437 - val_loss: 0.2500 - val_mse: 0.2500 - lr: 0.0097\n",
      "Epoch 8/100\n",
      "1963/1968 [============================>.] - ETA: 0s - loss: 0.2412 - mse: 0.2412"
     ]
    },
    {
     "name": "stderr",
     "output_type": "stream",
     "text": [
      "WARNING:absl:Found untraced functions such as activation_layer_call_fn, activation_layer_call_and_return_conditional_losses, activation_1_layer_call_fn, activation_1_layer_call_and_return_conditional_losses, activation_2_layer_call_fn while saving (showing 5 of 12). These functions will not be directly callable after loading.\n"
     ]
    },
    {
     "name": "stdout",
     "output_type": "stream",
     "text": [
      "INFO:tensorflow:Assets written to: C:\\Users\\ucesvpm\\OneDrive - University College London\\PhD Project\\Data Analytics\\Time Series Clustering\\Third Test\\Time-Series-PhD\\wandb\\run-20230227_154020-2kshngjd\\files\\model-best\\assets\n"
     ]
    },
    {
     "name": "stderr",
     "output_type": "stream",
     "text": [
      "INFO:tensorflow:Assets written to: C:\\Users\\ucesvpm\\OneDrive - University College London\\PhD Project\\Data Analytics\\Time Series Clustering\\Third Test\\Time-Series-PhD\\wandb\\run-20230227_154020-2kshngjd\\files\\model-best\\assets\n",
      "\u001b[34m\u001b[1mwandb\u001b[0m: Adding directory to artifact (C:\\Users\\ucesvpm\\OneDrive - University College London\\PhD Project\\Data Analytics\\Time Series Clustering\\Third Test\\Time-Series-PhD\\wandb\\run-20230227_154020-2kshngjd\\files\\model-best)... Done. 0.1s\n"
     ]
    },
    {
     "name": "stdout",
     "output_type": "stream",
     "text": [
      "1968/1968 [==============================] - 24s 12ms/step - loss: 0.2411 - mse: 0.2411 - val_loss: 0.2482 - val_mse: 0.2482 - lr: 0.0097\n",
      "Epoch 9/100\n",
      "1966/1968 [============================>.] - ETA: 0s - loss: 0.2388 - mse: 0.2388"
     ]
    },
    {
     "name": "stderr",
     "output_type": "stream",
     "text": [
      "WARNING:absl:Found untraced functions such as activation_layer_call_fn, activation_layer_call_and_return_conditional_losses, activation_1_layer_call_fn, activation_1_layer_call_and_return_conditional_losses, activation_2_layer_call_fn while saving (showing 5 of 12). These functions will not be directly callable after loading.\n"
     ]
    },
    {
     "name": "stdout",
     "output_type": "stream",
     "text": [
      "INFO:tensorflow:Assets written to: C:\\Users\\ucesvpm\\OneDrive - University College London\\PhD Project\\Data Analytics\\Time Series Clustering\\Third Test\\Time-Series-PhD\\wandb\\run-20230227_154020-2kshngjd\\files\\model-best\\assets\n"
     ]
    },
    {
     "name": "stderr",
     "output_type": "stream",
     "text": [
      "INFO:tensorflow:Assets written to: C:\\Users\\ucesvpm\\OneDrive - University College London\\PhD Project\\Data Analytics\\Time Series Clustering\\Third Test\\Time-Series-PhD\\wandb\\run-20230227_154020-2kshngjd\\files\\model-best\\assets\n",
      "\u001b[34m\u001b[1mwandb\u001b[0m: Adding directory to artifact (C:\\Users\\ucesvpm\\OneDrive - University College London\\PhD Project\\Data Analytics\\Time Series Clustering\\Third Test\\Time-Series-PhD\\wandb\\run-20230227_154020-2kshngjd\\files\\model-best)... Done. 0.1s\n"
     ]
    },
    {
     "name": "stdout",
     "output_type": "stream",
     "text": [
      "1968/1968 [==============================] - 33s 17ms/step - loss: 0.2389 - mse: 0.2389 - val_loss: 0.2464 - val_mse: 0.2464 - lr: 0.0097\n",
      "Epoch 10/100\n",
      "1964/1968 [============================>.] - ETA: 0s - loss: 0.2368 - mse: 0.2368"
     ]
    },
    {
     "name": "stderr",
     "output_type": "stream",
     "text": [
      "WARNING:absl:Found untraced functions such as activation_layer_call_fn, activation_layer_call_and_return_conditional_losses, activation_1_layer_call_fn, activation_1_layer_call_and_return_conditional_losses, activation_2_layer_call_fn while saving (showing 5 of 12). These functions will not be directly callable after loading.\n"
     ]
    },
    {
     "name": "stdout",
     "output_type": "stream",
     "text": [
      "INFO:tensorflow:Assets written to: C:\\Users\\ucesvpm\\OneDrive - University College London\\PhD Project\\Data Analytics\\Time Series Clustering\\Third Test\\Time-Series-PhD\\wandb\\run-20230227_154020-2kshngjd\\files\\model-best\\assets\n"
     ]
    },
    {
     "name": "stderr",
     "output_type": "stream",
     "text": [
      "INFO:tensorflow:Assets written to: C:\\Users\\ucesvpm\\OneDrive - University College London\\PhD Project\\Data Analytics\\Time Series Clustering\\Third Test\\Time-Series-PhD\\wandb\\run-20230227_154020-2kshngjd\\files\\model-best\\assets\n",
      "\u001b[34m\u001b[1mwandb\u001b[0m: Adding directory to artifact (C:\\Users\\ucesvpm\\OneDrive - University College London\\PhD Project\\Data Analytics\\Time Series Clustering\\Third Test\\Time-Series-PhD\\wandb\\run-20230227_154020-2kshngjd\\files\\model-best)... Done. 0.1s\n"
     ]
    },
    {
     "name": "stdout",
     "output_type": "stream",
     "text": [
      "1968/1968 [==============================] - 24s 12ms/step - loss: 0.2368 - mse: 0.2368 - val_loss: 0.2444 - val_mse: 0.2444 - lr: 0.0097\n",
      "Epoch 11/100\n",
      "1967/1968 [============================>.] - ETA: 0s - loss: 0.2347 - mse: 0.2347"
     ]
    },
    {
     "name": "stderr",
     "output_type": "stream",
     "text": [
      "WARNING:absl:Found untraced functions such as activation_layer_call_fn, activation_layer_call_and_return_conditional_losses, activation_1_layer_call_fn, activation_1_layer_call_and_return_conditional_losses, activation_2_layer_call_fn while saving (showing 5 of 12). These functions will not be directly callable after loading.\n"
     ]
    },
    {
     "name": "stdout",
     "output_type": "stream",
     "text": [
      "INFO:tensorflow:Assets written to: C:\\Users\\ucesvpm\\OneDrive - University College London\\PhD Project\\Data Analytics\\Time Series Clustering\\Third Test\\Time-Series-PhD\\wandb\\run-20230227_154020-2kshngjd\\files\\model-best\\assets\n"
     ]
    },
    {
     "name": "stderr",
     "output_type": "stream",
     "text": [
      "INFO:tensorflow:Assets written to: C:\\Users\\ucesvpm\\OneDrive - University College London\\PhD Project\\Data Analytics\\Time Series Clustering\\Third Test\\Time-Series-PhD\\wandb\\run-20230227_154020-2kshngjd\\files\\model-best\\assets\n",
      "\u001b[34m\u001b[1mwandb\u001b[0m: Adding directory to artifact (C:\\Users\\ucesvpm\\OneDrive - University College London\\PhD Project\\Data Analytics\\Time Series Clustering\\Third Test\\Time-Series-PhD\\wandb\\run-20230227_154020-2kshngjd\\files\\model-best)... Done. 0.1s\n"
     ]
    },
    {
     "name": "stdout",
     "output_type": "stream",
     "text": [
      "1968/1968 [==============================] - 23s 12ms/step - loss: 0.2347 - mse: 0.2347 - val_loss: 0.2432 - val_mse: 0.2432 - lr: 0.0097\n",
      "Epoch 12/100\n",
      "1968/1968 [==============================] - ETA: 0s - loss: 0.2328 - mse: 0.2328"
     ]
    },
    {
     "name": "stderr",
     "output_type": "stream",
     "text": [
      "WARNING:absl:Found untraced functions such as activation_layer_call_fn, activation_layer_call_and_return_conditional_losses, activation_1_layer_call_fn, activation_1_layer_call_and_return_conditional_losses, activation_2_layer_call_fn while saving (showing 5 of 12). These functions will not be directly callable after loading.\n"
     ]
    },
    {
     "name": "stdout",
     "output_type": "stream",
     "text": [
      "INFO:tensorflow:Assets written to: C:\\Users\\ucesvpm\\OneDrive - University College London\\PhD Project\\Data Analytics\\Time Series Clustering\\Third Test\\Time-Series-PhD\\wandb\\run-20230227_154020-2kshngjd\\files\\model-best\\assets\n"
     ]
    },
    {
     "name": "stderr",
     "output_type": "stream",
     "text": [
      "INFO:tensorflow:Assets written to: C:\\Users\\ucesvpm\\OneDrive - University College London\\PhD Project\\Data Analytics\\Time Series Clustering\\Third Test\\Time-Series-PhD\\wandb\\run-20230227_154020-2kshngjd\\files\\model-best\\assets\n",
      "\u001b[34m\u001b[1mwandb\u001b[0m: Adding directory to artifact (C:\\Users\\ucesvpm\\OneDrive - University College London\\PhD Project\\Data Analytics\\Time Series Clustering\\Third Test\\Time-Series-PhD\\wandb\\run-20230227_154020-2kshngjd\\files\\model-best)... Done. 0.1s\n"
     ]
    },
    {
     "name": "stdout",
     "output_type": "stream",
     "text": [
      "1968/1968 [==============================] - 23s 12ms/step - loss: 0.2328 - mse: 0.2328 - val_loss: 0.2412 - val_mse: 0.2412 - lr: 0.0097\n",
      "Epoch 13/100\n",
      "1965/1968 [============================>.] - ETA: 0s - loss: 0.2309 - mse: 0.2309"
     ]
    },
    {
     "name": "stderr",
     "output_type": "stream",
     "text": [
      "WARNING:absl:Found untraced functions such as activation_layer_call_fn, activation_layer_call_and_return_conditional_losses, activation_1_layer_call_fn, activation_1_layer_call_and_return_conditional_losses, activation_2_layer_call_fn while saving (showing 5 of 12). These functions will not be directly callable after loading.\n"
     ]
    },
    {
     "name": "stdout",
     "output_type": "stream",
     "text": [
      "INFO:tensorflow:Assets written to: C:\\Users\\ucesvpm\\OneDrive - University College London\\PhD Project\\Data Analytics\\Time Series Clustering\\Third Test\\Time-Series-PhD\\wandb\\run-20230227_154020-2kshngjd\\files\\model-best\\assets\n"
     ]
    },
    {
     "name": "stderr",
     "output_type": "stream",
     "text": [
      "INFO:tensorflow:Assets written to: C:\\Users\\ucesvpm\\OneDrive - University College London\\PhD Project\\Data Analytics\\Time Series Clustering\\Third Test\\Time-Series-PhD\\wandb\\run-20230227_154020-2kshngjd\\files\\model-best\\assets\n",
      "\u001b[34m\u001b[1mwandb\u001b[0m: Adding directory to artifact (C:\\Users\\ucesvpm\\OneDrive - University College London\\PhD Project\\Data Analytics\\Time Series Clustering\\Third Test\\Time-Series-PhD\\wandb\\run-20230227_154020-2kshngjd\\files\\model-best)... Done. 0.3s\n"
     ]
    },
    {
     "name": "stdout",
     "output_type": "stream",
     "text": [
      "1968/1968 [==============================] - 29s 15ms/step - loss: 0.2308 - mse: 0.2308 - val_loss: 0.2396 - val_mse: 0.2396 - lr: 0.0097\n",
      "Epoch 14/100\n",
      "1968/1968 [==============================] - ETA: 0s - loss: 0.2289 - mse: 0.2289"
     ]
    },
    {
     "name": "stderr",
     "output_type": "stream",
     "text": [
      "WARNING:absl:Found untraced functions such as activation_layer_call_fn, activation_layer_call_and_return_conditional_losses, activation_1_layer_call_fn, activation_1_layer_call_and_return_conditional_losses, activation_2_layer_call_fn while saving (showing 5 of 12). These functions will not be directly callable after loading.\n"
     ]
    },
    {
     "name": "stdout",
     "output_type": "stream",
     "text": [
      "INFO:tensorflow:Assets written to: C:\\Users\\ucesvpm\\OneDrive - University College London\\PhD Project\\Data Analytics\\Time Series Clustering\\Third Test\\Time-Series-PhD\\wandb\\run-20230227_154020-2kshngjd\\files\\model-best\\assets\n"
     ]
    },
    {
     "name": "stderr",
     "output_type": "stream",
     "text": [
      "INFO:tensorflow:Assets written to: C:\\Users\\ucesvpm\\OneDrive - University College London\\PhD Project\\Data Analytics\\Time Series Clustering\\Third Test\\Time-Series-PhD\\wandb\\run-20230227_154020-2kshngjd\\files\\model-best\\assets\n",
      "\u001b[34m\u001b[1mwandb\u001b[0m: Adding directory to artifact (C:\\Users\\ucesvpm\\OneDrive - University College London\\PhD Project\\Data Analytics\\Time Series Clustering\\Third Test\\Time-Series-PhD\\wandb\\run-20230227_154020-2kshngjd\\files\\model-best)... Done. 0.1s\n"
     ]
    },
    {
     "name": "stdout",
     "output_type": "stream",
     "text": [
      "1968/1968 [==============================] - 27s 14ms/step - loss: 0.2289 - mse: 0.2289 - val_loss: 0.2385 - val_mse: 0.2385 - lr: 0.0097\n",
      "Epoch 15/100\n",
      "1965/1968 [============================>.] - ETA: 0s - loss: 0.2271 - mse: 0.2271"
     ]
    },
    {
     "name": "stderr",
     "output_type": "stream",
     "text": [
      "WARNING:absl:Found untraced functions such as activation_layer_call_fn, activation_layer_call_and_return_conditional_losses, activation_1_layer_call_fn, activation_1_layer_call_and_return_conditional_losses, activation_2_layer_call_fn while saving (showing 5 of 12). These functions will not be directly callable after loading.\n"
     ]
    },
    {
     "name": "stdout",
     "output_type": "stream",
     "text": [
      "INFO:tensorflow:Assets written to: C:\\Users\\ucesvpm\\OneDrive - University College London\\PhD Project\\Data Analytics\\Time Series Clustering\\Third Test\\Time-Series-PhD\\wandb\\run-20230227_154020-2kshngjd\\files\\model-best\\assets\n"
     ]
    },
    {
     "name": "stderr",
     "output_type": "stream",
     "text": [
      "INFO:tensorflow:Assets written to: C:\\Users\\ucesvpm\\OneDrive - University College London\\PhD Project\\Data Analytics\\Time Series Clustering\\Third Test\\Time-Series-PhD\\wandb\\run-20230227_154020-2kshngjd\\files\\model-best\\assets\n",
      "\u001b[34m\u001b[1mwandb\u001b[0m: Adding directory to artifact (C:\\Users\\ucesvpm\\OneDrive - University College London\\PhD Project\\Data Analytics\\Time Series Clustering\\Third Test\\Time-Series-PhD\\wandb\\run-20230227_154020-2kshngjd\\files\\model-best)... Done. 0.2s\n"
     ]
    },
    {
     "name": "stdout",
     "output_type": "stream",
     "text": [
      "1968/1968 [==============================] - 23s 12ms/step - loss: 0.2271 - mse: 0.2271 - val_loss: 0.2364 - val_mse: 0.2364 - lr: 0.0097\n",
      "Epoch 16/100\n",
      "1967/1968 [============================>.] - ETA: 0s - loss: 0.2252 - mse: 0.2252"
     ]
    },
    {
     "name": "stderr",
     "output_type": "stream",
     "text": [
      "WARNING:absl:Found untraced functions such as activation_layer_call_fn, activation_layer_call_and_return_conditional_losses, activation_1_layer_call_fn, activation_1_layer_call_and_return_conditional_losses, activation_2_layer_call_fn while saving (showing 5 of 12). These functions will not be directly callable after loading.\n"
     ]
    },
    {
     "name": "stdout",
     "output_type": "stream",
     "text": [
      "INFO:tensorflow:Assets written to: C:\\Users\\ucesvpm\\OneDrive - University College London\\PhD Project\\Data Analytics\\Time Series Clustering\\Third Test\\Time-Series-PhD\\wandb\\run-20230227_154020-2kshngjd\\files\\model-best\\assets\n"
     ]
    },
    {
     "name": "stderr",
     "output_type": "stream",
     "text": [
      "INFO:tensorflow:Assets written to: C:\\Users\\ucesvpm\\OneDrive - University College London\\PhD Project\\Data Analytics\\Time Series Clustering\\Third Test\\Time-Series-PhD\\wandb\\run-20230227_154020-2kshngjd\\files\\model-best\\assets\n",
      "\u001b[34m\u001b[1mwandb\u001b[0m: Adding directory to artifact (C:\\Users\\ucesvpm\\OneDrive - University College London\\PhD Project\\Data Analytics\\Time Series Clustering\\Third Test\\Time-Series-PhD\\wandb\\run-20230227_154020-2kshngjd\\files\\model-best)... Done. 0.2s\n"
     ]
    },
    {
     "name": "stdout",
     "output_type": "stream",
     "text": [
      "1968/1968 [==============================] - 24s 12ms/step - loss: 0.2252 - mse: 0.2252 - val_loss: 0.2350 - val_mse: 0.2350 - lr: 0.0097\n",
      "Epoch 17/100\n",
      "1965/1968 [============================>.] - ETA: 0s - loss: 0.2233 - mse: 0.2233"
     ]
    },
    {
     "name": "stderr",
     "output_type": "stream",
     "text": [
      "WARNING:absl:Found untraced functions such as activation_layer_call_fn, activation_layer_call_and_return_conditional_losses, activation_1_layer_call_fn, activation_1_layer_call_and_return_conditional_losses, activation_2_layer_call_fn while saving (showing 5 of 12). These functions will not be directly callable after loading.\n"
     ]
    },
    {
     "name": "stdout",
     "output_type": "stream",
     "text": [
      "INFO:tensorflow:Assets written to: C:\\Users\\ucesvpm\\OneDrive - University College London\\PhD Project\\Data Analytics\\Time Series Clustering\\Third Test\\Time-Series-PhD\\wandb\\run-20230227_154020-2kshngjd\\files\\model-best\\assets\n"
     ]
    },
    {
     "name": "stderr",
     "output_type": "stream",
     "text": [
      "INFO:tensorflow:Assets written to: C:\\Users\\ucesvpm\\OneDrive - University College London\\PhD Project\\Data Analytics\\Time Series Clustering\\Third Test\\Time-Series-PhD\\wandb\\run-20230227_154020-2kshngjd\\files\\model-best\\assets\n",
      "\u001b[34m\u001b[1mwandb\u001b[0m: Adding directory to artifact (C:\\Users\\ucesvpm\\OneDrive - University College London\\PhD Project\\Data Analytics\\Time Series Clustering\\Third Test\\Time-Series-PhD\\wandb\\run-20230227_154020-2kshngjd\\files\\model-best)... Done. 0.1s\n"
     ]
    },
    {
     "name": "stdout",
     "output_type": "stream",
     "text": [
      "1968/1968 [==============================] - 23s 12ms/step - loss: 0.2234 - mse: 0.2234 - val_loss: 0.2335 - val_mse: 0.2335 - lr: 0.0097\n",
      "Epoch 18/100\n",
      "1963/1968 [============================>.] - ETA: 0s - loss: 0.2215 - mse: 0.2215"
     ]
    },
    {
     "name": "stderr",
     "output_type": "stream",
     "text": [
      "WARNING:absl:Found untraced functions such as activation_layer_call_fn, activation_layer_call_and_return_conditional_losses, activation_1_layer_call_fn, activation_1_layer_call_and_return_conditional_losses, activation_2_layer_call_fn while saving (showing 5 of 12). These functions will not be directly callable after loading.\n"
     ]
    },
    {
     "name": "stdout",
     "output_type": "stream",
     "text": [
      "INFO:tensorflow:Assets written to: C:\\Users\\ucesvpm\\OneDrive - University College London\\PhD Project\\Data Analytics\\Time Series Clustering\\Third Test\\Time-Series-PhD\\wandb\\run-20230227_154020-2kshngjd\\files\\model-best\\assets\n"
     ]
    },
    {
     "name": "stderr",
     "output_type": "stream",
     "text": [
      "INFO:tensorflow:Assets written to: C:\\Users\\ucesvpm\\OneDrive - University College London\\PhD Project\\Data Analytics\\Time Series Clustering\\Third Test\\Time-Series-PhD\\wandb\\run-20230227_154020-2kshngjd\\files\\model-best\\assets\n",
      "\u001b[34m\u001b[1mwandb\u001b[0m: Adding directory to artifact (C:\\Users\\ucesvpm\\OneDrive - University College London\\PhD Project\\Data Analytics\\Time Series Clustering\\Third Test\\Time-Series-PhD\\wandb\\run-20230227_154020-2kshngjd\\files\\model-best)... Done. 0.2s\n"
     ]
    },
    {
     "name": "stdout",
     "output_type": "stream",
     "text": [
      "1968/1968 [==============================] - 23s 12ms/step - loss: 0.2215 - mse: 0.2215 - val_loss: 0.2313 - val_mse: 0.2313 - lr: 0.0097\n",
      "Epoch 19/100\n",
      "1963/1968 [============================>.] - ETA: 0s - loss: 0.2197 - mse: 0.2197"
     ]
    },
    {
     "name": "stderr",
     "output_type": "stream",
     "text": [
      "WARNING:absl:Found untraced functions such as activation_layer_call_fn, activation_layer_call_and_return_conditional_losses, activation_1_layer_call_fn, activation_1_layer_call_and_return_conditional_losses, activation_2_layer_call_fn while saving (showing 5 of 12). These functions will not be directly callable after loading.\n"
     ]
    },
    {
     "name": "stdout",
     "output_type": "stream",
     "text": [
      "INFO:tensorflow:Assets written to: C:\\Users\\ucesvpm\\OneDrive - University College London\\PhD Project\\Data Analytics\\Time Series Clustering\\Third Test\\Time-Series-PhD\\wandb\\run-20230227_154020-2kshngjd\\files\\model-best\\assets\n"
     ]
    },
    {
     "name": "stderr",
     "output_type": "stream",
     "text": [
      "INFO:tensorflow:Assets written to: C:\\Users\\ucesvpm\\OneDrive - University College London\\PhD Project\\Data Analytics\\Time Series Clustering\\Third Test\\Time-Series-PhD\\wandb\\run-20230227_154020-2kshngjd\\files\\model-best\\assets\n",
      "\u001b[34m\u001b[1mwandb\u001b[0m: Adding directory to artifact (C:\\Users\\ucesvpm\\OneDrive - University College London\\PhD Project\\Data Analytics\\Time Series Clustering\\Third Test\\Time-Series-PhD\\wandb\\run-20230227_154020-2kshngjd\\files\\model-best)... Done. 0.1s\n"
     ]
    },
    {
     "name": "stdout",
     "output_type": "stream",
     "text": [
      "1968/1968 [==============================] - 23s 12ms/step - loss: 0.2197 - mse: 0.2197 - val_loss: 0.2302 - val_mse: 0.2302 - lr: 0.0097\n",
      "Epoch 20/100\n",
      "1968/1968 [==============================] - ETA: 0s - loss: 0.2180 - mse: 0.2180"
     ]
    },
    {
     "name": "stderr",
     "output_type": "stream",
     "text": [
      "WARNING:absl:Found untraced functions such as activation_layer_call_fn, activation_layer_call_and_return_conditional_losses, activation_1_layer_call_fn, activation_1_layer_call_and_return_conditional_losses, activation_2_layer_call_fn while saving (showing 5 of 12). These functions will not be directly callable after loading.\n"
     ]
    },
    {
     "name": "stdout",
     "output_type": "stream",
     "text": [
      "INFO:tensorflow:Assets written to: C:\\Users\\ucesvpm\\OneDrive - University College London\\PhD Project\\Data Analytics\\Time Series Clustering\\Third Test\\Time-Series-PhD\\wandb\\run-20230227_154020-2kshngjd\\files\\model-best\\assets\n"
     ]
    },
    {
     "name": "stderr",
     "output_type": "stream",
     "text": [
      "INFO:tensorflow:Assets written to: C:\\Users\\ucesvpm\\OneDrive - University College London\\PhD Project\\Data Analytics\\Time Series Clustering\\Third Test\\Time-Series-PhD\\wandb\\run-20230227_154020-2kshngjd\\files\\model-best\\assets\n",
      "\u001b[34m\u001b[1mwandb\u001b[0m: Adding directory to artifact (C:\\Users\\ucesvpm\\OneDrive - University College London\\PhD Project\\Data Analytics\\Time Series Clustering\\Third Test\\Time-Series-PhD\\wandb\\run-20230227_154020-2kshngjd\\files\\model-best)... Done. 0.1s\n"
     ]
    },
    {
     "name": "stdout",
     "output_type": "stream",
     "text": [
      "1968/1968 [==============================] - 27s 14ms/step - loss: 0.2180 - mse: 0.2180 - val_loss: 0.2290 - val_mse: 0.2290 - lr: 0.0097\n",
      "Epoch 21/100\n",
      "1967/1968 [============================>.] - ETA: 0s - loss: 0.2162 - mse: 0.2162"
     ]
    },
    {
     "name": "stderr",
     "output_type": "stream",
     "text": [
      "WARNING:absl:Found untraced functions such as activation_layer_call_fn, activation_layer_call_and_return_conditional_losses, activation_1_layer_call_fn, activation_1_layer_call_and_return_conditional_losses, activation_2_layer_call_fn while saving (showing 5 of 12). These functions will not be directly callable after loading.\n"
     ]
    },
    {
     "name": "stdout",
     "output_type": "stream",
     "text": [
      "INFO:tensorflow:Assets written to: C:\\Users\\ucesvpm\\OneDrive - University College London\\PhD Project\\Data Analytics\\Time Series Clustering\\Third Test\\Time-Series-PhD\\wandb\\run-20230227_154020-2kshngjd\\files\\model-best\\assets\n"
     ]
    },
    {
     "name": "stderr",
     "output_type": "stream",
     "text": [
      "INFO:tensorflow:Assets written to: C:\\Users\\ucesvpm\\OneDrive - University College London\\PhD Project\\Data Analytics\\Time Series Clustering\\Third Test\\Time-Series-PhD\\wandb\\run-20230227_154020-2kshngjd\\files\\model-best\\assets\n",
      "\u001b[34m\u001b[1mwandb\u001b[0m: Adding directory to artifact (C:\\Users\\ucesvpm\\OneDrive - University College London\\PhD Project\\Data Analytics\\Time Series Clustering\\Third Test\\Time-Series-PhD\\wandb\\run-20230227_154020-2kshngjd\\files\\model-best)... Done. 0.2s\n"
     ]
    },
    {
     "name": "stdout",
     "output_type": "stream",
     "text": [
      "1968/1968 [==============================] - 28s 14ms/step - loss: 0.2162 - mse: 0.2162 - val_loss: 0.2273 - val_mse: 0.2273 - lr: 0.0097\n",
      "Epoch 22/100\n",
      "1963/1968 [============================>.] - ETA: 0s - loss: 0.2144 - mse: 0.2144"
     ]
    },
    {
     "name": "stderr",
     "output_type": "stream",
     "text": [
      "WARNING:absl:Found untraced functions such as activation_layer_call_fn, activation_layer_call_and_return_conditional_losses, activation_1_layer_call_fn, activation_1_layer_call_and_return_conditional_losses, activation_2_layer_call_fn while saving (showing 5 of 12). These functions will not be directly callable after loading.\n"
     ]
    },
    {
     "name": "stdout",
     "output_type": "stream",
     "text": [
      "INFO:tensorflow:Assets written to: C:\\Users\\ucesvpm\\OneDrive - University College London\\PhD Project\\Data Analytics\\Time Series Clustering\\Third Test\\Time-Series-PhD\\wandb\\run-20230227_154020-2kshngjd\\files\\model-best\\assets\n"
     ]
    },
    {
     "name": "stderr",
     "output_type": "stream",
     "text": [
      "INFO:tensorflow:Assets written to: C:\\Users\\ucesvpm\\OneDrive - University College London\\PhD Project\\Data Analytics\\Time Series Clustering\\Third Test\\Time-Series-PhD\\wandb\\run-20230227_154020-2kshngjd\\files\\model-best\\assets\n",
      "\u001b[34m\u001b[1mwandb\u001b[0m: Adding directory to artifact (C:\\Users\\ucesvpm\\OneDrive - University College London\\PhD Project\\Data Analytics\\Time Series Clustering\\Third Test\\Time-Series-PhD\\wandb\\run-20230227_154020-2kshngjd\\files\\model-best)... Done. 0.1s\n"
     ]
    },
    {
     "name": "stdout",
     "output_type": "stream",
     "text": [
      "1968/1968 [==============================] - 28s 14ms/step - loss: 0.2144 - mse: 0.2144 - val_loss: 0.2257 - val_mse: 0.2257 - lr: 0.0097\n",
      "Epoch 23/100\n",
      "1963/1968 [============================>.] - ETA: 0s - loss: 0.2127 - mse: 0.2127"
     ]
    },
    {
     "name": "stderr",
     "output_type": "stream",
     "text": [
      "WARNING:absl:Found untraced functions such as activation_layer_call_fn, activation_layer_call_and_return_conditional_losses, activation_1_layer_call_fn, activation_1_layer_call_and_return_conditional_losses, activation_2_layer_call_fn while saving (showing 5 of 12). These functions will not be directly callable after loading.\n"
     ]
    },
    {
     "name": "stdout",
     "output_type": "stream",
     "text": [
      "INFO:tensorflow:Assets written to: C:\\Users\\ucesvpm\\OneDrive - University College London\\PhD Project\\Data Analytics\\Time Series Clustering\\Third Test\\Time-Series-PhD\\wandb\\run-20230227_154020-2kshngjd\\files\\model-best\\assets\n"
     ]
    },
    {
     "name": "stderr",
     "output_type": "stream",
     "text": [
      "INFO:tensorflow:Assets written to: C:\\Users\\ucesvpm\\OneDrive - University College London\\PhD Project\\Data Analytics\\Time Series Clustering\\Third Test\\Time-Series-PhD\\wandb\\run-20230227_154020-2kshngjd\\files\\model-best\\assets\n",
      "\u001b[34m\u001b[1mwandb\u001b[0m: Adding directory to artifact (C:\\Users\\ucesvpm\\OneDrive - University College London\\PhD Project\\Data Analytics\\Time Series Clustering\\Third Test\\Time-Series-PhD\\wandb\\run-20230227_154020-2kshngjd\\files\\model-best)... Done. 0.2s\n"
     ]
    },
    {
     "name": "stdout",
     "output_type": "stream",
     "text": [
      "1968/1968 [==============================] - 24s 12ms/step - loss: 0.2126 - mse: 0.2126 - val_loss: 0.2245 - val_mse: 0.2245 - lr: 0.0097\n",
      "Epoch 24/100\n",
      "1963/1968 [============================>.] - ETA: 0s - loss: 0.2109 - mse: 0.2109"
     ]
    },
    {
     "name": "stderr",
     "output_type": "stream",
     "text": [
      "WARNING:absl:Found untraced functions such as activation_layer_call_fn, activation_layer_call_and_return_conditional_losses, activation_1_layer_call_fn, activation_1_layer_call_and_return_conditional_losses, activation_2_layer_call_fn while saving (showing 5 of 12). These functions will not be directly callable after loading.\n"
     ]
    },
    {
     "name": "stdout",
     "output_type": "stream",
     "text": [
      "INFO:tensorflow:Assets written to: C:\\Users\\ucesvpm\\OneDrive - University College London\\PhD Project\\Data Analytics\\Time Series Clustering\\Third Test\\Time-Series-PhD\\wandb\\run-20230227_154020-2kshngjd\\files\\model-best\\assets\n"
     ]
    },
    {
     "name": "stderr",
     "output_type": "stream",
     "text": [
      "INFO:tensorflow:Assets written to: C:\\Users\\ucesvpm\\OneDrive - University College London\\PhD Project\\Data Analytics\\Time Series Clustering\\Third Test\\Time-Series-PhD\\wandb\\run-20230227_154020-2kshngjd\\files\\model-best\\assets\n",
      "\u001b[34m\u001b[1mwandb\u001b[0m: Adding directory to artifact (C:\\Users\\ucesvpm\\OneDrive - University College London\\PhD Project\\Data Analytics\\Time Series Clustering\\Third Test\\Time-Series-PhD\\wandb\\run-20230227_154020-2kshngjd\\files\\model-best)... Done. 0.2s\n"
     ]
    },
    {
     "name": "stdout",
     "output_type": "stream",
     "text": [
      "1968/1968 [==============================] - 24s 12ms/step - loss: 0.2109 - mse: 0.2109 - val_loss: 0.2235 - val_mse: 0.2235 - lr: 0.0097\n",
      "Epoch 25/100\n",
      "1967/1968 [============================>.] - ETA: 0s - loss: 0.2092 - mse: 0.2092"
     ]
    },
    {
     "name": "stderr",
     "output_type": "stream",
     "text": [
      "WARNING:absl:Found untraced functions such as activation_layer_call_fn, activation_layer_call_and_return_conditional_losses, activation_1_layer_call_fn, activation_1_layer_call_and_return_conditional_losses, activation_2_layer_call_fn while saving (showing 5 of 12). These functions will not be directly callable after loading.\n"
     ]
    },
    {
     "name": "stdout",
     "output_type": "stream",
     "text": [
      "INFO:tensorflow:Assets written to: C:\\Users\\ucesvpm\\OneDrive - University College London\\PhD Project\\Data Analytics\\Time Series Clustering\\Third Test\\Time-Series-PhD\\wandb\\run-20230227_154020-2kshngjd\\files\\model-best\\assets\n"
     ]
    },
    {
     "name": "stderr",
     "output_type": "stream",
     "text": [
      "INFO:tensorflow:Assets written to: C:\\Users\\ucesvpm\\OneDrive - University College London\\PhD Project\\Data Analytics\\Time Series Clustering\\Third Test\\Time-Series-PhD\\wandb\\run-20230227_154020-2kshngjd\\files\\model-best\\assets\n",
      "\u001b[34m\u001b[1mwandb\u001b[0m: Adding directory to artifact (C:\\Users\\ucesvpm\\OneDrive - University College London\\PhD Project\\Data Analytics\\Time Series Clustering\\Third Test\\Time-Series-PhD\\wandb\\run-20230227_154020-2kshngjd\\files\\model-best)... Done. 0.2s\n"
     ]
    },
    {
     "name": "stdout",
     "output_type": "stream",
     "text": [
      "1968/1968 [==============================] - 23s 12ms/step - loss: 0.2093 - mse: 0.2093 - val_loss: 0.2219 - val_mse: 0.2219 - lr: 0.0097\n",
      "Epoch 26/100\n",
      "1965/1968 [============================>.] - ETA: 0s - loss: 0.2076 - mse: 0.2076"
     ]
    },
    {
     "name": "stderr",
     "output_type": "stream",
     "text": [
      "WARNING:absl:Found untraced functions such as activation_layer_call_fn, activation_layer_call_and_return_conditional_losses, activation_1_layer_call_fn, activation_1_layer_call_and_return_conditional_losses, activation_2_layer_call_fn while saving (showing 5 of 12). These functions will not be directly callable after loading.\n"
     ]
    },
    {
     "name": "stdout",
     "output_type": "stream",
     "text": [
      "INFO:tensorflow:Assets written to: C:\\Users\\ucesvpm\\OneDrive - University College London\\PhD Project\\Data Analytics\\Time Series Clustering\\Third Test\\Time-Series-PhD\\wandb\\run-20230227_154020-2kshngjd\\files\\model-best\\assets\n"
     ]
    },
    {
     "name": "stderr",
     "output_type": "stream",
     "text": [
      "INFO:tensorflow:Assets written to: C:\\Users\\ucesvpm\\OneDrive - University College London\\PhD Project\\Data Analytics\\Time Series Clustering\\Third Test\\Time-Series-PhD\\wandb\\run-20230227_154020-2kshngjd\\files\\model-best\\assets\n",
      "\u001b[34m\u001b[1mwandb\u001b[0m: Adding directory to artifact (C:\\Users\\ucesvpm\\OneDrive - University College London\\PhD Project\\Data Analytics\\Time Series Clustering\\Third Test\\Time-Series-PhD\\wandb\\run-20230227_154020-2kshngjd\\files\\model-best)... Done. 0.1s\n"
     ]
    },
    {
     "name": "stdout",
     "output_type": "stream",
     "text": [
      "1968/1968 [==============================] - 23s 12ms/step - loss: 0.2076 - mse: 0.2076 - val_loss: 0.2208 - val_mse: 0.2208 - lr: 0.0097\n",
      "Epoch 27/100\n",
      "1965/1968 [============================>.] - ETA: 0s - loss: 0.2060 - mse: 0.2060"
     ]
    },
    {
     "name": "stderr",
     "output_type": "stream",
     "text": [
      "WARNING:absl:Found untraced functions such as activation_layer_call_fn, activation_layer_call_and_return_conditional_losses, activation_1_layer_call_fn, activation_1_layer_call_and_return_conditional_losses, activation_2_layer_call_fn while saving (showing 5 of 12). These functions will not be directly callable after loading.\n"
     ]
    },
    {
     "name": "stdout",
     "output_type": "stream",
     "text": [
      "INFO:tensorflow:Assets written to: C:\\Users\\ucesvpm\\OneDrive - University College London\\PhD Project\\Data Analytics\\Time Series Clustering\\Third Test\\Time-Series-PhD\\wandb\\run-20230227_154020-2kshngjd\\files\\model-best\\assets\n"
     ]
    },
    {
     "name": "stderr",
     "output_type": "stream",
     "text": [
      "INFO:tensorflow:Assets written to: C:\\Users\\ucesvpm\\OneDrive - University College London\\PhD Project\\Data Analytics\\Time Series Clustering\\Third Test\\Time-Series-PhD\\wandb\\run-20230227_154020-2kshngjd\\files\\model-best\\assets\n",
      "\u001b[34m\u001b[1mwandb\u001b[0m: Adding directory to artifact (C:\\Users\\ucesvpm\\OneDrive - University College London\\PhD Project\\Data Analytics\\Time Series Clustering\\Third Test\\Time-Series-PhD\\wandb\\run-20230227_154020-2kshngjd\\files\\model-best)... Done. 0.4s\n"
     ]
    },
    {
     "name": "stdout",
     "output_type": "stream",
     "text": [
      "1968/1968 [==============================] - 26s 13ms/step - loss: 0.2060 - mse: 0.2060 - val_loss: 0.2190 - val_mse: 0.2190 - lr: 0.0097\n",
      "Epoch 28/100\n",
      "1967/1968 [============================>.] - ETA: 0s - loss: 0.2044 - mse: 0.2044"
     ]
    },
    {
     "name": "stderr",
     "output_type": "stream",
     "text": [
      "WARNING:absl:Found untraced functions such as activation_layer_call_fn, activation_layer_call_and_return_conditional_losses, activation_1_layer_call_fn, activation_1_layer_call_and_return_conditional_losses, activation_2_layer_call_fn while saving (showing 5 of 12). These functions will not be directly callable after loading.\n"
     ]
    },
    {
     "name": "stdout",
     "output_type": "stream",
     "text": [
      "INFO:tensorflow:Assets written to: C:\\Users\\ucesvpm\\OneDrive - University College London\\PhD Project\\Data Analytics\\Time Series Clustering\\Third Test\\Time-Series-PhD\\wandb\\run-20230227_154020-2kshngjd\\files\\model-best\\assets\n"
     ]
    },
    {
     "name": "stderr",
     "output_type": "stream",
     "text": [
      "INFO:tensorflow:Assets written to: C:\\Users\\ucesvpm\\OneDrive - University College London\\PhD Project\\Data Analytics\\Time Series Clustering\\Third Test\\Time-Series-PhD\\wandb\\run-20230227_154020-2kshngjd\\files\\model-best\\assets\n",
      "\u001b[34m\u001b[1mwandb\u001b[0m: Adding directory to artifact (C:\\Users\\ucesvpm\\OneDrive - University College London\\PhD Project\\Data Analytics\\Time Series Clustering\\Third Test\\Time-Series-PhD\\wandb\\run-20230227_154020-2kshngjd\\files\\model-best)... Done. 0.2s\n"
     ]
    },
    {
     "name": "stdout",
     "output_type": "stream",
     "text": [
      "1968/1968 [==============================] - 26s 13ms/step - loss: 0.2044 - mse: 0.2044 - val_loss: 0.2182 - val_mse: 0.2182 - lr: 0.0097\n",
      "Epoch 29/100\n",
      "1963/1968 [============================>.] - ETA: 0s - loss: 0.2027 - mse: 0.2027"
     ]
    },
    {
     "name": "stderr",
     "output_type": "stream",
     "text": [
      "WARNING:absl:Found untraced functions such as activation_layer_call_fn, activation_layer_call_and_return_conditional_losses, activation_1_layer_call_fn, activation_1_layer_call_and_return_conditional_losses, activation_2_layer_call_fn while saving (showing 5 of 12). These functions will not be directly callable after loading.\n"
     ]
    },
    {
     "name": "stdout",
     "output_type": "stream",
     "text": [
      "INFO:tensorflow:Assets written to: C:\\Users\\ucesvpm\\OneDrive - University College London\\PhD Project\\Data Analytics\\Time Series Clustering\\Third Test\\Time-Series-PhD\\wandb\\run-20230227_154020-2kshngjd\\files\\model-best\\assets\n"
     ]
    },
    {
     "name": "stderr",
     "output_type": "stream",
     "text": [
      "INFO:tensorflow:Assets written to: C:\\Users\\ucesvpm\\OneDrive - University College London\\PhD Project\\Data Analytics\\Time Series Clustering\\Third Test\\Time-Series-PhD\\wandb\\run-20230227_154020-2kshngjd\\files\\model-best\\assets\n",
      "\u001b[34m\u001b[1mwandb\u001b[0m: Adding directory to artifact (C:\\Users\\ucesvpm\\OneDrive - University College London\\PhD Project\\Data Analytics\\Time Series Clustering\\Third Test\\Time-Series-PhD\\wandb\\run-20230227_154020-2kshngjd\\files\\model-best)... Done. 0.2s\n"
     ]
    },
    {
     "name": "stdout",
     "output_type": "stream",
     "text": [
      "1968/1968 [==============================] - 26s 13ms/step - loss: 0.2028 - mse: 0.2028 - val_loss: 0.2169 - val_mse: 0.2169 - lr: 0.0097\n",
      "Epoch 30/100\n",
      "1967/1968 [============================>.] - ETA: 0s - loss: 0.2013 - mse: 0.2013"
     ]
    },
    {
     "name": "stderr",
     "output_type": "stream",
     "text": [
      "WARNING:absl:Found untraced functions such as activation_layer_call_fn, activation_layer_call_and_return_conditional_losses, activation_1_layer_call_fn, activation_1_layer_call_and_return_conditional_losses, activation_2_layer_call_fn while saving (showing 5 of 12). These functions will not be directly callable after loading.\n"
     ]
    },
    {
     "name": "stdout",
     "output_type": "stream",
     "text": [
      "INFO:tensorflow:Assets written to: C:\\Users\\ucesvpm\\OneDrive - University College London\\PhD Project\\Data Analytics\\Time Series Clustering\\Third Test\\Time-Series-PhD\\wandb\\run-20230227_154020-2kshngjd\\files\\model-best\\assets\n"
     ]
    },
    {
     "name": "stderr",
     "output_type": "stream",
     "text": [
      "INFO:tensorflow:Assets written to: C:\\Users\\ucesvpm\\OneDrive - University College London\\PhD Project\\Data Analytics\\Time Series Clustering\\Third Test\\Time-Series-PhD\\wandb\\run-20230227_154020-2kshngjd\\files\\model-best\\assets\n",
      "\u001b[34m\u001b[1mwandb\u001b[0m: Adding directory to artifact (C:\\Users\\ucesvpm\\OneDrive - University College London\\PhD Project\\Data Analytics\\Time Series Clustering\\Third Test\\Time-Series-PhD\\wandb\\run-20230227_154020-2kshngjd\\files\\model-best)... Done. 0.2s\n"
     ]
    },
    {
     "name": "stdout",
     "output_type": "stream",
     "text": [
      "1968/1968 [==============================] - 25s 13ms/step - loss: 0.2013 - mse: 0.2013 - val_loss: 0.2154 - val_mse: 0.2154 - lr: 0.0097\n",
      "Epoch 31/100\n",
      "1965/1968 [============================>.] - ETA: 0s - loss: 0.1626 - mse: 0.1626"
     ]
    },
    {
     "name": "stderr",
     "output_type": "stream",
     "text": [
      "WARNING:absl:Found untraced functions such as activation_layer_call_fn, activation_layer_call_and_return_conditional_losses, activation_1_layer_call_fn, activation_1_layer_call_and_return_conditional_losses, activation_2_layer_call_fn while saving (showing 5 of 12). These functions will not be directly callable after loading.\n"
     ]
    },
    {
     "name": "stdout",
     "output_type": "stream",
     "text": [
      "INFO:tensorflow:Assets written to: C:\\Users\\ucesvpm\\OneDrive - University College London\\PhD Project\\Data Analytics\\Time Series Clustering\\Third Test\\Time-Series-PhD\\wandb\\run-20230227_154020-2kshngjd\\files\\model-best\\assets\n"
     ]
    },
    {
     "name": "stderr",
     "output_type": "stream",
     "text": [
      "INFO:tensorflow:Assets written to: C:\\Users\\ucesvpm\\OneDrive - University College London\\PhD Project\\Data Analytics\\Time Series Clustering\\Third Test\\Time-Series-PhD\\wandb\\run-20230227_154020-2kshngjd\\files\\model-best\\assets\n",
      "\u001b[34m\u001b[1mwandb\u001b[0m: Adding directory to artifact (C:\\Users\\ucesvpm\\OneDrive - University College London\\PhD Project\\Data Analytics\\Time Series Clustering\\Third Test\\Time-Series-PhD\\wandb\\run-20230227_154020-2kshngjd\\files\\model-best)... Done. 0.1s\n"
     ]
    },
    {
     "name": "stdout",
     "output_type": "stream",
     "text": [
      "1968/1968 [==============================] - 30s 15ms/step - loss: 0.1626 - mse: 0.1626 - val_loss: 0.1889 - val_mse: 0.1889 - lr: 0.0097\n",
      "Epoch 69/100\n",
      "1968/1968 [==============================] - 28s 14ms/step - loss: 0.1619 - mse: 0.1619 - val_loss: 0.1890 - val_mse: 0.1890 - lr: 0.0097\n",
      "Epoch 70/100\n",
      "1966/1968 [============================>.] - ETA: 0s - loss: 0.1613 - mse: 0.1613"
     ]
    },
    {
     "name": "stderr",
     "output_type": "stream",
     "text": [
      "WARNING:absl:Found untraced functions such as activation_layer_call_fn, activation_layer_call_and_return_conditional_losses, activation_1_layer_call_fn, activation_1_layer_call_and_return_conditional_losses, activation_2_layer_call_fn while saving (showing 5 of 12). These functions will not be directly callable after loading.\n"
     ]
    },
    {
     "name": "stdout",
     "output_type": "stream",
     "text": [
      "INFO:tensorflow:Assets written to: C:\\Users\\ucesvpm\\OneDrive - University College London\\PhD Project\\Data Analytics\\Time Series Clustering\\Third Test\\Time-Series-PhD\\wandb\\run-20230227_154020-2kshngjd\\files\\model-best\\assets\n"
     ]
    },
    {
     "name": "stderr",
     "output_type": "stream",
     "text": [
      "INFO:tensorflow:Assets written to: C:\\Users\\ucesvpm\\OneDrive - University College London\\PhD Project\\Data Analytics\\Time Series Clustering\\Third Test\\Time-Series-PhD\\wandb\\run-20230227_154020-2kshngjd\\files\\model-best\\assets\n",
      "\u001b[34m\u001b[1mwandb\u001b[0m: Adding directory to artifact (C:\\Users\\ucesvpm\\OneDrive - University College London\\PhD Project\\Data Analytics\\Time Series Clustering\\Third Test\\Time-Series-PhD\\wandb\\run-20230227_154020-2kshngjd\\files\\model-best)... Done. 2.2s\n"
     ]
    },
    {
     "name": "stdout",
     "output_type": "stream",
     "text": [
      "1968/1968 [==============================] - 34s 17ms/step - loss: 0.1613 - mse: 0.1613 - val_loss: 0.1881 - val_mse: 0.1881 - lr: 0.0097\n",
      "Epoch 71/100\n",
      "1965/1968 [============================>.] - ETA: 0s - loss: 0.1583 - mse: 0.1583"
     ]
    },
    {
     "name": "stderr",
     "output_type": "stream",
     "text": [
      "WARNING:absl:Found untraced functions such as activation_layer_call_fn, activation_layer_call_and_return_conditional_losses, activation_1_layer_call_fn, activation_1_layer_call_and_return_conditional_losses, activation_2_layer_call_fn while saving (showing 5 of 12). These functions will not be directly callable after loading.\n"
     ]
    },
    {
     "name": "stdout",
     "output_type": "stream",
     "text": [
      "INFO:tensorflow:Assets written to: C:\\Users\\ucesvpm\\OneDrive - University College London\\PhD Project\\Data Analytics\\Time Series Clustering\\Third Test\\Time-Series-PhD\\wandb\\run-20230227_154020-2kshngjd\\files\\model-best\\assets\n"
     ]
    },
    {
     "name": "stderr",
     "output_type": "stream",
     "text": [
      "INFO:tensorflow:Assets written to: C:\\Users\\ucesvpm\\OneDrive - University College London\\PhD Project\\Data Analytics\\Time Series Clustering\\Third Test\\Time-Series-PhD\\wandb\\run-20230227_154020-2kshngjd\\files\\model-best\\assets\n",
      "\u001b[34m\u001b[1mwandb\u001b[0m: Adding directory to artifact (C:\\Users\\ucesvpm\\OneDrive - University College London\\PhD Project\\Data Analytics\\Time Series Clustering\\Third Test\\Time-Series-PhD\\wandb\\run-20230227_154020-2kshngjd\\files\\model-best)... Done. 0.2s\n"
     ]
    },
    {
     "name": "stdout",
     "output_type": "stream",
     "text": [
      "1968/1968 [==============================] - 24s 12ms/step - loss: 0.1583 - mse: 0.1583 - val_loss: 0.1862 - val_mse: 0.1862 - lr: 0.0097\n",
      "Epoch 76/100\n",
      "1968/1968 [==============================] - 21s 11ms/step - loss: 0.1577 - mse: 0.1577 - val_loss: 0.1872 - val_mse: 0.1872 - lr: 0.0097\n",
      "Epoch 77/100\n",
      "1968/1968 [==============================] - 22s 11ms/step - loss: 0.1448 - mse: 0.1448 - val_loss: 0.1808 - val_mse: 0.1808 - lr: 0.0048\n",
      "Epoch 90/100\n",
      "1965/1968 [============================>.] - ETA: 0s - loss: 0.1407 - mse: 0.1407"
     ]
    },
    {
     "name": "stderr",
     "output_type": "stream",
     "text": [
      "WARNING:absl:Found untraced functions such as activation_layer_call_fn, activation_layer_call_and_return_conditional_losses, activation_1_layer_call_fn, activation_1_layer_call_and_return_conditional_losses, activation_2_layer_call_fn while saving (showing 5 of 12). These functions will not be directly callable after loading.\n"
     ]
    },
    {
     "name": "stdout",
     "output_type": "stream",
     "text": [
      "INFO:tensorflow:Assets written to: C:\\Users\\ucesvpm\\OneDrive - University College London\\PhD Project\\Data Analytics\\Time Series Clustering\\Third Test\\Time-Series-PhD\\wandb\\run-20230227_154020-2kshngjd\\files\\model-best\\assets\n"
     ]
    },
    {
     "name": "stderr",
     "output_type": "stream",
     "text": [
      "INFO:tensorflow:Assets written to: C:\\Users\\ucesvpm\\OneDrive - University College London\\PhD Project\\Data Analytics\\Time Series Clustering\\Third Test\\Time-Series-PhD\\wandb\\run-20230227_154020-2kshngjd\\files\\model-best\\assets\n",
      "\u001b[34m\u001b[1mwandb\u001b[0m: Adding directory to artifact (C:\\Users\\ucesvpm\\OneDrive - University College London\\PhD Project\\Data Analytics\\Time Series Clustering\\Third Test\\Time-Series-PhD\\wandb\\run-20230227_154020-2kshngjd\\files\\model-best)... Done. 0.2s\n"
     ]
    },
    {
     "name": "stdout",
     "output_type": "stream",
     "text": [
      "1968/1968 [==============================] - 23s 12ms/step - loss: 0.1407 - mse: 0.1407 - val_loss: 0.1781 - val_mse: 0.1781 - lr: 0.0024\n",
      "Epoch 91/100\n",
      "1963/1968 [============================>.] - ETA: 0s - loss: 0.1403 - mse: 0.1403"
     ]
    },
    {
     "name": "stderr",
     "output_type": "stream",
     "text": [
      "WARNING:absl:Found untraced functions such as activation_layer_call_fn, activation_layer_call_and_return_conditional_losses, activation_1_layer_call_fn, activation_1_layer_call_and_return_conditional_losses, activation_2_layer_call_fn while saving (showing 5 of 12). These functions will not be directly callable after loading.\n"
     ]
    },
    {
     "name": "stdout",
     "output_type": "stream",
     "text": [
      "INFO:tensorflow:Assets written to: C:\\Users\\ucesvpm\\OneDrive - University College London\\PhD Project\\Data Analytics\\Time Series Clustering\\Third Test\\Time-Series-PhD\\wandb\\run-20230227_154020-2kshngjd\\files\\model-best\\assets\n"
     ]
    },
    {
     "name": "stderr",
     "output_type": "stream",
     "text": [
      "INFO:tensorflow:Assets written to: C:\\Users\\ucesvpm\\OneDrive - University College London\\PhD Project\\Data Analytics\\Time Series Clustering\\Third Test\\Time-Series-PhD\\wandb\\run-20230227_154020-2kshngjd\\files\\model-best\\assets\n",
      "\u001b[34m\u001b[1mwandb\u001b[0m: Adding directory to artifact (C:\\Users\\ucesvpm\\OneDrive - University College London\\PhD Project\\Data Analytics\\Time Series Clustering\\Third Test\\Time-Series-PhD\\wandb\\run-20230227_154020-2kshngjd\\files\\model-best)... Done. 0.2s\n"
     ]
    },
    {
     "name": "stdout",
     "output_type": "stream",
     "text": [
      "1968/1968 [==============================] - 24s 12ms/step - loss: 0.1403 - mse: 0.1403 - val_loss: 0.1780 - val_mse: 0.1780 - lr: 0.0024\n",
      "Epoch 92/100\n",
      "1968/1968 [==============================] - 22s 11ms/step - loss: 0.1401 - mse: 0.1401 - val_loss: 0.1781 - val_mse: 0.1781 - lr: 0.0024\n",
      "Epoch 93/100\n",
      "1968/1968 [==============================] - 20s 10ms/step - loss: 0.1399 - mse: 0.1399 - val_loss: 0.1783 - val_mse: 0.1783 - lr: 0.0024\n",
      "Epoch 94/100\n",
      "1968/1968 [==============================] - 21s 11ms/step - loss: 0.1397 - mse: 0.1397 - val_loss: 0.1785 - val_mse: 0.1785 - lr: 0.0024\n",
      "Epoch 95/100\n",
      "1968/1968 [==============================] - 20s 10ms/step - loss: 0.1396 - mse: 0.1396 - val_loss: 0.1782 - val_mse: 0.1782 - lr: 0.0024\n",
      "Epoch 96/100\n",
      "1964/1968 [============================>.] - ETA: 0s - loss: 0.1374 - mse: 0.1374"
     ]
    },
    {
     "name": "stderr",
     "output_type": "stream",
     "text": [
      "WARNING:absl:Found untraced functions such as activation_layer_call_fn, activation_layer_call_and_return_conditional_losses, activation_1_layer_call_fn, activation_1_layer_call_and_return_conditional_losses, activation_2_layer_call_fn while saving (showing 5 of 12). These functions will not be directly callable after loading.\n"
     ]
    },
    {
     "name": "stdout",
     "output_type": "stream",
     "text": [
      "INFO:tensorflow:Assets written to: C:\\Users\\ucesvpm\\OneDrive - University College London\\PhD Project\\Data Analytics\\Time Series Clustering\\Third Test\\Time-Series-PhD\\wandb\\run-20230227_154020-2kshngjd\\files\\model-best\\assets\n"
     ]
    },
    {
     "name": "stderr",
     "output_type": "stream",
     "text": [
      "INFO:tensorflow:Assets written to: C:\\Users\\ucesvpm\\OneDrive - University College London\\PhD Project\\Data Analytics\\Time Series Clustering\\Third Test\\Time-Series-PhD\\wandb\\run-20230227_154020-2kshngjd\\files\\model-best\\assets\n",
      "\u001b[34m\u001b[1mwandb\u001b[0m: Adding directory to artifact (C:\\Users\\ucesvpm\\OneDrive - University College London\\PhD Project\\Data Analytics\\Time Series Clustering\\Third Test\\Time-Series-PhD\\wandb\\run-20230227_154020-2kshngjd\\files\\model-best)... Done. 0.1s\n"
     ]
    },
    {
     "name": "stdout",
     "output_type": "stream",
     "text": [
      "1968/1968 [==============================] - 24s 12ms/step - loss: 0.1374 - mse: 0.1374 - val_loss: 0.1769 - val_mse: 0.1769 - lr: 0.0012\n",
      "Epoch 97/100\n",
      "1968/1968 [==============================] - 22s 11ms/step - loss: 0.1372 - mse: 0.1372 - val_loss: 0.1772 - val_mse: 0.1772 - lr: 0.0012\n",
      "Epoch 98/100\n",
      "1513/1968 [======================>.......] - ETA: 4s - loss: 0.1368 - mse: 0.1368"
     ]
    }
   ],
   "source": [
    "wandb.agent(sweep_id, function=sweep_train, count= sweep_count)"
   ]
  },
  {
   "cell_type": "code",
   "execution_count": null,
   "id": "432abfaa-0e16-401c-8c4b-26bed42d3854",
   "metadata": {
    "tags": []
   },
   "outputs": [],
   "source": [
    "wandb.finish()"
   ]
  },
  {
   "cell_type": "markdown",
   "id": "19ddc5f5-c6f0-4d3d-aecf-c2e4694bad51",
   "metadata": {},
   "source": [
    "---\n",
    "# Debugging"
   ]
  },
  {
   "cell_type": "code",
   "execution_count": null,
   "id": "0e9e9638-c54d-4a4b-9d1d-ceec3bdb41cb",
   "metadata": {},
   "outputs": [],
   "source": []
  }
 ],
 "metadata": {
  "kernelspec": {
   "display_name": "Python 3 (ipykernel)",
   "language": "python",
   "name": "python3"
  },
  "language_info": {
   "codemirror_mode": {
    "name": "ipython",
    "version": 3
   },
   "file_extension": ".py",
   "mimetype": "text/x-python",
   "name": "python",
   "nbconvert_exporter": "python",
   "pygments_lexer": "ipython3",
   "version": "3.9.15"
  }
 },
 "nbformat": 4,
 "nbformat_minor": 5
}
