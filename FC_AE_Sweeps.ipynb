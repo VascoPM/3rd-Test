{
 "cells": [
  {
   "cell_type": "markdown",
   "id": "799e2b5a-775a-49d6-98af-53d20db4394f",
   "metadata": {},
   "source": [
    "# Fully Connected Auto-Encoder wb Sweeps\n",
    "### $Time$ $Series$ $3rd$ $Test$\n",
    "\n",
    "$Vasco$ $Mergulhão$ $-$ $Jan$ $2023$\n",
    "\n",
    "### Version 1:\n",
    " - Applies Weights and Biases Sweeps on a given Sub-Sample.\n",
    " - Only uses FC-AE architectures"
   ]
  },
  {
   "cell_type": "markdown",
   "id": "14e09955-8b34-471f-9666-6be4c3d7d84b",
   "metadata": {
    "tags": []
   },
   "source": [
    "### ANN Configurations:"
   ]
  },
  {
   "cell_type": "markdown",
   "id": "7006642b-d7cf-492d-912c-7b3ba615f4df",
   "metadata": {
    "tags": []
   },
   "source": [
    "- #### Architecture(s)\n",
    "    - Fully Connected Auto Encoder\n",
    "        - Small (Input, 200, 200, Enconder)\n",
    "        - Medium (Input, 300, 300, 300, 300, Encoder)\n",
    "        - End2End [other papers orig ref] (Input, 500, 500, 2000, Encoder)\n",
    "    \n",
    "- #### Hyperparamenters\n",
    "    - Latent Space Size\n",
    "    - Batch Size\n",
    "        - Small test [2 - 32] and Large test [128 - 256]\n",
    "    - Learning Rate\n",
    "    - Learning Rate Scheduler\n",
    "        - Performance Schedulling\n",
    "    - Activation Functions\n",
    "        - SELU and Leaky ReLU\n",
    "    - Initializations\n",
    "        - LeCun and He (accordingly)\n",
    "    - Batch Normalization\n",
    "        - With/Without tests (note: if data is not z-scored, SELU not worth it, downgrade to ELU)\n",
    "    - Optimizers\n",
    "        - Nadam and SDG(momentum [0.9], Nesterov)\n",
    "    - Epochs\n",
    "        - 100 with Early Stopping\n",
    " "
   ]
  },
  {
   "cell_type": "markdown",
   "id": "6f1205a3-bfeb-40f8-9106-b3598695acb6",
   "metadata": {},
   "source": [
    "---\n",
    "# "
   ]
  },
  {
   "cell_type": "code",
   "execution_count": 1,
   "id": "f50a0cab-db27-40d4-be64-2087fe36b97b",
   "metadata": {},
   "outputs": [],
   "source": [
    "import os\n",
    "import random\n",
    "\n",
    "import pandas as pd\n",
    "import numpy as np\n",
    "import matplotlib.pyplot as plt\n",
    "from datetime import timedelta, date\n",
    "import time\n",
    "import datetime\n",
    "import scipy\n",
    "\n",
    "import tensorflow as tf\n",
    "from tensorflow.keras.models import Sequential\n",
    "from tensorflow.keras.layers import Dense, Input, LeakyReLU, Activation\n",
    "from tensorflow.keras.callbacks import LambdaCallback\n",
    "from tensorflow import keras\n",
    "\n",
    "import wandb\n",
    "from wandb.keras import WandbCallback\n",
    "\n",
    "from sklearn.model_selection import train_test_split"
   ]
  },
  {
   "cell_type": "markdown",
   "id": "c6c19390-b3cd-49c5-82dc-b0618be84be2",
   "metadata": {},
   "source": [
    "---\n",
    "# Script Variables"
   ]
  },
  {
   "cell_type": "code",
   "execution_count": 2,
   "id": "b3e07d23-de4a-4f84-8ce5-fcad4e8db1b3",
   "metadata": {},
   "outputs": [],
   "source": [
    "# Defines Dataset for the Sweep\n",
    "dataset_name = 'Kenya_10k_Set_1_w90'\n",
    "\n",
    "# Uses name to navigate folders\n",
    "dataset_folder = \"_\".join(dataset_name.split('_')[:-1]) #Takes out window length section\n",
    "dataset_location = f'../Data/{dataset_folder}/{dataset_name}.csv'\n",
    "\n",
    "# Zcore Data Decision\n",
    "zscore_data = True # Set to: [True/False]\n",
    "zscore_data_done = False # Always set to False. Ensures its not normalized multiple times\n",
    "\n",
    "# Model Name and Variables\n",
    "AE_Model_Name = 'FC_Medium' # Options: FC_Small, FC_Medium\n",
    "latent_layer_size = 10\n",
    "\n",
    "# Sweep Names and Configurations\n",
    "Project_Name = f'FC_AE-{dataset_name}'\n",
    "Sweep_Config = f'{AE_Model_Name}_v2'\n",
    "sweep_count = 6\n",
    "use_running_sweep_id = False # Set to: [True/False]\n",
    "running_sweep_id = 'ikwjt20r'\n"
   ]
  },
  {
   "cell_type": "code",
   "execution_count": 3,
   "id": "fe15b696-cd03-4bd7-a797-f8e276c060ee",
   "metadata": {},
   "outputs": [],
   "source": [
    "def window_col_names(dataset_name, win_prefix = 'd'):\n",
    "    # retriving window length\n",
    "    window_len = int(dataset_name.split('_')[-1][1:]) # Gets _wXX part of name, then skips 'w' to get the number.\n",
    "    # defining window column names\n",
    "    window_cols = [None]*window_len\n",
    "    for i  in range(window_len):\n",
    "        window_cols[i] = f'{win_prefix}' + str(i+1)\n",
    "        \n",
    "    return window_cols"
   ]
  },
  {
   "cell_type": "markdown",
   "id": "497e7f7a-21f0-4ec6-9f62-679309343302",
   "metadata": {},
   "source": [
    "---\n",
    "# Data Imports"
   ]
  },
  {
   "cell_type": "code",
   "execution_count": 4,
   "id": "aa08f090-20ce-4dad-a0fd-d45bc11be782",
   "metadata": {},
   "outputs": [],
   "source": [
    "Data = pd.read_csv(dataset_location)"
   ]
  },
  {
   "cell_type": "code",
   "execution_count": 5,
   "id": "454b1a56-50a5-4de5-910a-21d1a1a02a42",
   "metadata": {},
   "outputs": [
    {
     "data": {
      "text/html": [
       "<div>\n",
       "<style scoped>\n",
       "    .dataframe tbody tr th:only-of-type {\n",
       "        vertical-align: middle;\n",
       "    }\n",
       "\n",
       "    .dataframe tbody tr th {\n",
       "        vertical-align: top;\n",
       "    }\n",
       "\n",
       "    .dataframe thead th {\n",
       "        text-align: right;\n",
       "    }\n",
       "</style>\n",
       "<table border=\"1\" class=\"dataframe\">\n",
       "  <thead>\n",
       "    <tr style=\"text-align: right;\">\n",
       "      <th></th>\n",
       "      <th>short_ID</th>\n",
       "      <th>window_ID</th>\n",
       "      <th>window_start_date</th>\n",
       "      <th>d1</th>\n",
       "      <th>d2</th>\n",
       "      <th>d3</th>\n",
       "      <th>d4</th>\n",
       "      <th>d5</th>\n",
       "      <th>d6</th>\n",
       "      <th>d7</th>\n",
       "      <th>...</th>\n",
       "      <th>d81</th>\n",
       "      <th>d82</th>\n",
       "      <th>d83</th>\n",
       "      <th>d84</th>\n",
       "      <th>d85</th>\n",
       "      <th>d86</th>\n",
       "      <th>d87</th>\n",
       "      <th>d88</th>\n",
       "      <th>d89</th>\n",
       "      <th>d90</th>\n",
       "    </tr>\n",
       "  </thead>\n",
       "  <tbody>\n",
       "    <tr>\n",
       "      <th>0</th>\n",
       "      <td>347</td>\n",
       "      <td>0</td>\n",
       "      <td>2018-01-19</td>\n",
       "      <td>15.422222</td>\n",
       "      <td>14.422222</td>\n",
       "      <td>13.422222</td>\n",
       "      <td>12.422222</td>\n",
       "      <td>11.422222</td>\n",
       "      <td>10.422222</td>\n",
       "      <td>9.422222</td>\n",
       "      <td>...</td>\n",
       "      <td>8.696088</td>\n",
       "      <td>6.709653</td>\n",
       "      <td>6.696088</td>\n",
       "      <td>5.696088</td>\n",
       "      <td>3.730243</td>\n",
       "      <td>3.696088</td>\n",
       "      <td>1.740706</td>\n",
       "      <td>0.744016</td>\n",
       "      <td>-7.000000</td>\n",
       "      <td>-7.000000</td>\n",
       "    </tr>\n",
       "    <tr>\n",
       "      <th>1</th>\n",
       "      <td>347</td>\n",
       "      <td>1</td>\n",
       "      <td>2018-04-19</td>\n",
       "      <td>6.475880</td>\n",
       "      <td>4.490544</td>\n",
       "      <td>4.475880</td>\n",
       "      <td>3.475880</td>\n",
       "      <td>2.475880</td>\n",
       "      <td>1.475880</td>\n",
       "      <td>-7.000000</td>\n",
       "      <td>...</td>\n",
       "      <td>-7.000000</td>\n",
       "      <td>-7.000000</td>\n",
       "      <td>-7.000000</td>\n",
       "      <td>-7.000000</td>\n",
       "      <td>-7.000000</td>\n",
       "      <td>-7.000000</td>\n",
       "      <td>-7.000000</td>\n",
       "      <td>6.634468</td>\n",
       "      <td>5.634468</td>\n",
       "      <td>4.634468</td>\n",
       "    </tr>\n",
       "    <tr>\n",
       "      <th>2</th>\n",
       "      <td>347</td>\n",
       "      <td>2</td>\n",
       "      <td>2018-07-18</td>\n",
       "      <td>3.634468</td>\n",
       "      <td>2.634468</td>\n",
       "      <td>1.634468</td>\n",
       "      <td>3.634468</td>\n",
       "      <td>2.634468</td>\n",
       "      <td>1.634468</td>\n",
       "      <td>0.634468</td>\n",
       "      <td>...</td>\n",
       "      <td>4.762303</td>\n",
       "      <td>3.762303</td>\n",
       "      <td>2.762303</td>\n",
       "      <td>1.762303</td>\n",
       "      <td>0.762303</td>\n",
       "      <td>5.762303</td>\n",
       "      <td>4.762303</td>\n",
       "      <td>3.762303</td>\n",
       "      <td>2.762303</td>\n",
       "      <td>1.762303</td>\n",
       "    </tr>\n",
       "    <tr>\n",
       "      <th>3</th>\n",
       "      <td>347</td>\n",
       "      <td>3</td>\n",
       "      <td>2018-10-16</td>\n",
       "      <td>0.762303</td>\n",
       "      <td>1.762303</td>\n",
       "      <td>0.762303</td>\n",
       "      <td>2.762303</td>\n",
       "      <td>1.762303</td>\n",
       "      <td>1.762303</td>\n",
       "      <td>0.762303</td>\n",
       "      <td>...</td>\n",
       "      <td>3.553345</td>\n",
       "      <td>2.553345</td>\n",
       "      <td>1.553345</td>\n",
       "      <td>0.553345</td>\n",
       "      <td>-7.000000</td>\n",
       "      <td>6.646019</td>\n",
       "      <td>5.646019</td>\n",
       "      <td>4.646019</td>\n",
       "      <td>3.646019</td>\n",
       "      <td>2.646019</td>\n",
       "    </tr>\n",
       "    <tr>\n",
       "      <th>4</th>\n",
       "      <td>347</td>\n",
       "      <td>4</td>\n",
       "      <td>2019-01-14</td>\n",
       "      <td>1.646019</td>\n",
       "      <td>0.646019</td>\n",
       "      <td>2.646019</td>\n",
       "      <td>1.646019</td>\n",
       "      <td>0.646019</td>\n",
       "      <td>2.646019</td>\n",
       "      <td>1.646019</td>\n",
       "      <td>...</td>\n",
       "      <td>0.613681</td>\n",
       "      <td>2.613681</td>\n",
       "      <td>1.613681</td>\n",
       "      <td>1.613681</td>\n",
       "      <td>0.613681</td>\n",
       "      <td>1.613681</td>\n",
       "      <td>2.613681</td>\n",
       "      <td>1.613681</td>\n",
       "      <td>1.613681</td>\n",
       "      <td>0.613681</td>\n",
       "    </tr>\n",
       "  </tbody>\n",
       "</table>\n",
       "<p>5 rows × 93 columns</p>\n",
       "</div>"
      ],
      "text/plain": [
       "   short_ID  window_ID window_start_date         d1         d2         d3  \\\n",
       "0       347          0        2018-01-19  15.422222  14.422222  13.422222   \n",
       "1       347          1        2018-04-19   6.475880   4.490544   4.475880   \n",
       "2       347          2        2018-07-18   3.634468   2.634468   1.634468   \n",
       "3       347          3        2018-10-16   0.762303   1.762303   0.762303   \n",
       "4       347          4        2019-01-14   1.646019   0.646019   2.646019   \n",
       "\n",
       "          d4         d5         d6        d7  ...       d81       d82  \\\n",
       "0  12.422222  11.422222  10.422222  9.422222  ...  8.696088  6.709653   \n",
       "1   3.475880   2.475880   1.475880 -7.000000  ... -7.000000 -7.000000   \n",
       "2   3.634468   2.634468   1.634468  0.634468  ...  4.762303  3.762303   \n",
       "3   2.762303   1.762303   1.762303  0.762303  ...  3.553345  2.553345   \n",
       "4   1.646019   0.646019   2.646019  1.646019  ...  0.613681  2.613681   \n",
       "\n",
       "        d83       d84       d85       d86       d87       d88       d89  \\\n",
       "0  6.696088  5.696088  3.730243  3.696088  1.740706  0.744016 -7.000000   \n",
       "1 -7.000000 -7.000000 -7.000000 -7.000000 -7.000000  6.634468  5.634468   \n",
       "2  2.762303  1.762303  0.762303  5.762303  4.762303  3.762303  2.762303   \n",
       "3  1.553345  0.553345 -7.000000  6.646019  5.646019  4.646019  3.646019   \n",
       "4  1.613681  1.613681  0.613681  1.613681  2.613681  1.613681  1.613681   \n",
       "\n",
       "        d90  \n",
       "0 -7.000000  \n",
       "1  4.634468  \n",
       "2  1.762303  \n",
       "3  2.646019  \n",
       "4  0.613681  \n",
       "\n",
       "[5 rows x 93 columns]"
      ]
     },
     "execution_count": 5,
     "metadata": {},
     "output_type": "execute_result"
    }
   ],
   "source": [
    "Data.head()"
   ]
  },
  {
   "cell_type": "markdown",
   "id": "d820e9e9-9ffd-4180-be09-cb39525f933b",
   "metadata": {},
   "source": [
    "---\n",
    "# Z-Scoring Data"
   ]
  },
  {
   "cell_type": "markdown",
   "id": "5f716844-a03b-4118-a9bf-dd3605c75bed",
   "metadata": {},
   "source": [
    "This is done on a row-by-row basis.<br>\n",
    "Meaning, each window is normalized to its own Mean and Std."
   ]
  },
  {
   "cell_type": "code",
   "execution_count": 6,
   "id": "bec3cd0f-131b-4936-8093-3560828065c1",
   "metadata": {},
   "outputs": [],
   "source": [
    "def Zscore (df_in, all_neg_replace = -1):\n",
    "    # retriving sets of columns\n",
    "    window_cols = window_col_names(dataset_name)        \n",
    "    cols = df_in.columns.to_list()\n",
    "    other_cols = list(set(cols) - set(window_cols))\n",
    "    \n",
    "    # Zscore can't handle constant (flat) inputs\n",
    "    # Therefore windows with all negative credit output NaNs\n",
    "    # Instead these are excluded from zcoring and are manually scaled\n",
    "    # Default scalling is  -7 => -1\n",
    "    all_neg_replace = float(all_neg_replace)\n",
    "    all_neg_index = df_in[(df_in[window_cols] == float(-7)).all(axis=1)].index\n",
    "    positive_index = list(set(df_in.index.to_list()) - set(all_neg_index))\n",
    "    \n",
    "    if len(all_neg_index.to_list()) > 0:\n",
    "        # Aux DF for replacing -7 with all_neg_replace (i.e, -1)\n",
    "        df_allneg = df_in.iloc[all_neg_index].copy()\n",
    "        df_allneg.loc[:, window_cols] = all_neg_replace\n",
    "\n",
    "        # Zscoring only non-constant rows\n",
    "        df_positive = df_in.iloc[positive_index].copy()    \n",
    "        df_positive[window_cols] = scipy.stats.zscore(df_positive[window_cols],\n",
    "                                                         axis=1,\n",
    "                                                         nan_policy = 'omit')\n",
    "\n",
    "        df_zscore = pd.concat([df_positive, df_allneg])\n",
    "        df_zscore.sort_values(by=['short_ID', 'window_ID'], inplace = True)\n",
    "\n",
    "        # If indeces match, then the join was successful\n",
    "        if df_zscore.index.to_list() == df_in.index.to_list():\n",
    "            return df_zscore\n",
    "        # Otherwise raise error\n",
    "        else:\n",
    "            print('Error Zscoring')\n",
    "    else:\n",
    "        df_zscore = pd.DataFrame(columns= cols)\n",
    "        df_zscore[window_cols] = scipy.stats.zscore(df_in[window_cols],\n",
    "                                                         axis=1,\n",
    "                                                         nan_policy = 'omit')\n",
    "        df_zscore[other_cols] = df_in[other_cols]\n",
    "        \n",
    "\n",
    "    return df_zscore"
   ]
  },
  {
   "cell_type": "code",
   "execution_count": 7,
   "id": "26abf739-b1f7-47cb-8a4e-c0a8e3a091e9",
   "metadata": {},
   "outputs": [
    {
     "name": "stdout",
     "output_type": "stream",
     "text": [
      "Data WAS Zscored\n"
     ]
    }
   ],
   "source": [
    "if zscore_data == True and zscore_data_done == False:\n",
    "    Data = Zscore(Data)\n",
    "    zscore_data_done = True\n",
    "    print('Data WAS Zscored')\n",
    "    \n",
    "elif zscore_data == True and zscore_data_done == True:\n",
    "    print('Already WAS Zscored')\n",
    "    \n",
    "elif zscore_data == False:\n",
    "    print('Data NOT Zscored')\n",
    "    \n",
    "else:\n",
    "    print('Error')"
   ]
  },
  {
   "cell_type": "markdown",
   "id": "ad4715eb-fd23-4b2b-a649-0dbb93dac42b",
   "metadata": {},
   "source": [
    "---\n",
    "# NaN Checks and Policy"
   ]
  },
  {
   "cell_type": "code",
   "execution_count": 8,
   "id": "604ef535-f512-482f-b7ac-d9a5618293d2",
   "metadata": {},
   "outputs": [],
   "source": [
    "def NaN_policy (df, method_fullrows = 'ffill', method_sparserows = 'ffill'):\n",
    "    # This functions checks and corrects NaNs.\n",
    "    # It has redundancy built into it to double check for NaNs.\n",
    "    # And allows for different policies for sparse NaN values and rows full of NaNs.\n",
    "    \n",
    "    df = df.copy(deep=True)\n",
    "    window_cols = window_col_names(dataset_name)\n",
    "        \n",
    "    if df[window_cols].isna().any().any():\n",
    "        print('NaN values detected.')\n",
    "        \n",
    "        nan_exist = True\n",
    "        i = 0   \n",
    "        while nan_exist:\n",
    "            \n",
    "            # Makes sure the policy only iterates with one redundant round.\n",
    "            if i >= 2:\n",
    "                print('NaN Policy Failed')\n",
    "                break            \n",
    "\n",
    "            #Checking if there are rows with only NaNs\n",
    "            if df[window_cols].isna().all(axis=1).any():\n",
    "                n_nan_rows = len(df[df[window_cols].isna().all(axis=1)])\n",
    "                print(f'There are {n_nan_rows} rows of all NaN values.')\n",
    "\n",
    "                #Correcting only NaN rows \n",
    "                df.fillna(method= method_fullrows, axis = 0, inplace = True)\n",
    "                if ~ df[window_cols].isna().all(axis=1).any():\n",
    "                    print(f'Rows of NaN corrected')\n",
    "                    if ~ df[window_cols].isna().any().any():\n",
    "                        nan_exist = False\n",
    "                        print(f'NaNs no longer detected.')\n",
    "            \n",
    "            #Checking if there are rows with any NaNs in them\n",
    "            if df[window_cols].isna().any(axis=1).any():\n",
    "                n_nan_rows = len(df[window_cols].isna().any(axis=1))\n",
    "                print(f'There are {n_nan_rows} rows with some NaN values.')\n",
    "                \n",
    "                # Correcting NaN inside rows \n",
    "                df.fillna(method= method_sparserows, axis = 1, inplace = True)\n",
    "                if ~ df[window_cols].isna().any(axis=1).any():\n",
    "                    print(f'Rows with some NaN were corrected')\n",
    "                    if ~ df[window_cols].isna().any().any():\n",
    "                        nan_exist = False\n",
    "                        print(f'NaNs no longer detected.')\n",
    "\n",
    "            i += 1\n",
    "            \n",
    "\n",
    "    else:\n",
    "        print('No NaNs detected')\n",
    "        \n",
    "    return df"
   ]
  },
  {
   "cell_type": "code",
   "execution_count": 9,
   "id": "cab94776-f23c-4f78-828e-9d9f95856d6e",
   "metadata": {},
   "outputs": [
    {
     "name": "stdout",
     "output_type": "stream",
     "text": [
      "NaN values detected.\n",
      "There are 22 rows of all NaN values.\n",
      "Rows of NaN corrected\n",
      "NaNs no longer detected.\n"
     ]
    }
   ],
   "source": [
    "Data = NaN_policy(Data)"
   ]
  },
  {
   "cell_type": "markdown",
   "id": "9f32c5ba-c5cd-429f-83b1-04802f37c7aa",
   "metadata": {},
   "source": [
    "---\n",
    "# Train-Test Split"
   ]
  },
  {
   "cell_type": "code",
   "execution_count": 10,
   "id": "d11e337e-ea76-4f36-8103-84be3dda4ed8",
   "metadata": {},
   "outputs": [],
   "source": [
    "window_cols = window_col_names(dataset_name)\n",
    "data_array = Data[window_cols].to_numpy()"
   ]
  },
  {
   "cell_type": "code",
   "execution_count": 11,
   "id": "9fe373fa-c589-484a-979f-7bb8f0a2674f",
   "metadata": {},
   "outputs": [],
   "source": [
    "x_train, x_test = train_test_split(data_array, test_size=0.2, random_state=42)"
   ]
  },
  {
   "cell_type": "markdown",
   "id": "e72bc06f-26b7-4bc1-9200-b5a7b65a8e1e",
   "metadata": {
    "tags": []
   },
   "source": [
    "---\n",
    "# WandB Sweep Config\n",
    "https://github.com/wandb/examples/blob/master/colabs/keras/Keras_param_opti_using_sweeps.ipynb\n"
   ]
  },
  {
   "cell_type": "code",
   "execution_count": 12,
   "id": "f2e3e110-cecc-4b2e-ad62-a72a0932aa42",
   "metadata": {},
   "outputs": [
    {
     "name": "stderr",
     "output_type": "stream",
     "text": [
      "\u001b[34m\u001b[1mwandb\u001b[0m: Currently logged in as: \u001b[33mvasco-mergulhao\u001b[0m (\u001b[33mvasco-phd\u001b[0m). Use \u001b[1m`wandb login --relogin`\u001b[0m to force relogin\n"
     ]
    },
    {
     "data": {
      "text/plain": [
       "True"
      ]
     },
     "execution_count": 12,
     "metadata": {},
     "output_type": "execute_result"
    }
   ],
   "source": [
    "wandb.login()"
   ]
  },
  {
   "cell_type": "markdown",
   "id": "ba57bc94-c803-41bc-a1a8-c8b3be884590",
   "metadata": {},
   "source": [
    "---\n",
    "---\n",
    "# Model & Sweep Configurations"
   ]
  },
  {
   "cell_type": "markdown",
   "id": "f36d8021-e521-447d-addb-21d8d35727b0",
   "metadata": {},
   "source": [
    "## Generic Training Functions"
   ]
  },
  {
   "cell_type": "code",
   "execution_count": 13,
   "id": "1f342333-502d-4d47-b4c9-dec9e4901246",
   "metadata": {},
   "outputs": [],
   "source": [
    "def get_initialization (activation_fn = 'SELU'):\n",
    "    # Select right initialization for respective activation function between SELU and LeakyReLU\n",
    "    if activation_fn.lower() == \"selu\":\n",
    "        return 'lecun_normal'\n",
    "    if activation_fn.lower() == \"leakyrelu\":\n",
    "        return 'he_normal'"
   ]
  },
  {
   "cell_type": "code",
   "execution_count": 14,
   "id": "cfdd6e5c-b329-4a02-9d10-72f568141656",
   "metadata": {},
   "outputs": [],
   "source": [
    "def get_activation_fn (activation_fn = 'SELU'):\n",
    "    # Select right initialization for respective activation function between SELU and LeakyReLU\n",
    "    if activation_fn.lower() == \"selu\":\n",
    "        return Activation('selu')\n",
    "    if activation_fn.lower() == \"leakyrelu\":\n",
    "        return LeakyReLU(alpha=0.2)"
   ]
  },
  {
   "cell_type": "code",
   "execution_count": 15,
   "id": "025ad319-1962-4e46-91a9-daa10e338c08",
   "metadata": {},
   "outputs": [],
   "source": [
    "def get_optimizer(lr=0.0001, optimizer=\"nadam\"):\n",
    "    # Select optmizer between adam and sgd\n",
    "    if optimizer.lower() == \"nadam\":\n",
    "        return tf.keras.optimizers.Nadam(learning_rate=lr, beta_1=0.9, beta_2=0.999)\n",
    "    if optimizer.lower() == \"sgd\":\n",
    "        return tf.keras.optimizers.SGD(learning_rate=lr, momentum=0.9, nesterov=True)"
   ]
  },
  {
   "cell_type": "code",
   "execution_count": 16,
   "id": "596c3d61-c6f1-42a8-847f-a81cc5e73e47",
   "metadata": {},
   "outputs": [],
   "source": [
    "def train(model, batch_size= 32, epochs= 100, lr=0.001, optimizer='nadam'):  \n",
    "    \n",
    "    tf.keras.backend.clear_session()\n",
    "    model.compile(loss=\"mse\", \n",
    "                  optimizer=get_optimizer(lr, optimizer), \n",
    "                  metrics=[\"mse\"])\n",
    "\n",
    "    early_stopping_cb = tf.keras.callbacks.EarlyStopping(patience=10, restore_best_weights=True)\n",
    "    lr_scheduler_cb = keras.callbacks.ReduceLROnPlateau(factor=0.5, patience=5)\n",
    "\n",
    "    model.fit(x_train, \n",
    "              x_train, \n",
    "              batch_size=batch_size, \n",
    "              epochs=epochs, \n",
    "              validation_data=(x_test, x_test), \n",
    "              callbacks=[WandbCallback(), early_stopping_cb, lr_scheduler_cb])\n",
    "    \n",
    "    "
   ]
  },
  {
   "cell_type": "code",
   "execution_count": 17,
   "id": "77e4713a-6b32-4bc1-8afd-4f93c9bd73a3",
   "metadata": {},
   "outputs": [],
   "source": [
    "def sweep_train(config_defaults=None):\n",
    "    # Initialize wandb with a sample project name\n",
    "    with wandb.init(config=config_defaults):  # this gets over-written in the Sweep\n",
    "\n",
    "        # Specify the other hyperparameters to the configuration\n",
    "        wandb.config.architecture_name = AE_Model_Name\n",
    "        wandb.config.dataset_name = dataset_name\n",
    "\n",
    "        # initialize model\n",
    "        if AE_Model_Name == 'FC_Small':\n",
    "            AE_model = Small_AE(wandb.config.window_length,\n",
    "                            wandb.config.latent_layer_size,\n",
    "                            wandb.config.activation_fn)\n",
    "        if AE_Model_Name == 'FC_Medium':\n",
    "            AE_model = Medium_AE(wandb.config.window_length,\n",
    "                            wandb.config.latent_layer_size,\n",
    "                            wandb.config.activation_fn)\n",
    "\n",
    "        train(AE_model, \n",
    "              wandb.config.batch_size, \n",
    "              wandb.config.epochs,\n",
    "              wandb.config.learning_rate,\n",
    "              wandb.config.optimizer)\n",
    "        \n"
   ]
  },
  {
   "cell_type": "markdown",
   "id": "e34188b9-3983-439e-b1ea-8929a5f0b6b8",
   "metadata": {
    "tags": []
   },
   "source": [
    "## FC_Small\n",
    "- (Input, 200, 200, Enconder)"
   ]
  },
  {
   "cell_type": "markdown",
   "id": "6a63ead0-4dc6-4265-aeaf-f6983bb85f77",
   "metadata": {},
   "source": [
    "### Sweep Configuration"
   ]
  },
  {
   "cell_type": "code",
   "execution_count": 18,
   "id": "ce7cfdf2-4a03-44a5-9640-018ee011075f",
   "metadata": {},
   "outputs": [
    {
     "name": "stdout",
     "output_type": "stream",
     "text": [
      "NOT Active\n"
     ]
    }
   ],
   "source": [
    "if AE_Model_Name == 'FC_Small':\n",
    "    \n",
    "    sweep_config = {\n",
    "    'method': 'random',\n",
    "    'name': Sweep_Config,\n",
    "    }\n",
    "    \n",
    "    metric = {\n",
    "    'name': 'mse',\n",
    "    'goal': 'minimize'\n",
    "    }\n",
    "    sweep_config['metric'] = metric\n",
    "    \n",
    "    parameters_dict = {\n",
    "        'optimizer': {\n",
    "            'values': ['nadam', 'sgd']\n",
    "        },\n",
    "        'latent_layer_size': {\n",
    "            'value': latent_layer_size #previous [values: [5, 10, 25]\n",
    "        },\n",
    "        'epochs':{\n",
    "            'value': 100\n",
    "        },\n",
    "        'window_length':{\n",
    "            'value': int(dataset_name.split('_')[-1][1:])\n",
    "        },\n",
    "        'activation_fn':{\n",
    "            'values': ['SELU','LeakyReLU']\n",
    "        }\n",
    "    }\n",
    "    sweep_config['parameters'] = parameters_dict\n",
    "    \n",
    "    parameters_dict.update({\n",
    "        'learning_rate': {\n",
    "            # a flat distribution between 0 and 0.1\n",
    "            'distribution': 'log_uniform_values',\n",
    "            'min': 0.001,\n",
    "            'max': 0.1,\n",
    "          },\n",
    "        'batch_size': {\n",
    "            # integers between 2 and 256\n",
    "            # with evenly-distributed logarithms \n",
    "            'distribution': 'q_log_uniform_values',\n",
    "            'q': 2,\n",
    "            'min': 2,\n",
    "            'max': 256,\n",
    "          }\n",
    "        })\n",
    "    print('Code Used')\n",
    "else:\n",
    "    print('NOT Active')"
   ]
  },
  {
   "cell_type": "markdown",
   "id": "f449e26d-42a9-4b10-86d0-2a2fb63ee390",
   "metadata": {},
   "source": [
    "### _Model_: FC_Small"
   ]
  },
  {
   "cell_type": "code",
   "execution_count": 19,
   "id": "7cc65c45-3dc7-405a-a6e0-d6128c122369",
   "metadata": {},
   "outputs": [],
   "source": [
    "def Small_AE(window_length = 90, latent_layer_size = 5, activation_fn = 'SELU'):\n",
    "    \n",
    "    inputs = Input(shape= window_length)\n",
    "    \n",
    "    layer_e1 = Dense(200, activation = get_activation_fn(activation_fn),\n",
    "                     kernel_initializer=get_initialization(activation_fn))(inputs)\n",
    "    \n",
    "    layer_e2 = Dense(200, activation = get_activation_fn(activation_fn),\n",
    "                     kernel_initializer=get_initialization(activation_fn))(layer_e1)\n",
    "    #Latent Space (no activation)\n",
    "    encoded = Dense(latent_layer_size)(layer_e2)\n",
    "       \n",
    "    layer_d1 = Dense(200, activation = get_activation_fn(activation_fn),\n",
    "                     kernel_initializer=get_initialization(activation_fn))(encoded)\n",
    "    \n",
    "    layer_d2 = Dense(200, activation = get_activation_fn(activation_fn),\n",
    "                     kernel_initializer=get_initialization(activation_fn))(layer_d1)\n",
    "    \n",
    "    decoded = Dense(window_length)(layer_d2)\n",
    "       \n",
    "    autoencoder = keras.models.Model(inputs=inputs, outputs = decoded)\n",
    "    \n",
    "    return autoencoder   "
   ]
  },
  {
   "cell_type": "code",
   "execution_count": 20,
   "id": "a1127cac-d620-4cb3-a215-9ad3783dfcd8",
   "metadata": {},
   "outputs": [
    {
     "name": "stdout",
     "output_type": "stream",
     "text": [
      "NOT Active\n"
     ]
    }
   ],
   "source": [
    "if AE_Model_Name == 'FC_Small':\n",
    "    AE_model = Small_AE(latent_layer_size = latent_layer_size)\n",
    "    AE_model.summary()\n",
    "    print('Code Used')\n",
    "else:\n",
    "    print('NOT Active')    "
   ]
  },
  {
   "cell_type": "markdown",
   "id": "9b794a12-d1c9-4431-9617-9c657459ca34",
   "metadata": {
    "tags": []
   },
   "source": [
    "---\n",
    "## FC_Medium\n",
    "-  (Input, 300, 300, 300, 300, Encoder)"
   ]
  },
  {
   "cell_type": "markdown",
   "id": "bba8fca6-fa8a-46ad-9ab0-e6c8e1056c3d",
   "metadata": {},
   "source": [
    "### Sweep Configuration"
   ]
  },
  {
   "cell_type": "code",
   "execution_count": 21,
   "id": "a55d409b-eedc-4fac-ab0f-49b728ee60b4",
   "metadata": {},
   "outputs": [
    {
     "name": "stdout",
     "output_type": "stream",
     "text": [
      "Code Used\n"
     ]
    }
   ],
   "source": [
    "if AE_Model_Name == 'FC_Medium':\n",
    "    \n",
    "    sweep_config = {\n",
    "    'method': 'random',\n",
    "    'name': Sweep_Config,\n",
    "    }\n",
    "    \n",
    "    metric = {\n",
    "    'name': 'mse',\n",
    "    'goal': 'minimize'\n",
    "    }\n",
    "    sweep_config['metric'] = metric\n",
    "\n",
    "    parameters_dict = {\n",
    "        'optimizer': {\n",
    "            'values': ['nadam', 'sgd']\n",
    "        },\n",
    "        'latent_layer_size': {\n",
    "            'value': latent_layer_size #previous [values: [5, 10, 25]\n",
    "        },\n",
    "        'epochs':{\n",
    "            'value': 100\n",
    "        },\n",
    "        'window_length':{\n",
    "            'value': int(dataset_name.split('_')[-1][1:])\n",
    "        },\n",
    "        'activation_fn':{\n",
    "            'values': ['SELU','LeakyReLU']\n",
    "        }\n",
    "    }\n",
    "    sweep_config['parameters'] = parameters_dict\n",
    "    \n",
    "    parameters_dict.update({\n",
    "        'learning_rate': {\n",
    "            # a flat distribution between 0 and 0.1\n",
    "            'distribution': 'log_uniform_values',\n",
    "            'min': 0.00001, #v_1 = 0.001\n",
    "            'max': 0.001, #v_1 = 0.1\n",
    "          },\n",
    "        'batch_size': {\n",
    "            # integers between 2 and 256\n",
    "            # with evenly-distributed logarithms \n",
    "            'distribution': 'q_log_uniform_values',\n",
    "            'q': 2,\n",
    "            'min': 20, #v_1 = 2\n",
    "            'max': 256,\n",
    "          }\n",
    "        })\n",
    "    print('Code Used')\n",
    "else:\n",
    "    print('NOT Active')"
   ]
  },
  {
   "cell_type": "markdown",
   "id": "3da4a35b-57b6-4790-b425-61225df17e55",
   "metadata": {},
   "source": [
    "### _Model_: FC_Medium"
   ]
  },
  {
   "cell_type": "code",
   "execution_count": 22,
   "id": "4aa7b91c-5bfe-472b-b74e-80be8a00e6e4",
   "metadata": {},
   "outputs": [],
   "source": [
    "def Medium_AE(window_length = 90, latent_layer_size = 5, activation_fn = 'SELU'):\n",
    "    \n",
    "    inputs = Input(shape= window_length)\n",
    "    \n",
    "    layer_e1 = Dense(300, activation = get_activation_fn(activation_fn),\n",
    "                     kernel_initializer=get_initialization(activation_fn))(inputs)    \n",
    "    layer_e2 = Dense(300, activation = get_activation_fn(activation_fn),\n",
    "                     kernel_initializer=get_initialization(activation_fn))(layer_e1)    \n",
    "    layer_e3 = Dense(300, activation = get_activation_fn(activation_fn),\n",
    "                     kernel_initializer=get_initialization(activation_fn))(layer_e2)    \n",
    "    layer_e4 = Dense(300, activation = get_activation_fn(activation_fn),\n",
    "                     kernel_initializer=get_initialization(activation_fn))(layer_e3)\n",
    "    #Latent Space (no activation)\n",
    "    encoded = Dense(latent_layer_size)(layer_e4)\n",
    "       \n",
    "    layer_d1 = Dense(300, activation = get_activation_fn(activation_fn),\n",
    "                     kernel_initializer=get_initialization(activation_fn))(encoded)\n",
    "    layer_d2 = Dense(300, activation = get_activation_fn(activation_fn),\n",
    "                     kernel_initializer=get_initialization(activation_fn))(layer_d1)\n",
    "    layer_d3 = Dense(300, activation = get_activation_fn(activation_fn),\n",
    "                     kernel_initializer=get_initialization(activation_fn))(layer_d2)\n",
    "    layer_d4 = Dense(300, activation = get_activation_fn(activation_fn),\n",
    "                     kernel_initializer=get_initialization(activation_fn))(layer_d3)    \n",
    "    decoded = Dense(window_length)(layer_d4)\n",
    "       \n",
    "    autoencoder = keras.models.Model(inputs=inputs, outputs = decoded)\n",
    "    \n",
    "    return autoencoder   "
   ]
  },
  {
   "cell_type": "code",
   "execution_count": 23,
   "id": "4adff6b2-6952-44ea-887f-7095a637e7a7",
   "metadata": {},
   "outputs": [
    {
     "name": "stdout",
     "output_type": "stream",
     "text": [
      "Model: \"model\"\n",
      "_________________________________________________________________\n",
      " Layer (type)                Output Shape              Param #   \n",
      "=================================================================\n",
      " input_1 (InputLayer)        [(None, 90)]              0         \n",
      "                                                                 \n",
      " dense (Dense)               (None, 300)               27300     \n",
      "                                                                 \n",
      " dense_1 (Dense)             (None, 300)               90300     \n",
      "                                                                 \n",
      " dense_2 (Dense)             (None, 300)               90300     \n",
      "                                                                 \n",
      " dense_3 (Dense)             (None, 300)               90300     \n",
      "                                                                 \n",
      " dense_4 (Dense)             (None, 10)                3010      \n",
      "                                                                 \n",
      " dense_5 (Dense)             (None, 300)               3300      \n",
      "                                                                 \n",
      " dense_6 (Dense)             (None, 300)               90300     \n",
      "                                                                 \n",
      " dense_7 (Dense)             (None, 300)               90300     \n",
      "                                                                 \n",
      " dense_8 (Dense)             (None, 300)               90300     \n",
      "                                                                 \n",
      " dense_9 (Dense)             (None, 90)                27090     \n",
      "                                                                 \n",
      "=================================================================\n",
      "Total params: 602,500\n",
      "Trainable params: 602,500\n",
      "Non-trainable params: 0\n",
      "_________________________________________________________________\n",
      "Code Used\n"
     ]
    }
   ],
   "source": [
    "if AE_Model_Name == 'FC_Medium':\n",
    "    AE_model = Medium_AE(latent_layer_size = latent_layer_size)\n",
    "    AE_model.summary()\n",
    "    print('Code Used')\n",
    "else:\n",
    "    print('NOT Active')"
   ]
  },
  {
   "cell_type": "markdown",
   "id": "e75e2102-26fb-4e24-978e-856983cbf259",
   "metadata": {},
   "source": [
    "---\n",
    "---\n",
    "# Run Sweep"
   ]
  },
  {
   "cell_type": "code",
   "execution_count": 24,
   "id": "be1f0f15-f71d-4da8-8319-4104432b20f0",
   "metadata": {},
   "outputs": [
    {
     "name": "stdout",
     "output_type": "stream",
     "text": [
      "Create sweep with ID: kcva21dq\n",
      "Sweep URL: https://wandb.ai/vasco-phd/FC_AE-Kenya_10k_Set_1_w90/sweeps/kcva21dq\n"
     ]
    }
   ],
   "source": [
    "if use_running_sweep_id == True:\n",
    "    sweep_id = running_sweep_id\n",
    "    print(f'Using sweep ID: {sweep_id}')\n",
    "    print(f'Sweep URL: https://wandb.ai/vasco-phd/{Project_Name}/sweeps/{sweep_id}')\n",
    "else:\n",
    "    sweep_id = wandb.sweep(sweep_config, project = Project_Name)"
   ]
  },
  {
   "cell_type": "code",
   "execution_count": 25,
   "id": "5417746c-6cc3-4e07-9b8a-b8b9293d7017",
   "metadata": {
    "tags": []
   },
   "outputs": [
    {
     "name": "stderr",
     "output_type": "stream",
     "text": [
      "\u001b[34m\u001b[1mwandb\u001b[0m: Agent Starting Run: v43aq602 with config:\n",
      "\u001b[34m\u001b[1mwandb\u001b[0m: \tactivation_fn: LeakyReLU\n",
      "\u001b[34m\u001b[1mwandb\u001b[0m: \tbatch_size: 184\n",
      "\u001b[34m\u001b[1mwandb\u001b[0m: \tepochs: 100\n",
      "\u001b[34m\u001b[1mwandb\u001b[0m: \tlatent_layer_size: 10\n",
      "\u001b[34m\u001b[1mwandb\u001b[0m: \tlearning_rate: 1.4803955747350948e-05\n",
      "\u001b[34m\u001b[1mwandb\u001b[0m: \toptimizer: nadam\n",
      "\u001b[34m\u001b[1mwandb\u001b[0m: \twindow_length: 90\n"
     ]
    },
    {
     "data": {
      "text/html": [
       "wandb version 0.13.9 is available!  To upgrade, please run:\n",
       " $ pip install wandb --upgrade"
      ],
      "text/plain": [
       "<IPython.core.display.HTML object>"
      ]
     },
     "metadata": {},
     "output_type": "display_data"
    },
    {
     "data": {
      "text/html": [
       "Tracking run with wandb version 0.13.6"
      ],
      "text/plain": [
       "<IPython.core.display.HTML object>"
      ]
     },
     "metadata": {},
     "output_type": "display_data"
    },
    {
     "data": {
      "text/html": [
       "Run data is saved locally in <code>C:\\Users\\ucesvpm\\OneDrive - University College London\\PhD Project\\Data Analytics\\Time Series Clustering\\Third Test\\Time-Series-PhD\\wandb\\run-20230207_154855-v43aq602</code>"
      ],
      "text/plain": [
       "<IPython.core.display.HTML object>"
      ]
     },
     "metadata": {},
     "output_type": "display_data"
    },
    {
     "data": {
      "text/html": [
       "Syncing run <strong><a href=\"https://wandb.ai/vasco-phd/FC_AE-Kenya_10k_Set_1_w90/runs/v43aq602\" target=\"_blank\">dry-sweep-1</a></strong> to <a href=\"https://wandb.ai/vasco-phd/FC_AE-Kenya_10k_Set_1_w90\" target=\"_blank\">Weights & Biases</a> (<a href=\"https://wandb.me/run\" target=\"_blank\">docs</a>)<br/>Sweep page:  <a href=\"https://wandb.ai/vasco-phd/FC_AE-Kenya_10k_Set_1_w90/sweeps/kcva21dq\" target=\"_blank\">https://wandb.ai/vasco-phd/FC_AE-Kenya_10k_Set_1_w90/sweeps/kcva21dq</a>"
      ],
      "text/plain": [
       "<IPython.core.display.HTML object>"
      ]
     },
     "metadata": {},
     "output_type": "display_data"
    },
    {
     "name": "stderr",
     "output_type": "stream",
     "text": [
      "\u001b[34m\u001b[1mwandb\u001b[0m: \u001b[33mWARNING\u001b[0m The save_model argument by default saves the model in the HDF5 format that cannot save custom objects like subclassed models and custom layers. This behavior will be deprecated in a future release in favor of the SavedModel format. Meanwhile, the HDF5 model is saved as W&B files and the SavedModel as W&B Artifacts.\n"
     ]
    },
    {
     "name": "stdout",
     "output_type": "stream",
     "text": [
      "Epoch 1/100\n",
      "385/385 [==============================] - ETA: 0s - loss: 1.7142 - mse: 1.7142"
     ]
    },
    {
     "name": "stderr",
     "output_type": "stream",
     "text": [
      "WARNING:absl:Found untraced functions such as leaky_re_lu_layer_call_fn, leaky_re_lu_layer_call_and_return_conditional_losses, leaky_re_lu_1_layer_call_fn, leaky_re_lu_1_layer_call_and_return_conditional_losses, leaky_re_lu_2_layer_call_fn while saving (showing 5 of 16). These functions will not be directly callable after loading.\n"
     ]
    },
    {
     "name": "stdout",
     "output_type": "stream",
     "text": [
      "INFO:tensorflow:Assets written to: C:\\Users\\ucesvpm\\OneDrive - University College London\\PhD Project\\Data Analytics\\Time Series Clustering\\Third Test\\Time-Series-PhD\\wandb\\run-20230207_154855-v43aq602\\files\\model-best\\assets\n"
     ]
    },
    {
     "name": "stderr",
     "output_type": "stream",
     "text": [
      "INFO:tensorflow:Assets written to: C:\\Users\\ucesvpm\\OneDrive - University College London\\PhD Project\\Data Analytics\\Time Series Clustering\\Third Test\\Time-Series-PhD\\wandb\\run-20230207_154855-v43aq602\\files\\model-best\\assets\n",
      "\u001b[34m\u001b[1mwandb\u001b[0m: Adding directory to artifact (C:\\Users\\ucesvpm\\OneDrive - University College London\\PhD Project\\Data Analytics\\Time Series Clustering\\Third Test\\Time-Series-PhD\\wandb\\run-20230207_154855-v43aq602\\files\\model-best)... Done. 0.0s\n"
     ]
    },
    {
     "name": "stdout",
     "output_type": "stream",
     "text": [
      "385/385 [==============================] - 10s 20ms/step - loss: 1.7142 - mse: 1.7142 - val_loss: 1.0109 - val_mse: 1.0109 - lr: 1.4804e-05\n",
      "Epoch 2/100\n",
      "384/385 [============================>.] - ETA: 0s - loss: 0.9141 - mse: 0.9141"
     ]
    },
    {
     "name": "stderr",
     "output_type": "stream",
     "text": [
      "WARNING:absl:Found untraced functions such as leaky_re_lu_layer_call_fn, leaky_re_lu_layer_call_and_return_conditional_losses, leaky_re_lu_1_layer_call_fn, leaky_re_lu_1_layer_call_and_return_conditional_losses, leaky_re_lu_2_layer_call_fn while saving (showing 5 of 16). These functions will not be directly callable after loading.\n"
     ]
    },
    {
     "name": "stdout",
     "output_type": "stream",
     "text": [
      "INFO:tensorflow:Assets written to: C:\\Users\\ucesvpm\\OneDrive - University College London\\PhD Project\\Data Analytics\\Time Series Clustering\\Third Test\\Time-Series-PhD\\wandb\\run-20230207_154855-v43aq602\\files\\model-best\\assets\n"
     ]
    },
    {
     "name": "stderr",
     "output_type": "stream",
     "text": [
      "INFO:tensorflow:Assets written to: C:\\Users\\ucesvpm\\OneDrive - University College London\\PhD Project\\Data Analytics\\Time Series Clustering\\Third Test\\Time-Series-PhD\\wandb\\run-20230207_154855-v43aq602\\files\\model-best\\assets\n",
      "\u001b[34m\u001b[1mwandb\u001b[0m: Adding directory to artifact (C:\\Users\\ucesvpm\\OneDrive - University College London\\PhD Project\\Data Analytics\\Time Series Clustering\\Third Test\\Time-Series-PhD\\wandb\\run-20230207_154855-v43aq602\\files\\model-best)... Done. 0.0s\n"
     ]
    },
    {
     "name": "stdout",
     "output_type": "stream",
     "text": [
      "385/385 [==============================] - 7s 17ms/step - loss: 0.9140 - mse: 0.9140 - val_loss: 0.8461 - val_mse: 0.8461 - lr: 1.4804e-05\n",
      "Epoch 3/100\n",
      "381/385 [============================>.] - ETA: 0s - loss: 0.7984 - mse: 0.7984"
     ]
    },
    {
     "name": "stderr",
     "output_type": "stream",
     "text": [
      "WARNING:absl:Found untraced functions such as leaky_re_lu_layer_call_fn, leaky_re_lu_layer_call_and_return_conditional_losses, leaky_re_lu_1_layer_call_fn, leaky_re_lu_1_layer_call_and_return_conditional_losses, leaky_re_lu_2_layer_call_fn while saving (showing 5 of 16). These functions will not be directly callable after loading.\n"
     ]
    },
    {
     "name": "stdout",
     "output_type": "stream",
     "text": [
      "INFO:tensorflow:Assets written to: C:\\Users\\ucesvpm\\OneDrive - University College London\\PhD Project\\Data Analytics\\Time Series Clustering\\Third Test\\Time-Series-PhD\\wandb\\run-20230207_154855-v43aq602\\files\\model-best\\assets\n"
     ]
    },
    {
     "name": "stderr",
     "output_type": "stream",
     "text": [
      "INFO:tensorflow:Assets written to: C:\\Users\\ucesvpm\\OneDrive - University College London\\PhD Project\\Data Analytics\\Time Series Clustering\\Third Test\\Time-Series-PhD\\wandb\\run-20230207_154855-v43aq602\\files\\model-best\\assets\n",
      "\u001b[34m\u001b[1mwandb\u001b[0m: Adding directory to artifact (C:\\Users\\ucesvpm\\OneDrive - University College London\\PhD Project\\Data Analytics\\Time Series Clustering\\Third Test\\Time-Series-PhD\\wandb\\run-20230207_154855-v43aq602\\files\\model-best)... Done. 0.0s\n"
     ]
    },
    {
     "name": "stdout",
     "output_type": "stream",
     "text": [
      "385/385 [==============================] - 7s 17ms/step - loss: 0.7980 - mse: 0.7980 - val_loss: 0.7607 - val_mse: 0.7607 - lr: 1.4804e-05\n",
      "Epoch 4/100\n",
      "384/385 [============================>.] - ETA: 0s - loss: 0.7236 - mse: 0.7236"
     ]
    },
    {
     "name": "stderr",
     "output_type": "stream",
     "text": [
      "WARNING:absl:Found untraced functions such as leaky_re_lu_layer_call_fn, leaky_re_lu_layer_call_and_return_conditional_losses, leaky_re_lu_1_layer_call_fn, leaky_re_lu_1_layer_call_and_return_conditional_losses, leaky_re_lu_2_layer_call_fn while saving (showing 5 of 16). These functions will not be directly callable after loading.\n"
     ]
    },
    {
     "name": "stdout",
     "output_type": "stream",
     "text": [
      "INFO:tensorflow:Assets written to: C:\\Users\\ucesvpm\\OneDrive - University College London\\PhD Project\\Data Analytics\\Time Series Clustering\\Third Test\\Time-Series-PhD\\wandb\\run-20230207_154855-v43aq602\\files\\model-best\\assets\n"
     ]
    },
    {
     "name": "stderr",
     "output_type": "stream",
     "text": [
      "INFO:tensorflow:Assets written to: C:\\Users\\ucesvpm\\OneDrive - University College London\\PhD Project\\Data Analytics\\Time Series Clustering\\Third Test\\Time-Series-PhD\\wandb\\run-20230207_154855-v43aq602\\files\\model-best\\assets\n",
      "\u001b[34m\u001b[1mwandb\u001b[0m: Adding directory to artifact (C:\\Users\\ucesvpm\\OneDrive - University College London\\PhD Project\\Data Analytics\\Time Series Clustering\\Third Test\\Time-Series-PhD\\wandb\\run-20230207_154855-v43aq602\\files\\model-best)... Done. 0.0s\n"
     ]
    },
    {
     "name": "stdout",
     "output_type": "stream",
     "text": [
      "385/385 [==============================] - 6s 17ms/step - loss: 0.7236 - mse: 0.7236 - val_loss: 0.6973 - val_mse: 0.6973 - lr: 1.4804e-05\n",
      "Epoch 5/100\n",
      "383/385 [============================>.] - ETA: 0s - loss: 0.6701 - mse: 0.6701"
     ]
    },
    {
     "name": "stderr",
     "output_type": "stream",
     "text": [
      "WARNING:absl:Found untraced functions such as leaky_re_lu_layer_call_fn, leaky_re_lu_layer_call_and_return_conditional_losses, leaky_re_lu_1_layer_call_fn, leaky_re_lu_1_layer_call_and_return_conditional_losses, leaky_re_lu_2_layer_call_fn while saving (showing 5 of 16). These functions will not be directly callable after loading.\n"
     ]
    },
    {
     "name": "stdout",
     "output_type": "stream",
     "text": [
      "INFO:tensorflow:Assets written to: C:\\Users\\ucesvpm\\OneDrive - University College London\\PhD Project\\Data Analytics\\Time Series Clustering\\Third Test\\Time-Series-PhD\\wandb\\run-20230207_154855-v43aq602\\files\\model-best\\assets\n"
     ]
    },
    {
     "name": "stderr",
     "output_type": "stream",
     "text": [
      "INFO:tensorflow:Assets written to: C:\\Users\\ucesvpm\\OneDrive - University College London\\PhD Project\\Data Analytics\\Time Series Clustering\\Third Test\\Time-Series-PhD\\wandb\\run-20230207_154855-v43aq602\\files\\model-best\\assets\n",
      "\u001b[34m\u001b[1mwandb\u001b[0m: Adding directory to artifact (C:\\Users\\ucesvpm\\OneDrive - University College London\\PhD Project\\Data Analytics\\Time Series Clustering\\Third Test\\Time-Series-PhD\\wandb\\run-20230207_154855-v43aq602\\files\\model-best)... Done. 0.0s\n"
     ]
    },
    {
     "name": "stdout",
     "output_type": "stream",
     "text": [
      "385/385 [==============================] - 7s 18ms/step - loss: 0.6700 - mse: 0.6700 - val_loss: 0.6541 - val_mse: 0.6541 - lr: 1.4804e-05\n",
      "Epoch 6/100\n",
      "383/385 [============================>.] - ETA: 0s - loss: 0.6335 - mse: 0.6335"
     ]
    },
    {
     "name": "stderr",
     "output_type": "stream",
     "text": [
      "WARNING:absl:Found untraced functions such as leaky_re_lu_layer_call_fn, leaky_re_lu_layer_call_and_return_conditional_losses, leaky_re_lu_1_layer_call_fn, leaky_re_lu_1_layer_call_and_return_conditional_losses, leaky_re_lu_2_layer_call_fn while saving (showing 5 of 16). These functions will not be directly callable after loading.\n"
     ]
    },
    {
     "name": "stdout",
     "output_type": "stream",
     "text": [
      "INFO:tensorflow:Assets written to: C:\\Users\\ucesvpm\\OneDrive - University College London\\PhD Project\\Data Analytics\\Time Series Clustering\\Third Test\\Time-Series-PhD\\wandb\\run-20230207_154855-v43aq602\\files\\model-best\\assets\n"
     ]
    },
    {
     "name": "stderr",
     "output_type": "stream",
     "text": [
      "INFO:tensorflow:Assets written to: C:\\Users\\ucesvpm\\OneDrive - University College London\\PhD Project\\Data Analytics\\Time Series Clustering\\Third Test\\Time-Series-PhD\\wandb\\run-20230207_154855-v43aq602\\files\\model-best\\assets\n",
      "\u001b[34m\u001b[1mwandb\u001b[0m: Adding directory to artifact (C:\\Users\\ucesvpm\\OneDrive - University College London\\PhD Project\\Data Analytics\\Time Series Clustering\\Third Test\\Time-Series-PhD\\wandb\\run-20230207_154855-v43aq602\\files\\model-best)... Done. 0.0s\n"
     ]
    },
    {
     "name": "stdout",
     "output_type": "stream",
     "text": [
      "385/385 [==============================] - 7s 19ms/step - loss: 0.6335 - mse: 0.6335 - val_loss: 0.6236 - val_mse: 0.6236 - lr: 1.4804e-05\n",
      "Epoch 7/100\n",
      "383/385 [============================>.] - ETA: 0s - loss: 0.6067 - mse: 0.6067"
     ]
    },
    {
     "name": "stderr",
     "output_type": "stream",
     "text": [
      "WARNING:absl:Found untraced functions such as leaky_re_lu_layer_call_fn, leaky_re_lu_layer_call_and_return_conditional_losses, leaky_re_lu_1_layer_call_fn, leaky_re_lu_1_layer_call_and_return_conditional_losses, leaky_re_lu_2_layer_call_fn while saving (showing 5 of 16). These functions will not be directly callable after loading.\n"
     ]
    },
    {
     "name": "stdout",
     "output_type": "stream",
     "text": [
      "INFO:tensorflow:Assets written to: C:\\Users\\ucesvpm\\OneDrive - University College London\\PhD Project\\Data Analytics\\Time Series Clustering\\Third Test\\Time-Series-PhD\\wandb\\run-20230207_154855-v43aq602\\files\\model-best\\assets\n"
     ]
    },
    {
     "name": "stderr",
     "output_type": "stream",
     "text": [
      "INFO:tensorflow:Assets written to: C:\\Users\\ucesvpm\\OneDrive - University College London\\PhD Project\\Data Analytics\\Time Series Clustering\\Third Test\\Time-Series-PhD\\wandb\\run-20230207_154855-v43aq602\\files\\model-best\\assets\n",
      "\u001b[34m\u001b[1mwandb\u001b[0m: Adding directory to artifact (C:\\Users\\ucesvpm\\OneDrive - University College London\\PhD Project\\Data Analytics\\Time Series Clustering\\Third Test\\Time-Series-PhD\\wandb\\run-20230207_154855-v43aq602\\files\\model-best)... Done. 0.0s\n"
     ]
    },
    {
     "name": "stdout",
     "output_type": "stream",
     "text": [
      "385/385 [==============================] - 6s 16ms/step - loss: 0.6067 - mse: 0.6067 - val_loss: 0.6004 - val_mse: 0.6004 - lr: 1.4804e-05\n",
      "Epoch 8/100\n",
      "381/385 [============================>.] - ETA: 0s - loss: 0.5860 - mse: 0.5860"
     ]
    },
    {
     "name": "stderr",
     "output_type": "stream",
     "text": [
      "WARNING:absl:Found untraced functions such as leaky_re_lu_layer_call_fn, leaky_re_lu_layer_call_and_return_conditional_losses, leaky_re_lu_1_layer_call_fn, leaky_re_lu_1_layer_call_and_return_conditional_losses, leaky_re_lu_2_layer_call_fn while saving (showing 5 of 16). These functions will not be directly callable after loading.\n"
     ]
    },
    {
     "name": "stdout",
     "output_type": "stream",
     "text": [
      "INFO:tensorflow:Assets written to: C:\\Users\\ucesvpm\\OneDrive - University College London\\PhD Project\\Data Analytics\\Time Series Clustering\\Third Test\\Time-Series-PhD\\wandb\\run-20230207_154855-v43aq602\\files\\model-best\\assets\n"
     ]
    },
    {
     "name": "stderr",
     "output_type": "stream",
     "text": [
      "INFO:tensorflow:Assets written to: C:\\Users\\ucesvpm\\OneDrive - University College London\\PhD Project\\Data Analytics\\Time Series Clustering\\Third Test\\Time-Series-PhD\\wandb\\run-20230207_154855-v43aq602\\files\\model-best\\assets\n",
      "\u001b[34m\u001b[1mwandb\u001b[0m: Adding directory to artifact (C:\\Users\\ucesvpm\\OneDrive - University College London\\PhD Project\\Data Analytics\\Time Series Clustering\\Third Test\\Time-Series-PhD\\wandb\\run-20230207_154855-v43aq602\\files\\model-best)... Done. 0.0s\n"
     ]
    },
    {
     "name": "stdout",
     "output_type": "stream",
     "text": [
      "385/385 [==============================] - 6s 17ms/step - loss: 0.5859 - mse: 0.5859 - val_loss: 0.5824 - val_mse: 0.5824 - lr: 1.4804e-05\n",
      "Epoch 9/100\n",
      "380/385 [============================>.] - ETA: 0s - loss: 0.5695 - mse: 0.5695"
     ]
    },
    {
     "name": "stderr",
     "output_type": "stream",
     "text": [
      "WARNING:absl:Found untraced functions such as leaky_re_lu_layer_call_fn, leaky_re_lu_layer_call_and_return_conditional_losses, leaky_re_lu_1_layer_call_fn, leaky_re_lu_1_layer_call_and_return_conditional_losses, leaky_re_lu_2_layer_call_fn while saving (showing 5 of 16). These functions will not be directly callable after loading.\n"
     ]
    },
    {
     "name": "stdout",
     "output_type": "stream",
     "text": [
      "INFO:tensorflow:Assets written to: C:\\Users\\ucesvpm\\OneDrive - University College London\\PhD Project\\Data Analytics\\Time Series Clustering\\Third Test\\Time-Series-PhD\\wandb\\run-20230207_154855-v43aq602\\files\\model-best\\assets\n"
     ]
    },
    {
     "name": "stderr",
     "output_type": "stream",
     "text": [
      "INFO:tensorflow:Assets written to: C:\\Users\\ucesvpm\\OneDrive - University College London\\PhD Project\\Data Analytics\\Time Series Clustering\\Third Test\\Time-Series-PhD\\wandb\\run-20230207_154855-v43aq602\\files\\model-best\\assets\n",
      "\u001b[34m\u001b[1mwandb\u001b[0m: Adding directory to artifact (C:\\Users\\ucesvpm\\OneDrive - University College London\\PhD Project\\Data Analytics\\Time Series Clustering\\Third Test\\Time-Series-PhD\\wandb\\run-20230207_154855-v43aq602\\files\\model-best)... Done. 0.0s\n"
     ]
    },
    {
     "name": "stdout",
     "output_type": "stream",
     "text": [
      "385/385 [==============================] - 7s 17ms/step - loss: 0.5695 - mse: 0.5695 - val_loss: 0.5680 - val_mse: 0.5680 - lr: 1.4804e-05\n",
      "Epoch 10/100\n",
      "382/385 [============================>.] - ETA: 0s - loss: 0.5564 - mse: 0.5564"
     ]
    },
    {
     "name": "stderr",
     "output_type": "stream",
     "text": [
      "WARNING:absl:Found untraced functions such as leaky_re_lu_layer_call_fn, leaky_re_lu_layer_call_and_return_conditional_losses, leaky_re_lu_1_layer_call_fn, leaky_re_lu_1_layer_call_and_return_conditional_losses, leaky_re_lu_2_layer_call_fn while saving (showing 5 of 16). These functions will not be directly callable after loading.\n"
     ]
    },
    {
     "name": "stdout",
     "output_type": "stream",
     "text": [
      "INFO:tensorflow:Assets written to: C:\\Users\\ucesvpm\\OneDrive - University College London\\PhD Project\\Data Analytics\\Time Series Clustering\\Third Test\\Time-Series-PhD\\wandb\\run-20230207_154855-v43aq602\\files\\model-best\\assets\n"
     ]
    },
    {
     "name": "stderr",
     "output_type": "stream",
     "text": [
      "INFO:tensorflow:Assets written to: C:\\Users\\ucesvpm\\OneDrive - University College London\\PhD Project\\Data Analytics\\Time Series Clustering\\Third Test\\Time-Series-PhD\\wandb\\run-20230207_154855-v43aq602\\files\\model-best\\assets\n",
      "\u001b[34m\u001b[1mwandb\u001b[0m: Adding directory to artifact (C:\\Users\\ucesvpm\\OneDrive - University College London\\PhD Project\\Data Analytics\\Time Series Clustering\\Third Test\\Time-Series-PhD\\wandb\\run-20230207_154855-v43aq602\\files\\model-best)... Done. 0.0s\n"
     ]
    },
    {
     "name": "stdout",
     "output_type": "stream",
     "text": [
      "385/385 [==============================] - 7s 17ms/step - loss: 0.5563 - mse: 0.5563 - val_loss: 0.5561 - val_mse: 0.5561 - lr: 1.4804e-05\n",
      "Epoch 11/100\n",
      "382/385 [============================>.] - ETA: 0s - loss: 0.5459 - mse: 0.5459"
     ]
    },
    {
     "name": "stderr",
     "output_type": "stream",
     "text": [
      "WARNING:absl:Found untraced functions such as leaky_re_lu_layer_call_fn, leaky_re_lu_layer_call_and_return_conditional_losses, leaky_re_lu_1_layer_call_fn, leaky_re_lu_1_layer_call_and_return_conditional_losses, leaky_re_lu_2_layer_call_fn while saving (showing 5 of 16). These functions will not be directly callable after loading.\n"
     ]
    },
    {
     "name": "stdout",
     "output_type": "stream",
     "text": [
      "INFO:tensorflow:Assets written to: C:\\Users\\ucesvpm\\OneDrive - University College London\\PhD Project\\Data Analytics\\Time Series Clustering\\Third Test\\Time-Series-PhD\\wandb\\run-20230207_154855-v43aq602\\files\\model-best\\assets\n"
     ]
    },
    {
     "name": "stderr",
     "output_type": "stream",
     "text": [
      "INFO:tensorflow:Assets written to: C:\\Users\\ucesvpm\\OneDrive - University College London\\PhD Project\\Data Analytics\\Time Series Clustering\\Third Test\\Time-Series-PhD\\wandb\\run-20230207_154855-v43aq602\\files\\model-best\\assets\n",
      "\u001b[34m\u001b[1mwandb\u001b[0m: Adding directory to artifact (C:\\Users\\ucesvpm\\OneDrive - University College London\\PhD Project\\Data Analytics\\Time Series Clustering\\Third Test\\Time-Series-PhD\\wandb\\run-20230207_154855-v43aq602\\files\\model-best)... Done. 0.0s\n"
     ]
    },
    {
     "name": "stdout",
     "output_type": "stream",
     "text": [
      "385/385 [==============================] - 7s 18ms/step - loss: 0.5456 - mse: 0.5456 - val_loss: 0.5465 - val_mse: 0.5465 - lr: 1.4804e-05\n",
      "Epoch 12/100\n",
      "384/385 [============================>.] - ETA: 0s - loss: 0.5367 - mse: 0.5367"
     ]
    },
    {
     "name": "stderr",
     "output_type": "stream",
     "text": [
      "WARNING:absl:Found untraced functions such as leaky_re_lu_layer_call_fn, leaky_re_lu_layer_call_and_return_conditional_losses, leaky_re_lu_1_layer_call_fn, leaky_re_lu_1_layer_call_and_return_conditional_losses, leaky_re_lu_2_layer_call_fn while saving (showing 5 of 16). These functions will not be directly callable after loading.\n"
     ]
    },
    {
     "name": "stdout",
     "output_type": "stream",
     "text": [
      "INFO:tensorflow:Assets written to: C:\\Users\\ucesvpm\\OneDrive - University College London\\PhD Project\\Data Analytics\\Time Series Clustering\\Third Test\\Time-Series-PhD\\wandb\\run-20230207_154855-v43aq602\\files\\model-best\\assets\n"
     ]
    },
    {
     "name": "stderr",
     "output_type": "stream",
     "text": [
      "INFO:tensorflow:Assets written to: C:\\Users\\ucesvpm\\OneDrive - University College London\\PhD Project\\Data Analytics\\Time Series Clustering\\Third Test\\Time-Series-PhD\\wandb\\run-20230207_154855-v43aq602\\files\\model-best\\assets\n",
      "\u001b[34m\u001b[1mwandb\u001b[0m: Adding directory to artifact (C:\\Users\\ucesvpm\\OneDrive - University College London\\PhD Project\\Data Analytics\\Time Series Clustering\\Third Test\\Time-Series-PhD\\wandb\\run-20230207_154855-v43aq602\\files\\model-best)... Done. 0.0s\n"
     ]
    },
    {
     "name": "stdout",
     "output_type": "stream",
     "text": [
      "385/385 [==============================] - 7s 17ms/step - loss: 0.5367 - mse: 0.5367 - val_loss: 0.5387 - val_mse: 0.5387 - lr: 1.4804e-05\n",
      "Epoch 13/100\n",
      "384/385 [============================>.] - ETA: 0s - loss: 0.5294 - mse: 0.5294"
     ]
    },
    {
     "name": "stderr",
     "output_type": "stream",
     "text": [
      "WARNING:absl:Found untraced functions such as leaky_re_lu_layer_call_fn, leaky_re_lu_layer_call_and_return_conditional_losses, leaky_re_lu_1_layer_call_fn, leaky_re_lu_1_layer_call_and_return_conditional_losses, leaky_re_lu_2_layer_call_fn while saving (showing 5 of 16). These functions will not be directly callable after loading.\n"
     ]
    },
    {
     "name": "stdout",
     "output_type": "stream",
     "text": [
      "INFO:tensorflow:Assets written to: C:\\Users\\ucesvpm\\OneDrive - University College London\\PhD Project\\Data Analytics\\Time Series Clustering\\Third Test\\Time-Series-PhD\\wandb\\run-20230207_154855-v43aq602\\files\\model-best\\assets\n"
     ]
    },
    {
     "name": "stderr",
     "output_type": "stream",
     "text": [
      "INFO:tensorflow:Assets written to: C:\\Users\\ucesvpm\\OneDrive - University College London\\PhD Project\\Data Analytics\\Time Series Clustering\\Third Test\\Time-Series-PhD\\wandb\\run-20230207_154855-v43aq602\\files\\model-best\\assets\n",
      "\u001b[34m\u001b[1mwandb\u001b[0m: Adding directory to artifact (C:\\Users\\ucesvpm\\OneDrive - University College London\\PhD Project\\Data Analytics\\Time Series Clustering\\Third Test\\Time-Series-PhD\\wandb\\run-20230207_154855-v43aq602\\files\\model-best)... Done. 0.0s\n"
     ]
    },
    {
     "name": "stdout",
     "output_type": "stream",
     "text": [
      "385/385 [==============================] - 16s 41ms/step - loss: 0.5293 - mse: 0.5293 - val_loss: 0.5318 - val_mse: 0.5318 - lr: 1.4804e-05\n",
      "Epoch 14/100\n",
      "382/385 [============================>.] - ETA: 0s - loss: 0.5230 - mse: 0.5230"
     ]
    },
    {
     "name": "stderr",
     "output_type": "stream",
     "text": [
      "WARNING:absl:Found untraced functions such as leaky_re_lu_layer_call_fn, leaky_re_lu_layer_call_and_return_conditional_losses, leaky_re_lu_1_layer_call_fn, leaky_re_lu_1_layer_call_and_return_conditional_losses, leaky_re_lu_2_layer_call_fn while saving (showing 5 of 16). These functions will not be directly callable after loading.\n"
     ]
    },
    {
     "name": "stdout",
     "output_type": "stream",
     "text": [
      "INFO:tensorflow:Assets written to: C:\\Users\\ucesvpm\\OneDrive - University College London\\PhD Project\\Data Analytics\\Time Series Clustering\\Third Test\\Time-Series-PhD\\wandb\\run-20230207_154855-v43aq602\\files\\model-best\\assets\n"
     ]
    },
    {
     "name": "stderr",
     "output_type": "stream",
     "text": [
      "INFO:tensorflow:Assets written to: C:\\Users\\ucesvpm\\OneDrive - University College London\\PhD Project\\Data Analytics\\Time Series Clustering\\Third Test\\Time-Series-PhD\\wandb\\run-20230207_154855-v43aq602\\files\\model-best\\assets\n",
      "\u001b[34m\u001b[1mwandb\u001b[0m: Adding directory to artifact (C:\\Users\\ucesvpm\\OneDrive - University College London\\PhD Project\\Data Analytics\\Time Series Clustering\\Third Test\\Time-Series-PhD\\wandb\\run-20230207_154855-v43aq602\\files\\model-best)... Done. 0.1s\n"
     ]
    },
    {
     "name": "stdout",
     "output_type": "stream",
     "text": [
      "385/385 [==============================] - 9s 24ms/step - loss: 0.5228 - mse: 0.5228 - val_loss: 0.5258 - val_mse: 0.5258 - lr: 1.4804e-05\n",
      "Epoch 15/100\n",
      "382/385 [============================>.] - ETA: 0s - loss: 0.5171 - mse: 0.5171"
     ]
    },
    {
     "name": "stderr",
     "output_type": "stream",
     "text": [
      "WARNING:absl:Found untraced functions such as leaky_re_lu_layer_call_fn, leaky_re_lu_layer_call_and_return_conditional_losses, leaky_re_lu_1_layer_call_fn, leaky_re_lu_1_layer_call_and_return_conditional_losses, leaky_re_lu_2_layer_call_fn while saving (showing 5 of 16). These functions will not be directly callable after loading.\n"
     ]
    },
    {
     "name": "stdout",
     "output_type": "stream",
     "text": [
      "INFO:tensorflow:Assets written to: C:\\Users\\ucesvpm\\OneDrive - University College London\\PhD Project\\Data Analytics\\Time Series Clustering\\Third Test\\Time-Series-PhD\\wandb\\run-20230207_154855-v43aq602\\files\\model-best\\assets\n"
     ]
    },
    {
     "name": "stderr",
     "output_type": "stream",
     "text": [
      "INFO:tensorflow:Assets written to: C:\\Users\\ucesvpm\\OneDrive - University College London\\PhD Project\\Data Analytics\\Time Series Clustering\\Third Test\\Time-Series-PhD\\wandb\\run-20230207_154855-v43aq602\\files\\model-best\\assets\n",
      "\u001b[34m\u001b[1mwandb\u001b[0m: Adding directory to artifact (C:\\Users\\ucesvpm\\OneDrive - University College London\\PhD Project\\Data Analytics\\Time Series Clustering\\Third Test\\Time-Series-PhD\\wandb\\run-20230207_154855-v43aq602\\files\\model-best)... Done. 0.0s\n"
     ]
    },
    {
     "name": "stdout",
     "output_type": "stream",
     "text": [
      "385/385 [==============================] - 8s 21ms/step - loss: 0.5171 - mse: 0.5171 - val_loss: 0.5205 - val_mse: 0.5205 - lr: 1.4804e-05\n",
      "Epoch 16/100\n",
      "383/385 [============================>.] - ETA: 0s - loss: 0.5120 - mse: 0.5120"
     ]
    },
    {
     "name": "stderr",
     "output_type": "stream",
     "text": [
      "WARNING:absl:Found untraced functions such as leaky_re_lu_layer_call_fn, leaky_re_lu_layer_call_and_return_conditional_losses, leaky_re_lu_1_layer_call_fn, leaky_re_lu_1_layer_call_and_return_conditional_losses, leaky_re_lu_2_layer_call_fn while saving (showing 5 of 16). These functions will not be directly callable after loading.\n"
     ]
    },
    {
     "name": "stdout",
     "output_type": "stream",
     "text": [
      "INFO:tensorflow:Assets written to: C:\\Users\\ucesvpm\\OneDrive - University College London\\PhD Project\\Data Analytics\\Time Series Clustering\\Third Test\\Time-Series-PhD\\wandb\\run-20230207_154855-v43aq602\\files\\model-best\\assets\n"
     ]
    },
    {
     "name": "stderr",
     "output_type": "stream",
     "text": [
      "INFO:tensorflow:Assets written to: C:\\Users\\ucesvpm\\OneDrive - University College London\\PhD Project\\Data Analytics\\Time Series Clustering\\Third Test\\Time-Series-PhD\\wandb\\run-20230207_154855-v43aq602\\files\\model-best\\assets\n",
      "\u001b[34m\u001b[1mwandb\u001b[0m: Adding directory to artifact (C:\\Users\\ucesvpm\\OneDrive - University College London\\PhD Project\\Data Analytics\\Time Series Clustering\\Third Test\\Time-Series-PhD\\wandb\\run-20230207_154855-v43aq602\\files\\model-best)... Done. 0.0s\n"
     ]
    },
    {
     "name": "stdout",
     "output_type": "stream",
     "text": [
      "385/385 [==============================] - 8s 20ms/step - loss: 0.5121 - mse: 0.5121 - val_loss: 0.5158 - val_mse: 0.5158 - lr: 1.4804e-05\n",
      "Epoch 17/100\n",
      "384/385 [============================>.] - ETA: 0s - loss: 0.5077 - mse: 0.5077"
     ]
    },
    {
     "name": "stderr",
     "output_type": "stream",
     "text": [
      "WARNING:absl:Found untraced functions such as leaky_re_lu_layer_call_fn, leaky_re_lu_layer_call_and_return_conditional_losses, leaky_re_lu_1_layer_call_fn, leaky_re_lu_1_layer_call_and_return_conditional_losses, leaky_re_lu_2_layer_call_fn while saving (showing 5 of 16). These functions will not be directly callable after loading.\n"
     ]
    },
    {
     "name": "stdout",
     "output_type": "stream",
     "text": [
      "INFO:tensorflow:Assets written to: C:\\Users\\ucesvpm\\OneDrive - University College London\\PhD Project\\Data Analytics\\Time Series Clustering\\Third Test\\Time-Series-PhD\\wandb\\run-20230207_154855-v43aq602\\files\\model-best\\assets\n"
     ]
    },
    {
     "name": "stderr",
     "output_type": "stream",
     "text": [
      "INFO:tensorflow:Assets written to: C:\\Users\\ucesvpm\\OneDrive - University College London\\PhD Project\\Data Analytics\\Time Series Clustering\\Third Test\\Time-Series-PhD\\wandb\\run-20230207_154855-v43aq602\\files\\model-best\\assets\n",
      "\u001b[34m\u001b[1mwandb\u001b[0m: Adding directory to artifact (C:\\Users\\ucesvpm\\OneDrive - University College London\\PhD Project\\Data Analytics\\Time Series Clustering\\Third Test\\Time-Series-PhD\\wandb\\run-20230207_154855-v43aq602\\files\\model-best)... Done. 0.0s\n"
     ]
    },
    {
     "name": "stdout",
     "output_type": "stream",
     "text": [
      "385/385 [==============================] - 8s 22ms/step - loss: 0.5078 - mse: 0.5078 - val_loss: 0.5116 - val_mse: 0.5116 - lr: 1.4804e-05\n",
      "Epoch 18/100\n",
      "383/385 [============================>.] - ETA: 0s - loss: 0.5040 - mse: 0.5040"
     ]
    },
    {
     "name": "stderr",
     "output_type": "stream",
     "text": [
      "WARNING:absl:Found untraced functions such as leaky_re_lu_layer_call_fn, leaky_re_lu_layer_call_and_return_conditional_losses, leaky_re_lu_1_layer_call_fn, leaky_re_lu_1_layer_call_and_return_conditional_losses, leaky_re_lu_2_layer_call_fn while saving (showing 5 of 16). These functions will not be directly callable after loading.\n"
     ]
    },
    {
     "name": "stdout",
     "output_type": "stream",
     "text": [
      "INFO:tensorflow:Assets written to: C:\\Users\\ucesvpm\\OneDrive - University College London\\PhD Project\\Data Analytics\\Time Series Clustering\\Third Test\\Time-Series-PhD\\wandb\\run-20230207_154855-v43aq602\\files\\model-best\\assets\n"
     ]
    },
    {
     "name": "stderr",
     "output_type": "stream",
     "text": [
      "INFO:tensorflow:Assets written to: C:\\Users\\ucesvpm\\OneDrive - University College London\\PhD Project\\Data Analytics\\Time Series Clustering\\Third Test\\Time-Series-PhD\\wandb\\run-20230207_154855-v43aq602\\files\\model-best\\assets\n",
      "\u001b[34m\u001b[1mwandb\u001b[0m: Adding directory to artifact (C:\\Users\\ucesvpm\\OneDrive - University College London\\PhD Project\\Data Analytics\\Time Series Clustering\\Third Test\\Time-Series-PhD\\wandb\\run-20230207_154855-v43aq602\\files\\model-best)... Done. 0.0s\n"
     ]
    },
    {
     "name": "stdout",
     "output_type": "stream",
     "text": [
      "385/385 [==============================] - 8s 22ms/step - loss: 0.5040 - mse: 0.5040 - val_loss: 0.5080 - val_mse: 0.5080 - lr: 1.4804e-05\n",
      "Epoch 19/100\n",
      "385/385 [==============================] - ETA: 0s - loss: 0.5006 - mse: 0.5006"
     ]
    },
    {
     "name": "stderr",
     "output_type": "stream",
     "text": [
      "WARNING:absl:Found untraced functions such as leaky_re_lu_layer_call_fn, leaky_re_lu_layer_call_and_return_conditional_losses, leaky_re_lu_1_layer_call_fn, leaky_re_lu_1_layer_call_and_return_conditional_losses, leaky_re_lu_2_layer_call_fn while saving (showing 5 of 16). These functions will not be directly callable after loading.\n"
     ]
    },
    {
     "name": "stdout",
     "output_type": "stream",
     "text": [
      "INFO:tensorflow:Assets written to: C:\\Users\\ucesvpm\\OneDrive - University College London\\PhD Project\\Data Analytics\\Time Series Clustering\\Third Test\\Time-Series-PhD\\wandb\\run-20230207_154855-v43aq602\\files\\model-best\\assets\n"
     ]
    },
    {
     "name": "stderr",
     "output_type": "stream",
     "text": [
      "INFO:tensorflow:Assets written to: C:\\Users\\ucesvpm\\OneDrive - University College London\\PhD Project\\Data Analytics\\Time Series Clustering\\Third Test\\Time-Series-PhD\\wandb\\run-20230207_154855-v43aq602\\files\\model-best\\assets\n",
      "\u001b[34m\u001b[1mwandb\u001b[0m: Adding directory to artifact (C:\\Users\\ucesvpm\\OneDrive - University College London\\PhD Project\\Data Analytics\\Time Series Clustering\\Third Test\\Time-Series-PhD\\wandb\\run-20230207_154855-v43aq602\\files\\model-best)... Done. 0.1s\n"
     ]
    },
    {
     "name": "stdout",
     "output_type": "stream",
     "text": [
      "385/385 [==============================] - 9s 23ms/step - loss: 0.5006 - mse: 0.5006 - val_loss: 0.5049 - val_mse: 0.5049 - lr: 1.4804e-05\n",
      "Epoch 20/100\n",
      "382/385 [============================>.] - ETA: 0s - loss: 0.4977 - mse: 0.4977"
     ]
    },
    {
     "name": "stderr",
     "output_type": "stream",
     "text": [
      "WARNING:absl:Found untraced functions such as leaky_re_lu_layer_call_fn, leaky_re_lu_layer_call_and_return_conditional_losses, leaky_re_lu_1_layer_call_fn, leaky_re_lu_1_layer_call_and_return_conditional_losses, leaky_re_lu_2_layer_call_fn while saving (showing 5 of 16). These functions will not be directly callable after loading.\n"
     ]
    },
    {
     "name": "stdout",
     "output_type": "stream",
     "text": [
      "INFO:tensorflow:Assets written to: C:\\Users\\ucesvpm\\OneDrive - University College London\\PhD Project\\Data Analytics\\Time Series Clustering\\Third Test\\Time-Series-PhD\\wandb\\run-20230207_154855-v43aq602\\files\\model-best\\assets\n"
     ]
    },
    {
     "name": "stderr",
     "output_type": "stream",
     "text": [
      "INFO:tensorflow:Assets written to: C:\\Users\\ucesvpm\\OneDrive - University College London\\PhD Project\\Data Analytics\\Time Series Clustering\\Third Test\\Time-Series-PhD\\wandb\\run-20230207_154855-v43aq602\\files\\model-best\\assets\n",
      "\u001b[34m\u001b[1mwandb\u001b[0m: Adding directory to artifact (C:\\Users\\ucesvpm\\OneDrive - University College London\\PhD Project\\Data Analytics\\Time Series Clustering\\Third Test\\Time-Series-PhD\\wandb\\run-20230207_154855-v43aq602\\files\\model-best)... Done. 0.0s\n"
     ]
    },
    {
     "name": "stdout",
     "output_type": "stream",
     "text": [
      "385/385 [==============================] - 8s 20ms/step - loss: 0.4976 - mse: 0.4976 - val_loss: 0.5020 - val_mse: 0.5020 - lr: 1.4804e-05\n",
      "Epoch 21/100\n",
      "384/385 [============================>.] - ETA: 0s - loss: 0.4951 - mse: 0.4951"
     ]
    },
    {
     "name": "stderr",
     "output_type": "stream",
     "text": [
      "WARNING:absl:Found untraced functions such as leaky_re_lu_layer_call_fn, leaky_re_lu_layer_call_and_return_conditional_losses, leaky_re_lu_1_layer_call_fn, leaky_re_lu_1_layer_call_and_return_conditional_losses, leaky_re_lu_2_layer_call_fn while saving (showing 5 of 16). These functions will not be directly callable after loading.\n"
     ]
    },
    {
     "name": "stdout",
     "output_type": "stream",
     "text": [
      "INFO:tensorflow:Assets written to: C:\\Users\\ucesvpm\\OneDrive - University College London\\PhD Project\\Data Analytics\\Time Series Clustering\\Third Test\\Time-Series-PhD\\wandb\\run-20230207_154855-v43aq602\\files\\model-best\\assets\n"
     ]
    },
    {
     "name": "stderr",
     "output_type": "stream",
     "text": [
      "INFO:tensorflow:Assets written to: C:\\Users\\ucesvpm\\OneDrive - University College London\\PhD Project\\Data Analytics\\Time Series Clustering\\Third Test\\Time-Series-PhD\\wandb\\run-20230207_154855-v43aq602\\files\\model-best\\assets\n",
      "\u001b[34m\u001b[1mwandb\u001b[0m: Adding directory to artifact (C:\\Users\\ucesvpm\\OneDrive - University College London\\PhD Project\\Data Analytics\\Time Series Clustering\\Third Test\\Time-Series-PhD\\wandb\\run-20230207_154855-v43aq602\\files\\model-best)... Done. 0.0s\n"
     ]
    },
    {
     "name": "stdout",
     "output_type": "stream",
     "text": [
      "385/385 [==============================] - 8s 21ms/step - loss: 0.4950 - mse: 0.4950 - val_loss: 0.4996 - val_mse: 0.4996 - lr: 1.4804e-05\n",
      "Epoch 22/100\n",
      "383/385 [============================>.] - ETA: 0s - loss: 0.4926 - mse: 0.4926"
     ]
    },
    {
     "name": "stderr",
     "output_type": "stream",
     "text": [
      "WARNING:absl:Found untraced functions such as leaky_re_lu_layer_call_fn, leaky_re_lu_layer_call_and_return_conditional_losses, leaky_re_lu_1_layer_call_fn, leaky_re_lu_1_layer_call_and_return_conditional_losses, leaky_re_lu_2_layer_call_fn while saving (showing 5 of 16). These functions will not be directly callable after loading.\n"
     ]
    },
    {
     "name": "stdout",
     "output_type": "stream",
     "text": [
      "INFO:tensorflow:Assets written to: C:\\Users\\ucesvpm\\OneDrive - University College London\\PhD Project\\Data Analytics\\Time Series Clustering\\Third Test\\Time-Series-PhD\\wandb\\run-20230207_154855-v43aq602\\files\\model-best\\assets\n"
     ]
    },
    {
     "name": "stderr",
     "output_type": "stream",
     "text": [
      "INFO:tensorflow:Assets written to: C:\\Users\\ucesvpm\\OneDrive - University College London\\PhD Project\\Data Analytics\\Time Series Clustering\\Third Test\\Time-Series-PhD\\wandb\\run-20230207_154855-v43aq602\\files\\model-best\\assets\n",
      "\u001b[34m\u001b[1mwandb\u001b[0m: Adding directory to artifact (C:\\Users\\ucesvpm\\OneDrive - University College London\\PhD Project\\Data Analytics\\Time Series Clustering\\Third Test\\Time-Series-PhD\\wandb\\run-20230207_154855-v43aq602\\files\\model-best)... Done. 0.0s\n"
     ]
    },
    {
     "name": "stdout",
     "output_type": "stream",
     "text": [
      "385/385 [==============================] - 7s 19ms/step - loss: 0.4927 - mse: 0.4927 - val_loss: 0.4972 - val_mse: 0.4972 - lr: 1.4804e-05\n",
      "Epoch 23/100\n",
      "384/385 [============================>.] - ETA: 0s - loss: 0.4906 - mse: 0.4906"
     ]
    },
    {
     "name": "stderr",
     "output_type": "stream",
     "text": [
      "WARNING:absl:Found untraced functions such as leaky_re_lu_layer_call_fn, leaky_re_lu_layer_call_and_return_conditional_losses, leaky_re_lu_1_layer_call_fn, leaky_re_lu_1_layer_call_and_return_conditional_losses, leaky_re_lu_2_layer_call_fn while saving (showing 5 of 16). These functions will not be directly callable after loading.\n"
     ]
    },
    {
     "name": "stdout",
     "output_type": "stream",
     "text": [
      "INFO:tensorflow:Assets written to: C:\\Users\\ucesvpm\\OneDrive - University College London\\PhD Project\\Data Analytics\\Time Series Clustering\\Third Test\\Time-Series-PhD\\wandb\\run-20230207_154855-v43aq602\\files\\model-best\\assets\n"
     ]
    },
    {
     "name": "stderr",
     "output_type": "stream",
     "text": [
      "INFO:tensorflow:Assets written to: C:\\Users\\ucesvpm\\OneDrive - University College London\\PhD Project\\Data Analytics\\Time Series Clustering\\Third Test\\Time-Series-PhD\\wandb\\run-20230207_154855-v43aq602\\files\\model-best\\assets\n",
      "\u001b[34m\u001b[1mwandb\u001b[0m: Adding directory to artifact (C:\\Users\\ucesvpm\\OneDrive - University College London\\PhD Project\\Data Analytics\\Time Series Clustering\\Third Test\\Time-Series-PhD\\wandb\\run-20230207_154855-v43aq602\\files\\model-best)... Done. 0.5s\n"
     ]
    },
    {
     "name": "stdout",
     "output_type": "stream",
     "text": [
      "385/385 [==============================] - 8s 21ms/step - loss: 0.4906 - mse: 0.4906 - val_loss: 0.4954 - val_mse: 0.4954 - lr: 1.4804e-05\n",
      "Epoch 24/100\n",
      "384/385 [============================>.] - ETA: 0s - loss: 0.4887 - mse: 0.4887"
     ]
    },
    {
     "name": "stderr",
     "output_type": "stream",
     "text": [
      "WARNING:absl:Found untraced functions such as leaky_re_lu_layer_call_fn, leaky_re_lu_layer_call_and_return_conditional_losses, leaky_re_lu_1_layer_call_fn, leaky_re_lu_1_layer_call_and_return_conditional_losses, leaky_re_lu_2_layer_call_fn while saving (showing 5 of 16). These functions will not be directly callable after loading.\n"
     ]
    },
    {
     "name": "stdout",
     "output_type": "stream",
     "text": [
      "INFO:tensorflow:Assets written to: C:\\Users\\ucesvpm\\OneDrive - University College London\\PhD Project\\Data Analytics\\Time Series Clustering\\Third Test\\Time-Series-PhD\\wandb\\run-20230207_154855-v43aq602\\files\\model-best\\assets\n"
     ]
    },
    {
     "name": "stderr",
     "output_type": "stream",
     "text": [
      "INFO:tensorflow:Assets written to: C:\\Users\\ucesvpm\\OneDrive - University College London\\PhD Project\\Data Analytics\\Time Series Clustering\\Third Test\\Time-Series-PhD\\wandb\\run-20230207_154855-v43aq602\\files\\model-best\\assets\n",
      "\u001b[34m\u001b[1mwandb\u001b[0m: Adding directory to artifact (C:\\Users\\ucesvpm\\OneDrive - University College London\\PhD Project\\Data Analytics\\Time Series Clustering\\Third Test\\Time-Series-PhD\\wandb\\run-20230207_154855-v43aq602\\files\\model-best)... Done. 0.0s\n"
     ]
    },
    {
     "name": "stdout",
     "output_type": "stream",
     "text": [
      "385/385 [==============================] - 8s 21ms/step - loss: 0.4888 - mse: 0.4888 - val_loss: 0.4940 - val_mse: 0.4940 - lr: 1.4804e-05\n",
      "Epoch 25/100\n",
      "384/385 [============================>.] - ETA: 0s - loss: 0.4872 - mse: 0.4872"
     ]
    },
    {
     "name": "stderr",
     "output_type": "stream",
     "text": [
      "WARNING:absl:Found untraced functions such as leaky_re_lu_layer_call_fn, leaky_re_lu_layer_call_and_return_conditional_losses, leaky_re_lu_1_layer_call_fn, leaky_re_lu_1_layer_call_and_return_conditional_losses, leaky_re_lu_2_layer_call_fn while saving (showing 5 of 16). These functions will not be directly callable after loading.\n"
     ]
    },
    {
     "name": "stdout",
     "output_type": "stream",
     "text": [
      "INFO:tensorflow:Assets written to: C:\\Users\\ucesvpm\\OneDrive - University College London\\PhD Project\\Data Analytics\\Time Series Clustering\\Third Test\\Time-Series-PhD\\wandb\\run-20230207_154855-v43aq602\\files\\model-best\\assets\n"
     ]
    },
    {
     "name": "stderr",
     "output_type": "stream",
     "text": [
      "INFO:tensorflow:Assets written to: C:\\Users\\ucesvpm\\OneDrive - University College London\\PhD Project\\Data Analytics\\Time Series Clustering\\Third Test\\Time-Series-PhD\\wandb\\run-20230207_154855-v43aq602\\files\\model-best\\assets\n",
      "\u001b[34m\u001b[1mwandb\u001b[0m: Adding directory to artifact (C:\\Users\\ucesvpm\\OneDrive - University College London\\PhD Project\\Data Analytics\\Time Series Clustering\\Third Test\\Time-Series-PhD\\wandb\\run-20230207_154855-v43aq602\\files\\model-best)... Done. 0.0s\n"
     ]
    },
    {
     "name": "stdout",
     "output_type": "stream",
     "text": [
      "385/385 [==============================] - 8s 20ms/step - loss: 0.4871 - mse: 0.4871 - val_loss: 0.4919 - val_mse: 0.4919 - lr: 1.4804e-05\n",
      "Epoch 26/100\n",
      "382/385 [============================>.] - ETA: 0s - loss: 0.4856 - mse: 0.4856"
     ]
    },
    {
     "name": "stderr",
     "output_type": "stream",
     "text": [
      "WARNING:absl:Found untraced functions such as leaky_re_lu_layer_call_fn, leaky_re_lu_layer_call_and_return_conditional_losses, leaky_re_lu_1_layer_call_fn, leaky_re_lu_1_layer_call_and_return_conditional_losses, leaky_re_lu_2_layer_call_fn while saving (showing 5 of 16). These functions will not be directly callable after loading.\n"
     ]
    },
    {
     "name": "stdout",
     "output_type": "stream",
     "text": [
      "INFO:tensorflow:Assets written to: C:\\Users\\ucesvpm\\OneDrive - University College London\\PhD Project\\Data Analytics\\Time Series Clustering\\Third Test\\Time-Series-PhD\\wandb\\run-20230207_154855-v43aq602\\files\\model-best\\assets\n"
     ]
    },
    {
     "name": "stderr",
     "output_type": "stream",
     "text": [
      "INFO:tensorflow:Assets written to: C:\\Users\\ucesvpm\\OneDrive - University College London\\PhD Project\\Data Analytics\\Time Series Clustering\\Third Test\\Time-Series-PhD\\wandb\\run-20230207_154855-v43aq602\\files\\model-best\\assets\n",
      "\u001b[34m\u001b[1mwandb\u001b[0m: Adding directory to artifact (C:\\Users\\ucesvpm\\OneDrive - University College London\\PhD Project\\Data Analytics\\Time Series Clustering\\Third Test\\Time-Series-PhD\\wandb\\run-20230207_154855-v43aq602\\files\\model-best)... Done. 0.0s\n"
     ]
    },
    {
     "name": "stdout",
     "output_type": "stream",
     "text": [
      "385/385 [==============================] - 10s 25ms/step - loss: 0.4856 - mse: 0.4856 - val_loss: 0.4909 - val_mse: 0.4909 - lr: 1.4804e-05\n",
      "Epoch 27/100\n",
      "381/385 [============================>.] - ETA: 0s - loss: 0.4843 - mse: 0.4843"
     ]
    },
    {
     "name": "stderr",
     "output_type": "stream",
     "text": [
      "WARNING:absl:Found untraced functions such as leaky_re_lu_layer_call_fn, leaky_re_lu_layer_call_and_return_conditional_losses, leaky_re_lu_1_layer_call_fn, leaky_re_lu_1_layer_call_and_return_conditional_losses, leaky_re_lu_2_layer_call_fn while saving (showing 5 of 16). These functions will not be directly callable after loading.\n"
     ]
    },
    {
     "name": "stdout",
     "output_type": "stream",
     "text": [
      "INFO:tensorflow:Assets written to: C:\\Users\\ucesvpm\\OneDrive - University College London\\PhD Project\\Data Analytics\\Time Series Clustering\\Third Test\\Time-Series-PhD\\wandb\\run-20230207_154855-v43aq602\\files\\model-best\\assets\n"
     ]
    },
    {
     "name": "stderr",
     "output_type": "stream",
     "text": [
      "INFO:tensorflow:Assets written to: C:\\Users\\ucesvpm\\OneDrive - University College London\\PhD Project\\Data Analytics\\Time Series Clustering\\Third Test\\Time-Series-PhD\\wandb\\run-20230207_154855-v43aq602\\files\\model-best\\assets\n",
      "\u001b[34m\u001b[1mwandb\u001b[0m: Adding directory to artifact (C:\\Users\\ucesvpm\\OneDrive - University College London\\PhD Project\\Data Analytics\\Time Series Clustering\\Third Test\\Time-Series-PhD\\wandb\\run-20230207_154855-v43aq602\\files\\model-best)... Done. 0.0s\n"
     ]
    },
    {
     "name": "stdout",
     "output_type": "stream",
     "text": [
      "385/385 [==============================] - 9s 23ms/step - loss: 0.4842 - mse: 0.4842 - val_loss: 0.4892 - val_mse: 0.4892 - lr: 1.4804e-05\n",
      "Epoch 28/100\n",
      "382/385 [============================>.] - ETA: 0s - loss: 0.4830 - mse: 0.4830"
     ]
    },
    {
     "name": "stderr",
     "output_type": "stream",
     "text": [
      "WARNING:absl:Found untraced functions such as leaky_re_lu_layer_call_fn, leaky_re_lu_layer_call_and_return_conditional_losses, leaky_re_lu_1_layer_call_fn, leaky_re_lu_1_layer_call_and_return_conditional_losses, leaky_re_lu_2_layer_call_fn while saving (showing 5 of 16). These functions will not be directly callable after loading.\n"
     ]
    },
    {
     "name": "stdout",
     "output_type": "stream",
     "text": [
      "INFO:tensorflow:Assets written to: C:\\Users\\ucesvpm\\OneDrive - University College London\\PhD Project\\Data Analytics\\Time Series Clustering\\Third Test\\Time-Series-PhD\\wandb\\run-20230207_154855-v43aq602\\files\\model-best\\assets\n"
     ]
    },
    {
     "name": "stderr",
     "output_type": "stream",
     "text": [
      "INFO:tensorflow:Assets written to: C:\\Users\\ucesvpm\\OneDrive - University College London\\PhD Project\\Data Analytics\\Time Series Clustering\\Third Test\\Time-Series-PhD\\wandb\\run-20230207_154855-v43aq602\\files\\model-best\\assets\n",
      "\u001b[34m\u001b[1mwandb\u001b[0m: Adding directory to artifact (C:\\Users\\ucesvpm\\OneDrive - University College London\\PhD Project\\Data Analytics\\Time Series Clustering\\Third Test\\Time-Series-PhD\\wandb\\run-20230207_154855-v43aq602\\files\\model-best)... Done. 0.0s\n"
     ]
    },
    {
     "name": "stdout",
     "output_type": "stream",
     "text": [
      "385/385 [==============================] - 8s 21ms/step - loss: 0.4830 - mse: 0.4830 - val_loss: 0.4886 - val_mse: 0.4886 - lr: 1.4804e-05\n",
      "Epoch 29/100\n",
      "385/385 [==============================] - ETA: 0s - loss: 0.4819 - mse: 0.4819"
     ]
    },
    {
     "name": "stderr",
     "output_type": "stream",
     "text": [
      "WARNING:absl:Found untraced functions such as leaky_re_lu_layer_call_fn, leaky_re_lu_layer_call_and_return_conditional_losses, leaky_re_lu_1_layer_call_fn, leaky_re_lu_1_layer_call_and_return_conditional_losses, leaky_re_lu_2_layer_call_fn while saving (showing 5 of 16). These functions will not be directly callable after loading.\n"
     ]
    },
    {
     "name": "stdout",
     "output_type": "stream",
     "text": [
      "INFO:tensorflow:Assets written to: C:\\Users\\ucesvpm\\OneDrive - University College London\\PhD Project\\Data Analytics\\Time Series Clustering\\Third Test\\Time-Series-PhD\\wandb\\run-20230207_154855-v43aq602\\files\\model-best\\assets\n"
     ]
    },
    {
     "name": "stderr",
     "output_type": "stream",
     "text": [
      "INFO:tensorflow:Assets written to: C:\\Users\\ucesvpm\\OneDrive - University College London\\PhD Project\\Data Analytics\\Time Series Clustering\\Third Test\\Time-Series-PhD\\wandb\\run-20230207_154855-v43aq602\\files\\model-best\\assets\n",
      "\u001b[34m\u001b[1mwandb\u001b[0m: Adding directory to artifact (C:\\Users\\ucesvpm\\OneDrive - University College London\\PhD Project\\Data Analytics\\Time Series Clustering\\Third Test\\Time-Series-PhD\\wandb\\run-20230207_154855-v43aq602\\files\\model-best)... Done. 0.1s\n"
     ]
    },
    {
     "name": "stdout",
     "output_type": "stream",
     "text": [
      "385/385 [==============================] - 9s 24ms/step - loss: 0.4819 - mse: 0.4819 - val_loss: 0.4869 - val_mse: 0.4869 - lr: 1.4804e-05\n",
      "Epoch 30/100\n",
      "382/385 [============================>.] - ETA: 0s - loss: 0.4809 - mse: 0.4809"
     ]
    },
    {
     "name": "stderr",
     "output_type": "stream",
     "text": [
      "WARNING:absl:Found untraced functions such as leaky_re_lu_layer_call_fn, leaky_re_lu_layer_call_and_return_conditional_losses, leaky_re_lu_1_layer_call_fn, leaky_re_lu_1_layer_call_and_return_conditional_losses, leaky_re_lu_2_layer_call_fn while saving (showing 5 of 16). These functions will not be directly callable after loading.\n"
     ]
    },
    {
     "name": "stdout",
     "output_type": "stream",
     "text": [
      "INFO:tensorflow:Assets written to: C:\\Users\\ucesvpm\\OneDrive - University College London\\PhD Project\\Data Analytics\\Time Series Clustering\\Third Test\\Time-Series-PhD\\wandb\\run-20230207_154855-v43aq602\\files\\model-best\\assets\n"
     ]
    },
    {
     "name": "stderr",
     "output_type": "stream",
     "text": [
      "INFO:tensorflow:Assets written to: C:\\Users\\ucesvpm\\OneDrive - University College London\\PhD Project\\Data Analytics\\Time Series Clustering\\Third Test\\Time-Series-PhD\\wandb\\run-20230207_154855-v43aq602\\files\\model-best\\assets\n",
      "\u001b[34m\u001b[1mwandb\u001b[0m: Adding directory to artifact (C:\\Users\\ucesvpm\\OneDrive - University College London\\PhD Project\\Data Analytics\\Time Series Clustering\\Third Test\\Time-Series-PhD\\wandb\\run-20230207_154855-v43aq602\\files\\model-best)... Done. 0.0s\n"
     ]
    },
    {
     "name": "stdout",
     "output_type": "stream",
     "text": [
      "385/385 [==============================] - 9s 23ms/step - loss: 0.4808 - mse: 0.4808 - val_loss: 0.4861 - val_mse: 0.4861 - lr: 1.4804e-05\n",
      "Epoch 31/100\n",
      "384/385 [============================>.] - ETA: 0s - loss: 0.4799 - mse: 0.4799"
     ]
    },
    {
     "name": "stderr",
     "output_type": "stream",
     "text": [
      "WARNING:absl:Found untraced functions such as leaky_re_lu_layer_call_fn, leaky_re_lu_layer_call_and_return_conditional_losses, leaky_re_lu_1_layer_call_fn, leaky_re_lu_1_layer_call_and_return_conditional_losses, leaky_re_lu_2_layer_call_fn while saving (showing 5 of 16). These functions will not be directly callable after loading.\n"
     ]
    },
    {
     "name": "stdout",
     "output_type": "stream",
     "text": [
      "INFO:tensorflow:Assets written to: C:\\Users\\ucesvpm\\OneDrive - University College London\\PhD Project\\Data Analytics\\Time Series Clustering\\Third Test\\Time-Series-PhD\\wandb\\run-20230207_154855-v43aq602\\files\\model-best\\assets\n"
     ]
    },
    {
     "name": "stderr",
     "output_type": "stream",
     "text": [
      "INFO:tensorflow:Assets written to: C:\\Users\\ucesvpm\\OneDrive - University College London\\PhD Project\\Data Analytics\\Time Series Clustering\\Third Test\\Time-Series-PhD\\wandb\\run-20230207_154855-v43aq602\\files\\model-best\\assets\n",
      "\u001b[34m\u001b[1mwandb\u001b[0m: Adding directory to artifact (C:\\Users\\ucesvpm\\OneDrive - University College London\\PhD Project\\Data Analytics\\Time Series Clustering\\Third Test\\Time-Series-PhD\\wandb\\run-20230207_154855-v43aq602\\files\\model-best)... Done. 0.1s\n"
     ]
    },
    {
     "name": "stdout",
     "output_type": "stream",
     "text": [
      "385/385 [==============================] - 10s 25ms/step - loss: 0.4799 - mse: 0.4799 - val_loss: 0.4853 - val_mse: 0.4853 - lr: 1.4804e-05\n",
      "Epoch 32/100\n",
      "384/385 [============================>.] - ETA: 0s - loss: 0.4790 - mse: 0.4790"
     ]
    },
    {
     "name": "stderr",
     "output_type": "stream",
     "text": [
      "WARNING:absl:Found untraced functions such as leaky_re_lu_layer_call_fn, leaky_re_lu_layer_call_and_return_conditional_losses, leaky_re_lu_1_layer_call_fn, leaky_re_lu_1_layer_call_and_return_conditional_losses, leaky_re_lu_2_layer_call_fn while saving (showing 5 of 16). These functions will not be directly callable after loading.\n"
     ]
    },
    {
     "name": "stdout",
     "output_type": "stream",
     "text": [
      "INFO:tensorflow:Assets written to: C:\\Users\\ucesvpm\\OneDrive - University College London\\PhD Project\\Data Analytics\\Time Series Clustering\\Third Test\\Time-Series-PhD\\wandb\\run-20230207_154855-v43aq602\\files\\model-best\\assets\n"
     ]
    },
    {
     "name": "stderr",
     "output_type": "stream",
     "text": [
      "INFO:tensorflow:Assets written to: C:\\Users\\ucesvpm\\OneDrive - University College London\\PhD Project\\Data Analytics\\Time Series Clustering\\Third Test\\Time-Series-PhD\\wandb\\run-20230207_154855-v43aq602\\files\\model-best\\assets\n",
      "\u001b[34m\u001b[1mwandb\u001b[0m: Adding directory to artifact (C:\\Users\\ucesvpm\\OneDrive - University College London\\PhD Project\\Data Analytics\\Time Series Clustering\\Third Test\\Time-Series-PhD\\wandb\\run-20230207_154855-v43aq602\\files\\model-best)... Done. 0.0s\n"
     ]
    },
    {
     "name": "stdout",
     "output_type": "stream",
     "text": [
      "385/385 [==============================] - 8s 21ms/step - loss: 0.4790 - mse: 0.4790 - val_loss: 0.4841 - val_mse: 0.4841 - lr: 1.4804e-05\n",
      "Epoch 33/100\n",
      "382/385 [============================>.] - ETA: 0s - loss: 0.4780 - mse: 0.4780"
     ]
    },
    {
     "name": "stderr",
     "output_type": "stream",
     "text": [
      "WARNING:absl:Found untraced functions such as leaky_re_lu_layer_call_fn, leaky_re_lu_layer_call_and_return_conditional_losses, leaky_re_lu_1_layer_call_fn, leaky_re_lu_1_layer_call_and_return_conditional_losses, leaky_re_lu_2_layer_call_fn while saving (showing 5 of 16). These functions will not be directly callable after loading.\n"
     ]
    },
    {
     "name": "stdout",
     "output_type": "stream",
     "text": [
      "INFO:tensorflow:Assets written to: C:\\Users\\ucesvpm\\OneDrive - University College London\\PhD Project\\Data Analytics\\Time Series Clustering\\Third Test\\Time-Series-PhD\\wandb\\run-20230207_154855-v43aq602\\files\\model-best\\assets\n"
     ]
    },
    {
     "name": "stderr",
     "output_type": "stream",
     "text": [
      "INFO:tensorflow:Assets written to: C:\\Users\\ucesvpm\\OneDrive - University College London\\PhD Project\\Data Analytics\\Time Series Clustering\\Third Test\\Time-Series-PhD\\wandb\\run-20230207_154855-v43aq602\\files\\model-best\\assets\n",
      "\u001b[34m\u001b[1mwandb\u001b[0m: Adding directory to artifact (C:\\Users\\ucesvpm\\OneDrive - University College London\\PhD Project\\Data Analytics\\Time Series Clustering\\Third Test\\Time-Series-PhD\\wandb\\run-20230207_154855-v43aq602\\files\\model-best)... Done. 0.0s\n"
     ]
    },
    {
     "name": "stdout",
     "output_type": "stream",
     "text": [
      "385/385 [==============================] - 9s 24ms/step - loss: 0.4781 - mse: 0.4781 - val_loss: 0.4835 - val_mse: 0.4835 - lr: 1.4804e-05\n",
      "Epoch 34/100\n",
      "384/385 [============================>.] - ETA: 0s - loss: 0.4774 - mse: 0.4774"
     ]
    },
    {
     "name": "stderr",
     "output_type": "stream",
     "text": [
      "WARNING:absl:Found untraced functions such as leaky_re_lu_layer_call_fn, leaky_re_lu_layer_call_and_return_conditional_losses, leaky_re_lu_1_layer_call_fn, leaky_re_lu_1_layer_call_and_return_conditional_losses, leaky_re_lu_2_layer_call_fn while saving (showing 5 of 16). These functions will not be directly callable after loading.\n"
     ]
    },
    {
     "name": "stdout",
     "output_type": "stream",
     "text": [
      "INFO:tensorflow:Assets written to: C:\\Users\\ucesvpm\\OneDrive - University College London\\PhD Project\\Data Analytics\\Time Series Clustering\\Third Test\\Time-Series-PhD\\wandb\\run-20230207_154855-v43aq602\\files\\model-best\\assets\n"
     ]
    },
    {
     "name": "stderr",
     "output_type": "stream",
     "text": [
      "INFO:tensorflow:Assets written to: C:\\Users\\ucesvpm\\OneDrive - University College London\\PhD Project\\Data Analytics\\Time Series Clustering\\Third Test\\Time-Series-PhD\\wandb\\run-20230207_154855-v43aq602\\files\\model-best\\assets\n",
      "\u001b[34m\u001b[1mwandb\u001b[0m: Adding directory to artifact (C:\\Users\\ucesvpm\\OneDrive - University College London\\PhD Project\\Data Analytics\\Time Series Clustering\\Third Test\\Time-Series-PhD\\wandb\\run-20230207_154855-v43aq602\\files\\model-best)... Done. 0.0s\n"
     ]
    },
    {
     "name": "stdout",
     "output_type": "stream",
     "text": [
      "385/385 [==============================] - 9s 24ms/step - loss: 0.4773 - mse: 0.4773 - val_loss: 0.4827 - val_mse: 0.4827 - lr: 1.4804e-05\n",
      "Epoch 35/100\n",
      "383/385 [============================>.] - ETA: 0s - loss: 0.4765 - mse: 0.4765"
     ]
    },
    {
     "name": "stderr",
     "output_type": "stream",
     "text": [
      "WARNING:absl:Found untraced functions such as leaky_re_lu_layer_call_fn, leaky_re_lu_layer_call_and_return_conditional_losses, leaky_re_lu_1_layer_call_fn, leaky_re_lu_1_layer_call_and_return_conditional_losses, leaky_re_lu_2_layer_call_fn while saving (showing 5 of 16). These functions will not be directly callable after loading.\n"
     ]
    },
    {
     "name": "stdout",
     "output_type": "stream",
     "text": [
      "INFO:tensorflow:Assets written to: C:\\Users\\ucesvpm\\OneDrive - University College London\\PhD Project\\Data Analytics\\Time Series Clustering\\Third Test\\Time-Series-PhD\\wandb\\run-20230207_154855-v43aq602\\files\\model-best\\assets\n"
     ]
    },
    {
     "name": "stderr",
     "output_type": "stream",
     "text": [
      "INFO:tensorflow:Assets written to: C:\\Users\\ucesvpm\\OneDrive - University College London\\PhD Project\\Data Analytics\\Time Series Clustering\\Third Test\\Time-Series-PhD\\wandb\\run-20230207_154855-v43aq602\\files\\model-best\\assets\n",
      "\u001b[34m\u001b[1mwandb\u001b[0m: Adding directory to artifact (C:\\Users\\ucesvpm\\OneDrive - University College London\\PhD Project\\Data Analytics\\Time Series Clustering\\Third Test\\Time-Series-PhD\\wandb\\run-20230207_154855-v43aq602\\files\\model-best)... Done. 0.1s\n"
     ]
    },
    {
     "name": "stdout",
     "output_type": "stream",
     "text": [
      "385/385 [==============================] - 9s 23ms/step - loss: 0.4766 - mse: 0.4766 - val_loss: 0.4821 - val_mse: 0.4821 - lr: 1.4804e-05\n",
      "Epoch 36/100\n",
      "381/385 [============================>.] - ETA: 0s - loss: 0.4759 - mse: 0.4759"
     ]
    },
    {
     "name": "stderr",
     "output_type": "stream",
     "text": [
      "WARNING:absl:Found untraced functions such as leaky_re_lu_layer_call_fn, leaky_re_lu_layer_call_and_return_conditional_losses, leaky_re_lu_1_layer_call_fn, leaky_re_lu_1_layer_call_and_return_conditional_losses, leaky_re_lu_2_layer_call_fn while saving (showing 5 of 16). These functions will not be directly callable after loading.\n"
     ]
    },
    {
     "name": "stdout",
     "output_type": "stream",
     "text": [
      "INFO:tensorflow:Assets written to: C:\\Users\\ucesvpm\\OneDrive - University College London\\PhD Project\\Data Analytics\\Time Series Clustering\\Third Test\\Time-Series-PhD\\wandb\\run-20230207_154855-v43aq602\\files\\model-best\\assets\n"
     ]
    },
    {
     "name": "stderr",
     "output_type": "stream",
     "text": [
      "INFO:tensorflow:Assets written to: C:\\Users\\ucesvpm\\OneDrive - University College London\\PhD Project\\Data Analytics\\Time Series Clustering\\Third Test\\Time-Series-PhD\\wandb\\run-20230207_154855-v43aq602\\files\\model-best\\assets\n",
      "\u001b[34m\u001b[1mwandb\u001b[0m: Adding directory to artifact (C:\\Users\\ucesvpm\\OneDrive - University College London\\PhD Project\\Data Analytics\\Time Series Clustering\\Third Test\\Time-Series-PhD\\wandb\\run-20230207_154855-v43aq602\\files\\model-best)... Done. 0.1s\n"
     ]
    },
    {
     "name": "stdout",
     "output_type": "stream",
     "text": [
      "385/385 [==============================] - 10s 26ms/step - loss: 0.4759 - mse: 0.4759 - val_loss: 0.4815 - val_mse: 0.4815 - lr: 1.4804e-05\n",
      "Epoch 37/100\n",
      "384/385 [============================>.] - ETA: 0s - loss: 0.4752 - mse: 0.4752"
     ]
    },
    {
     "name": "stderr",
     "output_type": "stream",
     "text": [
      "WARNING:absl:Found untraced functions such as leaky_re_lu_layer_call_fn, leaky_re_lu_layer_call_and_return_conditional_losses, leaky_re_lu_1_layer_call_fn, leaky_re_lu_1_layer_call_and_return_conditional_losses, leaky_re_lu_2_layer_call_fn while saving (showing 5 of 16). These functions will not be directly callable after loading.\n"
     ]
    },
    {
     "name": "stdout",
     "output_type": "stream",
     "text": [
      "INFO:tensorflow:Assets written to: C:\\Users\\ucesvpm\\OneDrive - University College London\\PhD Project\\Data Analytics\\Time Series Clustering\\Third Test\\Time-Series-PhD\\wandb\\run-20230207_154855-v43aq602\\files\\model-best\\assets\n"
     ]
    },
    {
     "name": "stderr",
     "output_type": "stream",
     "text": [
      "INFO:tensorflow:Assets written to: C:\\Users\\ucesvpm\\OneDrive - University College London\\PhD Project\\Data Analytics\\Time Series Clustering\\Third Test\\Time-Series-PhD\\wandb\\run-20230207_154855-v43aq602\\files\\model-best\\assets\n",
      "\u001b[34m\u001b[1mwandb\u001b[0m: Adding directory to artifact (C:\\Users\\ucesvpm\\OneDrive - University College London\\PhD Project\\Data Analytics\\Time Series Clustering\\Third Test\\Time-Series-PhD\\wandb\\run-20230207_154855-v43aq602\\files\\model-best)... Done. 0.0s\n"
     ]
    },
    {
     "name": "stdout",
     "output_type": "stream",
     "text": [
      "385/385 [==============================] - 9s 23ms/step - loss: 0.4752 - mse: 0.4752 - val_loss: 0.4806 - val_mse: 0.4806 - lr: 1.4804e-05\n",
      "Epoch 38/100\n",
      "385/385 [==============================] - ETA: 0s - loss: 0.4746 - mse: 0.4746"
     ]
    },
    {
     "name": "stderr",
     "output_type": "stream",
     "text": [
      "WARNING:absl:Found untraced functions such as leaky_re_lu_layer_call_fn, leaky_re_lu_layer_call_and_return_conditional_losses, leaky_re_lu_1_layer_call_fn, leaky_re_lu_1_layer_call_and_return_conditional_losses, leaky_re_lu_2_layer_call_fn while saving (showing 5 of 16). These functions will not be directly callable after loading.\n"
     ]
    },
    {
     "name": "stdout",
     "output_type": "stream",
     "text": [
      "INFO:tensorflow:Assets written to: C:\\Users\\ucesvpm\\OneDrive - University College London\\PhD Project\\Data Analytics\\Time Series Clustering\\Third Test\\Time-Series-PhD\\wandb\\run-20230207_154855-v43aq602\\files\\model-best\\assets\n"
     ]
    },
    {
     "name": "stderr",
     "output_type": "stream",
     "text": [
      "INFO:tensorflow:Assets written to: C:\\Users\\ucesvpm\\OneDrive - University College London\\PhD Project\\Data Analytics\\Time Series Clustering\\Third Test\\Time-Series-PhD\\wandb\\run-20230207_154855-v43aq602\\files\\model-best\\assets\n",
      "\u001b[34m\u001b[1mwandb\u001b[0m: Adding directory to artifact (C:\\Users\\ucesvpm\\OneDrive - University College London\\PhD Project\\Data Analytics\\Time Series Clustering\\Third Test\\Time-Series-PhD\\wandb\\run-20230207_154855-v43aq602\\files\\model-best)... Done. 0.1s\n"
     ]
    },
    {
     "name": "stdout",
     "output_type": "stream",
     "text": [
      "385/385 [==============================] - 9s 23ms/step - loss: 0.4746 - mse: 0.4746 - val_loss: 0.4800 - val_mse: 0.4800 - lr: 1.4804e-05\n",
      "Epoch 39/100\n",
      "383/385 [============================>.] - ETA: 0s - loss: 0.4740 - mse: 0.4740"
     ]
    },
    {
     "name": "stderr",
     "output_type": "stream",
     "text": [
      "WARNING:absl:Found untraced functions such as leaky_re_lu_layer_call_fn, leaky_re_lu_layer_call_and_return_conditional_losses, leaky_re_lu_1_layer_call_fn, leaky_re_lu_1_layer_call_and_return_conditional_losses, leaky_re_lu_2_layer_call_fn while saving (showing 5 of 16). These functions will not be directly callable after loading.\n"
     ]
    },
    {
     "name": "stdout",
     "output_type": "stream",
     "text": [
      "INFO:tensorflow:Assets written to: C:\\Users\\ucesvpm\\OneDrive - University College London\\PhD Project\\Data Analytics\\Time Series Clustering\\Third Test\\Time-Series-PhD\\wandb\\run-20230207_154855-v43aq602\\files\\model-best\\assets\n"
     ]
    },
    {
     "name": "stderr",
     "output_type": "stream",
     "text": [
      "INFO:tensorflow:Assets written to: C:\\Users\\ucesvpm\\OneDrive - University College London\\PhD Project\\Data Analytics\\Time Series Clustering\\Third Test\\Time-Series-PhD\\wandb\\run-20230207_154855-v43aq602\\files\\model-best\\assets\n",
      "\u001b[34m\u001b[1mwandb\u001b[0m: Adding directory to artifact (C:\\Users\\ucesvpm\\OneDrive - University College London\\PhD Project\\Data Analytics\\Time Series Clustering\\Third Test\\Time-Series-PhD\\wandb\\run-20230207_154855-v43aq602\\files\\model-best)... Done. 0.0s\n"
     ]
    },
    {
     "name": "stdout",
     "output_type": "stream",
     "text": [
      "385/385 [==============================] - 9s 24ms/step - loss: 0.4740 - mse: 0.4740 - val_loss: 0.4795 - val_mse: 0.4795 - lr: 1.4804e-05\n",
      "Epoch 40/100\n",
      "384/385 [============================>.] - ETA: 0s - loss: 0.4734 - mse: 0.4734"
     ]
    },
    {
     "data": {
      "text/html": [
       "Waiting for W&B process to finish... <strong style=\"color:red\">(failed 1).</strong> Press Ctrl-C to abort syncing."
      ],
      "text/plain": [
       "<IPython.core.display.HTML object>"
      ]
     },
     "metadata": {},
     "output_type": "display_data"
    },
    {
     "data": {
      "text/html": [
       "<style>\n",
       "    table.wandb td:nth-child(1) { padding: 0 10px; text-align: left ; width: auto;} td:nth-child(2) {text-align: left ; width: 100%}\n",
       "    .wandb-row { display: flex; flex-direction: row; flex-wrap: wrap; justify-content: flex-start; width: 100% }\n",
       "    .wandb-col { display: flex; flex-direction: column; flex-basis: 100%; flex: 1; padding: 10px; }\n",
       "    </style>\n",
       "<div class=\"wandb-row\"><div class=\"wandb-col\"><h3>Run history:</h3><br/><table class=\"wandb\"><tr><td>epoch</td><td>▁▁▁▂▂▂▂▂▂▃▃▃▃▃▄▄▄▄▄▄▅▅▅▅▅▅▆▆▆▆▆▇▇▇▇▇▇███</td></tr><tr><td>loss</td><td>█▃▃▂▂▂▂▂▂▁▁▁▁▁▁▁▁▁▁▁▁▁▁▁▁▁▁▁▁▁▁▁▁▁▁▁▁▁▁▁</td></tr><tr><td>mse</td><td>█▃▃▂▂▂▂▂▂▁▁▁▁▁▁▁▁▁▁▁▁▁▁▁▁▁▁▁▁▁▁▁▁▁▁▁▁▁▁▁</td></tr><tr><td>val_loss</td><td>█▆▅▄▃▃▃▂▂▂▂▂▂▂▂▁▁▁▁▁▁▁▁▁▁▁▁▁▁▁▁▁▁▁▁▁▁▁▁▁</td></tr><tr><td>val_mse</td><td>█▆▅▄▃▃▃▂▂▂▂▂▂▂▂▁▁▁▁▁▁▁▁▁▁▁▁▁▁▁▁▁▁▁▁▁▁▁▁▁</td></tr></table><br/></div><div class=\"wandb-col\"><h3>Run summary:</h3><br/><table class=\"wandb\"><tr><td>best_epoch</td><td>39</td></tr><tr><td>best_val_loss</td><td>0.47882</td></tr><tr><td>epoch</td><td>39</td></tr><tr><td>loss</td><td>0.47343</td></tr><tr><td>mse</td><td>0.47343</td></tr><tr><td>val_loss</td><td>0.47882</td></tr><tr><td>val_mse</td><td>0.47882</td></tr></table><br/></div></div>"
      ],
      "text/plain": [
       "<IPython.core.display.HTML object>"
      ]
     },
     "metadata": {},
     "output_type": "display_data"
    },
    {
     "data": {
      "text/html": [
       "Synced <strong style=\"color:#cdcd00\">dry-sweep-1</strong>: <a href=\"https://wandb.ai/vasco-phd/FC_AE-Kenya_10k_Set_1_w90/runs/v43aq602\" target=\"_blank\">https://wandb.ai/vasco-phd/FC_AE-Kenya_10k_Set_1_w90/runs/v43aq602</a><br/>Synced 6 W&B file(s), 1 media file(s), 118 artifact file(s) and 1 other file(s)"
      ],
      "text/plain": [
       "<IPython.core.display.HTML object>"
      ]
     },
     "metadata": {},
     "output_type": "display_data"
    },
    {
     "data": {
      "text/html": [
       "Find logs at: <code>.\\wandb\\run-20230207_154855-v43aq602\\logs</code>"
      ],
      "text/plain": [
       "<IPython.core.display.HTML object>"
      ]
     },
     "metadata": {},
     "output_type": "display_data"
    },
    {
     "name": "stderr",
     "output_type": "stream",
     "text": [
      "Run v43aq602 errored: PermissionError(13, \"Unable to create file (unable to open file: name = 'C:\\\\Users\\\\ucesvpm\\\\OneDrive - University College London\\\\PhD Project\\\\Data Analytics\\\\Time Series Clustering\\\\Third Test\\\\Time-Series-PhD\\\\wandb\\\\run-20230207_154855-v43aq602\\\\files\\\\model-best.h5', errno = 13, error message = 'Permission denied', flags = 13, o_flags = 302)\")\n",
      "\u001b[34m\u001b[1mwandb\u001b[0m: \u001b[32m\u001b[41mERROR\u001b[0m Run v43aq602 errored: PermissionError(13, \"Unable to create file (unable to open file: name = 'C:\\\\Users\\\\ucesvpm\\\\OneDrive - University College London\\\\PhD Project\\\\Data Analytics\\\\Time Series Clustering\\\\Third Test\\\\Time-Series-PhD\\\\wandb\\\\run-20230207_154855-v43aq602\\\\files\\\\model-best.h5', errno = 13, error message = 'Permission denied', flags = 13, o_flags = 302)\")\n",
      "\u001b[34m\u001b[1mwandb\u001b[0m: Sweep Agent: Waiting for job.\n",
      "\u001b[34m\u001b[1mwandb\u001b[0m: Job received.\n",
      "\u001b[34m\u001b[1mwandb\u001b[0m: Agent Starting Run: iigaena8 with config:\n",
      "\u001b[34m\u001b[1mwandb\u001b[0m: \tactivation_fn: SELU\n",
      "\u001b[34m\u001b[1mwandb\u001b[0m: \tbatch_size: 26\n",
      "\u001b[34m\u001b[1mwandb\u001b[0m: \tepochs: 100\n",
      "\u001b[34m\u001b[1mwandb\u001b[0m: \tlatent_layer_size: 10\n",
      "\u001b[34m\u001b[1mwandb\u001b[0m: \tlearning_rate: 2.019792548452889e-05\n",
      "\u001b[34m\u001b[1mwandb\u001b[0m: \toptimizer: nadam\n",
      "\u001b[34m\u001b[1mwandb\u001b[0m: \twindow_length: 90\n"
     ]
    },
    {
     "data": {
      "text/html": [
       "wandb version 0.13.9 is available!  To upgrade, please run:\n",
       " $ pip install wandb --upgrade"
      ],
      "text/plain": [
       "<IPython.core.display.HTML object>"
      ]
     },
     "metadata": {},
     "output_type": "display_data"
    },
    {
     "data": {
      "text/html": [
       "Tracking run with wandb version 0.13.6"
      ],
      "text/plain": [
       "<IPython.core.display.HTML object>"
      ]
     },
     "metadata": {},
     "output_type": "display_data"
    },
    {
     "data": {
      "text/html": [
       "Run data is saved locally in <code>C:\\Users\\ucesvpm\\OneDrive - University College London\\PhD Project\\Data Analytics\\Time Series Clustering\\Third Test\\Time-Series-PhD\\wandb\\run-20230207_155453-iigaena8</code>"
      ],
      "text/plain": [
       "<IPython.core.display.HTML object>"
      ]
     },
     "metadata": {},
     "output_type": "display_data"
    },
    {
     "data": {
      "text/html": [
       "Syncing run <strong><a href=\"https://wandb.ai/vasco-phd/FC_AE-Kenya_10k_Set_1_w90/runs/iigaena8\" target=\"_blank\">cerulean-sweep-2</a></strong> to <a href=\"https://wandb.ai/vasco-phd/FC_AE-Kenya_10k_Set_1_w90\" target=\"_blank\">Weights & Biases</a> (<a href=\"https://wandb.me/run\" target=\"_blank\">docs</a>)<br/>Sweep page:  <a href=\"https://wandb.ai/vasco-phd/FC_AE-Kenya_10k_Set_1_w90/sweeps/kcva21dq\" target=\"_blank\">https://wandb.ai/vasco-phd/FC_AE-Kenya_10k_Set_1_w90/sweeps/kcva21dq</a>"
      ],
      "text/plain": [
       "<IPython.core.display.HTML object>"
      ]
     },
     "metadata": {},
     "output_type": "display_data"
    },
    {
     "name": "stdout",
     "output_type": "stream",
     "text": [
      "Epoch 1/100\n",
      "2720/2725 [============================>.] - ETA: 0s - loss: 0.6746 - mse: 0.6746"
     ]
    },
    {
     "name": "stderr",
     "output_type": "stream",
     "text": [
      "WARNING:absl:Found untraced functions such as activation_layer_call_fn, activation_layer_call_and_return_conditional_losses, activation_1_layer_call_fn, activation_1_layer_call_and_return_conditional_losses, activation_2_layer_call_fn while saving (showing 5 of 16). These functions will not be directly callable after loading.\n"
     ]
    },
    {
     "name": "stdout",
     "output_type": "stream",
     "text": [
      "INFO:tensorflow:Assets written to: C:\\Users\\ucesvpm\\OneDrive - University College London\\PhD Project\\Data Analytics\\Time Series Clustering\\Third Test\\Time-Series-PhD\\wandb\\run-20230207_155453-iigaena8\\files\\model-best\\assets\n"
     ]
    },
    {
     "name": "stderr",
     "output_type": "stream",
     "text": [
      "INFO:tensorflow:Assets written to: C:\\Users\\ucesvpm\\OneDrive - University College London\\PhD Project\\Data Analytics\\Time Series Clustering\\Third Test\\Time-Series-PhD\\wandb\\run-20230207_155453-iigaena8\\files\\model-best\\assets\n",
      "\u001b[34m\u001b[1mwandb\u001b[0m: Adding directory to artifact (C:\\Users\\ucesvpm\\OneDrive - University College London\\PhD Project\\Data Analytics\\Time Series Clustering\\Third Test\\Time-Series-PhD\\wandb\\run-20230207_155453-iigaena8\\files\\model-best)... Done. 0.1s\n"
     ]
    },
    {
     "name": "stdout",
     "output_type": "stream",
     "text": [
      "2725/2725 [==============================] - 29s 10ms/step - loss: 0.6744 - mse: 0.6744 - val_loss: 0.5585 - val_mse: 0.5585 - lr: 2.0198e-05\n",
      "Epoch 2/100\n",
      "2724/2725 [============================>.] - ETA: 0s - loss: 0.5329 - mse: 0.5329"
     ]
    },
    {
     "name": "stderr",
     "output_type": "stream",
     "text": [
      "WARNING:absl:Found untraced functions such as activation_layer_call_fn, activation_layer_call_and_return_conditional_losses, activation_1_layer_call_fn, activation_1_layer_call_and_return_conditional_losses, activation_2_layer_call_fn while saving (showing 5 of 16). These functions will not be directly callable after loading.\n"
     ]
    },
    {
     "name": "stdout",
     "output_type": "stream",
     "text": [
      "INFO:tensorflow:Assets written to: C:\\Users\\ucesvpm\\OneDrive - University College London\\PhD Project\\Data Analytics\\Time Series Clustering\\Third Test\\Time-Series-PhD\\wandb\\run-20230207_155453-iigaena8\\files\\model-best\\assets\n"
     ]
    },
    {
     "name": "stderr",
     "output_type": "stream",
     "text": [
      "INFO:tensorflow:Assets written to: C:\\Users\\ucesvpm\\OneDrive - University College London\\PhD Project\\Data Analytics\\Time Series Clustering\\Third Test\\Time-Series-PhD\\wandb\\run-20230207_155453-iigaena8\\files\\model-best\\assets\n",
      "\u001b[34m\u001b[1mwandb\u001b[0m: Adding directory to artifact (C:\\Users\\ucesvpm\\OneDrive - University College London\\PhD Project\\Data Analytics\\Time Series Clustering\\Third Test\\Time-Series-PhD\\wandb\\run-20230207_155453-iigaena8\\files\\model-best)... Done. 0.0s\n"
     ]
    },
    {
     "name": "stdout",
     "output_type": "stream",
     "text": [
      "2725/2725 [==============================] - 25s 9ms/step - loss: 0.5329 - mse: 0.5329 - val_loss: 0.5229 - val_mse: 0.5229 - lr: 2.0198e-05\n",
      "Epoch 3/100\n",
      "2724/2725 [============================>.] - ETA: 0s - loss: 0.5081 - mse: 0.5081"
     ]
    },
    {
     "name": "stderr",
     "output_type": "stream",
     "text": [
      "WARNING:absl:Found untraced functions such as activation_layer_call_fn, activation_layer_call_and_return_conditional_losses, activation_1_layer_call_fn, activation_1_layer_call_and_return_conditional_losses, activation_2_layer_call_fn while saving (showing 5 of 16). These functions will not be directly callable after loading.\n"
     ]
    },
    {
     "name": "stdout",
     "output_type": "stream",
     "text": [
      "INFO:tensorflow:Assets written to: C:\\Users\\ucesvpm\\OneDrive - University College London\\PhD Project\\Data Analytics\\Time Series Clustering\\Third Test\\Time-Series-PhD\\wandb\\run-20230207_155453-iigaena8\\files\\model-best\\assets\n"
     ]
    },
    {
     "name": "stderr",
     "output_type": "stream",
     "text": [
      "INFO:tensorflow:Assets written to: C:\\Users\\ucesvpm\\OneDrive - University College London\\PhD Project\\Data Analytics\\Time Series Clustering\\Third Test\\Time-Series-PhD\\wandb\\run-20230207_155453-iigaena8\\files\\model-best\\assets\n",
      "\u001b[34m\u001b[1mwandb\u001b[0m: Adding directory to artifact (C:\\Users\\ucesvpm\\OneDrive - University College London\\PhD Project\\Data Analytics\\Time Series Clustering\\Third Test\\Time-Series-PhD\\wandb\\run-20230207_155453-iigaena8\\files\\model-best)... Done. 0.0s\n"
     ]
    },
    {
     "name": "stdout",
     "output_type": "stream",
     "text": [
      "2725/2725 [==============================] - 25s 9ms/step - loss: 0.5081 - mse: 0.5081 - val_loss: 0.5066 - val_mse: 0.5066 - lr: 2.0198e-05\n",
      "Epoch 4/100\n",
      "2722/2725 [============================>.] - ETA: 0s - loss: 0.4949 - mse: 0.4949"
     ]
    },
    {
     "name": "stderr",
     "output_type": "stream",
     "text": [
      "WARNING:absl:Found untraced functions such as activation_layer_call_fn, activation_layer_call_and_return_conditional_losses, activation_1_layer_call_fn, activation_1_layer_call_and_return_conditional_losses, activation_2_layer_call_fn while saving (showing 5 of 16). These functions will not be directly callable after loading.\n"
     ]
    },
    {
     "name": "stdout",
     "output_type": "stream",
     "text": [
      "INFO:tensorflow:Assets written to: C:\\Users\\ucesvpm\\OneDrive - University College London\\PhD Project\\Data Analytics\\Time Series Clustering\\Third Test\\Time-Series-PhD\\wandb\\run-20230207_155453-iigaena8\\files\\model-best\\assets\n"
     ]
    },
    {
     "name": "stderr",
     "output_type": "stream",
     "text": [
      "INFO:tensorflow:Assets written to: C:\\Users\\ucesvpm\\OneDrive - University College London\\PhD Project\\Data Analytics\\Time Series Clustering\\Third Test\\Time-Series-PhD\\wandb\\run-20230207_155453-iigaena8\\files\\model-best\\assets\n",
      "\u001b[34m\u001b[1mwandb\u001b[0m: Adding directory to artifact (C:\\Users\\ucesvpm\\OneDrive - University College London\\PhD Project\\Data Analytics\\Time Series Clustering\\Third Test\\Time-Series-PhD\\wandb\\run-20230207_155453-iigaena8\\files\\model-best)... Done. 0.0s\n"
     ]
    },
    {
     "name": "stdout",
     "output_type": "stream",
     "text": [
      "2725/2725 [==============================] - 23s 9ms/step - loss: 0.4949 - mse: 0.4949 - val_loss: 0.4973 - val_mse: 0.4973 - lr: 2.0198e-05\n",
      "Epoch 5/100\n",
      "2722/2725 [============================>.] - ETA: 0s - loss: 0.4869 - mse: 0.4869"
     ]
    },
    {
     "name": "stderr",
     "output_type": "stream",
     "text": [
      "WARNING:absl:Found untraced functions such as activation_layer_call_fn, activation_layer_call_and_return_conditional_losses, activation_1_layer_call_fn, activation_1_layer_call_and_return_conditional_losses, activation_2_layer_call_fn while saving (showing 5 of 16). These functions will not be directly callable after loading.\n"
     ]
    },
    {
     "name": "stdout",
     "output_type": "stream",
     "text": [
      "INFO:tensorflow:Assets written to: C:\\Users\\ucesvpm\\OneDrive - University College London\\PhD Project\\Data Analytics\\Time Series Clustering\\Third Test\\Time-Series-PhD\\wandb\\run-20230207_155453-iigaena8\\files\\model-best\\assets\n"
     ]
    },
    {
     "name": "stderr",
     "output_type": "stream",
     "text": [
      "INFO:tensorflow:Assets written to: C:\\Users\\ucesvpm\\OneDrive - University College London\\PhD Project\\Data Analytics\\Time Series Clustering\\Third Test\\Time-Series-PhD\\wandb\\run-20230207_155453-iigaena8\\files\\model-best\\assets\n",
      "\u001b[34m\u001b[1mwandb\u001b[0m: Adding directory to artifact (C:\\Users\\ucesvpm\\OneDrive - University College London\\PhD Project\\Data Analytics\\Time Series Clustering\\Third Test\\Time-Series-PhD\\wandb\\run-20230207_155453-iigaena8\\files\\model-best)... Done. 0.0s\n"
     ]
    },
    {
     "name": "stdout",
     "output_type": "stream",
     "text": [
      "2725/2725 [==============================] - 25s 9ms/step - loss: 0.4869 - mse: 0.4869 - val_loss: 0.4910 - val_mse: 0.4910 - lr: 2.0198e-05\n",
      "Epoch 6/100\n",
      "2721/2725 [============================>.] - ETA: 0s - loss: 0.4814 - mse: 0.4814"
     ]
    },
    {
     "name": "stderr",
     "output_type": "stream",
     "text": [
      "WARNING:absl:Found untraced functions such as activation_layer_call_fn, activation_layer_call_and_return_conditional_losses, activation_1_layer_call_fn, activation_1_layer_call_and_return_conditional_losses, activation_2_layer_call_fn while saving (showing 5 of 16). These functions will not be directly callable after loading.\n"
     ]
    },
    {
     "name": "stdout",
     "output_type": "stream",
     "text": [
      "INFO:tensorflow:Assets written to: C:\\Users\\ucesvpm\\OneDrive - University College London\\PhD Project\\Data Analytics\\Time Series Clustering\\Third Test\\Time-Series-PhD\\wandb\\run-20230207_155453-iigaena8\\files\\model-best\\assets\n"
     ]
    },
    {
     "name": "stderr",
     "output_type": "stream",
     "text": [
      "INFO:tensorflow:Assets written to: C:\\Users\\ucesvpm\\OneDrive - University College London\\PhD Project\\Data Analytics\\Time Series Clustering\\Third Test\\Time-Series-PhD\\wandb\\run-20230207_155453-iigaena8\\files\\model-best\\assets\n",
      "\u001b[34m\u001b[1mwandb\u001b[0m: Adding directory to artifact (C:\\Users\\ucesvpm\\OneDrive - University College London\\PhD Project\\Data Analytics\\Time Series Clustering\\Third Test\\Time-Series-PhD\\wandb\\run-20230207_155453-iigaena8\\files\\model-best)... Done. 0.0s\n"
     ]
    },
    {
     "name": "stdout",
     "output_type": "stream",
     "text": [
      "2725/2725 [==============================] - 23s 9ms/step - loss: 0.4814 - mse: 0.4814 - val_loss: 0.4866 - val_mse: 0.4866 - lr: 2.0198e-05\n",
      "Epoch 7/100\n",
      "2722/2725 [============================>.] - ETA: 0s - loss: 0.4773 - mse: 0.4773"
     ]
    },
    {
     "name": "stderr",
     "output_type": "stream",
     "text": [
      "WARNING:absl:Found untraced functions such as activation_layer_call_fn, activation_layer_call_and_return_conditional_losses, activation_1_layer_call_fn, activation_1_layer_call_and_return_conditional_losses, activation_2_layer_call_fn while saving (showing 5 of 16). These functions will not be directly callable after loading.\n"
     ]
    },
    {
     "name": "stdout",
     "output_type": "stream",
     "text": [
      "INFO:tensorflow:Assets written to: C:\\Users\\ucesvpm\\OneDrive - University College London\\PhD Project\\Data Analytics\\Time Series Clustering\\Third Test\\Time-Series-PhD\\wandb\\run-20230207_155453-iigaena8\\files\\model-best\\assets\n"
     ]
    },
    {
     "name": "stderr",
     "output_type": "stream",
     "text": [
      "INFO:tensorflow:Assets written to: C:\\Users\\ucesvpm\\OneDrive - University College London\\PhD Project\\Data Analytics\\Time Series Clustering\\Third Test\\Time-Series-PhD\\wandb\\run-20230207_155453-iigaena8\\files\\model-best\\assets\n",
      "\u001b[34m\u001b[1mwandb\u001b[0m: Adding directory to artifact (C:\\Users\\ucesvpm\\OneDrive - University College London\\PhD Project\\Data Analytics\\Time Series Clustering\\Third Test\\Time-Series-PhD\\wandb\\run-20230207_155453-iigaena8\\files\\model-best)... Done. 0.0s\n"
     ]
    },
    {
     "name": "stdout",
     "output_type": "stream",
     "text": [
      "2725/2725 [==============================] - 25s 9ms/step - loss: 0.4773 - mse: 0.4773 - val_loss: 0.4837 - val_mse: 0.4837 - lr: 2.0198e-05\n",
      "Epoch 8/100\n",
      "2725/2725 [==============================] - ETA: 0s - loss: 0.4742 - mse: 0.4742"
     ]
    },
    {
     "name": "stderr",
     "output_type": "stream",
     "text": [
      "WARNING:absl:Found untraced functions such as activation_layer_call_fn, activation_layer_call_and_return_conditional_losses, activation_1_layer_call_fn, activation_1_layer_call_and_return_conditional_losses, activation_2_layer_call_fn while saving (showing 5 of 16). These functions will not be directly callable after loading.\n"
     ]
    },
    {
     "name": "stdout",
     "output_type": "stream",
     "text": [
      "INFO:tensorflow:Assets written to: C:\\Users\\ucesvpm\\OneDrive - University College London\\PhD Project\\Data Analytics\\Time Series Clustering\\Third Test\\Time-Series-PhD\\wandb\\run-20230207_155453-iigaena8\\files\\model-best\\assets\n"
     ]
    },
    {
     "name": "stderr",
     "output_type": "stream",
     "text": [
      "INFO:tensorflow:Assets written to: C:\\Users\\ucesvpm\\OneDrive - University College London\\PhD Project\\Data Analytics\\Time Series Clustering\\Third Test\\Time-Series-PhD\\wandb\\run-20230207_155453-iigaena8\\files\\model-best\\assets\n",
      "\u001b[34m\u001b[1mwandb\u001b[0m: Adding directory to artifact (C:\\Users\\ucesvpm\\OneDrive - University College London\\PhD Project\\Data Analytics\\Time Series Clustering\\Third Test\\Time-Series-PhD\\wandb\\run-20230207_155453-iigaena8\\files\\model-best)... Done. 0.0s\n"
     ]
    },
    {
     "name": "stdout",
     "output_type": "stream",
     "text": [
      "2725/2725 [==============================] - 24s 9ms/step - loss: 0.4742 - mse: 0.4742 - val_loss: 0.4808 - val_mse: 0.4808 - lr: 2.0198e-05\n",
      "Epoch 9/100\n",
      "2723/2725 [============================>.] - ETA: 0s - loss: 0.4716 - mse: 0.4716"
     ]
    },
    {
     "name": "stderr",
     "output_type": "stream",
     "text": [
      "WARNING:absl:Found untraced functions such as activation_layer_call_fn, activation_layer_call_and_return_conditional_losses, activation_1_layer_call_fn, activation_1_layer_call_and_return_conditional_losses, activation_2_layer_call_fn while saving (showing 5 of 16). These functions will not be directly callable after loading.\n"
     ]
    },
    {
     "name": "stdout",
     "output_type": "stream",
     "text": [
      "INFO:tensorflow:Assets written to: C:\\Users\\ucesvpm\\OneDrive - University College London\\PhD Project\\Data Analytics\\Time Series Clustering\\Third Test\\Time-Series-PhD\\wandb\\run-20230207_155453-iigaena8\\files\\model-best\\assets\n"
     ]
    },
    {
     "name": "stderr",
     "output_type": "stream",
     "text": [
      "INFO:tensorflow:Assets written to: C:\\Users\\ucesvpm\\OneDrive - University College London\\PhD Project\\Data Analytics\\Time Series Clustering\\Third Test\\Time-Series-PhD\\wandb\\run-20230207_155453-iigaena8\\files\\model-best\\assets\n",
      "\u001b[34m\u001b[1mwandb\u001b[0m: Adding directory to artifact (C:\\Users\\ucesvpm\\OneDrive - University College London\\PhD Project\\Data Analytics\\Time Series Clustering\\Third Test\\Time-Series-PhD\\wandb\\run-20230207_155453-iigaena8\\files\\model-best)... Done. 0.0s\n"
     ]
    },
    {
     "name": "stdout",
     "output_type": "stream",
     "text": [
      "2725/2725 [==============================] - 26s 9ms/step - loss: 0.4716 - mse: 0.4716 - val_loss: 0.4792 - val_mse: 0.4792 - lr: 2.0198e-05\n",
      "Epoch 10/100\n",
      "2722/2725 [============================>.] - ETA: 0s - loss: 0.4693 - mse: 0.4693"
     ]
    },
    {
     "name": "stderr",
     "output_type": "stream",
     "text": [
      "WARNING:absl:Found untraced functions such as activation_layer_call_fn, activation_layer_call_and_return_conditional_losses, activation_1_layer_call_fn, activation_1_layer_call_and_return_conditional_losses, activation_2_layer_call_fn while saving (showing 5 of 16). These functions will not be directly callable after loading.\n"
     ]
    },
    {
     "name": "stdout",
     "output_type": "stream",
     "text": [
      "INFO:tensorflow:Assets written to: C:\\Users\\ucesvpm\\OneDrive - University College London\\PhD Project\\Data Analytics\\Time Series Clustering\\Third Test\\Time-Series-PhD\\wandb\\run-20230207_155453-iigaena8\\files\\model-best\\assets\n"
     ]
    },
    {
     "name": "stderr",
     "output_type": "stream",
     "text": [
      "INFO:tensorflow:Assets written to: C:\\Users\\ucesvpm\\OneDrive - University College London\\PhD Project\\Data Analytics\\Time Series Clustering\\Third Test\\Time-Series-PhD\\wandb\\run-20230207_155453-iigaena8\\files\\model-best\\assets\n",
      "\u001b[34m\u001b[1mwandb\u001b[0m: Adding directory to artifact (C:\\Users\\ucesvpm\\OneDrive - University College London\\PhD Project\\Data Analytics\\Time Series Clustering\\Third Test\\Time-Series-PhD\\wandb\\run-20230207_155453-iigaena8\\files\\model-best)... Done. 0.1s\n"
     ]
    },
    {
     "name": "stdout",
     "output_type": "stream",
     "text": [
      "2725/2725 [==============================] - 23s 8ms/step - loss: 0.4694 - mse: 0.4694 - val_loss: 0.4769 - val_mse: 0.4769 - lr: 2.0198e-05\n",
      "Epoch 11/100\n",
      "2718/2725 [============================>.] - ETA: 0s - loss: 0.4673 - mse: 0.4673"
     ]
    },
    {
     "name": "stderr",
     "output_type": "stream",
     "text": [
      "WARNING:absl:Found untraced functions such as activation_layer_call_fn, activation_layer_call_and_return_conditional_losses, activation_1_layer_call_fn, activation_1_layer_call_and_return_conditional_losses, activation_2_layer_call_fn while saving (showing 5 of 16). These functions will not be directly callable after loading.\n"
     ]
    },
    {
     "name": "stdout",
     "output_type": "stream",
     "text": [
      "INFO:tensorflow:Assets written to: C:\\Users\\ucesvpm\\OneDrive - University College London\\PhD Project\\Data Analytics\\Time Series Clustering\\Third Test\\Time-Series-PhD\\wandb\\run-20230207_155453-iigaena8\\files\\model-best\\assets\n"
     ]
    },
    {
     "name": "stderr",
     "output_type": "stream",
     "text": [
      "INFO:tensorflow:Assets written to: C:\\Users\\ucesvpm\\OneDrive - University College London\\PhD Project\\Data Analytics\\Time Series Clustering\\Third Test\\Time-Series-PhD\\wandb\\run-20230207_155453-iigaena8\\files\\model-best\\assets\n",
      "\u001b[34m\u001b[1mwandb\u001b[0m: Adding directory to artifact (C:\\Users\\ucesvpm\\OneDrive - University College London\\PhD Project\\Data Analytics\\Time Series Clustering\\Third Test\\Time-Series-PhD\\wandb\\run-20230207_155453-iigaena8\\files\\model-best)... Done. 0.0s\n"
     ]
    },
    {
     "name": "stdout",
     "output_type": "stream",
     "text": [
      "2725/2725 [==============================] - 25s 9ms/step - loss: 0.4674 - mse: 0.4674 - val_loss: 0.4751 - val_mse: 0.4751 - lr: 2.0198e-05\n",
      "Epoch 12/100\n",
      "2724/2725 [============================>.] - ETA: 0s - loss: 0.4656 - mse: 0.4656"
     ]
    },
    {
     "name": "stderr",
     "output_type": "stream",
     "text": [
      "WARNING:absl:Found untraced functions such as activation_layer_call_fn, activation_layer_call_and_return_conditional_losses, activation_1_layer_call_fn, activation_1_layer_call_and_return_conditional_losses, activation_2_layer_call_fn while saving (showing 5 of 16). These functions will not be directly callable after loading.\n"
     ]
    },
    {
     "name": "stdout",
     "output_type": "stream",
     "text": [
      "INFO:tensorflow:Assets written to: C:\\Users\\ucesvpm\\OneDrive - University College London\\PhD Project\\Data Analytics\\Time Series Clustering\\Third Test\\Time-Series-PhD\\wandb\\run-20230207_155453-iigaena8\\files\\model-best\\assets\n"
     ]
    },
    {
     "name": "stderr",
     "output_type": "stream",
     "text": [
      "INFO:tensorflow:Assets written to: C:\\Users\\ucesvpm\\OneDrive - University College London\\PhD Project\\Data Analytics\\Time Series Clustering\\Third Test\\Time-Series-PhD\\wandb\\run-20230207_155453-iigaena8\\files\\model-best\\assets\n",
      "\u001b[34m\u001b[1mwandb\u001b[0m: Adding directory to artifact (C:\\Users\\ucesvpm\\OneDrive - University College London\\PhD Project\\Data Analytics\\Time Series Clustering\\Third Test\\Time-Series-PhD\\wandb\\run-20230207_155453-iigaena8\\files\\model-best)... Done. 0.0s\n"
     ]
    },
    {
     "name": "stdout",
     "output_type": "stream",
     "text": [
      "2725/2725 [==============================] - 27s 10ms/step - loss: 0.4656 - mse: 0.4656 - val_loss: 0.4734 - val_mse: 0.4734 - lr: 2.0198e-05\n",
      "Epoch 13/100\n",
      "2725/2725 [==============================] - ETA: 0s - loss: 0.4640 - mse: 0.4640"
     ]
    },
    {
     "name": "stderr",
     "output_type": "stream",
     "text": [
      "WARNING:absl:Found untraced functions such as activation_layer_call_fn, activation_layer_call_and_return_conditional_losses, activation_1_layer_call_fn, activation_1_layer_call_and_return_conditional_losses, activation_2_layer_call_fn while saving (showing 5 of 16). These functions will not be directly callable after loading.\n"
     ]
    },
    {
     "name": "stdout",
     "output_type": "stream",
     "text": [
      "INFO:tensorflow:Assets written to: C:\\Users\\ucesvpm\\OneDrive - University College London\\PhD Project\\Data Analytics\\Time Series Clustering\\Third Test\\Time-Series-PhD\\wandb\\run-20230207_155453-iigaena8\\files\\model-best\\assets\n"
     ]
    },
    {
     "name": "stderr",
     "output_type": "stream",
     "text": [
      "INFO:tensorflow:Assets written to: C:\\Users\\ucesvpm\\OneDrive - University College London\\PhD Project\\Data Analytics\\Time Series Clustering\\Third Test\\Time-Series-PhD\\wandb\\run-20230207_155453-iigaena8\\files\\model-best\\assets\n",
      "\u001b[34m\u001b[1mwandb\u001b[0m: Adding directory to artifact (C:\\Users\\ucesvpm\\OneDrive - University College London\\PhD Project\\Data Analytics\\Time Series Clustering\\Third Test\\Time-Series-PhD\\wandb\\run-20230207_155453-iigaena8\\files\\model-best)... Done. 0.0s\n"
     ]
    },
    {
     "name": "stdout",
     "output_type": "stream",
     "text": [
      "2725/2725 [==============================] - 23s 8ms/step - loss: 0.4640 - mse: 0.4640 - val_loss: 0.4725 - val_mse: 0.4725 - lr: 2.0198e-05\n",
      "Epoch 14/100\n",
      "2722/2725 [============================>.] - ETA: 0s - loss: 0.4625 - mse: 0.4625"
     ]
    },
    {
     "name": "stderr",
     "output_type": "stream",
     "text": [
      "WARNING:absl:Found untraced functions such as activation_layer_call_fn, activation_layer_call_and_return_conditional_losses, activation_1_layer_call_fn, activation_1_layer_call_and_return_conditional_losses, activation_2_layer_call_fn while saving (showing 5 of 16). These functions will not be directly callable after loading.\n"
     ]
    },
    {
     "name": "stdout",
     "output_type": "stream",
     "text": [
      "INFO:tensorflow:Assets written to: C:\\Users\\ucesvpm\\OneDrive - University College London\\PhD Project\\Data Analytics\\Time Series Clustering\\Third Test\\Time-Series-PhD\\wandb\\run-20230207_155453-iigaena8\\files\\model-best\\assets\n"
     ]
    },
    {
     "name": "stderr",
     "output_type": "stream",
     "text": [
      "INFO:tensorflow:Assets written to: C:\\Users\\ucesvpm\\OneDrive - University College London\\PhD Project\\Data Analytics\\Time Series Clustering\\Third Test\\Time-Series-PhD\\wandb\\run-20230207_155453-iigaena8\\files\\model-best\\assets\n",
      "\u001b[34m\u001b[1mwandb\u001b[0m: Adding directory to artifact (C:\\Users\\ucesvpm\\OneDrive - University College London\\PhD Project\\Data Analytics\\Time Series Clustering\\Third Test\\Time-Series-PhD\\wandb\\run-20230207_155453-iigaena8\\files\\model-best)... Done. 0.0s\n"
     ]
    },
    {
     "name": "stdout",
     "output_type": "stream",
     "text": [
      "2725/2725 [==============================] - 25s 9ms/step - loss: 0.4625 - mse: 0.4625 - val_loss: 0.4712 - val_mse: 0.4712 - lr: 2.0198e-05\n",
      "Epoch 15/100\n",
      "2718/2725 [============================>.] - ETA: 0s - loss: 0.4610 - mse: 0.4610"
     ]
    },
    {
     "name": "stderr",
     "output_type": "stream",
     "text": [
      "WARNING:absl:Found untraced functions such as activation_layer_call_fn, activation_layer_call_and_return_conditional_losses, activation_1_layer_call_fn, activation_1_layer_call_and_return_conditional_losses, activation_2_layer_call_fn while saving (showing 5 of 16). These functions will not be directly callable after loading.\n"
     ]
    },
    {
     "name": "stdout",
     "output_type": "stream",
     "text": [
      "INFO:tensorflow:Assets written to: C:\\Users\\ucesvpm\\OneDrive - University College London\\PhD Project\\Data Analytics\\Time Series Clustering\\Third Test\\Time-Series-PhD\\wandb\\run-20230207_155453-iigaena8\\files\\model-best\\assets\n"
     ]
    },
    {
     "name": "stderr",
     "output_type": "stream",
     "text": [
      "INFO:tensorflow:Assets written to: C:\\Users\\ucesvpm\\OneDrive - University College London\\PhD Project\\Data Analytics\\Time Series Clustering\\Third Test\\Time-Series-PhD\\wandb\\run-20230207_155453-iigaena8\\files\\model-best\\assets\n",
      "\u001b[34m\u001b[1mwandb\u001b[0m: Adding directory to artifact (C:\\Users\\ucesvpm\\OneDrive - University College London\\PhD Project\\Data Analytics\\Time Series Clustering\\Third Test\\Time-Series-PhD\\wandb\\run-20230207_155453-iigaena8\\files\\model-best)... Done. 0.0s\n"
     ]
    },
    {
     "name": "stdout",
     "output_type": "stream",
     "text": [
      "2725/2725 [==============================] - 23s 8ms/step - loss: 0.4611 - mse: 0.4611 - val_loss: 0.4699 - val_mse: 0.4699 - lr: 2.0198e-05\n",
      "Epoch 16/100\n",
      "2718/2725 [============================>.] - ETA: 0s - loss: 0.4597 - mse: 0.4597"
     ]
    },
    {
     "name": "stderr",
     "output_type": "stream",
     "text": [
      "WARNING:absl:Found untraced functions such as activation_layer_call_fn, activation_layer_call_and_return_conditional_losses, activation_1_layer_call_fn, activation_1_layer_call_and_return_conditional_losses, activation_2_layer_call_fn while saving (showing 5 of 16). These functions will not be directly callable after loading.\n"
     ]
    },
    {
     "name": "stdout",
     "output_type": "stream",
     "text": [
      "INFO:tensorflow:Assets written to: C:\\Users\\ucesvpm\\OneDrive - University College London\\PhD Project\\Data Analytics\\Time Series Clustering\\Third Test\\Time-Series-PhD\\wandb\\run-20230207_155453-iigaena8\\files\\model-best\\assets\n"
     ]
    },
    {
     "name": "stderr",
     "output_type": "stream",
     "text": [
      "INFO:tensorflow:Assets written to: C:\\Users\\ucesvpm\\OneDrive - University College London\\PhD Project\\Data Analytics\\Time Series Clustering\\Third Test\\Time-Series-PhD\\wandb\\run-20230207_155453-iigaena8\\files\\model-best\\assets\n",
      "\u001b[34m\u001b[1mwandb\u001b[0m: Adding directory to artifact (C:\\Users\\ucesvpm\\OneDrive - University College London\\PhD Project\\Data Analytics\\Time Series Clustering\\Third Test\\Time-Series-PhD\\wandb\\run-20230207_155453-iigaena8\\files\\model-best)... Done. 0.0s\n"
     ]
    },
    {
     "name": "stdout",
     "output_type": "stream",
     "text": [
      "2725/2725 [==============================] - 21s 8ms/step - loss: 0.4598 - mse: 0.4598 - val_loss: 0.4691 - val_mse: 0.4691 - lr: 2.0198e-05\n",
      "Epoch 17/100\n",
      "2720/2725 [============================>.] - ETA: 0s - loss: 0.4585 - mse: 0.4585"
     ]
    },
    {
     "name": "stderr",
     "output_type": "stream",
     "text": [
      "WARNING:absl:Found untraced functions such as activation_layer_call_fn, activation_layer_call_and_return_conditional_losses, activation_1_layer_call_fn, activation_1_layer_call_and_return_conditional_losses, activation_2_layer_call_fn while saving (showing 5 of 16). These functions will not be directly callable after loading.\n"
     ]
    },
    {
     "name": "stdout",
     "output_type": "stream",
     "text": [
      "INFO:tensorflow:Assets written to: C:\\Users\\ucesvpm\\OneDrive - University College London\\PhD Project\\Data Analytics\\Time Series Clustering\\Third Test\\Time-Series-PhD\\wandb\\run-20230207_155453-iigaena8\\files\\model-best\\assets\n"
     ]
    },
    {
     "name": "stderr",
     "output_type": "stream",
     "text": [
      "INFO:tensorflow:Assets written to: C:\\Users\\ucesvpm\\OneDrive - University College London\\PhD Project\\Data Analytics\\Time Series Clustering\\Third Test\\Time-Series-PhD\\wandb\\run-20230207_155453-iigaena8\\files\\model-best\\assets\n",
      "\u001b[34m\u001b[1mwandb\u001b[0m: Adding directory to artifact (C:\\Users\\ucesvpm\\OneDrive - University College London\\PhD Project\\Data Analytics\\Time Series Clustering\\Third Test\\Time-Series-PhD\\wandb\\run-20230207_155453-iigaena8\\files\\model-best)... Done. 0.0s\n"
     ]
    },
    {
     "name": "stdout",
     "output_type": "stream",
     "text": [
      "2725/2725 [==============================] - 22s 8ms/step - loss: 0.4586 - mse: 0.4586 - val_loss: 0.4679 - val_mse: 0.4679 - lr: 2.0198e-05\n",
      "Epoch 18/100\n",
      "2718/2725 [============================>.] - ETA: 0s - loss: 0.4573 - mse: 0.4573"
     ]
    },
    {
     "name": "stderr",
     "output_type": "stream",
     "text": [
      "WARNING:absl:Found untraced functions such as activation_layer_call_fn, activation_layer_call_and_return_conditional_losses, activation_1_layer_call_fn, activation_1_layer_call_and_return_conditional_losses, activation_2_layer_call_fn while saving (showing 5 of 16). These functions will not be directly callable after loading.\n"
     ]
    },
    {
     "name": "stdout",
     "output_type": "stream",
     "text": [
      "INFO:tensorflow:Assets written to: C:\\Users\\ucesvpm\\OneDrive - University College London\\PhD Project\\Data Analytics\\Time Series Clustering\\Third Test\\Time-Series-PhD\\wandb\\run-20230207_155453-iigaena8\\files\\model-best\\assets\n"
     ]
    },
    {
     "name": "stderr",
     "output_type": "stream",
     "text": [
      "INFO:tensorflow:Assets written to: C:\\Users\\ucesvpm\\OneDrive - University College London\\PhD Project\\Data Analytics\\Time Series Clustering\\Third Test\\Time-Series-PhD\\wandb\\run-20230207_155453-iigaena8\\files\\model-best\\assets\n",
      "\u001b[34m\u001b[1mwandb\u001b[0m: Adding directory to artifact (C:\\Users\\ucesvpm\\OneDrive - University College London\\PhD Project\\Data Analytics\\Time Series Clustering\\Third Test\\Time-Series-PhD\\wandb\\run-20230207_155453-iigaena8\\files\\model-best)... Done. 0.0s\n"
     ]
    },
    {
     "name": "stdout",
     "output_type": "stream",
     "text": [
      "2725/2725 [==============================] - 27s 10ms/step - loss: 0.4573 - mse: 0.4573 - val_loss: 0.4669 - val_mse: 0.4669 - lr: 2.0198e-05\n",
      "Epoch 19/100\n",
      "2719/2725 [============================>.] - ETA: 0s - loss: 0.4562 - mse: 0.4562"
     ]
    },
    {
     "name": "stderr",
     "output_type": "stream",
     "text": [
      "WARNING:absl:Found untraced functions such as activation_layer_call_fn, activation_layer_call_and_return_conditional_losses, activation_1_layer_call_fn, activation_1_layer_call_and_return_conditional_losses, activation_2_layer_call_fn while saving (showing 5 of 16). These functions will not be directly callable after loading.\n"
     ]
    },
    {
     "name": "stdout",
     "output_type": "stream",
     "text": [
      "INFO:tensorflow:Assets written to: C:\\Users\\ucesvpm\\OneDrive - University College London\\PhD Project\\Data Analytics\\Time Series Clustering\\Third Test\\Time-Series-PhD\\wandb\\run-20230207_155453-iigaena8\\files\\model-best\\assets\n"
     ]
    },
    {
     "name": "stderr",
     "output_type": "stream",
     "text": [
      "INFO:tensorflow:Assets written to: C:\\Users\\ucesvpm\\OneDrive - University College London\\PhD Project\\Data Analytics\\Time Series Clustering\\Third Test\\Time-Series-PhD\\wandb\\run-20230207_155453-iigaena8\\files\\model-best\\assets\n",
      "\u001b[34m\u001b[1mwandb\u001b[0m: Adding directory to artifact (C:\\Users\\ucesvpm\\OneDrive - University College London\\PhD Project\\Data Analytics\\Time Series Clustering\\Third Test\\Time-Series-PhD\\wandb\\run-20230207_155453-iigaena8\\files\\model-best)... Done. 0.0s\n"
     ]
    },
    {
     "name": "stdout",
     "output_type": "stream",
     "text": [
      "2725/2725 [==============================] - 23s 9ms/step - loss: 0.4563 - mse: 0.4563 - val_loss: 0.4662 - val_mse: 0.4662 - lr: 2.0198e-05\n",
      "Epoch 20/100\n",
      "2721/2725 [============================>.] - ETA: 0s - loss: 0.4552 - mse: 0.4552"
     ]
    },
    {
     "name": "stderr",
     "output_type": "stream",
     "text": [
      "WARNING:absl:Found untraced functions such as activation_layer_call_fn, activation_layer_call_and_return_conditional_losses, activation_1_layer_call_fn, activation_1_layer_call_and_return_conditional_losses, activation_2_layer_call_fn while saving (showing 5 of 16). These functions will not be directly callable after loading.\n"
     ]
    },
    {
     "name": "stdout",
     "output_type": "stream",
     "text": [
      "INFO:tensorflow:Assets written to: C:\\Users\\ucesvpm\\OneDrive - University College London\\PhD Project\\Data Analytics\\Time Series Clustering\\Third Test\\Time-Series-PhD\\wandb\\run-20230207_155453-iigaena8\\files\\model-best\\assets\n"
     ]
    },
    {
     "name": "stderr",
     "output_type": "stream",
     "text": [
      "INFO:tensorflow:Assets written to: C:\\Users\\ucesvpm\\OneDrive - University College London\\PhD Project\\Data Analytics\\Time Series Clustering\\Third Test\\Time-Series-PhD\\wandb\\run-20230207_155453-iigaena8\\files\\model-best\\assets\n",
      "\u001b[34m\u001b[1mwandb\u001b[0m: Adding directory to artifact (C:\\Users\\ucesvpm\\OneDrive - University College London\\PhD Project\\Data Analytics\\Time Series Clustering\\Third Test\\Time-Series-PhD\\wandb\\run-20230207_155453-iigaena8\\files\\model-best)... Done. 0.1s\n"
     ]
    },
    {
     "name": "stdout",
     "output_type": "stream",
     "text": [
      "2725/2725 [==============================] - 23s 8ms/step - loss: 0.4552 - mse: 0.4552 - val_loss: 0.4649 - val_mse: 0.4649 - lr: 2.0198e-05\n",
      "Epoch 21/100\n",
      "2724/2725 [============================>.] - ETA: 0s - loss: 0.4542 - mse: 0.4542"
     ]
    },
    {
     "name": "stderr",
     "output_type": "stream",
     "text": [
      "WARNING:absl:Found untraced functions such as activation_layer_call_fn, activation_layer_call_and_return_conditional_losses, activation_1_layer_call_fn, activation_1_layer_call_and_return_conditional_losses, activation_2_layer_call_fn while saving (showing 5 of 16). These functions will not be directly callable after loading.\n"
     ]
    },
    {
     "name": "stdout",
     "output_type": "stream",
     "text": [
      "INFO:tensorflow:Assets written to: C:\\Users\\ucesvpm\\OneDrive - University College London\\PhD Project\\Data Analytics\\Time Series Clustering\\Third Test\\Time-Series-PhD\\wandb\\run-20230207_155453-iigaena8\\files\\model-best\\assets\n"
     ]
    },
    {
     "name": "stderr",
     "output_type": "stream",
     "text": [
      "INFO:tensorflow:Assets written to: C:\\Users\\ucesvpm\\OneDrive - University College London\\PhD Project\\Data Analytics\\Time Series Clustering\\Third Test\\Time-Series-PhD\\wandb\\run-20230207_155453-iigaena8\\files\\model-best\\assets\n",
      "\u001b[34m\u001b[1mwandb\u001b[0m: Adding directory to artifact (C:\\Users\\ucesvpm\\OneDrive - University College London\\PhD Project\\Data Analytics\\Time Series Clustering\\Third Test\\Time-Series-PhD\\wandb\\run-20230207_155453-iigaena8\\files\\model-best)... Done. 0.0s\n"
     ]
    },
    {
     "name": "stdout",
     "output_type": "stream",
     "text": [
      "2725/2725 [==============================] - 22s 8ms/step - loss: 0.4542 - mse: 0.4542 - val_loss: 0.4647 - val_mse: 0.4647 - lr: 2.0198e-05\n",
      "Epoch 22/100\n",
      "2720/2725 [============================>.] - ETA: 0s - loss: 0.4532 - mse: 0.4532"
     ]
    },
    {
     "name": "stderr",
     "output_type": "stream",
     "text": [
      "WARNING:absl:Found untraced functions such as activation_layer_call_fn, activation_layer_call_and_return_conditional_losses, activation_1_layer_call_fn, activation_1_layer_call_and_return_conditional_losses, activation_2_layer_call_fn while saving (showing 5 of 16). These functions will not be directly callable after loading.\n"
     ]
    },
    {
     "name": "stdout",
     "output_type": "stream",
     "text": [
      "INFO:tensorflow:Assets written to: C:\\Users\\ucesvpm\\OneDrive - University College London\\PhD Project\\Data Analytics\\Time Series Clustering\\Third Test\\Time-Series-PhD\\wandb\\run-20230207_155453-iigaena8\\files\\model-best\\assets\n"
     ]
    },
    {
     "name": "stderr",
     "output_type": "stream",
     "text": [
      "INFO:tensorflow:Assets written to: C:\\Users\\ucesvpm\\OneDrive - University College London\\PhD Project\\Data Analytics\\Time Series Clustering\\Third Test\\Time-Series-PhD\\wandb\\run-20230207_155453-iigaena8\\files\\model-best\\assets\n",
      "\u001b[34m\u001b[1mwandb\u001b[0m: Adding directory to artifact (C:\\Users\\ucesvpm\\OneDrive - University College London\\PhD Project\\Data Analytics\\Time Series Clustering\\Third Test\\Time-Series-PhD\\wandb\\run-20230207_155453-iigaena8\\files\\model-best)... Done. 0.1s\n"
     ]
    },
    {
     "name": "stdout",
     "output_type": "stream",
     "text": [
      "2725/2725 [==============================] - 23s 8ms/step - loss: 0.4532 - mse: 0.4532 - val_loss: 0.4633 - val_mse: 0.4633 - lr: 2.0198e-05\n",
      "Epoch 23/100\n",
      "2725/2725 [==============================] - ETA: 0s - loss: 0.4522 - mse: 0.4522"
     ]
    },
    {
     "name": "stderr",
     "output_type": "stream",
     "text": [
      "WARNING:absl:Found untraced functions such as activation_layer_call_fn, activation_layer_call_and_return_conditional_losses, activation_1_layer_call_fn, activation_1_layer_call_and_return_conditional_losses, activation_2_layer_call_fn while saving (showing 5 of 16). These functions will not be directly callable after loading.\n"
     ]
    },
    {
     "name": "stdout",
     "output_type": "stream",
     "text": [
      "INFO:tensorflow:Assets written to: C:\\Users\\ucesvpm\\OneDrive - University College London\\PhD Project\\Data Analytics\\Time Series Clustering\\Third Test\\Time-Series-PhD\\wandb\\run-20230207_155453-iigaena8\\files\\model-best\\assets\n"
     ]
    },
    {
     "name": "stderr",
     "output_type": "stream",
     "text": [
      "INFO:tensorflow:Assets written to: C:\\Users\\ucesvpm\\OneDrive - University College London\\PhD Project\\Data Analytics\\Time Series Clustering\\Third Test\\Time-Series-PhD\\wandb\\run-20230207_155453-iigaena8\\files\\model-best\\assets\n",
      "\u001b[34m\u001b[1mwandb\u001b[0m: Adding directory to artifact (C:\\Users\\ucesvpm\\OneDrive - University College London\\PhD Project\\Data Analytics\\Time Series Clustering\\Third Test\\Time-Series-PhD\\wandb\\run-20230207_155453-iigaena8\\files\\model-best)... Done. 0.0s\n"
     ]
    },
    {
     "name": "stdout",
     "output_type": "stream",
     "text": [
      "2725/2725 [==============================] - 23s 9ms/step - loss: 0.4522 - mse: 0.4522 - val_loss: 0.4624 - val_mse: 0.4624 - lr: 2.0198e-05\n",
      "Epoch 24/100\n",
      "2725/2725 [==============================] - ETA: 0s - loss: 0.4512 - mse: 0.4512"
     ]
    },
    {
     "name": "stderr",
     "output_type": "stream",
     "text": [
      "WARNING:absl:Found untraced functions such as activation_layer_call_fn, activation_layer_call_and_return_conditional_losses, activation_1_layer_call_fn, activation_1_layer_call_and_return_conditional_losses, activation_2_layer_call_fn while saving (showing 5 of 16). These functions will not be directly callable after loading.\n"
     ]
    },
    {
     "name": "stdout",
     "output_type": "stream",
     "text": [
      "INFO:tensorflow:Assets written to: C:\\Users\\ucesvpm\\OneDrive - University College London\\PhD Project\\Data Analytics\\Time Series Clustering\\Third Test\\Time-Series-PhD\\wandb\\run-20230207_155453-iigaena8\\files\\model-best\\assets\n"
     ]
    },
    {
     "name": "stderr",
     "output_type": "stream",
     "text": [
      "INFO:tensorflow:Assets written to: C:\\Users\\ucesvpm\\OneDrive - University College London\\PhD Project\\Data Analytics\\Time Series Clustering\\Third Test\\Time-Series-PhD\\wandb\\run-20230207_155453-iigaena8\\files\\model-best\\assets\n",
      "\u001b[34m\u001b[1mwandb\u001b[0m: Adding directory to artifact (C:\\Users\\ucesvpm\\OneDrive - University College London\\PhD Project\\Data Analytics\\Time Series Clustering\\Third Test\\Time-Series-PhD\\wandb\\run-20230207_155453-iigaena8\\files\\model-best)... Done. 0.0s\n"
     ]
    },
    {
     "name": "stdout",
     "output_type": "stream",
     "text": [
      "2725/2725 [==============================] - 23s 8ms/step - loss: 0.4512 - mse: 0.4512 - val_loss: 0.4618 - val_mse: 0.4618 - lr: 2.0198e-05\n",
      "Epoch 25/100\n",
      "2722/2725 [============================>.] - ETA: 0s - loss: 0.4503 - mse: 0.4503"
     ]
    },
    {
     "name": "stderr",
     "output_type": "stream",
     "text": [
      "WARNING:absl:Found untraced functions such as activation_layer_call_fn, activation_layer_call_and_return_conditional_losses, activation_1_layer_call_fn, activation_1_layer_call_and_return_conditional_losses, activation_2_layer_call_fn while saving (showing 5 of 16). These functions will not be directly callable after loading.\n"
     ]
    },
    {
     "name": "stdout",
     "output_type": "stream",
     "text": [
      "INFO:tensorflow:Assets written to: C:\\Users\\ucesvpm\\OneDrive - University College London\\PhD Project\\Data Analytics\\Time Series Clustering\\Third Test\\Time-Series-PhD\\wandb\\run-20230207_155453-iigaena8\\files\\model-best\\assets\n"
     ]
    },
    {
     "name": "stderr",
     "output_type": "stream",
     "text": [
      "INFO:tensorflow:Assets written to: C:\\Users\\ucesvpm\\OneDrive - University College London\\PhD Project\\Data Analytics\\Time Series Clustering\\Third Test\\Time-Series-PhD\\wandb\\run-20230207_155453-iigaena8\\files\\model-best\\assets\n",
      "\u001b[34m\u001b[1mwandb\u001b[0m: Adding directory to artifact (C:\\Users\\ucesvpm\\OneDrive - University College London\\PhD Project\\Data Analytics\\Time Series Clustering\\Third Test\\Time-Series-PhD\\wandb\\run-20230207_155453-iigaena8\\files\\model-best)... Done. 0.0s\n"
     ]
    },
    {
     "name": "stdout",
     "output_type": "stream",
     "text": [
      "2725/2725 [==============================] - 26s 10ms/step - loss: 0.4503 - mse: 0.4503 - val_loss: 0.4611 - val_mse: 0.4611 - lr: 2.0198e-05\n",
      "Epoch 26/100\n",
      "2719/2725 [============================>.] - ETA: 0s - loss: 0.4495 - mse: 0.4495"
     ]
    },
    {
     "name": "stderr",
     "output_type": "stream",
     "text": [
      "WARNING:absl:Found untraced functions such as activation_layer_call_fn, activation_layer_call_and_return_conditional_losses, activation_1_layer_call_fn, activation_1_layer_call_and_return_conditional_losses, activation_2_layer_call_fn while saving (showing 5 of 16). These functions will not be directly callable after loading.\n"
     ]
    },
    {
     "name": "stdout",
     "output_type": "stream",
     "text": [
      "INFO:tensorflow:Assets written to: C:\\Users\\ucesvpm\\OneDrive - University College London\\PhD Project\\Data Analytics\\Time Series Clustering\\Third Test\\Time-Series-PhD\\wandb\\run-20230207_155453-iigaena8\\files\\model-best\\assets\n"
     ]
    },
    {
     "name": "stderr",
     "output_type": "stream",
     "text": [
      "INFO:tensorflow:Assets written to: C:\\Users\\ucesvpm\\OneDrive - University College London\\PhD Project\\Data Analytics\\Time Series Clustering\\Third Test\\Time-Series-PhD\\wandb\\run-20230207_155453-iigaena8\\files\\model-best\\assets\n",
      "\u001b[34m\u001b[1mwandb\u001b[0m: Adding directory to artifact (C:\\Users\\ucesvpm\\OneDrive - University College London\\PhD Project\\Data Analytics\\Time Series Clustering\\Third Test\\Time-Series-PhD\\wandb\\run-20230207_155453-iigaena8\\files\\model-best)... Done. 0.0s\n"
     ]
    },
    {
     "name": "stdout",
     "output_type": "stream",
     "text": [
      "2725/2725 [==============================] - 24s 9ms/step - loss: 0.4495 - mse: 0.4495 - val_loss: 0.4603 - val_mse: 0.4603 - lr: 2.0198e-05\n",
      "Epoch 27/100\n",
      "2722/2725 [============================>.] - ETA: 0s - loss: 0.4486 - mse: 0.4486"
     ]
    },
    {
     "name": "stderr",
     "output_type": "stream",
     "text": [
      "WARNING:absl:Found untraced functions such as activation_layer_call_fn, activation_layer_call_and_return_conditional_losses, activation_1_layer_call_fn, activation_1_layer_call_and_return_conditional_losses, activation_2_layer_call_fn while saving (showing 5 of 16). These functions will not be directly callable after loading.\n"
     ]
    },
    {
     "name": "stdout",
     "output_type": "stream",
     "text": [
      "INFO:tensorflow:Assets written to: C:\\Users\\ucesvpm\\OneDrive - University College London\\PhD Project\\Data Analytics\\Time Series Clustering\\Third Test\\Time-Series-PhD\\wandb\\run-20230207_155453-iigaena8\\files\\model-best\\assets\n"
     ]
    },
    {
     "name": "stderr",
     "output_type": "stream",
     "text": [
      "INFO:tensorflow:Assets written to: C:\\Users\\ucesvpm\\OneDrive - University College London\\PhD Project\\Data Analytics\\Time Series Clustering\\Third Test\\Time-Series-PhD\\wandb\\run-20230207_155453-iigaena8\\files\\model-best\\assets\n",
      "\u001b[34m\u001b[1mwandb\u001b[0m: Adding directory to artifact (C:\\Users\\ucesvpm\\OneDrive - University College London\\PhD Project\\Data Analytics\\Time Series Clustering\\Third Test\\Time-Series-PhD\\wandb\\run-20230207_155453-iigaena8\\files\\model-best)... Done. 0.0s\n"
     ]
    },
    {
     "name": "stdout",
     "output_type": "stream",
     "text": [
      "2725/2725 [==============================] - 23s 8ms/step - loss: 0.4486 - mse: 0.4486 - val_loss: 0.4595 - val_mse: 0.4595 - lr: 2.0198e-05\n",
      "Epoch 28/100\n",
      "2721/2725 [============================>.] - ETA: 0s - loss: 0.4478 - mse: 0.4478"
     ]
    },
    {
     "name": "stderr",
     "output_type": "stream",
     "text": [
      "WARNING:absl:Found untraced functions such as activation_layer_call_fn, activation_layer_call_and_return_conditional_losses, activation_1_layer_call_fn, activation_1_layer_call_and_return_conditional_losses, activation_2_layer_call_fn while saving (showing 5 of 16). These functions will not be directly callable after loading.\n"
     ]
    },
    {
     "name": "stdout",
     "output_type": "stream",
     "text": [
      "INFO:tensorflow:Assets written to: C:\\Users\\ucesvpm\\OneDrive - University College London\\PhD Project\\Data Analytics\\Time Series Clustering\\Third Test\\Time-Series-PhD\\wandb\\run-20230207_155453-iigaena8\\files\\model-best\\assets\n"
     ]
    },
    {
     "name": "stderr",
     "output_type": "stream",
     "text": [
      "INFO:tensorflow:Assets written to: C:\\Users\\ucesvpm\\OneDrive - University College London\\PhD Project\\Data Analytics\\Time Series Clustering\\Third Test\\Time-Series-PhD\\wandb\\run-20230207_155453-iigaena8\\files\\model-best\\assets\n",
      "\u001b[34m\u001b[1mwandb\u001b[0m: Adding directory to artifact (C:\\Users\\ucesvpm\\OneDrive - University College London\\PhD Project\\Data Analytics\\Time Series Clustering\\Third Test\\Time-Series-PhD\\wandb\\run-20230207_155453-iigaena8\\files\\model-best)... Done. 0.0s\n"
     ]
    },
    {
     "name": "stdout",
     "output_type": "stream",
     "text": [
      "2725/2725 [==============================] - 22s 8ms/step - loss: 0.4477 - mse: 0.4477 - val_loss: 0.4593 - val_mse: 0.4593 - lr: 2.0198e-05\n",
      "Epoch 29/100\n",
      "2725/2725 [==============================] - ETA: 0s - loss: 0.4470 - mse: 0.4470"
     ]
    },
    {
     "name": "stderr",
     "output_type": "stream",
     "text": [
      "WARNING:absl:Found untraced functions such as activation_layer_call_fn, activation_layer_call_and_return_conditional_losses, activation_1_layer_call_fn, activation_1_layer_call_and_return_conditional_losses, activation_2_layer_call_fn while saving (showing 5 of 16). These functions will not be directly callable after loading.\n"
     ]
    },
    {
     "name": "stdout",
     "output_type": "stream",
     "text": [
      "INFO:tensorflow:Assets written to: C:\\Users\\ucesvpm\\OneDrive - University College London\\PhD Project\\Data Analytics\\Time Series Clustering\\Third Test\\Time-Series-PhD\\wandb\\run-20230207_155453-iigaena8\\files\\model-best\\assets\n"
     ]
    },
    {
     "name": "stderr",
     "output_type": "stream",
     "text": [
      "INFO:tensorflow:Assets written to: C:\\Users\\ucesvpm\\OneDrive - University College London\\PhD Project\\Data Analytics\\Time Series Clustering\\Third Test\\Time-Series-PhD\\wandb\\run-20230207_155453-iigaena8\\files\\model-best\\assets\n",
      "\u001b[34m\u001b[1mwandb\u001b[0m: Adding directory to artifact (C:\\Users\\ucesvpm\\OneDrive - University College London\\PhD Project\\Data Analytics\\Time Series Clustering\\Third Test\\Time-Series-PhD\\wandb\\run-20230207_155453-iigaena8\\files\\model-best)... Done. 0.1s\n"
     ]
    },
    {
     "name": "stdout",
     "output_type": "stream",
     "text": [
      "2725/2725 [==============================] - 24s 9ms/step - loss: 0.4470 - mse: 0.4470 - val_loss: 0.4581 - val_mse: 0.4581 - lr: 2.0198e-05\n",
      "Epoch 30/100\n",
      "2725/2725 [==============================] - ETA: 0s - loss: 0.4461 - mse: 0.4461"
     ]
    },
    {
     "name": "stderr",
     "output_type": "stream",
     "text": [
      "WARNING:absl:Found untraced functions such as activation_layer_call_fn, activation_layer_call_and_return_conditional_losses, activation_1_layer_call_fn, activation_1_layer_call_and_return_conditional_losses, activation_2_layer_call_fn while saving (showing 5 of 16). These functions will not be directly callable after loading.\n"
     ]
    },
    {
     "name": "stdout",
     "output_type": "stream",
     "text": [
      "INFO:tensorflow:Assets written to: C:\\Users\\ucesvpm\\OneDrive - University College London\\PhD Project\\Data Analytics\\Time Series Clustering\\Third Test\\Time-Series-PhD\\wandb\\run-20230207_155453-iigaena8\\files\\model-best\\assets\n"
     ]
    },
    {
     "name": "stderr",
     "output_type": "stream",
     "text": [
      "INFO:tensorflow:Assets written to: C:\\Users\\ucesvpm\\OneDrive - University College London\\PhD Project\\Data Analytics\\Time Series Clustering\\Third Test\\Time-Series-PhD\\wandb\\run-20230207_155453-iigaena8\\files\\model-best\\assets\n",
      "\u001b[34m\u001b[1mwandb\u001b[0m: Adding directory to artifact (C:\\Users\\ucesvpm\\OneDrive - University College London\\PhD Project\\Data Analytics\\Time Series Clustering\\Third Test\\Time-Series-PhD\\wandb\\run-20230207_155453-iigaena8\\files\\model-best)... Done. 0.0s\n"
     ]
    },
    {
     "name": "stdout",
     "output_type": "stream",
     "text": [
      "2725/2725 [==============================] - 26s 10ms/step - loss: 0.4461 - mse: 0.4461 - val_loss: 0.4575 - val_mse: 0.4575 - lr: 2.0198e-05\n",
      "Epoch 31/100\n",
      "2721/2725 [============================>.] - ETA: 0s - loss: 0.4454 - mse: 0.4454"
     ]
    },
    {
     "name": "stderr",
     "output_type": "stream",
     "text": [
      "WARNING:absl:Found untraced functions such as activation_layer_call_fn, activation_layer_call_and_return_conditional_losses, activation_1_layer_call_fn, activation_1_layer_call_and_return_conditional_losses, activation_2_layer_call_fn while saving (showing 5 of 16). These functions will not be directly callable after loading.\n"
     ]
    },
    {
     "name": "stdout",
     "output_type": "stream",
     "text": [
      "INFO:tensorflow:Assets written to: C:\\Users\\ucesvpm\\OneDrive - University College London\\PhD Project\\Data Analytics\\Time Series Clustering\\Third Test\\Time-Series-PhD\\wandb\\run-20230207_155453-iigaena8\\files\\model-best\\assets\n"
     ]
    },
    {
     "name": "stderr",
     "output_type": "stream",
     "text": [
      "INFO:tensorflow:Assets written to: C:\\Users\\ucesvpm\\OneDrive - University College London\\PhD Project\\Data Analytics\\Time Series Clustering\\Third Test\\Time-Series-PhD\\wandb\\run-20230207_155453-iigaena8\\files\\model-best\\assets\n",
      "\u001b[34m\u001b[1mwandb\u001b[0m: Adding directory to artifact (C:\\Users\\ucesvpm\\OneDrive - University College London\\PhD Project\\Data Analytics\\Time Series Clustering\\Third Test\\Time-Series-PhD\\wandb\\run-20230207_155453-iigaena8\\files\\model-best)... Done. 0.0s\n"
     ]
    },
    {
     "name": "stdout",
     "output_type": "stream",
     "text": [
      "2725/2725 [==============================] - 23s 8ms/step - loss: 0.4453 - mse: 0.4453 - val_loss: 0.4571 - val_mse: 0.4571 - lr: 2.0198e-05\n",
      "Epoch 32/100\n",
      "2719/2725 [============================>.] - ETA: 0s - loss: 0.4446 - mse: 0.4446"
     ]
    },
    {
     "name": "stderr",
     "output_type": "stream",
     "text": [
      "WARNING:absl:Found untraced functions such as activation_layer_call_fn, activation_layer_call_and_return_conditional_losses, activation_1_layer_call_fn, activation_1_layer_call_and_return_conditional_losses, activation_2_layer_call_fn while saving (showing 5 of 16). These functions will not be directly callable after loading.\n"
     ]
    },
    {
     "name": "stdout",
     "output_type": "stream",
     "text": [
      "INFO:tensorflow:Assets written to: C:\\Users\\ucesvpm\\OneDrive - University College London\\PhD Project\\Data Analytics\\Time Series Clustering\\Third Test\\Time-Series-PhD\\wandb\\run-20230207_155453-iigaena8\\files\\model-best\\assets\n"
     ]
    },
    {
     "name": "stderr",
     "output_type": "stream",
     "text": [
      "INFO:tensorflow:Assets written to: C:\\Users\\ucesvpm\\OneDrive - University College London\\PhD Project\\Data Analytics\\Time Series Clustering\\Third Test\\Time-Series-PhD\\wandb\\run-20230207_155453-iigaena8\\files\\model-best\\assets\n",
      "\u001b[34m\u001b[1mwandb\u001b[0m: Adding directory to artifact (C:\\Users\\ucesvpm\\OneDrive - University College London\\PhD Project\\Data Analytics\\Time Series Clustering\\Third Test\\Time-Series-PhD\\wandb\\run-20230207_155453-iigaena8\\files\\model-best)... Done. 0.0s\n"
     ]
    },
    {
     "name": "stdout",
     "output_type": "stream",
     "text": [
      "2725/2725 [==============================] - 22s 8ms/step - loss: 0.4446 - mse: 0.4446 - val_loss: 0.4567 - val_mse: 0.4567 - lr: 2.0198e-05\n",
      "Epoch 33/100\n",
      "2722/2725 [============================>.] - ETA: 0s - loss: 0.4438 - mse: 0.4438"
     ]
    },
    {
     "name": "stderr",
     "output_type": "stream",
     "text": [
      "WARNING:absl:Found untraced functions such as activation_layer_call_fn, activation_layer_call_and_return_conditional_losses, activation_1_layer_call_fn, activation_1_layer_call_and_return_conditional_losses, activation_2_layer_call_fn while saving (showing 5 of 16). These functions will not be directly callable after loading.\n"
     ]
    },
    {
     "name": "stdout",
     "output_type": "stream",
     "text": [
      "INFO:tensorflow:Assets written to: C:\\Users\\ucesvpm\\OneDrive - University College London\\PhD Project\\Data Analytics\\Time Series Clustering\\Third Test\\Time-Series-PhD\\wandb\\run-20230207_155453-iigaena8\\files\\model-best\\assets\n"
     ]
    },
    {
     "name": "stderr",
     "output_type": "stream",
     "text": [
      "INFO:tensorflow:Assets written to: C:\\Users\\ucesvpm\\OneDrive - University College London\\PhD Project\\Data Analytics\\Time Series Clustering\\Third Test\\Time-Series-PhD\\wandb\\run-20230207_155453-iigaena8\\files\\model-best\\assets\n",
      "\u001b[34m\u001b[1mwandb\u001b[0m: Adding directory to artifact (C:\\Users\\ucesvpm\\OneDrive - University College London\\PhD Project\\Data Analytics\\Time Series Clustering\\Third Test\\Time-Series-PhD\\wandb\\run-20230207_155453-iigaena8\\files\\model-best)... Done. 0.0s\n"
     ]
    },
    {
     "name": "stdout",
     "output_type": "stream",
     "text": [
      "2725/2725 [==============================] - 22s 8ms/step - loss: 0.4439 - mse: 0.4439 - val_loss: 0.4558 - val_mse: 0.4558 - lr: 2.0198e-05\n",
      "Epoch 34/100\n",
      "2724/2725 [============================>.] - ETA: 0s - loss: 0.4431 - mse: 0.4431"
     ]
    },
    {
     "name": "stderr",
     "output_type": "stream",
     "text": [
      "WARNING:absl:Found untraced functions such as activation_layer_call_fn, activation_layer_call_and_return_conditional_losses, activation_1_layer_call_fn, activation_1_layer_call_and_return_conditional_losses, activation_2_layer_call_fn while saving (showing 5 of 16). These functions will not be directly callable after loading.\n"
     ]
    },
    {
     "name": "stdout",
     "output_type": "stream",
     "text": [
      "INFO:tensorflow:Assets written to: C:\\Users\\ucesvpm\\OneDrive - University College London\\PhD Project\\Data Analytics\\Time Series Clustering\\Third Test\\Time-Series-PhD\\wandb\\run-20230207_155453-iigaena8\\files\\model-best\\assets\n"
     ]
    },
    {
     "name": "stderr",
     "output_type": "stream",
     "text": [
      "INFO:tensorflow:Assets written to: C:\\Users\\ucesvpm\\OneDrive - University College London\\PhD Project\\Data Analytics\\Time Series Clustering\\Third Test\\Time-Series-PhD\\wandb\\run-20230207_155453-iigaena8\\files\\model-best\\assets\n",
      "\u001b[34m\u001b[1mwandb\u001b[0m: Adding directory to artifact (C:\\Users\\ucesvpm\\OneDrive - University College London\\PhD Project\\Data Analytics\\Time Series Clustering\\Third Test\\Time-Series-PhD\\wandb\\run-20230207_155453-iigaena8\\files\\model-best)... Done. 0.0s\n"
     ]
    },
    {
     "name": "stdout",
     "output_type": "stream",
     "text": [
      "2725/2725 [==============================] - 23s 8ms/step - loss: 0.4431 - mse: 0.4431 - val_loss: 0.4558 - val_mse: 0.4558 - lr: 2.0198e-05\n",
      "Epoch 35/100\n",
      "2720/2725 [============================>.] - ETA: 0s - loss: 0.4425 - mse: 0.4425"
     ]
    },
    {
     "name": "stderr",
     "output_type": "stream",
     "text": [
      "WARNING:absl:Found untraced functions such as activation_layer_call_fn, activation_layer_call_and_return_conditional_losses, activation_1_layer_call_fn, activation_1_layer_call_and_return_conditional_losses, activation_2_layer_call_fn while saving (showing 5 of 16). These functions will not be directly callable after loading.\n"
     ]
    },
    {
     "name": "stdout",
     "output_type": "stream",
     "text": [
      "INFO:tensorflow:Assets written to: C:\\Users\\ucesvpm\\OneDrive - University College London\\PhD Project\\Data Analytics\\Time Series Clustering\\Third Test\\Time-Series-PhD\\wandb\\run-20230207_155453-iigaena8\\files\\model-best\\assets\n"
     ]
    },
    {
     "name": "stderr",
     "output_type": "stream",
     "text": [
      "INFO:tensorflow:Assets written to: C:\\Users\\ucesvpm\\OneDrive - University College London\\PhD Project\\Data Analytics\\Time Series Clustering\\Third Test\\Time-Series-PhD\\wandb\\run-20230207_155453-iigaena8\\files\\model-best\\assets\n",
      "\u001b[34m\u001b[1mwandb\u001b[0m: Adding directory to artifact (C:\\Users\\ucesvpm\\OneDrive - University College London\\PhD Project\\Data Analytics\\Time Series Clustering\\Third Test\\Time-Series-PhD\\wandb\\run-20230207_155453-iigaena8\\files\\model-best)... Done. 0.0s\n"
     ]
    },
    {
     "name": "stdout",
     "output_type": "stream",
     "text": [
      "2725/2725 [==============================] - 23s 9ms/step - loss: 0.4424 - mse: 0.4424 - val_loss: 0.4552 - val_mse: 0.4552 - lr: 2.0198e-05\n",
      "Epoch 36/100\n",
      "2718/2725 [============================>.] - ETA: 0s - loss: 0.4417 - mse: 0.4417"
     ]
    },
    {
     "name": "stderr",
     "output_type": "stream",
     "text": [
      "WARNING:absl:Found untraced functions such as activation_layer_call_fn, activation_layer_call_and_return_conditional_losses, activation_1_layer_call_fn, activation_1_layer_call_and_return_conditional_losses, activation_2_layer_call_fn while saving (showing 5 of 16). These functions will not be directly callable after loading.\n"
     ]
    },
    {
     "name": "stdout",
     "output_type": "stream",
     "text": [
      "INFO:tensorflow:Assets written to: C:\\Users\\ucesvpm\\OneDrive - University College London\\PhD Project\\Data Analytics\\Time Series Clustering\\Third Test\\Time-Series-PhD\\wandb\\run-20230207_155453-iigaena8\\files\\model-best\\assets\n"
     ]
    },
    {
     "name": "stderr",
     "output_type": "stream",
     "text": [
      "INFO:tensorflow:Assets written to: C:\\Users\\ucesvpm\\OneDrive - University College London\\PhD Project\\Data Analytics\\Time Series Clustering\\Third Test\\Time-Series-PhD\\wandb\\run-20230207_155453-iigaena8\\files\\model-best\\assets\n",
      "\u001b[34m\u001b[1mwandb\u001b[0m: Adding directory to artifact (C:\\Users\\ucesvpm\\OneDrive - University College London\\PhD Project\\Data Analytics\\Time Series Clustering\\Third Test\\Time-Series-PhD\\wandb\\run-20230207_155453-iigaena8\\files\\model-best)... Done. 0.1s\n"
     ]
    },
    {
     "name": "stdout",
     "output_type": "stream",
     "text": [
      "2725/2725 [==============================] - 24s 9ms/step - loss: 0.4417 - mse: 0.4417 - val_loss: 0.4547 - val_mse: 0.4547 - lr: 2.0198e-05\n",
      "Epoch 37/100\n",
      "2723/2725 [============================>.] - ETA: 0s - loss: 0.4411 - mse: 0.4411"
     ]
    },
    {
     "name": "stderr",
     "output_type": "stream",
     "text": [
      "WARNING:absl:Found untraced functions such as activation_layer_call_fn, activation_layer_call_and_return_conditional_losses, activation_1_layer_call_fn, activation_1_layer_call_and_return_conditional_losses, activation_2_layer_call_fn while saving (showing 5 of 16). These functions will not be directly callable after loading.\n"
     ]
    },
    {
     "name": "stdout",
     "output_type": "stream",
     "text": [
      "INFO:tensorflow:Assets written to: C:\\Users\\ucesvpm\\OneDrive - University College London\\PhD Project\\Data Analytics\\Time Series Clustering\\Third Test\\Time-Series-PhD\\wandb\\run-20230207_155453-iigaena8\\files\\model-best\\assets\n"
     ]
    },
    {
     "name": "stderr",
     "output_type": "stream",
     "text": [
      "INFO:tensorflow:Assets written to: C:\\Users\\ucesvpm\\OneDrive - University College London\\PhD Project\\Data Analytics\\Time Series Clustering\\Third Test\\Time-Series-PhD\\wandb\\run-20230207_155453-iigaena8\\files\\model-best\\assets\n",
      "\u001b[34m\u001b[1mwandb\u001b[0m: Adding directory to artifact (C:\\Users\\ucesvpm\\OneDrive - University College London\\PhD Project\\Data Analytics\\Time Series Clustering\\Third Test\\Time-Series-PhD\\wandb\\run-20230207_155453-iigaena8\\files\\model-best)... Done. 0.1s\n"
     ]
    },
    {
     "name": "stdout",
     "output_type": "stream",
     "text": [
      "2725/2725 [==============================] - 26s 9ms/step - loss: 0.4411 - mse: 0.4411 - val_loss: 0.4536 - val_mse: 0.4536 - lr: 2.0198e-05\n",
      "Epoch 38/100\n",
      "2720/2725 [============================>.] - ETA: 0s - loss: 0.4404 - mse: 0.4404"
     ]
    },
    {
     "name": "stderr",
     "output_type": "stream",
     "text": [
      "WARNING:absl:Found untraced functions such as activation_layer_call_fn, activation_layer_call_and_return_conditional_losses, activation_1_layer_call_fn, activation_1_layer_call_and_return_conditional_losses, activation_2_layer_call_fn while saving (showing 5 of 16). These functions will not be directly callable after loading.\n"
     ]
    },
    {
     "name": "stdout",
     "output_type": "stream",
     "text": [
      "INFO:tensorflow:Assets written to: C:\\Users\\ucesvpm\\OneDrive - University College London\\PhD Project\\Data Analytics\\Time Series Clustering\\Third Test\\Time-Series-PhD\\wandb\\run-20230207_155453-iigaena8\\files\\model-best\\assets\n"
     ]
    },
    {
     "name": "stderr",
     "output_type": "stream",
     "text": [
      "INFO:tensorflow:Assets written to: C:\\Users\\ucesvpm\\OneDrive - University College London\\PhD Project\\Data Analytics\\Time Series Clustering\\Third Test\\Time-Series-PhD\\wandb\\run-20230207_155453-iigaena8\\files\\model-best\\assets\n",
      "\u001b[34m\u001b[1mwandb\u001b[0m: Adding directory to artifact (C:\\Users\\ucesvpm\\OneDrive - University College London\\PhD Project\\Data Analytics\\Time Series Clustering\\Third Test\\Time-Series-PhD\\wandb\\run-20230207_155453-iigaena8\\files\\model-best)... Done. 0.0s\n"
     ]
    },
    {
     "name": "stdout",
     "output_type": "stream",
     "text": [
      "2725/2725 [==============================] - 23s 9ms/step - loss: 0.4404 - mse: 0.4404 - val_loss: 0.4533 - val_mse: 0.4533 - lr: 2.0198e-05\n",
      "Epoch 39/100\n",
      "2723/2725 [============================>.] - ETA: 0s - loss: 0.4398 - mse: 0.4398"
     ]
    },
    {
     "name": "stderr",
     "output_type": "stream",
     "text": [
      "WARNING:absl:Found untraced functions such as activation_layer_call_fn, activation_layer_call_and_return_conditional_losses, activation_1_layer_call_fn, activation_1_layer_call_and_return_conditional_losses, activation_2_layer_call_fn while saving (showing 5 of 16). These functions will not be directly callable after loading.\n"
     ]
    },
    {
     "name": "stdout",
     "output_type": "stream",
     "text": [
      "INFO:tensorflow:Assets written to: C:\\Users\\ucesvpm\\OneDrive - University College London\\PhD Project\\Data Analytics\\Time Series Clustering\\Third Test\\Time-Series-PhD\\wandb\\run-20230207_155453-iigaena8\\files\\model-best\\assets\n"
     ]
    },
    {
     "name": "stderr",
     "output_type": "stream",
     "text": [
      "INFO:tensorflow:Assets written to: C:\\Users\\ucesvpm\\OneDrive - University College London\\PhD Project\\Data Analytics\\Time Series Clustering\\Third Test\\Time-Series-PhD\\wandb\\run-20230207_155453-iigaena8\\files\\model-best\\assets\n",
      "\u001b[34m\u001b[1mwandb\u001b[0m: Adding directory to artifact (C:\\Users\\ucesvpm\\OneDrive - University College London\\PhD Project\\Data Analytics\\Time Series Clustering\\Third Test\\Time-Series-PhD\\wandb\\run-20230207_155453-iigaena8\\files\\model-best)... Done. 0.0s\n"
     ]
    },
    {
     "name": "stdout",
     "output_type": "stream",
     "text": [
      "2725/2725 [==============================] - 25s 9ms/step - loss: 0.4398 - mse: 0.4398 - val_loss: 0.4527 - val_mse: 0.4527 - lr: 2.0198e-05\n",
      "Epoch 40/100\n",
      "2721/2725 [============================>.] - ETA: 0s - loss: 0.4391 - mse: 0.4391"
     ]
    },
    {
     "name": "stderr",
     "output_type": "stream",
     "text": [
      "WARNING:absl:Found untraced functions such as activation_layer_call_fn, activation_layer_call_and_return_conditional_losses, activation_1_layer_call_fn, activation_1_layer_call_and_return_conditional_losses, activation_2_layer_call_fn while saving (showing 5 of 16). These functions will not be directly callable after loading.\n"
     ]
    },
    {
     "name": "stdout",
     "output_type": "stream",
     "text": [
      "INFO:tensorflow:Assets written to: C:\\Users\\ucesvpm\\OneDrive - University College London\\PhD Project\\Data Analytics\\Time Series Clustering\\Third Test\\Time-Series-PhD\\wandb\\run-20230207_155453-iigaena8\\files\\model-best\\assets\n"
     ]
    },
    {
     "name": "stderr",
     "output_type": "stream",
     "text": [
      "INFO:tensorflow:Assets written to: C:\\Users\\ucesvpm\\OneDrive - University College London\\PhD Project\\Data Analytics\\Time Series Clustering\\Third Test\\Time-Series-PhD\\wandb\\run-20230207_155453-iigaena8\\files\\model-best\\assets\n",
      "\u001b[34m\u001b[1mwandb\u001b[0m: Adding directory to artifact (C:\\Users\\ucesvpm\\OneDrive - University College London\\PhD Project\\Data Analytics\\Time Series Clustering\\Third Test\\Time-Series-PhD\\wandb\\run-20230207_155453-iigaena8\\files\\model-best)... Done. 0.1s\n"
     ]
    },
    {
     "name": "stdout",
     "output_type": "stream",
     "text": [
      "2725/2725 [==============================] - 28s 10ms/step - loss: 0.4391 - mse: 0.4391 - val_loss: 0.4525 - val_mse: 0.4525 - lr: 2.0198e-05\n",
      "Epoch 41/100\n",
      "2720/2725 [============================>.] - ETA: 0s - loss: 0.4386 - mse: 0.4386"
     ]
    },
    {
     "name": "stderr",
     "output_type": "stream",
     "text": [
      "WARNING:absl:Found untraced functions such as activation_layer_call_fn, activation_layer_call_and_return_conditional_losses, activation_1_layer_call_fn, activation_1_layer_call_and_return_conditional_losses, activation_2_layer_call_fn while saving (showing 5 of 16). These functions will not be directly callable after loading.\n"
     ]
    },
    {
     "name": "stdout",
     "output_type": "stream",
     "text": [
      "INFO:tensorflow:Assets written to: C:\\Users\\ucesvpm\\OneDrive - University College London\\PhD Project\\Data Analytics\\Time Series Clustering\\Third Test\\Time-Series-PhD\\wandb\\run-20230207_155453-iigaena8\\files\\model-best\\assets\n"
     ]
    },
    {
     "name": "stderr",
     "output_type": "stream",
     "text": [
      "INFO:tensorflow:Assets written to: C:\\Users\\ucesvpm\\OneDrive - University College London\\PhD Project\\Data Analytics\\Time Series Clustering\\Third Test\\Time-Series-PhD\\wandb\\run-20230207_155453-iigaena8\\files\\model-best\\assets\n",
      "\u001b[34m\u001b[1mwandb\u001b[0m: Adding directory to artifact (C:\\Users\\ucesvpm\\OneDrive - University College London\\PhD Project\\Data Analytics\\Time Series Clustering\\Third Test\\Time-Series-PhD\\wandb\\run-20230207_155453-iigaena8\\files\\model-best)... Done. 0.0s\n"
     ]
    },
    {
     "name": "stdout",
     "output_type": "stream",
     "text": [
      "2725/2725 [==============================] - 26s 10ms/step - loss: 0.4385 - mse: 0.4385 - val_loss: 0.4518 - val_mse: 0.4518 - lr: 2.0198e-05\n",
      "Epoch 42/100\n",
      "2723/2725 [============================>.] - ETA: 0s - loss: 0.4379 - mse: 0.4379"
     ]
    },
    {
     "name": "stderr",
     "output_type": "stream",
     "text": [
      "WARNING:absl:Found untraced functions such as activation_layer_call_fn, activation_layer_call_and_return_conditional_losses, activation_1_layer_call_fn, activation_1_layer_call_and_return_conditional_losses, activation_2_layer_call_fn while saving (showing 5 of 16). These functions will not be directly callable after loading.\n"
     ]
    },
    {
     "name": "stdout",
     "output_type": "stream",
     "text": [
      "INFO:tensorflow:Assets written to: C:\\Users\\ucesvpm\\OneDrive - University College London\\PhD Project\\Data Analytics\\Time Series Clustering\\Third Test\\Time-Series-PhD\\wandb\\run-20230207_155453-iigaena8\\files\\model-best\\assets\n"
     ]
    },
    {
     "name": "stderr",
     "output_type": "stream",
     "text": [
      "INFO:tensorflow:Assets written to: C:\\Users\\ucesvpm\\OneDrive - University College London\\PhD Project\\Data Analytics\\Time Series Clustering\\Third Test\\Time-Series-PhD\\wandb\\run-20230207_155453-iigaena8\\files\\model-best\\assets\n",
      "\u001b[34m\u001b[1mwandb\u001b[0m: Adding directory to artifact (C:\\Users\\ucesvpm\\OneDrive - University College London\\PhD Project\\Data Analytics\\Time Series Clustering\\Third Test\\Time-Series-PhD\\wandb\\run-20230207_155453-iigaena8\\files\\model-best)... Done. 0.0s\n"
     ]
    },
    {
     "name": "stdout",
     "output_type": "stream",
     "text": [
      "2725/2725 [==============================] - 24s 9ms/step - loss: 0.4379 - mse: 0.4379 - val_loss: 0.4514 - val_mse: 0.4514 - lr: 2.0198e-05\n",
      "Epoch 43/100\n",
      "2718/2725 [============================>.] - ETA: 0s - loss: 0.4373 - mse: 0.4373"
     ]
    },
    {
     "name": "stderr",
     "output_type": "stream",
     "text": [
      "WARNING:absl:Found untraced functions such as activation_layer_call_fn, activation_layer_call_and_return_conditional_losses, activation_1_layer_call_fn, activation_1_layer_call_and_return_conditional_losses, activation_2_layer_call_fn while saving (showing 5 of 16). These functions will not be directly callable after loading.\n"
     ]
    },
    {
     "name": "stdout",
     "output_type": "stream",
     "text": [
      "INFO:tensorflow:Assets written to: C:\\Users\\ucesvpm\\OneDrive - University College London\\PhD Project\\Data Analytics\\Time Series Clustering\\Third Test\\Time-Series-PhD\\wandb\\run-20230207_155453-iigaena8\\files\\model-best\\assets\n"
     ]
    },
    {
     "name": "stderr",
     "output_type": "stream",
     "text": [
      "INFO:tensorflow:Assets written to: C:\\Users\\ucesvpm\\OneDrive - University College London\\PhD Project\\Data Analytics\\Time Series Clustering\\Third Test\\Time-Series-PhD\\wandb\\run-20230207_155453-iigaena8\\files\\model-best\\assets\n",
      "\u001b[34m\u001b[1mwandb\u001b[0m: Adding directory to artifact (C:\\Users\\ucesvpm\\OneDrive - University College London\\PhD Project\\Data Analytics\\Time Series Clustering\\Third Test\\Time-Series-PhD\\wandb\\run-20230207_155453-iigaena8\\files\\model-best)... Done. 0.0s\n"
     ]
    },
    {
     "name": "stdout",
     "output_type": "stream",
     "text": [
      "2725/2725 [==============================] - 23s 8ms/step - loss: 0.4373 - mse: 0.4373 - val_loss: 0.4509 - val_mse: 0.4509 - lr: 2.0198e-05\n",
      "Epoch 44/100\n",
      "2719/2725 [============================>.] - ETA: 0s - loss: 0.4367 - mse: 0.4367"
     ]
    },
    {
     "name": "stderr",
     "output_type": "stream",
     "text": [
      "WARNING:absl:Found untraced functions such as activation_layer_call_fn, activation_layer_call_and_return_conditional_losses, activation_1_layer_call_fn, activation_1_layer_call_and_return_conditional_losses, activation_2_layer_call_fn while saving (showing 5 of 16). These functions will not be directly callable after loading.\n"
     ]
    },
    {
     "name": "stdout",
     "output_type": "stream",
     "text": [
      "INFO:tensorflow:Assets written to: C:\\Users\\ucesvpm\\OneDrive - University College London\\PhD Project\\Data Analytics\\Time Series Clustering\\Third Test\\Time-Series-PhD\\wandb\\run-20230207_155453-iigaena8\\files\\model-best\\assets\n"
     ]
    },
    {
     "name": "stderr",
     "output_type": "stream",
     "text": [
      "INFO:tensorflow:Assets written to: C:\\Users\\ucesvpm\\OneDrive - University College London\\PhD Project\\Data Analytics\\Time Series Clustering\\Third Test\\Time-Series-PhD\\wandb\\run-20230207_155453-iigaena8\\files\\model-best\\assets\n",
      "\u001b[34m\u001b[1mwandb\u001b[0m: Adding directory to artifact (C:\\Users\\ucesvpm\\OneDrive - University College London\\PhD Project\\Data Analytics\\Time Series Clustering\\Third Test\\Time-Series-PhD\\wandb\\run-20230207_155453-iigaena8\\files\\model-best)... Done. 0.0s\n"
     ]
    },
    {
     "name": "stdout",
     "output_type": "stream",
     "text": [
      "2725/2725 [==============================] - 23s 9ms/step - loss: 0.4367 - mse: 0.4367 - val_loss: 0.4505 - val_mse: 0.4505 - lr: 2.0198e-05\n",
      "Epoch 45/100\n",
      "2721/2725 [============================>.] - ETA: 0s - loss: 0.4361 - mse: 0.4361"
     ]
    },
    {
     "name": "stderr",
     "output_type": "stream",
     "text": [
      "WARNING:absl:Found untraced functions such as activation_layer_call_fn, activation_layer_call_and_return_conditional_losses, activation_1_layer_call_fn, activation_1_layer_call_and_return_conditional_losses, activation_2_layer_call_fn while saving (showing 5 of 16). These functions will not be directly callable after loading.\n"
     ]
    },
    {
     "name": "stdout",
     "output_type": "stream",
     "text": [
      "INFO:tensorflow:Assets written to: C:\\Users\\ucesvpm\\OneDrive - University College London\\PhD Project\\Data Analytics\\Time Series Clustering\\Third Test\\Time-Series-PhD\\wandb\\run-20230207_155453-iigaena8\\files\\model-best\\assets\n"
     ]
    },
    {
     "name": "stderr",
     "output_type": "stream",
     "text": [
      "INFO:tensorflow:Assets written to: C:\\Users\\ucesvpm\\OneDrive - University College London\\PhD Project\\Data Analytics\\Time Series Clustering\\Third Test\\Time-Series-PhD\\wandb\\run-20230207_155453-iigaena8\\files\\model-best\\assets\n",
      "\u001b[34m\u001b[1mwandb\u001b[0m: Adding directory to artifact (C:\\Users\\ucesvpm\\OneDrive - University College London\\PhD Project\\Data Analytics\\Time Series Clustering\\Third Test\\Time-Series-PhD\\wandb\\run-20230207_155453-iigaena8\\files\\model-best)... Done. 0.0s\n"
     ]
    },
    {
     "name": "stdout",
     "output_type": "stream",
     "text": [
      "2725/2725 [==============================] - 23s 8ms/step - loss: 0.4362 - mse: 0.4362 - val_loss: 0.4501 - val_mse: 0.4501 - lr: 2.0198e-05\n",
      "Epoch 46/100\n",
      "2721/2725 [============================>.] - ETA: 0s - loss: 0.4357 - mse: 0.4357"
     ]
    },
    {
     "name": "stderr",
     "output_type": "stream",
     "text": [
      "WARNING:absl:Found untraced functions such as activation_layer_call_fn, activation_layer_call_and_return_conditional_losses, activation_1_layer_call_fn, activation_1_layer_call_and_return_conditional_losses, activation_2_layer_call_fn while saving (showing 5 of 16). These functions will not be directly callable after loading.\n"
     ]
    },
    {
     "name": "stdout",
     "output_type": "stream",
     "text": [
      "INFO:tensorflow:Assets written to: C:\\Users\\ucesvpm\\OneDrive - University College London\\PhD Project\\Data Analytics\\Time Series Clustering\\Third Test\\Time-Series-PhD\\wandb\\run-20230207_155453-iigaena8\\files\\model-best\\assets\n"
     ]
    },
    {
     "name": "stderr",
     "output_type": "stream",
     "text": [
      "INFO:tensorflow:Assets written to: C:\\Users\\ucesvpm\\OneDrive - University College London\\PhD Project\\Data Analytics\\Time Series Clustering\\Third Test\\Time-Series-PhD\\wandb\\run-20230207_155453-iigaena8\\files\\model-best\\assets\n",
      "\u001b[34m\u001b[1mwandb\u001b[0m: Adding directory to artifact (C:\\Users\\ucesvpm\\OneDrive - University College London\\PhD Project\\Data Analytics\\Time Series Clustering\\Third Test\\Time-Series-PhD\\wandb\\run-20230207_155453-iigaena8\\files\\model-best)... Done. 0.0s\n"
     ]
    },
    {
     "name": "stdout",
     "output_type": "stream",
     "text": [
      "2725/2725 [==============================] - 25s 9ms/step - loss: 0.4356 - mse: 0.4356 - val_loss: 0.4496 - val_mse: 0.4496 - lr: 2.0198e-05\n",
      "Epoch 47/100\n",
      "2719/2725 [============================>.] - ETA: 0s - loss: 0.4351 - mse: 0.4351"
     ]
    },
    {
     "name": "stderr",
     "output_type": "stream",
     "text": [
      "WARNING:absl:Found untraced functions such as activation_layer_call_fn, activation_layer_call_and_return_conditional_losses, activation_1_layer_call_fn, activation_1_layer_call_and_return_conditional_losses, activation_2_layer_call_fn while saving (showing 5 of 16). These functions will not be directly callable after loading.\n"
     ]
    },
    {
     "name": "stdout",
     "output_type": "stream",
     "text": [
      "INFO:tensorflow:Assets written to: C:\\Users\\ucesvpm\\OneDrive - University College London\\PhD Project\\Data Analytics\\Time Series Clustering\\Third Test\\Time-Series-PhD\\wandb\\run-20230207_155453-iigaena8\\files\\model-best\\assets\n"
     ]
    },
    {
     "name": "stderr",
     "output_type": "stream",
     "text": [
      "INFO:tensorflow:Assets written to: C:\\Users\\ucesvpm\\OneDrive - University College London\\PhD Project\\Data Analytics\\Time Series Clustering\\Third Test\\Time-Series-PhD\\wandb\\run-20230207_155453-iigaena8\\files\\model-best\\assets\n",
      "\u001b[34m\u001b[1mwandb\u001b[0m: Adding directory to artifact (C:\\Users\\ucesvpm\\OneDrive - University College London\\PhD Project\\Data Analytics\\Time Series Clustering\\Third Test\\Time-Series-PhD\\wandb\\run-20230207_155453-iigaena8\\files\\model-best)... Done. 0.0s\n"
     ]
    },
    {
     "name": "stdout",
     "output_type": "stream",
     "text": [
      "2725/2725 [==============================] - 24s 9ms/step - loss: 0.4351 - mse: 0.4351 - val_loss: 0.4491 - val_mse: 0.4491 - lr: 2.0198e-05\n",
      "Epoch 48/100\n",
      "2719/2725 [============================>.] - ETA: 0s - loss: 0.4345 - mse: 0.4345"
     ]
    },
    {
     "name": "stderr",
     "output_type": "stream",
     "text": [
      "WARNING:absl:Found untraced functions such as activation_layer_call_fn, activation_layer_call_and_return_conditional_losses, activation_1_layer_call_fn, activation_1_layer_call_and_return_conditional_losses, activation_2_layer_call_fn while saving (showing 5 of 16). These functions will not be directly callable after loading.\n"
     ]
    },
    {
     "name": "stdout",
     "output_type": "stream",
     "text": [
      "INFO:tensorflow:Assets written to: C:\\Users\\ucesvpm\\OneDrive - University College London\\PhD Project\\Data Analytics\\Time Series Clustering\\Third Test\\Time-Series-PhD\\wandb\\run-20230207_155453-iigaena8\\files\\model-best\\assets\n"
     ]
    },
    {
     "name": "stderr",
     "output_type": "stream",
     "text": [
      "INFO:tensorflow:Assets written to: C:\\Users\\ucesvpm\\OneDrive - University College London\\PhD Project\\Data Analytics\\Time Series Clustering\\Third Test\\Time-Series-PhD\\wandb\\run-20230207_155453-iigaena8\\files\\model-best\\assets\n",
      "\u001b[34m\u001b[1mwandb\u001b[0m: Adding directory to artifact (C:\\Users\\ucesvpm\\OneDrive - University College London\\PhD Project\\Data Analytics\\Time Series Clustering\\Third Test\\Time-Series-PhD\\wandb\\run-20230207_155453-iigaena8\\files\\model-best)... Done. 0.0s\n"
     ]
    },
    {
     "name": "stdout",
     "output_type": "stream",
     "text": [
      "2725/2725 [==============================] - 27s 10ms/step - loss: 0.4346 - mse: 0.4346 - val_loss: 0.4488 - val_mse: 0.4488 - lr: 2.0198e-05\n",
      "Epoch 49/100\n",
      "2723/2725 [============================>.] - ETA: 0s - loss: 0.4340 - mse: 0.4340"
     ]
    },
    {
     "name": "stderr",
     "output_type": "stream",
     "text": [
      "WARNING:absl:Found untraced functions such as activation_layer_call_fn, activation_layer_call_and_return_conditional_losses, activation_1_layer_call_fn, activation_1_layer_call_and_return_conditional_losses, activation_2_layer_call_fn while saving (showing 5 of 16). These functions will not be directly callable after loading.\n"
     ]
    },
    {
     "name": "stdout",
     "output_type": "stream",
     "text": [
      "INFO:tensorflow:Assets written to: C:\\Users\\ucesvpm\\OneDrive - University College London\\PhD Project\\Data Analytics\\Time Series Clustering\\Third Test\\Time-Series-PhD\\wandb\\run-20230207_155453-iigaena8\\files\\model-best\\assets\n"
     ]
    },
    {
     "name": "stderr",
     "output_type": "stream",
     "text": [
      "INFO:tensorflow:Assets written to: C:\\Users\\ucesvpm\\OneDrive - University College London\\PhD Project\\Data Analytics\\Time Series Clustering\\Third Test\\Time-Series-PhD\\wandb\\run-20230207_155453-iigaena8\\files\\model-best\\assets\n",
      "\u001b[34m\u001b[1mwandb\u001b[0m: Adding directory to artifact (C:\\Users\\ucesvpm\\OneDrive - University College London\\PhD Project\\Data Analytics\\Time Series Clustering\\Third Test\\Time-Series-PhD\\wandb\\run-20230207_155453-iigaena8\\files\\model-best)... Done. 0.0s\n"
     ]
    },
    {
     "name": "stdout",
     "output_type": "stream",
     "text": [
      "2725/2725 [==============================] - 23s 8ms/step - loss: 0.4341 - mse: 0.4341 - val_loss: 0.4478 - val_mse: 0.4478 - lr: 2.0198e-05\n",
      "Epoch 50/100\n",
      "2725/2725 [==============================] - 20s 7ms/step - loss: 0.4335 - mse: 0.4335 - val_loss: 0.4480 - val_mse: 0.4480 - lr: 2.0198e-05\n",
      "Epoch 51/100\n",
      "2718/2725 [============================>.] - ETA: 0s - loss: 0.4331 - mse: 0.4331"
     ]
    },
    {
     "name": "stderr",
     "output_type": "stream",
     "text": [
      "WARNING:absl:Found untraced functions such as activation_layer_call_fn, activation_layer_call_and_return_conditional_losses, activation_1_layer_call_fn, activation_1_layer_call_and_return_conditional_losses, activation_2_layer_call_fn while saving (showing 5 of 16). These functions will not be directly callable after loading.\n"
     ]
    },
    {
     "name": "stdout",
     "output_type": "stream",
     "text": [
      "INFO:tensorflow:Assets written to: C:\\Users\\ucesvpm\\OneDrive - University College London\\PhD Project\\Data Analytics\\Time Series Clustering\\Third Test\\Time-Series-PhD\\wandb\\run-20230207_155453-iigaena8\\files\\model-best\\assets\n"
     ]
    },
    {
     "name": "stderr",
     "output_type": "stream",
     "text": [
      "INFO:tensorflow:Assets written to: C:\\Users\\ucesvpm\\OneDrive - University College London\\PhD Project\\Data Analytics\\Time Series Clustering\\Third Test\\Time-Series-PhD\\wandb\\run-20230207_155453-iigaena8\\files\\model-best\\assets\n",
      "\u001b[34m\u001b[1mwandb\u001b[0m: Adding directory to artifact (C:\\Users\\ucesvpm\\OneDrive - University College London\\PhD Project\\Data Analytics\\Time Series Clustering\\Third Test\\Time-Series-PhD\\wandb\\run-20230207_155453-iigaena8\\files\\model-best)... Done. 0.0s\n"
     ]
    },
    {
     "name": "stdout",
     "output_type": "stream",
     "text": [
      "2725/2725 [==============================] - 23s 8ms/step - loss: 0.4331 - mse: 0.4331 - val_loss: 0.4477 - val_mse: 0.4477 - lr: 2.0198e-05\n",
      "Epoch 52/100\n",
      "2721/2725 [============================>.] - ETA: 0s - loss: 0.4325 - mse: 0.4325"
     ]
    },
    {
     "name": "stderr",
     "output_type": "stream",
     "text": [
      "WARNING:absl:Found untraced functions such as activation_layer_call_fn, activation_layer_call_and_return_conditional_losses, activation_1_layer_call_fn, activation_1_layer_call_and_return_conditional_losses, activation_2_layer_call_fn while saving (showing 5 of 16). These functions will not be directly callable after loading.\n"
     ]
    },
    {
     "name": "stdout",
     "output_type": "stream",
     "text": [
      "INFO:tensorflow:Assets written to: C:\\Users\\ucesvpm\\OneDrive - University College London\\PhD Project\\Data Analytics\\Time Series Clustering\\Third Test\\Time-Series-PhD\\wandb\\run-20230207_155453-iigaena8\\files\\model-best\\assets\n"
     ]
    },
    {
     "name": "stderr",
     "output_type": "stream",
     "text": [
      "INFO:tensorflow:Assets written to: C:\\Users\\ucesvpm\\OneDrive - University College London\\PhD Project\\Data Analytics\\Time Series Clustering\\Third Test\\Time-Series-PhD\\wandb\\run-20230207_155453-iigaena8\\files\\model-best\\assets\n",
      "\u001b[34m\u001b[1mwandb\u001b[0m: Adding directory to artifact (C:\\Users\\ucesvpm\\OneDrive - University College London\\PhD Project\\Data Analytics\\Time Series Clustering\\Third Test\\Time-Series-PhD\\wandb\\run-20230207_155453-iigaena8\\files\\model-best)... Done. 0.0s\n"
     ]
    },
    {
     "name": "stdout",
     "output_type": "stream",
     "text": [
      "2725/2725 [==============================] - 22s 8ms/step - loss: 0.4325 - mse: 0.4325 - val_loss: 0.4473 - val_mse: 0.4473 - lr: 2.0198e-05\n",
      "Epoch 53/100\n",
      "2719/2725 [============================>.] - ETA: 0s - loss: 0.4321 - mse: 0.4321"
     ]
    },
    {
     "name": "stderr",
     "output_type": "stream",
     "text": [
      "WARNING:absl:Found untraced functions such as activation_layer_call_fn, activation_layer_call_and_return_conditional_losses, activation_1_layer_call_fn, activation_1_layer_call_and_return_conditional_losses, activation_2_layer_call_fn while saving (showing 5 of 16). These functions will not be directly callable after loading.\n"
     ]
    },
    {
     "name": "stdout",
     "output_type": "stream",
     "text": [
      "INFO:tensorflow:Assets written to: C:\\Users\\ucesvpm\\OneDrive - University College London\\PhD Project\\Data Analytics\\Time Series Clustering\\Third Test\\Time-Series-PhD\\wandb\\run-20230207_155453-iigaena8\\files\\model-best\\assets\n"
     ]
    },
    {
     "name": "stderr",
     "output_type": "stream",
     "text": [
      "INFO:tensorflow:Assets written to: C:\\Users\\ucesvpm\\OneDrive - University College London\\PhD Project\\Data Analytics\\Time Series Clustering\\Third Test\\Time-Series-PhD\\wandb\\run-20230207_155453-iigaena8\\files\\model-best\\assets\n",
      "\u001b[34m\u001b[1mwandb\u001b[0m: Adding directory to artifact (C:\\Users\\ucesvpm\\OneDrive - University College London\\PhD Project\\Data Analytics\\Time Series Clustering\\Third Test\\Time-Series-PhD\\wandb\\run-20230207_155453-iigaena8\\files\\model-best)... Done. 0.0s\n"
     ]
    },
    {
     "name": "stdout",
     "output_type": "stream",
     "text": [
      "2725/2725 [==============================] - 24s 9ms/step - loss: 0.4321 - mse: 0.4321 - val_loss: 0.4468 - val_mse: 0.4468 - lr: 2.0198e-05\n",
      "Epoch 54/100\n",
      "2717/2725 [============================>.] - ETA: 0s - loss: 0.4316 - mse: 0.4316"
     ]
    },
    {
     "name": "stderr",
     "output_type": "stream",
     "text": [
      "WARNING:absl:Found untraced functions such as activation_layer_call_fn, activation_layer_call_and_return_conditional_losses, activation_1_layer_call_fn, activation_1_layer_call_and_return_conditional_losses, activation_2_layer_call_fn while saving (showing 5 of 16). These functions will not be directly callable after loading.\n"
     ]
    },
    {
     "name": "stdout",
     "output_type": "stream",
     "text": [
      "INFO:tensorflow:Assets written to: C:\\Users\\ucesvpm\\OneDrive - University College London\\PhD Project\\Data Analytics\\Time Series Clustering\\Third Test\\Time-Series-PhD\\wandb\\run-20230207_155453-iigaena8\\files\\model-best\\assets\n"
     ]
    },
    {
     "name": "stderr",
     "output_type": "stream",
     "text": [
      "INFO:tensorflow:Assets written to: C:\\Users\\ucesvpm\\OneDrive - University College London\\PhD Project\\Data Analytics\\Time Series Clustering\\Third Test\\Time-Series-PhD\\wandb\\run-20230207_155453-iigaena8\\files\\model-best\\assets\n",
      "\u001b[34m\u001b[1mwandb\u001b[0m: Adding directory to artifact (C:\\Users\\ucesvpm\\OneDrive - University College London\\PhD Project\\Data Analytics\\Time Series Clustering\\Third Test\\Time-Series-PhD\\wandb\\run-20230207_155453-iigaena8\\files\\model-best)... Done. 0.1s\n"
     ]
    },
    {
     "name": "stdout",
     "output_type": "stream",
     "text": [
      "2725/2725 [==============================] - 23s 9ms/step - loss: 0.4316 - mse: 0.4316 - val_loss: 0.4466 - val_mse: 0.4466 - lr: 2.0198e-05\n",
      "Epoch 55/100\n",
      "2722/2725 [============================>.] - ETA: 0s - loss: 0.4311 - mse: 0.4311"
     ]
    },
    {
     "name": "stderr",
     "output_type": "stream",
     "text": [
      "WARNING:absl:Found untraced functions such as activation_layer_call_fn, activation_layer_call_and_return_conditional_losses, activation_1_layer_call_fn, activation_1_layer_call_and_return_conditional_losses, activation_2_layer_call_fn while saving (showing 5 of 16). These functions will not be directly callable after loading.\n"
     ]
    },
    {
     "name": "stdout",
     "output_type": "stream",
     "text": [
      "INFO:tensorflow:Assets written to: C:\\Users\\ucesvpm\\OneDrive - University College London\\PhD Project\\Data Analytics\\Time Series Clustering\\Third Test\\Time-Series-PhD\\wandb\\run-20230207_155453-iigaena8\\files\\model-best\\assets\n"
     ]
    },
    {
     "name": "stderr",
     "output_type": "stream",
     "text": [
      "INFO:tensorflow:Assets written to: C:\\Users\\ucesvpm\\OneDrive - University College London\\PhD Project\\Data Analytics\\Time Series Clustering\\Third Test\\Time-Series-PhD\\wandb\\run-20230207_155453-iigaena8\\files\\model-best\\assets\n",
      "\u001b[34m\u001b[1mwandb\u001b[0m: Adding directory to artifact (C:\\Users\\ucesvpm\\OneDrive - University College London\\PhD Project\\Data Analytics\\Time Series Clustering\\Third Test\\Time-Series-PhD\\wandb\\run-20230207_155453-iigaena8\\files\\model-best)... Done. 0.0s\n"
     ]
    },
    {
     "name": "stdout",
     "output_type": "stream",
     "text": [
      "2725/2725 [==============================] - 22s 8ms/step - loss: 0.4311 - mse: 0.4311 - val_loss: 0.4464 - val_mse: 0.4464 - lr: 2.0198e-05\n",
      "Epoch 56/100\n",
      "2723/2725 [============================>.] - ETA: 0s - loss: 0.4307 - mse: 0.4307"
     ]
    },
    {
     "name": "stderr",
     "output_type": "stream",
     "text": [
      "WARNING:absl:Found untraced functions such as activation_layer_call_fn, activation_layer_call_and_return_conditional_losses, activation_1_layer_call_fn, activation_1_layer_call_and_return_conditional_losses, activation_2_layer_call_fn while saving (showing 5 of 16). These functions will not be directly callable after loading.\n"
     ]
    },
    {
     "name": "stdout",
     "output_type": "stream",
     "text": [
      "INFO:tensorflow:Assets written to: C:\\Users\\ucesvpm\\OneDrive - University College London\\PhD Project\\Data Analytics\\Time Series Clustering\\Third Test\\Time-Series-PhD\\wandb\\run-20230207_155453-iigaena8\\files\\model-best\\assets\n"
     ]
    },
    {
     "name": "stderr",
     "output_type": "stream",
     "text": [
      "INFO:tensorflow:Assets written to: C:\\Users\\ucesvpm\\OneDrive - University College London\\PhD Project\\Data Analytics\\Time Series Clustering\\Third Test\\Time-Series-PhD\\wandb\\run-20230207_155453-iigaena8\\files\\model-best\\assets\n",
      "\u001b[34m\u001b[1mwandb\u001b[0m: Adding directory to artifact (C:\\Users\\ucesvpm\\OneDrive - University College London\\PhD Project\\Data Analytics\\Time Series Clustering\\Third Test\\Time-Series-PhD\\wandb\\run-20230207_155453-iigaena8\\files\\model-best)... Done. 0.0s\n"
     ]
    },
    {
     "name": "stdout",
     "output_type": "stream",
     "text": [
      "2725/2725 [==============================] - 23s 9ms/step - loss: 0.4307 - mse: 0.4307 - val_loss: 0.4458 - val_mse: 0.4458 - lr: 2.0198e-05\n",
      "Epoch 57/100\n",
      "2720/2725 [============================>.] - ETA: 0s - loss: 0.4302 - mse: 0.4302"
     ]
    },
    {
     "name": "stderr",
     "output_type": "stream",
     "text": [
      "WARNING:absl:Found untraced functions such as activation_layer_call_fn, activation_layer_call_and_return_conditional_losses, activation_1_layer_call_fn, activation_1_layer_call_and_return_conditional_losses, activation_2_layer_call_fn while saving (showing 5 of 16). These functions will not be directly callable after loading.\n"
     ]
    },
    {
     "name": "stdout",
     "output_type": "stream",
     "text": [
      "INFO:tensorflow:Assets written to: C:\\Users\\ucesvpm\\OneDrive - University College London\\PhD Project\\Data Analytics\\Time Series Clustering\\Third Test\\Time-Series-PhD\\wandb\\run-20230207_155453-iigaena8\\files\\model-best\\assets\n"
     ]
    },
    {
     "name": "stderr",
     "output_type": "stream",
     "text": [
      "INFO:tensorflow:Assets written to: C:\\Users\\ucesvpm\\OneDrive - University College London\\PhD Project\\Data Analytics\\Time Series Clustering\\Third Test\\Time-Series-PhD\\wandb\\run-20230207_155453-iigaena8\\files\\model-best\\assets\n",
      "\u001b[34m\u001b[1mwandb\u001b[0m: Adding directory to artifact (C:\\Users\\ucesvpm\\OneDrive - University College London\\PhD Project\\Data Analytics\\Time Series Clustering\\Third Test\\Time-Series-PhD\\wandb\\run-20230207_155453-iigaena8\\files\\model-best)... Done. 0.0s\n"
     ]
    },
    {
     "name": "stdout",
     "output_type": "stream",
     "text": [
      "2725/2725 [==============================] - 22s 8ms/step - loss: 0.4302 - mse: 0.4302 - val_loss: 0.4455 - val_mse: 0.4455 - lr: 2.0198e-05\n",
      "Epoch 58/100\n",
      "2722/2725 [============================>.] - ETA: 0s - loss: 0.4297 - mse: 0.4297"
     ]
    },
    {
     "name": "stderr",
     "output_type": "stream",
     "text": [
      "WARNING:absl:Found untraced functions such as activation_layer_call_fn, activation_layer_call_and_return_conditional_losses, activation_1_layer_call_fn, activation_1_layer_call_and_return_conditional_losses, activation_2_layer_call_fn while saving (showing 5 of 16). These functions will not be directly callable after loading.\n"
     ]
    },
    {
     "name": "stdout",
     "output_type": "stream",
     "text": [
      "INFO:tensorflow:Assets written to: C:\\Users\\ucesvpm\\OneDrive - University College London\\PhD Project\\Data Analytics\\Time Series Clustering\\Third Test\\Time-Series-PhD\\wandb\\run-20230207_155453-iigaena8\\files\\model-best\\assets\n"
     ]
    },
    {
     "name": "stderr",
     "output_type": "stream",
     "text": [
      "INFO:tensorflow:Assets written to: C:\\Users\\ucesvpm\\OneDrive - University College London\\PhD Project\\Data Analytics\\Time Series Clustering\\Third Test\\Time-Series-PhD\\wandb\\run-20230207_155453-iigaena8\\files\\model-best\\assets\n",
      "\u001b[34m\u001b[1mwandb\u001b[0m: Adding directory to artifact (C:\\Users\\ucesvpm\\OneDrive - University College London\\PhD Project\\Data Analytics\\Time Series Clustering\\Third Test\\Time-Series-PhD\\wandb\\run-20230207_155453-iigaena8\\files\\model-best)... Done. 0.0s\n"
     ]
    },
    {
     "name": "stdout",
     "output_type": "stream",
     "text": [
      "2725/2725 [==============================] - 22s 8ms/step - loss: 0.4298 - mse: 0.4298 - val_loss: 0.4455 - val_mse: 0.4455 - lr: 2.0198e-05\n",
      "Epoch 59/100\n",
      "2719/2725 [============================>.] - ETA: 0s - loss: 0.4293 - mse: 0.4293"
     ]
    },
    {
     "name": "stderr",
     "output_type": "stream",
     "text": [
      "WARNING:absl:Found untraced functions such as activation_layer_call_fn, activation_layer_call_and_return_conditional_losses, activation_1_layer_call_fn, activation_1_layer_call_and_return_conditional_losses, activation_2_layer_call_fn while saving (showing 5 of 16). These functions will not be directly callable after loading.\n"
     ]
    },
    {
     "name": "stdout",
     "output_type": "stream",
     "text": [
      "INFO:tensorflow:Assets written to: C:\\Users\\ucesvpm\\OneDrive - University College London\\PhD Project\\Data Analytics\\Time Series Clustering\\Third Test\\Time-Series-PhD\\wandb\\run-20230207_155453-iigaena8\\files\\model-best\\assets\n"
     ]
    },
    {
     "name": "stderr",
     "output_type": "stream",
     "text": [
      "INFO:tensorflow:Assets written to: C:\\Users\\ucesvpm\\OneDrive - University College London\\PhD Project\\Data Analytics\\Time Series Clustering\\Third Test\\Time-Series-PhD\\wandb\\run-20230207_155453-iigaena8\\files\\model-best\\assets\n",
      "\u001b[34m\u001b[1mwandb\u001b[0m: Adding directory to artifact (C:\\Users\\ucesvpm\\OneDrive - University College London\\PhD Project\\Data Analytics\\Time Series Clustering\\Third Test\\Time-Series-PhD\\wandb\\run-20230207_155453-iigaena8\\files\\model-best)... Done. 0.0s\n"
     ]
    },
    {
     "name": "stdout",
     "output_type": "stream",
     "text": [
      "2725/2725 [==============================] - 22s 8ms/step - loss: 0.4294 - mse: 0.4294 - val_loss: 0.4451 - val_mse: 0.4451 - lr: 2.0198e-05\n",
      "Epoch 60/100\n",
      "2722/2725 [============================>.] - ETA: 0s - loss: 0.4289 - mse: 0.4289"
     ]
    },
    {
     "name": "stderr",
     "output_type": "stream",
     "text": [
      "WARNING:absl:Found untraced functions such as activation_layer_call_fn, activation_layer_call_and_return_conditional_losses, activation_1_layer_call_fn, activation_1_layer_call_and_return_conditional_losses, activation_2_layer_call_fn while saving (showing 5 of 16). These functions will not be directly callable after loading.\n"
     ]
    },
    {
     "name": "stdout",
     "output_type": "stream",
     "text": [
      "INFO:tensorflow:Assets written to: C:\\Users\\ucesvpm\\OneDrive - University College London\\PhD Project\\Data Analytics\\Time Series Clustering\\Third Test\\Time-Series-PhD\\wandb\\run-20230207_155453-iigaena8\\files\\model-best\\assets\n"
     ]
    },
    {
     "name": "stderr",
     "output_type": "stream",
     "text": [
      "INFO:tensorflow:Assets written to: C:\\Users\\ucesvpm\\OneDrive - University College London\\PhD Project\\Data Analytics\\Time Series Clustering\\Third Test\\Time-Series-PhD\\wandb\\run-20230207_155453-iigaena8\\files\\model-best\\assets\n",
      "\u001b[34m\u001b[1mwandb\u001b[0m: Adding directory to artifact (C:\\Users\\ucesvpm\\OneDrive - University College London\\PhD Project\\Data Analytics\\Time Series Clustering\\Third Test\\Time-Series-PhD\\wandb\\run-20230207_155453-iigaena8\\files\\model-best)... Done. 0.0s\n"
     ]
    },
    {
     "name": "stdout",
     "output_type": "stream",
     "text": [
      "2725/2725 [==============================] - 24s 9ms/step - loss: 0.4289 - mse: 0.4289 - val_loss: 0.4448 - val_mse: 0.4448 - lr: 2.0198e-05\n",
      "Epoch 61/100\n",
      "2720/2725 [============================>.] - ETA: 0s - loss: 0.4286 - mse: 0.4286"
     ]
    },
    {
     "name": "stderr",
     "output_type": "stream",
     "text": [
      "WARNING:absl:Found untraced functions such as activation_layer_call_fn, activation_layer_call_and_return_conditional_losses, activation_1_layer_call_fn, activation_1_layer_call_and_return_conditional_losses, activation_2_layer_call_fn while saving (showing 5 of 16). These functions will not be directly callable after loading.\n"
     ]
    },
    {
     "name": "stdout",
     "output_type": "stream",
     "text": [
      "INFO:tensorflow:Assets written to: C:\\Users\\ucesvpm\\OneDrive - University College London\\PhD Project\\Data Analytics\\Time Series Clustering\\Third Test\\Time-Series-PhD\\wandb\\run-20230207_155453-iigaena8\\files\\model-best\\assets\n"
     ]
    },
    {
     "name": "stderr",
     "output_type": "stream",
     "text": [
      "INFO:tensorflow:Assets written to: C:\\Users\\ucesvpm\\OneDrive - University College London\\PhD Project\\Data Analytics\\Time Series Clustering\\Third Test\\Time-Series-PhD\\wandb\\run-20230207_155453-iigaena8\\files\\model-best\\assets\n",
      "\u001b[34m\u001b[1mwandb\u001b[0m: Adding directory to artifact (C:\\Users\\ucesvpm\\OneDrive - University College London\\PhD Project\\Data Analytics\\Time Series Clustering\\Third Test\\Time-Series-PhD\\wandb\\run-20230207_155453-iigaena8\\files\\model-best)... Done. 0.0s\n"
     ]
    },
    {
     "name": "stdout",
     "output_type": "stream",
     "text": [
      "2725/2725 [==============================] - 32s 12ms/step - loss: 0.4285 - mse: 0.4285 - val_loss: 0.4446 - val_mse: 0.4446 - lr: 2.0198e-05\n",
      "Epoch 62/100\n",
      "2719/2725 [============================>.] - ETA: 0s - loss: 0.4281 - mse: 0.4281"
     ]
    },
    {
     "name": "stderr",
     "output_type": "stream",
     "text": [
      "WARNING:absl:Found untraced functions such as activation_layer_call_fn, activation_layer_call_and_return_conditional_losses, activation_1_layer_call_fn, activation_1_layer_call_and_return_conditional_losses, activation_2_layer_call_fn while saving (showing 5 of 16). These functions will not be directly callable after loading.\n"
     ]
    },
    {
     "name": "stdout",
     "output_type": "stream",
     "text": [
      "INFO:tensorflow:Assets written to: C:\\Users\\ucesvpm\\OneDrive - University College London\\PhD Project\\Data Analytics\\Time Series Clustering\\Third Test\\Time-Series-PhD\\wandb\\run-20230207_155453-iigaena8\\files\\model-best\\assets\n"
     ]
    },
    {
     "name": "stderr",
     "output_type": "stream",
     "text": [
      "INFO:tensorflow:Assets written to: C:\\Users\\ucesvpm\\OneDrive - University College London\\PhD Project\\Data Analytics\\Time Series Clustering\\Third Test\\Time-Series-PhD\\wandb\\run-20230207_155453-iigaena8\\files\\model-best\\assets\n",
      "\u001b[34m\u001b[1mwandb\u001b[0m: Adding directory to artifact (C:\\Users\\ucesvpm\\OneDrive - University College London\\PhD Project\\Data Analytics\\Time Series Clustering\\Third Test\\Time-Series-PhD\\wandb\\run-20230207_155453-iigaena8\\files\\model-best)... Done. 0.0s\n"
     ]
    },
    {
     "name": "stdout",
     "output_type": "stream",
     "text": [
      "2725/2725 [==============================] - 23s 8ms/step - loss: 0.4281 - mse: 0.4281 - val_loss: 0.4444 - val_mse: 0.4444 - lr: 2.0198e-05\n",
      "Epoch 63/100\n",
      "2721/2725 [============================>.] - ETA: 0s - loss: 0.4277 - mse: 0.4277"
     ]
    },
    {
     "name": "stderr",
     "output_type": "stream",
     "text": [
      "WARNING:absl:Found untraced functions such as activation_layer_call_fn, activation_layer_call_and_return_conditional_losses, activation_1_layer_call_fn, activation_1_layer_call_and_return_conditional_losses, activation_2_layer_call_fn while saving (showing 5 of 16). These functions will not be directly callable after loading.\n"
     ]
    },
    {
     "name": "stdout",
     "output_type": "stream",
     "text": [
      "INFO:tensorflow:Assets written to: C:\\Users\\ucesvpm\\OneDrive - University College London\\PhD Project\\Data Analytics\\Time Series Clustering\\Third Test\\Time-Series-PhD\\wandb\\run-20230207_155453-iigaena8\\files\\model-best\\assets\n"
     ]
    },
    {
     "name": "stderr",
     "output_type": "stream",
     "text": [
      "INFO:tensorflow:Assets written to: C:\\Users\\ucesvpm\\OneDrive - University College London\\PhD Project\\Data Analytics\\Time Series Clustering\\Third Test\\Time-Series-PhD\\wandb\\run-20230207_155453-iigaena8\\files\\model-best\\assets\n",
      "\u001b[34m\u001b[1mwandb\u001b[0m: Adding directory to artifact (C:\\Users\\ucesvpm\\OneDrive - University College London\\PhD Project\\Data Analytics\\Time Series Clustering\\Third Test\\Time-Series-PhD\\wandb\\run-20230207_155453-iigaena8\\files\\model-best)... Done. 0.0s\n"
     ]
    },
    {
     "name": "stdout",
     "output_type": "stream",
     "text": [
      "2725/2725 [==============================] - 24s 9ms/step - loss: 0.4277 - mse: 0.4277 - val_loss: 0.4440 - val_mse: 0.4440 - lr: 2.0198e-05\n",
      "Epoch 64/100\n",
      "2723/2725 [============================>.] - ETA: 0s - loss: 0.4273 - mse: 0.4273"
     ]
    },
    {
     "name": "stderr",
     "output_type": "stream",
     "text": [
      "WARNING:absl:Found untraced functions such as activation_layer_call_fn, activation_layer_call_and_return_conditional_losses, activation_1_layer_call_fn, activation_1_layer_call_and_return_conditional_losses, activation_2_layer_call_fn while saving (showing 5 of 16). These functions will not be directly callable after loading.\n"
     ]
    },
    {
     "name": "stdout",
     "output_type": "stream",
     "text": [
      "INFO:tensorflow:Assets written to: C:\\Users\\ucesvpm\\OneDrive - University College London\\PhD Project\\Data Analytics\\Time Series Clustering\\Third Test\\Time-Series-PhD\\wandb\\run-20230207_155453-iigaena8\\files\\model-best\\assets\n"
     ]
    },
    {
     "name": "stderr",
     "output_type": "stream",
     "text": [
      "INFO:tensorflow:Assets written to: C:\\Users\\ucesvpm\\OneDrive - University College London\\PhD Project\\Data Analytics\\Time Series Clustering\\Third Test\\Time-Series-PhD\\wandb\\run-20230207_155453-iigaena8\\files\\model-best\\assets\n",
      "\u001b[34m\u001b[1mwandb\u001b[0m: Adding directory to artifact (C:\\Users\\ucesvpm\\OneDrive - University College London\\PhD Project\\Data Analytics\\Time Series Clustering\\Third Test\\Time-Series-PhD\\wandb\\run-20230207_155453-iigaena8\\files\\model-best)... Done. 0.0s\n"
     ]
    },
    {
     "name": "stdout",
     "output_type": "stream",
     "text": [
      "2725/2725 [==============================] - 22s 8ms/step - loss: 0.4273 - mse: 0.4273 - val_loss: 0.4438 - val_mse: 0.4438 - lr: 2.0198e-05\n",
      "Epoch 65/100\n",
      "2725/2725 [==============================] - ETA: 0s - loss: 0.4269 - mse: 0.4269"
     ]
    },
    {
     "name": "stderr",
     "output_type": "stream",
     "text": [
      "WARNING:absl:Found untraced functions such as activation_layer_call_fn, activation_layer_call_and_return_conditional_losses, activation_1_layer_call_fn, activation_1_layer_call_and_return_conditional_losses, activation_2_layer_call_fn while saving (showing 5 of 16). These functions will not be directly callable after loading.\n"
     ]
    },
    {
     "name": "stdout",
     "output_type": "stream",
     "text": [
      "INFO:tensorflow:Assets written to: C:\\Users\\ucesvpm\\OneDrive - University College London\\PhD Project\\Data Analytics\\Time Series Clustering\\Third Test\\Time-Series-PhD\\wandb\\run-20230207_155453-iigaena8\\files\\model-best\\assets\n"
     ]
    },
    {
     "name": "stderr",
     "output_type": "stream",
     "text": [
      "INFO:tensorflow:Assets written to: C:\\Users\\ucesvpm\\OneDrive - University College London\\PhD Project\\Data Analytics\\Time Series Clustering\\Third Test\\Time-Series-PhD\\wandb\\run-20230207_155453-iigaena8\\files\\model-best\\assets\n",
      "\u001b[34m\u001b[1mwandb\u001b[0m: Adding directory to artifact (C:\\Users\\ucesvpm\\OneDrive - University College London\\PhD Project\\Data Analytics\\Time Series Clustering\\Third Test\\Time-Series-PhD\\wandb\\run-20230207_155453-iigaena8\\files\\model-best)... Done. 0.0s\n"
     ]
    },
    {
     "name": "stdout",
     "output_type": "stream",
     "text": [
      "2725/2725 [==============================] - 22s 8ms/step - loss: 0.4269 - mse: 0.4269 - val_loss: 0.4435 - val_mse: 0.4435 - lr: 2.0198e-05\n",
      "Epoch 66/100\n",
      "2720/2725 [============================>.] - ETA: 0s - loss: 0.4265 - mse: 0.4265"
     ]
    },
    {
     "name": "stderr",
     "output_type": "stream",
     "text": [
      "WARNING:absl:Found untraced functions such as activation_layer_call_fn, activation_layer_call_and_return_conditional_losses, activation_1_layer_call_fn, activation_1_layer_call_and_return_conditional_losses, activation_2_layer_call_fn while saving (showing 5 of 16). These functions will not be directly callable after loading.\n"
     ]
    },
    {
     "name": "stdout",
     "output_type": "stream",
     "text": [
      "INFO:tensorflow:Assets written to: C:\\Users\\ucesvpm\\OneDrive - University College London\\PhD Project\\Data Analytics\\Time Series Clustering\\Third Test\\Time-Series-PhD\\wandb\\run-20230207_155453-iigaena8\\files\\model-best\\assets\n"
     ]
    },
    {
     "name": "stderr",
     "output_type": "stream",
     "text": [
      "INFO:tensorflow:Assets written to: C:\\Users\\ucesvpm\\OneDrive - University College London\\PhD Project\\Data Analytics\\Time Series Clustering\\Third Test\\Time-Series-PhD\\wandb\\run-20230207_155453-iigaena8\\files\\model-best\\assets\n",
      "\u001b[34m\u001b[1mwandb\u001b[0m: Adding directory to artifact (C:\\Users\\ucesvpm\\OneDrive - University College London\\PhD Project\\Data Analytics\\Time Series Clustering\\Third Test\\Time-Series-PhD\\wandb\\run-20230207_155453-iigaena8\\files\\model-best)... Done. 0.0s\n"
     ]
    },
    {
     "name": "stdout",
     "output_type": "stream",
     "text": [
      "2725/2725 [==============================] - 26s 10ms/step - loss: 0.4265 - mse: 0.4265 - val_loss: 0.4430 - val_mse: 0.4430 - lr: 2.0198e-05\n",
      "Epoch 67/100\n",
      "2720/2725 [============================>.] - ETA: 0s - loss: 0.4261 - mse: 0.4261"
     ]
    },
    {
     "name": "stderr",
     "output_type": "stream",
     "text": [
      "WARNING:absl:Found untraced functions such as activation_layer_call_fn, activation_layer_call_and_return_conditional_losses, activation_1_layer_call_fn, activation_1_layer_call_and_return_conditional_losses, activation_2_layer_call_fn while saving (showing 5 of 16). These functions will not be directly callable after loading.\n"
     ]
    },
    {
     "name": "stdout",
     "output_type": "stream",
     "text": [
      "INFO:tensorflow:Assets written to: C:\\Users\\ucesvpm\\OneDrive - University College London\\PhD Project\\Data Analytics\\Time Series Clustering\\Third Test\\Time-Series-PhD\\wandb\\run-20230207_155453-iigaena8\\files\\model-best\\assets\n"
     ]
    },
    {
     "name": "stderr",
     "output_type": "stream",
     "text": [
      "INFO:tensorflow:Assets written to: C:\\Users\\ucesvpm\\OneDrive - University College London\\PhD Project\\Data Analytics\\Time Series Clustering\\Third Test\\Time-Series-PhD\\wandb\\run-20230207_155453-iigaena8\\files\\model-best\\assets\n",
      "\u001b[34m\u001b[1mwandb\u001b[0m: Adding directory to artifact (C:\\Users\\ucesvpm\\OneDrive - University College London\\PhD Project\\Data Analytics\\Time Series Clustering\\Third Test\\Time-Series-PhD\\wandb\\run-20230207_155453-iigaena8\\files\\model-best)... Done. 0.0s\n"
     ]
    },
    {
     "name": "stdout",
     "output_type": "stream",
     "text": [
      "2725/2725 [==============================] - 23s 9ms/step - loss: 0.4261 - mse: 0.4261 - val_loss: 0.4429 - val_mse: 0.4429 - lr: 2.0198e-05\n",
      "Epoch 68/100\n",
      "2725/2725 [==============================] - ETA: 0s - loss: 0.4257 - mse: 0.4257"
     ]
    },
    {
     "name": "stderr",
     "output_type": "stream",
     "text": [
      "WARNING:absl:Found untraced functions such as activation_layer_call_fn, activation_layer_call_and_return_conditional_losses, activation_1_layer_call_fn, activation_1_layer_call_and_return_conditional_losses, activation_2_layer_call_fn while saving (showing 5 of 16). These functions will not be directly callable after loading.\n"
     ]
    },
    {
     "name": "stdout",
     "output_type": "stream",
     "text": [
      "INFO:tensorflow:Assets written to: C:\\Users\\ucesvpm\\OneDrive - University College London\\PhD Project\\Data Analytics\\Time Series Clustering\\Third Test\\Time-Series-PhD\\wandb\\run-20230207_155453-iigaena8\\files\\model-best\\assets\n"
     ]
    },
    {
     "name": "stderr",
     "output_type": "stream",
     "text": [
      "INFO:tensorflow:Assets written to: C:\\Users\\ucesvpm\\OneDrive - University College London\\PhD Project\\Data Analytics\\Time Series Clustering\\Third Test\\Time-Series-PhD\\wandb\\run-20230207_155453-iigaena8\\files\\model-best\\assets\n",
      "\u001b[34m\u001b[1mwandb\u001b[0m: Adding directory to artifact (C:\\Users\\ucesvpm\\OneDrive - University College London\\PhD Project\\Data Analytics\\Time Series Clustering\\Third Test\\Time-Series-PhD\\wandb\\run-20230207_155453-iigaena8\\files\\model-best)... Done. 0.0s\n"
     ]
    },
    {
     "name": "stdout",
     "output_type": "stream",
     "text": [
      "2725/2725 [==============================] - 22s 8ms/step - loss: 0.4257 - mse: 0.4257 - val_loss: 0.4426 - val_mse: 0.4426 - lr: 2.0198e-05\n",
      "Epoch 69/100\n",
      "2722/2725 [============================>.] - ETA: 0s - loss: 0.4254 - mse: 0.4254"
     ]
    },
    {
     "name": "stderr",
     "output_type": "stream",
     "text": [
      "WARNING:absl:Found untraced functions such as activation_layer_call_fn, activation_layer_call_and_return_conditional_losses, activation_1_layer_call_fn, activation_1_layer_call_and_return_conditional_losses, activation_2_layer_call_fn while saving (showing 5 of 16). These functions will not be directly callable after loading.\n"
     ]
    },
    {
     "name": "stdout",
     "output_type": "stream",
     "text": [
      "INFO:tensorflow:Assets written to: C:\\Users\\ucesvpm\\OneDrive - University College London\\PhD Project\\Data Analytics\\Time Series Clustering\\Third Test\\Time-Series-PhD\\wandb\\run-20230207_155453-iigaena8\\files\\model-best\\assets\n"
     ]
    },
    {
     "name": "stderr",
     "output_type": "stream",
     "text": [
      "INFO:tensorflow:Assets written to: C:\\Users\\ucesvpm\\OneDrive - University College London\\PhD Project\\Data Analytics\\Time Series Clustering\\Third Test\\Time-Series-PhD\\wandb\\run-20230207_155453-iigaena8\\files\\model-best\\assets\n",
      "\u001b[34m\u001b[1mwandb\u001b[0m: Adding directory to artifact (C:\\Users\\ucesvpm\\OneDrive - University College London\\PhD Project\\Data Analytics\\Time Series Clustering\\Third Test\\Time-Series-PhD\\wandb\\run-20230207_155453-iigaena8\\files\\model-best)... Done. 0.0s\n"
     ]
    },
    {
     "name": "stdout",
     "output_type": "stream",
     "text": [
      "2725/2725 [==============================] - 23s 8ms/step - loss: 0.4254 - mse: 0.4254 - val_loss: 0.4423 - val_mse: 0.4423 - lr: 2.0198e-05\n",
      "Epoch 70/100\n",
      "2723/2725 [============================>.] - ETA: 0s - loss: 0.4250 - mse: 0.4250"
     ]
    },
    {
     "name": "stderr",
     "output_type": "stream",
     "text": [
      "WARNING:absl:Found untraced functions such as activation_layer_call_fn, activation_layer_call_and_return_conditional_losses, activation_1_layer_call_fn, activation_1_layer_call_and_return_conditional_losses, activation_2_layer_call_fn while saving (showing 5 of 16). These functions will not be directly callable after loading.\n"
     ]
    },
    {
     "name": "stdout",
     "output_type": "stream",
     "text": [
      "INFO:tensorflow:Assets written to: C:\\Users\\ucesvpm\\OneDrive - University College London\\PhD Project\\Data Analytics\\Time Series Clustering\\Third Test\\Time-Series-PhD\\wandb\\run-20230207_155453-iigaena8\\files\\model-best\\assets\n"
     ]
    },
    {
     "name": "stderr",
     "output_type": "stream",
     "text": [
      "INFO:tensorflow:Assets written to: C:\\Users\\ucesvpm\\OneDrive - University College London\\PhD Project\\Data Analytics\\Time Series Clustering\\Third Test\\Time-Series-PhD\\wandb\\run-20230207_155453-iigaena8\\files\\model-best\\assets\n",
      "\u001b[34m\u001b[1mwandb\u001b[0m: Adding directory to artifact (C:\\Users\\ucesvpm\\OneDrive - University College London\\PhD Project\\Data Analytics\\Time Series Clustering\\Third Test\\Time-Series-PhD\\wandb\\run-20230207_155453-iigaena8\\files\\model-best)... Done. 0.0s\n"
     ]
    },
    {
     "name": "stdout",
     "output_type": "stream",
     "text": [
      "2725/2725 [==============================] - 22s 8ms/step - loss: 0.4250 - mse: 0.4250 - val_loss: 0.4420 - val_mse: 0.4420 - lr: 2.0198e-05\n",
      "Epoch 71/100\n",
      "2720/2725 [============================>.] - ETA: 0s - loss: 0.4246 - mse: 0.4246"
     ]
    },
    {
     "name": "stderr",
     "output_type": "stream",
     "text": [
      "WARNING:absl:Found untraced functions such as activation_layer_call_fn, activation_layer_call_and_return_conditional_losses, activation_1_layer_call_fn, activation_1_layer_call_and_return_conditional_losses, activation_2_layer_call_fn while saving (showing 5 of 16). These functions will not be directly callable after loading.\n"
     ]
    },
    {
     "name": "stdout",
     "output_type": "stream",
     "text": [
      "INFO:tensorflow:Assets written to: C:\\Users\\ucesvpm\\OneDrive - University College London\\PhD Project\\Data Analytics\\Time Series Clustering\\Third Test\\Time-Series-PhD\\wandb\\run-20230207_155453-iigaena8\\files\\model-best\\assets\n"
     ]
    },
    {
     "name": "stderr",
     "output_type": "stream",
     "text": [
      "INFO:tensorflow:Assets written to: C:\\Users\\ucesvpm\\OneDrive - University College London\\PhD Project\\Data Analytics\\Time Series Clustering\\Third Test\\Time-Series-PhD\\wandb\\run-20230207_155453-iigaena8\\files\\model-best\\assets\n",
      "\u001b[34m\u001b[1mwandb\u001b[0m: Adding directory to artifact (C:\\Users\\ucesvpm\\OneDrive - University College London\\PhD Project\\Data Analytics\\Time Series Clustering\\Third Test\\Time-Series-PhD\\wandb\\run-20230207_155453-iigaena8\\files\\model-best)... Done. 0.0s\n"
     ]
    },
    {
     "name": "stdout",
     "output_type": "stream",
     "text": [
      "2725/2725 [==============================] - 23s 8ms/step - loss: 0.4247 - mse: 0.4247 - val_loss: 0.4418 - val_mse: 0.4418 - lr: 2.0198e-05\n",
      "Epoch 72/100\n",
      "2723/2725 [============================>.] - ETA: 0s - loss: 0.4243 - mse: 0.4243"
     ]
    },
    {
     "name": "stderr",
     "output_type": "stream",
     "text": [
      "WARNING:absl:Found untraced functions such as activation_layer_call_fn, activation_layer_call_and_return_conditional_losses, activation_1_layer_call_fn, activation_1_layer_call_and_return_conditional_losses, activation_2_layer_call_fn while saving (showing 5 of 16). These functions will not be directly callable after loading.\n"
     ]
    },
    {
     "name": "stdout",
     "output_type": "stream",
     "text": [
      "INFO:tensorflow:Assets written to: C:\\Users\\ucesvpm\\OneDrive - University College London\\PhD Project\\Data Analytics\\Time Series Clustering\\Third Test\\Time-Series-PhD\\wandb\\run-20230207_155453-iigaena8\\files\\model-best\\assets\n"
     ]
    },
    {
     "name": "stderr",
     "output_type": "stream",
     "text": [
      "INFO:tensorflow:Assets written to: C:\\Users\\ucesvpm\\OneDrive - University College London\\PhD Project\\Data Analytics\\Time Series Clustering\\Third Test\\Time-Series-PhD\\wandb\\run-20230207_155453-iigaena8\\files\\model-best\\assets\n",
      "\u001b[34m\u001b[1mwandb\u001b[0m: Adding directory to artifact (C:\\Users\\ucesvpm\\OneDrive - University College London\\PhD Project\\Data Analytics\\Time Series Clustering\\Third Test\\Time-Series-PhD\\wandb\\run-20230207_155453-iigaena8\\files\\model-best)... Done. 0.0s\n"
     ]
    },
    {
     "name": "stdout",
     "output_type": "stream",
     "text": [
      "2725/2725 [==============================] - 21s 8ms/step - loss: 0.4243 - mse: 0.4243 - val_loss: 0.4413 - val_mse: 0.4413 - lr: 2.0198e-05\n",
      "Epoch 73/100\n",
      "2725/2725 [==============================] - ETA: 0s - loss: 0.4239 - mse: 0.4239"
     ]
    },
    {
     "name": "stderr",
     "output_type": "stream",
     "text": [
      "WARNING:absl:Found untraced functions such as activation_layer_call_fn, activation_layer_call_and_return_conditional_losses, activation_1_layer_call_fn, activation_1_layer_call_and_return_conditional_losses, activation_2_layer_call_fn while saving (showing 5 of 16). These functions will not be directly callable after loading.\n"
     ]
    },
    {
     "name": "stdout",
     "output_type": "stream",
     "text": [
      "INFO:tensorflow:Assets written to: C:\\Users\\ucesvpm\\OneDrive - University College London\\PhD Project\\Data Analytics\\Time Series Clustering\\Third Test\\Time-Series-PhD\\wandb\\run-20230207_155453-iigaena8\\files\\model-best\\assets\n"
     ]
    },
    {
     "name": "stderr",
     "output_type": "stream",
     "text": [
      "INFO:tensorflow:Assets written to: C:\\Users\\ucesvpm\\OneDrive - University College London\\PhD Project\\Data Analytics\\Time Series Clustering\\Third Test\\Time-Series-PhD\\wandb\\run-20230207_155453-iigaena8\\files\\model-best\\assets\n",
      "\u001b[34m\u001b[1mwandb\u001b[0m: Adding directory to artifact (C:\\Users\\ucesvpm\\OneDrive - University College London\\PhD Project\\Data Analytics\\Time Series Clustering\\Third Test\\Time-Series-PhD\\wandb\\run-20230207_155453-iigaena8\\files\\model-best)... Done. 0.7s\n"
     ]
    },
    {
     "name": "stdout",
     "output_type": "stream",
     "text": [
      "2725/2725 [==============================] - 25s 9ms/step - loss: 0.4239 - mse: 0.4239 - val_loss: 0.4412 - val_mse: 0.4412 - lr: 2.0198e-05\n",
      "Epoch 74/100\n",
      "2725/2725 [==============================] - 20s 7ms/step - loss: 0.4236 - mse: 0.4236 - val_loss: 0.4413 - val_mse: 0.4413 - lr: 2.0198e-05\n",
      "Epoch 75/100\n",
      "2722/2725 [============================>.] - ETA: 0s - loss: 0.4232 - mse: 0.4232"
     ]
    },
    {
     "name": "stderr",
     "output_type": "stream",
     "text": [
      "WARNING:absl:Found untraced functions such as activation_layer_call_fn, activation_layer_call_and_return_conditional_losses, activation_1_layer_call_fn, activation_1_layer_call_and_return_conditional_losses, activation_2_layer_call_fn while saving (showing 5 of 16). These functions will not be directly callable after loading.\n"
     ]
    },
    {
     "name": "stdout",
     "output_type": "stream",
     "text": [
      "INFO:tensorflow:Assets written to: C:\\Users\\ucesvpm\\OneDrive - University College London\\PhD Project\\Data Analytics\\Time Series Clustering\\Third Test\\Time-Series-PhD\\wandb\\run-20230207_155453-iigaena8\\files\\model-best\\assets\n"
     ]
    },
    {
     "name": "stderr",
     "output_type": "stream",
     "text": [
      "INFO:tensorflow:Assets written to: C:\\Users\\ucesvpm\\OneDrive - University College London\\PhD Project\\Data Analytics\\Time Series Clustering\\Third Test\\Time-Series-PhD\\wandb\\run-20230207_155453-iigaena8\\files\\model-best\\assets\n",
      "\u001b[34m\u001b[1mwandb\u001b[0m: Adding directory to artifact (C:\\Users\\ucesvpm\\OneDrive - University College London\\PhD Project\\Data Analytics\\Time Series Clustering\\Third Test\\Time-Series-PhD\\wandb\\run-20230207_155453-iigaena8\\files\\model-best)... Done. 0.0s\n"
     ]
    },
    {
     "name": "stdout",
     "output_type": "stream",
     "text": [
      "2725/2725 [==============================] - 23s 9ms/step - loss: 0.4233 - mse: 0.4233 - val_loss: 0.4409 - val_mse: 0.4409 - lr: 2.0198e-05\n",
      "Epoch 76/100\n",
      "2725/2725 [==============================] - 20s 7ms/step - loss: 0.4229 - mse: 0.4229 - val_loss: 0.4410 - val_mse: 0.4410 - lr: 2.0198e-05\n",
      "Epoch 77/100\n",
      " 565/2725 [=====>........................] - ETA: 14s - loss: 0.4230 - mse: 0.4230"
     ]
    },
    {
     "data": {
      "text/html": [
       "<style>\n",
       "    table.wandb td:nth-child(1) { padding: 0 10px; text-align: left ; width: auto;} td:nth-child(2) {text-align: left ; width: 100%}\n",
       "    .wandb-row { display: flex; flex-direction: row; flex-wrap: wrap; justify-content: flex-start; width: 100% }\n",
       "    .wandb-col { display: flex; flex-direction: column; flex-basis: 100%; flex: 1; padding: 10px; }\n",
       "    </style>\n",
       "<div class=\"wandb-row\"><div class=\"wandb-col\"><h3>Run history:</h3><br/><table class=\"wandb\"><tr><td>epoch</td><td>▁▁▁▁▂▂▂▂▂▃▃▃▃▃▃▄▄▄▄▄▅▅▅▅▅▅▆▆▆▆▆▇▇▇▇▇▇███</td></tr><tr><td>loss</td><td>█▄▃▃▂▂▂▂▂▂▂▂▂▂▂▂▂▂▂▁▁▁▁▁▁▁▁▁▁▁▁▁▁▁▁▁▁▁▁▁</td></tr><tr><td>mse</td><td>█▄▃▃▂▂▂▂▂▂▂▂▂▂▂▂▂▂▂▁▁▁▁▁▁▁▁▁▁▁▁▁▁▁▁▁▁▁▁▁</td></tr><tr><td>val_loss</td><td>█▅▄▄▃▃▃▃▃▂▂▂▂▂▂▂▂▂▂▂▂▂▂▁▁▁▁▁▁▁▁▁▁▁▁▁▁▁▁▁</td></tr><tr><td>val_mse</td><td>█▅▄▄▃▃▃▃▃▂▂▂▂▂▂▂▂▂▂▂▂▂▂▁▁▁▁▁▁▁▁▁▁▁▁▁▁▁▁▁</td></tr></table><br/></div><div class=\"wandb-col\"><h3>Run summary:</h3><br/><table class=\"wandb\"><tr><td>best_epoch</td><td>99</td></tr><tr><td>best_val_loss</td><td>0.43641</td></tr><tr><td>epoch</td><td>99</td></tr><tr><td>loss</td><td>0.41565</td></tr><tr><td>mse</td><td>0.41565</td></tr><tr><td>val_loss</td><td>0.43641</td></tr><tr><td>val_mse</td><td>0.43641</td></tr></table><br/></div></div>"
      ],
      "text/plain": [
       "<IPython.core.display.HTML object>"
      ]
     },
     "metadata": {},
     "output_type": "display_data"
    },
    {
     "data": {
      "text/html": [
       "Synced <strong style=\"color:#cdcd00\">cerulean-sweep-2</strong>: <a href=\"https://wandb.ai/vasco-phd/FC_AE-Kenya_10k_Set_1_w90/runs/iigaena8\" target=\"_blank\">https://wandb.ai/vasco-phd/FC_AE-Kenya_10k_Set_1_w90/runs/iigaena8</a><br/>Synced 6 W&B file(s), 1 media file(s), 256 artifact file(s) and 1 other file(s)"
      ],
      "text/plain": [
       "<IPython.core.display.HTML object>"
      ]
     },
     "metadata": {},
     "output_type": "display_data"
    },
    {
     "data": {
      "text/html": [
       "Find logs at: <code>.\\wandb\\run-20230207_155453-iigaena8\\logs</code>"
      ],
      "text/plain": [
       "<IPython.core.display.HTML object>"
      ]
     },
     "metadata": {},
     "output_type": "display_data"
    },
    {
     "name": "stderr",
     "output_type": "stream",
     "text": [
      "\u001b[34m\u001b[1mwandb\u001b[0m: Agent Starting Run: ed12hls7 with config:\n",
      "\u001b[34m\u001b[1mwandb\u001b[0m: \tactivation_fn: SELU\n",
      "\u001b[34m\u001b[1mwandb\u001b[0m: \tbatch_size: 104\n",
      "\u001b[34m\u001b[1mwandb\u001b[0m: \tepochs: 100\n",
      "\u001b[34m\u001b[1mwandb\u001b[0m: \tlatent_layer_size: 10\n",
      "\u001b[34m\u001b[1mwandb\u001b[0m: \tlearning_rate: 6.42922662140466e-05\n",
      "\u001b[34m\u001b[1mwandb\u001b[0m: \toptimizer: sgd\n",
      "\u001b[34m\u001b[1mwandb\u001b[0m: \twindow_length: 90\n"
     ]
    },
    {
     "data": {
      "text/html": [
       "wandb version 0.13.9 is available!  To upgrade, please run:\n",
       " $ pip install wandb --upgrade"
      ],
      "text/plain": [
       "<IPython.core.display.HTML object>"
      ]
     },
     "metadata": {},
     "output_type": "display_data"
    },
    {
     "data": {
      "text/html": [
       "Tracking run with wandb version 0.13.6"
      ],
      "text/plain": [
       "<IPython.core.display.HTML object>"
      ]
     },
     "metadata": {},
     "output_type": "display_data"
    },
    {
     "data": {
      "text/html": [
       "Run data is saved locally in <code>C:\\Users\\ucesvpm\\OneDrive - University College London\\PhD Project\\Data Analytics\\Time Series Clustering\\Third Test\\Time-Series-PhD\\wandb\\run-20230207_163352-ed12hls7</code>"
      ],
      "text/plain": [
       "<IPython.core.display.HTML object>"
      ]
     },
     "metadata": {},
     "output_type": "display_data"
    },
    {
     "data": {
      "text/html": [
       "Syncing run <strong><a href=\"https://wandb.ai/vasco-phd/FC_AE-Kenya_10k_Set_1_w90/runs/ed12hls7\" target=\"_blank\">earthy-sweep-3</a></strong> to <a href=\"https://wandb.ai/vasco-phd/FC_AE-Kenya_10k_Set_1_w90\" target=\"_blank\">Weights & Biases</a> (<a href=\"https://wandb.me/run\" target=\"_blank\">docs</a>)<br/>Sweep page:  <a href=\"https://wandb.ai/vasco-phd/FC_AE-Kenya_10k_Set_1_w90/sweeps/kcva21dq\" target=\"_blank\">https://wandb.ai/vasco-phd/FC_AE-Kenya_10k_Set_1_w90/sweeps/kcva21dq</a>"
      ],
      "text/plain": [
       "<IPython.core.display.HTML object>"
      ]
     },
     "metadata": {},
     "output_type": "display_data"
    },
    {
     "name": "stdout",
     "output_type": "stream",
     "text": [
      "Epoch 1/100\n",
      "680/682 [============================>.] - ETA: 0s - loss: 1.2590 - mse: 1.2590"
     ]
    },
    {
     "name": "stderr",
     "output_type": "stream",
     "text": [
      "WARNING:absl:Found untraced functions such as activation_layer_call_fn, activation_layer_call_and_return_conditional_losses, activation_1_layer_call_fn, activation_1_layer_call_and_return_conditional_losses, activation_2_layer_call_fn while saving (showing 5 of 16). These functions will not be directly callable after loading.\n"
     ]
    },
    {
     "name": "stdout",
     "output_type": "stream",
     "text": [
      "INFO:tensorflow:Assets written to: C:\\Users\\ucesvpm\\OneDrive - University College London\\PhD Project\\Data Analytics\\Time Series Clustering\\Third Test\\Time-Series-PhD\\wandb\\run-20230207_163352-ed12hls7\\files\\model-best\\assets\n"
     ]
    },
    {
     "name": "stderr",
     "output_type": "stream",
     "text": [
      "INFO:tensorflow:Assets written to: C:\\Users\\ucesvpm\\OneDrive - University College London\\PhD Project\\Data Analytics\\Time Series Clustering\\Third Test\\Time-Series-PhD\\wandb\\run-20230207_163352-ed12hls7\\files\\model-best\\assets\n",
      "\u001b[34m\u001b[1mwandb\u001b[0m: Adding directory to artifact (C:\\Users\\ucesvpm\\OneDrive - University College London\\PhD Project\\Data Analytics\\Time Series Clustering\\Third Test\\Time-Series-PhD\\wandb\\run-20230207_163352-ed12hls7\\files\\model-best)... Done. 0.0s\n"
     ]
    },
    {
     "name": "stdout",
     "output_type": "stream",
     "text": [
      "682/682 [==============================] - 9s 13ms/step - loss: 1.2584 - mse: 1.2584 - val_loss: 0.9279 - val_mse: 0.9279 - lr: 6.4292e-05\n",
      "Epoch 2/100\n",
      "678/682 [============================>.] - ETA: 0s - loss: 0.8508 - mse: 0.8508"
     ]
    },
    {
     "name": "stderr",
     "output_type": "stream",
     "text": [
      "WARNING:absl:Found untraced functions such as activation_layer_call_fn, activation_layer_call_and_return_conditional_losses, activation_1_layer_call_fn, activation_1_layer_call_and_return_conditional_losses, activation_2_layer_call_fn while saving (showing 5 of 16). These functions will not be directly callable after loading.\n"
     ]
    },
    {
     "name": "stdout",
     "output_type": "stream",
     "text": [
      "INFO:tensorflow:Assets written to: C:\\Users\\ucesvpm\\OneDrive - University College London\\PhD Project\\Data Analytics\\Time Series Clustering\\Third Test\\Time-Series-PhD\\wandb\\run-20230207_163352-ed12hls7\\files\\model-best\\assets\n"
     ]
    },
    {
     "name": "stderr",
     "output_type": "stream",
     "text": [
      "INFO:tensorflow:Assets written to: C:\\Users\\ucesvpm\\OneDrive - University College London\\PhD Project\\Data Analytics\\Time Series Clustering\\Third Test\\Time-Series-PhD\\wandb\\run-20230207_163352-ed12hls7\\files\\model-best\\assets\n",
      "\u001b[34m\u001b[1mwandb\u001b[0m: Adding directory to artifact (C:\\Users\\ucesvpm\\OneDrive - University College London\\PhD Project\\Data Analytics\\Time Series Clustering\\Third Test\\Time-Series-PhD\\wandb\\run-20230207_163352-ed12hls7\\files\\model-best)... Done. 0.0s\n"
     ]
    },
    {
     "name": "stdout",
     "output_type": "stream",
     "text": [
      "682/682 [==============================] - 9s 13ms/step - loss: 0.8506 - mse: 0.8506 - val_loss: 0.8018 - val_mse: 0.8018 - lr: 6.4292e-05\n",
      "Epoch 3/100\n",
      "682/682 [==============================] - ETA: 0s - loss: 0.7672 - mse: 0.7672"
     ]
    },
    {
     "name": "stderr",
     "output_type": "stream",
     "text": [
      "WARNING:absl:Found untraced functions such as activation_layer_call_fn, activation_layer_call_and_return_conditional_losses, activation_1_layer_call_fn, activation_1_layer_call_and_return_conditional_losses, activation_2_layer_call_fn while saving (showing 5 of 16). These functions will not be directly callable after loading.\n"
     ]
    },
    {
     "name": "stdout",
     "output_type": "stream",
     "text": [
      "INFO:tensorflow:Assets written to: C:\\Users\\ucesvpm\\OneDrive - University College London\\PhD Project\\Data Analytics\\Time Series Clustering\\Third Test\\Time-Series-PhD\\wandb\\run-20230207_163352-ed12hls7\\files\\model-best\\assets\n"
     ]
    },
    {
     "name": "stderr",
     "output_type": "stream",
     "text": [
      "INFO:tensorflow:Assets written to: C:\\Users\\ucesvpm\\OneDrive - University College London\\PhD Project\\Data Analytics\\Time Series Clustering\\Third Test\\Time-Series-PhD\\wandb\\run-20230207_163352-ed12hls7\\files\\model-best\\assets\n",
      "\u001b[34m\u001b[1mwandb\u001b[0m: Adding directory to artifact (C:\\Users\\ucesvpm\\OneDrive - University College London\\PhD Project\\Data Analytics\\Time Series Clustering\\Third Test\\Time-Series-PhD\\wandb\\run-20230207_163352-ed12hls7\\files\\model-best)... Done. 0.0s\n"
     ]
    },
    {
     "name": "stdout",
     "output_type": "stream",
     "text": [
      "682/682 [==============================] - 8s 12ms/step - loss: 0.7672 - mse: 0.7672 - val_loss: 0.7447 - val_mse: 0.7447 - lr: 6.4292e-05\n",
      "Epoch 4/100\n",
      "678/682 [============================>.] - ETA: 0s - loss: 0.7217 - mse: 0.7217"
     ]
    },
    {
     "name": "stderr",
     "output_type": "stream",
     "text": [
      "WARNING:absl:Found untraced functions such as activation_layer_call_fn, activation_layer_call_and_return_conditional_losses, activation_1_layer_call_fn, activation_1_layer_call_and_return_conditional_losses, activation_2_layer_call_fn while saving (showing 5 of 16). These functions will not be directly callable after loading.\n"
     ]
    },
    {
     "name": "stdout",
     "output_type": "stream",
     "text": [
      "INFO:tensorflow:Assets written to: C:\\Users\\ucesvpm\\OneDrive - University College London\\PhD Project\\Data Analytics\\Time Series Clustering\\Third Test\\Time-Series-PhD\\wandb\\run-20230207_163352-ed12hls7\\files\\model-best\\assets\n"
     ]
    },
    {
     "name": "stderr",
     "output_type": "stream",
     "text": [
      "INFO:tensorflow:Assets written to: C:\\Users\\ucesvpm\\OneDrive - University College London\\PhD Project\\Data Analytics\\Time Series Clustering\\Third Test\\Time-Series-PhD\\wandb\\run-20230207_163352-ed12hls7\\files\\model-best\\assets\n",
      "\u001b[34m\u001b[1mwandb\u001b[0m: Adding directory to artifact (C:\\Users\\ucesvpm\\OneDrive - University College London\\PhD Project\\Data Analytics\\Time Series Clustering\\Third Test\\Time-Series-PhD\\wandb\\run-20230207_163352-ed12hls7\\files\\model-best)... Done. 0.0s\n"
     ]
    },
    {
     "name": "stdout",
     "output_type": "stream",
     "text": [
      "682/682 [==============================] - 9s 13ms/step - loss: 0.7216 - mse: 0.7216 - val_loss: 0.7088 - val_mse: 0.7088 - lr: 6.4292e-05\n",
      "Epoch 5/100\n",
      "676/682 [============================>.] - ETA: 0s - loss: 0.6914 - mse: 0.6914"
     ]
    },
    {
     "name": "stderr",
     "output_type": "stream",
     "text": [
      "WARNING:absl:Found untraced functions such as activation_layer_call_fn, activation_layer_call_and_return_conditional_losses, activation_1_layer_call_fn, activation_1_layer_call_and_return_conditional_losses, activation_2_layer_call_fn while saving (showing 5 of 16). These functions will not be directly callable after loading.\n"
     ]
    },
    {
     "name": "stdout",
     "output_type": "stream",
     "text": [
      "INFO:tensorflow:Assets written to: C:\\Users\\ucesvpm\\OneDrive - University College London\\PhD Project\\Data Analytics\\Time Series Clustering\\Third Test\\Time-Series-PhD\\wandb\\run-20230207_163352-ed12hls7\\files\\model-best\\assets\n"
     ]
    },
    {
     "name": "stderr",
     "output_type": "stream",
     "text": [
      "INFO:tensorflow:Assets written to: C:\\Users\\ucesvpm\\OneDrive - University College London\\PhD Project\\Data Analytics\\Time Series Clustering\\Third Test\\Time-Series-PhD\\wandb\\run-20230207_163352-ed12hls7\\files\\model-best\\assets\n",
      "\u001b[34m\u001b[1mwandb\u001b[0m: Adding directory to artifact (C:\\Users\\ucesvpm\\OneDrive - University College London\\PhD Project\\Data Analytics\\Time Series Clustering\\Third Test\\Time-Series-PhD\\wandb\\run-20230207_163352-ed12hls7\\files\\model-best)... Done. 0.0s\n"
     ]
    },
    {
     "name": "stdout",
     "output_type": "stream",
     "text": [
      "682/682 [==============================] - 9s 13ms/step - loss: 0.6913 - mse: 0.6913 - val_loss: 0.6839 - val_mse: 0.6839 - lr: 6.4292e-05\n",
      "Epoch 6/100\n",
      "677/682 [============================>.] - ETA: 0s - loss: 0.6698 - mse: 0.6698"
     ]
    },
    {
     "name": "stderr",
     "output_type": "stream",
     "text": [
      "WARNING:absl:Found untraced functions such as activation_layer_call_fn, activation_layer_call_and_return_conditional_losses, activation_1_layer_call_fn, activation_1_layer_call_and_return_conditional_losses, activation_2_layer_call_fn while saving (showing 5 of 16). These functions will not be directly callable after loading.\n"
     ]
    },
    {
     "name": "stdout",
     "output_type": "stream",
     "text": [
      "INFO:tensorflow:Assets written to: C:\\Users\\ucesvpm\\OneDrive - University College London\\PhD Project\\Data Analytics\\Time Series Clustering\\Third Test\\Time-Series-PhD\\wandb\\run-20230207_163352-ed12hls7\\files\\model-best\\assets\n"
     ]
    },
    {
     "name": "stderr",
     "output_type": "stream",
     "text": [
      "INFO:tensorflow:Assets written to: C:\\Users\\ucesvpm\\OneDrive - University College London\\PhD Project\\Data Analytics\\Time Series Clustering\\Third Test\\Time-Series-PhD\\wandb\\run-20230207_163352-ed12hls7\\files\\model-best\\assets\n",
      "\u001b[34m\u001b[1mwandb\u001b[0m: Adding directory to artifact (C:\\Users\\ucesvpm\\OneDrive - University College London\\PhD Project\\Data Analytics\\Time Series Clustering\\Third Test\\Time-Series-PhD\\wandb\\run-20230207_163352-ed12hls7\\files\\model-best)... Done. 0.0s\n"
     ]
    },
    {
     "name": "stdout",
     "output_type": "stream",
     "text": [
      "682/682 [==============================] - 8s 12ms/step - loss: 0.6697 - mse: 0.6697 - val_loss: 0.6656 - val_mse: 0.6656 - lr: 6.4292e-05\n",
      "Epoch 7/100\n",
      "678/682 [============================>.] - ETA: 0s - loss: 0.6535 - mse: 0.6535"
     ]
    },
    {
     "name": "stderr",
     "output_type": "stream",
     "text": [
      "WARNING:absl:Found untraced functions such as activation_layer_call_fn, activation_layer_call_and_return_conditional_losses, activation_1_layer_call_fn, activation_1_layer_call_and_return_conditional_losses, activation_2_layer_call_fn while saving (showing 5 of 16). These functions will not be directly callable after loading.\n"
     ]
    },
    {
     "name": "stdout",
     "output_type": "stream",
     "text": [
      "INFO:tensorflow:Assets written to: C:\\Users\\ucesvpm\\OneDrive - University College London\\PhD Project\\Data Analytics\\Time Series Clustering\\Third Test\\Time-Series-PhD\\wandb\\run-20230207_163352-ed12hls7\\files\\model-best\\assets\n"
     ]
    },
    {
     "name": "stderr",
     "output_type": "stream",
     "text": [
      "INFO:tensorflow:Assets written to: C:\\Users\\ucesvpm\\OneDrive - University College London\\PhD Project\\Data Analytics\\Time Series Clustering\\Third Test\\Time-Series-PhD\\wandb\\run-20230207_163352-ed12hls7\\files\\model-best\\assets\n",
      "\u001b[34m\u001b[1mwandb\u001b[0m: Adding directory to artifact (C:\\Users\\ucesvpm\\OneDrive - University College London\\PhD Project\\Data Analytics\\Time Series Clustering\\Third Test\\Time-Series-PhD\\wandb\\run-20230207_163352-ed12hls7\\files\\model-best)... Done. 0.0s\n"
     ]
    },
    {
     "name": "stdout",
     "output_type": "stream",
     "text": [
      "682/682 [==============================] - 8s 12ms/step - loss: 0.6536 - mse: 0.6536 - val_loss: 0.6516 - val_mse: 0.6516 - lr: 6.4292e-05\n",
      "Epoch 8/100\n",
      "681/682 [============================>.] - ETA: 0s - loss: 0.6410 - mse: 0.6410"
     ]
    },
    {
     "name": "stderr",
     "output_type": "stream",
     "text": [
      "WARNING:absl:Found untraced functions such as activation_layer_call_fn, activation_layer_call_and_return_conditional_losses, activation_1_layer_call_fn, activation_1_layer_call_and_return_conditional_losses, activation_2_layer_call_fn while saving (showing 5 of 16). These functions will not be directly callable after loading.\n"
     ]
    },
    {
     "name": "stdout",
     "output_type": "stream",
     "text": [
      "INFO:tensorflow:Assets written to: C:\\Users\\ucesvpm\\OneDrive - University College London\\PhD Project\\Data Analytics\\Time Series Clustering\\Third Test\\Time-Series-PhD\\wandb\\run-20230207_163352-ed12hls7\\files\\model-best\\assets\n"
     ]
    },
    {
     "name": "stderr",
     "output_type": "stream",
     "text": [
      "INFO:tensorflow:Assets written to: C:\\Users\\ucesvpm\\OneDrive - University College London\\PhD Project\\Data Analytics\\Time Series Clustering\\Third Test\\Time-Series-PhD\\wandb\\run-20230207_163352-ed12hls7\\files\\model-best\\assets\n",
      "\u001b[34m\u001b[1mwandb\u001b[0m: Adding directory to artifact (C:\\Users\\ucesvpm\\OneDrive - University College London\\PhD Project\\Data Analytics\\Time Series Clustering\\Third Test\\Time-Series-PhD\\wandb\\run-20230207_163352-ed12hls7\\files\\model-best)... Done. 0.0s\n"
     ]
    },
    {
     "name": "stdout",
     "output_type": "stream",
     "text": [
      "682/682 [==============================] - 9s 13ms/step - loss: 0.6410 - mse: 0.6410 - val_loss: 0.6404 - val_mse: 0.6404 - lr: 6.4292e-05\n",
      "Epoch 9/100\n",
      "680/682 [============================>.] - ETA: 0s - loss: 0.6308 - mse: 0.6308"
     ]
    },
    {
     "name": "stderr",
     "output_type": "stream",
     "text": [
      "WARNING:absl:Found untraced functions such as activation_layer_call_fn, activation_layer_call_and_return_conditional_losses, activation_1_layer_call_fn, activation_1_layer_call_and_return_conditional_losses, activation_2_layer_call_fn while saving (showing 5 of 16). These functions will not be directly callable after loading.\n"
     ]
    },
    {
     "name": "stdout",
     "output_type": "stream",
     "text": [
      "INFO:tensorflow:Assets written to: C:\\Users\\ucesvpm\\OneDrive - University College London\\PhD Project\\Data Analytics\\Time Series Clustering\\Third Test\\Time-Series-PhD\\wandb\\run-20230207_163352-ed12hls7\\files\\model-best\\assets\n"
     ]
    },
    {
     "name": "stderr",
     "output_type": "stream",
     "text": [
      "INFO:tensorflow:Assets written to: C:\\Users\\ucesvpm\\OneDrive - University College London\\PhD Project\\Data Analytics\\Time Series Clustering\\Third Test\\Time-Series-PhD\\wandb\\run-20230207_163352-ed12hls7\\files\\model-best\\assets\n",
      "\u001b[34m\u001b[1mwandb\u001b[0m: Adding directory to artifact (C:\\Users\\ucesvpm\\OneDrive - University College London\\PhD Project\\Data Analytics\\Time Series Clustering\\Third Test\\Time-Series-PhD\\wandb\\run-20230207_163352-ed12hls7\\files\\model-best)... Done. 0.0s\n"
     ]
    },
    {
     "name": "stdout",
     "output_type": "stream",
     "text": [
      "682/682 [==============================] - 8s 12ms/step - loss: 0.6308 - mse: 0.6308 - val_loss: 0.6311 - val_mse: 0.6311 - lr: 6.4292e-05\n",
      "Epoch 10/100\n",
      "681/682 [============================>.] - ETA: 0s - loss: 0.6222 - mse: 0.6222"
     ]
    },
    {
     "name": "stderr",
     "output_type": "stream",
     "text": [
      "WARNING:absl:Found untraced functions such as activation_layer_call_fn, activation_layer_call_and_return_conditional_losses, activation_1_layer_call_fn, activation_1_layer_call_and_return_conditional_losses, activation_2_layer_call_fn while saving (showing 5 of 16). These functions will not be directly callable after loading.\n"
     ]
    },
    {
     "name": "stdout",
     "output_type": "stream",
     "text": [
      "INFO:tensorflow:Assets written to: C:\\Users\\ucesvpm\\OneDrive - University College London\\PhD Project\\Data Analytics\\Time Series Clustering\\Third Test\\Time-Series-PhD\\wandb\\run-20230207_163352-ed12hls7\\files\\model-best\\assets\n"
     ]
    },
    {
     "name": "stderr",
     "output_type": "stream",
     "text": [
      "INFO:tensorflow:Assets written to: C:\\Users\\ucesvpm\\OneDrive - University College London\\PhD Project\\Data Analytics\\Time Series Clustering\\Third Test\\Time-Series-PhD\\wandb\\run-20230207_163352-ed12hls7\\files\\model-best\\assets\n",
      "\u001b[34m\u001b[1mwandb\u001b[0m: Adding directory to artifact (C:\\Users\\ucesvpm\\OneDrive - University College London\\PhD Project\\Data Analytics\\Time Series Clustering\\Third Test\\Time-Series-PhD\\wandb\\run-20230207_163352-ed12hls7\\files\\model-best)... Done. 0.0s\n"
     ]
    },
    {
     "name": "stdout",
     "output_type": "stream",
     "text": [
      "682/682 [==============================] - 9s 14ms/step - loss: 0.6222 - mse: 0.6222 - val_loss: 0.6233 - val_mse: 0.6233 - lr: 6.4292e-05\n",
      "Epoch 11/100\n",
      "680/682 [============================>.] - ETA: 0s - loss: 0.6150 - mse: 0.6150"
     ]
    },
    {
     "name": "stderr",
     "output_type": "stream",
     "text": [
      "WARNING:absl:Found untraced functions such as activation_layer_call_fn, activation_layer_call_and_return_conditional_losses, activation_1_layer_call_fn, activation_1_layer_call_and_return_conditional_losses, activation_2_layer_call_fn while saving (showing 5 of 16). These functions will not be directly callable after loading.\n"
     ]
    },
    {
     "name": "stdout",
     "output_type": "stream",
     "text": [
      "INFO:tensorflow:Assets written to: C:\\Users\\ucesvpm\\OneDrive - University College London\\PhD Project\\Data Analytics\\Time Series Clustering\\Third Test\\Time-Series-PhD\\wandb\\run-20230207_163352-ed12hls7\\files\\model-best\\assets\n"
     ]
    },
    {
     "name": "stderr",
     "output_type": "stream",
     "text": [
      "INFO:tensorflow:Assets written to: C:\\Users\\ucesvpm\\OneDrive - University College London\\PhD Project\\Data Analytics\\Time Series Clustering\\Third Test\\Time-Series-PhD\\wandb\\run-20230207_163352-ed12hls7\\files\\model-best\\assets\n",
      "\u001b[34m\u001b[1mwandb\u001b[0m: Adding directory to artifact (C:\\Users\\ucesvpm\\OneDrive - University College London\\PhD Project\\Data Analytics\\Time Series Clustering\\Third Test\\Time-Series-PhD\\wandb\\run-20230207_163352-ed12hls7\\files\\model-best)... Done. 0.0s\n"
     ]
    },
    {
     "name": "stdout",
     "output_type": "stream",
     "text": [
      "682/682 [==============================] - 9s 14ms/step - loss: 0.6149 - mse: 0.6149 - val_loss: 0.6165 - val_mse: 0.6165 - lr: 6.4292e-05\n",
      "Epoch 12/100\n",
      "678/682 [============================>.] - ETA: 0s - loss: 0.6085 - mse: 0.6085"
     ]
    },
    {
     "name": "stderr",
     "output_type": "stream",
     "text": [
      "WARNING:absl:Found untraced functions such as activation_layer_call_fn, activation_layer_call_and_return_conditional_losses, activation_1_layer_call_fn, activation_1_layer_call_and_return_conditional_losses, activation_2_layer_call_fn while saving (showing 5 of 16). These functions will not be directly callable after loading.\n"
     ]
    },
    {
     "name": "stdout",
     "output_type": "stream",
     "text": [
      "INFO:tensorflow:Assets written to: C:\\Users\\ucesvpm\\OneDrive - University College London\\PhD Project\\Data Analytics\\Time Series Clustering\\Third Test\\Time-Series-PhD\\wandb\\run-20230207_163352-ed12hls7\\files\\model-best\\assets\n"
     ]
    },
    {
     "name": "stderr",
     "output_type": "stream",
     "text": [
      "INFO:tensorflow:Assets written to: C:\\Users\\ucesvpm\\OneDrive - University College London\\PhD Project\\Data Analytics\\Time Series Clustering\\Third Test\\Time-Series-PhD\\wandb\\run-20230207_163352-ed12hls7\\files\\model-best\\assets\n",
      "\u001b[34m\u001b[1mwandb\u001b[0m: Adding directory to artifact (C:\\Users\\ucesvpm\\OneDrive - University College London\\PhD Project\\Data Analytics\\Time Series Clustering\\Third Test\\Time-Series-PhD\\wandb\\run-20230207_163352-ed12hls7\\files\\model-best)... Done. 0.0s\n"
     ]
    },
    {
     "name": "stdout",
     "output_type": "stream",
     "text": [
      "682/682 [==============================] - 9s 13ms/step - loss: 0.6085 - mse: 0.6085 - val_loss: 0.6106 - val_mse: 0.6106 - lr: 6.4292e-05\n",
      "Epoch 13/100\n",
      "678/682 [============================>.] - ETA: 0s - loss: 0.6028 - mse: 0.6028"
     ]
    },
    {
     "name": "stderr",
     "output_type": "stream",
     "text": [
      "WARNING:absl:Found untraced functions such as activation_layer_call_fn, activation_layer_call_and_return_conditional_losses, activation_1_layer_call_fn, activation_1_layer_call_and_return_conditional_losses, activation_2_layer_call_fn while saving (showing 5 of 16). These functions will not be directly callable after loading.\n"
     ]
    },
    {
     "name": "stdout",
     "output_type": "stream",
     "text": [
      "INFO:tensorflow:Assets written to: C:\\Users\\ucesvpm\\OneDrive - University College London\\PhD Project\\Data Analytics\\Time Series Clustering\\Third Test\\Time-Series-PhD\\wandb\\run-20230207_163352-ed12hls7\\files\\model-best\\assets\n"
     ]
    },
    {
     "name": "stderr",
     "output_type": "stream",
     "text": [
      "INFO:tensorflow:Assets written to: C:\\Users\\ucesvpm\\OneDrive - University College London\\PhD Project\\Data Analytics\\Time Series Clustering\\Third Test\\Time-Series-PhD\\wandb\\run-20230207_163352-ed12hls7\\files\\model-best\\assets\n",
      "\u001b[34m\u001b[1mwandb\u001b[0m: Adding directory to artifact (C:\\Users\\ucesvpm\\OneDrive - University College London\\PhD Project\\Data Analytics\\Time Series Clustering\\Third Test\\Time-Series-PhD\\wandb\\run-20230207_163352-ed12hls7\\files\\model-best)... Done. 0.0s\n"
     ]
    },
    {
     "name": "stdout",
     "output_type": "stream",
     "text": [
      "682/682 [==============================] - 9s 13ms/step - loss: 0.6028 - mse: 0.6028 - val_loss: 0.6053 - val_mse: 0.6053 - lr: 6.4292e-05\n",
      "Epoch 14/100\n",
      "676/682 [============================>.] - ETA: 0s - loss: 0.5979 - mse: 0.5979"
     ]
    },
    {
     "name": "stderr",
     "output_type": "stream",
     "text": [
      "WARNING:absl:Found untraced functions such as activation_layer_call_fn, activation_layer_call_and_return_conditional_losses, activation_1_layer_call_fn, activation_1_layer_call_and_return_conditional_losses, activation_2_layer_call_fn while saving (showing 5 of 16). These functions will not be directly callable after loading.\n"
     ]
    },
    {
     "name": "stdout",
     "output_type": "stream",
     "text": [
      "INFO:tensorflow:Assets written to: C:\\Users\\ucesvpm\\OneDrive - University College London\\PhD Project\\Data Analytics\\Time Series Clustering\\Third Test\\Time-Series-PhD\\wandb\\run-20230207_163352-ed12hls7\\files\\model-best\\assets\n"
     ]
    },
    {
     "name": "stderr",
     "output_type": "stream",
     "text": [
      "INFO:tensorflow:Assets written to: C:\\Users\\ucesvpm\\OneDrive - University College London\\PhD Project\\Data Analytics\\Time Series Clustering\\Third Test\\Time-Series-PhD\\wandb\\run-20230207_163352-ed12hls7\\files\\model-best\\assets\n",
      "\u001b[34m\u001b[1mwandb\u001b[0m: Adding directory to artifact (C:\\Users\\ucesvpm\\OneDrive - University College London\\PhD Project\\Data Analytics\\Time Series Clustering\\Third Test\\Time-Series-PhD\\wandb\\run-20230207_163352-ed12hls7\\files\\model-best)... Done. 0.0s\n"
     ]
    },
    {
     "name": "stdout",
     "output_type": "stream",
     "text": [
      "682/682 [==============================] - 9s 13ms/step - loss: 0.5978 - mse: 0.5978 - val_loss: 0.6005 - val_mse: 0.6005 - lr: 6.4292e-05\n",
      "Epoch 15/100\n",
      "680/682 [============================>.] - ETA: 0s - loss: 0.5932 - mse: 0.5932"
     ]
    },
    {
     "name": "stderr",
     "output_type": "stream",
     "text": [
      "WARNING:absl:Found untraced functions such as activation_layer_call_fn, activation_layer_call_and_return_conditional_losses, activation_1_layer_call_fn, activation_1_layer_call_and_return_conditional_losses, activation_2_layer_call_fn while saving (showing 5 of 16). These functions will not be directly callable after loading.\n"
     ]
    },
    {
     "name": "stdout",
     "output_type": "stream",
     "text": [
      "INFO:tensorflow:Assets written to: C:\\Users\\ucesvpm\\OneDrive - University College London\\PhD Project\\Data Analytics\\Time Series Clustering\\Third Test\\Time-Series-PhD\\wandb\\run-20230207_163352-ed12hls7\\files\\model-best\\assets\n"
     ]
    },
    {
     "name": "stderr",
     "output_type": "stream",
     "text": [
      "INFO:tensorflow:Assets written to: C:\\Users\\ucesvpm\\OneDrive - University College London\\PhD Project\\Data Analytics\\Time Series Clustering\\Third Test\\Time-Series-PhD\\wandb\\run-20230207_163352-ed12hls7\\files\\model-best\\assets\n",
      "\u001b[34m\u001b[1mwandb\u001b[0m: Adding directory to artifact (C:\\Users\\ucesvpm\\OneDrive - University College London\\PhD Project\\Data Analytics\\Time Series Clustering\\Third Test\\Time-Series-PhD\\wandb\\run-20230207_163352-ed12hls7\\files\\model-best)... Done. 0.0s\n"
     ]
    },
    {
     "name": "stdout",
     "output_type": "stream",
     "text": [
      "682/682 [==============================] - 8s 12ms/step - loss: 0.5932 - mse: 0.5932 - val_loss: 0.5962 - val_mse: 0.5962 - lr: 6.4292e-05\n",
      "Epoch 16/100\n",
      "678/682 [============================>.] - ETA: 0s - loss: 0.5892 - mse: 0.5892"
     ]
    },
    {
     "name": "stderr",
     "output_type": "stream",
     "text": [
      "WARNING:absl:Found untraced functions such as activation_layer_call_fn, activation_layer_call_and_return_conditional_losses, activation_1_layer_call_fn, activation_1_layer_call_and_return_conditional_losses, activation_2_layer_call_fn while saving (showing 5 of 16). These functions will not be directly callable after loading.\n"
     ]
    },
    {
     "name": "stdout",
     "output_type": "stream",
     "text": [
      "INFO:tensorflow:Assets written to: C:\\Users\\ucesvpm\\OneDrive - University College London\\PhD Project\\Data Analytics\\Time Series Clustering\\Third Test\\Time-Series-PhD\\wandb\\run-20230207_163352-ed12hls7\\files\\model-best\\assets\n"
     ]
    },
    {
     "name": "stderr",
     "output_type": "stream",
     "text": [
      "INFO:tensorflow:Assets written to: C:\\Users\\ucesvpm\\OneDrive - University College London\\PhD Project\\Data Analytics\\Time Series Clustering\\Third Test\\Time-Series-PhD\\wandb\\run-20230207_163352-ed12hls7\\files\\model-best\\assets\n",
      "\u001b[34m\u001b[1mwandb\u001b[0m: Adding directory to artifact (C:\\Users\\ucesvpm\\OneDrive - University College London\\PhD Project\\Data Analytics\\Time Series Clustering\\Third Test\\Time-Series-PhD\\wandb\\run-20230207_163352-ed12hls7\\files\\model-best)... Done. 0.0s\n"
     ]
    },
    {
     "name": "stdout",
     "output_type": "stream",
     "text": [
      "682/682 [==============================] - 8s 12ms/step - loss: 0.5891 - mse: 0.5891 - val_loss: 0.5923 - val_mse: 0.5923 - lr: 6.4292e-05\n",
      "Epoch 17/100\n",
      "675/682 [============================>.] - ETA: 0s - loss: 0.5854 - mse: 0.5854"
     ]
    },
    {
     "name": "stderr",
     "output_type": "stream",
     "text": [
      "WARNING:absl:Found untraced functions such as activation_layer_call_fn, activation_layer_call_and_return_conditional_losses, activation_1_layer_call_fn, activation_1_layer_call_and_return_conditional_losses, activation_2_layer_call_fn while saving (showing 5 of 16). These functions will not be directly callable after loading.\n"
     ]
    },
    {
     "name": "stdout",
     "output_type": "stream",
     "text": [
      "INFO:tensorflow:Assets written to: C:\\Users\\ucesvpm\\OneDrive - University College London\\PhD Project\\Data Analytics\\Time Series Clustering\\Third Test\\Time-Series-PhD\\wandb\\run-20230207_163352-ed12hls7\\files\\model-best\\assets\n"
     ]
    },
    {
     "name": "stderr",
     "output_type": "stream",
     "text": [
      "INFO:tensorflow:Assets written to: C:\\Users\\ucesvpm\\OneDrive - University College London\\PhD Project\\Data Analytics\\Time Series Clustering\\Third Test\\Time-Series-PhD\\wandb\\run-20230207_163352-ed12hls7\\files\\model-best\\assets\n",
      "\u001b[34m\u001b[1mwandb\u001b[0m: Adding directory to artifact (C:\\Users\\ucesvpm\\OneDrive - University College London\\PhD Project\\Data Analytics\\Time Series Clustering\\Third Test\\Time-Series-PhD\\wandb\\run-20230207_163352-ed12hls7\\files\\model-best)... Done. 0.0s\n"
     ]
    },
    {
     "name": "stdout",
     "output_type": "stream",
     "text": [
      "682/682 [==============================] - 9s 12ms/step - loss: 0.5854 - mse: 0.5854 - val_loss: 0.5888 - val_mse: 0.5888 - lr: 6.4292e-05\n",
      "Epoch 18/100\n",
      "675/682 [============================>.] - ETA: 0s - loss: 0.5820 - mse: 0.5820"
     ]
    },
    {
     "name": "stderr",
     "output_type": "stream",
     "text": [
      "WARNING:absl:Found untraced functions such as activation_layer_call_fn, activation_layer_call_and_return_conditional_losses, activation_1_layer_call_fn, activation_1_layer_call_and_return_conditional_losses, activation_2_layer_call_fn while saving (showing 5 of 16). These functions will not be directly callable after loading.\n"
     ]
    },
    {
     "name": "stdout",
     "output_type": "stream",
     "text": [
      "INFO:tensorflow:Assets written to: C:\\Users\\ucesvpm\\OneDrive - University College London\\PhD Project\\Data Analytics\\Time Series Clustering\\Third Test\\Time-Series-PhD\\wandb\\run-20230207_163352-ed12hls7\\files\\model-best\\assets\n"
     ]
    },
    {
     "name": "stderr",
     "output_type": "stream",
     "text": [
      "INFO:tensorflow:Assets written to: C:\\Users\\ucesvpm\\OneDrive - University College London\\PhD Project\\Data Analytics\\Time Series Clustering\\Third Test\\Time-Series-PhD\\wandb\\run-20230207_163352-ed12hls7\\files\\model-best\\assets\n",
      "\u001b[34m\u001b[1mwandb\u001b[0m: Adding directory to artifact (C:\\Users\\ucesvpm\\OneDrive - University College London\\PhD Project\\Data Analytics\\Time Series Clustering\\Third Test\\Time-Series-PhD\\wandb\\run-20230207_163352-ed12hls7\\files\\model-best)... Done. 0.0s\n"
     ]
    },
    {
     "name": "stdout",
     "output_type": "stream",
     "text": [
      "682/682 [==============================] - 9s 13ms/step - loss: 0.5820 - mse: 0.5820 - val_loss: 0.5856 - val_mse: 0.5856 - lr: 6.4292e-05\n",
      "Epoch 19/100\n",
      "676/682 [============================>.] - ETA: 0s - loss: 0.5788 - mse: 0.5788"
     ]
    },
    {
     "name": "stderr",
     "output_type": "stream",
     "text": [
      "WARNING:absl:Found untraced functions such as activation_layer_call_fn, activation_layer_call_and_return_conditional_losses, activation_1_layer_call_fn, activation_1_layer_call_and_return_conditional_losses, activation_2_layer_call_fn while saving (showing 5 of 16). These functions will not be directly callable after loading.\n"
     ]
    },
    {
     "name": "stdout",
     "output_type": "stream",
     "text": [
      "INFO:tensorflow:Assets written to: C:\\Users\\ucesvpm\\OneDrive - University College London\\PhD Project\\Data Analytics\\Time Series Clustering\\Third Test\\Time-Series-PhD\\wandb\\run-20230207_163352-ed12hls7\\files\\model-best\\assets\n"
     ]
    },
    {
     "name": "stderr",
     "output_type": "stream",
     "text": [
      "INFO:tensorflow:Assets written to: C:\\Users\\ucesvpm\\OneDrive - University College London\\PhD Project\\Data Analytics\\Time Series Clustering\\Third Test\\Time-Series-PhD\\wandb\\run-20230207_163352-ed12hls7\\files\\model-best\\assets\n",
      "\u001b[34m\u001b[1mwandb\u001b[0m: Adding directory to artifact (C:\\Users\\ucesvpm\\OneDrive - University College London\\PhD Project\\Data Analytics\\Time Series Clustering\\Third Test\\Time-Series-PhD\\wandb\\run-20230207_163352-ed12hls7\\files\\model-best)... Done. 0.0s\n"
     ]
    },
    {
     "name": "stdout",
     "output_type": "stream",
     "text": [
      "682/682 [==============================] - 9s 13ms/step - loss: 0.5788 - mse: 0.5788 - val_loss: 0.5826 - val_mse: 0.5826 - lr: 6.4292e-05\n",
      "Epoch 20/100\n",
      "681/682 [============================>.] - ETA: 0s - loss: 0.5759 - mse: 0.5759"
     ]
    },
    {
     "name": "stderr",
     "output_type": "stream",
     "text": [
      "WARNING:absl:Found untraced functions such as activation_layer_call_fn, activation_layer_call_and_return_conditional_losses, activation_1_layer_call_fn, activation_1_layer_call_and_return_conditional_losses, activation_2_layer_call_fn while saving (showing 5 of 16). These functions will not be directly callable after loading.\n"
     ]
    },
    {
     "name": "stdout",
     "output_type": "stream",
     "text": [
      "INFO:tensorflow:Assets written to: C:\\Users\\ucesvpm\\OneDrive - University College London\\PhD Project\\Data Analytics\\Time Series Clustering\\Third Test\\Time-Series-PhD\\wandb\\run-20230207_163352-ed12hls7\\files\\model-best\\assets\n"
     ]
    },
    {
     "name": "stderr",
     "output_type": "stream",
     "text": [
      "INFO:tensorflow:Assets written to: C:\\Users\\ucesvpm\\OneDrive - University College London\\PhD Project\\Data Analytics\\Time Series Clustering\\Third Test\\Time-Series-PhD\\wandb\\run-20230207_163352-ed12hls7\\files\\model-best\\assets\n",
      "\u001b[34m\u001b[1mwandb\u001b[0m: Adding directory to artifact (C:\\Users\\ucesvpm\\OneDrive - University College London\\PhD Project\\Data Analytics\\Time Series Clustering\\Third Test\\Time-Series-PhD\\wandb\\run-20230207_163352-ed12hls7\\files\\model-best)... Done. 0.0s\n"
     ]
    },
    {
     "name": "stdout",
     "output_type": "stream",
     "text": [
      "682/682 [==============================] - 8s 12ms/step - loss: 0.5759 - mse: 0.5759 - val_loss: 0.5798 - val_mse: 0.5798 - lr: 6.4292e-05\n",
      "Epoch 21/100\n",
      "682/682 [==============================] - ETA: 0s - loss: 0.5732 - mse: 0.5732"
     ]
    },
    {
     "name": "stderr",
     "output_type": "stream",
     "text": [
      "WARNING:absl:Found untraced functions such as activation_layer_call_fn, activation_layer_call_and_return_conditional_losses, activation_1_layer_call_fn, activation_1_layer_call_and_return_conditional_losses, activation_2_layer_call_fn while saving (showing 5 of 16). These functions will not be directly callable after loading.\n"
     ]
    },
    {
     "name": "stdout",
     "output_type": "stream",
     "text": [
      "INFO:tensorflow:Assets written to: C:\\Users\\ucesvpm\\OneDrive - University College London\\PhD Project\\Data Analytics\\Time Series Clustering\\Third Test\\Time-Series-PhD\\wandb\\run-20230207_163352-ed12hls7\\files\\model-best\\assets\n"
     ]
    },
    {
     "name": "stderr",
     "output_type": "stream",
     "text": [
      "INFO:tensorflow:Assets written to: C:\\Users\\ucesvpm\\OneDrive - University College London\\PhD Project\\Data Analytics\\Time Series Clustering\\Third Test\\Time-Series-PhD\\wandb\\run-20230207_163352-ed12hls7\\files\\model-best\\assets\n",
      "\u001b[34m\u001b[1mwandb\u001b[0m: Adding directory to artifact (C:\\Users\\ucesvpm\\OneDrive - University College London\\PhD Project\\Data Analytics\\Time Series Clustering\\Third Test\\Time-Series-PhD\\wandb\\run-20230207_163352-ed12hls7\\files\\model-best)... Done. 0.0s\n"
     ]
    },
    {
     "name": "stdout",
     "output_type": "stream",
     "text": [
      "682/682 [==============================] - 9s 13ms/step - loss: 0.5732 - mse: 0.5732 - val_loss: 0.5772 - val_mse: 0.5772 - lr: 6.4292e-05\n",
      "Epoch 22/100\n",
      "680/682 [============================>.] - ETA: 0s - loss: 0.5707 - mse: 0.5707"
     ]
    },
    {
     "name": "stderr",
     "output_type": "stream",
     "text": [
      "WARNING:absl:Found untraced functions such as activation_layer_call_fn, activation_layer_call_and_return_conditional_losses, activation_1_layer_call_fn, activation_1_layer_call_and_return_conditional_losses, activation_2_layer_call_fn while saving (showing 5 of 16). These functions will not be directly callable after loading.\n"
     ]
    },
    {
     "name": "stdout",
     "output_type": "stream",
     "text": [
      "INFO:tensorflow:Assets written to: C:\\Users\\ucesvpm\\OneDrive - University College London\\PhD Project\\Data Analytics\\Time Series Clustering\\Third Test\\Time-Series-PhD\\wandb\\run-20230207_163352-ed12hls7\\files\\model-best\\assets\n"
     ]
    },
    {
     "name": "stderr",
     "output_type": "stream",
     "text": [
      "INFO:tensorflow:Assets written to: C:\\Users\\ucesvpm\\OneDrive - University College London\\PhD Project\\Data Analytics\\Time Series Clustering\\Third Test\\Time-Series-PhD\\wandb\\run-20230207_163352-ed12hls7\\files\\model-best\\assets\n",
      "\u001b[34m\u001b[1mwandb\u001b[0m: Adding directory to artifact (C:\\Users\\ucesvpm\\OneDrive - University College London\\PhD Project\\Data Analytics\\Time Series Clustering\\Third Test\\Time-Series-PhD\\wandb\\run-20230207_163352-ed12hls7\\files\\model-best)... Done. 0.0s\n"
     ]
    },
    {
     "name": "stdout",
     "output_type": "stream",
     "text": [
      "682/682 [==============================] - 10s 14ms/step - loss: 0.5707 - mse: 0.5707 - val_loss: 0.5748 - val_mse: 0.5748 - lr: 6.4292e-05\n",
      "Epoch 23/100\n",
      "679/682 [============================>.] - ETA: 0s - loss: 0.5684 - mse: 0.5684"
     ]
    },
    {
     "name": "stderr",
     "output_type": "stream",
     "text": [
      "WARNING:absl:Found untraced functions such as activation_layer_call_fn, activation_layer_call_and_return_conditional_losses, activation_1_layer_call_fn, activation_1_layer_call_and_return_conditional_losses, activation_2_layer_call_fn while saving (showing 5 of 16). These functions will not be directly callable after loading.\n"
     ]
    },
    {
     "name": "stdout",
     "output_type": "stream",
     "text": [
      "INFO:tensorflow:Assets written to: C:\\Users\\ucesvpm\\OneDrive - University College London\\PhD Project\\Data Analytics\\Time Series Clustering\\Third Test\\Time-Series-PhD\\wandb\\run-20230207_163352-ed12hls7\\files\\model-best\\assets\n"
     ]
    },
    {
     "name": "stderr",
     "output_type": "stream",
     "text": [
      "INFO:tensorflow:Assets written to: C:\\Users\\ucesvpm\\OneDrive - University College London\\PhD Project\\Data Analytics\\Time Series Clustering\\Third Test\\Time-Series-PhD\\wandb\\run-20230207_163352-ed12hls7\\files\\model-best\\assets\n",
      "\u001b[34m\u001b[1mwandb\u001b[0m: Adding directory to artifact (C:\\Users\\ucesvpm\\OneDrive - University College London\\PhD Project\\Data Analytics\\Time Series Clustering\\Third Test\\Time-Series-PhD\\wandb\\run-20230207_163352-ed12hls7\\files\\model-best)... Done. 0.0s\n"
     ]
    },
    {
     "name": "stdout",
     "output_type": "stream",
     "text": [
      "682/682 [==============================] - 13s 19ms/step - loss: 0.5683 - mse: 0.5683 - val_loss: 0.5726 - val_mse: 0.5726 - lr: 6.4292e-05\n",
      "Epoch 24/100\n",
      "676/682 [============================>.] - ETA: 0s - loss: 0.5662 - mse: 0.5662"
     ]
    },
    {
     "name": "stderr",
     "output_type": "stream",
     "text": [
      "WARNING:absl:Found untraced functions such as activation_layer_call_fn, activation_layer_call_and_return_conditional_losses, activation_1_layer_call_fn, activation_1_layer_call_and_return_conditional_losses, activation_2_layer_call_fn while saving (showing 5 of 16). These functions will not be directly callable after loading.\n"
     ]
    },
    {
     "name": "stdout",
     "output_type": "stream",
     "text": [
      "INFO:tensorflow:Assets written to: C:\\Users\\ucesvpm\\OneDrive - University College London\\PhD Project\\Data Analytics\\Time Series Clustering\\Third Test\\Time-Series-PhD\\wandb\\run-20230207_163352-ed12hls7\\files\\model-best\\assets\n"
     ]
    },
    {
     "name": "stderr",
     "output_type": "stream",
     "text": [
      "INFO:tensorflow:Assets written to: C:\\Users\\ucesvpm\\OneDrive - University College London\\PhD Project\\Data Analytics\\Time Series Clustering\\Third Test\\Time-Series-PhD\\wandb\\run-20230207_163352-ed12hls7\\files\\model-best\\assets\n",
      "\u001b[34m\u001b[1mwandb\u001b[0m: Adding directory to artifact (C:\\Users\\ucesvpm\\OneDrive - University College London\\PhD Project\\Data Analytics\\Time Series Clustering\\Third Test\\Time-Series-PhD\\wandb\\run-20230207_163352-ed12hls7\\files\\model-best)... Done. 0.0s\n"
     ]
    },
    {
     "name": "stdout",
     "output_type": "stream",
     "text": [
      "682/682 [==============================] - 8s 11ms/step - loss: 0.5661 - mse: 0.5661 - val_loss: 0.5704 - val_mse: 0.5704 - lr: 6.4292e-05\n",
      "Epoch 25/100\n",
      "680/682 [============================>.] - ETA: 0s - loss: 0.5641 - mse: 0.5641"
     ]
    },
    {
     "name": "stderr",
     "output_type": "stream",
     "text": [
      "WARNING:absl:Found untraced functions such as activation_layer_call_fn, activation_layer_call_and_return_conditional_losses, activation_1_layer_call_fn, activation_1_layer_call_and_return_conditional_losses, activation_2_layer_call_fn while saving (showing 5 of 16). These functions will not be directly callable after loading.\n"
     ]
    },
    {
     "name": "stdout",
     "output_type": "stream",
     "text": [
      "INFO:tensorflow:Assets written to: C:\\Users\\ucesvpm\\OneDrive - University College London\\PhD Project\\Data Analytics\\Time Series Clustering\\Third Test\\Time-Series-PhD\\wandb\\run-20230207_163352-ed12hls7\\files\\model-best\\assets\n"
     ]
    },
    {
     "name": "stderr",
     "output_type": "stream",
     "text": [
      "INFO:tensorflow:Assets written to: C:\\Users\\ucesvpm\\OneDrive - University College London\\PhD Project\\Data Analytics\\Time Series Clustering\\Third Test\\Time-Series-PhD\\wandb\\run-20230207_163352-ed12hls7\\files\\model-best\\assets\n",
      "\u001b[34m\u001b[1mwandb\u001b[0m: Adding directory to artifact (C:\\Users\\ucesvpm\\OneDrive - University College London\\PhD Project\\Data Analytics\\Time Series Clustering\\Third Test\\Time-Series-PhD\\wandb\\run-20230207_163352-ed12hls7\\files\\model-best)... Done. 0.0s\n"
     ]
    },
    {
     "name": "stdout",
     "output_type": "stream",
     "text": [
      "682/682 [==============================] - 9s 13ms/step - loss: 0.5640 - mse: 0.5640 - val_loss: 0.5685 - val_mse: 0.5685 - lr: 6.4292e-05\n",
      "Epoch 26/100\n",
      "682/682 [==============================] - ETA: 0s - loss: 0.5621 - mse: 0.5621"
     ]
    },
    {
     "name": "stderr",
     "output_type": "stream",
     "text": [
      "WARNING:absl:Found untraced functions such as activation_layer_call_fn, activation_layer_call_and_return_conditional_losses, activation_1_layer_call_fn, activation_1_layer_call_and_return_conditional_losses, activation_2_layer_call_fn while saving (showing 5 of 16). These functions will not be directly callable after loading.\n"
     ]
    },
    {
     "name": "stdout",
     "output_type": "stream",
     "text": [
      "INFO:tensorflow:Assets written to: C:\\Users\\ucesvpm\\OneDrive - University College London\\PhD Project\\Data Analytics\\Time Series Clustering\\Third Test\\Time-Series-PhD\\wandb\\run-20230207_163352-ed12hls7\\files\\model-best\\assets\n"
     ]
    },
    {
     "name": "stderr",
     "output_type": "stream",
     "text": [
      "INFO:tensorflow:Assets written to: C:\\Users\\ucesvpm\\OneDrive - University College London\\PhD Project\\Data Analytics\\Time Series Clustering\\Third Test\\Time-Series-PhD\\wandb\\run-20230207_163352-ed12hls7\\files\\model-best\\assets\n",
      "\u001b[34m\u001b[1mwandb\u001b[0m: Adding directory to artifact (C:\\Users\\ucesvpm\\OneDrive - University College London\\PhD Project\\Data Analytics\\Time Series Clustering\\Third Test\\Time-Series-PhD\\wandb\\run-20230207_163352-ed12hls7\\files\\model-best)... Done. 0.0s\n"
     ]
    },
    {
     "name": "stdout",
     "output_type": "stream",
     "text": [
      "682/682 [==============================] - 8s 12ms/step - loss: 0.5621 - mse: 0.5621 - val_loss: 0.5665 - val_mse: 0.5665 - lr: 6.4292e-05\n",
      "Epoch 27/100\n",
      "675/682 [============================>.] - ETA: 0s - loss: 0.5601 - mse: 0.5601"
     ]
    },
    {
     "name": "stderr",
     "output_type": "stream",
     "text": [
      "WARNING:absl:Found untraced functions such as activation_layer_call_fn, activation_layer_call_and_return_conditional_losses, activation_1_layer_call_fn, activation_1_layer_call_and_return_conditional_losses, activation_2_layer_call_fn while saving (showing 5 of 16). These functions will not be directly callable after loading.\n"
     ]
    },
    {
     "name": "stdout",
     "output_type": "stream",
     "text": [
      "INFO:tensorflow:Assets written to: C:\\Users\\ucesvpm\\OneDrive - University College London\\PhD Project\\Data Analytics\\Time Series Clustering\\Third Test\\Time-Series-PhD\\wandb\\run-20230207_163352-ed12hls7\\files\\model-best\\assets\n"
     ]
    },
    {
     "name": "stderr",
     "output_type": "stream",
     "text": [
      "INFO:tensorflow:Assets written to: C:\\Users\\ucesvpm\\OneDrive - University College London\\PhD Project\\Data Analytics\\Time Series Clustering\\Third Test\\Time-Series-PhD\\wandb\\run-20230207_163352-ed12hls7\\files\\model-best\\assets\n",
      "\u001b[34m\u001b[1mwandb\u001b[0m: Adding directory to artifact (C:\\Users\\ucesvpm\\OneDrive - University College London\\PhD Project\\Data Analytics\\Time Series Clustering\\Third Test\\Time-Series-PhD\\wandb\\run-20230207_163352-ed12hls7\\files\\model-best)... Done. 0.0s\n"
     ]
    },
    {
     "name": "stdout",
     "output_type": "stream",
     "text": [
      "682/682 [==============================] - 7s 11ms/step - loss: 0.5602 - mse: 0.5602 - val_loss: 0.5648 - val_mse: 0.5648 - lr: 6.4292e-05\n",
      "Epoch 28/100\n",
      "675/682 [============================>.] - ETA: 0s - loss: 0.5583 - mse: 0.5583"
     ]
    },
    {
     "name": "stderr",
     "output_type": "stream",
     "text": [
      "WARNING:absl:Found untraced functions such as activation_layer_call_fn, activation_layer_call_and_return_conditional_losses, activation_1_layer_call_fn, activation_1_layer_call_and_return_conditional_losses, activation_2_layer_call_fn while saving (showing 5 of 16). These functions will not be directly callable after loading.\n"
     ]
    },
    {
     "name": "stdout",
     "output_type": "stream",
     "text": [
      "INFO:tensorflow:Assets written to: C:\\Users\\ucesvpm\\OneDrive - University College London\\PhD Project\\Data Analytics\\Time Series Clustering\\Third Test\\Time-Series-PhD\\wandb\\run-20230207_163352-ed12hls7\\files\\model-best\\assets\n"
     ]
    },
    {
     "name": "stderr",
     "output_type": "stream",
     "text": [
      "INFO:tensorflow:Assets written to: C:\\Users\\ucesvpm\\OneDrive - University College London\\PhD Project\\Data Analytics\\Time Series Clustering\\Third Test\\Time-Series-PhD\\wandb\\run-20230207_163352-ed12hls7\\files\\model-best\\assets\n",
      "\u001b[34m\u001b[1mwandb\u001b[0m: Adding directory to artifact (C:\\Users\\ucesvpm\\OneDrive - University College London\\PhD Project\\Data Analytics\\Time Series Clustering\\Third Test\\Time-Series-PhD\\wandb\\run-20230207_163352-ed12hls7\\files\\model-best)... Done. 0.0s\n"
     ]
    },
    {
     "name": "stdout",
     "output_type": "stream",
     "text": [
      "682/682 [==============================] - 7s 10ms/step - loss: 0.5584 - mse: 0.5584 - val_loss: 0.5631 - val_mse: 0.5631 - lr: 6.4292e-05\n",
      "Epoch 29/100\n",
      "680/682 [============================>.] - ETA: 0s - loss: 0.5568 - mse: 0.5568"
     ]
    },
    {
     "name": "stderr",
     "output_type": "stream",
     "text": [
      "WARNING:absl:Found untraced functions such as activation_layer_call_fn, activation_layer_call_and_return_conditional_losses, activation_1_layer_call_fn, activation_1_layer_call_and_return_conditional_losses, activation_2_layer_call_fn while saving (showing 5 of 16). These functions will not be directly callable after loading.\n"
     ]
    },
    {
     "name": "stdout",
     "output_type": "stream",
     "text": [
      "INFO:tensorflow:Assets written to: C:\\Users\\ucesvpm\\OneDrive - University College London\\PhD Project\\Data Analytics\\Time Series Clustering\\Third Test\\Time-Series-PhD\\wandb\\run-20230207_163352-ed12hls7\\files\\model-best\\assets\n"
     ]
    },
    {
     "name": "stderr",
     "output_type": "stream",
     "text": [
      "INFO:tensorflow:Assets written to: C:\\Users\\ucesvpm\\OneDrive - University College London\\PhD Project\\Data Analytics\\Time Series Clustering\\Third Test\\Time-Series-PhD\\wandb\\run-20230207_163352-ed12hls7\\files\\model-best\\assets\n",
      "\u001b[34m\u001b[1mwandb\u001b[0m: Adding directory to artifact (C:\\Users\\ucesvpm\\OneDrive - University College London\\PhD Project\\Data Analytics\\Time Series Clustering\\Third Test\\Time-Series-PhD\\wandb\\run-20230207_163352-ed12hls7\\files\\model-best)... Done. 0.1s\n"
     ]
    },
    {
     "name": "stdout",
     "output_type": "stream",
     "text": [
      "682/682 [==============================] - 10s 14ms/step - loss: 0.5567 - mse: 0.5567 - val_loss: 0.5614 - val_mse: 0.5614 - lr: 6.4292e-05\n",
      "Epoch 30/100\n",
      "676/682 [============================>.] - ETA: 0s - loss: 0.5552 - mse: 0.5552"
     ]
    },
    {
     "name": "stderr",
     "output_type": "stream",
     "text": [
      "WARNING:absl:Found untraced functions such as activation_layer_call_fn, activation_layer_call_and_return_conditional_losses, activation_1_layer_call_fn, activation_1_layer_call_and_return_conditional_losses, activation_2_layer_call_fn while saving (showing 5 of 16). These functions will not be directly callable after loading.\n"
     ]
    },
    {
     "name": "stdout",
     "output_type": "stream",
     "text": [
      "INFO:tensorflow:Assets written to: C:\\Users\\ucesvpm\\OneDrive - University College London\\PhD Project\\Data Analytics\\Time Series Clustering\\Third Test\\Time-Series-PhD\\wandb\\run-20230207_163352-ed12hls7\\files\\model-best\\assets\n"
     ]
    },
    {
     "name": "stderr",
     "output_type": "stream",
     "text": [
      "INFO:tensorflow:Assets written to: C:\\Users\\ucesvpm\\OneDrive - University College London\\PhD Project\\Data Analytics\\Time Series Clustering\\Third Test\\Time-Series-PhD\\wandb\\run-20230207_163352-ed12hls7\\files\\model-best\\assets\n",
      "\u001b[34m\u001b[1mwandb\u001b[0m: Adding directory to artifact (C:\\Users\\ucesvpm\\OneDrive - University College London\\PhD Project\\Data Analytics\\Time Series Clustering\\Third Test\\Time-Series-PhD\\wandb\\run-20230207_163352-ed12hls7\\files\\model-best)... Done. 0.0s\n"
     ]
    },
    {
     "name": "stdout",
     "output_type": "stream",
     "text": [
      "682/682 [==============================] - 9s 13ms/step - loss: 0.5551 - mse: 0.5551 - val_loss: 0.5599 - val_mse: 0.5599 - lr: 6.4292e-05\n",
      "Epoch 31/100\n",
      "677/682 [============================>.] - ETA: 0s - loss: 0.5537 - mse: 0.5537"
     ]
    },
    {
     "name": "stderr",
     "output_type": "stream",
     "text": [
      "WARNING:absl:Found untraced functions such as activation_layer_call_fn, activation_layer_call_and_return_conditional_losses, activation_1_layer_call_fn, activation_1_layer_call_and_return_conditional_losses, activation_2_layer_call_fn while saving (showing 5 of 16). These functions will not be directly callable after loading.\n"
     ]
    },
    {
     "name": "stdout",
     "output_type": "stream",
     "text": [
      "INFO:tensorflow:Assets written to: C:\\Users\\ucesvpm\\OneDrive - University College London\\PhD Project\\Data Analytics\\Time Series Clustering\\Third Test\\Time-Series-PhD\\wandb\\run-20230207_163352-ed12hls7\\files\\model-best\\assets\n"
     ]
    },
    {
     "name": "stderr",
     "output_type": "stream",
     "text": [
      "INFO:tensorflow:Assets written to: C:\\Users\\ucesvpm\\OneDrive - University College London\\PhD Project\\Data Analytics\\Time Series Clustering\\Third Test\\Time-Series-PhD\\wandb\\run-20230207_163352-ed12hls7\\files\\model-best\\assets\n",
      "\u001b[34m\u001b[1mwandb\u001b[0m: Adding directory to artifact (C:\\Users\\ucesvpm\\OneDrive - University College London\\PhD Project\\Data Analytics\\Time Series Clustering\\Third Test\\Time-Series-PhD\\wandb\\run-20230207_163352-ed12hls7\\files\\model-best)... Done. 0.0s\n"
     ]
    },
    {
     "name": "stdout",
     "output_type": "stream",
     "text": [
      "682/682 [==============================] - 7s 10ms/step - loss: 0.5536 - mse: 0.5536 - val_loss: 0.5584 - val_mse: 0.5584 - lr: 6.4292e-05\n",
      "Epoch 32/100\n",
      "680/682 [============================>.] - ETA: 0s - loss: 0.5522 - mse: 0.5522"
     ]
    },
    {
     "name": "stderr",
     "output_type": "stream",
     "text": [
      "WARNING:absl:Found untraced functions such as activation_layer_call_fn, activation_layer_call_and_return_conditional_losses, activation_1_layer_call_fn, activation_1_layer_call_and_return_conditional_losses, activation_2_layer_call_fn while saving (showing 5 of 16). These functions will not be directly callable after loading.\n"
     ]
    },
    {
     "name": "stdout",
     "output_type": "stream",
     "text": [
      "INFO:tensorflow:Assets written to: C:\\Users\\ucesvpm\\OneDrive - University College London\\PhD Project\\Data Analytics\\Time Series Clustering\\Third Test\\Time-Series-PhD\\wandb\\run-20230207_163352-ed12hls7\\files\\model-best\\assets\n"
     ]
    },
    {
     "name": "stderr",
     "output_type": "stream",
     "text": [
      "INFO:tensorflow:Assets written to: C:\\Users\\ucesvpm\\OneDrive - University College London\\PhD Project\\Data Analytics\\Time Series Clustering\\Third Test\\Time-Series-PhD\\wandb\\run-20230207_163352-ed12hls7\\files\\model-best\\assets\n",
      "\u001b[34m\u001b[1mwandb\u001b[0m: Adding directory to artifact (C:\\Users\\ucesvpm\\OneDrive - University College London\\PhD Project\\Data Analytics\\Time Series Clustering\\Third Test\\Time-Series-PhD\\wandb\\run-20230207_163352-ed12hls7\\files\\model-best)... Done. 0.0s\n"
     ]
    },
    {
     "name": "stdout",
     "output_type": "stream",
     "text": [
      "682/682 [==============================] - 7s 11ms/step - loss: 0.5521 - mse: 0.5521 - val_loss: 0.5570 - val_mse: 0.5570 - lr: 6.4292e-05\n",
      "Epoch 33/100\n",
      "676/682 [============================>.] - ETA: 0s - loss: 0.5509 - mse: 0.5509"
     ]
    },
    {
     "name": "stderr",
     "output_type": "stream",
     "text": [
      "WARNING:absl:Found untraced functions such as activation_layer_call_fn, activation_layer_call_and_return_conditional_losses, activation_1_layer_call_fn, activation_1_layer_call_and_return_conditional_losses, activation_2_layer_call_fn while saving (showing 5 of 16). These functions will not be directly callable after loading.\n"
     ]
    },
    {
     "name": "stdout",
     "output_type": "stream",
     "text": [
      "INFO:tensorflow:Assets written to: C:\\Users\\ucesvpm\\OneDrive - University College London\\PhD Project\\Data Analytics\\Time Series Clustering\\Third Test\\Time-Series-PhD\\wandb\\run-20230207_163352-ed12hls7\\files\\model-best\\assets\n"
     ]
    },
    {
     "name": "stderr",
     "output_type": "stream",
     "text": [
      "INFO:tensorflow:Assets written to: C:\\Users\\ucesvpm\\OneDrive - University College London\\PhD Project\\Data Analytics\\Time Series Clustering\\Third Test\\Time-Series-PhD\\wandb\\run-20230207_163352-ed12hls7\\files\\model-best\\assets\n",
      "\u001b[34m\u001b[1mwandb\u001b[0m: Adding directory to artifact (C:\\Users\\ucesvpm\\OneDrive - University College London\\PhD Project\\Data Analytics\\Time Series Clustering\\Third Test\\Time-Series-PhD\\wandb\\run-20230207_163352-ed12hls7\\files\\model-best)... Done. 0.0s\n"
     ]
    },
    {
     "name": "stdout",
     "output_type": "stream",
     "text": [
      "682/682 [==============================] - 7s 10ms/step - loss: 0.5507 - mse: 0.5507 - val_loss: 0.5557 - val_mse: 0.5557 - lr: 6.4292e-05\n",
      "Epoch 34/100\n",
      "674/682 [============================>.] - ETA: 0s - loss: 0.5496 - mse: 0.5496"
     ]
    },
    {
     "name": "stderr",
     "output_type": "stream",
     "text": [
      "WARNING:absl:Found untraced functions such as activation_layer_call_fn, activation_layer_call_and_return_conditional_losses, activation_1_layer_call_fn, activation_1_layer_call_and_return_conditional_losses, activation_2_layer_call_fn while saving (showing 5 of 16). These functions will not be directly callable after loading.\n"
     ]
    },
    {
     "name": "stdout",
     "output_type": "stream",
     "text": [
      "INFO:tensorflow:Assets written to: C:\\Users\\ucesvpm\\OneDrive - University College London\\PhD Project\\Data Analytics\\Time Series Clustering\\Third Test\\Time-Series-PhD\\wandb\\run-20230207_163352-ed12hls7\\files\\model-best\\assets\n"
     ]
    },
    {
     "name": "stderr",
     "output_type": "stream",
     "text": [
      "INFO:tensorflow:Assets written to: C:\\Users\\ucesvpm\\OneDrive - University College London\\PhD Project\\Data Analytics\\Time Series Clustering\\Third Test\\Time-Series-PhD\\wandb\\run-20230207_163352-ed12hls7\\files\\model-best\\assets\n",
      "\u001b[34m\u001b[1mwandb\u001b[0m: Adding directory to artifact (C:\\Users\\ucesvpm\\OneDrive - University College London\\PhD Project\\Data Analytics\\Time Series Clustering\\Third Test\\Time-Series-PhD\\wandb\\run-20230207_163352-ed12hls7\\files\\model-best)... Done. 0.0s\n"
     ]
    },
    {
     "name": "stdout",
     "output_type": "stream",
     "text": [
      "682/682 [==============================] - 7s 11ms/step - loss: 0.5494 - mse: 0.5494 - val_loss: 0.5544 - val_mse: 0.5544 - lr: 6.4292e-05\n",
      "Epoch 35/100\n",
      "678/682 [============================>.] - ETA: 0s - loss: 0.5480 - mse: 0.5480"
     ]
    },
    {
     "name": "stderr",
     "output_type": "stream",
     "text": [
      "WARNING:absl:Found untraced functions such as activation_layer_call_fn, activation_layer_call_and_return_conditional_losses, activation_1_layer_call_fn, activation_1_layer_call_and_return_conditional_losses, activation_2_layer_call_fn while saving (showing 5 of 16). These functions will not be directly callable after loading.\n"
     ]
    },
    {
     "name": "stdout",
     "output_type": "stream",
     "text": [
      "INFO:tensorflow:Assets written to: C:\\Users\\ucesvpm\\OneDrive - University College London\\PhD Project\\Data Analytics\\Time Series Clustering\\Third Test\\Time-Series-PhD\\wandb\\run-20230207_163352-ed12hls7\\files\\model-best\\assets\n"
     ]
    },
    {
     "name": "stderr",
     "output_type": "stream",
     "text": [
      "INFO:tensorflow:Assets written to: C:\\Users\\ucesvpm\\OneDrive - University College London\\PhD Project\\Data Analytics\\Time Series Clustering\\Third Test\\Time-Series-PhD\\wandb\\run-20230207_163352-ed12hls7\\files\\model-best\\assets\n",
      "\u001b[34m\u001b[1mwandb\u001b[0m: Adding directory to artifact (C:\\Users\\ucesvpm\\OneDrive - University College London\\PhD Project\\Data Analytics\\Time Series Clustering\\Third Test\\Time-Series-PhD\\wandb\\run-20230207_163352-ed12hls7\\files\\model-best)... Done. 0.0s\n"
     ]
    },
    {
     "name": "stdout",
     "output_type": "stream",
     "text": [
      "682/682 [==============================] - 6s 10ms/step - loss: 0.5481 - mse: 0.5481 - val_loss: 0.5531 - val_mse: 0.5531 - lr: 6.4292e-05\n",
      "Epoch 36/100\n",
      "675/682 [============================>.] - ETA: 0s - loss: 0.5468 - mse: 0.5468"
     ]
    },
    {
     "name": "stderr",
     "output_type": "stream",
     "text": [
      "WARNING:absl:Found untraced functions such as activation_layer_call_fn, activation_layer_call_and_return_conditional_losses, activation_1_layer_call_fn, activation_1_layer_call_and_return_conditional_losses, activation_2_layer_call_fn while saving (showing 5 of 16). These functions will not be directly callable after loading.\n"
     ]
    },
    {
     "name": "stdout",
     "output_type": "stream",
     "text": [
      "INFO:tensorflow:Assets written to: C:\\Users\\ucesvpm\\OneDrive - University College London\\PhD Project\\Data Analytics\\Time Series Clustering\\Third Test\\Time-Series-PhD\\wandb\\run-20230207_163352-ed12hls7\\files\\model-best\\assets\n"
     ]
    },
    {
     "name": "stderr",
     "output_type": "stream",
     "text": [
      "INFO:tensorflow:Assets written to: C:\\Users\\ucesvpm\\OneDrive - University College London\\PhD Project\\Data Analytics\\Time Series Clustering\\Third Test\\Time-Series-PhD\\wandb\\run-20230207_163352-ed12hls7\\files\\model-best\\assets\n",
      "\u001b[34m\u001b[1mwandb\u001b[0m: Adding directory to artifact (C:\\Users\\ucesvpm\\OneDrive - University College London\\PhD Project\\Data Analytics\\Time Series Clustering\\Third Test\\Time-Series-PhD\\wandb\\run-20230207_163352-ed12hls7\\files\\model-best)... Done. 0.0s\n"
     ]
    },
    {
     "name": "stdout",
     "output_type": "stream",
     "text": [
      "682/682 [==============================] - 7s 10ms/step - loss: 0.5468 - mse: 0.5468 - val_loss: 0.5519 - val_mse: 0.5519 - lr: 6.4292e-05\n",
      "Epoch 37/100\n",
      "678/682 [============================>.] - ETA: 0s - loss: 0.5458 - mse: 0.5458"
     ]
    },
    {
     "name": "stderr",
     "output_type": "stream",
     "text": [
      "WARNING:absl:Found untraced functions such as activation_layer_call_fn, activation_layer_call_and_return_conditional_losses, activation_1_layer_call_fn, activation_1_layer_call_and_return_conditional_losses, activation_2_layer_call_fn while saving (showing 5 of 16). These functions will not be directly callable after loading.\n"
     ]
    },
    {
     "name": "stdout",
     "output_type": "stream",
     "text": [
      "INFO:tensorflow:Assets written to: C:\\Users\\ucesvpm\\OneDrive - University College London\\PhD Project\\Data Analytics\\Time Series Clustering\\Third Test\\Time-Series-PhD\\wandb\\run-20230207_163352-ed12hls7\\files\\model-best\\assets\n"
     ]
    },
    {
     "name": "stderr",
     "output_type": "stream",
     "text": [
      "INFO:tensorflow:Assets written to: C:\\Users\\ucesvpm\\OneDrive - University College London\\PhD Project\\Data Analytics\\Time Series Clustering\\Third Test\\Time-Series-PhD\\wandb\\run-20230207_163352-ed12hls7\\files\\model-best\\assets\n",
      "\u001b[34m\u001b[1mwandb\u001b[0m: Adding directory to artifact (C:\\Users\\ucesvpm\\OneDrive - University College London\\PhD Project\\Data Analytics\\Time Series Clustering\\Third Test\\Time-Series-PhD\\wandb\\run-20230207_163352-ed12hls7\\files\\model-best)... Done. 0.0s\n"
     ]
    },
    {
     "name": "stdout",
     "output_type": "stream",
     "text": [
      "682/682 [==============================] - 11s 16ms/step - loss: 0.5456 - mse: 0.5456 - val_loss: 0.5507 - val_mse: 0.5507 - lr: 6.4292e-05\n",
      "Epoch 38/100\n",
      "674/682 [============================>.] - ETA: 0s - loss: 0.5445 - mse: 0.5445"
     ]
    },
    {
     "name": "stderr",
     "output_type": "stream",
     "text": [
      "WARNING:absl:Found untraced functions such as activation_layer_call_fn, activation_layer_call_and_return_conditional_losses, activation_1_layer_call_fn, activation_1_layer_call_and_return_conditional_losses, activation_2_layer_call_fn while saving (showing 5 of 16). These functions will not be directly callable after loading.\n"
     ]
    },
    {
     "name": "stdout",
     "output_type": "stream",
     "text": [
      "INFO:tensorflow:Assets written to: C:\\Users\\ucesvpm\\OneDrive - University College London\\PhD Project\\Data Analytics\\Time Series Clustering\\Third Test\\Time-Series-PhD\\wandb\\run-20230207_163352-ed12hls7\\files\\model-best\\assets\n"
     ]
    },
    {
     "name": "stderr",
     "output_type": "stream",
     "text": [
      "INFO:tensorflow:Assets written to: C:\\Users\\ucesvpm\\OneDrive - University College London\\PhD Project\\Data Analytics\\Time Series Clustering\\Third Test\\Time-Series-PhD\\wandb\\run-20230207_163352-ed12hls7\\files\\model-best\\assets\n",
      "\u001b[34m\u001b[1mwandb\u001b[0m: Adding directory to artifact (C:\\Users\\ucesvpm\\OneDrive - University College London\\PhD Project\\Data Analytics\\Time Series Clustering\\Third Test\\Time-Series-PhD\\wandb\\run-20230207_163352-ed12hls7\\files\\model-best)... Done. 0.0s\n"
     ]
    },
    {
     "name": "stdout",
     "output_type": "stream",
     "text": [
      "682/682 [==============================] - 8s 12ms/step - loss: 0.5445 - mse: 0.5445 - val_loss: 0.5496 - val_mse: 0.5496 - lr: 6.4292e-05\n",
      "Epoch 39/100\n",
      "681/682 [============================>.] - ETA: 0s - loss: 0.5434 - mse: 0.5434"
     ]
    },
    {
     "name": "stderr",
     "output_type": "stream",
     "text": [
      "WARNING:absl:Found untraced functions such as activation_layer_call_fn, activation_layer_call_and_return_conditional_losses, activation_1_layer_call_fn, activation_1_layer_call_and_return_conditional_losses, activation_2_layer_call_fn while saving (showing 5 of 16). These functions will not be directly callable after loading.\n"
     ]
    },
    {
     "name": "stdout",
     "output_type": "stream",
     "text": [
      "INFO:tensorflow:Assets written to: C:\\Users\\ucesvpm\\OneDrive - University College London\\PhD Project\\Data Analytics\\Time Series Clustering\\Third Test\\Time-Series-PhD\\wandb\\run-20230207_163352-ed12hls7\\files\\model-best\\assets\n"
     ]
    },
    {
     "name": "stderr",
     "output_type": "stream",
     "text": [
      "INFO:tensorflow:Assets written to: C:\\Users\\ucesvpm\\OneDrive - University College London\\PhD Project\\Data Analytics\\Time Series Clustering\\Third Test\\Time-Series-PhD\\wandb\\run-20230207_163352-ed12hls7\\files\\model-best\\assets\n",
      "\u001b[34m\u001b[1mwandb\u001b[0m: Adding directory to artifact (C:\\Users\\ucesvpm\\OneDrive - University College London\\PhD Project\\Data Analytics\\Time Series Clustering\\Third Test\\Time-Series-PhD\\wandb\\run-20230207_163352-ed12hls7\\files\\model-best)... Done. 0.0s\n"
     ]
    },
    {
     "name": "stdout",
     "output_type": "stream",
     "text": [
      "682/682 [==============================] - 11s 16ms/step - loss: 0.5434 - mse: 0.5434 - val_loss: 0.5485 - val_mse: 0.5485 - lr: 6.4292e-05\n",
      "Epoch 40/100\n",
      "680/682 [============================>.] - ETA: 0s - loss: 0.5424 - mse: 0.5424"
     ]
    },
    {
     "name": "stderr",
     "output_type": "stream",
     "text": [
      "WARNING:absl:Found untraced functions such as activation_layer_call_fn, activation_layer_call_and_return_conditional_losses, activation_1_layer_call_fn, activation_1_layer_call_and_return_conditional_losses, activation_2_layer_call_fn while saving (showing 5 of 16). These functions will not be directly callable after loading.\n"
     ]
    },
    {
     "name": "stdout",
     "output_type": "stream",
     "text": [
      "INFO:tensorflow:Assets written to: C:\\Users\\ucesvpm\\OneDrive - University College London\\PhD Project\\Data Analytics\\Time Series Clustering\\Third Test\\Time-Series-PhD\\wandb\\run-20230207_163352-ed12hls7\\files\\model-best\\assets\n"
     ]
    },
    {
     "name": "stderr",
     "output_type": "stream",
     "text": [
      "INFO:tensorflow:Assets written to: C:\\Users\\ucesvpm\\OneDrive - University College London\\PhD Project\\Data Analytics\\Time Series Clustering\\Third Test\\Time-Series-PhD\\wandb\\run-20230207_163352-ed12hls7\\files\\model-best\\assets\n",
      "\u001b[34m\u001b[1mwandb\u001b[0m: Adding directory to artifact (C:\\Users\\ucesvpm\\OneDrive - University College London\\PhD Project\\Data Analytics\\Time Series Clustering\\Third Test\\Time-Series-PhD\\wandb\\run-20230207_163352-ed12hls7\\files\\model-best)... Done. 0.0s\n"
     ]
    },
    {
     "name": "stdout",
     "output_type": "stream",
     "text": [
      "682/682 [==============================] - 9s 13ms/step - loss: 0.5423 - mse: 0.5423 - val_loss: 0.5475 - val_mse: 0.5475 - lr: 6.4292e-05\n",
      "Epoch 41/100\n",
      "681/682 [============================>.] - ETA: 0s - loss: 0.5413 - mse: 0.5413"
     ]
    },
    {
     "name": "stderr",
     "output_type": "stream",
     "text": [
      "WARNING:absl:Found untraced functions such as activation_layer_call_fn, activation_layer_call_and_return_conditional_losses, activation_1_layer_call_fn, activation_1_layer_call_and_return_conditional_losses, activation_2_layer_call_fn while saving (showing 5 of 16). These functions will not be directly callable after loading.\n"
     ]
    },
    {
     "name": "stdout",
     "output_type": "stream",
     "text": [
      "INFO:tensorflow:Assets written to: C:\\Users\\ucesvpm\\OneDrive - University College London\\PhD Project\\Data Analytics\\Time Series Clustering\\Third Test\\Time-Series-PhD\\wandb\\run-20230207_163352-ed12hls7\\files\\model-best\\assets\n"
     ]
    },
    {
     "name": "stderr",
     "output_type": "stream",
     "text": [
      "INFO:tensorflow:Assets written to: C:\\Users\\ucesvpm\\OneDrive - University College London\\PhD Project\\Data Analytics\\Time Series Clustering\\Third Test\\Time-Series-PhD\\wandb\\run-20230207_163352-ed12hls7\\files\\model-best\\assets\n",
      "\u001b[34m\u001b[1mwandb\u001b[0m: Adding directory to artifact (C:\\Users\\ucesvpm\\OneDrive - University College London\\PhD Project\\Data Analytics\\Time Series Clustering\\Third Test\\Time-Series-PhD\\wandb\\run-20230207_163352-ed12hls7\\files\\model-best)... Done. 0.0s\n"
     ]
    },
    {
     "name": "stdout",
     "output_type": "stream",
     "text": [
      "682/682 [==============================] - 9s 13ms/step - loss: 0.5413 - mse: 0.5413 - val_loss: 0.5465 - val_mse: 0.5465 - lr: 6.4292e-05\n",
      "Epoch 42/100\n",
      "681/682 [============================>.] - ETA: 0s - loss: 0.5403 - mse: 0.5403"
     ]
    },
    {
     "name": "stderr",
     "output_type": "stream",
     "text": [
      "WARNING:absl:Found untraced functions such as activation_layer_call_fn, activation_layer_call_and_return_conditional_losses, activation_1_layer_call_fn, activation_1_layer_call_and_return_conditional_losses, activation_2_layer_call_fn while saving (showing 5 of 16). These functions will not be directly callable after loading.\n"
     ]
    },
    {
     "name": "stdout",
     "output_type": "stream",
     "text": [
      "INFO:tensorflow:Assets written to: C:\\Users\\ucesvpm\\OneDrive - University College London\\PhD Project\\Data Analytics\\Time Series Clustering\\Third Test\\Time-Series-PhD\\wandb\\run-20230207_163352-ed12hls7\\files\\model-best\\assets\n"
     ]
    },
    {
     "name": "stderr",
     "output_type": "stream",
     "text": [
      "INFO:tensorflow:Assets written to: C:\\Users\\ucesvpm\\OneDrive - University College London\\PhD Project\\Data Analytics\\Time Series Clustering\\Third Test\\Time-Series-PhD\\wandb\\run-20230207_163352-ed12hls7\\files\\model-best\\assets\n",
      "\u001b[34m\u001b[1mwandb\u001b[0m: Adding directory to artifact (C:\\Users\\ucesvpm\\OneDrive - University College London\\PhD Project\\Data Analytics\\Time Series Clustering\\Third Test\\Time-Series-PhD\\wandb\\run-20230207_163352-ed12hls7\\files\\model-best)... Done. 0.0s\n"
     ]
    },
    {
     "name": "stdout",
     "output_type": "stream",
     "text": [
      "682/682 [==============================] - 12s 17ms/step - loss: 0.5403 - mse: 0.5403 - val_loss: 0.5455 - val_mse: 0.5455 - lr: 6.4292e-05\n",
      "Epoch 43/100\n",
      "677/682 [============================>.] - ETA: 0s - loss: 0.5394 - mse: 0.5394"
     ]
    },
    {
     "name": "stderr",
     "output_type": "stream",
     "text": [
      "WARNING:absl:Found untraced functions such as activation_layer_call_fn, activation_layer_call_and_return_conditional_losses, activation_1_layer_call_fn, activation_1_layer_call_and_return_conditional_losses, activation_2_layer_call_fn while saving (showing 5 of 16). These functions will not be directly callable after loading.\n"
     ]
    },
    {
     "name": "stdout",
     "output_type": "stream",
     "text": [
      "INFO:tensorflow:Assets written to: C:\\Users\\ucesvpm\\OneDrive - University College London\\PhD Project\\Data Analytics\\Time Series Clustering\\Third Test\\Time-Series-PhD\\wandb\\run-20230207_163352-ed12hls7\\files\\model-best\\assets\n"
     ]
    },
    {
     "name": "stderr",
     "output_type": "stream",
     "text": [
      "INFO:tensorflow:Assets written to: C:\\Users\\ucesvpm\\OneDrive - University College London\\PhD Project\\Data Analytics\\Time Series Clustering\\Third Test\\Time-Series-PhD\\wandb\\run-20230207_163352-ed12hls7\\files\\model-best\\assets\n",
      "\u001b[34m\u001b[1mwandb\u001b[0m: Adding directory to artifact (C:\\Users\\ucesvpm\\OneDrive - University College London\\PhD Project\\Data Analytics\\Time Series Clustering\\Third Test\\Time-Series-PhD\\wandb\\run-20230207_163352-ed12hls7\\files\\model-best)... Done. 0.0s\n"
     ]
    },
    {
     "name": "stdout",
     "output_type": "stream",
     "text": [
      "682/682 [==============================] - 9s 13ms/step - loss: 0.5393 - mse: 0.5393 - val_loss: 0.5446 - val_mse: 0.5446 - lr: 6.4292e-05\n",
      "Epoch 44/100\n",
      "680/682 [============================>.] - ETA: 0s - loss: 0.5383 - mse: 0.5383"
     ]
    },
    {
     "name": "stderr",
     "output_type": "stream",
     "text": [
      "WARNING:absl:Found untraced functions such as activation_layer_call_fn, activation_layer_call_and_return_conditional_losses, activation_1_layer_call_fn, activation_1_layer_call_and_return_conditional_losses, activation_2_layer_call_fn while saving (showing 5 of 16). These functions will not be directly callable after loading.\n"
     ]
    },
    {
     "name": "stdout",
     "output_type": "stream",
     "text": [
      "INFO:tensorflow:Assets written to: C:\\Users\\ucesvpm\\OneDrive - University College London\\PhD Project\\Data Analytics\\Time Series Clustering\\Third Test\\Time-Series-PhD\\wandb\\run-20230207_163352-ed12hls7\\files\\model-best\\assets\n"
     ]
    },
    {
     "name": "stderr",
     "output_type": "stream",
     "text": [
      "INFO:tensorflow:Assets written to: C:\\Users\\ucesvpm\\OneDrive - University College London\\PhD Project\\Data Analytics\\Time Series Clustering\\Third Test\\Time-Series-PhD\\wandb\\run-20230207_163352-ed12hls7\\files\\model-best\\assets\n",
      "\u001b[34m\u001b[1mwandb\u001b[0m: Adding directory to artifact (C:\\Users\\ucesvpm\\OneDrive - University College London\\PhD Project\\Data Analytics\\Time Series Clustering\\Third Test\\Time-Series-PhD\\wandb\\run-20230207_163352-ed12hls7\\files\\model-best)... Done. 0.0s\n"
     ]
    },
    {
     "name": "stdout",
     "output_type": "stream",
     "text": [
      "682/682 [==============================] - 8s 12ms/step - loss: 0.5383 - mse: 0.5383 - val_loss: 0.5437 - val_mse: 0.5437 - lr: 6.4292e-05\n",
      "Epoch 45/100\n",
      "675/682 [============================>.] - ETA: 0s - loss: 0.5377 - mse: 0.5377"
     ]
    },
    {
     "name": "stderr",
     "output_type": "stream",
     "text": [
      "WARNING:absl:Found untraced functions such as activation_layer_call_fn, activation_layer_call_and_return_conditional_losses, activation_1_layer_call_fn, activation_1_layer_call_and_return_conditional_losses, activation_2_layer_call_fn while saving (showing 5 of 16). These functions will not be directly callable after loading.\n"
     ]
    },
    {
     "name": "stdout",
     "output_type": "stream",
     "text": [
      "INFO:tensorflow:Assets written to: C:\\Users\\ucesvpm\\OneDrive - University College London\\PhD Project\\Data Analytics\\Time Series Clustering\\Third Test\\Time-Series-PhD\\wandb\\run-20230207_163352-ed12hls7\\files\\model-best\\assets\n"
     ]
    },
    {
     "name": "stderr",
     "output_type": "stream",
     "text": [
      "INFO:tensorflow:Assets written to: C:\\Users\\ucesvpm\\OneDrive - University College London\\PhD Project\\Data Analytics\\Time Series Clustering\\Third Test\\Time-Series-PhD\\wandb\\run-20230207_163352-ed12hls7\\files\\model-best\\assets\n",
      "\u001b[34m\u001b[1mwandb\u001b[0m: Adding directory to artifact (C:\\Users\\ucesvpm\\OneDrive - University College London\\PhD Project\\Data Analytics\\Time Series Clustering\\Third Test\\Time-Series-PhD\\wandb\\run-20230207_163352-ed12hls7\\files\\model-best)... Done. 0.0s\n"
     ]
    },
    {
     "name": "stdout",
     "output_type": "stream",
     "text": [
      "682/682 [==============================] - 8s 11ms/step - loss: 0.5374 - mse: 0.5374 - val_loss: 0.5428 - val_mse: 0.5428 - lr: 6.4292e-05\n",
      "Epoch 46/100\n",
      "674/682 [============================>.] - ETA: 0s - loss: 0.5365 - mse: 0.5365"
     ]
    },
    {
     "name": "stderr",
     "output_type": "stream",
     "text": [
      "WARNING:absl:Found untraced functions such as activation_layer_call_fn, activation_layer_call_and_return_conditional_losses, activation_1_layer_call_fn, activation_1_layer_call_and_return_conditional_losses, activation_2_layer_call_fn while saving (showing 5 of 16). These functions will not be directly callable after loading.\n"
     ]
    },
    {
     "name": "stdout",
     "output_type": "stream",
     "text": [
      "INFO:tensorflow:Assets written to: C:\\Users\\ucesvpm\\OneDrive - University College London\\PhD Project\\Data Analytics\\Time Series Clustering\\Third Test\\Time-Series-PhD\\wandb\\run-20230207_163352-ed12hls7\\files\\model-best\\assets\n"
     ]
    },
    {
     "name": "stderr",
     "output_type": "stream",
     "text": [
      "INFO:tensorflow:Assets written to: C:\\Users\\ucesvpm\\OneDrive - University College London\\PhD Project\\Data Analytics\\Time Series Clustering\\Third Test\\Time-Series-PhD\\wandb\\run-20230207_163352-ed12hls7\\files\\model-best\\assets\n",
      "\u001b[34m\u001b[1mwandb\u001b[0m: Adding directory to artifact (C:\\Users\\ucesvpm\\OneDrive - University College London\\PhD Project\\Data Analytics\\Time Series Clustering\\Third Test\\Time-Series-PhD\\wandb\\run-20230207_163352-ed12hls7\\files\\model-best)... Done. 0.0s\n"
     ]
    },
    {
     "name": "stdout",
     "output_type": "stream",
     "text": [
      "682/682 [==============================] - 8s 12ms/step - loss: 0.5365 - mse: 0.5365 - val_loss: 0.5420 - val_mse: 0.5420 - lr: 6.4292e-05\n",
      "Epoch 47/100\n",
      "678/682 [============================>.] - ETA: 0s - loss: 0.5358 - mse: 0.5358"
     ]
    },
    {
     "name": "stderr",
     "output_type": "stream",
     "text": [
      "WARNING:absl:Found untraced functions such as activation_layer_call_fn, activation_layer_call_and_return_conditional_losses, activation_1_layer_call_fn, activation_1_layer_call_and_return_conditional_losses, activation_2_layer_call_fn while saving (showing 5 of 16). These functions will not be directly callable after loading.\n"
     ]
    },
    {
     "name": "stdout",
     "output_type": "stream",
     "text": [
      "INFO:tensorflow:Assets written to: C:\\Users\\ucesvpm\\OneDrive - University College London\\PhD Project\\Data Analytics\\Time Series Clustering\\Third Test\\Time-Series-PhD\\wandb\\run-20230207_163352-ed12hls7\\files\\model-best\\assets\n"
     ]
    },
    {
     "name": "stderr",
     "output_type": "stream",
     "text": [
      "INFO:tensorflow:Assets written to: C:\\Users\\ucesvpm\\OneDrive - University College London\\PhD Project\\Data Analytics\\Time Series Clustering\\Third Test\\Time-Series-PhD\\wandb\\run-20230207_163352-ed12hls7\\files\\model-best\\assets\n",
      "\u001b[34m\u001b[1mwandb\u001b[0m: Adding directory to artifact (C:\\Users\\ucesvpm\\OneDrive - University College London\\PhD Project\\Data Analytics\\Time Series Clustering\\Third Test\\Time-Series-PhD\\wandb\\run-20230207_163352-ed12hls7\\files\\model-best)... Done. 0.0s\n"
     ]
    },
    {
     "name": "stdout",
     "output_type": "stream",
     "text": [
      "682/682 [==============================] - 8s 12ms/step - loss: 0.5357 - mse: 0.5357 - val_loss: 0.5411 - val_mse: 0.5411 - lr: 6.4292e-05\n",
      "Epoch 48/100\n",
      "677/682 [============================>.] - ETA: 0s - loss: 0.5349 - mse: 0.5349"
     ]
    },
    {
     "name": "stderr",
     "output_type": "stream",
     "text": [
      "WARNING:absl:Found untraced functions such as activation_layer_call_fn, activation_layer_call_and_return_conditional_losses, activation_1_layer_call_fn, activation_1_layer_call_and_return_conditional_losses, activation_2_layer_call_fn while saving (showing 5 of 16). These functions will not be directly callable after loading.\n"
     ]
    },
    {
     "name": "stdout",
     "output_type": "stream",
     "text": [
      "INFO:tensorflow:Assets written to: C:\\Users\\ucesvpm\\OneDrive - University College London\\PhD Project\\Data Analytics\\Time Series Clustering\\Third Test\\Time-Series-PhD\\wandb\\run-20230207_163352-ed12hls7\\files\\model-best\\assets\n"
     ]
    },
    {
     "name": "stderr",
     "output_type": "stream",
     "text": [
      "INFO:tensorflow:Assets written to: C:\\Users\\ucesvpm\\OneDrive - University College London\\PhD Project\\Data Analytics\\Time Series Clustering\\Third Test\\Time-Series-PhD\\wandb\\run-20230207_163352-ed12hls7\\files\\model-best\\assets\n",
      "\u001b[34m\u001b[1mwandb\u001b[0m: Adding directory to artifact (C:\\Users\\ucesvpm\\OneDrive - University College London\\PhD Project\\Data Analytics\\Time Series Clustering\\Third Test\\Time-Series-PhD\\wandb\\run-20230207_163352-ed12hls7\\files\\model-best)... Done. 0.0s\n"
     ]
    },
    {
     "name": "stdout",
     "output_type": "stream",
     "text": [
      "682/682 [==============================] - 7s 11ms/step - loss: 0.5348 - mse: 0.5348 - val_loss: 0.5403 - val_mse: 0.5403 - lr: 6.4292e-05\n",
      "Epoch 49/100\n",
      "681/682 [============================>.] - ETA: 0s - loss: 0.5340 - mse: 0.5340"
     ]
    },
    {
     "name": "stderr",
     "output_type": "stream",
     "text": [
      "WARNING:absl:Found untraced functions such as activation_layer_call_fn, activation_layer_call_and_return_conditional_losses, activation_1_layer_call_fn, activation_1_layer_call_and_return_conditional_losses, activation_2_layer_call_fn while saving (showing 5 of 16). These functions will not be directly callable after loading.\n"
     ]
    },
    {
     "name": "stdout",
     "output_type": "stream",
     "text": [
      "INFO:tensorflow:Assets written to: C:\\Users\\ucesvpm\\OneDrive - University College London\\PhD Project\\Data Analytics\\Time Series Clustering\\Third Test\\Time-Series-PhD\\wandb\\run-20230207_163352-ed12hls7\\files\\model-best\\assets\n"
     ]
    },
    {
     "name": "stderr",
     "output_type": "stream",
     "text": [
      "INFO:tensorflow:Assets written to: C:\\Users\\ucesvpm\\OneDrive - University College London\\PhD Project\\Data Analytics\\Time Series Clustering\\Third Test\\Time-Series-PhD\\wandb\\run-20230207_163352-ed12hls7\\files\\model-best\\assets\n",
      "\u001b[34m\u001b[1mwandb\u001b[0m: Adding directory to artifact (C:\\Users\\ucesvpm\\OneDrive - University College London\\PhD Project\\Data Analytics\\Time Series Clustering\\Third Test\\Time-Series-PhD\\wandb\\run-20230207_163352-ed12hls7\\files\\model-best)... Done. 0.0s\n"
     ]
    },
    {
     "name": "stdout",
     "output_type": "stream",
     "text": [
      "682/682 [==============================] - 8s 11ms/step - loss: 0.5340 - mse: 0.5340 - val_loss: 0.5395 - val_mse: 0.5395 - lr: 6.4292e-05\n",
      "Epoch 50/100\n",
      "681/682 [============================>.] - ETA: 0s - loss: 0.5333 - mse: 0.5333"
     ]
    },
    {
     "name": "stderr",
     "output_type": "stream",
     "text": [
      "WARNING:absl:Found untraced functions such as activation_layer_call_fn, activation_layer_call_and_return_conditional_losses, activation_1_layer_call_fn, activation_1_layer_call_and_return_conditional_losses, activation_2_layer_call_fn while saving (showing 5 of 16). These functions will not be directly callable after loading.\n"
     ]
    },
    {
     "name": "stdout",
     "output_type": "stream",
     "text": [
      "INFO:tensorflow:Assets written to: C:\\Users\\ucesvpm\\OneDrive - University College London\\PhD Project\\Data Analytics\\Time Series Clustering\\Third Test\\Time-Series-PhD\\wandb\\run-20230207_163352-ed12hls7\\files\\model-best\\assets\n"
     ]
    },
    {
     "name": "stderr",
     "output_type": "stream",
     "text": [
      "INFO:tensorflow:Assets written to: C:\\Users\\ucesvpm\\OneDrive - University College London\\PhD Project\\Data Analytics\\Time Series Clustering\\Third Test\\Time-Series-PhD\\wandb\\run-20230207_163352-ed12hls7\\files\\model-best\\assets\n",
      "\u001b[34m\u001b[1mwandb\u001b[0m: Adding directory to artifact (C:\\Users\\ucesvpm\\OneDrive - University College London\\PhD Project\\Data Analytics\\Time Series Clustering\\Third Test\\Time-Series-PhD\\wandb\\run-20230207_163352-ed12hls7\\files\\model-best)... Done. 0.0s\n"
     ]
    },
    {
     "name": "stdout",
     "output_type": "stream",
     "text": [
      "682/682 [==============================] - 8s 12ms/step - loss: 0.5332 - mse: 0.5332 - val_loss: 0.5388 - val_mse: 0.5388 - lr: 6.4292e-05\n",
      "Epoch 51/100\n",
      "678/682 [============================>.] - ETA: 0s - loss: 0.5325 - mse: 0.5325"
     ]
    },
    {
     "name": "stderr",
     "output_type": "stream",
     "text": [
      "WARNING:absl:Found untraced functions such as activation_layer_call_fn, activation_layer_call_and_return_conditional_losses, activation_1_layer_call_fn, activation_1_layer_call_and_return_conditional_losses, activation_2_layer_call_fn while saving (showing 5 of 16). These functions will not be directly callable after loading.\n"
     ]
    },
    {
     "name": "stdout",
     "output_type": "stream",
     "text": [
      "INFO:tensorflow:Assets written to: C:\\Users\\ucesvpm\\OneDrive - University College London\\PhD Project\\Data Analytics\\Time Series Clustering\\Third Test\\Time-Series-PhD\\wandb\\run-20230207_163352-ed12hls7\\files\\model-best\\assets\n"
     ]
    },
    {
     "name": "stderr",
     "output_type": "stream",
     "text": [
      "INFO:tensorflow:Assets written to: C:\\Users\\ucesvpm\\OneDrive - University College London\\PhD Project\\Data Analytics\\Time Series Clustering\\Third Test\\Time-Series-PhD\\wandb\\run-20230207_163352-ed12hls7\\files\\model-best\\assets\n",
      "\u001b[34m\u001b[1mwandb\u001b[0m: Adding directory to artifact (C:\\Users\\ucesvpm\\OneDrive - University College London\\PhD Project\\Data Analytics\\Time Series Clustering\\Third Test\\Time-Series-PhD\\wandb\\run-20230207_163352-ed12hls7\\files\\model-best)... Done. 0.0s\n"
     ]
    },
    {
     "name": "stdout",
     "output_type": "stream",
     "text": [
      "682/682 [==============================] - 8s 12ms/step - loss: 0.5325 - mse: 0.5325 - val_loss: 0.5380 - val_mse: 0.5380 - lr: 6.4292e-05\n",
      "Epoch 52/100\n",
      "680/682 [============================>.] - ETA: 0s - loss: 0.5317 - mse: 0.5317"
     ]
    },
    {
     "name": "stderr",
     "output_type": "stream",
     "text": [
      "WARNING:absl:Found untraced functions such as activation_layer_call_fn, activation_layer_call_and_return_conditional_losses, activation_1_layer_call_fn, activation_1_layer_call_and_return_conditional_losses, activation_2_layer_call_fn while saving (showing 5 of 16). These functions will not be directly callable after loading.\n"
     ]
    },
    {
     "name": "stdout",
     "output_type": "stream",
     "text": [
      "INFO:tensorflow:Assets written to: C:\\Users\\ucesvpm\\OneDrive - University College London\\PhD Project\\Data Analytics\\Time Series Clustering\\Third Test\\Time-Series-PhD\\wandb\\run-20230207_163352-ed12hls7\\files\\model-best\\assets\n"
     ]
    },
    {
     "name": "stderr",
     "output_type": "stream",
     "text": [
      "INFO:tensorflow:Assets written to: C:\\Users\\ucesvpm\\OneDrive - University College London\\PhD Project\\Data Analytics\\Time Series Clustering\\Third Test\\Time-Series-PhD\\wandb\\run-20230207_163352-ed12hls7\\files\\model-best\\assets\n",
      "\u001b[34m\u001b[1mwandb\u001b[0m: Adding directory to artifact (C:\\Users\\ucesvpm\\OneDrive - University College London\\PhD Project\\Data Analytics\\Time Series Clustering\\Third Test\\Time-Series-PhD\\wandb\\run-20230207_163352-ed12hls7\\files\\model-best)... Done. 0.0s\n"
     ]
    },
    {
     "name": "stdout",
     "output_type": "stream",
     "text": [
      "682/682 [==============================] - 8s 12ms/step - loss: 0.5317 - mse: 0.5317 - val_loss: 0.5373 - val_mse: 0.5373 - lr: 6.4292e-05\n",
      "Epoch 53/100\n",
      "679/682 [============================>.] - ETA: 0s - loss: 0.5310 - mse: 0.5310"
     ]
    },
    {
     "name": "stderr",
     "output_type": "stream",
     "text": [
      "WARNING:absl:Found untraced functions such as activation_layer_call_fn, activation_layer_call_and_return_conditional_losses, activation_1_layer_call_fn, activation_1_layer_call_and_return_conditional_losses, activation_2_layer_call_fn while saving (showing 5 of 16). These functions will not be directly callable after loading.\n"
     ]
    },
    {
     "name": "stdout",
     "output_type": "stream",
     "text": [
      "INFO:tensorflow:Assets written to: C:\\Users\\ucesvpm\\OneDrive - University College London\\PhD Project\\Data Analytics\\Time Series Clustering\\Third Test\\Time-Series-PhD\\wandb\\run-20230207_163352-ed12hls7\\files\\model-best\\assets\n"
     ]
    },
    {
     "name": "stderr",
     "output_type": "stream",
     "text": [
      "INFO:tensorflow:Assets written to: C:\\Users\\ucesvpm\\OneDrive - University College London\\PhD Project\\Data Analytics\\Time Series Clustering\\Third Test\\Time-Series-PhD\\wandb\\run-20230207_163352-ed12hls7\\files\\model-best\\assets\n",
      "\u001b[34m\u001b[1mwandb\u001b[0m: Adding directory to artifact (C:\\Users\\ucesvpm\\OneDrive - University College London\\PhD Project\\Data Analytics\\Time Series Clustering\\Third Test\\Time-Series-PhD\\wandb\\run-20230207_163352-ed12hls7\\files\\model-best)... Done. 0.0s\n"
     ]
    },
    {
     "name": "stdout",
     "output_type": "stream",
     "text": [
      "682/682 [==============================] - 8s 12ms/step - loss: 0.5310 - mse: 0.5310 - val_loss: 0.5366 - val_mse: 0.5366 - lr: 6.4292e-05\n",
      "Epoch 54/100\n",
      "675/682 [============================>.] - ETA: 0s - loss: 0.5303 - mse: 0.5303"
     ]
    },
    {
     "name": "stderr",
     "output_type": "stream",
     "text": [
      "WARNING:absl:Found untraced functions such as activation_layer_call_fn, activation_layer_call_and_return_conditional_losses, activation_1_layer_call_fn, activation_1_layer_call_and_return_conditional_losses, activation_2_layer_call_fn while saving (showing 5 of 16). These functions will not be directly callable after loading.\n"
     ]
    },
    {
     "name": "stdout",
     "output_type": "stream",
     "text": [
      "INFO:tensorflow:Assets written to: C:\\Users\\ucesvpm\\OneDrive - University College London\\PhD Project\\Data Analytics\\Time Series Clustering\\Third Test\\Time-Series-PhD\\wandb\\run-20230207_163352-ed12hls7\\files\\model-best\\assets\n"
     ]
    },
    {
     "name": "stderr",
     "output_type": "stream",
     "text": [
      "INFO:tensorflow:Assets written to: C:\\Users\\ucesvpm\\OneDrive - University College London\\PhD Project\\Data Analytics\\Time Series Clustering\\Third Test\\Time-Series-PhD\\wandb\\run-20230207_163352-ed12hls7\\files\\model-best\\assets\n",
      "\u001b[34m\u001b[1mwandb\u001b[0m: Adding directory to artifact (C:\\Users\\ucesvpm\\OneDrive - University College London\\PhD Project\\Data Analytics\\Time Series Clustering\\Third Test\\Time-Series-PhD\\wandb\\run-20230207_163352-ed12hls7\\files\\model-best)... Done. 0.0s\n"
     ]
    },
    {
     "name": "stdout",
     "output_type": "stream",
     "text": [
      "682/682 [==============================] - 8s 12ms/step - loss: 0.5303 - mse: 0.5303 - val_loss: 0.5359 - val_mse: 0.5359 - lr: 6.4292e-05\n",
      "Epoch 55/100\n",
      "675/682 [============================>.] - ETA: 0s - loss: 0.5296 - mse: 0.5296"
     ]
    },
    {
     "name": "stderr",
     "output_type": "stream",
     "text": [
      "WARNING:absl:Found untraced functions such as activation_layer_call_fn, activation_layer_call_and_return_conditional_losses, activation_1_layer_call_fn, activation_1_layer_call_and_return_conditional_losses, activation_2_layer_call_fn while saving (showing 5 of 16). These functions will not be directly callable after loading.\n"
     ]
    },
    {
     "name": "stdout",
     "output_type": "stream",
     "text": [
      "INFO:tensorflow:Assets written to: C:\\Users\\ucesvpm\\OneDrive - University College London\\PhD Project\\Data Analytics\\Time Series Clustering\\Third Test\\Time-Series-PhD\\wandb\\run-20230207_163352-ed12hls7\\files\\model-best\\assets\n"
     ]
    },
    {
     "name": "stderr",
     "output_type": "stream",
     "text": [
      "INFO:tensorflow:Assets written to: C:\\Users\\ucesvpm\\OneDrive - University College London\\PhD Project\\Data Analytics\\Time Series Clustering\\Third Test\\Time-Series-PhD\\wandb\\run-20230207_163352-ed12hls7\\files\\model-best\\assets\n",
      "\u001b[34m\u001b[1mwandb\u001b[0m: Adding directory to artifact (C:\\Users\\ucesvpm\\OneDrive - University College London\\PhD Project\\Data Analytics\\Time Series Clustering\\Third Test\\Time-Series-PhD\\wandb\\run-20230207_163352-ed12hls7\\files\\model-best)... Done. 0.0s\n"
     ]
    },
    {
     "name": "stdout",
     "output_type": "stream",
     "text": [
      "682/682 [==============================] - 7s 11ms/step - loss: 0.5296 - mse: 0.5296 - val_loss: 0.5352 - val_mse: 0.5352 - lr: 6.4292e-05\n",
      "Epoch 56/100\n",
      "681/682 [============================>.] - ETA: 0s - loss: 0.5289 - mse: 0.5289"
     ]
    },
    {
     "name": "stderr",
     "output_type": "stream",
     "text": [
      "WARNING:absl:Found untraced functions such as activation_layer_call_fn, activation_layer_call_and_return_conditional_losses, activation_1_layer_call_fn, activation_1_layer_call_and_return_conditional_losses, activation_2_layer_call_fn while saving (showing 5 of 16). These functions will not be directly callable after loading.\n"
     ]
    },
    {
     "name": "stdout",
     "output_type": "stream",
     "text": [
      "INFO:tensorflow:Assets written to: C:\\Users\\ucesvpm\\OneDrive - University College London\\PhD Project\\Data Analytics\\Time Series Clustering\\Third Test\\Time-Series-PhD\\wandb\\run-20230207_163352-ed12hls7\\files\\model-best\\assets\n"
     ]
    },
    {
     "name": "stderr",
     "output_type": "stream",
     "text": [
      "INFO:tensorflow:Assets written to: C:\\Users\\ucesvpm\\OneDrive - University College London\\PhD Project\\Data Analytics\\Time Series Clustering\\Third Test\\Time-Series-PhD\\wandb\\run-20230207_163352-ed12hls7\\files\\model-best\\assets\n",
      "\u001b[34m\u001b[1mwandb\u001b[0m: Adding directory to artifact (C:\\Users\\ucesvpm\\OneDrive - University College London\\PhD Project\\Data Analytics\\Time Series Clustering\\Third Test\\Time-Series-PhD\\wandb\\run-20230207_163352-ed12hls7\\files\\model-best)... Done. 0.0s\n"
     ]
    },
    {
     "name": "stdout",
     "output_type": "stream",
     "text": [
      "682/682 [==============================] - 9s 14ms/step - loss: 0.5289 - mse: 0.5289 - val_loss: 0.5346 - val_mse: 0.5346 - lr: 6.4292e-05\n",
      "Epoch 57/100\n",
      "675/682 [============================>.] - ETA: 0s - loss: 0.5280 - mse: 0.5280"
     ]
    },
    {
     "name": "stderr",
     "output_type": "stream",
     "text": [
      "WARNING:absl:Found untraced functions such as activation_layer_call_fn, activation_layer_call_and_return_conditional_losses, activation_1_layer_call_fn, activation_1_layer_call_and_return_conditional_losses, activation_2_layer_call_fn while saving (showing 5 of 16). These functions will not be directly callable after loading.\n"
     ]
    },
    {
     "name": "stdout",
     "output_type": "stream",
     "text": [
      "INFO:tensorflow:Assets written to: C:\\Users\\ucesvpm\\OneDrive - University College London\\PhD Project\\Data Analytics\\Time Series Clustering\\Third Test\\Time-Series-PhD\\wandb\\run-20230207_163352-ed12hls7\\files\\model-best\\assets\n"
     ]
    },
    {
     "name": "stderr",
     "output_type": "stream",
     "text": [
      "INFO:tensorflow:Assets written to: C:\\Users\\ucesvpm\\OneDrive - University College London\\PhD Project\\Data Analytics\\Time Series Clustering\\Third Test\\Time-Series-PhD\\wandb\\run-20230207_163352-ed12hls7\\files\\model-best\\assets\n",
      "\u001b[34m\u001b[1mwandb\u001b[0m: Adding directory to artifact (C:\\Users\\ucesvpm\\OneDrive - University College London\\PhD Project\\Data Analytics\\Time Series Clustering\\Third Test\\Time-Series-PhD\\wandb\\run-20230207_163352-ed12hls7\\files\\model-best)... Done. 0.0s\n"
     ]
    },
    {
     "name": "stdout",
     "output_type": "stream",
     "text": [
      "682/682 [==============================] - 9s 13ms/step - loss: 0.5282 - mse: 0.5282 - val_loss: 0.5339 - val_mse: 0.5339 - lr: 6.4292e-05\n",
      "Epoch 58/100\n",
      "675/682 [============================>.] - ETA: 0s - loss: 0.5275 - mse: 0.5275"
     ]
    },
    {
     "name": "stderr",
     "output_type": "stream",
     "text": [
      "WARNING:absl:Found untraced functions such as activation_layer_call_fn, activation_layer_call_and_return_conditional_losses, activation_1_layer_call_fn, activation_1_layer_call_and_return_conditional_losses, activation_2_layer_call_fn while saving (showing 5 of 16). These functions will not be directly callable after loading.\n"
     ]
    },
    {
     "name": "stdout",
     "output_type": "stream",
     "text": [
      "INFO:tensorflow:Assets written to: C:\\Users\\ucesvpm\\OneDrive - University College London\\PhD Project\\Data Analytics\\Time Series Clustering\\Third Test\\Time-Series-PhD\\wandb\\run-20230207_163352-ed12hls7\\files\\model-best\\assets\n"
     ]
    },
    {
     "name": "stderr",
     "output_type": "stream",
     "text": [
      "INFO:tensorflow:Assets written to: C:\\Users\\ucesvpm\\OneDrive - University College London\\PhD Project\\Data Analytics\\Time Series Clustering\\Third Test\\Time-Series-PhD\\wandb\\run-20230207_163352-ed12hls7\\files\\model-best\\assets\n",
      "\u001b[34m\u001b[1mwandb\u001b[0m: Adding directory to artifact (C:\\Users\\ucesvpm\\OneDrive - University College London\\PhD Project\\Data Analytics\\Time Series Clustering\\Third Test\\Time-Series-PhD\\wandb\\run-20230207_163352-ed12hls7\\files\\model-best)... Done. 0.0s\n"
     ]
    },
    {
     "name": "stdout",
     "output_type": "stream",
     "text": [
      "682/682 [==============================] - 9s 14ms/step - loss: 0.5276 - mse: 0.5276 - val_loss: 0.5333 - val_mse: 0.5333 - lr: 6.4292e-05\n",
      "Epoch 59/100\n",
      "678/682 [============================>.] - ETA: 0s - loss: 0.5270 - mse: 0.5270"
     ]
    },
    {
     "name": "stderr",
     "output_type": "stream",
     "text": [
      "WARNING:absl:Found untraced functions such as activation_layer_call_fn, activation_layer_call_and_return_conditional_losses, activation_1_layer_call_fn, activation_1_layer_call_and_return_conditional_losses, activation_2_layer_call_fn while saving (showing 5 of 16). These functions will not be directly callable after loading.\n"
     ]
    },
    {
     "name": "stdout",
     "output_type": "stream",
     "text": [
      "INFO:tensorflow:Assets written to: C:\\Users\\ucesvpm\\OneDrive - University College London\\PhD Project\\Data Analytics\\Time Series Clustering\\Third Test\\Time-Series-PhD\\wandb\\run-20230207_163352-ed12hls7\\files\\model-best\\assets\n"
     ]
    },
    {
     "name": "stderr",
     "output_type": "stream",
     "text": [
      "INFO:tensorflow:Assets written to: C:\\Users\\ucesvpm\\OneDrive - University College London\\PhD Project\\Data Analytics\\Time Series Clustering\\Third Test\\Time-Series-PhD\\wandb\\run-20230207_163352-ed12hls7\\files\\model-best\\assets\n",
      "\u001b[34m\u001b[1mwandb\u001b[0m: Adding directory to artifact (C:\\Users\\ucesvpm\\OneDrive - University College London\\PhD Project\\Data Analytics\\Time Series Clustering\\Third Test\\Time-Series-PhD\\wandb\\run-20230207_163352-ed12hls7\\files\\model-best)... Done. 0.0s\n"
     ]
    },
    {
     "name": "stdout",
     "output_type": "stream",
     "text": [
      "682/682 [==============================] - 13s 19ms/step - loss: 0.5269 - mse: 0.5269 - val_loss: 0.5327 - val_mse: 0.5327 - lr: 6.4292e-05\n",
      "Epoch 60/100\n",
      "676/682 [============================>.] - ETA: 0s - loss: 0.5263 - mse: 0.5263"
     ]
    },
    {
     "name": "stderr",
     "output_type": "stream",
     "text": [
      "WARNING:absl:Found untraced functions such as activation_layer_call_fn, activation_layer_call_and_return_conditional_losses, activation_1_layer_call_fn, activation_1_layer_call_and_return_conditional_losses, activation_2_layer_call_fn while saving (showing 5 of 16). These functions will not be directly callable after loading.\n"
     ]
    },
    {
     "name": "stdout",
     "output_type": "stream",
     "text": [
      "INFO:tensorflow:Assets written to: C:\\Users\\ucesvpm\\OneDrive - University College London\\PhD Project\\Data Analytics\\Time Series Clustering\\Third Test\\Time-Series-PhD\\wandb\\run-20230207_163352-ed12hls7\\files\\model-best\\assets\n"
     ]
    },
    {
     "name": "stderr",
     "output_type": "stream",
     "text": [
      "INFO:tensorflow:Assets written to: C:\\Users\\ucesvpm\\OneDrive - University College London\\PhD Project\\Data Analytics\\Time Series Clustering\\Third Test\\Time-Series-PhD\\wandb\\run-20230207_163352-ed12hls7\\files\\model-best\\assets\n",
      "\u001b[34m\u001b[1mwandb\u001b[0m: Adding directory to artifact (C:\\Users\\ucesvpm\\OneDrive - University College London\\PhD Project\\Data Analytics\\Time Series Clustering\\Third Test\\Time-Series-PhD\\wandb\\run-20230207_163352-ed12hls7\\files\\model-best)... Done. 0.0s\n"
     ]
    },
    {
     "name": "stdout",
     "output_type": "stream",
     "text": [
      "682/682 [==============================] - 8s 12ms/step - loss: 0.5263 - mse: 0.5263 - val_loss: 0.5321 - val_mse: 0.5321 - lr: 6.4292e-05\n",
      "Epoch 61/100\n",
      "677/682 [============================>.] - ETA: 0s - loss: 0.5257 - mse: 0.5257"
     ]
    },
    {
     "name": "stderr",
     "output_type": "stream",
     "text": [
      "WARNING:absl:Found untraced functions such as activation_layer_call_fn, activation_layer_call_and_return_conditional_losses, activation_1_layer_call_fn, activation_1_layer_call_and_return_conditional_losses, activation_2_layer_call_fn while saving (showing 5 of 16). These functions will not be directly callable after loading.\n"
     ]
    },
    {
     "name": "stdout",
     "output_type": "stream",
     "text": [
      "INFO:tensorflow:Assets written to: C:\\Users\\ucesvpm\\OneDrive - University College London\\PhD Project\\Data Analytics\\Time Series Clustering\\Third Test\\Time-Series-PhD\\wandb\\run-20230207_163352-ed12hls7\\files\\model-best\\assets\n"
     ]
    },
    {
     "name": "stderr",
     "output_type": "stream",
     "text": [
      "INFO:tensorflow:Assets written to: C:\\Users\\ucesvpm\\OneDrive - University College London\\PhD Project\\Data Analytics\\Time Series Clustering\\Third Test\\Time-Series-PhD\\wandb\\run-20230207_163352-ed12hls7\\files\\model-best\\assets\n",
      "\u001b[34m\u001b[1mwandb\u001b[0m: Adding directory to artifact (C:\\Users\\ucesvpm\\OneDrive - University College London\\PhD Project\\Data Analytics\\Time Series Clustering\\Third Test\\Time-Series-PhD\\wandb\\run-20230207_163352-ed12hls7\\files\\model-best)... Done. 0.0s\n"
     ]
    },
    {
     "name": "stdout",
     "output_type": "stream",
     "text": [
      "682/682 [==============================] - 8s 12ms/step - loss: 0.5257 - mse: 0.5257 - val_loss: 0.5315 - val_mse: 0.5315 - lr: 6.4292e-05\n",
      "Epoch 62/100\n",
      "678/682 [============================>.] - ETA: 0s - loss: 0.5251 - mse: 0.5251"
     ]
    },
    {
     "name": "stderr",
     "output_type": "stream",
     "text": [
      "WARNING:absl:Found untraced functions such as activation_layer_call_fn, activation_layer_call_and_return_conditional_losses, activation_1_layer_call_fn, activation_1_layer_call_and_return_conditional_losses, activation_2_layer_call_fn while saving (showing 5 of 16). These functions will not be directly callable after loading.\n"
     ]
    },
    {
     "name": "stdout",
     "output_type": "stream",
     "text": [
      "INFO:tensorflow:Assets written to: C:\\Users\\ucesvpm\\OneDrive - University College London\\PhD Project\\Data Analytics\\Time Series Clustering\\Third Test\\Time-Series-PhD\\wandb\\run-20230207_163352-ed12hls7\\files\\model-best\\assets\n"
     ]
    },
    {
     "name": "stderr",
     "output_type": "stream",
     "text": [
      "INFO:tensorflow:Assets written to: C:\\Users\\ucesvpm\\OneDrive - University College London\\PhD Project\\Data Analytics\\Time Series Clustering\\Third Test\\Time-Series-PhD\\wandb\\run-20230207_163352-ed12hls7\\files\\model-best\\assets\n",
      "\u001b[34m\u001b[1mwandb\u001b[0m: Adding directory to artifact (C:\\Users\\ucesvpm\\OneDrive - University College London\\PhD Project\\Data Analytics\\Time Series Clustering\\Third Test\\Time-Series-PhD\\wandb\\run-20230207_163352-ed12hls7\\files\\model-best)... Done. 0.0s\n"
     ]
    },
    {
     "name": "stdout",
     "output_type": "stream",
     "text": [
      "682/682 [==============================] - 9s 13ms/step - loss: 0.5251 - mse: 0.5251 - val_loss: 0.5309 - val_mse: 0.5309 - lr: 6.4292e-05\n",
      "Epoch 63/100\n",
      "681/682 [============================>.] - ETA: 0s - loss: 0.5245 - mse: 0.5245"
     ]
    },
    {
     "name": "stderr",
     "output_type": "stream",
     "text": [
      "WARNING:absl:Found untraced functions such as activation_layer_call_fn, activation_layer_call_and_return_conditional_losses, activation_1_layer_call_fn, activation_1_layer_call_and_return_conditional_losses, activation_2_layer_call_fn while saving (showing 5 of 16). These functions will not be directly callable after loading.\n"
     ]
    },
    {
     "name": "stdout",
     "output_type": "stream",
     "text": [
      "INFO:tensorflow:Assets written to: C:\\Users\\ucesvpm\\OneDrive - University College London\\PhD Project\\Data Analytics\\Time Series Clustering\\Third Test\\Time-Series-PhD\\wandb\\run-20230207_163352-ed12hls7\\files\\model-best\\assets\n"
     ]
    },
    {
     "name": "stderr",
     "output_type": "stream",
     "text": [
      "INFO:tensorflow:Assets written to: C:\\Users\\ucesvpm\\OneDrive - University College London\\PhD Project\\Data Analytics\\Time Series Clustering\\Third Test\\Time-Series-PhD\\wandb\\run-20230207_163352-ed12hls7\\files\\model-best\\assets\n",
      "\u001b[34m\u001b[1mwandb\u001b[0m: Adding directory to artifact (C:\\Users\\ucesvpm\\OneDrive - University College London\\PhD Project\\Data Analytics\\Time Series Clustering\\Third Test\\Time-Series-PhD\\wandb\\run-20230207_163352-ed12hls7\\files\\model-best)... Done. 0.0s\n"
     ]
    },
    {
     "name": "stdout",
     "output_type": "stream",
     "text": [
      "682/682 [==============================] - 7s 11ms/step - loss: 0.5245 - mse: 0.5245 - val_loss: 0.5303 - val_mse: 0.5303 - lr: 6.4292e-05\n",
      "Epoch 64/100\n",
      "676/682 [============================>.] - ETA: 0s - loss: 0.5239 - mse: 0.5239"
     ]
    },
    {
     "name": "stderr",
     "output_type": "stream",
     "text": [
      "WARNING:absl:Found untraced functions such as activation_layer_call_fn, activation_layer_call_and_return_conditional_losses, activation_1_layer_call_fn, activation_1_layer_call_and_return_conditional_losses, activation_2_layer_call_fn while saving (showing 5 of 16). These functions will not be directly callable after loading.\n"
     ]
    },
    {
     "name": "stdout",
     "output_type": "stream",
     "text": [
      "INFO:tensorflow:Assets written to: C:\\Users\\ucesvpm\\OneDrive - University College London\\PhD Project\\Data Analytics\\Time Series Clustering\\Third Test\\Time-Series-PhD\\wandb\\run-20230207_163352-ed12hls7\\files\\model-best\\assets\n"
     ]
    },
    {
     "name": "stderr",
     "output_type": "stream",
     "text": [
      "INFO:tensorflow:Assets written to: C:\\Users\\ucesvpm\\OneDrive - University College London\\PhD Project\\Data Analytics\\Time Series Clustering\\Third Test\\Time-Series-PhD\\wandb\\run-20230207_163352-ed12hls7\\files\\model-best\\assets\n",
      "\u001b[34m\u001b[1mwandb\u001b[0m: Adding directory to artifact (C:\\Users\\ucesvpm\\OneDrive - University College London\\PhD Project\\Data Analytics\\Time Series Clustering\\Third Test\\Time-Series-PhD\\wandb\\run-20230207_163352-ed12hls7\\files\\model-best)... Done. 0.0s\n"
     ]
    },
    {
     "name": "stdout",
     "output_type": "stream",
     "text": [
      "682/682 [==============================] - 7s 10ms/step - loss: 0.5240 - mse: 0.5240 - val_loss: 0.5298 - val_mse: 0.5298 - lr: 6.4292e-05\n",
      "Epoch 65/100\n",
      "682/682 [==============================] - ETA: 0s - loss: 0.5234 - mse: 0.5234"
     ]
    },
    {
     "name": "stderr",
     "output_type": "stream",
     "text": [
      "WARNING:absl:Found untraced functions such as activation_layer_call_fn, activation_layer_call_and_return_conditional_losses, activation_1_layer_call_fn, activation_1_layer_call_and_return_conditional_losses, activation_2_layer_call_fn while saving (showing 5 of 16). These functions will not be directly callable after loading.\n"
     ]
    },
    {
     "name": "stdout",
     "output_type": "stream",
     "text": [
      "INFO:tensorflow:Assets written to: C:\\Users\\ucesvpm\\OneDrive - University College London\\PhD Project\\Data Analytics\\Time Series Clustering\\Third Test\\Time-Series-PhD\\wandb\\run-20230207_163352-ed12hls7\\files\\model-best\\assets\n"
     ]
    },
    {
     "name": "stderr",
     "output_type": "stream",
     "text": [
      "INFO:tensorflow:Assets written to: C:\\Users\\ucesvpm\\OneDrive - University College London\\PhD Project\\Data Analytics\\Time Series Clustering\\Third Test\\Time-Series-PhD\\wandb\\run-20230207_163352-ed12hls7\\files\\model-best\\assets\n",
      "\u001b[34m\u001b[1mwandb\u001b[0m: Adding directory to artifact (C:\\Users\\ucesvpm\\OneDrive - University College London\\PhD Project\\Data Analytics\\Time Series Clustering\\Third Test\\Time-Series-PhD\\wandb\\run-20230207_163352-ed12hls7\\files\\model-best)... Done. 0.0s\n"
     ]
    },
    {
     "name": "stdout",
     "output_type": "stream",
     "text": [
      "682/682 [==============================] - 8s 12ms/step - loss: 0.5234 - mse: 0.5234 - val_loss: 0.5292 - val_mse: 0.5292 - lr: 6.4292e-05\n",
      "Epoch 66/100\n",
      "680/682 [============================>.] - ETA: 0s - loss: 0.5229 - mse: 0.5229"
     ]
    },
    {
     "name": "stderr",
     "output_type": "stream",
     "text": [
      "WARNING:absl:Found untraced functions such as activation_layer_call_fn, activation_layer_call_and_return_conditional_losses, activation_1_layer_call_fn, activation_1_layer_call_and_return_conditional_losses, activation_2_layer_call_fn while saving (showing 5 of 16). These functions will not be directly callable after loading.\n"
     ]
    },
    {
     "name": "stdout",
     "output_type": "stream",
     "text": [
      "INFO:tensorflow:Assets written to: C:\\Users\\ucesvpm\\OneDrive - University College London\\PhD Project\\Data Analytics\\Time Series Clustering\\Third Test\\Time-Series-PhD\\wandb\\run-20230207_163352-ed12hls7\\files\\model-best\\assets\n"
     ]
    },
    {
     "name": "stderr",
     "output_type": "stream",
     "text": [
      "INFO:tensorflow:Assets written to: C:\\Users\\ucesvpm\\OneDrive - University College London\\PhD Project\\Data Analytics\\Time Series Clustering\\Third Test\\Time-Series-PhD\\wandb\\run-20230207_163352-ed12hls7\\files\\model-best\\assets\n",
      "\u001b[34m\u001b[1mwandb\u001b[0m: Adding directory to artifact (C:\\Users\\ucesvpm\\OneDrive - University College London\\PhD Project\\Data Analytics\\Time Series Clustering\\Third Test\\Time-Series-PhD\\wandb\\run-20230207_163352-ed12hls7\\files\\model-best)... Done. 0.0s\n"
     ]
    },
    {
     "name": "stdout",
     "output_type": "stream",
     "text": [
      "682/682 [==============================] - 8s 11ms/step - loss: 0.5229 - mse: 0.5229 - val_loss: 0.5287 - val_mse: 0.5287 - lr: 6.4292e-05\n",
      "Epoch 67/100\n",
      "678/682 [============================>.] - ETA: 0s - loss: 0.5222 - mse: 0.5222"
     ]
    },
    {
     "name": "stderr",
     "output_type": "stream",
     "text": [
      "WARNING:absl:Found untraced functions such as activation_layer_call_fn, activation_layer_call_and_return_conditional_losses, activation_1_layer_call_fn, activation_1_layer_call_and_return_conditional_losses, activation_2_layer_call_fn while saving (showing 5 of 16). These functions will not be directly callable after loading.\n"
     ]
    },
    {
     "name": "stdout",
     "output_type": "stream",
     "text": [
      "INFO:tensorflow:Assets written to: C:\\Users\\ucesvpm\\OneDrive - University College London\\PhD Project\\Data Analytics\\Time Series Clustering\\Third Test\\Time-Series-PhD\\wandb\\run-20230207_163352-ed12hls7\\files\\model-best\\assets\n"
     ]
    },
    {
     "name": "stderr",
     "output_type": "stream",
     "text": [
      "INFO:tensorflow:Assets written to: C:\\Users\\ucesvpm\\OneDrive - University College London\\PhD Project\\Data Analytics\\Time Series Clustering\\Third Test\\Time-Series-PhD\\wandb\\run-20230207_163352-ed12hls7\\files\\model-best\\assets\n",
      "\u001b[34m\u001b[1mwandb\u001b[0m: Adding directory to artifact (C:\\Users\\ucesvpm\\OneDrive - University College London\\PhD Project\\Data Analytics\\Time Series Clustering\\Third Test\\Time-Series-PhD\\wandb\\run-20230207_163352-ed12hls7\\files\\model-best)... Done. 0.0s\n"
     ]
    },
    {
     "name": "stdout",
     "output_type": "stream",
     "text": [
      "682/682 [==============================] - 8s 12ms/step - loss: 0.5223 - mse: 0.5223 - val_loss: 0.5282 - val_mse: 0.5282 - lr: 6.4292e-05\n",
      "Epoch 68/100\n",
      "678/682 [============================>.] - ETA: 0s - loss: 0.5217 - mse: 0.5217"
     ]
    },
    {
     "name": "stderr",
     "output_type": "stream",
     "text": [
      "WARNING:absl:Found untraced functions such as activation_layer_call_fn, activation_layer_call_and_return_conditional_losses, activation_1_layer_call_fn, activation_1_layer_call_and_return_conditional_losses, activation_2_layer_call_fn while saving (showing 5 of 16). These functions will not be directly callable after loading.\n"
     ]
    },
    {
     "name": "stdout",
     "output_type": "stream",
     "text": [
      "INFO:tensorflow:Assets written to: C:\\Users\\ucesvpm\\OneDrive - University College London\\PhD Project\\Data Analytics\\Time Series Clustering\\Third Test\\Time-Series-PhD\\wandb\\run-20230207_163352-ed12hls7\\files\\model-best\\assets\n"
     ]
    },
    {
     "name": "stderr",
     "output_type": "stream",
     "text": [
      "INFO:tensorflow:Assets written to: C:\\Users\\ucesvpm\\OneDrive - University College London\\PhD Project\\Data Analytics\\Time Series Clustering\\Third Test\\Time-Series-PhD\\wandb\\run-20230207_163352-ed12hls7\\files\\model-best\\assets\n",
      "\u001b[34m\u001b[1mwandb\u001b[0m: Adding directory to artifact (C:\\Users\\ucesvpm\\OneDrive - University College London\\PhD Project\\Data Analytics\\Time Series Clustering\\Third Test\\Time-Series-PhD\\wandb\\run-20230207_163352-ed12hls7\\files\\model-best)... Done. 0.0s\n"
     ]
    },
    {
     "name": "stdout",
     "output_type": "stream",
     "text": [
      "682/682 [==============================] - 8s 11ms/step - loss: 0.5218 - mse: 0.5218 - val_loss: 0.5277 - val_mse: 0.5277 - lr: 6.4292e-05\n",
      "Epoch 69/100\n",
      "678/682 [============================>.] - ETA: 0s - loss: 0.5212 - mse: 0.5212"
     ]
    },
    {
     "name": "stderr",
     "output_type": "stream",
     "text": [
      "WARNING:absl:Found untraced functions such as activation_layer_call_fn, activation_layer_call_and_return_conditional_losses, activation_1_layer_call_fn, activation_1_layer_call_and_return_conditional_losses, activation_2_layer_call_fn while saving (showing 5 of 16). These functions will not be directly callable after loading.\n"
     ]
    },
    {
     "name": "stdout",
     "output_type": "stream",
     "text": [
      "INFO:tensorflow:Assets written to: C:\\Users\\ucesvpm\\OneDrive - University College London\\PhD Project\\Data Analytics\\Time Series Clustering\\Third Test\\Time-Series-PhD\\wandb\\run-20230207_163352-ed12hls7\\files\\model-best\\assets\n"
     ]
    },
    {
     "name": "stderr",
     "output_type": "stream",
     "text": [
      "INFO:tensorflow:Assets written to: C:\\Users\\ucesvpm\\OneDrive - University College London\\PhD Project\\Data Analytics\\Time Series Clustering\\Third Test\\Time-Series-PhD\\wandb\\run-20230207_163352-ed12hls7\\files\\model-best\\assets\n",
      "\u001b[34m\u001b[1mwandb\u001b[0m: Adding directory to artifact (C:\\Users\\ucesvpm\\OneDrive - University College London\\PhD Project\\Data Analytics\\Time Series Clustering\\Third Test\\Time-Series-PhD\\wandb\\run-20230207_163352-ed12hls7\\files\\model-best)... Done. 0.0s\n"
     ]
    },
    {
     "name": "stdout",
     "output_type": "stream",
     "text": [
      "682/682 [==============================] - 8s 11ms/step - loss: 0.5213 - mse: 0.5213 - val_loss: 0.5272 - val_mse: 0.5272 - lr: 6.4292e-05\n",
      "Epoch 70/100\n",
      "679/682 [============================>.] - ETA: 0s - loss: 0.5207 - mse: 0.5207"
     ]
    },
    {
     "name": "stderr",
     "output_type": "stream",
     "text": [
      "WARNING:absl:Found untraced functions such as activation_layer_call_fn, activation_layer_call_and_return_conditional_losses, activation_1_layer_call_fn, activation_1_layer_call_and_return_conditional_losses, activation_2_layer_call_fn while saving (showing 5 of 16). These functions will not be directly callable after loading.\n"
     ]
    },
    {
     "name": "stdout",
     "output_type": "stream",
     "text": [
      "INFO:tensorflow:Assets written to: C:\\Users\\ucesvpm\\OneDrive - University College London\\PhD Project\\Data Analytics\\Time Series Clustering\\Third Test\\Time-Series-PhD\\wandb\\run-20230207_163352-ed12hls7\\files\\model-best\\assets\n"
     ]
    },
    {
     "name": "stderr",
     "output_type": "stream",
     "text": [
      "INFO:tensorflow:Assets written to: C:\\Users\\ucesvpm\\OneDrive - University College London\\PhD Project\\Data Analytics\\Time Series Clustering\\Third Test\\Time-Series-PhD\\wandb\\run-20230207_163352-ed12hls7\\files\\model-best\\assets\n",
      "\u001b[34m\u001b[1mwandb\u001b[0m: Adding directory to artifact (C:\\Users\\ucesvpm\\OneDrive - University College London\\PhD Project\\Data Analytics\\Time Series Clustering\\Third Test\\Time-Series-PhD\\wandb\\run-20230207_163352-ed12hls7\\files\\model-best)... Done. 0.0s\n"
     ]
    },
    {
     "name": "stdout",
     "output_type": "stream",
     "text": [
      "682/682 [==============================] - 8s 11ms/step - loss: 0.5208 - mse: 0.5208 - val_loss: 0.5267 - val_mse: 0.5267 - lr: 6.4292e-05\n",
      "Epoch 71/100\n",
      "678/682 [============================>.] - ETA: 0s - loss: 0.5204 - mse: 0.5204"
     ]
    },
    {
     "name": "stderr",
     "output_type": "stream",
     "text": [
      "WARNING:absl:Found untraced functions such as activation_layer_call_fn, activation_layer_call_and_return_conditional_losses, activation_1_layer_call_fn, activation_1_layer_call_and_return_conditional_losses, activation_2_layer_call_fn while saving (showing 5 of 16). These functions will not be directly callable after loading.\n"
     ]
    },
    {
     "name": "stdout",
     "output_type": "stream",
     "text": [
      "INFO:tensorflow:Assets written to: C:\\Users\\ucesvpm\\OneDrive - University College London\\PhD Project\\Data Analytics\\Time Series Clustering\\Third Test\\Time-Series-PhD\\wandb\\run-20230207_163352-ed12hls7\\files\\model-best\\assets\n"
     ]
    },
    {
     "name": "stderr",
     "output_type": "stream",
     "text": [
      "INFO:tensorflow:Assets written to: C:\\Users\\ucesvpm\\OneDrive - University College London\\PhD Project\\Data Analytics\\Time Series Clustering\\Third Test\\Time-Series-PhD\\wandb\\run-20230207_163352-ed12hls7\\files\\model-best\\assets\n",
      "\u001b[34m\u001b[1mwandb\u001b[0m: Adding directory to artifact (C:\\Users\\ucesvpm\\OneDrive - University College London\\PhD Project\\Data Analytics\\Time Series Clustering\\Third Test\\Time-Series-PhD\\wandb\\run-20230207_163352-ed12hls7\\files\\model-best)... Done. 0.0s\n"
     ]
    },
    {
     "name": "stdout",
     "output_type": "stream",
     "text": [
      "682/682 [==============================] - 8s 12ms/step - loss: 0.5203 - mse: 0.5203 - val_loss: 0.5262 - val_mse: 0.5262 - lr: 6.4292e-05\n",
      "Epoch 72/100\n",
      "681/682 [============================>.] - ETA: 0s - loss: 0.5198 - mse: 0.5198"
     ]
    },
    {
     "name": "stderr",
     "output_type": "stream",
     "text": [
      "WARNING:absl:Found untraced functions such as activation_layer_call_fn, activation_layer_call_and_return_conditional_losses, activation_1_layer_call_fn, activation_1_layer_call_and_return_conditional_losses, activation_2_layer_call_fn while saving (showing 5 of 16). These functions will not be directly callable after loading.\n"
     ]
    },
    {
     "name": "stdout",
     "output_type": "stream",
     "text": [
      "INFO:tensorflow:Assets written to: C:\\Users\\ucesvpm\\OneDrive - University College London\\PhD Project\\Data Analytics\\Time Series Clustering\\Third Test\\Time-Series-PhD\\wandb\\run-20230207_163352-ed12hls7\\files\\model-best\\assets\n"
     ]
    },
    {
     "name": "stderr",
     "output_type": "stream",
     "text": [
      "INFO:tensorflow:Assets written to: C:\\Users\\ucesvpm\\OneDrive - University College London\\PhD Project\\Data Analytics\\Time Series Clustering\\Third Test\\Time-Series-PhD\\wandb\\run-20230207_163352-ed12hls7\\files\\model-best\\assets\n",
      "\u001b[34m\u001b[1mwandb\u001b[0m: Adding directory to artifact (C:\\Users\\ucesvpm\\OneDrive - University College London\\PhD Project\\Data Analytics\\Time Series Clustering\\Third Test\\Time-Series-PhD\\wandb\\run-20230207_163352-ed12hls7\\files\\model-best)... Done. 0.0s\n"
     ]
    },
    {
     "name": "stdout",
     "output_type": "stream",
     "text": [
      "682/682 [==============================] - 8s 11ms/step - loss: 0.5198 - mse: 0.5198 - val_loss: 0.5257 - val_mse: 0.5257 - lr: 6.4292e-05\n",
      "Epoch 73/100\n",
      "681/682 [============================>.] - ETA: 0s - loss: 0.5193 - mse: 0.5193"
     ]
    },
    {
     "name": "stderr",
     "output_type": "stream",
     "text": [
      "WARNING:absl:Found untraced functions such as activation_layer_call_fn, activation_layer_call_and_return_conditional_losses, activation_1_layer_call_fn, activation_1_layer_call_and_return_conditional_losses, activation_2_layer_call_fn while saving (showing 5 of 16). These functions will not be directly callable after loading.\n"
     ]
    },
    {
     "name": "stdout",
     "output_type": "stream",
     "text": [
      "INFO:tensorflow:Assets written to: C:\\Users\\ucesvpm\\OneDrive - University College London\\PhD Project\\Data Analytics\\Time Series Clustering\\Third Test\\Time-Series-PhD\\wandb\\run-20230207_163352-ed12hls7\\files\\model-best\\assets\n"
     ]
    },
    {
     "name": "stderr",
     "output_type": "stream",
     "text": [
      "INFO:tensorflow:Assets written to: C:\\Users\\ucesvpm\\OneDrive - University College London\\PhD Project\\Data Analytics\\Time Series Clustering\\Third Test\\Time-Series-PhD\\wandb\\run-20230207_163352-ed12hls7\\files\\model-best\\assets\n",
      "\u001b[34m\u001b[1mwandb\u001b[0m: Adding directory to artifact (C:\\Users\\ucesvpm\\OneDrive - University College London\\PhD Project\\Data Analytics\\Time Series Clustering\\Third Test\\Time-Series-PhD\\wandb\\run-20230207_163352-ed12hls7\\files\\model-best)... Done. 0.0s\n"
     ]
    },
    {
     "name": "stdout",
     "output_type": "stream",
     "text": [
      "682/682 [==============================] - 7s 11ms/step - loss: 0.5193 - mse: 0.5193 - val_loss: 0.5253 - val_mse: 0.5253 - lr: 6.4292e-05\n",
      "Epoch 74/100\n",
      "676/682 [============================>.] - ETA: 0s - loss: 0.5189 - mse: 0.5189"
     ]
    },
    {
     "name": "stderr",
     "output_type": "stream",
     "text": [
      "WARNING:absl:Found untraced functions such as activation_layer_call_fn, activation_layer_call_and_return_conditional_losses, activation_1_layer_call_fn, activation_1_layer_call_and_return_conditional_losses, activation_2_layer_call_fn while saving (showing 5 of 16). These functions will not be directly callable after loading.\n"
     ]
    },
    {
     "name": "stdout",
     "output_type": "stream",
     "text": [
      "INFO:tensorflow:Assets written to: C:\\Users\\ucesvpm\\OneDrive - University College London\\PhD Project\\Data Analytics\\Time Series Clustering\\Third Test\\Time-Series-PhD\\wandb\\run-20230207_163352-ed12hls7\\files\\model-best\\assets\n"
     ]
    },
    {
     "name": "stderr",
     "output_type": "stream",
     "text": [
      "INFO:tensorflow:Assets written to: C:\\Users\\ucesvpm\\OneDrive - University College London\\PhD Project\\Data Analytics\\Time Series Clustering\\Third Test\\Time-Series-PhD\\wandb\\run-20230207_163352-ed12hls7\\files\\model-best\\assets\n",
      "\u001b[34m\u001b[1mwandb\u001b[0m: Adding directory to artifact (C:\\Users\\ucesvpm\\OneDrive - University College London\\PhD Project\\Data Analytics\\Time Series Clustering\\Third Test\\Time-Series-PhD\\wandb\\run-20230207_163352-ed12hls7\\files\\model-best)... Done. 0.0s\n"
     ]
    },
    {
     "name": "stdout",
     "output_type": "stream",
     "text": [
      "682/682 [==============================] - 8s 12ms/step - loss: 0.5189 - mse: 0.5189 - val_loss: 0.5248 - val_mse: 0.5248 - lr: 6.4292e-05\n",
      "Epoch 75/100\n",
      "676/682 [============================>.] - ETA: 0s - loss: 0.5183 - mse: 0.5183"
     ]
    },
    {
     "name": "stderr",
     "output_type": "stream",
     "text": [
      "WARNING:absl:Found untraced functions such as activation_layer_call_fn, activation_layer_call_and_return_conditional_losses, activation_1_layer_call_fn, activation_1_layer_call_and_return_conditional_losses, activation_2_layer_call_fn while saving (showing 5 of 16). These functions will not be directly callable after loading.\n"
     ]
    },
    {
     "name": "stdout",
     "output_type": "stream",
     "text": [
      "INFO:tensorflow:Assets written to: C:\\Users\\ucesvpm\\OneDrive - University College London\\PhD Project\\Data Analytics\\Time Series Clustering\\Third Test\\Time-Series-PhD\\wandb\\run-20230207_163352-ed12hls7\\files\\model-best\\assets\n"
     ]
    },
    {
     "name": "stderr",
     "output_type": "stream",
     "text": [
      "INFO:tensorflow:Assets written to: C:\\Users\\ucesvpm\\OneDrive - University College London\\PhD Project\\Data Analytics\\Time Series Clustering\\Third Test\\Time-Series-PhD\\wandb\\run-20230207_163352-ed12hls7\\files\\model-best\\assets\n",
      "\u001b[34m\u001b[1mwandb\u001b[0m: Adding directory to artifact (C:\\Users\\ucesvpm\\OneDrive - University College London\\PhD Project\\Data Analytics\\Time Series Clustering\\Third Test\\Time-Series-PhD\\wandb\\run-20230207_163352-ed12hls7\\files\\model-best)... Done. 0.0s\n"
     ]
    },
    {
     "name": "stdout",
     "output_type": "stream",
     "text": [
      "682/682 [==============================] - 8s 11ms/step - loss: 0.5184 - mse: 0.5184 - val_loss: 0.5244 - val_mse: 0.5244 - lr: 6.4292e-05\n",
      "Epoch 76/100\n",
      "682/682 [==============================] - ETA: 0s - loss: 0.5179 - mse: 0.5179"
     ]
    },
    {
     "name": "stderr",
     "output_type": "stream",
     "text": [
      "WARNING:absl:Found untraced functions such as activation_layer_call_fn, activation_layer_call_and_return_conditional_losses, activation_1_layer_call_fn, activation_1_layer_call_and_return_conditional_losses, activation_2_layer_call_fn while saving (showing 5 of 16). These functions will not be directly callable after loading.\n"
     ]
    },
    {
     "name": "stdout",
     "output_type": "stream",
     "text": [
      "INFO:tensorflow:Assets written to: C:\\Users\\ucesvpm\\OneDrive - University College London\\PhD Project\\Data Analytics\\Time Series Clustering\\Third Test\\Time-Series-PhD\\wandb\\run-20230207_163352-ed12hls7\\files\\model-best\\assets\n"
     ]
    },
    {
     "name": "stderr",
     "output_type": "stream",
     "text": [
      "INFO:tensorflow:Assets written to: C:\\Users\\ucesvpm\\OneDrive - University College London\\PhD Project\\Data Analytics\\Time Series Clustering\\Third Test\\Time-Series-PhD\\wandb\\run-20230207_163352-ed12hls7\\files\\model-best\\assets\n",
      "\u001b[34m\u001b[1mwandb\u001b[0m: Adding directory to artifact (C:\\Users\\ucesvpm\\OneDrive - University College London\\PhD Project\\Data Analytics\\Time Series Clustering\\Third Test\\Time-Series-PhD\\wandb\\run-20230207_163352-ed12hls7\\files\\model-best)... Done. 0.0s\n"
     ]
    },
    {
     "name": "stdout",
     "output_type": "stream",
     "text": [
      "682/682 [==============================] - 8s 11ms/step - loss: 0.5179 - mse: 0.5179 - val_loss: 0.5239 - val_mse: 0.5239 - lr: 6.4292e-05\n",
      "Epoch 77/100\n",
      "676/682 [============================>.] - ETA: 0s - loss: 0.5175 - mse: 0.5175"
     ]
    },
    {
     "name": "stderr",
     "output_type": "stream",
     "text": [
      "WARNING:absl:Found untraced functions such as activation_layer_call_fn, activation_layer_call_and_return_conditional_losses, activation_1_layer_call_fn, activation_1_layer_call_and_return_conditional_losses, activation_2_layer_call_fn while saving (showing 5 of 16). These functions will not be directly callable after loading.\n"
     ]
    },
    {
     "name": "stdout",
     "output_type": "stream",
     "text": [
      "INFO:tensorflow:Assets written to: C:\\Users\\ucesvpm\\OneDrive - University College London\\PhD Project\\Data Analytics\\Time Series Clustering\\Third Test\\Time-Series-PhD\\wandb\\run-20230207_163352-ed12hls7\\files\\model-best\\assets\n"
     ]
    },
    {
     "name": "stderr",
     "output_type": "stream",
     "text": [
      "INFO:tensorflow:Assets written to: C:\\Users\\ucesvpm\\OneDrive - University College London\\PhD Project\\Data Analytics\\Time Series Clustering\\Third Test\\Time-Series-PhD\\wandb\\run-20230207_163352-ed12hls7\\files\\model-best\\assets\n",
      "\u001b[34m\u001b[1mwandb\u001b[0m: Adding directory to artifact (C:\\Users\\ucesvpm\\OneDrive - University College London\\PhD Project\\Data Analytics\\Time Series Clustering\\Third Test\\Time-Series-PhD\\wandb\\run-20230207_163352-ed12hls7\\files\\model-best)... Done. 0.0s\n"
     ]
    },
    {
     "name": "stdout",
     "output_type": "stream",
     "text": [
      "682/682 [==============================] - 8s 11ms/step - loss: 0.5175 - mse: 0.5175 - val_loss: 0.5235 - val_mse: 0.5235 - lr: 6.4292e-05\n",
      "Epoch 78/100\n",
      "675/682 [============================>.] - ETA: 0s - loss: 0.5172 - mse: 0.5172"
     ]
    },
    {
     "name": "stderr",
     "output_type": "stream",
     "text": [
      "WARNING:absl:Found untraced functions such as activation_layer_call_fn, activation_layer_call_and_return_conditional_losses, activation_1_layer_call_fn, activation_1_layer_call_and_return_conditional_losses, activation_2_layer_call_fn while saving (showing 5 of 16). These functions will not be directly callable after loading.\n"
     ]
    },
    {
     "name": "stdout",
     "output_type": "stream",
     "text": [
      "INFO:tensorflow:Assets written to: C:\\Users\\ucesvpm\\OneDrive - University College London\\PhD Project\\Data Analytics\\Time Series Clustering\\Third Test\\Time-Series-PhD\\wandb\\run-20230207_163352-ed12hls7\\files\\model-best\\assets\n"
     ]
    },
    {
     "name": "stderr",
     "output_type": "stream",
     "text": [
      "INFO:tensorflow:Assets written to: C:\\Users\\ucesvpm\\OneDrive - University College London\\PhD Project\\Data Analytics\\Time Series Clustering\\Third Test\\Time-Series-PhD\\wandb\\run-20230207_163352-ed12hls7\\files\\model-best\\assets\n",
      "\u001b[34m\u001b[1mwandb\u001b[0m: Adding directory to artifact (C:\\Users\\ucesvpm\\OneDrive - University College London\\PhD Project\\Data Analytics\\Time Series Clustering\\Third Test\\Time-Series-PhD\\wandb\\run-20230207_163352-ed12hls7\\files\\model-best)... Done. 0.0s\n"
     ]
    },
    {
     "name": "stdout",
     "output_type": "stream",
     "text": [
      "682/682 [==============================] - 8s 11ms/step - loss: 0.5171 - mse: 0.5171 - val_loss: 0.5231 - val_mse: 0.5231 - lr: 6.4292e-05\n",
      "Epoch 79/100\n",
      "674/682 [============================>.] - ETA: 0s - loss: 0.5168 - mse: 0.5168"
     ]
    },
    {
     "name": "stderr",
     "output_type": "stream",
     "text": [
      "WARNING:absl:Found untraced functions such as activation_layer_call_fn, activation_layer_call_and_return_conditional_losses, activation_1_layer_call_fn, activation_1_layer_call_and_return_conditional_losses, activation_2_layer_call_fn while saving (showing 5 of 16). These functions will not be directly callable after loading.\n"
     ]
    },
    {
     "name": "stdout",
     "output_type": "stream",
     "text": [
      "INFO:tensorflow:Assets written to: C:\\Users\\ucesvpm\\OneDrive - University College London\\PhD Project\\Data Analytics\\Time Series Clustering\\Third Test\\Time-Series-PhD\\wandb\\run-20230207_163352-ed12hls7\\files\\model-best\\assets\n"
     ]
    },
    {
     "name": "stderr",
     "output_type": "stream",
     "text": [
      "INFO:tensorflow:Assets written to: C:\\Users\\ucesvpm\\OneDrive - University College London\\PhD Project\\Data Analytics\\Time Series Clustering\\Third Test\\Time-Series-PhD\\wandb\\run-20230207_163352-ed12hls7\\files\\model-best\\assets\n",
      "\u001b[34m\u001b[1mwandb\u001b[0m: Adding directory to artifact (C:\\Users\\ucesvpm\\OneDrive - University College London\\PhD Project\\Data Analytics\\Time Series Clustering\\Third Test\\Time-Series-PhD\\wandb\\run-20230207_163352-ed12hls7\\files\\model-best)... Done. 0.0s\n"
     ]
    },
    {
     "name": "stdout",
     "output_type": "stream",
     "text": [
      "682/682 [==============================] - 8s 11ms/step - loss: 0.5166 - mse: 0.5166 - val_loss: 0.5227 - val_mse: 0.5227 - lr: 6.4292e-05\n",
      "Epoch 80/100\n",
      "673/682 [============================>.] - ETA: 0s - loss: 0.5163 - mse: 0.5163"
     ]
    },
    {
     "name": "stderr",
     "output_type": "stream",
     "text": [
      "WARNING:absl:Found untraced functions such as activation_layer_call_fn, activation_layer_call_and_return_conditional_losses, activation_1_layer_call_fn, activation_1_layer_call_and_return_conditional_losses, activation_2_layer_call_fn while saving (showing 5 of 16). These functions will not be directly callable after loading.\n"
     ]
    },
    {
     "name": "stdout",
     "output_type": "stream",
     "text": [
      "INFO:tensorflow:Assets written to: C:\\Users\\ucesvpm\\OneDrive - University College London\\PhD Project\\Data Analytics\\Time Series Clustering\\Third Test\\Time-Series-PhD\\wandb\\run-20230207_163352-ed12hls7\\files\\model-best\\assets\n"
     ]
    },
    {
     "name": "stderr",
     "output_type": "stream",
     "text": [
      "INFO:tensorflow:Assets written to: C:\\Users\\ucesvpm\\OneDrive - University College London\\PhD Project\\Data Analytics\\Time Series Clustering\\Third Test\\Time-Series-PhD\\wandb\\run-20230207_163352-ed12hls7\\files\\model-best\\assets\n",
      "\u001b[34m\u001b[1mwandb\u001b[0m: Adding directory to artifact (C:\\Users\\ucesvpm\\OneDrive - University College London\\PhD Project\\Data Analytics\\Time Series Clustering\\Third Test\\Time-Series-PhD\\wandb\\run-20230207_163352-ed12hls7\\files\\model-best)... Done. 0.0s\n"
     ]
    },
    {
     "name": "stdout",
     "output_type": "stream",
     "text": [
      "682/682 [==============================] - 7s 10ms/step - loss: 0.5162 - mse: 0.5162 - val_loss: 0.5223 - val_mse: 0.5223 - lr: 6.4292e-05\n",
      "Epoch 81/100\n",
      "677/682 [============================>.] - ETA: 0s - loss: 0.5157 - mse: 0.5157"
     ]
    },
    {
     "name": "stderr",
     "output_type": "stream",
     "text": [
      "WARNING:absl:Found untraced functions such as activation_layer_call_fn, activation_layer_call_and_return_conditional_losses, activation_1_layer_call_fn, activation_1_layer_call_and_return_conditional_losses, activation_2_layer_call_fn while saving (showing 5 of 16). These functions will not be directly callable after loading.\n"
     ]
    },
    {
     "name": "stdout",
     "output_type": "stream",
     "text": [
      "INFO:tensorflow:Assets written to: C:\\Users\\ucesvpm\\OneDrive - University College London\\PhD Project\\Data Analytics\\Time Series Clustering\\Third Test\\Time-Series-PhD\\wandb\\run-20230207_163352-ed12hls7\\files\\model-best\\assets\n"
     ]
    },
    {
     "name": "stderr",
     "output_type": "stream",
     "text": [
      "INFO:tensorflow:Assets written to: C:\\Users\\ucesvpm\\OneDrive - University College London\\PhD Project\\Data Analytics\\Time Series Clustering\\Third Test\\Time-Series-PhD\\wandb\\run-20230207_163352-ed12hls7\\files\\model-best\\assets\n",
      "\u001b[34m\u001b[1mwandb\u001b[0m: Adding directory to artifact (C:\\Users\\ucesvpm\\OneDrive - University College London\\PhD Project\\Data Analytics\\Time Series Clustering\\Third Test\\Time-Series-PhD\\wandb\\run-20230207_163352-ed12hls7\\files\\model-best)... Done. 0.0s\n"
     ]
    },
    {
     "name": "stdout",
     "output_type": "stream",
     "text": [
      "682/682 [==============================] - 8s 11ms/step - loss: 0.5158 - mse: 0.5158 - val_loss: 0.5218 - val_mse: 0.5218 - lr: 6.4292e-05\n",
      "Epoch 82/100\n",
      "682/682 [==============================] - ETA: 0s - loss: 0.5154 - mse: 0.5154"
     ]
    },
    {
     "name": "stderr",
     "output_type": "stream",
     "text": [
      "WARNING:absl:Found untraced functions such as activation_layer_call_fn, activation_layer_call_and_return_conditional_losses, activation_1_layer_call_fn, activation_1_layer_call_and_return_conditional_losses, activation_2_layer_call_fn while saving (showing 5 of 16). These functions will not be directly callable after loading.\n"
     ]
    },
    {
     "name": "stdout",
     "output_type": "stream",
     "text": [
      "INFO:tensorflow:Assets written to: C:\\Users\\ucesvpm\\OneDrive - University College London\\PhD Project\\Data Analytics\\Time Series Clustering\\Third Test\\Time-Series-PhD\\wandb\\run-20230207_163352-ed12hls7\\files\\model-best\\assets\n"
     ]
    },
    {
     "name": "stderr",
     "output_type": "stream",
     "text": [
      "INFO:tensorflow:Assets written to: C:\\Users\\ucesvpm\\OneDrive - University College London\\PhD Project\\Data Analytics\\Time Series Clustering\\Third Test\\Time-Series-PhD\\wandb\\run-20230207_163352-ed12hls7\\files\\model-best\\assets\n",
      "\u001b[34m\u001b[1mwandb\u001b[0m: Adding directory to artifact (C:\\Users\\ucesvpm\\OneDrive - University College London\\PhD Project\\Data Analytics\\Time Series Clustering\\Third Test\\Time-Series-PhD\\wandb\\run-20230207_163352-ed12hls7\\files\\model-best)... Done. 0.0s\n"
     ]
    },
    {
     "name": "stdout",
     "output_type": "stream",
     "text": [
      "682/682 [==============================] - 7s 11ms/step - loss: 0.5154 - mse: 0.5154 - val_loss: 0.5215 - val_mse: 0.5215 - lr: 6.4292e-05\n",
      "Epoch 83/100\n",
      "676/682 [============================>.] - ETA: 0s - loss: 0.5151 - mse: 0.5151"
     ]
    },
    {
     "name": "stderr",
     "output_type": "stream",
     "text": [
      "WARNING:absl:Found untraced functions such as activation_layer_call_fn, activation_layer_call_and_return_conditional_losses, activation_1_layer_call_fn, activation_1_layer_call_and_return_conditional_losses, activation_2_layer_call_fn while saving (showing 5 of 16). These functions will not be directly callable after loading.\n"
     ]
    },
    {
     "name": "stdout",
     "output_type": "stream",
     "text": [
      "INFO:tensorflow:Assets written to: C:\\Users\\ucesvpm\\OneDrive - University College London\\PhD Project\\Data Analytics\\Time Series Clustering\\Third Test\\Time-Series-PhD\\wandb\\run-20230207_163352-ed12hls7\\files\\model-best\\assets\n"
     ]
    },
    {
     "name": "stderr",
     "output_type": "stream",
     "text": [
      "INFO:tensorflow:Assets written to: C:\\Users\\ucesvpm\\OneDrive - University College London\\PhD Project\\Data Analytics\\Time Series Clustering\\Third Test\\Time-Series-PhD\\wandb\\run-20230207_163352-ed12hls7\\files\\model-best\\assets\n",
      "\u001b[34m\u001b[1mwandb\u001b[0m: Adding directory to artifact (C:\\Users\\ucesvpm\\OneDrive - University College London\\PhD Project\\Data Analytics\\Time Series Clustering\\Third Test\\Time-Series-PhD\\wandb\\run-20230207_163352-ed12hls7\\files\\model-best)... Done. 0.0s\n"
     ]
    },
    {
     "name": "stdout",
     "output_type": "stream",
     "text": [
      "682/682 [==============================] - 8s 12ms/step - loss: 0.5150 - mse: 0.5150 - val_loss: 0.5211 - val_mse: 0.5211 - lr: 6.4292e-05\n",
      "Epoch 84/100\n",
      "674/682 [============================>.] - ETA: 0s - loss: 0.5145 - mse: 0.5145"
     ]
    },
    {
     "name": "stderr",
     "output_type": "stream",
     "text": [
      "WARNING:absl:Found untraced functions such as activation_layer_call_fn, activation_layer_call_and_return_conditional_losses, activation_1_layer_call_fn, activation_1_layer_call_and_return_conditional_losses, activation_2_layer_call_fn while saving (showing 5 of 16). These functions will not be directly callable after loading.\n"
     ]
    },
    {
     "name": "stdout",
     "output_type": "stream",
     "text": [
      "INFO:tensorflow:Assets written to: C:\\Users\\ucesvpm\\OneDrive - University College London\\PhD Project\\Data Analytics\\Time Series Clustering\\Third Test\\Time-Series-PhD\\wandb\\run-20230207_163352-ed12hls7\\files\\model-best\\assets\n"
     ]
    },
    {
     "name": "stderr",
     "output_type": "stream",
     "text": [
      "INFO:tensorflow:Assets written to: C:\\Users\\ucesvpm\\OneDrive - University College London\\PhD Project\\Data Analytics\\Time Series Clustering\\Third Test\\Time-Series-PhD\\wandb\\run-20230207_163352-ed12hls7\\files\\model-best\\assets\n",
      "\u001b[34m\u001b[1mwandb\u001b[0m: Adding directory to artifact (C:\\Users\\ucesvpm\\OneDrive - University College London\\PhD Project\\Data Analytics\\Time Series Clustering\\Third Test\\Time-Series-PhD\\wandb\\run-20230207_163352-ed12hls7\\files\\model-best)... Done. 0.0s\n"
     ]
    },
    {
     "name": "stdout",
     "output_type": "stream",
     "text": [
      "682/682 [==============================] - 8s 12ms/step - loss: 0.5146 - mse: 0.5146 - val_loss: 0.5207 - val_mse: 0.5207 - lr: 6.4292e-05\n",
      "Epoch 85/100\n",
      "676/682 [============================>.] - ETA: 0s - loss: 0.5141 - mse: 0.5141"
     ]
    },
    {
     "name": "stderr",
     "output_type": "stream",
     "text": [
      "WARNING:absl:Found untraced functions such as activation_layer_call_fn, activation_layer_call_and_return_conditional_losses, activation_1_layer_call_fn, activation_1_layer_call_and_return_conditional_losses, activation_2_layer_call_fn while saving (showing 5 of 16). These functions will not be directly callable after loading.\n"
     ]
    },
    {
     "name": "stdout",
     "output_type": "stream",
     "text": [
      "INFO:tensorflow:Assets written to: C:\\Users\\ucesvpm\\OneDrive - University College London\\PhD Project\\Data Analytics\\Time Series Clustering\\Third Test\\Time-Series-PhD\\wandb\\run-20230207_163352-ed12hls7\\files\\model-best\\assets\n"
     ]
    },
    {
     "name": "stderr",
     "output_type": "stream",
     "text": [
      "INFO:tensorflow:Assets written to: C:\\Users\\ucesvpm\\OneDrive - University College London\\PhD Project\\Data Analytics\\Time Series Clustering\\Third Test\\Time-Series-PhD\\wandb\\run-20230207_163352-ed12hls7\\files\\model-best\\assets\n",
      "\u001b[34m\u001b[1mwandb\u001b[0m: Adding directory to artifact (C:\\Users\\ucesvpm\\OneDrive - University College London\\PhD Project\\Data Analytics\\Time Series Clustering\\Third Test\\Time-Series-PhD\\wandb\\run-20230207_163352-ed12hls7\\files\\model-best)... Done. 0.0s\n"
     ]
    },
    {
     "name": "stdout",
     "output_type": "stream",
     "text": [
      "682/682 [==============================] - 8s 11ms/step - loss: 0.5142 - mse: 0.5142 - val_loss: 0.5203 - val_mse: 0.5203 - lr: 6.4292e-05\n",
      "Epoch 86/100\n",
      "679/682 [============================>.] - ETA: 0s - loss: 0.5138 - mse: 0.5138"
     ]
    },
    {
     "name": "stderr",
     "output_type": "stream",
     "text": [
      "WARNING:absl:Found untraced functions such as activation_layer_call_fn, activation_layer_call_and_return_conditional_losses, activation_1_layer_call_fn, activation_1_layer_call_and_return_conditional_losses, activation_2_layer_call_fn while saving (showing 5 of 16). These functions will not be directly callable after loading.\n"
     ]
    },
    {
     "name": "stdout",
     "output_type": "stream",
     "text": [
      "INFO:tensorflow:Assets written to: C:\\Users\\ucesvpm\\OneDrive - University College London\\PhD Project\\Data Analytics\\Time Series Clustering\\Third Test\\Time-Series-PhD\\wandb\\run-20230207_163352-ed12hls7\\files\\model-best\\assets\n"
     ]
    },
    {
     "name": "stderr",
     "output_type": "stream",
     "text": [
      "INFO:tensorflow:Assets written to: C:\\Users\\ucesvpm\\OneDrive - University College London\\PhD Project\\Data Analytics\\Time Series Clustering\\Third Test\\Time-Series-PhD\\wandb\\run-20230207_163352-ed12hls7\\files\\model-best\\assets\n",
      "\u001b[34m\u001b[1mwandb\u001b[0m: Adding directory to artifact (C:\\Users\\ucesvpm\\OneDrive - University College London\\PhD Project\\Data Analytics\\Time Series Clustering\\Third Test\\Time-Series-PhD\\wandb\\run-20230207_163352-ed12hls7\\files\\model-best)... Done. 0.0s\n"
     ]
    },
    {
     "name": "stdout",
     "output_type": "stream",
     "text": [
      "682/682 [==============================] - 8s 12ms/step - loss: 0.5138 - mse: 0.5138 - val_loss: 0.5199 - val_mse: 0.5199 - lr: 6.4292e-05\n",
      "Epoch 87/100\n",
      "676/682 [============================>.] - ETA: 0s - loss: 0.5135 - mse: 0.5135"
     ]
    },
    {
     "name": "stderr",
     "output_type": "stream",
     "text": [
      "WARNING:absl:Found untraced functions such as activation_layer_call_fn, activation_layer_call_and_return_conditional_losses, activation_1_layer_call_fn, activation_1_layer_call_and_return_conditional_losses, activation_2_layer_call_fn while saving (showing 5 of 16). These functions will not be directly callable after loading.\n"
     ]
    },
    {
     "name": "stdout",
     "output_type": "stream",
     "text": [
      "INFO:tensorflow:Assets written to: C:\\Users\\ucesvpm\\OneDrive - University College London\\PhD Project\\Data Analytics\\Time Series Clustering\\Third Test\\Time-Series-PhD\\wandb\\run-20230207_163352-ed12hls7\\files\\model-best\\assets\n"
     ]
    },
    {
     "name": "stderr",
     "output_type": "stream",
     "text": [
      "INFO:tensorflow:Assets written to: C:\\Users\\ucesvpm\\OneDrive - University College London\\PhD Project\\Data Analytics\\Time Series Clustering\\Third Test\\Time-Series-PhD\\wandb\\run-20230207_163352-ed12hls7\\files\\model-best\\assets\n",
      "\u001b[34m\u001b[1mwandb\u001b[0m: Adding directory to artifact (C:\\Users\\ucesvpm\\OneDrive - University College London\\PhD Project\\Data Analytics\\Time Series Clustering\\Third Test\\Time-Series-PhD\\wandb\\run-20230207_163352-ed12hls7\\files\\model-best)... Done. 0.0s\n"
     ]
    },
    {
     "name": "stdout",
     "output_type": "stream",
     "text": [
      "682/682 [==============================] - 8s 11ms/step - loss: 0.5134 - mse: 0.5134 - val_loss: 0.5196 - val_mse: 0.5196 - lr: 6.4292e-05\n",
      "Epoch 88/100\n",
      "674/682 [============================>.] - ETA: 0s - loss: 0.5130 - mse: 0.5130"
     ]
    },
    {
     "name": "stderr",
     "output_type": "stream",
     "text": [
      "WARNING:absl:Found untraced functions such as activation_layer_call_fn, activation_layer_call_and_return_conditional_losses, activation_1_layer_call_fn, activation_1_layer_call_and_return_conditional_losses, activation_2_layer_call_fn while saving (showing 5 of 16). These functions will not be directly callable after loading.\n"
     ]
    },
    {
     "name": "stdout",
     "output_type": "stream",
     "text": [
      "INFO:tensorflow:Assets written to: C:\\Users\\ucesvpm\\OneDrive - University College London\\PhD Project\\Data Analytics\\Time Series Clustering\\Third Test\\Time-Series-PhD\\wandb\\run-20230207_163352-ed12hls7\\files\\model-best\\assets\n"
     ]
    },
    {
     "name": "stderr",
     "output_type": "stream",
     "text": [
      "INFO:tensorflow:Assets written to: C:\\Users\\ucesvpm\\OneDrive - University College London\\PhD Project\\Data Analytics\\Time Series Clustering\\Third Test\\Time-Series-PhD\\wandb\\run-20230207_163352-ed12hls7\\files\\model-best\\assets\n",
      "\u001b[34m\u001b[1mwandb\u001b[0m: Adding directory to artifact (C:\\Users\\ucesvpm\\OneDrive - University College London\\PhD Project\\Data Analytics\\Time Series Clustering\\Third Test\\Time-Series-PhD\\wandb\\run-20230207_163352-ed12hls7\\files\\model-best)... Done. 0.0s\n"
     ]
    },
    {
     "name": "stdout",
     "output_type": "stream",
     "text": [
      "682/682 [==============================] - 8s 12ms/step - loss: 0.5131 - mse: 0.5131 - val_loss: 0.5192 - val_mse: 0.5192 - lr: 6.4292e-05\n",
      "Epoch 89/100\n",
      "678/682 [============================>.] - ETA: 0s - loss: 0.5128 - mse: 0.5128"
     ]
    },
    {
     "name": "stderr",
     "output_type": "stream",
     "text": [
      "WARNING:absl:Found untraced functions such as activation_layer_call_fn, activation_layer_call_and_return_conditional_losses, activation_1_layer_call_fn, activation_1_layer_call_and_return_conditional_losses, activation_2_layer_call_fn while saving (showing 5 of 16). These functions will not be directly callable after loading.\n"
     ]
    },
    {
     "name": "stdout",
     "output_type": "stream",
     "text": [
      "INFO:tensorflow:Assets written to: C:\\Users\\ucesvpm\\OneDrive - University College London\\PhD Project\\Data Analytics\\Time Series Clustering\\Third Test\\Time-Series-PhD\\wandb\\run-20230207_163352-ed12hls7\\files\\model-best\\assets\n"
     ]
    },
    {
     "name": "stderr",
     "output_type": "stream",
     "text": [
      "INFO:tensorflow:Assets written to: C:\\Users\\ucesvpm\\OneDrive - University College London\\PhD Project\\Data Analytics\\Time Series Clustering\\Third Test\\Time-Series-PhD\\wandb\\run-20230207_163352-ed12hls7\\files\\model-best\\assets\n",
      "\u001b[34m\u001b[1mwandb\u001b[0m: Adding directory to artifact (C:\\Users\\ucesvpm\\OneDrive - University College London\\PhD Project\\Data Analytics\\Time Series Clustering\\Third Test\\Time-Series-PhD\\wandb\\run-20230207_163352-ed12hls7\\files\\model-best)... Done. 0.0s\n"
     ]
    },
    {
     "name": "stdout",
     "output_type": "stream",
     "text": [
      "682/682 [==============================] - 8s 11ms/step - loss: 0.5127 - mse: 0.5127 - val_loss: 0.5189 - val_mse: 0.5189 - lr: 6.4292e-05\n",
      "Epoch 90/100\n",
      "674/682 [============================>.] - ETA: 0s - loss: 0.5123 - mse: 0.5123"
     ]
    },
    {
     "name": "stderr",
     "output_type": "stream",
     "text": [
      "WARNING:absl:Found untraced functions such as activation_layer_call_fn, activation_layer_call_and_return_conditional_losses, activation_1_layer_call_fn, activation_1_layer_call_and_return_conditional_losses, activation_2_layer_call_fn while saving (showing 5 of 16). These functions will not be directly callable after loading.\n"
     ]
    },
    {
     "name": "stdout",
     "output_type": "stream",
     "text": [
      "INFO:tensorflow:Assets written to: C:\\Users\\ucesvpm\\OneDrive - University College London\\PhD Project\\Data Analytics\\Time Series Clustering\\Third Test\\Time-Series-PhD\\wandb\\run-20230207_163352-ed12hls7\\files\\model-best\\assets\n"
     ]
    },
    {
     "name": "stderr",
     "output_type": "stream",
     "text": [
      "INFO:tensorflow:Assets written to: C:\\Users\\ucesvpm\\OneDrive - University College London\\PhD Project\\Data Analytics\\Time Series Clustering\\Third Test\\Time-Series-PhD\\wandb\\run-20230207_163352-ed12hls7\\files\\model-best\\assets\n",
      "\u001b[34m\u001b[1mwandb\u001b[0m: Adding directory to artifact (C:\\Users\\ucesvpm\\OneDrive - University College London\\PhD Project\\Data Analytics\\Time Series Clustering\\Third Test\\Time-Series-PhD\\wandb\\run-20230207_163352-ed12hls7\\files\\model-best)... Done. 0.0s\n"
     ]
    },
    {
     "name": "stdout",
     "output_type": "stream",
     "text": [
      "682/682 [==============================] - 7s 11ms/step - loss: 0.5124 - mse: 0.5124 - val_loss: 0.5185 - val_mse: 0.5185 - lr: 6.4292e-05\n",
      "Epoch 91/100\n",
      "674/682 [============================>.] - ETA: 0s - loss: 0.5120 - mse: 0.5120"
     ]
    },
    {
     "name": "stderr",
     "output_type": "stream",
     "text": [
      "WARNING:absl:Found untraced functions such as activation_layer_call_fn, activation_layer_call_and_return_conditional_losses, activation_1_layer_call_fn, activation_1_layer_call_and_return_conditional_losses, activation_2_layer_call_fn while saving (showing 5 of 16). These functions will not be directly callable after loading.\n"
     ]
    },
    {
     "name": "stdout",
     "output_type": "stream",
     "text": [
      "INFO:tensorflow:Assets written to: C:\\Users\\ucesvpm\\OneDrive - University College London\\PhD Project\\Data Analytics\\Time Series Clustering\\Third Test\\Time-Series-PhD\\wandb\\run-20230207_163352-ed12hls7\\files\\model-best\\assets\n"
     ]
    },
    {
     "name": "stderr",
     "output_type": "stream",
     "text": [
      "INFO:tensorflow:Assets written to: C:\\Users\\ucesvpm\\OneDrive - University College London\\PhD Project\\Data Analytics\\Time Series Clustering\\Third Test\\Time-Series-PhD\\wandb\\run-20230207_163352-ed12hls7\\files\\model-best\\assets\n",
      "\u001b[34m\u001b[1mwandb\u001b[0m: Adding directory to artifact (C:\\Users\\ucesvpm\\OneDrive - University College London\\PhD Project\\Data Analytics\\Time Series Clustering\\Third Test\\Time-Series-PhD\\wandb\\run-20230207_163352-ed12hls7\\files\\model-best)... Done. 0.0s\n"
     ]
    },
    {
     "name": "stdout",
     "output_type": "stream",
     "text": [
      "682/682 [==============================] - 8s 11ms/step - loss: 0.5120 - mse: 0.5120 - val_loss: 0.5182 - val_mse: 0.5182 - lr: 6.4292e-05\n",
      "Epoch 92/100\n",
      "673/682 [============================>.] - ETA: 0s - loss: 0.5116 - mse: 0.5116"
     ]
    },
    {
     "name": "stderr",
     "output_type": "stream",
     "text": [
      "WARNING:absl:Found untraced functions such as activation_layer_call_fn, activation_layer_call_and_return_conditional_losses, activation_1_layer_call_fn, activation_1_layer_call_and_return_conditional_losses, activation_2_layer_call_fn while saving (showing 5 of 16). These functions will not be directly callable after loading.\n"
     ]
    },
    {
     "name": "stdout",
     "output_type": "stream",
     "text": [
      "INFO:tensorflow:Assets written to: C:\\Users\\ucesvpm\\OneDrive - University College London\\PhD Project\\Data Analytics\\Time Series Clustering\\Third Test\\Time-Series-PhD\\wandb\\run-20230207_163352-ed12hls7\\files\\model-best\\assets\n"
     ]
    },
    {
     "name": "stderr",
     "output_type": "stream",
     "text": [
      "INFO:tensorflow:Assets written to: C:\\Users\\ucesvpm\\OneDrive - University College London\\PhD Project\\Data Analytics\\Time Series Clustering\\Third Test\\Time-Series-PhD\\wandb\\run-20230207_163352-ed12hls7\\files\\model-best\\assets\n",
      "\u001b[34m\u001b[1mwandb\u001b[0m: Adding directory to artifact (C:\\Users\\ucesvpm\\OneDrive - University College London\\PhD Project\\Data Analytics\\Time Series Clustering\\Third Test\\Time-Series-PhD\\wandb\\run-20230207_163352-ed12hls7\\files\\model-best)... Done. 0.7s\n"
     ]
    },
    {
     "name": "stdout",
     "output_type": "stream",
     "text": [
      "682/682 [==============================] - 9s 13ms/step - loss: 0.5116 - mse: 0.5116 - val_loss: 0.5178 - val_mse: 0.5178 - lr: 6.4292e-05\n",
      "Epoch 93/100\n",
      "677/682 [============================>.] - ETA: 0s - loss: 0.5113 - mse: 0.5113"
     ]
    },
    {
     "name": "stderr",
     "output_type": "stream",
     "text": [
      "WARNING:absl:Found untraced functions such as activation_layer_call_fn, activation_layer_call_and_return_conditional_losses, activation_1_layer_call_fn, activation_1_layer_call_and_return_conditional_losses, activation_2_layer_call_fn while saving (showing 5 of 16). These functions will not be directly callable after loading.\n"
     ]
    },
    {
     "name": "stdout",
     "output_type": "stream",
     "text": [
      "INFO:tensorflow:Assets written to: C:\\Users\\ucesvpm\\OneDrive - University College London\\PhD Project\\Data Analytics\\Time Series Clustering\\Third Test\\Time-Series-PhD\\wandb\\run-20230207_163352-ed12hls7\\files\\model-best\\assets\n"
     ]
    },
    {
     "name": "stderr",
     "output_type": "stream",
     "text": [
      "INFO:tensorflow:Assets written to: C:\\Users\\ucesvpm\\OneDrive - University College London\\PhD Project\\Data Analytics\\Time Series Clustering\\Third Test\\Time-Series-PhD\\wandb\\run-20230207_163352-ed12hls7\\files\\model-best\\assets\n",
      "\u001b[34m\u001b[1mwandb\u001b[0m: Adding directory to artifact (C:\\Users\\ucesvpm\\OneDrive - University College London\\PhD Project\\Data Analytics\\Time Series Clustering\\Third Test\\Time-Series-PhD\\wandb\\run-20230207_163352-ed12hls7\\files\\model-best)... Done. 0.0s\n"
     ]
    },
    {
     "name": "stdout",
     "output_type": "stream",
     "text": [
      "682/682 [==============================] - 8s 11ms/step - loss: 0.5113 - mse: 0.5113 - val_loss: 0.5175 - val_mse: 0.5175 - lr: 6.4292e-05\n",
      "Epoch 94/100\n",
      "681/682 [============================>.] - ETA: 0s - loss: 0.5110 - mse: 0.5110"
     ]
    },
    {
     "name": "stderr",
     "output_type": "stream",
     "text": [
      "WARNING:absl:Found untraced functions such as activation_layer_call_fn, activation_layer_call_and_return_conditional_losses, activation_1_layer_call_fn, activation_1_layer_call_and_return_conditional_losses, activation_2_layer_call_fn while saving (showing 5 of 16). These functions will not be directly callable after loading.\n"
     ]
    },
    {
     "name": "stdout",
     "output_type": "stream",
     "text": [
      "INFO:tensorflow:Assets written to: C:\\Users\\ucesvpm\\OneDrive - University College London\\PhD Project\\Data Analytics\\Time Series Clustering\\Third Test\\Time-Series-PhD\\wandb\\run-20230207_163352-ed12hls7\\files\\model-best\\assets\n"
     ]
    },
    {
     "name": "stderr",
     "output_type": "stream",
     "text": [
      "INFO:tensorflow:Assets written to: C:\\Users\\ucesvpm\\OneDrive - University College London\\PhD Project\\Data Analytics\\Time Series Clustering\\Third Test\\Time-Series-PhD\\wandb\\run-20230207_163352-ed12hls7\\files\\model-best\\assets\n",
      "\u001b[34m\u001b[1mwandb\u001b[0m: Adding directory to artifact (C:\\Users\\ucesvpm\\OneDrive - University College London\\PhD Project\\Data Analytics\\Time Series Clustering\\Third Test\\Time-Series-PhD\\wandb\\run-20230207_163352-ed12hls7\\files\\model-best)... Done. 0.0s\n"
     ]
    },
    {
     "name": "stdout",
     "output_type": "stream",
     "text": [
      "682/682 [==============================] - 8s 11ms/step - loss: 0.5110 - mse: 0.5110 - val_loss: 0.5172 - val_mse: 0.5172 - lr: 6.4292e-05\n",
      "Epoch 95/100\n",
      "677/682 [============================>.] - ETA: 0s - loss: 0.5107 - mse: 0.5107"
     ]
    },
    {
     "name": "stderr",
     "output_type": "stream",
     "text": [
      "WARNING:absl:Found untraced functions such as activation_layer_call_fn, activation_layer_call_and_return_conditional_losses, activation_1_layer_call_fn, activation_1_layer_call_and_return_conditional_losses, activation_2_layer_call_fn while saving (showing 5 of 16). These functions will not be directly callable after loading.\n"
     ]
    },
    {
     "name": "stdout",
     "output_type": "stream",
     "text": [
      "INFO:tensorflow:Assets written to: C:\\Users\\ucesvpm\\OneDrive - University College London\\PhD Project\\Data Analytics\\Time Series Clustering\\Third Test\\Time-Series-PhD\\wandb\\run-20230207_163352-ed12hls7\\files\\model-best\\assets\n"
     ]
    },
    {
     "name": "stderr",
     "output_type": "stream",
     "text": [
      "INFO:tensorflow:Assets written to: C:\\Users\\ucesvpm\\OneDrive - University College London\\PhD Project\\Data Analytics\\Time Series Clustering\\Third Test\\Time-Series-PhD\\wandb\\run-20230207_163352-ed12hls7\\files\\model-best\\assets\n",
      "\u001b[34m\u001b[1mwandb\u001b[0m: Adding directory to artifact (C:\\Users\\ucesvpm\\OneDrive - University College London\\PhD Project\\Data Analytics\\Time Series Clustering\\Third Test\\Time-Series-PhD\\wandb\\run-20230207_163352-ed12hls7\\files\\model-best)... Done. 0.0s\n"
     ]
    },
    {
     "name": "stdout",
     "output_type": "stream",
     "text": [
      "682/682 [==============================] - 8s 11ms/step - loss: 0.5106 - mse: 0.5106 - val_loss: 0.5168 - val_mse: 0.5168 - lr: 6.4292e-05\n",
      "Epoch 96/100\n",
      "679/682 [============================>.] - ETA: 0s - loss: 0.5102 - mse: 0.5102"
     ]
    },
    {
     "name": "stderr",
     "output_type": "stream",
     "text": [
      "WARNING:absl:Found untraced functions such as activation_layer_call_fn, activation_layer_call_and_return_conditional_losses, activation_1_layer_call_fn, activation_1_layer_call_and_return_conditional_losses, activation_2_layer_call_fn while saving (showing 5 of 16). These functions will not be directly callable after loading.\n"
     ]
    },
    {
     "name": "stdout",
     "output_type": "stream",
     "text": [
      "INFO:tensorflow:Assets written to: C:\\Users\\ucesvpm\\OneDrive - University College London\\PhD Project\\Data Analytics\\Time Series Clustering\\Third Test\\Time-Series-PhD\\wandb\\run-20230207_163352-ed12hls7\\files\\model-best\\assets\n"
     ]
    },
    {
     "name": "stderr",
     "output_type": "stream",
     "text": [
      "INFO:tensorflow:Assets written to: C:\\Users\\ucesvpm\\OneDrive - University College London\\PhD Project\\Data Analytics\\Time Series Clustering\\Third Test\\Time-Series-PhD\\wandb\\run-20230207_163352-ed12hls7\\files\\model-best\\assets\n",
      "\u001b[34m\u001b[1mwandb\u001b[0m: Adding directory to artifact (C:\\Users\\ucesvpm\\OneDrive - University College London\\PhD Project\\Data Analytics\\Time Series Clustering\\Third Test\\Time-Series-PhD\\wandb\\run-20230207_163352-ed12hls7\\files\\model-best)... Done. 0.0s\n"
     ]
    },
    {
     "name": "stdout",
     "output_type": "stream",
     "text": [
      "682/682 [==============================] - 8s 11ms/step - loss: 0.5103 - mse: 0.5103 - val_loss: 0.5165 - val_mse: 0.5165 - lr: 6.4292e-05\n",
      "Epoch 97/100\n",
      "680/682 [============================>.] - ETA: 0s - loss: 0.5100 - mse: 0.5100"
     ]
    },
    {
     "name": "stderr",
     "output_type": "stream",
     "text": [
      "WARNING:absl:Found untraced functions such as activation_layer_call_fn, activation_layer_call_and_return_conditional_losses, activation_1_layer_call_fn, activation_1_layer_call_and_return_conditional_losses, activation_2_layer_call_fn while saving (showing 5 of 16). These functions will not be directly callable after loading.\n"
     ]
    },
    {
     "name": "stdout",
     "output_type": "stream",
     "text": [
      "INFO:tensorflow:Assets written to: C:\\Users\\ucesvpm\\OneDrive - University College London\\PhD Project\\Data Analytics\\Time Series Clustering\\Third Test\\Time-Series-PhD\\wandb\\run-20230207_163352-ed12hls7\\files\\model-best\\assets\n"
     ]
    },
    {
     "name": "stderr",
     "output_type": "stream",
     "text": [
      "INFO:tensorflow:Assets written to: C:\\Users\\ucesvpm\\OneDrive - University College London\\PhD Project\\Data Analytics\\Time Series Clustering\\Third Test\\Time-Series-PhD\\wandb\\run-20230207_163352-ed12hls7\\files\\model-best\\assets\n",
      "\u001b[34m\u001b[1mwandb\u001b[0m: Adding directory to artifact (C:\\Users\\ucesvpm\\OneDrive - University College London\\PhD Project\\Data Analytics\\Time Series Clustering\\Third Test\\Time-Series-PhD\\wandb\\run-20230207_163352-ed12hls7\\files\\model-best)... Done. 0.0s\n"
     ]
    },
    {
     "name": "stdout",
     "output_type": "stream",
     "text": [
      "682/682 [==============================] - 8s 12ms/step - loss: 0.5100 - mse: 0.5100 - val_loss: 0.5162 - val_mse: 0.5162 - lr: 6.4292e-05\n",
      "Epoch 98/100\n",
      "675/682 [============================>.] - ETA: 0s - loss: 0.5096 - mse: 0.5096"
     ]
    },
    {
     "name": "stderr",
     "output_type": "stream",
     "text": [
      "WARNING:absl:Found untraced functions such as activation_layer_call_fn, activation_layer_call_and_return_conditional_losses, activation_1_layer_call_fn, activation_1_layer_call_and_return_conditional_losses, activation_2_layer_call_fn while saving (showing 5 of 16). These functions will not be directly callable after loading.\n"
     ]
    },
    {
     "name": "stdout",
     "output_type": "stream",
     "text": [
      "INFO:tensorflow:Assets written to: C:\\Users\\ucesvpm\\OneDrive - University College London\\PhD Project\\Data Analytics\\Time Series Clustering\\Third Test\\Time-Series-PhD\\wandb\\run-20230207_163352-ed12hls7\\files\\model-best\\assets\n"
     ]
    },
    {
     "name": "stderr",
     "output_type": "stream",
     "text": [
      "INFO:tensorflow:Assets written to: C:\\Users\\ucesvpm\\OneDrive - University College London\\PhD Project\\Data Analytics\\Time Series Clustering\\Third Test\\Time-Series-PhD\\wandb\\run-20230207_163352-ed12hls7\\files\\model-best\\assets\n",
      "\u001b[34m\u001b[1mwandb\u001b[0m: Adding directory to artifact (C:\\Users\\ucesvpm\\OneDrive - University College London\\PhD Project\\Data Analytics\\Time Series Clustering\\Third Test\\Time-Series-PhD\\wandb\\run-20230207_163352-ed12hls7\\files\\model-best)... Done. 0.0s\n"
     ]
    },
    {
     "name": "stdout",
     "output_type": "stream",
     "text": [
      "682/682 [==============================] - 8s 12ms/step - loss: 0.5097 - mse: 0.5097 - val_loss: 0.5159 - val_mse: 0.5159 - lr: 6.4292e-05\n",
      "Epoch 99/100\n",
      "679/682 [============================>.] - ETA: 0s - loss: 0.5093 - mse: 0.5093"
     ]
    },
    {
     "name": "stderr",
     "output_type": "stream",
     "text": [
      "WARNING:absl:Found untraced functions such as activation_layer_call_fn, activation_layer_call_and_return_conditional_losses, activation_1_layer_call_fn, activation_1_layer_call_and_return_conditional_losses, activation_2_layer_call_fn while saving (showing 5 of 16). These functions will not be directly callable after loading.\n"
     ]
    },
    {
     "name": "stdout",
     "output_type": "stream",
     "text": [
      "INFO:tensorflow:Assets written to: C:\\Users\\ucesvpm\\OneDrive - University College London\\PhD Project\\Data Analytics\\Time Series Clustering\\Third Test\\Time-Series-PhD\\wandb\\run-20230207_163352-ed12hls7\\files\\model-best\\assets\n"
     ]
    },
    {
     "name": "stderr",
     "output_type": "stream",
     "text": [
      "INFO:tensorflow:Assets written to: C:\\Users\\ucesvpm\\OneDrive - University College London\\PhD Project\\Data Analytics\\Time Series Clustering\\Third Test\\Time-Series-PhD\\wandb\\run-20230207_163352-ed12hls7\\files\\model-best\\assets\n",
      "\u001b[34m\u001b[1mwandb\u001b[0m: Adding directory to artifact (C:\\Users\\ucesvpm\\OneDrive - University College London\\PhD Project\\Data Analytics\\Time Series Clustering\\Third Test\\Time-Series-PhD\\wandb\\run-20230207_163352-ed12hls7\\files\\model-best)... Done. 0.0s\n"
     ]
    },
    {
     "name": "stdout",
     "output_type": "stream",
     "text": [
      "682/682 [==============================] - 8s 11ms/step - loss: 0.5093 - mse: 0.5093 - val_loss: 0.5156 - val_mse: 0.5156 - lr: 6.4292e-05\n",
      "Epoch 100/100\n",
      "677/682 [============================>.] - ETA: 0s - loss: 0.5089 - mse: 0.5089"
     ]
    },
    {
     "name": "stderr",
     "output_type": "stream",
     "text": [
      "WARNING:absl:Found untraced functions such as activation_layer_call_fn, activation_layer_call_and_return_conditional_losses, activation_1_layer_call_fn, activation_1_layer_call_and_return_conditional_losses, activation_2_layer_call_fn while saving (showing 5 of 16). These functions will not be directly callable after loading.\n"
     ]
    },
    {
     "name": "stdout",
     "output_type": "stream",
     "text": [
      "INFO:tensorflow:Assets written to: C:\\Users\\ucesvpm\\OneDrive - University College London\\PhD Project\\Data Analytics\\Time Series Clustering\\Third Test\\Time-Series-PhD\\wandb\\run-20230207_163352-ed12hls7\\files\\model-best\\assets\n"
     ]
    },
    {
     "name": "stderr",
     "output_type": "stream",
     "text": [
      "INFO:tensorflow:Assets written to: C:\\Users\\ucesvpm\\OneDrive - University College London\\PhD Project\\Data Analytics\\Time Series Clustering\\Third Test\\Time-Series-PhD\\wandb\\run-20230207_163352-ed12hls7\\files\\model-best\\assets\n",
      "\u001b[34m\u001b[1mwandb\u001b[0m: Adding directory to artifact (C:\\Users\\ucesvpm\\OneDrive - University College London\\PhD Project\\Data Analytics\\Time Series Clustering\\Third Test\\Time-Series-PhD\\wandb\\run-20230207_163352-ed12hls7\\files\\model-best)... Done. 0.0s\n"
     ]
    },
    {
     "name": "stdout",
     "output_type": "stream",
     "text": [
      "682/682 [==============================] - 8s 12ms/step - loss: 0.5090 - mse: 0.5090 - val_loss: 0.5153 - val_mse: 0.5153 - lr: 6.4292e-05\n"
     ]
    },
    {
     "data": {
      "text/html": [
       "Waiting for W&B process to finish... <strong style=\"color:green\">(success).</strong>"
      ],
      "text/plain": [
       "<IPython.core.display.HTML object>"
      ]
     },
     "metadata": {},
     "output_type": "display_data"
    },
    {
     "data": {
      "text/html": [
       "<style>\n",
       "    table.wandb td:nth-child(1) { padding: 0 10px; text-align: left ; width: auto;} td:nth-child(2) {text-align: left ; width: 100%}\n",
       "    .wandb-row { display: flex; flex-direction: row; flex-wrap: wrap; justify-content: flex-start; width: 100% }\n",
       "    .wandb-col { display: flex; flex-direction: column; flex-basis: 100%; flex: 1; padding: 10px; }\n",
       "    </style>\n",
       "<div class=\"wandb-row\"><div class=\"wandb-col\"><h3>Run history:</h3><br/><table class=\"wandb\"><tr><td>epoch</td><td>▁▁▁▁▂▂▂▂▂▃▃▃▃▃▃▄▄▄▄▄▅▅▅▅▅▅▆▆▆▆▆▇▇▇▇▇▇███</td></tr><tr><td>loss</td><td>█▃▃▂▂▂▂▂▂▂▁▁▁▁▁▁▁▁▁▁▁▁▁▁▁▁▁▁▁▁▁▁▁▁▁▁▁▁▁▁</td></tr><tr><td>mse</td><td>█▃▃▂▂▂▂▂▂▂▁▁▁▁▁▁▁▁▁▁▁▁▁▁▁▁▁▁▁▁▁▁▁▁▁▁▁▁▁▁</td></tr><tr><td>val_loss</td><td>█▅▄▃▃▃▂▂▂▂▂▂▂▂▂▂▂▁▁▁▁▁▁▁▁▁▁▁▁▁▁▁▁▁▁▁▁▁▁▁</td></tr><tr><td>val_mse</td><td>█▅▄▃▃▃▂▂▂▂▂▂▂▂▂▂▂▁▁▁▁▁▁▁▁▁▁▁▁▁▁▁▁▁▁▁▁▁▁▁</td></tr></table><br/></div><div class=\"wandb-col\"><h3>Run summary:</h3><br/><table class=\"wandb\"><tr><td>best_epoch</td><td>99</td></tr><tr><td>best_val_loss</td><td>0.51529</td></tr><tr><td>epoch</td><td>99</td></tr><tr><td>loss</td><td>0.50904</td></tr><tr><td>mse</td><td>0.50904</td></tr><tr><td>val_loss</td><td>0.51529</td></tr><tr><td>val_mse</td><td>0.51529</td></tr></table><br/></div></div>"
      ],
      "text/plain": [
       "<IPython.core.display.HTML object>"
      ]
     },
     "metadata": {},
     "output_type": "display_data"
    },
    {
     "data": {
      "text/html": [
       "Synced <strong style=\"color:#cdcd00\">earthy-sweep-3</strong>: <a href=\"https://wandb.ai/vasco-phd/FC_AE-Kenya_10k_Set_1_w90/runs/ed12hls7\" target=\"_blank\">https://wandb.ai/vasco-phd/FC_AE-Kenya_10k_Set_1_w90/runs/ed12hls7</a><br/>Synced 6 W&B file(s), 1 media file(s), 301 artifact file(s) and 1 other file(s)"
      ],
      "text/plain": [
       "<IPython.core.display.HTML object>"
      ]
     },
     "metadata": {},
     "output_type": "display_data"
    },
    {
     "data": {
      "text/html": [
       "Find logs at: <code>.\\wandb\\run-20230207_163352-ed12hls7\\logs</code>"
      ],
      "text/plain": [
       "<IPython.core.display.HTML object>"
      ]
     },
     "metadata": {},
     "output_type": "display_data"
    },
    {
     "name": "stderr",
     "output_type": "stream",
     "text": [
      "\u001b[34m\u001b[1mwandb\u001b[0m: Agent Starting Run: 0cckuv91 with config:\n",
      "\u001b[34m\u001b[1mwandb\u001b[0m: \tactivation_fn: LeakyReLU\n",
      "\u001b[34m\u001b[1mwandb\u001b[0m: \tbatch_size: 40\n",
      "\u001b[34m\u001b[1mwandb\u001b[0m: \tepochs: 100\n",
      "\u001b[34m\u001b[1mwandb\u001b[0m: \tlatent_layer_size: 10\n",
      "\u001b[34m\u001b[1mwandb\u001b[0m: \tlearning_rate: 0.0007876654657403739\n",
      "\u001b[34m\u001b[1mwandb\u001b[0m: \toptimizer: sgd\n",
      "\u001b[34m\u001b[1mwandb\u001b[0m: \twindow_length: 90\n"
     ]
    },
    {
     "data": {
      "text/html": [
       "wandb version 0.13.9 is available!  To upgrade, please run:\n",
       " $ pip install wandb --upgrade"
      ],
      "text/plain": [
       "<IPython.core.display.HTML object>"
      ]
     },
     "metadata": {},
     "output_type": "display_data"
    },
    {
     "data": {
      "text/html": [
       "Tracking run with wandb version 0.13.6"
      ],
      "text/plain": [
       "<IPython.core.display.HTML object>"
      ]
     },
     "metadata": {},
     "output_type": "display_data"
    },
    {
     "data": {
      "text/html": [
       "Run data is saved locally in <code>C:\\Users\\ucesvpm\\OneDrive - University College London\\PhD Project\\Data Analytics\\Time Series Clustering\\Third Test\\Time-Series-PhD\\wandb\\run-20230207_164808-0cckuv91</code>"
      ],
      "text/plain": [
       "<IPython.core.display.HTML object>"
      ]
     },
     "metadata": {},
     "output_type": "display_data"
    },
    {
     "data": {
      "text/html": [
       "Syncing run <strong><a href=\"https://wandb.ai/vasco-phd/FC_AE-Kenya_10k_Set_1_w90/runs/0cckuv91\" target=\"_blank\">dandy-sweep-4</a></strong> to <a href=\"https://wandb.ai/vasco-phd/FC_AE-Kenya_10k_Set_1_w90\" target=\"_blank\">Weights & Biases</a> (<a href=\"https://wandb.me/run\" target=\"_blank\">docs</a>)<br/>Sweep page:  <a href=\"https://wandb.ai/vasco-phd/FC_AE-Kenya_10k_Set_1_w90/sweeps/kcva21dq\" target=\"_blank\">https://wandb.ai/vasco-phd/FC_AE-Kenya_10k_Set_1_w90/sweeps/kcva21dq</a>"
      ],
      "text/plain": [
       "<IPython.core.display.HTML object>"
      ]
     },
     "metadata": {},
     "output_type": "display_data"
    },
    {
     "name": "stdout",
     "output_type": "stream",
     "text": [
      "Epoch 1/100\n",
      "1771/1771 [==============================] - ETA: 0s - loss: 0.7421 - mse: 0.7421"
     ]
    },
    {
     "name": "stderr",
     "output_type": "stream",
     "text": [
      "WARNING:absl:Found untraced functions such as leaky_re_lu_layer_call_fn, leaky_re_lu_layer_call_and_return_conditional_losses, leaky_re_lu_1_layer_call_fn, leaky_re_lu_1_layer_call_and_return_conditional_losses, leaky_re_lu_2_layer_call_fn while saving (showing 5 of 16). These functions will not be directly callable after loading.\n"
     ]
    },
    {
     "name": "stdout",
     "output_type": "stream",
     "text": [
      "INFO:tensorflow:Assets written to: C:\\Users\\ucesvpm\\OneDrive - University College London\\PhD Project\\Data Analytics\\Time Series Clustering\\Third Test\\Time-Series-PhD\\wandb\\run-20230207_164808-0cckuv91\\files\\model-best\\assets\n"
     ]
    },
    {
     "name": "stderr",
     "output_type": "stream",
     "text": [
      "INFO:tensorflow:Assets written to: C:\\Users\\ucesvpm\\OneDrive - University College London\\PhD Project\\Data Analytics\\Time Series Clustering\\Third Test\\Time-Series-PhD\\wandb\\run-20230207_164808-0cckuv91\\files\\model-best\\assets\n",
      "\u001b[34m\u001b[1mwandb\u001b[0m: Adding directory to artifact (C:\\Users\\ucesvpm\\OneDrive - University College London\\PhD Project\\Data Analytics\\Time Series Clustering\\Third Test\\Time-Series-PhD\\wandb\\run-20230207_164808-0cckuv91\\files\\model-best)... Done. 0.0s\n"
     ]
    },
    {
     "name": "stdout",
     "output_type": "stream",
     "text": [
      "1771/1771 [==============================] - 15s 8ms/step - loss: 0.7421 - mse: 0.7421 - val_loss: 0.6107 - val_mse: 0.6107 - lr: 7.8767e-04\n",
      "Epoch 2/100\n",
      "1768/1771 [============================>.] - ETA: 0s - loss: 0.5728 - mse: 0.5728"
     ]
    },
    {
     "name": "stderr",
     "output_type": "stream",
     "text": [
      "WARNING:absl:Found untraced functions such as leaky_re_lu_layer_call_fn, leaky_re_lu_layer_call_and_return_conditional_losses, leaky_re_lu_1_layer_call_fn, leaky_re_lu_1_layer_call_and_return_conditional_losses, leaky_re_lu_2_layer_call_fn while saving (showing 5 of 16). These functions will not be directly callable after loading.\n"
     ]
    },
    {
     "name": "stdout",
     "output_type": "stream",
     "text": [
      "INFO:tensorflow:Assets written to: C:\\Users\\ucesvpm\\OneDrive - University College London\\PhD Project\\Data Analytics\\Time Series Clustering\\Third Test\\Time-Series-PhD\\wandb\\run-20230207_164808-0cckuv91\\files\\model-best\\assets\n"
     ]
    },
    {
     "name": "stderr",
     "output_type": "stream",
     "text": [
      "INFO:tensorflow:Assets written to: C:\\Users\\ucesvpm\\OneDrive - University College London\\PhD Project\\Data Analytics\\Time Series Clustering\\Third Test\\Time-Series-PhD\\wandb\\run-20230207_164808-0cckuv91\\files\\model-best\\assets\n",
      "\u001b[34m\u001b[1mwandb\u001b[0m: Adding directory to artifact (C:\\Users\\ucesvpm\\OneDrive - University College London\\PhD Project\\Data Analytics\\Time Series Clustering\\Third Test\\Time-Series-PhD\\wandb\\run-20230207_164808-0cckuv91\\files\\model-best)... Done. 0.0s\n"
     ]
    },
    {
     "name": "stdout",
     "output_type": "stream",
     "text": [
      "1771/1771 [==============================] - 15s 8ms/step - loss: 0.5728 - mse: 0.5728 - val_loss: 0.5561 - val_mse: 0.5561 - lr: 7.8767e-04\n",
      "Epoch 3/100\n",
      "1768/1771 [============================>.] - ETA: 0s - loss: 0.5396 - mse: 0.5396"
     ]
    },
    {
     "name": "stderr",
     "output_type": "stream",
     "text": [
      "WARNING:absl:Found untraced functions such as leaky_re_lu_layer_call_fn, leaky_re_lu_layer_call_and_return_conditional_losses, leaky_re_lu_1_layer_call_fn, leaky_re_lu_1_layer_call_and_return_conditional_losses, leaky_re_lu_2_layer_call_fn while saving (showing 5 of 16). These functions will not be directly callable after loading.\n"
     ]
    },
    {
     "name": "stdout",
     "output_type": "stream",
     "text": [
      "INFO:tensorflow:Assets written to: C:\\Users\\ucesvpm\\OneDrive - University College London\\PhD Project\\Data Analytics\\Time Series Clustering\\Third Test\\Time-Series-PhD\\wandb\\run-20230207_164808-0cckuv91\\files\\model-best\\assets\n"
     ]
    },
    {
     "name": "stderr",
     "output_type": "stream",
     "text": [
      "INFO:tensorflow:Assets written to: C:\\Users\\ucesvpm\\OneDrive - University College London\\PhD Project\\Data Analytics\\Time Series Clustering\\Third Test\\Time-Series-PhD\\wandb\\run-20230207_164808-0cckuv91\\files\\model-best\\assets\n",
      "\u001b[34m\u001b[1mwandb\u001b[0m: Adding directory to artifact (C:\\Users\\ucesvpm\\OneDrive - University College London\\PhD Project\\Data Analytics\\Time Series Clustering\\Third Test\\Time-Series-PhD\\wandb\\run-20230207_164808-0cckuv91\\files\\model-best)... Done. 0.0s\n"
     ]
    },
    {
     "name": "stdout",
     "output_type": "stream",
     "text": [
      "1771/1771 [==============================] - 14s 8ms/step - loss: 0.5396 - mse: 0.5396 - val_loss: 0.5360 - val_mse: 0.5360 - lr: 7.8767e-04\n",
      "Epoch 4/100\n",
      "1763/1771 [============================>.] - ETA: 0s - loss: 0.5251 - mse: 0.5251"
     ]
    },
    {
     "name": "stderr",
     "output_type": "stream",
     "text": [
      "WARNING:absl:Found untraced functions such as leaky_re_lu_layer_call_fn, leaky_re_lu_layer_call_and_return_conditional_losses, leaky_re_lu_1_layer_call_fn, leaky_re_lu_1_layer_call_and_return_conditional_losses, leaky_re_lu_2_layer_call_fn while saving (showing 5 of 16). These functions will not be directly callable after loading.\n"
     ]
    },
    {
     "name": "stdout",
     "output_type": "stream",
     "text": [
      "INFO:tensorflow:Assets written to: C:\\Users\\ucesvpm\\OneDrive - University College London\\PhD Project\\Data Analytics\\Time Series Clustering\\Third Test\\Time-Series-PhD\\wandb\\run-20230207_164808-0cckuv91\\files\\model-best\\assets\n"
     ]
    },
    {
     "name": "stderr",
     "output_type": "stream",
     "text": [
      "INFO:tensorflow:Assets written to: C:\\Users\\ucesvpm\\OneDrive - University College London\\PhD Project\\Data Analytics\\Time Series Clustering\\Third Test\\Time-Series-PhD\\wandb\\run-20230207_164808-0cckuv91\\files\\model-best\\assets\n",
      "\u001b[34m\u001b[1mwandb\u001b[0m: Adding directory to artifact (C:\\Users\\ucesvpm\\OneDrive - University College London\\PhD Project\\Data Analytics\\Time Series Clustering\\Third Test\\Time-Series-PhD\\wandb\\run-20230207_164808-0cckuv91\\files\\model-best)... Done. 0.0s\n"
     ]
    },
    {
     "name": "stdout",
     "output_type": "stream",
     "text": [
      "1771/1771 [==============================] - 13s 7ms/step - loss: 0.5250 - mse: 0.5250 - val_loss: 0.5242 - val_mse: 0.5242 - lr: 7.8767e-04\n",
      "Epoch 5/100\n",
      "1770/1771 [============================>.] - ETA: 0s - loss: 0.5156 - mse: 0.5156"
     ]
    },
    {
     "name": "stderr",
     "output_type": "stream",
     "text": [
      "WARNING:absl:Found untraced functions such as leaky_re_lu_layer_call_fn, leaky_re_lu_layer_call_and_return_conditional_losses, leaky_re_lu_1_layer_call_fn, leaky_re_lu_1_layer_call_and_return_conditional_losses, leaky_re_lu_2_layer_call_fn while saving (showing 5 of 16). These functions will not be directly callable after loading.\n"
     ]
    },
    {
     "name": "stdout",
     "output_type": "stream",
     "text": [
      "INFO:tensorflow:Assets written to: C:\\Users\\ucesvpm\\OneDrive - University College London\\PhD Project\\Data Analytics\\Time Series Clustering\\Third Test\\Time-Series-PhD\\wandb\\run-20230207_164808-0cckuv91\\files\\model-best\\assets\n"
     ]
    },
    {
     "name": "stderr",
     "output_type": "stream",
     "text": [
      "INFO:tensorflow:Assets written to: C:\\Users\\ucesvpm\\OneDrive - University College London\\PhD Project\\Data Analytics\\Time Series Clustering\\Third Test\\Time-Series-PhD\\wandb\\run-20230207_164808-0cckuv91\\files\\model-best\\assets\n",
      "\u001b[34m\u001b[1mwandb\u001b[0m: Adding directory to artifact (C:\\Users\\ucesvpm\\OneDrive - University College London\\PhD Project\\Data Analytics\\Time Series Clustering\\Third Test\\Time-Series-PhD\\wandb\\run-20230207_164808-0cckuv91\\files\\model-best)... Done. 0.0s\n"
     ]
    },
    {
     "name": "stdout",
     "output_type": "stream",
     "text": [
      "1771/1771 [==============================] - 13s 8ms/step - loss: 0.5156 - mse: 0.5156 - val_loss: 0.5168 - val_mse: 0.5168 - lr: 7.8767e-04\n",
      "Epoch 6/100\n",
      "1769/1771 [============================>.] - ETA: 0s - loss: 0.5086 - mse: 0.5086"
     ]
    },
    {
     "name": "stderr",
     "output_type": "stream",
     "text": [
      "WARNING:absl:Found untraced functions such as leaky_re_lu_layer_call_fn, leaky_re_lu_layer_call_and_return_conditional_losses, leaky_re_lu_1_layer_call_fn, leaky_re_lu_1_layer_call_and_return_conditional_losses, leaky_re_lu_2_layer_call_fn while saving (showing 5 of 16). These functions will not be directly callable after loading.\n"
     ]
    },
    {
     "name": "stdout",
     "output_type": "stream",
     "text": [
      "INFO:tensorflow:Assets written to: C:\\Users\\ucesvpm\\OneDrive - University College London\\PhD Project\\Data Analytics\\Time Series Clustering\\Third Test\\Time-Series-PhD\\wandb\\run-20230207_164808-0cckuv91\\files\\model-best\\assets\n"
     ]
    },
    {
     "name": "stderr",
     "output_type": "stream",
     "text": [
      "INFO:tensorflow:Assets written to: C:\\Users\\ucesvpm\\OneDrive - University College London\\PhD Project\\Data Analytics\\Time Series Clustering\\Third Test\\Time-Series-PhD\\wandb\\run-20230207_164808-0cckuv91\\files\\model-best\\assets\n",
      "\u001b[34m\u001b[1mwandb\u001b[0m: Adding directory to artifact (C:\\Users\\ucesvpm\\OneDrive - University College London\\PhD Project\\Data Analytics\\Time Series Clustering\\Third Test\\Time-Series-PhD\\wandb\\run-20230207_164808-0cckuv91\\files\\model-best)... Done. 0.0s\n"
     ]
    },
    {
     "name": "stdout",
     "output_type": "stream",
     "text": [
      "1771/1771 [==============================] - 13s 7ms/step - loss: 0.5086 - mse: 0.5086 - val_loss: 0.5103 - val_mse: 0.5103 - lr: 7.8767e-04\n",
      "Epoch 7/100\n",
      "1771/1771 [==============================] - ETA: 0s - loss: 0.5033 - mse: 0.5033"
     ]
    },
    {
     "name": "stderr",
     "output_type": "stream",
     "text": [
      "WARNING:absl:Found untraced functions such as leaky_re_lu_layer_call_fn, leaky_re_lu_layer_call_and_return_conditional_losses, leaky_re_lu_1_layer_call_fn, leaky_re_lu_1_layer_call_and_return_conditional_losses, leaky_re_lu_2_layer_call_fn while saving (showing 5 of 16). These functions will not be directly callable after loading.\n"
     ]
    },
    {
     "name": "stdout",
     "output_type": "stream",
     "text": [
      "INFO:tensorflow:Assets written to: C:\\Users\\ucesvpm\\OneDrive - University College London\\PhD Project\\Data Analytics\\Time Series Clustering\\Third Test\\Time-Series-PhD\\wandb\\run-20230207_164808-0cckuv91\\files\\model-best\\assets\n"
     ]
    },
    {
     "name": "stderr",
     "output_type": "stream",
     "text": [
      "INFO:tensorflow:Assets written to: C:\\Users\\ucesvpm\\OneDrive - University College London\\PhD Project\\Data Analytics\\Time Series Clustering\\Third Test\\Time-Series-PhD\\wandb\\run-20230207_164808-0cckuv91\\files\\model-best\\assets\n",
      "\u001b[34m\u001b[1mwandb\u001b[0m: Adding directory to artifact (C:\\Users\\ucesvpm\\OneDrive - University College London\\PhD Project\\Data Analytics\\Time Series Clustering\\Third Test\\Time-Series-PhD\\wandb\\run-20230207_164808-0cckuv91\\files\\model-best)... Done. 0.0s\n"
     ]
    },
    {
     "name": "stdout",
     "output_type": "stream",
     "text": [
      "1771/1771 [==============================] - 14s 8ms/step - loss: 0.5033 - mse: 0.5033 - val_loss: 0.5067 - val_mse: 0.5067 - lr: 7.8767e-04\n",
      "Epoch 8/100\n",
      "1766/1771 [============================>.] - ETA: 0s - loss: 0.4992 - mse: 0.4992"
     ]
    },
    {
     "name": "stderr",
     "output_type": "stream",
     "text": [
      "WARNING:absl:Found untraced functions such as leaky_re_lu_layer_call_fn, leaky_re_lu_layer_call_and_return_conditional_losses, leaky_re_lu_1_layer_call_fn, leaky_re_lu_1_layer_call_and_return_conditional_losses, leaky_re_lu_2_layer_call_fn while saving (showing 5 of 16). These functions will not be directly callable after loading.\n"
     ]
    },
    {
     "name": "stdout",
     "output_type": "stream",
     "text": [
      "INFO:tensorflow:Assets written to: C:\\Users\\ucesvpm\\OneDrive - University College London\\PhD Project\\Data Analytics\\Time Series Clustering\\Third Test\\Time-Series-PhD\\wandb\\run-20230207_164808-0cckuv91\\files\\model-best\\assets\n"
     ]
    },
    {
     "name": "stderr",
     "output_type": "stream",
     "text": [
      "INFO:tensorflow:Assets written to: C:\\Users\\ucesvpm\\OneDrive - University College London\\PhD Project\\Data Analytics\\Time Series Clustering\\Third Test\\Time-Series-PhD\\wandb\\run-20230207_164808-0cckuv91\\files\\model-best\\assets\n",
      "\u001b[34m\u001b[1mwandb\u001b[0m: Adding directory to artifact (C:\\Users\\ucesvpm\\OneDrive - University College London\\PhD Project\\Data Analytics\\Time Series Clustering\\Third Test\\Time-Series-PhD\\wandb\\run-20230207_164808-0cckuv91\\files\\model-best)... Done. 0.0s\n"
     ]
    },
    {
     "name": "stdout",
     "output_type": "stream",
     "text": [
      "1771/1771 [==============================] - 14s 8ms/step - loss: 0.4992 - mse: 0.4992 - val_loss: 0.5021 - val_mse: 0.5021 - lr: 7.8767e-04\n",
      "Epoch 9/100\n",
      "1763/1771 [============================>.] - ETA: 0s - loss: 0.4959 - mse: 0.4959"
     ]
    },
    {
     "name": "stderr",
     "output_type": "stream",
     "text": [
      "WARNING:absl:Found untraced functions such as leaky_re_lu_layer_call_fn, leaky_re_lu_layer_call_and_return_conditional_losses, leaky_re_lu_1_layer_call_fn, leaky_re_lu_1_layer_call_and_return_conditional_losses, leaky_re_lu_2_layer_call_fn while saving (showing 5 of 16). These functions will not be directly callable after loading.\n"
     ]
    },
    {
     "name": "stdout",
     "output_type": "stream",
     "text": [
      "INFO:tensorflow:Assets written to: C:\\Users\\ucesvpm\\OneDrive - University College London\\PhD Project\\Data Analytics\\Time Series Clustering\\Third Test\\Time-Series-PhD\\wandb\\run-20230207_164808-0cckuv91\\files\\model-best\\assets\n"
     ]
    },
    {
     "name": "stderr",
     "output_type": "stream",
     "text": [
      "INFO:tensorflow:Assets written to: C:\\Users\\ucesvpm\\OneDrive - University College London\\PhD Project\\Data Analytics\\Time Series Clustering\\Third Test\\Time-Series-PhD\\wandb\\run-20230207_164808-0cckuv91\\files\\model-best\\assets\n",
      "\u001b[34m\u001b[1mwandb\u001b[0m: Adding directory to artifact (C:\\Users\\ucesvpm\\OneDrive - University College London\\PhD Project\\Data Analytics\\Time Series Clustering\\Third Test\\Time-Series-PhD\\wandb\\run-20230207_164808-0cckuv91\\files\\model-best)... Done. 0.0s\n"
     ]
    },
    {
     "name": "stdout",
     "output_type": "stream",
     "text": [
      "1771/1771 [==============================] - 12s 7ms/step - loss: 0.4959 - mse: 0.4959 - val_loss: 0.4986 - val_mse: 0.4986 - lr: 7.8767e-04\n",
      "Epoch 10/100\n",
      "1769/1771 [============================>.] - ETA: 0s - loss: 0.4931 - mse: 0.4931"
     ]
    },
    {
     "name": "stderr",
     "output_type": "stream",
     "text": [
      "WARNING:absl:Found untraced functions such as leaky_re_lu_layer_call_fn, leaky_re_lu_layer_call_and_return_conditional_losses, leaky_re_lu_1_layer_call_fn, leaky_re_lu_1_layer_call_and_return_conditional_losses, leaky_re_lu_2_layer_call_fn while saving (showing 5 of 16). These functions will not be directly callable after loading.\n"
     ]
    },
    {
     "name": "stdout",
     "output_type": "stream",
     "text": [
      "INFO:tensorflow:Assets written to: C:\\Users\\ucesvpm\\OneDrive - University College London\\PhD Project\\Data Analytics\\Time Series Clustering\\Third Test\\Time-Series-PhD\\wandb\\run-20230207_164808-0cckuv91\\files\\model-best\\assets\n"
     ]
    },
    {
     "name": "stderr",
     "output_type": "stream",
     "text": [
      "INFO:tensorflow:Assets written to: C:\\Users\\ucesvpm\\OneDrive - University College London\\PhD Project\\Data Analytics\\Time Series Clustering\\Third Test\\Time-Series-PhD\\wandb\\run-20230207_164808-0cckuv91\\files\\model-best\\assets\n",
      "\u001b[34m\u001b[1mwandb\u001b[0m: Adding directory to artifact (C:\\Users\\ucesvpm\\OneDrive - University College London\\PhD Project\\Data Analytics\\Time Series Clustering\\Third Test\\Time-Series-PhD\\wandb\\run-20230207_164808-0cckuv91\\files\\model-best)... Done. 0.0s\n"
     ]
    },
    {
     "name": "stdout",
     "output_type": "stream",
     "text": [
      "1771/1771 [==============================] - 13s 8ms/step - loss: 0.4931 - mse: 0.4931 - val_loss: 0.4962 - val_mse: 0.4962 - lr: 7.8767e-04\n",
      "Epoch 11/100\n",
      "1764/1771 [============================>.] - ETA: 0s - loss: 0.4906 - mse: 0.4906"
     ]
    },
    {
     "name": "stderr",
     "output_type": "stream",
     "text": [
      "WARNING:absl:Found untraced functions such as leaky_re_lu_layer_call_fn, leaky_re_lu_layer_call_and_return_conditional_losses, leaky_re_lu_1_layer_call_fn, leaky_re_lu_1_layer_call_and_return_conditional_losses, leaky_re_lu_2_layer_call_fn while saving (showing 5 of 16). These functions will not be directly callable after loading.\n"
     ]
    },
    {
     "name": "stdout",
     "output_type": "stream",
     "text": [
      "INFO:tensorflow:Assets written to: C:\\Users\\ucesvpm\\OneDrive - University College London\\PhD Project\\Data Analytics\\Time Series Clustering\\Third Test\\Time-Series-PhD\\wandb\\run-20230207_164808-0cckuv91\\files\\model-best\\assets\n"
     ]
    },
    {
     "name": "stderr",
     "output_type": "stream",
     "text": [
      "INFO:tensorflow:Assets written to: C:\\Users\\ucesvpm\\OneDrive - University College London\\PhD Project\\Data Analytics\\Time Series Clustering\\Third Test\\Time-Series-PhD\\wandb\\run-20230207_164808-0cckuv91\\files\\model-best\\assets\n",
      "\u001b[34m\u001b[1mwandb\u001b[0m: Adding directory to artifact (C:\\Users\\ucesvpm\\OneDrive - University College London\\PhD Project\\Data Analytics\\Time Series Clustering\\Third Test\\Time-Series-PhD\\wandb\\run-20230207_164808-0cckuv91\\files\\model-best)... Done. 0.0s\n"
     ]
    },
    {
     "name": "stdout",
     "output_type": "stream",
     "text": [
      "1771/1771 [==============================] - 15s 9ms/step - loss: 0.4907 - mse: 0.4907 - val_loss: 0.4957 - val_mse: 0.4957 - lr: 7.8767e-04\n",
      "Epoch 12/100\n",
      "1764/1771 [============================>.] - ETA: 0s - loss: 0.4887 - mse: 0.4887"
     ]
    },
    {
     "name": "stderr",
     "output_type": "stream",
     "text": [
      "WARNING:absl:Found untraced functions such as leaky_re_lu_layer_call_fn, leaky_re_lu_layer_call_and_return_conditional_losses, leaky_re_lu_1_layer_call_fn, leaky_re_lu_1_layer_call_and_return_conditional_losses, leaky_re_lu_2_layer_call_fn while saving (showing 5 of 16). These functions will not be directly callable after loading.\n"
     ]
    },
    {
     "name": "stdout",
     "output_type": "stream",
     "text": [
      "INFO:tensorflow:Assets written to: C:\\Users\\ucesvpm\\OneDrive - University College London\\PhD Project\\Data Analytics\\Time Series Clustering\\Third Test\\Time-Series-PhD\\wandb\\run-20230207_164808-0cckuv91\\files\\model-best\\assets\n"
     ]
    },
    {
     "name": "stderr",
     "output_type": "stream",
     "text": [
      "INFO:tensorflow:Assets written to: C:\\Users\\ucesvpm\\OneDrive - University College London\\PhD Project\\Data Analytics\\Time Series Clustering\\Third Test\\Time-Series-PhD\\wandb\\run-20230207_164808-0cckuv91\\files\\model-best\\assets\n",
      "\u001b[34m\u001b[1mwandb\u001b[0m: Adding directory to artifact (C:\\Users\\ucesvpm\\OneDrive - University College London\\PhD Project\\Data Analytics\\Time Series Clustering\\Third Test\\Time-Series-PhD\\wandb\\run-20230207_164808-0cckuv91\\files\\model-best)... Done. 0.0s\n"
     ]
    },
    {
     "name": "stdout",
     "output_type": "stream",
     "text": [
      "1771/1771 [==============================] - 17s 9ms/step - loss: 0.4886 - mse: 0.4886 - val_loss: 0.4934 - val_mse: 0.4934 - lr: 7.8767e-04\n",
      "Epoch 13/100\n",
      "1762/1771 [============================>.] - ETA: 0s - loss: 0.4870 - mse: 0.4870"
     ]
    },
    {
     "name": "stderr",
     "output_type": "stream",
     "text": [
      "WARNING:absl:Found untraced functions such as leaky_re_lu_layer_call_fn, leaky_re_lu_layer_call_and_return_conditional_losses, leaky_re_lu_1_layer_call_fn, leaky_re_lu_1_layer_call_and_return_conditional_losses, leaky_re_lu_2_layer_call_fn while saving (showing 5 of 16). These functions will not be directly callable after loading.\n"
     ]
    },
    {
     "name": "stdout",
     "output_type": "stream",
     "text": [
      "INFO:tensorflow:Assets written to: C:\\Users\\ucesvpm\\OneDrive - University College London\\PhD Project\\Data Analytics\\Time Series Clustering\\Third Test\\Time-Series-PhD\\wandb\\run-20230207_164808-0cckuv91\\files\\model-best\\assets\n"
     ]
    },
    {
     "name": "stderr",
     "output_type": "stream",
     "text": [
      "INFO:tensorflow:Assets written to: C:\\Users\\ucesvpm\\OneDrive - University College London\\PhD Project\\Data Analytics\\Time Series Clustering\\Third Test\\Time-Series-PhD\\wandb\\run-20230207_164808-0cckuv91\\files\\model-best\\assets\n",
      "\u001b[34m\u001b[1mwandb\u001b[0m: Adding directory to artifact (C:\\Users\\ucesvpm\\OneDrive - University College London\\PhD Project\\Data Analytics\\Time Series Clustering\\Third Test\\Time-Series-PhD\\wandb\\run-20230207_164808-0cckuv91\\files\\model-best)... Done. 0.0s\n"
     ]
    },
    {
     "name": "stdout",
     "output_type": "stream",
     "text": [
      "1771/1771 [==============================] - 13s 7ms/step - loss: 0.4869 - mse: 0.4869 - val_loss: 0.4910 - val_mse: 0.4910 - lr: 7.8767e-04\n",
      "Epoch 14/100\n",
      "1766/1771 [============================>.] - ETA: 0s - loss: 0.4851 - mse: 0.4851"
     ]
    },
    {
     "name": "stderr",
     "output_type": "stream",
     "text": [
      "WARNING:absl:Found untraced functions such as leaky_re_lu_layer_call_fn, leaky_re_lu_layer_call_and_return_conditional_losses, leaky_re_lu_1_layer_call_fn, leaky_re_lu_1_layer_call_and_return_conditional_losses, leaky_re_lu_2_layer_call_fn while saving (showing 5 of 16). These functions will not be directly callable after loading.\n"
     ]
    },
    {
     "name": "stdout",
     "output_type": "stream",
     "text": [
      "INFO:tensorflow:Assets written to: C:\\Users\\ucesvpm\\OneDrive - University College London\\PhD Project\\Data Analytics\\Time Series Clustering\\Third Test\\Time-Series-PhD\\wandb\\run-20230207_164808-0cckuv91\\files\\model-best\\assets\n"
     ]
    },
    {
     "name": "stderr",
     "output_type": "stream",
     "text": [
      "INFO:tensorflow:Assets written to: C:\\Users\\ucesvpm\\OneDrive - University College London\\PhD Project\\Data Analytics\\Time Series Clustering\\Third Test\\Time-Series-PhD\\wandb\\run-20230207_164808-0cckuv91\\files\\model-best\\assets\n",
      "\u001b[34m\u001b[1mwandb\u001b[0m: Adding directory to artifact (C:\\Users\\ucesvpm\\OneDrive - University College London\\PhD Project\\Data Analytics\\Time Series Clustering\\Third Test\\Time-Series-PhD\\wandb\\run-20230207_164808-0cckuv91\\files\\model-best)... Done. 0.0s\n"
     ]
    },
    {
     "name": "stdout",
     "output_type": "stream",
     "text": [
      "1771/1771 [==============================] - 14s 8ms/step - loss: 0.4852 - mse: 0.4852 - val_loss: 0.4891 - val_mse: 0.4891 - lr: 7.8767e-04\n",
      "Epoch 15/100\n",
      "1765/1771 [============================>.] - ETA: 0s - loss: 0.4840 - mse: 0.4840"
     ]
    },
    {
     "name": "stderr",
     "output_type": "stream",
     "text": [
      "WARNING:absl:Found untraced functions such as leaky_re_lu_layer_call_fn, leaky_re_lu_layer_call_and_return_conditional_losses, leaky_re_lu_1_layer_call_fn, leaky_re_lu_1_layer_call_and_return_conditional_losses, leaky_re_lu_2_layer_call_fn while saving (showing 5 of 16). These functions will not be directly callable after loading.\n"
     ]
    },
    {
     "name": "stdout",
     "output_type": "stream",
     "text": [
      "INFO:tensorflow:Assets written to: C:\\Users\\ucesvpm\\OneDrive - University College London\\PhD Project\\Data Analytics\\Time Series Clustering\\Third Test\\Time-Series-PhD\\wandb\\run-20230207_164808-0cckuv91\\files\\model-best\\assets\n"
     ]
    },
    {
     "name": "stderr",
     "output_type": "stream",
     "text": [
      "INFO:tensorflow:Assets written to: C:\\Users\\ucesvpm\\OneDrive - University College London\\PhD Project\\Data Analytics\\Time Series Clustering\\Third Test\\Time-Series-PhD\\wandb\\run-20230207_164808-0cckuv91\\files\\model-best\\assets\n",
      "\u001b[34m\u001b[1mwandb\u001b[0m: Adding directory to artifact (C:\\Users\\ucesvpm\\OneDrive - University College London\\PhD Project\\Data Analytics\\Time Series Clustering\\Third Test\\Time-Series-PhD\\wandb\\run-20230207_164808-0cckuv91\\files\\model-best)... Done. 0.0s\n"
     ]
    },
    {
     "name": "stdout",
     "output_type": "stream",
     "text": [
      "1771/1771 [==============================] - 13s 7ms/step - loss: 0.4839 - mse: 0.4839 - val_loss: 0.4883 - val_mse: 0.4883 - lr: 7.8767e-04\n",
      "Epoch 16/100\n",
      "1763/1771 [============================>.] - ETA: 0s - loss: 0.4826 - mse: 0.4826"
     ]
    },
    {
     "name": "stderr",
     "output_type": "stream",
     "text": [
      "WARNING:absl:Found untraced functions such as leaky_re_lu_layer_call_fn, leaky_re_lu_layer_call_and_return_conditional_losses, leaky_re_lu_1_layer_call_fn, leaky_re_lu_1_layer_call_and_return_conditional_losses, leaky_re_lu_2_layer_call_fn while saving (showing 5 of 16). These functions will not be directly callable after loading.\n"
     ]
    },
    {
     "name": "stdout",
     "output_type": "stream",
     "text": [
      "INFO:tensorflow:Assets written to: C:\\Users\\ucesvpm\\OneDrive - University College London\\PhD Project\\Data Analytics\\Time Series Clustering\\Third Test\\Time-Series-PhD\\wandb\\run-20230207_164808-0cckuv91\\files\\model-best\\assets\n"
     ]
    },
    {
     "name": "stderr",
     "output_type": "stream",
     "text": [
      "INFO:tensorflow:Assets written to: C:\\Users\\ucesvpm\\OneDrive - University College London\\PhD Project\\Data Analytics\\Time Series Clustering\\Third Test\\Time-Series-PhD\\wandb\\run-20230207_164808-0cckuv91\\files\\model-best\\assets\n",
      "\u001b[34m\u001b[1mwandb\u001b[0m: Adding directory to artifact (C:\\Users\\ucesvpm\\OneDrive - University College London\\PhD Project\\Data Analytics\\Time Series Clustering\\Third Test\\Time-Series-PhD\\wandb\\run-20230207_164808-0cckuv91\\files\\model-best)... Done. 0.0s\n"
     ]
    },
    {
     "name": "stdout",
     "output_type": "stream",
     "text": [
      "1771/1771 [==============================] - 11s 6ms/step - loss: 0.4826 - mse: 0.4826 - val_loss: 0.4880 - val_mse: 0.4880 - lr: 7.8767e-04\n",
      "Epoch 17/100\n",
      "1760/1771 [============================>.] - ETA: 0s - loss: 0.4815 - mse: 0.4815"
     ]
    },
    {
     "name": "stderr",
     "output_type": "stream",
     "text": [
      "WARNING:absl:Found untraced functions such as leaky_re_lu_layer_call_fn, leaky_re_lu_layer_call_and_return_conditional_losses, leaky_re_lu_1_layer_call_fn, leaky_re_lu_1_layer_call_and_return_conditional_losses, leaky_re_lu_2_layer_call_fn while saving (showing 5 of 16). These functions will not be directly callable after loading.\n"
     ]
    },
    {
     "name": "stdout",
     "output_type": "stream",
     "text": [
      "INFO:tensorflow:Assets written to: C:\\Users\\ucesvpm\\OneDrive - University College London\\PhD Project\\Data Analytics\\Time Series Clustering\\Third Test\\Time-Series-PhD\\wandb\\run-20230207_164808-0cckuv91\\files\\model-best\\assets\n"
     ]
    },
    {
     "name": "stderr",
     "output_type": "stream",
     "text": [
      "INFO:tensorflow:Assets written to: C:\\Users\\ucesvpm\\OneDrive - University College London\\PhD Project\\Data Analytics\\Time Series Clustering\\Third Test\\Time-Series-PhD\\wandb\\run-20230207_164808-0cckuv91\\files\\model-best\\assets\n",
      "\u001b[34m\u001b[1mwandb\u001b[0m: Adding directory to artifact (C:\\Users\\ucesvpm\\OneDrive - University College London\\PhD Project\\Data Analytics\\Time Series Clustering\\Third Test\\Time-Series-PhD\\wandb\\run-20230207_164808-0cckuv91\\files\\model-best)... Done. 0.0s\n"
     ]
    },
    {
     "name": "stdout",
     "output_type": "stream",
     "text": [
      "1771/1771 [==============================] - 12s 7ms/step - loss: 0.4815 - mse: 0.4815 - val_loss: 0.4858 - val_mse: 0.4858 - lr: 7.8767e-04\n",
      "Epoch 18/100\n",
      "1765/1771 [============================>.] - ETA: 0s - loss: 0.4805 - mse: 0.4805"
     ]
    },
    {
     "name": "stderr",
     "output_type": "stream",
     "text": [
      "WARNING:absl:Found untraced functions such as leaky_re_lu_layer_call_fn, leaky_re_lu_layer_call_and_return_conditional_losses, leaky_re_lu_1_layer_call_fn, leaky_re_lu_1_layer_call_and_return_conditional_losses, leaky_re_lu_2_layer_call_fn while saving (showing 5 of 16). These functions will not be directly callable after loading.\n"
     ]
    },
    {
     "name": "stdout",
     "output_type": "stream",
     "text": [
      "INFO:tensorflow:Assets written to: C:\\Users\\ucesvpm\\OneDrive - University College London\\PhD Project\\Data Analytics\\Time Series Clustering\\Third Test\\Time-Series-PhD\\wandb\\run-20230207_164808-0cckuv91\\files\\model-best\\assets\n"
     ]
    },
    {
     "name": "stderr",
     "output_type": "stream",
     "text": [
      "INFO:tensorflow:Assets written to: C:\\Users\\ucesvpm\\OneDrive - University College London\\PhD Project\\Data Analytics\\Time Series Clustering\\Third Test\\Time-Series-PhD\\wandb\\run-20230207_164808-0cckuv91\\files\\model-best\\assets\n",
      "\u001b[34m\u001b[1mwandb\u001b[0m: Adding directory to artifact (C:\\Users\\ucesvpm\\OneDrive - University College London\\PhD Project\\Data Analytics\\Time Series Clustering\\Third Test\\Time-Series-PhD\\wandb\\run-20230207_164808-0cckuv91\\files\\model-best)... Done. 0.0s\n"
     ]
    },
    {
     "name": "stdout",
     "output_type": "stream",
     "text": [
      "1771/1771 [==============================] - 12s 7ms/step - loss: 0.4805 - mse: 0.4805 - val_loss: 0.4847 - val_mse: 0.4847 - lr: 7.8767e-04\n",
      "Epoch 19/100\n",
      "1770/1771 [============================>.] - ETA: 0s - loss: 0.4796 - mse: 0.4796"
     ]
    },
    {
     "name": "stderr",
     "output_type": "stream",
     "text": [
      "WARNING:absl:Found untraced functions such as leaky_re_lu_layer_call_fn, leaky_re_lu_layer_call_and_return_conditional_losses, leaky_re_lu_1_layer_call_fn, leaky_re_lu_1_layer_call_and_return_conditional_losses, leaky_re_lu_2_layer_call_fn while saving (showing 5 of 16). These functions will not be directly callable after loading.\n"
     ]
    },
    {
     "name": "stdout",
     "output_type": "stream",
     "text": [
      "INFO:tensorflow:Assets written to: C:\\Users\\ucesvpm\\OneDrive - University College London\\PhD Project\\Data Analytics\\Time Series Clustering\\Third Test\\Time-Series-PhD\\wandb\\run-20230207_164808-0cckuv91\\files\\model-best\\assets\n"
     ]
    },
    {
     "name": "stderr",
     "output_type": "stream",
     "text": [
      "INFO:tensorflow:Assets written to: C:\\Users\\ucesvpm\\OneDrive - University College London\\PhD Project\\Data Analytics\\Time Series Clustering\\Third Test\\Time-Series-PhD\\wandb\\run-20230207_164808-0cckuv91\\files\\model-best\\assets\n",
      "\u001b[34m\u001b[1mwandb\u001b[0m: Adding directory to artifact (C:\\Users\\ucesvpm\\OneDrive - University College London\\PhD Project\\Data Analytics\\Time Series Clustering\\Third Test\\Time-Series-PhD\\wandb\\run-20230207_164808-0cckuv91\\files\\model-best)... Done. 0.0s\n"
     ]
    },
    {
     "name": "stdout",
     "output_type": "stream",
     "text": [
      "1771/1771 [==============================] - 12s 7ms/step - loss: 0.4796 - mse: 0.4796 - val_loss: 0.4844 - val_mse: 0.4844 - lr: 7.8767e-04\n",
      "Epoch 20/100\n",
      "1771/1771 [==============================] - ETA: 0s - loss: 0.4787 - mse: 0.4787"
     ]
    },
    {
     "name": "stderr",
     "output_type": "stream",
     "text": [
      "WARNING:absl:Found untraced functions such as leaky_re_lu_layer_call_fn, leaky_re_lu_layer_call_and_return_conditional_losses, leaky_re_lu_1_layer_call_fn, leaky_re_lu_1_layer_call_and_return_conditional_losses, leaky_re_lu_2_layer_call_fn while saving (showing 5 of 16). These functions will not be directly callable after loading.\n"
     ]
    },
    {
     "name": "stdout",
     "output_type": "stream",
     "text": [
      "INFO:tensorflow:Assets written to: C:\\Users\\ucesvpm\\OneDrive - University College London\\PhD Project\\Data Analytics\\Time Series Clustering\\Third Test\\Time-Series-PhD\\wandb\\run-20230207_164808-0cckuv91\\files\\model-best\\assets\n"
     ]
    },
    {
     "name": "stderr",
     "output_type": "stream",
     "text": [
      "INFO:tensorflow:Assets written to: C:\\Users\\ucesvpm\\OneDrive - University College London\\PhD Project\\Data Analytics\\Time Series Clustering\\Third Test\\Time-Series-PhD\\wandb\\run-20230207_164808-0cckuv91\\files\\model-best\\assets\n",
      "\u001b[34m\u001b[1mwandb\u001b[0m: Adding directory to artifact (C:\\Users\\ucesvpm\\OneDrive - University College London\\PhD Project\\Data Analytics\\Time Series Clustering\\Third Test\\Time-Series-PhD\\wandb\\run-20230207_164808-0cckuv91\\files\\model-best)... Done. 0.0s\n"
     ]
    },
    {
     "name": "stdout",
     "output_type": "stream",
     "text": [
      "1771/1771 [==============================] - 13s 8ms/step - loss: 0.4787 - mse: 0.4787 - val_loss: 0.4840 - val_mse: 0.4840 - lr: 7.8767e-04\n",
      "Epoch 21/100\n",
      "1765/1771 [============================>.] - ETA: 0s - loss: 0.4778 - mse: 0.4778"
     ]
    },
    {
     "name": "stderr",
     "output_type": "stream",
     "text": [
      "WARNING:absl:Found untraced functions such as leaky_re_lu_layer_call_fn, leaky_re_lu_layer_call_and_return_conditional_losses, leaky_re_lu_1_layer_call_fn, leaky_re_lu_1_layer_call_and_return_conditional_losses, leaky_re_lu_2_layer_call_fn while saving (showing 5 of 16). These functions will not be directly callable after loading.\n"
     ]
    },
    {
     "name": "stdout",
     "output_type": "stream",
     "text": [
      "INFO:tensorflow:Assets written to: C:\\Users\\ucesvpm\\OneDrive - University College London\\PhD Project\\Data Analytics\\Time Series Clustering\\Third Test\\Time-Series-PhD\\wandb\\run-20230207_164808-0cckuv91\\files\\model-best\\assets\n"
     ]
    },
    {
     "name": "stderr",
     "output_type": "stream",
     "text": [
      "INFO:tensorflow:Assets written to: C:\\Users\\ucesvpm\\OneDrive - University College London\\PhD Project\\Data Analytics\\Time Series Clustering\\Third Test\\Time-Series-PhD\\wandb\\run-20230207_164808-0cckuv91\\files\\model-best\\assets\n",
      "\u001b[34m\u001b[1mwandb\u001b[0m: Adding directory to artifact (C:\\Users\\ucesvpm\\OneDrive - University College London\\PhD Project\\Data Analytics\\Time Series Clustering\\Third Test\\Time-Series-PhD\\wandb\\run-20230207_164808-0cckuv91\\files\\model-best)... Done. 0.0s\n"
     ]
    },
    {
     "name": "stdout",
     "output_type": "stream",
     "text": [
      "1771/1771 [==============================] - 13s 7ms/step - loss: 0.4779 - mse: 0.4779 - val_loss: 0.4829 - val_mse: 0.4829 - lr: 7.8767e-04\n",
      "Epoch 22/100\n",
      "1759/1771 [============================>.] - ETA: 0s - loss: 0.4772 - mse: 0.4772"
     ]
    },
    {
     "name": "stderr",
     "output_type": "stream",
     "text": [
      "WARNING:absl:Found untraced functions such as leaky_re_lu_layer_call_fn, leaky_re_lu_layer_call_and_return_conditional_losses, leaky_re_lu_1_layer_call_fn, leaky_re_lu_1_layer_call_and_return_conditional_losses, leaky_re_lu_2_layer_call_fn while saving (showing 5 of 16). These functions will not be directly callable after loading.\n"
     ]
    },
    {
     "name": "stdout",
     "output_type": "stream",
     "text": [
      "INFO:tensorflow:Assets written to: C:\\Users\\ucesvpm\\OneDrive - University College London\\PhD Project\\Data Analytics\\Time Series Clustering\\Third Test\\Time-Series-PhD\\wandb\\run-20230207_164808-0cckuv91\\files\\model-best\\assets\n"
     ]
    },
    {
     "name": "stderr",
     "output_type": "stream",
     "text": [
      "INFO:tensorflow:Assets written to: C:\\Users\\ucesvpm\\OneDrive - University College London\\PhD Project\\Data Analytics\\Time Series Clustering\\Third Test\\Time-Series-PhD\\wandb\\run-20230207_164808-0cckuv91\\files\\model-best\\assets\n",
      "\u001b[34m\u001b[1mwandb\u001b[0m: Adding directory to artifact (C:\\Users\\ucesvpm\\OneDrive - University College London\\PhD Project\\Data Analytics\\Time Series Clustering\\Third Test\\Time-Series-PhD\\wandb\\run-20230207_164808-0cckuv91\\files\\model-best)... Done. 0.0s\n"
     ]
    },
    {
     "name": "stdout",
     "output_type": "stream",
     "text": [
      "1771/1771 [==============================] - 14s 8ms/step - loss: 0.4772 - mse: 0.4772 - val_loss: 0.4822 - val_mse: 0.4822 - lr: 7.8767e-04\n",
      "Epoch 23/100\n",
      "1761/1771 [============================>.] - ETA: 0s - loss: 0.4765 - mse: 0.4765"
     ]
    },
    {
     "name": "stderr",
     "output_type": "stream",
     "text": [
      "WARNING:absl:Found untraced functions such as leaky_re_lu_layer_call_fn, leaky_re_lu_layer_call_and_return_conditional_losses, leaky_re_lu_1_layer_call_fn, leaky_re_lu_1_layer_call_and_return_conditional_losses, leaky_re_lu_2_layer_call_fn while saving (showing 5 of 16). These functions will not be directly callable after loading.\n"
     ]
    },
    {
     "name": "stdout",
     "output_type": "stream",
     "text": [
      "INFO:tensorflow:Assets written to: C:\\Users\\ucesvpm\\OneDrive - University College London\\PhD Project\\Data Analytics\\Time Series Clustering\\Third Test\\Time-Series-PhD\\wandb\\run-20230207_164808-0cckuv91\\files\\model-best\\assets\n"
     ]
    },
    {
     "name": "stderr",
     "output_type": "stream",
     "text": [
      "INFO:tensorflow:Assets written to: C:\\Users\\ucesvpm\\OneDrive - University College London\\PhD Project\\Data Analytics\\Time Series Clustering\\Third Test\\Time-Series-PhD\\wandb\\run-20230207_164808-0cckuv91\\files\\model-best\\assets\n",
      "\u001b[34m\u001b[1mwandb\u001b[0m: Adding directory to artifact (C:\\Users\\ucesvpm\\OneDrive - University College London\\PhD Project\\Data Analytics\\Time Series Clustering\\Third Test\\Time-Series-PhD\\wandb\\run-20230207_164808-0cckuv91\\files\\model-best)... Done. 0.0s\n"
     ]
    },
    {
     "name": "stdout",
     "output_type": "stream",
     "text": [
      "1771/1771 [==============================] - 14s 8ms/step - loss: 0.4765 - mse: 0.4765 - val_loss: 0.4817 - val_mse: 0.4817 - lr: 7.8767e-04\n",
      "Epoch 24/100\n",
      "1766/1771 [============================>.] - ETA: 0s - loss: 0.4759 - mse: 0.4759"
     ]
    },
    {
     "name": "stderr",
     "output_type": "stream",
     "text": [
      "WARNING:absl:Found untraced functions such as leaky_re_lu_layer_call_fn, leaky_re_lu_layer_call_and_return_conditional_losses, leaky_re_lu_1_layer_call_fn, leaky_re_lu_1_layer_call_and_return_conditional_losses, leaky_re_lu_2_layer_call_fn while saving (showing 5 of 16). These functions will not be directly callable after loading.\n"
     ]
    },
    {
     "name": "stdout",
     "output_type": "stream",
     "text": [
      "INFO:tensorflow:Assets written to: C:\\Users\\ucesvpm\\OneDrive - University College London\\PhD Project\\Data Analytics\\Time Series Clustering\\Third Test\\Time-Series-PhD\\wandb\\run-20230207_164808-0cckuv91\\files\\model-best\\assets\n"
     ]
    },
    {
     "name": "stderr",
     "output_type": "stream",
     "text": [
      "INFO:tensorflow:Assets written to: C:\\Users\\ucesvpm\\OneDrive - University College London\\PhD Project\\Data Analytics\\Time Series Clustering\\Third Test\\Time-Series-PhD\\wandb\\run-20230207_164808-0cckuv91\\files\\model-best\\assets\n",
      "\u001b[34m\u001b[1mwandb\u001b[0m: Adding directory to artifact (C:\\Users\\ucesvpm\\OneDrive - University College London\\PhD Project\\Data Analytics\\Time Series Clustering\\Third Test\\Time-Series-PhD\\wandb\\run-20230207_164808-0cckuv91\\files\\model-best)... Done. 0.0s\n"
     ]
    },
    {
     "name": "stdout",
     "output_type": "stream",
     "text": [
      "1771/1771 [==============================] - 13s 8ms/step - loss: 0.4759 - mse: 0.4759 - val_loss: 0.4806 - val_mse: 0.4806 - lr: 7.8767e-04\n",
      "Epoch 25/100\n",
      "1760/1771 [============================>.] - ETA: 0s - loss: 0.4753 - mse: 0.4753"
     ]
    },
    {
     "name": "stderr",
     "output_type": "stream",
     "text": [
      "WARNING:absl:Found untraced functions such as leaky_re_lu_layer_call_fn, leaky_re_lu_layer_call_and_return_conditional_losses, leaky_re_lu_1_layer_call_fn, leaky_re_lu_1_layer_call_and_return_conditional_losses, leaky_re_lu_2_layer_call_fn while saving (showing 5 of 16). These functions will not be directly callable after loading.\n"
     ]
    },
    {
     "name": "stdout",
     "output_type": "stream",
     "text": [
      "INFO:tensorflow:Assets written to: C:\\Users\\ucesvpm\\OneDrive - University College London\\PhD Project\\Data Analytics\\Time Series Clustering\\Third Test\\Time-Series-PhD\\wandb\\run-20230207_164808-0cckuv91\\files\\model-best\\assets\n"
     ]
    },
    {
     "name": "stderr",
     "output_type": "stream",
     "text": [
      "INFO:tensorflow:Assets written to: C:\\Users\\ucesvpm\\OneDrive - University College London\\PhD Project\\Data Analytics\\Time Series Clustering\\Third Test\\Time-Series-PhD\\wandb\\run-20230207_164808-0cckuv91\\files\\model-best\\assets\n",
      "\u001b[34m\u001b[1mwandb\u001b[0m: Adding directory to artifact (C:\\Users\\ucesvpm\\OneDrive - University College London\\PhD Project\\Data Analytics\\Time Series Clustering\\Third Test\\Time-Series-PhD\\wandb\\run-20230207_164808-0cckuv91\\files\\model-best)... Done. 0.0s\n"
     ]
    },
    {
     "name": "stdout",
     "output_type": "stream",
     "text": [
      "1771/1771 [==============================] - 11s 6ms/step - loss: 0.4753 - mse: 0.4753 - val_loss: 0.4806 - val_mse: 0.4806 - lr: 7.8767e-04\n",
      "Epoch 26/100\n",
      "1767/1771 [============================>.] - ETA: 0s - loss: 0.4748 - mse: 0.4748"
     ]
    },
    {
     "name": "stderr",
     "output_type": "stream",
     "text": [
      "WARNING:absl:Found untraced functions such as leaky_re_lu_layer_call_fn, leaky_re_lu_layer_call_and_return_conditional_losses, leaky_re_lu_1_layer_call_fn, leaky_re_lu_1_layer_call_and_return_conditional_losses, leaky_re_lu_2_layer_call_fn while saving (showing 5 of 16). These functions will not be directly callable after loading.\n"
     ]
    },
    {
     "name": "stdout",
     "output_type": "stream",
     "text": [
      "INFO:tensorflow:Assets written to: C:\\Users\\ucesvpm\\OneDrive - University College London\\PhD Project\\Data Analytics\\Time Series Clustering\\Third Test\\Time-Series-PhD\\wandb\\run-20230207_164808-0cckuv91\\files\\model-best\\assets\n"
     ]
    },
    {
     "name": "stderr",
     "output_type": "stream",
     "text": [
      "INFO:tensorflow:Assets written to: C:\\Users\\ucesvpm\\OneDrive - University College London\\PhD Project\\Data Analytics\\Time Series Clustering\\Third Test\\Time-Series-PhD\\wandb\\run-20230207_164808-0cckuv91\\files\\model-best\\assets\n",
      "\u001b[34m\u001b[1mwandb\u001b[0m: Adding directory to artifact (C:\\Users\\ucesvpm\\OneDrive - University College London\\PhD Project\\Data Analytics\\Time Series Clustering\\Third Test\\Time-Series-PhD\\wandb\\run-20230207_164808-0cckuv91\\files\\model-best)... Done. 0.0s\n"
     ]
    },
    {
     "name": "stdout",
     "output_type": "stream",
     "text": [
      "1771/1771 [==============================] - 11s 6ms/step - loss: 0.4747 - mse: 0.4747 - val_loss: 0.4799 - val_mse: 0.4799 - lr: 7.8767e-04\n",
      "Epoch 27/100\n",
      "1767/1771 [============================>.] - ETA: 0s - loss: 0.4742 - mse: 0.4742"
     ]
    },
    {
     "name": "stderr",
     "output_type": "stream",
     "text": [
      "WARNING:absl:Found untraced functions such as leaky_re_lu_layer_call_fn, leaky_re_lu_layer_call_and_return_conditional_losses, leaky_re_lu_1_layer_call_fn, leaky_re_lu_1_layer_call_and_return_conditional_losses, leaky_re_lu_2_layer_call_fn while saving (showing 5 of 16). These functions will not be directly callable after loading.\n"
     ]
    },
    {
     "name": "stdout",
     "output_type": "stream",
     "text": [
      "INFO:tensorflow:Assets written to: C:\\Users\\ucesvpm\\OneDrive - University College London\\PhD Project\\Data Analytics\\Time Series Clustering\\Third Test\\Time-Series-PhD\\wandb\\run-20230207_164808-0cckuv91\\files\\model-best\\assets\n"
     ]
    },
    {
     "name": "stderr",
     "output_type": "stream",
     "text": [
      "INFO:tensorflow:Assets written to: C:\\Users\\ucesvpm\\OneDrive - University College London\\PhD Project\\Data Analytics\\Time Series Clustering\\Third Test\\Time-Series-PhD\\wandb\\run-20230207_164808-0cckuv91\\files\\model-best\\assets\n",
      "\u001b[34m\u001b[1mwandb\u001b[0m: Adding directory to artifact (C:\\Users\\ucesvpm\\OneDrive - University College London\\PhD Project\\Data Analytics\\Time Series Clustering\\Third Test\\Time-Series-PhD\\wandb\\run-20230207_164808-0cckuv91\\files\\model-best)... Done. 0.0s\n"
     ]
    },
    {
     "name": "stdout",
     "output_type": "stream",
     "text": [
      "1771/1771 [==============================] - 12s 7ms/step - loss: 0.4742 - mse: 0.4742 - val_loss: 0.4787 - val_mse: 0.4787 - lr: 7.8767e-04\n",
      "Epoch 28/100\n",
      "1771/1771 [==============================] - 9s 5ms/step - loss: 0.4737 - mse: 0.4737 - val_loss: 0.4790 - val_mse: 0.4790 - lr: 7.8767e-04\n",
      "Epoch 29/100\n",
      "1761/1771 [============================>.] - ETA: 0s - loss: 0.4733 - mse: 0.4733"
     ]
    },
    {
     "name": "stderr",
     "output_type": "stream",
     "text": [
      "WARNING:absl:Found untraced functions such as leaky_re_lu_layer_call_fn, leaky_re_lu_layer_call_and_return_conditional_losses, leaky_re_lu_1_layer_call_fn, leaky_re_lu_1_layer_call_and_return_conditional_losses, leaky_re_lu_2_layer_call_fn while saving (showing 5 of 16). These functions will not be directly callable after loading.\n"
     ]
    },
    {
     "name": "stdout",
     "output_type": "stream",
     "text": [
      "INFO:tensorflow:Assets written to: C:\\Users\\ucesvpm\\OneDrive - University College London\\PhD Project\\Data Analytics\\Time Series Clustering\\Third Test\\Time-Series-PhD\\wandb\\run-20230207_164808-0cckuv91\\files\\model-best\\assets\n"
     ]
    },
    {
     "name": "stderr",
     "output_type": "stream",
     "text": [
      "INFO:tensorflow:Assets written to: C:\\Users\\ucesvpm\\OneDrive - University College London\\PhD Project\\Data Analytics\\Time Series Clustering\\Third Test\\Time-Series-PhD\\wandb\\run-20230207_164808-0cckuv91\\files\\model-best\\assets\n",
      "\u001b[34m\u001b[1mwandb\u001b[0m: Adding directory to artifact (C:\\Users\\ucesvpm\\OneDrive - University College London\\PhD Project\\Data Analytics\\Time Series Clustering\\Third Test\\Time-Series-PhD\\wandb\\run-20230207_164808-0cckuv91\\files\\model-best)... Done. 0.0s\n"
     ]
    },
    {
     "name": "stdout",
     "output_type": "stream",
     "text": [
      "1771/1771 [==============================] - 11s 6ms/step - loss: 0.4732 - mse: 0.4732 - val_loss: 0.4777 - val_mse: 0.4777 - lr: 7.8767e-04\n",
      "Epoch 30/100\n",
      "1771/1771 [==============================] - 9s 5ms/step - loss: 0.4727 - mse: 0.4727 - val_loss: 0.4778 - val_mse: 0.4778 - lr: 7.8767e-04\n",
      "Epoch 31/100\n",
      "1764/1771 [============================>.] - ETA: 0s - loss: 0.4722 - mse: 0.4722"
     ]
    },
    {
     "name": "stderr",
     "output_type": "stream",
     "text": [
      "WARNING:absl:Found untraced functions such as leaky_re_lu_layer_call_fn, leaky_re_lu_layer_call_and_return_conditional_losses, leaky_re_lu_1_layer_call_fn, leaky_re_lu_1_layer_call_and_return_conditional_losses, leaky_re_lu_2_layer_call_fn while saving (showing 5 of 16). These functions will not be directly callable after loading.\n"
     ]
    },
    {
     "name": "stdout",
     "output_type": "stream",
     "text": [
      "INFO:tensorflow:Assets written to: C:\\Users\\ucesvpm\\OneDrive - University College London\\PhD Project\\Data Analytics\\Time Series Clustering\\Third Test\\Time-Series-PhD\\wandb\\run-20230207_164808-0cckuv91\\files\\model-best\\assets\n"
     ]
    },
    {
     "name": "stderr",
     "output_type": "stream",
     "text": [
      "INFO:tensorflow:Assets written to: C:\\Users\\ucesvpm\\OneDrive - University College London\\PhD Project\\Data Analytics\\Time Series Clustering\\Third Test\\Time-Series-PhD\\wandb\\run-20230207_164808-0cckuv91\\files\\model-best\\assets\n",
      "\u001b[34m\u001b[1mwandb\u001b[0m: Adding directory to artifact (C:\\Users\\ucesvpm\\OneDrive - University College London\\PhD Project\\Data Analytics\\Time Series Clustering\\Third Test\\Time-Series-PhD\\wandb\\run-20230207_164808-0cckuv91\\files\\model-best)... Done. 0.0s\n"
     ]
    },
    {
     "name": "stdout",
     "output_type": "stream",
     "text": [
      "1771/1771 [==============================] - 12s 7ms/step - loss: 0.4723 - mse: 0.4723 - val_loss: 0.4773 - val_mse: 0.4773 - lr: 7.8767e-04\n",
      "Epoch 32/100\n",
      "1763/1771 [============================>.] - ETA: 0s - loss: 0.4718 - mse: 0.4718"
     ]
    },
    {
     "name": "stderr",
     "output_type": "stream",
     "text": [
      "WARNING:absl:Found untraced functions such as leaky_re_lu_layer_call_fn, leaky_re_lu_layer_call_and_return_conditional_losses, leaky_re_lu_1_layer_call_fn, leaky_re_lu_1_layer_call_and_return_conditional_losses, leaky_re_lu_2_layer_call_fn while saving (showing 5 of 16). These functions will not be directly callable after loading.\n"
     ]
    },
    {
     "name": "stdout",
     "output_type": "stream",
     "text": [
      "INFO:tensorflow:Assets written to: C:\\Users\\ucesvpm\\OneDrive - University College London\\PhD Project\\Data Analytics\\Time Series Clustering\\Third Test\\Time-Series-PhD\\wandb\\run-20230207_164808-0cckuv91\\files\\model-best\\assets\n"
     ]
    },
    {
     "name": "stderr",
     "output_type": "stream",
     "text": [
      "INFO:tensorflow:Assets written to: C:\\Users\\ucesvpm\\OneDrive - University College London\\PhD Project\\Data Analytics\\Time Series Clustering\\Third Test\\Time-Series-PhD\\wandb\\run-20230207_164808-0cckuv91\\files\\model-best\\assets\n",
      "\u001b[34m\u001b[1mwandb\u001b[0m: Adding directory to artifact (C:\\Users\\ucesvpm\\OneDrive - University College London\\PhD Project\\Data Analytics\\Time Series Clustering\\Third Test\\Time-Series-PhD\\wandb\\run-20230207_164808-0cckuv91\\files\\model-best)... Done. 0.0s\n"
     ]
    },
    {
     "name": "stdout",
     "output_type": "stream",
     "text": [
      "1771/1771 [==============================] - 12s 7ms/step - loss: 0.4718 - mse: 0.4718 - val_loss: 0.4768 - val_mse: 0.4768 - lr: 7.8767e-04\n",
      "Epoch 33/100\n",
      "1769/1771 [============================>.] - ETA: 0s - loss: 0.4714 - mse: 0.4714"
     ]
    },
    {
     "name": "stderr",
     "output_type": "stream",
     "text": [
      "WARNING:absl:Found untraced functions such as leaky_re_lu_layer_call_fn, leaky_re_lu_layer_call_and_return_conditional_losses, leaky_re_lu_1_layer_call_fn, leaky_re_lu_1_layer_call_and_return_conditional_losses, leaky_re_lu_2_layer_call_fn while saving (showing 5 of 16). These functions will not be directly callable after loading.\n"
     ]
    },
    {
     "name": "stdout",
     "output_type": "stream",
     "text": [
      "INFO:tensorflow:Assets written to: C:\\Users\\ucesvpm\\OneDrive - University College London\\PhD Project\\Data Analytics\\Time Series Clustering\\Third Test\\Time-Series-PhD\\wandb\\run-20230207_164808-0cckuv91\\files\\model-best\\assets\n"
     ]
    },
    {
     "name": "stderr",
     "output_type": "stream",
     "text": [
      "INFO:tensorflow:Assets written to: C:\\Users\\ucesvpm\\OneDrive - University College London\\PhD Project\\Data Analytics\\Time Series Clustering\\Third Test\\Time-Series-PhD\\wandb\\run-20230207_164808-0cckuv91\\files\\model-best\\assets\n",
      "\u001b[34m\u001b[1mwandb\u001b[0m: Adding directory to artifact (C:\\Users\\ucesvpm\\OneDrive - University College London\\PhD Project\\Data Analytics\\Time Series Clustering\\Third Test\\Time-Series-PhD\\wandb\\run-20230207_164808-0cckuv91\\files\\model-best)... Done. 0.0s\n"
     ]
    },
    {
     "name": "stdout",
     "output_type": "stream",
     "text": [
      "1771/1771 [==============================] - 12s 7ms/step - loss: 0.4714 - mse: 0.4714 - val_loss: 0.4762 - val_mse: 0.4762 - lr: 7.8767e-04\n",
      "Epoch 34/100\n",
      "1763/1771 [============================>.] - ETA: 0s - loss: 0.4709 - mse: 0.4709"
     ]
    },
    {
     "name": "stderr",
     "output_type": "stream",
     "text": [
      "WARNING:absl:Found untraced functions such as leaky_re_lu_layer_call_fn, leaky_re_lu_layer_call_and_return_conditional_losses, leaky_re_lu_1_layer_call_fn, leaky_re_lu_1_layer_call_and_return_conditional_losses, leaky_re_lu_2_layer_call_fn while saving (showing 5 of 16). These functions will not be directly callable after loading.\n"
     ]
    },
    {
     "name": "stdout",
     "output_type": "stream",
     "text": [
      "INFO:tensorflow:Assets written to: C:\\Users\\ucesvpm\\OneDrive - University College London\\PhD Project\\Data Analytics\\Time Series Clustering\\Third Test\\Time-Series-PhD\\wandb\\run-20230207_164808-0cckuv91\\files\\model-best\\assets\n"
     ]
    },
    {
     "name": "stderr",
     "output_type": "stream",
     "text": [
      "INFO:tensorflow:Assets written to: C:\\Users\\ucesvpm\\OneDrive - University College London\\PhD Project\\Data Analytics\\Time Series Clustering\\Third Test\\Time-Series-PhD\\wandb\\run-20230207_164808-0cckuv91\\files\\model-best\\assets\n",
      "\u001b[34m\u001b[1mwandb\u001b[0m: Adding directory to artifact (C:\\Users\\ucesvpm\\OneDrive - University College London\\PhD Project\\Data Analytics\\Time Series Clustering\\Third Test\\Time-Series-PhD\\wandb\\run-20230207_164808-0cckuv91\\files\\model-best)... Done. 0.0s\n"
     ]
    },
    {
     "name": "stdout",
     "output_type": "stream",
     "text": [
      "1771/1771 [==============================] - 13s 7ms/step - loss: 0.4710 - mse: 0.4710 - val_loss: 0.4756 - val_mse: 0.4756 - lr: 7.8767e-04\n",
      "Epoch 35/100\n",
      "1771/1771 [==============================] - 9s 5ms/step - loss: 0.4706 - mse: 0.4706 - val_loss: 0.4761 - val_mse: 0.4761 - lr: 7.8767e-04\n",
      "Epoch 36/100\n",
      "1771/1771 [==============================] - 9s 5ms/step - loss: 0.4702 - mse: 0.4702 - val_loss: 0.4758 - val_mse: 0.4758 - lr: 7.8767e-04\n",
      "Epoch 37/100\n",
      "1764/1771 [============================>.] - ETA: 0s - loss: 0.4699 - mse: 0.4699"
     ]
    },
    {
     "name": "stderr",
     "output_type": "stream",
     "text": [
      "WARNING:absl:Found untraced functions such as leaky_re_lu_layer_call_fn, leaky_re_lu_layer_call_and_return_conditional_losses, leaky_re_lu_1_layer_call_fn, leaky_re_lu_1_layer_call_and_return_conditional_losses, leaky_re_lu_2_layer_call_fn while saving (showing 5 of 16). These functions will not be directly callable after loading.\n"
     ]
    },
    {
     "name": "stdout",
     "output_type": "stream",
     "text": [
      "INFO:tensorflow:Assets written to: C:\\Users\\ucesvpm\\OneDrive - University College London\\PhD Project\\Data Analytics\\Time Series Clustering\\Third Test\\Time-Series-PhD\\wandb\\run-20230207_164808-0cckuv91\\files\\model-best\\assets\n"
     ]
    },
    {
     "name": "stderr",
     "output_type": "stream",
     "text": [
      "INFO:tensorflow:Assets written to: C:\\Users\\ucesvpm\\OneDrive - University College London\\PhD Project\\Data Analytics\\Time Series Clustering\\Third Test\\Time-Series-PhD\\wandb\\run-20230207_164808-0cckuv91\\files\\model-best\\assets\n",
      "\u001b[34m\u001b[1mwandb\u001b[0m: Adding directory to artifact (C:\\Users\\ucesvpm\\OneDrive - University College London\\PhD Project\\Data Analytics\\Time Series Clustering\\Third Test\\Time-Series-PhD\\wandb\\run-20230207_164808-0cckuv91\\files\\model-best)... Done. 0.0s\n"
     ]
    },
    {
     "name": "stdout",
     "output_type": "stream",
     "text": [
      "1771/1771 [==============================] - 11s 6ms/step - loss: 0.4698 - mse: 0.4698 - val_loss: 0.4752 - val_mse: 0.4752 - lr: 7.8767e-04\n",
      "Epoch 38/100\n",
      "1761/1771 [============================>.] - ETA: 0s - loss: 0.4696 - mse: 0.4696"
     ]
    },
    {
     "name": "stderr",
     "output_type": "stream",
     "text": [
      "WARNING:absl:Found untraced functions such as leaky_re_lu_layer_call_fn, leaky_re_lu_layer_call_and_return_conditional_losses, leaky_re_lu_1_layer_call_fn, leaky_re_lu_1_layer_call_and_return_conditional_losses, leaky_re_lu_2_layer_call_fn while saving (showing 5 of 16). These functions will not be directly callable after loading.\n"
     ]
    },
    {
     "name": "stdout",
     "output_type": "stream",
     "text": [
      "INFO:tensorflow:Assets written to: C:\\Users\\ucesvpm\\OneDrive - University College London\\PhD Project\\Data Analytics\\Time Series Clustering\\Third Test\\Time-Series-PhD\\wandb\\run-20230207_164808-0cckuv91\\files\\model-best\\assets\n"
     ]
    },
    {
     "name": "stderr",
     "output_type": "stream",
     "text": [
      "INFO:tensorflow:Assets written to: C:\\Users\\ucesvpm\\OneDrive - University College London\\PhD Project\\Data Analytics\\Time Series Clustering\\Third Test\\Time-Series-PhD\\wandb\\run-20230207_164808-0cckuv91\\files\\model-best\\assets\n",
      "\u001b[34m\u001b[1mwandb\u001b[0m: Adding directory to artifact (C:\\Users\\ucesvpm\\OneDrive - University College London\\PhD Project\\Data Analytics\\Time Series Clustering\\Third Test\\Time-Series-PhD\\wandb\\run-20230207_164808-0cckuv91\\files\\model-best)... Done. 0.0s\n"
     ]
    },
    {
     "name": "stdout",
     "output_type": "stream",
     "text": [
      "1771/1771 [==============================] - 12s 7ms/step - loss: 0.4695 - mse: 0.4695 - val_loss: 0.4743 - val_mse: 0.4743 - lr: 7.8767e-04\n",
      "Epoch 39/100\n",
      "1771/1771 [==============================] - 10s 6ms/step - loss: 0.4692 - mse: 0.4692 - val_loss: 0.4747 - val_mse: 0.4747 - lr: 7.8767e-04\n",
      "Epoch 40/100\n",
      "1771/1771 [==============================] - 9s 5ms/step - loss: 0.4689 - mse: 0.4689 - val_loss: 0.4743 - val_mse: 0.4743 - lr: 7.8767e-04\n",
      "Epoch 41/100\n",
      "1768/1771 [============================>.] - ETA: 0s - loss: 0.4685 - mse: 0.4685"
     ]
    },
    {
     "name": "stderr",
     "output_type": "stream",
     "text": [
      "WARNING:absl:Found untraced functions such as leaky_re_lu_layer_call_fn, leaky_re_lu_layer_call_and_return_conditional_losses, leaky_re_lu_1_layer_call_fn, leaky_re_lu_1_layer_call_and_return_conditional_losses, leaky_re_lu_2_layer_call_fn while saving (showing 5 of 16). These functions will not be directly callable after loading.\n"
     ]
    },
    {
     "name": "stdout",
     "output_type": "stream",
     "text": [
      "INFO:tensorflow:Assets written to: C:\\Users\\ucesvpm\\OneDrive - University College London\\PhD Project\\Data Analytics\\Time Series Clustering\\Third Test\\Time-Series-PhD\\wandb\\run-20230207_164808-0cckuv91\\files\\model-best\\assets\n"
     ]
    },
    {
     "name": "stderr",
     "output_type": "stream",
     "text": [
      "INFO:tensorflow:Assets written to: C:\\Users\\ucesvpm\\OneDrive - University College London\\PhD Project\\Data Analytics\\Time Series Clustering\\Third Test\\Time-Series-PhD\\wandb\\run-20230207_164808-0cckuv91\\files\\model-best\\assets\n",
      "\u001b[34m\u001b[1mwandb\u001b[0m: Adding directory to artifact (C:\\Users\\ucesvpm\\OneDrive - University College London\\PhD Project\\Data Analytics\\Time Series Clustering\\Third Test\\Time-Series-PhD\\wandb\\run-20230207_164808-0cckuv91\\files\\model-best)... Done. 0.0s\n"
     ]
    },
    {
     "name": "stdout",
     "output_type": "stream",
     "text": [
      "1771/1771 [==============================] - 12s 7ms/step - loss: 0.4685 - mse: 0.4685 - val_loss: 0.4737 - val_mse: 0.4737 - lr: 7.8767e-04\n",
      "Epoch 42/100\n",
      "1766/1771 [============================>.] - ETA: 0s - loss: 0.4682 - mse: 0.4682"
     ]
    },
    {
     "name": "stderr",
     "output_type": "stream",
     "text": [
      "WARNING:absl:Found untraced functions such as leaky_re_lu_layer_call_fn, leaky_re_lu_layer_call_and_return_conditional_losses, leaky_re_lu_1_layer_call_fn, leaky_re_lu_1_layer_call_and_return_conditional_losses, leaky_re_lu_2_layer_call_fn while saving (showing 5 of 16). These functions will not be directly callable after loading.\n"
     ]
    },
    {
     "name": "stdout",
     "output_type": "stream",
     "text": [
      "INFO:tensorflow:Assets written to: C:\\Users\\ucesvpm\\OneDrive - University College London\\PhD Project\\Data Analytics\\Time Series Clustering\\Third Test\\Time-Series-PhD\\wandb\\run-20230207_164808-0cckuv91\\files\\model-best\\assets\n"
     ]
    },
    {
     "name": "stderr",
     "output_type": "stream",
     "text": [
      "INFO:tensorflow:Assets written to: C:\\Users\\ucesvpm\\OneDrive - University College London\\PhD Project\\Data Analytics\\Time Series Clustering\\Third Test\\Time-Series-PhD\\wandb\\run-20230207_164808-0cckuv91\\files\\model-best\\assets\n",
      "\u001b[34m\u001b[1mwandb\u001b[0m: Adding directory to artifact (C:\\Users\\ucesvpm\\OneDrive - University College London\\PhD Project\\Data Analytics\\Time Series Clustering\\Third Test\\Time-Series-PhD\\wandb\\run-20230207_164808-0cckuv91\\files\\model-best)... Done. 0.0s\n"
     ]
    },
    {
     "name": "stdout",
     "output_type": "stream",
     "text": [
      "1771/1771 [==============================] - 13s 7ms/step - loss: 0.4681 - mse: 0.4681 - val_loss: 0.4735 - val_mse: 0.4735 - lr: 7.8767e-04\n",
      "Epoch 43/100\n",
      "1771/1771 [==============================] - ETA: 0s - loss: 0.4678 - mse: 0.4678"
     ]
    },
    {
     "name": "stderr",
     "output_type": "stream",
     "text": [
      "WARNING:absl:Found untraced functions such as leaky_re_lu_layer_call_fn, leaky_re_lu_layer_call_and_return_conditional_losses, leaky_re_lu_1_layer_call_fn, leaky_re_lu_1_layer_call_and_return_conditional_losses, leaky_re_lu_2_layer_call_fn while saving (showing 5 of 16). These functions will not be directly callable after loading.\n"
     ]
    },
    {
     "name": "stdout",
     "output_type": "stream",
     "text": [
      "INFO:tensorflow:Assets written to: C:\\Users\\ucesvpm\\OneDrive - University College London\\PhD Project\\Data Analytics\\Time Series Clustering\\Third Test\\Time-Series-PhD\\wandb\\run-20230207_164808-0cckuv91\\files\\model-best\\assets\n"
     ]
    },
    {
     "name": "stderr",
     "output_type": "stream",
     "text": [
      "INFO:tensorflow:Assets written to: C:\\Users\\ucesvpm\\OneDrive - University College London\\PhD Project\\Data Analytics\\Time Series Clustering\\Third Test\\Time-Series-PhD\\wandb\\run-20230207_164808-0cckuv91\\files\\model-best\\assets\n",
      "\u001b[34m\u001b[1mwandb\u001b[0m: Adding directory to artifact (C:\\Users\\ucesvpm\\OneDrive - University College London\\PhD Project\\Data Analytics\\Time Series Clustering\\Third Test\\Time-Series-PhD\\wandb\\run-20230207_164808-0cckuv91\\files\\model-best)... Done. 0.0s\n"
     ]
    },
    {
     "name": "stdout",
     "output_type": "stream",
     "text": [
      "1771/1771 [==============================] - 12s 6ms/step - loss: 0.4678 - mse: 0.4678 - val_loss: 0.4733 - val_mse: 0.4733 - lr: 7.8767e-04\n",
      "Epoch 44/100\n",
      "1763/1771 [============================>.] - ETA: 0s - loss: 0.4675 - mse: 0.4675"
     ]
    },
    {
     "name": "stderr",
     "output_type": "stream",
     "text": [
      "WARNING:absl:Found untraced functions such as leaky_re_lu_layer_call_fn, leaky_re_lu_layer_call_and_return_conditional_losses, leaky_re_lu_1_layer_call_fn, leaky_re_lu_1_layer_call_and_return_conditional_losses, leaky_re_lu_2_layer_call_fn while saving (showing 5 of 16). These functions will not be directly callable after loading.\n"
     ]
    },
    {
     "name": "stdout",
     "output_type": "stream",
     "text": [
      "INFO:tensorflow:Assets written to: C:\\Users\\ucesvpm\\OneDrive - University College London\\PhD Project\\Data Analytics\\Time Series Clustering\\Third Test\\Time-Series-PhD\\wandb\\run-20230207_164808-0cckuv91\\files\\model-best\\assets\n"
     ]
    },
    {
     "name": "stderr",
     "output_type": "stream",
     "text": [
      "INFO:tensorflow:Assets written to: C:\\Users\\ucesvpm\\OneDrive - University College London\\PhD Project\\Data Analytics\\Time Series Clustering\\Third Test\\Time-Series-PhD\\wandb\\run-20230207_164808-0cckuv91\\files\\model-best\\assets\n",
      "\u001b[34m\u001b[1mwandb\u001b[0m: Adding directory to artifact (C:\\Users\\ucesvpm\\OneDrive - University College London\\PhD Project\\Data Analytics\\Time Series Clustering\\Third Test\\Time-Series-PhD\\wandb\\run-20230207_164808-0cckuv91\\files\\model-best)... Done. 0.0s\n"
     ]
    },
    {
     "name": "stdout",
     "output_type": "stream",
     "text": [
      "1771/1771 [==============================] - 11s 6ms/step - loss: 0.4675 - mse: 0.4675 - val_loss: 0.4728 - val_mse: 0.4728 - lr: 7.8767e-04\n",
      "Epoch 45/100\n",
      "1762/1771 [============================>.] - ETA: 0s - loss: 0.4673 - mse: 0.4673"
     ]
    },
    {
     "data": {
      "text/html": [
       "Waiting for W&B process to finish... <strong style=\"color:red\">(failed 1).</strong> Press Ctrl-C to abort syncing."
      ],
      "text/plain": [
       "<IPython.core.display.HTML object>"
      ]
     },
     "metadata": {},
     "output_type": "display_data"
    },
    {
     "data": {
      "text/html": [
       "<style>\n",
       "    table.wandb td:nth-child(1) { padding: 0 10px; text-align: left ; width: auto;} td:nth-child(2) {text-align: left ; width: 100%}\n",
       "    .wandb-row { display: flex; flex-direction: row; flex-wrap: wrap; justify-content: flex-start; width: 100% }\n",
       "    .wandb-col { display: flex; flex-direction: column; flex-basis: 100%; flex: 1; padding: 10px; }\n",
       "    </style>\n",
       "<div class=\"wandb-row\"><div class=\"wandb-col\"><h3>Run history:</h3><br/><table class=\"wandb\"><tr><td>epoch</td><td>▁▁▁▁▂▂▂▂▂▃▃▃▃▃▃▄▄▄▄▄▅▅▅▅▅▅▆▆▆▆▆▆▇▇▇▇▇███</td></tr><tr><td>loss</td><td>█▄▃▂▂▂▂▂▂▂▂▁▁▁▁▁▁▁▁▁▁▁▁▁▁▁▁▁▁▁▁▁▁▁▁▁▁▁▁▁</td></tr><tr><td>mse</td><td>█▄▃▂▂▂▂▂▂▂▂▁▁▁▁▁▁▁▁▁▁▁▁▁▁▁▁▁▁▁▁▁▁▁▁▁▁▁▁▁</td></tr><tr><td>val_loss</td><td>█▅▄▄▃▃▃▂▂▂▂▂▂▂▂▂▂▂▂▁▁▁▁▁▁▁▁▁▁▁▁▁▁▁▁▁▁▁▁▁</td></tr><tr><td>val_mse</td><td>█▅▄▄▃▃▃▂▂▂▂▂▂▂▂▂▂▂▂▁▁▁▁▁▁▁▁▁▁▁▁▁▁▁▁▁▁▁▁▁</td></tr></table><br/></div><div class=\"wandb-col\"><h3>Run summary:</h3><br/><table class=\"wandb\"><tr><td>best_epoch</td><td>44</td></tr><tr><td>best_val_loss</td><td>0.47275</td></tr><tr><td>epoch</td><td>44</td></tr><tr><td>loss</td><td>0.46723</td></tr><tr><td>mse</td><td>0.46723</td></tr><tr><td>val_loss</td><td>0.47275</td></tr><tr><td>val_mse</td><td>0.47275</td></tr></table><br/></div></div>"
      ],
      "text/plain": [
       "<IPython.core.display.HTML object>"
      ]
     },
     "metadata": {},
     "output_type": "display_data"
    },
    {
     "data": {
      "text/html": [
       "Synced <strong style=\"color:#cdcd00\">dandy-sweep-4</strong>: <a href=\"https://wandb.ai/vasco-phd/FC_AE-Kenya_10k_Set_1_w90/runs/0cckuv91\" target=\"_blank\">https://wandb.ai/vasco-phd/FC_AE-Kenya_10k_Set_1_w90/runs/0cckuv91</a><br/>Synced 6 W&B file(s), 1 media file(s), 115 artifact file(s) and 1 other file(s)"
      ],
      "text/plain": [
       "<IPython.core.display.HTML object>"
      ]
     },
     "metadata": {},
     "output_type": "display_data"
    },
    {
     "data": {
      "text/html": [
       "Find logs at: <code>.\\wandb\\run-20230207_164808-0cckuv91\\logs</code>"
      ],
      "text/plain": [
       "<IPython.core.display.HTML object>"
      ]
     },
     "metadata": {},
     "output_type": "display_data"
    },
    {
     "name": "stderr",
     "output_type": "stream",
     "text": [
      "Run 0cckuv91 errored: PermissionError(13, \"Unable to create file (unable to open file: name = 'C:\\\\Users\\\\ucesvpm\\\\OneDrive - University College London\\\\PhD Project\\\\Data Analytics\\\\Time Series Clustering\\\\Third Test\\\\Time-Series-PhD\\\\wandb\\\\run-20230207_164808-0cckuv91\\\\files\\\\model-best.h5', errno = 13, error message = 'Permission denied', flags = 13, o_flags = 302)\")\n",
      "\u001b[34m\u001b[1mwandb\u001b[0m: \u001b[32m\u001b[41mERROR\u001b[0m Run 0cckuv91 errored: PermissionError(13, \"Unable to create file (unable to open file: name = 'C:\\\\Users\\\\ucesvpm\\\\OneDrive - University College London\\\\PhD Project\\\\Data Analytics\\\\Time Series Clustering\\\\Third Test\\\\Time-Series-PhD\\\\wandb\\\\run-20230207_164808-0cckuv91\\\\files\\\\model-best.h5', errno = 13, error message = 'Permission denied', flags = 13, o_flags = 302)\")\n",
      "\u001b[34m\u001b[1mwandb\u001b[0m: Sweep Agent: Waiting for job.\n",
      "\u001b[34m\u001b[1mwandb\u001b[0m: Sweep Agent: Exiting.\n"
     ]
    }
   ],
   "source": [
    "wandb.agent(sweep_id, function=sweep_train, count= sweep_count)"
   ]
  },
  {
   "cell_type": "code",
   "execution_count": 26,
   "id": "432abfaa-0e16-401c-8c4b-26bed42d3854",
   "metadata": {
    "tags": []
   },
   "outputs": [],
   "source": [
    "wandb.finish()"
   ]
  },
  {
   "cell_type": "markdown",
   "id": "19ddc5f5-c6f0-4d3d-aecf-c2e4694bad51",
   "metadata": {},
   "source": [
    "---\n",
    "# Debugging"
   ]
  },
  {
   "cell_type": "code",
   "execution_count": null,
   "id": "0e9e9638-c54d-4a4b-9d1d-ceec3bdb41cb",
   "metadata": {},
   "outputs": [],
   "source": []
  }
 ],
 "metadata": {
  "kernelspec": {
   "display_name": "Python 3 (ipykernel)",
   "language": "python",
   "name": "python3"
  },
  "language_info": {
   "codemirror_mode": {
    "name": "ipython",
    "version": 3
   },
   "file_extension": ".py",
   "mimetype": "text/x-python",
   "name": "python",
   "nbconvert_exporter": "python",
   "pygments_lexer": "ipython3",
   "version": "3.9.15"
  }
 },
 "nbformat": 4,
 "nbformat_minor": 5
}
