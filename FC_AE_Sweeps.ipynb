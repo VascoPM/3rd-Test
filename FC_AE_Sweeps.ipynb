{
 "cells": [
  {
   "cell_type": "markdown",
   "id": "799e2b5a-775a-49d6-98af-53d20db4394f",
   "metadata": {},
   "source": [
    "# Fully Connected Auto-Encoder wb Sweeps\n",
    "### $Time$ $Series$ $3rd$ $Test$\n",
    "\n",
    "$Vasco$ $Mergulhão$ $-$ $Jan$ $2023$\n",
    "\n",
    "### Version 1:\n",
    " - Applies Weights and Biases Sweeps on a given Sub-Sample.\n",
    " - Only uses FC-AE architectures"
   ]
  },
  {
   "cell_type": "markdown",
   "id": "14e09955-8b34-471f-9666-6be4c3d7d84b",
   "metadata": {
    "tags": []
   },
   "source": [
    "### ANN Configurations:"
   ]
  },
  {
   "cell_type": "markdown",
   "id": "7006642b-d7cf-492d-912c-7b3ba615f4df",
   "metadata": {
    "tags": []
   },
   "source": [
    "- #### Architecture(s)\n",
    "    - Fully Connected Auto Encoder\n",
    "        - Small (Input, 200, 200, Enconder)\n",
    "        - Medium (Input, 300, 300, 300, 300, Encoder)\n",
    "        - End2End [other papers orig ref] (Input, 500, 500, 2000, Encoder)\n",
    "    \n",
    "- #### Hyperparamenters\n",
    "    - Latent Space Size\n",
    "    - Batch Size\n",
    "        - Small test [2 - 32] and Large test [128 - 256]\n",
    "    - Learning Rate\n",
    "    - Learning Rate Scheduler\n",
    "        - Performance Schedulling\n",
    "    - Activation Functions\n",
    "        - SELU and Leaky ReLU\n",
    "    - Initializations\n",
    "        - LeCun and He (accordingly)\n",
    "    - Batch Normalization\n",
    "        - With/Without tests (note: if data is not z-scored, SELU not worth it, downgrade to ELU)\n",
    "    - Optimizers\n",
    "        - Nadam and SDG(momentum [0.9], Nesterov)\n",
    "    - Epochs\n",
    "        - 100 with Early Stopping\n",
    " "
   ]
  },
  {
   "cell_type": "markdown",
   "id": "6f1205a3-bfeb-40f8-9106-b3598695acb6",
   "metadata": {},
   "source": [
    "---\n",
    "# "
   ]
  },
  {
   "cell_type": "code",
   "execution_count": 1,
   "id": "f50a0cab-db27-40d4-be64-2087fe36b97b",
   "metadata": {},
   "outputs": [],
   "source": [
    "import os\n",
    "import random\n",
    "\n",
    "import pandas as pd\n",
    "import numpy as np\n",
    "import matplotlib.pyplot as plt\n",
    "from datetime import timedelta, date\n",
    "import time\n",
    "import datetime\n",
    "import scipy\n",
    "\n",
    "import tensorflow as tf\n",
    "from tensorflow.keras.models import Sequential\n",
    "from tensorflow.keras.layers import Dense, Input, LeakyReLU, Activation\n",
    "from tensorflow.keras.callbacks import LambdaCallback\n",
    "from tensorflow import keras\n",
    "\n",
    "import wandb\n",
    "from wandb.keras import WandbCallback\n",
    "\n",
    "from sklearn.model_selection import train_test_split"
   ]
  },
  {
   "cell_type": "markdown",
   "id": "c6c19390-b3cd-49c5-82dc-b0618be84be2",
   "metadata": {},
   "source": [
    "---\n",
    "# Script Variables"
   ]
  },
  {
   "cell_type": "code",
   "execution_count": 2,
   "id": "b3e07d23-de4a-4f84-8ce5-fcad4e8db1b3",
   "metadata": {},
   "outputs": [],
   "source": [
    "# Defines Dataset for the Sweep\n",
    "dataset_name = 'Kenya_10k_Set_1_w90'\n",
    "\n",
    "# Uses name to navigate folders\n",
    "dataset_folder = \"_\".join(dataset_name.split('_')[:-1]) #Takes out window length section\n",
    "dataset_location = f'Data/{dataset_folder}/{dataset_name}.csv'\n",
    "\n",
    "# Zcore Data Decision\n",
    "zscore_data = True # Set to: [True/False]\n",
    "zscore_data_done = False # Always set to False. Ensures its not normalized multiple times\n",
    "\n",
    "# Sweep Names and Tags\n",
    "Project_Name = f'FC_AE-{dataset_name}'\n",
    "AE_Model_Name = 'FC_Small' # Options: FC_Small, FC_Medium\n",
    "Sweep_Config = f'{AE_Model_Name}_v1'\n",
    "sweep_count = 6\n",
    "# Model variables\n",
    "latent_layer_size = 5"
   ]
  },
  {
   "cell_type": "code",
   "execution_count": 3,
   "id": "fe15b696-cd03-4bd7-a797-f8e276c060ee",
   "metadata": {},
   "outputs": [],
   "source": [
    "def window_col_names(dataset_name, win_prefix = 'd'):\n",
    "    # retriving window length\n",
    "    window_len = int(dataset_name.split('_')[-1][1:]) # Gets _wXX part of name, then skips 'w' to get the number.\n",
    "    # defining window column names\n",
    "    window_cols = [None]*window_len\n",
    "    for i  in range(window_len):\n",
    "        window_cols[i] = f'{win_prefix}' + str(i+1)\n",
    "        \n",
    "    return window_cols"
   ]
  },
  {
   "cell_type": "markdown",
   "id": "497e7f7a-21f0-4ec6-9f62-679309343302",
   "metadata": {},
   "source": [
    "---\n",
    "# Data Imports"
   ]
  },
  {
   "cell_type": "code",
   "execution_count": 4,
   "id": "aa08f090-20ce-4dad-a0fd-d45bc11be782",
   "metadata": {},
   "outputs": [],
   "source": [
    "Data = pd.read_csv(dataset_location)"
   ]
  },
  {
   "cell_type": "code",
   "execution_count": 5,
   "id": "454b1a56-50a5-4de5-910a-21d1a1a02a42",
   "metadata": {},
   "outputs": [
    {
     "data": {
      "text/html": [
       "<div>\n",
       "<style scoped>\n",
       "    .dataframe tbody tr th:only-of-type {\n",
       "        vertical-align: middle;\n",
       "    }\n",
       "\n",
       "    .dataframe tbody tr th {\n",
       "        vertical-align: top;\n",
       "    }\n",
       "\n",
       "    .dataframe thead th {\n",
       "        text-align: right;\n",
       "    }\n",
       "</style>\n",
       "<table border=\"1\" class=\"dataframe\">\n",
       "  <thead>\n",
       "    <tr style=\"text-align: right;\">\n",
       "      <th></th>\n",
       "      <th>short_ID</th>\n",
       "      <th>window_ID</th>\n",
       "      <th>window_start_date</th>\n",
       "      <th>d1</th>\n",
       "      <th>d2</th>\n",
       "      <th>d3</th>\n",
       "      <th>d4</th>\n",
       "      <th>d5</th>\n",
       "      <th>d6</th>\n",
       "      <th>d7</th>\n",
       "      <th>...</th>\n",
       "      <th>d81</th>\n",
       "      <th>d82</th>\n",
       "      <th>d83</th>\n",
       "      <th>d84</th>\n",
       "      <th>d85</th>\n",
       "      <th>d86</th>\n",
       "      <th>d87</th>\n",
       "      <th>d88</th>\n",
       "      <th>d89</th>\n",
       "      <th>d90</th>\n",
       "    </tr>\n",
       "  </thead>\n",
       "  <tbody>\n",
       "    <tr>\n",
       "      <th>0</th>\n",
       "      <td>347</td>\n",
       "      <td>0</td>\n",
       "      <td>2018-01-19</td>\n",
       "      <td>15.422222</td>\n",
       "      <td>14.422222</td>\n",
       "      <td>13.422222</td>\n",
       "      <td>12.422222</td>\n",
       "      <td>11.422222</td>\n",
       "      <td>10.422222</td>\n",
       "      <td>9.422222</td>\n",
       "      <td>...</td>\n",
       "      <td>8.696088</td>\n",
       "      <td>6.709653</td>\n",
       "      <td>6.696088</td>\n",
       "      <td>5.696088</td>\n",
       "      <td>3.730243</td>\n",
       "      <td>3.696088</td>\n",
       "      <td>1.740706</td>\n",
       "      <td>0.744016</td>\n",
       "      <td>-7.000000</td>\n",
       "      <td>-7.000000</td>\n",
       "    </tr>\n",
       "    <tr>\n",
       "      <th>1</th>\n",
       "      <td>347</td>\n",
       "      <td>1</td>\n",
       "      <td>2018-04-19</td>\n",
       "      <td>6.475880</td>\n",
       "      <td>4.490544</td>\n",
       "      <td>4.475880</td>\n",
       "      <td>3.475880</td>\n",
       "      <td>2.475880</td>\n",
       "      <td>1.475880</td>\n",
       "      <td>-7.000000</td>\n",
       "      <td>...</td>\n",
       "      <td>-7.000000</td>\n",
       "      <td>-7.000000</td>\n",
       "      <td>-7.000000</td>\n",
       "      <td>-7.000000</td>\n",
       "      <td>-7.000000</td>\n",
       "      <td>-7.000000</td>\n",
       "      <td>-7.000000</td>\n",
       "      <td>6.634468</td>\n",
       "      <td>5.634468</td>\n",
       "      <td>4.634468</td>\n",
       "    </tr>\n",
       "    <tr>\n",
       "      <th>2</th>\n",
       "      <td>347</td>\n",
       "      <td>2</td>\n",
       "      <td>2018-07-18</td>\n",
       "      <td>3.634468</td>\n",
       "      <td>2.634468</td>\n",
       "      <td>1.634468</td>\n",
       "      <td>3.634468</td>\n",
       "      <td>2.634468</td>\n",
       "      <td>1.634468</td>\n",
       "      <td>0.634468</td>\n",
       "      <td>...</td>\n",
       "      <td>4.762303</td>\n",
       "      <td>3.762303</td>\n",
       "      <td>2.762303</td>\n",
       "      <td>1.762303</td>\n",
       "      <td>0.762303</td>\n",
       "      <td>5.762303</td>\n",
       "      <td>4.762303</td>\n",
       "      <td>3.762303</td>\n",
       "      <td>2.762303</td>\n",
       "      <td>1.762303</td>\n",
       "    </tr>\n",
       "    <tr>\n",
       "      <th>3</th>\n",
       "      <td>347</td>\n",
       "      <td>3</td>\n",
       "      <td>2018-10-16</td>\n",
       "      <td>0.762303</td>\n",
       "      <td>1.762303</td>\n",
       "      <td>0.762303</td>\n",
       "      <td>2.762303</td>\n",
       "      <td>1.762303</td>\n",
       "      <td>1.762303</td>\n",
       "      <td>0.762303</td>\n",
       "      <td>...</td>\n",
       "      <td>3.553345</td>\n",
       "      <td>2.553345</td>\n",
       "      <td>1.553345</td>\n",
       "      <td>0.553345</td>\n",
       "      <td>-7.000000</td>\n",
       "      <td>6.646019</td>\n",
       "      <td>5.646019</td>\n",
       "      <td>4.646019</td>\n",
       "      <td>3.646019</td>\n",
       "      <td>2.646019</td>\n",
       "    </tr>\n",
       "    <tr>\n",
       "      <th>4</th>\n",
       "      <td>347</td>\n",
       "      <td>4</td>\n",
       "      <td>2019-01-14</td>\n",
       "      <td>1.646019</td>\n",
       "      <td>0.646019</td>\n",
       "      <td>2.646019</td>\n",
       "      <td>1.646019</td>\n",
       "      <td>0.646019</td>\n",
       "      <td>2.646019</td>\n",
       "      <td>1.646019</td>\n",
       "      <td>...</td>\n",
       "      <td>0.613681</td>\n",
       "      <td>2.613681</td>\n",
       "      <td>1.613681</td>\n",
       "      <td>1.613681</td>\n",
       "      <td>0.613681</td>\n",
       "      <td>1.613681</td>\n",
       "      <td>2.613681</td>\n",
       "      <td>1.613681</td>\n",
       "      <td>1.613681</td>\n",
       "      <td>0.613681</td>\n",
       "    </tr>\n",
       "  </tbody>\n",
       "</table>\n",
       "<p>5 rows × 93 columns</p>\n",
       "</div>"
      ],
      "text/plain": [
       "   short_ID  window_ID window_start_date         d1         d2         d3  \\\n",
       "0       347          0        2018-01-19  15.422222  14.422222  13.422222   \n",
       "1       347          1        2018-04-19   6.475880   4.490544   4.475880   \n",
       "2       347          2        2018-07-18   3.634468   2.634468   1.634468   \n",
       "3       347          3        2018-10-16   0.762303   1.762303   0.762303   \n",
       "4       347          4        2019-01-14   1.646019   0.646019   2.646019   \n",
       "\n",
       "          d4         d5         d6        d7  ...       d81       d82  \\\n",
       "0  12.422222  11.422222  10.422222  9.422222  ...  8.696088  6.709653   \n",
       "1   3.475880   2.475880   1.475880 -7.000000  ... -7.000000 -7.000000   \n",
       "2   3.634468   2.634468   1.634468  0.634468  ...  4.762303  3.762303   \n",
       "3   2.762303   1.762303   1.762303  0.762303  ...  3.553345  2.553345   \n",
       "4   1.646019   0.646019   2.646019  1.646019  ...  0.613681  2.613681   \n",
       "\n",
       "        d83       d84       d85       d86       d87       d88       d89  \\\n",
       "0  6.696088  5.696088  3.730243  3.696088  1.740706  0.744016 -7.000000   \n",
       "1 -7.000000 -7.000000 -7.000000 -7.000000 -7.000000  6.634468  5.634468   \n",
       "2  2.762303  1.762303  0.762303  5.762303  4.762303  3.762303  2.762303   \n",
       "3  1.553345  0.553345 -7.000000  6.646019  5.646019  4.646019  3.646019   \n",
       "4  1.613681  1.613681  0.613681  1.613681  2.613681  1.613681  1.613681   \n",
       "\n",
       "        d90  \n",
       "0 -7.000000  \n",
       "1  4.634468  \n",
       "2  1.762303  \n",
       "3  2.646019  \n",
       "4  0.613681  \n",
       "\n",
       "[5 rows x 93 columns]"
      ]
     },
     "execution_count": 5,
     "metadata": {},
     "output_type": "execute_result"
    }
   ],
   "source": [
    "Data.head()"
   ]
  },
  {
   "cell_type": "markdown",
   "id": "d820e9e9-9ffd-4180-be09-cb39525f933b",
   "metadata": {},
   "source": [
    "---\n",
    "# Z-Scoring Data"
   ]
  },
  {
   "cell_type": "markdown",
   "id": "5f716844-a03b-4118-a9bf-dd3605c75bed",
   "metadata": {},
   "source": [
    "This is done on a row-by-row basis.<br>\n",
    "Meaning, each window is normalized to its own Mean and Std."
   ]
  },
  {
   "cell_type": "code",
   "execution_count": 6,
   "id": "bec3cd0f-131b-4936-8093-3560828065c1",
   "metadata": {},
   "outputs": [],
   "source": [
    "def Zscore (df_in, all_neg_replace = -1):\n",
    "    # retriving sets of columns\n",
    "    window_cols = window_col_names(dataset_name)        \n",
    "    cols = df_in.columns.to_list()\n",
    "    other_cols = list(set(cols) - set(window_cols))\n",
    "    \n",
    "    # Zscore can't handle constant (flat) inputs\n",
    "    # Therefore windows with all negative credit output NaNs\n",
    "    # Instead these are excluded from zcoring and are manually scaled\n",
    "    # Default scalling is  -7 => -1\n",
    "    all_neg_replace = float(all_neg_replace)\n",
    "    all_neg_index = df_in[(df_in[window_cols] == float(-7)).all(axis=1)].index\n",
    "    positive_index = list(set(df_in.index.to_list()) - set(all_neg_index))\n",
    "    \n",
    "    if len(all_neg_index.to_list()) > 0:\n",
    "        # Aux DF for replacing -7 with all_neg_replace (i.e, -1)\n",
    "        df_allneg = df_in.iloc[all_neg_index].copy()\n",
    "        df_allneg.loc[:, window_cols] = all_neg_replace\n",
    "\n",
    "        # Zscoring only non-constant rows\n",
    "        df_positive = df_in.iloc[positive_index].copy()    \n",
    "        df_positive[window_cols] = scipy.stats.zscore(df_positive[window_cols],\n",
    "                                                         axis=1,\n",
    "                                                         nan_policy = 'omit')\n",
    "\n",
    "        df_zscore = pd.concat([df_positive, df_allneg])\n",
    "        df_zscore.sort_values(by=['short_ID', 'window_ID'], inplace = True)\n",
    "\n",
    "        # If indeces match, then the join was successful\n",
    "        if df_zscore.index.to_list() == df_in.index.to_list():\n",
    "            return df_zscore\n",
    "        # Otherwise raise error\n",
    "        else:\n",
    "            print('Error Zscoring')\n",
    "    else:\n",
    "        df_zscore = pd.DataFrame(columns= cols)\n",
    "        df_zscore[window_cols] = scipy.stats.zscore(df_in[window_cols],\n",
    "                                                         axis=1,\n",
    "                                                         nan_policy = 'omit')\n",
    "        df_zscore[other_cols] = df_in[other_cols]\n",
    "        \n",
    "\n",
    "    return df_zscore"
   ]
  },
  {
   "cell_type": "code",
   "execution_count": 7,
   "id": "26abf739-b1f7-47cb-8a4e-c0a8e3a091e9",
   "metadata": {},
   "outputs": [
    {
     "name": "stdout",
     "output_type": "stream",
     "text": [
      "Data WAS Zscored\n"
     ]
    }
   ],
   "source": [
    "if zscore_data == True and zscore_data_done == False:\n",
    "    Data = Zscore(Data)\n",
    "    zscore_data_done = True\n",
    "    print('Data WAS Zscored')\n",
    "    \n",
    "elif zscore_data == True and zscore_data_done == True:\n",
    "    print('Already WAS Zscored')\n",
    "    \n",
    "elif zscore_data == False:\n",
    "    print('Data NOT Zscored')\n",
    "    \n",
    "else:\n",
    "    print('Error')"
   ]
  },
  {
   "cell_type": "markdown",
   "id": "ad4715eb-fd23-4b2b-a649-0dbb93dac42b",
   "metadata": {},
   "source": [
    "---\n",
    "# NaN Checks and Policy"
   ]
  },
  {
   "cell_type": "code",
   "execution_count": 8,
   "id": "604ef535-f512-482f-b7ac-d9a5618293d2",
   "metadata": {},
   "outputs": [],
   "source": [
    "def NaN_policy (df, method_fullrows = 'ffill', method_sparserows = 'ffill'):\n",
    "    # This functions checks and corrects NaNs.\n",
    "    # It has redundancy built into it to double check for NaNs.\n",
    "    # And allows for different policies for sparse NaN values and rows full of NaNs.\n",
    "    \n",
    "    df = df.copy(deep=True)\n",
    "    window_cols = window_col_names(dataset_name)\n",
    "        \n",
    "    if df[window_cols].isna().any().any():\n",
    "        print('NaN values detected.')\n",
    "        \n",
    "        nan_exist = True\n",
    "        i = 0   \n",
    "        while nan_exist:\n",
    "            \n",
    "            # Makes sure the policy only iterates with one redundant round.\n",
    "            if i >= 2:\n",
    "                print('NaN Policy Failed')\n",
    "                break            \n",
    "\n",
    "            #Checking if there are rows with only NaNs\n",
    "            if df[window_cols].isna().all(axis=1).any():\n",
    "                n_nan_rows = len(df[df[window_cols].isna().all(axis=1)])\n",
    "                print(f'There are {n_nan_rows} rows of all NaN values.')\n",
    "\n",
    "                #Correcting only NaN rows \n",
    "                df.fillna(method= method_fullrows, axis = 0, inplace = True)\n",
    "                if ~ df[window_cols].isna().all(axis=1).any():\n",
    "                    print(f'Rows of NaN corrected')\n",
    "                    if ~ df[window_cols].isna().any().any():\n",
    "                        nan_exist = False\n",
    "                        print(f'NaNs no longer detected.')\n",
    "            \n",
    "            #Checking if there are rows with any NaNs in them\n",
    "            if df[window_cols].isna().any(axis=1).any():\n",
    "                n_nan_rows = len(df[window_cols].isna().any(axis=1))\n",
    "                print(f'There are {n_nan_rows} rows with some NaN values.')\n",
    "                \n",
    "                # Correcting NaN inside rows \n",
    "                df.fillna(method= method_sparserows, axis = 1, inplace = True)\n",
    "                if ~ df[window_cols].isna().any(axis=1).any():\n",
    "                    print(f'Rows with some NaN were corrected')\n",
    "                    if ~ df[window_cols].isna().any().any():\n",
    "                        nan_exist = False\n",
    "                        print(f'NaNs no longer detected.')\n",
    "\n",
    "            i += 1\n",
    "            \n",
    "\n",
    "    else:\n",
    "        print('No NaNs detected')\n",
    "        \n",
    "    return df"
   ]
  },
  {
   "cell_type": "code",
   "execution_count": 9,
   "id": "cab94776-f23c-4f78-828e-9d9f95856d6e",
   "metadata": {},
   "outputs": [
    {
     "name": "stdout",
     "output_type": "stream",
     "text": [
      "NaN values detected.\n",
      "There are 22 rows of all NaN values.\n",
      "Rows of NaN corrected\n",
      "NaNs no longer detected.\n"
     ]
    }
   ],
   "source": [
    "Data = NaN_policy(Data)"
   ]
  },
  {
   "cell_type": "markdown",
   "id": "9f32c5ba-c5cd-429f-83b1-04802f37c7aa",
   "metadata": {},
   "source": [
    "---\n",
    "# Train-Test Split"
   ]
  },
  {
   "cell_type": "code",
   "execution_count": 10,
   "id": "d11e337e-ea76-4f36-8103-84be3dda4ed8",
   "metadata": {},
   "outputs": [],
   "source": [
    "window_cols = window_col_names(dataset_name)\n",
    "data_array = Data[window_cols].to_numpy()"
   ]
  },
  {
   "cell_type": "code",
   "execution_count": 11,
   "id": "9fe373fa-c589-484a-979f-7bb8f0a2674f",
   "metadata": {},
   "outputs": [],
   "source": [
    "x_train, x_test = train_test_split(data_array, test_size=0.2, random_state=42)"
   ]
  },
  {
   "cell_type": "markdown",
   "id": "e72bc06f-26b7-4bc1-9200-b5a7b65a8e1e",
   "metadata": {
    "tags": []
   },
   "source": [
    "---\n",
    "# WandB Sweep Config\n",
    "https://github.com/wandb/examples/blob/master/colabs/keras/Keras_param_opti_using_sweeps.ipynb\n"
   ]
  },
  {
   "cell_type": "code",
   "execution_count": 12,
   "id": "f2e3e110-cecc-4b2e-ad62-a72a0932aa42",
   "metadata": {},
   "outputs": [
    {
     "name": "stderr",
     "output_type": "stream",
     "text": [
      "\u001b[34m\u001b[1mwandb\u001b[0m: Currently logged in as: \u001b[33mvasco-mergulhao\u001b[0m (\u001b[33mvasco-phd\u001b[0m). Use \u001b[1m`wandb login --relogin`\u001b[0m to force relogin\n"
     ]
    },
    {
     "data": {
      "text/plain": [
       "True"
      ]
     },
     "execution_count": 12,
     "metadata": {},
     "output_type": "execute_result"
    }
   ],
   "source": [
    "wandb.login()"
   ]
  },
  {
   "cell_type": "markdown",
   "id": "ba57bc94-c803-41bc-a1a8-c8b3be884590",
   "metadata": {},
   "source": [
    "---\n",
    "---\n",
    "# Model & Sweep Configurations"
   ]
  },
  {
   "cell_type": "markdown",
   "id": "f36d8021-e521-447d-addb-21d8d35727b0",
   "metadata": {},
   "source": [
    "## Generic Training Functions"
   ]
  },
  {
   "cell_type": "code",
   "execution_count": 13,
   "id": "1f342333-502d-4d47-b4c9-dec9e4901246",
   "metadata": {},
   "outputs": [],
   "source": [
    "def get_initialization (activation_fn = 'SELU'):\n",
    "    # Select right initialization for respective activation function between SELU and LeakyReLU\n",
    "    if activation_fn.lower() == \"selu\":\n",
    "        return 'lecun_normal'\n",
    "    if activation_fn.lower() == \"leakyrelu\":\n",
    "        return 'he_normal'"
   ]
  },
  {
   "cell_type": "code",
   "execution_count": 14,
   "id": "cfdd6e5c-b329-4a02-9d10-72f568141656",
   "metadata": {},
   "outputs": [],
   "source": [
    "def get_activation_fn (activation_fn = 'SELU'):\n",
    "    # Select right initialization for respective activation function between SELU and LeakyReLU\n",
    "    if activation_fn.lower() == \"selu\":\n",
    "        return Activation('selu')\n",
    "    if activation_fn.lower() == \"leakyrelu\":\n",
    "        return LeakyReLU(alpha=0.2)"
   ]
  },
  {
   "cell_type": "code",
   "execution_count": 15,
   "id": "025ad319-1962-4e46-91a9-daa10e338c08",
   "metadata": {},
   "outputs": [],
   "source": [
    "def get_optimizer(lr=0.0001, optimizer=\"nadam\"):\n",
    "    # Select optmizer between adam and sgd\n",
    "    if optimizer.lower() == \"nadam\":\n",
    "        return tf.keras.optimizers.Nadam(learning_rate=lr, beta_1=0.9, beta_2=0.999)\n",
    "    if optimizer.lower() == \"sgd\":\n",
    "        return tf.keras.optimizers.SGD(learning_rate=lr, momentum=0.9, nesterov=True)"
   ]
  },
  {
   "cell_type": "code",
   "execution_count": 16,
   "id": "596c3d61-c6f1-42a8-847f-a81cc5e73e47",
   "metadata": {},
   "outputs": [],
   "source": [
    "def train(model, batch_size= 32, epochs= 100, lr=0.001, optimizer='nadam'):  \n",
    "    \n",
    "    tf.keras.backend.clear_session()\n",
    "    model.compile(loss=\"mse\", \n",
    "                  optimizer=get_optimizer(lr, optimizer), \n",
    "                  metrics=[\"mse\"])\n",
    "\n",
    "    early_stopping_cb = tf.keras.callbacks.EarlyStopping(patience=10, restore_best_weights=True)\n",
    "    lr_scheduler_cb = keras.callbacks.ReduceLROnPlateau(factor=0.5, patience=5)\n",
    "\n",
    "    model.fit(x_train, \n",
    "              x_train, \n",
    "              batch_size=batch_size, \n",
    "              epochs=epochs, \n",
    "              validation_data=(x_test, x_test), \n",
    "              callbacks=[WandbCallback(), early_stopping_cb, lr_scheduler_cb])\n",
    "    \n",
    "    "
   ]
  },
  {
   "cell_type": "code",
   "execution_count": 17,
   "id": "77e4713a-6b32-4bc1-8afd-4f93c9bd73a3",
   "metadata": {},
   "outputs": [],
   "source": [
    "def sweep_train(config_defaults=None):\n",
    "    # Initialize wandb with a sample project name\n",
    "    with wandb.init(config=config_defaults):  # this gets over-written in the Sweep\n",
    "\n",
    "        # Specify the other hyperparameters to the configuration\n",
    "        wandb.config.architecture_name = AE_Model_Name\n",
    "        wandb.config.dataset_name = dataset_name\n",
    "\n",
    "        # initialize model\n",
    "        if AE_Model_Name == 'FC_Small':\n",
    "            AE_model = Small_AE(wandb.config.window_length,\n",
    "                            wandb.config.latent_layer_size,\n",
    "                            wandb.config.activation_fn)\n",
    "        if AE_Model_Name == 'FC_Medium':\n",
    "            AE_model = Medium_AE(wandb.config.window_length,\n",
    "                            wandb.config.latent_layer_size,\n",
    "                            wandb.config.activation_fn)\n",
    "\n",
    "        train(AE_model, \n",
    "              wandb.config.batch_size, \n",
    "              wandb.config.epochs,\n",
    "              wandb.config.learning_rate,\n",
    "              wandb.config.optimizer)\n",
    "        \n"
   ]
  },
  {
   "cell_type": "markdown",
   "id": "e34188b9-3983-439e-b1ea-8929a5f0b6b8",
   "metadata": {
    "tags": []
   },
   "source": [
    "## FC_Small\n",
    "- (Input, 200, 200, Enconder)"
   ]
  },
  {
   "cell_type": "markdown",
   "id": "6a63ead0-4dc6-4265-aeaf-f6983bb85f77",
   "metadata": {},
   "source": [
    "### Sweep Configuration"
   ]
  },
  {
   "cell_type": "code",
   "execution_count": 18,
   "id": "ce7cfdf2-4a03-44a5-9640-018ee011075f",
   "metadata": {},
   "outputs": [
    {
     "name": "stdout",
     "output_type": "stream",
     "text": [
      "Code Used\n"
     ]
    }
   ],
   "source": [
    "if AE_Model_Name == 'FC_Small':\n",
    "    \n",
    "    sweep_config = {\n",
    "    'method': 'random',\n",
    "    'name': Sweep_Config,\n",
    "    }\n",
    "    \n",
    "    metric = {\n",
    "    'name': 'mse',\n",
    "    'goal': 'minimize'\n",
    "    }\n",
    "    sweep_config['metric'] = metric\n",
    "    \n",
    "    parameters_dict = {\n",
    "        'optimizer': {\n",
    "            'values': ['nadam', 'sgd']\n",
    "        },\n",
    "        'latent_layer_size': {\n",
    "            'value': latent_layer_size #previous [values: [5, 10, 25]\n",
    "        },\n",
    "        'epochs':{\n",
    "            'value': 100\n",
    "        },\n",
    "        'window_length':{\n",
    "            'value': int(dataset_name.split('_')[-1][1:])\n",
    "        },\n",
    "        'activation_fn':{\n",
    "            'values': ['SELU','LeakyReLU']\n",
    "        }\n",
    "    }\n",
    "    sweep_config['parameters'] = parameters_dict\n",
    "    \n",
    "    parameters_dict.update({\n",
    "        'learning_rate': {\n",
    "            # a flat distribution between 0 and 0.1\n",
    "            'distribution': 'log_uniform_values',\n",
    "            'min': 0.001,\n",
    "            'max': 0.1,\n",
    "          },\n",
    "        'batch_size': {\n",
    "            # integers between 2 and 256\n",
    "            # with evenly-distributed logarithms \n",
    "            'distribution': 'q_log_uniform_values',\n",
    "            'q': 2,\n",
    "            'min': 2,\n",
    "            'max': 256,\n",
    "          }\n",
    "        })\n",
    "    print('Code Used')\n",
    "else:\n",
    "    print('NOT Active')"
   ]
  },
  {
   "cell_type": "markdown",
   "id": "f449e26d-42a9-4b10-86d0-2a2fb63ee390",
   "metadata": {},
   "source": [
    "### _Model_: FC_Small"
   ]
  },
  {
   "cell_type": "code",
   "execution_count": 19,
   "id": "7cc65c45-3dc7-405a-a6e0-d6128c122369",
   "metadata": {},
   "outputs": [],
   "source": [
    "def Small_AE(window_length = 90, latent_layer_size = 5, activation_fn = 'SELU'):\n",
    "    \n",
    "    inputs = Input(shape= window_length)\n",
    "    \n",
    "    layer_e1 = Dense(200, activation = get_activation_fn(activation_fn),\n",
    "                     kernel_initializer=get_initialization(activation_fn))(inputs)\n",
    "    \n",
    "    layer_e2 = Dense(200, activation = get_activation_fn(activation_fn),\n",
    "                     kernel_initializer=get_initialization(activation_fn))(layer_e1)\n",
    "    #Latent Space (no activation)\n",
    "    encoded = Dense(latent_layer_size)(layer_e2)\n",
    "       \n",
    "    layer_d1 = Dense(200, activation = get_activation_fn(activation_fn),\n",
    "                     kernel_initializer=get_initialization(activation_fn))(encoded)\n",
    "    \n",
    "    layer_d2 = Dense(200, activation = get_activation_fn(activation_fn),\n",
    "                     kernel_initializer=get_initialization(activation_fn))(layer_d1)\n",
    "    \n",
    "    decoded = Dense(window_length)(layer_d2)\n",
    "       \n",
    "    autoencoder = keras.models.Model(inputs=inputs, outputs = decoded)\n",
    "    \n",
    "    return autoencoder   "
   ]
  },
  {
   "cell_type": "code",
   "execution_count": 20,
   "id": "a1127cac-d620-4cb3-a215-9ad3783dfcd8",
   "metadata": {},
   "outputs": [
    {
     "name": "stdout",
     "output_type": "stream",
     "text": [
      "Model: \"model\"\n",
      "_________________________________________________________________\n",
      " Layer (type)                Output Shape              Param #   \n",
      "=================================================================\n",
      " input_1 (InputLayer)        [(None, 90)]              0         \n",
      "                                                                 \n",
      " dense (Dense)               (None, 200)               18200     \n",
      "                                                                 \n",
      " dense_1 (Dense)             (None, 200)               40200     \n",
      "                                                                 \n",
      " dense_2 (Dense)             (None, 5)                 1005      \n",
      "                                                                 \n",
      " dense_3 (Dense)             (None, 200)               1200      \n",
      "                                                                 \n",
      " dense_4 (Dense)             (None, 200)               40200     \n",
      "                                                                 \n",
      " dense_5 (Dense)             (None, 90)                18090     \n",
      "                                                                 \n",
      "=================================================================\n",
      "Total params: 118,895\n",
      "Trainable params: 118,895\n",
      "Non-trainable params: 0\n",
      "_________________________________________________________________\n",
      "Code Used\n"
     ]
    }
   ],
   "source": [
    "if AE_Model_Name == 'FC_Small':\n",
    "    AE_model = Small_AE(latent_layer_size = latent_layer_size)\n",
    "    AE_model.summary()\n",
    "    print('Code Used')\n",
    "else:\n",
    "    print('NOT Active')    "
   ]
  },
  {
   "cell_type": "markdown",
   "id": "9b794a12-d1c9-4431-9617-9c657459ca34",
   "metadata": {
    "tags": []
   },
   "source": [
    "---\n",
    "## FC_Medium\n",
    "-  (Input, 300, 300, 300, 300, Encoder)"
   ]
  },
  {
   "cell_type": "markdown",
   "id": "bba8fca6-fa8a-46ad-9ab0-e6c8e1056c3d",
   "metadata": {},
   "source": [
    "### Sweep Configuration"
   ]
  },
  {
   "cell_type": "code",
   "execution_count": 21,
   "id": "a55d409b-eedc-4fac-ab0f-49b728ee60b4",
   "metadata": {},
   "outputs": [
    {
     "name": "stdout",
     "output_type": "stream",
     "text": [
      "NOT Active\n"
     ]
    }
   ],
   "source": [
    "if AE_Model_Name == 'FC_Medium':\n",
    "    \n",
    "    sweep_config = {\n",
    "    'method': 'random',\n",
    "    'name': Sweep_Config,\n",
    "    }\n",
    "    \n",
    "    metric = {\n",
    "    'name': 'mse',\n",
    "    'goal': 'minimize'\n",
    "    }\n",
    "    sweep_config['metric'] = metric\n",
    "\n",
    "    parameters_dict = {\n",
    "        'optimizer': {\n",
    "            'values': ['nadam', 'sgd']\n",
    "        },\n",
    "        'latent_layer_size': {\n",
    "            'value': latent_layer_size #previous [values: [5, 10, 25]\n",
    "        },\n",
    "        'epochs':{\n",
    "            'value': 100\n",
    "        },\n",
    "        'window_length':{\n",
    "            'value': int(dataset_name.split('_')[-1][1:])\n",
    "        },\n",
    "        'activation_fn':{\n",
    "            'values': ['SELU','LeakyReLU']\n",
    "        }\n",
    "    }\n",
    "    sweep_config['parameters'] = parameters_dict\n",
    "    \n",
    "    parameters_dict.update({\n",
    "        'learning_rate': {\n",
    "            # a flat distribution between 0 and 0.1\n",
    "            'distribution': 'log_uniform_values',\n",
    "            'min': 0.001,\n",
    "            'max': 0.1,\n",
    "          },\n",
    "        'batch_size': {\n",
    "            # integers between 2 and 256\n",
    "            # with evenly-distributed logarithms \n",
    "            'distribution': 'q_log_uniform_values',\n",
    "            'q': 2,\n",
    "            'min': 2,\n",
    "            'max': 256,\n",
    "          }\n",
    "        })\n",
    "    print('Code Used')\n",
    "else:\n",
    "    print('NOT Active')"
   ]
  },
  {
   "cell_type": "markdown",
   "id": "3da4a35b-57b6-4790-b425-61225df17e55",
   "metadata": {},
   "source": [
    "### _Model_: FC_Medium"
   ]
  },
  {
   "cell_type": "code",
   "execution_count": 22,
   "id": "4aa7b91c-5bfe-472b-b74e-80be8a00e6e4",
   "metadata": {},
   "outputs": [],
   "source": [
    "def Medium_AE(window_length = 90, latent_layer_size = 5, activation_fn = 'SELU'):\n",
    "    \n",
    "    inputs = Input(shape= window_length)\n",
    "    \n",
    "    layer_e1 = Dense(300, activation = get_activation_fn(activation_fn),\n",
    "                     kernel_initializer=get_initialization(activation_fn))(inputs)    \n",
    "    layer_e2 = Dense(300, activation = get_activation_fn(activation_fn),\n",
    "                     kernel_initializer=get_initialization(activation_fn))(layer_e1)    \n",
    "    layer_e3 = Dense(300, activation = get_activation_fn(activation_fn),\n",
    "                     kernel_initializer=get_initialization(activation_fn))(layer_e2)    \n",
    "    layer_e4 = Dense(300, activation = get_activation_fn(activation_fn),\n",
    "                     kernel_initializer=get_initialization(activation_fn))(layer_e3)\n",
    "    #Latent Space (no activation)\n",
    "    encoded = Dense(latent_layer_size)(layer_e4)\n",
    "       \n",
    "    layer_d1 = Dense(300, activation = get_activation_fn(activation_fn),\n",
    "                     kernel_initializer=get_initialization(activation_fn))(encoded)\n",
    "    layer_d2 = Dense(300, activation = get_activation_fn(activation_fn),\n",
    "                     kernel_initializer=get_initialization(activation_fn))(layer_d1)\n",
    "    layer_d3 = Dense(300, activation = get_activation_fn(activation_fn),\n",
    "                     kernel_initializer=get_initialization(activation_fn))(layer_d2)\n",
    "    layer_d4 = Dense(300, activation = get_activation_fn(activation_fn),\n",
    "                     kernel_initializer=get_initialization(activation_fn))(layer_d3)    \n",
    "    decoded = Dense(window_length)(layer_d4)\n",
    "       \n",
    "    autoencoder = keras.models.Model(inputs=inputs, outputs = decoded)\n",
    "    \n",
    "    return autoencoder   "
   ]
  },
  {
   "cell_type": "code",
   "execution_count": 23,
   "id": "4adff6b2-6952-44ea-887f-7095a637e7a7",
   "metadata": {},
   "outputs": [
    {
     "name": "stdout",
     "output_type": "stream",
     "text": [
      "NOT Active\n"
     ]
    }
   ],
   "source": [
    "if AE_Model_Name == 'FC_Medium':\n",
    "    AE_model = Medium_AE(latent_layer_size = latent_layer_size)\n",
    "    AE_model.summary()\n",
    "    print('Code Used')\n",
    "else:\n",
    "    print('NOT Active')"
   ]
  },
  {
   "cell_type": "markdown",
   "id": "e75e2102-26fb-4e24-978e-856983cbf259",
   "metadata": {},
   "source": [
    "---\n",
    "---\n",
    "# Run Sweep"
   ]
  },
  {
   "cell_type": "code",
   "execution_count": 24,
   "id": "be1f0f15-f71d-4da8-8319-4104432b20f0",
   "metadata": {},
   "outputs": [
    {
     "name": "stdout",
     "output_type": "stream",
     "text": [
      "Create sweep with ID: ikwjt20r\n",
      "Sweep URL: https://wandb.ai/vasco-phd/FC_AE-Kenya_10k_Set_1_w90/sweeps/ikwjt20r\n"
     ]
    }
   ],
   "source": [
    "sweep_id = wandb.sweep(sweep_config, project = Project_Name)"
   ]
  },
  {
   "cell_type": "code",
   "execution_count": null,
   "id": "5417746c-6cc3-4e07-9b8a-b8b9293d7017",
   "metadata": {
    "tags": []
   },
   "outputs": [
    {
     "name": "stderr",
     "output_type": "stream",
     "text": [
      "\u001b[34m\u001b[1mwandb\u001b[0m: Agent Starting Run: 4kpszhpo with config:\n",
      "\u001b[34m\u001b[1mwandb\u001b[0m: \tactivation_fn: LeakyReLU\n",
      "\u001b[34m\u001b[1mwandb\u001b[0m: \tbatch_size: 40\n",
      "\u001b[34m\u001b[1mwandb\u001b[0m: \tepochs: 100\n",
      "\u001b[34m\u001b[1mwandb\u001b[0m: \tlatent_layer_size: 5\n",
      "\u001b[34m\u001b[1mwandb\u001b[0m: \tlearning_rate: 0.025062275391764692\n",
      "\u001b[34m\u001b[1mwandb\u001b[0m: \toptimizer: sgd\n",
      "\u001b[34m\u001b[1mwandb\u001b[0m: \twindow_length: 90\n"
     ]
    },
    {
     "data": {
      "text/html": [
       "wandb version 0.13.9 is available!  To upgrade, please run:\n",
       " $ pip install wandb --upgrade"
      ],
      "text/plain": [
       "<IPython.core.display.HTML object>"
      ]
     },
     "metadata": {},
     "output_type": "display_data"
    },
    {
     "data": {
      "text/html": [
       "Tracking run with wandb version 0.13.6"
      ],
      "text/plain": [
       "<IPython.core.display.HTML object>"
      ]
     },
     "metadata": {},
     "output_type": "display_data"
    },
    {
     "data": {
      "text/html": [
       "Run data is saved locally in <code>C:\\Users\\ucesvpm\\OneDrive - University College London\\PhD Project\\Data Analytics\\Time Series Clustering\\Third Test\\wandb\\run-20230202_123503-4kpszhpo</code>"
      ],
      "text/plain": [
       "<IPython.core.display.HTML object>"
      ]
     },
     "metadata": {},
     "output_type": "display_data"
    },
    {
     "data": {
      "text/html": [
       "Syncing run <strong><a href=\"https://wandb.ai/vasco-phd/FC_AE-Kenya_10k_Set_1_w90/runs/4kpszhpo\" target=\"_blank\">whole-sweep-1</a></strong> to <a href=\"https://wandb.ai/vasco-phd/FC_AE-Kenya_10k_Set_1_w90\" target=\"_blank\">Weights & Biases</a> (<a href=\"https://wandb.me/run\" target=\"_blank\">docs</a>)<br/>Sweep page:  <a href=\"https://wandb.ai/vasco-phd/FC_AE-Kenya_10k_Set_1_w90/sweeps/ikwjt20r\" target=\"_blank\">https://wandb.ai/vasco-phd/FC_AE-Kenya_10k_Set_1_w90/sweeps/ikwjt20r</a>"
      ],
      "text/plain": [
       "<IPython.core.display.HTML object>"
      ]
     },
     "metadata": {},
     "output_type": "display_data"
    },
    {
     "name": "stderr",
     "output_type": "stream",
     "text": [
      "\u001b[34m\u001b[1mwandb\u001b[0m: \u001b[33mWARNING\u001b[0m The save_model argument by default saves the model in the HDF5 format that cannot save custom objects like subclassed models and custom layers. This behavior will be deprecated in a future release in favor of the SavedModel format. Meanwhile, the HDF5 model is saved as W&B files and the SavedModel as W&B Artifacts.\n"
     ]
    },
    {
     "name": "stdout",
     "output_type": "stream",
     "text": [
      "Epoch 1/100\n",
      "1761/1771 [============================>.] - ETA: 0s - loss: 0.6400 - mse: 0.6400"
     ]
    },
    {
     "name": "stderr",
     "output_type": "stream",
     "text": [
      "WARNING:absl:Found untraced functions such as leaky_re_lu_layer_call_fn, leaky_re_lu_layer_call_and_return_conditional_losses, leaky_re_lu_1_layer_call_fn, leaky_re_lu_1_layer_call_and_return_conditional_losses, leaky_re_lu_2_layer_call_fn while saving (showing 5 of 8). These functions will not be directly callable after loading.\n"
     ]
    },
    {
     "name": "stdout",
     "output_type": "stream",
     "text": [
      "INFO:tensorflow:Assets written to: C:\\Users\\ucesvpm\\OneDrive - University College London\\PhD Project\\Data Analytics\\Time Series Clustering\\Third Test\\wandb\\run-20230202_123503-4kpszhpo\\files\\model-best\\assets\n"
     ]
    },
    {
     "name": "stderr",
     "output_type": "stream",
     "text": [
      "INFO:tensorflow:Assets written to: C:\\Users\\ucesvpm\\OneDrive - University College London\\PhD Project\\Data Analytics\\Time Series Clustering\\Third Test\\wandb\\run-20230202_123503-4kpszhpo\\files\\model-best\\assets\n",
      "\u001b[34m\u001b[1mwandb\u001b[0m: Adding directory to artifact (C:\\Users\\ucesvpm\\OneDrive - University College London\\PhD Project\\Data Analytics\\Time Series Clustering\\Third Test\\wandb\\run-20230202_123503-4kpszhpo\\files\\model-best)... Done. 0.0s\n"
     ]
    },
    {
     "name": "stdout",
     "output_type": "stream",
     "text": [
      "1771/1771 [==============================] - 9s 5ms/step - loss: 0.6398 - mse: 0.6398 - val_loss: 0.6020 - val_mse: 0.6020 - lr: 0.0251\n",
      "Epoch 2/100\n",
      "1764/1771 [============================>.] - ETA: 0s - loss: 0.5925 - mse: 0.5925"
     ]
    },
    {
     "name": "stderr",
     "output_type": "stream",
     "text": [
      "WARNING:absl:Found untraced functions such as leaky_re_lu_layer_call_fn, leaky_re_lu_layer_call_and_return_conditional_losses, leaky_re_lu_1_layer_call_fn, leaky_re_lu_1_layer_call_and_return_conditional_losses, leaky_re_lu_2_layer_call_fn while saving (showing 5 of 8). These functions will not be directly callable after loading.\n"
     ]
    },
    {
     "name": "stdout",
     "output_type": "stream",
     "text": [
      "INFO:tensorflow:Assets written to: C:\\Users\\ucesvpm\\OneDrive - University College London\\PhD Project\\Data Analytics\\Time Series Clustering\\Third Test\\wandb\\run-20230202_123503-4kpszhpo\\files\\model-best\\assets\n"
     ]
    },
    {
     "name": "stderr",
     "output_type": "stream",
     "text": [
      "INFO:tensorflow:Assets written to: C:\\Users\\ucesvpm\\OneDrive - University College London\\PhD Project\\Data Analytics\\Time Series Clustering\\Third Test\\wandb\\run-20230202_123503-4kpszhpo\\files\\model-best\\assets\n",
      "\u001b[34m\u001b[1mwandb\u001b[0m: Adding directory to artifact (C:\\Users\\ucesvpm\\OneDrive - University College London\\PhD Project\\Data Analytics\\Time Series Clustering\\Third Test\\wandb\\run-20230202_123503-4kpszhpo\\files\\model-best)... Done. 0.0s\n"
     ]
    },
    {
     "name": "stdout",
     "output_type": "stream",
     "text": [
      "1771/1771 [==============================] - 7s 4ms/step - loss: 0.5924 - mse: 0.5924 - val_loss: 0.5916 - val_mse: 0.5916 - lr: 0.0251\n",
      "Epoch 3/100\n",
      "1761/1771 [============================>.] - ETA: 0s - loss: 0.5843 - mse: 0.5843"
     ]
    },
    {
     "name": "stderr",
     "output_type": "stream",
     "text": [
      "WARNING:absl:Found untraced functions such as leaky_re_lu_layer_call_fn, leaky_re_lu_layer_call_and_return_conditional_losses, leaky_re_lu_1_layer_call_fn, leaky_re_lu_1_layer_call_and_return_conditional_losses, leaky_re_lu_2_layer_call_fn while saving (showing 5 of 8). These functions will not be directly callable after loading.\n"
     ]
    },
    {
     "name": "stdout",
     "output_type": "stream",
     "text": [
      "INFO:tensorflow:Assets written to: C:\\Users\\ucesvpm\\OneDrive - University College London\\PhD Project\\Data Analytics\\Time Series Clustering\\Third Test\\wandb\\run-20230202_123503-4kpszhpo\\files\\model-best\\assets\n"
     ]
    },
    {
     "name": "stderr",
     "output_type": "stream",
     "text": [
      "INFO:tensorflow:Assets written to: C:\\Users\\ucesvpm\\OneDrive - University College London\\PhD Project\\Data Analytics\\Time Series Clustering\\Third Test\\wandb\\run-20230202_123503-4kpszhpo\\files\\model-best\\assets\n",
      "\u001b[34m\u001b[1mwandb\u001b[0m: Adding directory to artifact (C:\\Users\\ucesvpm\\OneDrive - University College London\\PhD Project\\Data Analytics\\Time Series Clustering\\Third Test\\wandb\\run-20230202_123503-4kpszhpo\\files\\model-best)... Done. 0.0s\n"
     ]
    },
    {
     "name": "stdout",
     "output_type": "stream",
     "text": [
      "1771/1771 [==============================] - 8s 4ms/step - loss: 0.5844 - mse: 0.5844 - val_loss: 0.5870 - val_mse: 0.5870 - lr: 0.0251\n",
      "Epoch 4/100\n",
      "1754/1771 [============================>.] - ETA: 0s - loss: 0.5790 - mse: 0.5790"
     ]
    },
    {
     "name": "stderr",
     "output_type": "stream",
     "text": [
      "WARNING:absl:Found untraced functions such as leaky_re_lu_layer_call_fn, leaky_re_lu_layer_call_and_return_conditional_losses, leaky_re_lu_1_layer_call_fn, leaky_re_lu_1_layer_call_and_return_conditional_losses, leaky_re_lu_2_layer_call_fn while saving (showing 5 of 8). These functions will not be directly callable after loading.\n"
     ]
    },
    {
     "name": "stdout",
     "output_type": "stream",
     "text": [
      "INFO:tensorflow:Assets written to: C:\\Users\\ucesvpm\\OneDrive - University College London\\PhD Project\\Data Analytics\\Time Series Clustering\\Third Test\\wandb\\run-20230202_123503-4kpszhpo\\files\\model-best\\assets\n"
     ]
    },
    {
     "name": "stderr",
     "output_type": "stream",
     "text": [
      "INFO:tensorflow:Assets written to: C:\\Users\\ucesvpm\\OneDrive - University College London\\PhD Project\\Data Analytics\\Time Series Clustering\\Third Test\\wandb\\run-20230202_123503-4kpszhpo\\files\\model-best\\assets\n",
      "\u001b[34m\u001b[1mwandb\u001b[0m: Adding directory to artifact (C:\\Users\\ucesvpm\\OneDrive - University College London\\PhD Project\\Data Analytics\\Time Series Clustering\\Third Test\\wandb\\run-20230202_123503-4kpszhpo\\files\\model-best)... Done. 0.0s\n"
     ]
    },
    {
     "name": "stdout",
     "output_type": "stream",
     "text": [
      "1771/1771 [==============================] - 6s 4ms/step - loss: 0.5791 - mse: 0.5791 - val_loss: 0.5819 - val_mse: 0.5819 - lr: 0.0251\n",
      "Epoch 5/100\n",
      "1749/1771 [============================>.] - ETA: 0s - loss: 0.5749 - mse: 0.5749"
     ]
    },
    {
     "name": "stderr",
     "output_type": "stream",
     "text": [
      "WARNING:absl:Found untraced functions such as leaky_re_lu_layer_call_fn, leaky_re_lu_layer_call_and_return_conditional_losses, leaky_re_lu_1_layer_call_fn, leaky_re_lu_1_layer_call_and_return_conditional_losses, leaky_re_lu_2_layer_call_fn while saving (showing 5 of 8). These functions will not be directly callable after loading.\n"
     ]
    },
    {
     "name": "stdout",
     "output_type": "stream",
     "text": [
      "INFO:tensorflow:Assets written to: C:\\Users\\ucesvpm\\OneDrive - University College London\\PhD Project\\Data Analytics\\Time Series Clustering\\Third Test\\wandb\\run-20230202_123503-4kpszhpo\\files\\model-best\\assets\n"
     ]
    },
    {
     "name": "stderr",
     "output_type": "stream",
     "text": [
      "INFO:tensorflow:Assets written to: C:\\Users\\ucesvpm\\OneDrive - University College London\\PhD Project\\Data Analytics\\Time Series Clustering\\Third Test\\wandb\\run-20230202_123503-4kpszhpo\\files\\model-best\\assets\n",
      "\u001b[34m\u001b[1mwandb\u001b[0m: Adding directory to artifact (C:\\Users\\ucesvpm\\OneDrive - University College London\\PhD Project\\Data Analytics\\Time Series Clustering\\Third Test\\wandb\\run-20230202_123503-4kpszhpo\\files\\model-best)... Done. 0.0s\n"
     ]
    },
    {
     "name": "stdout",
     "output_type": "stream",
     "text": [
      "1771/1771 [==============================] - 7s 4ms/step - loss: 0.5750 - mse: 0.5750 - val_loss: 0.5782 - val_mse: 0.5782 - lr: 0.0251\n",
      "Epoch 6/100\n",
      "1768/1771 [============================>.] - ETA: 0s - loss: 0.5715 - mse: 0.5715"
     ]
    },
    {
     "name": "stderr",
     "output_type": "stream",
     "text": [
      "WARNING:absl:Found untraced functions such as leaky_re_lu_layer_call_fn, leaky_re_lu_layer_call_and_return_conditional_losses, leaky_re_lu_1_layer_call_fn, leaky_re_lu_1_layer_call_and_return_conditional_losses, leaky_re_lu_2_layer_call_fn while saving (showing 5 of 8). These functions will not be directly callable after loading.\n"
     ]
    },
    {
     "name": "stdout",
     "output_type": "stream",
     "text": [
      "INFO:tensorflow:Assets written to: C:\\Users\\ucesvpm\\OneDrive - University College London\\PhD Project\\Data Analytics\\Time Series Clustering\\Third Test\\wandb\\run-20230202_123503-4kpszhpo\\files\\model-best\\assets\n"
     ]
    },
    {
     "name": "stderr",
     "output_type": "stream",
     "text": [
      "INFO:tensorflow:Assets written to: C:\\Users\\ucesvpm\\OneDrive - University College London\\PhD Project\\Data Analytics\\Time Series Clustering\\Third Test\\wandb\\run-20230202_123503-4kpszhpo\\files\\model-best\\assets\n",
      "\u001b[34m\u001b[1mwandb\u001b[0m: Adding directory to artifact (C:\\Users\\ucesvpm\\OneDrive - University College London\\PhD Project\\Data Analytics\\Time Series Clustering\\Third Test\\wandb\\run-20230202_123503-4kpszhpo\\files\\model-best)... Done. 0.0s\n"
     ]
    },
    {
     "name": "stdout",
     "output_type": "stream",
     "text": [
      "1771/1771 [==============================] - 8s 4ms/step - loss: 0.5715 - mse: 0.5715 - val_loss: 0.5750 - val_mse: 0.5750 - lr: 0.0251\n",
      "Epoch 7/100\n",
      "1766/1771 [============================>.] - ETA: 0s - loss: 0.5688 - mse: 0.5688"
     ]
    },
    {
     "name": "stderr",
     "output_type": "stream",
     "text": [
      "WARNING:absl:Found untraced functions such as leaky_re_lu_layer_call_fn, leaky_re_lu_layer_call_and_return_conditional_losses, leaky_re_lu_1_layer_call_fn, leaky_re_lu_1_layer_call_and_return_conditional_losses, leaky_re_lu_2_layer_call_fn while saving (showing 5 of 8). These functions will not be directly callable after loading.\n"
     ]
    },
    {
     "name": "stdout",
     "output_type": "stream",
     "text": [
      "INFO:tensorflow:Assets written to: C:\\Users\\ucesvpm\\OneDrive - University College London\\PhD Project\\Data Analytics\\Time Series Clustering\\Third Test\\wandb\\run-20230202_123503-4kpszhpo\\files\\model-best\\assets\n"
     ]
    },
    {
     "name": "stderr",
     "output_type": "stream",
     "text": [
      "INFO:tensorflow:Assets written to: C:\\Users\\ucesvpm\\OneDrive - University College London\\PhD Project\\Data Analytics\\Time Series Clustering\\Third Test\\wandb\\run-20230202_123503-4kpszhpo\\files\\model-best\\assets\n",
      "\u001b[34m\u001b[1mwandb\u001b[0m: Adding directory to artifact (C:\\Users\\ucesvpm\\OneDrive - University College London\\PhD Project\\Data Analytics\\Time Series Clustering\\Third Test\\wandb\\run-20230202_123503-4kpszhpo\\files\\model-best)... Done. 0.0s\n"
     ]
    },
    {
     "name": "stdout",
     "output_type": "stream",
     "text": [
      "1771/1771 [==============================] - 7s 4ms/step - loss: 0.5687 - mse: 0.5687 - val_loss: 0.5736 - val_mse: 0.5736 - lr: 0.0251\n",
      "Epoch 8/100\n",
      "1758/1771 [============================>.] - ETA: 0s - loss: 0.5662 - mse: 0.5662"
     ]
    },
    {
     "name": "stderr",
     "output_type": "stream",
     "text": [
      "WARNING:absl:Found untraced functions such as leaky_re_lu_layer_call_fn, leaky_re_lu_layer_call_and_return_conditional_losses, leaky_re_lu_1_layer_call_fn, leaky_re_lu_1_layer_call_and_return_conditional_losses, leaky_re_lu_2_layer_call_fn while saving (showing 5 of 8). These functions will not be directly callable after loading.\n"
     ]
    },
    {
     "name": "stdout",
     "output_type": "stream",
     "text": [
      "INFO:tensorflow:Assets written to: C:\\Users\\ucesvpm\\OneDrive - University College London\\PhD Project\\Data Analytics\\Time Series Clustering\\Third Test\\wandb\\run-20230202_123503-4kpszhpo\\files\\model-best\\assets\n"
     ]
    },
    {
     "name": "stderr",
     "output_type": "stream",
     "text": [
      "INFO:tensorflow:Assets written to: C:\\Users\\ucesvpm\\OneDrive - University College London\\PhD Project\\Data Analytics\\Time Series Clustering\\Third Test\\wandb\\run-20230202_123503-4kpszhpo\\files\\model-best\\assets\n",
      "\u001b[34m\u001b[1mwandb\u001b[0m: Adding directory to artifact (C:\\Users\\ucesvpm\\OneDrive - University College London\\PhD Project\\Data Analytics\\Time Series Clustering\\Third Test\\wandb\\run-20230202_123503-4kpszhpo\\files\\model-best)... Done. 0.0s\n"
     ]
    },
    {
     "name": "stdout",
     "output_type": "stream",
     "text": [
      "1771/1771 [==============================] - 8s 5ms/step - loss: 0.5661 - mse: 0.5661 - val_loss: 0.5709 - val_mse: 0.5709 - lr: 0.0251\n",
      "Epoch 9/100\n",
      "1768/1771 [============================>.] - ETA: 0s - loss: 0.5640 - mse: 0.5640"
     ]
    },
    {
     "name": "stderr",
     "output_type": "stream",
     "text": [
      "WARNING:absl:Found untraced functions such as leaky_re_lu_layer_call_fn, leaky_re_lu_layer_call_and_return_conditional_losses, leaky_re_lu_1_layer_call_fn, leaky_re_lu_1_layer_call_and_return_conditional_losses, leaky_re_lu_2_layer_call_fn while saving (showing 5 of 8). These functions will not be directly callable after loading.\n"
     ]
    },
    {
     "name": "stdout",
     "output_type": "stream",
     "text": [
      "INFO:tensorflow:Assets written to: C:\\Users\\ucesvpm\\OneDrive - University College London\\PhD Project\\Data Analytics\\Time Series Clustering\\Third Test\\wandb\\run-20230202_123503-4kpszhpo\\files\\model-best\\assets\n"
     ]
    },
    {
     "name": "stderr",
     "output_type": "stream",
     "text": [
      "INFO:tensorflow:Assets written to: C:\\Users\\ucesvpm\\OneDrive - University College London\\PhD Project\\Data Analytics\\Time Series Clustering\\Third Test\\wandb\\run-20230202_123503-4kpszhpo\\files\\model-best\\assets\n",
      "\u001b[34m\u001b[1mwandb\u001b[0m: Adding directory to artifact (C:\\Users\\ucesvpm\\OneDrive - University College London\\PhD Project\\Data Analytics\\Time Series Clustering\\Third Test\\wandb\\run-20230202_123503-4kpszhpo\\files\\model-best)... Done. 0.0s\n"
     ]
    },
    {
     "name": "stdout",
     "output_type": "stream",
     "text": [
      "1771/1771 [==============================] - 6s 3ms/step - loss: 0.5640 - mse: 0.5640 - val_loss: 0.5692 - val_mse: 0.5692 - lr: 0.0251\n",
      "Epoch 10/100\n",
      "1770/1771 [============================>.] - ETA: 0s - loss: 0.5620 - mse: 0.5620"
     ]
    },
    {
     "name": "stderr",
     "output_type": "stream",
     "text": [
      "WARNING:absl:Found untraced functions such as leaky_re_lu_layer_call_fn, leaky_re_lu_layer_call_and_return_conditional_losses, leaky_re_lu_1_layer_call_fn, leaky_re_lu_1_layer_call_and_return_conditional_losses, leaky_re_lu_2_layer_call_fn while saving (showing 5 of 8). These functions will not be directly callable after loading.\n"
     ]
    },
    {
     "name": "stdout",
     "output_type": "stream",
     "text": [
      "INFO:tensorflow:Assets written to: C:\\Users\\ucesvpm\\OneDrive - University College London\\PhD Project\\Data Analytics\\Time Series Clustering\\Third Test\\wandb\\run-20230202_123503-4kpszhpo\\files\\model-best\\assets\n"
     ]
    },
    {
     "name": "stderr",
     "output_type": "stream",
     "text": [
      "INFO:tensorflow:Assets written to: C:\\Users\\ucesvpm\\OneDrive - University College London\\PhD Project\\Data Analytics\\Time Series Clustering\\Third Test\\wandb\\run-20230202_123503-4kpszhpo\\files\\model-best\\assets\n",
      "\u001b[34m\u001b[1mwandb\u001b[0m: Adding directory to artifact (C:\\Users\\ucesvpm\\OneDrive - University College London\\PhD Project\\Data Analytics\\Time Series Clustering\\Third Test\\wandb\\run-20230202_123503-4kpszhpo\\files\\model-best)... Done. 0.0s\n"
     ]
    },
    {
     "name": "stdout",
     "output_type": "stream",
     "text": [
      "1771/1771 [==============================] - 9s 5ms/step - loss: 0.5620 - mse: 0.5620 - val_loss: 0.5682 - val_mse: 0.5682 - lr: 0.0251\n",
      "Epoch 11/100\n",
      "1771/1771 [==============================] - ETA: 0s - loss: 0.5602 - mse: 0.5602"
     ]
    },
    {
     "name": "stderr",
     "output_type": "stream",
     "text": [
      "WARNING:absl:Found untraced functions such as leaky_re_lu_layer_call_fn, leaky_re_lu_layer_call_and_return_conditional_losses, leaky_re_lu_1_layer_call_fn, leaky_re_lu_1_layer_call_and_return_conditional_losses, leaky_re_lu_2_layer_call_fn while saving (showing 5 of 8). These functions will not be directly callable after loading.\n"
     ]
    },
    {
     "name": "stdout",
     "output_type": "stream",
     "text": [
      "INFO:tensorflow:Assets written to: C:\\Users\\ucesvpm\\OneDrive - University College London\\PhD Project\\Data Analytics\\Time Series Clustering\\Third Test\\wandb\\run-20230202_123503-4kpszhpo\\files\\model-best\\assets\n"
     ]
    },
    {
     "name": "stderr",
     "output_type": "stream",
     "text": [
      "INFO:tensorflow:Assets written to: C:\\Users\\ucesvpm\\OneDrive - University College London\\PhD Project\\Data Analytics\\Time Series Clustering\\Third Test\\wandb\\run-20230202_123503-4kpszhpo\\files\\model-best\\assets\n",
      "\u001b[34m\u001b[1mwandb\u001b[0m: Adding directory to artifact (C:\\Users\\ucesvpm\\OneDrive - University College London\\PhD Project\\Data Analytics\\Time Series Clustering\\Third Test\\wandb\\run-20230202_123503-4kpszhpo\\files\\model-best)... Done. 0.0s\n"
     ]
    },
    {
     "name": "stdout",
     "output_type": "stream",
     "text": [
      "1771/1771 [==============================] - 11s 6ms/step - loss: 0.5602 - mse: 0.5602 - val_loss: 0.5667 - val_mse: 0.5667 - lr: 0.0251\n",
      "Epoch 12/100\n",
      "1755/1771 [============================>.] - ETA: 0s - loss: 0.5588 - mse: 0.5588"
     ]
    },
    {
     "name": "stderr",
     "output_type": "stream",
     "text": [
      "WARNING:absl:Found untraced functions such as leaky_re_lu_layer_call_fn, leaky_re_lu_layer_call_and_return_conditional_losses, leaky_re_lu_1_layer_call_fn, leaky_re_lu_1_layer_call_and_return_conditional_losses, leaky_re_lu_2_layer_call_fn while saving (showing 5 of 8). These functions will not be directly callable after loading.\n"
     ]
    },
    {
     "name": "stdout",
     "output_type": "stream",
     "text": [
      "INFO:tensorflow:Assets written to: C:\\Users\\ucesvpm\\OneDrive - University College London\\PhD Project\\Data Analytics\\Time Series Clustering\\Third Test\\wandb\\run-20230202_123503-4kpszhpo\\files\\model-best\\assets\n"
     ]
    },
    {
     "name": "stderr",
     "output_type": "stream",
     "text": [
      "INFO:tensorflow:Assets written to: C:\\Users\\ucesvpm\\OneDrive - University College London\\PhD Project\\Data Analytics\\Time Series Clustering\\Third Test\\wandb\\run-20230202_123503-4kpszhpo\\files\\model-best\\assets\n",
      "\u001b[34m\u001b[1mwandb\u001b[0m: Adding directory to artifact (C:\\Users\\ucesvpm\\OneDrive - University College London\\PhD Project\\Data Analytics\\Time Series Clustering\\Third Test\\wandb\\run-20230202_123503-4kpszhpo\\files\\model-best)... Done. 0.0s\n"
     ]
    },
    {
     "name": "stdout",
     "output_type": "stream",
     "text": [
      "1771/1771 [==============================] - 7s 4ms/step - loss: 0.5585 - mse: 0.5585 - val_loss: 0.5650 - val_mse: 0.5650 - lr: 0.0251\n",
      "Epoch 13/100\n",
      "1761/1771 [============================>.] - ETA: 0s - loss: 0.5570 - mse: 0.5570"
     ]
    },
    {
     "name": "stderr",
     "output_type": "stream",
     "text": [
      "WARNING:absl:Found untraced functions such as leaky_re_lu_layer_call_fn, leaky_re_lu_layer_call_and_return_conditional_losses, leaky_re_lu_1_layer_call_fn, leaky_re_lu_1_layer_call_and_return_conditional_losses, leaky_re_lu_2_layer_call_fn while saving (showing 5 of 8). These functions will not be directly callable after loading.\n"
     ]
    },
    {
     "name": "stdout",
     "output_type": "stream",
     "text": [
      "INFO:tensorflow:Assets written to: C:\\Users\\ucesvpm\\OneDrive - University College London\\PhD Project\\Data Analytics\\Time Series Clustering\\Third Test\\wandb\\run-20230202_123503-4kpszhpo\\files\\model-best\\assets\n"
     ]
    },
    {
     "name": "stderr",
     "output_type": "stream",
     "text": [
      "INFO:tensorflow:Assets written to: C:\\Users\\ucesvpm\\OneDrive - University College London\\PhD Project\\Data Analytics\\Time Series Clustering\\Third Test\\wandb\\run-20230202_123503-4kpszhpo\\files\\model-best\\assets\n",
      "\u001b[34m\u001b[1mwandb\u001b[0m: Adding directory to artifact (C:\\Users\\ucesvpm\\OneDrive - University College London\\PhD Project\\Data Analytics\\Time Series Clustering\\Third Test\\wandb\\run-20230202_123503-4kpszhpo\\files\\model-best)... Done. 0.0s\n"
     ]
    },
    {
     "name": "stdout",
     "output_type": "stream",
     "text": [
      "1771/1771 [==============================] - 7s 4ms/step - loss: 0.5569 - mse: 0.5569 - val_loss: 0.5635 - val_mse: 0.5635 - lr: 0.0251\n",
      "Epoch 14/100\n",
      "1765/1771 [============================>.] - ETA: 0s - loss: 0.5554 - mse: 0.5554"
     ]
    },
    {
     "name": "stderr",
     "output_type": "stream",
     "text": [
      "WARNING:absl:Found untraced functions such as leaky_re_lu_layer_call_fn, leaky_re_lu_layer_call_and_return_conditional_losses, leaky_re_lu_1_layer_call_fn, leaky_re_lu_1_layer_call_and_return_conditional_losses, leaky_re_lu_2_layer_call_fn while saving (showing 5 of 8). These functions will not be directly callable after loading.\n"
     ]
    },
    {
     "name": "stdout",
     "output_type": "stream",
     "text": [
      "INFO:tensorflow:Assets written to: C:\\Users\\ucesvpm\\OneDrive - University College London\\PhD Project\\Data Analytics\\Time Series Clustering\\Third Test\\wandb\\run-20230202_123503-4kpszhpo\\files\\model-best\\assets\n"
     ]
    },
    {
     "name": "stderr",
     "output_type": "stream",
     "text": [
      "INFO:tensorflow:Assets written to: C:\\Users\\ucesvpm\\OneDrive - University College London\\PhD Project\\Data Analytics\\Time Series Clustering\\Third Test\\wandb\\run-20230202_123503-4kpszhpo\\files\\model-best\\assets\n",
      "\u001b[34m\u001b[1mwandb\u001b[0m: Adding directory to artifact (C:\\Users\\ucesvpm\\OneDrive - University College London\\PhD Project\\Data Analytics\\Time Series Clustering\\Third Test\\wandb\\run-20230202_123503-4kpszhpo\\files\\model-best)... Done. 0.0s\n"
     ]
    },
    {
     "name": "stdout",
     "output_type": "stream",
     "text": [
      "1771/1771 [==============================] - 7s 4ms/step - loss: 0.5555 - mse: 0.5555 - val_loss: 0.5628 - val_mse: 0.5628 - lr: 0.0251\n",
      "Epoch 15/100\n",
      "1769/1771 [============================>.] - ETA: 0s - loss: 0.5542 - mse: 0.5542"
     ]
    },
    {
     "name": "stderr",
     "output_type": "stream",
     "text": [
      "WARNING:absl:Found untraced functions such as leaky_re_lu_layer_call_fn, leaky_re_lu_layer_call_and_return_conditional_losses, leaky_re_lu_1_layer_call_fn, leaky_re_lu_1_layer_call_and_return_conditional_losses, leaky_re_lu_2_layer_call_fn while saving (showing 5 of 8). These functions will not be directly callable after loading.\n"
     ]
    },
    {
     "name": "stdout",
     "output_type": "stream",
     "text": [
      "INFO:tensorflow:Assets written to: C:\\Users\\ucesvpm\\OneDrive - University College London\\PhD Project\\Data Analytics\\Time Series Clustering\\Third Test\\wandb\\run-20230202_123503-4kpszhpo\\files\\model-best\\assets\n"
     ]
    },
    {
     "name": "stderr",
     "output_type": "stream",
     "text": [
      "INFO:tensorflow:Assets written to: C:\\Users\\ucesvpm\\OneDrive - University College London\\PhD Project\\Data Analytics\\Time Series Clustering\\Third Test\\wandb\\run-20230202_123503-4kpszhpo\\files\\model-best\\assets\n",
      "\u001b[34m\u001b[1mwandb\u001b[0m: Adding directory to artifact (C:\\Users\\ucesvpm\\OneDrive - University College London\\PhD Project\\Data Analytics\\Time Series Clustering\\Third Test\\wandb\\run-20230202_123503-4kpszhpo\\files\\model-best)... Done. 0.0s\n"
     ]
    },
    {
     "name": "stdout",
     "output_type": "stream",
     "text": [
      "1771/1771 [==============================] - 7s 4ms/step - loss: 0.5542 - mse: 0.5542 - val_loss: 0.5613 - val_mse: 0.5613 - lr: 0.0251\n",
      "Epoch 16/100\n",
      "1769/1771 [============================>.] - ETA: 0s - loss: 0.5528 - mse: 0.5528"
     ]
    },
    {
     "name": "stderr",
     "output_type": "stream",
     "text": [
      "WARNING:absl:Found untraced functions such as leaky_re_lu_layer_call_fn, leaky_re_lu_layer_call_and_return_conditional_losses, leaky_re_lu_1_layer_call_fn, leaky_re_lu_1_layer_call_and_return_conditional_losses, leaky_re_lu_2_layer_call_fn while saving (showing 5 of 8). These functions will not be directly callable after loading.\n"
     ]
    },
    {
     "name": "stdout",
     "output_type": "stream",
     "text": [
      "INFO:tensorflow:Assets written to: C:\\Users\\ucesvpm\\OneDrive - University College London\\PhD Project\\Data Analytics\\Time Series Clustering\\Third Test\\wandb\\run-20230202_123503-4kpszhpo\\files\\model-best\\assets\n"
     ]
    },
    {
     "name": "stderr",
     "output_type": "stream",
     "text": [
      "INFO:tensorflow:Assets written to: C:\\Users\\ucesvpm\\OneDrive - University College London\\PhD Project\\Data Analytics\\Time Series Clustering\\Third Test\\wandb\\run-20230202_123503-4kpszhpo\\files\\model-best\\assets\n",
      "\u001b[34m\u001b[1mwandb\u001b[0m: Adding directory to artifact (C:\\Users\\ucesvpm\\OneDrive - University College London\\PhD Project\\Data Analytics\\Time Series Clustering\\Third Test\\wandb\\run-20230202_123503-4kpszhpo\\files\\model-best)... Done. 0.0s\n"
     ]
    },
    {
     "name": "stdout",
     "output_type": "stream",
     "text": [
      "1771/1771 [==============================] - 7s 4ms/step - loss: 0.5529 - mse: 0.5529 - val_loss: 0.5598 - val_mse: 0.5598 - lr: 0.0251\n",
      "Epoch 17/100\n",
      "1752/1771 [============================>.] - ETA: 0s - loss: 0.5515 - mse: 0.5515"
     ]
    },
    {
     "name": "stderr",
     "output_type": "stream",
     "text": [
      "WARNING:absl:Found untraced functions such as leaky_re_lu_layer_call_fn, leaky_re_lu_layer_call_and_return_conditional_losses, leaky_re_lu_1_layer_call_fn, leaky_re_lu_1_layer_call_and_return_conditional_losses, leaky_re_lu_2_layer_call_fn while saving (showing 5 of 8). These functions will not be directly callable after loading.\n"
     ]
    },
    {
     "name": "stdout",
     "output_type": "stream",
     "text": [
      "INFO:tensorflow:Assets written to: C:\\Users\\ucesvpm\\OneDrive - University College London\\PhD Project\\Data Analytics\\Time Series Clustering\\Third Test\\wandb\\run-20230202_123503-4kpszhpo\\files\\model-best\\assets\n"
     ]
    },
    {
     "name": "stderr",
     "output_type": "stream",
     "text": [
      "INFO:tensorflow:Assets written to: C:\\Users\\ucesvpm\\OneDrive - University College London\\PhD Project\\Data Analytics\\Time Series Clustering\\Third Test\\wandb\\run-20230202_123503-4kpszhpo\\files\\model-best\\assets\n",
      "\u001b[34m\u001b[1mwandb\u001b[0m: Adding directory to artifact (C:\\Users\\ucesvpm\\OneDrive - University College London\\PhD Project\\Data Analytics\\Time Series Clustering\\Third Test\\wandb\\run-20230202_123503-4kpszhpo\\files\\model-best)... Done. 0.0s\n"
     ]
    },
    {
     "name": "stdout",
     "output_type": "stream",
     "text": [
      "1771/1771 [==============================] - 6s 3ms/step - loss: 0.5516 - mse: 0.5516 - val_loss: 0.5595 - val_mse: 0.5595 - lr: 0.0251\n",
      "Epoch 18/100\n",
      "1766/1771 [============================>.] - ETA: 0s - loss: 0.5506 - mse: 0.5506"
     ]
    },
    {
     "name": "stderr",
     "output_type": "stream",
     "text": [
      "WARNING:absl:Found untraced functions such as leaky_re_lu_layer_call_fn, leaky_re_lu_layer_call_and_return_conditional_losses, leaky_re_lu_1_layer_call_fn, leaky_re_lu_1_layer_call_and_return_conditional_losses, leaky_re_lu_2_layer_call_fn while saving (showing 5 of 8). These functions will not be directly callable after loading.\n"
     ]
    },
    {
     "name": "stdout",
     "output_type": "stream",
     "text": [
      "INFO:tensorflow:Assets written to: C:\\Users\\ucesvpm\\OneDrive - University College London\\PhD Project\\Data Analytics\\Time Series Clustering\\Third Test\\wandb\\run-20230202_123503-4kpszhpo\\files\\model-best\\assets\n"
     ]
    },
    {
     "name": "stderr",
     "output_type": "stream",
     "text": [
      "INFO:tensorflow:Assets written to: C:\\Users\\ucesvpm\\OneDrive - University College London\\PhD Project\\Data Analytics\\Time Series Clustering\\Third Test\\wandb\\run-20230202_123503-4kpszhpo\\files\\model-best\\assets\n",
      "\u001b[34m\u001b[1mwandb\u001b[0m: Adding directory to artifact (C:\\Users\\ucesvpm\\OneDrive - University College London\\PhD Project\\Data Analytics\\Time Series Clustering\\Third Test\\wandb\\run-20230202_123503-4kpszhpo\\files\\model-best)... Done. 0.0s\n"
     ]
    },
    {
     "name": "stdout",
     "output_type": "stream",
     "text": [
      "1771/1771 [==============================] - 6s 4ms/step - loss: 0.5505 - mse: 0.5505 - val_loss: 0.5583 - val_mse: 0.5583 - lr: 0.0251\n",
      "Epoch 19/100\n",
      "1769/1771 [============================>.] - ETA: 0s - loss: 0.5494 - mse: 0.5494"
     ]
    },
    {
     "name": "stderr",
     "output_type": "stream",
     "text": [
      "WARNING:absl:Found untraced functions such as leaky_re_lu_layer_call_fn, leaky_re_lu_layer_call_and_return_conditional_losses, leaky_re_lu_1_layer_call_fn, leaky_re_lu_1_layer_call_and_return_conditional_losses, leaky_re_lu_2_layer_call_fn while saving (showing 5 of 8). These functions will not be directly callable after loading.\n"
     ]
    },
    {
     "name": "stdout",
     "output_type": "stream",
     "text": [
      "INFO:tensorflow:Assets written to: C:\\Users\\ucesvpm\\OneDrive - University College London\\PhD Project\\Data Analytics\\Time Series Clustering\\Third Test\\wandb\\run-20230202_123503-4kpszhpo\\files\\model-best\\assets\n"
     ]
    },
    {
     "name": "stderr",
     "output_type": "stream",
     "text": [
      "INFO:tensorflow:Assets written to: C:\\Users\\ucesvpm\\OneDrive - University College London\\PhD Project\\Data Analytics\\Time Series Clustering\\Third Test\\wandb\\run-20230202_123503-4kpszhpo\\files\\model-best\\assets\n",
      "\u001b[34m\u001b[1mwandb\u001b[0m: Adding directory to artifact (C:\\Users\\ucesvpm\\OneDrive - University College London\\PhD Project\\Data Analytics\\Time Series Clustering\\Third Test\\wandb\\run-20230202_123503-4kpszhpo\\files\\model-best)... Done. 0.0s\n"
     ]
    },
    {
     "name": "stdout",
     "output_type": "stream",
     "text": [
      "1771/1771 [==============================] - 7s 4ms/step - loss: 0.5494 - mse: 0.5494 - val_loss: 0.5569 - val_mse: 0.5569 - lr: 0.0251\n",
      "Epoch 20/100\n",
      "1771/1771 [==============================] - 5s 3ms/step - loss: 0.5483 - mse: 0.5483 - val_loss: 0.5575 - val_mse: 0.5575 - lr: 0.0251\n",
      "Epoch 21/100\n",
      "1759/1771 [============================>.] - ETA: 0s - loss: 0.5474 - mse: 0.5474"
     ]
    },
    {
     "name": "stderr",
     "output_type": "stream",
     "text": [
      "WARNING:absl:Found untraced functions such as leaky_re_lu_layer_call_fn, leaky_re_lu_layer_call_and_return_conditional_losses, leaky_re_lu_1_layer_call_fn, leaky_re_lu_1_layer_call_and_return_conditional_losses, leaky_re_lu_2_layer_call_fn while saving (showing 5 of 8). These functions will not be directly callable after loading.\n"
     ]
    },
    {
     "name": "stdout",
     "output_type": "stream",
     "text": [
      "INFO:tensorflow:Assets written to: C:\\Users\\ucesvpm\\OneDrive - University College London\\PhD Project\\Data Analytics\\Time Series Clustering\\Third Test\\wandb\\run-20230202_123503-4kpszhpo\\files\\model-best\\assets\n"
     ]
    },
    {
     "name": "stderr",
     "output_type": "stream",
     "text": [
      "INFO:tensorflow:Assets written to: C:\\Users\\ucesvpm\\OneDrive - University College London\\PhD Project\\Data Analytics\\Time Series Clustering\\Third Test\\wandb\\run-20230202_123503-4kpszhpo\\files\\model-best\\assets\n",
      "\u001b[34m\u001b[1mwandb\u001b[0m: Adding directory to artifact (C:\\Users\\ucesvpm\\OneDrive - University College London\\PhD Project\\Data Analytics\\Time Series Clustering\\Third Test\\wandb\\run-20230202_123503-4kpszhpo\\files\\model-best)... Done. 0.0s\n"
     ]
    },
    {
     "name": "stdout",
     "output_type": "stream",
     "text": [
      "1771/1771 [==============================] - 7s 4ms/step - loss: 0.5473 - mse: 0.5473 - val_loss: 0.5562 - val_mse: 0.5562 - lr: 0.0251\n",
      "Epoch 22/100\n",
      "1771/1771 [==============================] - 5s 3ms/step - loss: 0.5463 - mse: 0.5463 - val_loss: 0.5563 - val_mse: 0.5563 - lr: 0.0251\n",
      "Epoch 23/100\n",
      "1751/1771 [============================>.] - ETA: 0s - loss: 0.5453 - mse: 0.5453"
     ]
    },
    {
     "name": "stderr",
     "output_type": "stream",
     "text": [
      "WARNING:absl:Found untraced functions such as leaky_re_lu_layer_call_fn, leaky_re_lu_layer_call_and_return_conditional_losses, leaky_re_lu_1_layer_call_fn, leaky_re_lu_1_layer_call_and_return_conditional_losses, leaky_re_lu_2_layer_call_fn while saving (showing 5 of 8). These functions will not be directly callable after loading.\n"
     ]
    },
    {
     "name": "stdout",
     "output_type": "stream",
     "text": [
      "INFO:tensorflow:Assets written to: C:\\Users\\ucesvpm\\OneDrive - University College London\\PhD Project\\Data Analytics\\Time Series Clustering\\Third Test\\wandb\\run-20230202_123503-4kpszhpo\\files\\model-best\\assets\n"
     ]
    },
    {
     "name": "stderr",
     "output_type": "stream",
     "text": [
      "INFO:tensorflow:Assets written to: C:\\Users\\ucesvpm\\OneDrive - University College London\\PhD Project\\Data Analytics\\Time Series Clustering\\Third Test\\wandb\\run-20230202_123503-4kpszhpo\\files\\model-best\\assets\n",
      "\u001b[34m\u001b[1mwandb\u001b[0m: Adding directory to artifact (C:\\Users\\ucesvpm\\OneDrive - University College London\\PhD Project\\Data Analytics\\Time Series Clustering\\Third Test\\wandb\\run-20230202_123503-4kpszhpo\\files\\model-best)... Done. 0.1s\n"
     ]
    },
    {
     "name": "stdout",
     "output_type": "stream",
     "text": [
      "1771/1771 [==============================] - 8s 4ms/step - loss: 0.5454 - mse: 0.5454 - val_loss: 0.5544 - val_mse: 0.5544 - lr: 0.0251\n",
      "Epoch 24/100\n",
      "1761/1771 [============================>.] - ETA: 0s - loss: 0.5444 - mse: 0.5444"
     ]
    },
    {
     "name": "stderr",
     "output_type": "stream",
     "text": [
      "WARNING:absl:Found untraced functions such as leaky_re_lu_layer_call_fn, leaky_re_lu_layer_call_and_return_conditional_losses, leaky_re_lu_1_layer_call_fn, leaky_re_lu_1_layer_call_and_return_conditional_losses, leaky_re_lu_2_layer_call_fn while saving (showing 5 of 8). These functions will not be directly callable after loading.\n"
     ]
    },
    {
     "name": "stdout",
     "output_type": "stream",
     "text": [
      "INFO:tensorflow:Assets written to: C:\\Users\\ucesvpm\\OneDrive - University College London\\PhD Project\\Data Analytics\\Time Series Clustering\\Third Test\\wandb\\run-20230202_123503-4kpszhpo\\files\\model-best\\assets\n"
     ]
    },
    {
     "name": "stderr",
     "output_type": "stream",
     "text": [
      "INFO:tensorflow:Assets written to: C:\\Users\\ucesvpm\\OneDrive - University College London\\PhD Project\\Data Analytics\\Time Series Clustering\\Third Test\\wandb\\run-20230202_123503-4kpszhpo\\files\\model-best\\assets\n",
      "\u001b[34m\u001b[1mwandb\u001b[0m: Adding directory to artifact (C:\\Users\\ucesvpm\\OneDrive - University College London\\PhD Project\\Data Analytics\\Time Series Clustering\\Third Test\\wandb\\run-20230202_123503-4kpszhpo\\files\\model-best)... Done. 0.0s\n"
     ]
    },
    {
     "name": "stdout",
     "output_type": "stream",
     "text": [
      "1771/1771 [==============================] - 9s 5ms/step - loss: 0.5445 - mse: 0.5445 - val_loss: 0.5537 - val_mse: 0.5537 - lr: 0.0251\n",
      "Epoch 25/100\n",
      "1771/1771 [==============================] - ETA: 0s - loss: 0.5436 - mse: 0.5436"
     ]
    },
    {
     "name": "stderr",
     "output_type": "stream",
     "text": [
      "WARNING:absl:Found untraced functions such as leaky_re_lu_layer_call_fn, leaky_re_lu_layer_call_and_return_conditional_losses, leaky_re_lu_1_layer_call_fn, leaky_re_lu_1_layer_call_and_return_conditional_losses, leaky_re_lu_2_layer_call_fn while saving (showing 5 of 8). These functions will not be directly callable after loading.\n"
     ]
    },
    {
     "name": "stdout",
     "output_type": "stream",
     "text": [
      "INFO:tensorflow:Assets written to: C:\\Users\\ucesvpm\\OneDrive - University College London\\PhD Project\\Data Analytics\\Time Series Clustering\\Third Test\\wandb\\run-20230202_123503-4kpszhpo\\files\\model-best\\assets\n"
     ]
    },
    {
     "name": "stderr",
     "output_type": "stream",
     "text": [
      "INFO:tensorflow:Assets written to: C:\\Users\\ucesvpm\\OneDrive - University College London\\PhD Project\\Data Analytics\\Time Series Clustering\\Third Test\\wandb\\run-20230202_123503-4kpszhpo\\files\\model-best\\assets\n",
      "\u001b[34m\u001b[1mwandb\u001b[0m: Adding directory to artifact (C:\\Users\\ucesvpm\\OneDrive - University College London\\PhD Project\\Data Analytics\\Time Series Clustering\\Third Test\\wandb\\run-20230202_123503-4kpszhpo\\files\\model-best)... Done. 0.0s\n"
     ]
    },
    {
     "name": "stdout",
     "output_type": "stream",
     "text": [
      "1771/1771 [==============================] - 6s 3ms/step - loss: 0.5436 - mse: 0.5436 - val_loss: 0.5531 - val_mse: 0.5531 - lr: 0.0251\n",
      "Epoch 26/100\n",
      "1759/1771 [============================>.] - ETA: 0s - loss: 0.5427 - mse: 0.5427"
     ]
    },
    {
     "name": "stderr",
     "output_type": "stream",
     "text": [
      "WARNING:absl:Found untraced functions such as leaky_re_lu_layer_call_fn, leaky_re_lu_layer_call_and_return_conditional_losses, leaky_re_lu_1_layer_call_fn, leaky_re_lu_1_layer_call_and_return_conditional_losses, leaky_re_lu_2_layer_call_fn while saving (showing 5 of 8). These functions will not be directly callable after loading.\n"
     ]
    },
    {
     "name": "stdout",
     "output_type": "stream",
     "text": [
      "INFO:tensorflow:Assets written to: C:\\Users\\ucesvpm\\OneDrive - University College London\\PhD Project\\Data Analytics\\Time Series Clustering\\Third Test\\wandb\\run-20230202_123503-4kpszhpo\\files\\model-best\\assets\n"
     ]
    },
    {
     "name": "stderr",
     "output_type": "stream",
     "text": [
      "INFO:tensorflow:Assets written to: C:\\Users\\ucesvpm\\OneDrive - University College London\\PhD Project\\Data Analytics\\Time Series Clustering\\Third Test\\wandb\\run-20230202_123503-4kpszhpo\\files\\model-best\\assets\n",
      "\u001b[34m\u001b[1mwandb\u001b[0m: Adding directory to artifact (C:\\Users\\ucesvpm\\OneDrive - University College London\\PhD Project\\Data Analytics\\Time Series Clustering\\Third Test\\wandb\\run-20230202_123503-4kpszhpo\\files\\model-best)... Done. 0.0s\n"
     ]
    },
    {
     "name": "stdout",
     "output_type": "stream",
     "text": [
      "1771/1771 [==============================] - 8s 4ms/step - loss: 0.5428 - mse: 0.5428 - val_loss: 0.5528 - val_mse: 0.5528 - lr: 0.0251\n",
      "Epoch 27/100\n",
      "1769/1771 [============================>.] - ETA: 0s - loss: 0.5420 - mse: 0.5420"
     ]
    },
    {
     "name": "stderr",
     "output_type": "stream",
     "text": [
      "WARNING:absl:Found untraced functions such as leaky_re_lu_layer_call_fn, leaky_re_lu_layer_call_and_return_conditional_losses, leaky_re_lu_1_layer_call_fn, leaky_re_lu_1_layer_call_and_return_conditional_losses, leaky_re_lu_2_layer_call_fn while saving (showing 5 of 8). These functions will not be directly callable after loading.\n"
     ]
    },
    {
     "name": "stdout",
     "output_type": "stream",
     "text": [
      "INFO:tensorflow:Assets written to: C:\\Users\\ucesvpm\\OneDrive - University College London\\PhD Project\\Data Analytics\\Time Series Clustering\\Third Test\\wandb\\run-20230202_123503-4kpszhpo\\files\\model-best\\assets\n"
     ]
    },
    {
     "name": "stderr",
     "output_type": "stream",
     "text": [
      "INFO:tensorflow:Assets written to: C:\\Users\\ucesvpm\\OneDrive - University College London\\PhD Project\\Data Analytics\\Time Series Clustering\\Third Test\\wandb\\run-20230202_123503-4kpszhpo\\files\\model-best\\assets\n",
      "\u001b[34m\u001b[1mwandb\u001b[0m: Adding directory to artifact (C:\\Users\\ucesvpm\\OneDrive - University College London\\PhD Project\\Data Analytics\\Time Series Clustering\\Third Test\\wandb\\run-20230202_123503-4kpszhpo\\files\\model-best)... Done. 0.0s\n"
     ]
    },
    {
     "name": "stdout",
     "output_type": "stream",
     "text": [
      "1771/1771 [==============================] - 7s 4ms/step - loss: 0.5420 - mse: 0.5420 - val_loss: 0.5523 - val_mse: 0.5523 - lr: 0.0251\n",
      "Epoch 28/100\n",
      "1771/1771 [==============================] - 5s 3ms/step - loss: 0.5412 - mse: 0.5412 - val_loss: 0.5529 - val_mse: 0.5529 - lr: 0.0251\n",
      "Epoch 29/100\n",
      "1766/1771 [============================>.] - ETA: 0s - loss: 0.5403 - mse: 0.5403"
     ]
    },
    {
     "name": "stderr",
     "output_type": "stream",
     "text": [
      "WARNING:absl:Found untraced functions such as leaky_re_lu_layer_call_fn, leaky_re_lu_layer_call_and_return_conditional_losses, leaky_re_lu_1_layer_call_fn, leaky_re_lu_1_layer_call_and_return_conditional_losses, leaky_re_lu_2_layer_call_fn while saving (showing 5 of 8). These functions will not be directly callable after loading.\n"
     ]
    },
    {
     "name": "stdout",
     "output_type": "stream",
     "text": [
      "INFO:tensorflow:Assets written to: C:\\Users\\ucesvpm\\OneDrive - University College London\\PhD Project\\Data Analytics\\Time Series Clustering\\Third Test\\wandb\\run-20230202_123503-4kpszhpo\\files\\model-best\\assets\n"
     ]
    },
    {
     "name": "stderr",
     "output_type": "stream",
     "text": [
      "INFO:tensorflow:Assets written to: C:\\Users\\ucesvpm\\OneDrive - University College London\\PhD Project\\Data Analytics\\Time Series Clustering\\Third Test\\wandb\\run-20230202_123503-4kpszhpo\\files\\model-best\\assets\n",
      "\u001b[34m\u001b[1mwandb\u001b[0m: Adding directory to artifact (C:\\Users\\ucesvpm\\OneDrive - University College London\\PhD Project\\Data Analytics\\Time Series Clustering\\Third Test\\wandb\\run-20230202_123503-4kpszhpo\\files\\model-best)... Done. 0.0s\n"
     ]
    },
    {
     "name": "stdout",
     "output_type": "stream",
     "text": [
      "1771/1771 [==============================] - 8s 4ms/step - loss: 0.5404 - mse: 0.5404 - val_loss: 0.5511 - val_mse: 0.5511 - lr: 0.0251\n",
      "Epoch 30/100\n",
      "1771/1771 [==============================] - 5s 3ms/step - loss: 0.5395 - mse: 0.5395 - val_loss: 0.5519 - val_mse: 0.5519 - lr: 0.0251\n",
      "Epoch 31/100\n",
      "1768/1771 [============================>.] - ETA: 0s - loss: 0.5389 - mse: 0.5389"
     ]
    },
    {
     "name": "stderr",
     "output_type": "stream",
     "text": [
      "WARNING:absl:Found untraced functions such as leaky_re_lu_layer_call_fn, leaky_re_lu_layer_call_and_return_conditional_losses, leaky_re_lu_1_layer_call_fn, leaky_re_lu_1_layer_call_and_return_conditional_losses, leaky_re_lu_2_layer_call_fn while saving (showing 5 of 8). These functions will not be directly callable after loading.\n"
     ]
    },
    {
     "name": "stdout",
     "output_type": "stream",
     "text": [
      "INFO:tensorflow:Assets written to: C:\\Users\\ucesvpm\\OneDrive - University College London\\PhD Project\\Data Analytics\\Time Series Clustering\\Third Test\\wandb\\run-20230202_123503-4kpszhpo\\files\\model-best\\assets\n"
     ]
    },
    {
     "name": "stderr",
     "output_type": "stream",
     "text": [
      "INFO:tensorflow:Assets written to: C:\\Users\\ucesvpm\\OneDrive - University College London\\PhD Project\\Data Analytics\\Time Series Clustering\\Third Test\\wandb\\run-20230202_123503-4kpszhpo\\files\\model-best\\assets\n",
      "\u001b[34m\u001b[1mwandb\u001b[0m: Adding directory to artifact (C:\\Users\\ucesvpm\\OneDrive - University College London\\PhD Project\\Data Analytics\\Time Series Clustering\\Third Test\\wandb\\run-20230202_123503-4kpszhpo\\files\\model-best)... Done. 0.0s\n"
     ]
    },
    {
     "name": "stdout",
     "output_type": "stream",
     "text": [
      "1771/1771 [==============================] - 8s 5ms/step - loss: 0.5389 - mse: 0.5389 - val_loss: 0.5506 - val_mse: 0.5506 - lr: 0.0251\n",
      "Epoch 32/100\n",
      "1767/1771 [============================>.] - ETA: 0s - loss: 0.5382 - mse: 0.5382"
     ]
    },
    {
     "name": "stderr",
     "output_type": "stream",
     "text": [
      "WARNING:absl:Found untraced functions such as leaky_re_lu_layer_call_fn, leaky_re_lu_layer_call_and_return_conditional_losses, leaky_re_lu_1_layer_call_fn, leaky_re_lu_1_layer_call_and_return_conditional_losses, leaky_re_lu_2_layer_call_fn while saving (showing 5 of 8). These functions will not be directly callable after loading.\n"
     ]
    },
    {
     "name": "stdout",
     "output_type": "stream",
     "text": [
      "INFO:tensorflow:Assets written to: C:\\Users\\ucesvpm\\OneDrive - University College London\\PhD Project\\Data Analytics\\Time Series Clustering\\Third Test\\wandb\\run-20230202_123503-4kpszhpo\\files\\model-best\\assets\n"
     ]
    },
    {
     "name": "stderr",
     "output_type": "stream",
     "text": [
      "INFO:tensorflow:Assets written to: C:\\Users\\ucesvpm\\OneDrive - University College London\\PhD Project\\Data Analytics\\Time Series Clustering\\Third Test\\wandb\\run-20230202_123503-4kpszhpo\\files\\model-best\\assets\n",
      "\u001b[34m\u001b[1mwandb\u001b[0m: Adding directory to artifact (C:\\Users\\ucesvpm\\OneDrive - University College London\\PhD Project\\Data Analytics\\Time Series Clustering\\Third Test\\wandb\\run-20230202_123503-4kpszhpo\\files\\model-best)... Done. 0.0s\n"
     ]
    },
    {
     "name": "stdout",
     "output_type": "stream",
     "text": [
      "1771/1771 [==============================] - 7s 4ms/step - loss: 0.5382 - mse: 0.5382 - val_loss: 0.5500 - val_mse: 0.5500 - lr: 0.0251\n",
      "Epoch 33/100\n",
      "1771/1771 [==============================] - 7s 4ms/step - loss: 0.5375 - mse: 0.5375 - val_loss: 0.5519 - val_mse: 0.5519 - lr: 0.0251\n",
      "Epoch 34/100\n",
      "1762/1771 [============================>.] - ETA: 0s - loss: 0.5368 - mse: 0.5368"
     ]
    },
    {
     "name": "stderr",
     "output_type": "stream",
     "text": [
      "WARNING:absl:Found untraced functions such as leaky_re_lu_layer_call_fn, leaky_re_lu_layer_call_and_return_conditional_losses, leaky_re_lu_1_layer_call_fn, leaky_re_lu_1_layer_call_and_return_conditional_losses, leaky_re_lu_2_layer_call_fn while saving (showing 5 of 8). These functions will not be directly callable after loading.\n"
     ]
    },
    {
     "name": "stdout",
     "output_type": "stream",
     "text": [
      "INFO:tensorflow:Assets written to: C:\\Users\\ucesvpm\\OneDrive - University College London\\PhD Project\\Data Analytics\\Time Series Clustering\\Third Test\\wandb\\run-20230202_123503-4kpszhpo\\files\\model-best\\assets\n"
     ]
    },
    {
     "name": "stderr",
     "output_type": "stream",
     "text": [
      "INFO:tensorflow:Assets written to: C:\\Users\\ucesvpm\\OneDrive - University College London\\PhD Project\\Data Analytics\\Time Series Clustering\\Third Test\\wandb\\run-20230202_123503-4kpszhpo\\files\\model-best\\assets\n",
      "\u001b[34m\u001b[1mwandb\u001b[0m: Adding directory to artifact (C:\\Users\\ucesvpm\\OneDrive - University College London\\PhD Project\\Data Analytics\\Time Series Clustering\\Third Test\\wandb\\run-20230202_123503-4kpszhpo\\files\\model-best)... Done. 0.0s\n"
     ]
    },
    {
     "name": "stdout",
     "output_type": "stream",
     "text": [
      "1771/1771 [==============================] - 8s 4ms/step - loss: 0.5368 - mse: 0.5368 - val_loss: 0.5499 - val_mse: 0.5499 - lr: 0.0251\n",
      "Epoch 35/100\n",
      "1751/1771 [============================>.] - ETA: 0s - loss: 0.5359 - mse: 0.5359"
     ]
    },
    {
     "name": "stderr",
     "output_type": "stream",
     "text": [
      "WARNING:absl:Found untraced functions such as leaky_re_lu_layer_call_fn, leaky_re_lu_layer_call_and_return_conditional_losses, leaky_re_lu_1_layer_call_fn, leaky_re_lu_1_layer_call_and_return_conditional_losses, leaky_re_lu_2_layer_call_fn while saving (showing 5 of 8). These functions will not be directly callable after loading.\n"
     ]
    },
    {
     "name": "stdout",
     "output_type": "stream",
     "text": [
      "INFO:tensorflow:Assets written to: C:\\Users\\ucesvpm\\OneDrive - University College London\\PhD Project\\Data Analytics\\Time Series Clustering\\Third Test\\wandb\\run-20230202_123503-4kpszhpo\\files\\model-best\\assets\n"
     ]
    },
    {
     "name": "stderr",
     "output_type": "stream",
     "text": [
      "INFO:tensorflow:Assets written to: C:\\Users\\ucesvpm\\OneDrive - University College London\\PhD Project\\Data Analytics\\Time Series Clustering\\Third Test\\wandb\\run-20230202_123503-4kpszhpo\\files\\model-best\\assets\n",
      "\u001b[34m\u001b[1mwandb\u001b[0m: Adding directory to artifact (C:\\Users\\ucesvpm\\OneDrive - University College London\\PhD Project\\Data Analytics\\Time Series Clustering\\Third Test\\wandb\\run-20230202_123503-4kpszhpo\\files\\model-best)... Done. 0.0s\n"
     ]
    },
    {
     "name": "stdout",
     "output_type": "stream",
     "text": [
      "1771/1771 [==============================] - 7s 4ms/step - loss: 0.5362 - mse: 0.5362 - val_loss: 0.5494 - val_mse: 0.5494 - lr: 0.0251\n",
      "Epoch 36/100\n",
      "1752/1771 [============================>.] - ETA: 0s - loss: 0.5357 - mse: 0.5357"
     ]
    },
    {
     "name": "stderr",
     "output_type": "stream",
     "text": [
      "WARNING:absl:Found untraced functions such as leaky_re_lu_layer_call_fn, leaky_re_lu_layer_call_and_return_conditional_losses, leaky_re_lu_1_layer_call_fn, leaky_re_lu_1_layer_call_and_return_conditional_losses, leaky_re_lu_2_layer_call_fn while saving (showing 5 of 8). These functions will not be directly callable after loading.\n"
     ]
    },
    {
     "name": "stdout",
     "output_type": "stream",
     "text": [
      "INFO:tensorflow:Assets written to: C:\\Users\\ucesvpm\\OneDrive - University College London\\PhD Project\\Data Analytics\\Time Series Clustering\\Third Test\\wandb\\run-20230202_123503-4kpszhpo\\files\\model-best\\assets\n"
     ]
    },
    {
     "name": "stderr",
     "output_type": "stream",
     "text": [
      "INFO:tensorflow:Assets written to: C:\\Users\\ucesvpm\\OneDrive - University College London\\PhD Project\\Data Analytics\\Time Series Clustering\\Third Test\\wandb\\run-20230202_123503-4kpszhpo\\files\\model-best\\assets\n",
      "\u001b[34m\u001b[1mwandb\u001b[0m: Adding directory to artifact (C:\\Users\\ucesvpm\\OneDrive - University College London\\PhD Project\\Data Analytics\\Time Series Clustering\\Third Test\\wandb\\run-20230202_123503-4kpszhpo\\files\\model-best)... Done. 0.0s\n"
     ]
    },
    {
     "name": "stdout",
     "output_type": "stream",
     "text": [
      "1771/1771 [==============================] - 7s 4ms/step - loss: 0.5356 - mse: 0.5356 - val_loss: 0.5488 - val_mse: 0.5488 - lr: 0.0251\n",
      "Epoch 37/100\n",
      "1757/1771 [============================>.] - ETA: 0s - loss: 0.5349 - mse: 0.5349"
     ]
    },
    {
     "name": "stderr",
     "output_type": "stream",
     "text": [
      "WARNING:absl:Found untraced functions such as leaky_re_lu_layer_call_fn, leaky_re_lu_layer_call_and_return_conditional_losses, leaky_re_lu_1_layer_call_fn, leaky_re_lu_1_layer_call_and_return_conditional_losses, leaky_re_lu_2_layer_call_fn while saving (showing 5 of 8). These functions will not be directly callable after loading.\n"
     ]
    },
    {
     "name": "stdout",
     "output_type": "stream",
     "text": [
      "INFO:tensorflow:Assets written to: C:\\Users\\ucesvpm\\OneDrive - University College London\\PhD Project\\Data Analytics\\Time Series Clustering\\Third Test\\wandb\\run-20230202_123503-4kpszhpo\\files\\model-best\\assets\n"
     ]
    },
    {
     "name": "stderr",
     "output_type": "stream",
     "text": [
      "INFO:tensorflow:Assets written to: C:\\Users\\ucesvpm\\OneDrive - University College London\\PhD Project\\Data Analytics\\Time Series Clustering\\Third Test\\wandb\\run-20230202_123503-4kpszhpo\\files\\model-best\\assets\n",
      "\u001b[34m\u001b[1mwandb\u001b[0m: Adding directory to artifact (C:\\Users\\ucesvpm\\OneDrive - University College London\\PhD Project\\Data Analytics\\Time Series Clustering\\Third Test\\wandb\\run-20230202_123503-4kpszhpo\\files\\model-best)... Done. 0.1s\n"
     ]
    },
    {
     "name": "stdout",
     "output_type": "stream",
     "text": [
      "1771/1771 [==============================] - 6s 4ms/step - loss: 0.5349 - mse: 0.5349 - val_loss: 0.5481 - val_mse: 0.5481 - lr: 0.0251\n",
      "Epoch 38/100\n",
      "1767/1771 [============================>.] - ETA: 0s - loss: 0.5345 - mse: 0.5345"
     ]
    },
    {
     "name": "stderr",
     "output_type": "stream",
     "text": [
      "WARNING:absl:Found untraced functions such as leaky_re_lu_layer_call_fn, leaky_re_lu_layer_call_and_return_conditional_losses, leaky_re_lu_1_layer_call_fn, leaky_re_lu_1_layer_call_and_return_conditional_losses, leaky_re_lu_2_layer_call_fn while saving (showing 5 of 8). These functions will not be directly callable after loading.\n"
     ]
    },
    {
     "name": "stdout",
     "output_type": "stream",
     "text": [
      "INFO:tensorflow:Assets written to: C:\\Users\\ucesvpm\\OneDrive - University College London\\PhD Project\\Data Analytics\\Time Series Clustering\\Third Test\\wandb\\run-20230202_123503-4kpszhpo\\files\\model-best\\assets\n"
     ]
    },
    {
     "name": "stderr",
     "output_type": "stream",
     "text": [
      "INFO:tensorflow:Assets written to: C:\\Users\\ucesvpm\\OneDrive - University College London\\PhD Project\\Data Analytics\\Time Series Clustering\\Third Test\\wandb\\run-20230202_123503-4kpszhpo\\files\\model-best\\assets\n",
      "\u001b[34m\u001b[1mwandb\u001b[0m: Adding directory to artifact (C:\\Users\\ucesvpm\\OneDrive - University College London\\PhD Project\\Data Analytics\\Time Series Clustering\\Third Test\\wandb\\run-20230202_123503-4kpszhpo\\files\\model-best)... Done. 0.0s\n"
     ]
    },
    {
     "name": "stdout",
     "output_type": "stream",
     "text": [
      "1771/1771 [==============================] - 9s 5ms/step - loss: 0.5344 - mse: 0.5344 - val_loss: 0.5479 - val_mse: 0.5479 - lr: 0.0251\n",
      "Epoch 39/100\n",
      "1753/1771 [============================>.] - ETA: 0s - loss: 0.5338 - mse: 0.5338"
     ]
    },
    {
     "name": "stderr",
     "output_type": "stream",
     "text": [
      "WARNING:absl:Found untraced functions such as leaky_re_lu_layer_call_fn, leaky_re_lu_layer_call_and_return_conditional_losses, leaky_re_lu_1_layer_call_fn, leaky_re_lu_1_layer_call_and_return_conditional_losses, leaky_re_lu_2_layer_call_fn while saving (showing 5 of 8). These functions will not be directly callable after loading.\n"
     ]
    },
    {
     "name": "stdout",
     "output_type": "stream",
     "text": [
      "INFO:tensorflow:Assets written to: C:\\Users\\ucesvpm\\OneDrive - University College London\\PhD Project\\Data Analytics\\Time Series Clustering\\Third Test\\wandb\\run-20230202_123503-4kpszhpo\\files\\model-best\\assets\n"
     ]
    },
    {
     "name": "stderr",
     "output_type": "stream",
     "text": [
      "INFO:tensorflow:Assets written to: C:\\Users\\ucesvpm\\OneDrive - University College London\\PhD Project\\Data Analytics\\Time Series Clustering\\Third Test\\wandb\\run-20230202_123503-4kpszhpo\\files\\model-best\\assets\n",
      "\u001b[34m\u001b[1mwandb\u001b[0m: Adding directory to artifact (C:\\Users\\ucesvpm\\OneDrive - University College London\\PhD Project\\Data Analytics\\Time Series Clustering\\Third Test\\wandb\\run-20230202_123503-4kpszhpo\\files\\model-best)... Done. 0.0s\n"
     ]
    },
    {
     "name": "stdout",
     "output_type": "stream",
     "text": [
      "1771/1771 [==============================] - 7s 4ms/step - loss: 0.5337 - mse: 0.5337 - val_loss: 0.5470 - val_mse: 0.5470 - lr: 0.0251\n",
      "Epoch 40/100\n",
      "1771/1771 [==============================] - 7s 4ms/step - loss: 0.5331 - mse: 0.5331 - val_loss: 0.5474 - val_mse: 0.5474 - lr: 0.0251\n",
      "Epoch 41/100\n",
      "1771/1771 [==============================] - 5s 3ms/step - loss: 0.5326 - mse: 0.5326 - val_loss: 0.5481 - val_mse: 0.5481 - lr: 0.0251\n",
      "Epoch 42/100\n",
      "1765/1771 [============================>.] - ETA: 0s - loss: 0.5320 - mse: 0.5320"
     ]
    },
    {
     "name": "stderr",
     "output_type": "stream",
     "text": [
      "WARNING:absl:Found untraced functions such as leaky_re_lu_layer_call_fn, leaky_re_lu_layer_call_and_return_conditional_losses, leaky_re_lu_1_layer_call_fn, leaky_re_lu_1_layer_call_and_return_conditional_losses, leaky_re_lu_2_layer_call_fn while saving (showing 5 of 8). These functions will not be directly callable after loading.\n"
     ]
    },
    {
     "name": "stdout",
     "output_type": "stream",
     "text": [
      "INFO:tensorflow:Assets written to: C:\\Users\\ucesvpm\\OneDrive - University College London\\PhD Project\\Data Analytics\\Time Series Clustering\\Third Test\\wandb\\run-20230202_123503-4kpszhpo\\files\\model-best\\assets\n"
     ]
    },
    {
     "name": "stderr",
     "output_type": "stream",
     "text": [
      "INFO:tensorflow:Assets written to: C:\\Users\\ucesvpm\\OneDrive - University College London\\PhD Project\\Data Analytics\\Time Series Clustering\\Third Test\\wandb\\run-20230202_123503-4kpszhpo\\files\\model-best\\assets\n",
      "\u001b[34m\u001b[1mwandb\u001b[0m: Adding directory to artifact (C:\\Users\\ucesvpm\\OneDrive - University College London\\PhD Project\\Data Analytics\\Time Series Clustering\\Third Test\\wandb\\run-20230202_123503-4kpszhpo\\files\\model-best)... Done. 0.0s\n"
     ]
    },
    {
     "name": "stdout",
     "output_type": "stream",
     "text": [
      "1771/1771 [==============================] - 8s 4ms/step - loss: 0.5320 - mse: 0.5320 - val_loss: 0.5464 - val_mse: 0.5464 - lr: 0.0251\n",
      "Epoch 43/100\n",
      "1771/1771 [==============================] - 5s 3ms/step - loss: 0.5316 - mse: 0.5316 - val_loss: 0.5466 - val_mse: 0.5466 - lr: 0.0251\n",
      "Epoch 44/100\n",
      "1769/1771 [============================>.] - ETA: 0s - loss: 0.5311 - mse: 0.5311"
     ]
    },
    {
     "name": "stderr",
     "output_type": "stream",
     "text": [
      "WARNING:absl:Found untraced functions such as leaky_re_lu_layer_call_fn, leaky_re_lu_layer_call_and_return_conditional_losses, leaky_re_lu_1_layer_call_fn, leaky_re_lu_1_layer_call_and_return_conditional_losses, leaky_re_lu_2_layer_call_fn while saving (showing 5 of 8). These functions will not be directly callable after loading.\n"
     ]
    },
    {
     "name": "stdout",
     "output_type": "stream",
     "text": [
      "INFO:tensorflow:Assets written to: C:\\Users\\ucesvpm\\OneDrive - University College London\\PhD Project\\Data Analytics\\Time Series Clustering\\Third Test\\wandb\\run-20230202_123503-4kpszhpo\\files\\model-best\\assets\n"
     ]
    },
    {
     "name": "stderr",
     "output_type": "stream",
     "text": [
      "INFO:tensorflow:Assets written to: C:\\Users\\ucesvpm\\OneDrive - University College London\\PhD Project\\Data Analytics\\Time Series Clustering\\Third Test\\wandb\\run-20230202_123503-4kpszhpo\\files\\model-best\\assets\n",
      "\u001b[34m\u001b[1mwandb\u001b[0m: Adding directory to artifact (C:\\Users\\ucesvpm\\OneDrive - University College London\\PhD Project\\Data Analytics\\Time Series Clustering\\Third Test\\wandb\\run-20230202_123503-4kpszhpo\\files\\model-best)... Done. 0.0s\n"
     ]
    },
    {
     "name": "stdout",
     "output_type": "stream",
     "text": [
      "1771/1771 [==============================] - 7s 4ms/step - loss: 0.5311 - mse: 0.5311 - val_loss: 0.5459 - val_mse: 0.5459 - lr: 0.0251\n",
      "Epoch 45/100\n",
      "1771/1771 [==============================] - 6s 4ms/step - loss: 0.5305 - mse: 0.5305 - val_loss: 0.5461 - val_mse: 0.5461 - lr: 0.0251\n",
      "Epoch 46/100\n",
      "1760/1771 [============================>.] - ETA: 0s - loss: 0.5299 - mse: 0.5299"
     ]
    },
    {
     "name": "stderr",
     "output_type": "stream",
     "text": [
      "WARNING:absl:Found untraced functions such as leaky_re_lu_layer_call_fn, leaky_re_lu_layer_call_and_return_conditional_losses, leaky_re_lu_1_layer_call_fn, leaky_re_lu_1_layer_call_and_return_conditional_losses, leaky_re_lu_2_layer_call_fn while saving (showing 5 of 8). These functions will not be directly callable after loading.\n"
     ]
    },
    {
     "name": "stdout",
     "output_type": "stream",
     "text": [
      "INFO:tensorflow:Assets written to: C:\\Users\\ucesvpm\\OneDrive - University College London\\PhD Project\\Data Analytics\\Time Series Clustering\\Third Test\\wandb\\run-20230202_123503-4kpszhpo\\files\\model-best\\assets\n"
     ]
    },
    {
     "name": "stderr",
     "output_type": "stream",
     "text": [
      "INFO:tensorflow:Assets written to: C:\\Users\\ucesvpm\\OneDrive - University College London\\PhD Project\\Data Analytics\\Time Series Clustering\\Third Test\\wandb\\run-20230202_123503-4kpszhpo\\files\\model-best\\assets\n",
      "\u001b[34m\u001b[1mwandb\u001b[0m: Adding directory to artifact (C:\\Users\\ucesvpm\\OneDrive - University College London\\PhD Project\\Data Analytics\\Time Series Clustering\\Third Test\\wandb\\run-20230202_123503-4kpszhpo\\files\\model-best)... Done. 0.0s\n"
     ]
    },
    {
     "name": "stdout",
     "output_type": "stream",
     "text": [
      "1771/1771 [==============================] - 7s 4ms/step - loss: 0.5300 - mse: 0.5300 - val_loss: 0.5456 - val_mse: 0.5456 - lr: 0.0251\n",
      "Epoch 47/100\n",
      "1756/1771 [============================>.] - ETA: 0s - loss: 0.5296 - mse: 0.5296"
     ]
    },
    {
     "name": "stderr",
     "output_type": "stream",
     "text": [
      "WARNING:absl:Found untraced functions such as leaky_re_lu_layer_call_fn, leaky_re_lu_layer_call_and_return_conditional_losses, leaky_re_lu_1_layer_call_fn, leaky_re_lu_1_layer_call_and_return_conditional_losses, leaky_re_lu_2_layer_call_fn while saving (showing 5 of 8). These functions will not be directly callable after loading.\n"
     ]
    },
    {
     "name": "stdout",
     "output_type": "stream",
     "text": [
      "INFO:tensorflow:Assets written to: C:\\Users\\ucesvpm\\OneDrive - University College London\\PhD Project\\Data Analytics\\Time Series Clustering\\Third Test\\wandb\\run-20230202_123503-4kpszhpo\\files\\model-best\\assets\n"
     ]
    },
    {
     "name": "stderr",
     "output_type": "stream",
     "text": [
      "INFO:tensorflow:Assets written to: C:\\Users\\ucesvpm\\OneDrive - University College London\\PhD Project\\Data Analytics\\Time Series Clustering\\Third Test\\wandb\\run-20230202_123503-4kpszhpo\\files\\model-best\\assets\n",
      "\u001b[34m\u001b[1mwandb\u001b[0m: Adding directory to artifact (C:\\Users\\ucesvpm\\OneDrive - University College London\\PhD Project\\Data Analytics\\Time Series Clustering\\Third Test\\wandb\\run-20230202_123503-4kpszhpo\\files\\model-best)... Done. 0.0s\n"
     ]
    },
    {
     "name": "stdout",
     "output_type": "stream",
     "text": [
      "1771/1771 [==============================] - 8s 4ms/step - loss: 0.5295 - mse: 0.5295 - val_loss: 0.5448 - val_mse: 0.5448 - lr: 0.0251\n",
      "Epoch 48/100\n",
      "1764/1771 [============================>.] - ETA: 0s - loss: 0.5292 - mse: 0.5292"
     ]
    },
    {
     "name": "stderr",
     "output_type": "stream",
     "text": [
      "WARNING:absl:Found untraced functions such as leaky_re_lu_layer_call_fn, leaky_re_lu_layer_call_and_return_conditional_losses, leaky_re_lu_1_layer_call_fn, leaky_re_lu_1_layer_call_and_return_conditional_losses, leaky_re_lu_2_layer_call_fn while saving (showing 5 of 8). These functions will not be directly callable after loading.\n"
     ]
    },
    {
     "name": "stdout",
     "output_type": "stream",
     "text": [
      "INFO:tensorflow:Assets written to: C:\\Users\\ucesvpm\\OneDrive - University College London\\PhD Project\\Data Analytics\\Time Series Clustering\\Third Test\\wandb\\run-20230202_123503-4kpszhpo\\files\\model-best\\assets\n"
     ]
    },
    {
     "name": "stderr",
     "output_type": "stream",
     "text": [
      "INFO:tensorflow:Assets written to: C:\\Users\\ucesvpm\\OneDrive - University College London\\PhD Project\\Data Analytics\\Time Series Clustering\\Third Test\\wandb\\run-20230202_123503-4kpszhpo\\files\\model-best\\assets\n",
      "\u001b[34m\u001b[1mwandb\u001b[0m: Adding directory to artifact (C:\\Users\\ucesvpm\\OneDrive - University College London\\PhD Project\\Data Analytics\\Time Series Clustering\\Third Test\\wandb\\run-20230202_123503-4kpszhpo\\files\\model-best)... Done. 0.0s\n"
     ]
    },
    {
     "name": "stdout",
     "output_type": "stream",
     "text": [
      "1771/1771 [==============================] - 8s 4ms/step - loss: 0.5291 - mse: 0.5291 - val_loss: 0.5434 - val_mse: 0.5434 - lr: 0.0251\n",
      "Epoch 49/100\n",
      "1771/1771 [==============================] - 5s 3ms/step - loss: 0.5286 - mse: 0.5286 - val_loss: 0.5446 - val_mse: 0.5446 - lr: 0.0251\n",
      "Epoch 50/100\n",
      "1771/1771 [==============================] - 6s 3ms/step - loss: 0.5280 - mse: 0.5280 - val_loss: 0.5454 - val_mse: 0.5454 - lr: 0.0251\n",
      "Epoch 51/100\n",
      "1771/1771 [==============================] - 6s 3ms/step - loss: 0.5277 - mse: 0.5277 - val_loss: 0.5440 - val_mse: 0.5440 - lr: 0.0251\n",
      "Epoch 52/100\n",
      "1771/1771 [==============================] - 7s 4ms/step - loss: 0.5272 - mse: 0.5272 - val_loss: 0.5444 - val_mse: 0.5444 - lr: 0.0251\n",
      "Epoch 53/100\n",
      "1771/1771 [==============================] - 6s 3ms/step - loss: 0.5268 - mse: 0.5268 - val_loss: 0.5446 - val_mse: 0.5446 - lr: 0.0251\n",
      "Epoch 54/100\n",
      "1761/1771 [============================>.] - ETA: 0s - loss: 0.5215 - mse: 0.5215"
     ]
    },
    {
     "name": "stderr",
     "output_type": "stream",
     "text": [
      "WARNING:absl:Found untraced functions such as leaky_re_lu_layer_call_fn, leaky_re_lu_layer_call_and_return_conditional_losses, leaky_re_lu_1_layer_call_fn, leaky_re_lu_1_layer_call_and_return_conditional_losses, leaky_re_lu_2_layer_call_fn while saving (showing 5 of 8). These functions will not be directly callable after loading.\n"
     ]
    },
    {
     "name": "stdout",
     "output_type": "stream",
     "text": [
      "INFO:tensorflow:Assets written to: C:\\Users\\ucesvpm\\OneDrive - University College London\\PhD Project\\Data Analytics\\Time Series Clustering\\Third Test\\wandb\\run-20230202_123503-4kpszhpo\\files\\model-best\\assets\n"
     ]
    },
    {
     "name": "stderr",
     "output_type": "stream",
     "text": [
      "INFO:tensorflow:Assets written to: C:\\Users\\ucesvpm\\OneDrive - University College London\\PhD Project\\Data Analytics\\Time Series Clustering\\Third Test\\wandb\\run-20230202_123503-4kpszhpo\\files\\model-best\\assets\n",
      "\u001b[34m\u001b[1mwandb\u001b[0m: Adding directory to artifact (C:\\Users\\ucesvpm\\OneDrive - University College London\\PhD Project\\Data Analytics\\Time Series Clustering\\Third Test\\wandb\\run-20230202_123503-4kpszhpo\\files\\model-best)... Done. 0.0s\n"
     ]
    },
    {
     "name": "stdout",
     "output_type": "stream",
     "text": [
      "1771/1771 [==============================] - 11s 6ms/step - loss: 0.5216 - mse: 0.5216 - val_loss: 0.5401 - val_mse: 0.5401 - lr: 0.0125\n",
      "Epoch 55/100\n",
      "1771/1771 [==============================] - 5s 3ms/step - loss: 0.5209 - mse: 0.5209 - val_loss: 0.5406 - val_mse: 0.5406 - lr: 0.0125\n",
      "Epoch 56/100\n",
      "1771/1771 [==============================] - 5s 3ms/step - loss: 0.5206 - mse: 0.5206 - val_loss: 0.5403 - val_mse: 0.5403 - lr: 0.0125\n",
      "Epoch 57/100\n",
      "1759/1771 [============================>.] - ETA: 0s - loss: 0.5203 - mse: 0.5203"
     ]
    },
    {
     "name": "stderr",
     "output_type": "stream",
     "text": [
      "WARNING:absl:Found untraced functions such as leaky_re_lu_layer_call_fn, leaky_re_lu_layer_call_and_return_conditional_losses, leaky_re_lu_1_layer_call_fn, leaky_re_lu_1_layer_call_and_return_conditional_losses, leaky_re_lu_2_layer_call_fn while saving (showing 5 of 8). These functions will not be directly callable after loading.\n"
     ]
    },
    {
     "name": "stdout",
     "output_type": "stream",
     "text": [
      "INFO:tensorflow:Assets written to: C:\\Users\\ucesvpm\\OneDrive - University College London\\PhD Project\\Data Analytics\\Time Series Clustering\\Third Test\\wandb\\run-20230202_123503-4kpszhpo\\files\\model-best\\assets\n"
     ]
    },
    {
     "name": "stderr",
     "output_type": "stream",
     "text": [
      "INFO:tensorflow:Assets written to: C:\\Users\\ucesvpm\\OneDrive - University College London\\PhD Project\\Data Analytics\\Time Series Clustering\\Third Test\\wandb\\run-20230202_123503-4kpszhpo\\files\\model-best\\assets\n",
      "\u001b[34m\u001b[1mwandb\u001b[0m: Adding directory to artifact (C:\\Users\\ucesvpm\\OneDrive - University College London\\PhD Project\\Data Analytics\\Time Series Clustering\\Third Test\\wandb\\run-20230202_123503-4kpszhpo\\files\\model-best)... Done. 0.0s\n"
     ]
    },
    {
     "name": "stdout",
     "output_type": "stream",
     "text": [
      "1771/1771 [==============================] - 8s 4ms/step - loss: 0.5203 - mse: 0.5203 - val_loss: 0.5400 - val_mse: 0.5400 - lr: 0.0125\n",
      "Epoch 58/100\n",
      "1763/1771 [============================>.] - ETA: 0s - loss: 0.5202 - mse: 0.5202"
     ]
    },
    {
     "name": "stderr",
     "output_type": "stream",
     "text": [
      "WARNING:absl:Found untraced functions such as leaky_re_lu_layer_call_fn, leaky_re_lu_layer_call_and_return_conditional_losses, leaky_re_lu_1_layer_call_fn, leaky_re_lu_1_layer_call_and_return_conditional_losses, leaky_re_lu_2_layer_call_fn while saving (showing 5 of 8). These functions will not be directly callable after loading.\n"
     ]
    },
    {
     "name": "stdout",
     "output_type": "stream",
     "text": [
      "INFO:tensorflow:Assets written to: C:\\Users\\ucesvpm\\OneDrive - University College London\\PhD Project\\Data Analytics\\Time Series Clustering\\Third Test\\wandb\\run-20230202_123503-4kpszhpo\\files\\model-best\\assets\n"
     ]
    },
    {
     "name": "stderr",
     "output_type": "stream",
     "text": [
      "INFO:tensorflow:Assets written to: C:\\Users\\ucesvpm\\OneDrive - University College London\\PhD Project\\Data Analytics\\Time Series Clustering\\Third Test\\wandb\\run-20230202_123503-4kpszhpo\\files\\model-best\\assets\n",
      "\u001b[34m\u001b[1mwandb\u001b[0m: Adding directory to artifact (C:\\Users\\ucesvpm\\OneDrive - University College London\\PhD Project\\Data Analytics\\Time Series Clustering\\Third Test\\wandb\\run-20230202_123503-4kpszhpo\\files\\model-best)... Done. 0.0s\n"
     ]
    },
    {
     "name": "stdout",
     "output_type": "stream",
     "text": [
      "1771/1771 [==============================] - 7s 4ms/step - loss: 0.5201 - mse: 0.5201 - val_loss: 0.5397 - val_mse: 0.5397 - lr: 0.0125\n",
      "Epoch 59/100\n",
      "1771/1771 [==============================] - 7s 4ms/step - loss: 0.5197 - mse: 0.5197 - val_loss: 0.5402 - val_mse: 0.5402 - lr: 0.0125\n",
      "Epoch 60/100\n",
      "1771/1771 [==============================] - 6s 3ms/step - loss: 0.5195 - mse: 0.5195 - val_loss: 0.5398 - val_mse: 0.5398 - lr: 0.0125\n",
      "Epoch 61/100\n",
      "1766/1771 [============================>.] - ETA: 0s - loss: 0.5191 - mse: 0.5191"
     ]
    },
    {
     "name": "stderr",
     "output_type": "stream",
     "text": [
      "WARNING:absl:Found untraced functions such as leaky_re_lu_layer_call_fn, leaky_re_lu_layer_call_and_return_conditional_losses, leaky_re_lu_1_layer_call_fn, leaky_re_lu_1_layer_call_and_return_conditional_losses, leaky_re_lu_2_layer_call_fn while saving (showing 5 of 8). These functions will not be directly callable after loading.\n"
     ]
    },
    {
     "name": "stdout",
     "output_type": "stream",
     "text": [
      "INFO:tensorflow:Assets written to: C:\\Users\\ucesvpm\\OneDrive - University College London\\PhD Project\\Data Analytics\\Time Series Clustering\\Third Test\\wandb\\run-20230202_123503-4kpszhpo\\files\\model-best\\assets\n"
     ]
    },
    {
     "name": "stderr",
     "output_type": "stream",
     "text": [
      "INFO:tensorflow:Assets written to: C:\\Users\\ucesvpm\\OneDrive - University College London\\PhD Project\\Data Analytics\\Time Series Clustering\\Third Test\\wandb\\run-20230202_123503-4kpszhpo\\files\\model-best\\assets\n",
      "\u001b[34m\u001b[1mwandb\u001b[0m: Adding directory to artifact (C:\\Users\\ucesvpm\\OneDrive - University College London\\PhD Project\\Data Analytics\\Time Series Clustering\\Third Test\\wandb\\run-20230202_123503-4kpszhpo\\files\\model-best)... Done. 0.0s\n"
     ]
    },
    {
     "name": "stdout",
     "output_type": "stream",
     "text": [
      "1771/1771 [==============================] - 7s 4ms/step - loss: 0.5192 - mse: 0.5192 - val_loss: 0.5395 - val_mse: 0.5395 - lr: 0.0125\n",
      "Epoch 62/100\n",
      "1755/1771 [============================>.] - ETA: 0s - loss: 0.5189 - mse: 0.5189"
     ]
    },
    {
     "name": "stderr",
     "output_type": "stream",
     "text": [
      "WARNING:absl:Found untraced functions such as leaky_re_lu_layer_call_fn, leaky_re_lu_layer_call_and_return_conditional_losses, leaky_re_lu_1_layer_call_fn, leaky_re_lu_1_layer_call_and_return_conditional_losses, leaky_re_lu_2_layer_call_fn while saving (showing 5 of 8). These functions will not be directly callable after loading.\n"
     ]
    },
    {
     "name": "stdout",
     "output_type": "stream",
     "text": [
      "INFO:tensorflow:Assets written to: C:\\Users\\ucesvpm\\OneDrive - University College London\\PhD Project\\Data Analytics\\Time Series Clustering\\Third Test\\wandb\\run-20230202_123503-4kpszhpo\\files\\model-best\\assets\n"
     ]
    },
    {
     "name": "stderr",
     "output_type": "stream",
     "text": [
      "INFO:tensorflow:Assets written to: C:\\Users\\ucesvpm\\OneDrive - University College London\\PhD Project\\Data Analytics\\Time Series Clustering\\Third Test\\wandb\\run-20230202_123503-4kpszhpo\\files\\model-best\\assets\n",
      "\u001b[34m\u001b[1mwandb\u001b[0m: Adding directory to artifact (C:\\Users\\ucesvpm\\OneDrive - University College London\\PhD Project\\Data Analytics\\Time Series Clustering\\Third Test\\wandb\\run-20230202_123503-4kpszhpo\\files\\model-best)... Done. 0.0s\n"
     ]
    },
    {
     "name": "stdout",
     "output_type": "stream",
     "text": [
      "1771/1771 [==============================] - 8s 5ms/step - loss: 0.5189 - mse: 0.5189 - val_loss: 0.5390 - val_mse: 0.5390 - lr: 0.0125\n",
      "Epoch 63/100\n",
      "1771/1771 [==============================] - 5s 3ms/step - loss: 0.5187 - mse: 0.5187 - val_loss: 0.5405 - val_mse: 0.5405 - lr: 0.0125\n",
      "Epoch 64/100\n",
      "1771/1771 [==============================] - 7s 4ms/step - loss: 0.5184 - mse: 0.5184 - val_loss: 0.5404 - val_mse: 0.5404 - lr: 0.0125\n",
      "Epoch 65/100\n",
      "1771/1771 [==============================] - 5s 3ms/step - loss: 0.5182 - mse: 0.5182 - val_loss: 0.5402 - val_mse: 0.5402 - lr: 0.0125\n",
      "Epoch 66/100\n",
      "1771/1771 [==============================] - 5s 3ms/step - loss: 0.5180 - mse: 0.5180 - val_loss: 0.5403 - val_mse: 0.5403 - lr: 0.0125\n",
      "Epoch 67/100\n",
      "1771/1771 [==============================] - 4s 2ms/step - loss: 0.5178 - mse: 0.5178 - val_loss: 0.5393 - val_mse: 0.5393 - lr: 0.0125\n",
      "Epoch 68/100\n",
      "1752/1771 [============================>.] - ETA: 0s - loss: 0.5147 - mse: 0.5147"
     ]
    },
    {
     "name": "stderr",
     "output_type": "stream",
     "text": [
      "WARNING:absl:Found untraced functions such as leaky_re_lu_layer_call_fn, leaky_re_lu_layer_call_and_return_conditional_losses, leaky_re_lu_1_layer_call_fn, leaky_re_lu_1_layer_call_and_return_conditional_losses, leaky_re_lu_2_layer_call_fn while saving (showing 5 of 8). These functions will not be directly callable after loading.\n"
     ]
    },
    {
     "name": "stdout",
     "output_type": "stream",
     "text": [
      "INFO:tensorflow:Assets written to: C:\\Users\\ucesvpm\\OneDrive - University College London\\PhD Project\\Data Analytics\\Time Series Clustering\\Third Test\\wandb\\run-20230202_123503-4kpszhpo\\files\\model-best\\assets\n"
     ]
    },
    {
     "name": "stderr",
     "output_type": "stream",
     "text": [
      "INFO:tensorflow:Assets written to: C:\\Users\\ucesvpm\\OneDrive - University College London\\PhD Project\\Data Analytics\\Time Series Clustering\\Third Test\\wandb\\run-20230202_123503-4kpszhpo\\files\\model-best\\assets\n",
      "\u001b[34m\u001b[1mwandb\u001b[0m: Adding directory to artifact (C:\\Users\\ucesvpm\\OneDrive - University College London\\PhD Project\\Data Analytics\\Time Series Clustering\\Third Test\\wandb\\run-20230202_123503-4kpszhpo\\files\\model-best)... Done. 0.0s\n"
     ]
    },
    {
     "name": "stdout",
     "output_type": "stream",
     "text": [
      "1771/1771 [==============================] - 7s 4ms/step - loss: 0.5146 - mse: 0.5146 - val_loss: 0.5374 - val_mse: 0.5374 - lr: 0.0063\n",
      "Epoch 69/100\n",
      "1771/1771 [==============================] - 6s 3ms/step - loss: 0.5143 - mse: 0.5143 - val_loss: 0.5378 - val_mse: 0.5378 - lr: 0.0063\n",
      "Epoch 70/100\n",
      "1771/1771 [==============================] - 6s 3ms/step - loss: 0.5141 - mse: 0.5141 - val_loss: 0.5378 - val_mse: 0.5378 - lr: 0.0063\n",
      "Epoch 71/100\n",
      "1771/1771 [==============================] - 5s 3ms/step - loss: 0.5139 - mse: 0.5139 - val_loss: 0.5376 - val_mse: 0.5376 - lr: 0.0063\n",
      "Epoch 72/100\n",
      "1771/1771 [==============================] - 4s 2ms/step - loss: 0.5138 - mse: 0.5138 - val_loss: 0.5379 - val_mse: 0.5379 - lr: 0.0063\n",
      "Epoch 73/100\n",
      "1771/1771 [==============================] - 5s 3ms/step - loss: 0.5137 - mse: 0.5137 - val_loss: 0.5377 - val_mse: 0.5377 - lr: 0.0063\n",
      "Epoch 74/100\n",
      "1750/1771 [============================>.] - ETA: 0s - loss: 0.5120 - mse: 0.5120"
     ]
    },
    {
     "name": "stderr",
     "output_type": "stream",
     "text": [
      "WARNING:absl:Found untraced functions such as leaky_re_lu_layer_call_fn, leaky_re_lu_layer_call_and_return_conditional_losses, leaky_re_lu_1_layer_call_fn, leaky_re_lu_1_layer_call_and_return_conditional_losses, leaky_re_lu_2_layer_call_fn while saving (showing 5 of 8). These functions will not be directly callable after loading.\n"
     ]
    },
    {
     "name": "stdout",
     "output_type": "stream",
     "text": [
      "INFO:tensorflow:Assets written to: C:\\Users\\ucesvpm\\OneDrive - University College London\\PhD Project\\Data Analytics\\Time Series Clustering\\Third Test\\wandb\\run-20230202_123503-4kpszhpo\\files\\model-best\\assets\n"
     ]
    },
    {
     "name": "stderr",
     "output_type": "stream",
     "text": [
      "INFO:tensorflow:Assets written to: C:\\Users\\ucesvpm\\OneDrive - University College London\\PhD Project\\Data Analytics\\Time Series Clustering\\Third Test\\wandb\\run-20230202_123503-4kpszhpo\\files\\model-best\\assets\n",
      "\u001b[34m\u001b[1mwandb\u001b[0m: Adding directory to artifact (C:\\Users\\ucesvpm\\OneDrive - University College London\\PhD Project\\Data Analytics\\Time Series Clustering\\Third Test\\wandb\\run-20230202_123503-4kpszhpo\\files\\model-best)... Done. 0.0s\n"
     ]
    },
    {
     "name": "stdout",
     "output_type": "stream",
     "text": [
      "1771/1771 [==============================] - 6s 3ms/step - loss: 0.5119 - mse: 0.5119 - val_loss: 0.5364 - val_mse: 0.5364 - lr: 0.0031\n",
      "Epoch 75/100\n",
      "1771/1771 [==============================] - 4s 2ms/step - loss: 0.5117 - mse: 0.5117 - val_loss: 0.5365 - val_mse: 0.5365 - lr: 0.0031\n",
      "Epoch 76/100\n",
      "1771/1771 [==============================] - 5s 3ms/step - loss: 0.5116 - mse: 0.5116 - val_loss: 0.5364 - val_mse: 0.5364 - lr: 0.0031\n",
      "Epoch 77/100\n",
      "1770/1771 [============================>.] - ETA: 0s - loss: 0.5115 - mse: 0.5115"
     ]
    },
    {
     "name": "stderr",
     "output_type": "stream",
     "text": [
      "WARNING:absl:Found untraced functions such as leaky_re_lu_layer_call_fn, leaky_re_lu_layer_call_and_return_conditional_losses, leaky_re_lu_1_layer_call_fn, leaky_re_lu_1_layer_call_and_return_conditional_losses, leaky_re_lu_2_layer_call_fn while saving (showing 5 of 8). These functions will not be directly callable after loading.\n"
     ]
    },
    {
     "name": "stdout",
     "output_type": "stream",
     "text": [
      "INFO:tensorflow:Assets written to: C:\\Users\\ucesvpm\\OneDrive - University College London\\PhD Project\\Data Analytics\\Time Series Clustering\\Third Test\\wandb\\run-20230202_123503-4kpszhpo\\files\\model-best\\assets\n"
     ]
    },
    {
     "name": "stderr",
     "output_type": "stream",
     "text": [
      "INFO:tensorflow:Assets written to: C:\\Users\\ucesvpm\\OneDrive - University College London\\PhD Project\\Data Analytics\\Time Series Clustering\\Third Test\\wandb\\run-20230202_123503-4kpszhpo\\files\\model-best\\assets\n",
      "\u001b[34m\u001b[1mwandb\u001b[0m: Adding directory to artifact (C:\\Users\\ucesvpm\\OneDrive - University College London\\PhD Project\\Data Analytics\\Time Series Clustering\\Third Test\\wandb\\run-20230202_123503-4kpszhpo\\files\\model-best)... Done. 0.0s\n"
     ]
    },
    {
     "name": "stdout",
     "output_type": "stream",
     "text": [
      "1771/1771 [==============================] - 7s 4ms/step - loss: 0.5115 - mse: 0.5115 - val_loss: 0.5364 - val_mse: 0.5364 - lr: 0.0031\n",
      "Epoch 78/100\n",
      "1771/1771 [==============================] - 4s 2ms/step - loss: 0.5114 - mse: 0.5114 - val_loss: 0.5365 - val_mse: 0.5365 - lr: 0.0031\n",
      "Epoch 79/100\n",
      "1771/1771 [==============================] - 5s 3ms/step - loss: 0.5113 - mse: 0.5113 - val_loss: 0.5365 - val_mse: 0.5365 - lr: 0.0031\n",
      "Epoch 80/100\n",
      "1762/1771 [============================>.] - ETA: 0s - loss: 0.5102 - mse: 0.5102"
     ]
    },
    {
     "name": "stderr",
     "output_type": "stream",
     "text": [
      "WARNING:absl:Found untraced functions such as leaky_re_lu_layer_call_fn, leaky_re_lu_layer_call_and_return_conditional_losses, leaky_re_lu_1_layer_call_fn, leaky_re_lu_1_layer_call_and_return_conditional_losses, leaky_re_lu_2_layer_call_fn while saving (showing 5 of 8). These functions will not be directly callable after loading.\n"
     ]
    },
    {
     "name": "stdout",
     "output_type": "stream",
     "text": [
      "INFO:tensorflow:Assets written to: C:\\Users\\ucesvpm\\OneDrive - University College London\\PhD Project\\Data Analytics\\Time Series Clustering\\Third Test\\wandb\\run-20230202_123503-4kpszhpo\\files\\model-best\\assets\n"
     ]
    },
    {
     "name": "stderr",
     "output_type": "stream",
     "text": [
      "INFO:tensorflow:Assets written to: C:\\Users\\ucesvpm\\OneDrive - University College London\\PhD Project\\Data Analytics\\Time Series Clustering\\Third Test\\wandb\\run-20230202_123503-4kpszhpo\\files\\model-best\\assets\n",
      "\u001b[34m\u001b[1mwandb\u001b[0m: Adding directory to artifact (C:\\Users\\ucesvpm\\OneDrive - University College London\\PhD Project\\Data Analytics\\Time Series Clustering\\Third Test\\wandb\\run-20230202_123503-4kpszhpo\\files\\model-best)... Done. 0.0s\n"
     ]
    },
    {
     "name": "stdout",
     "output_type": "stream",
     "text": [
      "1771/1771 [==============================] - 7s 4ms/step - loss: 0.5104 - mse: 0.5104 - val_loss: 0.5359 - val_mse: 0.5359 - lr: 0.0016\n",
      "Epoch 81/100\n",
      "1754/1771 [============================>.] - ETA: 0s - loss: 0.5103 - mse: 0.5103"
     ]
    },
    {
     "name": "stderr",
     "output_type": "stream",
     "text": [
      "WARNING:absl:Found untraced functions such as leaky_re_lu_layer_call_fn, leaky_re_lu_layer_call_and_return_conditional_losses, leaky_re_lu_1_layer_call_fn, leaky_re_lu_1_layer_call_and_return_conditional_losses, leaky_re_lu_2_layer_call_fn while saving (showing 5 of 8). These functions will not be directly callable after loading.\n"
     ]
    },
    {
     "name": "stdout",
     "output_type": "stream",
     "text": [
      "INFO:tensorflow:Assets written to: C:\\Users\\ucesvpm\\OneDrive - University College London\\PhD Project\\Data Analytics\\Time Series Clustering\\Third Test\\wandb\\run-20230202_123503-4kpszhpo\\files\\model-best\\assets\n"
     ]
    },
    {
     "name": "stderr",
     "output_type": "stream",
     "text": [
      "INFO:tensorflow:Assets written to: C:\\Users\\ucesvpm\\OneDrive - University College London\\PhD Project\\Data Analytics\\Time Series Clustering\\Third Test\\wandb\\run-20230202_123503-4kpszhpo\\files\\model-best\\assets\n",
      "\u001b[34m\u001b[1mwandb\u001b[0m: Adding directory to artifact (C:\\Users\\ucesvpm\\OneDrive - University College London\\PhD Project\\Data Analytics\\Time Series Clustering\\Third Test\\wandb\\run-20230202_123503-4kpszhpo\\files\\model-best)... Done. 0.0s\n"
     ]
    },
    {
     "name": "stdout",
     "output_type": "stream",
     "text": [
      "1771/1771 [==============================] - 6s 3ms/step - loss: 0.5103 - mse: 0.5103 - val_loss: 0.5359 - val_mse: 0.5359 - lr: 0.0016\n",
      "Epoch 82/100\n",
      "1771/1771 [==============================] - 4s 3ms/step - loss: 0.5103 - mse: 0.5103 - val_loss: 0.5360 - val_mse: 0.5360 - lr: 0.0016\n",
      "Epoch 83/100\n",
      "1764/1771 [============================>.] - ETA: 0s - loss: 0.5102 - mse: 0.5102"
     ]
    },
    {
     "name": "stderr",
     "output_type": "stream",
     "text": [
      "WARNING:absl:Found untraced functions such as leaky_re_lu_layer_call_fn, leaky_re_lu_layer_call_and_return_conditional_losses, leaky_re_lu_1_layer_call_fn, leaky_re_lu_1_layer_call_and_return_conditional_losses, leaky_re_lu_2_layer_call_fn while saving (showing 5 of 8). These functions will not be directly callable after loading.\n"
     ]
    },
    {
     "name": "stdout",
     "output_type": "stream",
     "text": [
      "INFO:tensorflow:Assets written to: C:\\Users\\ucesvpm\\OneDrive - University College London\\PhD Project\\Data Analytics\\Time Series Clustering\\Third Test\\wandb\\run-20230202_123503-4kpszhpo\\files\\model-best\\assets\n"
     ]
    },
    {
     "name": "stderr",
     "output_type": "stream",
     "text": [
      "INFO:tensorflow:Assets written to: C:\\Users\\ucesvpm\\OneDrive - University College London\\PhD Project\\Data Analytics\\Time Series Clustering\\Third Test\\wandb\\run-20230202_123503-4kpszhpo\\files\\model-best\\assets\n",
      "\u001b[34m\u001b[1mwandb\u001b[0m: Adding directory to artifact (C:\\Users\\ucesvpm\\OneDrive - University College London\\PhD Project\\Data Analytics\\Time Series Clustering\\Third Test\\wandb\\run-20230202_123503-4kpszhpo\\files\\model-best)... Done. 0.0s\n"
     ]
    },
    {
     "name": "stdout",
     "output_type": "stream",
     "text": [
      "1771/1771 [==============================] - 6s 3ms/step - loss: 0.5102 - mse: 0.5102 - val_loss: 0.5359 - val_mse: 0.5359 - lr: 0.0016\n",
      "Epoch 84/100\n",
      "1771/1771 [==============================] - 4s 2ms/step - loss: 0.5102 - mse: 0.5102 - val_loss: 0.5360 - val_mse: 0.5360 - lr: 0.0016\n",
      "Epoch 85/100\n",
      "1771/1771 [==============================] - 5s 3ms/step - loss: 0.5101 - mse: 0.5101 - val_loss: 0.5359 - val_mse: 0.5359 - lr: 0.0016\n",
      "Epoch 86/100\n",
      "1750/1771 [============================>.] - ETA: 0s - loss: 0.5097 - mse: 0.5097"
     ]
    },
    {
     "name": "stderr",
     "output_type": "stream",
     "text": [
      "WARNING:absl:Found untraced functions such as leaky_re_lu_layer_call_fn, leaky_re_lu_layer_call_and_return_conditional_losses, leaky_re_lu_1_layer_call_fn, leaky_re_lu_1_layer_call_and_return_conditional_losses, leaky_re_lu_2_layer_call_fn while saving (showing 5 of 8). These functions will not be directly callable after loading.\n"
     ]
    },
    {
     "name": "stdout",
     "output_type": "stream",
     "text": [
      "INFO:tensorflow:Assets written to: C:\\Users\\ucesvpm\\OneDrive - University College London\\PhD Project\\Data Analytics\\Time Series Clustering\\Third Test\\wandb\\run-20230202_123503-4kpszhpo\\files\\model-best\\assets\n"
     ]
    },
    {
     "name": "stderr",
     "output_type": "stream",
     "text": [
      "INFO:tensorflow:Assets written to: C:\\Users\\ucesvpm\\OneDrive - University College London\\PhD Project\\Data Analytics\\Time Series Clustering\\Third Test\\wandb\\run-20230202_123503-4kpszhpo\\files\\model-best\\assets\n",
      "\u001b[34m\u001b[1mwandb\u001b[0m: Adding directory to artifact (C:\\Users\\ucesvpm\\OneDrive - University College London\\PhD Project\\Data Analytics\\Time Series Clustering\\Third Test\\wandb\\run-20230202_123503-4kpszhpo\\files\\model-best)... Done. 0.0s\n"
     ]
    },
    {
     "name": "stdout",
     "output_type": "stream",
     "text": [
      "1771/1771 [==============================] - 6s 4ms/step - loss: 0.5096 - mse: 0.5096 - val_loss: 0.5358 - val_mse: 0.5358 - lr: 7.8320e-04\n",
      "Epoch 87/100\n",
      "1755/1771 [============================>.] - ETA: 0s - loss: 0.5095 - mse: 0.5095"
     ]
    },
    {
     "name": "stderr",
     "output_type": "stream",
     "text": [
      "WARNING:absl:Found untraced functions such as leaky_re_lu_layer_call_fn, leaky_re_lu_layer_call_and_return_conditional_losses, leaky_re_lu_1_layer_call_fn, leaky_re_lu_1_layer_call_and_return_conditional_losses, leaky_re_lu_2_layer_call_fn while saving (showing 5 of 8). These functions will not be directly callable after loading.\n"
     ]
    },
    {
     "name": "stdout",
     "output_type": "stream",
     "text": [
      "INFO:tensorflow:Assets written to: C:\\Users\\ucesvpm\\OneDrive - University College London\\PhD Project\\Data Analytics\\Time Series Clustering\\Third Test\\wandb\\run-20230202_123503-4kpszhpo\\files\\model-best\\assets\n"
     ]
    },
    {
     "name": "stderr",
     "output_type": "stream",
     "text": [
      "INFO:tensorflow:Assets written to: C:\\Users\\ucesvpm\\OneDrive - University College London\\PhD Project\\Data Analytics\\Time Series Clustering\\Third Test\\wandb\\run-20230202_123503-4kpszhpo\\files\\model-best\\assets\n",
      "\u001b[34m\u001b[1mwandb\u001b[0m: Adding directory to artifact (C:\\Users\\ucesvpm\\OneDrive - University College London\\PhD Project\\Data Analytics\\Time Series Clustering\\Third Test\\wandb\\run-20230202_123503-4kpszhpo\\files\\model-best)... Done. 0.0s\n"
     ]
    },
    {
     "name": "stdout",
     "output_type": "stream",
     "text": [
      "1771/1771 [==============================] - 6s 3ms/step - loss: 0.5096 - mse: 0.5096 - val_loss: 0.5358 - val_mse: 0.5358 - lr: 7.8320e-04\n",
      "Epoch 88/100\n",
      "1760/1771 [============================>.] - ETA: 0s - loss: 0.5098 - mse: 0.5098"
     ]
    },
    {
     "name": "stderr",
     "output_type": "stream",
     "text": [
      "WARNING:absl:Found untraced functions such as leaky_re_lu_layer_call_fn, leaky_re_lu_layer_call_and_return_conditional_losses, leaky_re_lu_1_layer_call_fn, leaky_re_lu_1_layer_call_and_return_conditional_losses, leaky_re_lu_2_layer_call_fn while saving (showing 5 of 8). These functions will not be directly callable after loading.\n"
     ]
    },
    {
     "name": "stdout",
     "output_type": "stream",
     "text": [
      "INFO:tensorflow:Assets written to: C:\\Users\\ucesvpm\\OneDrive - University College London\\PhD Project\\Data Analytics\\Time Series Clustering\\Third Test\\wandb\\run-20230202_123503-4kpszhpo\\files\\model-best\\assets\n"
     ]
    },
    {
     "name": "stderr",
     "output_type": "stream",
     "text": [
      "INFO:tensorflow:Assets written to: C:\\Users\\ucesvpm\\OneDrive - University College London\\PhD Project\\Data Analytics\\Time Series Clustering\\Third Test\\wandb\\run-20230202_123503-4kpszhpo\\files\\model-best\\assets\n",
      "\u001b[34m\u001b[1mwandb\u001b[0m: Adding directory to artifact (C:\\Users\\ucesvpm\\OneDrive - University College London\\PhD Project\\Data Analytics\\Time Series Clustering\\Third Test\\wandb\\run-20230202_123503-4kpszhpo\\files\\model-best)... Done. 0.0s\n"
     ]
    },
    {
     "name": "stdout",
     "output_type": "stream",
     "text": [
      "1771/1771 [==============================] - 7s 4ms/step - loss: 0.5096 - mse: 0.5096 - val_loss: 0.5357 - val_mse: 0.5357 - lr: 7.8320e-04\n",
      "Epoch 89/100\n",
      "1771/1771 [==============================] - 5s 3ms/step - loss: 0.5095 - mse: 0.5095 - val_loss: 0.5358 - val_mse: 0.5358 - lr: 7.8320e-04\n",
      "Epoch 90/100\n",
      "1762/1771 [============================>.] - ETA: 0s - loss: 0.5094 - mse: 0.5094"
     ]
    },
    {
     "name": "stderr",
     "output_type": "stream",
     "text": [
      "WARNING:absl:Found untraced functions such as leaky_re_lu_layer_call_fn, leaky_re_lu_layer_call_and_return_conditional_losses, leaky_re_lu_1_layer_call_fn, leaky_re_lu_1_layer_call_and_return_conditional_losses, leaky_re_lu_2_layer_call_fn while saving (showing 5 of 8). These functions will not be directly callable after loading.\n"
     ]
    },
    {
     "name": "stdout",
     "output_type": "stream",
     "text": [
      "INFO:tensorflow:Assets written to: C:\\Users\\ucesvpm\\OneDrive - University College London\\PhD Project\\Data Analytics\\Time Series Clustering\\Third Test\\wandb\\run-20230202_123503-4kpszhpo\\files\\model-best\\assets\n"
     ]
    },
    {
     "name": "stderr",
     "output_type": "stream",
     "text": [
      "INFO:tensorflow:Assets written to: C:\\Users\\ucesvpm\\OneDrive - University College London\\PhD Project\\Data Analytics\\Time Series Clustering\\Third Test\\wandb\\run-20230202_123503-4kpszhpo\\files\\model-best\\assets\n",
      "\u001b[34m\u001b[1mwandb\u001b[0m: Adding directory to artifact (C:\\Users\\ucesvpm\\OneDrive - University College London\\PhD Project\\Data Analytics\\Time Series Clustering\\Third Test\\wandb\\run-20230202_123503-4kpszhpo\\files\\model-best)... Done. 0.0s\n"
     ]
    },
    {
     "name": "stdout",
     "output_type": "stream",
     "text": [
      "1771/1771 [==============================] - 6s 3ms/step - loss: 0.5095 - mse: 0.5095 - val_loss: 0.5357 - val_mse: 0.5357 - lr: 7.8320e-04\n",
      "Epoch 91/100\n",
      "1771/1771 [==============================] - 5s 3ms/step - loss: 0.5095 - mse: 0.5095 - val_loss: 0.5358 - val_mse: 0.5358 - lr: 7.8320e-04\n",
      "Epoch 92/100\n",
      "1750/1771 [============================>.] - ETA: 0s - loss: 0.5090 - mse: 0.5090"
     ]
    },
    {
     "name": "stderr",
     "output_type": "stream",
     "text": [
      "WARNING:absl:Found untraced functions such as leaky_re_lu_layer_call_fn, leaky_re_lu_layer_call_and_return_conditional_losses, leaky_re_lu_1_layer_call_fn, leaky_re_lu_1_layer_call_and_return_conditional_losses, leaky_re_lu_2_layer_call_fn while saving (showing 5 of 8). These functions will not be directly callable after loading.\n"
     ]
    },
    {
     "name": "stdout",
     "output_type": "stream",
     "text": [
      "INFO:tensorflow:Assets written to: C:\\Users\\ucesvpm\\OneDrive - University College London\\PhD Project\\Data Analytics\\Time Series Clustering\\Third Test\\wandb\\run-20230202_123503-4kpszhpo\\files\\model-best\\assets\n"
     ]
    },
    {
     "name": "stderr",
     "output_type": "stream",
     "text": [
      "INFO:tensorflow:Assets written to: C:\\Users\\ucesvpm\\OneDrive - University College London\\PhD Project\\Data Analytics\\Time Series Clustering\\Third Test\\wandb\\run-20230202_123503-4kpszhpo\\files\\model-best\\assets\n",
      "\u001b[34m\u001b[1mwandb\u001b[0m: Adding directory to artifact (C:\\Users\\ucesvpm\\OneDrive - University College London\\PhD Project\\Data Analytics\\Time Series Clustering\\Third Test\\wandb\\run-20230202_123503-4kpszhpo\\files\\model-best)... Done. 0.1s\n"
     ]
    },
    {
     "name": "stdout",
     "output_type": "stream",
     "text": [
      "1771/1771 [==============================] - 6s 4ms/step - loss: 0.5092 - mse: 0.5092 - val_loss: 0.5357 - val_mse: 0.5357 - lr: 3.9160e-04\n",
      "Epoch 93/100\n",
      "1763/1771 [============================>.] - ETA: 0s - loss: 0.5092 - mse: 0.5092"
     ]
    },
    {
     "name": "stderr",
     "output_type": "stream",
     "text": [
      "WARNING:absl:Found untraced functions such as leaky_re_lu_layer_call_fn, leaky_re_lu_layer_call_and_return_conditional_losses, leaky_re_lu_1_layer_call_fn, leaky_re_lu_1_layer_call_and_return_conditional_losses, leaky_re_lu_2_layer_call_fn while saving (showing 5 of 8). These functions will not be directly callable after loading.\n"
     ]
    },
    {
     "name": "stdout",
     "output_type": "stream",
     "text": [
      "INFO:tensorflow:Assets written to: C:\\Users\\ucesvpm\\OneDrive - University College London\\PhD Project\\Data Analytics\\Time Series Clustering\\Third Test\\wandb\\run-20230202_123503-4kpszhpo\\files\\model-best\\assets\n"
     ]
    },
    {
     "name": "stderr",
     "output_type": "stream",
     "text": [
      "INFO:tensorflow:Assets written to: C:\\Users\\ucesvpm\\OneDrive - University College London\\PhD Project\\Data Analytics\\Time Series Clustering\\Third Test\\wandb\\run-20230202_123503-4kpszhpo\\files\\model-best\\assets\n",
      "\u001b[34m\u001b[1mwandb\u001b[0m: Adding directory to artifact (C:\\Users\\ucesvpm\\OneDrive - University College London\\PhD Project\\Data Analytics\\Time Series Clustering\\Third Test\\wandb\\run-20230202_123503-4kpszhpo\\files\\model-best)... Done. 0.0s\n"
     ]
    },
    {
     "name": "stdout",
     "output_type": "stream",
     "text": [
      "1771/1771 [==============================] - 6s 4ms/step - loss: 0.5092 - mse: 0.5092 - val_loss: 0.5356 - val_mse: 0.5356 - lr: 3.9160e-04\n",
      "Epoch 94/100\n",
      "1771/1771 [==============================] - 6s 3ms/step - loss: 0.5092 - mse: 0.5092 - val_loss: 0.5356 - val_mse: 0.5356 - lr: 3.9160e-04\n",
      "Epoch 95/100\n",
      "1771/1771 [==============================] - 4s 2ms/step - loss: 0.5092 - mse: 0.5092 - val_loss: 0.5356 - val_mse: 0.5356 - lr: 3.9160e-04\n",
      "Epoch 96/100\n",
      "1755/1771 [============================>.] - ETA: 0s - loss: 0.5090 - mse: 0.5090"
     ]
    },
    {
     "name": "stderr",
     "output_type": "stream",
     "text": [
      "WARNING:absl:Found untraced functions such as leaky_re_lu_layer_call_fn, leaky_re_lu_layer_call_and_return_conditional_losses, leaky_re_lu_1_layer_call_fn, leaky_re_lu_1_layer_call_and_return_conditional_losses, leaky_re_lu_2_layer_call_fn while saving (showing 5 of 8). These functions will not be directly callable after loading.\n"
     ]
    },
    {
     "name": "stdout",
     "output_type": "stream",
     "text": [
      "INFO:tensorflow:Assets written to: C:\\Users\\ucesvpm\\OneDrive - University College London\\PhD Project\\Data Analytics\\Time Series Clustering\\Third Test\\wandb\\run-20230202_123503-4kpszhpo\\files\\model-best\\assets\n"
     ]
    },
    {
     "name": "stderr",
     "output_type": "stream",
     "text": [
      "INFO:tensorflow:Assets written to: C:\\Users\\ucesvpm\\OneDrive - University College London\\PhD Project\\Data Analytics\\Time Series Clustering\\Third Test\\wandb\\run-20230202_123503-4kpszhpo\\files\\model-best\\assets\n",
      "\u001b[34m\u001b[1mwandb\u001b[0m: Adding directory to artifact (C:\\Users\\ucesvpm\\OneDrive - University College London\\PhD Project\\Data Analytics\\Time Series Clustering\\Third Test\\wandb\\run-20230202_123503-4kpszhpo\\files\\model-best)... Done. 0.0s\n"
     ]
    },
    {
     "name": "stdout",
     "output_type": "stream",
     "text": [
      "1771/1771 [==============================] - 6s 3ms/step - loss: 0.5091 - mse: 0.5091 - val_loss: 0.5356 - val_mse: 0.5356 - lr: 3.9160e-04\n",
      "Epoch 97/100\n",
      "1771/1771 [==============================] - 5s 3ms/step - loss: 0.5091 - mse: 0.5091 - val_loss: 0.5356 - val_mse: 0.5356 - lr: 3.9160e-04\n",
      "Epoch 98/100\n",
      "1771/1771 [==============================] - 5s 3ms/step - loss: 0.5091 - mse: 0.5091 - val_loss: 0.5356 - val_mse: 0.5356 - lr: 3.9160e-04\n",
      "Epoch 99/100\n",
      "1762/1771 [============================>.] - ETA: 0s - loss: 0.5090 - mse: 0.5090"
     ]
    },
    {
     "name": "stderr",
     "output_type": "stream",
     "text": [
      "WARNING:absl:Found untraced functions such as leaky_re_lu_layer_call_fn, leaky_re_lu_layer_call_and_return_conditional_losses, leaky_re_lu_1_layer_call_fn, leaky_re_lu_1_layer_call_and_return_conditional_losses, leaky_re_lu_2_layer_call_fn while saving (showing 5 of 8). These functions will not be directly callable after loading.\n"
     ]
    },
    {
     "name": "stdout",
     "output_type": "stream",
     "text": [
      "INFO:tensorflow:Assets written to: C:\\Users\\ucesvpm\\OneDrive - University College London\\PhD Project\\Data Analytics\\Time Series Clustering\\Third Test\\wandb\\run-20230202_123503-4kpszhpo\\files\\model-best\\assets\n"
     ]
    },
    {
     "name": "stderr",
     "output_type": "stream",
     "text": [
      "INFO:tensorflow:Assets written to: C:\\Users\\ucesvpm\\OneDrive - University College London\\PhD Project\\Data Analytics\\Time Series Clustering\\Third Test\\wandb\\run-20230202_123503-4kpszhpo\\files\\model-best\\assets\n",
      "\u001b[34m\u001b[1mwandb\u001b[0m: Adding directory to artifact (C:\\Users\\ucesvpm\\OneDrive - University College London\\PhD Project\\Data Analytics\\Time Series Clustering\\Third Test\\wandb\\run-20230202_123503-4kpszhpo\\files\\model-best)... Done. 0.0s\n"
     ]
    },
    {
     "name": "stdout",
     "output_type": "stream",
     "text": [
      "1771/1771 [==============================] - 6s 4ms/step - loss: 0.5090 - mse: 0.5090 - val_loss: 0.5356 - val_mse: 0.5356 - lr: 1.9580e-04\n",
      "Epoch 100/100\n",
      "1771/1771 [==============================] - 5s 3ms/step - loss: 0.5090 - mse: 0.5090 - val_loss: 0.5356 - val_mse: 0.5356 - lr: 1.9580e-04\n"
     ]
    },
    {
     "data": {
      "text/html": [
       "Waiting for W&B process to finish... <strong style=\"color:green\">(success).</strong>"
      ],
      "text/plain": [
       "<IPython.core.display.HTML object>"
      ]
     },
     "metadata": {},
     "output_type": "display_data"
    },
    {
     "data": {
      "text/html": [
       "<style>\n",
       "    table.wandb td:nth-child(1) { padding: 0 10px; text-align: left ; width: auto;} td:nth-child(2) {text-align: left ; width: 100%}\n",
       "    .wandb-row { display: flex; flex-direction: row; flex-wrap: wrap; justify-content: flex-start; width: 100% }\n",
       "    .wandb-col { display: flex; flex-direction: column; flex-basis: 100%; flex: 1; padding: 10px; }\n",
       "    </style>\n",
       "<div class=\"wandb-row\"><div class=\"wandb-col\"><h3>Run history:</h3><br/><table class=\"wandb\"><tr><td>epoch</td><td>▁▁▁▁▂▂▂▂▂▃▃▃▃▃▃▄▄▄▄▄▅▅▅▅▅▅▆▆▆▆▆▇▇▇▇▇▇███</td></tr><tr><td>loss</td><td>█▅▄▄▄▄▃▃▃▃▃▃▃▂▂▂▂▂▂▂▂▂▂▂▂▂▁▁▁▁▁▁▁▁▁▁▁▁▁▁</td></tr><tr><td>mse</td><td>█▅▄▄▄▄▃▃▃▃▃▃▃▂▂▂▂▂▂▂▂▂▂▂▂▂▁▁▁▁▁▁▁▁▁▁▁▁▁▁</td></tr><tr><td>val_loss</td><td>█▆▅▅▄▄▄▃▃▃▃▃▃▃▂▂▂▂▂▂▂▁▂▁▁▂▁▁▁▁▁▁▁▁▁▁▁▁▁▁</td></tr><tr><td>val_mse</td><td>█▆▅▅▄▄▄▃▃▃▃▃▃▃▂▂▂▂▂▂▂▁▂▁▁▂▁▁▁▁▁▁▁▁▁▁▁▁▁▁</td></tr></table><br/></div><div class=\"wandb-col\"><h3>Run summary:</h3><br/><table class=\"wandb\"><tr><td>best_epoch</td><td>98</td></tr><tr><td>best_val_loss</td><td>0.53557</td></tr><tr><td>epoch</td><td>99</td></tr><tr><td>loss</td><td>0.50896</td></tr><tr><td>mse</td><td>0.50896</td></tr><tr><td>val_loss</td><td>0.53558</td></tr><tr><td>val_mse</td><td>0.53558</td></tr></table><br/></div></div>"
      ],
      "text/plain": [
       "<IPython.core.display.HTML object>"
      ]
     },
     "metadata": {},
     "output_type": "display_data"
    },
    {
     "data": {
      "text/html": [
       "Synced <strong style=\"color:#cdcd00\">whole-sweep-1</strong>: <a href=\"https://wandb.ai/vasco-phd/FC_AE-Kenya_10k_Set_1_w90/runs/4kpszhpo\" target=\"_blank\">https://wandb.ai/vasco-phd/FC_AE-Kenya_10k_Set_1_w90/runs/4kpszhpo</a><br/>Synced 6 W&B file(s), 1 media file(s), 182 artifact file(s) and 1 other file(s)"
      ],
      "text/plain": [
       "<IPython.core.display.HTML object>"
      ]
     },
     "metadata": {},
     "output_type": "display_data"
    },
    {
     "data": {
      "text/html": [
       "Find logs at: <code>.\\wandb\\run-20230202_123503-4kpszhpo\\logs</code>"
      ],
      "text/plain": [
       "<IPython.core.display.HTML object>"
      ]
     },
     "metadata": {},
     "output_type": "display_data"
    },
    {
     "name": "stderr",
     "output_type": "stream",
     "text": [
      "\u001b[34m\u001b[1mwandb\u001b[0m: Agent Starting Run: zvxnsa3e with config:\n",
      "\u001b[34m\u001b[1mwandb\u001b[0m: \tactivation_fn: SELU\n",
      "\u001b[34m\u001b[1mwandb\u001b[0m: \tbatch_size: 154\n",
      "\u001b[34m\u001b[1mwandb\u001b[0m: \tepochs: 100\n",
      "\u001b[34m\u001b[1mwandb\u001b[0m: \tlatent_layer_size: 5\n",
      "\u001b[34m\u001b[1mwandb\u001b[0m: \tlearning_rate: 0.0021428001806496596\n",
      "\u001b[34m\u001b[1mwandb\u001b[0m: \toptimizer: sgd\n",
      "\u001b[34m\u001b[1mwandb\u001b[0m: \twindow_length: 90\n"
     ]
    },
    {
     "data": {
      "text/html": [
       "wandb version 0.13.9 is available!  To upgrade, please run:\n",
       " $ pip install wandb --upgrade"
      ],
      "text/plain": [
       "<IPython.core.display.HTML object>"
      ]
     },
     "metadata": {},
     "output_type": "display_data"
    },
    {
     "data": {
      "text/html": [
       "Tracking run with wandb version 0.13.6"
      ],
      "text/plain": [
       "<IPython.core.display.HTML object>"
      ]
     },
     "metadata": {},
     "output_type": "display_data"
    },
    {
     "data": {
      "text/html": [
       "Run data is saved locally in <code>C:\\Users\\ucesvpm\\OneDrive - University College London\\PhD Project\\Data Analytics\\Time Series Clustering\\Third Test\\wandb\\run-20230202_124552-zvxnsa3e</code>"
      ],
      "text/plain": [
       "<IPython.core.display.HTML object>"
      ]
     },
     "metadata": {},
     "output_type": "display_data"
    },
    {
     "data": {
      "text/html": [
       "Syncing run <strong><a href=\"https://wandb.ai/vasco-phd/FC_AE-Kenya_10k_Set_1_w90/runs/zvxnsa3e\" target=\"_blank\">mild-sweep-2</a></strong> to <a href=\"https://wandb.ai/vasco-phd/FC_AE-Kenya_10k_Set_1_w90\" target=\"_blank\">Weights & Biases</a> (<a href=\"https://wandb.me/run\" target=\"_blank\">docs</a>)<br/>Sweep page:  <a href=\"https://wandb.ai/vasco-phd/FC_AE-Kenya_10k_Set_1_w90/sweeps/ikwjt20r\" target=\"_blank\">https://wandb.ai/vasco-phd/FC_AE-Kenya_10k_Set_1_w90/sweeps/ikwjt20r</a>"
      ],
      "text/plain": [
       "<IPython.core.display.HTML object>"
      ]
     },
     "metadata": {},
     "output_type": "display_data"
    },
    {
     "name": "stdout",
     "output_type": "stream",
     "text": [
      "Epoch 1/100\n",
      "454/460 [============================>.] - ETA: 0s - loss: 0.8044 - mse: 0.8044"
     ]
    },
    {
     "name": "stderr",
     "output_type": "stream",
     "text": [
      "WARNING:absl:Found untraced functions such as activation_layer_call_fn, activation_layer_call_and_return_conditional_losses, activation_1_layer_call_fn, activation_1_layer_call_and_return_conditional_losses, activation_2_layer_call_fn while saving (showing 5 of 8). These functions will not be directly callable after loading.\n"
     ]
    },
    {
     "name": "stdout",
     "output_type": "stream",
     "text": [
      "INFO:tensorflow:Assets written to: C:\\Users\\ucesvpm\\OneDrive - University College London\\PhD Project\\Data Analytics\\Time Series Clustering\\Third Test\\wandb\\run-20230202_124552-zvxnsa3e\\files\\model-best\\assets\n"
     ]
    },
    {
     "name": "stderr",
     "output_type": "stream",
     "text": [
      "INFO:tensorflow:Assets written to: C:\\Users\\ucesvpm\\OneDrive - University College London\\PhD Project\\Data Analytics\\Time Series Clustering\\Third Test\\wandb\\run-20230202_124552-zvxnsa3e\\files\\model-best\\assets\n",
      "\u001b[34m\u001b[1mwandb\u001b[0m: Adding directory to artifact (C:\\Users\\ucesvpm\\OneDrive - University College London\\PhD Project\\Data Analytics\\Time Series Clustering\\Third Test\\wandb\\run-20230202_124552-zvxnsa3e\\files\\model-best)... Done. 0.0s\n"
     ]
    },
    {
     "name": "stdout",
     "output_type": "stream",
     "text": [
      "460/460 [==============================] - 4s 8ms/step - loss: 0.8031 - mse: 0.8031 - val_loss: 0.6986 - val_mse: 0.6986 - lr: 0.0021\n",
      "Epoch 2/100\n",
      "443/460 [===========================>..] - ETA: 0s - loss: 0.6760 - mse: 0.6760"
     ]
    },
    {
     "name": "stderr",
     "output_type": "stream",
     "text": [
      "WARNING:absl:Found untraced functions such as activation_layer_call_fn, activation_layer_call_and_return_conditional_losses, activation_1_layer_call_fn, activation_1_layer_call_and_return_conditional_losses, activation_2_layer_call_fn while saving (showing 5 of 8). These functions will not be directly callable after loading.\n"
     ]
    },
    {
     "name": "stdout",
     "output_type": "stream",
     "text": [
      "INFO:tensorflow:Assets written to: C:\\Users\\ucesvpm\\OneDrive - University College London\\PhD Project\\Data Analytics\\Time Series Clustering\\Third Test\\wandb\\run-20230202_124552-zvxnsa3e\\files\\model-best\\assets\n"
     ]
    },
    {
     "name": "stderr",
     "output_type": "stream",
     "text": [
      "INFO:tensorflow:Assets written to: C:\\Users\\ucesvpm\\OneDrive - University College London\\PhD Project\\Data Analytics\\Time Series Clustering\\Third Test\\wandb\\run-20230202_124552-zvxnsa3e\\files\\model-best\\assets\n",
      "\u001b[34m\u001b[1mwandb\u001b[0m: Adding directory to artifact (C:\\Users\\ucesvpm\\OneDrive - University College London\\PhD Project\\Data Analytics\\Time Series Clustering\\Third Test\\wandb\\run-20230202_124552-zvxnsa3e\\files\\model-best)... Done. 0.0s\n"
     ]
    },
    {
     "name": "stdout",
     "output_type": "stream",
     "text": [
      "460/460 [==============================] - 3s 8ms/step - loss: 0.6751 - mse: 0.6751 - val_loss: 0.6596 - val_mse: 0.6596 - lr: 0.0021\n",
      "Epoch 3/100\n",
      "449/460 [============================>.] - ETA: 0s - loss: 0.6453 - mse: 0.6453"
     ]
    },
    {
     "name": "stderr",
     "output_type": "stream",
     "text": [
      "WARNING:absl:Found untraced functions such as activation_layer_call_fn, activation_layer_call_and_return_conditional_losses, activation_1_layer_call_fn, activation_1_layer_call_and_return_conditional_losses, activation_2_layer_call_fn while saving (showing 5 of 8). These functions will not be directly callable after loading.\n"
     ]
    },
    {
     "name": "stdout",
     "output_type": "stream",
     "text": [
      "INFO:tensorflow:Assets written to: C:\\Users\\ucesvpm\\OneDrive - University College London\\PhD Project\\Data Analytics\\Time Series Clustering\\Third Test\\wandb\\run-20230202_124552-zvxnsa3e\\files\\model-best\\assets\n"
     ]
    },
    {
     "name": "stderr",
     "output_type": "stream",
     "text": [
      "INFO:tensorflow:Assets written to: C:\\Users\\ucesvpm\\OneDrive - University College London\\PhD Project\\Data Analytics\\Time Series Clustering\\Third Test\\wandb\\run-20230202_124552-zvxnsa3e\\files\\model-best\\assets\n",
      "\u001b[34m\u001b[1mwandb\u001b[0m: Adding directory to artifact (C:\\Users\\ucesvpm\\OneDrive - University College London\\PhD Project\\Data Analytics\\Time Series Clustering\\Third Test\\wandb\\run-20230202_124552-zvxnsa3e\\files\\model-best)... Done. 0.1s\n"
     ]
    },
    {
     "name": "stdout",
     "output_type": "stream",
     "text": [
      "460/460 [==============================] - 4s 8ms/step - loss: 0.6452 - mse: 0.6452 - val_loss: 0.6404 - val_mse: 0.6404 - lr: 0.0021\n",
      "Epoch 4/100\n",
      "445/460 [============================>.] - ETA: 0s - loss: 0.6335 - mse: 0.6335"
     ]
    },
    {
     "name": "stderr",
     "output_type": "stream",
     "text": [
      "WARNING:absl:Found untraced functions such as activation_layer_call_fn, activation_layer_call_and_return_conditional_losses, activation_1_layer_call_fn, activation_1_layer_call_and_return_conditional_losses, activation_2_layer_call_fn while saving (showing 5 of 8). These functions will not be directly callable after loading.\n"
     ]
    },
    {
     "name": "stdout",
     "output_type": "stream",
     "text": [
      "INFO:tensorflow:Assets written to: C:\\Users\\ucesvpm\\OneDrive - University College London\\PhD Project\\Data Analytics\\Time Series Clustering\\Third Test\\wandb\\run-20230202_124552-zvxnsa3e\\files\\model-best\\assets\n"
     ]
    },
    {
     "name": "stderr",
     "output_type": "stream",
     "text": [
      "INFO:tensorflow:Assets written to: C:\\Users\\ucesvpm\\OneDrive - University College London\\PhD Project\\Data Analytics\\Time Series Clustering\\Third Test\\wandb\\run-20230202_124552-zvxnsa3e\\files\\model-best\\assets\n",
      "\u001b[34m\u001b[1mwandb\u001b[0m: Adding directory to artifact (C:\\Users\\ucesvpm\\OneDrive - University College London\\PhD Project\\Data Analytics\\Time Series Clustering\\Third Test\\wandb\\run-20230202_124552-zvxnsa3e\\files\\model-best)... Done. 0.0s\n"
     ]
    },
    {
     "name": "stdout",
     "output_type": "stream",
     "text": [
      "460/460 [==============================] - 4s 8ms/step - loss: 0.6331 - mse: 0.6331 - val_loss: 0.6331 - val_mse: 0.6331 - lr: 0.0021\n",
      "Epoch 5/100\n",
      "456/460 [============================>.] - ETA: 0s - loss: 0.6274 - mse: 0.6274"
     ]
    },
    {
     "name": "stderr",
     "output_type": "stream",
     "text": [
      "WARNING:absl:Found untraced functions such as activation_layer_call_fn, activation_layer_call_and_return_conditional_losses, activation_1_layer_call_fn, activation_1_layer_call_and_return_conditional_losses, activation_2_layer_call_fn while saving (showing 5 of 8). These functions will not be directly callable after loading.\n"
     ]
    },
    {
     "name": "stdout",
     "output_type": "stream",
     "text": [
      "INFO:tensorflow:Assets written to: C:\\Users\\ucesvpm\\OneDrive - University College London\\PhD Project\\Data Analytics\\Time Series Clustering\\Third Test\\wandb\\run-20230202_124552-zvxnsa3e\\files\\model-best\\assets\n"
     ]
    },
    {
     "name": "stderr",
     "output_type": "stream",
     "text": [
      "INFO:tensorflow:Assets written to: C:\\Users\\ucesvpm\\OneDrive - University College London\\PhD Project\\Data Analytics\\Time Series Clustering\\Third Test\\wandb\\run-20230202_124552-zvxnsa3e\\files\\model-best\\assets\n",
      "\u001b[34m\u001b[1mwandb\u001b[0m: Adding directory to artifact (C:\\Users\\ucesvpm\\OneDrive - University College London\\PhD Project\\Data Analytics\\Time Series Clustering\\Third Test\\wandb\\run-20230202_124552-zvxnsa3e\\files\\model-best)... Done. 0.0s\n"
     ]
    },
    {
     "name": "stdout",
     "output_type": "stream",
     "text": [
      "460/460 [==============================] - 3s 7ms/step - loss: 0.6274 - mse: 0.6274 - val_loss: 0.6287 - val_mse: 0.6287 - lr: 0.0021\n",
      "Epoch 6/100\n",
      "457/460 [============================>.] - ETA: 0s - loss: 0.6235 - mse: 0.6235"
     ]
    },
    {
     "name": "stderr",
     "output_type": "stream",
     "text": [
      "WARNING:absl:Found untraced functions such as activation_layer_call_fn, activation_layer_call_and_return_conditional_losses, activation_1_layer_call_fn, activation_1_layer_call_and_return_conditional_losses, activation_2_layer_call_fn while saving (showing 5 of 8). These functions will not be directly callable after loading.\n"
     ]
    },
    {
     "name": "stdout",
     "output_type": "stream",
     "text": [
      "INFO:tensorflow:Assets written to: C:\\Users\\ucesvpm\\OneDrive - University College London\\PhD Project\\Data Analytics\\Time Series Clustering\\Third Test\\wandb\\run-20230202_124552-zvxnsa3e\\files\\model-best\\assets\n"
     ]
    },
    {
     "name": "stderr",
     "output_type": "stream",
     "text": [
      "INFO:tensorflow:Assets written to: C:\\Users\\ucesvpm\\OneDrive - University College London\\PhD Project\\Data Analytics\\Time Series Clustering\\Third Test\\wandb\\run-20230202_124552-zvxnsa3e\\files\\model-best\\assets\n",
      "\u001b[34m\u001b[1mwandb\u001b[0m: Adding directory to artifact (C:\\Users\\ucesvpm\\OneDrive - University College London\\PhD Project\\Data Analytics\\Time Series Clustering\\Third Test\\wandb\\run-20230202_124552-zvxnsa3e\\files\\model-best)... Done. 0.0s\n"
     ]
    },
    {
     "name": "stdout",
     "output_type": "stream",
     "text": [
      "460/460 [==============================] - 3s 7ms/step - loss: 0.6235 - mse: 0.6235 - val_loss: 0.6252 - val_mse: 0.6252 - lr: 0.0021\n",
      "Epoch 7/100\n",
      "451/460 [============================>.] - ETA: 0s - loss: 0.6206 - mse: 0.6206"
     ]
    },
    {
     "name": "stderr",
     "output_type": "stream",
     "text": [
      "WARNING:absl:Found untraced functions such as activation_layer_call_fn, activation_layer_call_and_return_conditional_losses, activation_1_layer_call_fn, activation_1_layer_call_and_return_conditional_losses, activation_2_layer_call_fn while saving (showing 5 of 8). These functions will not be directly callable after loading.\n"
     ]
    },
    {
     "name": "stdout",
     "output_type": "stream",
     "text": [
      "INFO:tensorflow:Assets written to: C:\\Users\\ucesvpm\\OneDrive - University College London\\PhD Project\\Data Analytics\\Time Series Clustering\\Third Test\\wandb\\run-20230202_124552-zvxnsa3e\\files\\model-best\\assets\n"
     ]
    },
    {
     "name": "stderr",
     "output_type": "stream",
     "text": [
      "INFO:tensorflow:Assets written to: C:\\Users\\ucesvpm\\OneDrive - University College London\\PhD Project\\Data Analytics\\Time Series Clustering\\Third Test\\wandb\\run-20230202_124552-zvxnsa3e\\files\\model-best\\assets\n",
      "\u001b[34m\u001b[1mwandb\u001b[0m: Adding directory to artifact (C:\\Users\\ucesvpm\\OneDrive - University College London\\PhD Project\\Data Analytics\\Time Series Clustering\\Third Test\\wandb\\run-20230202_124552-zvxnsa3e\\files\\model-best)... Done. 0.0s\n"
     ]
    },
    {
     "name": "stdout",
     "output_type": "stream",
     "text": [
      "460/460 [==============================] - 5s 11ms/step - loss: 0.6205 - mse: 0.6205 - val_loss: 0.6225 - val_mse: 0.6225 - lr: 0.0021\n",
      "Epoch 8/100\n",
      "450/460 [============================>.] - ETA: 0s - loss: 0.6182 - mse: 0.6182"
     ]
    },
    {
     "name": "stderr",
     "output_type": "stream",
     "text": [
      "WARNING:absl:Found untraced functions such as activation_layer_call_fn, activation_layer_call_and_return_conditional_losses, activation_1_layer_call_fn, activation_1_layer_call_and_return_conditional_losses, activation_2_layer_call_fn while saving (showing 5 of 8). These functions will not be directly callable after loading.\n"
     ]
    },
    {
     "name": "stdout",
     "output_type": "stream",
     "text": [
      "INFO:tensorflow:Assets written to: C:\\Users\\ucesvpm\\OneDrive - University College London\\PhD Project\\Data Analytics\\Time Series Clustering\\Third Test\\wandb\\run-20230202_124552-zvxnsa3e\\files\\model-best\\assets\n"
     ]
    },
    {
     "name": "stderr",
     "output_type": "stream",
     "text": [
      "INFO:tensorflow:Assets written to: C:\\Users\\ucesvpm\\OneDrive - University College London\\PhD Project\\Data Analytics\\Time Series Clustering\\Third Test\\wandb\\run-20230202_124552-zvxnsa3e\\files\\model-best\\assets\n",
      "\u001b[34m\u001b[1mwandb\u001b[0m: Adding directory to artifact (C:\\Users\\ucesvpm\\OneDrive - University College London\\PhD Project\\Data Analytics\\Time Series Clustering\\Third Test\\wandb\\run-20230202_124552-zvxnsa3e\\files\\model-best)... Done. 0.0s\n"
     ]
    },
    {
     "name": "stdout",
     "output_type": "stream",
     "text": [
      "460/460 [==============================] - 4s 9ms/step - loss: 0.6180 - mse: 0.6180 - val_loss: 0.6202 - val_mse: 0.6202 - lr: 0.0021\n",
      "Epoch 9/100\n",
      "458/460 [============================>.] - ETA: 0s - loss: 0.6160 - mse: 0.6160"
     ]
    },
    {
     "name": "stderr",
     "output_type": "stream",
     "text": [
      "WARNING:absl:Found untraced functions such as activation_layer_call_fn, activation_layer_call_and_return_conditional_losses, activation_1_layer_call_fn, activation_1_layer_call_and_return_conditional_losses, activation_2_layer_call_fn while saving (showing 5 of 8). These functions will not be directly callable after loading.\n"
     ]
    },
    {
     "name": "stdout",
     "output_type": "stream",
     "text": [
      "INFO:tensorflow:Assets written to: C:\\Users\\ucesvpm\\OneDrive - University College London\\PhD Project\\Data Analytics\\Time Series Clustering\\Third Test\\wandb\\run-20230202_124552-zvxnsa3e\\files\\model-best\\assets\n"
     ]
    },
    {
     "name": "stderr",
     "output_type": "stream",
     "text": [
      "INFO:tensorflow:Assets written to: C:\\Users\\ucesvpm\\OneDrive - University College London\\PhD Project\\Data Analytics\\Time Series Clustering\\Third Test\\wandb\\run-20230202_124552-zvxnsa3e\\files\\model-best\\assets\n",
      "\u001b[34m\u001b[1mwandb\u001b[0m: Adding directory to artifact (C:\\Users\\ucesvpm\\OneDrive - University College London\\PhD Project\\Data Analytics\\Time Series Clustering\\Third Test\\wandb\\run-20230202_124552-zvxnsa3e\\files\\model-best)... Done. 0.0s\n"
     ]
    },
    {
     "name": "stdout",
     "output_type": "stream",
     "text": [
      "460/460 [==============================] - 4s 8ms/step - loss: 0.6159 - mse: 0.6159 - val_loss: 0.6184 - val_mse: 0.6184 - lr: 0.0021\n",
      "Epoch 10/100\n",
      "452/460 [============================>.] - ETA: 0s - loss: 0.6143 - mse: 0.6143"
     ]
    },
    {
     "name": "stderr",
     "output_type": "stream",
     "text": [
      "WARNING:absl:Found untraced functions such as activation_layer_call_fn, activation_layer_call_and_return_conditional_losses, activation_1_layer_call_fn, activation_1_layer_call_and_return_conditional_losses, activation_2_layer_call_fn while saving (showing 5 of 8). These functions will not be directly callable after loading.\n"
     ]
    },
    {
     "name": "stdout",
     "output_type": "stream",
     "text": [
      "INFO:tensorflow:Assets written to: C:\\Users\\ucesvpm\\OneDrive - University College London\\PhD Project\\Data Analytics\\Time Series Clustering\\Third Test\\wandb\\run-20230202_124552-zvxnsa3e\\files\\model-best\\assets\n"
     ]
    },
    {
     "name": "stderr",
     "output_type": "stream",
     "text": [
      "INFO:tensorflow:Assets written to: C:\\Users\\ucesvpm\\OneDrive - University College London\\PhD Project\\Data Analytics\\Time Series Clustering\\Third Test\\wandb\\run-20230202_124552-zvxnsa3e\\files\\model-best\\assets\n",
      "\u001b[34m\u001b[1mwandb\u001b[0m: Adding directory to artifact (C:\\Users\\ucesvpm\\OneDrive - University College London\\PhD Project\\Data Analytics\\Time Series Clustering\\Third Test\\wandb\\run-20230202_124552-zvxnsa3e\\files\\model-best)... Done. 0.0s\n"
     ]
    },
    {
     "name": "stdout",
     "output_type": "stream",
     "text": [
      "460/460 [==============================] - 4s 8ms/step - loss: 0.6142 - mse: 0.6142 - val_loss: 0.6167 - val_mse: 0.6167 - lr: 0.0021\n",
      "Epoch 11/100\n",
      "451/460 [============================>.] - ETA: 0s - loss: 0.6123 - mse: 0.6123"
     ]
    },
    {
     "name": "stderr",
     "output_type": "stream",
     "text": [
      "WARNING:absl:Found untraced functions such as activation_layer_call_fn, activation_layer_call_and_return_conditional_losses, activation_1_layer_call_fn, activation_1_layer_call_and_return_conditional_losses, activation_2_layer_call_fn while saving (showing 5 of 8). These functions will not be directly callable after loading.\n"
     ]
    },
    {
     "name": "stdout",
     "output_type": "stream",
     "text": [
      "INFO:tensorflow:Assets written to: C:\\Users\\ucesvpm\\OneDrive - University College London\\PhD Project\\Data Analytics\\Time Series Clustering\\Third Test\\wandb\\run-20230202_124552-zvxnsa3e\\files\\model-best\\assets\n"
     ]
    },
    {
     "name": "stderr",
     "output_type": "stream",
     "text": [
      "INFO:tensorflow:Assets written to: C:\\Users\\ucesvpm\\OneDrive - University College London\\PhD Project\\Data Analytics\\Time Series Clustering\\Third Test\\wandb\\run-20230202_124552-zvxnsa3e\\files\\model-best\\assets\n",
      "\u001b[34m\u001b[1mwandb\u001b[0m: Adding directory to artifact (C:\\Users\\ucesvpm\\OneDrive - University College London\\PhD Project\\Data Analytics\\Time Series Clustering\\Third Test\\wandb\\run-20230202_124552-zvxnsa3e\\files\\model-best)... Done. 0.0s\n"
     ]
    },
    {
     "name": "stdout",
     "output_type": "stream",
     "text": [
      "460/460 [==============================] - 4s 8ms/step - loss: 0.6126 - mse: 0.6126 - val_loss: 0.6153 - val_mse: 0.6153 - lr: 0.0021\n",
      "Epoch 12/100\n",
      "459/460 [============================>.] - ETA: 0s - loss: 0.6114 - mse: 0.6114"
     ]
    },
    {
     "name": "stderr",
     "output_type": "stream",
     "text": [
      "WARNING:absl:Found untraced functions such as activation_layer_call_fn, activation_layer_call_and_return_conditional_losses, activation_1_layer_call_fn, activation_1_layer_call_and_return_conditional_losses, activation_2_layer_call_fn while saving (showing 5 of 8). These functions will not be directly callable after loading.\n"
     ]
    },
    {
     "name": "stdout",
     "output_type": "stream",
     "text": [
      "INFO:tensorflow:Assets written to: C:\\Users\\ucesvpm\\OneDrive - University College London\\PhD Project\\Data Analytics\\Time Series Clustering\\Third Test\\wandb\\run-20230202_124552-zvxnsa3e\\files\\model-best\\assets\n"
     ]
    },
    {
     "name": "stderr",
     "output_type": "stream",
     "text": [
      "INFO:tensorflow:Assets written to: C:\\Users\\ucesvpm\\OneDrive - University College London\\PhD Project\\Data Analytics\\Time Series Clustering\\Third Test\\wandb\\run-20230202_124552-zvxnsa3e\\files\\model-best\\assets\n",
      "\u001b[34m\u001b[1mwandb\u001b[0m: Adding directory to artifact (C:\\Users\\ucesvpm\\OneDrive - University College London\\PhD Project\\Data Analytics\\Time Series Clustering\\Third Test\\wandb\\run-20230202_124552-zvxnsa3e\\files\\model-best)... Done. 0.0s\n"
     ]
    },
    {
     "name": "stdout",
     "output_type": "stream",
     "text": [
      "460/460 [==============================] - 5s 10ms/step - loss: 0.6113 - mse: 0.6113 - val_loss: 0.6140 - val_mse: 0.6140 - lr: 0.0021\n",
      "Epoch 13/100\n",
      "451/460 [============================>.] - ETA: 0s - loss: 0.6100 - mse: 0.6100"
     ]
    },
    {
     "name": "stderr",
     "output_type": "stream",
     "text": [
      "WARNING:absl:Found untraced functions such as activation_layer_call_fn, activation_layer_call_and_return_conditional_losses, activation_1_layer_call_fn, activation_1_layer_call_and_return_conditional_losses, activation_2_layer_call_fn while saving (showing 5 of 8). These functions will not be directly callable after loading.\n"
     ]
    },
    {
     "name": "stdout",
     "output_type": "stream",
     "text": [
      "INFO:tensorflow:Assets written to: C:\\Users\\ucesvpm\\OneDrive - University College London\\PhD Project\\Data Analytics\\Time Series Clustering\\Third Test\\wandb\\run-20230202_124552-zvxnsa3e\\files\\model-best\\assets\n"
     ]
    },
    {
     "name": "stderr",
     "output_type": "stream",
     "text": [
      "INFO:tensorflow:Assets written to: C:\\Users\\ucesvpm\\OneDrive - University College London\\PhD Project\\Data Analytics\\Time Series Clustering\\Third Test\\wandb\\run-20230202_124552-zvxnsa3e\\files\\model-best\\assets\n",
      "\u001b[34m\u001b[1mwandb\u001b[0m: Adding directory to artifact (C:\\Users\\ucesvpm\\OneDrive - University College London\\PhD Project\\Data Analytics\\Time Series Clustering\\Third Test\\wandb\\run-20230202_124552-zvxnsa3e\\files\\model-best)... Done. 0.0s\n"
     ]
    },
    {
     "name": "stdout",
     "output_type": "stream",
     "text": [
      "460/460 [==============================] - 4s 9ms/step - loss: 0.6101 - mse: 0.6101 - val_loss: 0.6129 - val_mse: 0.6129 - lr: 0.0021\n",
      "Epoch 14/100\n",
      "458/460 [============================>.] - ETA: 0s - loss: 0.6091 - mse: 0.6091"
     ]
    },
    {
     "name": "stderr",
     "output_type": "stream",
     "text": [
      "WARNING:absl:Found untraced functions such as activation_layer_call_fn, activation_layer_call_and_return_conditional_losses, activation_1_layer_call_fn, activation_1_layer_call_and_return_conditional_losses, activation_2_layer_call_fn while saving (showing 5 of 8). These functions will not be directly callable after loading.\n"
     ]
    },
    {
     "name": "stdout",
     "output_type": "stream",
     "text": [
      "INFO:tensorflow:Assets written to: C:\\Users\\ucesvpm\\OneDrive - University College London\\PhD Project\\Data Analytics\\Time Series Clustering\\Third Test\\wandb\\run-20230202_124552-zvxnsa3e\\files\\model-best\\assets\n"
     ]
    },
    {
     "name": "stderr",
     "output_type": "stream",
     "text": [
      "INFO:tensorflow:Assets written to: C:\\Users\\ucesvpm\\OneDrive - University College London\\PhD Project\\Data Analytics\\Time Series Clustering\\Third Test\\wandb\\run-20230202_124552-zvxnsa3e\\files\\model-best\\assets\n",
      "\u001b[34m\u001b[1mwandb\u001b[0m: Adding directory to artifact (C:\\Users\\ucesvpm\\OneDrive - University College London\\PhD Project\\Data Analytics\\Time Series Clustering\\Third Test\\wandb\\run-20230202_124552-zvxnsa3e\\files\\model-best)... Done. 0.0s\n"
     ]
    },
    {
     "name": "stdout",
     "output_type": "stream",
     "text": [
      "460/460 [==============================] - 4s 8ms/step - loss: 0.6090 - mse: 0.6090 - val_loss: 0.6118 - val_mse: 0.6118 - lr: 0.0021\n",
      "Epoch 15/100\n",
      "450/460 [============================>.] - ETA: 0s - loss: 0.6078 - mse: 0.6078"
     ]
    },
    {
     "name": "stderr",
     "output_type": "stream",
     "text": [
      "WARNING:absl:Found untraced functions such as activation_layer_call_fn, activation_layer_call_and_return_conditional_losses, activation_1_layer_call_fn, activation_1_layer_call_and_return_conditional_losses, activation_2_layer_call_fn while saving (showing 5 of 8). These functions will not be directly callable after loading.\n"
     ]
    },
    {
     "name": "stdout",
     "output_type": "stream",
     "text": [
      "INFO:tensorflow:Assets written to: C:\\Users\\ucesvpm\\OneDrive - University College London\\PhD Project\\Data Analytics\\Time Series Clustering\\Third Test\\wandb\\run-20230202_124552-zvxnsa3e\\files\\model-best\\assets\n"
     ]
    },
    {
     "name": "stderr",
     "output_type": "stream",
     "text": [
      "INFO:tensorflow:Assets written to: C:\\Users\\ucesvpm\\OneDrive - University College London\\PhD Project\\Data Analytics\\Time Series Clustering\\Third Test\\wandb\\run-20230202_124552-zvxnsa3e\\files\\model-best\\assets\n",
      "\u001b[34m\u001b[1mwandb\u001b[0m: Adding directory to artifact (C:\\Users\\ucesvpm\\OneDrive - University College London\\PhD Project\\Data Analytics\\Time Series Clustering\\Third Test\\wandb\\run-20230202_124552-zvxnsa3e\\files\\model-best)... Done. 0.0s\n"
     ]
    },
    {
     "name": "stdout",
     "output_type": "stream",
     "text": [
      "460/460 [==============================] - 3s 7ms/step - loss: 0.6080 - mse: 0.6080 - val_loss: 0.6109 - val_mse: 0.6109 - lr: 0.0021\n",
      "Epoch 16/100\n",
      "454/460 [============================>.] - ETA: 0s - loss: 0.6072 - mse: 0.6072"
     ]
    },
    {
     "name": "stderr",
     "output_type": "stream",
     "text": [
      "WARNING:absl:Found untraced functions such as activation_layer_call_fn, activation_layer_call_and_return_conditional_losses, activation_1_layer_call_fn, activation_1_layer_call_and_return_conditional_losses, activation_2_layer_call_fn while saving (showing 5 of 8). These functions will not be directly callable after loading.\n"
     ]
    },
    {
     "name": "stdout",
     "output_type": "stream",
     "text": [
      "INFO:tensorflow:Assets written to: C:\\Users\\ucesvpm\\OneDrive - University College London\\PhD Project\\Data Analytics\\Time Series Clustering\\Third Test\\wandb\\run-20230202_124552-zvxnsa3e\\files\\model-best\\assets\n"
     ]
    },
    {
     "name": "stderr",
     "output_type": "stream",
     "text": [
      "INFO:tensorflow:Assets written to: C:\\Users\\ucesvpm\\OneDrive - University College London\\PhD Project\\Data Analytics\\Time Series Clustering\\Third Test\\wandb\\run-20230202_124552-zvxnsa3e\\files\\model-best\\assets\n",
      "\u001b[34m\u001b[1mwandb\u001b[0m: Adding directory to artifact (C:\\Users\\ucesvpm\\OneDrive - University College London\\PhD Project\\Data Analytics\\Time Series Clustering\\Third Test\\wandb\\run-20230202_124552-zvxnsa3e\\files\\model-best)... Done. 0.0s\n"
     ]
    },
    {
     "name": "stdout",
     "output_type": "stream",
     "text": [
      "460/460 [==============================] - 4s 8ms/step - loss: 0.6070 - mse: 0.6070 - val_loss: 0.6100 - val_mse: 0.6100 - lr: 0.0021\n",
      "Epoch 17/100\n",
      "449/460 [============================>.] - ETA: 0s - loss: 0.6061 - mse: 0.6061"
     ]
    },
    {
     "name": "stderr",
     "output_type": "stream",
     "text": [
      "WARNING:absl:Found untraced functions such as activation_layer_call_fn, activation_layer_call_and_return_conditional_losses, activation_1_layer_call_fn, activation_1_layer_call_and_return_conditional_losses, activation_2_layer_call_fn while saving (showing 5 of 8). These functions will not be directly callable after loading.\n"
     ]
    },
    {
     "name": "stdout",
     "output_type": "stream",
     "text": [
      "INFO:tensorflow:Assets written to: C:\\Users\\ucesvpm\\OneDrive - University College London\\PhD Project\\Data Analytics\\Time Series Clustering\\Third Test\\wandb\\run-20230202_124552-zvxnsa3e\\files\\model-best\\assets\n"
     ]
    },
    {
     "name": "stderr",
     "output_type": "stream",
     "text": [
      "INFO:tensorflow:Assets written to: C:\\Users\\ucesvpm\\OneDrive - University College London\\PhD Project\\Data Analytics\\Time Series Clustering\\Third Test\\wandb\\run-20230202_124552-zvxnsa3e\\files\\model-best\\assets\n",
      "\u001b[34m\u001b[1mwandb\u001b[0m: Adding directory to artifact (C:\\Users\\ucesvpm\\OneDrive - University College London\\PhD Project\\Data Analytics\\Time Series Clustering\\Third Test\\wandb\\run-20230202_124552-zvxnsa3e\\files\\model-best)... Done. 0.0s\n"
     ]
    },
    {
     "name": "stdout",
     "output_type": "stream",
     "text": [
      "460/460 [==============================] - 4s 8ms/step - loss: 0.6062 - mse: 0.6062 - val_loss: 0.6091 - val_mse: 0.6091 - lr: 0.0021\n",
      "Epoch 18/100\n",
      "448/460 [============================>.] - ETA: 0s - loss: 0.6055 - mse: 0.6055"
     ]
    },
    {
     "name": "stderr",
     "output_type": "stream",
     "text": [
      "WARNING:absl:Found untraced functions such as activation_layer_call_fn, activation_layer_call_and_return_conditional_losses, activation_1_layer_call_fn, activation_1_layer_call_and_return_conditional_losses, activation_2_layer_call_fn while saving (showing 5 of 8). These functions will not be directly callable after loading.\n"
     ]
    },
    {
     "name": "stdout",
     "output_type": "stream",
     "text": [
      "INFO:tensorflow:Assets written to: C:\\Users\\ucesvpm\\OneDrive - University College London\\PhD Project\\Data Analytics\\Time Series Clustering\\Third Test\\wandb\\run-20230202_124552-zvxnsa3e\\files\\model-best\\assets\n"
     ]
    },
    {
     "name": "stderr",
     "output_type": "stream",
     "text": [
      "INFO:tensorflow:Assets written to: C:\\Users\\ucesvpm\\OneDrive - University College London\\PhD Project\\Data Analytics\\Time Series Clustering\\Third Test\\wandb\\run-20230202_124552-zvxnsa3e\\files\\model-best\\assets\n",
      "\u001b[34m\u001b[1mwandb\u001b[0m: Adding directory to artifact (C:\\Users\\ucesvpm\\OneDrive - University College London\\PhD Project\\Data Analytics\\Time Series Clustering\\Third Test\\wandb\\run-20230202_124552-zvxnsa3e\\files\\model-best)... Done. 0.0s\n"
     ]
    },
    {
     "name": "stdout",
     "output_type": "stream",
     "text": [
      "460/460 [==============================] - 3s 7ms/step - loss: 0.6054 - mse: 0.6054 - val_loss: 0.6084 - val_mse: 0.6084 - lr: 0.0021\n",
      "Epoch 19/100\n",
      "456/460 [============================>.] - ETA: 0s - loss: 0.6045 - mse: 0.6045"
     ]
    },
    {
     "name": "stderr",
     "output_type": "stream",
     "text": [
      "WARNING:absl:Found untraced functions such as activation_layer_call_fn, activation_layer_call_and_return_conditional_losses, activation_1_layer_call_fn, activation_1_layer_call_and_return_conditional_losses, activation_2_layer_call_fn while saving (showing 5 of 8). These functions will not be directly callable after loading.\n"
     ]
    },
    {
     "name": "stdout",
     "output_type": "stream",
     "text": [
      "INFO:tensorflow:Assets written to: C:\\Users\\ucesvpm\\OneDrive - University College London\\PhD Project\\Data Analytics\\Time Series Clustering\\Third Test\\wandb\\run-20230202_124552-zvxnsa3e\\files\\model-best\\assets\n"
     ]
    },
    {
     "name": "stderr",
     "output_type": "stream",
     "text": [
      "INFO:tensorflow:Assets written to: C:\\Users\\ucesvpm\\OneDrive - University College London\\PhD Project\\Data Analytics\\Time Series Clustering\\Third Test\\wandb\\run-20230202_124552-zvxnsa3e\\files\\model-best\\assets\n",
      "\u001b[34m\u001b[1mwandb\u001b[0m: Adding directory to artifact (C:\\Users\\ucesvpm\\OneDrive - University College London\\PhD Project\\Data Analytics\\Time Series Clustering\\Third Test\\wandb\\run-20230202_124552-zvxnsa3e\\files\\model-best)... Done. 0.0s\n"
     ]
    },
    {
     "name": "stdout",
     "output_type": "stream",
     "text": [
      "460/460 [==============================] - 3s 7ms/step - loss: 0.6046 - mse: 0.6046 - val_loss: 0.6076 - val_mse: 0.6076 - lr: 0.0021\n",
      "Epoch 20/100\n",
      "458/460 [============================>.] - ETA: 0s - loss: 0.6038 - mse: 0.6038"
     ]
    },
    {
     "name": "stderr",
     "output_type": "stream",
     "text": [
      "WARNING:absl:Found untraced functions such as activation_layer_call_fn, activation_layer_call_and_return_conditional_losses, activation_1_layer_call_fn, activation_1_layer_call_and_return_conditional_losses, activation_2_layer_call_fn while saving (showing 5 of 8). These functions will not be directly callable after loading.\n"
     ]
    },
    {
     "name": "stdout",
     "output_type": "stream",
     "text": [
      "INFO:tensorflow:Assets written to: C:\\Users\\ucesvpm\\OneDrive - University College London\\PhD Project\\Data Analytics\\Time Series Clustering\\Third Test\\wandb\\run-20230202_124552-zvxnsa3e\\files\\model-best\\assets\n"
     ]
    },
    {
     "name": "stderr",
     "output_type": "stream",
     "text": [
      "INFO:tensorflow:Assets written to: C:\\Users\\ucesvpm\\OneDrive - University College London\\PhD Project\\Data Analytics\\Time Series Clustering\\Third Test\\wandb\\run-20230202_124552-zvxnsa3e\\files\\model-best\\assets\n",
      "\u001b[34m\u001b[1mwandb\u001b[0m: Adding directory to artifact (C:\\Users\\ucesvpm\\OneDrive - University College London\\PhD Project\\Data Analytics\\Time Series Clustering\\Third Test\\wandb\\run-20230202_124552-zvxnsa3e\\files\\model-best)... Done. 0.0s\n"
     ]
    },
    {
     "name": "stdout",
     "output_type": "stream",
     "text": [
      "460/460 [==============================] - 4s 8ms/step - loss: 0.6039 - mse: 0.6039 - val_loss: 0.6069 - val_mse: 0.6069 - lr: 0.0021\n",
      "Epoch 21/100\n",
      "458/460 [============================>.] - ETA: 0s - loss: 0.6032 - mse: 0.6032"
     ]
    },
    {
     "name": "stderr",
     "output_type": "stream",
     "text": [
      "WARNING:absl:Found untraced functions such as activation_layer_call_fn, activation_layer_call_and_return_conditional_losses, activation_1_layer_call_fn, activation_1_layer_call_and_return_conditional_losses, activation_2_layer_call_fn while saving (showing 5 of 8). These functions will not be directly callable after loading.\n"
     ]
    },
    {
     "name": "stdout",
     "output_type": "stream",
     "text": [
      "INFO:tensorflow:Assets written to: C:\\Users\\ucesvpm\\OneDrive - University College London\\PhD Project\\Data Analytics\\Time Series Clustering\\Third Test\\wandb\\run-20230202_124552-zvxnsa3e\\files\\model-best\\assets\n"
     ]
    },
    {
     "name": "stderr",
     "output_type": "stream",
     "text": [
      "INFO:tensorflow:Assets written to: C:\\Users\\ucesvpm\\OneDrive - University College London\\PhD Project\\Data Analytics\\Time Series Clustering\\Third Test\\wandb\\run-20230202_124552-zvxnsa3e\\files\\model-best\\assets\n",
      "\u001b[34m\u001b[1mwandb\u001b[0m: Adding directory to artifact (C:\\Users\\ucesvpm\\OneDrive - University College London\\PhD Project\\Data Analytics\\Time Series Clustering\\Third Test\\wandb\\run-20230202_124552-zvxnsa3e\\files\\model-best)... Done. 0.0s\n"
     ]
    },
    {
     "name": "stdout",
     "output_type": "stream",
     "text": [
      "460/460 [==============================] - 3s 7ms/step - loss: 0.6032 - mse: 0.6032 - val_loss: 0.6064 - val_mse: 0.6064 - lr: 0.0021\n",
      "Epoch 22/100\n",
      "454/460 [============================>.] - ETA: 0s - loss: 0.6025 - mse: 0.6025"
     ]
    },
    {
     "name": "stderr",
     "output_type": "stream",
     "text": [
      "WARNING:absl:Found untraced functions such as activation_layer_call_fn, activation_layer_call_and_return_conditional_losses, activation_1_layer_call_fn, activation_1_layer_call_and_return_conditional_losses, activation_2_layer_call_fn while saving (showing 5 of 8). These functions will not be directly callable after loading.\n"
     ]
    },
    {
     "name": "stdout",
     "output_type": "stream",
     "text": [
      "INFO:tensorflow:Assets written to: C:\\Users\\ucesvpm\\OneDrive - University College London\\PhD Project\\Data Analytics\\Time Series Clustering\\Third Test\\wandb\\run-20230202_124552-zvxnsa3e\\files\\model-best\\assets\n"
     ]
    },
    {
     "name": "stderr",
     "output_type": "stream",
     "text": [
      "INFO:tensorflow:Assets written to: C:\\Users\\ucesvpm\\OneDrive - University College London\\PhD Project\\Data Analytics\\Time Series Clustering\\Third Test\\wandb\\run-20230202_124552-zvxnsa3e\\files\\model-best\\assets\n",
      "\u001b[34m\u001b[1mwandb\u001b[0m: Adding directory to artifact (C:\\Users\\ucesvpm\\OneDrive - University College London\\PhD Project\\Data Analytics\\Time Series Clustering\\Third Test\\wandb\\run-20230202_124552-zvxnsa3e\\files\\model-best)... Done. 0.0s\n"
     ]
    },
    {
     "name": "stdout",
     "output_type": "stream",
     "text": [
      "460/460 [==============================] - 3s 7ms/step - loss: 0.6026 - mse: 0.6026 - val_loss: 0.6057 - val_mse: 0.6057 - lr: 0.0021\n",
      "Epoch 23/100\n",
      "448/460 [============================>.] - ETA: 0s - loss: 0.6021 - mse: 0.6021"
     ]
    },
    {
     "name": "stderr",
     "output_type": "stream",
     "text": [
      "WARNING:absl:Found untraced functions such as activation_layer_call_fn, activation_layer_call_and_return_conditional_losses, activation_1_layer_call_fn, activation_1_layer_call_and_return_conditional_losses, activation_2_layer_call_fn while saving (showing 5 of 8). These functions will not be directly callable after loading.\n"
     ]
    },
    {
     "name": "stdout",
     "output_type": "stream",
     "text": [
      "INFO:tensorflow:Assets written to: C:\\Users\\ucesvpm\\OneDrive - University College London\\PhD Project\\Data Analytics\\Time Series Clustering\\Third Test\\wandb\\run-20230202_124552-zvxnsa3e\\files\\model-best\\assets\n"
     ]
    },
    {
     "name": "stderr",
     "output_type": "stream",
     "text": [
      "INFO:tensorflow:Assets written to: C:\\Users\\ucesvpm\\OneDrive - University College London\\PhD Project\\Data Analytics\\Time Series Clustering\\Third Test\\wandb\\run-20230202_124552-zvxnsa3e\\files\\model-best\\assets\n",
      "\u001b[34m\u001b[1mwandb\u001b[0m: Adding directory to artifact (C:\\Users\\ucesvpm\\OneDrive - University College London\\PhD Project\\Data Analytics\\Time Series Clustering\\Third Test\\wandb\\run-20230202_124552-zvxnsa3e\\files\\model-best)... Done. 0.0s\n"
     ]
    },
    {
     "name": "stdout",
     "output_type": "stream",
     "text": [
      "460/460 [==============================] - 4s 9ms/step - loss: 0.6020 - mse: 0.6020 - val_loss: 0.6052 - val_mse: 0.6052 - lr: 0.0021\n",
      "Epoch 24/100\n",
      "460/460 [==============================] - ETA: 0s - loss: 0.6014 - mse: 0.6014"
     ]
    },
    {
     "name": "stderr",
     "output_type": "stream",
     "text": [
      "WARNING:absl:Found untraced functions such as activation_layer_call_fn, activation_layer_call_and_return_conditional_losses, activation_1_layer_call_fn, activation_1_layer_call_and_return_conditional_losses, activation_2_layer_call_fn while saving (showing 5 of 8). These functions will not be directly callable after loading.\n"
     ]
    },
    {
     "name": "stdout",
     "output_type": "stream",
     "text": [
      "INFO:tensorflow:Assets written to: C:\\Users\\ucesvpm\\OneDrive - University College London\\PhD Project\\Data Analytics\\Time Series Clustering\\Third Test\\wandb\\run-20230202_124552-zvxnsa3e\\files\\model-best\\assets\n"
     ]
    },
    {
     "name": "stderr",
     "output_type": "stream",
     "text": [
      "INFO:tensorflow:Assets written to: C:\\Users\\ucesvpm\\OneDrive - University College London\\PhD Project\\Data Analytics\\Time Series Clustering\\Third Test\\wandb\\run-20230202_124552-zvxnsa3e\\files\\model-best\\assets\n",
      "\u001b[34m\u001b[1mwandb\u001b[0m: Adding directory to artifact (C:\\Users\\ucesvpm\\OneDrive - University College London\\PhD Project\\Data Analytics\\Time Series Clustering\\Third Test\\wandb\\run-20230202_124552-zvxnsa3e\\files\\model-best)... Done. 0.0s\n"
     ]
    },
    {
     "name": "stdout",
     "output_type": "stream",
     "text": [
      "460/460 [==============================] - 4s 8ms/step - loss: 0.6014 - mse: 0.6014 - val_loss: 0.6046 - val_mse: 0.6046 - lr: 0.0021\n",
      "Epoch 25/100\n",
      "448/460 [============================>.] - ETA: 0s - loss: 0.6007 - mse: 0.6007"
     ]
    },
    {
     "name": "stderr",
     "output_type": "stream",
     "text": [
      "WARNING:absl:Found untraced functions such as activation_layer_call_fn, activation_layer_call_and_return_conditional_losses, activation_1_layer_call_fn, activation_1_layer_call_and_return_conditional_losses, activation_2_layer_call_fn while saving (showing 5 of 8). These functions will not be directly callable after loading.\n"
     ]
    },
    {
     "name": "stdout",
     "output_type": "stream",
     "text": [
      "INFO:tensorflow:Assets written to: C:\\Users\\ucesvpm\\OneDrive - University College London\\PhD Project\\Data Analytics\\Time Series Clustering\\Third Test\\wandb\\run-20230202_124552-zvxnsa3e\\files\\model-best\\assets\n"
     ]
    },
    {
     "name": "stderr",
     "output_type": "stream",
     "text": [
      "INFO:tensorflow:Assets written to: C:\\Users\\ucesvpm\\OneDrive - University College London\\PhD Project\\Data Analytics\\Time Series Clustering\\Third Test\\wandb\\run-20230202_124552-zvxnsa3e\\files\\model-best\\assets\n",
      "\u001b[34m\u001b[1mwandb\u001b[0m: Adding directory to artifact (C:\\Users\\ucesvpm\\OneDrive - University College London\\PhD Project\\Data Analytics\\Time Series Clustering\\Third Test\\wandb\\run-20230202_124552-zvxnsa3e\\files\\model-best)... Done. 0.0s\n"
     ]
    },
    {
     "name": "stdout",
     "output_type": "stream",
     "text": [
      "460/460 [==============================] - 4s 8ms/step - loss: 0.6008 - mse: 0.6008 - val_loss: 0.6041 - val_mse: 0.6041 - lr: 0.0021\n",
      "Epoch 26/100\n",
      "455/460 [============================>.] - ETA: 0s - loss: 0.6002 - mse: 0.6002"
     ]
    },
    {
     "name": "stderr",
     "output_type": "stream",
     "text": [
      "WARNING:absl:Found untraced functions such as activation_layer_call_fn, activation_layer_call_and_return_conditional_losses, activation_1_layer_call_fn, activation_1_layer_call_and_return_conditional_losses, activation_2_layer_call_fn while saving (showing 5 of 8). These functions will not be directly callable after loading.\n"
     ]
    },
    {
     "name": "stdout",
     "output_type": "stream",
     "text": [
      "INFO:tensorflow:Assets written to: C:\\Users\\ucesvpm\\OneDrive - University College London\\PhD Project\\Data Analytics\\Time Series Clustering\\Third Test\\wandb\\run-20230202_124552-zvxnsa3e\\files\\model-best\\assets\n"
     ]
    },
    {
     "name": "stderr",
     "output_type": "stream",
     "text": [
      "INFO:tensorflow:Assets written to: C:\\Users\\ucesvpm\\OneDrive - University College London\\PhD Project\\Data Analytics\\Time Series Clustering\\Third Test\\wandb\\run-20230202_124552-zvxnsa3e\\files\\model-best\\assets\n",
      "\u001b[34m\u001b[1mwandb\u001b[0m: Adding directory to artifact (C:\\Users\\ucesvpm\\OneDrive - University College London\\PhD Project\\Data Analytics\\Time Series Clustering\\Third Test\\wandb\\run-20230202_124552-zvxnsa3e\\files\\model-best)... Done. 0.0s\n"
     ]
    },
    {
     "name": "stdout",
     "output_type": "stream",
     "text": [
      "460/460 [==============================] - 3s 7ms/step - loss: 0.6003 - mse: 0.6003 - val_loss: 0.6036 - val_mse: 0.6036 - lr: 0.0021\n",
      "Epoch 27/100\n",
      "448/460 [============================>.] - ETA: 0s - loss: 0.5999 - mse: 0.5999"
     ]
    },
    {
     "name": "stderr",
     "output_type": "stream",
     "text": [
      "WARNING:absl:Found untraced functions such as activation_layer_call_fn, activation_layer_call_and_return_conditional_losses, activation_1_layer_call_fn, activation_1_layer_call_and_return_conditional_losses, activation_2_layer_call_fn while saving (showing 5 of 8). These functions will not be directly callable after loading.\n"
     ]
    },
    {
     "name": "stdout",
     "output_type": "stream",
     "text": [
      "INFO:tensorflow:Assets written to: C:\\Users\\ucesvpm\\OneDrive - University College London\\PhD Project\\Data Analytics\\Time Series Clustering\\Third Test\\wandb\\run-20230202_124552-zvxnsa3e\\files\\model-best\\assets\n"
     ]
    },
    {
     "name": "stderr",
     "output_type": "stream",
     "text": [
      "INFO:tensorflow:Assets written to: C:\\Users\\ucesvpm\\OneDrive - University College London\\PhD Project\\Data Analytics\\Time Series Clustering\\Third Test\\wandb\\run-20230202_124552-zvxnsa3e\\files\\model-best\\assets\n",
      "\u001b[34m\u001b[1mwandb\u001b[0m: Adding directory to artifact (C:\\Users\\ucesvpm\\OneDrive - University College London\\PhD Project\\Data Analytics\\Time Series Clustering\\Third Test\\wandb\\run-20230202_124552-zvxnsa3e\\files\\model-best)... Done. 0.0s\n"
     ]
    },
    {
     "name": "stdout",
     "output_type": "stream",
     "text": [
      "460/460 [==============================] - 3s 7ms/step - loss: 0.5998 - mse: 0.5998 - val_loss: 0.6031 - val_mse: 0.6031 - lr: 0.0021\n",
      "Epoch 28/100\n",
      "459/460 [============================>.] - ETA: 0s - loss: 0.5993 - mse: 0.5993"
     ]
    },
    {
     "name": "stderr",
     "output_type": "stream",
     "text": [
      "WARNING:absl:Found untraced functions such as activation_layer_call_fn, activation_layer_call_and_return_conditional_losses, activation_1_layer_call_fn, activation_1_layer_call_and_return_conditional_losses, activation_2_layer_call_fn while saving (showing 5 of 8). These functions will not be directly callable after loading.\n"
     ]
    },
    {
     "name": "stdout",
     "output_type": "stream",
     "text": [
      "INFO:tensorflow:Assets written to: C:\\Users\\ucesvpm\\OneDrive - University College London\\PhD Project\\Data Analytics\\Time Series Clustering\\Third Test\\wandb\\run-20230202_124552-zvxnsa3e\\files\\model-best\\assets\n"
     ]
    },
    {
     "name": "stderr",
     "output_type": "stream",
     "text": [
      "INFO:tensorflow:Assets written to: C:\\Users\\ucesvpm\\OneDrive - University College London\\PhD Project\\Data Analytics\\Time Series Clustering\\Third Test\\wandb\\run-20230202_124552-zvxnsa3e\\files\\model-best\\assets\n",
      "\u001b[34m\u001b[1mwandb\u001b[0m: Adding directory to artifact (C:\\Users\\ucesvpm\\OneDrive - University College London\\PhD Project\\Data Analytics\\Time Series Clustering\\Third Test\\wandb\\run-20230202_124552-zvxnsa3e\\files\\model-best)... Done. 0.0s\n"
     ]
    },
    {
     "name": "stdout",
     "output_type": "stream",
     "text": [
      "460/460 [==============================] - 3s 7ms/step - loss: 0.5993 - mse: 0.5993 - val_loss: 0.6026 - val_mse: 0.6026 - lr: 0.0021\n",
      "Epoch 29/100\n",
      "450/460 [============================>.] - ETA: 0s - loss: 0.5991 - mse: 0.5991"
     ]
    },
    {
     "name": "stderr",
     "output_type": "stream",
     "text": [
      "WARNING:absl:Found untraced functions such as activation_layer_call_fn, activation_layer_call_and_return_conditional_losses, activation_1_layer_call_fn, activation_1_layer_call_and_return_conditional_losses, activation_2_layer_call_fn while saving (showing 5 of 8). These functions will not be directly callable after loading.\n"
     ]
    },
    {
     "name": "stdout",
     "output_type": "stream",
     "text": [
      "INFO:tensorflow:Assets written to: C:\\Users\\ucesvpm\\OneDrive - University College London\\PhD Project\\Data Analytics\\Time Series Clustering\\Third Test\\wandb\\run-20230202_124552-zvxnsa3e\\files\\model-best\\assets\n"
     ]
    },
    {
     "name": "stderr",
     "output_type": "stream",
     "text": [
      "INFO:tensorflow:Assets written to: C:\\Users\\ucesvpm\\OneDrive - University College London\\PhD Project\\Data Analytics\\Time Series Clustering\\Third Test\\wandb\\run-20230202_124552-zvxnsa3e\\files\\model-best\\assets\n",
      "\u001b[34m\u001b[1mwandb\u001b[0m: Adding directory to artifact (C:\\Users\\ucesvpm\\OneDrive - University College London\\PhD Project\\Data Analytics\\Time Series Clustering\\Third Test\\wandb\\run-20230202_124552-zvxnsa3e\\files\\model-best)... Done. 0.0s\n"
     ]
    },
    {
     "name": "stdout",
     "output_type": "stream",
     "text": [
      "460/460 [==============================] - 3s 7ms/step - loss: 0.5988 - mse: 0.5988 - val_loss: 0.6022 - val_mse: 0.6022 - lr: 0.0021\n",
      "Epoch 30/100\n",
      "458/460 [============================>.] - ETA: 0s - loss: 0.5983 - mse: 0.5983"
     ]
    },
    {
     "name": "stderr",
     "output_type": "stream",
     "text": [
      "WARNING:absl:Found untraced functions such as activation_layer_call_fn, activation_layer_call_and_return_conditional_losses, activation_1_layer_call_fn, activation_1_layer_call_and_return_conditional_losses, activation_2_layer_call_fn while saving (showing 5 of 8). These functions will not be directly callable after loading.\n"
     ]
    },
    {
     "name": "stdout",
     "output_type": "stream",
     "text": [
      "INFO:tensorflow:Assets written to: C:\\Users\\ucesvpm\\OneDrive - University College London\\PhD Project\\Data Analytics\\Time Series Clustering\\Third Test\\wandb\\run-20230202_124552-zvxnsa3e\\files\\model-best\\assets\n"
     ]
    },
    {
     "name": "stderr",
     "output_type": "stream",
     "text": [
      "INFO:tensorflow:Assets written to: C:\\Users\\ucesvpm\\OneDrive - University College London\\PhD Project\\Data Analytics\\Time Series Clustering\\Third Test\\wandb\\run-20230202_124552-zvxnsa3e\\files\\model-best\\assets\n",
      "\u001b[34m\u001b[1mwandb\u001b[0m: Adding directory to artifact (C:\\Users\\ucesvpm\\OneDrive - University College London\\PhD Project\\Data Analytics\\Time Series Clustering\\Third Test\\wandb\\run-20230202_124552-zvxnsa3e\\files\\model-best)... Done. 0.0s\n"
     ]
    },
    {
     "name": "stdout",
     "output_type": "stream",
     "text": [
      "460/460 [==============================] - 3s 8ms/step - loss: 0.5983 - mse: 0.5983 - val_loss: 0.6018 - val_mse: 0.6018 - lr: 0.0021\n",
      "Epoch 31/100\n",
      "460/460 [==============================] - ETA: 0s - loss: 0.5979 - mse: 0.5979"
     ]
    },
    {
     "name": "stderr",
     "output_type": "stream",
     "text": [
      "WARNING:absl:Found untraced functions such as activation_layer_call_fn, activation_layer_call_and_return_conditional_losses, activation_1_layer_call_fn, activation_1_layer_call_and_return_conditional_losses, activation_2_layer_call_fn while saving (showing 5 of 8). These functions will not be directly callable after loading.\n"
     ]
    },
    {
     "name": "stdout",
     "output_type": "stream",
     "text": [
      "INFO:tensorflow:Assets written to: C:\\Users\\ucesvpm\\OneDrive - University College London\\PhD Project\\Data Analytics\\Time Series Clustering\\Third Test\\wandb\\run-20230202_124552-zvxnsa3e\\files\\model-best\\assets\n"
     ]
    },
    {
     "name": "stderr",
     "output_type": "stream",
     "text": [
      "INFO:tensorflow:Assets written to: C:\\Users\\ucesvpm\\OneDrive - University College London\\PhD Project\\Data Analytics\\Time Series Clustering\\Third Test\\wandb\\run-20230202_124552-zvxnsa3e\\files\\model-best\\assets\n",
      "\u001b[34m\u001b[1mwandb\u001b[0m: Adding directory to artifact (C:\\Users\\ucesvpm\\OneDrive - University College London\\PhD Project\\Data Analytics\\Time Series Clustering\\Third Test\\wandb\\run-20230202_124552-zvxnsa3e\\files\\model-best)... Done. 0.0s\n"
     ]
    },
    {
     "name": "stdout",
     "output_type": "stream",
     "text": [
      "460/460 [==============================] - 3s 7ms/step - loss: 0.5979 - mse: 0.5979 - val_loss: 0.6014 - val_mse: 0.6014 - lr: 0.0021\n",
      "Epoch 32/100\n",
      "456/460 [============================>.] - ETA: 0s - loss: 0.5977 - mse: 0.5977"
     ]
    },
    {
     "name": "stderr",
     "output_type": "stream",
     "text": [
      "WARNING:absl:Found untraced functions such as activation_layer_call_fn, activation_layer_call_and_return_conditional_losses, activation_1_layer_call_fn, activation_1_layer_call_and_return_conditional_losses, activation_2_layer_call_fn while saving (showing 5 of 8). These functions will not be directly callable after loading.\n"
     ]
    },
    {
     "name": "stdout",
     "output_type": "stream",
     "text": [
      "INFO:tensorflow:Assets written to: C:\\Users\\ucesvpm\\OneDrive - University College London\\PhD Project\\Data Analytics\\Time Series Clustering\\Third Test\\wandb\\run-20230202_124552-zvxnsa3e\\files\\model-best\\assets\n"
     ]
    },
    {
     "name": "stderr",
     "output_type": "stream",
     "text": [
      "INFO:tensorflow:Assets written to: C:\\Users\\ucesvpm\\OneDrive - University College London\\PhD Project\\Data Analytics\\Time Series Clustering\\Third Test\\wandb\\run-20230202_124552-zvxnsa3e\\files\\model-best\\assets\n",
      "\u001b[34m\u001b[1mwandb\u001b[0m: Adding directory to artifact (C:\\Users\\ucesvpm\\OneDrive - University College London\\PhD Project\\Data Analytics\\Time Series Clustering\\Third Test\\wandb\\run-20230202_124552-zvxnsa3e\\files\\model-best)... Done. 0.0s\n"
     ]
    },
    {
     "name": "stdout",
     "output_type": "stream",
     "text": [
      "460/460 [==============================] - 3s 7ms/step - loss: 0.5975 - mse: 0.5975 - val_loss: 0.6010 - val_mse: 0.6010 - lr: 0.0021\n",
      "Epoch 33/100\n",
      "445/460 [============================>.] - ETA: 0s - loss: 0.5968 - mse: 0.5968"
     ]
    },
    {
     "name": "stderr",
     "output_type": "stream",
     "text": [
      "WARNING:absl:Found untraced functions such as activation_layer_call_fn, activation_layer_call_and_return_conditional_losses, activation_1_layer_call_fn, activation_1_layer_call_and_return_conditional_losses, activation_2_layer_call_fn while saving (showing 5 of 8). These functions will not be directly callable after loading.\n"
     ]
    },
    {
     "name": "stdout",
     "output_type": "stream",
     "text": [
      "INFO:tensorflow:Assets written to: C:\\Users\\ucesvpm\\OneDrive - University College London\\PhD Project\\Data Analytics\\Time Series Clustering\\Third Test\\wandb\\run-20230202_124552-zvxnsa3e\\files\\model-best\\assets\n"
     ]
    },
    {
     "name": "stderr",
     "output_type": "stream",
     "text": [
      "INFO:tensorflow:Assets written to: C:\\Users\\ucesvpm\\OneDrive - University College London\\PhD Project\\Data Analytics\\Time Series Clustering\\Third Test\\wandb\\run-20230202_124552-zvxnsa3e\\files\\model-best\\assets\n",
      "\u001b[34m\u001b[1mwandb\u001b[0m: Adding directory to artifact (C:\\Users\\ucesvpm\\OneDrive - University College London\\PhD Project\\Data Analytics\\Time Series Clustering\\Third Test\\wandb\\run-20230202_124552-zvxnsa3e\\files\\model-best)... Done. 0.0s\n"
     ]
    },
    {
     "name": "stdout",
     "output_type": "stream",
     "text": [
      "460/460 [==============================] - 3s 8ms/step - loss: 0.5970 - mse: 0.5970 - val_loss: 0.6005 - val_mse: 0.6005 - lr: 0.0021\n",
      "Epoch 34/100\n",
      "456/460 [============================>.] - ETA: 0s - loss: 0.5966 - mse: 0.5966"
     ]
    },
    {
     "name": "stderr",
     "output_type": "stream",
     "text": [
      "WARNING:absl:Found untraced functions such as activation_layer_call_fn, activation_layer_call_and_return_conditional_losses, activation_1_layer_call_fn, activation_1_layer_call_and_return_conditional_losses, activation_2_layer_call_fn while saving (showing 5 of 8). These functions will not be directly callable after loading.\n"
     ]
    },
    {
     "name": "stdout",
     "output_type": "stream",
     "text": [
      "INFO:tensorflow:Assets written to: C:\\Users\\ucesvpm\\OneDrive - University College London\\PhD Project\\Data Analytics\\Time Series Clustering\\Third Test\\wandb\\run-20230202_124552-zvxnsa3e\\files\\model-best\\assets\n"
     ]
    },
    {
     "name": "stderr",
     "output_type": "stream",
     "text": [
      "INFO:tensorflow:Assets written to: C:\\Users\\ucesvpm\\OneDrive - University College London\\PhD Project\\Data Analytics\\Time Series Clustering\\Third Test\\wandb\\run-20230202_124552-zvxnsa3e\\files\\model-best\\assets\n",
      "\u001b[34m\u001b[1mwandb\u001b[0m: Adding directory to artifact (C:\\Users\\ucesvpm\\OneDrive - University College London\\PhD Project\\Data Analytics\\Time Series Clustering\\Third Test\\wandb\\run-20230202_124552-zvxnsa3e\\files\\model-best)... Done. 0.0s\n"
     ]
    },
    {
     "name": "stdout",
     "output_type": "stream",
     "text": [
      "460/460 [==============================] - 3s 7ms/step - loss: 0.5966 - mse: 0.5966 - val_loss: 0.6002 - val_mse: 0.6002 - lr: 0.0021\n",
      "Epoch 35/100\n",
      "457/460 [============================>.] - ETA: 0s - loss: 0.5963 - mse: 0.5963"
     ]
    },
    {
     "name": "stderr",
     "output_type": "stream",
     "text": [
      "WARNING:absl:Found untraced functions such as activation_layer_call_fn, activation_layer_call_and_return_conditional_losses, activation_1_layer_call_fn, activation_1_layer_call_and_return_conditional_losses, activation_2_layer_call_fn while saving (showing 5 of 8). These functions will not be directly callable after loading.\n"
     ]
    },
    {
     "name": "stdout",
     "output_type": "stream",
     "text": [
      "INFO:tensorflow:Assets written to: C:\\Users\\ucesvpm\\OneDrive - University College London\\PhD Project\\Data Analytics\\Time Series Clustering\\Third Test\\wandb\\run-20230202_124552-zvxnsa3e\\files\\model-best\\assets\n"
     ]
    },
    {
     "name": "stderr",
     "output_type": "stream",
     "text": [
      "INFO:tensorflow:Assets written to: C:\\Users\\ucesvpm\\OneDrive - University College London\\PhD Project\\Data Analytics\\Time Series Clustering\\Third Test\\wandb\\run-20230202_124552-zvxnsa3e\\files\\model-best\\assets\n",
      "\u001b[34m\u001b[1mwandb\u001b[0m: Adding directory to artifact (C:\\Users\\ucesvpm\\OneDrive - University College London\\PhD Project\\Data Analytics\\Time Series Clustering\\Third Test\\wandb\\run-20230202_124552-zvxnsa3e\\files\\model-best)... Done. 0.0s\n"
     ]
    },
    {
     "name": "stdout",
     "output_type": "stream",
     "text": [
      "460/460 [==============================] - 3s 7ms/step - loss: 0.5962 - mse: 0.5962 - val_loss: 0.5998 - val_mse: 0.5998 - lr: 0.0021\n",
      "Epoch 36/100\n",
      "456/460 [============================>.] - ETA: 0s - loss: 0.5959 - mse: 0.5959"
     ]
    },
    {
     "name": "stderr",
     "output_type": "stream",
     "text": [
      "WARNING:absl:Found untraced functions such as activation_layer_call_fn, activation_layer_call_and_return_conditional_losses, activation_1_layer_call_fn, activation_1_layer_call_and_return_conditional_losses, activation_2_layer_call_fn while saving (showing 5 of 8). These functions will not be directly callable after loading.\n"
     ]
    },
    {
     "name": "stdout",
     "output_type": "stream",
     "text": [
      "INFO:tensorflow:Assets written to: C:\\Users\\ucesvpm\\OneDrive - University College London\\PhD Project\\Data Analytics\\Time Series Clustering\\Third Test\\wandb\\run-20230202_124552-zvxnsa3e\\files\\model-best\\assets\n"
     ]
    },
    {
     "name": "stderr",
     "output_type": "stream",
     "text": [
      "INFO:tensorflow:Assets written to: C:\\Users\\ucesvpm\\OneDrive - University College London\\PhD Project\\Data Analytics\\Time Series Clustering\\Third Test\\wandb\\run-20230202_124552-zvxnsa3e\\files\\model-best\\assets\n",
      "\u001b[34m\u001b[1mwandb\u001b[0m: Adding directory to artifact (C:\\Users\\ucesvpm\\OneDrive - University College London\\PhD Project\\Data Analytics\\Time Series Clustering\\Third Test\\wandb\\run-20230202_124552-zvxnsa3e\\files\\model-best)... Done. 0.0s\n"
     ]
    },
    {
     "name": "stdout",
     "output_type": "stream",
     "text": [
      "460/460 [==============================] - 3s 7ms/step - loss: 0.5958 - mse: 0.5958 - val_loss: 0.5994 - val_mse: 0.5994 - lr: 0.0021\n",
      "Epoch 37/100\n",
      "453/460 [============================>.] - ETA: 0s - loss: 0.5955 - mse: 0.5955"
     ]
    },
    {
     "name": "stderr",
     "output_type": "stream",
     "text": [
      "WARNING:absl:Found untraced functions such as activation_layer_call_fn, activation_layer_call_and_return_conditional_losses, activation_1_layer_call_fn, activation_1_layer_call_and_return_conditional_losses, activation_2_layer_call_fn while saving (showing 5 of 8). These functions will not be directly callable after loading.\n"
     ]
    },
    {
     "name": "stdout",
     "output_type": "stream",
     "text": [
      "INFO:tensorflow:Assets written to: C:\\Users\\ucesvpm\\OneDrive - University College London\\PhD Project\\Data Analytics\\Time Series Clustering\\Third Test\\wandb\\run-20230202_124552-zvxnsa3e\\files\\model-best\\assets\n"
     ]
    },
    {
     "name": "stderr",
     "output_type": "stream",
     "text": [
      "INFO:tensorflow:Assets written to: C:\\Users\\ucesvpm\\OneDrive - University College London\\PhD Project\\Data Analytics\\Time Series Clustering\\Third Test\\wandb\\run-20230202_124552-zvxnsa3e\\files\\model-best\\assets\n",
      "\u001b[34m\u001b[1mwandb\u001b[0m: Adding directory to artifact (C:\\Users\\ucesvpm\\OneDrive - University College London\\PhD Project\\Data Analytics\\Time Series Clustering\\Third Test\\wandb\\run-20230202_124552-zvxnsa3e\\files\\model-best)... Done. 0.0s\n"
     ]
    },
    {
     "name": "stdout",
     "output_type": "stream",
     "text": [
      "460/460 [==============================] - 3s 7ms/step - loss: 0.5954 - mse: 0.5954 - val_loss: 0.5991 - val_mse: 0.5991 - lr: 0.0021\n",
      "Epoch 38/100\n",
      "451/460 [============================>.] - ETA: 0s - loss: 0.5954 - mse: 0.5954"
     ]
    },
    {
     "name": "stderr",
     "output_type": "stream",
     "text": [
      "WARNING:absl:Found untraced functions such as activation_layer_call_fn, activation_layer_call_and_return_conditional_losses, activation_1_layer_call_fn, activation_1_layer_call_and_return_conditional_losses, activation_2_layer_call_fn while saving (showing 5 of 8). These functions will not be directly callable after loading.\n"
     ]
    },
    {
     "name": "stdout",
     "output_type": "stream",
     "text": [
      "INFO:tensorflow:Assets written to: C:\\Users\\ucesvpm\\OneDrive - University College London\\PhD Project\\Data Analytics\\Time Series Clustering\\Third Test\\wandb\\run-20230202_124552-zvxnsa3e\\files\\model-best\\assets\n"
     ]
    },
    {
     "name": "stderr",
     "output_type": "stream",
     "text": [
      "INFO:tensorflow:Assets written to: C:\\Users\\ucesvpm\\OneDrive - University College London\\PhD Project\\Data Analytics\\Time Series Clustering\\Third Test\\wandb\\run-20230202_124552-zvxnsa3e\\files\\model-best\\assets\n",
      "\u001b[34m\u001b[1mwandb\u001b[0m: Adding directory to artifact (C:\\Users\\ucesvpm\\OneDrive - University College London\\PhD Project\\Data Analytics\\Time Series Clustering\\Third Test\\wandb\\run-20230202_124552-zvxnsa3e\\files\\model-best)... Done. 0.0s\n"
     ]
    },
    {
     "name": "stdout",
     "output_type": "stream",
     "text": [
      "460/460 [==============================] - 4s 8ms/step - loss: 0.5951 - mse: 0.5951 - val_loss: 0.5988 - val_mse: 0.5988 - lr: 0.0021\n",
      "Epoch 39/100\n",
      "458/460 [============================>.] - ETA: 0s - loss: 0.5947 - mse: 0.5947"
     ]
    },
    {
     "name": "stderr",
     "output_type": "stream",
     "text": [
      "WARNING:absl:Found untraced functions such as activation_layer_call_fn, activation_layer_call_and_return_conditional_losses, activation_1_layer_call_fn, activation_1_layer_call_and_return_conditional_losses, activation_2_layer_call_fn while saving (showing 5 of 8). These functions will not be directly callable after loading.\n"
     ]
    },
    {
     "name": "stdout",
     "output_type": "stream",
     "text": [
      "INFO:tensorflow:Assets written to: C:\\Users\\ucesvpm\\OneDrive - University College London\\PhD Project\\Data Analytics\\Time Series Clustering\\Third Test\\wandb\\run-20230202_124552-zvxnsa3e\\files\\model-best\\assets\n"
     ]
    },
    {
     "name": "stderr",
     "output_type": "stream",
     "text": [
      "INFO:tensorflow:Assets written to: C:\\Users\\ucesvpm\\OneDrive - University College London\\PhD Project\\Data Analytics\\Time Series Clustering\\Third Test\\wandb\\run-20230202_124552-zvxnsa3e\\files\\model-best\\assets\n",
      "\u001b[34m\u001b[1mwandb\u001b[0m: Adding directory to artifact (C:\\Users\\ucesvpm\\OneDrive - University College London\\PhD Project\\Data Analytics\\Time Series Clustering\\Third Test\\wandb\\run-20230202_124552-zvxnsa3e\\files\\model-best)... Done. 0.0s\n"
     ]
    },
    {
     "name": "stdout",
     "output_type": "stream",
     "text": [
      "460/460 [==============================] - 4s 9ms/step - loss: 0.5947 - mse: 0.5947 - val_loss: 0.5984 - val_mse: 0.5984 - lr: 0.0021\n",
      "Epoch 40/100\n",
      "452/460 [============================>.] - ETA: 0s - loss: 0.5943 - mse: 0.5943"
     ]
    },
    {
     "name": "stderr",
     "output_type": "stream",
     "text": [
      "WARNING:absl:Found untraced functions such as activation_layer_call_fn, activation_layer_call_and_return_conditional_losses, activation_1_layer_call_fn, activation_1_layer_call_and_return_conditional_losses, activation_2_layer_call_fn while saving (showing 5 of 8). These functions will not be directly callable after loading.\n"
     ]
    },
    {
     "name": "stdout",
     "output_type": "stream",
     "text": [
      "INFO:tensorflow:Assets written to: C:\\Users\\ucesvpm\\OneDrive - University College London\\PhD Project\\Data Analytics\\Time Series Clustering\\Third Test\\wandb\\run-20230202_124552-zvxnsa3e\\files\\model-best\\assets\n"
     ]
    },
    {
     "name": "stderr",
     "output_type": "stream",
     "text": [
      "INFO:tensorflow:Assets written to: C:\\Users\\ucesvpm\\OneDrive - University College London\\PhD Project\\Data Analytics\\Time Series Clustering\\Third Test\\wandb\\run-20230202_124552-zvxnsa3e\\files\\model-best\\assets\n",
      "\u001b[34m\u001b[1mwandb\u001b[0m: Adding directory to artifact (C:\\Users\\ucesvpm\\OneDrive - University College London\\PhD Project\\Data Analytics\\Time Series Clustering\\Third Test\\wandb\\run-20230202_124552-zvxnsa3e\\files\\model-best)... Done. 0.0s\n"
     ]
    },
    {
     "name": "stdout",
     "output_type": "stream",
     "text": [
      "460/460 [==============================] - 3s 7ms/step - loss: 0.5943 - mse: 0.5943 - val_loss: 0.5980 - val_mse: 0.5980 - lr: 0.0021\n",
      "Epoch 41/100\n",
      "456/460 [============================>.] - ETA: 0s - loss: 0.5939 - mse: 0.5939"
     ]
    },
    {
     "name": "stderr",
     "output_type": "stream",
     "text": [
      "WARNING:absl:Found untraced functions such as activation_layer_call_fn, activation_layer_call_and_return_conditional_losses, activation_1_layer_call_fn, activation_1_layer_call_and_return_conditional_losses, activation_2_layer_call_fn while saving (showing 5 of 8). These functions will not be directly callable after loading.\n"
     ]
    },
    {
     "name": "stdout",
     "output_type": "stream",
     "text": [
      "INFO:tensorflow:Assets written to: C:\\Users\\ucesvpm\\OneDrive - University College London\\PhD Project\\Data Analytics\\Time Series Clustering\\Third Test\\wandb\\run-20230202_124552-zvxnsa3e\\files\\model-best\\assets\n"
     ]
    },
    {
     "name": "stderr",
     "output_type": "stream",
     "text": [
      "INFO:tensorflow:Assets written to: C:\\Users\\ucesvpm\\OneDrive - University College London\\PhD Project\\Data Analytics\\Time Series Clustering\\Third Test\\wandb\\run-20230202_124552-zvxnsa3e\\files\\model-best\\assets\n",
      "\u001b[34m\u001b[1mwandb\u001b[0m: Adding directory to artifact (C:\\Users\\ucesvpm\\OneDrive - University College London\\PhD Project\\Data Analytics\\Time Series Clustering\\Third Test\\wandb\\run-20230202_124552-zvxnsa3e\\files\\model-best)... Done. 0.0s\n"
     ]
    },
    {
     "name": "stdout",
     "output_type": "stream",
     "text": [
      "460/460 [==============================] - 3s 7ms/step - loss: 0.5940 - mse: 0.5940 - val_loss: 0.5978 - val_mse: 0.5978 - lr: 0.0021\n",
      "Epoch 42/100\n",
      "459/460 [============================>.] - ETA: 0s - loss: 0.5936 - mse: 0.5936"
     ]
    },
    {
     "name": "stderr",
     "output_type": "stream",
     "text": [
      "WARNING:absl:Found untraced functions such as activation_layer_call_fn, activation_layer_call_and_return_conditional_losses, activation_1_layer_call_fn, activation_1_layer_call_and_return_conditional_losses, activation_2_layer_call_fn while saving (showing 5 of 8). These functions will not be directly callable after loading.\n"
     ]
    },
    {
     "name": "stdout",
     "output_type": "stream",
     "text": [
      "INFO:tensorflow:Assets written to: C:\\Users\\ucesvpm\\OneDrive - University College London\\PhD Project\\Data Analytics\\Time Series Clustering\\Third Test\\wandb\\run-20230202_124552-zvxnsa3e\\files\\model-best\\assets\n"
     ]
    },
    {
     "name": "stderr",
     "output_type": "stream",
     "text": [
      "INFO:tensorflow:Assets written to: C:\\Users\\ucesvpm\\OneDrive - University College London\\PhD Project\\Data Analytics\\Time Series Clustering\\Third Test\\wandb\\run-20230202_124552-zvxnsa3e\\files\\model-best\\assets\n",
      "\u001b[34m\u001b[1mwandb\u001b[0m: Adding directory to artifact (C:\\Users\\ucesvpm\\OneDrive - University College London\\PhD Project\\Data Analytics\\Time Series Clustering\\Third Test\\wandb\\run-20230202_124552-zvxnsa3e\\files\\model-best)... Done. 0.0s\n"
     ]
    },
    {
     "name": "stdout",
     "output_type": "stream",
     "text": [
      "460/460 [==============================] - 4s 8ms/step - loss: 0.5936 - mse: 0.5936 - val_loss: 0.5974 - val_mse: 0.5974 - lr: 0.0021\n",
      "Epoch 43/100\n",
      "455/460 [============================>.] - ETA: 0s - loss: 0.5934 - mse: 0.5934"
     ]
    },
    {
     "name": "stderr",
     "output_type": "stream",
     "text": [
      "WARNING:absl:Found untraced functions such as activation_layer_call_fn, activation_layer_call_and_return_conditional_losses, activation_1_layer_call_fn, activation_1_layer_call_and_return_conditional_losses, activation_2_layer_call_fn while saving (showing 5 of 8). These functions will not be directly callable after loading.\n"
     ]
    },
    {
     "name": "stdout",
     "output_type": "stream",
     "text": [
      "INFO:tensorflow:Assets written to: C:\\Users\\ucesvpm\\OneDrive - University College London\\PhD Project\\Data Analytics\\Time Series Clustering\\Third Test\\wandb\\run-20230202_124552-zvxnsa3e\\files\\model-best\\assets\n"
     ]
    },
    {
     "name": "stderr",
     "output_type": "stream",
     "text": [
      "INFO:tensorflow:Assets written to: C:\\Users\\ucesvpm\\OneDrive - University College London\\PhD Project\\Data Analytics\\Time Series Clustering\\Third Test\\wandb\\run-20230202_124552-zvxnsa3e\\files\\model-best\\assets\n",
      "\u001b[34m\u001b[1mwandb\u001b[0m: Adding directory to artifact (C:\\Users\\ucesvpm\\OneDrive - University College London\\PhD Project\\Data Analytics\\Time Series Clustering\\Third Test\\wandb\\run-20230202_124552-zvxnsa3e\\files\\model-best)... Done. 0.0s\n"
     ]
    },
    {
     "name": "stdout",
     "output_type": "stream",
     "text": [
      "460/460 [==============================] - 4s 8ms/step - loss: 0.5933 - mse: 0.5933 - val_loss: 0.5971 - val_mse: 0.5971 - lr: 0.0021\n",
      "Epoch 44/100\n",
      "454/460 [============================>.] - ETA: 0s - loss: 0.5930 - mse: 0.5930"
     ]
    },
    {
     "name": "stderr",
     "output_type": "stream",
     "text": [
      "WARNING:absl:Found untraced functions such as activation_layer_call_fn, activation_layer_call_and_return_conditional_losses, activation_1_layer_call_fn, activation_1_layer_call_and_return_conditional_losses, activation_2_layer_call_fn while saving (showing 5 of 8). These functions will not be directly callable after loading.\n"
     ]
    },
    {
     "name": "stdout",
     "output_type": "stream",
     "text": [
      "INFO:tensorflow:Assets written to: C:\\Users\\ucesvpm\\OneDrive - University College London\\PhD Project\\Data Analytics\\Time Series Clustering\\Third Test\\wandb\\run-20230202_124552-zvxnsa3e\\files\\model-best\\assets\n"
     ]
    },
    {
     "name": "stderr",
     "output_type": "stream",
     "text": [
      "INFO:tensorflow:Assets written to: C:\\Users\\ucesvpm\\OneDrive - University College London\\PhD Project\\Data Analytics\\Time Series Clustering\\Third Test\\wandb\\run-20230202_124552-zvxnsa3e\\files\\model-best\\assets\n",
      "\u001b[34m\u001b[1mwandb\u001b[0m: Adding directory to artifact (C:\\Users\\ucesvpm\\OneDrive - University College London\\PhD Project\\Data Analytics\\Time Series Clustering\\Third Test\\wandb\\run-20230202_124552-zvxnsa3e\\files\\model-best)... Done. 0.0s\n"
     ]
    },
    {
     "name": "stdout",
     "output_type": "stream",
     "text": [
      "460/460 [==============================] - 4s 8ms/step - loss: 0.5930 - mse: 0.5930 - val_loss: 0.5968 - val_mse: 0.5968 - lr: 0.0021\n",
      "Epoch 45/100\n",
      "443/460 [===========================>..] - ETA: 0s - loss: 0.5926 - mse: 0.5926"
     ]
    },
    {
     "name": "stderr",
     "output_type": "stream",
     "text": [
      "WARNING:absl:Found untraced functions such as activation_layer_call_fn, activation_layer_call_and_return_conditional_losses, activation_1_layer_call_fn, activation_1_layer_call_and_return_conditional_losses, activation_2_layer_call_fn while saving (showing 5 of 8). These functions will not be directly callable after loading.\n"
     ]
    },
    {
     "name": "stdout",
     "output_type": "stream",
     "text": [
      "INFO:tensorflow:Assets written to: C:\\Users\\ucesvpm\\OneDrive - University College London\\PhD Project\\Data Analytics\\Time Series Clustering\\Third Test\\wandb\\run-20230202_124552-zvxnsa3e\\files\\model-best\\assets\n"
     ]
    },
    {
     "name": "stderr",
     "output_type": "stream",
     "text": [
      "INFO:tensorflow:Assets written to: C:\\Users\\ucesvpm\\OneDrive - University College London\\PhD Project\\Data Analytics\\Time Series Clustering\\Third Test\\wandb\\run-20230202_124552-zvxnsa3e\\files\\model-best\\assets\n",
      "\u001b[34m\u001b[1mwandb\u001b[0m: Adding directory to artifact (C:\\Users\\ucesvpm\\OneDrive - University College London\\PhD Project\\Data Analytics\\Time Series Clustering\\Third Test\\wandb\\run-20230202_124552-zvxnsa3e\\files\\model-best)... Done. 0.0s\n"
     ]
    },
    {
     "name": "stdout",
     "output_type": "stream",
     "text": [
      "460/460 [==============================] - 4s 8ms/step - loss: 0.5926 - mse: 0.5926 - val_loss: 0.5965 - val_mse: 0.5965 - lr: 0.0021\n",
      "Epoch 46/100\n",
      "449/460 [============================>.] - ETA: 0s - loss: 0.5924 - mse: 0.5924"
     ]
    },
    {
     "name": "stderr",
     "output_type": "stream",
     "text": [
      "WARNING:absl:Found untraced functions such as activation_layer_call_fn, activation_layer_call_and_return_conditional_losses, activation_1_layer_call_fn, activation_1_layer_call_and_return_conditional_losses, activation_2_layer_call_fn while saving (showing 5 of 8). These functions will not be directly callable after loading.\n"
     ]
    },
    {
     "name": "stdout",
     "output_type": "stream",
     "text": [
      "INFO:tensorflow:Assets written to: C:\\Users\\ucesvpm\\OneDrive - University College London\\PhD Project\\Data Analytics\\Time Series Clustering\\Third Test\\wandb\\run-20230202_124552-zvxnsa3e\\files\\model-best\\assets\n"
     ]
    },
    {
     "name": "stderr",
     "output_type": "stream",
     "text": [
      "INFO:tensorflow:Assets written to: C:\\Users\\ucesvpm\\OneDrive - University College London\\PhD Project\\Data Analytics\\Time Series Clustering\\Third Test\\wandb\\run-20230202_124552-zvxnsa3e\\files\\model-best\\assets\n",
      "\u001b[34m\u001b[1mwandb\u001b[0m: Adding directory to artifact (C:\\Users\\ucesvpm\\OneDrive - University College London\\PhD Project\\Data Analytics\\Time Series Clustering\\Third Test\\wandb\\run-20230202_124552-zvxnsa3e\\files\\model-best)... Done. 0.0s\n"
     ]
    },
    {
     "name": "stdout",
     "output_type": "stream",
     "text": [
      "460/460 [==============================] - 3s 7ms/step - loss: 0.5923 - mse: 0.5923 - val_loss: 0.5962 - val_mse: 0.5962 - lr: 0.0021\n",
      "Epoch 47/100\n",
      "446/460 [============================>.] - ETA: 0s - loss: 0.5920 - mse: 0.5920"
     ]
    },
    {
     "name": "stderr",
     "output_type": "stream",
     "text": [
      "WARNING:absl:Found untraced functions such as activation_layer_call_fn, activation_layer_call_and_return_conditional_losses, activation_1_layer_call_fn, activation_1_layer_call_and_return_conditional_losses, activation_2_layer_call_fn while saving (showing 5 of 8). These functions will not be directly callable after loading.\n"
     ]
    },
    {
     "name": "stdout",
     "output_type": "stream",
     "text": [
      "INFO:tensorflow:Assets written to: C:\\Users\\ucesvpm\\OneDrive - University College London\\PhD Project\\Data Analytics\\Time Series Clustering\\Third Test\\wandb\\run-20230202_124552-zvxnsa3e\\files\\model-best\\assets\n"
     ]
    },
    {
     "name": "stderr",
     "output_type": "stream",
     "text": [
      "INFO:tensorflow:Assets written to: C:\\Users\\ucesvpm\\OneDrive - University College London\\PhD Project\\Data Analytics\\Time Series Clustering\\Third Test\\wandb\\run-20230202_124552-zvxnsa3e\\files\\model-best\\assets\n",
      "\u001b[34m\u001b[1mwandb\u001b[0m: Adding directory to artifact (C:\\Users\\ucesvpm\\OneDrive - University College London\\PhD Project\\Data Analytics\\Time Series Clustering\\Third Test\\wandb\\run-20230202_124552-zvxnsa3e\\files\\model-best)... Done. 0.0s\n"
     ]
    },
    {
     "name": "stdout",
     "output_type": "stream",
     "text": [
      "460/460 [==============================] - 3s 7ms/step - loss: 0.5920 - mse: 0.5920 - val_loss: 0.5958 - val_mse: 0.5958 - lr: 0.0021\n",
      "Epoch 48/100\n",
      "459/460 [============================>.] - ETA: 0s - loss: 0.5915 - mse: 0.5915"
     ]
    },
    {
     "name": "stderr",
     "output_type": "stream",
     "text": [
      "WARNING:absl:Found untraced functions such as activation_layer_call_fn, activation_layer_call_and_return_conditional_losses, activation_1_layer_call_fn, activation_1_layer_call_and_return_conditional_losses, activation_2_layer_call_fn while saving (showing 5 of 8). These functions will not be directly callable after loading.\n"
     ]
    },
    {
     "name": "stdout",
     "output_type": "stream",
     "text": [
      "INFO:tensorflow:Assets written to: C:\\Users\\ucesvpm\\OneDrive - University College London\\PhD Project\\Data Analytics\\Time Series Clustering\\Third Test\\wandb\\run-20230202_124552-zvxnsa3e\\files\\model-best\\assets\n"
     ]
    },
    {
     "name": "stderr",
     "output_type": "stream",
     "text": [
      "INFO:tensorflow:Assets written to: C:\\Users\\ucesvpm\\OneDrive - University College London\\PhD Project\\Data Analytics\\Time Series Clustering\\Third Test\\wandb\\run-20230202_124552-zvxnsa3e\\files\\model-best\\assets\n",
      "\u001b[34m\u001b[1mwandb\u001b[0m: Adding directory to artifact (C:\\Users\\ucesvpm\\OneDrive - University College London\\PhD Project\\Data Analytics\\Time Series Clustering\\Third Test\\wandb\\run-20230202_124552-zvxnsa3e\\files\\model-best)... Done. 0.0s\n"
     ]
    },
    {
     "name": "stdout",
     "output_type": "stream",
     "text": [
      "460/460 [==============================] - 4s 9ms/step - loss: 0.5917 - mse: 0.5917 - val_loss: 0.5956 - val_mse: 0.5956 - lr: 0.0021\n",
      "Epoch 49/100\n",
      "449/460 [============================>.] - ETA: 0s - loss: 0.5912 - mse: 0.5912"
     ]
    },
    {
     "name": "stderr",
     "output_type": "stream",
     "text": [
      "WARNING:absl:Found untraced functions such as activation_layer_call_fn, activation_layer_call_and_return_conditional_losses, activation_1_layer_call_fn, activation_1_layer_call_and_return_conditional_losses, activation_2_layer_call_fn while saving (showing 5 of 8). These functions will not be directly callable after loading.\n"
     ]
    },
    {
     "name": "stdout",
     "output_type": "stream",
     "text": [
      "INFO:tensorflow:Assets written to: C:\\Users\\ucesvpm\\OneDrive - University College London\\PhD Project\\Data Analytics\\Time Series Clustering\\Third Test\\wandb\\run-20230202_124552-zvxnsa3e\\files\\model-best\\assets\n"
     ]
    },
    {
     "name": "stderr",
     "output_type": "stream",
     "text": [
      "INFO:tensorflow:Assets written to: C:\\Users\\ucesvpm\\OneDrive - University College London\\PhD Project\\Data Analytics\\Time Series Clustering\\Third Test\\wandb\\run-20230202_124552-zvxnsa3e\\files\\model-best\\assets\n",
      "\u001b[34m\u001b[1mwandb\u001b[0m: Adding directory to artifact (C:\\Users\\ucesvpm\\OneDrive - University College London\\PhD Project\\Data Analytics\\Time Series Clustering\\Third Test\\wandb\\run-20230202_124552-zvxnsa3e\\files\\model-best)... Done. 0.0s\n"
     ]
    },
    {
     "name": "stdout",
     "output_type": "stream",
     "text": [
      "460/460 [==============================] - 3s 7ms/step - loss: 0.5914 - mse: 0.5914 - val_loss: 0.5953 - val_mse: 0.5953 - lr: 0.0021\n",
      "Epoch 50/100\n",
      "455/460 [============================>.] - ETA: 0s - loss: 0.5909 - mse: 0.5909"
     ]
    },
    {
     "name": "stderr",
     "output_type": "stream",
     "text": [
      "WARNING:absl:Found untraced functions such as activation_layer_call_fn, activation_layer_call_and_return_conditional_losses, activation_1_layer_call_fn, activation_1_layer_call_and_return_conditional_losses, activation_2_layer_call_fn while saving (showing 5 of 8). These functions will not be directly callable after loading.\n"
     ]
    },
    {
     "name": "stdout",
     "output_type": "stream",
     "text": [
      "INFO:tensorflow:Assets written to: C:\\Users\\ucesvpm\\OneDrive - University College London\\PhD Project\\Data Analytics\\Time Series Clustering\\Third Test\\wandb\\run-20230202_124552-zvxnsa3e\\files\\model-best\\assets\n"
     ]
    },
    {
     "name": "stderr",
     "output_type": "stream",
     "text": [
      "INFO:tensorflow:Assets written to: C:\\Users\\ucesvpm\\OneDrive - University College London\\PhD Project\\Data Analytics\\Time Series Clustering\\Third Test\\wandb\\run-20230202_124552-zvxnsa3e\\files\\model-best\\assets\n",
      "\u001b[34m\u001b[1mwandb\u001b[0m: Adding directory to artifact (C:\\Users\\ucesvpm\\OneDrive - University College London\\PhD Project\\Data Analytics\\Time Series Clustering\\Third Test\\wandb\\run-20230202_124552-zvxnsa3e\\files\\model-best)... Done. 0.0s\n"
     ]
    },
    {
     "name": "stdout",
     "output_type": "stream",
     "text": [
      "460/460 [==============================] - 3s 7ms/step - loss: 0.5911 - mse: 0.5911 - val_loss: 0.5950 - val_mse: 0.5950 - lr: 0.0021\n",
      "Epoch 51/100\n",
      "446/460 [============================>.] - ETA: 0s - loss: 0.5907 - mse: 0.5907"
     ]
    },
    {
     "name": "stderr",
     "output_type": "stream",
     "text": [
      "WARNING:absl:Found untraced functions such as activation_layer_call_fn, activation_layer_call_and_return_conditional_losses, activation_1_layer_call_fn, activation_1_layer_call_and_return_conditional_losses, activation_2_layer_call_fn while saving (showing 5 of 8). These functions will not be directly callable after loading.\n"
     ]
    },
    {
     "name": "stdout",
     "output_type": "stream",
     "text": [
      "INFO:tensorflow:Assets written to: C:\\Users\\ucesvpm\\OneDrive - University College London\\PhD Project\\Data Analytics\\Time Series Clustering\\Third Test\\wandb\\run-20230202_124552-zvxnsa3e\\files\\model-best\\assets\n"
     ]
    },
    {
     "name": "stderr",
     "output_type": "stream",
     "text": [
      "INFO:tensorflow:Assets written to: C:\\Users\\ucesvpm\\OneDrive - University College London\\PhD Project\\Data Analytics\\Time Series Clustering\\Third Test\\wandb\\run-20230202_124552-zvxnsa3e\\files\\model-best\\assets\n",
      "\u001b[34m\u001b[1mwandb\u001b[0m: Adding directory to artifact (C:\\Users\\ucesvpm\\OneDrive - University College London\\PhD Project\\Data Analytics\\Time Series Clustering\\Third Test\\wandb\\run-20230202_124552-zvxnsa3e\\files\\model-best)... Done. 0.0s\n"
     ]
    },
    {
     "name": "stdout",
     "output_type": "stream",
     "text": [
      "460/460 [==============================] - 3s 7ms/step - loss: 0.5908 - mse: 0.5908 - val_loss: 0.5948 - val_mse: 0.5948 - lr: 0.0021\n",
      "Epoch 52/100\n",
      "453/460 [============================>.] - ETA: 0s - loss: 0.5903 - mse: 0.5903"
     ]
    },
    {
     "name": "stderr",
     "output_type": "stream",
     "text": [
      "WARNING:absl:Found untraced functions such as activation_layer_call_fn, activation_layer_call_and_return_conditional_losses, activation_1_layer_call_fn, activation_1_layer_call_and_return_conditional_losses, activation_2_layer_call_fn while saving (showing 5 of 8). These functions will not be directly callable after loading.\n"
     ]
    },
    {
     "name": "stdout",
     "output_type": "stream",
     "text": [
      "INFO:tensorflow:Assets written to: C:\\Users\\ucesvpm\\OneDrive - University College London\\PhD Project\\Data Analytics\\Time Series Clustering\\Third Test\\wandb\\run-20230202_124552-zvxnsa3e\\files\\model-best\\assets\n"
     ]
    },
    {
     "name": "stderr",
     "output_type": "stream",
     "text": [
      "INFO:tensorflow:Assets written to: C:\\Users\\ucesvpm\\OneDrive - University College London\\PhD Project\\Data Analytics\\Time Series Clustering\\Third Test\\wandb\\run-20230202_124552-zvxnsa3e\\files\\model-best\\assets\n",
      "\u001b[34m\u001b[1mwandb\u001b[0m: Adding directory to artifact (C:\\Users\\ucesvpm\\OneDrive - University College London\\PhD Project\\Data Analytics\\Time Series Clustering\\Third Test\\wandb\\run-20230202_124552-zvxnsa3e\\files\\model-best)... Done. 0.0s\n"
     ]
    },
    {
     "name": "stdout",
     "output_type": "stream",
     "text": [
      "460/460 [==============================] - 3s 8ms/step - loss: 0.5905 - mse: 0.5905 - val_loss: 0.5945 - val_mse: 0.5945 - lr: 0.0021\n",
      "Epoch 53/100\n",
      "453/460 [============================>.] - ETA: 0s - loss: 0.5902 - mse: 0.5902"
     ]
    },
    {
     "name": "stderr",
     "output_type": "stream",
     "text": [
      "WARNING:absl:Found untraced functions such as activation_layer_call_fn, activation_layer_call_and_return_conditional_losses, activation_1_layer_call_fn, activation_1_layer_call_and_return_conditional_losses, activation_2_layer_call_fn while saving (showing 5 of 8). These functions will not be directly callable after loading.\n"
     ]
    },
    {
     "name": "stdout",
     "output_type": "stream",
     "text": [
      "INFO:tensorflow:Assets written to: C:\\Users\\ucesvpm\\OneDrive - University College London\\PhD Project\\Data Analytics\\Time Series Clustering\\Third Test\\wandb\\run-20230202_124552-zvxnsa3e\\files\\model-best\\assets\n"
     ]
    },
    {
     "name": "stderr",
     "output_type": "stream",
     "text": [
      "INFO:tensorflow:Assets written to: C:\\Users\\ucesvpm\\OneDrive - University College London\\PhD Project\\Data Analytics\\Time Series Clustering\\Third Test\\wandb\\run-20230202_124552-zvxnsa3e\\files\\model-best\\assets\n",
      "\u001b[34m\u001b[1mwandb\u001b[0m: Adding directory to artifact (C:\\Users\\ucesvpm\\OneDrive - University College London\\PhD Project\\Data Analytics\\Time Series Clustering\\Third Test\\wandb\\run-20230202_124552-zvxnsa3e\\files\\model-best)... Done. 0.0s\n"
     ]
    },
    {
     "name": "stdout",
     "output_type": "stream",
     "text": [
      "460/460 [==============================] - 4s 8ms/step - loss: 0.5902 - mse: 0.5902 - val_loss: 0.5942 - val_mse: 0.5942 - lr: 0.0021\n",
      "Epoch 54/100\n",
      "458/460 [============================>.] - ETA: 0s - loss: 0.5900 - mse: 0.5900"
     ]
    },
    {
     "name": "stderr",
     "output_type": "stream",
     "text": [
      "WARNING:absl:Found untraced functions such as activation_layer_call_fn, activation_layer_call_and_return_conditional_losses, activation_1_layer_call_fn, activation_1_layer_call_and_return_conditional_losses, activation_2_layer_call_fn while saving (showing 5 of 8). These functions will not be directly callable after loading.\n"
     ]
    },
    {
     "name": "stdout",
     "output_type": "stream",
     "text": [
      "INFO:tensorflow:Assets written to: C:\\Users\\ucesvpm\\OneDrive - University College London\\PhD Project\\Data Analytics\\Time Series Clustering\\Third Test\\wandb\\run-20230202_124552-zvxnsa3e\\files\\model-best\\assets\n"
     ]
    },
    {
     "name": "stderr",
     "output_type": "stream",
     "text": [
      "INFO:tensorflow:Assets written to: C:\\Users\\ucesvpm\\OneDrive - University College London\\PhD Project\\Data Analytics\\Time Series Clustering\\Third Test\\wandb\\run-20230202_124552-zvxnsa3e\\files\\model-best\\assets\n",
      "\u001b[34m\u001b[1mwandb\u001b[0m: Adding directory to artifact (C:\\Users\\ucesvpm\\OneDrive - University College London\\PhD Project\\Data Analytics\\Time Series Clustering\\Third Test\\wandb\\run-20230202_124552-zvxnsa3e\\files\\model-best)... Done. 0.0s\n"
     ]
    },
    {
     "name": "stdout",
     "output_type": "stream",
     "text": [
      "460/460 [==============================] - 3s 7ms/step - loss: 0.5899 - mse: 0.5899 - val_loss: 0.5940 - val_mse: 0.5940 - lr: 0.0021\n",
      "Epoch 55/100\n",
      "454/460 [============================>.] - ETA: 0s - loss: 0.5896 - mse: 0.5896"
     ]
    },
    {
     "name": "stderr",
     "output_type": "stream",
     "text": [
      "WARNING:absl:Found untraced functions such as activation_layer_call_fn, activation_layer_call_and_return_conditional_losses, activation_1_layer_call_fn, activation_1_layer_call_and_return_conditional_losses, activation_2_layer_call_fn while saving (showing 5 of 8). These functions will not be directly callable after loading.\n"
     ]
    },
    {
     "name": "stdout",
     "output_type": "stream",
     "text": [
      "INFO:tensorflow:Assets written to: C:\\Users\\ucesvpm\\OneDrive - University College London\\PhD Project\\Data Analytics\\Time Series Clustering\\Third Test\\wandb\\run-20230202_124552-zvxnsa3e\\files\\model-best\\assets\n"
     ]
    },
    {
     "name": "stderr",
     "output_type": "stream",
     "text": [
      "INFO:tensorflow:Assets written to: C:\\Users\\ucesvpm\\OneDrive - University College London\\PhD Project\\Data Analytics\\Time Series Clustering\\Third Test\\wandb\\run-20230202_124552-zvxnsa3e\\files\\model-best\\assets\n",
      "\u001b[34m\u001b[1mwandb\u001b[0m: Adding directory to artifact (C:\\Users\\ucesvpm\\OneDrive - University College London\\PhD Project\\Data Analytics\\Time Series Clustering\\Third Test\\wandb\\run-20230202_124552-zvxnsa3e\\files\\model-best)... Done. 0.0s\n"
     ]
    },
    {
     "name": "stdout",
     "output_type": "stream",
     "text": [
      "460/460 [==============================] - 4s 9ms/step - loss: 0.5896 - mse: 0.5896 - val_loss: 0.5937 - val_mse: 0.5937 - lr: 0.0021\n",
      "Epoch 56/100\n",
      "458/460 [============================>.] - ETA: 0s - loss: 0.5894 - mse: 0.5894"
     ]
    },
    {
     "name": "stderr",
     "output_type": "stream",
     "text": [
      "WARNING:absl:Found untraced functions such as activation_layer_call_fn, activation_layer_call_and_return_conditional_losses, activation_1_layer_call_fn, activation_1_layer_call_and_return_conditional_losses, activation_2_layer_call_fn while saving (showing 5 of 8). These functions will not be directly callable after loading.\n"
     ]
    },
    {
     "name": "stdout",
     "output_type": "stream",
     "text": [
      "INFO:tensorflow:Assets written to: C:\\Users\\ucesvpm\\OneDrive - University College London\\PhD Project\\Data Analytics\\Time Series Clustering\\Third Test\\wandb\\run-20230202_124552-zvxnsa3e\\files\\model-best\\assets\n"
     ]
    },
    {
     "name": "stderr",
     "output_type": "stream",
     "text": [
      "INFO:tensorflow:Assets written to: C:\\Users\\ucesvpm\\OneDrive - University College London\\PhD Project\\Data Analytics\\Time Series Clustering\\Third Test\\wandb\\run-20230202_124552-zvxnsa3e\\files\\model-best\\assets\n",
      "\u001b[34m\u001b[1mwandb\u001b[0m: Adding directory to artifact (C:\\Users\\ucesvpm\\OneDrive - University College London\\PhD Project\\Data Analytics\\Time Series Clustering\\Third Test\\wandb\\run-20230202_124552-zvxnsa3e\\files\\model-best)... Done. 0.0s\n"
     ]
    },
    {
     "name": "stdout",
     "output_type": "stream",
     "text": [
      "460/460 [==============================] - 5s 11ms/step - loss: 0.5894 - mse: 0.5894 - val_loss: 0.5935 - val_mse: 0.5935 - lr: 0.0021\n",
      "Epoch 57/100\n",
      "451/460 [============================>.] - ETA: 0s - loss: 0.5892 - mse: 0.5892"
     ]
    },
    {
     "name": "stderr",
     "output_type": "stream",
     "text": [
      "WARNING:absl:Found untraced functions such as activation_layer_call_fn, activation_layer_call_and_return_conditional_losses, activation_1_layer_call_fn, activation_1_layer_call_and_return_conditional_losses, activation_2_layer_call_fn while saving (showing 5 of 8). These functions will not be directly callable after loading.\n"
     ]
    },
    {
     "name": "stdout",
     "output_type": "stream",
     "text": [
      "INFO:tensorflow:Assets written to: C:\\Users\\ucesvpm\\OneDrive - University College London\\PhD Project\\Data Analytics\\Time Series Clustering\\Third Test\\wandb\\run-20230202_124552-zvxnsa3e\\files\\model-best\\assets\n"
     ]
    },
    {
     "name": "stderr",
     "output_type": "stream",
     "text": [
      "INFO:tensorflow:Assets written to: C:\\Users\\ucesvpm\\OneDrive - University College London\\PhD Project\\Data Analytics\\Time Series Clustering\\Third Test\\wandb\\run-20230202_124552-zvxnsa3e\\files\\model-best\\assets\n",
      "\u001b[34m\u001b[1mwandb\u001b[0m: Adding directory to artifact (C:\\Users\\ucesvpm\\OneDrive - University College London\\PhD Project\\Data Analytics\\Time Series Clustering\\Third Test\\wandb\\run-20230202_124552-zvxnsa3e\\files\\model-best)... Done. 0.0s\n"
     ]
    },
    {
     "name": "stdout",
     "output_type": "stream",
     "text": [
      "460/460 [==============================] - 5s 12ms/step - loss: 0.5891 - mse: 0.5891 - val_loss: 0.5932 - val_mse: 0.5932 - lr: 0.0021\n",
      "Epoch 58/100\n",
      "447/460 [============================>.] - ETA: 0s - loss: 0.5892 - mse: 0.5892"
     ]
    },
    {
     "name": "stderr",
     "output_type": "stream",
     "text": [
      "WARNING:absl:Found untraced functions such as activation_layer_call_fn, activation_layer_call_and_return_conditional_losses, activation_1_layer_call_fn, activation_1_layer_call_and_return_conditional_losses, activation_2_layer_call_fn while saving (showing 5 of 8). These functions will not be directly callable after loading.\n"
     ]
    },
    {
     "name": "stdout",
     "output_type": "stream",
     "text": [
      "INFO:tensorflow:Assets written to: C:\\Users\\ucesvpm\\OneDrive - University College London\\PhD Project\\Data Analytics\\Time Series Clustering\\Third Test\\wandb\\run-20230202_124552-zvxnsa3e\\files\\model-best\\assets\n"
     ]
    },
    {
     "name": "stderr",
     "output_type": "stream",
     "text": [
      "INFO:tensorflow:Assets written to: C:\\Users\\ucesvpm\\OneDrive - University College London\\PhD Project\\Data Analytics\\Time Series Clustering\\Third Test\\wandb\\run-20230202_124552-zvxnsa3e\\files\\model-best\\assets\n",
      "\u001b[34m\u001b[1mwandb\u001b[0m: Adding directory to artifact (C:\\Users\\ucesvpm\\OneDrive - University College London\\PhD Project\\Data Analytics\\Time Series Clustering\\Third Test\\wandb\\run-20230202_124552-zvxnsa3e\\files\\model-best)... Done. 0.0s\n"
     ]
    },
    {
     "name": "stdout",
     "output_type": "stream",
     "text": [
      "460/460 [==============================] - 4s 10ms/step - loss: 0.5888 - mse: 0.5888 - val_loss: 0.5930 - val_mse: 0.5930 - lr: 0.0021\n",
      "Epoch 59/100\n",
      "447/460 [============================>.] - ETA: 0s - loss: 0.5882 - mse: 0.5882"
     ]
    },
    {
     "name": "stderr",
     "output_type": "stream",
     "text": [
      "WARNING:absl:Found untraced functions such as activation_layer_call_fn, activation_layer_call_and_return_conditional_losses, activation_1_layer_call_fn, activation_1_layer_call_and_return_conditional_losses, activation_2_layer_call_fn while saving (showing 5 of 8). These functions will not be directly callable after loading.\n"
     ]
    },
    {
     "name": "stdout",
     "output_type": "stream",
     "text": [
      "INFO:tensorflow:Assets written to: C:\\Users\\ucesvpm\\OneDrive - University College London\\PhD Project\\Data Analytics\\Time Series Clustering\\Third Test\\wandb\\run-20230202_124552-zvxnsa3e\\files\\model-best\\assets\n"
     ]
    },
    {
     "name": "stderr",
     "output_type": "stream",
     "text": [
      "INFO:tensorflow:Assets written to: C:\\Users\\ucesvpm\\OneDrive - University College London\\PhD Project\\Data Analytics\\Time Series Clustering\\Third Test\\wandb\\run-20230202_124552-zvxnsa3e\\files\\model-best\\assets\n",
      "\u001b[34m\u001b[1mwandb\u001b[0m: Adding directory to artifact (C:\\Users\\ucesvpm\\OneDrive - University College London\\PhD Project\\Data Analytics\\Time Series Clustering\\Third Test\\wandb\\run-20230202_124552-zvxnsa3e\\files\\model-best)... Done. 0.0s\n"
     ]
    },
    {
     "name": "stdout",
     "output_type": "stream",
     "text": [
      "460/460 [==============================] - 3s 7ms/step - loss: 0.5886 - mse: 0.5886 - val_loss: 0.5928 - val_mse: 0.5928 - lr: 0.0021\n",
      "Epoch 60/100\n",
      "454/460 [============================>.] - ETA: 0s - loss: 0.5883 - mse: 0.5883"
     ]
    },
    {
     "name": "stderr",
     "output_type": "stream",
     "text": [
      "WARNING:absl:Found untraced functions such as activation_layer_call_fn, activation_layer_call_and_return_conditional_losses, activation_1_layer_call_fn, activation_1_layer_call_and_return_conditional_losses, activation_2_layer_call_fn while saving (showing 5 of 8). These functions will not be directly callable after loading.\n"
     ]
    },
    {
     "name": "stdout",
     "output_type": "stream",
     "text": [
      "INFO:tensorflow:Assets written to: C:\\Users\\ucesvpm\\OneDrive - University College London\\PhD Project\\Data Analytics\\Time Series Clustering\\Third Test\\wandb\\run-20230202_124552-zvxnsa3e\\files\\model-best\\assets\n"
     ]
    },
    {
     "name": "stderr",
     "output_type": "stream",
     "text": [
      "INFO:tensorflow:Assets written to: C:\\Users\\ucesvpm\\OneDrive - University College London\\PhD Project\\Data Analytics\\Time Series Clustering\\Third Test\\wandb\\run-20230202_124552-zvxnsa3e\\files\\model-best\\assets\n",
      "\u001b[34m\u001b[1mwandb\u001b[0m: Adding directory to artifact (C:\\Users\\ucesvpm\\OneDrive - University College London\\PhD Project\\Data Analytics\\Time Series Clustering\\Third Test\\wandb\\run-20230202_124552-zvxnsa3e\\files\\model-best)... Done. 0.0s\n"
     ]
    },
    {
     "name": "stdout",
     "output_type": "stream",
     "text": [
      "460/460 [==============================] - 4s 8ms/step - loss: 0.5883 - mse: 0.5883 - val_loss: 0.5925 - val_mse: 0.5925 - lr: 0.0021\n",
      "Epoch 61/100\n",
      "456/460 [============================>.] - ETA: 0s - loss: 0.5882 - mse: 0.5882"
     ]
    },
    {
     "name": "stderr",
     "output_type": "stream",
     "text": [
      "WARNING:absl:Found untraced functions such as activation_layer_call_fn, activation_layer_call_and_return_conditional_losses, activation_1_layer_call_fn, activation_1_layer_call_and_return_conditional_losses, activation_2_layer_call_fn while saving (showing 5 of 8). These functions will not be directly callable after loading.\n"
     ]
    },
    {
     "name": "stdout",
     "output_type": "stream",
     "text": [
      "INFO:tensorflow:Assets written to: C:\\Users\\ucesvpm\\OneDrive - University College London\\PhD Project\\Data Analytics\\Time Series Clustering\\Third Test\\wandb\\run-20230202_124552-zvxnsa3e\\files\\model-best\\assets\n"
     ]
    },
    {
     "name": "stderr",
     "output_type": "stream",
     "text": [
      "INFO:tensorflow:Assets written to: C:\\Users\\ucesvpm\\OneDrive - University College London\\PhD Project\\Data Analytics\\Time Series Clustering\\Third Test\\wandb\\run-20230202_124552-zvxnsa3e\\files\\model-best\\assets\n",
      "\u001b[34m\u001b[1mwandb\u001b[0m: Adding directory to artifact (C:\\Users\\ucesvpm\\OneDrive - University College London\\PhD Project\\Data Analytics\\Time Series Clustering\\Third Test\\wandb\\run-20230202_124552-zvxnsa3e\\files\\model-best)... Done. 0.0s\n"
     ]
    },
    {
     "name": "stdout",
     "output_type": "stream",
     "text": [
      "460/460 [==============================] - 4s 8ms/step - loss: 0.5880 - mse: 0.5880 - val_loss: 0.5923 - val_mse: 0.5923 - lr: 0.0021\n",
      "Epoch 62/100\n",
      "450/460 [============================>.] - ETA: 0s - loss: 0.5880 - mse: 0.5880"
     ]
    },
    {
     "name": "stderr",
     "output_type": "stream",
     "text": [
      "WARNING:absl:Found untraced functions such as activation_layer_call_fn, activation_layer_call_and_return_conditional_losses, activation_1_layer_call_fn, activation_1_layer_call_and_return_conditional_losses, activation_2_layer_call_fn while saving (showing 5 of 8). These functions will not be directly callable after loading.\n"
     ]
    },
    {
     "name": "stdout",
     "output_type": "stream",
     "text": [
      "INFO:tensorflow:Assets written to: C:\\Users\\ucesvpm\\OneDrive - University College London\\PhD Project\\Data Analytics\\Time Series Clustering\\Third Test\\wandb\\run-20230202_124552-zvxnsa3e\\files\\model-best\\assets\n"
     ]
    },
    {
     "name": "stderr",
     "output_type": "stream",
     "text": [
      "INFO:tensorflow:Assets written to: C:\\Users\\ucesvpm\\OneDrive - University College London\\PhD Project\\Data Analytics\\Time Series Clustering\\Third Test\\wandb\\run-20230202_124552-zvxnsa3e\\files\\model-best\\assets\n",
      "\u001b[34m\u001b[1mwandb\u001b[0m: Adding directory to artifact (C:\\Users\\ucesvpm\\OneDrive - University College London\\PhD Project\\Data Analytics\\Time Series Clustering\\Third Test\\wandb\\run-20230202_124552-zvxnsa3e\\files\\model-best)... Done. 0.0s\n"
     ]
    },
    {
     "name": "stdout",
     "output_type": "stream",
     "text": [
      "460/460 [==============================] - 3s 7ms/step - loss: 0.5878 - mse: 0.5878 - val_loss: 0.5920 - val_mse: 0.5920 - lr: 0.0021\n",
      "Epoch 63/100\n",
      "456/460 [============================>.] - ETA: 0s - loss: 0.5874 - mse: 0.5874"
     ]
    },
    {
     "name": "stderr",
     "output_type": "stream",
     "text": [
      "WARNING:absl:Found untraced functions such as activation_layer_call_fn, activation_layer_call_and_return_conditional_losses, activation_1_layer_call_fn, activation_1_layer_call_and_return_conditional_losses, activation_2_layer_call_fn while saving (showing 5 of 8). These functions will not be directly callable after loading.\n"
     ]
    },
    {
     "name": "stdout",
     "output_type": "stream",
     "text": [
      "INFO:tensorflow:Assets written to: C:\\Users\\ucesvpm\\OneDrive - University College London\\PhD Project\\Data Analytics\\Time Series Clustering\\Third Test\\wandb\\run-20230202_124552-zvxnsa3e\\files\\model-best\\assets\n"
     ]
    },
    {
     "name": "stderr",
     "output_type": "stream",
     "text": [
      "INFO:tensorflow:Assets written to: C:\\Users\\ucesvpm\\OneDrive - University College London\\PhD Project\\Data Analytics\\Time Series Clustering\\Third Test\\wandb\\run-20230202_124552-zvxnsa3e\\files\\model-best\\assets\n",
      "\u001b[34m\u001b[1mwandb\u001b[0m: Adding directory to artifact (C:\\Users\\ucesvpm\\OneDrive - University College London\\PhD Project\\Data Analytics\\Time Series Clustering\\Third Test\\wandb\\run-20230202_124552-zvxnsa3e\\files\\model-best)... Done. 0.0s\n"
     ]
    },
    {
     "name": "stdout",
     "output_type": "stream",
     "text": [
      "460/460 [==============================] - 3s 7ms/step - loss: 0.5875 - mse: 0.5875 - val_loss: 0.5918 - val_mse: 0.5918 - lr: 0.0021\n",
      "Epoch 64/100\n",
      "460/460 [==============================] - ETA: 0s - loss: 0.5873 - mse: 0.5873"
     ]
    },
    {
     "name": "stderr",
     "output_type": "stream",
     "text": [
      "WARNING:absl:Found untraced functions such as activation_layer_call_fn, activation_layer_call_and_return_conditional_losses, activation_1_layer_call_fn, activation_1_layer_call_and_return_conditional_losses, activation_2_layer_call_fn while saving (showing 5 of 8). These functions will not be directly callable after loading.\n"
     ]
    },
    {
     "name": "stdout",
     "output_type": "stream",
     "text": [
      "INFO:tensorflow:Assets written to: C:\\Users\\ucesvpm\\OneDrive - University College London\\PhD Project\\Data Analytics\\Time Series Clustering\\Third Test\\wandb\\run-20230202_124552-zvxnsa3e\\files\\model-best\\assets\n"
     ]
    },
    {
     "name": "stderr",
     "output_type": "stream",
     "text": [
      "INFO:tensorflow:Assets written to: C:\\Users\\ucesvpm\\OneDrive - University College London\\PhD Project\\Data Analytics\\Time Series Clustering\\Third Test\\wandb\\run-20230202_124552-zvxnsa3e\\files\\model-best\\assets\n",
      "\u001b[34m\u001b[1mwandb\u001b[0m: Adding directory to artifact (C:\\Users\\ucesvpm\\OneDrive - University College London\\PhD Project\\Data Analytics\\Time Series Clustering\\Third Test\\wandb\\run-20230202_124552-zvxnsa3e\\files\\model-best)... Done. 0.3s\n"
     ]
    },
    {
     "name": "stdout",
     "output_type": "stream",
     "text": [
      "460/460 [==============================] - 5s 12ms/step - loss: 0.5873 - mse: 0.5873 - val_loss: 0.5916 - val_mse: 0.5916 - lr: 0.0021\n",
      "Epoch 65/100\n",
      "456/460 [============================>.] - ETA: 0s - loss: 0.5870 - mse: 0.5870"
     ]
    },
    {
     "name": "stderr",
     "output_type": "stream",
     "text": [
      "WARNING:absl:Found untraced functions such as activation_layer_call_fn, activation_layer_call_and_return_conditional_losses, activation_1_layer_call_fn, activation_1_layer_call_and_return_conditional_losses, activation_2_layer_call_fn while saving (showing 5 of 8). These functions will not be directly callable after loading.\n"
     ]
    },
    {
     "name": "stdout",
     "output_type": "stream",
     "text": [
      "INFO:tensorflow:Assets written to: C:\\Users\\ucesvpm\\OneDrive - University College London\\PhD Project\\Data Analytics\\Time Series Clustering\\Third Test\\wandb\\run-20230202_124552-zvxnsa3e\\files\\model-best\\assets\n"
     ]
    },
    {
     "name": "stderr",
     "output_type": "stream",
     "text": [
      "INFO:tensorflow:Assets written to: C:\\Users\\ucesvpm\\OneDrive - University College London\\PhD Project\\Data Analytics\\Time Series Clustering\\Third Test\\wandb\\run-20230202_124552-zvxnsa3e\\files\\model-best\\assets\n",
      "\u001b[34m\u001b[1mwandb\u001b[0m: Adding directory to artifact (C:\\Users\\ucesvpm\\OneDrive - University College London\\PhD Project\\Data Analytics\\Time Series Clustering\\Third Test\\wandb\\run-20230202_124552-zvxnsa3e\\files\\model-best)... Done. 0.0s\n"
     ]
    },
    {
     "name": "stdout",
     "output_type": "stream",
     "text": [
      "460/460 [==============================] - 3s 7ms/step - loss: 0.5870 - mse: 0.5870 - val_loss: 0.5913 - val_mse: 0.5913 - lr: 0.0021\n",
      "Epoch 66/100\n",
      "457/460 [============================>.] - ETA: 0s - loss: 0.5869 - mse: 0.5869"
     ]
    },
    {
     "name": "stderr",
     "output_type": "stream",
     "text": [
      "WARNING:absl:Found untraced functions such as activation_layer_call_fn, activation_layer_call_and_return_conditional_losses, activation_1_layer_call_fn, activation_1_layer_call_and_return_conditional_losses, activation_2_layer_call_fn while saving (showing 5 of 8). These functions will not be directly callable after loading.\n"
     ]
    },
    {
     "name": "stdout",
     "output_type": "stream",
     "text": [
      "INFO:tensorflow:Assets written to: C:\\Users\\ucesvpm\\OneDrive - University College London\\PhD Project\\Data Analytics\\Time Series Clustering\\Third Test\\wandb\\run-20230202_124552-zvxnsa3e\\files\\model-best\\assets\n"
     ]
    },
    {
     "name": "stderr",
     "output_type": "stream",
     "text": [
      "INFO:tensorflow:Assets written to: C:\\Users\\ucesvpm\\OneDrive - University College London\\PhD Project\\Data Analytics\\Time Series Clustering\\Third Test\\wandb\\run-20230202_124552-zvxnsa3e\\files\\model-best\\assets\n",
      "\u001b[34m\u001b[1mwandb\u001b[0m: Adding directory to artifact (C:\\Users\\ucesvpm\\OneDrive - University College London\\PhD Project\\Data Analytics\\Time Series Clustering\\Third Test\\wandb\\run-20230202_124552-zvxnsa3e\\files\\model-best)... Done. 0.0s\n"
     ]
    },
    {
     "name": "stdout",
     "output_type": "stream",
     "text": [
      "460/460 [==============================] - 3s 7ms/step - loss: 0.5868 - mse: 0.5868 - val_loss: 0.5911 - val_mse: 0.5911 - lr: 0.0021\n",
      "Epoch 67/100\n",
      "459/460 [============================>.] - ETA: 0s - loss: 0.5866 - mse: 0.5866"
     ]
    },
    {
     "name": "stderr",
     "output_type": "stream",
     "text": [
      "WARNING:absl:Found untraced functions such as activation_layer_call_fn, activation_layer_call_and_return_conditional_losses, activation_1_layer_call_fn, activation_1_layer_call_and_return_conditional_losses, activation_2_layer_call_fn while saving (showing 5 of 8). These functions will not be directly callable after loading.\n"
     ]
    },
    {
     "name": "stdout",
     "output_type": "stream",
     "text": [
      "INFO:tensorflow:Assets written to: C:\\Users\\ucesvpm\\OneDrive - University College London\\PhD Project\\Data Analytics\\Time Series Clustering\\Third Test\\wandb\\run-20230202_124552-zvxnsa3e\\files\\model-best\\assets\n"
     ]
    },
    {
     "name": "stderr",
     "output_type": "stream",
     "text": [
      "INFO:tensorflow:Assets written to: C:\\Users\\ucesvpm\\OneDrive - University College London\\PhD Project\\Data Analytics\\Time Series Clustering\\Third Test\\wandb\\run-20230202_124552-zvxnsa3e\\files\\model-best\\assets\n",
      "\u001b[34m\u001b[1mwandb\u001b[0m: Adding directory to artifact (C:\\Users\\ucesvpm\\OneDrive - University College London\\PhD Project\\Data Analytics\\Time Series Clustering\\Third Test\\wandb\\run-20230202_124552-zvxnsa3e\\files\\model-best)... Done. 0.0s\n"
     ]
    },
    {
     "name": "stdout",
     "output_type": "stream",
     "text": [
      "460/460 [==============================] - 3s 7ms/step - loss: 0.5866 - mse: 0.5866 - val_loss: 0.5909 - val_mse: 0.5909 - lr: 0.0021\n",
      "Epoch 68/100\n",
      "457/460 [============================>.] - ETA: 0s - loss: 0.5864 - mse: 0.5864"
     ]
    },
    {
     "name": "stderr",
     "output_type": "stream",
     "text": [
      "WARNING:absl:Found untraced functions such as activation_layer_call_fn, activation_layer_call_and_return_conditional_losses, activation_1_layer_call_fn, activation_1_layer_call_and_return_conditional_losses, activation_2_layer_call_fn while saving (showing 5 of 8). These functions will not be directly callable after loading.\n"
     ]
    },
    {
     "name": "stdout",
     "output_type": "stream",
     "text": [
      "INFO:tensorflow:Assets written to: C:\\Users\\ucesvpm\\OneDrive - University College London\\PhD Project\\Data Analytics\\Time Series Clustering\\Third Test\\wandb\\run-20230202_124552-zvxnsa3e\\files\\model-best\\assets\n"
     ]
    },
    {
     "name": "stderr",
     "output_type": "stream",
     "text": [
      "INFO:tensorflow:Assets written to: C:\\Users\\ucesvpm\\OneDrive - University College London\\PhD Project\\Data Analytics\\Time Series Clustering\\Third Test\\wandb\\run-20230202_124552-zvxnsa3e\\files\\model-best\\assets\n",
      "\u001b[34m\u001b[1mwandb\u001b[0m: Adding directory to artifact (C:\\Users\\ucesvpm\\OneDrive - University College London\\PhD Project\\Data Analytics\\Time Series Clustering\\Third Test\\wandb\\run-20230202_124552-zvxnsa3e\\files\\model-best)... Done. 0.0s\n"
     ]
    },
    {
     "name": "stdout",
     "output_type": "stream",
     "text": [
      "460/460 [==============================] - 3s 7ms/step - loss: 0.5864 - mse: 0.5864 - val_loss: 0.5907 - val_mse: 0.5907 - lr: 0.0021\n",
      "Epoch 69/100\n",
      "451/460 [============================>.] - ETA: 0s - loss: 0.5860 - mse: 0.5860"
     ]
    },
    {
     "name": "stderr",
     "output_type": "stream",
     "text": [
      "WARNING:absl:Found untraced functions such as activation_layer_call_fn, activation_layer_call_and_return_conditional_losses, activation_1_layer_call_fn, activation_1_layer_call_and_return_conditional_losses, activation_2_layer_call_fn while saving (showing 5 of 8). These functions will not be directly callable after loading.\n"
     ]
    },
    {
     "name": "stdout",
     "output_type": "stream",
     "text": [
      "INFO:tensorflow:Assets written to: C:\\Users\\ucesvpm\\OneDrive - University College London\\PhD Project\\Data Analytics\\Time Series Clustering\\Third Test\\wandb\\run-20230202_124552-zvxnsa3e\\files\\model-best\\assets\n"
     ]
    },
    {
     "name": "stderr",
     "output_type": "stream",
     "text": [
      "INFO:tensorflow:Assets written to: C:\\Users\\ucesvpm\\OneDrive - University College London\\PhD Project\\Data Analytics\\Time Series Clustering\\Third Test\\wandb\\run-20230202_124552-zvxnsa3e\\files\\model-best\\assets\n",
      "\u001b[34m\u001b[1mwandb\u001b[0m: Adding directory to artifact (C:\\Users\\ucesvpm\\OneDrive - University College London\\PhD Project\\Data Analytics\\Time Series Clustering\\Third Test\\wandb\\run-20230202_124552-zvxnsa3e\\files\\model-best)... Done. 0.0s\n"
     ]
    },
    {
     "name": "stdout",
     "output_type": "stream",
     "text": [
      "460/460 [==============================] - 3s 8ms/step - loss: 0.5861 - mse: 0.5861 - val_loss: 0.5905 - val_mse: 0.5905 - lr: 0.0021\n",
      "Epoch 70/100\n",
      "449/460 [============================>.] - ETA: 0s - loss: 0.5856 - mse: 0.5856"
     ]
    },
    {
     "name": "stderr",
     "output_type": "stream",
     "text": [
      "WARNING:absl:Found untraced functions such as activation_layer_call_fn, activation_layer_call_and_return_conditional_losses, activation_1_layer_call_fn, activation_1_layer_call_and_return_conditional_losses, activation_2_layer_call_fn while saving (showing 5 of 8). These functions will not be directly callable after loading.\n"
     ]
    },
    {
     "name": "stdout",
     "output_type": "stream",
     "text": [
      "INFO:tensorflow:Assets written to: C:\\Users\\ucesvpm\\OneDrive - University College London\\PhD Project\\Data Analytics\\Time Series Clustering\\Third Test\\wandb\\run-20230202_124552-zvxnsa3e\\files\\model-best\\assets\n"
     ]
    },
    {
     "name": "stderr",
     "output_type": "stream",
     "text": [
      "INFO:tensorflow:Assets written to: C:\\Users\\ucesvpm\\OneDrive - University College London\\PhD Project\\Data Analytics\\Time Series Clustering\\Third Test\\wandb\\run-20230202_124552-zvxnsa3e\\files\\model-best\\assets\n",
      "\u001b[34m\u001b[1mwandb\u001b[0m: Adding directory to artifact (C:\\Users\\ucesvpm\\OneDrive - University College London\\PhD Project\\Data Analytics\\Time Series Clustering\\Third Test\\wandb\\run-20230202_124552-zvxnsa3e\\files\\model-best)... Done. 0.0s\n"
     ]
    },
    {
     "name": "stdout",
     "output_type": "stream",
     "text": [
      "460/460 [==============================] - 3s 7ms/step - loss: 0.5859 - mse: 0.5859 - val_loss: 0.5902 - val_mse: 0.5902 - lr: 0.0021\n",
      "Epoch 71/100\n",
      "448/460 [============================>.] - ETA: 0s - loss: 0.5855 - mse: 0.5855"
     ]
    },
    {
     "name": "stderr",
     "output_type": "stream",
     "text": [
      "WARNING:absl:Found untraced functions such as activation_layer_call_fn, activation_layer_call_and_return_conditional_losses, activation_1_layer_call_fn, activation_1_layer_call_and_return_conditional_losses, activation_2_layer_call_fn while saving (showing 5 of 8). These functions will not be directly callable after loading.\n"
     ]
    },
    {
     "name": "stdout",
     "output_type": "stream",
     "text": [
      "INFO:tensorflow:Assets written to: C:\\Users\\ucesvpm\\OneDrive - University College London\\PhD Project\\Data Analytics\\Time Series Clustering\\Third Test\\wandb\\run-20230202_124552-zvxnsa3e\\files\\model-best\\assets\n"
     ]
    },
    {
     "name": "stderr",
     "output_type": "stream",
     "text": [
      "INFO:tensorflow:Assets written to: C:\\Users\\ucesvpm\\OneDrive - University College London\\PhD Project\\Data Analytics\\Time Series Clustering\\Third Test\\wandb\\run-20230202_124552-zvxnsa3e\\files\\model-best\\assets\n",
      "\u001b[34m\u001b[1mwandb\u001b[0m: Adding directory to artifact (C:\\Users\\ucesvpm\\OneDrive - University College London\\PhD Project\\Data Analytics\\Time Series Clustering\\Third Test\\wandb\\run-20230202_124552-zvxnsa3e\\files\\model-best)... Done. 0.0s\n"
     ]
    },
    {
     "name": "stdout",
     "output_type": "stream",
     "text": [
      "460/460 [==============================] - 3s 7ms/step - loss: 0.5857 - mse: 0.5857 - val_loss: 0.5901 - val_mse: 0.5901 - lr: 0.0021\n",
      "Epoch 72/100\n",
      "459/460 [============================>.] - ETA: 0s - loss: 0.5855 - mse: 0.5855"
     ]
    },
    {
     "name": "stderr",
     "output_type": "stream",
     "text": [
      "WARNING:absl:Found untraced functions such as activation_layer_call_fn, activation_layer_call_and_return_conditional_losses, activation_1_layer_call_fn, activation_1_layer_call_and_return_conditional_losses, activation_2_layer_call_fn while saving (showing 5 of 8). These functions will not be directly callable after loading.\n"
     ]
    },
    {
     "name": "stdout",
     "output_type": "stream",
     "text": [
      "INFO:tensorflow:Assets written to: C:\\Users\\ucesvpm\\OneDrive - University College London\\PhD Project\\Data Analytics\\Time Series Clustering\\Third Test\\wandb\\run-20230202_124552-zvxnsa3e\\files\\model-best\\assets\n"
     ]
    },
    {
     "name": "stderr",
     "output_type": "stream",
     "text": [
      "INFO:tensorflow:Assets written to: C:\\Users\\ucesvpm\\OneDrive - University College London\\PhD Project\\Data Analytics\\Time Series Clustering\\Third Test\\wandb\\run-20230202_124552-zvxnsa3e\\files\\model-best\\assets\n",
      "\u001b[34m\u001b[1mwandb\u001b[0m: Adding directory to artifact (C:\\Users\\ucesvpm\\OneDrive - University College London\\PhD Project\\Data Analytics\\Time Series Clustering\\Third Test\\wandb\\run-20230202_124552-zvxnsa3e\\files\\model-best)... Done. 0.0s\n"
     ]
    },
    {
     "name": "stdout",
     "output_type": "stream",
     "text": [
      "460/460 [==============================] - 3s 7ms/step - loss: 0.5854 - mse: 0.5854 - val_loss: 0.5899 - val_mse: 0.5899 - lr: 0.0021\n",
      "Epoch 73/100\n",
      "458/460 [============================>.] - ETA: 0s - loss: 0.5853 - mse: 0.5853"
     ]
    },
    {
     "name": "stderr",
     "output_type": "stream",
     "text": [
      "WARNING:absl:Found untraced functions such as activation_layer_call_fn, activation_layer_call_and_return_conditional_losses, activation_1_layer_call_fn, activation_1_layer_call_and_return_conditional_losses, activation_2_layer_call_fn while saving (showing 5 of 8). These functions will not be directly callable after loading.\n"
     ]
    },
    {
     "name": "stdout",
     "output_type": "stream",
     "text": [
      "INFO:tensorflow:Assets written to: C:\\Users\\ucesvpm\\OneDrive - University College London\\PhD Project\\Data Analytics\\Time Series Clustering\\Third Test\\wandb\\run-20230202_124552-zvxnsa3e\\files\\model-best\\assets\n"
     ]
    },
    {
     "name": "stderr",
     "output_type": "stream",
     "text": [
      "INFO:tensorflow:Assets written to: C:\\Users\\ucesvpm\\OneDrive - University College London\\PhD Project\\Data Analytics\\Time Series Clustering\\Third Test\\wandb\\run-20230202_124552-zvxnsa3e\\files\\model-best\\assets\n",
      "\u001b[34m\u001b[1mwandb\u001b[0m: Adding directory to artifact (C:\\Users\\ucesvpm\\OneDrive - University College London\\PhD Project\\Data Analytics\\Time Series Clustering\\Third Test\\wandb\\run-20230202_124552-zvxnsa3e\\files\\model-best)... Done. 0.0s\n"
     ]
    },
    {
     "name": "stdout",
     "output_type": "stream",
     "text": [
      "460/460 [==============================] - 3s 7ms/step - loss: 0.5852 - mse: 0.5852 - val_loss: 0.5897 - val_mse: 0.5897 - lr: 0.0021\n",
      "Epoch 74/100\n",
      "451/460 [============================>.] - ETA: 0s - loss: 0.5851 - mse: 0.5851"
     ]
    },
    {
     "name": "stderr",
     "output_type": "stream",
     "text": [
      "WARNING:absl:Found untraced functions such as activation_layer_call_fn, activation_layer_call_and_return_conditional_losses, activation_1_layer_call_fn, activation_1_layer_call_and_return_conditional_losses, activation_2_layer_call_fn while saving (showing 5 of 8). These functions will not be directly callable after loading.\n"
     ]
    },
    {
     "name": "stdout",
     "output_type": "stream",
     "text": [
      "INFO:tensorflow:Assets written to: C:\\Users\\ucesvpm\\OneDrive - University College London\\PhD Project\\Data Analytics\\Time Series Clustering\\Third Test\\wandb\\run-20230202_124552-zvxnsa3e\\files\\model-best\\assets\n"
     ]
    },
    {
     "name": "stderr",
     "output_type": "stream",
     "text": [
      "INFO:tensorflow:Assets written to: C:\\Users\\ucesvpm\\OneDrive - University College London\\PhD Project\\Data Analytics\\Time Series Clustering\\Third Test\\wandb\\run-20230202_124552-zvxnsa3e\\files\\model-best\\assets\n",
      "\u001b[34m\u001b[1mwandb\u001b[0m: Adding directory to artifact (C:\\Users\\ucesvpm\\OneDrive - University College London\\PhD Project\\Data Analytics\\Time Series Clustering\\Third Test\\wandb\\run-20230202_124552-zvxnsa3e\\files\\model-best)... Done. 0.0s\n"
     ]
    },
    {
     "name": "stdout",
     "output_type": "stream",
     "text": [
      "460/460 [==============================] - 4s 8ms/step - loss: 0.5850 - mse: 0.5850 - val_loss: 0.5896 - val_mse: 0.5896 - lr: 0.0021\n",
      "Epoch 75/100\n",
      "446/460 [============================>.] - ETA: 0s - loss: 0.5849 - mse: 0.5849"
     ]
    },
    {
     "name": "stderr",
     "output_type": "stream",
     "text": [
      "WARNING:absl:Found untraced functions such as activation_layer_call_fn, activation_layer_call_and_return_conditional_losses, activation_1_layer_call_fn, activation_1_layer_call_and_return_conditional_losses, activation_2_layer_call_fn while saving (showing 5 of 8). These functions will not be directly callable after loading.\n"
     ]
    },
    {
     "name": "stdout",
     "output_type": "stream",
     "text": [
      "INFO:tensorflow:Assets written to: C:\\Users\\ucesvpm\\OneDrive - University College London\\PhD Project\\Data Analytics\\Time Series Clustering\\Third Test\\wandb\\run-20230202_124552-zvxnsa3e\\files\\model-best\\assets\n"
     ]
    },
    {
     "name": "stderr",
     "output_type": "stream",
     "text": [
      "INFO:tensorflow:Assets written to: C:\\Users\\ucesvpm\\OneDrive - University College London\\PhD Project\\Data Analytics\\Time Series Clustering\\Third Test\\wandb\\run-20230202_124552-zvxnsa3e\\files\\model-best\\assets\n",
      "\u001b[34m\u001b[1mwandb\u001b[0m: Adding directory to artifact (C:\\Users\\ucesvpm\\OneDrive - University College London\\PhD Project\\Data Analytics\\Time Series Clustering\\Third Test\\wandb\\run-20230202_124552-zvxnsa3e\\files\\model-best)... Done. 0.0s\n"
     ]
    },
    {
     "name": "stdout",
     "output_type": "stream",
     "text": [
      "460/460 [==============================] - 3s 8ms/step - loss: 0.5848 - mse: 0.5848 - val_loss: 0.5894 - val_mse: 0.5894 - lr: 0.0021\n",
      "Epoch 76/100\n",
      "447/460 [============================>.] - ETA: 0s - loss: 0.5849 - mse: 0.5849"
     ]
    },
    {
     "name": "stderr",
     "output_type": "stream",
     "text": [
      "WARNING:absl:Found untraced functions such as activation_layer_call_fn, activation_layer_call_and_return_conditional_losses, activation_1_layer_call_fn, activation_1_layer_call_and_return_conditional_losses, activation_2_layer_call_fn while saving (showing 5 of 8). These functions will not be directly callable after loading.\n"
     ]
    },
    {
     "name": "stdout",
     "output_type": "stream",
     "text": [
      "INFO:tensorflow:Assets written to: C:\\Users\\ucesvpm\\OneDrive - University College London\\PhD Project\\Data Analytics\\Time Series Clustering\\Third Test\\wandb\\run-20230202_124552-zvxnsa3e\\files\\model-best\\assets\n"
     ]
    },
    {
     "name": "stderr",
     "output_type": "stream",
     "text": [
      "INFO:tensorflow:Assets written to: C:\\Users\\ucesvpm\\OneDrive - University College London\\PhD Project\\Data Analytics\\Time Series Clustering\\Third Test\\wandb\\run-20230202_124552-zvxnsa3e\\files\\model-best\\assets\n",
      "\u001b[34m\u001b[1mwandb\u001b[0m: Adding directory to artifact (C:\\Users\\ucesvpm\\OneDrive - University College London\\PhD Project\\Data Analytics\\Time Series Clustering\\Third Test\\wandb\\run-20230202_124552-zvxnsa3e\\files\\model-best)... Done. 0.0s\n"
     ]
    },
    {
     "name": "stdout",
     "output_type": "stream",
     "text": [
      "460/460 [==============================] - 3s 7ms/step - loss: 0.5846 - mse: 0.5846 - val_loss: 0.5891 - val_mse: 0.5891 - lr: 0.0021\n",
      "Epoch 77/100\n",
      "448/460 [============================>.] - ETA: 0s - loss: 0.5846 - mse: 0.5846"
     ]
    },
    {
     "name": "stderr",
     "output_type": "stream",
     "text": [
      "WARNING:absl:Found untraced functions such as activation_layer_call_fn, activation_layer_call_and_return_conditional_losses, activation_1_layer_call_fn, activation_1_layer_call_and_return_conditional_losses, activation_2_layer_call_fn while saving (showing 5 of 8). These functions will not be directly callable after loading.\n"
     ]
    },
    {
     "name": "stdout",
     "output_type": "stream",
     "text": [
      "INFO:tensorflow:Assets written to: C:\\Users\\ucesvpm\\OneDrive - University College London\\PhD Project\\Data Analytics\\Time Series Clustering\\Third Test\\wandb\\run-20230202_124552-zvxnsa3e\\files\\model-best\\assets\n"
     ]
    },
    {
     "name": "stderr",
     "output_type": "stream",
     "text": [
      "INFO:tensorflow:Assets written to: C:\\Users\\ucesvpm\\OneDrive - University College London\\PhD Project\\Data Analytics\\Time Series Clustering\\Third Test\\wandb\\run-20230202_124552-zvxnsa3e\\files\\model-best\\assets\n",
      "\u001b[34m\u001b[1mwandb\u001b[0m: Adding directory to artifact (C:\\Users\\ucesvpm\\OneDrive - University College London\\PhD Project\\Data Analytics\\Time Series Clustering\\Third Test\\wandb\\run-20230202_124552-zvxnsa3e\\files\\model-best)... Done. 0.0s\n"
     ]
    },
    {
     "name": "stdout",
     "output_type": "stream",
     "text": [
      "460/460 [==============================] - 3s 6ms/step - loss: 0.5844 - mse: 0.5844 - val_loss: 0.5889 - val_mse: 0.5889 - lr: 0.0021\n",
      "Epoch 78/100\n",
      "447/460 [============================>.] - ETA: 0s - loss: 0.5844 - mse: 0.5844"
     ]
    },
    {
     "name": "stderr",
     "output_type": "stream",
     "text": [
      "WARNING:absl:Found untraced functions such as activation_layer_call_fn, activation_layer_call_and_return_conditional_losses, activation_1_layer_call_fn, activation_1_layer_call_and_return_conditional_losses, activation_2_layer_call_fn while saving (showing 5 of 8). These functions will not be directly callable after loading.\n"
     ]
    },
    {
     "name": "stdout",
     "output_type": "stream",
     "text": [
      "INFO:tensorflow:Assets written to: C:\\Users\\ucesvpm\\OneDrive - University College London\\PhD Project\\Data Analytics\\Time Series Clustering\\Third Test\\wandb\\run-20230202_124552-zvxnsa3e\\files\\model-best\\assets\n"
     ]
    },
    {
     "name": "stderr",
     "output_type": "stream",
     "text": [
      "INFO:tensorflow:Assets written to: C:\\Users\\ucesvpm\\OneDrive - University College London\\PhD Project\\Data Analytics\\Time Series Clustering\\Third Test\\wandb\\run-20230202_124552-zvxnsa3e\\files\\model-best\\assets\n",
      "\u001b[34m\u001b[1mwandb\u001b[0m: Adding directory to artifact (C:\\Users\\ucesvpm\\OneDrive - University College London\\PhD Project\\Data Analytics\\Time Series Clustering\\Third Test\\wandb\\run-20230202_124552-zvxnsa3e\\files\\model-best)... Done. 0.0s\n"
     ]
    },
    {
     "name": "stdout",
     "output_type": "stream",
     "text": [
      "460/460 [==============================] - 3s 7ms/step - loss: 0.5842 - mse: 0.5842 - val_loss: 0.5887 - val_mse: 0.5887 - lr: 0.0021\n",
      "Epoch 79/100\n",
      "454/460 [============================>.] - ETA: 0s - loss: 0.5841 - mse: 0.5841"
     ]
    },
    {
     "name": "stderr",
     "output_type": "stream",
     "text": [
      "WARNING:absl:Found untraced functions such as activation_layer_call_fn, activation_layer_call_and_return_conditional_losses, activation_1_layer_call_fn, activation_1_layer_call_and_return_conditional_losses, activation_2_layer_call_fn while saving (showing 5 of 8). These functions will not be directly callable after loading.\n"
     ]
    },
    {
     "name": "stdout",
     "output_type": "stream",
     "text": [
      "INFO:tensorflow:Assets written to: C:\\Users\\ucesvpm\\OneDrive - University College London\\PhD Project\\Data Analytics\\Time Series Clustering\\Third Test\\wandb\\run-20230202_124552-zvxnsa3e\\files\\model-best\\assets\n"
     ]
    },
    {
     "name": "stderr",
     "output_type": "stream",
     "text": [
      "INFO:tensorflow:Assets written to: C:\\Users\\ucesvpm\\OneDrive - University College London\\PhD Project\\Data Analytics\\Time Series Clustering\\Third Test\\wandb\\run-20230202_124552-zvxnsa3e\\files\\model-best\\assets\n",
      "\u001b[34m\u001b[1mwandb\u001b[0m: Adding directory to artifact (C:\\Users\\ucesvpm\\OneDrive - University College London\\PhD Project\\Data Analytics\\Time Series Clustering\\Third Test\\wandb\\run-20230202_124552-zvxnsa3e\\files\\model-best)... Done. 0.0s\n"
     ]
    },
    {
     "name": "stdout",
     "output_type": "stream",
     "text": [
      "460/460 [==============================] - 4s 10ms/step - loss: 0.5840 - mse: 0.5840 - val_loss: 0.5885 - val_mse: 0.5885 - lr: 0.0021\n",
      "Epoch 80/100\n",
      "454/460 [============================>.] - ETA: 0s - loss: 0.5835 - mse: 0.5835"
     ]
    },
    {
     "name": "stderr",
     "output_type": "stream",
     "text": [
      "WARNING:absl:Found untraced functions such as activation_layer_call_fn, activation_layer_call_and_return_conditional_losses, activation_1_layer_call_fn, activation_1_layer_call_and_return_conditional_losses, activation_2_layer_call_fn while saving (showing 5 of 8). These functions will not be directly callable after loading.\n"
     ]
    },
    {
     "name": "stdout",
     "output_type": "stream",
     "text": [
      "INFO:tensorflow:Assets written to: C:\\Users\\ucesvpm\\OneDrive - University College London\\PhD Project\\Data Analytics\\Time Series Clustering\\Third Test\\wandb\\run-20230202_124552-zvxnsa3e\\files\\model-best\\assets\n"
     ]
    },
    {
     "name": "stderr",
     "output_type": "stream",
     "text": [
      "INFO:tensorflow:Assets written to: C:\\Users\\ucesvpm\\OneDrive - University College London\\PhD Project\\Data Analytics\\Time Series Clustering\\Third Test\\wandb\\run-20230202_124552-zvxnsa3e\\files\\model-best\\assets\n",
      "\u001b[34m\u001b[1mwandb\u001b[0m: Adding directory to artifact (C:\\Users\\ucesvpm\\OneDrive - University College London\\PhD Project\\Data Analytics\\Time Series Clustering\\Third Test\\wandb\\run-20230202_124552-zvxnsa3e\\files\\model-best)... Done. 0.1s\n"
     ]
    },
    {
     "name": "stdout",
     "output_type": "stream",
     "text": [
      "460/460 [==============================] - 5s 10ms/step - loss: 0.5838 - mse: 0.5838 - val_loss: 0.5884 - val_mse: 0.5884 - lr: 0.0021\n",
      "Epoch 81/100\n",
      "460/460 [==============================] - ETA: 0s - loss: 0.5836 - mse: 0.5836"
     ]
    },
    {
     "name": "stderr",
     "output_type": "stream",
     "text": [
      "WARNING:absl:Found untraced functions such as activation_layer_call_fn, activation_layer_call_and_return_conditional_losses, activation_1_layer_call_fn, activation_1_layer_call_and_return_conditional_losses, activation_2_layer_call_fn while saving (showing 5 of 8). These functions will not be directly callable after loading.\n"
     ]
    },
    {
     "name": "stdout",
     "output_type": "stream",
     "text": [
      "INFO:tensorflow:Assets written to: C:\\Users\\ucesvpm\\OneDrive - University College London\\PhD Project\\Data Analytics\\Time Series Clustering\\Third Test\\wandb\\run-20230202_124552-zvxnsa3e\\files\\model-best\\assets\n"
     ]
    },
    {
     "name": "stderr",
     "output_type": "stream",
     "text": [
      "INFO:tensorflow:Assets written to: C:\\Users\\ucesvpm\\OneDrive - University College London\\PhD Project\\Data Analytics\\Time Series Clustering\\Third Test\\wandb\\run-20230202_124552-zvxnsa3e\\files\\model-best\\assets\n",
      "\u001b[34m\u001b[1mwandb\u001b[0m: Adding directory to artifact (C:\\Users\\ucesvpm\\OneDrive - University College London\\PhD Project\\Data Analytics\\Time Series Clustering\\Third Test\\wandb\\run-20230202_124552-zvxnsa3e\\files\\model-best)... Done. 0.0s\n"
     ]
    },
    {
     "name": "stdout",
     "output_type": "stream",
     "text": [
      "460/460 [==============================] - 4s 8ms/step - loss: 0.5836 - mse: 0.5836 - val_loss: 0.5881 - val_mse: 0.5881 - lr: 0.0021\n",
      "Epoch 82/100\n",
      "453/460 [============================>.] - ETA: 0s - loss: 0.5837 - mse: 0.5837"
     ]
    },
    {
     "name": "stderr",
     "output_type": "stream",
     "text": [
      "WARNING:absl:Found untraced functions such as activation_layer_call_fn, activation_layer_call_and_return_conditional_losses, activation_1_layer_call_fn, activation_1_layer_call_and_return_conditional_losses, activation_2_layer_call_fn while saving (showing 5 of 8). These functions will not be directly callable after loading.\n"
     ]
    },
    {
     "name": "stdout",
     "output_type": "stream",
     "text": [
      "INFO:tensorflow:Assets written to: C:\\Users\\ucesvpm\\OneDrive - University College London\\PhD Project\\Data Analytics\\Time Series Clustering\\Third Test\\wandb\\run-20230202_124552-zvxnsa3e\\files\\model-best\\assets\n"
     ]
    },
    {
     "name": "stderr",
     "output_type": "stream",
     "text": [
      "INFO:tensorflow:Assets written to: C:\\Users\\ucesvpm\\OneDrive - University College London\\PhD Project\\Data Analytics\\Time Series Clustering\\Third Test\\wandb\\run-20230202_124552-zvxnsa3e\\files\\model-best\\assets\n",
      "\u001b[34m\u001b[1mwandb\u001b[0m: Adding directory to artifact (C:\\Users\\ucesvpm\\OneDrive - University College London\\PhD Project\\Data Analytics\\Time Series Clustering\\Third Test\\wandb\\run-20230202_124552-zvxnsa3e\\files\\model-best)... Done. 0.0s\n"
     ]
    },
    {
     "name": "stdout",
     "output_type": "stream",
     "text": [
      "460/460 [==============================] - 3s 7ms/step - loss: 0.5834 - mse: 0.5834 - val_loss: 0.5880 - val_mse: 0.5880 - lr: 0.0021\n",
      "Epoch 83/100\n",
      "460/460 [==============================] - ETA: 0s - loss: 0.5832 - mse: 0.5832"
     ]
    },
    {
     "name": "stderr",
     "output_type": "stream",
     "text": [
      "WARNING:absl:Found untraced functions such as activation_layer_call_fn, activation_layer_call_and_return_conditional_losses, activation_1_layer_call_fn, activation_1_layer_call_and_return_conditional_losses, activation_2_layer_call_fn while saving (showing 5 of 8). These functions will not be directly callable after loading.\n"
     ]
    },
    {
     "name": "stdout",
     "output_type": "stream",
     "text": [
      "INFO:tensorflow:Assets written to: C:\\Users\\ucesvpm\\OneDrive - University College London\\PhD Project\\Data Analytics\\Time Series Clustering\\Third Test\\wandb\\run-20230202_124552-zvxnsa3e\\files\\model-best\\assets\n"
     ]
    },
    {
     "name": "stderr",
     "output_type": "stream",
     "text": [
      "INFO:tensorflow:Assets written to: C:\\Users\\ucesvpm\\OneDrive - University College London\\PhD Project\\Data Analytics\\Time Series Clustering\\Third Test\\wandb\\run-20230202_124552-zvxnsa3e\\files\\model-best\\assets\n",
      "\u001b[34m\u001b[1mwandb\u001b[0m: Adding directory to artifact (C:\\Users\\ucesvpm\\OneDrive - University College London\\PhD Project\\Data Analytics\\Time Series Clustering\\Third Test\\wandb\\run-20230202_124552-zvxnsa3e\\files\\model-best)... Done. 0.0s\n"
     ]
    },
    {
     "name": "stdout",
     "output_type": "stream",
     "text": [
      "460/460 [==============================] - 5s 10ms/step - loss: 0.5832 - mse: 0.5832 - val_loss: 0.5877 - val_mse: 0.5877 - lr: 0.0021\n",
      "Epoch 84/100\n",
      "450/460 [============================>.] - ETA: 0s - loss: 0.5829 - mse: 0.5829"
     ]
    },
    {
     "name": "stderr",
     "output_type": "stream",
     "text": [
      "WARNING:absl:Found untraced functions such as activation_layer_call_fn, activation_layer_call_and_return_conditional_losses, activation_1_layer_call_fn, activation_1_layer_call_and_return_conditional_losses, activation_2_layer_call_fn while saving (showing 5 of 8). These functions will not be directly callable after loading.\n"
     ]
    },
    {
     "name": "stdout",
     "output_type": "stream",
     "text": [
      "INFO:tensorflow:Assets written to: C:\\Users\\ucesvpm\\OneDrive - University College London\\PhD Project\\Data Analytics\\Time Series Clustering\\Third Test\\wandb\\run-20230202_124552-zvxnsa3e\\files\\model-best\\assets\n"
     ]
    },
    {
     "name": "stderr",
     "output_type": "stream",
     "text": [
      "INFO:tensorflow:Assets written to: C:\\Users\\ucesvpm\\OneDrive - University College London\\PhD Project\\Data Analytics\\Time Series Clustering\\Third Test\\wandb\\run-20230202_124552-zvxnsa3e\\files\\model-best\\assets\n",
      "\u001b[34m\u001b[1mwandb\u001b[0m: Adding directory to artifact (C:\\Users\\ucesvpm\\OneDrive - University College London\\PhD Project\\Data Analytics\\Time Series Clustering\\Third Test\\wandb\\run-20230202_124552-zvxnsa3e\\files\\model-best)... Done. 0.0s\n"
     ]
    },
    {
     "name": "stdout",
     "output_type": "stream",
     "text": [
      "460/460 [==============================] - 4s 9ms/step - loss: 0.5830 - mse: 0.5830 - val_loss: 0.5876 - val_mse: 0.5876 - lr: 0.0021\n",
      "Epoch 85/100\n",
      "446/460 [============================>.] - ETA: 0s - loss: 0.5827 - mse: 0.5827"
     ]
    },
    {
     "name": "stderr",
     "output_type": "stream",
     "text": [
      "WARNING:absl:Found untraced functions such as activation_layer_call_fn, activation_layer_call_and_return_conditional_losses, activation_1_layer_call_fn, activation_1_layer_call_and_return_conditional_losses, activation_2_layer_call_fn while saving (showing 5 of 8). These functions will not be directly callable after loading.\n"
     ]
    },
    {
     "name": "stdout",
     "output_type": "stream",
     "text": [
      "INFO:tensorflow:Assets written to: C:\\Users\\ucesvpm\\OneDrive - University College London\\PhD Project\\Data Analytics\\Time Series Clustering\\Third Test\\wandb\\run-20230202_124552-zvxnsa3e\\files\\model-best\\assets\n"
     ]
    },
    {
     "name": "stderr",
     "output_type": "stream",
     "text": [
      "INFO:tensorflow:Assets written to: C:\\Users\\ucesvpm\\OneDrive - University College London\\PhD Project\\Data Analytics\\Time Series Clustering\\Third Test\\wandb\\run-20230202_124552-zvxnsa3e\\files\\model-best\\assets\n",
      "\u001b[34m\u001b[1mwandb\u001b[0m: Adding directory to artifact (C:\\Users\\ucesvpm\\OneDrive - University College London\\PhD Project\\Data Analytics\\Time Series Clustering\\Third Test\\wandb\\run-20230202_124552-zvxnsa3e\\files\\model-best)... Done. 0.0s\n"
     ]
    },
    {
     "name": "stdout",
     "output_type": "stream",
     "text": [
      "460/460 [==============================] - 3s 7ms/step - loss: 0.5828 - mse: 0.5828 - val_loss: 0.5875 - val_mse: 0.5875 - lr: 0.0021\n",
      "Epoch 86/100\n",
      "459/460 [============================>.] - ETA: 0s - loss: 0.5826 - mse: 0.5826"
     ]
    },
    {
     "name": "stderr",
     "output_type": "stream",
     "text": [
      "WARNING:absl:Found untraced functions such as activation_layer_call_fn, activation_layer_call_and_return_conditional_losses, activation_1_layer_call_fn, activation_1_layer_call_and_return_conditional_losses, activation_2_layer_call_fn while saving (showing 5 of 8). These functions will not be directly callable after loading.\n"
     ]
    },
    {
     "name": "stdout",
     "output_type": "stream",
     "text": [
      "INFO:tensorflow:Assets written to: C:\\Users\\ucesvpm\\OneDrive - University College London\\PhD Project\\Data Analytics\\Time Series Clustering\\Third Test\\wandb\\run-20230202_124552-zvxnsa3e\\files\\model-best\\assets\n"
     ]
    },
    {
     "name": "stderr",
     "output_type": "stream",
     "text": [
      "INFO:tensorflow:Assets written to: C:\\Users\\ucesvpm\\OneDrive - University College London\\PhD Project\\Data Analytics\\Time Series Clustering\\Third Test\\wandb\\run-20230202_124552-zvxnsa3e\\files\\model-best\\assets\n",
      "\u001b[34m\u001b[1mwandb\u001b[0m: Adding directory to artifact (C:\\Users\\ucesvpm\\OneDrive - University College London\\PhD Project\\Data Analytics\\Time Series Clustering\\Third Test\\wandb\\run-20230202_124552-zvxnsa3e\\files\\model-best)... Done. 0.0s\n"
     ]
    },
    {
     "name": "stdout",
     "output_type": "stream",
     "text": [
      "460/460 [==============================] - 5s 11ms/step - loss: 0.5826 - mse: 0.5826 - val_loss: 0.5874 - val_mse: 0.5874 - lr: 0.0021\n",
      "Epoch 87/100\n",
      "449/460 [============================>.] - ETA: 0s - loss: 0.5822 - mse: 0.5822"
     ]
    },
    {
     "name": "stderr",
     "output_type": "stream",
     "text": [
      "WARNING:absl:Found untraced functions such as activation_layer_call_fn, activation_layer_call_and_return_conditional_losses, activation_1_layer_call_fn, activation_1_layer_call_and_return_conditional_losses, activation_2_layer_call_fn while saving (showing 5 of 8). These functions will not be directly callable after loading.\n"
     ]
    },
    {
     "name": "stdout",
     "output_type": "stream",
     "text": [
      "INFO:tensorflow:Assets written to: C:\\Users\\ucesvpm\\OneDrive - University College London\\PhD Project\\Data Analytics\\Time Series Clustering\\Third Test\\wandb\\run-20230202_124552-zvxnsa3e\\files\\model-best\\assets\n"
     ]
    },
    {
     "name": "stderr",
     "output_type": "stream",
     "text": [
      "INFO:tensorflow:Assets written to: C:\\Users\\ucesvpm\\OneDrive - University College London\\PhD Project\\Data Analytics\\Time Series Clustering\\Third Test\\wandb\\run-20230202_124552-zvxnsa3e\\files\\model-best\\assets\n",
      "\u001b[34m\u001b[1mwandb\u001b[0m: Adding directory to artifact (C:\\Users\\ucesvpm\\OneDrive - University College London\\PhD Project\\Data Analytics\\Time Series Clustering\\Third Test\\wandb\\run-20230202_124552-zvxnsa3e\\files\\model-best)... Done. 0.0s\n"
     ]
    },
    {
     "name": "stdout",
     "output_type": "stream",
     "text": [
      "460/460 [==============================] - 4s 9ms/step - loss: 0.5824 - mse: 0.5824 - val_loss: 0.5871 - val_mse: 0.5871 - lr: 0.0021\n",
      "Epoch 88/100\n",
      "454/460 [============================>.] - ETA: 0s - loss: 0.5820 - mse: 0.5820"
     ]
    },
    {
     "name": "stderr",
     "output_type": "stream",
     "text": [
      "WARNING:absl:Found untraced functions such as activation_layer_call_fn, activation_layer_call_and_return_conditional_losses, activation_1_layer_call_fn, activation_1_layer_call_and_return_conditional_losses, activation_2_layer_call_fn while saving (showing 5 of 8). These functions will not be directly callable after loading.\n"
     ]
    },
    {
     "name": "stdout",
     "output_type": "stream",
     "text": [
      "INFO:tensorflow:Assets written to: C:\\Users\\ucesvpm\\OneDrive - University College London\\PhD Project\\Data Analytics\\Time Series Clustering\\Third Test\\wandb\\run-20230202_124552-zvxnsa3e\\files\\model-best\\assets\n"
     ]
    },
    {
     "name": "stderr",
     "output_type": "stream",
     "text": [
      "INFO:tensorflow:Assets written to: C:\\Users\\ucesvpm\\OneDrive - University College London\\PhD Project\\Data Analytics\\Time Series Clustering\\Third Test\\wandb\\run-20230202_124552-zvxnsa3e\\files\\model-best\\assets\n",
      "\u001b[34m\u001b[1mwandb\u001b[0m: Adding directory to artifact (C:\\Users\\ucesvpm\\OneDrive - University College London\\PhD Project\\Data Analytics\\Time Series Clustering\\Third Test\\wandb\\run-20230202_124552-zvxnsa3e\\files\\model-best)... Done. 0.0s\n"
     ]
    },
    {
     "name": "stdout",
     "output_type": "stream",
     "text": [
      "460/460 [==============================] - 4s 8ms/step - loss: 0.5822 - mse: 0.5822 - val_loss: 0.5869 - val_mse: 0.5869 - lr: 0.0021\n",
      "Epoch 89/100\n",
      "445/460 [============================>.] - ETA: 0s - loss: 0.5819 - mse: 0.5819"
     ]
    },
    {
     "name": "stderr",
     "output_type": "stream",
     "text": [
      "WARNING:absl:Found untraced functions such as activation_layer_call_fn, activation_layer_call_and_return_conditional_losses, activation_1_layer_call_fn, activation_1_layer_call_and_return_conditional_losses, activation_2_layer_call_fn while saving (showing 5 of 8). These functions will not be directly callable after loading.\n"
     ]
    },
    {
     "name": "stdout",
     "output_type": "stream",
     "text": [
      "INFO:tensorflow:Assets written to: C:\\Users\\ucesvpm\\OneDrive - University College London\\PhD Project\\Data Analytics\\Time Series Clustering\\Third Test\\wandb\\run-20230202_124552-zvxnsa3e\\files\\model-best\\assets\n"
     ]
    },
    {
     "name": "stderr",
     "output_type": "stream",
     "text": [
      "INFO:tensorflow:Assets written to: C:\\Users\\ucesvpm\\OneDrive - University College London\\PhD Project\\Data Analytics\\Time Series Clustering\\Third Test\\wandb\\run-20230202_124552-zvxnsa3e\\files\\model-best\\assets\n",
      "\u001b[34m\u001b[1mwandb\u001b[0m: Adding directory to artifact (C:\\Users\\ucesvpm\\OneDrive - University College London\\PhD Project\\Data Analytics\\Time Series Clustering\\Third Test\\wandb\\run-20230202_124552-zvxnsa3e\\files\\model-best)... Done. 0.0s\n"
     ]
    },
    {
     "name": "stdout",
     "output_type": "stream",
     "text": [
      "460/460 [==============================] - 4s 8ms/step - loss: 0.5821 - mse: 0.5821 - val_loss: 0.5868 - val_mse: 0.5868 - lr: 0.0021\n",
      "Epoch 90/100\n",
      "459/460 [============================>.] - ETA: 0s - loss: 0.5818 - mse: 0.5818"
     ]
    },
    {
     "name": "stderr",
     "output_type": "stream",
     "text": [
      "WARNING:absl:Found untraced functions such as activation_layer_call_fn, activation_layer_call_and_return_conditional_losses, activation_1_layer_call_fn, activation_1_layer_call_and_return_conditional_losses, activation_2_layer_call_fn while saving (showing 5 of 8). These functions will not be directly callable after loading.\n"
     ]
    },
    {
     "name": "stdout",
     "output_type": "stream",
     "text": [
      "INFO:tensorflow:Assets written to: C:\\Users\\ucesvpm\\OneDrive - University College London\\PhD Project\\Data Analytics\\Time Series Clustering\\Third Test\\wandb\\run-20230202_124552-zvxnsa3e\\files\\model-best\\assets\n"
     ]
    },
    {
     "name": "stderr",
     "output_type": "stream",
     "text": [
      "INFO:tensorflow:Assets written to: C:\\Users\\ucesvpm\\OneDrive - University College London\\PhD Project\\Data Analytics\\Time Series Clustering\\Third Test\\wandb\\run-20230202_124552-zvxnsa3e\\files\\model-best\\assets\n",
      "\u001b[34m\u001b[1mwandb\u001b[0m: Adding directory to artifact (C:\\Users\\ucesvpm\\OneDrive - University College London\\PhD Project\\Data Analytics\\Time Series Clustering\\Third Test\\wandb\\run-20230202_124552-zvxnsa3e\\files\\model-best)... Done. 0.0s\n"
     ]
    },
    {
     "name": "stdout",
     "output_type": "stream",
     "text": [
      "460/460 [==============================] - 3s 7ms/step - loss: 0.5819 - mse: 0.5819 - val_loss: 0.5866 - val_mse: 0.5866 - lr: 0.0021\n",
      "Epoch 91/100\n",
      "457/460 [============================>.] - ETA: 0s - loss: 0.5816 - mse: 0.5816"
     ]
    },
    {
     "name": "stderr",
     "output_type": "stream",
     "text": [
      "WARNING:absl:Found untraced functions such as activation_layer_call_fn, activation_layer_call_and_return_conditional_losses, activation_1_layer_call_fn, activation_1_layer_call_and_return_conditional_losses, activation_2_layer_call_fn while saving (showing 5 of 8). These functions will not be directly callable after loading.\n"
     ]
    },
    {
     "name": "stdout",
     "output_type": "stream",
     "text": [
      "INFO:tensorflow:Assets written to: C:\\Users\\ucesvpm\\OneDrive - University College London\\PhD Project\\Data Analytics\\Time Series Clustering\\Third Test\\wandb\\run-20230202_124552-zvxnsa3e\\files\\model-best\\assets\n"
     ]
    },
    {
     "name": "stderr",
     "output_type": "stream",
     "text": [
      "INFO:tensorflow:Assets written to: C:\\Users\\ucesvpm\\OneDrive - University College London\\PhD Project\\Data Analytics\\Time Series Clustering\\Third Test\\wandb\\run-20230202_124552-zvxnsa3e\\files\\model-best\\assets\n",
      "\u001b[34m\u001b[1mwandb\u001b[0m: Adding directory to artifact (C:\\Users\\ucesvpm\\OneDrive - University College London\\PhD Project\\Data Analytics\\Time Series Clustering\\Third Test\\wandb\\run-20230202_124552-zvxnsa3e\\files\\model-best)... Done. 0.0s\n"
     ]
    },
    {
     "name": "stdout",
     "output_type": "stream",
     "text": [
      "460/460 [==============================] - 4s 9ms/step - loss: 0.5817 - mse: 0.5817 - val_loss: 0.5865 - val_mse: 0.5865 - lr: 0.0021\n",
      "Epoch 92/100\n",
      "449/460 [============================>.] - ETA: 0s - loss: 0.5813 - mse: 0.5813"
     ]
    },
    {
     "name": "stderr",
     "output_type": "stream",
     "text": [
      "WARNING:absl:Found untraced functions such as activation_layer_call_fn, activation_layer_call_and_return_conditional_losses, activation_1_layer_call_fn, activation_1_layer_call_and_return_conditional_losses, activation_2_layer_call_fn while saving (showing 5 of 8). These functions will not be directly callable after loading.\n"
     ]
    },
    {
     "name": "stdout",
     "output_type": "stream",
     "text": [
      "INFO:tensorflow:Assets written to: C:\\Users\\ucesvpm\\OneDrive - University College London\\PhD Project\\Data Analytics\\Time Series Clustering\\Third Test\\wandb\\run-20230202_124552-zvxnsa3e\\files\\model-best\\assets\n"
     ]
    },
    {
     "name": "stderr",
     "output_type": "stream",
     "text": [
      "INFO:tensorflow:Assets written to: C:\\Users\\ucesvpm\\OneDrive - University College London\\PhD Project\\Data Analytics\\Time Series Clustering\\Third Test\\wandb\\run-20230202_124552-zvxnsa3e\\files\\model-best\\assets\n",
      "\u001b[34m\u001b[1mwandb\u001b[0m: Adding directory to artifact (C:\\Users\\ucesvpm\\OneDrive - University College London\\PhD Project\\Data Analytics\\Time Series Clustering\\Third Test\\wandb\\run-20230202_124552-zvxnsa3e\\files\\model-best)... Done. 0.0s\n"
     ]
    },
    {
     "name": "stdout",
     "output_type": "stream",
     "text": [
      "460/460 [==============================] - 3s 7ms/step - loss: 0.5815 - mse: 0.5815 - val_loss: 0.5863 - val_mse: 0.5863 - lr: 0.0021\n",
      "Epoch 93/100\n",
      "452/460 [============================>.] - ETA: 0s - loss: 0.5814 - mse: 0.5814"
     ]
    },
    {
     "name": "stderr",
     "output_type": "stream",
     "text": [
      "WARNING:absl:Found untraced functions such as activation_layer_call_fn, activation_layer_call_and_return_conditional_losses, activation_1_layer_call_fn, activation_1_layer_call_and_return_conditional_losses, activation_2_layer_call_fn while saving (showing 5 of 8). These functions will not be directly callable after loading.\n"
     ]
    },
    {
     "name": "stdout",
     "output_type": "stream",
     "text": [
      "INFO:tensorflow:Assets written to: C:\\Users\\ucesvpm\\OneDrive - University College London\\PhD Project\\Data Analytics\\Time Series Clustering\\Third Test\\wandb\\run-20230202_124552-zvxnsa3e\\files\\model-best\\assets\n"
     ]
    },
    {
     "name": "stderr",
     "output_type": "stream",
     "text": [
      "INFO:tensorflow:Assets written to: C:\\Users\\ucesvpm\\OneDrive - University College London\\PhD Project\\Data Analytics\\Time Series Clustering\\Third Test\\wandb\\run-20230202_124552-zvxnsa3e\\files\\model-best\\assets\n",
      "\u001b[34m\u001b[1mwandb\u001b[0m: Adding directory to artifact (C:\\Users\\ucesvpm\\OneDrive - University College London\\PhD Project\\Data Analytics\\Time Series Clustering\\Third Test\\wandb\\run-20230202_124552-zvxnsa3e\\files\\model-best)... Done. 0.0s\n"
     ]
    },
    {
     "name": "stdout",
     "output_type": "stream",
     "text": [
      "460/460 [==============================] - 3s 7ms/step - loss: 0.5813 - mse: 0.5813 - val_loss: 0.5861 - val_mse: 0.5861 - lr: 0.0021\n",
      "Epoch 94/100\n",
      "457/460 [============================>.] - ETA: 0s - loss: 0.5811 - mse: 0.5811"
     ]
    },
    {
     "name": "stderr",
     "output_type": "stream",
     "text": [
      "WARNING:absl:Found untraced functions such as activation_layer_call_fn, activation_layer_call_and_return_conditional_losses, activation_1_layer_call_fn, activation_1_layer_call_and_return_conditional_losses, activation_2_layer_call_fn while saving (showing 5 of 8). These functions will not be directly callable after loading.\n"
     ]
    },
    {
     "name": "stdout",
     "output_type": "stream",
     "text": [
      "INFO:tensorflow:Assets written to: C:\\Users\\ucesvpm\\OneDrive - University College London\\PhD Project\\Data Analytics\\Time Series Clustering\\Third Test\\wandb\\run-20230202_124552-zvxnsa3e\\files\\model-best\\assets\n"
     ]
    },
    {
     "name": "stderr",
     "output_type": "stream",
     "text": [
      "INFO:tensorflow:Assets written to: C:\\Users\\ucesvpm\\OneDrive - University College London\\PhD Project\\Data Analytics\\Time Series Clustering\\Third Test\\wandb\\run-20230202_124552-zvxnsa3e\\files\\model-best\\assets\n",
      "\u001b[34m\u001b[1mwandb\u001b[0m: Adding directory to artifact (C:\\Users\\ucesvpm\\OneDrive - University College London\\PhD Project\\Data Analytics\\Time Series Clustering\\Third Test\\wandb\\run-20230202_124552-zvxnsa3e\\files\\model-best)... Done. 0.0s\n"
     ]
    },
    {
     "name": "stdout",
     "output_type": "stream",
     "text": [
      "460/460 [==============================] - 3s 8ms/step - loss: 0.5812 - mse: 0.5812 - val_loss: 0.5859 - val_mse: 0.5859 - lr: 0.0021\n",
      "Epoch 95/100\n",
      "459/460 [============================>.] - ETA: 0s - loss: 0.5810 - mse: 0.5810"
     ]
    },
    {
     "name": "stderr",
     "output_type": "stream",
     "text": [
      "WARNING:absl:Found untraced functions such as activation_layer_call_fn, activation_layer_call_and_return_conditional_losses, activation_1_layer_call_fn, activation_1_layer_call_and_return_conditional_losses, activation_2_layer_call_fn while saving (showing 5 of 8). These functions will not be directly callable after loading.\n"
     ]
    },
    {
     "name": "stdout",
     "output_type": "stream",
     "text": [
      "INFO:tensorflow:Assets written to: C:\\Users\\ucesvpm\\OneDrive - University College London\\PhD Project\\Data Analytics\\Time Series Clustering\\Third Test\\wandb\\run-20230202_124552-zvxnsa3e\\files\\model-best\\assets\n"
     ]
    },
    {
     "name": "stderr",
     "output_type": "stream",
     "text": [
      "INFO:tensorflow:Assets written to: C:\\Users\\ucesvpm\\OneDrive - University College London\\PhD Project\\Data Analytics\\Time Series Clustering\\Third Test\\wandb\\run-20230202_124552-zvxnsa3e\\files\\model-best\\assets\n",
      "\u001b[34m\u001b[1mwandb\u001b[0m: Adding directory to artifact (C:\\Users\\ucesvpm\\OneDrive - University College London\\PhD Project\\Data Analytics\\Time Series Clustering\\Third Test\\wandb\\run-20230202_124552-zvxnsa3e\\files\\model-best)... Done. 0.0s\n"
     ]
    },
    {
     "name": "stdout",
     "output_type": "stream",
     "text": [
      "460/460 [==============================] - 3s 7ms/step - loss: 0.5810 - mse: 0.5810 - val_loss: 0.5858 - val_mse: 0.5858 - lr: 0.0021\n",
      "Epoch 96/100\n",
      "448/460 [============================>.] - ETA: 0s - loss: 0.5807 - mse: 0.5807"
     ]
    },
    {
     "name": "stderr",
     "output_type": "stream",
     "text": [
      "WARNING:absl:Found untraced functions such as activation_layer_call_fn, activation_layer_call_and_return_conditional_losses, activation_1_layer_call_fn, activation_1_layer_call_and_return_conditional_losses, activation_2_layer_call_fn while saving (showing 5 of 8). These functions will not be directly callable after loading.\n"
     ]
    },
    {
     "name": "stdout",
     "output_type": "stream",
     "text": [
      "INFO:tensorflow:Assets written to: C:\\Users\\ucesvpm\\OneDrive - University College London\\PhD Project\\Data Analytics\\Time Series Clustering\\Third Test\\wandb\\run-20230202_124552-zvxnsa3e\\files\\model-best\\assets\n"
     ]
    },
    {
     "name": "stderr",
     "output_type": "stream",
     "text": [
      "INFO:tensorflow:Assets written to: C:\\Users\\ucesvpm\\OneDrive - University College London\\PhD Project\\Data Analytics\\Time Series Clustering\\Third Test\\wandb\\run-20230202_124552-zvxnsa3e\\files\\model-best\\assets\n",
      "\u001b[34m\u001b[1mwandb\u001b[0m: Adding directory to artifact (C:\\Users\\ucesvpm\\OneDrive - University College London\\PhD Project\\Data Analytics\\Time Series Clustering\\Third Test\\wandb\\run-20230202_124552-zvxnsa3e\\files\\model-best)... Done. 0.0s\n"
     ]
    },
    {
     "name": "stdout",
     "output_type": "stream",
     "text": [
      "460/460 [==============================] - 4s 8ms/step - loss: 0.5808 - mse: 0.5808 - val_loss: 0.5856 - val_mse: 0.5856 - lr: 0.0021\n",
      "Epoch 97/100\n",
      "456/460 [============================>.] - ETA: 0s - loss: 0.5808 - mse: 0.5808"
     ]
    },
    {
     "name": "stderr",
     "output_type": "stream",
     "text": [
      "WARNING:absl:Found untraced functions such as activation_layer_call_fn, activation_layer_call_and_return_conditional_losses, activation_1_layer_call_fn, activation_1_layer_call_and_return_conditional_losses, activation_2_layer_call_fn while saving (showing 5 of 8). These functions will not be directly callable after loading.\n"
     ]
    },
    {
     "name": "stdout",
     "output_type": "stream",
     "text": [
      "INFO:tensorflow:Assets written to: C:\\Users\\ucesvpm\\OneDrive - University College London\\PhD Project\\Data Analytics\\Time Series Clustering\\Third Test\\wandb\\run-20230202_124552-zvxnsa3e\\files\\model-best\\assets\n"
     ]
    },
    {
     "name": "stderr",
     "output_type": "stream",
     "text": [
      "INFO:tensorflow:Assets written to: C:\\Users\\ucesvpm\\OneDrive - University College London\\PhD Project\\Data Analytics\\Time Series Clustering\\Third Test\\wandb\\run-20230202_124552-zvxnsa3e\\files\\model-best\\assets\n",
      "\u001b[34m\u001b[1mwandb\u001b[0m: Adding directory to artifact (C:\\Users\\ucesvpm\\OneDrive - University College London\\PhD Project\\Data Analytics\\Time Series Clustering\\Third Test\\wandb\\run-20230202_124552-zvxnsa3e\\files\\model-best)... Done. 0.0s\n"
     ]
    },
    {
     "name": "stdout",
     "output_type": "stream",
     "text": [
      "460/460 [==============================] - 3s 7ms/step - loss: 0.5807 - mse: 0.5807 - val_loss: 0.5855 - val_mse: 0.5855 - lr: 0.0021\n",
      "Epoch 98/100\n",
      "451/460 [============================>.] - ETA: 0s - loss: 0.5808 - mse: 0.5808"
     ]
    },
    {
     "name": "stderr",
     "output_type": "stream",
     "text": [
      "WARNING:absl:Found untraced functions such as activation_layer_call_fn, activation_layer_call_and_return_conditional_losses, activation_1_layer_call_fn, activation_1_layer_call_and_return_conditional_losses, activation_2_layer_call_fn while saving (showing 5 of 8). These functions will not be directly callable after loading.\n"
     ]
    },
    {
     "name": "stdout",
     "output_type": "stream",
     "text": [
      "INFO:tensorflow:Assets written to: C:\\Users\\ucesvpm\\OneDrive - University College London\\PhD Project\\Data Analytics\\Time Series Clustering\\Third Test\\wandb\\run-20230202_124552-zvxnsa3e\\files\\model-best\\assets\n"
     ]
    },
    {
     "name": "stderr",
     "output_type": "stream",
     "text": [
      "INFO:tensorflow:Assets written to: C:\\Users\\ucesvpm\\OneDrive - University College London\\PhD Project\\Data Analytics\\Time Series Clustering\\Third Test\\wandb\\run-20230202_124552-zvxnsa3e\\files\\model-best\\assets\n",
      "\u001b[34m\u001b[1mwandb\u001b[0m: Adding directory to artifact (C:\\Users\\ucesvpm\\OneDrive - University College London\\PhD Project\\Data Analytics\\Time Series Clustering\\Third Test\\wandb\\run-20230202_124552-zvxnsa3e\\files\\model-best)... Done. 0.0s\n"
     ]
    },
    {
     "name": "stdout",
     "output_type": "stream",
     "text": [
      "460/460 [==============================] - 3s 8ms/step - loss: 0.5805 - mse: 0.5805 - val_loss: 0.5853 - val_mse: 0.5853 - lr: 0.0021\n",
      "Epoch 99/100\n",
      "453/460 [============================>.] - ETA: 0s - loss: 0.5804 - mse: 0.5804"
     ]
    },
    {
     "name": "stderr",
     "output_type": "stream",
     "text": [
      "WARNING:absl:Found untraced functions such as activation_layer_call_fn, activation_layer_call_and_return_conditional_losses, activation_1_layer_call_fn, activation_1_layer_call_and_return_conditional_losses, activation_2_layer_call_fn while saving (showing 5 of 8). These functions will not be directly callable after loading.\n"
     ]
    },
    {
     "name": "stdout",
     "output_type": "stream",
     "text": [
      "INFO:tensorflow:Assets written to: C:\\Users\\ucesvpm\\OneDrive - University College London\\PhD Project\\Data Analytics\\Time Series Clustering\\Third Test\\wandb\\run-20230202_124552-zvxnsa3e\\files\\model-best\\assets\n"
     ]
    },
    {
     "name": "stderr",
     "output_type": "stream",
     "text": [
      "INFO:tensorflow:Assets written to: C:\\Users\\ucesvpm\\OneDrive - University College London\\PhD Project\\Data Analytics\\Time Series Clustering\\Third Test\\wandb\\run-20230202_124552-zvxnsa3e\\files\\model-best\\assets\n",
      "\u001b[34m\u001b[1mwandb\u001b[0m: Adding directory to artifact (C:\\Users\\ucesvpm\\OneDrive - University College London\\PhD Project\\Data Analytics\\Time Series Clustering\\Third Test\\wandb\\run-20230202_124552-zvxnsa3e\\files\\model-best)... Done. 0.0s\n"
     ]
    },
    {
     "name": "stdout",
     "output_type": "stream",
     "text": [
      "460/460 [==============================] - 4s 8ms/step - loss: 0.5804 - mse: 0.5804 - val_loss: 0.5852 - val_mse: 0.5852 - lr: 0.0021\n",
      "Epoch 100/100\n",
      "460/460 [==============================] - ETA: 0s - loss: 0.5802 - mse: 0.5802"
     ]
    },
    {
     "name": "stderr",
     "output_type": "stream",
     "text": [
      "WARNING:absl:Found untraced functions such as activation_layer_call_fn, activation_layer_call_and_return_conditional_losses, activation_1_layer_call_fn, activation_1_layer_call_and_return_conditional_losses, activation_2_layer_call_fn while saving (showing 5 of 8). These functions will not be directly callable after loading.\n"
     ]
    },
    {
     "name": "stdout",
     "output_type": "stream",
     "text": [
      "INFO:tensorflow:Assets written to: C:\\Users\\ucesvpm\\OneDrive - University College London\\PhD Project\\Data Analytics\\Time Series Clustering\\Third Test\\wandb\\run-20230202_124552-zvxnsa3e\\files\\model-best\\assets\n"
     ]
    },
    {
     "name": "stderr",
     "output_type": "stream",
     "text": [
      "INFO:tensorflow:Assets written to: C:\\Users\\ucesvpm\\OneDrive - University College London\\PhD Project\\Data Analytics\\Time Series Clustering\\Third Test\\wandb\\run-20230202_124552-zvxnsa3e\\files\\model-best\\assets\n",
      "\u001b[34m\u001b[1mwandb\u001b[0m: Adding directory to artifact (C:\\Users\\ucesvpm\\OneDrive - University College London\\PhD Project\\Data Analytics\\Time Series Clustering\\Third Test\\wandb\\run-20230202_124552-zvxnsa3e\\files\\model-best)... Done. 0.2s\n"
     ]
    },
    {
     "name": "stdout",
     "output_type": "stream",
     "text": [
      "460/460 [==============================] - 6s 13ms/step - loss: 0.5802 - mse: 0.5802 - val_loss: 0.5850 - val_mse: 0.5850 - lr: 0.0021\n"
     ]
    },
    {
     "data": {
      "text/html": [
       "Waiting for W&B process to finish... <strong style=\"color:green\">(success).</strong>"
      ],
      "text/plain": [
       "<IPython.core.display.HTML object>"
      ]
     },
     "metadata": {},
     "output_type": "display_data"
    },
    {
     "data": {
      "text/html": [
       "<style>\n",
       "    table.wandb td:nth-child(1) { padding: 0 10px; text-align: left ; width: auto;} td:nth-child(2) {text-align: left ; width: 100%}\n",
       "    .wandb-row { display: flex; flex-direction: row; flex-wrap: wrap; justify-content: flex-start; width: 100% }\n",
       "    .wandb-col { display: flex; flex-direction: column; flex-basis: 100%; flex: 1; padding: 10px; }\n",
       "    </style>\n",
       "<div class=\"wandb-row\"><div class=\"wandb-col\"><h3>Run history:</h3><br/><table class=\"wandb\"><tr><td>epoch</td><td>▁▁▁▁▂▂▂▂▂▃▃▃▃▃▃▄▄▄▄▄▅▅▅▅▅▅▆▆▆▆▆▇▇▇▇▇▇███</td></tr><tr><td>loss</td><td>█▃▂▂▂▂▂▂▂▂▂▂▂▂▁▁▁▁▁▁▁▁▁▁▁▁▁▁▁▁▁▁▁▁▁▁▁▁▁▁</td></tr><tr><td>mse</td><td>█▃▂▂▂▂▂▂▂▂▂▂▂▂▁▁▁▁▁▁▁▁▁▁▁▁▁▁▁▁▁▁▁▁▁▁▁▁▁▁</td></tr><tr><td>val_loss</td><td>█▄▃▃▃▃▃▂▂▂▂▂▂▂▂▂▂▂▂▂▂▂▂▁▁▁▁▁▁▁▁▁▁▁▁▁▁▁▁▁</td></tr><tr><td>val_mse</td><td>█▄▃▃▃▃▃▂▂▂▂▂▂▂▂▂▂▂▂▂▂▂▂▁▁▁▁▁▁▁▁▁▁▁▁▁▁▁▁▁</td></tr></table><br/></div><div class=\"wandb-col\"><h3>Run summary:</h3><br/><table class=\"wandb\"><tr><td>best_epoch</td><td>99</td></tr><tr><td>best_val_loss</td><td>0.58502</td></tr><tr><td>epoch</td><td>99</td></tr><tr><td>loss</td><td>0.58019</td></tr><tr><td>mse</td><td>0.58019</td></tr><tr><td>val_loss</td><td>0.58502</td></tr><tr><td>val_mse</td><td>0.58502</td></tr></table><br/></div></div>"
      ],
      "text/plain": [
       "<IPython.core.display.HTML object>"
      ]
     },
     "metadata": {},
     "output_type": "display_data"
    },
    {
     "data": {
      "text/html": [
       "Synced <strong style=\"color:#cdcd00\">mild-sweep-2</strong>: <a href=\"https://wandb.ai/vasco-phd/FC_AE-Kenya_10k_Set_1_w90/runs/zvxnsa3e\" target=\"_blank\">https://wandb.ai/vasco-phd/FC_AE-Kenya_10k_Set_1_w90/runs/zvxnsa3e</a><br/>Synced 6 W&B file(s), 1 media file(s), 301 artifact file(s) and 1 other file(s)"
      ],
      "text/plain": [
       "<IPython.core.display.HTML object>"
      ]
     },
     "metadata": {},
     "output_type": "display_data"
    },
    {
     "data": {
      "text/html": [
       "Find logs at: <code>.\\wandb\\run-20230202_124552-zvxnsa3e\\logs</code>"
      ],
      "text/plain": [
       "<IPython.core.display.HTML object>"
      ]
     },
     "metadata": {},
     "output_type": "display_data"
    },
    {
     "name": "stderr",
     "output_type": "stream",
     "text": [
      "\u001b[34m\u001b[1mwandb\u001b[0m: Agent Starting Run: inw0s5z9 with config:\n",
      "\u001b[34m\u001b[1mwandb\u001b[0m: \tactivation_fn: LeakyReLU\n",
      "\u001b[34m\u001b[1mwandb\u001b[0m: \tbatch_size: 20\n",
      "\u001b[34m\u001b[1mwandb\u001b[0m: \tepochs: 100\n",
      "\u001b[34m\u001b[1mwandb\u001b[0m: \tlatent_layer_size: 5\n",
      "\u001b[34m\u001b[1mwandb\u001b[0m: \tlearning_rate: 0.0028571564874203285\n",
      "\u001b[34m\u001b[1mwandb\u001b[0m: \toptimizer: nadam\n",
      "\u001b[34m\u001b[1mwandb\u001b[0m: \twindow_length: 90\n"
     ]
    },
    {
     "data": {
      "text/html": [
       "wandb version 0.13.9 is available!  To upgrade, please run:\n",
       " $ pip install wandb --upgrade"
      ],
      "text/plain": [
       "<IPython.core.display.HTML object>"
      ]
     },
     "metadata": {},
     "output_type": "display_data"
    },
    {
     "data": {
      "text/html": [
       "Tracking run with wandb version 0.13.6"
      ],
      "text/plain": [
       "<IPython.core.display.HTML object>"
      ]
     },
     "metadata": {},
     "output_type": "display_data"
    },
    {
     "data": {
      "text/html": [
       "Run data is saved locally in <code>C:\\Users\\ucesvpm\\OneDrive - University College London\\PhD Project\\Data Analytics\\Time Series Clustering\\Third Test\\wandb\\run-20230202_125224-inw0s5z9</code>"
      ],
      "text/plain": [
       "<IPython.core.display.HTML object>"
      ]
     },
     "metadata": {},
     "output_type": "display_data"
    },
    {
     "data": {
      "text/html": [
       "Syncing run <strong><a href=\"https://wandb.ai/vasco-phd/FC_AE-Kenya_10k_Set_1_w90/runs/inw0s5z9\" target=\"_blank\">treasured-sweep-3</a></strong> to <a href=\"https://wandb.ai/vasco-phd/FC_AE-Kenya_10k_Set_1_w90\" target=\"_blank\">Weights & Biases</a> (<a href=\"https://wandb.me/run\" target=\"_blank\">docs</a>)<br/>Sweep page:  <a href=\"https://wandb.ai/vasco-phd/FC_AE-Kenya_10k_Set_1_w90/sweeps/ikwjt20r\" target=\"_blank\">https://wandb.ai/vasco-phd/FC_AE-Kenya_10k_Set_1_w90/sweeps/ikwjt20r</a>"
      ],
      "text/plain": [
       "<IPython.core.display.HTML object>"
      ]
     },
     "metadata": {},
     "output_type": "display_data"
    },
    {
     "name": "stdout",
     "output_type": "stream",
     "text": [
      "Epoch 1/100\n",
      "   1/3542 [..............................] - ETA: 55:21 - loss: 2.6795 - mse: 2.6795WARNING:tensorflow:Callback method `on_train_batch_end` is slow compared to the batch time (batch time: 0.0016s vs `on_train_batch_end` time: 0.0022s). Check your callbacks.\n"
     ]
    },
    {
     "name": "stderr",
     "output_type": "stream",
     "text": [
      "WARNING:tensorflow:Callback method `on_train_batch_end` is slow compared to the batch time (batch time: 0.0016s vs `on_train_batch_end` time: 0.0022s). Check your callbacks.\n"
     ]
    },
    {
     "name": "stdout",
     "output_type": "stream",
     "text": [
      "3542/3542 [==============================] - ETA: 0s - loss: 0.6094 - mse: 0.6094"
     ]
    },
    {
     "name": "stderr",
     "output_type": "stream",
     "text": [
      "WARNING:absl:Found untraced functions such as leaky_re_lu_layer_call_fn, leaky_re_lu_layer_call_and_return_conditional_losses, leaky_re_lu_1_layer_call_fn, leaky_re_lu_1_layer_call_and_return_conditional_losses, leaky_re_lu_2_layer_call_fn while saving (showing 5 of 8). These functions will not be directly callable after loading.\n"
     ]
    },
    {
     "name": "stdout",
     "output_type": "stream",
     "text": [
      "INFO:tensorflow:Assets written to: C:\\Users\\ucesvpm\\OneDrive - University College London\\PhD Project\\Data Analytics\\Time Series Clustering\\Third Test\\wandb\\run-20230202_125224-inw0s5z9\\files\\model-best\\assets\n"
     ]
    },
    {
     "name": "stderr",
     "output_type": "stream",
     "text": [
      "INFO:tensorflow:Assets written to: C:\\Users\\ucesvpm\\OneDrive - University College London\\PhD Project\\Data Analytics\\Time Series Clustering\\Third Test\\wandb\\run-20230202_125224-inw0s5z9\\files\\model-best\\assets\n",
      "\u001b[34m\u001b[1mwandb\u001b[0m: Adding directory to artifact (C:\\Users\\ucesvpm\\OneDrive - University College London\\PhD Project\\Data Analytics\\Time Series Clustering\\Third Test\\wandb\\run-20230202_125224-inw0s5z9\\files\\model-best)... Done. 0.0s\n"
     ]
    },
    {
     "name": "stdout",
     "output_type": "stream",
     "text": [
      "3542/3542 [==============================] - 21s 6ms/step - loss: 0.6094 - mse: 0.6094 - val_loss: 0.5865 - val_mse: 0.5865 - lr: 0.0029\n",
      "Epoch 2/100\n",
      "3532/3542 [============================>.] - ETA: 0s - loss: 0.5776 - mse: 0.5776"
     ]
    },
    {
     "name": "stderr",
     "output_type": "stream",
     "text": [
      "WARNING:absl:Found untraced functions such as leaky_re_lu_layer_call_fn, leaky_re_lu_layer_call_and_return_conditional_losses, leaky_re_lu_1_layer_call_fn, leaky_re_lu_1_layer_call_and_return_conditional_losses, leaky_re_lu_2_layer_call_fn while saving (showing 5 of 8). These functions will not be directly callable after loading.\n"
     ]
    },
    {
     "name": "stdout",
     "output_type": "stream",
     "text": [
      "INFO:tensorflow:Assets written to: C:\\Users\\ucesvpm\\OneDrive - University College London\\PhD Project\\Data Analytics\\Time Series Clustering\\Third Test\\wandb\\run-20230202_125224-inw0s5z9\\files\\model-best\\assets\n"
     ]
    },
    {
     "name": "stderr",
     "output_type": "stream",
     "text": [
      "INFO:tensorflow:Assets written to: C:\\Users\\ucesvpm\\OneDrive - University College London\\PhD Project\\Data Analytics\\Time Series Clustering\\Third Test\\wandb\\run-20230202_125224-inw0s5z9\\files\\model-best\\assets\n",
      "\u001b[34m\u001b[1mwandb\u001b[0m: Adding directory to artifact (C:\\Users\\ucesvpm\\OneDrive - University College London\\PhD Project\\Data Analytics\\Time Series Clustering\\Third Test\\wandb\\run-20230202_125224-inw0s5z9\\files\\model-best)... Done. 0.1s\n"
     ]
    },
    {
     "name": "stdout",
     "output_type": "stream",
     "text": [
      "3542/3542 [==============================] - 16s 5ms/step - loss: 0.5776 - mse: 0.5776 - val_loss: 0.5774 - val_mse: 0.5774 - lr: 0.0029\n",
      "Epoch 3/100\n",
      "3528/3542 [============================>.] - ETA: 0s - loss: 0.5695 - mse: 0.5695"
     ]
    },
    {
     "name": "stderr",
     "output_type": "stream",
     "text": [
      "WARNING:absl:Found untraced functions such as leaky_re_lu_layer_call_fn, leaky_re_lu_layer_call_and_return_conditional_losses, leaky_re_lu_1_layer_call_fn, leaky_re_lu_1_layer_call_and_return_conditional_losses, leaky_re_lu_2_layer_call_fn while saving (showing 5 of 8). These functions will not be directly callable after loading.\n"
     ]
    },
    {
     "name": "stdout",
     "output_type": "stream",
     "text": [
      "INFO:tensorflow:Assets written to: C:\\Users\\ucesvpm\\OneDrive - University College London\\PhD Project\\Data Analytics\\Time Series Clustering\\Third Test\\wandb\\run-20230202_125224-inw0s5z9\\files\\model-best\\assets\n"
     ]
    },
    {
     "name": "stderr",
     "output_type": "stream",
     "text": [
      "INFO:tensorflow:Assets written to: C:\\Users\\ucesvpm\\OneDrive - University College London\\PhD Project\\Data Analytics\\Time Series Clustering\\Third Test\\wandb\\run-20230202_125224-inw0s5z9\\files\\model-best\\assets\n",
      "\u001b[34m\u001b[1mwandb\u001b[0m: Adding directory to artifact (C:\\Users\\ucesvpm\\OneDrive - University College London\\PhD Project\\Data Analytics\\Time Series Clustering\\Third Test\\wandb\\run-20230202_125224-inw0s5z9\\files\\model-best)... Done. 0.0s\n"
     ]
    },
    {
     "name": "stdout",
     "output_type": "stream",
     "text": [
      "3542/3542 [==============================] - 15s 4ms/step - loss: 0.5695 - mse: 0.5695 - val_loss: 0.5730 - val_mse: 0.5730 - lr: 0.0029\n",
      "Epoch 4/100\n",
      "3532/3542 [============================>.] - ETA: 0s - loss: 0.5646 - mse: 0.5646"
     ]
    },
    {
     "name": "stderr",
     "output_type": "stream",
     "text": [
      "WARNING:absl:Found untraced functions such as leaky_re_lu_layer_call_fn, leaky_re_lu_layer_call_and_return_conditional_losses, leaky_re_lu_1_layer_call_fn, leaky_re_lu_1_layer_call_and_return_conditional_losses, leaky_re_lu_2_layer_call_fn while saving (showing 5 of 8). These functions will not be directly callable after loading.\n"
     ]
    },
    {
     "name": "stdout",
     "output_type": "stream",
     "text": [
      "INFO:tensorflow:Assets written to: C:\\Users\\ucesvpm\\OneDrive - University College London\\PhD Project\\Data Analytics\\Time Series Clustering\\Third Test\\wandb\\run-20230202_125224-inw0s5z9\\files\\model-best\\assets\n"
     ]
    },
    {
     "name": "stderr",
     "output_type": "stream",
     "text": [
      "INFO:tensorflow:Assets written to: C:\\Users\\ucesvpm\\OneDrive - University College London\\PhD Project\\Data Analytics\\Time Series Clustering\\Third Test\\wandb\\run-20230202_125224-inw0s5z9\\files\\model-best\\assets\n",
      "\u001b[34m\u001b[1mwandb\u001b[0m: Adding directory to artifact (C:\\Users\\ucesvpm\\OneDrive - University College London\\PhD Project\\Data Analytics\\Time Series Clustering\\Third Test\\wandb\\run-20230202_125224-inw0s5z9\\files\\model-best)... Done. 0.0s\n"
     ]
    },
    {
     "name": "stdout",
     "output_type": "stream",
     "text": [
      "3542/3542 [==============================] - 13s 4ms/step - loss: 0.5646 - mse: 0.5646 - val_loss: 0.5665 - val_mse: 0.5665 - lr: 0.0029\n",
      "Epoch 5/100\n",
      "3522/3542 [============================>.] - ETA: 0s - loss: 0.5613 - mse: 0.5613"
     ]
    },
    {
     "name": "stderr",
     "output_type": "stream",
     "text": [
      "WARNING:absl:Found untraced functions such as leaky_re_lu_layer_call_fn, leaky_re_lu_layer_call_and_return_conditional_losses, leaky_re_lu_1_layer_call_fn, leaky_re_lu_1_layer_call_and_return_conditional_losses, leaky_re_lu_2_layer_call_fn while saving (showing 5 of 8). These functions will not be directly callable after loading.\n"
     ]
    },
    {
     "name": "stdout",
     "output_type": "stream",
     "text": [
      "INFO:tensorflow:Assets written to: C:\\Users\\ucesvpm\\OneDrive - University College London\\PhD Project\\Data Analytics\\Time Series Clustering\\Third Test\\wandb\\run-20230202_125224-inw0s5z9\\files\\model-best\\assets\n"
     ]
    },
    {
     "name": "stderr",
     "output_type": "stream",
     "text": [
      "INFO:tensorflow:Assets written to: C:\\Users\\ucesvpm\\OneDrive - University College London\\PhD Project\\Data Analytics\\Time Series Clustering\\Third Test\\wandb\\run-20230202_125224-inw0s5z9\\files\\model-best\\assets\n",
      "\u001b[34m\u001b[1mwandb\u001b[0m: Adding directory to artifact (C:\\Users\\ucesvpm\\OneDrive - University College London\\PhD Project\\Data Analytics\\Time Series Clustering\\Third Test\\wandb\\run-20230202_125224-inw0s5z9\\files\\model-best)... Done. 0.0s\n"
     ]
    },
    {
     "name": "stdout",
     "output_type": "stream",
     "text": [
      "3542/3542 [==============================] - 13s 4ms/step - loss: 0.5613 - mse: 0.5613 - val_loss: 0.5645 - val_mse: 0.5645 - lr: 0.0029\n",
      "Epoch 6/100\n",
      "3527/3542 [============================>.] - ETA: 0s - loss: 0.5598 - mse: 0.5598"
     ]
    },
    {
     "name": "stderr",
     "output_type": "stream",
     "text": [
      "WARNING:absl:Found untraced functions such as leaky_re_lu_layer_call_fn, leaky_re_lu_layer_call_and_return_conditional_losses, leaky_re_lu_1_layer_call_fn, leaky_re_lu_1_layer_call_and_return_conditional_losses, leaky_re_lu_2_layer_call_fn while saving (showing 5 of 8). These functions will not be directly callable after loading.\n"
     ]
    },
    {
     "name": "stdout",
     "output_type": "stream",
     "text": [
      "INFO:tensorflow:Assets written to: C:\\Users\\ucesvpm\\OneDrive - University College London\\PhD Project\\Data Analytics\\Time Series Clustering\\Third Test\\wandb\\run-20230202_125224-inw0s5z9\\files\\model-best\\assets\n"
     ]
    },
    {
     "name": "stderr",
     "output_type": "stream",
     "text": [
      "INFO:tensorflow:Assets written to: C:\\Users\\ucesvpm\\OneDrive - University College London\\PhD Project\\Data Analytics\\Time Series Clustering\\Third Test\\wandb\\run-20230202_125224-inw0s5z9\\files\\model-best\\assets\n",
      "\u001b[34m\u001b[1mwandb\u001b[0m: Adding directory to artifact (C:\\Users\\ucesvpm\\OneDrive - University College London\\PhD Project\\Data Analytics\\Time Series Clustering\\Third Test\\wandb\\run-20230202_125224-inw0s5z9\\files\\model-best)... Done. 0.0s\n"
     ]
    },
    {
     "name": "stdout",
     "output_type": "stream",
     "text": [
      "3542/3542 [==============================] - 12s 3ms/step - loss: 0.5598 - mse: 0.5598 - val_loss: 0.5639 - val_mse: 0.5639 - lr: 0.0029\n",
      "Epoch 7/100\n",
      "3534/3542 [============================>.] - ETA: 0s - loss: 0.5571 - mse: 0.5571"
     ]
    },
    {
     "name": "stderr",
     "output_type": "stream",
     "text": [
      "WARNING:absl:Found untraced functions such as leaky_re_lu_layer_call_fn, leaky_re_lu_layer_call_and_return_conditional_losses, leaky_re_lu_1_layer_call_fn, leaky_re_lu_1_layer_call_and_return_conditional_losses, leaky_re_lu_2_layer_call_fn while saving (showing 5 of 8). These functions will not be directly callable after loading.\n"
     ]
    },
    {
     "name": "stdout",
     "output_type": "stream",
     "text": [
      "INFO:tensorflow:Assets written to: C:\\Users\\ucesvpm\\OneDrive - University College London\\PhD Project\\Data Analytics\\Time Series Clustering\\Third Test\\wandb\\run-20230202_125224-inw0s5z9\\files\\model-best\\assets\n"
     ]
    },
    {
     "name": "stderr",
     "output_type": "stream",
     "text": [
      "INFO:tensorflow:Assets written to: C:\\Users\\ucesvpm\\OneDrive - University College London\\PhD Project\\Data Analytics\\Time Series Clustering\\Third Test\\wandb\\run-20230202_125224-inw0s5z9\\files\\model-best\\assets\n",
      "\u001b[34m\u001b[1mwandb\u001b[0m: Adding directory to artifact (C:\\Users\\ucesvpm\\OneDrive - University College London\\PhD Project\\Data Analytics\\Time Series Clustering\\Third Test\\wandb\\run-20230202_125224-inw0s5z9\\files\\model-best)... Done. 0.0s\n"
     ]
    },
    {
     "name": "stdout",
     "output_type": "stream",
     "text": [
      "3542/3542 [==============================] - 12s 3ms/step - loss: 0.5570 - mse: 0.5570 - val_loss: 0.5620 - val_mse: 0.5620 - lr: 0.0029\n",
      "Epoch 8/100\n",
      "3538/3542 [============================>.] - ETA: 0s - loss: 0.5552 - mse: 0.5552"
     ]
    },
    {
     "name": "stderr",
     "output_type": "stream",
     "text": [
      "WARNING:absl:Found untraced functions such as leaky_re_lu_layer_call_fn, leaky_re_lu_layer_call_and_return_conditional_losses, leaky_re_lu_1_layer_call_fn, leaky_re_lu_1_layer_call_and_return_conditional_losses, leaky_re_lu_2_layer_call_fn while saving (showing 5 of 8). These functions will not be directly callable after loading.\n"
     ]
    },
    {
     "name": "stdout",
     "output_type": "stream",
     "text": [
      "INFO:tensorflow:Assets written to: C:\\Users\\ucesvpm\\OneDrive - University College London\\PhD Project\\Data Analytics\\Time Series Clustering\\Third Test\\wandb\\run-20230202_125224-inw0s5z9\\files\\model-best\\assets\n"
     ]
    },
    {
     "name": "stderr",
     "output_type": "stream",
     "text": [
      "INFO:tensorflow:Assets written to: C:\\Users\\ucesvpm\\OneDrive - University College London\\PhD Project\\Data Analytics\\Time Series Clustering\\Third Test\\wandb\\run-20230202_125224-inw0s5z9\\files\\model-best\\assets\n",
      "\u001b[34m\u001b[1mwandb\u001b[0m: Adding directory to artifact (C:\\Users\\ucesvpm\\OneDrive - University College London\\PhD Project\\Data Analytics\\Time Series Clustering\\Third Test\\wandb\\run-20230202_125224-inw0s5z9\\files\\model-best)... Done. 0.0s\n"
     ]
    },
    {
     "name": "stdout",
     "output_type": "stream",
     "text": [
      "3542/3542 [==============================] - 15s 4ms/step - loss: 0.5553 - mse: 0.5553 - val_loss: 0.5579 - val_mse: 0.5579 - lr: 0.0029\n",
      "Epoch 9/100\n",
      "3542/3542 [==============================] - 12s 3ms/step - loss: 0.5539 - mse: 0.5539 - val_loss: 0.5580 - val_mse: 0.5580 - lr: 0.0029\n",
      "Epoch 10/100\n",
      "3529/3542 [============================>.] - ETA: 0s - loss: 0.5529 - mse: 0.5529"
     ]
    },
    {
     "name": "stderr",
     "output_type": "stream",
     "text": [
      "WARNING:absl:Found untraced functions such as leaky_re_lu_layer_call_fn, leaky_re_lu_layer_call_and_return_conditional_losses, leaky_re_lu_1_layer_call_fn, leaky_re_lu_1_layer_call_and_return_conditional_losses, leaky_re_lu_2_layer_call_fn while saving (showing 5 of 8). These functions will not be directly callable after loading.\n"
     ]
    },
    {
     "name": "stdout",
     "output_type": "stream",
     "text": [
      "INFO:tensorflow:Assets written to: C:\\Users\\ucesvpm\\OneDrive - University College London\\PhD Project\\Data Analytics\\Time Series Clustering\\Third Test\\wandb\\run-20230202_125224-inw0s5z9\\files\\model-best\\assets\n"
     ]
    },
    {
     "name": "stderr",
     "output_type": "stream",
     "text": [
      "INFO:tensorflow:Assets written to: C:\\Users\\ucesvpm\\OneDrive - University College London\\PhD Project\\Data Analytics\\Time Series Clustering\\Third Test\\wandb\\run-20230202_125224-inw0s5z9\\files\\model-best\\assets\n",
      "\u001b[34m\u001b[1mwandb\u001b[0m: Adding directory to artifact (C:\\Users\\ucesvpm\\OneDrive - University College London\\PhD Project\\Data Analytics\\Time Series Clustering\\Third Test\\wandb\\run-20230202_125224-inw0s5z9\\files\\model-best)... Done. 0.1s\n"
     ]
    },
    {
     "name": "stdout",
     "output_type": "stream",
     "text": [
      "3542/3542 [==============================] - 13s 4ms/step - loss: 0.5530 - mse: 0.5530 - val_loss: 0.5570 - val_mse: 0.5570 - lr: 0.0029\n",
      "Epoch 11/100\n",
      "3542/3542 [==============================] - 12s 4ms/step - loss: 0.5522 - mse: 0.5522 - val_loss: 0.5576 - val_mse: 0.5576 - lr: 0.0029\n",
      "Epoch 12/100\n",
      "2426/3542 [===================>..........] - ETA: 2s - loss: 0.5497 - mse: 0.5497"
     ]
    },
    {
     "name": "stderr",
     "output_type": "stream",
     "text": [
      "WARNING:absl:Found untraced functions such as leaky_re_lu_layer_call_fn, leaky_re_lu_layer_call_and_return_conditional_losses, leaky_re_lu_1_layer_call_fn, leaky_re_lu_1_layer_call_and_return_conditional_losses, leaky_re_lu_2_layer_call_fn while saving (showing 5 of 8). These functions will not be directly callable after loading.\n"
     ]
    },
    {
     "name": "stdout",
     "output_type": "stream",
     "text": [
      "INFO:tensorflow:Assets written to: C:\\Users\\ucesvpm\\OneDrive - University College London\\PhD Project\\Data Analytics\\Time Series Clustering\\Third Test\\wandb\\run-20230202_125224-inw0s5z9\\files\\model-best\\assets\n"
     ]
    },
    {
     "name": "stderr",
     "output_type": "stream",
     "text": [
      "INFO:tensorflow:Assets written to: C:\\Users\\ucesvpm\\OneDrive - University College London\\PhD Project\\Data Analytics\\Time Series Clustering\\Third Test\\wandb\\run-20230202_125224-inw0s5z9\\files\\model-best\\assets\n",
      "\u001b[34m\u001b[1mwandb\u001b[0m: Adding directory to artifact (C:\\Users\\ucesvpm\\OneDrive - University College London\\PhD Project\\Data Analytics\\Time Series Clustering\\Third Test\\wandb\\run-20230202_125224-inw0s5z9\\files\\model-best)... Done. 0.0s\n"
     ]
    },
    {
     "name": "stdout",
     "output_type": "stream",
     "text": [
      "3542/3542 [==============================] - 14s 4ms/step - loss: 0.5314 - mse: 0.5314 - val_loss: 0.5399 - val_mse: 0.5399 - lr: 0.0014\n",
      "Epoch 35/100\n",
      "3538/3542 [============================>.] - ETA: 0s - loss: 0.5298 - mse: 0.5298"
     ]
    },
    {
     "name": "stderr",
     "output_type": "stream",
     "text": [
      "WARNING:absl:Found untraced functions such as leaky_re_lu_layer_call_fn, leaky_re_lu_layer_call_and_return_conditional_losses, leaky_re_lu_1_layer_call_fn, leaky_re_lu_1_layer_call_and_return_conditional_losses, leaky_re_lu_2_layer_call_fn while saving (showing 5 of 8). These functions will not be directly callable after loading.\n"
     ]
    },
    {
     "name": "stdout",
     "output_type": "stream",
     "text": [
      "INFO:tensorflow:Assets written to: C:\\Users\\ucesvpm\\OneDrive - University College London\\PhD Project\\Data Analytics\\Time Series Clustering\\Third Test\\wandb\\run-20230202_125224-inw0s5z9\\files\\model-best\\assets\n"
     ]
    },
    {
     "name": "stderr",
     "output_type": "stream",
     "text": [
      "INFO:tensorflow:Assets written to: C:\\Users\\ucesvpm\\OneDrive - University College London\\PhD Project\\Data Analytics\\Time Series Clustering\\Third Test\\wandb\\run-20230202_125224-inw0s5z9\\files\\model-best\\assets\n",
      "\u001b[34m\u001b[1mwandb\u001b[0m: Adding directory to artifact (C:\\Users\\ucesvpm\\OneDrive - University College London\\PhD Project\\Data Analytics\\Time Series Clustering\\Third Test\\wandb\\run-20230202_125224-inw0s5z9\\files\\model-best)... Done. 0.1s\n"
     ]
    },
    {
     "name": "stdout",
     "output_type": "stream",
     "text": [
      "3542/3542 [==============================] - 15s 4ms/step - loss: 0.5298 - mse: 0.5298 - val_loss: 0.5377 - val_mse: 0.5377 - lr: 0.0014\n",
      "Epoch 36/100\n",
      "3542/3542 [==============================] - ETA: 0s - loss: 0.5288 - mse: 0.5288"
     ]
    },
    {
     "name": "stderr",
     "output_type": "stream",
     "text": [
      "WARNING:absl:Found untraced functions such as leaky_re_lu_layer_call_fn, leaky_re_lu_layer_call_and_return_conditional_losses, leaky_re_lu_1_layer_call_fn, leaky_re_lu_1_layer_call_and_return_conditional_losses, leaky_re_lu_2_layer_call_fn while saving (showing 5 of 8). These functions will not be directly callable after loading.\n"
     ]
    },
    {
     "name": "stdout",
     "output_type": "stream",
     "text": [
      "INFO:tensorflow:Assets written to: C:\\Users\\ucesvpm\\OneDrive - University College London\\PhD Project\\Data Analytics\\Time Series Clustering\\Third Test\\wandb\\run-20230202_125224-inw0s5z9\\files\\model-best\\assets\n"
     ]
    },
    {
     "name": "stderr",
     "output_type": "stream",
     "text": [
      "INFO:tensorflow:Assets written to: C:\\Users\\ucesvpm\\OneDrive - University College London\\PhD Project\\Data Analytics\\Time Series Clustering\\Third Test\\wandb\\run-20230202_125224-inw0s5z9\\files\\model-best\\assets\n",
      "\u001b[34m\u001b[1mwandb\u001b[0m: Adding directory to artifact (C:\\Users\\ucesvpm\\OneDrive - University College London\\PhD Project\\Data Analytics\\Time Series Clustering\\Third Test\\wandb\\run-20230202_125224-inw0s5z9\\files\\model-best)... Done. 0.0s\n"
     ]
    },
    {
     "name": "stdout",
     "output_type": "stream",
     "text": [
      "3542/3542 [==============================] - 15s 4ms/step - loss: 0.5288 - mse: 0.5288 - val_loss: 0.5377 - val_mse: 0.5377 - lr: 0.0014\n",
      "Epoch 37/100\n",
      "3523/3542 [============================>.] - ETA: 0s - loss: 0.5284 - mse: 0.5284"
     ]
    },
    {
     "name": "stderr",
     "output_type": "stream",
     "text": [
      "WARNING:absl:Found untraced functions such as leaky_re_lu_layer_call_fn, leaky_re_lu_layer_call_and_return_conditional_losses, leaky_re_lu_1_layer_call_fn, leaky_re_lu_1_layer_call_and_return_conditional_losses, leaky_re_lu_2_layer_call_fn while saving (showing 5 of 8). These functions will not be directly callable after loading.\n"
     ]
    },
    {
     "name": "stdout",
     "output_type": "stream",
     "text": [
      "INFO:tensorflow:Assets written to: C:\\Users\\ucesvpm\\OneDrive - University College London\\PhD Project\\Data Analytics\\Time Series Clustering\\Third Test\\wandb\\run-20230202_125224-inw0s5z9\\files\\model-best\\assets\n"
     ]
    },
    {
     "name": "stderr",
     "output_type": "stream",
     "text": [
      "INFO:tensorflow:Assets written to: C:\\Users\\ucesvpm\\OneDrive - University College London\\PhD Project\\Data Analytics\\Time Series Clustering\\Third Test\\wandb\\run-20230202_125224-inw0s5z9\\files\\model-best\\assets\n",
      "\u001b[34m\u001b[1mwandb\u001b[0m: Adding directory to artifact (C:\\Users\\ucesvpm\\OneDrive - University College London\\PhD Project\\Data Analytics\\Time Series Clustering\\Third Test\\wandb\\run-20230202_125224-inw0s5z9\\files\\model-best)... Done. 0.0s\n"
     ]
    },
    {
     "name": "stdout",
     "output_type": "stream",
     "text": [
      "3542/3542 [==============================] - 12s 3ms/step - loss: 0.5284 - mse: 0.5284 - val_loss: 0.5371 - val_mse: 0.5371 - lr: 0.0014\n",
      "Epoch 38/100\n",
      "3542/3542 [==============================] - 10s 3ms/step - loss: 0.5279 - mse: 0.5279 - val_loss: 0.5387 - val_mse: 0.5387 - lr: 0.0014\n",
      "Epoch 39/100\n",
      "3519/3542 [============================>.] - ETA: 0s - loss: 0.5278 - mse: 0.5278"
     ]
    },
    {
     "name": "stderr",
     "output_type": "stream",
     "text": [
      "WARNING:absl:Found untraced functions such as leaky_re_lu_layer_call_fn, leaky_re_lu_layer_call_and_return_conditional_losses, leaky_re_lu_1_layer_call_fn, leaky_re_lu_1_layer_call_and_return_conditional_losses, leaky_re_lu_2_layer_call_fn while saving (showing 5 of 8). These functions will not be directly callable after loading.\n"
     ]
    },
    {
     "name": "stdout",
     "output_type": "stream",
     "text": [
      "INFO:tensorflow:Assets written to: C:\\Users\\ucesvpm\\OneDrive - University College London\\PhD Project\\Data Analytics\\Time Series Clustering\\Third Test\\wandb\\run-20230202_125224-inw0s5z9\\files\\model-best\\assets\n"
     ]
    },
    {
     "name": "stderr",
     "output_type": "stream",
     "text": [
      "INFO:tensorflow:Assets written to: C:\\Users\\ucesvpm\\OneDrive - University College London\\PhD Project\\Data Analytics\\Time Series Clustering\\Third Test\\wandb\\run-20230202_125224-inw0s5z9\\files\\model-best\\assets\n",
      "\u001b[34m\u001b[1mwandb\u001b[0m: Adding directory to artifact (C:\\Users\\ucesvpm\\OneDrive - University College London\\PhD Project\\Data Analytics\\Time Series Clustering\\Third Test\\wandb\\run-20230202_125224-inw0s5z9\\files\\model-best)... Done. 0.0s\n"
     ]
    },
    {
     "name": "stdout",
     "output_type": "stream",
     "text": [
      "3542/3542 [==============================] - 12s 3ms/step - loss: 0.5277 - mse: 0.5277 - val_loss: 0.5369 - val_mse: 0.5369 - lr: 0.0014\n",
      "Epoch 40/100\n",
      "3538/3542 [============================>.] - ETA: 0s - loss: 0.5274 - mse: 0.5274"
     ]
    },
    {
     "name": "stderr",
     "output_type": "stream",
     "text": [
      "WARNING:absl:Found untraced functions such as leaky_re_lu_layer_call_fn, leaky_re_lu_layer_call_and_return_conditional_losses, leaky_re_lu_1_layer_call_fn, leaky_re_lu_1_layer_call_and_return_conditional_losses, leaky_re_lu_2_layer_call_fn while saving (showing 5 of 8). These functions will not be directly callable after loading.\n"
     ]
    },
    {
     "name": "stdout",
     "output_type": "stream",
     "text": [
      "INFO:tensorflow:Assets written to: C:\\Users\\ucesvpm\\OneDrive - University College London\\PhD Project\\Data Analytics\\Time Series Clustering\\Third Test\\wandb\\run-20230202_125224-inw0s5z9\\files\\model-best\\assets\n"
     ]
    },
    {
     "name": "stderr",
     "output_type": "stream",
     "text": [
      "INFO:tensorflow:Assets written to: C:\\Users\\ucesvpm\\OneDrive - University College London\\PhD Project\\Data Analytics\\Time Series Clustering\\Third Test\\wandb\\run-20230202_125224-inw0s5z9\\files\\model-best\\assets\n",
      "\u001b[34m\u001b[1mwandb\u001b[0m: Adding directory to artifact (C:\\Users\\ucesvpm\\OneDrive - University College London\\PhD Project\\Data Analytics\\Time Series Clustering\\Third Test\\wandb\\run-20230202_125224-inw0s5z9\\files\\model-best)... Done. 0.0s\n"
     ]
    },
    {
     "name": "stdout",
     "output_type": "stream",
     "text": [
      "3542/3542 [==============================] - 14s 4ms/step - loss: 0.5274 - mse: 0.5274 - val_loss: 0.5357 - val_mse: 0.5357 - lr: 0.0014\n",
      "Epoch 41/100\n",
      "3542/3542 [==============================] - 11s 3ms/step - loss: 0.5269 - mse: 0.5269 - val_loss: 0.5361 - val_mse: 0.5361 - lr: 0.0014\n",
      "Epoch 42/100\n",
      "1547/3542 [============>.................] - ETA: 4s - loss: 0.5257 - mse: 0.5257"
     ]
    },
    {
     "name": "stderr",
     "output_type": "stream",
     "text": [
      "WARNING:absl:Found untraced functions such as leaky_re_lu_layer_call_fn, leaky_re_lu_layer_call_and_return_conditional_losses, leaky_re_lu_1_layer_call_fn, leaky_re_lu_1_layer_call_and_return_conditional_losses, leaky_re_lu_2_layer_call_fn while saving (showing 5 of 8). These functions will not be directly callable after loading.\n"
     ]
    },
    {
     "name": "stdout",
     "output_type": "stream",
     "text": [
      "INFO:tensorflow:Assets written to: C:\\Users\\ucesvpm\\OneDrive - University College London\\PhD Project\\Data Analytics\\Time Series Clustering\\Third Test\\wandb\\run-20230202_125224-inw0s5z9\\files\\model-best\\assets\n"
     ]
    },
    {
     "name": "stderr",
     "output_type": "stream",
     "text": [
      "INFO:tensorflow:Assets written to: C:\\Users\\ucesvpm\\OneDrive - University College London\\PhD Project\\Data Analytics\\Time Series Clustering\\Third Test\\wandb\\run-20230202_125224-inw0s5z9\\files\\model-best\\assets\n",
      "\u001b[34m\u001b[1mwandb\u001b[0m: Adding directory to artifact (C:\\Users\\ucesvpm\\OneDrive - University College London\\PhD Project\\Data Analytics\\Time Series Clustering\\Third Test\\wandb\\run-20230202_125224-inw0s5z9\\files\\model-best)... Done. 0.0s\n"
     ]
    },
    {
     "name": "stdout",
     "output_type": "stream",
     "text": [
      "3542/3542 [==============================] - 13s 4ms/step - loss: 0.5032 - mse: 0.5032 - val_loss: 0.5230 - val_mse: 0.5230 - lr: 3.5714e-04\n",
      "Epoch 74/100\n",
      "3534/3542 [============================>.] - ETA: 0s - loss: 0.5025 - mse: 0.5025"
     ]
    },
    {
     "name": "stderr",
     "output_type": "stream",
     "text": [
      "WARNING:absl:Found untraced functions such as leaky_re_lu_layer_call_fn, leaky_re_lu_layer_call_and_return_conditional_losses, leaky_re_lu_1_layer_call_fn, leaky_re_lu_1_layer_call_and_return_conditional_losses, leaky_re_lu_2_layer_call_fn while saving (showing 5 of 8). These functions will not be directly callable after loading.\n"
     ]
    },
    {
     "name": "stdout",
     "output_type": "stream",
     "text": [
      "INFO:tensorflow:Assets written to: C:\\Users\\ucesvpm\\OneDrive - University College London\\PhD Project\\Data Analytics\\Time Series Clustering\\Third Test\\wandb\\run-20230202_125224-inw0s5z9\\files\\model-best\\assets\n"
     ]
    },
    {
     "name": "stderr",
     "output_type": "stream",
     "text": [
      "INFO:tensorflow:Assets written to: C:\\Users\\ucesvpm\\OneDrive - University College London\\PhD Project\\Data Analytics\\Time Series Clustering\\Third Test\\wandb\\run-20230202_125224-inw0s5z9\\files\\model-best\\assets\n",
      "\u001b[34m\u001b[1mwandb\u001b[0m: Adding directory to artifact (C:\\Users\\ucesvpm\\OneDrive - University College London\\PhD Project\\Data Analytics\\Time Series Clustering\\Third Test\\wandb\\run-20230202_125224-inw0s5z9\\files\\model-best)... Done. 0.0s\n"
     ]
    },
    {
     "name": "stdout",
     "output_type": "stream",
     "text": [
      "3542/3542 [==============================] - 17s 5ms/step - loss: 0.5025 - mse: 0.5025 - val_loss: 0.5217 - val_mse: 0.5217 - lr: 3.5714e-04\n",
      "Epoch 75/100\n",
      "3542/3542 [==============================] - 11s 3ms/step - loss: 0.5020 - mse: 0.5020 - val_loss: 0.5219 - val_mse: 0.5219 - lr: 3.5714e-04\n",
      "Epoch 76/100\n",
      "3542/3542 [==============================] - 10s 3ms/step - loss: 0.5017 - mse: 0.5017 - val_loss: 0.5225 - val_mse: 0.5225 - lr: 3.5714e-04\n",
      "Epoch 77/100\n",
      "3542/3542 [==============================] - 10s 3ms/step - loss: 0.5014 - mse: 0.5014 - val_loss: 0.5224 - val_mse: 0.5224 - lr: 3.5714e-04\n",
      "Epoch 78/100\n",
      "3534/3542 [============================>.] - ETA: 0s - loss: 0.4920 - mse: 0.4920"
     ]
    },
    {
     "name": "stderr",
     "output_type": "stream",
     "text": [
      "WARNING:absl:Found untraced functions such as leaky_re_lu_layer_call_fn, leaky_re_lu_layer_call_and_return_conditional_losses, leaky_re_lu_1_layer_call_fn, leaky_re_lu_1_layer_call_and_return_conditional_losses, leaky_re_lu_2_layer_call_fn while saving (showing 5 of 8). These functions will not be directly callable after loading.\n"
     ]
    },
    {
     "name": "stdout",
     "output_type": "stream",
     "text": [
      "INFO:tensorflow:Assets written to: C:\\Users\\ucesvpm\\OneDrive - University College London\\PhD Project\\Data Analytics\\Time Series Clustering\\Third Test\\wandb\\run-20230202_125224-inw0s5z9\\files\\model-best\\assets\n"
     ]
    },
    {
     "name": "stderr",
     "output_type": "stream",
     "text": [
      "INFO:tensorflow:Assets written to: C:\\Users\\ucesvpm\\OneDrive - University College London\\PhD Project\\Data Analytics\\Time Series Clustering\\Third Test\\wandb\\run-20230202_125224-inw0s5z9\\files\\model-best\\assets\n",
      "\u001b[34m\u001b[1mwandb\u001b[0m: Adding directory to artifact (C:\\Users\\ucesvpm\\OneDrive - University College London\\PhD Project\\Data Analytics\\Time Series Clustering\\Third Test\\wandb\\run-20230202_125224-inw0s5z9\\files\\model-best)... Done. 0.0s\n"
     ]
    },
    {
     "name": "stdout",
     "output_type": "stream",
     "text": [
      "3542/3542 [==============================] - 12s 3ms/step - loss: 0.4921 - mse: 0.4921 - val_loss: 0.5187 - val_mse: 0.5187 - lr: 8.9286e-05\n",
      "Epoch 92/100\n",
      "3536/3542 [============================>.] - ETA: 0s - loss: 0.4918 - mse: 0.4918"
     ]
    },
    {
     "name": "stderr",
     "output_type": "stream",
     "text": [
      "WARNING:absl:Found untraced functions such as leaky_re_lu_layer_call_fn, leaky_re_lu_layer_call_and_return_conditional_losses, leaky_re_lu_1_layer_call_fn, leaky_re_lu_1_layer_call_and_return_conditional_losses, leaky_re_lu_2_layer_call_fn while saving (showing 5 of 8). These functions will not be directly callable after loading.\n"
     ]
    },
    {
     "name": "stdout",
     "output_type": "stream",
     "text": [
      "INFO:tensorflow:Assets written to: C:\\Users\\ucesvpm\\OneDrive - University College London\\PhD Project\\Data Analytics\\Time Series Clustering\\Third Test\\wandb\\run-20230202_125224-inw0s5z9\\files\\model-best\\assets\n"
     ]
    },
    {
     "name": "stderr",
     "output_type": "stream",
     "text": [
      "INFO:tensorflow:Assets written to: C:\\Users\\ucesvpm\\OneDrive - University College London\\PhD Project\\Data Analytics\\Time Series Clustering\\Third Test\\wandb\\run-20230202_125224-inw0s5z9\\files\\model-best\\assets\n",
      "\u001b[34m\u001b[1mwandb\u001b[0m: Adding directory to artifact (C:\\Users\\ucesvpm\\OneDrive - University College London\\PhD Project\\Data Analytics\\Time Series Clustering\\Third Test\\wandb\\run-20230202_125224-inw0s5z9\\files\\model-best)... Done. 0.0s\n"
     ]
    },
    {
     "name": "stdout",
     "output_type": "stream",
     "text": [
      "3542/3542 [==============================] - 14s 4ms/step - loss: 0.4919 - mse: 0.4919 - val_loss: 0.5186 - val_mse: 0.5186 - lr: 8.9286e-05\n",
      "Epoch 93/100\n",
      "3542/3542 [==============================] - 11s 3ms/step - loss: 0.4916 - mse: 0.4916 - val_loss: 0.5187 - val_mse: 0.5187 - lr: 8.9286e-05\n",
      "Epoch 94/100\n",
      "3533/3542 [============================>.] - ETA: 0s - loss: 0.4914 - mse: 0.4914"
     ]
    },
    {
     "name": "stderr",
     "output_type": "stream",
     "text": [
      "WARNING:absl:Found untraced functions such as leaky_re_lu_layer_call_fn, leaky_re_lu_layer_call_and_return_conditional_losses, leaky_re_lu_1_layer_call_fn, leaky_re_lu_1_layer_call_and_return_conditional_losses, leaky_re_lu_2_layer_call_fn while saving (showing 5 of 8). These functions will not be directly callable after loading.\n"
     ]
    },
    {
     "name": "stdout",
     "output_type": "stream",
     "text": [
      "INFO:tensorflow:Assets written to: C:\\Users\\ucesvpm\\OneDrive - University College London\\PhD Project\\Data Analytics\\Time Series Clustering\\Third Test\\wandb\\run-20230202_125224-inw0s5z9\\files\\model-best\\assets\n"
     ]
    },
    {
     "name": "stderr",
     "output_type": "stream",
     "text": [
      "INFO:tensorflow:Assets written to: C:\\Users\\ucesvpm\\OneDrive - University College London\\PhD Project\\Data Analytics\\Time Series Clustering\\Third Test\\wandb\\run-20230202_125224-inw0s5z9\\files\\model-best\\assets\n",
      "\u001b[34m\u001b[1mwandb\u001b[0m: Adding directory to artifact (C:\\Users\\ucesvpm\\OneDrive - University College London\\PhD Project\\Data Analytics\\Time Series Clustering\\Third Test\\wandb\\run-20230202_125224-inw0s5z9\\files\\model-best)... Done. 0.0s\n"
     ]
    },
    {
     "name": "stdout",
     "output_type": "stream",
     "text": [
      "3542/3542 [==============================] - 12s 3ms/step - loss: 0.4914 - mse: 0.4914 - val_loss: 0.5185 - val_mse: 0.5185 - lr: 8.9286e-05\n",
      "Epoch 95/100\n",
      "3542/3542 [==============================] - 10s 3ms/step - loss: 0.4912 - mse: 0.4912 - val_loss: 0.5186 - val_mse: 0.5186 - lr: 8.9286e-05\n",
      "Epoch 96/100\n",
      "3542/3542 [==============================] - 10s 3ms/step - loss: 0.4909 - mse: 0.4909 - val_loss: 0.5190 - val_mse: 0.5190 - lr: 8.9286e-05\n",
      "Epoch 97/100\n",
      "3524/3542 [============================>.] - ETA: 0s - loss: 0.4907 - mse: 0.4907"
     ]
    },
    {
     "name": "stderr",
     "output_type": "stream",
     "text": [
      "WARNING:absl:Found untraced functions such as leaky_re_lu_layer_call_fn, leaky_re_lu_layer_call_and_return_conditional_losses, leaky_re_lu_1_layer_call_fn, leaky_re_lu_1_layer_call_and_return_conditional_losses, leaky_re_lu_2_layer_call_fn while saving (showing 5 of 8). These functions will not be directly callable after loading.\n"
     ]
    },
    {
     "name": "stdout",
     "output_type": "stream",
     "text": [
      "INFO:tensorflow:Assets written to: C:\\Users\\ucesvpm\\OneDrive - University College London\\PhD Project\\Data Analytics\\Time Series Clustering\\Third Test\\wandb\\run-20230202_125224-inw0s5z9\\files\\model-best\\assets\n"
     ]
    },
    {
     "name": "stderr",
     "output_type": "stream",
     "text": [
      "INFO:tensorflow:Assets written to: C:\\Users\\ucesvpm\\OneDrive - University College London\\PhD Project\\Data Analytics\\Time Series Clustering\\Third Test\\wandb\\run-20230202_125224-inw0s5z9\\files\\model-best\\assets\n",
      "\u001b[34m\u001b[1mwandb\u001b[0m: Adding directory to artifact (C:\\Users\\ucesvpm\\OneDrive - University College London\\PhD Project\\Data Analytics\\Time Series Clustering\\Third Test\\wandb\\run-20230202_125224-inw0s5z9\\files\\model-best)... Done. 0.0s\n"
     ]
    },
    {
     "name": "stdout",
     "output_type": "stream",
     "text": [
      "3542/3542 [==============================] - 11s 3ms/step - loss: 0.4907 - mse: 0.4907 - val_loss: 0.5185 - val_mse: 0.5185 - lr: 8.9286e-05\n",
      "Epoch 98/100\n",
      "3535/3542 [============================>.] - ETA: 0s - loss: 0.4894 - mse: 0.4894"
     ]
    },
    {
     "name": "stderr",
     "output_type": "stream",
     "text": [
      "WARNING:absl:Found untraced functions such as leaky_re_lu_layer_call_fn, leaky_re_lu_layer_call_and_return_conditional_losses, leaky_re_lu_1_layer_call_fn, leaky_re_lu_1_layer_call_and_return_conditional_losses, leaky_re_lu_2_layer_call_fn while saving (showing 5 of 8). These functions will not be directly callable after loading.\n"
     ]
    },
    {
     "name": "stdout",
     "output_type": "stream",
     "text": [
      "INFO:tensorflow:Assets written to: C:\\Users\\ucesvpm\\OneDrive - University College London\\PhD Project\\Data Analytics\\Time Series Clustering\\Third Test\\wandb\\run-20230202_125224-inw0s5z9\\files\\model-best\\assets\n"
     ]
    },
    {
     "name": "stderr",
     "output_type": "stream",
     "text": [
      "INFO:tensorflow:Assets written to: C:\\Users\\ucesvpm\\OneDrive - University College London\\PhD Project\\Data Analytics\\Time Series Clustering\\Third Test\\wandb\\run-20230202_125224-inw0s5z9\\files\\model-best\\assets\n",
      "\u001b[34m\u001b[1mwandb\u001b[0m: Adding directory to artifact (C:\\Users\\ucesvpm\\OneDrive - University College London\\PhD Project\\Data Analytics\\Time Series Clustering\\Third Test\\wandb\\run-20230202_125224-inw0s5z9\\files\\model-best)... Done. 0.0s\n"
     ]
    },
    {
     "name": "stdout",
     "output_type": "stream",
     "text": [
      "3542/3542 [==============================] - 12s 3ms/step - loss: 0.4895 - mse: 0.4895 - val_loss: 0.5181 - val_mse: 0.5181 - lr: 4.4643e-05\n",
      "Epoch 99/100\n",
      "3533/3542 [============================>.] - ETA: 0s - loss: 0.4893 - mse: 0.4893"
     ]
    },
    {
     "name": "stderr",
     "output_type": "stream",
     "text": [
      "WARNING:absl:Found untraced functions such as leaky_re_lu_layer_call_fn, leaky_re_lu_layer_call_and_return_conditional_losses, leaky_re_lu_1_layer_call_fn, leaky_re_lu_1_layer_call_and_return_conditional_losses, leaky_re_lu_2_layer_call_fn while saving (showing 5 of 8). These functions will not be directly callable after loading.\n"
     ]
    },
    {
     "name": "stdout",
     "output_type": "stream",
     "text": [
      "INFO:tensorflow:Assets written to: C:\\Users\\ucesvpm\\OneDrive - University College London\\PhD Project\\Data Analytics\\Time Series Clustering\\Third Test\\wandb\\run-20230202_125224-inw0s5z9\\files\\model-best\\assets\n"
     ]
    },
    {
     "name": "stderr",
     "output_type": "stream",
     "text": [
      "INFO:tensorflow:Assets written to: C:\\Users\\ucesvpm\\OneDrive - University College London\\PhD Project\\Data Analytics\\Time Series Clustering\\Third Test\\wandb\\run-20230202_125224-inw0s5z9\\files\\model-best\\assets\n",
      "\u001b[34m\u001b[1mwandb\u001b[0m: Adding directory to artifact (C:\\Users\\ucesvpm\\OneDrive - University College London\\PhD Project\\Data Analytics\\Time Series Clustering\\Third Test\\wandb\\run-20230202_125224-inw0s5z9\\files\\model-best)... Done. 0.0s\n"
     ]
    },
    {
     "name": "stdout",
     "output_type": "stream",
     "text": [
      "3542/3542 [==============================] - 13s 4ms/step - loss: 0.4892 - mse: 0.4892 - val_loss: 0.5181 - val_mse: 0.5181 - lr: 4.4643e-05\n",
      "Epoch 100/100\n",
      "3531/3542 [============================>.] - ETA: 0s - loss: 0.4891 - mse: 0.4891"
     ]
    },
    {
     "name": "stderr",
     "output_type": "stream",
     "text": [
      "WARNING:absl:Found untraced functions such as leaky_re_lu_layer_call_fn, leaky_re_lu_layer_call_and_return_conditional_losses, leaky_re_lu_1_layer_call_fn, leaky_re_lu_1_layer_call_and_return_conditional_losses, leaky_re_lu_2_layer_call_fn while saving (showing 5 of 8). These functions will not be directly callable after loading.\n"
     ]
    },
    {
     "name": "stdout",
     "output_type": "stream",
     "text": [
      "INFO:tensorflow:Assets written to: C:\\Users\\ucesvpm\\OneDrive - University College London\\PhD Project\\Data Analytics\\Time Series Clustering\\Third Test\\wandb\\run-20230202_125224-inw0s5z9\\files\\model-best\\assets\n"
     ]
    },
    {
     "name": "stderr",
     "output_type": "stream",
     "text": [
      "INFO:tensorflow:Assets written to: C:\\Users\\ucesvpm\\OneDrive - University College London\\PhD Project\\Data Analytics\\Time Series Clustering\\Third Test\\wandb\\run-20230202_125224-inw0s5z9\\files\\model-best\\assets\n",
      "\u001b[34m\u001b[1mwandb\u001b[0m: Adding directory to artifact (C:\\Users\\ucesvpm\\OneDrive - University College London\\PhD Project\\Data Analytics\\Time Series Clustering\\Third Test\\wandb\\run-20230202_125224-inw0s5z9\\files\\model-best)... Done. 0.1s\n"
     ]
    },
    {
     "name": "stdout",
     "output_type": "stream",
     "text": [
      "3542/3542 [==============================] - 14s 4ms/step - loss: 0.4891 - mse: 0.4891 - val_loss: 0.5180 - val_mse: 0.5180 - lr: 4.4643e-05\n"
     ]
    },
    {
     "data": {
      "text/html": [
       "Waiting for W&B process to finish... <strong style=\"color:green\">(success).</strong>"
      ],
      "text/plain": [
       "<IPython.core.display.HTML object>"
      ]
     },
     "metadata": {},
     "output_type": "display_data"
    },
    {
     "data": {
      "text/html": [
       "<style>\n",
       "    table.wandb td:nth-child(1) { padding: 0 10px; text-align: left ; width: auto;} td:nth-child(2) {text-align: left ; width: 100%}\n",
       "    .wandb-row { display: flex; flex-direction: row; flex-wrap: wrap; justify-content: flex-start; width: 100% }\n",
       "    .wandb-col { display: flex; flex-direction: column; flex-basis: 100%; flex: 1; padding: 10px; }\n",
       "    </style>\n",
       "<div class=\"wandb-row\"><div class=\"wandb-col\"><h3>Run history:</h3><br/><table class=\"wandb\"><tr><td>epoch</td><td>▁▁▁▁▂▂▂▂▂▃▃▃▃▃▃▄▄▄▄▄▅▅▅▅▅▅▆▆▆▆▆▇▇▇▇▇▇███</td></tr><tr><td>loss</td><td>█▆▅▅▅▅▄▄▄▄▄▄▄▃▃▃▃▃▃▃▃▂▂▂▂▂▂▂▂▂▂▂▁▁▁▁▁▁▁▁</td></tr><tr><td>mse</td><td>█▆▅▅▅▅▄▄▄▄▄▄▄▃▃▃▃▃▃▃▃▂▂▂▂▂▂▂▂▂▂▂▁▁▁▁▁▁▁▁</td></tr><tr><td>val_loss</td><td>█▇▆▅▅▅▅▅▄▅▄▄▅▃▃▃▃▃▂▂▂▂▂▂▂▂▂▂▂▁▁▁▁▁▁▁▁▁▁▁</td></tr><tr><td>val_mse</td><td>█▇▆▅▅▅▅▅▄▅▄▄▅▃▃▃▃▃▂▂▂▂▂▂▂▂▂▂▂▁▁▁▁▁▁▁▁▁▁▁</td></tr></table><br/></div><div class=\"wandb-col\"><h3>Run summary:</h3><br/><table class=\"wandb\"><tr><td>best_epoch</td><td>99</td></tr><tr><td>best_val_loss</td><td>0.51804</td></tr><tr><td>epoch</td><td>99</td></tr><tr><td>loss</td><td>0.48909</td></tr><tr><td>mse</td><td>0.48909</td></tr><tr><td>val_loss</td><td>0.51804</td></tr><tr><td>val_mse</td><td>0.51804</td></tr></table><br/></div></div>"
      ],
      "text/plain": [
       "<IPython.core.display.HTML object>"
      ]
     },
     "metadata": {},
     "output_type": "display_data"
    },
    {
     "data": {
      "text/html": [
       "Synced <strong style=\"color:#cdcd00\">treasured-sweep-3</strong>: <a href=\"https://wandb.ai/vasco-phd/FC_AE-Kenya_10k_Set_1_w90/runs/inw0s5z9\" target=\"_blank\">https://wandb.ai/vasco-phd/FC_AE-Kenya_10k_Set_1_w90/runs/inw0s5z9</a><br/>Synced 6 W&B file(s), 1 media file(s), 142 artifact file(s) and 1 other file(s)"
      ],
      "text/plain": [
       "<IPython.core.display.HTML object>"
      ]
     },
     "metadata": {},
     "output_type": "display_data"
    },
    {
     "data": {
      "text/html": [
       "Find logs at: <code>.\\wandb\\run-20230202_125224-inw0s5z9\\logs</code>"
      ],
      "text/plain": [
       "<IPython.core.display.HTML object>"
      ]
     },
     "metadata": {},
     "output_type": "display_data"
    },
    {
     "name": "stderr",
     "output_type": "stream",
     "text": [
      "\u001b[34m\u001b[1mwandb\u001b[0m: Agent Starting Run: 8cqf6ms9 with config:\n",
      "\u001b[34m\u001b[1mwandb\u001b[0m: \tactivation_fn: LeakyReLU\n",
      "\u001b[34m\u001b[1mwandb\u001b[0m: \tbatch_size: 20\n",
      "\u001b[34m\u001b[1mwandb\u001b[0m: \tepochs: 100\n",
      "\u001b[34m\u001b[1mwandb\u001b[0m: \tlatent_layer_size: 5\n",
      "\u001b[34m\u001b[1mwandb\u001b[0m: \tlearning_rate: 0.004704730306929319\n",
      "\u001b[34m\u001b[1mwandb\u001b[0m: \toptimizer: sgd\n",
      "\u001b[34m\u001b[1mwandb\u001b[0m: \twindow_length: 90\n"
     ]
    },
    {
     "data": {
      "text/html": [
       "wandb version 0.13.9 is available!  To upgrade, please run:\n",
       " $ pip install wandb --upgrade"
      ],
      "text/plain": [
       "<IPython.core.display.HTML object>"
      ]
     },
     "metadata": {},
     "output_type": "display_data"
    },
    {
     "data": {
      "text/html": [
       "Tracking run with wandb version 0.13.6"
      ],
      "text/plain": [
       "<IPython.core.display.HTML object>"
      ]
     },
     "metadata": {},
     "output_type": "display_data"
    },
    {
     "data": {
      "text/html": [
       "Run data is saved locally in <code>C:\\Users\\ucesvpm\\OneDrive - University College London\\PhD Project\\Data Analytics\\Time Series Clustering\\Third Test\\wandb\\run-20230202_131256-8cqf6ms9</code>"
      ],
      "text/plain": [
       "<IPython.core.display.HTML object>"
      ]
     },
     "metadata": {},
     "output_type": "display_data"
    },
    {
     "data": {
      "text/html": [
       "Syncing run <strong><a href=\"https://wandb.ai/vasco-phd/FC_AE-Kenya_10k_Set_1_w90/runs/8cqf6ms9\" target=\"_blank\">polished-sweep-4</a></strong> to <a href=\"https://wandb.ai/vasco-phd/FC_AE-Kenya_10k_Set_1_w90\" target=\"_blank\">Weights & Biases</a> (<a href=\"https://wandb.me/run\" target=\"_blank\">docs</a>)<br/>Sweep page:  <a href=\"https://wandb.ai/vasco-phd/FC_AE-Kenya_10k_Set_1_w90/sweeps/ikwjt20r\" target=\"_blank\">https://wandb.ai/vasco-phd/FC_AE-Kenya_10k_Set_1_w90/sweeps/ikwjt20r</a>"
      ],
      "text/plain": [
       "<IPython.core.display.HTML object>"
      ]
     },
     "metadata": {},
     "output_type": "display_data"
    },
    {
     "name": "stdout",
     "output_type": "stream",
     "text": [
      "Epoch 1/100\n",
      "   1/3542 [..............................] - ETA: 29:05 - loss: 3.0397 - mse: 3.0397WARNING:tensorflow:Callback method `on_train_batch_end` is slow compared to the batch time (batch time: 0.0017s vs `on_train_batch_end` time: 0.0021s). Check your callbacks.\n"
     ]
    },
    {
     "name": "stderr",
     "output_type": "stream",
     "text": [
      "WARNING:tensorflow:Callback method `on_train_batch_end` is slow compared to the batch time (batch time: 0.0017s vs `on_train_batch_end` time: 0.0021s). Check your callbacks.\n"
     ]
    },
    {
     "name": "stdout",
     "output_type": "stream",
     "text": [
      "3525/3542 [============================>.] - ETA: 0s - loss: 0.6533 - mse: 0.6533"
     ]
    },
    {
     "name": "stderr",
     "output_type": "stream",
     "text": [
      "WARNING:absl:Found untraced functions such as leaky_re_lu_layer_call_fn, leaky_re_lu_layer_call_and_return_conditional_losses, leaky_re_lu_1_layer_call_fn, leaky_re_lu_1_layer_call_and_return_conditional_losses, leaky_re_lu_2_layer_call_fn while saving (showing 5 of 8). These functions will not be directly callable after loading.\n"
     ]
    },
    {
     "name": "stdout",
     "output_type": "stream",
     "text": [
      "INFO:tensorflow:Assets written to: C:\\Users\\ucesvpm\\OneDrive - University College London\\PhD Project\\Data Analytics\\Time Series Clustering\\Third Test\\wandb\\run-20230202_131256-8cqf6ms9\\files\\model-best\\assets\n"
     ]
    },
    {
     "name": "stderr",
     "output_type": "stream",
     "text": [
      "INFO:tensorflow:Assets written to: C:\\Users\\ucesvpm\\OneDrive - University College London\\PhD Project\\Data Analytics\\Time Series Clustering\\Third Test\\wandb\\run-20230202_131256-8cqf6ms9\\files\\model-best\\assets\n",
      "\u001b[34m\u001b[1mwandb\u001b[0m: Adding directory to artifact (C:\\Users\\ucesvpm\\OneDrive - University College London\\PhD Project\\Data Analytics\\Time Series Clustering\\Third Test\\wandb\\run-20230202_131256-8cqf6ms9\\files\\model-best)... Done. 0.0s\n"
     ]
    },
    {
     "name": "stdout",
     "output_type": "stream",
     "text": [
      "3542/3542 [==============================] - 11s 3ms/step - loss: 0.6531 - mse: 0.6531 - val_loss: 0.6123 - val_mse: 0.6123 - lr: 0.0047\n",
      "Epoch 2/100\n",
      "3528/3542 [============================>.] - ETA: 0s - loss: 0.6025 - mse: 0.6025"
     ]
    },
    {
     "name": "stderr",
     "output_type": "stream",
     "text": [
      "WARNING:absl:Found untraced functions such as leaky_re_lu_layer_call_fn, leaky_re_lu_layer_call_and_return_conditional_losses, leaky_re_lu_1_layer_call_fn, leaky_re_lu_1_layer_call_and_return_conditional_losses, leaky_re_lu_2_layer_call_fn while saving (showing 5 of 8). These functions will not be directly callable after loading.\n"
     ]
    },
    {
     "name": "stdout",
     "output_type": "stream",
     "text": [
      "INFO:tensorflow:Assets written to: C:\\Users\\ucesvpm\\OneDrive - University College London\\PhD Project\\Data Analytics\\Time Series Clustering\\Third Test\\wandb\\run-20230202_131256-8cqf6ms9\\files\\model-best\\assets\n"
     ]
    },
    {
     "name": "stderr",
     "output_type": "stream",
     "text": [
      "INFO:tensorflow:Assets written to: C:\\Users\\ucesvpm\\OneDrive - University College London\\PhD Project\\Data Analytics\\Time Series Clustering\\Third Test\\wandb\\run-20230202_131256-8cqf6ms9\\files\\model-best\\assets\n",
      "\u001b[34m\u001b[1mwandb\u001b[0m: Adding directory to artifact (C:\\Users\\ucesvpm\\OneDrive - University College London\\PhD Project\\Data Analytics\\Time Series Clustering\\Third Test\\wandb\\run-20230202_131256-8cqf6ms9\\files\\model-best)... Done. 0.0s\n"
     ]
    },
    {
     "name": "stdout",
     "output_type": "stream",
     "text": [
      "3542/3542 [==============================] - 10s 3ms/step - loss: 0.6025 - mse: 0.6025 - val_loss: 0.6011 - val_mse: 0.6011 - lr: 0.0047\n",
      "Epoch 3/100\n",
      "3529/3542 [============================>.] - ETA: 0s - loss: 0.5944 - mse: 0.5944"
     ]
    },
    {
     "name": "stderr",
     "output_type": "stream",
     "text": [
      "WARNING:absl:Found untraced functions such as leaky_re_lu_layer_call_fn, leaky_re_lu_layer_call_and_return_conditional_losses, leaky_re_lu_1_layer_call_fn, leaky_re_lu_1_layer_call_and_return_conditional_losses, leaky_re_lu_2_layer_call_fn while saving (showing 5 of 8). These functions will not be directly callable after loading.\n"
     ]
    },
    {
     "name": "stdout",
     "output_type": "stream",
     "text": [
      "INFO:tensorflow:Assets written to: C:\\Users\\ucesvpm\\OneDrive - University College London\\PhD Project\\Data Analytics\\Time Series Clustering\\Third Test\\wandb\\run-20230202_131256-8cqf6ms9\\files\\model-best\\assets\n"
     ]
    },
    {
     "name": "stderr",
     "output_type": "stream",
     "text": [
      "INFO:tensorflow:Assets written to: C:\\Users\\ucesvpm\\OneDrive - University College London\\PhD Project\\Data Analytics\\Time Series Clustering\\Third Test\\wandb\\run-20230202_131256-8cqf6ms9\\files\\model-best\\assets\n",
      "\u001b[34m\u001b[1mwandb\u001b[0m: Adding directory to artifact (C:\\Users\\ucesvpm\\OneDrive - University College London\\PhD Project\\Data Analytics\\Time Series Clustering\\Third Test\\wandb\\run-20230202_131256-8cqf6ms9\\files\\model-best)... Done. 0.0s\n"
     ]
    },
    {
     "name": "stdout",
     "output_type": "stream",
     "text": [
      "3542/3542 [==============================] - 10s 3ms/step - loss: 0.5944 - mse: 0.5944 - val_loss: 0.5954 - val_mse: 0.5954 - lr: 0.0047\n",
      "Epoch 4/100\n",
      "3520/3542 [============================>.] - ETA: 0s - loss: 0.5897 - mse: 0.5897"
     ]
    },
    {
     "name": "stderr",
     "output_type": "stream",
     "text": [
      "WARNING:absl:Found untraced functions such as leaky_re_lu_layer_call_fn, leaky_re_lu_layer_call_and_return_conditional_losses, leaky_re_lu_1_layer_call_fn, leaky_re_lu_1_layer_call_and_return_conditional_losses, leaky_re_lu_2_layer_call_fn while saving (showing 5 of 8). These functions will not be directly callable after loading.\n"
     ]
    },
    {
     "name": "stdout",
     "output_type": "stream",
     "text": [
      "INFO:tensorflow:Assets written to: C:\\Users\\ucesvpm\\OneDrive - University College London\\PhD Project\\Data Analytics\\Time Series Clustering\\Third Test\\wandb\\run-20230202_131256-8cqf6ms9\\files\\model-best\\assets\n"
     ]
    },
    {
     "name": "stderr",
     "output_type": "stream",
     "text": [
      "INFO:tensorflow:Assets written to: C:\\Users\\ucesvpm\\OneDrive - University College London\\PhD Project\\Data Analytics\\Time Series Clustering\\Third Test\\wandb\\run-20230202_131256-8cqf6ms9\\files\\model-best\\assets\n",
      "\u001b[34m\u001b[1mwandb\u001b[0m: Adding directory to artifact (C:\\Users\\ucesvpm\\OneDrive - University College London\\PhD Project\\Data Analytics\\Time Series Clustering\\Third Test\\wandb\\run-20230202_131256-8cqf6ms9\\files\\model-best)... Done. 0.0s\n"
     ]
    },
    {
     "name": "stdout",
     "output_type": "stream",
     "text": [
      "3542/3542 [==============================] - 11s 3ms/step - loss: 0.5896 - mse: 0.5896 - val_loss: 0.5917 - val_mse: 0.5917 - lr: 0.0047\n",
      "Epoch 5/100\n",
      "3527/3542 [============================>.] - ETA: 0s - loss: 0.5862 - mse: 0.5862"
     ]
    },
    {
     "name": "stderr",
     "output_type": "stream",
     "text": [
      "WARNING:absl:Found untraced functions such as leaky_re_lu_layer_call_fn, leaky_re_lu_layer_call_and_return_conditional_losses, leaky_re_lu_1_layer_call_fn, leaky_re_lu_1_layer_call_and_return_conditional_losses, leaky_re_lu_2_layer_call_fn while saving (showing 5 of 8). These functions will not be directly callable after loading.\n"
     ]
    },
    {
     "name": "stdout",
     "output_type": "stream",
     "text": [
      "INFO:tensorflow:Assets written to: C:\\Users\\ucesvpm\\OneDrive - University College London\\PhD Project\\Data Analytics\\Time Series Clustering\\Third Test\\wandb\\run-20230202_131256-8cqf6ms9\\files\\model-best\\assets\n"
     ]
    },
    {
     "name": "stderr",
     "output_type": "stream",
     "text": [
      "INFO:tensorflow:Assets written to: C:\\Users\\ucesvpm\\OneDrive - University College London\\PhD Project\\Data Analytics\\Time Series Clustering\\Third Test\\wandb\\run-20230202_131256-8cqf6ms9\\files\\model-best\\assets\n",
      "\u001b[34m\u001b[1mwandb\u001b[0m: Adding directory to artifact (C:\\Users\\ucesvpm\\OneDrive - University College London\\PhD Project\\Data Analytics\\Time Series Clustering\\Third Test\\wandb\\run-20230202_131256-8cqf6ms9\\files\\model-best)... Done. 0.0s\n"
     ]
    },
    {
     "name": "stdout",
     "output_type": "stream",
     "text": [
      "3542/3542 [==============================] - 10s 3ms/step - loss: 0.5861 - mse: 0.5861 - val_loss: 0.5886 - val_mse: 0.5886 - lr: 0.0047\n",
      "Epoch 6/100\n",
      "3541/3542 [============================>.] - ETA: 0s - loss: 0.5834 - mse: 0.5834"
     ]
    },
    {
     "name": "stderr",
     "output_type": "stream",
     "text": [
      "WARNING:absl:Found untraced functions such as leaky_re_lu_layer_call_fn, leaky_re_lu_layer_call_and_return_conditional_losses, leaky_re_lu_1_layer_call_fn, leaky_re_lu_1_layer_call_and_return_conditional_losses, leaky_re_lu_2_layer_call_fn while saving (showing 5 of 8). These functions will not be directly callable after loading.\n"
     ]
    },
    {
     "name": "stdout",
     "output_type": "stream",
     "text": [
      "INFO:tensorflow:Assets written to: C:\\Users\\ucesvpm\\OneDrive - University College London\\PhD Project\\Data Analytics\\Time Series Clustering\\Third Test\\wandb\\run-20230202_131256-8cqf6ms9\\files\\model-best\\assets\n"
     ]
    },
    {
     "name": "stderr",
     "output_type": "stream",
     "text": [
      "INFO:tensorflow:Assets written to: C:\\Users\\ucesvpm\\OneDrive - University College London\\PhD Project\\Data Analytics\\Time Series Clustering\\Third Test\\wandb\\run-20230202_131256-8cqf6ms9\\files\\model-best\\assets\n",
      "\u001b[34m\u001b[1mwandb\u001b[0m: Adding directory to artifact (C:\\Users\\ucesvpm\\OneDrive - University College London\\PhD Project\\Data Analytics\\Time Series Clustering\\Third Test\\wandb\\run-20230202_131256-8cqf6ms9\\files\\model-best)... Done. 0.0s\n"
     ]
    },
    {
     "name": "stdout",
     "output_type": "stream",
     "text": [
      "3542/3542 [==============================] - 10s 3ms/step - loss: 0.5834 - mse: 0.5834 - val_loss: 0.5865 - val_mse: 0.5865 - lr: 0.0047\n",
      "Epoch 7/100\n",
      "3539/3542 [============================>.] - ETA: 0s - loss: 0.5811 - mse: 0.5811"
     ]
    },
    {
     "name": "stderr",
     "output_type": "stream",
     "text": [
      "WARNING:absl:Found untraced functions such as leaky_re_lu_layer_call_fn, leaky_re_lu_layer_call_and_return_conditional_losses, leaky_re_lu_1_layer_call_fn, leaky_re_lu_1_layer_call_and_return_conditional_losses, leaky_re_lu_2_layer_call_fn while saving (showing 5 of 8). These functions will not be directly callable after loading.\n"
     ]
    },
    {
     "name": "stdout",
     "output_type": "stream",
     "text": [
      "INFO:tensorflow:Assets written to: C:\\Users\\ucesvpm\\OneDrive - University College London\\PhD Project\\Data Analytics\\Time Series Clustering\\Third Test\\wandb\\run-20230202_131256-8cqf6ms9\\files\\model-best\\assets\n"
     ]
    },
    {
     "name": "stderr",
     "output_type": "stream",
     "text": [
      "INFO:tensorflow:Assets written to: C:\\Users\\ucesvpm\\OneDrive - University College London\\PhD Project\\Data Analytics\\Time Series Clustering\\Third Test\\wandb\\run-20230202_131256-8cqf6ms9\\files\\model-best\\assets\n",
      "\u001b[34m\u001b[1mwandb\u001b[0m: Adding directory to artifact (C:\\Users\\ucesvpm\\OneDrive - University College London\\PhD Project\\Data Analytics\\Time Series Clustering\\Third Test\\wandb\\run-20230202_131256-8cqf6ms9\\files\\model-best)... Done. 0.0s\n"
     ]
    },
    {
     "name": "stdout",
     "output_type": "stream",
     "text": [
      "3542/3542 [==============================] - 14s 4ms/step - loss: 0.5810 - mse: 0.5810 - val_loss: 0.5847 - val_mse: 0.5847 - lr: 0.0047\n",
      "Epoch 8/100\n",
      "3539/3542 [============================>.] - ETA: 0s - loss: 0.5789 - mse: 0.5789"
     ]
    },
    {
     "name": "stderr",
     "output_type": "stream",
     "text": [
      "WARNING:absl:Found untraced functions such as leaky_re_lu_layer_call_fn, leaky_re_lu_layer_call_and_return_conditional_losses, leaky_re_lu_1_layer_call_fn, leaky_re_lu_1_layer_call_and_return_conditional_losses, leaky_re_lu_2_layer_call_fn while saving (showing 5 of 8). These functions will not be directly callable after loading.\n"
     ]
    },
    {
     "name": "stdout",
     "output_type": "stream",
     "text": [
      "INFO:tensorflow:Assets written to: C:\\Users\\ucesvpm\\OneDrive - University College London\\PhD Project\\Data Analytics\\Time Series Clustering\\Third Test\\wandb\\run-20230202_131256-8cqf6ms9\\files\\model-best\\assets\n"
     ]
    },
    {
     "name": "stderr",
     "output_type": "stream",
     "text": [
      "INFO:tensorflow:Assets written to: C:\\Users\\ucesvpm\\OneDrive - University College London\\PhD Project\\Data Analytics\\Time Series Clustering\\Third Test\\wandb\\run-20230202_131256-8cqf6ms9\\files\\model-best\\assets\n",
      "\u001b[34m\u001b[1mwandb\u001b[0m: Adding directory to artifact (C:\\Users\\ucesvpm\\OneDrive - University College London\\PhD Project\\Data Analytics\\Time Series Clustering\\Third Test\\wandb\\run-20230202_131256-8cqf6ms9\\files\\model-best)... Done. 0.0s\n"
     ]
    },
    {
     "name": "stdout",
     "output_type": "stream",
     "text": [
      "3542/3542 [==============================] - 13s 4ms/step - loss: 0.5789 - mse: 0.5789 - val_loss: 0.5832 - val_mse: 0.5832 - lr: 0.0047\n",
      "Epoch 9/100\n",
      "3540/3542 [============================>.] - ETA: 0s - loss: 0.5770 - mse: 0.5770"
     ]
    },
    {
     "name": "stderr",
     "output_type": "stream",
     "text": [
      "WARNING:absl:Found untraced functions such as leaky_re_lu_layer_call_fn, leaky_re_lu_layer_call_and_return_conditional_losses, leaky_re_lu_1_layer_call_fn, leaky_re_lu_1_layer_call_and_return_conditional_losses, leaky_re_lu_2_layer_call_fn while saving (showing 5 of 8). These functions will not be directly callable after loading.\n"
     ]
    },
    {
     "name": "stdout",
     "output_type": "stream",
     "text": [
      "INFO:tensorflow:Assets written to: C:\\Users\\ucesvpm\\OneDrive - University College London\\PhD Project\\Data Analytics\\Time Series Clustering\\Third Test\\wandb\\run-20230202_131256-8cqf6ms9\\files\\model-best\\assets\n"
     ]
    },
    {
     "name": "stderr",
     "output_type": "stream",
     "text": [
      "INFO:tensorflow:Assets written to: C:\\Users\\ucesvpm\\OneDrive - University College London\\PhD Project\\Data Analytics\\Time Series Clustering\\Third Test\\wandb\\run-20230202_131256-8cqf6ms9\\files\\model-best\\assets\n",
      "\u001b[34m\u001b[1mwandb\u001b[0m: Adding directory to artifact (C:\\Users\\ucesvpm\\OneDrive - University College London\\PhD Project\\Data Analytics\\Time Series Clustering\\Third Test\\wandb\\run-20230202_131256-8cqf6ms9\\files\\model-best)... Done. 0.0s\n"
     ]
    },
    {
     "name": "stdout",
     "output_type": "stream",
     "text": [
      "3542/3542 [==============================] - 12s 3ms/step - loss: 0.5770 - mse: 0.5770 - val_loss: 0.5813 - val_mse: 0.5813 - lr: 0.0047\n",
      "Epoch 10/100\n",
      "3541/3542 [============================>.] - ETA: 0s - loss: 0.5753 - mse: 0.5753"
     ]
    },
    {
     "name": "stderr",
     "output_type": "stream",
     "text": [
      "WARNING:absl:Found untraced functions such as leaky_re_lu_layer_call_fn, leaky_re_lu_layer_call_and_return_conditional_losses, leaky_re_lu_1_layer_call_fn, leaky_re_lu_1_layer_call_and_return_conditional_losses, leaky_re_lu_2_layer_call_fn while saving (showing 5 of 8). These functions will not be directly callable after loading.\n"
     ]
    },
    {
     "name": "stdout",
     "output_type": "stream",
     "text": [
      "INFO:tensorflow:Assets written to: C:\\Users\\ucesvpm\\OneDrive - University College London\\PhD Project\\Data Analytics\\Time Series Clustering\\Third Test\\wandb\\run-20230202_131256-8cqf6ms9\\files\\model-best\\assets\n"
     ]
    },
    {
     "name": "stderr",
     "output_type": "stream",
     "text": [
      "INFO:tensorflow:Assets written to: C:\\Users\\ucesvpm\\OneDrive - University College London\\PhD Project\\Data Analytics\\Time Series Clustering\\Third Test\\wandb\\run-20230202_131256-8cqf6ms9\\files\\model-best\\assets\n",
      "\u001b[34m\u001b[1mwandb\u001b[0m: Adding directory to artifact (C:\\Users\\ucesvpm\\OneDrive - University College London\\PhD Project\\Data Analytics\\Time Series Clustering\\Third Test\\wandb\\run-20230202_131256-8cqf6ms9\\files\\model-best)... Done. 0.0s\n"
     ]
    },
    {
     "name": "stdout",
     "output_type": "stream",
     "text": [
      "3542/3542 [==============================] - 10s 3ms/step - loss: 0.5753 - mse: 0.5753 - val_loss: 0.5807 - val_mse: 0.5807 - lr: 0.0047\n",
      "Epoch 11/100\n",
      "3540/3542 [============================>.] - ETA: 0s - loss: 0.5738 - mse: 0.5738"
     ]
    },
    {
     "name": "stderr",
     "output_type": "stream",
     "text": [
      "WARNING:absl:Found untraced functions such as leaky_re_lu_layer_call_fn, leaky_re_lu_layer_call_and_return_conditional_losses, leaky_re_lu_1_layer_call_fn, leaky_re_lu_1_layer_call_and_return_conditional_losses, leaky_re_lu_2_layer_call_fn while saving (showing 5 of 8). These functions will not be directly callable after loading.\n"
     ]
    },
    {
     "name": "stdout",
     "output_type": "stream",
     "text": [
      "INFO:tensorflow:Assets written to: C:\\Users\\ucesvpm\\OneDrive - University College London\\PhD Project\\Data Analytics\\Time Series Clustering\\Third Test\\wandb\\run-20230202_131256-8cqf6ms9\\files\\model-best\\assets\n"
     ]
    },
    {
     "name": "stderr",
     "output_type": "stream",
     "text": [
      "INFO:tensorflow:Assets written to: C:\\Users\\ucesvpm\\OneDrive - University College London\\PhD Project\\Data Analytics\\Time Series Clustering\\Third Test\\wandb\\run-20230202_131256-8cqf6ms9\\files\\model-best\\assets\n",
      "\u001b[34m\u001b[1mwandb\u001b[0m: Adding directory to artifact (C:\\Users\\ucesvpm\\OneDrive - University College London\\PhD Project\\Data Analytics\\Time Series Clustering\\Third Test\\wandb\\run-20230202_131256-8cqf6ms9\\files\\model-best)... Done. 0.0s\n"
     ]
    },
    {
     "name": "stdout",
     "output_type": "stream",
     "text": [
      "3542/3542 [==============================] - 11s 3ms/step - loss: 0.5738 - mse: 0.5738 - val_loss: 0.5786 - val_mse: 0.5786 - lr: 0.0047\n",
      "Epoch 12/100\n",
      "3537/3542 [============================>.] - ETA: 0s - loss: 0.5724 - mse: 0.5724"
     ]
    },
    {
     "name": "stderr",
     "output_type": "stream",
     "text": [
      "WARNING:absl:Found untraced functions such as leaky_re_lu_layer_call_fn, leaky_re_lu_layer_call_and_return_conditional_losses, leaky_re_lu_1_layer_call_fn, leaky_re_lu_1_layer_call_and_return_conditional_losses, leaky_re_lu_2_layer_call_fn while saving (showing 5 of 8). These functions will not be directly callable after loading.\n"
     ]
    },
    {
     "name": "stdout",
     "output_type": "stream",
     "text": [
      "INFO:tensorflow:Assets written to: C:\\Users\\ucesvpm\\OneDrive - University College London\\PhD Project\\Data Analytics\\Time Series Clustering\\Third Test\\wandb\\run-20230202_131256-8cqf6ms9\\files\\model-best\\assets\n"
     ]
    },
    {
     "name": "stderr",
     "output_type": "stream",
     "text": [
      "INFO:tensorflow:Assets written to: C:\\Users\\ucesvpm\\OneDrive - University College London\\PhD Project\\Data Analytics\\Time Series Clustering\\Third Test\\wandb\\run-20230202_131256-8cqf6ms9\\files\\model-best\\assets\n",
      "\u001b[34m\u001b[1mwandb\u001b[0m: Adding directory to artifact (C:\\Users\\ucesvpm\\OneDrive - University College London\\PhD Project\\Data Analytics\\Time Series Clustering\\Third Test\\wandb\\run-20230202_131256-8cqf6ms9\\files\\model-best)... Done. 0.0s\n"
     ]
    },
    {
     "name": "stdout",
     "output_type": "stream",
     "text": [
      "3542/3542 [==============================] - 11s 3ms/step - loss: 0.5724 - mse: 0.5724 - val_loss: 0.5774 - val_mse: 0.5774 - lr: 0.0047\n",
      "Epoch 13/100\n",
      "3522/3542 [============================>.] - ETA: 0s - loss: 0.5712 - mse: 0.5712"
     ]
    },
    {
     "name": "stderr",
     "output_type": "stream",
     "text": [
      "WARNING:absl:Found untraced functions such as leaky_re_lu_layer_call_fn, leaky_re_lu_layer_call_and_return_conditional_losses, leaky_re_lu_1_layer_call_fn, leaky_re_lu_1_layer_call_and_return_conditional_losses, leaky_re_lu_2_layer_call_fn while saving (showing 5 of 8). These functions will not be directly callable after loading.\n"
     ]
    },
    {
     "name": "stdout",
     "output_type": "stream",
     "text": [
      "INFO:tensorflow:Assets written to: C:\\Users\\ucesvpm\\OneDrive - University College London\\PhD Project\\Data Analytics\\Time Series Clustering\\Third Test\\wandb\\run-20230202_131256-8cqf6ms9\\files\\model-best\\assets\n"
     ]
    },
    {
     "name": "stderr",
     "output_type": "stream",
     "text": [
      "INFO:tensorflow:Assets written to: C:\\Users\\ucesvpm\\OneDrive - University College London\\PhD Project\\Data Analytics\\Time Series Clustering\\Third Test\\wandb\\run-20230202_131256-8cqf6ms9\\files\\model-best\\assets\n",
      "\u001b[34m\u001b[1mwandb\u001b[0m: Adding directory to artifact (C:\\Users\\ucesvpm\\OneDrive - University College London\\PhD Project\\Data Analytics\\Time Series Clustering\\Third Test\\wandb\\run-20230202_131256-8cqf6ms9\\files\\model-best)... Done. 0.0s\n"
     ]
    },
    {
     "name": "stdout",
     "output_type": "stream",
     "text": [
      "3542/3542 [==============================] - 10s 3ms/step - loss: 0.5711 - mse: 0.5711 - val_loss: 0.5767 - val_mse: 0.5767 - lr: 0.0047\n",
      "Epoch 14/100\n",
      "3518/3542 [============================>.] - ETA: 0s - loss: 0.5698 - mse: 0.5698"
     ]
    },
    {
     "name": "stderr",
     "output_type": "stream",
     "text": [
      "WARNING:absl:Found untraced functions such as leaky_re_lu_layer_call_fn, leaky_re_lu_layer_call_and_return_conditional_losses, leaky_re_lu_1_layer_call_fn, leaky_re_lu_1_layer_call_and_return_conditional_losses, leaky_re_lu_2_layer_call_fn while saving (showing 5 of 8). These functions will not be directly callable after loading.\n"
     ]
    },
    {
     "name": "stdout",
     "output_type": "stream",
     "text": [
      "INFO:tensorflow:Assets written to: C:\\Users\\ucesvpm\\OneDrive - University College London\\PhD Project\\Data Analytics\\Time Series Clustering\\Third Test\\wandb\\run-20230202_131256-8cqf6ms9\\files\\model-best\\assets\n"
     ]
    },
    {
     "name": "stderr",
     "output_type": "stream",
     "text": [
      "INFO:tensorflow:Assets written to: C:\\Users\\ucesvpm\\OneDrive - University College London\\PhD Project\\Data Analytics\\Time Series Clustering\\Third Test\\wandb\\run-20230202_131256-8cqf6ms9\\files\\model-best\\assets\n",
      "\u001b[34m\u001b[1mwandb\u001b[0m: Adding directory to artifact (C:\\Users\\ucesvpm\\OneDrive - University College London\\PhD Project\\Data Analytics\\Time Series Clustering\\Third Test\\wandb\\run-20230202_131256-8cqf6ms9\\files\\model-best)... Done. 0.0s\n"
     ]
    },
    {
     "name": "stdout",
     "output_type": "stream",
     "text": [
      "3542/3542 [==============================] - 12s 3ms/step - loss: 0.5699 - mse: 0.5699 - val_loss: 0.5754 - val_mse: 0.5754 - lr: 0.0047\n",
      "Epoch 15/100\n",
      "3522/3542 [============================>.] - ETA: 0s - loss: 0.5687 - mse: 0.5687"
     ]
    },
    {
     "name": "stderr",
     "output_type": "stream",
     "text": [
      "WARNING:absl:Found untraced functions such as leaky_re_lu_layer_call_fn, leaky_re_lu_layer_call_and_return_conditional_losses, leaky_re_lu_1_layer_call_fn, leaky_re_lu_1_layer_call_and_return_conditional_losses, leaky_re_lu_2_layer_call_fn while saving (showing 5 of 8). These functions will not be directly callable after loading.\n"
     ]
    },
    {
     "name": "stdout",
     "output_type": "stream",
     "text": [
      "INFO:tensorflow:Assets written to: C:\\Users\\ucesvpm\\OneDrive - University College London\\PhD Project\\Data Analytics\\Time Series Clustering\\Third Test\\wandb\\run-20230202_131256-8cqf6ms9\\files\\model-best\\assets\n"
     ]
    },
    {
     "name": "stderr",
     "output_type": "stream",
     "text": [
      "INFO:tensorflow:Assets written to: C:\\Users\\ucesvpm\\OneDrive - University College London\\PhD Project\\Data Analytics\\Time Series Clustering\\Third Test\\wandb\\run-20230202_131256-8cqf6ms9\\files\\model-best\\assets\n",
      "\u001b[34m\u001b[1mwandb\u001b[0m: Adding directory to artifact (C:\\Users\\ucesvpm\\OneDrive - University College London\\PhD Project\\Data Analytics\\Time Series Clustering\\Third Test\\wandb\\run-20230202_131256-8cqf6ms9\\files\\model-best)... Done. 0.0s\n"
     ]
    },
    {
     "name": "stdout",
     "output_type": "stream",
     "text": [
      "3542/3542 [==============================] - 12s 3ms/step - loss: 0.5687 - mse: 0.5687 - val_loss: 0.5741 - val_mse: 0.5741 - lr: 0.0047\n",
      "Epoch 16/100\n",
      "3529/3542 [============================>.] - ETA: 0s - loss: 0.5677 - mse: 0.5677"
     ]
    },
    {
     "name": "stderr",
     "output_type": "stream",
     "text": [
      "WARNING:absl:Found untraced functions such as leaky_re_lu_layer_call_fn, leaky_re_lu_layer_call_and_return_conditional_losses, leaky_re_lu_1_layer_call_fn, leaky_re_lu_1_layer_call_and_return_conditional_losses, leaky_re_lu_2_layer_call_fn while saving (showing 5 of 8). These functions will not be directly callable after loading.\n"
     ]
    },
    {
     "name": "stdout",
     "output_type": "stream",
     "text": [
      "INFO:tensorflow:Assets written to: C:\\Users\\ucesvpm\\OneDrive - University College London\\PhD Project\\Data Analytics\\Time Series Clustering\\Third Test\\wandb\\run-20230202_131256-8cqf6ms9\\files\\model-best\\assets\n"
     ]
    },
    {
     "name": "stderr",
     "output_type": "stream",
     "text": [
      "INFO:tensorflow:Assets written to: C:\\Users\\ucesvpm\\OneDrive - University College London\\PhD Project\\Data Analytics\\Time Series Clustering\\Third Test\\wandb\\run-20230202_131256-8cqf6ms9\\files\\model-best\\assets\n",
      "\u001b[34m\u001b[1mwandb\u001b[0m: Adding directory to artifact (C:\\Users\\ucesvpm\\OneDrive - University College London\\PhD Project\\Data Analytics\\Time Series Clustering\\Third Test\\wandb\\run-20230202_131256-8cqf6ms9\\files\\model-best)... Done. 0.0s\n"
     ]
    },
    {
     "name": "stdout",
     "output_type": "stream",
     "text": [
      "3542/3542 [==============================] - 10s 3ms/step - loss: 0.5676 - mse: 0.5676 - val_loss: 0.5733 - val_mse: 0.5733 - lr: 0.0047\n",
      "Epoch 17/100\n",
      "3542/3542 [==============================] - ETA: 0s - loss: 0.5665 - mse: 0.5665"
     ]
    },
    {
     "name": "stderr",
     "output_type": "stream",
     "text": [
      "WARNING:absl:Found untraced functions such as leaky_re_lu_layer_call_fn, leaky_re_lu_layer_call_and_return_conditional_losses, leaky_re_lu_1_layer_call_fn, leaky_re_lu_1_layer_call_and_return_conditional_losses, leaky_re_lu_2_layer_call_fn while saving (showing 5 of 8). These functions will not be directly callable after loading.\n"
     ]
    },
    {
     "name": "stdout",
     "output_type": "stream",
     "text": [
      "INFO:tensorflow:Assets written to: C:\\Users\\ucesvpm\\OneDrive - University College London\\PhD Project\\Data Analytics\\Time Series Clustering\\Third Test\\wandb\\run-20230202_131256-8cqf6ms9\\files\\model-best\\assets\n"
     ]
    },
    {
     "name": "stderr",
     "output_type": "stream",
     "text": [
      "INFO:tensorflow:Assets written to: C:\\Users\\ucesvpm\\OneDrive - University College London\\PhD Project\\Data Analytics\\Time Series Clustering\\Third Test\\wandb\\run-20230202_131256-8cqf6ms9\\files\\model-best\\assets\n",
      "\u001b[34m\u001b[1mwandb\u001b[0m: Adding directory to artifact (C:\\Users\\ucesvpm\\OneDrive - University College London\\PhD Project\\Data Analytics\\Time Series Clustering\\Third Test\\wandb\\run-20230202_131256-8cqf6ms9\\files\\model-best)... Done. 0.0s\n"
     ]
    },
    {
     "name": "stdout",
     "output_type": "stream",
     "text": [
      "3542/3542 [==============================] - 10s 3ms/step - loss: 0.5665 - mse: 0.5665 - val_loss: 0.5729 - val_mse: 0.5729 - lr: 0.0047\n",
      "Epoch 18/100\n",
      "3533/3542 [============================>.] - ETA: 0s - loss: 0.5655 - mse: 0.5655"
     ]
    },
    {
     "name": "stderr",
     "output_type": "stream",
     "text": [
      "WARNING:absl:Found untraced functions such as leaky_re_lu_layer_call_fn, leaky_re_lu_layer_call_and_return_conditional_losses, leaky_re_lu_1_layer_call_fn, leaky_re_lu_1_layer_call_and_return_conditional_losses, leaky_re_lu_2_layer_call_fn while saving (showing 5 of 8). These functions will not be directly callable after loading.\n"
     ]
    },
    {
     "name": "stdout",
     "output_type": "stream",
     "text": [
      "INFO:tensorflow:Assets written to: C:\\Users\\ucesvpm\\OneDrive - University College London\\PhD Project\\Data Analytics\\Time Series Clustering\\Third Test\\wandb\\run-20230202_131256-8cqf6ms9\\files\\model-best\\assets\n"
     ]
    },
    {
     "name": "stderr",
     "output_type": "stream",
     "text": [
      "INFO:tensorflow:Assets written to: C:\\Users\\ucesvpm\\OneDrive - University College London\\PhD Project\\Data Analytics\\Time Series Clustering\\Third Test\\wandb\\run-20230202_131256-8cqf6ms9\\files\\model-best\\assets\n",
      "\u001b[34m\u001b[1mwandb\u001b[0m: Adding directory to artifact (C:\\Users\\ucesvpm\\OneDrive - University College London\\PhD Project\\Data Analytics\\Time Series Clustering\\Third Test\\wandb\\run-20230202_131256-8cqf6ms9\\files\\model-best)... Done. 0.0s\n"
     ]
    },
    {
     "name": "stdout",
     "output_type": "stream",
     "text": [
      "3542/3542 [==============================] - 10s 3ms/step - loss: 0.5656 - mse: 0.5656 - val_loss: 0.5714 - val_mse: 0.5714 - lr: 0.0047\n",
      "Epoch 19/100\n",
      "3539/3542 [============================>.] - ETA: 0s - loss: 0.5646 - mse: 0.5646"
     ]
    },
    {
     "name": "stderr",
     "output_type": "stream",
     "text": [
      "WARNING:absl:Found untraced functions such as leaky_re_lu_layer_call_fn, leaky_re_lu_layer_call_and_return_conditional_losses, leaky_re_lu_1_layer_call_fn, leaky_re_lu_1_layer_call_and_return_conditional_losses, leaky_re_lu_2_layer_call_fn while saving (showing 5 of 8). These functions will not be directly callable after loading.\n"
     ]
    },
    {
     "name": "stdout",
     "output_type": "stream",
     "text": [
      "INFO:tensorflow:Assets written to: C:\\Users\\ucesvpm\\OneDrive - University College London\\PhD Project\\Data Analytics\\Time Series Clustering\\Third Test\\wandb\\run-20230202_131256-8cqf6ms9\\files\\model-best\\assets\n"
     ]
    },
    {
     "name": "stderr",
     "output_type": "stream",
     "text": [
      "INFO:tensorflow:Assets written to: C:\\Users\\ucesvpm\\OneDrive - University College London\\PhD Project\\Data Analytics\\Time Series Clustering\\Third Test\\wandb\\run-20230202_131256-8cqf6ms9\\files\\model-best\\assets\n",
      "\u001b[34m\u001b[1mwandb\u001b[0m: Adding directory to artifact (C:\\Users\\ucesvpm\\OneDrive - University College London\\PhD Project\\Data Analytics\\Time Series Clustering\\Third Test\\wandb\\run-20230202_131256-8cqf6ms9\\files\\model-best)... Done. 0.0s\n"
     ]
    },
    {
     "name": "stdout",
     "output_type": "stream",
     "text": [
      "3542/3542 [==============================] - 10s 3ms/step - loss: 0.5646 - mse: 0.5646 - val_loss: 0.5705 - val_mse: 0.5705 - lr: 0.0047\n",
      "Epoch 20/100\n",
      "3524/3542 [============================>.] - ETA: 0s - loss: 0.5636 - mse: 0.5636"
     ]
    },
    {
     "name": "stderr",
     "output_type": "stream",
     "text": [
      "WARNING:absl:Found untraced functions such as leaky_re_lu_layer_call_fn, leaky_re_lu_layer_call_and_return_conditional_losses, leaky_re_lu_1_layer_call_fn, leaky_re_lu_1_layer_call_and_return_conditional_losses, leaky_re_lu_2_layer_call_fn while saving (showing 5 of 8). These functions will not be directly callable after loading.\n"
     ]
    },
    {
     "name": "stdout",
     "output_type": "stream",
     "text": [
      "INFO:tensorflow:Assets written to: C:\\Users\\ucesvpm\\OneDrive - University College London\\PhD Project\\Data Analytics\\Time Series Clustering\\Third Test\\wandb\\run-20230202_131256-8cqf6ms9\\files\\model-best\\assets\n"
     ]
    },
    {
     "name": "stderr",
     "output_type": "stream",
     "text": [
      "INFO:tensorflow:Assets written to: C:\\Users\\ucesvpm\\OneDrive - University College London\\PhD Project\\Data Analytics\\Time Series Clustering\\Third Test\\wandb\\run-20230202_131256-8cqf6ms9\\files\\model-best\\assets\n",
      "\u001b[34m\u001b[1mwandb\u001b[0m: Adding directory to artifact (C:\\Users\\ucesvpm\\OneDrive - University College London\\PhD Project\\Data Analytics\\Time Series Clustering\\Third Test\\wandb\\run-20230202_131256-8cqf6ms9\\files\\model-best)... Done. 0.0s\n"
     ]
    },
    {
     "name": "stdout",
     "output_type": "stream",
     "text": [
      "3542/3542 [==============================] - 11s 3ms/step - loss: 0.5636 - mse: 0.5636 - val_loss: 0.5699 - val_mse: 0.5699 - lr: 0.0047\n",
      "Epoch 21/100\n",
      "3534/3542 [============================>.] - ETA: 0s - loss: 0.5627 - mse: 0.5627"
     ]
    },
    {
     "name": "stderr",
     "output_type": "stream",
     "text": [
      "WARNING:absl:Found untraced functions such as leaky_re_lu_layer_call_fn, leaky_re_lu_layer_call_and_return_conditional_losses, leaky_re_lu_1_layer_call_fn, leaky_re_lu_1_layer_call_and_return_conditional_losses, leaky_re_lu_2_layer_call_fn while saving (showing 5 of 8). These functions will not be directly callable after loading.\n"
     ]
    },
    {
     "name": "stdout",
     "output_type": "stream",
     "text": [
      "INFO:tensorflow:Assets written to: C:\\Users\\ucesvpm\\OneDrive - University College London\\PhD Project\\Data Analytics\\Time Series Clustering\\Third Test\\wandb\\run-20230202_131256-8cqf6ms9\\files\\model-best\\assets\n"
     ]
    },
    {
     "name": "stderr",
     "output_type": "stream",
     "text": [
      "INFO:tensorflow:Assets written to: C:\\Users\\ucesvpm\\OneDrive - University College London\\PhD Project\\Data Analytics\\Time Series Clustering\\Third Test\\wandb\\run-20230202_131256-8cqf6ms9\\files\\model-best\\assets\n",
      "\u001b[34m\u001b[1mwandb\u001b[0m: Adding directory to artifact (C:\\Users\\ucesvpm\\OneDrive - University College London\\PhD Project\\Data Analytics\\Time Series Clustering\\Third Test\\wandb\\run-20230202_131256-8cqf6ms9\\files\\model-best)... Done. 0.0s\n"
     ]
    },
    {
     "name": "stdout",
     "output_type": "stream",
     "text": [
      "3542/3542 [==============================] - 11s 3ms/step - loss: 0.5627 - mse: 0.5627 - val_loss: 0.5692 - val_mse: 0.5692 - lr: 0.0047\n",
      "Epoch 22/100\n",
      "3531/3542 [============================>.] - ETA: 0s - loss: 0.5619 - mse: 0.5619"
     ]
    },
    {
     "name": "stderr",
     "output_type": "stream",
     "text": [
      "WARNING:absl:Found untraced functions such as leaky_re_lu_layer_call_fn, leaky_re_lu_layer_call_and_return_conditional_losses, leaky_re_lu_1_layer_call_fn, leaky_re_lu_1_layer_call_and_return_conditional_losses, leaky_re_lu_2_layer_call_fn while saving (showing 5 of 8). These functions will not be directly callable after loading.\n"
     ]
    },
    {
     "name": "stdout",
     "output_type": "stream",
     "text": [
      "INFO:tensorflow:Assets written to: C:\\Users\\ucesvpm\\OneDrive - University College London\\PhD Project\\Data Analytics\\Time Series Clustering\\Third Test\\wandb\\run-20230202_131256-8cqf6ms9\\files\\model-best\\assets\n"
     ]
    },
    {
     "name": "stderr",
     "output_type": "stream",
     "text": [
      "INFO:tensorflow:Assets written to: C:\\Users\\ucesvpm\\OneDrive - University College London\\PhD Project\\Data Analytics\\Time Series Clustering\\Third Test\\wandb\\run-20230202_131256-8cqf6ms9\\files\\model-best\\assets\n",
      "\u001b[34m\u001b[1mwandb\u001b[0m: Adding directory to artifact (C:\\Users\\ucesvpm\\OneDrive - University College London\\PhD Project\\Data Analytics\\Time Series Clustering\\Third Test\\wandb\\run-20230202_131256-8cqf6ms9\\files\\model-best)... Done. 0.0s\n"
     ]
    },
    {
     "name": "stdout",
     "output_type": "stream",
     "text": [
      "3542/3542 [==============================] - 10s 3ms/step - loss: 0.5618 - mse: 0.5618 - val_loss: 0.5685 - val_mse: 0.5685 - lr: 0.0047\n",
      "Epoch 23/100\n",
      "3528/3542 [============================>.] - ETA: 0s - loss: 0.5609 - mse: 0.5609"
     ]
    },
    {
     "name": "stderr",
     "output_type": "stream",
     "text": [
      "WARNING:absl:Found untraced functions such as leaky_re_lu_layer_call_fn, leaky_re_lu_layer_call_and_return_conditional_losses, leaky_re_lu_1_layer_call_fn, leaky_re_lu_1_layer_call_and_return_conditional_losses, leaky_re_lu_2_layer_call_fn while saving (showing 5 of 8). These functions will not be directly callable after loading.\n"
     ]
    },
    {
     "name": "stdout",
     "output_type": "stream",
     "text": [
      "INFO:tensorflow:Assets written to: C:\\Users\\ucesvpm\\OneDrive - University College London\\PhD Project\\Data Analytics\\Time Series Clustering\\Third Test\\wandb\\run-20230202_131256-8cqf6ms9\\files\\model-best\\assets\n"
     ]
    },
    {
     "name": "stderr",
     "output_type": "stream",
     "text": [
      "INFO:tensorflow:Assets written to: C:\\Users\\ucesvpm\\OneDrive - University College London\\PhD Project\\Data Analytics\\Time Series Clustering\\Third Test\\wandb\\run-20230202_131256-8cqf6ms9\\files\\model-best\\assets\n",
      "\u001b[34m\u001b[1mwandb\u001b[0m: Adding directory to artifact (C:\\Users\\ucesvpm\\OneDrive - University College London\\PhD Project\\Data Analytics\\Time Series Clustering\\Third Test\\wandb\\run-20230202_131256-8cqf6ms9\\files\\model-best)... Done. 0.0s\n"
     ]
    },
    {
     "name": "stdout",
     "output_type": "stream",
     "text": [
      "3542/3542 [==============================] - 11s 3ms/step - loss: 0.5610 - mse: 0.5610 - val_loss: 0.5675 - val_mse: 0.5675 - lr: 0.0047\n",
      "Epoch 24/100\n",
      "3534/3542 [============================>.] - ETA: 0s - loss: 0.5602 - mse: 0.5602"
     ]
    },
    {
     "name": "stderr",
     "output_type": "stream",
     "text": [
      "WARNING:absl:Found untraced functions such as leaky_re_lu_layer_call_fn, leaky_re_lu_layer_call_and_return_conditional_losses, leaky_re_lu_1_layer_call_fn, leaky_re_lu_1_layer_call_and_return_conditional_losses, leaky_re_lu_2_layer_call_fn while saving (showing 5 of 8). These functions will not be directly callable after loading.\n"
     ]
    },
    {
     "name": "stdout",
     "output_type": "stream",
     "text": [
      "INFO:tensorflow:Assets written to: C:\\Users\\ucesvpm\\OneDrive - University College London\\PhD Project\\Data Analytics\\Time Series Clustering\\Third Test\\wandb\\run-20230202_131256-8cqf6ms9\\files\\model-best\\assets\n"
     ]
    },
    {
     "name": "stderr",
     "output_type": "stream",
     "text": [
      "INFO:tensorflow:Assets written to: C:\\Users\\ucesvpm\\OneDrive - University College London\\PhD Project\\Data Analytics\\Time Series Clustering\\Third Test\\wandb\\run-20230202_131256-8cqf6ms9\\files\\model-best\\assets\n",
      "\u001b[34m\u001b[1mwandb\u001b[0m: Adding directory to artifact (C:\\Users\\ucesvpm\\OneDrive - University College London\\PhD Project\\Data Analytics\\Time Series Clustering\\Third Test\\wandb\\run-20230202_131256-8cqf6ms9\\files\\model-best)... Done. 0.0s\n"
     ]
    },
    {
     "name": "stdout",
     "output_type": "stream",
     "text": [
      "3542/3542 [==============================] - 10s 3ms/step - loss: 0.5601 - mse: 0.5601 - val_loss: 0.5669 - val_mse: 0.5669 - lr: 0.0047\n",
      "Epoch 25/100\n",
      "3528/3542 [============================>.] - ETA: 0s - loss: 0.5593 - mse: 0.5593"
     ]
    },
    {
     "name": "stderr",
     "output_type": "stream",
     "text": [
      "WARNING:absl:Found untraced functions such as leaky_re_lu_layer_call_fn, leaky_re_lu_layer_call_and_return_conditional_losses, leaky_re_lu_1_layer_call_fn, leaky_re_lu_1_layer_call_and_return_conditional_losses, leaky_re_lu_2_layer_call_fn while saving (showing 5 of 8). These functions will not be directly callable after loading.\n"
     ]
    },
    {
     "name": "stdout",
     "output_type": "stream",
     "text": [
      "INFO:tensorflow:Assets written to: C:\\Users\\ucesvpm\\OneDrive - University College London\\PhD Project\\Data Analytics\\Time Series Clustering\\Third Test\\wandb\\run-20230202_131256-8cqf6ms9\\files\\model-best\\assets\n"
     ]
    },
    {
     "name": "stderr",
     "output_type": "stream",
     "text": [
      "INFO:tensorflow:Assets written to: C:\\Users\\ucesvpm\\OneDrive - University College London\\PhD Project\\Data Analytics\\Time Series Clustering\\Third Test\\wandb\\run-20230202_131256-8cqf6ms9\\files\\model-best\\assets\n",
      "\u001b[34m\u001b[1mwandb\u001b[0m: Adding directory to artifact (C:\\Users\\ucesvpm\\OneDrive - University College London\\PhD Project\\Data Analytics\\Time Series Clustering\\Third Test\\wandb\\run-20230202_131256-8cqf6ms9\\files\\model-best)... Done. 0.0s\n"
     ]
    },
    {
     "name": "stdout",
     "output_type": "stream",
     "text": [
      "3542/3542 [==============================] - 10s 3ms/step - loss: 0.5594 - mse: 0.5594 - val_loss: 0.5659 - val_mse: 0.5659 - lr: 0.0047\n",
      "Epoch 26/100\n",
      "3526/3542 [============================>.] - ETA: 0s - loss: 0.5587 - mse: 0.5587"
     ]
    },
    {
     "name": "stderr",
     "output_type": "stream",
     "text": [
      "WARNING:absl:Found untraced functions such as leaky_re_lu_layer_call_fn, leaky_re_lu_layer_call_and_return_conditional_losses, leaky_re_lu_1_layer_call_fn, leaky_re_lu_1_layer_call_and_return_conditional_losses, leaky_re_lu_2_layer_call_fn while saving (showing 5 of 8). These functions will not be directly callable after loading.\n"
     ]
    },
    {
     "name": "stdout",
     "output_type": "stream",
     "text": [
      "INFO:tensorflow:Assets written to: C:\\Users\\ucesvpm\\OneDrive - University College London\\PhD Project\\Data Analytics\\Time Series Clustering\\Third Test\\wandb\\run-20230202_131256-8cqf6ms9\\files\\model-best\\assets\n"
     ]
    },
    {
     "name": "stderr",
     "output_type": "stream",
     "text": [
      "INFO:tensorflow:Assets written to: C:\\Users\\ucesvpm\\OneDrive - University College London\\PhD Project\\Data Analytics\\Time Series Clustering\\Third Test\\wandb\\run-20230202_131256-8cqf6ms9\\files\\model-best\\assets\n",
      "\u001b[34m\u001b[1mwandb\u001b[0m: Adding directory to artifact (C:\\Users\\ucesvpm\\OneDrive - University College London\\PhD Project\\Data Analytics\\Time Series Clustering\\Third Test\\wandb\\run-20230202_131256-8cqf6ms9\\files\\model-best)... Done. 0.0s\n"
     ]
    },
    {
     "name": "stdout",
     "output_type": "stream",
     "text": [
      "3542/3542 [==============================] - 10s 3ms/step - loss: 0.5586 - mse: 0.5586 - val_loss: 0.5656 - val_mse: 0.5656 - lr: 0.0047\n",
      "Epoch 27/100\n",
      "3533/3542 [============================>.] - ETA: 0s - loss: 0.5578 - mse: 0.5578"
     ]
    },
    {
     "name": "stderr",
     "output_type": "stream",
     "text": [
      "WARNING:absl:Found untraced functions such as leaky_re_lu_layer_call_fn, leaky_re_lu_layer_call_and_return_conditional_losses, leaky_re_lu_1_layer_call_fn, leaky_re_lu_1_layer_call_and_return_conditional_losses, leaky_re_lu_2_layer_call_fn while saving (showing 5 of 8). These functions will not be directly callable after loading.\n"
     ]
    },
    {
     "name": "stdout",
     "output_type": "stream",
     "text": [
      "INFO:tensorflow:Assets written to: C:\\Users\\ucesvpm\\OneDrive - University College London\\PhD Project\\Data Analytics\\Time Series Clustering\\Third Test\\wandb\\run-20230202_131256-8cqf6ms9\\files\\model-best\\assets\n"
     ]
    },
    {
     "name": "stderr",
     "output_type": "stream",
     "text": [
      "INFO:tensorflow:Assets written to: C:\\Users\\ucesvpm\\OneDrive - University College London\\PhD Project\\Data Analytics\\Time Series Clustering\\Third Test\\wandb\\run-20230202_131256-8cqf6ms9\\files\\model-best\\assets\n",
      "\u001b[34m\u001b[1mwandb\u001b[0m: Adding directory to artifact (C:\\Users\\ucesvpm\\OneDrive - University College London\\PhD Project\\Data Analytics\\Time Series Clustering\\Third Test\\wandb\\run-20230202_131256-8cqf6ms9\\files\\model-best)... Done. 0.0s\n"
     ]
    },
    {
     "name": "stdout",
     "output_type": "stream",
     "text": [
      "3542/3542 [==============================] - 10s 3ms/step - loss: 0.5578 - mse: 0.5578 - val_loss: 0.5647 - val_mse: 0.5647 - lr: 0.0047\n",
      "Epoch 28/100\n",
      "3526/3542 [============================>.] - ETA: 0s - loss: 0.5570 - mse: 0.5570"
     ]
    },
    {
     "name": "stderr",
     "output_type": "stream",
     "text": [
      "WARNING:absl:Found untraced functions such as leaky_re_lu_layer_call_fn, leaky_re_lu_layer_call_and_return_conditional_losses, leaky_re_lu_1_layer_call_fn, leaky_re_lu_1_layer_call_and_return_conditional_losses, leaky_re_lu_2_layer_call_fn while saving (showing 5 of 8). These functions will not be directly callable after loading.\n"
     ]
    },
    {
     "name": "stdout",
     "output_type": "stream",
     "text": [
      "INFO:tensorflow:Assets written to: C:\\Users\\ucesvpm\\OneDrive - University College London\\PhD Project\\Data Analytics\\Time Series Clustering\\Third Test\\wandb\\run-20230202_131256-8cqf6ms9\\files\\model-best\\assets\n"
     ]
    },
    {
     "name": "stderr",
     "output_type": "stream",
     "text": [
      "INFO:tensorflow:Assets written to: C:\\Users\\ucesvpm\\OneDrive - University College London\\PhD Project\\Data Analytics\\Time Series Clustering\\Third Test\\wandb\\run-20230202_131256-8cqf6ms9\\files\\model-best\\assets\n",
      "\u001b[34m\u001b[1mwandb\u001b[0m: Adding directory to artifact (C:\\Users\\ucesvpm\\OneDrive - University College London\\PhD Project\\Data Analytics\\Time Series Clustering\\Third Test\\wandb\\run-20230202_131256-8cqf6ms9\\files\\model-best)... Done. 0.0s\n"
     ]
    },
    {
     "name": "stdout",
     "output_type": "stream",
     "text": [
      "3542/3542 [==============================] - 10s 3ms/step - loss: 0.5571 - mse: 0.5571 - val_loss: 0.5644 - val_mse: 0.5644 - lr: 0.0047\n",
      "Epoch 29/100\n",
      "3540/3542 [============================>.] - ETA: 0s - loss: 0.5564 - mse: 0.5564"
     ]
    },
    {
     "name": "stderr",
     "output_type": "stream",
     "text": [
      "WARNING:absl:Found untraced functions such as leaky_re_lu_layer_call_fn, leaky_re_lu_layer_call_and_return_conditional_losses, leaky_re_lu_1_layer_call_fn, leaky_re_lu_1_layer_call_and_return_conditional_losses, leaky_re_lu_2_layer_call_fn while saving (showing 5 of 8). These functions will not be directly callable after loading.\n"
     ]
    },
    {
     "name": "stdout",
     "output_type": "stream",
     "text": [
      "INFO:tensorflow:Assets written to: C:\\Users\\ucesvpm\\OneDrive - University College London\\PhD Project\\Data Analytics\\Time Series Clustering\\Third Test\\wandb\\run-20230202_131256-8cqf6ms9\\files\\model-best\\assets\n"
     ]
    },
    {
     "name": "stderr",
     "output_type": "stream",
     "text": [
      "INFO:tensorflow:Assets written to: C:\\Users\\ucesvpm\\OneDrive - University College London\\PhD Project\\Data Analytics\\Time Series Clustering\\Third Test\\wandb\\run-20230202_131256-8cqf6ms9\\files\\model-best\\assets\n",
      "\u001b[34m\u001b[1mwandb\u001b[0m: Adding directory to artifact (C:\\Users\\ucesvpm\\OneDrive - University College London\\PhD Project\\Data Analytics\\Time Series Clustering\\Third Test\\wandb\\run-20230202_131256-8cqf6ms9\\files\\model-best)... Done. 0.0s\n"
     ]
    },
    {
     "name": "stdout",
     "output_type": "stream",
     "text": [
      "3542/3542 [==============================] - 10s 3ms/step - loss: 0.5564 - mse: 0.5564 - val_loss: 0.5635 - val_mse: 0.5635 - lr: 0.0047\n",
      "Epoch 30/100\n",
      "3539/3542 [============================>.] - ETA: 0s - loss: 0.5557 - mse: 0.5557"
     ]
    },
    {
     "name": "stderr",
     "output_type": "stream",
     "text": [
      "WARNING:absl:Found untraced functions such as leaky_re_lu_layer_call_fn, leaky_re_lu_layer_call_and_return_conditional_losses, leaky_re_lu_1_layer_call_fn, leaky_re_lu_1_layer_call_and_return_conditional_losses, leaky_re_lu_2_layer_call_fn while saving (showing 5 of 8). These functions will not be directly callable after loading.\n"
     ]
    },
    {
     "name": "stdout",
     "output_type": "stream",
     "text": [
      "INFO:tensorflow:Assets written to: C:\\Users\\ucesvpm\\OneDrive - University College London\\PhD Project\\Data Analytics\\Time Series Clustering\\Third Test\\wandb\\run-20230202_131256-8cqf6ms9\\files\\model-best\\assets\n"
     ]
    },
    {
     "name": "stderr",
     "output_type": "stream",
     "text": [
      "INFO:tensorflow:Assets written to: C:\\Users\\ucesvpm\\OneDrive - University College London\\PhD Project\\Data Analytics\\Time Series Clustering\\Third Test\\wandb\\run-20230202_131256-8cqf6ms9\\files\\model-best\\assets\n",
      "\u001b[34m\u001b[1mwandb\u001b[0m: Adding directory to artifact (C:\\Users\\ucesvpm\\OneDrive - University College London\\PhD Project\\Data Analytics\\Time Series Clustering\\Third Test\\wandb\\run-20230202_131256-8cqf6ms9\\files\\model-best)... Done. 0.0s\n"
     ]
    },
    {
     "name": "stdout",
     "output_type": "stream",
     "text": [
      "3542/3542 [==============================] - 9s 3ms/step - loss: 0.5557 - mse: 0.5557 - val_loss: 0.5626 - val_mse: 0.5626 - lr: 0.0047\n",
      "Epoch 31/100\n",
      "3542/3542 [==============================] - 9s 3ms/step - loss: 0.5550 - mse: 0.5550 - val_loss: 0.5626 - val_mse: 0.5626 - lr: 0.0047\n",
      "Epoch 32/100\n",
      "3519/3542 [============================>.] - ETA: 0s - loss: 0.5544 - mse: 0.5544"
     ]
    },
    {
     "name": "stderr",
     "output_type": "stream",
     "text": [
      "WARNING:absl:Found untraced functions such as leaky_re_lu_layer_call_fn, leaky_re_lu_layer_call_and_return_conditional_losses, leaky_re_lu_1_layer_call_fn, leaky_re_lu_1_layer_call_and_return_conditional_losses, leaky_re_lu_2_layer_call_fn while saving (showing 5 of 8). These functions will not be directly callable after loading.\n"
     ]
    },
    {
     "name": "stdout",
     "output_type": "stream",
     "text": [
      "INFO:tensorflow:Assets written to: C:\\Users\\ucesvpm\\OneDrive - University College London\\PhD Project\\Data Analytics\\Time Series Clustering\\Third Test\\wandb\\run-20230202_131256-8cqf6ms9\\files\\model-best\\assets\n"
     ]
    },
    {
     "name": "stderr",
     "output_type": "stream",
     "text": [
      "INFO:tensorflow:Assets written to: C:\\Users\\ucesvpm\\OneDrive - University College London\\PhD Project\\Data Analytics\\Time Series Clustering\\Third Test\\wandb\\run-20230202_131256-8cqf6ms9\\files\\model-best\\assets\n",
      "\u001b[34m\u001b[1mwandb\u001b[0m: Adding directory to artifact (C:\\Users\\ucesvpm\\OneDrive - University College London\\PhD Project\\Data Analytics\\Time Series Clustering\\Third Test\\wandb\\run-20230202_131256-8cqf6ms9\\files\\model-best)... Done. 0.0s\n"
     ]
    },
    {
     "name": "stdout",
     "output_type": "stream",
     "text": [
      "3542/3542 [==============================] - 10s 3ms/step - loss: 0.5544 - mse: 0.5544 - val_loss: 0.5623 - val_mse: 0.5623 - lr: 0.0047\n",
      "Epoch 33/100\n",
      "3532/3542 [============================>.] - ETA: 0s - loss: 0.5537 - mse: 0.5537"
     ]
    },
    {
     "name": "stderr",
     "output_type": "stream",
     "text": [
      "WARNING:absl:Found untraced functions such as leaky_re_lu_layer_call_fn, leaky_re_lu_layer_call_and_return_conditional_losses, leaky_re_lu_1_layer_call_fn, leaky_re_lu_1_layer_call_and_return_conditional_losses, leaky_re_lu_2_layer_call_fn while saving (showing 5 of 8). These functions will not be directly callable after loading.\n"
     ]
    },
    {
     "name": "stdout",
     "output_type": "stream",
     "text": [
      "INFO:tensorflow:Assets written to: C:\\Users\\ucesvpm\\OneDrive - University College London\\PhD Project\\Data Analytics\\Time Series Clustering\\Third Test\\wandb\\run-20230202_131256-8cqf6ms9\\files\\model-best\\assets\n"
     ]
    },
    {
     "name": "stderr",
     "output_type": "stream",
     "text": [
      "INFO:tensorflow:Assets written to: C:\\Users\\ucesvpm\\OneDrive - University College London\\PhD Project\\Data Analytics\\Time Series Clustering\\Third Test\\wandb\\run-20230202_131256-8cqf6ms9\\files\\model-best\\assets\n",
      "\u001b[34m\u001b[1mwandb\u001b[0m: Adding directory to artifact (C:\\Users\\ucesvpm\\OneDrive - University College London\\PhD Project\\Data Analytics\\Time Series Clustering\\Third Test\\wandb\\run-20230202_131256-8cqf6ms9\\files\\model-best)... Done. 0.0s\n"
     ]
    },
    {
     "name": "stdout",
     "output_type": "stream",
     "text": [
      "3542/3542 [==============================] - 10s 3ms/step - loss: 0.5537 - mse: 0.5537 - val_loss: 0.5616 - val_mse: 0.5616 - lr: 0.0047\n",
      "Epoch 34/100\n",
      "3524/3542 [============================>.] - ETA: 0s - loss: 0.5532 - mse: 0.5532"
     ]
    },
    {
     "name": "stderr",
     "output_type": "stream",
     "text": [
      "WARNING:absl:Found untraced functions such as leaky_re_lu_layer_call_fn, leaky_re_lu_layer_call_and_return_conditional_losses, leaky_re_lu_1_layer_call_fn, leaky_re_lu_1_layer_call_and_return_conditional_losses, leaky_re_lu_2_layer_call_fn while saving (showing 5 of 8). These functions will not be directly callable after loading.\n"
     ]
    },
    {
     "name": "stdout",
     "output_type": "stream",
     "text": [
      "INFO:tensorflow:Assets written to: C:\\Users\\ucesvpm\\OneDrive - University College London\\PhD Project\\Data Analytics\\Time Series Clustering\\Third Test\\wandb\\run-20230202_131256-8cqf6ms9\\files\\model-best\\assets\n"
     ]
    },
    {
     "name": "stderr",
     "output_type": "stream",
     "text": [
      "INFO:tensorflow:Assets written to: C:\\Users\\ucesvpm\\OneDrive - University College London\\PhD Project\\Data Analytics\\Time Series Clustering\\Third Test\\wandb\\run-20230202_131256-8cqf6ms9\\files\\model-best\\assets\n",
      "\u001b[34m\u001b[1mwandb\u001b[0m: Adding directory to artifact (C:\\Users\\ucesvpm\\OneDrive - University College London\\PhD Project\\Data Analytics\\Time Series Clustering\\Third Test\\wandb\\run-20230202_131256-8cqf6ms9\\files\\model-best)... Done. 0.0s\n"
     ]
    },
    {
     "name": "stdout",
     "output_type": "stream",
     "text": [
      "3542/3542 [==============================] - 11s 3ms/step - loss: 0.5531 - mse: 0.5531 - val_loss: 0.5613 - val_mse: 0.5613 - lr: 0.0047\n",
      "Epoch 35/100\n",
      "3528/3542 [============================>.] - ETA: 0s - loss: 0.5524 - mse: 0.5524"
     ]
    },
    {
     "name": "stderr",
     "output_type": "stream",
     "text": [
      "WARNING:absl:Found untraced functions such as leaky_re_lu_layer_call_fn, leaky_re_lu_layer_call_and_return_conditional_losses, leaky_re_lu_1_layer_call_fn, leaky_re_lu_1_layer_call_and_return_conditional_losses, leaky_re_lu_2_layer_call_fn while saving (showing 5 of 8). These functions will not be directly callable after loading.\n"
     ]
    },
    {
     "name": "stdout",
     "output_type": "stream",
     "text": [
      "INFO:tensorflow:Assets written to: C:\\Users\\ucesvpm\\OneDrive - University College London\\PhD Project\\Data Analytics\\Time Series Clustering\\Third Test\\wandb\\run-20230202_131256-8cqf6ms9\\files\\model-best\\assets\n"
     ]
    },
    {
     "name": "stderr",
     "output_type": "stream",
     "text": [
      "INFO:tensorflow:Assets written to: C:\\Users\\ucesvpm\\OneDrive - University College London\\PhD Project\\Data Analytics\\Time Series Clustering\\Third Test\\wandb\\run-20230202_131256-8cqf6ms9\\files\\model-best\\assets\n",
      "\u001b[34m\u001b[1mwandb\u001b[0m: Adding directory to artifact (C:\\Users\\ucesvpm\\OneDrive - University College London\\PhD Project\\Data Analytics\\Time Series Clustering\\Third Test\\wandb\\run-20230202_131256-8cqf6ms9\\files\\model-best)... Done. 0.0s\n"
     ]
    },
    {
     "name": "stdout",
     "output_type": "stream",
     "text": [
      "3542/3542 [==============================] - 10s 3ms/step - loss: 0.5525 - mse: 0.5525 - val_loss: 0.5609 - val_mse: 0.5609 - lr: 0.0047\n",
      "Epoch 36/100\n",
      "3518/3542 [============================>.] - ETA: 0s - loss: 0.5521 - mse: 0.5521"
     ]
    },
    {
     "name": "stderr",
     "output_type": "stream",
     "text": [
      "WARNING:absl:Found untraced functions such as leaky_re_lu_layer_call_fn, leaky_re_lu_layer_call_and_return_conditional_losses, leaky_re_lu_1_layer_call_fn, leaky_re_lu_1_layer_call_and_return_conditional_losses, leaky_re_lu_2_layer_call_fn while saving (showing 5 of 8). These functions will not be directly callable after loading.\n"
     ]
    },
    {
     "name": "stdout",
     "output_type": "stream",
     "text": [
      "INFO:tensorflow:Assets written to: C:\\Users\\ucesvpm\\OneDrive - University College London\\PhD Project\\Data Analytics\\Time Series Clustering\\Third Test\\wandb\\run-20230202_131256-8cqf6ms9\\files\\model-best\\assets\n"
     ]
    },
    {
     "name": "stderr",
     "output_type": "stream",
     "text": [
      "INFO:tensorflow:Assets written to: C:\\Users\\ucesvpm\\OneDrive - University College London\\PhD Project\\Data Analytics\\Time Series Clustering\\Third Test\\wandb\\run-20230202_131256-8cqf6ms9\\files\\model-best\\assets\n",
      "\u001b[34m\u001b[1mwandb\u001b[0m: Adding directory to artifact (C:\\Users\\ucesvpm\\OneDrive - University College London\\PhD Project\\Data Analytics\\Time Series Clustering\\Third Test\\wandb\\run-20230202_131256-8cqf6ms9\\files\\model-best)... Done. 0.0s\n"
     ]
    },
    {
     "name": "stdout",
     "output_type": "stream",
     "text": [
      "3542/3542 [==============================] - 10s 3ms/step - loss: 0.5519 - mse: 0.5519 - val_loss: 0.5596 - val_mse: 0.5596 - lr: 0.0047\n",
      "Epoch 37/100\n",
      "3527/3542 [============================>.] - ETA: 0s - loss: 0.5513 - mse: 0.5513"
     ]
    },
    {
     "name": "stderr",
     "output_type": "stream",
     "text": [
      "WARNING:absl:Found untraced functions such as leaky_re_lu_layer_call_fn, leaky_re_lu_layer_call_and_return_conditional_losses, leaky_re_lu_1_layer_call_fn, leaky_re_lu_1_layer_call_and_return_conditional_losses, leaky_re_lu_2_layer_call_fn while saving (showing 5 of 8). These functions will not be directly callable after loading.\n"
     ]
    },
    {
     "name": "stdout",
     "output_type": "stream",
     "text": [
      "INFO:tensorflow:Assets written to: C:\\Users\\ucesvpm\\OneDrive - University College London\\PhD Project\\Data Analytics\\Time Series Clustering\\Third Test\\wandb\\run-20230202_131256-8cqf6ms9\\files\\model-best\\assets\n"
     ]
    },
    {
     "name": "stderr",
     "output_type": "stream",
     "text": [
      "INFO:tensorflow:Assets written to: C:\\Users\\ucesvpm\\OneDrive - University College London\\PhD Project\\Data Analytics\\Time Series Clustering\\Third Test\\wandb\\run-20230202_131256-8cqf6ms9\\files\\model-best\\assets\n",
      "\u001b[34m\u001b[1mwandb\u001b[0m: Adding directory to artifact (C:\\Users\\ucesvpm\\OneDrive - University College London\\PhD Project\\Data Analytics\\Time Series Clustering\\Third Test\\wandb\\run-20230202_131256-8cqf6ms9\\files\\model-best)... Done. 0.0s\n"
     ]
    },
    {
     "name": "stdout",
     "output_type": "stream",
     "text": [
      "3542/3542 [==============================] - 11s 3ms/step - loss: 0.5513 - mse: 0.5513 - val_loss: 0.5592 - val_mse: 0.5592 - lr: 0.0047\n",
      "Epoch 38/100\n",
      "3537/3542 [============================>.] - ETA: 0s - loss: 0.5507 - mse: 0.5507"
     ]
    },
    {
     "name": "stderr",
     "output_type": "stream",
     "text": [
      "WARNING:absl:Found untraced functions such as leaky_re_lu_layer_call_fn, leaky_re_lu_layer_call_and_return_conditional_losses, leaky_re_lu_1_layer_call_fn, leaky_re_lu_1_layer_call_and_return_conditional_losses, leaky_re_lu_2_layer_call_fn while saving (showing 5 of 8). These functions will not be directly callable after loading.\n"
     ]
    },
    {
     "name": "stdout",
     "output_type": "stream",
     "text": [
      "INFO:tensorflow:Assets written to: C:\\Users\\ucesvpm\\OneDrive - University College London\\PhD Project\\Data Analytics\\Time Series Clustering\\Third Test\\wandb\\run-20230202_131256-8cqf6ms9\\files\\model-best\\assets\n"
     ]
    },
    {
     "name": "stderr",
     "output_type": "stream",
     "text": [
      "INFO:tensorflow:Assets written to: C:\\Users\\ucesvpm\\OneDrive - University College London\\PhD Project\\Data Analytics\\Time Series Clustering\\Third Test\\wandb\\run-20230202_131256-8cqf6ms9\\files\\model-best\\assets\n",
      "\u001b[34m\u001b[1mwandb\u001b[0m: Adding directory to artifact (C:\\Users\\ucesvpm\\OneDrive - University College London\\PhD Project\\Data Analytics\\Time Series Clustering\\Third Test\\wandb\\run-20230202_131256-8cqf6ms9\\files\\model-best)... Done. 0.0s\n"
     ]
    },
    {
     "name": "stdout",
     "output_type": "stream",
     "text": [
      "3542/3542 [==============================] - 10s 3ms/step - loss: 0.5507 - mse: 0.5507 - val_loss: 0.5591 - val_mse: 0.5591 - lr: 0.0047\n",
      "Epoch 39/100\n",
      "3541/3542 [============================>.] - ETA: 0s - loss: 0.5501 - mse: 0.5501"
     ]
    },
    {
     "name": "stderr",
     "output_type": "stream",
     "text": [
      "WARNING:absl:Found untraced functions such as leaky_re_lu_layer_call_fn, leaky_re_lu_layer_call_and_return_conditional_losses, leaky_re_lu_1_layer_call_fn, leaky_re_lu_1_layer_call_and_return_conditional_losses, leaky_re_lu_2_layer_call_fn while saving (showing 5 of 8). These functions will not be directly callable after loading.\n"
     ]
    },
    {
     "name": "stdout",
     "output_type": "stream",
     "text": [
      "INFO:tensorflow:Assets written to: C:\\Users\\ucesvpm\\OneDrive - University College London\\PhD Project\\Data Analytics\\Time Series Clustering\\Third Test\\wandb\\run-20230202_131256-8cqf6ms9\\files\\model-best\\assets\n"
     ]
    },
    {
     "name": "stderr",
     "output_type": "stream",
     "text": [
      "INFO:tensorflow:Assets written to: C:\\Users\\ucesvpm\\OneDrive - University College London\\PhD Project\\Data Analytics\\Time Series Clustering\\Third Test\\wandb\\run-20230202_131256-8cqf6ms9\\files\\model-best\\assets\n",
      "\u001b[34m\u001b[1mwandb\u001b[0m: Adding directory to artifact (C:\\Users\\ucesvpm\\OneDrive - University College London\\PhD Project\\Data Analytics\\Time Series Clustering\\Third Test\\wandb\\run-20230202_131256-8cqf6ms9\\files\\model-best)... Done. 0.0s\n"
     ]
    },
    {
     "name": "stdout",
     "output_type": "stream",
     "text": [
      "3542/3542 [==============================] - 10s 3ms/step - loss: 0.5501 - mse: 0.5501 - val_loss: 0.5586 - val_mse: 0.5586 - lr: 0.0047\n",
      "Epoch 40/100\n",
      "3537/3542 [============================>.] - ETA: 0s - loss: 0.5496 - mse: 0.5496"
     ]
    },
    {
     "name": "stderr",
     "output_type": "stream",
     "text": [
      "WARNING:absl:Found untraced functions such as leaky_re_lu_layer_call_fn, leaky_re_lu_layer_call_and_return_conditional_losses, leaky_re_lu_1_layer_call_fn, leaky_re_lu_1_layer_call_and_return_conditional_losses, leaky_re_lu_2_layer_call_fn while saving (showing 5 of 8). These functions will not be directly callable after loading.\n"
     ]
    },
    {
     "name": "stdout",
     "output_type": "stream",
     "text": [
      "INFO:tensorflow:Assets written to: C:\\Users\\ucesvpm\\OneDrive - University College London\\PhD Project\\Data Analytics\\Time Series Clustering\\Third Test\\wandb\\run-20230202_131256-8cqf6ms9\\files\\model-best\\assets\n"
     ]
    },
    {
     "name": "stderr",
     "output_type": "stream",
     "text": [
      "INFO:tensorflow:Assets written to: C:\\Users\\ucesvpm\\OneDrive - University College London\\PhD Project\\Data Analytics\\Time Series Clustering\\Third Test\\wandb\\run-20230202_131256-8cqf6ms9\\files\\model-best\\assets\n",
      "\u001b[34m\u001b[1mwandb\u001b[0m: Adding directory to artifact (C:\\Users\\ucesvpm\\OneDrive - University College London\\PhD Project\\Data Analytics\\Time Series Clustering\\Third Test\\wandb\\run-20230202_131256-8cqf6ms9\\files\\model-best)... Done. 0.0s\n"
     ]
    },
    {
     "name": "stdout",
     "output_type": "stream",
     "text": [
      "3542/3542 [==============================] - 10s 3ms/step - loss: 0.5496 - mse: 0.5496 - val_loss: 0.5579 - val_mse: 0.5579 - lr: 0.0047\n",
      "Epoch 41/100\n",
      "3535/3542 [============================>.] - ETA: 0s - loss: 0.5490 - mse: 0.5490"
     ]
    },
    {
     "name": "stderr",
     "output_type": "stream",
     "text": [
      "WARNING:absl:Found untraced functions such as leaky_re_lu_layer_call_fn, leaky_re_lu_layer_call_and_return_conditional_losses, leaky_re_lu_1_layer_call_fn, leaky_re_lu_1_layer_call_and_return_conditional_losses, leaky_re_lu_2_layer_call_fn while saving (showing 5 of 8). These functions will not be directly callable after loading.\n"
     ]
    },
    {
     "name": "stdout",
     "output_type": "stream",
     "text": [
      "INFO:tensorflow:Assets written to: C:\\Users\\ucesvpm\\OneDrive - University College London\\PhD Project\\Data Analytics\\Time Series Clustering\\Third Test\\wandb\\run-20230202_131256-8cqf6ms9\\files\\model-best\\assets\n"
     ]
    },
    {
     "name": "stderr",
     "output_type": "stream",
     "text": [
      "INFO:tensorflow:Assets written to: C:\\Users\\ucesvpm\\OneDrive - University College London\\PhD Project\\Data Analytics\\Time Series Clustering\\Third Test\\wandb\\run-20230202_131256-8cqf6ms9\\files\\model-best\\assets\n",
      "\u001b[34m\u001b[1mwandb\u001b[0m: Adding directory to artifact (C:\\Users\\ucesvpm\\OneDrive - University College London\\PhD Project\\Data Analytics\\Time Series Clustering\\Third Test\\wandb\\run-20230202_131256-8cqf6ms9\\files\\model-best)... Done. 0.0s\n"
     ]
    },
    {
     "name": "stdout",
     "output_type": "stream",
     "text": [
      "3542/3542 [==============================] - 10s 3ms/step - loss: 0.5490 - mse: 0.5490 - val_loss: 0.5576 - val_mse: 0.5576 - lr: 0.0047\n",
      "Epoch 42/100\n",
      "3522/3542 [============================>.] - ETA: 0s - loss: 0.5484 - mse: 0.5484"
     ]
    },
    {
     "name": "stderr",
     "output_type": "stream",
     "text": [
      "WARNING:absl:Found untraced functions such as leaky_re_lu_layer_call_fn, leaky_re_lu_layer_call_and_return_conditional_losses, leaky_re_lu_1_layer_call_fn, leaky_re_lu_1_layer_call_and_return_conditional_losses, leaky_re_lu_2_layer_call_fn while saving (showing 5 of 8). These functions will not be directly callable after loading.\n"
     ]
    },
    {
     "name": "stdout",
     "output_type": "stream",
     "text": [
      "INFO:tensorflow:Assets written to: C:\\Users\\ucesvpm\\OneDrive - University College London\\PhD Project\\Data Analytics\\Time Series Clustering\\Third Test\\wandb\\run-20230202_131256-8cqf6ms9\\files\\model-best\\assets\n"
     ]
    },
    {
     "name": "stderr",
     "output_type": "stream",
     "text": [
      "INFO:tensorflow:Assets written to: C:\\Users\\ucesvpm\\OneDrive - University College London\\PhD Project\\Data Analytics\\Time Series Clustering\\Third Test\\wandb\\run-20230202_131256-8cqf6ms9\\files\\model-best\\assets\n",
      "\u001b[34m\u001b[1mwandb\u001b[0m: Adding directory to artifact (C:\\Users\\ucesvpm\\OneDrive - University College London\\PhD Project\\Data Analytics\\Time Series Clustering\\Third Test\\wandb\\run-20230202_131256-8cqf6ms9\\files\\model-best)... Done. 0.0s\n"
     ]
    },
    {
     "name": "stdout",
     "output_type": "stream",
     "text": [
      "3542/3542 [==============================] - 10s 3ms/step - loss: 0.5485 - mse: 0.5485 - val_loss: 0.5575 - val_mse: 0.5575 - lr: 0.0047\n",
      "Epoch 43/100\n",
      "3542/3542 [==============================] - ETA: 0s - loss: 0.5480 - mse: 0.5480"
     ]
    },
    {
     "name": "stderr",
     "output_type": "stream",
     "text": [
      "WARNING:absl:Found untraced functions such as leaky_re_lu_layer_call_fn, leaky_re_lu_layer_call_and_return_conditional_losses, leaky_re_lu_1_layer_call_fn, leaky_re_lu_1_layer_call_and_return_conditional_losses, leaky_re_lu_2_layer_call_fn while saving (showing 5 of 8). These functions will not be directly callable after loading.\n"
     ]
    },
    {
     "name": "stdout",
     "output_type": "stream",
     "text": [
      "INFO:tensorflow:Assets written to: C:\\Users\\ucesvpm\\OneDrive - University College London\\PhD Project\\Data Analytics\\Time Series Clustering\\Third Test\\wandb\\run-20230202_131256-8cqf6ms9\\files\\model-best\\assets\n"
     ]
    },
    {
     "name": "stderr",
     "output_type": "stream",
     "text": [
      "INFO:tensorflow:Assets written to: C:\\Users\\ucesvpm\\OneDrive - University College London\\PhD Project\\Data Analytics\\Time Series Clustering\\Third Test\\wandb\\run-20230202_131256-8cqf6ms9\\files\\model-best\\assets\n",
      "\u001b[34m\u001b[1mwandb\u001b[0m: Adding directory to artifact (C:\\Users\\ucesvpm\\OneDrive - University College London\\PhD Project\\Data Analytics\\Time Series Clustering\\Third Test\\wandb\\run-20230202_131256-8cqf6ms9\\files\\model-best)... Done. 0.0s\n"
     ]
    },
    {
     "name": "stdout",
     "output_type": "stream",
     "text": [
      "3542/3542 [==============================] - 12s 3ms/step - loss: 0.5480 - mse: 0.5480 - val_loss: 0.5563 - val_mse: 0.5563 - lr: 0.0047\n",
      "Epoch 44/100\n",
      "3542/3542 [==============================] - 8s 2ms/step - loss: 0.5475 - mse: 0.5475 - val_loss: 0.5570 - val_mse: 0.5570 - lr: 0.0047\n",
      "Epoch 45/100\n",
      "3538/3542 [============================>.] - ETA: 0s - loss: 0.5470 - mse: 0.5470"
     ]
    },
    {
     "name": "stderr",
     "output_type": "stream",
     "text": [
      "WARNING:absl:Found untraced functions such as leaky_re_lu_layer_call_fn, leaky_re_lu_layer_call_and_return_conditional_losses, leaky_re_lu_1_layer_call_fn, leaky_re_lu_1_layer_call_and_return_conditional_losses, leaky_re_lu_2_layer_call_fn while saving (showing 5 of 8). These functions will not be directly callable after loading.\n"
     ]
    },
    {
     "name": "stdout",
     "output_type": "stream",
     "text": [
      "INFO:tensorflow:Assets written to: C:\\Users\\ucesvpm\\OneDrive - University College London\\PhD Project\\Data Analytics\\Time Series Clustering\\Third Test\\wandb\\run-20230202_131256-8cqf6ms9\\files\\model-best\\assets\n"
     ]
    },
    {
     "name": "stderr",
     "output_type": "stream",
     "text": [
      "INFO:tensorflow:Assets written to: C:\\Users\\ucesvpm\\OneDrive - University College London\\PhD Project\\Data Analytics\\Time Series Clustering\\Third Test\\wandb\\run-20230202_131256-8cqf6ms9\\files\\model-best\\assets\n",
      "\u001b[34m\u001b[1mwandb\u001b[0m: Adding directory to artifact (C:\\Users\\ucesvpm\\OneDrive - University College London\\PhD Project\\Data Analytics\\Time Series Clustering\\Third Test\\wandb\\run-20230202_131256-8cqf6ms9\\files\\model-best)... Done. 0.0s\n"
     ]
    },
    {
     "name": "stdout",
     "output_type": "stream",
     "text": [
      "3542/3542 [==============================] - 10s 3ms/step - loss: 0.5470 - mse: 0.5470 - val_loss: 0.5559 - val_mse: 0.5559 - lr: 0.0047\n",
      "Epoch 46/100\n",
      "3533/3542 [============================>.] - ETA: 0s - loss: 0.5463 - mse: 0.5463"
     ]
    },
    {
     "name": "stderr",
     "output_type": "stream",
     "text": [
      "WARNING:absl:Found untraced functions such as leaky_re_lu_layer_call_fn, leaky_re_lu_layer_call_and_return_conditional_losses, leaky_re_lu_1_layer_call_fn, leaky_re_lu_1_layer_call_and_return_conditional_losses, leaky_re_lu_2_layer_call_fn while saving (showing 5 of 8). These functions will not be directly callable after loading.\n"
     ]
    },
    {
     "name": "stdout",
     "output_type": "stream",
     "text": [
      "INFO:tensorflow:Assets written to: C:\\Users\\ucesvpm\\OneDrive - University College London\\PhD Project\\Data Analytics\\Time Series Clustering\\Third Test\\wandb\\run-20230202_131256-8cqf6ms9\\files\\model-best\\assets\n"
     ]
    },
    {
     "name": "stderr",
     "output_type": "stream",
     "text": [
      "INFO:tensorflow:Assets written to: C:\\Users\\ucesvpm\\OneDrive - University College London\\PhD Project\\Data Analytics\\Time Series Clustering\\Third Test\\wandb\\run-20230202_131256-8cqf6ms9\\files\\model-best\\assets\n",
      "\u001b[34m\u001b[1mwandb\u001b[0m: Adding directory to artifact (C:\\Users\\ucesvpm\\OneDrive - University College London\\PhD Project\\Data Analytics\\Time Series Clustering\\Third Test\\wandb\\run-20230202_131256-8cqf6ms9\\files\\model-best)... Done. 0.3s\n"
     ]
    },
    {
     "name": "stdout",
     "output_type": "stream",
     "text": [
      "3542/3542 [==============================] - 12s 3ms/step - loss: 0.5464 - mse: 0.5464 - val_loss: 0.5558 - val_mse: 0.5558 - lr: 0.0047\n",
      "Epoch 47/100\n",
      "3519/3542 [============================>.] - ETA: 0s - loss: 0.5458 - mse: 0.5458"
     ]
    },
    {
     "name": "stderr",
     "output_type": "stream",
     "text": [
      "WARNING:absl:Found untraced functions such as leaky_re_lu_layer_call_fn, leaky_re_lu_layer_call_and_return_conditional_losses, leaky_re_lu_1_layer_call_fn, leaky_re_lu_1_layer_call_and_return_conditional_losses, leaky_re_lu_2_layer_call_fn while saving (showing 5 of 8). These functions will not be directly callable after loading.\n"
     ]
    },
    {
     "name": "stdout",
     "output_type": "stream",
     "text": [
      "INFO:tensorflow:Assets written to: C:\\Users\\ucesvpm\\OneDrive - University College London\\PhD Project\\Data Analytics\\Time Series Clustering\\Third Test\\wandb\\run-20230202_131256-8cqf6ms9\\files\\model-best\\assets\n"
     ]
    },
    {
     "name": "stderr",
     "output_type": "stream",
     "text": [
      "INFO:tensorflow:Assets written to: C:\\Users\\ucesvpm\\OneDrive - University College London\\PhD Project\\Data Analytics\\Time Series Clustering\\Third Test\\wandb\\run-20230202_131256-8cqf6ms9\\files\\model-best\\assets\n",
      "\u001b[34m\u001b[1mwandb\u001b[0m: Adding directory to artifact (C:\\Users\\ucesvpm\\OneDrive - University College London\\PhD Project\\Data Analytics\\Time Series Clustering\\Third Test\\wandb\\run-20230202_131256-8cqf6ms9\\files\\model-best)... Done. 0.0s\n"
     ]
    },
    {
     "name": "stdout",
     "output_type": "stream",
     "text": [
      "3542/3542 [==============================] - 10s 3ms/step - loss: 0.5459 - mse: 0.5459 - val_loss: 0.5557 - val_mse: 0.5557 - lr: 0.0047\n",
      "Epoch 48/100\n",
      "3524/3542 [============================>.] - ETA: 0s - loss: 0.5455 - mse: 0.5455"
     ]
    },
    {
     "name": "stderr",
     "output_type": "stream",
     "text": [
      "WARNING:absl:Found untraced functions such as leaky_re_lu_layer_call_fn, leaky_re_lu_layer_call_and_return_conditional_losses, leaky_re_lu_1_layer_call_fn, leaky_re_lu_1_layer_call_and_return_conditional_losses, leaky_re_lu_2_layer_call_fn while saving (showing 5 of 8). These functions will not be directly callable after loading.\n"
     ]
    },
    {
     "name": "stdout",
     "output_type": "stream",
     "text": [
      "INFO:tensorflow:Assets written to: C:\\Users\\ucesvpm\\OneDrive - University College London\\PhD Project\\Data Analytics\\Time Series Clustering\\Third Test\\wandb\\run-20230202_131256-8cqf6ms9\\files\\model-best\\assets\n"
     ]
    },
    {
     "name": "stderr",
     "output_type": "stream",
     "text": [
      "INFO:tensorflow:Assets written to: C:\\Users\\ucesvpm\\OneDrive - University College London\\PhD Project\\Data Analytics\\Time Series Clustering\\Third Test\\wandb\\run-20230202_131256-8cqf6ms9\\files\\model-best\\assets\n",
      "\u001b[34m\u001b[1mwandb\u001b[0m: Adding directory to artifact (C:\\Users\\ucesvpm\\OneDrive - University College London\\PhD Project\\Data Analytics\\Time Series Clustering\\Third Test\\wandb\\run-20230202_131256-8cqf6ms9\\files\\model-best)... Done. 0.0s\n"
     ]
    },
    {
     "name": "stdout",
     "output_type": "stream",
     "text": [
      "3542/3542 [==============================] - 11s 3ms/step - loss: 0.5455 - mse: 0.5455 - val_loss: 0.5546 - val_mse: 0.5546 - lr: 0.0047\n",
      "Epoch 49/100\n",
      "3542/3542 [==============================] - 9s 3ms/step - loss: 0.5450 - mse: 0.5450 - val_loss: 0.5548 - val_mse: 0.5548 - lr: 0.0047\n",
      "Epoch 50/100\n",
      "3538/3542 [============================>.] - ETA: 0s - loss: 0.5445 - mse: 0.5445"
     ]
    },
    {
     "name": "stderr",
     "output_type": "stream",
     "text": [
      "WARNING:absl:Found untraced functions such as leaky_re_lu_layer_call_fn, leaky_re_lu_layer_call_and_return_conditional_losses, leaky_re_lu_1_layer_call_fn, leaky_re_lu_1_layer_call_and_return_conditional_losses, leaky_re_lu_2_layer_call_fn while saving (showing 5 of 8). These functions will not be directly callable after loading.\n"
     ]
    },
    {
     "name": "stdout",
     "output_type": "stream",
     "text": [
      "INFO:tensorflow:Assets written to: C:\\Users\\ucesvpm\\OneDrive - University College London\\PhD Project\\Data Analytics\\Time Series Clustering\\Third Test\\wandb\\run-20230202_131256-8cqf6ms9\\files\\model-best\\assets\n"
     ]
    },
    {
     "name": "stderr",
     "output_type": "stream",
     "text": [
      "INFO:tensorflow:Assets written to: C:\\Users\\ucesvpm\\OneDrive - University College London\\PhD Project\\Data Analytics\\Time Series Clustering\\Third Test\\wandb\\run-20230202_131256-8cqf6ms9\\files\\model-best\\assets\n",
      "\u001b[34m\u001b[1mwandb\u001b[0m: Adding directory to artifact (C:\\Users\\ucesvpm\\OneDrive - University College London\\PhD Project\\Data Analytics\\Time Series Clustering\\Third Test\\wandb\\run-20230202_131256-8cqf6ms9\\files\\model-best)... Done. 0.0s\n"
     ]
    },
    {
     "name": "stdout",
     "output_type": "stream",
     "text": [
      "3542/3542 [==============================] - 10s 3ms/step - loss: 0.5445 - mse: 0.5445 - val_loss: 0.5545 - val_mse: 0.5545 - lr: 0.0047\n",
      "Epoch 51/100\n",
      "3534/3542 [============================>.] - ETA: 0s - loss: 0.5441 - mse: 0.5441"
     ]
    },
    {
     "name": "stderr",
     "output_type": "stream",
     "text": [
      "WARNING:absl:Found untraced functions such as leaky_re_lu_layer_call_fn, leaky_re_lu_layer_call_and_return_conditional_losses, leaky_re_lu_1_layer_call_fn, leaky_re_lu_1_layer_call_and_return_conditional_losses, leaky_re_lu_2_layer_call_fn while saving (showing 5 of 8). These functions will not be directly callable after loading.\n"
     ]
    },
    {
     "name": "stdout",
     "output_type": "stream",
     "text": [
      "INFO:tensorflow:Assets written to: C:\\Users\\ucesvpm\\OneDrive - University College London\\PhD Project\\Data Analytics\\Time Series Clustering\\Third Test\\wandb\\run-20230202_131256-8cqf6ms9\\files\\model-best\\assets\n"
     ]
    },
    {
     "name": "stderr",
     "output_type": "stream",
     "text": [
      "INFO:tensorflow:Assets written to: C:\\Users\\ucesvpm\\OneDrive - University College London\\PhD Project\\Data Analytics\\Time Series Clustering\\Third Test\\wandb\\run-20230202_131256-8cqf6ms9\\files\\model-best\\assets\n",
      "\u001b[34m\u001b[1mwandb\u001b[0m: Adding directory to artifact (C:\\Users\\ucesvpm\\OneDrive - University College London\\PhD Project\\Data Analytics\\Time Series Clustering\\Third Test\\wandb\\run-20230202_131256-8cqf6ms9\\files\\model-best)... Done. 0.1s\n"
     ]
    },
    {
     "name": "stdout",
     "output_type": "stream",
     "text": [
      "3542/3542 [==============================] - 11s 3ms/step - loss: 0.5441 - mse: 0.5441 - val_loss: 0.5535 - val_mse: 0.5535 - lr: 0.0047\n",
      "Epoch 52/100\n",
      "3533/3542 [============================>.] - ETA: 0s - loss: 0.5437 - mse: 0.5437"
     ]
    },
    {
     "name": "stderr",
     "output_type": "stream",
     "text": [
      "WARNING:absl:Found untraced functions such as leaky_re_lu_layer_call_fn, leaky_re_lu_layer_call_and_return_conditional_losses, leaky_re_lu_1_layer_call_fn, leaky_re_lu_1_layer_call_and_return_conditional_losses, leaky_re_lu_2_layer_call_fn while saving (showing 5 of 8). These functions will not be directly callable after loading.\n"
     ]
    },
    {
     "name": "stdout",
     "output_type": "stream",
     "text": [
      "INFO:tensorflow:Assets written to: C:\\Users\\ucesvpm\\OneDrive - University College London\\PhD Project\\Data Analytics\\Time Series Clustering\\Third Test\\wandb\\run-20230202_131256-8cqf6ms9\\files\\model-best\\assets\n"
     ]
    },
    {
     "name": "stderr",
     "output_type": "stream",
     "text": [
      "INFO:tensorflow:Assets written to: C:\\Users\\ucesvpm\\OneDrive - University College London\\PhD Project\\Data Analytics\\Time Series Clustering\\Third Test\\wandb\\run-20230202_131256-8cqf6ms9\\files\\model-best\\assets\n",
      "\u001b[34m\u001b[1mwandb\u001b[0m: Adding directory to artifact (C:\\Users\\ucesvpm\\OneDrive - University College London\\PhD Project\\Data Analytics\\Time Series Clustering\\Third Test\\wandb\\run-20230202_131256-8cqf6ms9\\files\\model-best)... Done. 0.0s\n"
     ]
    },
    {
     "name": "stdout",
     "output_type": "stream",
     "text": [
      "3542/3542 [==============================] - 9s 3ms/step - loss: 0.5436 - mse: 0.5436 - val_loss: 0.5534 - val_mse: 0.5534 - lr: 0.0047\n",
      "Epoch 53/100\n",
      "3526/3542 [============================>.] - ETA: 0s - loss: 0.5431 - mse: 0.5431"
     ]
    },
    {
     "name": "stderr",
     "output_type": "stream",
     "text": [
      "WARNING:absl:Found untraced functions such as leaky_re_lu_layer_call_fn, leaky_re_lu_layer_call_and_return_conditional_losses, leaky_re_lu_1_layer_call_fn, leaky_re_lu_1_layer_call_and_return_conditional_losses, leaky_re_lu_2_layer_call_fn while saving (showing 5 of 8). These functions will not be directly callable after loading.\n"
     ]
    },
    {
     "name": "stdout",
     "output_type": "stream",
     "text": [
      "INFO:tensorflow:Assets written to: C:\\Users\\ucesvpm\\OneDrive - University College London\\PhD Project\\Data Analytics\\Time Series Clustering\\Third Test\\wandb\\run-20230202_131256-8cqf6ms9\\files\\model-best\\assets\n"
     ]
    },
    {
     "name": "stderr",
     "output_type": "stream",
     "text": [
      "INFO:tensorflow:Assets written to: C:\\Users\\ucesvpm\\OneDrive - University College London\\PhD Project\\Data Analytics\\Time Series Clustering\\Third Test\\wandb\\run-20230202_131256-8cqf6ms9\\files\\model-best\\assets\n",
      "\u001b[34m\u001b[1mwandb\u001b[0m: Adding directory to artifact (C:\\Users\\ucesvpm\\OneDrive - University College London\\PhD Project\\Data Analytics\\Time Series Clustering\\Third Test\\wandb\\run-20230202_131256-8cqf6ms9\\files\\model-best)... Done. 0.0s\n"
     ]
    },
    {
     "name": "stdout",
     "output_type": "stream",
     "text": [
      "3542/3542 [==============================] - 11s 3ms/step - loss: 0.5431 - mse: 0.5431 - val_loss: 0.5530 - val_mse: 0.5530 - lr: 0.0047\n",
      "Epoch 54/100\n",
      "3534/3542 [============================>.] - ETA: 0s - loss: 0.5427 - mse: 0.5427"
     ]
    },
    {
     "name": "stderr",
     "output_type": "stream",
     "text": [
      "WARNING:absl:Found untraced functions such as leaky_re_lu_layer_call_fn, leaky_re_lu_layer_call_and_return_conditional_losses, leaky_re_lu_1_layer_call_fn, leaky_re_lu_1_layer_call_and_return_conditional_losses, leaky_re_lu_2_layer_call_fn while saving (showing 5 of 8). These functions will not be directly callable after loading.\n"
     ]
    },
    {
     "name": "stdout",
     "output_type": "stream",
     "text": [
      "INFO:tensorflow:Assets written to: C:\\Users\\ucesvpm\\OneDrive - University College London\\PhD Project\\Data Analytics\\Time Series Clustering\\Third Test\\wandb\\run-20230202_131256-8cqf6ms9\\files\\model-best\\assets\n"
     ]
    },
    {
     "name": "stderr",
     "output_type": "stream",
     "text": [
      "INFO:tensorflow:Assets written to: C:\\Users\\ucesvpm\\OneDrive - University College London\\PhD Project\\Data Analytics\\Time Series Clustering\\Third Test\\wandb\\run-20230202_131256-8cqf6ms9\\files\\model-best\\assets\n",
      "\u001b[34m\u001b[1mwandb\u001b[0m: Adding directory to artifact (C:\\Users\\ucesvpm\\OneDrive - University College London\\PhD Project\\Data Analytics\\Time Series Clustering\\Third Test\\wandb\\run-20230202_131256-8cqf6ms9\\files\\model-best)... Done. 0.0s\n"
     ]
    },
    {
     "name": "stdout",
     "output_type": "stream",
     "text": [
      "3542/3542 [==============================] - 11s 3ms/step - loss: 0.5428 - mse: 0.5428 - val_loss: 0.5525 - val_mse: 0.5525 - lr: 0.0047\n",
      "Epoch 55/100\n",
      "3542/3542 [==============================] - 8s 2ms/step - loss: 0.5423 - mse: 0.5423 - val_loss: 0.5525 - val_mse: 0.5525 - lr: 0.0047\n",
      "Epoch 56/100\n",
      "3538/3542 [============================>.] - ETA: 0s - loss: 0.5419 - mse: 0.5419"
     ]
    },
    {
     "name": "stderr",
     "output_type": "stream",
     "text": [
      "WARNING:absl:Found untraced functions such as leaky_re_lu_layer_call_fn, leaky_re_lu_layer_call_and_return_conditional_losses, leaky_re_lu_1_layer_call_fn, leaky_re_lu_1_layer_call_and_return_conditional_losses, leaky_re_lu_2_layer_call_fn while saving (showing 5 of 8). These functions will not be directly callable after loading.\n"
     ]
    },
    {
     "name": "stdout",
     "output_type": "stream",
     "text": [
      "INFO:tensorflow:Assets written to: C:\\Users\\ucesvpm\\OneDrive - University College London\\PhD Project\\Data Analytics\\Time Series Clustering\\Third Test\\wandb\\run-20230202_131256-8cqf6ms9\\files\\model-best\\assets\n"
     ]
    },
    {
     "name": "stderr",
     "output_type": "stream",
     "text": [
      "INFO:tensorflow:Assets written to: C:\\Users\\ucesvpm\\OneDrive - University College London\\PhD Project\\Data Analytics\\Time Series Clustering\\Third Test\\wandb\\run-20230202_131256-8cqf6ms9\\files\\model-best\\assets\n",
      "\u001b[34m\u001b[1mwandb\u001b[0m: Adding directory to artifact (C:\\Users\\ucesvpm\\OneDrive - University College London\\PhD Project\\Data Analytics\\Time Series Clustering\\Third Test\\wandb\\run-20230202_131256-8cqf6ms9\\files\\model-best)... Done. 0.0s\n"
     ]
    },
    {
     "name": "stdout",
     "output_type": "stream",
     "text": [
      "3542/3542 [==============================] - 11s 3ms/step - loss: 0.5419 - mse: 0.5419 - val_loss: 0.5520 - val_mse: 0.5520 - lr: 0.0047\n",
      "Epoch 57/100\n",
      "3539/3542 [============================>.] - ETA: 0s - loss: 0.5414 - mse: 0.5414"
     ]
    },
    {
     "name": "stderr",
     "output_type": "stream",
     "text": [
      "WARNING:absl:Found untraced functions such as leaky_re_lu_layer_call_fn, leaky_re_lu_layer_call_and_return_conditional_losses, leaky_re_lu_1_layer_call_fn, leaky_re_lu_1_layer_call_and_return_conditional_losses, leaky_re_lu_2_layer_call_fn while saving (showing 5 of 8). These functions will not be directly callable after loading.\n"
     ]
    },
    {
     "name": "stdout",
     "output_type": "stream",
     "text": [
      "INFO:tensorflow:Assets written to: C:\\Users\\ucesvpm\\OneDrive - University College London\\PhD Project\\Data Analytics\\Time Series Clustering\\Third Test\\wandb\\run-20230202_131256-8cqf6ms9\\files\\model-best\\assets\n"
     ]
    },
    {
     "name": "stderr",
     "output_type": "stream",
     "text": [
      "INFO:tensorflow:Assets written to: C:\\Users\\ucesvpm\\OneDrive - University College London\\PhD Project\\Data Analytics\\Time Series Clustering\\Third Test\\wandb\\run-20230202_131256-8cqf6ms9\\files\\model-best\\assets\n",
      "\u001b[34m\u001b[1mwandb\u001b[0m: Adding directory to artifact (C:\\Users\\ucesvpm\\OneDrive - University College London\\PhD Project\\Data Analytics\\Time Series Clustering\\Third Test\\wandb\\run-20230202_131256-8cqf6ms9\\files\\model-best)... Done. 0.0s\n"
     ]
    },
    {
     "name": "stdout",
     "output_type": "stream",
     "text": [
      "3542/3542 [==============================] - 10s 3ms/step - loss: 0.5414 - mse: 0.5414 - val_loss: 0.5520 - val_mse: 0.5520 - lr: 0.0047\n",
      "Epoch 58/100\n",
      "3518/3542 [============================>.] - ETA: 0s - loss: 0.5410 - mse: 0.5410"
     ]
    },
    {
     "name": "stderr",
     "output_type": "stream",
     "text": [
      "WARNING:absl:Found untraced functions such as leaky_re_lu_layer_call_fn, leaky_re_lu_layer_call_and_return_conditional_losses, leaky_re_lu_1_layer_call_fn, leaky_re_lu_1_layer_call_and_return_conditional_losses, leaky_re_lu_2_layer_call_fn while saving (showing 5 of 8). These functions will not be directly callable after loading.\n"
     ]
    },
    {
     "name": "stdout",
     "output_type": "stream",
     "text": [
      "INFO:tensorflow:Assets written to: C:\\Users\\ucesvpm\\OneDrive - University College London\\PhD Project\\Data Analytics\\Time Series Clustering\\Third Test\\wandb\\run-20230202_131256-8cqf6ms9\\files\\model-best\\assets\n"
     ]
    },
    {
     "name": "stderr",
     "output_type": "stream",
     "text": [
      "INFO:tensorflow:Assets written to: C:\\Users\\ucesvpm\\OneDrive - University College London\\PhD Project\\Data Analytics\\Time Series Clustering\\Third Test\\wandb\\run-20230202_131256-8cqf6ms9\\files\\model-best\\assets\n",
      "\u001b[34m\u001b[1mwandb\u001b[0m: Adding directory to artifact (C:\\Users\\ucesvpm\\OneDrive - University College London\\PhD Project\\Data Analytics\\Time Series Clustering\\Third Test\\wandb\\run-20230202_131256-8cqf6ms9\\files\\model-best)... Done. 0.0s\n"
     ]
    },
    {
     "name": "stdout",
     "output_type": "stream",
     "text": [
      "3542/3542 [==============================] - 10s 3ms/step - loss: 0.5411 - mse: 0.5411 - val_loss: 0.5514 - val_mse: 0.5514 - lr: 0.0047\n",
      "Epoch 59/100\n",
      "3542/3542 [==============================] - 9s 3ms/step - loss: 0.5406 - mse: 0.5406 - val_loss: 0.5516 - val_mse: 0.5516 - lr: 0.0047\n",
      "Epoch 60/100\n",
      "3542/3542 [==============================] - 8s 2ms/step - loss: 0.5402 - mse: 0.5402 - val_loss: 0.5519 - val_mse: 0.5519 - lr: 0.0047\n",
      "Epoch 61/100\n",
      "3520/3542 [============================>.] - ETA: 0s - loss: 0.5401 - mse: 0.5401"
     ]
    },
    {
     "name": "stderr",
     "output_type": "stream",
     "text": [
      "WARNING:absl:Found untraced functions such as leaky_re_lu_layer_call_fn, leaky_re_lu_layer_call_and_return_conditional_losses, leaky_re_lu_1_layer_call_fn, leaky_re_lu_1_layer_call_and_return_conditional_losses, leaky_re_lu_2_layer_call_fn while saving (showing 5 of 8). These functions will not be directly callable after loading.\n"
     ]
    },
    {
     "name": "stdout",
     "output_type": "stream",
     "text": [
      "INFO:tensorflow:Assets written to: C:\\Users\\ucesvpm\\OneDrive - University College London\\PhD Project\\Data Analytics\\Time Series Clustering\\Third Test\\wandb\\run-20230202_131256-8cqf6ms9\\files\\model-best\\assets\n"
     ]
    },
    {
     "name": "stderr",
     "output_type": "stream",
     "text": [
      "INFO:tensorflow:Assets written to: C:\\Users\\ucesvpm\\OneDrive - University College London\\PhD Project\\Data Analytics\\Time Series Clustering\\Third Test\\wandb\\run-20230202_131256-8cqf6ms9\\files\\model-best\\assets\n",
      "\u001b[34m\u001b[1mwandb\u001b[0m: Adding directory to artifact (C:\\Users\\ucesvpm\\OneDrive - University College London\\PhD Project\\Data Analytics\\Time Series Clustering\\Third Test\\wandb\\run-20230202_131256-8cqf6ms9\\files\\model-best)... Done. 0.0s\n"
     ]
    },
    {
     "name": "stdout",
     "output_type": "stream",
     "text": [
      "3542/3542 [==============================] - 10s 3ms/step - loss: 0.5399 - mse: 0.5399 - val_loss: 0.5511 - val_mse: 0.5511 - lr: 0.0047\n",
      "Epoch 62/100\n",
      "3519/3542 [============================>.] - ETA: 0s - loss: 0.5395 - mse: 0.5395"
     ]
    },
    {
     "name": "stderr",
     "output_type": "stream",
     "text": [
      "WARNING:absl:Found untraced functions such as leaky_re_lu_layer_call_fn, leaky_re_lu_layer_call_and_return_conditional_losses, leaky_re_lu_1_layer_call_fn, leaky_re_lu_1_layer_call_and_return_conditional_losses, leaky_re_lu_2_layer_call_fn while saving (showing 5 of 8). These functions will not be directly callable after loading.\n"
     ]
    },
    {
     "name": "stdout",
     "output_type": "stream",
     "text": [
      "INFO:tensorflow:Assets written to: C:\\Users\\ucesvpm\\OneDrive - University College London\\PhD Project\\Data Analytics\\Time Series Clustering\\Third Test\\wandb\\run-20230202_131256-8cqf6ms9\\files\\model-best\\assets\n"
     ]
    },
    {
     "name": "stderr",
     "output_type": "stream",
     "text": [
      "INFO:tensorflow:Assets written to: C:\\Users\\ucesvpm\\OneDrive - University College London\\PhD Project\\Data Analytics\\Time Series Clustering\\Third Test\\wandb\\run-20230202_131256-8cqf6ms9\\files\\model-best\\assets\n",
      "\u001b[34m\u001b[1mwandb\u001b[0m: Adding directory to artifact (C:\\Users\\ucesvpm\\OneDrive - University College London\\PhD Project\\Data Analytics\\Time Series Clustering\\Third Test\\wandb\\run-20230202_131256-8cqf6ms9\\files\\model-best)... Done. 0.0s\n"
     ]
    },
    {
     "name": "stdout",
     "output_type": "stream",
     "text": [
      "3542/3542 [==============================] - 10s 3ms/step - loss: 0.5396 - mse: 0.5396 - val_loss: 0.5507 - val_mse: 0.5507 - lr: 0.0047\n",
      "Epoch 63/100\n",
      "3542/3542 [==============================] - 9s 3ms/step - loss: 0.5391 - mse: 0.5391 - val_loss: 0.5510 - val_mse: 0.5510 - lr: 0.0047\n",
      "Epoch 64/100\n",
      "3536/3542 [============================>.] - ETA: 0s - loss: 0.5388 - mse: 0.5388"
     ]
    },
    {
     "name": "stderr",
     "output_type": "stream",
     "text": [
      "WARNING:absl:Found untraced functions such as leaky_re_lu_layer_call_fn, leaky_re_lu_layer_call_and_return_conditional_losses, leaky_re_lu_1_layer_call_fn, leaky_re_lu_1_layer_call_and_return_conditional_losses, leaky_re_lu_2_layer_call_fn while saving (showing 5 of 8). These functions will not be directly callable after loading.\n"
     ]
    },
    {
     "name": "stdout",
     "output_type": "stream",
     "text": [
      "INFO:tensorflow:Assets written to: C:\\Users\\ucesvpm\\OneDrive - University College London\\PhD Project\\Data Analytics\\Time Series Clustering\\Third Test\\wandb\\run-20230202_131256-8cqf6ms9\\files\\model-best\\assets\n"
     ]
    },
    {
     "name": "stderr",
     "output_type": "stream",
     "text": [
      "INFO:tensorflow:Assets written to: C:\\Users\\ucesvpm\\OneDrive - University College London\\PhD Project\\Data Analytics\\Time Series Clustering\\Third Test\\wandb\\run-20230202_131256-8cqf6ms9\\files\\model-best\\assets\n",
      "\u001b[34m\u001b[1mwandb\u001b[0m: Adding directory to artifact (C:\\Users\\ucesvpm\\OneDrive - University College London\\PhD Project\\Data Analytics\\Time Series Clustering\\Third Test\\wandb\\run-20230202_131256-8cqf6ms9\\files\\model-best)... Done. 0.0s\n"
     ]
    },
    {
     "name": "stdout",
     "output_type": "stream",
     "text": [
      "3542/3542 [==============================] - 10s 3ms/step - loss: 0.5388 - mse: 0.5388 - val_loss: 0.5503 - val_mse: 0.5503 - lr: 0.0047\n",
      "Epoch 65/100\n",
      "3536/3542 [============================>.] - ETA: 0s - loss: 0.5384 - mse: 0.5384"
     ]
    },
    {
     "name": "stderr",
     "output_type": "stream",
     "text": [
      "WARNING:absl:Found untraced functions such as leaky_re_lu_layer_call_fn, leaky_re_lu_layer_call_and_return_conditional_losses, leaky_re_lu_1_layer_call_fn, leaky_re_lu_1_layer_call_and_return_conditional_losses, leaky_re_lu_2_layer_call_fn while saving (showing 5 of 8). These functions will not be directly callable after loading.\n"
     ]
    },
    {
     "name": "stdout",
     "output_type": "stream",
     "text": [
      "INFO:tensorflow:Assets written to: C:\\Users\\ucesvpm\\OneDrive - University College London\\PhD Project\\Data Analytics\\Time Series Clustering\\Third Test\\wandb\\run-20230202_131256-8cqf6ms9\\files\\model-best\\assets\n"
     ]
    },
    {
     "name": "stderr",
     "output_type": "stream",
     "text": [
      "INFO:tensorflow:Assets written to: C:\\Users\\ucesvpm\\OneDrive - University College London\\PhD Project\\Data Analytics\\Time Series Clustering\\Third Test\\wandb\\run-20230202_131256-8cqf6ms9\\files\\model-best\\assets\n",
      "\u001b[34m\u001b[1mwandb\u001b[0m: Adding directory to artifact (C:\\Users\\ucesvpm\\OneDrive - University College London\\PhD Project\\Data Analytics\\Time Series Clustering\\Third Test\\wandb\\run-20230202_131256-8cqf6ms9\\files\\model-best)... Done. 0.0s\n"
     ]
    },
    {
     "name": "stdout",
     "output_type": "stream",
     "text": [
      "3542/3542 [==============================] - 9s 3ms/step - loss: 0.5383 - mse: 0.5383 - val_loss: 0.5502 - val_mse: 0.5502 - lr: 0.0047\n",
      "Epoch 66/100\n",
      "3520/3542 [============================>.] - ETA: 0s - loss: 0.5380 - mse: 0.5380"
     ]
    },
    {
     "name": "stderr",
     "output_type": "stream",
     "text": [
      "WARNING:absl:Found untraced functions such as leaky_re_lu_layer_call_fn, leaky_re_lu_layer_call_and_return_conditional_losses, leaky_re_lu_1_layer_call_fn, leaky_re_lu_1_layer_call_and_return_conditional_losses, leaky_re_lu_2_layer_call_fn while saving (showing 5 of 8). These functions will not be directly callable after loading.\n"
     ]
    },
    {
     "name": "stdout",
     "output_type": "stream",
     "text": [
      "INFO:tensorflow:Assets written to: C:\\Users\\ucesvpm\\OneDrive - University College London\\PhD Project\\Data Analytics\\Time Series Clustering\\Third Test\\wandb\\run-20230202_131256-8cqf6ms9\\files\\model-best\\assets\n"
     ]
    },
    {
     "name": "stderr",
     "output_type": "stream",
     "text": [
      "INFO:tensorflow:Assets written to: C:\\Users\\ucesvpm\\OneDrive - University College London\\PhD Project\\Data Analytics\\Time Series Clustering\\Third Test\\wandb\\run-20230202_131256-8cqf6ms9\\files\\model-best\\assets\n",
      "\u001b[34m\u001b[1mwandb\u001b[0m: Adding directory to artifact (C:\\Users\\ucesvpm\\OneDrive - University College London\\PhD Project\\Data Analytics\\Time Series Clustering\\Third Test\\wandb\\run-20230202_131256-8cqf6ms9\\files\\model-best)... Done. 0.0s\n"
     ]
    },
    {
     "name": "stdout",
     "output_type": "stream",
     "text": [
      "3542/3542 [==============================] - 11s 3ms/step - loss: 0.5380 - mse: 0.5380 - val_loss: 0.5498 - val_mse: 0.5498 - lr: 0.0047\n",
      "Epoch 67/100\n",
      "3529/3542 [============================>.] - ETA: 0s - loss: 0.5377 - mse: 0.5377"
     ]
    },
    {
     "name": "stderr",
     "output_type": "stream",
     "text": [
      "WARNING:absl:Found untraced functions such as leaky_re_lu_layer_call_fn, leaky_re_lu_layer_call_and_return_conditional_losses, leaky_re_lu_1_layer_call_fn, leaky_re_lu_1_layer_call_and_return_conditional_losses, leaky_re_lu_2_layer_call_fn while saving (showing 5 of 8). These functions will not be directly callable after loading.\n"
     ]
    },
    {
     "name": "stdout",
     "output_type": "stream",
     "text": [
      "INFO:tensorflow:Assets written to: C:\\Users\\ucesvpm\\OneDrive - University College London\\PhD Project\\Data Analytics\\Time Series Clustering\\Third Test\\wandb\\run-20230202_131256-8cqf6ms9\\files\\model-best\\assets\n"
     ]
    },
    {
     "name": "stderr",
     "output_type": "stream",
     "text": [
      "INFO:tensorflow:Assets written to: C:\\Users\\ucesvpm\\OneDrive - University College London\\PhD Project\\Data Analytics\\Time Series Clustering\\Third Test\\wandb\\run-20230202_131256-8cqf6ms9\\files\\model-best\\assets\n",
      "\u001b[34m\u001b[1mwandb\u001b[0m: Adding directory to artifact (C:\\Users\\ucesvpm\\OneDrive - University College London\\PhD Project\\Data Analytics\\Time Series Clustering\\Third Test\\wandb\\run-20230202_131256-8cqf6ms9\\files\\model-best)... Done. 0.0s\n"
     ]
    },
    {
     "name": "stdout",
     "output_type": "stream",
     "text": [
      "3542/3542 [==============================] - 10s 3ms/step - loss: 0.5376 - mse: 0.5376 - val_loss: 0.5484 - val_mse: 0.5484 - lr: 0.0047\n",
      "Epoch 68/100\n",
      "3542/3542 [==============================] - 9s 2ms/step - loss: 0.5373 - mse: 0.5373 - val_loss: 0.5491 - val_mse: 0.5491 - lr: 0.0047\n",
      "Epoch 69/100\n",
      "3542/3542 [==============================] - 9s 2ms/step - loss: 0.5370 - mse: 0.5370 - val_loss: 0.5489 - val_mse: 0.5489 - lr: 0.0047\n",
      "Epoch 70/100\n",
      "3542/3542 [==============================] - 8s 2ms/step - loss: 0.5366 - mse: 0.5366 - val_loss: 0.5488 - val_mse: 0.5488 - lr: 0.0047\n",
      "Epoch 71/100\n",
      "3542/3542 [==============================] - 8s 2ms/step - loss: 0.5363 - mse: 0.5363 - val_loss: 0.5486 - val_mse: 0.5486 - lr: 0.0047\n",
      "Epoch 72/100\n",
      "3542/3542 [==============================] - 8s 2ms/step - loss: 0.5360 - mse: 0.5360 - val_loss: 0.5486 - val_mse: 0.5486 - lr: 0.0047\n",
      "Epoch 73/100\n",
      "3533/3542 [============================>.] - ETA: 0s - loss: 0.5333 - mse: 0.5333"
     ]
    },
    {
     "name": "stderr",
     "output_type": "stream",
     "text": [
      "WARNING:absl:Found untraced functions such as leaky_re_lu_layer_call_fn, leaky_re_lu_layer_call_and_return_conditional_losses, leaky_re_lu_1_layer_call_fn, leaky_re_lu_1_layer_call_and_return_conditional_losses, leaky_re_lu_2_layer_call_fn while saving (showing 5 of 8). These functions will not be directly callable after loading.\n"
     ]
    },
    {
     "name": "stdout",
     "output_type": "stream",
     "text": [
      "INFO:tensorflow:Assets written to: C:\\Users\\ucesvpm\\OneDrive - University College London\\PhD Project\\Data Analytics\\Time Series Clustering\\Third Test\\wandb\\run-20230202_131256-8cqf6ms9\\files\\model-best\\assets\n"
     ]
    },
    {
     "name": "stderr",
     "output_type": "stream",
     "text": [
      "INFO:tensorflow:Assets written to: C:\\Users\\ucesvpm\\OneDrive - University College London\\PhD Project\\Data Analytics\\Time Series Clustering\\Third Test\\wandb\\run-20230202_131256-8cqf6ms9\\files\\model-best\\assets\n",
      "\u001b[34m\u001b[1mwandb\u001b[0m: Adding directory to artifact (C:\\Users\\ucesvpm\\OneDrive - University College London\\PhD Project\\Data Analytics\\Time Series Clustering\\Third Test\\wandb\\run-20230202_131256-8cqf6ms9\\files\\model-best)... Done. 0.0s\n"
     ]
    },
    {
     "name": "stdout",
     "output_type": "stream",
     "text": [
      "3542/3542 [==============================] - 9s 3ms/step - loss: 0.5333 - mse: 0.5333 - val_loss: 0.5460 - val_mse: 0.5460 - lr: 0.0024\n",
      "Epoch 74/100\n",
      "3542/3542 [==============================] - 9s 2ms/step - loss: 0.5330 - mse: 0.5330 - val_loss: 0.5463 - val_mse: 0.5463 - lr: 0.0024\n",
      "Epoch 75/100\n",
      "3542/3542 [==============================] - 8s 2ms/step - loss: 0.5328 - mse: 0.5328 - val_loss: 0.5461 - val_mse: 0.5461 - lr: 0.0024\n",
      "Epoch 76/100\n",
      "3528/3542 [============================>.] - ETA: 0s - loss: 0.5326 - mse: 0.5326"
     ]
    },
    {
     "name": "stderr",
     "output_type": "stream",
     "text": [
      "WARNING:absl:Found untraced functions such as leaky_re_lu_layer_call_fn, leaky_re_lu_layer_call_and_return_conditional_losses, leaky_re_lu_1_layer_call_fn, leaky_re_lu_1_layer_call_and_return_conditional_losses, leaky_re_lu_2_layer_call_fn while saving (showing 5 of 8). These functions will not be directly callable after loading.\n"
     ]
    },
    {
     "name": "stdout",
     "output_type": "stream",
     "text": [
      "INFO:tensorflow:Assets written to: C:\\Users\\ucesvpm\\OneDrive - University College London\\PhD Project\\Data Analytics\\Time Series Clustering\\Third Test\\wandb\\run-20230202_131256-8cqf6ms9\\files\\model-best\\assets\n"
     ]
    },
    {
     "name": "stderr",
     "output_type": "stream",
     "text": [
      "INFO:tensorflow:Assets written to: C:\\Users\\ucesvpm\\OneDrive - University College London\\PhD Project\\Data Analytics\\Time Series Clustering\\Third Test\\wandb\\run-20230202_131256-8cqf6ms9\\files\\model-best\\assets\n",
      "\u001b[34m\u001b[1mwandb\u001b[0m: Adding directory to artifact (C:\\Users\\ucesvpm\\OneDrive - University College London\\PhD Project\\Data Analytics\\Time Series Clustering\\Third Test\\wandb\\run-20230202_131256-8cqf6ms9\\files\\model-best)... Done. 0.0s\n"
     ]
    },
    {
     "name": "stdout",
     "output_type": "stream",
     "text": [
      "3542/3542 [==============================] - 10s 3ms/step - loss: 0.5326 - mse: 0.5326 - val_loss: 0.5459 - val_mse: 0.5459 - lr: 0.0024\n",
      "Epoch 77/100\n",
      "3540/3542 [============================>.] - ETA: 0s - loss: 0.5324 - mse: 0.5324"
     ]
    },
    {
     "name": "stderr",
     "output_type": "stream",
     "text": [
      "WARNING:absl:Found untraced functions such as leaky_re_lu_layer_call_fn, leaky_re_lu_layer_call_and_return_conditional_losses, leaky_re_lu_1_layer_call_fn, leaky_re_lu_1_layer_call_and_return_conditional_losses, leaky_re_lu_2_layer_call_fn while saving (showing 5 of 8). These functions will not be directly callable after loading.\n"
     ]
    },
    {
     "name": "stdout",
     "output_type": "stream",
     "text": [
      "INFO:tensorflow:Assets written to: C:\\Users\\ucesvpm\\OneDrive - University College London\\PhD Project\\Data Analytics\\Time Series Clustering\\Third Test\\wandb\\run-20230202_131256-8cqf6ms9\\files\\model-best\\assets\n"
     ]
    },
    {
     "name": "stderr",
     "output_type": "stream",
     "text": [
      "INFO:tensorflow:Assets written to: C:\\Users\\ucesvpm\\OneDrive - University College London\\PhD Project\\Data Analytics\\Time Series Clustering\\Third Test\\wandb\\run-20230202_131256-8cqf6ms9\\files\\model-best\\assets\n",
      "\u001b[34m\u001b[1mwandb\u001b[0m: Adding directory to artifact (C:\\Users\\ucesvpm\\OneDrive - University College London\\PhD Project\\Data Analytics\\Time Series Clustering\\Third Test\\wandb\\run-20230202_131256-8cqf6ms9\\files\\model-best)... Done. 0.0s\n"
     ]
    },
    {
     "name": "stdout",
     "output_type": "stream",
     "text": [
      "3542/3542 [==============================] - 11s 3ms/step - loss: 0.5324 - mse: 0.5324 - val_loss: 0.5459 - val_mse: 0.5459 - lr: 0.0024\n",
      "Epoch 78/100\n",
      "3539/3542 [============================>.] - ETA: 0s - loss: 0.5322 - mse: 0.5322"
     ]
    },
    {
     "name": "stderr",
     "output_type": "stream",
     "text": [
      "WARNING:absl:Found untraced functions such as leaky_re_lu_layer_call_fn, leaky_re_lu_layer_call_and_return_conditional_losses, leaky_re_lu_1_layer_call_fn, leaky_re_lu_1_layer_call_and_return_conditional_losses, leaky_re_lu_2_layer_call_fn while saving (showing 5 of 8). These functions will not be directly callable after loading.\n"
     ]
    },
    {
     "name": "stdout",
     "output_type": "stream",
     "text": [
      "INFO:tensorflow:Assets written to: C:\\Users\\ucesvpm\\OneDrive - University College London\\PhD Project\\Data Analytics\\Time Series Clustering\\Third Test\\wandb\\run-20230202_131256-8cqf6ms9\\files\\model-best\\assets\n"
     ]
    },
    {
     "name": "stderr",
     "output_type": "stream",
     "text": [
      "INFO:tensorflow:Assets written to: C:\\Users\\ucesvpm\\OneDrive - University College London\\PhD Project\\Data Analytics\\Time Series Clustering\\Third Test\\wandb\\run-20230202_131256-8cqf6ms9\\files\\model-best\\assets\n",
      "\u001b[34m\u001b[1mwandb\u001b[0m: Adding directory to artifact (C:\\Users\\ucesvpm\\OneDrive - University College London\\PhD Project\\Data Analytics\\Time Series Clustering\\Third Test\\wandb\\run-20230202_131256-8cqf6ms9\\files\\model-best)... Done. 0.0s\n"
     ]
    },
    {
     "name": "stdout",
     "output_type": "stream",
     "text": [
      "3542/3542 [==============================] - 10s 3ms/step - loss: 0.5323 - mse: 0.5323 - val_loss: 0.5456 - val_mse: 0.5456 - lr: 0.0024\n",
      "Epoch 79/100\n",
      "3542/3542 [==============================] - 8s 2ms/step - loss: 0.5321 - mse: 0.5321 - val_loss: 0.5458 - val_mse: 0.5458 - lr: 0.0024\n",
      "Epoch 80/100\n",
      "3542/3542 [==============================] - 9s 2ms/step - loss: 0.5319 - mse: 0.5319 - val_loss: 0.5457 - val_mse: 0.5457 - lr: 0.0024\n"
     ]
    },
    {
     "name": "stderr",
     "output_type": "stream",
     "text": [
      "WARNING:absl:Found untraced functions such as leaky_re_lu_layer_call_fn, leaky_re_lu_layer_call_and_return_conditional_losses, leaky_re_lu_1_layer_call_fn, leaky_re_lu_1_layer_call_and_return_conditional_losses, leaky_re_lu_2_layer_call_fn while saving (showing 5 of 8). These functions will not be directly callable after loading.\n"
     ]
    },
    {
     "name": "stdout",
     "output_type": "stream",
     "text": [
      "INFO:tensorflow:Assets written to: C:\\Users\\ucesvpm\\OneDrive - University College London\\PhD Project\\Data Analytics\\Time Series Clustering\\Third Test\\wandb\\run-20230202_133143-73njp8t9\\files\\model-best\\assets\n"
     ]
    },
    {
     "name": "stderr",
     "output_type": "stream",
     "text": [
      "INFO:tensorflow:Assets written to: C:\\Users\\ucesvpm\\OneDrive - University College London\\PhD Project\\Data Analytics\\Time Series Clustering\\Third Test\\wandb\\run-20230202_133143-73njp8t9\\files\\model-best\\assets\n",
      "\u001b[34m\u001b[1mwandb\u001b[0m: Adding directory to artifact (C:\\Users\\ucesvpm\\OneDrive - University College London\\PhD Project\\Data Analytics\\Time Series Clustering\\Third Test\\wandb\\run-20230202_133143-73njp8t9\\files\\model-best)... Done. 0.0s\n"
     ]
    },
    {
     "name": "stdout",
     "output_type": "stream",
     "text": [
      "35419/35419 [==============================] - 86s 2ms/step - loss: 0.5821 - mse: 0.5821 - val_loss: 0.5834 - val_mse: 0.5834 - lr: 0.0015\n",
      "Epoch 4/100\n",
      "12770/35419 [=========>....................] - ETA: 47s - loss: 0.5817 - mse: 0.5817"
     ]
    },
    {
     "name": "stderr",
     "output_type": "stream",
     "text": [
      "WARNING:absl:Found untraced functions such as leaky_re_lu_layer_call_fn, leaky_re_lu_layer_call_and_return_conditional_losses, leaky_re_lu_1_layer_call_fn, leaky_re_lu_1_layer_call_and_return_conditional_losses, leaky_re_lu_2_layer_call_fn while saving (showing 5 of 8). These functions will not be directly callable after loading.\n"
     ]
    },
    {
     "name": "stdout",
     "output_type": "stream",
     "text": [
      "INFO:tensorflow:Assets written to: C:\\Users\\ucesvpm\\OneDrive - University College London\\PhD Project\\Data Analytics\\Time Series Clustering\\Third Test\\wandb\\run-20230202_133143-73njp8t9\\files\\model-best\\assets\n"
     ]
    },
    {
     "name": "stderr",
     "output_type": "stream",
     "text": [
      "INFO:tensorflow:Assets written to: C:\\Users\\ucesvpm\\OneDrive - University College London\\PhD Project\\Data Analytics\\Time Series Clustering\\Third Test\\wandb\\run-20230202_133143-73njp8t9\\files\\model-best\\assets\n",
      "\u001b[34m\u001b[1mwandb\u001b[0m: Adding directory to artifact (C:\\Users\\ucesvpm\\OneDrive - University College London\\PhD Project\\Data Analytics\\Time Series Clustering\\Third Test\\wandb\\run-20230202_133143-73njp8t9\\files\\model-best)... Done. 0.0s\n"
     ]
    },
    {
     "name": "stdout",
     "output_type": "stream",
     "text": [
      "35419/35419 [==============================] - 84s 2ms/step - loss: 0.5775 - mse: 0.5775 - val_loss: 0.5805 - val_mse: 0.5805 - lr: 0.0015\n",
      "Epoch 7/100\n",
      " 9182/35419 [======>.......................] - ETA: 57s - loss: 0.5749 - mse: 0.5749"
     ]
    },
    {
     "name": "stderr",
     "output_type": "stream",
     "text": [
      "\u001b[34m\u001b[1mwandb\u001b[0m: Adding directory to artifact (C:\\Users\\ucesvpm\\OneDrive - University College London\\PhD Project\\Data Analytics\\Time Series Clustering\\Third Test\\wandb\\run-20230202_133143-73njp8t9\\files\\model-best)... Done. 0.0s\n"
     ]
    },
    {
     "name": "stdout",
     "output_type": "stream",
     "text": [
      "35419/35419 [==============================] - 84s 2ms/step - loss: 0.5756 - mse: 0.5756 - val_loss: 0.5777 - val_mse: 0.5777 - lr: 0.0015\n",
      "Epoch 9/100\n",
      "35419/35419 [==============================] - 81s 2ms/step - loss: 0.5743 - mse: 0.5743 - val_loss: 0.5813 - val_mse: 0.5813 - lr: 0.0015\n",
      "Epoch 12/100\n",
      "22451/35419 [==================>...........] - ETA: 26s - loss: 0.5733 - mse: 0.5733"
     ]
    },
    {
     "name": "stderr",
     "output_type": "stream",
     "text": [
      "\u001b[34m\u001b[1mwandb\u001b[0m: Adding directory to artifact (C:\\Users\\ucesvpm\\OneDrive - University College London\\PhD Project\\Data Analytics\\Time Series Clustering\\Third Test\\wandb\\run-20230202_133143-73njp8t9\\files\\model-best)... Done. 0.0s\n"
     ]
    },
    {
     "name": "stdout",
     "output_type": "stream",
     "text": [
      "35419/35419 [==============================] - 85s 2ms/step - loss: 0.5568 - mse: 0.5568 - val_loss: 0.5604 - val_mse: 0.5604 - lr: 7.5214e-04\n",
      "Epoch 18/100\n",
      "35419/35419 [==============================] - 82s 2ms/step - loss: 0.5556 - mse: 0.5556 - val_loss: 0.5609 - val_mse: 0.5609 - lr: 7.5214e-04\n",
      "Epoch 20/100\n",
      "35404/35419 [============================>.] - ETA: 0s - loss: 0.5544 - mse: 0.5544"
     ]
    },
    {
     "name": "stderr",
     "output_type": "stream",
     "text": [
      "WARNING:absl:Found untraced functions such as leaky_re_lu_layer_call_fn, leaky_re_lu_layer_call_and_return_conditional_losses, leaky_re_lu_1_layer_call_fn, leaky_re_lu_1_layer_call_and_return_conditional_losses, leaky_re_lu_2_layer_call_fn while saving (showing 5 of 8). These functions will not be directly callable after loading.\n"
     ]
    },
    {
     "name": "stdout",
     "output_type": "stream",
     "text": [
      "INFO:tensorflow:Assets written to: C:\\Users\\ucesvpm\\OneDrive - University College London\\PhD Project\\Data Analytics\\Time Series Clustering\\Third Test\\wandb\\run-20230202_133143-73njp8t9\\files\\model-best\\assets\n"
     ]
    },
    {
     "name": "stderr",
     "output_type": "stream",
     "text": [
      "INFO:tensorflow:Assets written to: C:\\Users\\ucesvpm\\OneDrive - University College London\\PhD Project\\Data Analytics\\Time Series Clustering\\Third Test\\wandb\\run-20230202_133143-73njp8t9\\files\\model-best\\assets\n",
      "\u001b[34m\u001b[1mwandb\u001b[0m: Adding directory to artifact (C:\\Users\\ucesvpm\\OneDrive - University College London\\PhD Project\\Data Analytics\\Time Series Clustering\\Third Test\\wandb\\run-20230202_133143-73njp8t9\\files\\model-best)... Done. 0.0s\n"
     ]
    },
    {
     "name": "stdout",
     "output_type": "stream",
     "text": [
      "35419/35419 [==============================] - 84s 2ms/step - loss: 0.5544 - mse: 0.5544 - val_loss: 0.5597 - val_mse: 0.5597 - lr: 7.5214e-04\n",
      "Epoch 23/100\n",
      "35419/35419 [==============================] - 82s 2ms/step - loss: 0.5525 - mse: 0.5525 - val_loss: 0.5577 - val_mse: 0.5577 - lr: 7.5214e-04\n",
      "Epoch 29/100\n",
      "35419/35419 [==============================] - 83s 2ms/step - loss: 0.5400 - mse: 0.5400 - val_loss: 0.5485 - val_mse: 0.5485 - lr: 3.7607e-04\n",
      "Epoch 36/100\n",
      "35412/35419 [============================>.] - ETA: 0s - loss: 0.5383 - mse: 0.5383"
     ]
    },
    {
     "name": "stderr",
     "output_type": "stream",
     "text": [
      "WARNING:absl:Found untraced functions such as leaky_re_lu_layer_call_fn, leaky_re_lu_layer_call_and_return_conditional_losses, leaky_re_lu_1_layer_call_fn, leaky_re_lu_1_layer_call_and_return_conditional_losses, leaky_re_lu_2_layer_call_fn while saving (showing 5 of 8). These functions will not be directly callable after loading.\n"
     ]
    },
    {
     "name": "stdout",
     "output_type": "stream",
     "text": [
      "INFO:tensorflow:Assets written to: C:\\Users\\ucesvpm\\OneDrive - University College London\\PhD Project\\Data Analytics\\Time Series Clustering\\Third Test\\wandb\\run-20230202_133143-73njp8t9\\files\\model-best\\assets\n"
     ]
    },
    {
     "name": "stderr",
     "output_type": "stream",
     "text": [
      "INFO:tensorflow:Assets written to: C:\\Users\\ucesvpm\\OneDrive - University College London\\PhD Project\\Data Analytics\\Time Series Clustering\\Third Test\\wandb\\run-20230202_133143-73njp8t9\\files\\model-best\\assets\n",
      "\u001b[34m\u001b[1mwandb\u001b[0m: Adding directory to artifact (C:\\Users\\ucesvpm\\OneDrive - University College London\\PhD Project\\Data Analytics\\Time Series Clustering\\Third Test\\wandb\\run-20230202_133143-73njp8t9\\files\\model-best)... Done. 0.0s\n"
     ]
    },
    {
     "name": "stdout",
     "output_type": "stream",
     "text": [
      "35419/35419 [==============================] - 82s 2ms/step - loss: 0.5383 - mse: 0.5383 - val_loss: 0.5470 - val_mse: 0.5470 - lr: 3.7607e-04\n",
      "Epoch 39/100\n",
      "35400/35419 [============================>.] - ETA: 0s - loss: 0.5369 - mse: 0.5369"
     ]
    },
    {
     "name": "stderr",
     "output_type": "stream",
     "text": [
      "WARNING:absl:Found untraced functions such as leaky_re_lu_layer_call_fn, leaky_re_lu_layer_call_and_return_conditional_losses, leaky_re_lu_1_layer_call_fn, leaky_re_lu_1_layer_call_and_return_conditional_losses, leaky_re_lu_2_layer_call_fn while saving (showing 5 of 8). These functions will not be directly callable after loading.\n"
     ]
    },
    {
     "name": "stdout",
     "output_type": "stream",
     "text": [
      "INFO:tensorflow:Assets written to: C:\\Users\\ucesvpm\\OneDrive - University College London\\PhD Project\\Data Analytics\\Time Series Clustering\\Third Test\\wandb\\run-20230202_133143-73njp8t9\\files\\model-best\\assets\n"
     ]
    },
    {
     "name": "stderr",
     "output_type": "stream",
     "text": [
      "INFO:tensorflow:Assets written to: C:\\Users\\ucesvpm\\OneDrive - University College London\\PhD Project\\Data Analytics\\Time Series Clustering\\Third Test\\wandb\\run-20230202_133143-73njp8t9\\files\\model-best\\assets\n",
      "\u001b[34m\u001b[1mwandb\u001b[0m: Adding directory to artifact (C:\\Users\\ucesvpm\\OneDrive - University College London\\PhD Project\\Data Analytics\\Time Series Clustering\\Third Test\\wandb\\run-20230202_133143-73njp8t9\\files\\model-best)... Done. 0.0s\n"
     ]
    },
    {
     "name": "stdout",
     "output_type": "stream",
     "text": [
      "35419/35419 [==============================] - 98s 3ms/step - loss: 0.5368 - mse: 0.5368 - val_loss: 0.5456 - val_mse: 0.5456 - lr: 3.7607e-04\n",
      "Epoch 42/100\n",
      "31887/35419 [==========================>...] - ETA: 7s - loss: 0.5365 - mse: 0.5365"
     ]
    },
    {
     "name": "stderr",
     "output_type": "stream",
     "text": [
      "IOPub message rate exceeded.\n",
      "The Jupyter server will temporarily stop sending output\n",
      "to the client in order to avoid crashing it.\n",
      "To change this limit, set the config variable\n",
      "`--ServerApp.iopub_msg_rate_limit`.\n",
      "\n",
      "Current values:\n",
      "ServerApp.iopub_msg_rate_limit=1000.0 (msgs/sec)\n",
      "ServerApp.rate_limit_window=3.0 (secs)\n",
      "\n"
     ]
    },
    {
     "name": "stdout",
     "output_type": "stream",
     "text": [
      "35408/35419 [============================>.] - ETA: 0s - loss: 0.5360 - mse: 0.5360"
     ]
    },
    {
     "name": "stderr",
     "output_type": "stream",
     "text": [
      "WARNING:absl:Found untraced functions such as leaky_re_lu_layer_call_fn, leaky_re_lu_layer_call_and_return_conditional_losses, leaky_re_lu_1_layer_call_fn, leaky_re_lu_1_layer_call_and_return_conditional_losses, leaky_re_lu_2_layer_call_fn while saving (showing 5 of 8). These functions will not be directly callable after loading.\n"
     ]
    },
    {
     "name": "stdout",
     "output_type": "stream",
     "text": [
      "INFO:tensorflow:Assets written to: C:\\Users\\ucesvpm\\OneDrive - University College London\\PhD Project\\Data Analytics\\Time Series Clustering\\Third Test\\wandb\\run-20230202_133143-73njp8t9\\files\\model-best\\assets\n"
     ]
    },
    {
     "name": "stderr",
     "output_type": "stream",
     "text": [
      "INFO:tensorflow:Assets written to: C:\\Users\\ucesvpm\\OneDrive - University College London\\PhD Project\\Data Analytics\\Time Series Clustering\\Third Test\\wandb\\run-20230202_133143-73njp8t9\\files\\model-best\\assets\n",
      "\u001b[34m\u001b[1mwandb\u001b[0m: Adding directory to artifact (C:\\Users\\ucesvpm\\OneDrive - University College London\\PhD Project\\Data Analytics\\Time Series Clustering\\Third Test\\wandb\\run-20230202_133143-73njp8t9\\files\\model-best)... Done. 0.0s\n"
     ]
    },
    {
     "name": "stdout",
     "output_type": "stream",
     "text": [
      "35419/35419 [==============================] - 106s 3ms/step - loss: 0.5360 - mse: 0.5360 - val_loss: 0.5452 - val_mse: 0.5452 - lr: 3.7607e-04\n",
      "Epoch 44/100\n",
      "35419/35419 [==============================] - 106s 3ms/step - loss: 0.5348 - mse: 0.5348 - val_loss: 0.5441 - val_mse: 0.5441 - lr: 3.7607e-04\n",
      "Epoch 48/100\n",
      "35412/35419 [============================>.] - ETA: 0s - loss: 0.5277 - mse: 0.5277"
     ]
    },
    {
     "name": "stderr",
     "output_type": "stream",
     "text": [
      "WARNING:absl:Found untraced functions such as leaky_re_lu_layer_call_fn, leaky_re_lu_layer_call_and_return_conditional_losses, leaky_re_lu_1_layer_call_fn, leaky_re_lu_1_layer_call_and_return_conditional_losses, leaky_re_lu_2_layer_call_fn while saving (showing 5 of 8). These functions will not be directly callable after loading.\n"
     ]
    },
    {
     "name": "stdout",
     "output_type": "stream",
     "text": [
      "INFO:tensorflow:Assets written to: C:\\Users\\ucesvpm\\OneDrive - University College London\\PhD Project\\Data Analytics\\Time Series Clustering\\Third Test\\wandb\\run-20230202_133143-73njp8t9\\files\\model-best\\assets\n"
     ]
    },
    {
     "name": "stderr",
     "output_type": "stream",
     "text": [
      "INFO:tensorflow:Assets written to: C:\\Users\\ucesvpm\\OneDrive - University College London\\PhD Project\\Data Analytics\\Time Series Clustering\\Third Test\\wandb\\run-20230202_133143-73njp8t9\\files\\model-best\\assets\n",
      "\u001b[34m\u001b[1mwandb\u001b[0m: Adding directory to artifact (C:\\Users\\ucesvpm\\OneDrive - University College London\\PhD Project\\Data Analytics\\Time Series Clustering\\Third Test\\wandb\\run-20230202_133143-73njp8t9\\files\\model-best)... Done. 0.0s\n"
     ]
    },
    {
     "name": "stdout",
     "output_type": "stream",
     "text": [
      "35419/35419 [==============================] - 112s 3ms/step - loss: 0.5277 - mse: 0.5277 - val_loss: 0.5385 - val_mse: 0.5385 - lr: 1.8803e-04\n",
      "Epoch 51/100\n",
      "35402/35419 [============================>.] - ETA: 0s - loss: 0.5268 - mse: 0.5268"
     ]
    },
    {
     "name": "stderr",
     "output_type": "stream",
     "text": [
      "WARNING:absl:Found untraced functions such as leaky_re_lu_layer_call_fn, leaky_re_lu_layer_call_and_return_conditional_losses, leaky_re_lu_1_layer_call_fn, leaky_re_lu_1_layer_call_and_return_conditional_losses, leaky_re_lu_2_layer_call_fn while saving (showing 5 of 8). These functions will not be directly callable after loading.\n"
     ]
    },
    {
     "name": "stdout",
     "output_type": "stream",
     "text": [
      "INFO:tensorflow:Assets written to: C:\\Users\\ucesvpm\\OneDrive - University College London\\PhD Project\\Data Analytics\\Time Series Clustering\\Third Test\\wandb\\run-20230202_133143-73njp8t9\\files\\model-best\\assets\n"
     ]
    },
    {
     "name": "stderr",
     "output_type": "stream",
     "text": [
      "INFO:tensorflow:Assets written to: C:\\Users\\ucesvpm\\OneDrive - University College London\\PhD Project\\Data Analytics\\Time Series Clustering\\Third Test\\wandb\\run-20230202_133143-73njp8t9\\files\\model-best\\assets\n",
      "\u001b[34m\u001b[1mwandb\u001b[0m: Adding directory to artifact (C:\\Users\\ucesvpm\\OneDrive - University College London\\PhD Project\\Data Analytics\\Time Series Clustering\\Third Test\\wandb\\run-20230202_133143-73njp8t9\\files\\model-best)... Done. 0.0s\n"
     ]
    },
    {
     "name": "stdout",
     "output_type": "stream",
     "text": [
      "35419/35419 [==============================] - 99s 3ms/step - loss: 0.5268 - mse: 0.5268 - val_loss: 0.5377 - val_mse: 0.5377 - lr: 1.8803e-04\n",
      "Epoch 52/100\n",
      "10879/35419 [========>.....................] - ETA: 1:00 - loss: 0.5266 - mse: 0.5266"
     ]
    },
    {
     "name": "stderr",
     "output_type": "stream",
     "text": [
      "WARNING:absl:Found untraced functions such as leaky_re_lu_layer_call_fn, leaky_re_lu_layer_call_and_return_conditional_losses, leaky_re_lu_1_layer_call_fn, leaky_re_lu_1_layer_call_and_return_conditional_losses, leaky_re_lu_2_layer_call_fn while saving (showing 5 of 8). These functions will not be directly callable after loading.\n"
     ]
    },
    {
     "name": "stdout",
     "output_type": "stream",
     "text": [
      "INFO:tensorflow:Assets written to: C:\\Users\\ucesvpm\\OneDrive - University College London\\PhD Project\\Data Analytics\\Time Series Clustering\\Third Test\\wandb\\run-20230202_133143-73njp8t9\\files\\model-best\\assets\n"
     ]
    },
    {
     "name": "stderr",
     "output_type": "stream",
     "text": [
      "INFO:tensorflow:Assets written to: C:\\Users\\ucesvpm\\OneDrive - University College London\\PhD Project\\Data Analytics\\Time Series Clustering\\Third Test\\wandb\\run-20230202_133143-73njp8t9\\files\\model-best\\assets\n",
      "\u001b[34m\u001b[1mwandb\u001b[0m: Adding directory to artifact (C:\\Users\\ucesvpm\\OneDrive - University College London\\PhD Project\\Data Analytics\\Time Series Clustering\\Third Test\\wandb\\run-20230202_133143-73njp8t9\\files\\model-best)... Done. 0.0s\n"
     ]
    },
    {
     "name": "stdout",
     "output_type": "stream",
     "text": [
      "35419/35419 [==============================] - 93s 3ms/step - loss: 0.5250 - mse: 0.5250 - val_loss: 0.5373 - val_mse: 0.5373 - lr: 1.8803e-04\n",
      "Epoch 56/100\n",
      "33251/35419 [===========================>..] - ETA: 5s - loss: 0.5244 - mse: 0.5244"
     ]
    }
   ],
   "source": [
    "wandb.agent(sweep_id, function=sweep_train, count= sweep_count)"
   ]
  },
  {
   "cell_type": "code",
   "execution_count": null,
   "id": "432abfaa-0e16-401c-8c4b-26bed42d3854",
   "metadata": {
    "tags": []
   },
   "outputs": [],
   "source": [
    "wandb.finish()"
   ]
  },
  {
   "cell_type": "markdown",
   "id": "19ddc5f5-c6f0-4d3d-aecf-c2e4694bad51",
   "metadata": {},
   "source": [
    "---\n",
    "# Debugging"
   ]
  },
  {
   "cell_type": "code",
   "execution_count": null,
   "id": "0e9e9638-c54d-4a4b-9d1d-ceec3bdb41cb",
   "metadata": {},
   "outputs": [],
   "source": []
  }
 ],
 "metadata": {
  "kernelspec": {
   "display_name": "Python 3 (ipykernel)",
   "language": "python",
   "name": "python3"
  },
  "language_info": {
   "codemirror_mode": {
    "name": "ipython",
    "version": 3
   },
   "file_extension": ".py",
   "mimetype": "text/x-python",
   "name": "python",
   "nbconvert_exporter": "python",
   "pygments_lexer": "ipython3",
   "version": "3.9.15"
  }
 },
 "nbformat": 4,
 "nbformat_minor": 5
}
