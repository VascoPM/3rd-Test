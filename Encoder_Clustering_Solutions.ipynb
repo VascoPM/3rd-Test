{
 "cells": [
  {
   "cell_type": "markdown",
   "id": "24a40a92-afe1-4cc1-9412-9a18fdac6c1d",
   "metadata": {},
   "source": [
    "# Clustering Solution Generator\n",
    "### $Time$ $Series$ $3rd$ $Test$\n",
    "\n",
    "$Vasco$ $Mergulhão$ $-$ $Jan$ $2023$\n",
    "\n",
    "### Version 1:\n",
    "This script loads a model and outputs a CSV ready to put analysed on the Dashboard"
   ]
  },
  {
   "cell_type": "markdown",
   "id": "c7b8189e-2cd5-4872-9a54-99333d4a24b6",
   "metadata": {},
   "source": [
    "---\n",
    "# Editing Note:\n",
    "---\n",
    "set up code so that all macro variables are defined in the first cell:<br>\n",
    "- dataset\n",
    "- zscore yes/no\n",
    "- model name\n",
    "- etc\n",
    "\n",
    "Store results from different Sub-Samples in seperate folders!"
   ]
  },
  {
   "cell_type": "code",
   "execution_count": 1,
   "id": "5f75a73b-02c6-4cc7-86e5-b97cebb2ea0c",
   "metadata": {},
   "outputs": [
    {
     "name": "stderr",
     "output_type": "stream",
     "text": [
      "C:\\Users\\ucesvpm\\Anaconda3\\envs\\TensorFlow_PhD\\lib\\site-packages\\tqdm\\auto.py:22: TqdmWarning: IProgress not found. Please update jupyter and ipywidgets. See https://ipywidgets.readthedocs.io/en/stable/user_install.html\n",
      "  from .autonotebook import tqdm as notebook_tqdm\n"
     ]
    }
   ],
   "source": [
    "import os  \n",
    "\n",
    "import pandas as pd\n",
    "import numpy as np\n",
    "import matplotlib.pyplot as plt\n",
    "from itertools import groupby\n",
    "from datetime import timedelta, date\n",
    "import plotly.graph_objects as go\n",
    "import scipy\n",
    "import math\n",
    "from sklearn.cluster import KMeans\n",
    "\n",
    "import random\n",
    "\n",
    "import time\n",
    "import datetime\n",
    "\n",
    "import umap # UMAP library is responsible for ipywidgets warning!\n",
    "\n",
    "import tensorflow as tf\n",
    "from tensorflow import keras\n",
    "\n",
    "import wandb\n",
    "from wandb.keras import WandbCallback"
   ]
  },
  {
   "cell_type": "code",
   "execution_count": 2,
   "id": "e1ddf4cb-7e90-4bf3-95dc-08d2ed0710c5",
   "metadata": {},
   "outputs": [],
   "source": [
    "# Set Random Seeds\n",
    "os.environ['TF_CUDNN_DETERMINISTIC'] = '1'\n",
    "random.seed(42)\n",
    "np.random.seed(42)\n",
    "tf.random.set_seed(42)"
   ]
  },
  {
   "cell_type": "markdown",
   "id": "c28a8743-cb8c-48a5-ac07-e8c3b5e1bb9c",
   "metadata": {},
   "source": [
    "---\n",
    "---\n",
    "## Loading a Zscoring Data"
   ]
  },
  {
   "cell_type": "code",
   "execution_count": 3,
   "id": "1caf9652-efb9-4ad4-b6bf-2ca53d932d74",
   "metadata": {},
   "outputs": [],
   "source": [
    "df_90 = pd.read_csv('Data/W90_Test2_V1.csv', index_col = [0,1])"
   ]
  },
  {
   "cell_type": "code",
   "execution_count": 4,
   "id": "5aaf8c2e-ef1d-4f11-9959-7e9486d543e6",
   "metadata": {},
   "outputs": [],
   "source": [
    "window_cols = []\n",
    "window_len = df_90.columns.shape[0]-1\n",
    "for w in range(window_len):\n",
    "    window_cols.append(f'd{w+1}')   "
   ]
  },
  {
   "cell_type": "code",
   "execution_count": 5,
   "id": "7e299f5e-a7ba-410c-9f55-33a31584bdbc",
   "metadata": {},
   "outputs": [],
   "source": [
    "data = df_90[window_cols].to_numpy()"
   ]
  },
  {
   "cell_type": "code",
   "execution_count": 6,
   "id": "b5471250-3762-4fd4-999a-4dd03ebfe759",
   "metadata": {},
   "outputs": [
    {
     "data": {
      "text/plain": [
       "(12517, 90)"
      ]
     },
     "execution_count": 6,
     "metadata": {},
     "output_type": "execute_result"
    }
   ],
   "source": [
    "data.shape"
   ]
  },
  {
   "cell_type": "code",
   "execution_count": 7,
   "id": "4b204659-1108-4831-894a-22307755eace",
   "metadata": {},
   "outputs": [
    {
     "data": {
      "text/html": [
       "<div>\n",
       "<style scoped>\n",
       "    .dataframe tbody tr th:only-of-type {\n",
       "        vertical-align: middle;\n",
       "    }\n",
       "\n",
       "    .dataframe tbody tr th {\n",
       "        vertical-align: top;\n",
       "    }\n",
       "\n",
       "    .dataframe thead th {\n",
       "        text-align: right;\n",
       "    }\n",
       "</style>\n",
       "<table border=\"1\" class=\"dataframe\">\n",
       "  <thead>\n",
       "    <tr style=\"text-align: right;\">\n",
       "      <th></th>\n",
       "      <th></th>\n",
       "      <th>window_start_date</th>\n",
       "      <th>d1</th>\n",
       "      <th>d2</th>\n",
       "      <th>d3</th>\n",
       "      <th>d4</th>\n",
       "      <th>d5</th>\n",
       "      <th>d6</th>\n",
       "      <th>d7</th>\n",
       "      <th>d8</th>\n",
       "      <th>d9</th>\n",
       "      <th>...</th>\n",
       "      <th>d81</th>\n",
       "      <th>d82</th>\n",
       "      <th>d83</th>\n",
       "      <th>d84</th>\n",
       "      <th>d85</th>\n",
       "      <th>d86</th>\n",
       "      <th>d87</th>\n",
       "      <th>d88</th>\n",
       "      <th>d89</th>\n",
       "      <th>d90</th>\n",
       "    </tr>\n",
       "  </thead>\n",
       "  <tbody>\n",
       "    <tr>\n",
       "      <th rowspan=\"5\" valign=\"top\">799</th>\n",
       "      <th>0</th>\n",
       "      <td>2018-12-22</td>\n",
       "      <td>28.559722</td>\n",
       "      <td>27.559722</td>\n",
       "      <td>26.559722</td>\n",
       "      <td>25.559722</td>\n",
       "      <td>24.559722</td>\n",
       "      <td>23.559722</td>\n",
       "      <td>22.559722</td>\n",
       "      <td>21.559722</td>\n",
       "      <td>20.559722</td>\n",
       "      <td>...</td>\n",
       "      <td>1.559722</td>\n",
       "      <td>0.559722</td>\n",
       "      <td>14.559722</td>\n",
       "      <td>13.559722</td>\n",
       "      <td>12.559722</td>\n",
       "      <td>11.559722</td>\n",
       "      <td>10.559722</td>\n",
       "      <td>9.559722</td>\n",
       "      <td>8.559722</td>\n",
       "      <td>7.559722</td>\n",
       "    </tr>\n",
       "    <tr>\n",
       "      <th>1</th>\n",
       "      <td>2019-03-22</td>\n",
       "      <td>6.559722</td>\n",
       "      <td>5.559722</td>\n",
       "      <td>4.559722</td>\n",
       "      <td>3.559722</td>\n",
       "      <td>2.559722</td>\n",
       "      <td>1.559722</td>\n",
       "      <td>25.559722</td>\n",
       "      <td>24.559722</td>\n",
       "      <td>23.559722</td>\n",
       "      <td>...</td>\n",
       "      <td>9.651620</td>\n",
       "      <td>8.651620</td>\n",
       "      <td>7.651620</td>\n",
       "      <td>6.651620</td>\n",
       "      <td>5.528588</td>\n",
       "      <td>4.651620</td>\n",
       "      <td>3.651620</td>\n",
       "      <td>2.651620</td>\n",
       "      <td>1.651620</td>\n",
       "      <td>0.651620</td>\n",
       "    </tr>\n",
       "    <tr>\n",
       "      <th>2</th>\n",
       "      <td>2019-06-20</td>\n",
       "      <td>-7.000000</td>\n",
       "      <td>-7.000000</td>\n",
       "      <td>-7.000000</td>\n",
       "      <td>29.691308</td>\n",
       "      <td>28.691308</td>\n",
       "      <td>27.691308</td>\n",
       "      <td>26.691308</td>\n",
       "      <td>25.691308</td>\n",
       "      <td>24.691308</td>\n",
       "      <td>...</td>\n",
       "      <td>2.691308</td>\n",
       "      <td>1.691308</td>\n",
       "      <td>0.691308</td>\n",
       "      <td>11.691308</td>\n",
       "      <td>10.691308</td>\n",
       "      <td>9.691308</td>\n",
       "      <td>8.691308</td>\n",
       "      <td>7.691308</td>\n",
       "      <td>6.691308</td>\n",
       "      <td>5.691308</td>\n",
       "    </tr>\n",
       "    <tr>\n",
       "      <th>3</th>\n",
       "      <td>2019-09-18</td>\n",
       "      <td>4.691308</td>\n",
       "      <td>3.691308</td>\n",
       "      <td>2.691308</td>\n",
       "      <td>8.691308</td>\n",
       "      <td>7.691308</td>\n",
       "      <td>6.691308</td>\n",
       "      <td>5.691308</td>\n",
       "      <td>4.691308</td>\n",
       "      <td>3.691308</td>\n",
       "      <td>...</td>\n",
       "      <td>2.328368</td>\n",
       "      <td>1.328368</td>\n",
       "      <td>0.328368</td>\n",
       "      <td>7.661632</td>\n",
       "      <td>6.661632</td>\n",
       "      <td>5.661632</td>\n",
       "      <td>4.661632</td>\n",
       "      <td>3.661632</td>\n",
       "      <td>2.661632</td>\n",
       "      <td>1.661632</td>\n",
       "    </tr>\n",
       "    <tr>\n",
       "      <th>4</th>\n",
       "      <td>2019-12-17</td>\n",
       "      <td>0.661632</td>\n",
       "      <td>-7.000000</td>\n",
       "      <td>12.605613</td>\n",
       "      <td>11.605613</td>\n",
       "      <td>10.605613</td>\n",
       "      <td>9.605613</td>\n",
       "      <td>8.605613</td>\n",
       "      <td>7.605613</td>\n",
       "      <td>6.605613</td>\n",
       "      <td>...</td>\n",
       "      <td>8.760648</td>\n",
       "      <td>7.760648</td>\n",
       "      <td>6.760648</td>\n",
       "      <td>5.760648</td>\n",
       "      <td>4.760648</td>\n",
       "      <td>3.760648</td>\n",
       "      <td>2.760648</td>\n",
       "      <td>1.760648</td>\n",
       "      <td>0.760648</td>\n",
       "      <td>-7.000000</td>\n",
       "    </tr>\n",
       "  </tbody>\n",
       "</table>\n",
       "<p>5 rows × 91 columns</p>\n",
       "</div>"
      ],
      "text/plain": [
       "      window_start_date         d1         d2         d3         d4  \\\n",
       "799 0        2018-12-22  28.559722  27.559722  26.559722  25.559722   \n",
       "    1        2019-03-22   6.559722   5.559722   4.559722   3.559722   \n",
       "    2        2019-06-20  -7.000000  -7.000000  -7.000000  29.691308   \n",
       "    3        2019-09-18   4.691308   3.691308   2.691308   8.691308   \n",
       "    4        2019-12-17   0.661632  -7.000000  12.605613  11.605613   \n",
       "\n",
       "              d5         d6         d7         d8         d9  ...       d81  \\\n",
       "799 0  24.559722  23.559722  22.559722  21.559722  20.559722  ...  1.559722   \n",
       "    1   2.559722   1.559722  25.559722  24.559722  23.559722  ...  9.651620   \n",
       "    2  28.691308  27.691308  26.691308  25.691308  24.691308  ...  2.691308   \n",
       "    3   7.691308   6.691308   5.691308   4.691308   3.691308  ...  2.328368   \n",
       "    4  10.605613   9.605613   8.605613   7.605613   6.605613  ...  8.760648   \n",
       "\n",
       "            d82        d83        d84        d85        d86        d87  \\\n",
       "799 0  0.559722  14.559722  13.559722  12.559722  11.559722  10.559722   \n",
       "    1  8.651620   7.651620   6.651620   5.528588   4.651620   3.651620   \n",
       "    2  1.691308   0.691308  11.691308  10.691308   9.691308   8.691308   \n",
       "    3  1.328368   0.328368   7.661632   6.661632   5.661632   4.661632   \n",
       "    4  7.760648   6.760648   5.760648   4.760648   3.760648   2.760648   \n",
       "\n",
       "            d88       d89       d90  \n",
       "799 0  9.559722  8.559722  7.559722  \n",
       "    1  2.651620  1.651620  0.651620  \n",
       "    2  7.691308  6.691308  5.691308  \n",
       "    3  3.661632  2.661632  1.661632  \n",
       "    4  1.760648  0.760648 -7.000000  \n",
       "\n",
       "[5 rows x 91 columns]"
      ]
     },
     "execution_count": 7,
     "metadata": {},
     "output_type": "execute_result"
    }
   ],
   "source": [
    "df_90.head()"
   ]
  },
  {
   "cell_type": "markdown",
   "id": "361306b9-e7be-4ec0-922a-e885e3e6c069",
   "metadata": {},
   "source": [
    "### Zscoring"
   ]
  },
  {
   "cell_type": "code",
   "execution_count": 8,
   "id": "9d1e7e45-a769-4cb0-bc48-ff9792bf488c",
   "metadata": {
    "tags": []
   },
   "outputs": [],
   "source": [
    "window_col_names = []\n",
    "w_len=90\n",
    "for d in range(w_len):\n",
    "    window_col_names.append('d' + str(d+1))\n",
    "\n",
    "# ATENTION: Z-score function likely to be INCORRECT\n",
    "# Works OK here, but likely to leed to bugs and issues elsewhere\n",
    "df_zscore = df_90.copy(deep=True)\n",
    "df_zscore[window_col_names] = scipy.stats.zscore(df_zscore[window_col_names], axis=1, nan_policy = 'omit')\n",
    "df_zscore.fillna(-1, inplace = True)"
   ]
  },
  {
   "cell_type": "code",
   "execution_count": 9,
   "id": "5cd2fc52-6228-4775-96fc-98606611c8a5",
   "metadata": {},
   "outputs": [],
   "source": [
    "data_zscored = df_zscore[window_cols].to_numpy()"
   ]
  },
  {
   "cell_type": "markdown",
   "id": "2f03f052-9c79-4057-9cd7-106f058a9dac",
   "metadata": {},
   "source": [
    "### Saving Zscored Data"
   ]
  },
  {
   "cell_type": "code",
   "execution_count": 10,
   "id": "d1632346-fd73-43b0-8b54-f10bc16f2261",
   "metadata": {},
   "outputs": [],
   "source": [
    "df_zscore_save = df_zscore.reset_index(names=['local_id', 'window_id'])\n",
    "# df_zscore_save.to_csv(f'Data/W90_Zscored.csv', index=False)  \n"
   ]
  },
  {
   "cell_type": "markdown",
   "id": "e9418b97-d49a-4f38-96ec-cdb821c173a9",
   "metadata": {},
   "source": [
    "---\n",
    "---\n",
    "# Loading Models"
   ]
  },
  {
   "cell_type": "code",
   "execution_count": 11,
   "id": "c4d07c57-4cf1-45b2-84ab-27abf8f8f1bf",
   "metadata": {
    "tags": []
   },
   "outputs": [
    {
     "name": "stderr",
     "output_type": "stream",
     "text": [
      "\u001b[34m\u001b[1mwandb\u001b[0m: Currently logged in as: \u001b[33mvasco-mergulhao\u001b[0m (\u001b[33mvasco-phd\u001b[0m). Use \u001b[1m`wandb login --relogin`\u001b[0m to force relogin\n"
     ]
    },
    {
     "data": {
      "text/html": [
       "wandb version 0.13.9 is available!  To upgrade, please run:\n",
       " $ pip install wandb --upgrade"
      ],
      "text/plain": [
       "<IPython.core.display.HTML object>"
      ]
     },
     "metadata": {},
     "output_type": "display_data"
    },
    {
     "data": {
      "text/html": [
       "Tracking run with wandb version 0.13.6"
      ],
      "text/plain": [
       "<IPython.core.display.HTML object>"
      ]
     },
     "metadata": {},
     "output_type": "display_data"
    },
    {
     "data": {
      "text/html": [
       "Run data is saved locally in <code>C:\\Users\\ucesvpm\\OneDrive - University College London\\PhD Project\\Data Analytics\\Time Series Clustering\\Second Test\\wandb\\run-20230119_151821-3kve6kki</code>"
      ],
      "text/plain": [
       "<IPython.core.display.HTML object>"
      ]
     },
     "metadata": {},
     "output_type": "display_data"
    },
    {
     "data": {
      "text/html": [
       "Syncing run <strong><a href=\"https://wandb.ai/vasco-phd/uncategorized/runs/3kve6kki\" target=\"_blank\">feasible-field-28</a></strong> to <a href=\"https://wandb.ai/vasco-phd/uncategorized\" target=\"_blank\">Weights & Biases</a> (<a href=\"https://wandb.me/run\" target=\"_blank\">docs</a>)<br/>"
      ],
      "text/plain": [
       "<IPython.core.display.HTML object>"
      ]
     },
     "metadata": {},
     "output_type": "display_data"
    },
    {
     "name": "stderr",
     "output_type": "stream",
     "text": [
      "\u001b[34m\u001b[1mwandb\u001b[0m:   4 of 4 files downloaded.  \n"
     ]
    },
    {
     "data": {
      "text/html": [
       "Waiting for W&B process to finish... <strong style=\"color:green\">(success).</strong>"
      ],
      "text/plain": [
       "<IPython.core.display.HTML object>"
      ]
     },
     "metadata": {},
     "output_type": "display_data"
    },
    {
     "data": {
      "text/html": [
       "Synced <strong style=\"color:#cdcd00\">feasible-field-28</strong>: <a href=\"https://wandb.ai/vasco-phd/uncategorized/runs/3kve6kki\" target=\"_blank\">https://wandb.ai/vasco-phd/uncategorized/runs/3kve6kki</a><br/>Synced 6 W&B file(s), 0 media file(s), 0 artifact file(s) and 0 other file(s)"
      ],
      "text/plain": [
       "<IPython.core.display.HTML object>"
      ]
     },
     "metadata": {},
     "output_type": "display_data"
    },
    {
     "data": {
      "text/html": [
       "Find logs at: <code>.\\wandb\\run-20230119_151821-3kve6kki\\logs</code>"
      ],
      "text/plain": [
       "<IPython.core.display.HTML object>"
      ]
     },
     "metadata": {},
     "output_type": "display_data"
    }
   ],
   "source": [
    "# This loads model by name.\n",
    "# Identify the best model by navigating the WandB Sweeps page.\n",
    "# Find link to best model (and version)  in Artifacts -> Usage, and copy directory.\n",
    "# .pb format is only accepted by Tensorflow, NOT Keras.\n",
    "solution_name = 'pious-sweep-1:v9'\n",
    "run = wandb.init()\n",
    "model_artifact = run.use_artifact(f'vasco-phd/Sweep_Test_v2/model-{solution_name}', type='model')\n",
    "model_dir = model_artifact.download()\n",
    "# local_model_dir = 'C:/Users/ucesvpm/OneDrive - University College London/PhD Project/Data Analytics/Time Series Clustering/Second Test/wandb/run-20221213_173041-jc918077'\n",
    "loaded_autoencoder = tf.keras.models.load_model(model_dir)\n",
    "run.finish()"
   ]
  },
  {
   "cell_type": "code",
   "execution_count": 12,
   "id": "44ca30ce-2541-4971-8c2c-a98bad403084",
   "metadata": {},
   "outputs": [
    {
     "name": "stdout",
     "output_type": "stream",
     "text": [
      "Model: \"model\"\n",
      "_________________________________________________________________\n",
      " Layer (type)                Output Shape              Param #   \n",
      "=================================================================\n",
      " input_1 (InputLayer)        [(None, 90)]              0         \n",
      "                                                                 \n",
      " dense (Dense)               (None, 300)               27300     \n",
      "                                                                 \n",
      " dense_1 (Dense)             (None, 300)               90300     \n",
      "                                                                 \n",
      " dense_2 (Dense)             (None, 300)               90300     \n",
      "                                                                 \n",
      " dense_3 (Dense)             (None, 300)               90300     \n",
      "                                                                 \n",
      " dense_4 (Dense)             (None, 5)                 1505      \n",
      "                                                                 \n",
      " dense_5 (Dense)             (None, 300)               1800      \n",
      "                                                                 \n",
      " dense_6 (Dense)             (None, 300)               90300     \n",
      "                                                                 \n",
      " dense_7 (Dense)             (None, 300)               90300     \n",
      "                                                                 \n",
      " dense_8 (Dense)             (None, 300)               90300     \n",
      "                                                                 \n",
      " dense_9 (Dense)             (None, 90)                27090     \n",
      "                                                                 \n",
      "=================================================================\n",
      "Total params: 599,495\n",
      "Trainable params: 599,495\n",
      "Non-trainable params: 0\n",
      "_________________________________________________________________\n"
     ]
    }
   ],
   "source": [
    "loaded_autoencoder.summary()"
   ]
  },
  {
   "cell_type": "code",
   "execution_count": 13,
   "id": "d4fc1db9-1277-474e-a2d2-344f5d5f6516",
   "metadata": {},
   "outputs": [],
   "source": [
    "encoder_layers = int(len(loaded_autoencoder.layers)/2)"
   ]
  },
  {
   "cell_type": "code",
   "execution_count": 14,
   "id": "5368dd42-017a-4a01-a06c-11d5f19ed164",
   "metadata": {},
   "outputs": [
    {
     "name": "stdout",
     "output_type": "stream",
     "text": [
      "Model: \"sequential\"\n",
      "_________________________________________________________________\n",
      " Layer (type)                Output Shape              Param #   \n",
      "=================================================================\n",
      " dense (Dense)               (None, 300)               27300     \n",
      "                                                                 \n",
      " dense_1 (Dense)             (None, 300)               90300     \n",
      "                                                                 \n",
      " dense_2 (Dense)             (None, 300)               90300     \n",
      "                                                                 \n",
      " dense_3 (Dense)             (None, 300)               90300     \n",
      "                                                                 \n",
      " dense_4 (Dense)             (None, 5)                 1505      \n",
      "                                                                 \n",
      "=================================================================\n",
      "Total params: 299,705\n",
      "Trainable params: 299,705\n",
      "Non-trainable params: 0\n",
      "_________________________________________________________________\n"
     ]
    }
   ],
   "source": [
    "encoder_layers = int(len(loaded_autoencoder.layers)/2)\n",
    "encoder = keras.models.Sequential(loaded_autoencoder.layers[:-encoder_layers])\n",
    "encoder.summary()"
   ]
  },
  {
   "cell_type": "markdown",
   "id": "20d2c03d-6687-47cf-adc4-2712162979ba",
   "metadata": {},
   "source": [
    "---\n",
    "## Enconding Data"
   ]
  },
  {
   "cell_type": "code",
   "execution_count": 15,
   "id": "c8f54084-28ca-4b22-87d9-9b117dc7fc88",
   "metadata": {},
   "outputs": [],
   "source": [
    "encoded_data = encoder(data_zscored)\n",
    "encoded_data = encoded_data.numpy()\n",
    "df_encoded = pd.DataFrame(encoded_data)"
   ]
  },
  {
   "cell_type": "markdown",
   "id": "a72b5def-8995-4d4e-a178-bcd08fe39219",
   "metadata": {},
   "source": [
    "---\n",
    "##  Reconstruction Error"
   ]
  },
  {
   "cell_type": "code",
   "execution_count": 16,
   "id": "4743c1fd-8128-490c-8514-2b413dc75b7e",
   "metadata": {},
   "outputs": [
    {
     "name": "stdout",
     "output_type": "stream",
     "text": [
      "392/392 [==============================] - 1s 1ms/step\n"
     ]
    }
   ],
   "source": [
    "y_pred = loaded_autoencoder.predict(data_zscored)"
   ]
  },
  {
   "cell_type": "code",
   "execution_count": 17,
   "id": "9b6522ca-0ad5-48c6-a2ad-562277ae0a85",
   "metadata": {},
   "outputs": [],
   "source": [
    "df_reconstruct = pd.DataFrame(columns=window_cols, index=df_zscore.index)\n",
    "df_reconstruct[window_cols] = y_pred"
   ]
  },
  {
   "cell_type": "code",
   "execution_count": 18,
   "id": "63f9eccc-a1fd-4811-a7bd-b5a0ebe10317",
   "metadata": {},
   "outputs": [],
   "source": [
    "df_reconstruct = pd.DataFrame(columns=window_cols, index=df_zscore.index)\n",
    "#Inserting reconstructed profiles\n",
    "df_reconstruct[window_cols] = y_pred\n",
    "# Calculating MSE per window\n",
    "MSE = tf.keras.losses.MeanSquaredError(reduction='none')\n",
    "MSE_values = MSE(data_zscored, y_pred).numpy()\n",
    "#Adding to reconstructed dataframe\n",
    "df_reconstruct.insert(loc=0, column='MSE', value=MSE_values)\n",
    "df_reconstruct.reset_index(names=['local_id', 'window_id'], inplace=True)"
   ]
  },
  {
   "cell_type": "code",
   "execution_count": 19,
   "id": "e15733b3-8802-45f4-86cc-873fb6f48f03",
   "metadata": {},
   "outputs": [
    {
     "data": {
      "text/html": [
       "<div>\n",
       "<style scoped>\n",
       "    .dataframe tbody tr th:only-of-type {\n",
       "        vertical-align: middle;\n",
       "    }\n",
       "\n",
       "    .dataframe tbody tr th {\n",
       "        vertical-align: top;\n",
       "    }\n",
       "\n",
       "    .dataframe thead th {\n",
       "        text-align: right;\n",
       "    }\n",
       "</style>\n",
       "<table border=\"1\" class=\"dataframe\">\n",
       "  <thead>\n",
       "    <tr style=\"text-align: right;\">\n",
       "      <th></th>\n",
       "      <th>local_id</th>\n",
       "      <th>window_id</th>\n",
       "      <th>MSE</th>\n",
       "      <th>d1</th>\n",
       "      <th>d2</th>\n",
       "      <th>d3</th>\n",
       "      <th>d4</th>\n",
       "      <th>d5</th>\n",
       "      <th>d6</th>\n",
       "      <th>d7</th>\n",
       "      <th>...</th>\n",
       "      <th>d81</th>\n",
       "      <th>d82</th>\n",
       "      <th>d83</th>\n",
       "      <th>d84</th>\n",
       "      <th>d85</th>\n",
       "      <th>d86</th>\n",
       "      <th>d87</th>\n",
       "      <th>d88</th>\n",
       "      <th>d89</th>\n",
       "      <th>d90</th>\n",
       "    </tr>\n",
       "  </thead>\n",
       "  <tbody>\n",
       "    <tr>\n",
       "      <th>0</th>\n",
       "      <td>799</td>\n",
       "      <td>0</td>\n",
       "      <td>0.247020</td>\n",
       "      <td>0.861982</td>\n",
       "      <td>0.946337</td>\n",
       "      <td>1.023229</td>\n",
       "      <td>0.913732</td>\n",
       "      <td>0.789527</td>\n",
       "      <td>0.734652</td>\n",
       "      <td>0.696375</td>\n",
       "      <td>...</td>\n",
       "      <td>-0.887788</td>\n",
       "      <td>-0.791022</td>\n",
       "      <td>-0.750865</td>\n",
       "      <td>-0.851607</td>\n",
       "      <td>-0.820415</td>\n",
       "      <td>-0.833995</td>\n",
       "      <td>-0.737110</td>\n",
       "      <td>-0.714877</td>\n",
       "      <td>-0.740061</td>\n",
       "      <td>-0.613801</td>\n",
       "    </tr>\n",
       "    <tr>\n",
       "      <th>1</th>\n",
       "      <td>799</td>\n",
       "      <td>1</td>\n",
       "      <td>0.390724</td>\n",
       "      <td>-1.137315</td>\n",
       "      <td>-1.118176</td>\n",
       "      <td>-1.191306</td>\n",
       "      <td>-0.667892</td>\n",
       "      <td>-0.188515</td>\n",
       "      <td>0.574962</td>\n",
       "      <td>1.183609</td>\n",
       "      <td>...</td>\n",
       "      <td>-0.754237</td>\n",
       "      <td>-0.722684</td>\n",
       "      <td>-0.742673</td>\n",
       "      <td>-0.695211</td>\n",
       "      <td>-0.707334</td>\n",
       "      <td>-0.728421</td>\n",
       "      <td>-0.729348</td>\n",
       "      <td>-0.669194</td>\n",
       "      <td>-0.698752</td>\n",
       "      <td>-0.619272</td>\n",
       "    </tr>\n",
       "    <tr>\n",
       "      <th>2</th>\n",
       "      <td>799</td>\n",
       "      <td>2</td>\n",
       "      <td>0.241173</td>\n",
       "      <td>-1.025704</td>\n",
       "      <td>-1.041278</td>\n",
       "      <td>-1.056806</td>\n",
       "      <td>-0.195937</td>\n",
       "      <td>0.555022</td>\n",
       "      <td>1.303572</td>\n",
       "      <td>1.828867</td>\n",
       "      <td>...</td>\n",
       "      <td>-0.798859</td>\n",
       "      <td>-0.794543</td>\n",
       "      <td>-0.818431</td>\n",
       "      <td>-0.760448</td>\n",
       "      <td>-0.760539</td>\n",
       "      <td>-0.836529</td>\n",
       "      <td>-0.787765</td>\n",
       "      <td>-0.743372</td>\n",
       "      <td>-0.760676</td>\n",
       "      <td>-0.663323</td>\n",
       "    </tr>\n",
       "    <tr>\n",
       "      <th>3</th>\n",
       "      <td>799</td>\n",
       "      <td>3</td>\n",
       "      <td>0.639385</td>\n",
       "      <td>0.121909</td>\n",
       "      <td>0.043181</td>\n",
       "      <td>0.092471</td>\n",
       "      <td>-0.047451</td>\n",
       "      <td>0.046363</td>\n",
       "      <td>-0.007260</td>\n",
       "      <td>0.084297</td>\n",
       "      <td>...</td>\n",
       "      <td>-0.392383</td>\n",
       "      <td>-0.358334</td>\n",
       "      <td>-0.205351</td>\n",
       "      <td>-0.274830</td>\n",
       "      <td>-0.157824</td>\n",
       "      <td>0.051694</td>\n",
       "      <td>0.030989</td>\n",
       "      <td>-0.010297</td>\n",
       "      <td>-0.041775</td>\n",
       "      <td>0.141992</td>\n",
       "    </tr>\n",
       "    <tr>\n",
       "      <th>4</th>\n",
       "      <td>799</td>\n",
       "      <td>4</td>\n",
       "      <td>0.606934</td>\n",
       "      <td>-1.122783</td>\n",
       "      <td>-0.575524</td>\n",
       "      <td>0.458419</td>\n",
       "      <td>1.325414</td>\n",
       "      <td>1.790534</td>\n",
       "      <td>1.874686</td>\n",
       "      <td>1.285085</td>\n",
       "      <td>...</td>\n",
       "      <td>0.339593</td>\n",
       "      <td>0.336520</td>\n",
       "      <td>0.299439</td>\n",
       "      <td>0.115216</td>\n",
       "      <td>0.017182</td>\n",
       "      <td>-0.234514</td>\n",
       "      <td>-0.411235</td>\n",
       "      <td>-0.408283</td>\n",
       "      <td>-0.338318</td>\n",
       "      <td>-0.365986</td>\n",
       "    </tr>\n",
       "  </tbody>\n",
       "</table>\n",
       "<p>5 rows × 93 columns</p>\n",
       "</div>"
      ],
      "text/plain": [
       "   local_id  window_id       MSE        d1        d2        d3        d4  \\\n",
       "0       799          0  0.247020  0.861982  0.946337  1.023229  0.913732   \n",
       "1       799          1  0.390724 -1.137315 -1.118176 -1.191306 -0.667892   \n",
       "2       799          2  0.241173 -1.025704 -1.041278 -1.056806 -0.195937   \n",
       "3       799          3  0.639385  0.121909  0.043181  0.092471 -0.047451   \n",
       "4       799          4  0.606934 -1.122783 -0.575524  0.458419  1.325414   \n",
       "\n",
       "         d5        d6        d7  ...       d81       d82       d83       d84  \\\n",
       "0  0.789527  0.734652  0.696375  ... -0.887788 -0.791022 -0.750865 -0.851607   \n",
       "1 -0.188515  0.574962  1.183609  ... -0.754237 -0.722684 -0.742673 -0.695211   \n",
       "2  0.555022  1.303572  1.828867  ... -0.798859 -0.794543 -0.818431 -0.760448   \n",
       "3  0.046363 -0.007260  0.084297  ... -0.392383 -0.358334 -0.205351 -0.274830   \n",
       "4  1.790534  1.874686  1.285085  ...  0.339593  0.336520  0.299439  0.115216   \n",
       "\n",
       "        d85       d86       d87       d88       d89       d90  \n",
       "0 -0.820415 -0.833995 -0.737110 -0.714877 -0.740061 -0.613801  \n",
       "1 -0.707334 -0.728421 -0.729348 -0.669194 -0.698752 -0.619272  \n",
       "2 -0.760539 -0.836529 -0.787765 -0.743372 -0.760676 -0.663323  \n",
       "3 -0.157824  0.051694  0.030989 -0.010297 -0.041775  0.141992  \n",
       "4  0.017182 -0.234514 -0.411235 -0.408283 -0.338318 -0.365986  \n",
       "\n",
       "[5 rows x 93 columns]"
      ]
     },
     "execution_count": 19,
     "metadata": {},
     "output_type": "execute_result"
    }
   ],
   "source": [
    "df_reconstruct.head()"
   ]
  },
  {
   "cell_type": "markdown",
   "id": "28a859f9-18b0-4f90-9a5d-360802f37eda",
   "metadata": {},
   "source": [
    "---\n",
    "---\n",
    "## 2D UMAP"
   ]
  },
  {
   "cell_type": "code",
   "execution_count": 20,
   "id": "823344cf-5015-4b13-8343-cfc24ca1f07c",
   "metadata": {},
   "outputs": [],
   "source": [
    "df_sols  = df_zscore.copy(deep=True)\n",
    "df_sols.drop(window_cols, axis=1, inplace=True)\n",
    "df_sols.reset_index(names=['local_id', 'window_id'], inplace=True)"
   ]
  },
  {
   "cell_type": "code",
   "execution_count": 21,
   "id": "25ae8362-0a05-4d87-b80d-fb9ac4cacbaf",
   "metadata": {},
   "outputs": [
    {
     "name": "stdout",
     "output_type": "stream",
     "text": [
      "\n",
      "UMAP 4Viz process time: 20.92[s]\n"
     ]
    }
   ],
   "source": [
    "#Calcs UMAP for Visual Purposes  \n",
    "start_time = time.time()\n",
    "v_2D_umap = umap.UMAP(random_state=42).fit_transform(df_encoded)\n",
    "print(f'\\nUMAP 4Viz process time: {np.round(time.time() - start_time,2)}[s]') "
   ]
  },
  {
   "cell_type": "code",
   "execution_count": 22,
   "id": "10524f88-ffc1-4731-90c8-c9e0244c9346",
   "metadata": {},
   "outputs": [],
   "source": [
    "#Adds Dims to Dataframes\n",
    "df_sols['UMAP_V1'] = v_2D_umap[:, 0]\n",
    "df_sols['UMAP_V2'] = v_2D_umap[:, 1]\n",
    "\n",
    "df_reconstruct.insert(loc=2, column='UMAP_V2', value=v_2D_umap[:, 1])\n",
    "df_reconstruct.insert(loc=2, column='UMAP_V1', value=v_2D_umap[:, 0])"
   ]
  },
  {
   "cell_type": "markdown",
   "id": "6203ec7d-1b21-4dd1-a187-c4c8ef2ec5bf",
   "metadata": {},
   "source": [
    "---\n",
    "---\n",
    "## Clustering Solutions"
   ]
  },
  {
   "cell_type": "code",
   "execution_count": 23,
   "id": "12496fa3-1ed9-4c2b-ab8e-06420ea6ab14",
   "metadata": {},
   "outputs": [
    {
     "data": {
      "text/html": [
       "<div>\n",
       "<style scoped>\n",
       "    .dataframe tbody tr th:only-of-type {\n",
       "        vertical-align: middle;\n",
       "    }\n",
       "\n",
       "    .dataframe tbody tr th {\n",
       "        vertical-align: top;\n",
       "    }\n",
       "\n",
       "    .dataframe thead th {\n",
       "        text-align: right;\n",
       "    }\n",
       "</style>\n",
       "<table border=\"1\" class=\"dataframe\">\n",
       "  <thead>\n",
       "    <tr style=\"text-align: right;\">\n",
       "      <th></th>\n",
       "      <th>local_id</th>\n",
       "      <th>window_id</th>\n",
       "      <th>window_start_date</th>\n",
       "      <th>UMAP_V1</th>\n",
       "      <th>UMAP_V2</th>\n",
       "    </tr>\n",
       "  </thead>\n",
       "  <tbody>\n",
       "    <tr>\n",
       "      <th>0</th>\n",
       "      <td>799</td>\n",
       "      <td>0</td>\n",
       "      <td>2018-12-22</td>\n",
       "      <td>4.849304</td>\n",
       "      <td>2.319143</td>\n",
       "    </tr>\n",
       "    <tr>\n",
       "      <th>1</th>\n",
       "      <td>799</td>\n",
       "      <td>1</td>\n",
       "      <td>2019-03-22</td>\n",
       "      <td>-1.492943</td>\n",
       "      <td>3.546806</td>\n",
       "    </tr>\n",
       "    <tr>\n",
       "      <th>2</th>\n",
       "      <td>799</td>\n",
       "      <td>2</td>\n",
       "      <td>2019-06-20</td>\n",
       "      <td>-1.429315</td>\n",
       "      <td>3.775426</td>\n",
       "    </tr>\n",
       "    <tr>\n",
       "      <th>3</th>\n",
       "      <td>799</td>\n",
       "      <td>3</td>\n",
       "      <td>2019-09-18</td>\n",
       "      <td>3.234871</td>\n",
       "      <td>1.918851</td>\n",
       "    </tr>\n",
       "    <tr>\n",
       "      <th>4</th>\n",
       "      <td>799</td>\n",
       "      <td>4</td>\n",
       "      <td>2019-12-17</td>\n",
       "      <td>3.490935</td>\n",
       "      <td>-3.001745</td>\n",
       "    </tr>\n",
       "    <tr>\n",
       "      <th>...</th>\n",
       "      <td>...</td>\n",
       "      <td>...</td>\n",
       "      <td>...</td>\n",
       "      <td>...</td>\n",
       "      <td>...</td>\n",
       "    </tr>\n",
       "    <tr>\n",
       "      <th>12512</th>\n",
       "      <td>525</td>\n",
       "      <td>13</td>\n",
       "      <td>2021-06-03</td>\n",
       "      <td>17.192415</td>\n",
       "      <td>0.265117</td>\n",
       "    </tr>\n",
       "    <tr>\n",
       "      <th>12513</th>\n",
       "      <td>525</td>\n",
       "      <td>14</td>\n",
       "      <td>2021-09-01</td>\n",
       "      <td>17.281046</td>\n",
       "      <td>1.061741</td>\n",
       "    </tr>\n",
       "    <tr>\n",
       "      <th>12514</th>\n",
       "      <td>525</td>\n",
       "      <td>15</td>\n",
       "      <td>2021-11-30</td>\n",
       "      <td>17.704914</td>\n",
       "      <td>0.559145</td>\n",
       "    </tr>\n",
       "    <tr>\n",
       "      <th>12515</th>\n",
       "      <td>525</td>\n",
       "      <td>16</td>\n",
       "      <td>2022-02-28</td>\n",
       "      <td>17.343908</td>\n",
       "      <td>0.514863</td>\n",
       "    </tr>\n",
       "    <tr>\n",
       "      <th>12516</th>\n",
       "      <td>525</td>\n",
       "      <td>17</td>\n",
       "      <td>2022-05-29</td>\n",
       "      <td>16.959759</td>\n",
       "      <td>0.813639</td>\n",
       "    </tr>\n",
       "  </tbody>\n",
       "</table>\n",
       "<p>12517 rows × 5 columns</p>\n",
       "</div>"
      ],
      "text/plain": [
       "       local_id  window_id window_start_date    UMAP_V1   UMAP_V2\n",
       "0           799          0        2018-12-22   4.849304  2.319143\n",
       "1           799          1        2019-03-22  -1.492943  3.546806\n",
       "2           799          2        2019-06-20  -1.429315  3.775426\n",
       "3           799          3        2019-09-18   3.234871  1.918851\n",
       "4           799          4        2019-12-17   3.490935 -3.001745\n",
       "...         ...        ...               ...        ...       ...\n",
       "12512       525         13        2021-06-03  17.192415  0.265117\n",
       "12513       525         14        2021-09-01  17.281046  1.061741\n",
       "12514       525         15        2021-11-30  17.704914  0.559145\n",
       "12515       525         16        2022-02-28  17.343908  0.514863\n",
       "12516       525         17        2022-05-29  16.959759  0.813639\n",
       "\n",
       "[12517 rows x 5 columns]"
      ]
     },
     "execution_count": 23,
     "metadata": {},
     "output_type": "execute_result"
    }
   ],
   "source": [
    "df_sols"
   ]
  },
  {
   "cell_type": "code",
   "execution_count": 24,
   "id": "edc1d7f7-527a-4574-804d-d4f8b3f45f56",
   "metadata": {},
   "outputs": [],
   "source": [
    "clustering_cols = df_encoded.columns[:-2]"
   ]
  },
  {
   "cell_type": "markdown",
   "id": "2902f83d-f4a4-4e9f-822b-7e53864822a1",
   "metadata": {},
   "source": [
    "### kMeans"
   ]
  },
  {
   "cell_type": "code",
   "execution_count": 25,
   "id": "df10e435-bd8a-449a-bb6f-7162f36bcaab",
   "metadata": {},
   "outputs": [],
   "source": [
    "def kMeans_cluster(df_en, df_s,cols):\n",
    "    df_en = df_en.copy(deep=True)\n",
    "    df_s = df_s.copy(deep=True)\n",
    "        \n",
    "    # k-Means per se\n",
    "    kmeans = [KMeans(n_clusters=k, random_state=42).fit(df_en[cols])\n",
    "                for k in range(2, 10)]\n",
    "    \n",
    "    i=2\n",
    "    sol_cols = []\n",
    "    for partition in kmeans:\n",
    "        col_name = 'kMeans_k='+ str(i)\n",
    "        sol_cols.append(col_name)\n",
    "        df_s[col_name] = partition.labels_ + 1\n",
    "        i+=1\n",
    "        \n",
    "    return df_s"
   ]
  },
  {
   "cell_type": "code",
   "execution_count": 26,
   "id": "ffb4857d-465c-44b5-85c8-0bcbf7ac1e3c",
   "metadata": {},
   "outputs": [],
   "source": [
    "df_sols =  kMeans_cluster(df_encoded, df_sols, clustering_cols)"
   ]
  },
  {
   "cell_type": "markdown",
   "id": "ba0adf88-8a5d-42fc-bf5e-400d1c001f6d",
   "metadata": {},
   "source": [
    "### HDBSCAN\n",
    "To Be Done"
   ]
  },
  {
   "cell_type": "markdown",
   "id": "e79a6361-ae14-425a-89ba-6867df31e7c4",
   "metadata": {},
   "source": [
    "---\n",
    "---\n",
    "## Saving Outputs"
   ]
  },
  {
   "cell_type": "markdown",
   "id": "77bac7b0-22fe-4934-80fd-e5d40ff020a9",
   "metadata": {},
   "source": [
    "### Clustering and UMAP"
   ]
  },
  {
   "cell_type": "code",
   "execution_count": 27,
   "id": "e5071ec6-efb1-4235-8f4b-c6407677510f",
   "metadata": {},
   "outputs": [],
   "source": [
    "os.makedirs('ModelResults', exist_ok=True)  \n",
    "solution_fileName = solution_name.replace(\":\", \"_\" )\n",
    "df_sols.to_csv(f'ModelResults/ClusteringUmap/{solution_fileName}.csv', index=False)  \n"
   ]
  },
  {
   "cell_type": "markdown",
   "id": "a4bffb3d-7db9-4de9-b451-ea42169bf376",
   "metadata": {},
   "source": [
    "### Recontructions & MSEs"
   ]
  },
  {
   "cell_type": "code",
   "execution_count": 28,
   "id": "ef96b56f-1f3f-4535-aa51-f22ed342cad3",
   "metadata": {},
   "outputs": [],
   "source": [
    "os.makedirs('Reconstruction', exist_ok=True)  \n",
    "reconstruction_fileName = solution_name.replace(\":\", \"_\" )\n",
    "df_reconstruct.to_csv(f'ModelResults/Reconstruction/{reconstruction_fileName}.csv', index=False)  "
   ]
  },
  {
   "cell_type": "code",
   "execution_count": null,
   "id": "760e35a3-32d6-4d74-877f-271ecca70aa2",
   "metadata": {},
   "outputs": [],
   "source": []
  }
 ],
 "metadata": {
  "kernelspec": {
   "display_name": "Python 3 (ipykernel)",
   "language": "python",
   "name": "python3"
  },
  "language_info": {
   "codemirror_mode": {
    "name": "ipython",
    "version": 3
   },
   "file_extension": ".py",
   "mimetype": "text/x-python",
   "name": "python",
   "nbconvert_exporter": "python",
   "pygments_lexer": "ipython3",
   "version": "3.9.15"
  }
 },
 "nbformat": 4,
 "nbformat_minor": 5
}
