{
 "cells": [
  {
   "cell_type": "markdown",
   "id": "24a40a92-afe1-4cc1-9412-9a18fdac6c1d",
   "metadata": {},
   "source": [
    "# Clustering Solution Generator\n",
    "### $Time$ $Series$ $3rd$ $Test$\n",
    "\n",
    "$Vasco$ $Mergulhão$ $-$ $Jan$ $2023$\n",
    "\n",
    "### Version 1:\n",
    "This script loads a model and outputs a CSV ready to be analysed on the Dashboard"
   ]
  },
  {
   "cell_type": "code",
   "execution_count": 1,
   "id": "5f75a73b-02c6-4cc7-86e5-b97cebb2ea0c",
   "metadata": {},
   "outputs": [
    {
     "name": "stderr",
     "output_type": "stream",
     "text": [
      "C:\\Users\\ucesvpm\\Anaconda3\\envs\\TensorFlow_PhD\\lib\\site-packages\\tqdm\\auto.py:22: TqdmWarning: IProgress not found. Please update jupyter and ipywidgets. See https://ipywidgets.readthedocs.io/en/stable/user_install.html\n",
      "  from .autonotebook import tqdm as notebook_tqdm\n"
     ]
    }
   ],
   "source": [
    "import os  \n",
    "\n",
    "import pandas as pd\n",
    "import numpy as np\n",
    "import matplotlib.pyplot as plt\n",
    "from itertools import groupby\n",
    "from datetime import timedelta, date\n",
    "import plotly.graph_objects as go\n",
    "import scipy\n",
    "import math\n",
    "from sklearn.cluster import KMeans\n",
    "\n",
    "import random\n",
    "\n",
    "import time\n",
    "import datetime\n",
    "\n",
    "import umap # UMAP library is responsible for ipywidgets warning!\n",
    "\n",
    "import tensorflow as tf\n",
    "from tensorflow import keras\n",
    "\n",
    "import wandb\n",
    "from wandb.keras import WandbCallback"
   ]
  },
  {
   "cell_type": "code",
   "execution_count": 2,
   "id": "e1ddf4cb-7e90-4bf3-95dc-08d2ed0710c5",
   "metadata": {},
   "outputs": [],
   "source": [
    "# Set Random Seeds\n",
    "os.environ['TF_CUDNN_DETERMINISTIC'] = '1'\n",
    "random.seed(42)\n",
    "np.random.seed(42)\n",
    "tf.random.set_seed(42)"
   ]
  },
  {
   "cell_type": "markdown",
   "id": "f608df01-2742-4595-9579-731e32617de3",
   "metadata": {},
   "source": [
    "---\n",
    "# Script Variables"
   ]
  },
  {
   "cell_type": "code",
   "execution_count": 3,
   "id": "3abc4438-3888-4999-bbbd-b8cbcbc5fc6d",
   "metadata": {},
   "outputs": [],
   "source": [
    "# MANUAL INPUTS\n",
    "# MAKE SURE THEY ARE CORRECT\n",
    "# Everything else is automated\n",
    "dataset_name = 'Rwanda_10k_Set_1_w90'\n",
    "Model_Name = 'FC_Small'\n",
    "solution_name = 'fresh-sweep-2:v41'\n",
    "\n",
    "# This loads model by name.\n",
    "# Identify the best model by navigating the WandB Sweeps page.\n",
    "# Find link to best model (and version)  in Artifacts -> Usage, and copy directory.\n",
    "# .pb format is only accepted by Tensorflow, NOT Keras.\n",
    "##############################################################################\n",
    "\n"
   ]
  },
  {
   "cell_type": "code",
   "execution_count": 4,
   "id": "b2415bb2-576d-431f-9e79-6055d3424bf8",
   "metadata": {},
   "outputs": [],
   "source": [
    "# Uses name to navigate folders\n",
    "dataset_folder = \"_\".join(dataset_name.split('_')[:-1]) #Takes out window length section\n",
    "dataset_location = f'../Data/{dataset_folder}/{dataset_name}.csv'\n",
    "dataset_window_key = dataset_name.split('_')[-1]\n",
    "\n",
    "# Zcore Data Decision\n",
    "zscore_data = True # Set to: [True/False]\n",
    "zscore_data_done = False # Always set to False. Ensures its not normalized multiple times\n",
    "\n",
    "# Project and Model Name\n",
    "AE_Model_Type_dict = {'FC_Medium': 'FC_AE',\n",
    "                      'FC_Small': 'FC_AE'\n",
    "                     }\n",
    "AE_Model_Type = AE_Model_Type_dict[f'{Model_Name}']\n",
    "\n",
    "Project_Name = f'{AE_Model_Type}-{dataset_name}'\n"
   ]
  },
  {
   "cell_type": "markdown",
   "id": "03c2eda3-3535-4a55-b4b7-87a86570baa2",
   "metadata": {
    "jp-MarkdownHeadingCollapsed": true,
    "tags": []
   },
   "source": [
    "---\n",
    "# Data Imports"
   ]
  },
  {
   "cell_type": "code",
   "execution_count": 5,
   "id": "0a1cc872-de0e-48b7-b201-9d554065c6b8",
   "metadata": {},
   "outputs": [],
   "source": [
    "Data = pd.read_csv(dataset_location)"
   ]
  },
  {
   "cell_type": "code",
   "execution_count": 6,
   "id": "206a7a76-b4cd-4ac2-bbf5-9735e2649c09",
   "metadata": {},
   "outputs": [
    {
     "data": {
      "text/html": [
       "<div>\n",
       "<style scoped>\n",
       "    .dataframe tbody tr th:only-of-type {\n",
       "        vertical-align: middle;\n",
       "    }\n",
       "\n",
       "    .dataframe tbody tr th {\n",
       "        vertical-align: top;\n",
       "    }\n",
       "\n",
       "    .dataframe thead th {\n",
       "        text-align: right;\n",
       "    }\n",
       "</style>\n",
       "<table border=\"1\" class=\"dataframe\">\n",
       "  <thead>\n",
       "    <tr style=\"text-align: right;\">\n",
       "      <th></th>\n",
       "      <th>short_ID</th>\n",
       "      <th>window_ID</th>\n",
       "      <th>window_start_date</th>\n",
       "      <th>d1</th>\n",
       "      <th>d2</th>\n",
       "      <th>d3</th>\n",
       "      <th>d4</th>\n",
       "      <th>d5</th>\n",
       "      <th>d6</th>\n",
       "      <th>d7</th>\n",
       "      <th>...</th>\n",
       "      <th>d81</th>\n",
       "      <th>d82</th>\n",
       "      <th>d83</th>\n",
       "      <th>d84</th>\n",
       "      <th>d85</th>\n",
       "      <th>d86</th>\n",
       "      <th>d87</th>\n",
       "      <th>d88</th>\n",
       "      <th>d89</th>\n",
       "      <th>d90</th>\n",
       "    </tr>\n",
       "  </thead>\n",
       "  <tbody>\n",
       "    <tr>\n",
       "      <th>0</th>\n",
       "      <td>9</td>\n",
       "      <td>0</td>\n",
       "      <td>2018-01-03</td>\n",
       "      <td>29.333333</td>\n",
       "      <td>28.333333</td>\n",
       "      <td>27.333333</td>\n",
       "      <td>614.732454</td>\n",
       "      <td>613.732454</td>\n",
       "      <td>24.333333</td>\n",
       "      <td>23.333333</td>\n",
       "      <td>...</td>\n",
       "      <td>9.333333</td>\n",
       "      <td>7.374942</td>\n",
       "      <td>7.333333</td>\n",
       "      <td>5.378137</td>\n",
       "      <td>5.333333</td>\n",
       "      <td>3.382164</td>\n",
       "      <td>2.386019</td>\n",
       "      <td>2.333333</td>\n",
       "      <td>1.333333</td>\n",
       "      <td>0.333333</td>\n",
       "    </tr>\n",
       "    <tr>\n",
       "      <th>1</th>\n",
       "      <td>9</td>\n",
       "      <td>1</td>\n",
       "      <td>2018-04-03</td>\n",
       "      <td>13.578796</td>\n",
       "      <td>12.587951</td>\n",
       "      <td>11.593588</td>\n",
       "      <td>10.603692</td>\n",
       "      <td>10.583356</td>\n",
       "      <td>9.583356</td>\n",
       "      <td>8.583356</td>\n",
       "      <td>...</td>\n",
       "      <td>-7.000000</td>\n",
       "      <td>-7.000000</td>\n",
       "      <td>-7.000000</td>\n",
       "      <td>-7.000000</td>\n",
       "      <td>-7.000000</td>\n",
       "      <td>6.682928</td>\n",
       "      <td>5.699398</td>\n",
       "      <td>5.708333</td>\n",
       "      <td>3.721609</td>\n",
       "      <td>2.729514</td>\n",
       "    </tr>\n",
       "    <tr>\n",
       "      <th>2</th>\n",
       "      <td>9</td>\n",
       "      <td>2</td>\n",
       "      <td>2018-07-02</td>\n",
       "      <td>2.708333</td>\n",
       "      <td>0.744861</td>\n",
       "      <td>0.708333</td>\n",
       "      <td>-7.000000</td>\n",
       "      <td>6.719641</td>\n",
       "      <td>5.719641</td>\n",
       "      <td>4.719641</td>\n",
       "      <td>...</td>\n",
       "      <td>3.599352</td>\n",
       "      <td>2.599352</td>\n",
       "      <td>1.599352</td>\n",
       "      <td>0.599352</td>\n",
       "      <td>-7.000000</td>\n",
       "      <td>7.657384</td>\n",
       "      <td>6.657384</td>\n",
       "      <td>5.657384</td>\n",
       "      <td>4.657384</td>\n",
       "      <td>3.657384</td>\n",
       "    </tr>\n",
       "    <tr>\n",
       "      <th>3</th>\n",
       "      <td>9</td>\n",
       "      <td>3</td>\n",
       "      <td>2018-09-30</td>\n",
       "      <td>2.657384</td>\n",
       "      <td>1.657384</td>\n",
       "      <td>0.657384</td>\n",
       "      <td>-7.000000</td>\n",
       "      <td>6.718287</td>\n",
       "      <td>5.718287</td>\n",
       "      <td>4.718287</td>\n",
       "      <td>...</td>\n",
       "      <td>7.715255</td>\n",
       "      <td>6.715255</td>\n",
       "      <td>5.715255</td>\n",
       "      <td>4.715255</td>\n",
       "      <td>3.715255</td>\n",
       "      <td>2.715255</td>\n",
       "      <td>1.715255</td>\n",
       "      <td>0.715255</td>\n",
       "      <td>-7.000000</td>\n",
       "      <td>-7.000000</td>\n",
       "    </tr>\n",
       "    <tr>\n",
       "      <th>4</th>\n",
       "      <td>9</td>\n",
       "      <td>4</td>\n",
       "      <td>2018-12-29</td>\n",
       "      <td>-7.000000</td>\n",
       "      <td>-7.000000</td>\n",
       "      <td>-7.000000</td>\n",
       "      <td>6.738970</td>\n",
       "      <td>5.738970</td>\n",
       "      <td>4.738970</td>\n",
       "      <td>3.738970</td>\n",
       "      <td>...</td>\n",
       "      <td>-7.000000</td>\n",
       "      <td>-7.000000</td>\n",
       "      <td>-7.000000</td>\n",
       "      <td>7.688646</td>\n",
       "      <td>6.688646</td>\n",
       "      <td>5.688646</td>\n",
       "      <td>4.688646</td>\n",
       "      <td>3.688646</td>\n",
       "      <td>2.688646</td>\n",
       "      <td>1.688646</td>\n",
       "    </tr>\n",
       "  </tbody>\n",
       "</table>\n",
       "<p>5 rows × 93 columns</p>\n",
       "</div>"
      ],
      "text/plain": [
       "   short_ID  window_ID window_start_date         d1         d2         d3  \\\n",
       "0         9          0        2018-01-03  29.333333  28.333333  27.333333   \n",
       "1         9          1        2018-04-03  13.578796  12.587951  11.593588   \n",
       "2         9          2        2018-07-02   2.708333   0.744861   0.708333   \n",
       "3         9          3        2018-09-30   2.657384   1.657384   0.657384   \n",
       "4         9          4        2018-12-29  -7.000000  -7.000000  -7.000000   \n",
       "\n",
       "           d4          d5         d6         d7  ...       d81       d82  \\\n",
       "0  614.732454  613.732454  24.333333  23.333333  ...  9.333333  7.374942   \n",
       "1   10.603692   10.583356   9.583356   8.583356  ... -7.000000 -7.000000   \n",
       "2   -7.000000    6.719641   5.719641   4.719641  ...  3.599352  2.599352   \n",
       "3   -7.000000    6.718287   5.718287   4.718287  ...  7.715255  6.715255   \n",
       "4    6.738970    5.738970   4.738970   3.738970  ... -7.000000 -7.000000   \n",
       "\n",
       "        d83       d84       d85       d86       d87       d88       d89  \\\n",
       "0  7.333333  5.378137  5.333333  3.382164  2.386019  2.333333  1.333333   \n",
       "1 -7.000000 -7.000000 -7.000000  6.682928  5.699398  5.708333  3.721609   \n",
       "2  1.599352  0.599352 -7.000000  7.657384  6.657384  5.657384  4.657384   \n",
       "3  5.715255  4.715255  3.715255  2.715255  1.715255  0.715255 -7.000000   \n",
       "4 -7.000000  7.688646  6.688646  5.688646  4.688646  3.688646  2.688646   \n",
       "\n",
       "        d90  \n",
       "0  0.333333  \n",
       "1  2.729514  \n",
       "2  3.657384  \n",
       "3 -7.000000  \n",
       "4  1.688646  \n",
       "\n",
       "[5 rows x 93 columns]"
      ]
     },
     "execution_count": 6,
     "metadata": {},
     "output_type": "execute_result"
    }
   ],
   "source": [
    "Data.head()"
   ]
  },
  {
   "cell_type": "markdown",
   "id": "b14afb5a-2816-45e3-a179-3f3223042568",
   "metadata": {
    "jp-MarkdownHeadingCollapsed": true,
    "tags": []
   },
   "source": [
    "---\n",
    "# Z-Scoring Data"
   ]
  },
  {
   "cell_type": "markdown",
   "id": "1a6c1fd0-0ea8-44dd-ae55-ed230e40f02b",
   "metadata": {},
   "source": [
    "This is done on a row-by-row basis.<br>\n",
    "Meaning, each window is normalized to its own Mean and Std."
   ]
  },
  {
   "cell_type": "code",
   "execution_count": 7,
   "id": "c477eb50-f0e2-4ccb-a199-2561de416727",
   "metadata": {},
   "outputs": [],
   "source": [
    "def window_col_names(dataset_name, win_prefix = 'd'):\n",
    "    # retriving window length\n",
    "    window_len = int(dataset_name.split('_')[-1][1:]) # Gets _wXX part of name, then skips 'w' to get the number.\n",
    "    # defining window column names\n",
    "    window_cols = [None]*window_len\n",
    "    for i  in range(window_len):\n",
    "        window_cols[i] = f'{win_prefix}' + str(i+1)\n",
    "        \n",
    "    return window_cols\n",
    "window_cols = window_col_names(dataset_name)     "
   ]
  },
  {
   "cell_type": "code",
   "execution_count": 8,
   "id": "ffc92401-66bf-4ffc-81ab-d4589ea33c93",
   "metadata": {},
   "outputs": [],
   "source": [
    "def Zscore (df_in, all_neg_replace = -1):\n",
    "    # retriving sets of columns\n",
    "    window_cols = window_col_names(dataset_name)        \n",
    "    cols = df_in.columns.to_list()\n",
    "    other_cols = list(set(cols) - set(window_cols))\n",
    "    \n",
    "    # Zscore can't handle constant (flat) inputs\n",
    "    # Therefore windows with all negative credit output NaNs\n",
    "    # Instead these are excluded from zcoring and are manually scaled\n",
    "    # Default scalling is  -7 => -1\n",
    "    all_neg_replace = float(all_neg_replace)\n",
    "    all_neg_index = df_in[(df_in[window_cols] == float(-7)).all(axis=1)].index\n",
    "    positive_index = list(set(df_in.index.to_list()) - set(all_neg_index))\n",
    "    \n",
    "    if len(all_neg_index.to_list()) > 0:\n",
    "        # Aux DF for replacing -7 with all_neg_replace (i.e, -1)\n",
    "        df_allneg = df_in.iloc[all_neg_index].copy()\n",
    "        df_allneg.loc[:, window_cols] = all_neg_replace\n",
    "\n",
    "        # Zscoring only non-constant rows\n",
    "        df_positive = df_in.iloc[positive_index].copy()    \n",
    "        df_positive[window_cols] = scipy.stats.zscore(df_positive[window_cols],\n",
    "                                                         axis=1,\n",
    "                                                         nan_policy = 'omit')\n",
    "\n",
    "        df_zscore = pd.concat([df_positive, df_allneg])\n",
    "        df_zscore.sort_values(by=['short_ID', 'window_ID'], inplace = True)\n",
    "\n",
    "        # If indeces match, then the join was successful\n",
    "        if df_zscore.index.to_list() == df_in.index.to_list():\n",
    "            return df_zscore\n",
    "        # Otherwise raise error\n",
    "        else:\n",
    "            print('Error Zscoring')\n",
    "    else:\n",
    "        df_zscore = pd.DataFrame(columns= cols)\n",
    "        df_zscore[window_cols] = scipy.stats.zscore(df_in[window_cols],\n",
    "                                                         axis=1,\n",
    "                                                         nan_policy = 'omit')\n",
    "        df_zscore[other_cols] = df_in[other_cols]\n",
    "        \n",
    "\n",
    "    return df_zscore"
   ]
  },
  {
   "cell_type": "code",
   "execution_count": 9,
   "id": "c13579c5-ed7c-4a6e-aa11-c9ff71b5528d",
   "metadata": {},
   "outputs": [
    {
     "name": "stdout",
     "output_type": "stream",
     "text": [
      "Data WAS Zscored\n"
     ]
    }
   ],
   "source": [
    "if zscore_data == True and zscore_data_done == False:\n",
    "    Data = Zscore(Data)\n",
    "    zscore_data_done = True\n",
    "    print('Data WAS Zscored')\n",
    "    \n",
    "elif zscore_data == True and zscore_data_done == True:\n",
    "    print('Already WAS Zscored')\n",
    "    \n",
    "elif zscore_data == False:\n",
    "    print('Data NOT Zscored')\n",
    "    \n",
    "else:\n",
    "    print('Error')"
   ]
  },
  {
   "cell_type": "markdown",
   "id": "9ab52360-b78d-4795-9ede-20526ce2be05",
   "metadata": {
    "jp-MarkdownHeadingCollapsed": true,
    "tags": []
   },
   "source": [
    "---\n",
    "# NaN Checks and Policy"
   ]
  },
  {
   "cell_type": "code",
   "execution_count": 10,
   "id": "9a4f24c8-3f9a-4ebf-a88d-48c02f2f6949",
   "metadata": {},
   "outputs": [],
   "source": [
    "def NaN_policy (df, method_fullrows = 'ffill', method_sparserows = 'ffill'):\n",
    "    # This functions checks and corrects NaNs.\n",
    "    # It has redundancy built into it to double check for NaNs.\n",
    "    # And allows for different policies for sparse NaN values and rows full of NaNs.\n",
    "    \n",
    "    df = df.copy(deep=True)\n",
    "    window_cols = window_col_names(dataset_name)\n",
    "        \n",
    "    if df[window_cols].isna().any().any():\n",
    "        print('NaN values detected.')\n",
    "        \n",
    "        nan_exist = True\n",
    "        i = 0   \n",
    "        while nan_exist:\n",
    "            \n",
    "            # Makes sure the policy only iterates with one redundant round.\n",
    "            if i >= 2:\n",
    "                print('NaN Policy Failed')\n",
    "                break            \n",
    "\n",
    "            #Checking if there are rows with only NaNs\n",
    "            if df[window_cols].isna().all(axis=1).any():\n",
    "                n_nan_rows = len(df[df[window_cols].isna().all(axis=1)])\n",
    "                print(f'There are {n_nan_rows} rows of all NaN values.')\n",
    "\n",
    "                #Correcting only NaN rows \n",
    "                df.fillna(method= method_fullrows, axis = 0, inplace = True)\n",
    "                if ~ df[window_cols].isna().all(axis=1).any():\n",
    "                    print(f'Rows of NaN corrected')\n",
    "                    if ~ df[window_cols].isna().any().any():\n",
    "                        nan_exist = False\n",
    "                        print(f'NaNs no longer detected.')\n",
    "            \n",
    "            #Checking if there are rows with any NaNs in them\n",
    "            if df[window_cols].isna().any(axis=1).any():\n",
    "                n_nan_rows = len(df[window_cols].isna().any(axis=1))\n",
    "                print(f'There are {n_nan_rows} rows with some NaN values.')\n",
    "                \n",
    "                # Correcting NaN inside rows \n",
    "                df.fillna(method= method_sparserows, axis = 1, inplace = True)\n",
    "                if ~ df[window_cols].isna().any(axis=1).any():\n",
    "                    print(f'Rows with some NaN were corrected')\n",
    "                    if ~ df[window_cols].isna().any().any():\n",
    "                        nan_exist = False\n",
    "                        print(f'NaNs no longer detected.')\n",
    "\n",
    "            i += 1\n",
    "            \n",
    "\n",
    "    else:\n",
    "        print('No NaNs detected')\n",
    "        \n",
    "    return df"
   ]
  },
  {
   "cell_type": "code",
   "execution_count": 11,
   "id": "10d39e33-0be5-4387-a37a-268fb45d16cb",
   "metadata": {},
   "outputs": [
    {
     "name": "stdout",
     "output_type": "stream",
     "text": [
      "No NaNs detected\n"
     ]
    }
   ],
   "source": [
    "Data = NaN_policy(Data)"
   ]
  },
  {
   "cell_type": "markdown",
   "id": "e9418b97-d49a-4f38-96ec-cdb821c173a9",
   "metadata": {},
   "source": [
    "---\n",
    "---\n",
    "# Loading Model"
   ]
  },
  {
   "cell_type": "code",
   "execution_count": 12,
   "id": "c4d07c57-4cf1-45b2-84ab-27abf8f8f1bf",
   "metadata": {
    "tags": []
   },
   "outputs": [
    {
     "name": "stderr",
     "output_type": "stream",
     "text": [
      "\u001b[34m\u001b[1mwandb\u001b[0m: Currently logged in as: \u001b[33mvasco-mergulhao\u001b[0m (\u001b[33mvasco-phd\u001b[0m). Use \u001b[1m`wandb login --relogin`\u001b[0m to force relogin\n"
     ]
    },
    {
     "data": {
      "text/html": [
       "wandb version 0.13.10 is available!  To upgrade, please run:\n",
       " $ pip install wandb --upgrade"
      ],
      "text/plain": [
       "<IPython.core.display.HTML object>"
      ]
     },
     "metadata": {},
     "output_type": "display_data"
    },
    {
     "data": {
      "text/html": [
       "Tracking run with wandb version 0.13.6"
      ],
      "text/plain": [
       "<IPython.core.display.HTML object>"
      ]
     },
     "metadata": {},
     "output_type": "display_data"
    },
    {
     "data": {
      "text/html": [
       "Run data is saved locally in <code>C:\\Users\\ucesvpm\\OneDrive - University College London\\PhD Project\\Data Analytics\\Time Series Clustering\\Third Test\\Time-Series-PhD\\wandb\\run-20230209_170100-2lmjb0fp</code>"
      ],
      "text/plain": [
       "<IPython.core.display.HTML object>"
      ]
     },
     "metadata": {},
     "output_type": "display_data"
    },
    {
     "data": {
      "text/html": [
       "Syncing run <strong><a href=\"https://wandb.ai/vasco-phd/Time-Series-PhD/runs/2lmjb0fp\" target=\"_blank\">autumn-music-14</a></strong> to <a href=\"https://wandb.ai/vasco-phd/Time-Series-PhD\" target=\"_blank\">Weights & Biases</a> (<a href=\"https://wandb.me/run\" target=\"_blank\">docs</a>)<br/>"
      ],
      "text/plain": [
       "<IPython.core.display.HTML object>"
      ]
     },
     "metadata": {},
     "output_type": "display_data"
    },
    {
     "name": "stderr",
     "output_type": "stream",
     "text": [
      "\u001b[34m\u001b[1mwandb\u001b[0m:   4 of 4 files downloaded.  \n"
     ]
    },
    {
     "data": {
      "text/html": [
       "Waiting for W&B process to finish... <strong style=\"color:green\">(success).</strong>"
      ],
      "text/plain": [
       "<IPython.core.display.HTML object>"
      ]
     },
     "metadata": {},
     "output_type": "display_data"
    },
    {
     "data": {
      "text/html": [
       "Synced <strong style=\"color:#cdcd00\">autumn-music-14</strong>: <a href=\"https://wandb.ai/vasco-phd/Time-Series-PhD/runs/2lmjb0fp\" target=\"_blank\">https://wandb.ai/vasco-phd/Time-Series-PhD/runs/2lmjb0fp</a><br/>Synced 6 W&B file(s), 0 media file(s), 0 artifact file(s) and 0 other file(s)"
      ],
      "text/plain": [
       "<IPython.core.display.HTML object>"
      ]
     },
     "metadata": {},
     "output_type": "display_data"
    },
    {
     "data": {
      "text/html": [
       "Find logs at: <code>.\\wandb\\run-20230209_170100-2lmjb0fp\\logs</code>"
      ],
      "text/plain": [
       "<IPython.core.display.HTML object>"
      ]
     },
     "metadata": {},
     "output_type": "display_data"
    }
   ],
   "source": [
    "run = wandb.init()\n",
    "model_artifact = run.use_artifact(f'vasco-phd/{Project_Name}/model-{solution_name}', type='model')\n",
    "model_dir = model_artifact.download()\n",
    "# local_model_dir = 'C:/Users/ucesvpm/OneDrive - University College London/PhD Project/Data Analytics/Time Series Clustering/Second Test/wandb/run-20221213_173041-jc918077'\n",
    "loaded_autoencoder = tf.keras.models.load_model(model_dir)\n",
    "run.finish()"
   ]
  },
  {
   "cell_type": "code",
   "execution_count": 13,
   "id": "44ca30ce-2541-4971-8c2c-a98bad403084",
   "metadata": {},
   "outputs": [
    {
     "name": "stdout",
     "output_type": "stream",
     "text": [
      "Model: \"model\"\n",
      "_________________________________________________________________\n",
      " Layer (type)                Output Shape              Param #   \n",
      "=================================================================\n",
      " input_1 (InputLayer)        [(None, 90)]              0         \n",
      "                                                                 \n",
      " dense (Dense)               (None, 200)               18200     \n",
      "                                                                 \n",
      " dense_1 (Dense)             (None, 200)               40200     \n",
      "                                                                 \n",
      " dense_2 (Dense)             (None, 25)                5025      \n",
      "                                                                 \n",
      " dense_3 (Dense)             (None, 200)               5200      \n",
      "                                                                 \n",
      " dense_4 (Dense)             (None, 200)               40200     \n",
      "                                                                 \n",
      " dense_5 (Dense)             (None, 90)                18090     \n",
      "                                                                 \n",
      "=================================================================\n",
      "Total params: 126,915\n",
      "Trainable params: 126,915\n",
      "Non-trainable params: 0\n",
      "_________________________________________________________________\n"
     ]
    }
   ],
   "source": [
    "loaded_autoencoder.summary()"
   ]
  },
  {
   "cell_type": "code",
   "execution_count": 14,
   "id": "d4324908-78a9-4350-8e78-75335638084c",
   "metadata": {},
   "outputs": [],
   "source": [
    "# loaded_autoencoder.get_config()"
   ]
  },
  {
   "cell_type": "code",
   "execution_count": 15,
   "id": "d4fc1db9-1277-474e-a2d2-344f5d5f6516",
   "metadata": {},
   "outputs": [],
   "source": [
    "encoder_layers = int(len(loaded_autoencoder.layers)/2)"
   ]
  },
  {
   "cell_type": "code",
   "execution_count": 16,
   "id": "5368dd42-017a-4a01-a06c-11d5f19ed164",
   "metadata": {},
   "outputs": [
    {
     "name": "stdout",
     "output_type": "stream",
     "text": [
      "Model: \"sequential\"\n",
      "_________________________________________________________________\n",
      " Layer (type)                Output Shape              Param #   \n",
      "=================================================================\n",
      " dense (Dense)               (None, 200)               18200     \n",
      "                                                                 \n",
      " dense_1 (Dense)             (None, 200)               40200     \n",
      "                                                                 \n",
      " dense_2 (Dense)             (None, 25)                5025      \n",
      "                                                                 \n",
      "=================================================================\n",
      "Total params: 63,425\n",
      "Trainable params: 63,425\n",
      "Non-trainable params: 0\n",
      "_________________________________________________________________\n"
     ]
    }
   ],
   "source": [
    "encoder_layers = int(len(loaded_autoencoder.layers)/2)\n",
    "encoder = keras.models.Sequential(loaded_autoencoder.layers[:-encoder_layers])\n",
    "# Finds latent space size\n",
    "latent_layer_size = encoder.output_shape[-1]\n",
    "encoder.summary()"
   ]
  },
  {
   "cell_type": "markdown",
   "id": "a72b5def-8995-4d4e-a178-bcd08fe39219",
   "metadata": {},
   "source": [
    "---\n",
    "#  Reconstruction Error"
   ]
  },
  {
   "cell_type": "code",
   "execution_count": 17,
   "id": "4743c1fd-8128-490c-8514-2b413dc75b7e",
   "metadata": {},
   "outputs": [
    {
     "name": "stdout",
     "output_type": "stream",
     "text": [
      "2575/2575 [==============================] - 4s 1ms/step\n"
     ]
    }
   ],
   "source": [
    "# Calculates the Recontruction Profiles (Predictions)\n",
    "y_pred = loaded_autoencoder.predict(Data[window_cols].to_numpy())"
   ]
  },
  {
   "cell_type": "code",
   "execution_count": 18,
   "id": "9b6522ca-0ad5-48c6-a2ad-562277ae0a85",
   "metadata": {},
   "outputs": [],
   "source": [
    "# Saves the Reconstructect windows\n",
    "df_reconstruct = Data[['short_ID', 'window_ID']].copy(deep=True)\n",
    "df_reconstruct[window_cols] = y_pred"
   ]
  },
  {
   "cell_type": "code",
   "execution_count": 19,
   "id": "2cbaaa0b-93da-4881-a626-6ed9ca304582",
   "metadata": {},
   "outputs": [],
   "source": [
    "# Calculating MSE per window\n",
    "MSE = tf.keras.losses.MeanSquaredError(reduction='none')\n",
    "MSE_values = MSE(Data[window_cols].to_numpy(), y_pred).numpy()\n",
    "#Adding to reconstructed dataframe\n",
    "df_reconstruct.insert(loc=2, column='MSE', value=MSE_values)"
   ]
  },
  {
   "cell_type": "code",
   "execution_count": 20,
   "id": "e15733b3-8802-45f4-86cc-873fb6f48f03",
   "metadata": {},
   "outputs": [
    {
     "data": {
      "text/html": [
       "<div>\n",
       "<style scoped>\n",
       "    .dataframe tbody tr th:only-of-type {\n",
       "        vertical-align: middle;\n",
       "    }\n",
       "\n",
       "    .dataframe tbody tr th {\n",
       "        vertical-align: top;\n",
       "    }\n",
       "\n",
       "    .dataframe thead th {\n",
       "        text-align: right;\n",
       "    }\n",
       "</style>\n",
       "<table border=\"1\" class=\"dataframe\">\n",
       "  <thead>\n",
       "    <tr style=\"text-align: right;\">\n",
       "      <th></th>\n",
       "      <th>short_ID</th>\n",
       "      <th>window_ID</th>\n",
       "      <th>MSE</th>\n",
       "      <th>d1</th>\n",
       "      <th>d2</th>\n",
       "      <th>d3</th>\n",
       "      <th>d4</th>\n",
       "      <th>d5</th>\n",
       "      <th>d6</th>\n",
       "      <th>d7</th>\n",
       "      <th>...</th>\n",
       "      <th>d81</th>\n",
       "      <th>d82</th>\n",
       "      <th>d83</th>\n",
       "      <th>d84</th>\n",
       "      <th>d85</th>\n",
       "      <th>d86</th>\n",
       "      <th>d87</th>\n",
       "      <th>d88</th>\n",
       "      <th>d89</th>\n",
       "      <th>d90</th>\n",
       "    </tr>\n",
       "  </thead>\n",
       "  <tbody>\n",
       "    <tr>\n",
       "      <th>0</th>\n",
       "      <td>9</td>\n",
       "      <td>0</td>\n",
       "      <td>0.482980</td>\n",
       "      <td>-0.102187</td>\n",
       "      <td>-1.007373</td>\n",
       "      <td>1.050319</td>\n",
       "      <td>3.656369</td>\n",
       "      <td>3.045366</td>\n",
       "      <td>2.509418</td>\n",
       "      <td>2.137218</td>\n",
       "      <td>...</td>\n",
       "      <td>-0.072304</td>\n",
       "      <td>-0.032821</td>\n",
       "      <td>-0.036850</td>\n",
       "      <td>-0.138123</td>\n",
       "      <td>-0.185840</td>\n",
       "      <td>-0.399479</td>\n",
       "      <td>-0.304670</td>\n",
       "      <td>-0.343435</td>\n",
       "      <td>-0.313403</td>\n",
       "      <td>-0.328442</td>\n",
       "    </tr>\n",
       "    <tr>\n",
       "      <th>1</th>\n",
       "      <td>9</td>\n",
       "      <td>1</td>\n",
       "      <td>0.025875</td>\n",
       "      <td>1.351436</td>\n",
       "      <td>1.330900</td>\n",
       "      <td>1.086596</td>\n",
       "      <td>1.072830</td>\n",
       "      <td>0.901177</td>\n",
       "      <td>0.875316</td>\n",
       "      <td>0.687970</td>\n",
       "      <td>...</td>\n",
       "      <td>-1.309198</td>\n",
       "      <td>-1.341614</td>\n",
       "      <td>-1.355336</td>\n",
       "      <td>-1.271451</td>\n",
       "      <td>-1.883741</td>\n",
       "      <td>0.590185</td>\n",
       "      <td>0.501491</td>\n",
       "      <td>0.415888</td>\n",
       "      <td>0.206136</td>\n",
       "      <td>-0.103049</td>\n",
       "    </tr>\n",
       "    <tr>\n",
       "      <th>2</th>\n",
       "      <td>9</td>\n",
       "      <td>2</td>\n",
       "      <td>0.092484</td>\n",
       "      <td>-0.050814</td>\n",
       "      <td>-0.343420</td>\n",
       "      <td>-0.606102</td>\n",
       "      <td>-1.682097</td>\n",
       "      <td>1.295532</td>\n",
       "      <td>0.883522</td>\n",
       "      <td>0.606194</td>\n",
       "      <td>...</td>\n",
       "      <td>0.610883</td>\n",
       "      <td>0.299359</td>\n",
       "      <td>-0.132872</td>\n",
       "      <td>-0.603501</td>\n",
       "      <td>-1.849170</td>\n",
       "      <td>1.156427</td>\n",
       "      <td>0.930484</td>\n",
       "      <td>0.608403</td>\n",
       "      <td>0.469741</td>\n",
       "      <td>0.142674</td>\n",
       "    </tr>\n",
       "    <tr>\n",
       "      <th>3</th>\n",
       "      <td>9</td>\n",
       "      <td>3</td>\n",
       "      <td>0.114749</td>\n",
       "      <td>-0.005650</td>\n",
       "      <td>-0.378823</td>\n",
       "      <td>-0.981614</td>\n",
       "      <td>-1.707136</td>\n",
       "      <td>0.928653</td>\n",
       "      <td>0.869409</td>\n",
       "      <td>0.674384</td>\n",
       "      <td>...</td>\n",
       "      <td>1.484127</td>\n",
       "      <td>1.246733</td>\n",
       "      <td>1.025228</td>\n",
       "      <td>0.542506</td>\n",
       "      <td>0.297552</td>\n",
       "      <td>-0.117362</td>\n",
       "      <td>-0.631561</td>\n",
       "      <td>-1.221303</td>\n",
       "      <td>-1.899556</td>\n",
       "      <td>-2.151739</td>\n",
       "    </tr>\n",
       "    <tr>\n",
       "      <th>4</th>\n",
       "      <td>9</td>\n",
       "      <td>4</td>\n",
       "      <td>0.078083</td>\n",
       "      <td>-1.313143</td>\n",
       "      <td>-2.101218</td>\n",
       "      <td>-1.838945</td>\n",
       "      <td>1.056486</td>\n",
       "      <td>0.613684</td>\n",
       "      <td>0.336296</td>\n",
       "      <td>0.077689</td>\n",
       "      <td>...</td>\n",
       "      <td>-1.827554</td>\n",
       "      <td>-2.006069</td>\n",
       "      <td>-1.853642</td>\n",
       "      <td>1.158752</td>\n",
       "      <td>0.725102</td>\n",
       "      <td>0.781951</td>\n",
       "      <td>0.595702</td>\n",
       "      <td>0.190942</td>\n",
       "      <td>-0.017931</td>\n",
       "      <td>0.072777</td>\n",
       "    </tr>\n",
       "  </tbody>\n",
       "</table>\n",
       "<p>5 rows × 93 columns</p>\n",
       "</div>"
      ],
      "text/plain": [
       "   short_ID  window_ID       MSE        d1        d2        d3        d4  \\\n",
       "0         9          0  0.482980 -0.102187 -1.007373  1.050319  3.656369   \n",
       "1         9          1  0.025875  1.351436  1.330900  1.086596  1.072830   \n",
       "2         9          2  0.092484 -0.050814 -0.343420 -0.606102 -1.682097   \n",
       "3         9          3  0.114749 -0.005650 -0.378823 -0.981614 -1.707136   \n",
       "4         9          4  0.078083 -1.313143 -2.101218 -1.838945  1.056486   \n",
       "\n",
       "         d5        d6        d7  ...       d81       d82       d83       d84  \\\n",
       "0  3.045366  2.509418  2.137218  ... -0.072304 -0.032821 -0.036850 -0.138123   \n",
       "1  0.901177  0.875316  0.687970  ... -1.309198 -1.341614 -1.355336 -1.271451   \n",
       "2  1.295532  0.883522  0.606194  ...  0.610883  0.299359 -0.132872 -0.603501   \n",
       "3  0.928653  0.869409  0.674384  ...  1.484127  1.246733  1.025228  0.542506   \n",
       "4  0.613684  0.336296  0.077689  ... -1.827554 -2.006069 -1.853642  1.158752   \n",
       "\n",
       "        d85       d86       d87       d88       d89       d90  \n",
       "0 -0.185840 -0.399479 -0.304670 -0.343435 -0.313403 -0.328442  \n",
       "1 -1.883741  0.590185  0.501491  0.415888  0.206136 -0.103049  \n",
       "2 -1.849170  1.156427  0.930484  0.608403  0.469741  0.142674  \n",
       "3  0.297552 -0.117362 -0.631561 -1.221303 -1.899556 -2.151739  \n",
       "4  0.725102  0.781951  0.595702  0.190942 -0.017931  0.072777  \n",
       "\n",
       "[5 rows x 93 columns]"
      ]
     },
     "execution_count": 20,
     "metadata": {},
     "output_type": "execute_result"
    }
   ],
   "source": [
    "df_reconstruct.head()"
   ]
  },
  {
   "cell_type": "markdown",
   "id": "28a859f9-18b0-4f90-9a5d-360802f37eda",
   "metadata": {},
   "source": [
    "---\n",
    "---\n",
    "# 2D UMAP"
   ]
  },
  {
   "cell_type": "code",
   "execution_count": 21,
   "id": "5ed34355-0a57-401c-9f2b-a5a162c199b8",
   "metadata": {},
   "outputs": [],
   "source": [
    "def UMAP_funct (data, dims = 2, mode = 'visualisation'):\n",
    "    # this function allows you to switch from the settings optimazed from visualisation to clustering more easily\n",
    "    start_time = time.time()\n",
    "    if mode == 'visualisation':\n",
    "        print(f'Processing UMAP {dims}D-Viz')\n",
    "        umap_array = umap.UMAP(random_state=42, n_components = dims).fit_transform(data)\n",
    "        print(f'Time: {np.round(time.time() - start_time,2)}[s]') \n",
    "        \n",
    "        return umap_array\n",
    "    \n",
    "    elif mode == 'clustering':\n",
    "        \n",
    "        print(f'Processing UMAP {dims}D-Clust')\n",
    "        # Settings from https://umap-learn.readthedocs.io/en/latest/clustering.html\n",
    "        # General idea is larger n_neighbors to capture wider relationships, and smaller min_dist to keep points closer (better for density alg)\n",
    "        umap_array = umap.UMAP(random_state=42,\n",
    "                               n_components = dims,\n",
    "                               n_neighbors=30,\n",
    "                               min_dist=0.0\n",
    "                              ).fit_transform(data)\n",
    "        \n",
    "        print(f'Time: {np.round(time.time() - start_time,2)}[s]') \n",
    "        \n",
    "        return umap_array\n",
    "    else:\n",
    "        print(f'UMAP mode {mode} NOT recognized.')"
   ]
  },
  {
   "cell_type": "code",
   "execution_count": 22,
   "id": "c8f54084-28ca-4b22-87d9-9b117dc7fc88",
   "metadata": {},
   "outputs": [],
   "source": [
    "# Calculating Latent Space Projection\n",
    "encoded_data = encoder(Data[window_cols].to_numpy())\n",
    "encoded_data = encoded_data.numpy()\n",
    "df_encoded = pd.DataFrame(encoded_data)"
   ]
  },
  {
   "cell_type": "code",
   "execution_count": 23,
   "id": "25ae8362-0a05-4d87-b80d-fb9ac4cacbaf",
   "metadata": {},
   "outputs": [
    {
     "name": "stdout",
     "output_type": "stream",
     "text": [
      "Processing UMAP 2D-Viz\n",
      "Time: 84.98[s]\n"
     ]
    }
   ],
   "source": [
    "#Calcs UMAP for Visual Purposes  \n",
    "v_2D_umap = UMAP_funct (df_encoded, dims = 2, mode = 'visualisation')\n"
   ]
  },
  {
   "cell_type": "code",
   "execution_count": 24,
   "id": "823344cf-5015-4b13-8343-cfc24ca1f07c",
   "metadata": {},
   "outputs": [],
   "source": [
    "# Creates DF for Clustering Solutions\n",
    "df_sols  = Data.copy(deep=True)\n",
    "df_sols.drop(window_cols, axis=1, inplace=True)"
   ]
  },
  {
   "cell_type": "code",
   "execution_count": 25,
   "id": "10524f88-ffc1-4731-90c8-c9e0244c9346",
   "metadata": {},
   "outputs": [],
   "source": [
    "#Adds Dims to Dataframes\n",
    "df_sols['UMAP_V1'] = v_2D_umap[:, 0]\n",
    "df_sols['UMAP_V2'] = v_2D_umap[:, 1]\n",
    "\n",
    "df_reconstruct.insert(loc=2, column='UMAP_V2', value=v_2D_umap[:, 1])\n",
    "df_reconstruct.insert(loc=2, column='UMAP_V1', value=v_2D_umap[:, 0])"
   ]
  },
  {
   "cell_type": "markdown",
   "id": "6203ec7d-1b21-4dd1-a187-c4c8ef2ec5bf",
   "metadata": {},
   "source": [
    "---\n",
    "---\n",
    "# Clustering Solutions"
   ]
  },
  {
   "cell_type": "markdown",
   "id": "2902f83d-f4a4-4e9f-822b-7e53864822a1",
   "metadata": {},
   "source": [
    "### kMeans"
   ]
  },
  {
   "cell_type": "code",
   "execution_count": 26,
   "id": "df10e435-bd8a-449a-bb6f-7162f36bcaab",
   "metadata": {},
   "outputs": [],
   "source": [
    "def kMeans_cluster(Encoded_Data, UMAP_mode = False):\n",
    "    # Uses kMeans on encoded dataset.\n",
    "    # UMAP_mode uses N2D-paper recomendation of UMAP encoded data to where k = Dims.\n",
    "    # Of course, if latent size is smaller or equal to k, then no UMAP needed.\n",
    "    \n",
    "    # Output DF, only has solution columns\n",
    "    df = pd.DataFrame()\n",
    "    start_time = time.time()\n",
    "    if UMAP_mode == True:\n",
    "        print('Clustering on UMAP of Encoded Space')\n",
    "        for k in range(2, 11):\n",
    "            if k < latent_layer_size:\n",
    "                # UMAPing to macthed k=dims with cluster friendly settings\n",
    "                clust_umap = UMAP_funct (Encoded_Data, dims = k, mode = 'clustering')\n",
    "                print(f'Processing kMeans for k={k}\\n')\n",
    "                partition = KMeans(n_clusters=k, random_state=42).fit(clust_umap)\n",
    "                \n",
    "                col_name = f'kMeans_k={k}'\n",
    "                df[col_name] = partition.labels_ + 1\n",
    "\n",
    "            else:\n",
    "                print(f'k={k} is >= to Latent Space:{latent_layer_size}')\n",
    "                print(f'Processing kMeans for k={k}')\n",
    "                partition = KMeans(n_clusters=k, random_state=42).fit(Encoded_Data)\n",
    "                \n",
    "                col_name = f'kMeans_k={k}'\n",
    "                df[col_name] = partition.labels_ + 1\n",
    "                \n",
    "    # Case with no UMAPing            \n",
    "    else:\n",
    "        print('Clustering on Encoded Space')\n",
    "    \n",
    "        # k-Means per se\n",
    "        kmeans = [KMeans(n_clusters=k, random_state=42).fit(Encoded_Data)\n",
    "                  for k in range(2, 11)]\n",
    "\n",
    "        for partition in kmeans:\n",
    "            cluster_k = partition.labels_.max() + 1\n",
    "            col_name = f'kMeans_k={cluster_k}'\n",
    "            df[col_name] = partition.labels_ + 1\n",
    "        \n",
    "    \n",
    "    print(f'Total Time: {np.round(time.time() - start_time,2)}[s]')         \n",
    "    return df"
   ]
  },
  {
   "cell_type": "code",
   "execution_count": 27,
   "id": "ffb4857d-465c-44b5-85c8-0bcbf7ac1e3c",
   "metadata": {},
   "outputs": [
    {
     "name": "stdout",
     "output_type": "stream",
     "text": [
      "Clustering on Encoded Space\n",
      "Total Time: 19.73[s]\n"
     ]
    }
   ],
   "source": [
    "kMeans_sols = kMeans_cluster(df_encoded, UMAP_mode = False)"
   ]
  },
  {
   "cell_type": "code",
   "execution_count": 28,
   "id": "265d6469-b83d-43fe-aa01-03ac76e68bf8",
   "metadata": {},
   "outputs": [],
   "source": [
    "df_sols = pd.concat([df_sols, kMeans_sols], axis=1)"
   ]
  },
  {
   "cell_type": "markdown",
   "id": "ba0adf88-8a5d-42fc-bf5e-400d1c001f6d",
   "metadata": {},
   "source": [
    "### HDBSCAN\n",
    "To Be Done"
   ]
  },
  {
   "cell_type": "markdown",
   "id": "e79a6361-ae14-425a-89ba-6867df31e7c4",
   "metadata": {},
   "source": [
    "---\n",
    "---\n",
    "# Saving Outputs"
   ]
  },
  {
   "cell_type": "markdown",
   "id": "77bac7b0-22fe-4934-80fd-e5d40ff020a9",
   "metadata": {},
   "source": [
    "### Clustering Solutions"
   ]
  },
  {
   "cell_type": "code",
   "execution_count": 29,
   "id": "23b38f58-0dbf-4b66-88e0-f0d11937e99e",
   "metadata": {},
   "outputs": [
    {
     "data": {
      "text/html": [
       "<div>\n",
       "<style scoped>\n",
       "    .dataframe tbody tr th:only-of-type {\n",
       "        vertical-align: middle;\n",
       "    }\n",
       "\n",
       "    .dataframe tbody tr th {\n",
       "        vertical-align: top;\n",
       "    }\n",
       "\n",
       "    .dataframe thead th {\n",
       "        text-align: right;\n",
       "    }\n",
       "</style>\n",
       "<table border=\"1\" class=\"dataframe\">\n",
       "  <thead>\n",
       "    <tr style=\"text-align: right;\">\n",
       "      <th></th>\n",
       "      <th>short_ID</th>\n",
       "      <th>window_ID</th>\n",
       "      <th>window_start_date</th>\n",
       "      <th>UMAP_V1</th>\n",
       "      <th>UMAP_V2</th>\n",
       "      <th>kMeans_k=2</th>\n",
       "      <th>kMeans_k=3</th>\n",
       "      <th>kMeans_k=4</th>\n",
       "      <th>kMeans_k=5</th>\n",
       "      <th>kMeans_k=6</th>\n",
       "      <th>kMeans_k=7</th>\n",
       "      <th>kMeans_k=8</th>\n",
       "      <th>kMeans_k=9</th>\n",
       "      <th>kMeans_k=10</th>\n",
       "    </tr>\n",
       "  </thead>\n",
       "  <tbody>\n",
       "    <tr>\n",
       "      <th>0</th>\n",
       "      <td>9</td>\n",
       "      <td>0</td>\n",
       "      <td>2018-01-03</td>\n",
       "      <td>8.643910</td>\n",
       "      <td>4.357107</td>\n",
       "      <td>1</td>\n",
       "      <td>3</td>\n",
       "      <td>3</td>\n",
       "      <td>3</td>\n",
       "      <td>1</td>\n",
       "      <td>4</td>\n",
       "      <td>5</td>\n",
       "      <td>6</td>\n",
       "      <td>3</td>\n",
       "    </tr>\n",
       "    <tr>\n",
       "      <th>1</th>\n",
       "      <td>9</td>\n",
       "      <td>1</td>\n",
       "      <td>2018-04-03</td>\n",
       "      <td>7.141716</td>\n",
       "      <td>6.298301</td>\n",
       "      <td>1</td>\n",
       "      <td>3</td>\n",
       "      <td>3</td>\n",
       "      <td>3</td>\n",
       "      <td>6</td>\n",
       "      <td>4</td>\n",
       "      <td>5</td>\n",
       "      <td>1</td>\n",
       "      <td>3</td>\n",
       "    </tr>\n",
       "    <tr>\n",
       "      <th>2</th>\n",
       "      <td>9</td>\n",
       "      <td>2</td>\n",
       "      <td>2018-07-02</td>\n",
       "      <td>6.795166</td>\n",
       "      <td>2.582445</td>\n",
       "      <td>1</td>\n",
       "      <td>3</td>\n",
       "      <td>1</td>\n",
       "      <td>1</td>\n",
       "      <td>5</td>\n",
       "      <td>3</td>\n",
       "      <td>7</td>\n",
       "      <td>7</td>\n",
       "      <td>2</td>\n",
       "    </tr>\n",
       "    <tr>\n",
       "      <th>3</th>\n",
       "      <td>9</td>\n",
       "      <td>3</td>\n",
       "      <td>2018-09-30</td>\n",
       "      <td>6.397840</td>\n",
       "      <td>3.747205</td>\n",
       "      <td>1</td>\n",
       "      <td>3</td>\n",
       "      <td>1</td>\n",
       "      <td>1</td>\n",
       "      <td>5</td>\n",
       "      <td>3</td>\n",
       "      <td>5</td>\n",
       "      <td>6</td>\n",
       "      <td>6</td>\n",
       "    </tr>\n",
       "    <tr>\n",
       "      <th>4</th>\n",
       "      <td>9</td>\n",
       "      <td>4</td>\n",
       "      <td>2018-12-29</td>\n",
       "      <td>6.240857</td>\n",
       "      <td>3.084707</td>\n",
       "      <td>1</td>\n",
       "      <td>3</td>\n",
       "      <td>1</td>\n",
       "      <td>1</td>\n",
       "      <td>6</td>\n",
       "      <td>7</td>\n",
       "      <td>1</td>\n",
       "      <td>1</td>\n",
       "      <td>4</td>\n",
       "    </tr>\n",
       "  </tbody>\n",
       "</table>\n",
       "</div>"
      ],
      "text/plain": [
       "   short_ID  window_ID window_start_date   UMAP_V1   UMAP_V2  kMeans_k=2  \\\n",
       "0         9          0        2018-01-03  8.643910  4.357107           1   \n",
       "1         9          1        2018-04-03  7.141716  6.298301           1   \n",
       "2         9          2        2018-07-02  6.795166  2.582445           1   \n",
       "3         9          3        2018-09-30  6.397840  3.747205           1   \n",
       "4         9          4        2018-12-29  6.240857  3.084707           1   \n",
       "\n",
       "   kMeans_k=3  kMeans_k=4  kMeans_k=5  kMeans_k=6  kMeans_k=7  kMeans_k=8  \\\n",
       "0           3           3           3           1           4           5   \n",
       "1           3           3           3           6           4           5   \n",
       "2           3           1           1           5           3           7   \n",
       "3           3           1           1           5           3           5   \n",
       "4           3           1           1           6           7           1   \n",
       "\n",
       "   kMeans_k=9  kMeans_k=10  \n",
       "0           6            3  \n",
       "1           1            3  \n",
       "2           7            2  \n",
       "3           6            6  \n",
       "4           1            4  "
      ]
     },
     "execution_count": 29,
     "metadata": {},
     "output_type": "execute_result"
    }
   ],
   "source": [
    "df_sols.head()"
   ]
  },
  {
   "cell_type": "code",
   "execution_count": 30,
   "id": "e5071ec6-efb1-4235-8f4b-c6407677510f",
   "metadata": {},
   "outputs": [],
   "source": [
    "os.makedirs(f'../ModelResults/Clustering/{dataset_name}', exist_ok=True)  \n",
    "solution_fileName = solution_name.replace(\":\", \"_\" )\n",
    "solution_fileName = f'{Model_Name}_Latent-Space-{latent_layer_size}_{solution_fileName}.csv'\n",
    "df_sols.to_csv(f'../ModelResults/Clustering/{dataset_name}/{solution_fileName}', index=False)  \n"
   ]
  },
  {
   "cell_type": "markdown",
   "id": "a4bffb3d-7db9-4de9-b451-ea42169bf376",
   "metadata": {},
   "source": [
    "### Auto-Encoder Recontruction"
   ]
  },
  {
   "cell_type": "code",
   "execution_count": 31,
   "id": "2b53873a-6281-4334-a967-5cc36411ae82",
   "metadata": {},
   "outputs": [
    {
     "data": {
      "text/html": [
       "<div>\n",
       "<style scoped>\n",
       "    .dataframe tbody tr th:only-of-type {\n",
       "        vertical-align: middle;\n",
       "    }\n",
       "\n",
       "    .dataframe tbody tr th {\n",
       "        vertical-align: top;\n",
       "    }\n",
       "\n",
       "    .dataframe thead th {\n",
       "        text-align: right;\n",
       "    }\n",
       "</style>\n",
       "<table border=\"1\" class=\"dataframe\">\n",
       "  <thead>\n",
       "    <tr style=\"text-align: right;\">\n",
       "      <th></th>\n",
       "      <th>short_ID</th>\n",
       "      <th>window_ID</th>\n",
       "      <th>UMAP_V1</th>\n",
       "      <th>UMAP_V2</th>\n",
       "      <th>MSE</th>\n",
       "      <th>d1</th>\n",
       "      <th>d2</th>\n",
       "      <th>d3</th>\n",
       "      <th>d4</th>\n",
       "      <th>d5</th>\n",
       "      <th>...</th>\n",
       "      <th>d81</th>\n",
       "      <th>d82</th>\n",
       "      <th>d83</th>\n",
       "      <th>d84</th>\n",
       "      <th>d85</th>\n",
       "      <th>d86</th>\n",
       "      <th>d87</th>\n",
       "      <th>d88</th>\n",
       "      <th>d89</th>\n",
       "      <th>d90</th>\n",
       "    </tr>\n",
       "  </thead>\n",
       "  <tbody>\n",
       "    <tr>\n",
       "      <th>0</th>\n",
       "      <td>9</td>\n",
       "      <td>0</td>\n",
       "      <td>8.643910</td>\n",
       "      <td>4.357107</td>\n",
       "      <td>0.482980</td>\n",
       "      <td>-0.102187</td>\n",
       "      <td>-1.007373</td>\n",
       "      <td>1.050319</td>\n",
       "      <td>3.656369</td>\n",
       "      <td>3.045366</td>\n",
       "      <td>...</td>\n",
       "      <td>-0.072304</td>\n",
       "      <td>-0.032821</td>\n",
       "      <td>-0.036850</td>\n",
       "      <td>-0.138123</td>\n",
       "      <td>-0.185840</td>\n",
       "      <td>-0.399479</td>\n",
       "      <td>-0.304670</td>\n",
       "      <td>-0.343435</td>\n",
       "      <td>-0.313403</td>\n",
       "      <td>-0.328442</td>\n",
       "    </tr>\n",
       "    <tr>\n",
       "      <th>1</th>\n",
       "      <td>9</td>\n",
       "      <td>1</td>\n",
       "      <td>7.141716</td>\n",
       "      <td>6.298301</td>\n",
       "      <td>0.025875</td>\n",
       "      <td>1.351436</td>\n",
       "      <td>1.330900</td>\n",
       "      <td>1.086596</td>\n",
       "      <td>1.072830</td>\n",
       "      <td>0.901177</td>\n",
       "      <td>...</td>\n",
       "      <td>-1.309198</td>\n",
       "      <td>-1.341614</td>\n",
       "      <td>-1.355336</td>\n",
       "      <td>-1.271451</td>\n",
       "      <td>-1.883741</td>\n",
       "      <td>0.590185</td>\n",
       "      <td>0.501491</td>\n",
       "      <td>0.415888</td>\n",
       "      <td>0.206136</td>\n",
       "      <td>-0.103049</td>\n",
       "    </tr>\n",
       "    <tr>\n",
       "      <th>2</th>\n",
       "      <td>9</td>\n",
       "      <td>2</td>\n",
       "      <td>6.795166</td>\n",
       "      <td>2.582445</td>\n",
       "      <td>0.092484</td>\n",
       "      <td>-0.050814</td>\n",
       "      <td>-0.343420</td>\n",
       "      <td>-0.606102</td>\n",
       "      <td>-1.682097</td>\n",
       "      <td>1.295532</td>\n",
       "      <td>...</td>\n",
       "      <td>0.610883</td>\n",
       "      <td>0.299359</td>\n",
       "      <td>-0.132872</td>\n",
       "      <td>-0.603501</td>\n",
       "      <td>-1.849170</td>\n",
       "      <td>1.156427</td>\n",
       "      <td>0.930484</td>\n",
       "      <td>0.608403</td>\n",
       "      <td>0.469741</td>\n",
       "      <td>0.142674</td>\n",
       "    </tr>\n",
       "    <tr>\n",
       "      <th>3</th>\n",
       "      <td>9</td>\n",
       "      <td>3</td>\n",
       "      <td>6.397840</td>\n",
       "      <td>3.747205</td>\n",
       "      <td>0.114749</td>\n",
       "      <td>-0.005650</td>\n",
       "      <td>-0.378823</td>\n",
       "      <td>-0.981614</td>\n",
       "      <td>-1.707136</td>\n",
       "      <td>0.928653</td>\n",
       "      <td>...</td>\n",
       "      <td>1.484127</td>\n",
       "      <td>1.246733</td>\n",
       "      <td>1.025228</td>\n",
       "      <td>0.542506</td>\n",
       "      <td>0.297552</td>\n",
       "      <td>-0.117362</td>\n",
       "      <td>-0.631561</td>\n",
       "      <td>-1.221303</td>\n",
       "      <td>-1.899556</td>\n",
       "      <td>-2.151739</td>\n",
       "    </tr>\n",
       "    <tr>\n",
       "      <th>4</th>\n",
       "      <td>9</td>\n",
       "      <td>4</td>\n",
       "      <td>6.240857</td>\n",
       "      <td>3.084707</td>\n",
       "      <td>0.078083</td>\n",
       "      <td>-1.313143</td>\n",
       "      <td>-2.101218</td>\n",
       "      <td>-1.838945</td>\n",
       "      <td>1.056486</td>\n",
       "      <td>0.613684</td>\n",
       "      <td>...</td>\n",
       "      <td>-1.827554</td>\n",
       "      <td>-2.006069</td>\n",
       "      <td>-1.853642</td>\n",
       "      <td>1.158752</td>\n",
       "      <td>0.725102</td>\n",
       "      <td>0.781951</td>\n",
       "      <td>0.595702</td>\n",
       "      <td>0.190942</td>\n",
       "      <td>-0.017931</td>\n",
       "      <td>0.072777</td>\n",
       "    </tr>\n",
       "  </tbody>\n",
       "</table>\n",
       "<p>5 rows × 95 columns</p>\n",
       "</div>"
      ],
      "text/plain": [
       "   short_ID  window_ID   UMAP_V1   UMAP_V2       MSE        d1        d2  \\\n",
       "0         9          0  8.643910  4.357107  0.482980 -0.102187 -1.007373   \n",
       "1         9          1  7.141716  6.298301  0.025875  1.351436  1.330900   \n",
       "2         9          2  6.795166  2.582445  0.092484 -0.050814 -0.343420   \n",
       "3         9          3  6.397840  3.747205  0.114749 -0.005650 -0.378823   \n",
       "4         9          4  6.240857  3.084707  0.078083 -1.313143 -2.101218   \n",
       "\n",
       "         d3        d4        d5  ...       d81       d82       d83       d84  \\\n",
       "0  1.050319  3.656369  3.045366  ... -0.072304 -0.032821 -0.036850 -0.138123   \n",
       "1  1.086596  1.072830  0.901177  ... -1.309198 -1.341614 -1.355336 -1.271451   \n",
       "2 -0.606102 -1.682097  1.295532  ...  0.610883  0.299359 -0.132872 -0.603501   \n",
       "3 -0.981614 -1.707136  0.928653  ...  1.484127  1.246733  1.025228  0.542506   \n",
       "4 -1.838945  1.056486  0.613684  ... -1.827554 -2.006069 -1.853642  1.158752   \n",
       "\n",
       "        d85       d86       d87       d88       d89       d90  \n",
       "0 -0.185840 -0.399479 -0.304670 -0.343435 -0.313403 -0.328442  \n",
       "1 -1.883741  0.590185  0.501491  0.415888  0.206136 -0.103049  \n",
       "2 -1.849170  1.156427  0.930484  0.608403  0.469741  0.142674  \n",
       "3  0.297552 -0.117362 -0.631561 -1.221303 -1.899556 -2.151739  \n",
       "4  0.725102  0.781951  0.595702  0.190942 -0.017931  0.072777  \n",
       "\n",
       "[5 rows x 95 columns]"
      ]
     },
     "execution_count": 31,
     "metadata": {},
     "output_type": "execute_result"
    }
   ],
   "source": [
    "df_reconstruct.head()"
   ]
  },
  {
   "cell_type": "code",
   "execution_count": 32,
   "id": "ef96b56f-1f3f-4535-aa51-f22ed342cad3",
   "metadata": {},
   "outputs": [
    {
     "name": "stderr",
     "output_type": "stream",
     "text": [
      "\u001b[34m\u001b[1mwandb\u001b[0m: While tearing down the service manager. The following error has occured: [WinError 10054] An existing connection was forcibly closed by the remote host\n"
     ]
    }
   ],
   "source": [
    "os.makedirs(f'../ModelResults/AE_Reconstruction/{dataset_name}', exist_ok=True)  \n",
    "# reconstruction_fileName = solution_name.replace(\":\", \"_\" )\n",
    "# reconstruction_fileName = f'{Model_Name}_Latent-Space-{latent_layer_size}_{reconstruction_fileName}.csv'\n",
    "df_reconstruct.to_csv(f'../ModelResults/AE_Reconstruction/{dataset_name}/{solution_fileName}', index=False)  "
   ]
  }
 ],
 "metadata": {
  "kernelspec": {
   "display_name": "Python 3 (ipykernel)",
   "language": "python",
   "name": "python3"
  },
  "language_info": {
   "codemirror_mode": {
    "name": "ipython",
    "version": 3
   },
   "file_extension": ".py",
   "mimetype": "text/x-python",
   "name": "python",
   "nbconvert_exporter": "python",
   "pygments_lexer": "ipython3",
   "version": "3.9.15"
  }
 },
 "nbformat": 4,
 "nbformat_minor": 5
}
